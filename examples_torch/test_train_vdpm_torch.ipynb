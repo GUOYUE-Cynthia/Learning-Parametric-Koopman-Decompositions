{
 "cells": [
  {
   "cell_type": "code",
   "execution_count": 2,
   "metadata": {},
   "outputs": [],
   "source": [
    "import numpy as np\n",
    "import matplotlib.pyplot as plt"
   ]
  },
  {
   "cell_type": "code",
   "execution_count": 3,
   "metadata": {},
   "outputs": [],
   "source": [
    "class AbstractParamODETarget:\n",
    "    def __init__(self, dt=1e-3, t_step=0.1, dim=2, param_dim=2):\n",
    "        \"\"\"\n",
    "        Initializes an instance of the class.\n",
    "\n",
    "        Parameters:\n",
    "        - dt (float): The time step size for the inner loop to compute the value at each outer time step t_step.\n",
    "        - t_step (float): The outer time step.\n",
    "        - dim (int): The dimension of the system state.\n",
    "        - param_dim (int): The dimension of the parameters.\n",
    "\n",
    "        Returns:\n",
    "        None\n",
    "        \"\"\"\n",
    "        self.dt = dt\n",
    "        self.t_step = t_step\n",
    "        self.n_step = int(t_step / dt)\n",
    "        self.dim = dim\n",
    "        self.param_dim = param_dim\n",
    "\n",
    "    def rhs(self, x, param):\n",
    "        \"\"\"\n",
    "        Right-hand side of the ODE to be implemented by subclasses.\n",
    "\n",
    "        :param x: state variable\n",
    "        :param param: parameters for the ODE\n",
    "        :return: the time derivative of x\n",
    "        \"\"\"\n",
    "        raise NotImplementedError(\"Subclasses should implement this method.\")\n",
    "\n",
    "    def euler(self, x, param):\n",
    "        \"\"\"\n",
    "        ODE Solver using Euler's method.\n",
    "\n",
    "        :param x: state variable\n",
    "        :param param: parameters for the ODE\n",
    "        :return: ODE Solution at t_step after iterating the Euler method n_step times\n",
    "        \"\"\"\n",
    "        for _ in range(self.n_step):\n",
    "            x = x + self.dt * self.rhs(x, param)\n",
    "        return x\n",
    "\n",
    "    def generate_init_data(self, n_traj, traj_len, x_min, x_max, param_min, param_max, seed_x=11, seed_param=22):\n",
    "        \"\"\"\n",
    "        Generate initial data for the ODE system. \n",
    "        In this case, the initial data is generated randomly. \n",
    "        The corresponding parameters are the same on each trajectory. But for different trajectories, the parameters are different.\n",
    "\n",
    "        Parameters:\n",
    "        - n_traj (int): Number of trajectories to generate.\n",
    "        - traj_len (int): Length of each trajectory.\n",
    "        - x_min, x_max (float): Range for the initial state.\n",
    "        - param_min, param_max (float): Range for the parameters.\n",
    "        - seed_x (int): Seed for random number generator for generating initial states.\n",
    "        - seed_param (int): Seed for random number generator for generating parameters.\n",
    "\n",
    "        Returns:\n",
    "        - data_x (ndarray): Array of shape (n_traj * traj_len, self.dim) containing the generated initial states.\n",
    "        - param (ndarray): Array of shape (n_traj * traj_len, self.param_dim) containing the generated parameters.\n",
    "        \"\"\"\n",
    "        np.random.seed(seed_x)\n",
    "        x0 = np.random.uniform(low=x_min, high=x_max, size=(n_traj, self.dim))\n",
    "\n",
    "        np.random.seed(seed_param)\n",
    "        param = np.random.uniform(low=param_min, high=param_max, size=(n_traj, self.param_dim))\n",
    "\n",
    "        data_x = [x0]\n",
    "        for t in range(traj_len - 1):\n",
    "            data_x.append(self.euler(data_x[t], param))\n",
    "\n",
    "        # Reshape and transpose data_x for the correct format\n",
    "        data_x = np.array(data_x).reshape(n_traj * traj_len, self.dim)\n",
    "\n",
    "        # Repeat parameters for each trajectory length\n",
    "        repeats_constant = traj_len * np.ones(shape=(n_traj,), dtype=\"int32\")\n",
    "        param = np.repeat(param, repeats=repeats_constant, axis=0)\n",
    "\n",
    "        return np.asarray(data_x), np.asarray(param)\n",
    "\n",
    "    def generate_next_data(self, data_x, param):\n",
    "        \"\"\"\n",
    "        Generate the next state using the Euler solver.\n",
    "\n",
    "        Parameters:\n",
    "        - data_x (ndarray): The current state of the system.\n",
    "        - param (ndarray): Parameters of the ODE.\n",
    "\n",
    "        Returns:\n",
    "        - data_y (ndarray): The next state of the system after applying Euler's method.\n",
    "        \"\"\"\n",
    "        data_y = self.euler(data_x, param)\n",
    "        return data_y\n"
   ]
  },
  {
   "cell_type": "code",
   "execution_count": 4,
   "metadata": {},
   "outputs": [],
   "source": [
    "class VanderPolMathieuTarget(AbstractParamODETarget):\n",
    "    def __init__(self, mu=1, dt=1e-3, t_step=1e-2, dim=2, param_dim=1, k1=2, k2=2, k3=2, k4=1, w0=1):\n",
    "        \"\"\"\n",
    "        Initializes the VanderPolMathieuTarget system.\n",
    "\n",
    "        Parameters:\n",
    "        - mu (float): Van der Pol oscillator parameter.\n",
    "        - dt (float): Time step size for the inner loop.\n",
    "        - t_step (float): Time step for the outer loop.\n",
    "        - dim (int): Dimension of the state.\n",
    "        - param_dim (int): Dimension of the parameters.\n",
    "        - k1, k2, k3, k4, w0 (float): System parameters for the Van der Pol-Mathieu equation.\n",
    "\n",
    "        \"\"\"\n",
    "        super().__init__(dt, t_step, dim, param_dim)\n",
    "        self.x_min = -1\n",
    "        self.x_max = 1\n",
    "        self.u_min = -1\n",
    "        self.u_max = 1\n",
    "        self.mu = mu\n",
    "        self.k1 = k1\n",
    "        self.k2 = k2\n",
    "        self.k3 = self.mu\n",
    "        self.k4 = k4\n",
    "        self.w0 = w0\n",
    "\n",
    "    def rhs(self, data_x, param):\n",
    "        \"\"\"\n",
    "        Compute the right-hand side of the Van der Pol-Mathieu system.\n",
    "\n",
    "        Parameters:\n",
    "        - data_x (ndarray): The current state of the system (shape: [n_traj, dim]).\n",
    "        - param (ndarray): The system parameters (shape: [n_traj, param_dim]).\n",
    "\n",
    "        Returns:\n",
    "        - ndarray: The time derivative of the system state (shape: [n_traj, dim]).\n",
    "        \"\"\"\n",
    "        x1 = np.reshape(data_x[:, 0], newshape=(data_x.shape[0], 1))\n",
    "        x2 = np.reshape(data_x[:, 1], newshape=(data_x.shape[0], 1))\n",
    "        param = np.reshape(param, newshape=(data_x.shape[0], 1))  # Ensure param is correctly reshaped\n",
    "\n",
    "        f1 = x2\n",
    "        f2 = (\n",
    "            (self.k1 - self.k2 * x1**2) * x2\n",
    "            - (self.w0**2 + 2 * self.k3 * param**2 - self.k3) * x1\n",
    "            + self.k4 * param\n",
    "        )\n",
    "        return np.concatenate([f1, f2], axis=-1)\n",
    "\n",
    "    def generate_init_data(self, n_traj, traj_len, seed_x=11, seed_param=22):\n",
    "        \"\"\"\n",
    "        Generate initial data for the Van der Pol-Mathieu system.\n",
    "        In this case, the initial data is generated randomly. \n",
    "        The corresponding parameter inputs (controls) are randomly generates at each time steps on each trajectory. For different trajectories, the parameters are different.\n",
    "\n",
    "        Parameters:\n",
    "        - n_traj (int): Number of trajectories.\n",
    "        - traj_len (int): Length of each trajectory.\n",
    "        - seed_x (int): Random seed for generating initial state.\n",
    "        - seed_param (int): Random seed for generating parameters.\n",
    "\n",
    "        Returns:\n",
    "        - data_x (ndarray): Generated state data of shape (n_traj * traj_len, dim).\n",
    "        - param (ndarray): Generated parameters of shape (n_traj * traj_len, param_dim).\n",
    "        \"\"\"\n",
    "        data_x = []\n",
    "\n",
    "        # Generate random initial states\n",
    "        np.random.seed(seed_x)\n",
    "        x0 = np.random.uniform(low=self.x_min, high=self.x_max, size=(n_traj, self.dim))\n",
    "\n",
    "        # Generate random parameters\n",
    "        np.random.seed(seed_param)\n",
    "        param = np.random.uniform(low=self.u_min, high=self.u_max, size=(traj_len, n_traj, self.param_dim))\n",
    "\n",
    "        # Euler integration for the trajectories\n",
    "        data_x.append(x0)\n",
    "        for t in range(traj_len - 1):\n",
    "            x_next = self.euler(data_x[-1], param[t])\n",
    "            data_x.append(x_next)\n",
    "\n",
    "        # Reshape data_x and param for correct output format\n",
    "        data_x = np.array(data_x).reshape(-1, self.dim)\n",
    "        param = np.array(param).reshape(-1, self.param_dim)\n",
    "\n",
    "        return data_x, param\n",
    "\n",
    "    def generate_data(self, n_traj, traj_len, seed_x=11, seed_param=22):\n",
    "        \"\"\"\n",
    "        Generate initial data for the Van der Pol-Mathieu system.\n",
    "        In this case, the initial data is generated randomly. \n",
    "        The corresponding parameter inputs (controls) are randomly generates at each time steps on each trajectory. For different trajectories, the parameters are different.\n",
    "\n",
    "        Parameters:\n",
    "        - n_traj (int): Number of trajectories.\n",
    "        - traj_len (int): Length of each trajectory.\n",
    "        - seed_x (int): Random seed for generating initial state.\n",
    "        - seed_param (int): Random seed for generating parameters.\n",
    "\n",
    "        Returns:\n",
    "        - data_x (ndarray): Generated state data of shape (n_traj * traj_len, dim).\n",
    "        - param (ndarray): Generated parameters of shape (n_traj * traj_len, param_dim).\n",
    "        \"\"\"\n",
    "        data_x = []\n",
    "\n",
    "        # Generate random initial states\n",
    "        np.random.seed(seed_x)\n",
    "        x0 = np.random.uniform(low=self.x_min, high=self.x_max, size=(n_traj, self.dim))\n",
    "\n",
    "        # Generate random parameters\n",
    "        np.random.seed(seed_param)\n",
    "        param = np.random.uniform(low=self.u_min, high=self.u_max, size=(traj_len-1, n_traj, self.param_dim))\n",
    "\n",
    "        # Euler integration for the trajectories\n",
    "        data_x.append(x0)\n",
    "        for t in range(traj_len - 1):\n",
    "            x_next = self.euler(data_x[-1], param[t])\n",
    "            data_x.append(x_next)\n",
    "\n",
    "        # Reshape data_x and param for correct output format\n",
    "        data_x = np.array(data_x).transpose(1, 0, 2) # (n_traj, traj_len, dim)\n",
    "        param = np.array(param).transpose(1, 0, 2)\n",
    "\n",
    "        return data_x, param\n"
   ]
  },
  {
   "cell_type": "code",
   "execution_count": 5,
   "metadata": {},
   "outputs": [],
   "source": [
    "target_dim = 2\n",
    "param_dim = 1\n",
    "\n",
    "# fixed parameters in VanderPolMathieuTarget\n",
    "k1=2\n",
    "k2=2\n",
    "k3=2\n",
    "k4=1\n",
    "w0=1"
   ]
  },
  {
   "cell_type": "code",
   "execution_count": 6,
   "metadata": {},
   "outputs": [],
   "source": [
    "# parameter for strong non-linearity\n",
    "# As mu increases, the system becomes more non-linear\n",
    "mu = 1"
   ]
  },
  {
   "cell_type": "code",
   "execution_count": 7,
   "metadata": {},
   "outputs": [],
   "source": [
    "n_traj = 1000\n",
    "traj_len = 50"
   ]
  },
  {
   "cell_type": "code",
   "execution_count": 8,
   "metadata": {},
   "outputs": [],
   "source": [
    "vdp_mathieu = VanderPolMathieuTarget(\n",
    "        mu=mu, dim=target_dim, param_dim=param_dim, k1=k1, k2=k2, k4=k4, w0=w0\n",
    "    )\n",
    "data_x, data_u = vdp_mathieu.generate_init_data(\n",
    "    n_traj=n_traj, traj_len=traj_len, seed_x=625, seed_param=521\n",
    ")\n",
    "data_y = vdp_mathieu.generate_next_data(data_x, data_u)"
   ]
  },
  {
   "cell_type": "code",
   "execution_count": 9,
   "metadata": {},
   "outputs": [],
   "source": [
    "# Reshape data to shape: (n_traj, traj_len, dim)\n",
    "data_x = data_x.reshape(traj_len, n_traj, target_dim).transpose(1, 0, 2)\n",
    "data_u = data_u.reshape(traj_len, n_traj, param_dim).transpose(1, 0, 2)\n",
    "data_y = data_y.reshape(traj_len, n_traj, target_dim).transpose(1, 0, 2)"
   ]
  },
  {
   "cell_type": "code",
   "execution_count": 10,
   "metadata": {},
   "outputs": [
    {
     "data": {
      "text/plain": [
       "(1000, 50, 2)"
      ]
     },
     "execution_count": 10,
     "metadata": {},
     "output_type": "execute_result"
    }
   ],
   "source": [
    "data_x.shape"
   ]
  },
  {
   "cell_type": "code",
   "execution_count": 11,
   "metadata": {},
   "outputs": [
    {
     "data": {
      "text/plain": [
       "Text(0, 0.5, '$x_2$')"
      ]
     },
     "execution_count": 11,
     "metadata": {},
     "output_type": "execute_result"
    },
    {
     "data": {
      "image/png": "[encoded data removed]",
      "text/plain": [
       "<Figure size 360x288 with 1 Axes>"
      ]
     },
     "metadata": {
      "needs_background": "light"
     },
     "output_type": "display_data"
    }
   ],
   "source": [
    "# Plot one trajectory\n",
    "plt.figure(figsize=(5, 4))\n",
    "plt.plot(data_x[0, :, 0], data_x[0, :, 1], \"o\")\n",
    "plt.xlabel(r\"$x_1$\")\n",
    "plt.ylabel(r\"$x_2$\")"
   ]
  },
  {
   "cell_type": "code",
   "execution_count": null,
   "metadata": {},
   "outputs": [],
   "source": []
  },
  {
   "cell_type": "markdown",
   "metadata": {},
   "source": [
    "# Build Model"
   ]
  },
  {
   "cell_type": "code",
   "execution_count": 12,
   "metadata": {},
   "outputs": [],
   "source": [
    "import torch\n",
    "import torch.nn as nn\n",
    "import torch.optim as optim\n",
    "from torch.utils.data import DataLoader\n",
    "from torchvision import datasets, transforms\n",
    "import torch.nn.functional as F"
   ]
  },
  {
   "cell_type": "code",
   "execution_count": 13,
   "metadata": {},
   "outputs": [],
   "source": [
    "from tqdm import tqdm"
   ]
  },
  {
   "cell_type": "code",
   "execution_count": 14,
   "metadata": {},
   "outputs": [],
   "source": [
    "torch.set_default_dtype(torch.float64)"
   ]
  },
  {
   "cell_type": "markdown",
   "metadata": {},
   "source": [
    "## Dictionary"
   ]
  },
  {
   "cell_type": "code",
   "execution_count": 15,
   "metadata": {},
   "outputs": [],
   "source": [
    "class AbstractDictionary:\n",
    "    def __init__(self, n_psi_train, add_constant=True):\n",
    "        self.n_psi_train = n_psi_train\n",
    "        self.add_constant = add_constant\n",
    "\n",
    "    def generate_B(self, inputs):\n",
    "        target_dim = inputs.shape[-1]  # Get the last dimension of the input tensor\n",
    "\n",
    "        if self.add_constant:\n",
    "            self.n_psi = self.n_psi_train + target_dim + 1\n",
    "            # Initialize B matrix with zeros\n",
    "            self.B = torch.zeros((self.n_psi, target_dim), dtype=inputs.dtype, device=inputs.device)\n",
    "            # Setting the sub-diagonal elements to 1\n",
    "            for i in range(target_dim):\n",
    "                self.B[i + 1, i] = 1.0\n",
    "        else:\n",
    "            self.basis_func_number = self.n_psi_train + target_dim\n",
    "            # Initialize B matrix with zeros\n",
    "            self.B = torch.zeros((self.basis_func_number, target_dim), dtype=inputs.dtype, device=inputs.device)\n",
    "            # Setting the diagonal elements to 1\n",
    "            for i in range(target_dim):\n",
    "                self.B[i, i] = 1.0\n",
    "\n",
    "        return self.B\n",
    "    \n",
    "class DicNN(nn.Module):\n",
    "    \"\"\"Trainable dictionaries.\"\"\"\n",
    "\n",
    "    def __init__(self, inputs_dim = 1, layer_sizes=[64, 64], n_psi_train=22, activation_func='tanh'):\n",
    "        super(DicNN, self).__init__()\n",
    "        self.inputs_dim = inputs_dim\n",
    "        self.layer_sizes = layer_sizes\n",
    "        self.n_psi_train = n_psi_train\n",
    "        self.activation_func = activation_func\n",
    "        \n",
    "        # Creating the input layer\n",
    "        self.input_layer = nn.Linear(self.inputs_dim, layer_sizes[0], bias=False)\n",
    "        \n",
    "        # Creating hidden layers\n",
    "        self.hidden_layers = nn.ModuleList()\n",
    "        for in_features, out_features in zip(layer_sizes[:-1], layer_sizes[1:]):\n",
    "            self.hidden_layers.append(nn.Linear(in_features, out_features))\n",
    "        \n",
    "        # Creating the output layer\n",
    "        self.output_layer = nn.Linear(layer_sizes[-1], n_psi_train)\n",
    "\n",
    "    def forward(self, inputs):\n",
    "        # Check layer dimension\n",
    "        if inputs.shape[-1] != self.inputs_dim:\n",
    "            print(f\"Error: Expected input dimension {self.inputs_dim}, but got {inputs.shape[-1]}\")\n",
    "            return None  # Optionally, you could raise an exception here\n",
    "\n",
    "        # Apply the input layer\n",
    "        psi_x_train = self.input_layer(inputs)\n",
    "        \n",
    "        # Apply hidden layers with residual connections\n",
    "        for layer in self.hidden_layers:\n",
    "            if self.activation_func == 'tanh':\n",
    "                psi_x_train = psi_x_train + F.tanh(layer(psi_x_train))\n",
    "            elif self.activation_func == 'relu':\n",
    "                psi_x_train = psi_x_train + F.relu(layer(psi_x_train))\n",
    "            else:\n",
    "                raise ValueError(\"Unsupported activation function\")\n",
    "\n",
    "        # Apply the output layer\n",
    "        outputs = self.output_layer(psi_x_train)\n",
    "        return outputs\n",
    "\n",
    "class PsiNN(nn.Module, AbstractDictionary):\n",
    "    def __init__(self, inputs_dim=1, dic_trainable=DicNN, layer_sizes=[64, 64], n_psi_train=22, activation_func='tanh', add_constant=True):\n",
    "        super(PsiNN, self).__init__()\n",
    "        self.n_psi_train = n_psi_train\n",
    "        self.add_constant = add_constant\n",
    "        # Create an instance of the dic_trainable with given parameters\n",
    "        self.dicNN = dic_trainable(inputs_dim, layer_sizes, n_psi_train, activation_func) if n_psi_train != 0 else None\n",
    "\n",
    "    def forward(self, inputs):\n",
    "        outputs = []\n",
    "\n",
    "        # Add a constant column of ones\n",
    "        if self.add_constant:\n",
    "            constant = torch.ones_like(inputs)[...,[0]]\n",
    "            outputs.append(constant)\n",
    "\n",
    "        # Add the original inputs\n",
    "        outputs.append(inputs)\n",
    "\n",
    "        # Add the output from dicNN if applicable\n",
    "        if self.n_psi_train != 0:\n",
    "            psi_x_train = self.dicNN(inputs)\n",
    "            outputs.append(psi_x_train)\n",
    "\n",
    "        # Concatenate along the feature dimension\n",
    "        outputs = torch.cat(outputs, dim=-1) if len(outputs) > 1 else outputs[0]\n",
    "\n",
    "        return outputs\n"
   ]
  },
  {
   "cell_type": "markdown",
   "metadata": {},
   "source": [
    "## Model K"
   ]
  },
  {
   "cell_type": "code",
   "execution_count": 82,
   "metadata": {},
   "outputs": [],
   "source": [
    "class Model_K_u_Layer_One(nn.Module):\n",
    "    \"\"\"Trainable K(u), the first row is (1,0,0,...)\"\"\"\n",
    "\n",
    "    def __init__(self, inputs_dim=2, layer_sizes=[64, 64], n_psi=3, activation=\"tanh\"):\n",
    "        super(Model_K_u_Layer_One, self).__init__()\n",
    "        self.inputs_dim = inputs_dim\n",
    "        self.layer_sizes = layer_sizes\n",
    "        self.n_psi = n_psi\n",
    "\n",
    "        # Creating the input layer\n",
    "        self.input_layer = nn.Linear(self.inputs_dim, layer_sizes[0], bias=False)\n",
    "\n",
    "        # Create hidden layers\n",
    "        self.hidden_layers = nn.ModuleList()\n",
    "        for in_features, out_features in zip(layer_sizes[:-1], layer_sizes[1:]):\n",
    "            self.hidden_layers.append(nn.Linear(in_features, out_features))\n",
    "\n",
    "        # Output layer\n",
    "        self.output_layer = nn.Linear(in_features=layer_sizes[-1],\n",
    "                                      out_features=n_psi * (n_psi - 1),\n",
    "                                      bias=True)\n",
    "\n",
    "        # Choose activation function\n",
    "        self.activation_func = activation\n",
    "\n",
    "    def forward(self, inputs):\n",
    "        # inputs shape is (n_samples, param_dim)\n",
    "        hidden_u = self.input_layer(inputs)\n",
    "        \n",
    "        for layer in self.hidden_layers:\n",
    "            hidden_u = layer(hidden_u)\n",
    "            if self.activation_func == 'tanh':\n",
    "                hidden_u = F.tanh(hidden_u)\n",
    "            elif self.activation_func == 'relu':\n",
    "                hidden_u = F.relu(hidden_u)\n",
    "            else:\n",
    "                raise ValueError(\"Unsupported activation function\")\n",
    "            \n",
    "        K_u_entry = self.output_layer(hidden_u)\n",
    "\n",
    "        K_u = K_u_entry.reshape(K_u_entry.shape[0], self.n_psi, self.n_psi - 1)\n",
    "\n",
    "        # Prepare constant tensor\n",
    "        Constant_one = torch.cat([torch.tensor([[1.]]), torch.zeros(self.n_psi - 1, 1)], dim=0)\n",
    "        Constant_one = Constant_one.repeat(inputs.shape[0], 1, 1)  # Adjust the size dynamically\n",
    "        \n",
    "        Constant_one = Constant_one.to(inputs.device)\n",
    "        K_u_concat = torch.cat([Constant_one, K_u], dim=-1)\n",
    "\n",
    "        return K_u_concat\n"
   ]
  },
  {
   "cell_type": "markdown",
   "metadata": {},
   "source": [
    "## Koopman Prediction Class"
   ]
  },
  {
   "cell_type": "code",
   "execution_count": 83,
   "metadata": {},
   "outputs": [],
   "source": [
    "class Koopman_predictor(nn.Module):\n",
    "    def __init__(self, dict, model_K):\n",
    "        super(Koopman_predictor, self).__init__()\n",
    "        self.dict = dict\n",
    "        self.model_K = model_K\n",
    "\n",
    "    def forward(self, inputs_state, inputs_param):\n",
    "        psi_x = self.dict(inputs_state)\n",
    "        K_u = self.model_K(inputs_param)\n",
    "        K_u_psi_x = torch.einsum('ij,ijk->ik', psi_x, K_u)\n",
    "        return K_u_psi_x\n"
   ]
  },
  {
   "cell_type": "markdown",
   "metadata": {},
   "source": [
    "## Build model"
   ]
  },
  {
   "cell_type": "code",
   "execution_count": 53,
   "metadata": {},
   "outputs": [],
   "source": [
    "n_psi_train = 22\n",
    "layer_sizes = [100,100,100]\n",
    "n_psi_train = 22\n",
    "n_psi = 1 + target_dim + n_psi_train\n",
    "K_layer_size = [256,256]\n",
    "dict_nn = PsiNN(inputs_dim=target_dim, \n",
    "                layer_sizes=layer_sizes, \n",
    "                n_psi_train=n_psi_train, \n",
    "                activation_func='tanh') \n",
    "\n",
    "model_K = Model_K_u_Layer_One(inputs_dim=param_dim, layer_sizes=K_layer_size, n_psi=n_psi, activation=\"tanh\")\n",
    "\n",
    "PK_model = Koopman_predictor(dict_nn, model_K)"
   ]
  },
  {
   "cell_type": "code",
   "execution_count": 20,
   "metadata": {},
   "outputs": [],
   "source": [
    "optimizer = torch.optim.Adam(list(PK_model.parameters()), lr=1e-4)\n",
    "loss_function = nn.MSELoss()"
   ]
  },
  {
   "cell_type": "markdown",
   "metadata": {},
   "source": [
    "## Build Data Loader & Train the model\n"
   ]
  },
  {
   "cell_type": "code",
   "execution_count": 21,
   "metadata": {},
   "outputs": [],
   "source": [
    "from torch.utils.data import Dataset, DataLoader\n",
    "class CustomDataset(Dataset):\n",
    "    def __init__(self, input1, input2, labels):\n",
    "        self.input1 = input1\n",
    "        self.input2 = input2\n",
    "        self.labels = labels\n",
    "\n",
    "    def __len__(self):\n",
    "        return len(self.labels)\n",
    "\n",
    "    def __getitem__(self, idx):\n",
    "        x1 = self.input1[idx]\n",
    "        x2 = self.input2[idx]\n",
    "        label = self.labels[idx]\n",
    "        return x1, x2, label"
   ]
  },
  {
   "cell_type": "code",
   "execution_count": 22,
   "metadata": {},
   "outputs": [],
   "source": [
    "data_x_train = torch.tensor(data_x.reshape(traj_len*n_traj, target_dim))\n",
    "data_u_train = torch.tensor(data_u.reshape(traj_len*n_traj, param_dim))\n",
    "data_y_train = torch.tensor(data_y.reshape(traj_len*n_traj, target_dim))\n",
    "\n",
    "dataset = CustomDataset(data_x_train, data_u_train, data_y_train)\n",
    "data_loader = DataLoader(dataset, batch_size=64, shuffle=True)"
   ]
  },
  {
   "cell_type": "code",
   "execution_count": 23,
   "metadata": {},
   "outputs": [],
   "source": [
    "scheduler = torch.optim.lr_scheduler.ReduceLROnPlateau(optimizer, mode='min', factor=0.8, patience=20)"
   ]
  },
  {
   "cell_type": "code",
   "execution_count": 24,
   "metadata": {},
   "outputs": [
    {
     "name": "stderr",
     "output_type": "stream",
     "text": [
      "Epoch [1/50]: 100%|██████████| 782/782 [00:05<00:00, 141.18it/s, loss=4.86e-5, lr=0.0001] \n",
      "Epoch [2/50]: 100%|██████████| 782/782 [00:05<00:00, 143.93it/s, loss=2.66e-5, lr=0.0001]\n",
      "Epoch [3/50]: 100%|██████████| 782/782 [00:05<00:00, 144.19it/s, loss=1.18e-5, lr=0.0001]\n",
      "Epoch [4/50]: 100%|██████████| 782/782 [00:05<00:00, 142.70it/s, loss=9.65e-6, lr=0.0001]\n",
      "Epoch [5/50]: 100%|██████████| 782/782 [00:05<00:00, 143.61it/s, loss=5.83e-6, lr=0.0001]\n",
      "Epoch [6/50]: 100%|██████████| 782/782 [00:05<00:00, 143.40it/s, loss=2.67e-6, lr=0.0001]\n",
      "Epoch [7/50]: 100%|██████████| 782/782 [00:05<00:00, 141.54it/s, loss=7.11e-6, lr=0.0001]\n",
      "Epoch [8/50]: 100%|██████████| 782/782 [00:05<00:00, 144.29it/s, loss=4.65e-6, lr=0.0001]\n",
      "Epoch [9/50]: 100%|██████████| 782/782 [00:05<00:00, 140.50it/s, loss=1.01e-5, lr=0.0001]\n",
      "Epoch [10/50]: 100%|██████████| 782/782 [00:05<00:00, 142.97it/s, loss=4e-6, lr=0.0001]   \n",
      "Epoch [11/50]: 100%|██████████| 782/782 [00:05<00:00, 140.74it/s, loss=6.16e-6, lr=0.0001]\n",
      "Epoch [12/50]: 100%|██████████| 782/782 [00:05<00:00, 142.23it/s, loss=3.27e-5, lr=0.0001]\n",
      "Epoch [13/50]: 100%|██████████| 782/782 [00:05<00:00, 142.72it/s, loss=6.76e-6, lr=0.0001]\n",
      "Epoch [14/50]: 100%|██████████| 782/782 [00:05<00:00, 144.13it/s, loss=3.08e-6, lr=0.0001]\n",
      "Epoch [15/50]: 100%|██████████| 782/782 [00:05<00:00, 143.47it/s, loss=2.84e-6, lr=0.0001]\n",
      "Epoch [16/50]: 100%|██████████| 782/782 [00:05<00:00, 143.27it/s, loss=6.63e-6, lr=0.0001]\n",
      "Epoch [17/50]: 100%|██████████| 782/782 [00:05<00:00, 142.00it/s, loss=2.43e-6, lr=0.0001]\n",
      "Epoch [18/50]: 100%|██████████| 782/782 [00:05<00:00, 142.34it/s, loss=1.37e-5, lr=0.0001]\n",
      "Epoch [19/50]: 100%|██████████| 782/782 [00:05<00:00, 142.51it/s, loss=1.17e-6, lr=0.0001]\n",
      "Epoch [20/50]: 100%|██████████| 782/782 [00:05<00:00, 142.76it/s, loss=3.56e-6, lr=0.0001]\n",
      "Epoch [21/50]: 100%|██████████| 782/782 [00:05<00:00, 143.01it/s, loss=5.78e-6, lr=0.0001]\n",
      "Epoch [22/50]: 100%|██████████| 782/782 [00:05<00:00, 142.04it/s, loss=5.52e-6, lr=0.0001]\n",
      "Epoch [23/50]: 100%|██████████| 782/782 [00:05<00:00, 142.70it/s, loss=2.21e-6, lr=0.0001]\n",
      "Epoch [24/50]: 100%|██████████| 782/782 [00:05<00:00, 142.25it/s, loss=1.16e-6, lr=0.0001]\n",
      "Epoch [25/50]: 100%|██████████| 782/782 [00:05<00:00, 143.02it/s, loss=3.95e-6, lr=0.0001]\n",
      "Epoch [26/50]: 100%|██████████| 782/782 [00:05<00:00, 142.70it/s, loss=8.46e-6, lr=0.0001]\n",
      "Epoch [27/50]: 100%|██████████| 782/782 [00:05<00:00, 144.02it/s, loss=1.36e-6, lr=0.0001]\n",
      "Epoch [28/50]: 100%|██████████| 782/782 [00:05<00:00, 144.27it/s, loss=1.52e-6, lr=0.0001]\n",
      "Epoch [29/50]: 100%|██████████| 782/782 [00:05<00:00, 144.86it/s, loss=4.48e-7, lr=0.0001]\n",
      "Epoch [30/50]: 100%|██████████| 782/782 [00:05<00:00, 144.04it/s, loss=7.64e-7, lr=0.0001]\n",
      "Epoch [31/50]: 100%|██████████| 782/782 [00:05<00:00, 144.52it/s, loss=1.52e-6, lr=0.0001]\n",
      "Epoch [32/50]: 100%|██████████| 782/782 [00:05<00:00, 141.48it/s, loss=1.71e-5, lr=0.0001]\n",
      "Epoch [33/50]: 100%|██████████| 782/782 [00:05<00:00, 144.30it/s, loss=2.24e-6, lr=0.0001]\n",
      "Epoch [34/50]: 100%|██████████| 782/782 [00:05<00:00, 142.72it/s, loss=1.97e-6, lr=0.0001]\n",
      "Epoch [35/50]: 100%|██████████| 782/782 [00:05<00:00, 143.38it/s, loss=1.33e-6, lr=0.0001]\n",
      "Epoch [36/50]: 100%|██████████| 782/782 [00:05<00:00, 142.72it/s, loss=9.34e-7, lr=0.0001]\n",
      "Epoch [37/50]: 100%|██████████| 782/782 [00:05<00:00, 142.32it/s, loss=9.11e-7, lr=0.0001]\n",
      "Epoch [38/50]: 100%|██████████| 782/782 [00:05<00:00, 143.01it/s, loss=5.8e-7, lr=0.0001] \n",
      "Epoch [39/50]: 100%|██████████| 782/782 [00:05<00:00, 143.30it/s, loss=7.33e-7, lr=0.0001]\n",
      "Epoch [40/50]: 100%|██████████| 782/782 [00:05<00:00, 144.60it/s, loss=3.49e-6, lr=0.0001]\n",
      "Epoch [41/50]: 100%|██████████| 782/782 [00:05<00:00, 143.53it/s, loss=2.97e-7, lr=0.0001]\n",
      "Epoch [42/50]: 100%|██████████| 782/782 [00:05<00:00, 145.28it/s, loss=4.07e-7, lr=0.0001]\n",
      "Epoch [43/50]: 100%|██████████| 782/782 [00:05<00:00, 143.29it/s, loss=8.91e-6, lr=0.0001]\n",
      "Epoch [44/50]: 100%|██████████| 782/782 [00:05<00:00, 143.85it/s, loss=5.93e-6, lr=0.0001]\n",
      "Epoch [45/50]: 100%|██████████| 782/782 [00:05<00:00, 142.92it/s, loss=5.58e-7, lr=0.0001]\n",
      "Epoch [46/50]: 100%|██████████| 782/782 [00:05<00:00, 142.80it/s, loss=2.9e-7, lr=0.0001] \n",
      "Epoch [47/50]: 100%|██████████| 782/782 [00:05<00:00, 142.31it/s, loss=1.69e-6, lr=0.0001]\n",
      "Epoch [48/50]: 100%|██████████| 782/782 [00:05<00:00, 145.01it/s, loss=3.86e-7, lr=0.0001]\n",
      "Epoch [49/50]: 100%|██████████| 782/782 [00:05<00:00, 144.06it/s, loss=4.02e-7, lr=0.0001]\n",
      "Epoch [50/50]: 100%|██████████| 782/782 [00:05<00:00, 143.97it/s, loss=2.31e-7, lr=0.0001]\n"
     ]
    }
   ],
   "source": [
    "num_epochs = 50\n",
    "loss_history = []\n",
    "\n",
    "for epoch in range(num_epochs):\n",
    "    loop = tqdm(data_loader, leave=True)\n",
    "    epoch_losses = []\n",
    "\n",
    "    for x_curr, param_curr, x_next in loop:\n",
    "\n",
    "        # # x_curr shape (x_next shape): (n_selected, dim_state)\n",
    "        # # param_curr shape: (n_selected, dim_param)\n",
    "\n",
    "        psi_x_next_pred = PK_model(x_curr, param_curr)\n",
    "        psi_x_next = PK_model.dict(x_next)\n",
    "\n",
    "        diff = psi_x_next_pred - psi_x_next\n",
    "        zero = torch.zeros_like(diff)\n",
    "\n",
    "        loss = loss_function(diff, zero)\n",
    "\n",
    "\n",
    "        # Zero gradients, perform a backward pass, and update the weights.\n",
    "        optimizer.zero_grad()\n",
    "        loss.backward()\n",
    "        optimizer.step()\n",
    "\n",
    "        # Collect loss for this batch\n",
    "        epoch_losses.append(loss.item())\n",
    "\n",
    "        current_lr = optimizer.param_groups[0]['lr']\n",
    "\n",
    "        # Update progress bar with current loss.\n",
    "        loop.set_description(f\"Epoch [{epoch+1}/{num_epochs}]\")\n",
    "        loop.set_postfix(loss=loss.item(), lr=current_lr)\n",
    "\n",
    "    # Average loss for this epoch\n",
    "    average_epoch_loss = sum(epoch_losses) / len(epoch_losses)\n",
    "    loss_history.append(average_epoch_loss)\n",
    "    # Update the learning rate scheduler\n",
    "    scheduler.step(average_epoch_loss)\n"
   ]
  },
  {
   "cell_type": "markdown",
   "metadata": {},
   "source": [
    "# Evaluation"
   ]
  },
  {
   "cell_type": "code",
   "execution_count": 25,
   "metadata": {},
   "outputs": [],
   "source": [
    "def pred_soln(PK_model, x0, param_list):\n",
    "    # x0 shape: (n_traj, dim_state)\n",
    "    # param list shape: (n_traj, Nt-1, dim_param)\n",
    "    PK_model.eval()\n",
    "\n",
    "    Nt = param_list.shape[1] + 1\n",
    "    \n",
    "    x_pred_list = torch.zeros((x0.shape[0], Nt, x0.shape[-1]))\n",
    "    # x_pred_list shape: (n_traj, Nt, dim_state)\n",
    "    # Nt = test_traj_len\n",
    "    \n",
    "    x_pred_list[:,0,:] = x0\n",
    "    x_pred = x0\n",
    "    \n",
    "    psi_x0 = PK_model.dict(x0)\n",
    "\n",
    "    psi_x_pred_list = torch.zeros((psi_x0.shape[0], Nt, psi_x0.shape[-1]))\n",
    "    psi_x_pred_list[:,0,:] = psi_x0\n",
    "    \n",
    "    B = PK_model.dict.generate_B(x0)\n",
    "\n",
    "    for i in range(Nt-1):\n",
    "        # psi_pred = PK_model.dict(x_pred) @ PK_model.model_K(param_list[:,i,:])\n",
    "        psi_pred = PK_model(x_pred, param_list[:,i,:])\n",
    "        # psi_pred = psi_x_pred_list[:,i,:] @ PK_model.model_K(param_list[:,i,:])\n",
    "        x_pred = psi_pred @ B\n",
    "        x_pred_list[:,i+1,:] = x_pred.detach()\n",
    "        psi_x_pred_list[:,i+1,:] = psi_pred.detach()\n",
    "    \n",
    "    return x_pred_list.detach()\n"
   ]
  },
  {
   "cell_type": "code",
   "execution_count": 26,
   "metadata": {},
   "outputs": [],
   "source": [
    "n_traj_test = 2\n",
    "traj_len_test = 100"
   ]
  },
  {
   "cell_type": "code",
   "execution_count": 27,
   "metadata": {},
   "outputs": [],
   "source": [
    "data_x_test, data_param_test = vdp_mathieu.generate_data(n_traj=n_traj_test, \n",
    "                                           traj_len=traj_len_test,\n",
    "                                           seed_x=1, \n",
    "                                           seed_param=521)"
   ]
  },
  {
   "cell_type": "code",
   "execution_count": 28,
   "metadata": {},
   "outputs": [
    {
     "data": {
      "text/plain": [
       "(2, 100, 2)"
      ]
     },
     "execution_count": 28,
     "metadata": {},
     "output_type": "execute_result"
    }
   ],
   "source": [
    "data_x_test.shape"
   ]
  },
  {
   "cell_type": "code",
   "execution_count": 29,
   "metadata": {},
   "outputs": [
    {
     "data": {
      "text/plain": [
       "(2, 99, 1)"
      ]
     },
     "execution_count": 29,
     "metadata": {},
     "output_type": "execute_result"
    }
   ],
   "source": [
    "data_param_test.shape"
   ]
  },
  {
   "cell_type": "code",
   "execution_count": 30,
   "metadata": {},
   "outputs": [
    {
     "data": {
      "text/plain": [
       "[<matplotlib.lines.Line2D at 0x7f8c98c68700>]"
      ]
     },
     "execution_count": 30,
     "metadata": {},
     "output_type": "execute_result"
    },
    {
     "data": {
      "image/png": "[encoded data removed]",
      "text/plain": [
       "<Figure size 432x288 with 1 Axes>"
      ]
     },
     "metadata": {
      "needs_background": "light"
     },
     "output_type": "display_data"
    }
   ],
   "source": [
    "plt.plot(data_param_test[0,:,0])"
   ]
  },
  {
   "cell_type": "code",
   "execution_count": 31,
   "metadata": {},
   "outputs": [],
   "source": [
    "x0_test = torch.tensor(data_x_test[:,0,:])\n",
    "x_pred_test = pred_soln(PK_model, x0_test, torch.tensor(data_param_test))"
   ]
  },
  {
   "cell_type": "code",
   "execution_count": 32,
   "metadata": {},
   "outputs": [
    {
     "data": {
      "text/plain": [
       "torch.Size([2, 100, 2])"
      ]
     },
     "execution_count": 32,
     "metadata": {},
     "output_type": "execute_result"
    }
   ],
   "source": [
    "x_pred_test.shape"
   ]
  },
  {
   "cell_type": "code",
   "execution_count": 33,
   "metadata": {},
   "outputs": [
    {
     "data": {
      "text/plain": [
       "<matplotlib.legend.Legend at 0x7f8c9b5204f0>"
      ]
     },
     "execution_count": 33,
     "metadata": {},
     "output_type": "execute_result"
    },
    {
     "data": {
      "image/png": "[encoded data removed]",
      "text/plain": [
       "<Figure size 432x288 with 1 Axes>"
      ]
     },
     "metadata": {
      "needs_background": "light"
     },
     "output_type": "display_data"
    }
   ],
   "source": [
    "traj_idx = 0\n",
    "colors = np.linspace(1, 0, traj_len_test)\n",
    "\n",
    "plt.figure(figsize=(6, 4))\n",
    "plt.plot(data_x_test[traj_idx, :, 0], data_x_test[traj_idx, :, 1], color='orange', label='True')\n",
    "plt.plot(x_pred_test[traj_idx, :, 0], x_pred_test[traj_idx, :, 1], color='mediumpurple', label='PK-NN')\n",
    "\n",
    "plt.legend()"
   ]
  },
  {
   "cell_type": "markdown",
   "metadata": {},
   "source": [
    "# Try Lightning"
   ]
  },
  {
   "cell_type": "code",
   "execution_count": 98,
   "metadata": {},
   "outputs": [],
   "source": [
    "import pytorch_lightning as pl\n",
    "from torch.utils.data import DataLoader\n",
    "from torch.optim.lr_scheduler import ReduceLROnPlateau\n",
    "import torch\n"
   ]
  },
  {
   "cell_type": "markdown",
   "metadata": {},
   "source": [
    "## Define the lightning model"
   ]
  },
  {
   "cell_type": "code",
   "execution_count": 99,
   "metadata": {},
   "outputs": [],
   "source": [
    "class PKLightningModule(pl.LightningModule):\n",
    "    def __init__(self, PK_model, loss_function, optimizer_class, lr):\n",
    "        super().__init__()\n",
    "        self.PK_model = PK_model\n",
    "        self.loss_function = loss_function\n",
    "        self.optimizer_class = optimizer_class\n",
    "        self.lr = lr\n",
    "        self.save_hyperparameters()\n",
    "\n",
    "    def forward(self, x_curr, param_curr):\n",
    "        return self.PK_model(x_curr, param_curr)\n",
    "\n",
    "    def training_step(self, batch, batch_idx):\n",
    "        x_curr, param_curr, x_next = batch\n",
    "        \n",
    "        # Forward pass\n",
    "        psi_x_next_pred = self.PK_model(x_curr, param_curr)\n",
    "        psi_x_next = self.PK_model.dict(x_next)\n",
    "\n",
    "        # Calculate loss\n",
    "        diff = psi_x_next_pred - psi_x_next\n",
    "        zero = torch.zeros_like(diff)\n",
    "        loss = self.loss_function(diff, zero)\n",
    "\n",
    "        # Log the loss to the progress bar\n",
    "        self.log('train_loss', loss, prog_bar=True)\n",
    "        return loss\n",
    "\n",
    "    def configure_optimizers(self):\n",
    "        optimizer = self.optimizer_class(self.parameters(), lr=self.lr)\n",
    "        scheduler = ReduceLROnPlateau(optimizer, mode='min', factor=0.8, patience=20)\n",
    "        return {\n",
    "            'optimizer': optimizer,\n",
    "            'lr_scheduler': {\n",
    "                'scheduler': scheduler,\n",
    "                'monitor': 'train_loss'\n",
    "            }\n",
    "        }\n",
    "    \n",
    "    def train_dataloader(self):\n",
    "        dataset = CustomDataset(data_x_train, data_u_train, data_y_train)\n",
    "        return DataLoader(dataset, batch_size=64, shuffle=True)\n"
   ]
  },
  {
   "cell_type": "markdown",
   "metadata": {},
   "source": [
    "## Train lightning model"
   ]
  },
  {
   "cell_type": "code",
   "execution_count": 100,
   "metadata": {},
   "outputs": [],
   "source": [
    "from pytorch_lightning import Trainer\n",
    "\n",
    "n_psi_train = 22\n",
    "layer_sizes = [100,100,100]\n",
    "n_psi_train = 22\n",
    "n_psi = 1 + target_dim + n_psi_train\n",
    "K_layer_size = [256,256]\n",
    "dict_nn = PsiNN(inputs_dim=target_dim, \n",
    "                layer_sizes=layer_sizes, \n",
    "                n_psi_train=n_psi_train, \n",
    "                activation_func='tanh') \n",
    "\n",
    "model_K = Model_K_u_Layer_One(inputs_dim=param_dim, layer_sizes=K_layer_size, n_psi=n_psi, activation=\"tanh\")\n",
    "\n",
    "PK_model = Koopman_predictor(dict_nn, model_K)\n"
   ]
  },
  {
   "cell_type": "code",
   "execution_count": 101,
   "metadata": {},
   "outputs": [
    {
     "name": "stderr",
     "output_type": "stream",
     "text": [
      "GPU available: True (cuda), used: True\n",
      "TPU available: False, using: 0 TPU cores\n",
      "HPU available: False, using: 0 HPUs\n"
     ]
    },
    {
     "name": "stderr",
     "output_type": "stream",
     "text": [
      "LOCAL_RANK: 0 - CUDA_VISIBLE_DEVICES: [0,1,2,3]\n",
      "\n",
      "  | Name          | Type              | Params | Mode \n",
      "------------------------------------------------------------\n",
      "0 | PK_model      | Koopman_predictor | 242 K  | train\n",
      "1 | loss_function | MSELoss           | 0      | train\n",
      "------------------------------------------------------------\n",
      "242 K     Trainable params\n",
      "0         Non-trainable params\n",
      "242 K     Total params\n",
      "0.971     Total estimated model params size (MB)\n",
      "14        Modules in train mode\n",
      "0         Modules in eval mode\n"
     ]
    },
    {
     "name": "stdout",
     "output_type": "stream",
     "text": [
      "Epoch 99: 100%|██████████| 782/782 [00:07<00:00, 106.70it/s, v_num=10, train_loss=3.42e-7] "
     ]
    },
    {
     "name": "stderr",
     "output_type": "stream",
     "text": [
      "`Trainer.fit` stopped: `max_epochs=100` reached.\n"
     ]
    },
    {
     "name": "stdout",
     "output_type": "stream",
     "text": [
      "Epoch 99: 100%|██████████| 782/782 [00:07<00:00, 106.19it/s, v_num=10, train_loss=3.42e-7]\n"
     ]
    }
   ],
   "source": [
    "\n",
    "# Compile the model \n",
    "loss_function = torch.nn.MSELoss()\n",
    "optimizer_class = torch.optim.Adam\n",
    "\n",
    "# Instantiate the Lightning module\n",
    "model = PKLightningModule(PK_model, loss_function, optimizer_class, lr=1e-4)\n",
    "\n",
    "# Train the model\n",
    "trainer = Trainer(max_epochs=100, accelerator='gpu', devices=1)\n",
    "trainer.fit(model)\n"
   ]
  },
  {
   "cell_type": "code",
   "execution_count": 102,
   "metadata": {},
   "outputs": [],
   "source": [
    "x_pred_test_pl = pred_soln(PK_model, x0_test, torch.tensor(data_param_test))"
   ]
  },
  {
   "cell_type": "code",
   "execution_count": 103,
   "metadata": {},
   "outputs": [
    {
     "data": {
      "text/plain": [
       "<matplotlib.legend.Legend at 0x7f8b4ca21940>"
      ]
     },
     "execution_count": 103,
     "metadata": {},
     "output_type": "execute_result"
    },
    {
     "data": {
      "image/png": "[encoded data removed]",
      "text/plain": [
       "<Figure size 432x288 with 1 Axes>"
      ]
     },
     "metadata": {
      "needs_background": "light"
     },
     "output_type": "display_data"
    }
   ],
   "source": [
    "traj_idx = 0\n",
    "colors = np.linspace(1, 0, traj_len_test)\n",
    "\n",
    "plt.figure(figsize=(6, 4))\n",
    "plt.plot(data_x_test[traj_idx, :, 0], data_x_test[traj_idx, :, 1], color='orange', label='True')\n",
    "plt.plot(x_pred_test_pl[traj_idx, :, 0], x_pred_test_pl[traj_idx, :, 1], color='mediumpurple', label='PK-NN')\n",
    "\n",
    "plt.legend()"
   ]
  },
  {
   "cell_type": "code",
   "execution_count": null,
   "metadata": {},
   "outputs": [],
   "source": []
  },
  {
   "cell_type": "code",
   "execution_count": null,
   "metadata": {},
   "outputs": [],
   "source": []
  }
 ],
 "metadata": {
  "kernelspec": {
   "display_name": "pknn",
   "language": "python",
   "name": "python3"
  },
  "language_info": {
   "codemirror_mode": {
    "name": "ipython",
    "version": 3
   },
   "file_extension": ".py",
   "mimetype": "text/x-python",
   "name": "python",
   "nbconvert_exporter": "python",
   "pygments_lexer": "ipython3",
   "version": "3.8.10"
  }
 },
 "nbformat": 4,
 "nbformat_minor": 2
}
