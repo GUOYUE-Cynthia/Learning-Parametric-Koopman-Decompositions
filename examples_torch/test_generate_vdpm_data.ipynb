{
 "cells": [
  {
   "cell_type": "code",
   "execution_count": 1,
   "metadata": {},
   "outputs": [],
   "source": [
    "import numpy as np\n",
    "import matplotlib.pyplot as plt"
   ]
  },
  {
   "cell_type": "code",
   "execution_count": 2,
   "metadata": {},
   "outputs": [],
   "source": [
    "class AbstractParamODETarget:\n",
    "    def __init__(self, dt=1e-3, t_step=0.1, dim=2, param_dim=2):\n",
    "        \"\"\"\n",
    "        Initializes an instance of the class.\n",
    "\n",
    "        Parameters:\n",
    "        - dt (float): The time step size for the inner loop to compute the value at each outer time step t_step.\n",
    "        - t_step (float): The outer time step.\n",
    "        - dim (int): The dimension of the system state.\n",
    "        - param_dim (int): The dimension of the parameters.\n",
    "\n",
    "        Returns:\n",
    "        None\n",
    "        \"\"\"\n",
    "        self.dt = dt\n",
    "        self.t_step = t_step\n",
    "        self.n_step = int(t_step / dt)\n",
    "        self.dim = dim\n",
    "        self.param_dim = param_dim\n",
    "\n",
    "    def rhs(self, x, param):\n",
    "        \"\"\"\n",
    "        Right-hand side of the ODE to be implemented by subclasses.\n",
    "\n",
    "        :param x: state variable\n",
    "        :param param: parameters for the ODE\n",
    "        :return: the time derivative of x\n",
    "        \"\"\"\n",
    "        raise NotImplementedError(\"Subclasses should implement this method.\")\n",
    "\n",
    "    def euler(self, x, param):\n",
    "        \"\"\"\n",
    "        ODE Solver using Euler's method.\n",
    "\n",
    "        :param x: state variable\n",
    "        :param param: parameters for the ODE\n",
    "        :return: ODE Solution at t_step after iterating the Euler method n_step times\n",
    "        \"\"\"\n",
    "        for _ in range(self.n_step):\n",
    "            x = x + self.dt * self.rhs(x, param)\n",
    "        return x\n",
    "\n",
    "    def generate_init_data(self, n_traj, traj_len, x_min, x_max, param_min, param_max, seed_x=11, seed_param=22):\n",
    "        \"\"\"\n",
    "        Generate initial data for the ODE system. \n",
    "        In this case, the initial data is generated randomly. \n",
    "        The corresponding parameters are the same on each trajectory. But for different trajectories, the parameters are different.\n",
    "\n",
    "        Parameters:\n",
    "        - n_traj (int): Number of trajectories to generate.\n",
    "        - traj_len (int): Length of each trajectory.\n",
    "        - x_min, x_max (float): Range for the initial state.\n",
    "        - param_min, param_max (float): Range for the parameters.\n",
    "        - seed_x (int): Seed for random number generator for generating initial states.\n",
    "        - seed_param (int): Seed for random number generator for generating parameters.\n",
    "\n",
    "        Returns:\n",
    "        - data_x (ndarray): Array of shape (n_traj * traj_len, self.dim) containing the generated initial states.\n",
    "        - param (ndarray): Array of shape (n_traj * traj_len, self.param_dim) containing the generated parameters.\n",
    "        \"\"\"\n",
    "        np.random.seed(seed_x)\n",
    "        x0 = np.random.uniform(low=x_min, high=x_max, size=(n_traj, self.dim))\n",
    "\n",
    "        np.random.seed(seed_param)\n",
    "        param = np.random.uniform(low=param_min, high=param_max, size=(n_traj, self.param_dim))\n",
    "\n",
    "        data_x = [x0]\n",
    "        for t in range(traj_len - 1):\n",
    "            data_x.append(self.euler(data_x[t], param))\n",
    "\n",
    "        # Reshape and transpose data_x for the correct format\n",
    "        data_x = np.array(data_x).reshape(n_traj * traj_len, self.dim)\n",
    "\n",
    "        # Repeat parameters for each trajectory length\n",
    "        repeats_constant = traj_len * np.ones(shape=(n_traj,), dtype=\"int32\")\n",
    "        param = np.repeat(param, repeats=repeats_constant, axis=0)\n",
    "\n",
    "        return np.asarray(data_x), np.asarray(param)\n",
    "\n",
    "    def generate_next_data(self, data_x, param):\n",
    "        \"\"\"\n",
    "        Generate the next state using the Euler solver.\n",
    "\n",
    "        Parameters:\n",
    "        - data_x (ndarray): The current state of the system.\n",
    "        - param (ndarray): Parameters of the ODE.\n",
    "\n",
    "        Returns:\n",
    "        - data_y (ndarray): The next state of the system after applying Euler's method.\n",
    "        \"\"\"\n",
    "        data_y = self.euler(data_x, param)\n",
    "        return data_y\n"
   ]
  },
  {
   "cell_type": "code",
   "execution_count": 3,
   "metadata": {},
   "outputs": [],
   "source": [
    "class VanderPolMathieuTarget(AbstractParamODETarget):\n",
    "    def __init__(self, mu=1, dt=1e-3, t_step=1e-2, dim=2, param_dim=1, k1=2, k2=2, k3=2, k4=1, w0=1):\n",
    "        \"\"\"\n",
    "        Initializes the VanderPolMathieuTarget system.\n",
    "\n",
    "        Parameters:\n",
    "        - mu (float): Van der Pol oscillator parameter.\n",
    "        - dt (float): Time step size for the inner loop.\n",
    "        - t_step (float): Time step for the outer loop.\n",
    "        - dim (int): Dimension of the state.\n",
    "        - param_dim (int): Dimension of the parameters.\n",
    "        - k1, k2, k3, k4, w0 (float): System parameters for the Van der Pol-Mathieu equation.\n",
    "\n",
    "        \"\"\"\n",
    "        super().__init__(dt, t_step, dim, param_dim)\n",
    "        self.x_min = -1\n",
    "        self.x_max = 1\n",
    "        self.u_min = -1\n",
    "        self.u_max = 1\n",
    "        self.mu = mu\n",
    "        self.k1 = k1\n",
    "        self.k2 = k2\n",
    "        self.k3 = self.mu\n",
    "        self.k4 = k4\n",
    "        self.w0 = w0\n",
    "\n",
    "    def rhs(self, data_x, param):\n",
    "        \"\"\"\n",
    "        Compute the right-hand side of the Van der Pol-Mathieu system.\n",
    "\n",
    "        Parameters:\n",
    "        - data_x (ndarray): The current state of the system (shape: [n_traj, dim]).\n",
    "        - param (ndarray): The system parameters (shape: [n_traj, param_dim]).\n",
    "\n",
    "        Returns:\n",
    "        - ndarray: The time derivative of the system state (shape: [n_traj, dim]).\n",
    "        \"\"\"\n",
    "        x1 = np.reshape(data_x[:, 0], newshape=(data_x.shape[0], 1))\n",
    "        x2 = np.reshape(data_x[:, 1], newshape=(data_x.shape[0], 1))\n",
    "        param = np.reshape(param, newshape=(data_x.shape[0], 1))  # Ensure param is correctly reshaped\n",
    "\n",
    "        f1 = x2\n",
    "        f2 = (\n",
    "            (self.k1 - self.k2 * x1**2) * x2\n",
    "            - (self.w0**2 + 2 * self.k3 * param**2 - self.k3) * x1\n",
    "            + self.k4 * param\n",
    "        )\n",
    "        return np.concatenate([f1, f2], axis=-1)\n",
    "\n",
    "    def generate_init_data(self, n_traj, traj_len, seed_x=11, seed_param=22):\n",
    "        \"\"\"\n",
    "        Generate initial data for the Van der Pol-Mathieu system.\n",
    "        In this case, the initial data is generated randomly. \n",
    "        The corresponding parameter inputs (controls) are randomly generates at each time steps on each trajectory. For different trajectories, the parameters are different.\n",
    "\n",
    "        Parameters:\n",
    "        - n_traj (int): Number of trajectories.\n",
    "        - traj_len (int): Length of each trajectory.\n",
    "        - seed_x (int): Random seed for generating initial state.\n",
    "        - seed_param (int): Random seed for generating parameters.\n",
    "\n",
    "        Returns:\n",
    "        - data_x (ndarray): Generated state data of shape (n_traj * traj_len, dim).\n",
    "        - param (ndarray): Generated parameters of shape (n_traj * traj_len, param_dim).\n",
    "        \"\"\"\n",
    "        data_x = []\n",
    "\n",
    "        # Generate random initial states\n",
    "        np.random.seed(seed_x)\n",
    "        x0 = np.random.uniform(low=self.x_min, high=self.x_max, size=(n_traj, self.dim))\n",
    "\n",
    "        # Generate random parameters\n",
    "        np.random.seed(seed_param)\n",
    "        param = np.random.uniform(low=self.u_min, high=self.u_max, size=(traj_len, n_traj, self.param_dim))\n",
    "\n",
    "        # Euler integration for the trajectories\n",
    "        data_x.append(x0)\n",
    "        for t in range(traj_len - 1):\n",
    "            x_next = self.euler(data_x[-1], param[t])\n",
    "            data_x.append(x_next)\n",
    "\n",
    "        # Reshape data_x and param for correct output format\n",
    "        data_x = np.array(data_x).reshape(-1, self.dim)\n",
    "        param = np.array(param).reshape(-1, self.param_dim)\n",
    "\n",
    "        return data_x, param\n"
   ]
  },
  {
   "cell_type": "code",
   "execution_count": 4,
   "metadata": {},
   "outputs": [],
   "source": [
    "target_dim = 2\n",
    "param_dim = 1\n",
    "\n",
    "# fixed parameters in VanderPolMathieuTarget\n",
    "k1=2\n",
    "k2=2\n",
    "k3=2\n",
    "k4=1\n",
    "w0=1"
   ]
  },
  {
   "cell_type": "code",
   "execution_count": 5,
   "metadata": {},
   "outputs": [],
   "source": [
    "# parameter for strong non-linearity\n",
    "# As mu increases, the system becomes more non-linear\n",
    "mu = 1"
   ]
  },
  {
   "cell_type": "code",
   "execution_count": 6,
   "metadata": {},
   "outputs": [],
   "source": [
    "n_traj = 1000\n",
    "traj_len = 50"
   ]
  },
  {
   "cell_type": "code",
   "execution_count": 34,
   "metadata": {},
   "outputs": [],
   "source": [
    "vdp_mathieu = VanderPolMathieuTarget(\n",
    "        mu=mu, dim=target_dim, param_dim=param_dim, k1=k1, k2=k2, k4=k4, w0=w0\n",
    "    )\n",
    "data_x, data_u = vdp_mathieu.generate_init_data(\n",
    "    n_traj=n_traj, traj_len=traj_len, seed_x=625, seed_param=521\n",
    ")\n",
    "data_y = vdp_mathieu.generate_next_data(data_x, data_u)"
   ]
  },
  {
   "cell_type": "code",
   "execution_count": 35,
   "metadata": {},
   "outputs": [],
   "source": [
    "# Reshape data to shape: (n_traj, traj_len, dim)\n",
    "data_x = data_x.reshape(traj_len, n_traj, target_dim).transpose(1, 0, 2)\n",
    "data_u = data_u.reshape(traj_len, n_traj, param_dim).transpose(1, 0, 2)\n",
    "data_y = data_y.reshape(traj_len, n_traj, target_dim).transpose(1, 0, 2)"
   ]
  },
  {
   "cell_type": "code",
   "execution_count": 36,
   "metadata": {},
   "outputs": [
    {
     "data": {
      "text/plain": [
       "(1000, 50, 2)"
      ]
     },
     "execution_count": 36,
     "metadata": {},
     "output_type": "execute_result"
    }
   ],
   "source": [
    "data_x.shape"
   ]
  },
  {
   "cell_type": "code",
   "execution_count": 41,
   "metadata": {},
   "outputs": [
    {
     "data": {
      "text/plain": [
       "Text(0, 0.5, '$x_2$')"
      ]
     },
     "execution_count": 41,
     "metadata": {},
     "output_type": "execute_result"
    },
    {
     "data": {
      "image/png": "[encoded data removed]",
      "text/plain": [
       "<Figure size 360x288 with 1 Axes>"
      ]
     },
     "metadata": {
      "needs_background": "light"
     },
     "output_type": "display_data"
    }
   ],
   "source": [
    "# Plot one trajectory\n",
    "plt.figure(figsize=(5, 4))\n",
    "plt.plot(data_x[0, :, 0], data_x[0, :, 1], \"o\")\n",
    "plt.xlabel(r\"$x_1$\")\n",
    "plt.ylabel(r\"$x_2$\")"
   ]
  },
  {
   "cell_type": "code",
   "execution_count": null,
   "metadata": {},
   "outputs": [],
   "source": []
  }
 ],
 "metadata": {
  "kernelspec": {
   "display_name": "pknn",
   "language": "python",
   "name": "python3"
  },
  "language_info": {
   "codemirror_mode": {
    "name": "ipython",
    "version": 3
   },
   "file_extension": ".py",
   "mimetype": "text/x-python",
   "name": "python",
   "nbconvert_exporter": "python",
   "pygments_lexer": "ipython3",
   "version": "3.8.8"
  }
 },
 "nbformat": 4,
 "nbformat_minor": 2
}
