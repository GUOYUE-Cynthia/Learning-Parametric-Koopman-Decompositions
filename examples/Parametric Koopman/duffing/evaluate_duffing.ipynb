{
 "cells": [
  {
   "cell_type": "code",
   "execution_count": 1,
   "metadata": {},
   "outputs": [],
   "source": [
    "import os; os.environ['CUDA_VISIBLE_DEVICES'] = '-1'"
   ]
  },
  {
   "cell_type": "code",
   "execution_count": 2,
   "metadata": {},
   "outputs": [],
   "source": [
    "%load_ext autoreload\n",
    "%autoreload 2"
   ]
  },
  {
   "cell_type": "code",
   "execution_count": 3,
   "metadata": {},
   "outputs": [],
   "source": [
    "import json\n",
    "import sys"
   ]
  },
  {
   "cell_type": "code",
   "execution_count": 4,
   "metadata": {},
   "outputs": [
    {
     "name": "stderr",
     "output_type": "stream",
     "text": [
      "2023-11-20 15:31:31.879256: I tensorflow/core/platform/cpu_feature_guard.cc:182] This TensorFlow binary is optimized to use available CPU instructions in performance-critical operations.\n",
      "To enable the following instructions: AVX2 AVX512F AVX512_VNNI FMA, in other operations, rebuild TensorFlow with the appropriate compiler flags.\n"
     ]
    }
   ],
   "source": [
    "import numpy as np\n",
    "import tensorflow as tf\n",
    "import matplotlib.pyplot as plt"
   ]
  },
  {
   "cell_type": "code",
   "execution_count": 5,
   "metadata": {},
   "outputs": [],
   "source": [
    "from koopmanlib.dictionary import PsiNN\n",
    "from koopmanlib.target import DuffingParamTarget"
   ]
  },
  {
   "cell_type": "code",
   "execution_count": 6,
   "metadata": {},
   "outputs": [],
   "source": [
    "from koopmanlib.functions import *"
   ]
  },
  {
   "cell_type": "code",
   "execution_count": 7,
   "metadata": {},
   "outputs": [],
   "source": [
    "config_file = 'config_duffing.json'"
   ]
  },
  {
   "cell_type": "code",
   "execution_count": 8,
   "metadata": {},
   "outputs": [],
   "source": [
    "with open(config_file, 'r') as f:\n",
    "    config = json.load(f)"
   ]
  },
  {
   "cell_type": "code",
   "execution_count": 9,
   "metadata": {},
   "outputs": [],
   "source": [
    "data_path = config['data_settings']['data_path']\n",
    "weights_path = config['nn_settings']['weights_path']"
   ]
  },
  {
   "cell_type": "code",
   "execution_count": 10,
   "metadata": {},
   "outputs": [],
   "source": [
    "n_total_data = config['data_settings']['n_total_data']\n",
    "\n",
    "# Number of the trajectories for each choice of parameters\n",
    "n_traj_per_param = config['data_settings']['n_traj_per_param']\n",
    "\n",
    "n_param = int(n_total_data / n_traj_per_param) # Number of choices of parameters\n",
    "traj_len = config['data_settings']['traj_len']\n",
    "dict_layer_size = config['nn_settings']['dict_layer_size']\n",
    "K_layer_size = config['nn_settings']['K_layer_size']\n",
    "n_psi_train = config['nn_settings']['n_psi_train']\n",
    "\n",
    "target_dim = 2\n",
    "param_dim = 3\n",
    "\n",
    "n_psi = 1 + target_dim + n_psi_train"
   ]
  },
  {
   "cell_type": "code",
   "execution_count": 11,
   "metadata": {},
   "outputs": [
    {
     "name": "stdout",
     "output_type": "stream",
     "text": [
      "n_param 10\n",
      "n_traj_per_param 1000\n"
     ]
    }
   ],
   "source": [
    "# The number of the data pairs is the multiplication of these three values\n",
    "print('n_param', n_param)\n",
    "print('n_traj_per_param', n_traj_per_param)"
   ]
  },
  {
   "cell_type": "code",
   "execution_count": 12,
   "metadata": {},
   "outputs": [],
   "source": [
    "# Load data\n",
    "dict_data = np.load(os.path.join(data_path,'duffing_data_n_param_'+str(n_param)+'_len_'+str(traj_len)+'_n_traj_per_'+str(n_traj_per_param)+'.npy'), allow_pickle=True)\n",
    "dict_data_sep = np.load(os.path.join(data_path,'duffing_data_sep_n_param_'+str(n_param)+'_len_'+str(traj_len)+'_n_traj_per_'+str(n_traj_per_param)+'.npy'), allow_pickle=True)\n",
    "\n",
    "data_x_sep = dict_data_sep[()]['data_x_sep']\n",
    "data_y_sep = dict_data_sep[()]['data_y_sep']\n",
    "data_u_sep = dict_data_sep[()]['data_u_sep']\n",
    "\n",
    "data_x = dict_data[()]['data_x']\n",
    "data_y = dict_data[()]['data_y']\n",
    "data_u = dict_data[()]['data_u']"
   ]
  },
  {
   "cell_type": "code",
   "execution_count": 13,
   "metadata": {},
   "outputs": [],
   "source": [
    "# Collect parameters in one list\n",
    "position = traj_len*n_traj_per_param * np.arange(0,n_param+1)\n",
    "data_u_list = [data_u[i] for i in position[:-1]]\n",
    "data_u_list = np.asarray(data_u_list)"
   ]
  },
  {
   "cell_type": "markdown",
   "metadata": {},
   "source": [
    "# Test over training parameter $u$"
   ]
  },
  {
   "cell_type": "code",
   "execution_count": 14,
   "metadata": {},
   "outputs": [],
   "source": [
    "traj_len_test = 50\n",
    "seed_x_test = 123"
   ]
  },
  {
   "cell_type": "markdown",
   "metadata": {},
   "source": [
    "## Set fixed x0 and parameter"
   ]
  },
  {
   "cell_type": "code",
   "execution_count": 15,
   "metadata": {},
   "outputs": [],
   "source": [
    "# Generate testing data\n",
    "duffing_test = DuffingParamTarget(dim=target_dim, param_dim=param_dim)"
   ]
  },
  {
   "cell_type": "markdown",
   "metadata": {},
   "source": [
    "## For EDMD-DL"
   ]
  },
  {
   "cell_type": "code",
   "execution_count": 16,
   "metadata": {},
   "outputs": [],
   "source": [
    "from koopmanlib.solver import KoopmanDLSolver"
   ]
  },
  {
   "cell_type": "code",
   "execution_count": 17,
   "metadata": {},
   "outputs": [],
   "source": [
    "def load_edmd_dl(data_x, data_y, index):\n",
    "    data_train = [data_x, data_y]\n",
    "    data_valid = [data_x, data_y]\n",
    "\n",
    "    basis_function = PsiNN(layer_sizes=dict_layer_size, n_psi_train=n_psi_train)\n",
    "\n",
    "    \n",
    "    solver = KoopmanDLSolver(dic=basis_function,\n",
    "                             target_dim=target_dim,\n",
    "                             reg=0.1)\n",
    "    \n",
    "    # Load weights\n",
    "    \n",
    "    solver.build(data_train=data_train,\n",
    "                 data_valid=data_valid,\n",
    "                 epochs=0,\n",
    "                 batch_size=5000,\n",
    "                 lr=1e-4,\n",
    "                 log_interval=20,\n",
    "                 lr_decay_factor=0.8)\n",
    "\n",
    "    solver.model.load_weights(os.path.join(weights_path, 'edmd_duffing_weights_data_'+str(index)+'_n_traj_per_param_'+str(n_traj_per_param)+'_n_param_'+str(n_param)+'.h5'))\n",
    "    solver.build(data_train=data_train,\n",
    "                 data_valid=data_valid,\n",
    "                 epochs=0,\n",
    "                 batch_size=5000,\n",
    "                 lr=1e-4,\n",
    "                 log_interval=20,\n",
    "                 lr_decay_factor=0.8)\n",
    "\n",
    "    return solver"
   ]
  },
  {
   "cell_type": "code",
   "execution_count": 18,
   "metadata": {},
   "outputs": [],
   "source": [
    "def compute_edmd_pred_data(solver, duffing_param, fixed_x0, fixed_param, traj_len, n_traj_per_param):\n",
    "    data_x_test, data_u_test = duffing_param.generate_fix_param_init_data(traj_len,\n",
    "                                                                          n_traj_per_param, \n",
    "                                                                          fixed_x0=fixed_x0, \n",
    "                                                                          fixed_param=fixed_param)\n",
    "    \n",
    "    # Estimated trajectory from DL\n",
    "    x0_test = data_x_test[0]\n",
    "    x0_test = x0_test.reshape(-1,x0_test.shape[-1])\n",
    "\n",
    "    x_est_traj_DL = solver.predict(x0_test, traj_len)\n",
    "    return data_x_test, x_est_traj_DL"
   ]
  },
  {
   "cell_type": "markdown",
   "metadata": {},
   "source": [
    "## For PK"
   ]
  },
  {
   "cell_type": "code",
   "execution_count": 20,
   "metadata": {},
   "outputs": [],
   "source": [
    "from koopmanlib.param_solver import KoopmanParametricDLSolver\n",
    "from tensorflow.keras.optimizers import Adam\n",
    "from koopmanlib.K_structure import Model_K_u_Layer\n",
    "\n",
    "dic_pk = PsiNN(layer_sizes=dict_layer_size, n_psi_train=n_psi_train)\n",
    "\n",
    "model_K_u = Model_K_u_Layer(layer_sizes=K_layer_size, \n",
    "                                n_psi=n_psi)\n",
    "\n",
    "solver_pk = KoopmanParametricDLSolver(\n",
    "    target_dim=target_dim, \n",
    "    param_dim=param_dim, \n",
    "    n_psi=n_psi, \n",
    "    dic=dic_pk, \n",
    "    model_K_u=model_K_u)\n",
    "\n",
    "model_pk, model_K_u_pred_pk = solver_pk.generate_model()\n",
    "\n",
    "model_pk.load_weights(os.path.join(weights_path,'pk_duffing_weights_data_'+str(n_traj_per_param)+'_n_param_'+str(n_param)+'.h5'))"
   ]
  },
  {
   "cell_type": "code",
   "execution_count": 21,
   "metadata": {},
   "outputs": [],
   "source": [
    "def compute_pk_data_list_fix_param(dic_func, model_K_u_pred, duffing_param, traj_len, n_traj_per_param, fixed_x0, fixed_param):\n",
    "    data_true_list = []\n",
    "    data_pred_list = []\n",
    "    \n",
    "    data_x, data_u = duffing_param.generate_fix_param_init_data(traj_len=traj_len,\n",
    "                                                                n_traj_per_param=n_traj_per_param,\n",
    "                                                                fixed_x0=fixed_x0,\n",
    "                                                                fixed_param=fixed_param)\n",
    "    print('u', data_u[0])\n",
    "    \n",
    "    B = dic_func.generate_B(data_x)\n",
    "    data_x_list = [data_x]\n",
    "\n",
    "    for _ in range(traj_len-1):\n",
    "        psi_x = dic_func(data_x_list[-1])\n",
    "        psi_y = model_K_u_pred([data_u, psi_x])\n",
    "        y_pred = psi_y @ B\n",
    "        data_x_list.append(y_pred)\n",
    "\n",
    "    data_x_list = np.asarray(data_x_list)\n",
    "\n",
    "    data_x_list_reshape = np.transpose(data_x_list, [1,0,2])\n",
    "\n",
    "    data_pred = data_x_list_reshape[0]\n",
    "\n",
    "    data_true_list.append(data_x)\n",
    "    data_pred_list.append(data_pred)\n",
    "\n",
    "    data_true_list = np.squeeze(np.asarray(data_true_list))\n",
    "    data_pred_list = np.squeeze(np.asarray(data_pred_list))\n",
    "    return data_true_list, data_pred_list"
   ]
  },
  {
   "cell_type": "code",
   "execution_count": 22,
   "metadata": {},
   "outputs": [],
   "source": [
    "np.random.seed(seed=625)\n",
    "n_sample = 10\n",
    "param_index_list = np.random.randint(0,n_param, size=(n_sample,))"
   ]
  },
  {
   "cell_type": "code",
   "execution_count": 23,
   "metadata": {},
   "outputs": [],
   "source": [
    "def compute_pred_error(param_index_list):\n",
    "\n",
    "    ratio_edmd_list = []\n",
    "    ratio_pk_list = []\n",
    "\n",
    "    for index in param_index_list:\n",
    "        fixed_param = data_u_list[index]\n",
    "\n",
    "        data_x_train = data_x_sep[index]\n",
    "        data_y_train = data_y_sep[index]\n",
    "        data_u_train = data_u_sep[index]\n",
    "        \n",
    "        fixed_x0 = data_x_train[0]\n",
    "        \n",
    "        \n",
    "        \n",
    "        solver = load_edmd_dl(data_x_train, data_y_train, index)\n",
    "        \n",
    "        \n",
    "\n",
    "        data_x_test_edmd_true, x_est_traj_DL_edmd = compute_edmd_pred_data(solver=solver, \n",
    "                                                                           duffing_param=duffing_test,\n",
    "                                                                           fixed_x0=fixed_x0, \n",
    "                                                                           fixed_param=fixed_param, \n",
    "                                                                           traj_len=traj_len_test,\n",
    "                                                                           n_traj_per_param=1)\n",
    "        \n",
    "\n",
    "        data_true_list_pk, data_pred_list_pk = compute_pk_data_list_fix_param(dic_func=dic_pk,\n",
    "                                                                              model_K_u_pred=model_K_u_pred_pk, \n",
    "                                                                              duffing_param=duffing_test, \n",
    "                                                                              traj_len=traj_len_test, \n",
    "                                                                              fixed_x0=fixed_x0, \n",
    "                                                                              fixed_param=fixed_param,\n",
    "                                                                              n_traj_per_param=1)\n",
    "\n",
    "\n",
    "\n",
    "\n",
    "        ratio_pk = compute_diff_ratio_one_traj(data_true_list_pk, data_pred_list_pk)\n",
    "        ratio_edmd = compute_diff_ratio_one_traj(data_true_list_pk, x_est_traj_DL_edmd)\n",
    "\n",
    "        ratio_edmd_list.append(ratio_edmd)\n",
    "        ratio_pk_list.append(ratio_pk)\n",
    "        \n",
    "    ratio_edmd_list = np.asarray(ratio_edmd_list)\n",
    "    ratio_pk_list = np.asarray(ratio_pk_list)\n",
    "    return ratio_edmd_list, ratio_pk_list"
   ]
  },
  {
   "cell_type": "code",
   "execution_count": 24,
   "metadata": {},
   "outputs": [
    {
     "name": "stdout",
     "output_type": "stream",
     "text": [
      "u [0.30233257 0.87064479 0.04331042]\n",
      "u [0.72032449 0.05185246 0.83259129]\n",
      "u [ 0.18626021  0.40929727 -1.49765876]\n",
      "u [ 0.39676747  0.59930935 -1.79413119]\n",
      "u [ 0.39676747  0.59930935 -1.79413119]\n",
      "u [0.72032449 0.05185246 0.83259129]\n",
      "u [ 0.18626021  0.40929727 -1.49765876]\n",
      "u [ 0.39676747  0.59930935 -1.79413119]\n",
      "u [ 1.14374817e-04  1.09932496e+00 -8.36381044e-01]\n",
      "u [ 0.18626021  0.40929727 -1.49765876]\n"
     ]
    }
   ],
   "source": [
    "train_ratio_edmd_list, train_ratio_pk_list = compute_pred_error(param_index_list)"
   ]
  },
  {
   "cell_type": "code",
   "execution_count": 25,
   "metadata": {},
   "outputs": [],
   "source": [
    "train_ratio_edmd_list_mean = np.mean(train_ratio_edmd_list, axis=0)\n",
    "train_ratio_pk_list_mean = np.mean(train_ratio_pk_list, axis=0)\n",
    "train_ratio_edmd_list_std = np.std(train_ratio_edmd_list, axis=0)\n",
    "train_ratio_pk_list_std = np.std(train_ratio_pk_list, axis=0)\n",
    "\n",
    "train_ratio_edmd_list_max = train_ratio_edmd_list_mean+train_ratio_edmd_list_std\n",
    "train_ratio_pk_list_max = train_ratio_pk_list_mean+train_ratio_pk_list_std\n",
    "train_ratio_edmd_list_min = train_ratio_edmd_list_mean-train_ratio_edmd_list_std\n",
    "train_ratio_pk_list_min = train_ratio_pk_list_mean-train_ratio_pk_list_std"
   ]
  },
  {
   "cell_type": "code",
   "execution_count": 26,
   "metadata": {},
   "outputs": [],
   "source": [
    "x_axis = np.arange(0,50,1)"
   ]
  },
  {
   "cell_type": "code",
   "execution_count": 27,
   "metadata": {},
   "outputs": [
    {
     "data": {
      "text/plain": [
       "(array([-0.002,  0.   ,  0.002,  0.004,  0.006,  0.008,  0.01 ,  0.012]),\n",
       " [Text(0, 0, ''),\n",
       "  Text(0, 0, ''),\n",
       "  Text(0, 0, ''),\n",
       "  Text(0, 0, ''),\n",
       "  Text(0, 0, ''),\n",
       "  Text(0, 0, ''),\n",
       "  Text(0, 0, ''),\n",
       "  Text(0, 0, '')])"
      ]
     },
     "execution_count": 27,
     "metadata": {},
     "output_type": "execute_result"
    },
    {
     "data": {
      "image/png": "[encoded data removed]",
      "text/plain": [
       "<Figure size 432x288 with 1 Axes>"
      ]
     },
     "metadata": {
      "needs_background": "light"
     },
     "output_type": "display_data"
    }
   ],
   "source": [
    "plt.figure(figsize=(6,4))\n",
    "plt.plot(train_ratio_pk_list_mean, label='Ours(train)', color='steelblue', linewidth=3)\n",
    "plt.fill_between(x_axis, np.maximum(0,train_ratio_pk_list_min), train_ratio_pk_list_max, color='lightsteelblue', alpha=0.5)\n",
    "\n",
    "plt.plot(train_ratio_edmd_list_mean, label='M1(train)', color='darkorange', linewidth=3)\n",
    "plt.fill_between(x_axis, np.maximum(0,train_ratio_edmd_list_min), train_ratio_edmd_list_max, color='navajowhite', alpha=0.5)\n",
    "\n",
    "\n",
    "plt.ticklabel_format(axis='y', style='sci', scilimits=(0,0))\n",
    "plt.gca().yaxis.get_offset_text().set_fontsize(18)\n",
    "\n",
    "plt.xlabel(r'$n$', fontsize=28)\n",
    "plt.ylabel('Error', fontsize=28)\n",
    "plt.xticks(fontsize=18)\n",
    "plt.yticks(fontsize=18)\n",
    "# plt.legend(fontsize=18)\n",
    "\n",
    "# plt.savefig(os.path.join(data_path, 'train_n_traj_per_param_'+str(n_traj_per_param)+'_n_param_'+str(n_param)+'.png'), dpi=200, bbox_inches='tight')\n",
    "# plt.savefig(os.path.join(data_path, 'train_n_traj_per_param_'+str(n_traj_per_param)+'_n_param_'+str(n_param)+'.pdf'), dpi=200, bbox_inches='tight')\n"
   ]
  },
  {
   "cell_type": "markdown",
   "metadata": {},
   "source": [
    "# Test over random parameter $u$"
   ]
  },
  {
   "cell_type": "code",
   "execution_count": 27,
   "metadata": {},
   "outputs": [],
   "source": [
    "from sklearn.neighbors import NearestNeighbors"
   ]
  },
  {
   "cell_type": "code",
   "execution_count": 28,
   "metadata": {},
   "outputs": [
    {
     "name": "stdout",
     "output_type": "stream",
     "text": [
      "param_random_list [[307 284 412]\n",
      " [193 150 136]\n",
      " [344 209 342]\n",
      " [ 24 338 262]\n",
      " [ 19 302 205]\n",
      " [ 68 397 444]\n",
      " [459  41 161]\n",
      " [466 174   2]\n",
      " [423 301 426]\n",
      " [238 372 279]]\n",
      "x_random_list [[ 47]\n",
      " [442]\n",
      " [148]\n",
      " [ 12]\n",
      " [425]\n",
      " [240]\n",
      " [127]\n",
      " [160]\n",
      " [465]\n",
      " [190]]\n"
     ]
    }
   ],
   "source": [
    "np.random.seed(seed=625)\n",
    "n_sample = 10\n",
    "param_random_list = np.random.randint(0,500,size=(n_sample,3))\n",
    "x_random_list = np.random.randint(0,500,size=(n_sample,1))\n",
    "print('param_random_list', param_random_list)\n",
    "print('x_random_list', x_random_list)"
   ]
  },
  {
   "cell_type": "code",
   "execution_count": 29,
   "metadata": {},
   "outputs": [],
   "source": [
    "def compute_nearest_pred_data(param_random_list, x_random_list):\n",
    "    # Generate testing data\n",
    "    \n",
    "    ratio_edmd_list = []\n",
    "    ratio_pk_list = []\n",
    "\n",
    "    for seed_param, seed_x in zip(param_random_list, x_random_list):\n",
    "    \n",
    "        data_x_test_random, data_u_test_random = duffing_test.generate_init_data(n_param=1, \n",
    "                                                                                 traj_len=traj_len_test,\n",
    "                                                                                 n_traj_per_param=1, \n",
    "                                                                                 seed_x=seed_x,\n",
    "                                                                                 seed_param=seed_param)\n",
    "        random_x0 = data_x_test_random[0]\n",
    "        query_u0 = data_u_test_random[0]\n",
    "        \n",
    "        query_u0 = query_u0.reshape(1,-1)\n",
    "\n",
    "        # Instantiate the NearestNeighbors class with k=1\n",
    "        knn = NearestNeighbors(n_neighbors=1)\n",
    "\n",
    "        # Fit the algorithm on the data\n",
    "        knn.fit(data_u_list)\n",
    "\n",
    "        # Query the nearest neighbor of a new point\n",
    "        distances, u_index = knn.kneighbors(query_u0)\n",
    "        \n",
    "        u_index = u_index[0][0]\n",
    "\n",
    "        fixed_param = data_u_list[u_index]\n",
    "        \n",
    "        data_x_train = data_x_sep[u_index]\n",
    "        data_y_train = data_y_sep[u_index]\n",
    "        data_u_train = data_u_sep[u_index]\n",
    "        \n",
    "        solver = load_edmd_dl(data_x_train, data_y_train, u_index)\n",
    "        \n",
    "        \n",
    "        data_x_test_edmd_true, x_est_traj_DL_edmd = compute_edmd_pred_data(solver=solver, \n",
    "                                                                           duffing_param=duffing_test,\n",
    "                                                                           traj_len=traj_len_test,\n",
    "                                                                           n_traj_per_param=1,\n",
    "                                                                           fixed_x0=random_x0, \n",
    "                                                                           fixed_param=fixed_param)\n",
    "        \n",
    "\n",
    "        data_true_list_pk, data_pred_list_pk = compute_pk_data_list_fix_param(dic_func=dic_pk,\n",
    "                                                                              model_K_u_pred=model_K_u_pred_pk, \n",
    "                                                                              duffing_param=duffing_test, \n",
    "                                                                              traj_len=traj_len_test, \n",
    "                                                                              n_traj_per_param=1,\n",
    "                                                                              fixed_x0=random_x0, \n",
    "                                                                              fixed_param=query_u0.reshape(-1,))\n",
    "\n",
    "        ratio_pk = compute_diff_ratio_one_traj(data_true_list_pk, data_pred_list_pk)\n",
    "        ratio_edmd = compute_diff_ratio_one_traj(data_true_list_pk, x_est_traj_DL_edmd)\n",
    "\n",
    "        ratio_edmd_list.append(ratio_edmd)\n",
    "        ratio_pk_list.append(ratio_pk)\n",
    "        \n",
    "    ratio_edmd_list = np.asarray(ratio_edmd_list)\n",
    "    ratio_pk_list = np.asarray(ratio_pk_list)\n",
    "    return ratio_edmd_list, ratio_pk_list"
   ]
  },
  {
   "cell_type": "code",
   "execution_count": 30,
   "metadata": {},
   "outputs": [
    {
     "name": "stdout",
     "output_type": "stream",
     "text": [
      "u [0.32063099 1.69175527 1.77986906]\n",
      "u [ 0.40198868  1.81716788 -1.38713625]\n",
      "u [ 0.31388584  1.68656765 -1.73986241]\n",
      "u [ 0.9600173   0.23507002 -0.4313882 ]\n",
      "u [0.0975336  1.27256242 1.84104282]\n",
      "u [0.25937147 0.42464114 1.35744419]\n",
      "u [0.37632303 0.50184725 1.76269442]\n",
      "u [ 0.42021199  0.92007747 -0.25602039]\n",
      "u [0.33713895 0.67456    1.48692911]\n",
      "u [0.0653385  0.45970737 0.34315017]\n"
     ]
    }
   ],
   "source": [
    "test_ratio_edmd_list, test_ratio_pk_list = compute_nearest_pred_data(param_random_list, x_random_list)"
   ]
  },
  {
   "cell_type": "code",
   "execution_count": 31,
   "metadata": {},
   "outputs": [],
   "source": [
    "test_ratio_edmd_list_mean = np.mean(test_ratio_edmd_list, axis=0)\n",
    "test_ratio_pk_list_mean = np.mean(test_ratio_pk_list, axis=0)\n",
    "test_ratio_edmd_list_std = np.std(test_ratio_edmd_list, axis=0)\n",
    "test_ratio_pk_list_std = np.std(test_ratio_pk_list, axis=0)\n",
    "\n",
    "test_ratio_edmd_list_max = test_ratio_edmd_list_mean+test_ratio_edmd_list_std\n",
    "test_ratio_pk_list_max = test_ratio_pk_list_mean+test_ratio_pk_list_std\n",
    "test_ratio_edmd_list_min = test_ratio_edmd_list_mean-test_ratio_edmd_list_std\n",
    "test_ratio_pk_list_min = test_ratio_pk_list_mean-test_ratio_pk_list_std"
   ]
  },
  {
   "cell_type": "code",
   "execution_count": 32,
   "metadata": {},
   "outputs": [
    {
     "data": {
      "image/png": "[encoded data removed]",
      "text/plain": [
       "<Figure size 432x288 with 1 Axes>"
      ]
     },
     "metadata": {
      "needs_background": "light"
     },
     "output_type": "display_data"
    }
   ],
   "source": [
    "plt.figure(figsize=(6,4))\n",
    "\n",
    "plt.plot(test_ratio_edmd_list_mean, label='M1(test)', color='darkorange', linewidth=3)\n",
    "plt.fill_between(x_axis, np.maximum(0,test_ratio_edmd_list_min), test_ratio_edmd_list_max, color='navajowhite', alpha=0.5)\n",
    "\n",
    "plt.plot(test_ratio_pk_list_mean, label='Ours(test)', color='steelblue', linewidth=3)\n",
    "plt.fill_between(x_axis, np.maximum(0,test_ratio_pk_list_min), test_ratio_pk_list_max, color='lightsteelblue', alpha=0.5)\n",
    "\n",
    "\n",
    "plt.ticklabel_format(axis='y', style='sci', scilimits=(0,0))\n",
    "plt.gca().yaxis.get_offset_text().set_fontsize(18)\n",
    "\n",
    "plt.xlabel(r'$n$', fontsize=28)\n",
    "plt.ylabel('Error', fontsize=28)\n",
    "plt.xticks(fontsize=18)\n",
    "plt.yticks(fontsize=18)\n",
    "# plt.legend(fontsize=18)\n",
    "\n",
    "# plt.savefig(os.path.join(data_path, 'test_n_traj_per_param_'+str(n_traj_per_param)+'_n_param_'+str(n_param)+'.png'), dpi=200, bbox_inches='tight')\n",
    "# plt.savefig(os.path.join(data_path, 'test_n_traj_per_param_'+str(n_traj_per_param)+'_n_param_'+str(n_param)+'.pdf'), dpi=200, bbox_inches='tight')\n",
    "\n",
    "\n"
   ]
  },
  {
   "cell_type": "markdown",
   "metadata": {},
   "source": [
    "# Save data"
   ]
  },
  {
   "cell_type": "code",
   "execution_count": 33,
   "metadata": {},
   "outputs": [],
   "source": [
    "dict_mean = {'pk_train': train_ratio_pk_list_mean,\n",
    "             'edmd_train': train_ratio_edmd_list_mean,\n",
    "             'pk_test':test_ratio_pk_list_mean,\n",
    "            'edmd_test':test_ratio_edmd_list_mean}"
   ]
  },
  {
   "cell_type": "code",
   "execution_count": 34,
   "metadata": {},
   "outputs": [],
   "source": [
    "dict_std = {'pk_train': train_ratio_pk_list_std,\n",
    "             'edmd_train': train_ratio_edmd_list_std,\n",
    "             'pk_test':test_ratio_pk_list_std,\n",
    "            'edmd_test':test_ratio_edmd_list_std}"
   ]
  },
  {
   "cell_type": "code",
   "execution_count": 35,
   "metadata": {},
   "outputs": [],
   "source": [
    "np.save(os.path.join(data_path, 'error_dict_n_traj_per_param_'+str(n_traj_per_param)+'_n_param_'+str(n_param)+'_mean.npy'), dict_mean)\n",
    "np.save(os.path.join(data_path, 'error_dict_n_traj_per_param_'+str(n_traj_per_param)+'_n_param_'+str(n_param)+'_std.npy'), dict_std)"
   ]
  },
  {
   "cell_type": "code",
   "execution_count": null,
   "metadata": {},
   "outputs": [],
   "source": []
  },
  {
   "cell_type": "markdown",
   "metadata": {},
   "source": [
    "# See comparison\n",
    "If you have tested on $\\nu_{1}: 1000, 500, 100$ and save the corresponding results, you can run the following codes to see the comparision of error of different parameter configuration."
   ]
  },
  {
   "cell_type": "code",
   "execution_count": 36,
   "metadata": {},
   "outputs": [],
   "source": [
    "n_traj_per_param_list = [1000, 500, 100]\n",
    "\n",
    "train_pk_mean = []\n",
    "train_edmd_mean = []\n",
    "test_pk_mean = []\n",
    "test_edmd_mean = []\n",
    "\n",
    "for n_traj_per_param in n_traj_per_param_list:\n",
    "    n_param = int(10000/n_traj_per_param)\n",
    "    dict_mean = np.load(os.path.join(data_path, 'error_dict_n_traj_per_param_'+str(n_traj_per_param)+'_n_param_'+str(n_param)+'_mean.npy'), allow_pickle=True)\n",
    "    dict_std = np.load(os.path.join(data_path, 'error_dict_n_traj_per_param_'+str(n_traj_per_param)+'_n_param_'+str(n_param)+'_std.npy'), allow_pickle=True)\n",
    "\n",
    "    train_ratio_pk_list_mean = dict_mean[()]['pk_train']\n",
    "    train_pk_mean.append(np.mean(train_ratio_pk_list_mean))\n",
    "\n",
    "    train_ratio_edmd_list_mean = dict_mean[()]['edmd_train']\n",
    "    train_edmd_mean.append(np.mean(train_ratio_edmd_list_mean))\n",
    "\n",
    "    test_ratio_pk_list_mean = dict_mean[()]['pk_test']\n",
    "    test_pk_mean.append(np.mean(test_ratio_pk_list_mean))\n",
    "\n",
    "    test_ratio_edmd_list_mean = dict_mean[()]['edmd_test']\n",
    "    test_edmd_mean.append(np.mean(test_ratio_edmd_list_mean))  "
   ]
  },
  {
   "cell_type": "code",
   "execution_count": 37,
   "metadata": {},
   "outputs": [],
   "source": [
    "def plot_evaluate_duffing(nu, mean, dict_plot):\n",
    "    plt.plot(nu, \n",
    "             mean, \n",
    "             label=dict_plot['label'],\n",
    "             marker=dict_plot['marker'], \n",
    "             markersize=dict_plot['markersize'], \n",
    "             color=dict_plot['color'],\n",
    "             linestyle=dict_plot['linestyle'],\n",
    "             linewidth=dict_plot['linewidth'])"
   ]
  },
  {
   "cell_type": "code",
   "execution_count": 38,
   "metadata": {},
   "outputs": [],
   "source": [
    "train_pk_mean = np.asarray(train_pk_mean)\n",
    "train_edmd_mean = np.asarray(train_edmd_mean)\n",
    "test_pk_mean = np.asarray(test_pk_mean)\n",
    "test_edmd_mean = np.asarray(test_edmd_mean)\n",
    "\n",
    "label_font = 24\n",
    "ticks_font = 18\n",
    "legend_font = 22"
   ]
  },
  {
   "cell_type": "code",
   "execution_count": 39,
   "metadata": {},
   "outputs": [],
   "source": [
    "nu = n_traj_per_param_list\n",
    "nu_xticks = ['(1000,10)', '(500,20)', '(100,100)']\n",
    "\n",
    "dict_plot_pk_train = {'label':'Ours (train)',\n",
    "                'marker':'*',\n",
    "                'markersize':10,\n",
    "                'color':'steelblue',\n",
    "                'linestyle':'--',\n",
    "                'linewidth':3\n",
    "               }\n",
    "dict_plot_pk_test = {'label':'Ours (test)',\n",
    "                'marker':'*',\n",
    "                'markersize':10,\n",
    "                'color':'steelblue',\n",
    "                'linestyle':'-',\n",
    "                'linewidth':3\n",
    "               }\n",
    "dict_plot_edmd_train = {'label':'M1 (train)',\n",
    "                'marker':'o',\n",
    "                'markersize':10,\n",
    "                'color':'darkorange',\n",
    "                'linestyle':'--',\n",
    "                'linewidth':3\n",
    "               }\n",
    "dict_plot_edmd_test = {'label':'M1 (test)',\n",
    "                'marker':'o',\n",
    "                'markersize':10,\n",
    "                'color':'darkorange',\n",
    "                'linestyle':'-',\n",
    "                'linewidth':3\n",
    "               }"
   ]
  },
  {
   "cell_type": "code",
   "execution_count": 41,
   "metadata": {},
   "outputs": [
    {
     "data": {
      "image/png": "[encoded data removed]",
      "text/plain": [
       "<Figure size 1080x288 with 1 Axes>"
      ]
     },
     "metadata": {
      "needs_background": "light"
     },
     "output_type": "display_data"
    }
   ],
   "source": [
    "plt.figure(figsize=(15,4))\n",
    "plot_evaluate_duffing(nu, train_pk_mean, dict_plot_pk_train)\n",
    "plot_evaluate_duffing(nu, train_edmd_mean, dict_plot_edmd_train)\n",
    "plot_evaluate_duffing(nu, test_pk_mean, dict_plot_pk_test)\n",
    "plot_evaluate_duffing(nu, test_edmd_mean, dict_plot_edmd_test)\n",
    "plt.xlabel(r'$(\\nu_{1}, \\nu_{2})$', labelpad=20, fontsize=label_font)\n",
    "plt.gca().xaxis.set_label_coords(1.1, -0.2)\n",
    "plt.ylabel('Error', fontsize=label_font)\n",
    "plt.xticks(nu, nu_xticks, fontsize=ticks_font)\n",
    "plt.yticks(fontsize=ticks_font)\n",
    "plt.gca().invert_xaxis()\n",
    "plt.yscale('log')\n",
    "plt.legend(fontsize=legend_font, loc=(1.02,0.0))\n",
    "\n",
    "# plt.savefig(os.path.join(data_path, 'duffing_comparison.png'), dpi=200, bbox_inches='tight')"
   ]
  },
  {
   "cell_type": "code",
   "execution_count": null,
   "metadata": {},
   "outputs": [],
   "source": []
  },
  {
   "cell_type": "code",
   "execution_count": null,
   "metadata": {},
   "outputs": [],
   "source": []
  }
 ],
 "metadata": {
  "kernelspec": {
   "display_name": "koopman",
   "language": "python",
   "name": "koopman"
  },
  "language_info": {
   "codemirror_mode": {
    "name": "ipython",
    "version": 3
   },
   "file_extension": ".py",
   "mimetype": "text/x-python",
   "name": "python",
   "nbconvert_exporter": "python",
   "pygments_lexer": "ipython3",
   "version": "3.8.3"
  }
 },
 "nbformat": 4,
 "nbformat_minor": 4
}
