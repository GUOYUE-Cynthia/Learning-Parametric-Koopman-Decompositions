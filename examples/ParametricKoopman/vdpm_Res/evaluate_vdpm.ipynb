{
 "cells": [
  {
   "cell_type": "code",
   "execution_count": null,
   "id": "a3902974",
   "metadata": {},
   "outputs": [],
   "source": [
    "import os\n",
    "\n",
    "os.environ[\"CUDA_VISIBLE_DEVICES\"] = \"-1\""
   ]
  },
  {
   "cell_type": "code",
   "execution_count": null,
   "id": "de85dd8b",
   "metadata": {},
   "outputs": [],
   "source": [
    "%load_ext autoreload\n",
    "%autoreload 2"
   ]
  },
  {
   "cell_type": "code",
   "execution_count": null,
   "id": "20eb0b2f",
   "metadata": {},
   "outputs": [],
   "source": [
    "import numpy as np\n",
    "import tensorflow as tf"
   ]
  },
  {
   "cell_type": "code",
   "execution_count": null,
   "id": "20434742",
   "metadata": {},
   "outputs": [],
   "source": [
    "import json\n",
    "import sys"
   ]
  },
  {
   "cell_type": "code",
   "execution_count": null,
   "id": "b57cf3bc",
   "metadata": {},
   "outputs": [],
   "source": [
    "from tensorflow.keras.layers import Dense, Input, Layer\n",
    "from tensorflow.keras.models import Model\n",
    "from tensorflow.keras.optimizers import Adam"
   ]
  },
  {
   "cell_type": "code",
   "execution_count": null,
   "id": "a68ff93e",
   "metadata": {},
   "outputs": [],
   "source": [
    "import matplotlib.pyplot as plt"
   ]
  },
  {
   "cell_type": "code",
   "execution_count": null,
   "id": "46c614f7",
   "metadata": {},
   "outputs": [],
   "source": [
    "from koopmanlib.dictionary import PsiNN\n",
    "from koopmanlib.param_solver import (\n",
    "    KoopmanBilinearDLSolver,\n",
    "    KoopmanLinearDLSolver,\n",
    "    KoopmanParametricDLSolver,\n",
    ")\n",
    "from koopmanlib.target import VanderPolMathieuTarget"
   ]
  },
  {
   "cell_type": "code",
   "execution_count": null,
   "id": "e707adcb",
   "metadata": {},
   "outputs": [],
   "source": [
    "config_file = \"config_vdpm.json\"\n",
    "\n",
    "with open(config_file, \"r\") as f:\n",
    "    config = json.load(f)\n",
    "\n",
    "data_path = config[\"data_settings\"][\"data_path\"]\n",
    "weights_path = config[\"nn_settings\"][\"weights_path\"]\n",
    "\n",
    "n_traj = config[\"data_settings\"][\"n_traj\"]\n",
    "traj_len = config[\"data_settings\"][\"traj_len\"]\n",
    "mu = config[\"data_settings\"][\"mu\"][0]\n",
    "\n",
    "n_psi_train = config[\"nn_settings\"][\"n_psi_train\"]\n",
    "dict_layer_size = config[\"nn_settings\"][\"dict_layer_size\"]\n",
    "K_layer_size = config[\"nn_settings\"][\"K_layer_size\"][0]"
   ]
  },
  {
   "cell_type": "code",
   "execution_count": null,
   "id": "d2d87a06",
   "metadata": {},
   "outputs": [],
   "source": [
    "dict_layer_size"
   ]
  },
  {
   "cell_type": "code",
   "execution_count": null,
   "id": "cd69951e",
   "metadata": {},
   "outputs": [],
   "source": [
    "print(\"mu\", mu)\n",
    "print(\"K_layer_size\", K_layer_size)"
   ]
  },
  {
   "cell_type": "code",
   "execution_count": null,
   "id": "3719b75b",
   "metadata": {},
   "outputs": [],
   "source": [
    "target_dim = 2\n",
    "param_dim = 1\n",
    "\n",
    "n_psi = 1 + target_dim + n_psi_train"
   ]
  },
  {
   "cell_type": "code",
   "execution_count": null,
   "id": "6db408fa",
   "metadata": {},
   "outputs": [],
   "source": [
    "# Set parameters in the vdpm equation.\n",
    "k1, k2, k4, w0 = 2, 2, 1, 1"
   ]
  },
  {
   "cell_type": "code",
   "execution_count": null,
   "id": "7ba3c3ca",
   "metadata": {},
   "outputs": [],
   "source": [
    "vdp_mathieu = VanderPolMathieuTarget(\n",
    "    mu=mu, dim=target_dim, param_dim=param_dim, k1=k1, k2=k2, k4=k4, w0=w0\n",
    ")"
   ]
  },
  {
   "cell_type": "code",
   "execution_count": null,
   "id": "a74259c0",
   "metadata": {},
   "outputs": [],
   "source": [
    "dic_pk = PsiNN(layer_sizes=dict_layer_size, n_psi_train=n_psi_train)"
   ]
  },
  {
   "cell_type": "code",
   "execution_count": null,
   "id": "2a59f6d0",
   "metadata": {},
   "outputs": [],
   "source": [
    "from koopmanlib.K_structure import Model_K_u_Layer_One\n",
    "\n",
    "model_K_u = Model_K_u_Layer_One(layer_sizes=K_layer_size, n_psi=n_psi, activation=\"tanh\")\n",
    "\n",
    "solver_pk = KoopmanParametricDLSolver(\n",
    "    target_dim=target_dim, param_dim=param_dim, n_psi=n_psi, dic=dic_pk, model_K_u=model_K_u\n",
    ")\n",
    "\n",
    "model_pk, model_K_u_pred_pk = solver_pk.generate_model()"
   ]
  },
  {
   "cell_type": "code",
   "execution_count": null,
   "id": "c23951cb",
   "metadata": {},
   "outputs": [],
   "source": [
    "model_pk.summary()"
   ]
  },
  {
   "cell_type": "code",
   "execution_count": null,
   "id": "0fa0c7db",
   "metadata": {},
   "outputs": [],
   "source": [
    "model_pk.load_weights(os.path.join(weights_path, \"model_pk_vdpm_mu_\" + str(mu) + \".h5\"))"
   ]
  },
  {
   "cell_type": "code",
   "execution_count": null,
   "id": "099b98b0",
   "metadata": {},
   "outputs": [],
   "source": [
    "# model_pk.get_layer('DicNN').trainable = False\n",
    "# for layer in solver_pk.model_K_u.hidden_layers:\n",
    "#     layer.trainable = False\n",
    "# solver_pk.model_K_u.output_layer.trainable = True\n",
    "# model_pk.load_weights(os.path.join(weights_path, 'train_dense_model_pk_vdpm_mu_'+str(mu)+'.h5'))"
   ]
  },
  {
   "cell_type": "markdown",
   "id": "81f0de77",
   "metadata": {},
   "source": [
    "# Linear Model: Dynamics is $Az +Bu$"
   ]
  },
  {
   "cell_type": "code",
   "execution_count": null,
   "id": "9ed53098",
   "metadata": {},
   "outputs": [],
   "source": [
    "dic_linear = PsiNN(layer_sizes=dict_layer_size, n_psi_train=n_psi_train)"
   ]
  },
  {
   "cell_type": "code",
   "execution_count": null,
   "id": "40ffb512",
   "metadata": {},
   "outputs": [],
   "source": [
    "solver_linear = KoopmanLinearDLSolver(\n",
    "    dic=dic_linear, target_dim=target_dim, param_dim=param_dim, n_psi=n_psi\n",
    ")\n",
    "model_linear = solver_linear.build_model()"
   ]
  },
  {
   "cell_type": "code",
   "execution_count": null,
   "id": "0f70e996",
   "metadata": {},
   "outputs": [],
   "source": [
    "model_linear.load_weights(os.path.join(weights_path, \"model_linear_vdpm_mu_\" + str(mu) + \".h5\"))"
   ]
  },
  {
   "cell_type": "markdown",
   "id": "782f7468",
   "metadata": {},
   "source": [
    "# Bilinear Model: Dynamics is $Az + \\sum_{i=1}^{N_{u}}B_{i}zu_{i}$"
   ]
  },
  {
   "cell_type": "code",
   "execution_count": null,
   "id": "c5bd98ae",
   "metadata": {},
   "outputs": [],
   "source": [
    "dic_bilinear = PsiNN(layer_sizes=dict_layer_size, n_psi_train=n_psi_train)"
   ]
  },
  {
   "cell_type": "code",
   "execution_count": null,
   "id": "cd36fbbc",
   "metadata": {},
   "outputs": [],
   "source": [
    "solver_bilinear = KoopmanBilinearDLSolver(\n",
    "    dic=dic_bilinear, target_dim=target_dim, param_dim=param_dim, n_psi=n_psi\n",
    ")\n",
    "model_bilinear = solver_bilinear.build_model()"
   ]
  },
  {
   "cell_type": "code",
   "execution_count": null,
   "id": "89896950",
   "metadata": {},
   "outputs": [],
   "source": [
    "model_bilinear.load_weights(\n",
    "    os.path.join(weights_path, \"model_bilinear_vdpm_mu_\" + str(mu) + \".h5\")\n",
    ")"
   ]
  },
  {
   "cell_type": "markdown",
   "id": "871ca98b",
   "metadata": {},
   "source": [
    "## Prediction"
   ]
  },
  {
   "cell_type": "code",
   "execution_count": null,
   "id": "fde1ce46",
   "metadata": {},
   "outputs": [],
   "source": [
    "from koopmanlib.functions import *"
   ]
  },
  {
   "cell_type": "markdown",
   "id": "4da3a1b9",
   "metadata": {},
   "source": [
    "## Calculate average value"
   ]
  },
  {
   "cell_type": "code",
   "execution_count": null,
   "id": "59ba4a25",
   "metadata": {},
   "outputs": [],
   "source": [
    "np.random.seed(625)\n",
    "n_test = 20\n",
    "seed_x_list = np.random.randint(1, 300, size=(n_test,))\n",
    "seed_param_list = np.random.randint(1, 300, size=(n_test,))\n",
    "n_traj_test = 1\n",
    "traj_len_test = 50"
   ]
  },
  {
   "cell_type": "code",
   "execution_count": null,
   "id": "991168ff",
   "metadata": {},
   "outputs": [],
   "source": [
    "ratio_pk_list = []\n",
    "ratio_linear_list = []\n",
    "ratio_bilinear_list = []"
   ]
  },
  {
   "cell_type": "code",
   "execution_count": null,
   "id": "b4dc73e3",
   "metadata": {},
   "outputs": [],
   "source": [
    "data_pred_list_pk_group = []\n",
    "data_pred_list_linear_group = []\n",
    "data_pred_list_bilinear_group = []\n",
    "data_true_group = []"
   ]
  },
  {
   "cell_type": "code",
   "execution_count": null,
   "id": "c29d21cf",
   "metadata": {},
   "outputs": [],
   "source": [
    "for seed_x, seed_param in zip(seed_x_list, seed_param_list):\n",
    "    vdp_mathieu_test = VanderPolMathieuTarget(\n",
    "        mu=mu, dim=target_dim, param_dim=param_dim, k1=k1, k2=k2, k4=k4, w0=w0\n",
    "    )\n",
    "\n",
    "    data_x_test, data_u_test = vdp_mathieu_test.generate_init_data(\n",
    "        n_traj=n_traj_test, traj_len=traj_len_test, seed_x=seed_x, seed_param=seed_param\n",
    "    )\n",
    "    data_x_init = tf.reshape(data_x_test[0], shape=(1, -1))\n",
    "    data_true = data_x_test\n",
    "\n",
    "    data_pred_list_pk = solver_pk.compute_data_list(traj_len_test, data_x_init, data_u_test)\n",
    "    data_pred_list_linear = solver_linear.compute_data_list(\n",
    "        traj_len=traj_len_test, data_x_init=data_x_init, data_u=data_u_test\n",
    "    )\n",
    "    data_pred_list_bilinear = solver_bilinear.compute_data_list(\n",
    "        traj_len=traj_len_test, data_x_init=data_x_init, data_u=data_u_test\n",
    "    )\n",
    "\n",
    "    ratio_pk = compute_diff_ratio_one_traj(data_true, data_pred_list_pk)\n",
    "    ratio_linear = compute_diff_ratio_one_traj(data_true, data_pred_list_linear)\n",
    "    ratio_bilinear = compute_diff_ratio_one_traj(data_true, data_pred_list_bilinear)\n",
    "\n",
    "    ratio_pk_list.append(ratio_pk)\n",
    "    ratio_linear_list.append(ratio_linear)\n",
    "    ratio_bilinear_list.append(ratio_bilinear)\n",
    "\n",
    "    data_pred_list_pk_group.append(data_pred_list_pk)\n",
    "    data_pred_list_linear_group.append(data_pred_list_linear)\n",
    "    data_pred_list_bilinear_group.append(data_pred_list_bilinear)\n",
    "    data_true_group.append(data_true)"
   ]
  },
  {
   "cell_type": "code",
   "execution_count": null,
   "id": "e8c70a6d",
   "metadata": {},
   "outputs": [],
   "source": [
    "plt.figure(figsize=(6, 5))\n",
    "plt.plot(\n",
    "    data_pred_list_pk[:, 0], data_pred_list_pk[:, 1], label=\"Ours\", color=\"steelblue\", linewidth=3\n",
    ")\n",
    "plt.plot(\n",
    "    data_pred_list_linear[:, 0],\n",
    "    data_pred_list_linear[:, 1],\n",
    "    label=\"M2\",\n",
    "    color=\"darkorange\",\n",
    "    linewidth=3,\n",
    ")\n",
    "plt.plot(\n",
    "    data_pred_list_bilinear[:, 0],\n",
    "    data_pred_list_bilinear[:, 1],\n",
    "    label=\"M3\",\n",
    "    color=\"forestgreen\",\n",
    "    linewidth=3,\n",
    ")\n",
    "plt.plot(\n",
    "    data_true[:, 0], data_true[:, 1], label=\"True\", color=\"brown\", linestyle=\"dashed\", linewidth=3\n",
    ")\n",
    "plt.xlabel(r\"$x_{1}$\", fontsize=28)\n",
    "plt.ylabel(r\"$x_{2}$\", fontsize=28)\n",
    "plt.xticks(fontsize=18)\n",
    "plt.yticks(fontsize=18)\n",
    "plt.legend(fontsize=18)"
   ]
  },
  {
   "cell_type": "code",
   "execution_count": null,
   "id": "a36e8965",
   "metadata": {},
   "outputs": [],
   "source": [
    "data_pred_list_pk_group = np.asarray(data_pred_list_pk_group)\n",
    "data_pred_list_linear_group = np.asarray(data_pred_list_linear_group)\n",
    "data_pred_list_bilinear_group = np.asarray(data_pred_list_bilinear_group)\n",
    "data_true_group = np.asarray(data_true_group)"
   ]
  },
  {
   "cell_type": "code",
   "execution_count": null,
   "id": "a6df8fe1",
   "metadata": {},
   "outputs": [],
   "source": [
    "for i in range(data_pred_list_pk_group.shape[0]):\n",
    "    plt.figure(figsize=(6, 5))\n",
    "    plt.plot(\n",
    "        data_pred_list_pk_group[i, :, 0],\n",
    "        data_pred_list_pk_group[i, :, 1],\n",
    "        label=\"Ours\",\n",
    "        color=\"steelblue\",\n",
    "        linewidth=3,\n",
    "    )\n",
    "    plt.plot(\n",
    "        data_pred_list_linear_group[i, :, 0],\n",
    "        data_pred_list_linear_group[i, :, 1],\n",
    "        label=\"M2\",\n",
    "        color=\"darkorange\",\n",
    "        linewidth=3,\n",
    "    )\n",
    "    plt.plot(\n",
    "        data_pred_list_bilinear_group[i, :, 0],\n",
    "        data_pred_list_bilinear_group[i, :, 1],\n",
    "        label=\"M3\",\n",
    "        color=\"forestgreen\",\n",
    "        linewidth=3,\n",
    "    )\n",
    "    plt.plot(\n",
    "        data_true_group[i, :, 0],\n",
    "        data_true_group[i, :, 1],\n",
    "        label=\"True\",\n",
    "        color=\"brown\",\n",
    "        linestyle=\"dashed\",\n",
    "        linewidth=3,\n",
    "    )\n",
    "    plt.xlabel(r\"$x_{1}$\", fontsize=28)\n",
    "    plt.ylabel(r\"$x_{2}$\", fontsize=28)\n",
    "    plt.xticks(fontsize=18)\n",
    "    plt.yticks(fontsize=18)\n",
    "    plt.legend(fontsize=18)"
   ]
  },
  {
   "cell_type": "code",
   "execution_count": null,
   "id": "343656b1",
   "metadata": {},
   "outputs": [],
   "source": [
    "ratio_pk_list = np.asarray(ratio_pk_list)\n",
    "ratio_linear_list = np.asarray(ratio_linear_list)\n",
    "ratio_bilinear_list = np.asarray(ratio_bilinear_list)"
   ]
  },
  {
   "cell_type": "code",
   "execution_count": null,
   "id": "90863088",
   "metadata": {},
   "outputs": [],
   "source": [
    "ratio_pk_list_mean = np.mean(ratio_pk_list, axis=0)\n",
    "ratio_linear_list_mean = np.mean(ratio_linear_list, axis=0)\n",
    "ratio_bilinear_list_mean = np.mean(ratio_bilinear_list, axis=0)"
   ]
  },
  {
   "cell_type": "code",
   "execution_count": null,
   "id": "5843294e",
   "metadata": {},
   "outputs": [],
   "source": [
    "ratio_pk_list_median = np.median(ratio_pk_list, axis=0)\n",
    "ratio_linear_list_median = np.median(ratio_linear_list, axis=0)\n",
    "ratio_bilinear_list_median = np.median(ratio_bilinear_list, axis=0)"
   ]
  },
  {
   "cell_type": "code",
   "execution_count": null,
   "id": "a99da91a",
   "metadata": {},
   "outputs": [],
   "source": [
    "q_min = 0.35\n",
    "q_max = 0.65"
   ]
  },
  {
   "cell_type": "code",
   "execution_count": null,
   "id": "30400bf9",
   "metadata": {},
   "outputs": [],
   "source": [
    "ratio_pk_list"
   ]
  },
  {
   "cell_type": "code",
   "execution_count": null,
   "id": "a97a2f25",
   "metadata": {},
   "outputs": [],
   "source": [
    "ratio_pk_list_min = np.quantile(ratio_pk_list, q=q_min, axis=0)\n",
    "ratio_linear_list_min = np.quantile(ratio_linear_list, q=q_min, axis=0)\n",
    "ratio_bilinear_list_min = np.quantile(ratio_bilinear_list, q=q_min, axis=0)"
   ]
  },
  {
   "cell_type": "code",
   "execution_count": null,
   "id": "d34f9a5c",
   "metadata": {},
   "outputs": [],
   "source": [
    "ratio_pk_list_max = np.quantile(ratio_pk_list, q=q_max, axis=0)\n",
    "ratio_linear_list_max = np.quantile(ratio_linear_list, q=q_max, axis=0)\n",
    "ratio_bilinear_list_max = np.quantile(ratio_bilinear_list, q=q_max, axis=0)"
   ]
  },
  {
   "cell_type": "code",
   "execution_count": null,
   "id": "b05843d9",
   "metadata": {},
   "outputs": [],
   "source": [
    "x_axis = np.arange(0, traj_len_test, 1)"
   ]
  },
  {
   "cell_type": "code",
   "execution_count": null,
   "id": "cb16eaf8",
   "metadata": {},
   "outputs": [],
   "source": [
    "plt.figure(figsize=(6, 4))\n",
    "\n",
    "plt.plot(ratio_pk_list_median, label=\"Ours\", color=\"steelblue\", linewidth=3)\n",
    "plt.fill_between(x_axis, ratio_pk_list_min, ratio_pk_list_max, color=\"lightsteelblue\", alpha=0.5)\n",
    "plt.plot(ratio_linear_list_median, label=\"M2\", color=\"darkorange\", linewidth=3)\n",
    "plt.fill_between(\n",
    "    x_axis, ratio_linear_list_min, ratio_linear_list_max, color=\"navajowhite\", alpha=0.5\n",
    ")\n",
    "plt.plot(ratio_bilinear_list_median, label=\"M3\", color=\"forestgreen\", linewidth=3)\n",
    "plt.fill_between(\n",
    "    x_axis, ratio_bilinear_list_min, ratio_bilinear_list_max, color=\"darkseagreen\", alpha=0.5\n",
    ")\n",
    "\n",
    "\n",
    "plt.ticklabel_format(axis=\"y\", style=\"sci\", scilimits=(0, 0))\n",
    "plt.gca().yaxis.get_offset_text().set_fontsize(18)\n",
    "\n",
    "plt.xlabel(r\"$n$\", fontsize=28)\n",
    "plt.ylabel(\"Error\", fontsize=28)\n",
    "plt.xticks(fontsize=18)\n",
    "plt.yticks(fontsize=18)\n",
    "plt.legend(fontsize=18)"
   ]
  },
  {
   "cell_type": "code",
   "execution_count": null,
   "id": "d791af51",
   "metadata": {},
   "outputs": [],
   "source": [
    "dict_mean = {\n",
    "    \"pk\": ratio_pk_list_mean,\n",
    "    \"linear\": ratio_linear_list_mean,\n",
    "    \"bilinear\": ratio_bilinear_list_mean,\n",
    "}"
   ]
  },
  {
   "cell_type": "code",
   "execution_count": null,
   "id": "451aa001",
   "metadata": {},
   "outputs": [],
   "source": []
  },
  {
   "cell_type": "code",
   "execution_count": null,
   "id": "46a386ad",
   "metadata": {},
   "outputs": [],
   "source": []
  },
  {
   "cell_type": "code",
   "execution_count": null,
   "id": "7302b6f2",
   "metadata": {},
   "outputs": [],
   "source": [
    "np.save(os.path.join(data_path, \"ratio_list_dict_mu_\" + str(mu) + \"_mean.npy\"), dict_mean)"
   ]
  },
  {
   "cell_type": "markdown",
   "id": "7153fe7f",
   "metadata": {},
   "source": [
    "# See the comparison\n",
    "If you have tested on all $\\mu: 0,1,2,3,4$, then you can run the following codes to see the comparison."
   ]
  },
  {
   "cell_type": "code",
   "execution_count": null,
   "id": "aa38bf34",
   "metadata": {},
   "outputs": [],
   "source": [
    "import matplotlib.pyplot as plt\n",
    "import numpy as np\n",
    "\n",
    "mean_dict_mu_0 = np.load(\n",
    "    os.path.join(data_path, \"ratio_list_dict_mu_0_mean.npy\"), allow_pickle=True\n",
    ")\n",
    "mean_dict_mu_1 = np.load(\n",
    "    os.path.join(data_path, \"ratio_list_dict_mu_1_mean.npy\"), allow_pickle=True\n",
    ")\n",
    "mean_dict_mu_2 = np.load(\n",
    "    os.path.join(data_path, \"ratio_list_dict_mu_2_mean.npy\"), allow_pickle=True\n",
    ")\n",
    "mean_dict_mu_3 = np.load(\n",
    "    os.path.join(data_path, \"ratio_list_dict_mu_3_mean.npy\"), allow_pickle=True\n",
    ")\n",
    "mean_dict_mu_4 = np.load(\n",
    "    os.path.join(data_path, \"ratio_list_dict_mu_4_mean.npy\"), allow_pickle=True\n",
    ")\n",
    "\n",
    "\n",
    "def extact_data(ratio_dict, ratio_name):\n",
    "    ratio_pk = ratio_dict[()][ratio_name[0]].reshape((1, -1))\n",
    "    ratio_linear = ratio_dict[()][ratio_name[1]].reshape((1, -1))\n",
    "    ratio_bilinear = ratio_dict[()][ratio_name[2]].reshape((1, -1))\n",
    "    return ratio_pk, ratio_linear, ratio_bilinear\n",
    "\n",
    "\n",
    "mean_dict_list = [mean_dict_mu_0, mean_dict_mu_1, mean_dict_mu_2, mean_dict_mu_3, mean_dict_mu_4]\n",
    "\n",
    "ratio_pk_list = []\n",
    "ratio_linear_list = []\n",
    "ratio_bilinear_list = []\n",
    "\n",
    "ratio_name_list = [\"pk\", \"linear\", \"bilinear\"]\n",
    "\n",
    "\n",
    "def concat_ratio_list(ratio_list):\n",
    "    ratio_concat = np.concatenate(ratio_list, axis=0)\n",
    "    ratio_concat = ratio_concat.T\n",
    "    return ratio_concat\n",
    "\n",
    "\n",
    "def concat_data(dict_list):\n",
    "    pk_list = []\n",
    "    linear_list = []\n",
    "    bilinear_list = []\n",
    "\n",
    "    for i in range(5):\n",
    "        pk, linear, bilinear = extact_data(dict_list[i], ratio_name=ratio_name_list)\n",
    "        pk_list.append(pk)\n",
    "        linear_list.append(linear)\n",
    "        bilinear_list.append(bilinear)\n",
    "\n",
    "    pk_concat = concat_ratio_list(pk_list)\n",
    "    linear_concat = concat_ratio_list(linear_list)\n",
    "    bilinear_concat = concat_ratio_list(bilinear_list)\n",
    "\n",
    "    return pk_concat, linear_concat, bilinear_concat\n",
    "\n",
    "\n",
    "mean_pk, mean_linear, mean_bilinear = concat_data(mean_dict_list)\n",
    "\n",
    "mean_linear_mean = np.mean(mean_linear, axis=0)\n",
    "mean_bilinear_mean = np.mean(mean_bilinear, axis=0)\n",
    "mean_pk_mean = np.mean(mean_pk, axis=0)\n",
    "\n",
    "mu = [0, 1, 2, 3, 4]\n",
    "mu_axis = list(range(len(mu)))\n",
    "\n",
    "\n",
    "def plot_evaluate_vdpm(mu, mean, dict_plot):\n",
    "    plt.plot(\n",
    "        mu,\n",
    "        mean,\n",
    "        label=dict_plot[\"label\"],\n",
    "        marker=dict_plot[\"marker\"],\n",
    "        markersize=dict_plot[\"markersize\"],\n",
    "        color=dict_plot[\"color\"],\n",
    "        linestyle=dict_plot[\"linestyle\"],\n",
    "        linewidth=dict_plot[\"linewidth\"],\n",
    "    )\n",
    "\n",
    "\n",
    "label_font = 24\n",
    "ticks_font = 18\n",
    "legend_font = 22\n",
    "\n",
    "\n",
    "dict_plot_pk = {\n",
    "    \"label\": \"Ours\",\n",
    "    \"marker\": \"*\",\n",
    "    \"markersize\": 10,\n",
    "    \"color\": \"steelblue\",\n",
    "    \"linestyle\": \"-\",\n",
    "    \"linewidth\": 3,\n",
    "}\n",
    "\n",
    "dict_plot_linear = {\n",
    "    \"label\": \"M2\",\n",
    "    \"marker\": \"s\",\n",
    "    \"markersize\": 10,\n",
    "    \"color\": \"darkorange\",\n",
    "    \"linestyle\": \"-\",\n",
    "    \"linewidth\": 3,\n",
    "}\n",
    "\n",
    "dict_plot_bilinear = {\n",
    "    \"label\": \"M3\",\n",
    "    \"marker\": \"o\",\n",
    "    \"markersize\": 10,\n",
    "    \"color\": \"forestgreen\",\n",
    "    \"linestyle\": \"-\",\n",
    "    \"linewidth\": 3,\n",
    "}\n",
    "\n",
    "plt.figure(figsize=(15, 4))\n",
    "plot_evaluate_vdpm(mu, mean_pk_mean, dict_plot=dict_plot_pk)\n",
    "plot_evaluate_vdpm(mu, mean_linear_mean, dict_plot=dict_plot_linear)\n",
    "\n",
    "plot_evaluate_vdpm(mu, mean_bilinear_mean, dict_plot=dict_plot_bilinear)\n",
    "\n",
    "plt.xlabel(r\"$\\mu$\", loc=\"right\", fontsize=label_font)\n",
    "plt.ylabel(\"Error\", fontsize=label_font)\n",
    "plt.xticks(mu_axis, mu, fontsize=ticks_font)\n",
    "plt.yticks(fontsize=ticks_font)\n",
    "plt.legend(fontsize=legend_font)"
   ]
  },
  {
   "cell_type": "code",
   "execution_count": null,
   "id": "0d5d9a91",
   "metadata": {},
   "outputs": [],
   "source": []
  }
 ],
 "metadata": {
  "kernelspec": {
   "display_name": "koopman",
   "language": "python",
   "name": "python3"
  },
  "language_info": {
   "codemirror_mode": {
    "name": "ipython",
    "version": 3
   },
   "file_extension": ".py",
   "mimetype": "text/x-python",
   "name": "python",
   "nbconvert_exporter": "python",
   "pygments_lexer": "ipython3",
   "version": "3.8.8"
  }
 },
 "nbformat": 4,
 "nbformat_minor": 5
}
