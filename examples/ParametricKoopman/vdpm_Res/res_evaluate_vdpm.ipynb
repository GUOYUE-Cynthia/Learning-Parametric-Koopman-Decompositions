{
 "cells": [
  {
   "cell_type": "code",
   "execution_count": 2,
   "id": "a3902974",
   "metadata": {},
   "outputs": [],
   "source": [
    "import os\n",
    "\n",
    "os.environ[\"CUDA_VISIBLE_DEVICES\"] = \"-1\""
   ]
  },
  {
   "cell_type": "code",
   "execution_count": 3,
   "id": "de85dd8b",
   "metadata": {},
   "outputs": [],
   "source": [
    "%load_ext autoreload\n",
    "%autoreload 2"
   ]
  },
  {
   "cell_type": "code",
   "execution_count": 4,
   "id": "20eb0b2f",
   "metadata": {},
   "outputs": [
    {
     "name": "stderr",
     "output_type": "stream",
     "text": [
      "2024-03-15 14:42:43.781711: I tensorflow/core/platform/cpu_feature_guard.cc:193] This TensorFlow binary is optimized with oneAPI Deep Neural Network Library (oneDNN) to use the following CPU instructions in performance-critical operations:  AVX2 AVX512F AVX512_VNNI FMA\n",
      "To enable them in other operations, rebuild TensorFlow with the appropriate compiler flags.\n",
      "2024-03-15 14:42:44.582078: I tensorflow/core/util/port.cc:104] oneDNN custom operations are on. You may see slightly different numerical results due to floating-point round-off errors from different computation orders. To turn them off, set the environment variable `TF_ENABLE_ONEDNN_OPTS=0`.\n",
      "2024-03-15 14:42:47.790058: W tensorflow/compiler/xla/stream_executor/platform/default/dso_loader.cc:64] Could not load dynamic library 'libnvinfer.so.7'; dlerror: libnvrtc.so.10.2: cannot open shared object file: No such file or directory\n",
      "2024-03-15 14:42:47.791181: W tensorflow/compiler/xla/stream_executor/platform/default/dso_loader.cc:64] Could not load dynamic library 'libnvinfer_plugin.so.7'; dlerror: libnvrtc.so.10.2: cannot open shared object file: No such file or directory\n",
      "2024-03-15 14:42:47.791277: W tensorflow/compiler/tf2tensorrt/utils/py_utils.cc:38] TF-TRT Warning: Cannot dlopen some TensorRT libraries. If you would like to use Nvidia GPU with TensorRT, please make sure the missing libraries mentioned above are installed properly.\n"
     ]
    }
   ],
   "source": [
    "import numpy as np\n",
    "import tensorflow as tf"
   ]
  },
  {
   "cell_type": "code",
   "execution_count": 5,
   "id": "20434742",
   "metadata": {},
   "outputs": [],
   "source": [
    "import json\n",
    "import sys"
   ]
  },
  {
   "cell_type": "code",
   "execution_count": 6,
   "id": "b57cf3bc",
   "metadata": {},
   "outputs": [],
   "source": [
    "from tensorflow.keras.layers import Dense, Input, Layer\n",
    "from tensorflow.keras.models import Model\n",
    "from tensorflow.keras.optimizers import Adam"
   ]
  },
  {
   "cell_type": "code",
   "execution_count": 7,
   "id": "a68ff93e",
   "metadata": {},
   "outputs": [],
   "source": [
    "import matplotlib.pyplot as plt"
   ]
  },
  {
   "cell_type": "code",
   "execution_count": 8,
   "id": "46c614f7",
   "metadata": {},
   "outputs": [],
   "source": [
    "from koopmanlib.dictionary import PsiNN\n",
    "from koopmanlib.param_solver import (\n",
    "    KoopmanBilinearDLSolver,\n",
    "    KoopmanLinearDLSolver,\n",
    "    KoopmanParametricDLSolver,\n",
    ")\n",
    "from koopmanlib.target import VanderPolMathieuTarget"
   ]
  },
  {
   "cell_type": "code",
   "execution_count": 9,
   "id": "e707adcb",
   "metadata": {},
   "outputs": [],
   "source": [
    "config_file = \"config_vdpm.json\"\n",
    "\n",
    "index = 0\n",
    "with open(config_file, \"r\") as f:\n",
    "    config = json.load(f)\n",
    "\n",
    "data_path = config[\"data_settings\"][\"data_path\"]\n",
    "weights_path = config[\"nn_settings\"][\"weights_path\"]\n",
    "\n",
    "n_traj = config[\"data_settings\"][\"n_traj\"]\n",
    "traj_len = config[\"data_settings\"][\"traj_len\"]\n",
    "mu = config[\"data_settings\"][\"mu\"][index]\n",
    "\n",
    "n_psi_train = config[\"nn_settings\"][\"n_psi_train\"]\n",
    "dict_layer_size = config[\"nn_settings\"][\"dict_layer_size\"]\n",
    "K_layer_size = config[\"nn_settings\"][\"K_layer_size\"][index]"
   ]
  },
  {
   "cell_type": "code",
   "execution_count": 10,
   "id": "d2d87a06",
   "metadata": {},
   "outputs": [
    {
     "data": {
      "text/plain": [
       "[64]"
      ]
     },
     "execution_count": 10,
     "metadata": {},
     "output_type": "execute_result"
    }
   ],
   "source": [
    "dict_layer_size"
   ]
  },
  {
   "cell_type": "code",
   "execution_count": 11,
   "id": "cd69951e",
   "metadata": {},
   "outputs": [
    {
     "name": "stdout",
     "output_type": "stream",
     "text": [
      "mu 0\n",
      "K_layer_size None\n"
     ]
    }
   ],
   "source": [
    "print(\"mu\", mu)\n",
    "print(\"K_layer_size\", K_layer_size)"
   ]
  },
  {
   "cell_type": "code",
   "execution_count": 12,
   "id": "3719b75b",
   "metadata": {},
   "outputs": [],
   "source": [
    "target_dim = 2\n",
    "param_dim = 1\n",
    "\n",
    "n_psi = 1 + target_dim + n_psi_train"
   ]
  },
  {
   "cell_type": "code",
   "execution_count": 13,
   "id": "fc8d2ef1",
   "metadata": {},
   "outputs": [
    {
     "data": {
      "text/plain": [
       "13"
      ]
     },
     "execution_count": 13,
     "metadata": {},
     "output_type": "execute_result"
    }
   ],
   "source": [
    "n_psi"
   ]
  },
  {
   "cell_type": "code",
   "execution_count": 14,
   "id": "6db408fa",
   "metadata": {},
   "outputs": [],
   "source": [
    "# Set parameters in the vdpm equation.\n",
    "k1, k2, k4, w0 = 2, 2, 1, 1"
   ]
  },
  {
   "cell_type": "code",
   "execution_count": 15,
   "id": "7ba3c3ca",
   "metadata": {},
   "outputs": [],
   "source": [
    "vdp_mathieu = VanderPolMathieuTarget(\n",
    "    mu=mu, dim=target_dim, param_dim=param_dim, k1=k1, k2=k2, k4=k4, w0=w0\n",
    ")"
   ]
  },
  {
   "cell_type": "code",
   "execution_count": 16,
   "id": "a74259c0",
   "metadata": {},
   "outputs": [],
   "source": [
    "dic_pk = PsiNN(layer_sizes=dict_layer_size, n_psi_train=n_psi_train)"
   ]
  },
  {
   "cell_type": "code",
   "execution_count": 17,
   "id": "2a59f6d0",
   "metadata": {},
   "outputs": [
    {
     "name": "stderr",
     "output_type": "stream",
     "text": [
      "2024-03-15 14:42:59.513973: E tensorflow/compiler/xla/stream_executor/cuda/cuda_driver.cc:267] failed call to cuInit: CUDA_ERROR_NO_DEVICE: no CUDA-capable device is detected\n",
      "2024-03-15 14:42:59.514092: I tensorflow/compiler/xla/stream_executor/cuda/cuda_diagnostics.cc:169] retrieving CUDA diagnostic information for host: neon\n",
      "2024-03-15 14:42:59.514098: I tensorflow/compiler/xla/stream_executor/cuda/cuda_diagnostics.cc:176] hostname: neon\n",
      "2024-03-15 14:42:59.514592: I tensorflow/compiler/xla/stream_executor/cuda/cuda_diagnostics.cc:200] libcuda reported version is: 470.239.6\n",
      "2024-03-15 14:42:59.514659: I tensorflow/compiler/xla/stream_executor/cuda/cuda_diagnostics.cc:204] kernel reported version is: 470.239.6\n",
      "2024-03-15 14:42:59.514665: I tensorflow/compiler/xla/stream_executor/cuda/cuda_diagnostics.cc:310] kernel version seems to match DSO: 470.239.6\n",
      "2024-03-15 14:42:59.515955: I tensorflow/core/platform/cpu_feature_guard.cc:193] This TensorFlow binary is optimized with oneAPI Deep Neural Network Library (oneDNN) to use the following CPU instructions in performance-critical operations:  AVX2 AVX512F AVX512_VNNI FMA\n",
      "To enable them in other operations, rebuild TensorFlow with the appropriate compiler flags.\n"
     ]
    }
   ],
   "source": [
    "from koopmanlib.K_structure import Model_ResNet_K_u_Layer_One\n",
    "\n",
    "model_K_u = Model_ResNet_K_u_Layer_One(layer_sizes=K_layer_size, n_psi=n_psi, activation=\"tanh\")\n",
    "\n",
    "solver_pk = KoopmanParametricDLSolver(\n",
    "    target_dim=target_dim, param_dim=param_dim, n_psi=n_psi, dic=dic_pk, model_K_u=model_K_u\n",
    ")\n",
    "\n",
    "model_pk, model_K_u_pred_pk = solver_pk.generate_model()"
   ]
  },
  {
   "cell_type": "code",
   "execution_count": 18,
   "id": "c23951cb",
   "metadata": {},
   "outputs": [
    {
     "name": "stdout",
     "output_type": "stream",
     "text": [
      "Model: \"model\"\n",
      "__________________________________________________________________________________________________\n",
      " Layer (type)                   Output Shape         Param #     Connected to                     \n",
      "==================================================================================================\n",
      " input_3 (InputLayer)           [(None, 2)]          0           []                               \n",
      "                                                                                                  \n",
      " tf.slice (TFOpLambda)          (None, 1)            0           ['input_3[0][0]']                \n",
      "                                                                                                  \n",
      " input_4 (InputLayer)           [(None, 2)]          0           []                               \n"
     ]
    },
    {
     "name": "stdout",
     "output_type": "stream",
     "text": [
      "                                                                                                  \n",
      " tf.ones_like (TFOpLambda)      (None, 1)            0           ['tf.slice[0][0]']               \n",
      "                                                                                                  \n",
      " DicNN (DicNN)                  (None, 10)           4938        ['input_3[0][0]',                \n",
      "                                                                  'input_4[0][0]']                \n",
      "                                                                                                  \n",
      " tf.slice_1 (TFOpLambda)        (None, 1)            0           ['input_4[0][0]']                \n",
      "                                                                                                  \n",
      " input_5 (InputLayer)           [(None, 1)]          0           []                               \n",
      "                                                                                                  \n",
      " concatenate (Concatenate)      (None, 13)           0           ['tf.ones_like[0][0]',           \n",
      "                                                                  'input_3[0][0]',                \n",
      "                                                                  'DicNN[0][0]']                  \n",
      "                                                                                                  \n",
      " tf.ones_like_1 (TFOpLambda)    (None, 1)            0           ['tf.slice_1[0][0]']             \n",
      "                                                                                                  \n",
      " K_u_pred (Functional)          (None, 13)           312         ['input_5[0][0]',                \n",
      "                                                                  'concatenate[0][0]']            \n",
      "                                                                                                  \n",
      " concatenate_1 (Concatenate)    (None, 13)           0           ['tf.ones_like_1[0][0]',         \n",
      "                                                                  'input_4[0][0]',                \n",
      "                                                                  'DicNN[1][0]']                  \n",
      "                                                                                                  \n",
      " tf.math.subtract (TFOpLambda)  (None, 13)           0           ['K_u_pred[0][0]',               \n",
      "                                                                  'concatenate_1[0][0]']          \n",
      "                                                                                                  \n",
      "==================================================================================================\n",
      "Total params: 5,250\n",
      "Trainable params: 5,250\n",
      "Non-trainable params: 0\n",
      "__________________________________________________________________________________________________\n"
     ]
    }
   ],
   "source": [
    "model_pk.summary()"
   ]
  },
  {
   "cell_type": "code",
   "execution_count": 19,
   "id": "0fa0c7db",
   "metadata": {},
   "outputs": [],
   "source": [
    "model_pk.load_weights(os.path.join(weights_path, \"model_pk_vdpm_mu_\" + str(mu) + \".h5\"))"
   ]
  },
  {
   "cell_type": "code",
   "execution_count": 20,
   "id": "099b98b0",
   "metadata": {},
   "outputs": [],
   "source": [
    "# model_pk.get_layer('DicNN').trainable = False\n",
    "# for layer in solver_pk.model_K_u.hidden_layers:\n",
    "#     layer.trainable = False\n",
    "# solver_pk.model_K_u.output_layer.trainable = True\n",
    "# model_pk.load_weights(os.path.join(weights_path, 'train_dense_model_pk_vdpm_mu_'+str(mu)+'.h5'))"
   ]
  },
  {
   "cell_type": "markdown",
   "id": "81f0de77",
   "metadata": {},
   "source": [
    "# Linear Model: Dynamics is $Az +Bu$"
   ]
  },
  {
   "cell_type": "code",
   "execution_count": 21,
   "id": "9ed53098",
   "metadata": {},
   "outputs": [],
   "source": [
    "dic_linear = PsiNN(layer_sizes=dict_layer_size, n_psi_train=n_psi_train)"
   ]
  },
  {
   "cell_type": "code",
   "execution_count": 22,
   "id": "40ffb512",
   "metadata": {},
   "outputs": [],
   "source": [
    "solver_linear = KoopmanLinearDLSolver(\n",
    "    dic=dic_linear, target_dim=target_dim, param_dim=param_dim, n_psi=n_psi\n",
    ")\n",
    "model_linear, model_K_u_pred_linear = solver_linear.build_model()"
   ]
  },
  {
   "cell_type": "code",
   "execution_count": 23,
   "id": "0f70e996",
   "metadata": {},
   "outputs": [],
   "source": [
    "model_linear.load_weights(os.path.join(weights_path, \"model_linear_vdpm_mu_\" + str(mu) + \".h5\"))"
   ]
  },
  {
   "cell_type": "markdown",
   "id": "782f7468",
   "metadata": {},
   "source": [
    "# Bilinear Model: Dynamics is $Az + \\sum_{i=1}^{N_{u}}B_{i}zu_{i}$"
   ]
  },
  {
   "cell_type": "code",
   "execution_count": 24,
   "id": "c5bd98ae",
   "metadata": {},
   "outputs": [],
   "source": [
    "dic_bilinear = PsiNN(layer_sizes=dict_layer_size, n_psi_train=n_psi_train)"
   ]
  },
  {
   "cell_type": "code",
   "execution_count": 25,
   "id": "cd36fbbc",
   "metadata": {},
   "outputs": [],
   "source": [
    "solver_bilinear = KoopmanBilinearDLSolver(\n",
    "    dic=dic_bilinear, target_dim=target_dim, param_dim=param_dim, n_psi=n_psi\n",
    ")\n",
    "model_bilinear, model_K_u_pred_bilinear = solver_bilinear.build_model()"
   ]
  },
  {
   "cell_type": "code",
   "execution_count": 26,
   "id": "89896950",
   "metadata": {},
   "outputs": [],
   "source": [
    "model_bilinear.load_weights(\n",
    "    os.path.join(weights_path, \"model_bilinear_vdpm_mu_\" + str(mu) + \".h5\")\n",
    ")"
   ]
  },
  {
   "cell_type": "code",
   "execution_count": 27,
   "id": "f8082621",
   "metadata": {},
   "outputs": [
    {
     "name": "stdout",
     "output_type": "stream",
     "text": [
      "Model: \"K_u_bilinear_pred\"\n",
      "__________________________________________________________________________________________________\n",
      " Layer (type)                   Output Shape         Param #     Connected to                     \n",
      "==================================================================================================\n",
      " input_12 (InputLayer)          [(None, 13)]         0           []                               \n",
      "                                                                                                  \n",
      " input_11 (InputLayer)          [(None, 1)]          0           []                               \n",
      "                                                                                                  \n",
      " tf.einsum (TFOpLambda)         (1, None, 13)        0           ['input_12[0][0]',               \n",
      "                                                                  'input_11[0][0]']               \n",
      "                                                                                                  \n",
      " tf.__operators__.getitem (Slic  (None, 13)          0           ['tf.einsum[0][0]']              \n",
      " ingOpLambda)                                                                                     \n",
      "                                                                                                  \n",
      " tf.identity (TFOpLambda)       (None, 13)           0           ['tf.__operators__.getitem[0][0]'\n",
      "                                                                 ]                                \n",
      "                                                                                                  \n",
      " Layer_A (Dense)                (None, 13)           169         ['input_12[0][0]']               \n",
      "                                                                                                  \n",
      " Layer_B (Dense)                (None, 13)           169         ['tf.identity[0][0]']            \n",
      "                                                                                                  \n",
      " tf.__operators__.add_1 (TFOpLa  (None, 13)          0           ['Layer_A[0][0]',                \n",
      " mbda)                                                            'Layer_B[0][0]']                \n",
      "                                                                                                  \n",
      "==================================================================================================\n",
      "Total params: 338\n",
      "Trainable params: 0\n",
      "Non-trainable params: 338\n",
      "__________________________________________________________________________________________________\n"
     ]
    }
   ],
   "source": [
    "model_K_u_pred_bilinear.summary()"
   ]
  },
  {
   "cell_type": "code",
   "execution_count": 28,
   "id": "da40a1a5",
   "metadata": {},
   "outputs": [],
   "source": [
    "dict_data = np.load(\n",
    "        os.path.join(data_path, \"vdpm_data_mu_\" + str(mu) + \".npy\"), allow_pickle=True\n",
    "    )\n",
    "\n",
    "data_x = dict_data[()][\"data_x\"]\n",
    "data_y = dict_data[()][\"data_y\"]\n",
    "data_u = dict_data[()][\"data_u\"]"
   ]
  },
  {
   "cell_type": "code",
   "execution_count": 29,
   "id": "bdc54818",
   "metadata": {},
   "outputs": [
    {
     "data": {
      "text/plain": [
       "(50000, 2)"
      ]
     },
     "execution_count": 29,
     "metadata": {},
     "output_type": "execute_result"
    }
   ],
   "source": [
    "data_x.shape"
   ]
  },
  {
   "cell_type": "code",
   "execution_count": null,
   "id": "148464b3",
   "metadata": {},
   "outputs": [],
   "source": []
  },
  {
   "cell_type": "markdown",
   "id": "aa8c252f",
   "metadata": {},
   "source": [
    "<!-- # Train PK-NN using data generated from Bi-linear model\n",
    "dict_data = np.load(\n",
    "        os.path.join(data_path, \"vdpm_data_mu_\" + str(mu) + \".npy\"), allow_pickle=True\n",
    "    )\n",
    "\n",
    "data_x = dict_data[()][\"data_x\"]\n",
    "data_y = dict_data[()][\"data_y\"]\n",
    "data_u = dict_data[()][\"data_u\"]\n",
    "\n",
    "print(\"data_x.shape = \", data_x.shape)\n",
    "data_y_bilinear = []\n",
    "for data_x_single, data_u_single in zip(data_x, data_u):\n",
    "    data_y_bilinear_single = solver_bilinear.compute_data_list(\n",
    "            traj_len=2, data_x_init=data_x_single, data_u=data_u_single\n",
    "        )\n",
    "    data_y_bilinear.append(data_y_bilinear_single[-1])\n",
    "\n",
    "data_y_bilinear = np.array(data_y_bilinear)\n",
    "data_y_bilinear.shape\n",
    "# PK-NN\n",
    "dic_pk = PsiNN(layer_sizes=dict_layer_size, n_psi_train=n_psi_train)\n",
    "from koopmanlib.K_structure import Model_K_u_Layer, Model_ResNet_K_u_Layer_One\n",
    "\n",
    "model_K_u = Model_ResNet_K_u_Layer_One(layer_sizes=K_layer_size, n_psi=n_psi, activation=\"tanh\")\n",
    "\n",
    "solver_pk = KoopmanParametricDLSolver(\n",
    "    target_dim=target_dim, param_dim=param_dim, n_psi=n_psi, dic=dic_pk, model_K_u=model_K_u\n",
    ")\n",
    "\n",
    "model_pk, model_K_u_pred_pk = solver_pk.generate_model()\n",
    "\n",
    "\n",
    "model_pk.compile(optimizer=Adam(0.001), loss=\"mse\")\n",
    "\n",
    "lr_callback = tf.keras.callbacks.ReduceLROnPlateau(\n",
    "    monitor=\"loss\",\n",
    "    factor=0.1,\n",
    "    patience=100,\n",
    "    verbose=0,\n",
    "    mode=\"auto\",\n",
    "    min_delta=1e-4,\n",
    "    cooldown=0,\n",
    "    min_lr=1e-6,\n",
    ")\n",
    "\n",
    "# Define the early stopping criteria\n",
    "es_callback = tf.keras.callbacks.EarlyStopping(\n",
    "    monitor=\"val_loss\", min_delta=1e-12, patience=50, verbose=1, mode=\"auto\"\n",
    ")\n",
    "\n",
    "checkpoint_callback = tf.keras.callbacks.ModelCheckpoint(\n",
    "    filepath=os.path.join(weights_path, \"model_pk_vdpm_mu_\" + str(mu) + \".h5\"),\n",
    "    monitor=\"val_loss\",\n",
    "    save_best_only=True,\n",
    "    save_weights_only=True,\n",
    "    mode=\"min\",\n",
    "    save_freq=\"epoch\",\n",
    ")\n",
    "\n",
    "from tqdm.keras import TqdmCallback\n",
    "# Define the TqdmCallback for progress bar\n",
    "tqdm_callback = TqdmCallback(verbose=1)\n",
    "\n",
    "# Add early_stopping to the list of callbacks\n",
    "callbacks = [lr_callback, checkpoint_callback, tqdm_callback]\n",
    "\n",
    "zeros_data_y_train = tf.zeros_like(dic_pk(data_y_bilinear))\n",
    "\n",
    "\n",
    "history = model_pk.fit(\n",
    "    x=[data_x, data_y_bilinear, data_u],\n",
    "    y=zeros_data_y_train,\n",
    "    validation_split=0.2,\n",
    "    epochs=1000,\n",
    "    batch_size=200,\n",
    "    callbacks=callbacks,\n",
    "    verbose=0,\n",
    ")\n",
    "data_pk_pred_from_bilinear = model_pk([data_x, data_y_bilinear, data_u])\n",
    "data_y_pk_fake = []\n",
    "for data_x_single, data_u_single in zip(data_x, data_u):\n",
    "    data_y_pk_fake_single = solver_pk.compute_data_list(\n",
    "            traj_len=2, data_x_init=data_x_single, data_u=data_u_single\n",
    "        )\n",
    "    data_y_pk_fake.append(data_y_pk_fake_single[-1])\n",
    "\n",
    "data_y_pk_fake = np.array(data_y_pk_fake)\n",
    "data_y_pk_fake - data_y_bilinear\n",
    "data_y_pk_fake - data_y -->"
   ]
  },
  {
   "cell_type": "code",
   "execution_count": 30,
   "id": "4c330a14",
   "metadata": {},
   "outputs": [],
   "source": [
    "\n",
    "\n",
    "# # Train K(u) to be (A+Bu)\n",
    "# psi_x_data = dic_bilinear(data_x)\n",
    "# target = model_K_u_pred_bilinear([data_u, psi_x_data])\n",
    "# inputs_u = Input(shape=(param_dim,))\n",
    "# inputs_psi_x = Input(shape=(n_psi,))\n",
    "\n",
    "# fake_psi = model_K_u_pred_pk([inputs_u, inputs_psi_x])\n",
    "\n",
    "# test_K_model = Model(inputs=[inputs_u, inputs_psi_x], outputs=fake_psi)\n",
    "\n",
    "# test_K_model.compile(optimizer=Adam(0.000001), loss=\"mse\")\n",
    "# test_K_model.fit(x=[data_u, psi_x_data], y=target, epochs=500, batch_size=200, verbose=1)\n",
    "# dic_pk.set_weights(dic_bilinear.get_weights())\n",
    "\n"
   ]
  },
  {
   "cell_type": "code",
   "execution_count": null,
   "id": "a2fe4211",
   "metadata": {},
   "outputs": [],
   "source": []
  },
  {
   "cell_type": "markdown",
   "id": "871ca98b",
   "metadata": {},
   "source": [
    "## Prediction"
   ]
  },
  {
   "cell_type": "code",
   "execution_count": 31,
   "id": "fde1ce46",
   "metadata": {},
   "outputs": [],
   "source": [
    "from koopmanlib.functions import *"
   ]
  },
  {
   "cell_type": "markdown",
   "id": "4da3a1b9",
   "metadata": {},
   "source": [
    "## Calculate average value"
   ]
  },
  {
   "cell_type": "code",
   "execution_count": 64,
   "id": "59ba4a25",
   "metadata": {},
   "outputs": [],
   "source": [
    "np.random.seed(625)\n",
    "n_test = 10\n",
    "seed_x_list = np.random.randint(1, 300, size=(n_test,))\n",
    "seed_param_list = np.random.randint(1, 300, size=(n_test,))\n",
    "n_traj_test = 1\n",
    "traj_len_test = 50"
   ]
  },
  {
   "cell_type": "code",
   "execution_count": 65,
   "id": "991168ff",
   "metadata": {},
   "outputs": [],
   "source": [
    "ratio_pk_list = []\n",
    "ratio_linear_list = []\n",
    "ratio_bilinear_list = []"
   ]
  },
  {
   "cell_type": "code",
   "execution_count": 66,
   "id": "b4dc73e3",
   "metadata": {},
   "outputs": [],
   "source": [
    "data_pred_list_pk_group = []\n",
    "data_pred_list_linear_group = []\n",
    "data_pred_list_bilinear_group = []\n",
    "data_true_group = []"
   ]
  },
  {
   "cell_type": "code",
   "execution_count": 67,
   "id": "c29d21cf",
   "metadata": {},
   "outputs": [],
   "source": [
    "for seed_x, seed_param in zip(seed_x_list, seed_param_list):\n",
    "    vdp_mathieu_test = VanderPolMathieuTarget(\n",
    "        mu=mu, dim=target_dim, param_dim=param_dim, k1=k1, k2=k2, k4=k4, w0=w0\n",
    "    )\n",
    "\n",
    "    data_x_test, data_u_test = vdp_mathieu_test.generate_init_data(\n",
    "        n_traj=n_traj_test, traj_len=traj_len_test, seed_x=seed_x, seed_param=seed_param\n",
    "    )\n",
    "    data_x_init = tf.reshape(data_x_test[0], shape=(1, -1))\n",
    "    data_true = data_x_test\n",
    "\n",
    "    data_pred_list_pk = solver_pk.compute_data_list(traj_len_test, data_x_init, data_u_test)\n",
    "    data_pred_list_linear = solver_linear.compute_data_list(\n",
    "        traj_len=traj_len_test, data_x_init=data_x_init, data_u=data_u_test\n",
    "    )\n",
    "    data_pred_list_bilinear = solver_bilinear.compute_data_list(\n",
    "        traj_len=traj_len_test, data_x_init=data_x_init, data_u=data_u_test\n",
    "    )\n",
    "\n",
    "    ratio_pk = compute_diff_ratio_one_traj(data_true, data_pred_list_pk)\n",
    "    ratio_linear = compute_diff_ratio_one_traj(data_true, data_pred_list_linear)\n",
    "    ratio_bilinear = compute_diff_ratio_one_traj(data_true, data_pred_list_bilinear)\n",
    "\n",
    "    ratio_pk_list.append(ratio_pk)\n",
    "    ratio_linear_list.append(ratio_linear)\n",
    "    ratio_bilinear_list.append(ratio_bilinear)\n",
    "\n",
    "    data_pred_list_pk_group.append(data_pred_list_pk)\n",
    "    data_pred_list_linear_group.append(data_pred_list_linear)\n",
    "    data_pred_list_bilinear_group.append(data_pred_list_bilinear)\n",
    "    data_true_group.append(data_true)"
   ]
  },
  {
   "cell_type": "code",
   "execution_count": 68,
   "id": "e8c70a6d",
   "metadata": {},
   "outputs": [
    {
     "data": {
      "text/plain": [
       "<matplotlib.legend.Legend at 0x7f0968132250>"
      ]
     },
     "execution_count": 68,
     "metadata": {},
     "output_type": "execute_result"
    },
    {
     "data": {
      "image/png": "[encoded data removed]",
      "text/plain": [
       "<Figure size 432x360 with 1 Axes>"
      ]
     },
     "metadata": {
      "needs_background": "light"
     },
     "output_type": "display_data"
    }
   ],
   "source": [
    "plt.figure(figsize=(6, 5))\n",
    "plt.plot(\n",
    "    data_pred_list_pk[:, 0], data_pred_list_pk[:, 1], label=\"Ours\", color=\"steelblue\", linewidth=3\n",
    ")\n",
    "plt.plot(\n",
    "    data_pred_list_linear[:, 0],\n",
    "    data_pred_list_linear[:, 1],\n",
    "    label=\"M2\",\n",
    "    color=\"darkorange\",\n",
    "    linewidth=3,\n",
    ")\n",
    "plt.plot(\n",
    "    data_pred_list_bilinear[:, 0],\n",
    "    data_pred_list_bilinear[:, 1],\n",
    "    label=\"M3\",\n",
    "    color=\"forestgreen\",\n",
    "    linewidth=3,\n",
    ")\n",
    "plt.plot(\n",
    "    data_true[:, 0], data_true[:, 1], label=\"True\", color=\"brown\", linestyle=\"dashed\", linewidth=3\n",
    ")\n",
    "plt.xlabel(r\"$x_{1}$\", fontsize=28)\n",
    "plt.ylabel(r\"$x_{2}$\", fontsize=28)\n",
    "plt.xticks(fontsize=18)\n",
    "plt.yticks(fontsize=18)\n",
    "plt.legend(fontsize=18)"
   ]
  },
  {
   "cell_type": "code",
   "execution_count": 69,
   "id": "a36e8965",
   "metadata": {},
   "outputs": [],
   "source": [
    "data_pred_list_pk_group = np.asarray(data_pred_list_pk_group)\n",
    "data_pred_list_linear_group = np.asarray(data_pred_list_linear_group)\n",
    "data_pred_list_bilinear_group = np.asarray(data_pred_list_bilinear_group)\n",
    "data_true_group = np.asarray(data_true_group)"
   ]
  },
  {
   "cell_type": "code",
   "execution_count": 70,
   "id": "a6df8fe1",
   "metadata": {},
   "outputs": [],
   "source": [
    "# for i in range(data_pred_list_pk_group.shape[0]):\n",
    "#     plt.figure(figsize=(6, 5))\n",
    "#     plt.plot(\n",
    "#         data_pred_list_pk_group[i, :, 0],\n",
    "#         data_pred_list_pk_group[i, :, 1],\n",
    "#         label=\"Ours\",\n",
    "#         color=\"steelblue\",\n",
    "#         linewidth=3,\n",
    "#     )\n",
    "#     plt.plot(\n",
    "#         data_pred_list_linear_group[i, :, 0],\n",
    "#         data_pred_list_linear_group[i, :, 1],\n",
    "#         label=\"M2\",\n",
    "#         color=\"darkorange\",\n",
    "#         linewidth=3,\n",
    "#     )\n",
    "#     plt.plot(\n",
    "#         data_pred_list_bilinear_group[i, :, 0],\n",
    "#         data_pred_list_bilinear_group[i, :, 1],\n",
    "#         label=\"M3\",\n",
    "#         color=\"forestgreen\",\n",
    "#         linewidth=3,\n",
    "#     )\n",
    "#     plt.plot(\n",
    "#         data_true_group[i, :, 0],\n",
    "#         data_true_group[i, :, 1],\n",
    "#         label=\"True\",\n",
    "#         color=\"brown\",\n",
    "#         linestyle=\"dashed\",\n",
    "#         linewidth=3,\n",
    "#     )\n",
    "#     plt.xlabel(r\"$x_{1}$\", fontsize=28)\n",
    "#     plt.ylabel(r\"$x_{2}$\", fontsize=28)\n",
    "#     plt.xticks(fontsize=18)\n",
    "#     plt.yticks(fontsize=18)\n",
    "#     plt.legend(fontsize=18)"
   ]
  },
  {
   "cell_type": "code",
   "execution_count": 71,
   "id": "343656b1",
   "metadata": {},
   "outputs": [],
   "source": [
    "ratio_pk_list = np.asarray(ratio_pk_list)\n",
    "ratio_linear_list = np.asarray(ratio_linear_list)\n",
    "ratio_bilinear_list = np.asarray(ratio_bilinear_list)"
   ]
  },
  {
   "cell_type": "code",
   "execution_count": 72,
   "id": "90863088",
   "metadata": {},
   "outputs": [],
   "source": [
    "ratio_pk_list_mean = np.mean(ratio_pk_list, axis=0)\n",
    "ratio_linear_list_mean = np.mean(ratio_linear_list, axis=0)\n",
    "ratio_bilinear_list_mean = np.mean(ratio_bilinear_list, axis=0)"
   ]
  },
  {
   "cell_type": "code",
   "execution_count": 73,
   "id": "5843294e",
   "metadata": {},
   "outputs": [],
   "source": [
    "ratio_pk_list_median = np.median(ratio_pk_list, axis=0)\n",
    "ratio_linear_list_median = np.median(ratio_linear_list, axis=0)\n",
    "ratio_bilinear_list_median = np.median(ratio_bilinear_list, axis=0)"
   ]
  },
  {
   "cell_type": "code",
   "execution_count": 74,
   "id": "a99da91a",
   "metadata": {},
   "outputs": [],
   "source": [
    "q_min = 0.35\n",
    "q_max = 0.65"
   ]
  },
  {
   "cell_type": "code",
   "execution_count": 75,
   "id": "30400bf9",
   "metadata": {},
   "outputs": [
    {
     "data": {
      "text/plain": [
       "array([[0.00000000e+00, 6.87686915e-05, 1.33915142e-04, 1.99640063e-04,\n",
       "        2.66182093e-04, 3.31084985e-04, 3.95923584e-04, 4.60582989e-04,\n",
       "        5.30572903e-04, 6.03065088e-04, 6.78398339e-04, 7.52200993e-04,\n",
       "        8.30411731e-04, 9.11614711e-04, 9.92036090e-04, 1.07170332e-03,\n",
       "        1.15071939e-03, 1.22973953e-03, 1.30983167e-03, 1.39028807e-03,\n",
       "        1.47020345e-03, 1.55110944e-03, 1.63034437e-03, 1.70857777e-03,\n",
       "        1.78601612e-03, 1.86291565e-03, 1.94069900e-03, 2.01623887e-03,\n",
       "        2.09089941e-03, 2.16485030e-03, 2.23529507e-03, 2.30470604e-03,\n",
       "        2.37085568e-03, 2.43309198e-03, 2.49523421e-03, 2.55716013e-03,\n",
       "        2.61799598e-03, 2.67540473e-03, 2.72837463e-03, 2.77922325e-03,\n",
       "        2.82682382e-03, 2.86979331e-03, 2.90950366e-03, 2.94410715e-03,\n",
       "        2.97681810e-03, 3.00519871e-03, 3.03065362e-03, 3.05194900e-03,\n",
       "        3.06978975e-03, 3.08428060e-03],\n",
       "       [0.00000000e+00, 7.26587195e-05, 1.05171014e-04, 1.28292869e-04,\n",
       "        1.54453465e-04, 1.78441805e-04, 1.97630981e-04, 2.17859040e-04,\n",
       "        2.47952111e-04, 2.84988404e-04, 3.17242525e-04, 3.49319500e-04,\n",
       "        3.73522785e-04, 3.92654003e-04, 4.09486963e-04, 4.30861368e-04,\n",
       "        4.51592223e-04, 4.78994664e-04, 5.06549541e-04, 5.38055598e-04,\n",
       "        5.64617349e-04, 5.86744442e-04, 6.13460699e-04, 6.41748262e-04,\n",
       "        6.66995141e-04, 6.89642459e-04, 7.16016318e-04, 7.42254889e-04,\n",
       "        7.68756163e-04, 7.92903286e-04, 8.17767733e-04, 8.45200815e-04,\n",
       "        8.72867858e-04, 9.00145856e-04, 9.28556003e-04, 9.59384724e-04,\n",
       "        9.90406472e-04, 1.02230897e-03, 1.05545919e-03, 1.09023697e-03,\n",
       "        1.12670419e-03, 1.16454811e-03, 1.20300550e-03, 1.24051054e-03,\n",
       "        1.27817622e-03, 1.31785580e-03, 1.36044271e-03, 1.40556617e-03,\n",
       "        1.45046863e-03, 1.49596702e-03],\n",
       "       [0.00000000e+00, 6.98990514e-05, 1.21935390e-04, 1.75106230e-04,\n",
       "        2.28644257e-04, 2.79458027e-04, 3.32095908e-04, 3.84008699e-04,\n",
       "        4.34862454e-04, 4.85962350e-04, 5.35620034e-04, 5.84609167e-04,\n",
       "        6.32617211e-04, 6.80142001e-04, 7.26787413e-04, 7.72576345e-04,\n",
       "        8.17754644e-04, 8.62094612e-04, 9.05493826e-04, 9.47901922e-04,\n",
       "        9.89325493e-04, 1.02965473e-03, 1.06893395e-03, 1.10717369e-03,\n",
       "        1.14432591e-03, 1.18041960e-03, 1.21542355e-03, 1.24933417e-03,\n",
       "        1.28219482e-03, 1.31407184e-03, 1.34500895e-03, 1.37509144e-03,\n",
       "        1.40429736e-03, 1.43260746e-03, 1.46017080e-03, 1.48696452e-03,\n",
       "        1.51314428e-03, 1.53896617e-03, 1.56443189e-03, 1.58959528e-03,\n",
       "        1.61437936e-03, 1.63899574e-03, 1.66372535e-03, 1.68852760e-03,\n",
       "        1.71350050e-03, 1.73878470e-03, 1.76452512e-03, 1.79120576e-03,\n",
       "        1.81891020e-03, 1.84801345e-03],\n",
       "       [0.00000000e+00, 1.46950646e-04, 2.61985258e-04, 3.78063111e-04,\n",
       "        4.90699793e-04, 5.97369362e-04, 6.99278969e-04, 8.00617226e-04,\n",
       "        9.00887003e-04, 1.00056209e-03, 1.09839363e-03, 1.19527536e-03,\n",
       "        1.29040914e-03, 1.38339368e-03, 1.47450391e-03, 1.56349743e-03,\n",
       "        1.65029775e-03, 1.73507742e-03, 1.81802586e-03, 1.89906400e-03,\n",
       "        1.97833392e-03, 2.05580182e-03, 2.13174357e-03, 2.20588211e-03,\n",
       "        2.27805129e-03, 2.34868539e-03, 2.41792873e-03, 2.48523245e-03,\n",
       "        2.55059359e-03, 2.61426167e-03, 2.67680477e-03, 2.73807984e-03,\n",
       "        2.79761261e-03, 2.85560795e-03, 2.91190962e-03, 2.96594522e-03,\n",
       "        3.01742865e-03, 3.06703809e-03, 3.11459776e-03, 3.15982611e-03,\n",
       "        3.20251743e-03, 3.24280866e-03, 3.28066089e-03, 3.31572659e-03,\n",
       "        3.34789053e-03, 3.37716312e-03, 3.40377322e-03, 3.42724921e-03,\n",
       "        3.44709057e-03, 3.46307733e-03],\n",
       "       [0.00000000e+00, 7.18142073e-05, 1.26372255e-04, 1.84444889e-04,\n",
       "        2.50302951e-04, 3.15694710e-04, 3.79744954e-04, 4.42947258e-04,\n",
       "        5.04987951e-04, 5.62958747e-04, 6.21911942e-04, 6.84242295e-04,\n",
       "        7.44418190e-04, 8.03599273e-04, 8.63841001e-04, 9.19683408e-04,\n",
       "        9.73790236e-04, 1.02746176e-03, 1.08333855e-03, 1.14042214e-03,\n",
       "        1.19782819e-03, 1.25459434e-03, 1.31169676e-03, 1.36719176e-03,\n",
       "        1.42022600e-03, 1.47346097e-03, 1.52546828e-03, 1.57644784e-03,\n",
       "        1.62476969e-03, 1.67288250e-03, 1.71996282e-03, 1.76719363e-03,\n",
       "        1.81398657e-03, 1.85930096e-03, 1.90276164e-03, 1.94582032e-03,\n",
       "        1.98747201e-03, 2.02861361e-03, 2.06889727e-03, 2.10906808e-03,\n",
       "        2.14741354e-03, 2.18523748e-03, 2.22190988e-03, 2.25790448e-03,\n",
       "        2.29205486e-03, 2.32587691e-03, 2.35862431e-03, 2.39054517e-03,\n",
       "        2.42160480e-03, 2.45169297e-03],\n",
       "       [0.00000000e+00, 8.54896822e-05, 1.49413864e-04, 2.02689263e-04,\n",
       "        2.57857027e-04, 3.14327656e-04, 3.66596376e-04, 4.15219902e-04,\n",
       "        4.67464992e-04, 5.10360650e-04, 5.48230130e-04, 5.82625017e-04,\n",
       "        6.16091450e-04, 6.45710346e-04, 6.76495189e-04, 7.05763993e-04,\n",
       "        7.34112956e-04, 7.63001878e-04, 7.92367124e-04, 8.20506643e-04,\n",
       "        8.51544155e-04, 8.80619319e-04, 9.12555136e-04, 9.42017048e-04,\n",
       "        9.70880221e-04, 1.00046582e-03, 1.03010927e-03, 1.05938807e-03,\n",
       "        1.08766787e-03, 1.11727272e-03, 1.14622837e-03, 1.17660408e-03,\n",
       "        1.20641300e-03, 1.23617380e-03, 1.26617529e-03, 1.29349541e-03,\n",
       "        1.31901498e-03, 1.34462845e-03, 1.37055739e-03, 1.39450703e-03,\n",
       "        1.41820238e-03, 1.44126296e-03, 1.46316782e-03, 1.48332651e-03,\n",
       "        1.50205044e-03, 1.52047292e-03, 1.53808517e-03, 1.55565446e-03,\n",
       "        1.57325304e-03, 1.58995722e-03],\n",
       "       [0.00000000e+00, 5.88367213e-05, 6.69101522e-05, 8.86898492e-05,\n",
       "        1.14491152e-04, 1.30216476e-04, 1.49640538e-04, 1.62498995e-04,\n",
       "        1.76717484e-04, 1.90400566e-04, 2.05313706e-04, 2.23096372e-04,\n",
       "        2.42365265e-04, 2.59705369e-04, 2.73275960e-04, 2.85674330e-04,\n",
       "        2.96203613e-04, 3.06338237e-04, 3.15380579e-04, 3.24376663e-04,\n",
       "        3.32261118e-04, 3.39919033e-04, 3.47420461e-04, 3.54401159e-04,\n",
       "        3.60357559e-04, 3.64551062e-04, 3.67116518e-04, 3.68533043e-04,\n",
       "        3.69153922e-04, 3.69345862e-04, 3.69307658e-04, 3.69318503e-04,\n",
       "        3.69990331e-04, 3.71154207e-04, 3.74149499e-04, 3.78139669e-04,\n",
       "        3.84688518e-04, 3.93214362e-04, 4.05646351e-04, 4.21036030e-04,\n",
       "        4.41046207e-04, 4.64480633e-04, 4.92447023e-04, 5.25693667e-04,\n",
       "        5.63903746e-04, 6.04879469e-04, 6.49068289e-04, 6.95892960e-04,\n",
       "        7.46526140e-04, 8.00684504e-04],\n",
       "       [0.00000000e+00, 3.03820619e-05, 5.64797108e-05, 8.13148885e-05,\n",
       "        1.05558874e-04, 1.30176966e-04, 1.54656444e-04, 1.76265575e-04,\n",
       "        1.96168480e-04, 2.15822084e-04, 2.32777981e-04, 2.49309813e-04,\n",
       "        2.67557571e-04, 2.83768995e-04, 3.01965685e-04, 3.18680275e-04,\n",
       "        3.34209260e-04, 3.52480790e-04, 3.73704589e-04, 3.96774698e-04,\n",
       "        4.22508124e-04, 4.49163698e-04, 4.78453701e-04, 5.06419900e-04,\n",
       "        5.37482660e-04, 5.69988778e-04, 6.04009755e-04, 6.37803143e-04,\n",
       "        6.71955098e-04, 7.09214804e-04, 7.48356516e-04, 7.89117785e-04,\n",
       "        8.29919945e-04, 8.70188389e-04, 9.11298845e-04, 9.53282113e-04,\n",
       "        9.94931814e-04, 1.03687379e-03, 1.07825373e-03, 1.11828002e-03,\n",
       "        1.15775346e-03, 1.19563874e-03, 1.23196602e-03, 1.26626477e-03,\n",
       "        1.29815229e-03, 1.32747734e-03, 1.35396964e-03, 1.37718408e-03,\n",
       "        1.39655728e-03, 1.41230050e-03],\n",
       "       [0.00000000e+00, 1.36610077e-04, 1.63079685e-04, 2.51063188e-04,\n",
       "        3.76421656e-04, 5.15078482e-04, 6.14318712e-04, 7.06819893e-04,\n",
       "        8.06067992e-04, 9.01583433e-04, 9.98760036e-04, 1.06594803e-03,\n",
       "        1.12400239e-03, 1.16758399e-03, 1.22588085e-03, 1.28100190e-03,\n",
       "        1.34279017e-03, 1.39809193e-03, 1.45079926e-03, 1.49342669e-03,\n",
       "        1.53584932e-03, 1.59131196e-03, 1.64214994e-03, 1.69134436e-03,\n",
       "        1.75133061e-03, 1.80321930e-03, 1.84907896e-03, 1.89991002e-03,\n",
       "        1.95963441e-03, 2.01220521e-03, 2.07104118e-03, 2.13664575e-03,\n",
       "        2.19634462e-03, 2.26005373e-03, 2.32513993e-03, 2.39107876e-03,\n",
       "        2.46467006e-03, 2.53165015e-03, 2.59632202e-03, 2.66512966e-03,\n",
       "        2.73273529e-03, 2.79877959e-03, 2.86857217e-03, 2.94433380e-03,\n",
       "        3.01776883e-03, 3.09158637e-03, 3.16363951e-03, 3.23553320e-03,\n",
       "        3.30963490e-03, 3.38735193e-03],\n",
       "       [0.00000000e+00, 6.69656513e-05, 1.20277757e-04, 1.62626121e-04,\n",
       "        1.98474172e-04, 2.42411895e-04, 2.91410509e-04, 3.32006273e-04,\n",
       "        3.74286433e-04, 4.13404242e-04, 4.49926899e-04, 4.87683568e-04,\n",
       "        5.26539152e-04, 5.60575942e-04, 5.96360173e-04, 6.32595835e-04,\n",
       "        6.67671891e-04, 7.02412126e-04, 7.37456814e-04, 7.68937595e-04,\n",
       "        8.00575953e-04, 8.28990848e-04, 8.54136676e-04, 8.79392270e-04,\n",
       "        9.03954941e-04, 9.27369690e-04, 9.50640347e-04, 9.70911683e-04,\n",
       "        9.91034510e-04, 1.00851944e-03, 1.02490826e-03, 1.04118076e-03,\n",
       "        1.05624131e-03, 1.07042493e-03, 1.08317845e-03, 1.09451263e-03,\n",
       "        1.10456709e-03, 1.11326688e-03, 1.12100731e-03, 1.12898348e-03,\n",
       "        1.13659738e-03, 1.14338700e-03, 1.14978231e-03, 1.15574050e-03,\n",
       "        1.16154252e-03, 1.16711493e-03, 1.17277373e-03, 1.17877539e-03,\n",
       "        1.18474376e-03, 1.19150684e-03]])"
      ]
     },
     "execution_count": 75,
     "metadata": {},
     "output_type": "execute_result"
    }
   ],
   "source": [
    "ratio_pk_list"
   ]
  },
  {
   "cell_type": "code",
   "execution_count": 76,
   "id": "a97a2f25",
   "metadata": {},
   "outputs": [],
   "source": [
    "ratio_pk_list_min = np.quantile(ratio_pk_list, q=q_min, axis=0)\n",
    "ratio_linear_list_min = np.quantile(ratio_linear_list, q=q_min, axis=0)\n",
    "ratio_bilinear_list_min = np.quantile(ratio_bilinear_list, q=q_min, axis=0)"
   ]
  },
  {
   "cell_type": "code",
   "execution_count": 77,
   "id": "d34f9a5c",
   "metadata": {},
   "outputs": [],
   "source": [
    "ratio_pk_list_max = np.quantile(ratio_pk_list, q=q_max, axis=0)\n",
    "ratio_linear_list_max = np.quantile(ratio_linear_list, q=q_max, axis=0)\n",
    "ratio_bilinear_list_max = np.quantile(ratio_bilinear_list, q=q_max, axis=0)"
   ]
  },
  {
   "cell_type": "code",
   "execution_count": 78,
   "id": "b05843d9",
   "metadata": {},
   "outputs": [],
   "source": [
    "x_axis = np.arange(0, traj_len_test, 1)"
   ]
  },
  {
   "cell_type": "code",
   "execution_count": 79,
   "id": "cb16eaf8",
   "metadata": {},
   "outputs": [
    {
     "data": {
      "text/plain": [
       "<matplotlib.legend.Legend at 0x7f09680c3880>"
      ]
     },
     "execution_count": 79,
     "metadata": {},
     "output_type": "execute_result"
    },
    {
     "data": {
      "image/png": "[encoded data removed]",
      "text/plain": [
       "<Figure size 432x288 with 1 Axes>"
      ]
     },
     "metadata": {
      "needs_background": "light"
     },
     "output_type": "display_data"
    }
   ],
   "source": [
    "plt.figure(figsize=(6, 4))\n",
    "\n",
    "plt.plot(ratio_pk_list_median, label=\"Ours\", color=\"steelblue\", linewidth=3)\n",
    "plt.fill_between(x_axis, ratio_pk_list_min, ratio_pk_list_max, color=\"lightsteelblue\", alpha=0.5)\n",
    "plt.plot(ratio_linear_list_median, label=\"M2\", color=\"darkorange\", linewidth=3)\n",
    "plt.fill_between(\n",
    "    x_axis, ratio_linear_list_min, ratio_linear_list_max, color=\"navajowhite\", alpha=0.5\n",
    ")\n",
    "plt.plot(ratio_bilinear_list_median, label=\"M3\", color=\"forestgreen\", linewidth=3)\n",
    "plt.fill_between(\n",
    "    x_axis, ratio_bilinear_list_min, ratio_bilinear_list_max, color=\"darkseagreen\", alpha=0.5\n",
    ")\n",
    "\n",
    "\n",
    "plt.ticklabel_format(axis=\"y\", style=\"sci\", scilimits=(0, 0))\n",
    "plt.gca().yaxis.get_offset_text().set_fontsize(18)\n",
    "\n",
    "plt.xlabel(r\"$n$\", fontsize=28)\n",
    "plt.ylabel(\"Error\", fontsize=28)\n",
    "plt.xticks(fontsize=18)\n",
    "plt.yticks(fontsize=18)\n",
    "plt.legend(fontsize=18)"
   ]
  },
  {
   "cell_type": "code",
   "execution_count": 177,
   "id": "d791af51",
   "metadata": {},
   "outputs": [],
   "source": [
    "dict_mean = {\n",
    "    \"pk\": ratio_pk_list_mean,\n",
    "    \"linear\": ratio_linear_list_mean,\n",
    "    \"bilinear\": ratio_bilinear_list_mean,\n",
    "}"
   ]
  },
  {
   "cell_type": "code",
   "execution_count": null,
   "id": "451aa001",
   "metadata": {},
   "outputs": [],
   "source": []
  },
  {
   "cell_type": "code",
   "execution_count": null,
   "id": "46a386ad",
   "metadata": {},
   "outputs": [],
   "source": []
  },
  {
   "cell_type": "code",
   "execution_count": null,
   "id": "7302b6f2",
   "metadata": {},
   "outputs": [],
   "source": [
    "# np.save(os.path.join(data_path, \"ratio_list_dict_mu_\" + str(mu) + \"_mean.npy\"), dict_mean)"
   ]
  },
  {
   "cell_type": "markdown",
   "id": "7153fe7f",
   "metadata": {},
   "source": [
    "# See the comparison\n",
    "If you have tested on all $\\mu: 0,1,2,3,4$, then you can run the following codes to see the comparison."
   ]
  },
  {
   "cell_type": "code",
   "execution_count": null,
   "id": "aa38bf34",
   "metadata": {},
   "outputs": [],
   "source": [
    "import matplotlib.pyplot as plt\n",
    "import numpy as np\n",
    "\n",
    "mean_dict_mu_0 = np.load(\n",
    "    os.path.join(data_path, \"ratio_list_dict_mu_0_mean.npy\"), allow_pickle=True\n",
    ")\n",
    "mean_dict_mu_1 = np.load(\n",
    "    os.path.join(data_path, \"ratio_list_dict_mu_1_mean.npy\"), allow_pickle=True\n",
    ")\n",
    "mean_dict_mu_2 = np.load(\n",
    "    os.path.join(data_path, \"ratio_list_dict_mu_2_mean.npy\"), allow_pickle=True\n",
    ")\n",
    "mean_dict_mu_3 = np.load(\n",
    "    os.path.join(data_path, \"ratio_list_dict_mu_3_mean.npy\"), allow_pickle=True\n",
    ")\n",
    "mean_dict_mu_4 = np.load(\n",
    "    os.path.join(data_path, \"ratio_list_dict_mu_4_mean.npy\"), allow_pickle=True\n",
    ")\n",
    "\n",
    "\n",
    "def extact_data(ratio_dict, ratio_name):\n",
    "    ratio_pk = ratio_dict[()][ratio_name[0]].reshape((1, -1))\n",
    "    ratio_linear = ratio_dict[()][ratio_name[1]].reshape((1, -1))\n",
    "    ratio_bilinear = ratio_dict[()][ratio_name[2]].reshape((1, -1))\n",
    "    return ratio_pk, ratio_linear, ratio_bilinear\n",
    "\n",
    "\n",
    "mean_dict_list = [mean_dict_mu_0, mean_dict_mu_1, mean_dict_mu_2, mean_dict_mu_3, mean_dict_mu_4]\n",
    "\n",
    "ratio_pk_list = []\n",
    "ratio_linear_list = []\n",
    "ratio_bilinear_list = []\n",
    "\n",
    "ratio_name_list = [\"pk\", \"linear\", \"bilinear\"]\n",
    "\n",
    "\n",
    "def concat_ratio_list(ratio_list):\n",
    "    ratio_concat = np.concatenate(ratio_list, axis=0)\n",
    "    ratio_concat = ratio_concat.T\n",
    "    return ratio_concat\n",
    "\n",
    "\n",
    "def concat_data(dict_list):\n",
    "    pk_list = []\n",
    "    linear_list = []\n",
    "    bilinear_list = []\n",
    "\n",
    "    for i in range(5):\n",
    "        pk, linear, bilinear = extact_data(dict_list[i], ratio_name=ratio_name_list)\n",
    "        pk_list.append(pk)\n",
    "        linear_list.append(linear)\n",
    "        bilinear_list.append(bilinear)\n",
    "\n",
    "    pk_concat = concat_ratio_list(pk_list)\n",
    "    linear_concat = concat_ratio_list(linear_list)\n",
    "    bilinear_concat = concat_ratio_list(bilinear_list)\n",
    "\n",
    "    return pk_concat, linear_concat, bilinear_concat\n",
    "\n",
    "\n",
    "mean_pk, mean_linear, mean_bilinear = concat_data(mean_dict_list)\n",
    "\n",
    "mean_linear_mean = np.mean(mean_linear, axis=0)\n",
    "mean_bilinear_mean = np.mean(mean_bilinear, axis=0)\n",
    "mean_pk_mean = np.mean(mean_pk, axis=0)\n",
    "\n",
    "mu = [0, 1, 2, 3, 4]\n",
    "mu_axis = list(range(len(mu)))\n",
    "\n",
    "\n",
    "def plot_evaluate_vdpm(mu, mean, dict_plot):\n",
    "    plt.plot(\n",
    "        mu,\n",
    "        mean,\n",
    "        label=dict_plot[\"label\"],\n",
    "        marker=dict_plot[\"marker\"],\n",
    "        markersize=dict_plot[\"markersize\"],\n",
    "        color=dict_plot[\"color\"],\n",
    "        linestyle=dict_plot[\"linestyle\"],\n",
    "        linewidth=dict_plot[\"linewidth\"],\n",
    "    )\n",
    "\n",
    "\n",
    "label_font = 24\n",
    "ticks_font = 18\n",
    "legend_font = 22\n",
    "\n",
    "\n",
    "dict_plot_pk = {\n",
    "    \"label\": \"Ours\",\n",
    "    \"marker\": \"*\",\n",
    "    \"markersize\": 10,\n",
    "    \"color\": \"steelblue\",\n",
    "    \"linestyle\": \"-\",\n",
    "    \"linewidth\": 3,\n",
    "}\n",
    "\n",
    "dict_plot_linear = {\n",
    "    \"label\": \"M2\",\n",
    "    \"marker\": \"s\",\n",
    "    \"markersize\": 10,\n",
    "    \"color\": \"darkorange\",\n",
    "    \"linestyle\": \"-\",\n",
    "    \"linewidth\": 3,\n",
    "}\n",
    "\n",
    "dict_plot_bilinear = {\n",
    "    \"label\": \"M3\",\n",
    "    \"marker\": \"o\",\n",
    "    \"markersize\": 10,\n",
    "    \"color\": \"forestgreen\",\n",
    "    \"linestyle\": \"-\",\n",
    "    \"linewidth\": 3,\n",
    "}\n",
    "\n",
    "plt.figure(figsize=(15, 4))\n",
    "plot_evaluate_vdpm(mu, mean_pk_mean, dict_plot=dict_plot_pk)\n",
    "plot_evaluate_vdpm(mu, mean_linear_mean, dict_plot=dict_plot_linear)\n",
    "\n",
    "plot_evaluate_vdpm(mu, mean_bilinear_mean, dict_plot=dict_plot_bilinear)\n",
    "\n",
    "plt.xlabel(r\"$\\mu$\", loc=\"right\", fontsize=label_font)\n",
    "plt.ylabel(\"Error\", fontsize=label_font)\n",
    "plt.xticks(mu_axis, mu, fontsize=ticks_font)\n",
    "plt.yticks(fontsize=ticks_font)\n",
    "plt.legend(fontsize=legend_font)"
   ]
  },
  {
   "cell_type": "code",
   "execution_count": null,
   "id": "0d5d9a91",
   "metadata": {},
   "outputs": [],
   "source": []
  }
 ],
 "metadata": {
  "kernelspec": {
   "display_name": "koopman",
   "language": "python",
   "name": "python3"
  },
  "language_info": {
   "codemirror_mode": {
    "name": "ipython",
    "version": 3
   },
   "file_extension": ".py",
   "mimetype": "text/x-python",
   "name": "python",
   "nbconvert_exporter": "python",
   "pygments_lexer": "ipython3",
   "version": "3.8.8"
  }
 },
 "nbformat": 4,
 "nbformat_minor": 5
}
