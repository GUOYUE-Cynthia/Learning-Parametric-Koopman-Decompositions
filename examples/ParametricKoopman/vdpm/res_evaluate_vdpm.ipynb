{
 "cells": [
  {
   "cell_type": "code",
   "execution_count": 47,
   "id": "a3902974",
   "metadata": {},
   "outputs": [],
   "source": [
    "import os\n",
    "\n",
    "os.environ[\"CUDA_VISIBLE_DEVICES\"] = \"-1\""
   ]
  },
  {
   "cell_type": "code",
   "execution_count": 48,
   "id": "de85dd8b",
   "metadata": {},
   "outputs": [
    {
     "name": "stdout",
     "output_type": "stream",
     "text": [
      "The autoreload extension is already loaded. To reload it, use:\n",
      "  %reload_ext autoreload\n"
     ]
    }
   ],
   "source": [
    "%load_ext autoreload\n",
    "%autoreload 2"
   ]
  },
  {
   "cell_type": "code",
   "execution_count": 49,
   "id": "20eb0b2f",
   "metadata": {},
   "outputs": [],
   "source": [
    "import numpy as np\n",
    "import tensorflow as tf"
   ]
  },
  {
   "cell_type": "code",
   "execution_count": 50,
   "id": "20434742",
   "metadata": {},
   "outputs": [],
   "source": [
    "import json\n",
    "import sys"
   ]
  },
  {
   "cell_type": "code",
   "execution_count": 51,
   "id": "b57cf3bc",
   "metadata": {},
   "outputs": [],
   "source": [
    "from tensorflow.keras.layers import Dense, Input, Layer\n",
    "from tensorflow.keras.models import Model\n",
    "from tensorflow.keras.optimizers import Adam"
   ]
  },
  {
   "cell_type": "code",
   "execution_count": 52,
   "id": "a68ff93e",
   "metadata": {},
   "outputs": [],
   "source": [
    "import matplotlib.pyplot as plt"
   ]
  },
  {
   "cell_type": "code",
   "execution_count": 53,
   "id": "46c614f7",
   "metadata": {},
   "outputs": [],
   "source": [
    "from koopmanlib.dictionary import PsiNN\n",
    "from koopmanlib.param_solver import (\n",
    "    KoopmanBilinearDLSolver,\n",
    "    KoopmanLinearDLSolver,\n",
    "    KoopmanParametricDLSolver,\n",
    ")\n",
    "from koopmanlib.target import VanderPolMathieuTarget"
   ]
  },
  {
   "cell_type": "code",
   "execution_count": 54,
   "id": "e707adcb",
   "metadata": {},
   "outputs": [],
   "source": [
    "config_file = \"config_vdpm.json\"\n",
    "\n",
    "index = 1\n",
    "with open(config_file, \"r\") as f:\n",
    "    config = json.load(f)\n",
    "\n",
    "data_path = config[\"data_settings\"][\"data_path\"]\n",
    "weights_path = config[\"nn_settings\"][\"weights_path\"]\n",
    "\n",
    "n_traj = config[\"data_settings\"][\"n_traj\"]\n",
    "traj_len = config[\"data_settings\"][\"traj_len\"]\n",
    "mu = config[\"data_settings\"][\"mu\"][index]\n",
    "\n",
    "n_psi_train = config[\"nn_settings\"][\"n_psi_train\"]\n",
    "dict_layer_size = config[\"nn_settings\"][\"dict_layer_size\"]\n",
    "K_layer_size = config[\"nn_settings\"][\"K_layer_size\"][index]"
   ]
  },
  {
   "cell_type": "code",
   "execution_count": 55,
   "id": "d2d87a06",
   "metadata": {},
   "outputs": [
    {
     "data": {
      "text/plain": [
       "[64]"
      ]
     },
     "execution_count": 55,
     "metadata": {},
     "output_type": "execute_result"
    }
   ],
   "source": [
    "dict_layer_size"
   ]
  },
  {
   "cell_type": "code",
   "execution_count": 56,
   "id": "cd69951e",
   "metadata": {},
   "outputs": [
    {
     "name": "stdout",
     "output_type": "stream",
     "text": [
      "mu 1\n",
      "K_layer_size [16]\n"
     ]
    }
   ],
   "source": [
    "print(\"mu\", mu)\n",
    "print(\"K_layer_size\", K_layer_size)"
   ]
  },
  {
   "cell_type": "code",
   "execution_count": 57,
   "id": "3719b75b",
   "metadata": {},
   "outputs": [],
   "source": [
    "target_dim = 2\n",
    "param_dim = 1\n",
    "\n",
    "n_psi = 1 + target_dim + n_psi_train"
   ]
  },
  {
   "cell_type": "code",
   "execution_count": 58,
   "id": "fc8d2ef1",
   "metadata": {},
   "outputs": [
    {
     "data": {
      "text/plain": [
       "13"
      ]
     },
     "execution_count": 58,
     "metadata": {},
     "output_type": "execute_result"
    }
   ],
   "source": [
    "n_psi"
   ]
  },
  {
   "cell_type": "code",
   "execution_count": 59,
   "id": "6db408fa",
   "metadata": {},
   "outputs": [],
   "source": [
    "# Set parameters in the vdpm equation.\n",
    "k1, k2, k4, w0 = 2, 2, 1, 1"
   ]
  },
  {
   "cell_type": "code",
   "execution_count": 60,
   "id": "7ba3c3ca",
   "metadata": {},
   "outputs": [],
   "source": [
    "vdp_mathieu = VanderPolMathieuTarget(\n",
    "    mu=mu, dim=target_dim, param_dim=param_dim, k1=k1, k2=k2, k4=k4, w0=w0\n",
    ")"
   ]
  },
  {
   "cell_type": "code",
   "execution_count": 61,
   "id": "a74259c0",
   "metadata": {},
   "outputs": [],
   "source": [
    "dic_pk = PsiNN(layer_sizes=dict_layer_size, n_psi_train=n_psi_train)"
   ]
  },
  {
   "cell_type": "code",
   "execution_count": 62,
   "id": "2a59f6d0",
   "metadata": {},
   "outputs": [],
   "source": [
    "from koopmanlib.K_structure import Model_ResNet_K_u_Layer_One\n",
    "\n",
    "model_K_u = Model_ResNet_K_u_Layer_One(layer_sizes=K_layer_size, n_psi=n_psi, activation=\"tanh\")\n",
    "\n",
    "solver_pk = KoopmanParametricDLSolver(\n",
    "    target_dim=target_dim, param_dim=param_dim, n_psi=n_psi, dic=dic_pk, model_K_u=model_K_u\n",
    ")\n",
    "\n",
    "model_pk, model_K_u_pred_pk = solver_pk.generate_model()"
   ]
  },
  {
   "cell_type": "code",
   "execution_count": 63,
   "id": "c23951cb",
   "metadata": {},
   "outputs": [
    {
     "name": "stdout",
     "output_type": "stream",
     "text": [
      "Model: \"model_3\"\n",
      "__________________________________________________________________________________________________\n",
      " Layer (type)                   Output Shape         Param #     Connected to                     \n",
      "==================================================================================================\n",
      " input_18 (InputLayer)          [(None, 2)]          0           []                               \n",
      "                                                                                                  \n",
      " tf.slice_6 (TFOpLambda)        (None, 1)            0           ['input_18[0][0]']               \n",
      "                                                                                                  \n",
      " input_19 (InputLayer)          [(None, 2)]          0           []                               \n",
      "                                                                                                  \n",
      " tf.ones_like_6 (TFOpLambda)    (None, 1)            0           ['tf.slice_6[0][0]']             \n",
      "                                                                                                  \n",
      " DicNN (DicNN)                  (None, 10)           4938        ['input_18[0][0]',               \n",
      "                                                                  'input_19[0][0]']               \n",
      "                                                                                                  \n",
      " tf.slice_7 (TFOpLambda)        (None, 1)            0           ['input_19[0][0]']               \n",
      "                                                                                                  \n",
      " input_20 (InputLayer)          [(None, 1)]          0           []                               \n",
      "                                                                                                  \n",
      " concatenate_2946 (Concatenate)  (None, 13)          0           ['tf.ones_like_6[0][0]',         \n",
      "                                                                  'input_18[0][0]',               \n",
      "                                                                  'DicNN[0][0]']                  \n",
      "                                                                                                  \n",
      " tf.ones_like_7 (TFOpLambda)    (None, 1)            0           ['tf.slice_7[0][0]']             \n",
      "                                                                                                  \n",
      " K_u_pred (Functional)          (None, 13)           2956        ['input_20[0][0]',               \n",
      "                                                                  'concatenate_2946[0][0]']       \n",
      "                                                                                                  \n",
      " concatenate_2947 (Concatenate)  (None, 13)          0           ['tf.ones_like_7[0][0]',         \n",
      "                                                                  'input_19[0][0]',               \n",
      "                                                                  'DicNN[1][0]']                  \n",
      "                                                                                                  \n",
      " tf.math.subtract_3 (TFOpLambda  (None, 13)          0           ['K_u_pred[0][0]',               \n",
      " )                                                                'concatenate_2947[0][0]']       \n",
      "                                                                                                  \n",
      "==================================================================================================\n",
      "Total params: 7,894\n",
      "Trainable params: 7,894\n",
      "Non-trainable params: 0\n",
      "__________________________________________________________________________________________________\n"
     ]
    }
   ],
   "source": [
    "model_pk.summary()"
   ]
  },
  {
   "cell_type": "code",
   "execution_count": 64,
   "id": "0fa0c7db",
   "metadata": {},
   "outputs": [],
   "source": [
    "model_pk.load_weights(os.path.join(weights_path, \"model_pk_vdpm_mu_\" + str(mu) + \".h5\"))"
   ]
  },
  {
   "cell_type": "code",
   "execution_count": 65,
   "id": "099b98b0",
   "metadata": {},
   "outputs": [],
   "source": [
    "# model_pk.get_layer('DicNN').trainable = False\n",
    "# for layer in solver_pk.model_K_u.hidden_layers:\n",
    "#     layer.trainable = False\n",
    "# solver_pk.model_K_u.output_layer.trainable = True\n",
    "# model_pk.load_weights(os.path.join(weights_path, 'train_dense_model_pk_vdpm_mu_'+str(mu)+'.h5'))"
   ]
  },
  {
   "cell_type": "markdown",
   "id": "81f0de77",
   "metadata": {},
   "source": [
    "# Linear Model: Dynamics is $Az +Bu$"
   ]
  },
  {
   "cell_type": "code",
   "execution_count": 66,
   "id": "9ed53098",
   "metadata": {},
   "outputs": [],
   "source": [
    "dic_linear = PsiNN(layer_sizes=dict_layer_size, n_psi_train=n_psi_train)"
   ]
  },
  {
   "cell_type": "code",
   "execution_count": 67,
   "id": "40ffb512",
   "metadata": {},
   "outputs": [],
   "source": [
    "solver_linear = KoopmanLinearDLSolver(\n",
    "    dic=dic_linear, target_dim=target_dim, param_dim=param_dim, n_psi=n_psi\n",
    ")\n",
    "model_linear, model_K_u_pred_linear = solver_linear.build_model()"
   ]
  },
  {
   "cell_type": "code",
   "execution_count": 68,
   "id": "0f70e996",
   "metadata": {},
   "outputs": [],
   "source": [
    "model_linear.load_weights(os.path.join(weights_path, \"model_linear_vdpm_mu_\" + str(mu) + \".h5\"))"
   ]
  },
  {
   "cell_type": "markdown",
   "id": "782f7468",
   "metadata": {},
   "source": [
    "# Bilinear Model: Dynamics is $Az + \\sum_{i=1}^{N_{u}}B_{i}zu_{i}$"
   ]
  },
  {
   "cell_type": "code",
   "execution_count": 69,
   "id": "c5bd98ae",
   "metadata": {},
   "outputs": [],
   "source": [
    "dic_bilinear = PsiNN(layer_sizes=dict_layer_size, n_psi_train=n_psi_train)"
   ]
  },
  {
   "cell_type": "code",
   "execution_count": 70,
   "id": "cd36fbbc",
   "metadata": {},
   "outputs": [],
   "source": [
    "solver_bilinear = KoopmanBilinearDLSolver(\n",
    "    dic=dic_bilinear, target_dim=target_dim, param_dim=param_dim, n_psi=n_psi\n",
    ")\n",
    "model_bilinear, model_K_u_pred_bilinear = solver_bilinear.build_model()"
   ]
  },
  {
   "cell_type": "code",
   "execution_count": 71,
   "id": "89896950",
   "metadata": {},
   "outputs": [],
   "source": [
    "model_bilinear.load_weights(\n",
    "    os.path.join(weights_path, \"model_bilinear_vdpm_mu_\" + str(mu) + \".h5\")\n",
    ")"
   ]
  },
  {
   "cell_type": "code",
   "execution_count": 72,
   "id": "f8082621",
   "metadata": {},
   "outputs": [
    {
     "name": "stdout",
     "output_type": "stream",
     "text": [
      "Model: \"K_u_bilinear_pred\"\n",
      "__________________________________________________________________________________________________\n",
      " Layer (type)                   Output Shape         Param #     Connected to                     \n",
      "==================================================================================================\n",
      " input_27 (InputLayer)          [(None, 13)]         0           []                               \n",
      "                                                                                                  \n",
      " input_26 (InputLayer)          [(None, 1)]          0           []                               \n",
      "                                                                                                  \n",
      " tf.einsum_1 (TFOpLambda)       (1, None, 13)        0           ['input_27[0][0]',               \n",
      "                                                                  'input_26[0][0]']               \n",
      "                                                                                                  \n",
      " tf.__operators__.getitem_1 (Sl  (None, 13)          0           ['tf.einsum_1[0][0]']            \n",
      " icingOpLambda)                                                                                   \n",
      "                                                                                                  \n",
      " tf.identity_1 (TFOpLambda)     (None, 13)           0           ['tf.__operators__.getitem_1[0][0\n",
      "                                                                 ]']                              \n",
      "                                                                                                  \n",
      " Layer_A (Dense)                (None, 13)           169         ['input_27[0][0]']               \n",
      "                                                                                                  \n",
      " Layer_B (Dense)                (None, 13)           169         ['tf.identity_1[0][0]']          \n",
      "                                                                                                  \n",
      " tf.__operators__.add_3 (TFOpLa  (None, 13)          0           ['Layer_A[0][0]',                \n",
      " mbda)                                                            'Layer_B[0][0]']                \n",
      "                                                                                                  \n",
      "==================================================================================================\n",
      "Total params: 338\n",
      "Trainable params: 0\n",
      "Non-trainable params: 338\n",
      "__________________________________________________________________________________________________\n"
     ]
    }
   ],
   "source": [
    "model_K_u_pred_bilinear.summary()"
   ]
  },
  {
   "cell_type": "code",
   "execution_count": 73,
   "id": "da40a1a5",
   "metadata": {},
   "outputs": [],
   "source": [
    "dict_data = np.load(\n",
    "        os.path.join(data_path, \"vdpm_data_mu_\" + str(mu) + \".npy\"), allow_pickle=True\n",
    "    )\n",
    "\n",
    "data_x = dict_data[()][\"data_x\"]\n",
    "data_y = dict_data[()][\"data_y\"]\n",
    "data_u = dict_data[()][\"data_u\"]"
   ]
  },
  {
   "cell_type": "code",
   "execution_count": 74,
   "id": "bdc54818",
   "metadata": {},
   "outputs": [
    {
     "data": {
      "text/plain": [
       "(50000, 2)"
      ]
     },
     "execution_count": 74,
     "metadata": {},
     "output_type": "execute_result"
    }
   ],
   "source": [
    "data_x.shape"
   ]
  },
  {
   "cell_type": "code",
   "execution_count": null,
   "id": "148464b3",
   "metadata": {},
   "outputs": [],
   "source": []
  },
  {
   "cell_type": "markdown",
   "id": "aa8c252f",
   "metadata": {},
   "source": [
    "<!-- # Train PK-NN using data generated from Bi-linear model\n",
    "dict_data = np.load(\n",
    "        os.path.join(data_path, \"vdpm_data_mu_\" + str(mu) + \".npy\"), allow_pickle=True\n",
    "    )\n",
    "\n",
    "data_x = dict_data[()][\"data_x\"]\n",
    "data_y = dict_data[()][\"data_y\"]\n",
    "data_u = dict_data[()][\"data_u\"]\n",
    "\n",
    "print(\"data_x.shape = \", data_x.shape)\n",
    "data_y_bilinear = []\n",
    "for data_x_single, data_u_single in zip(data_x, data_u):\n",
    "    data_y_bilinear_single = solver_bilinear.compute_data_list(\n",
    "            traj_len=2, data_x_init=data_x_single, data_u=data_u_single\n",
    "        )\n",
    "    data_y_bilinear.append(data_y_bilinear_single[-1])\n",
    "\n",
    "data_y_bilinear = np.array(data_y_bilinear)\n",
    "data_y_bilinear.shape\n",
    "# PK-NN\n",
    "dic_pk = PsiNN(layer_sizes=dict_layer_size, n_psi_train=n_psi_train)\n",
    "from koopmanlib.K_structure import Model_K_u_Layer, Model_ResNet_K_u_Layer_One\n",
    "\n",
    "model_K_u = Model_ResNet_K_u_Layer_One(layer_sizes=K_layer_size, n_psi=n_psi, activation=\"tanh\")\n",
    "\n",
    "solver_pk = KoopmanParametricDLSolver(\n",
    "    target_dim=target_dim, param_dim=param_dim, n_psi=n_psi, dic=dic_pk, model_K_u=model_K_u\n",
    ")\n",
    "\n",
    "model_pk, model_K_u_pred_pk = solver_pk.generate_model()\n",
    "\n",
    "\n",
    "model_pk.compile(optimizer=Adam(0.001), loss=\"mse\")\n",
    "\n",
    "lr_callback = tf.keras.callbacks.ReduceLROnPlateau(\n",
    "    monitor=\"loss\",\n",
    "    factor=0.1,\n",
    "    patience=100,\n",
    "    verbose=0,\n",
    "    mode=\"auto\",\n",
    "    min_delta=1e-4,\n",
    "    cooldown=0,\n",
    "    min_lr=1e-6,\n",
    ")\n",
    "\n",
    "# Define the early stopping criteria\n",
    "es_callback = tf.keras.callbacks.EarlyStopping(\n",
    "    monitor=\"val_loss\", min_delta=1e-12, patience=50, verbose=1, mode=\"auto\"\n",
    ")\n",
    "\n",
    "checkpoint_callback = tf.keras.callbacks.ModelCheckpoint(\n",
    "    filepath=os.path.join(weights_path, \"model_pk_vdpm_mu_\" + str(mu) + \".h5\"),\n",
    "    monitor=\"val_loss\",\n",
    "    save_best_only=True,\n",
    "    save_weights_only=True,\n",
    "    mode=\"min\",\n",
    "    save_freq=\"epoch\",\n",
    ")\n",
    "\n",
    "from tqdm.keras import TqdmCallback\n",
    "# Define the TqdmCallback for progress bar\n",
    "tqdm_callback = TqdmCallback(verbose=1)\n",
    "\n",
    "# Add early_stopping to the list of callbacks\n",
    "callbacks = [lr_callback, checkpoint_callback, tqdm_callback]\n",
    "\n",
    "zeros_data_y_train = tf.zeros_like(dic_pk(data_y_bilinear))\n",
    "\n",
    "\n",
    "history = model_pk.fit(\n",
    "    x=[data_x, data_y_bilinear, data_u],\n",
    "    y=zeros_data_y_train,\n",
    "    validation_split=0.2,\n",
    "    epochs=1000,\n",
    "    batch_size=200,\n",
    "    callbacks=callbacks,\n",
    "    verbose=0,\n",
    ")\n",
    "data_pk_pred_from_bilinear = model_pk([data_x, data_y_bilinear, data_u])\n",
    "data_y_pk_fake = []\n",
    "for data_x_single, data_u_single in zip(data_x, data_u):\n",
    "    data_y_pk_fake_single = solver_pk.compute_data_list(\n",
    "            traj_len=2, data_x_init=data_x_single, data_u=data_u_single\n",
    "        )\n",
    "    data_y_pk_fake.append(data_y_pk_fake_single[-1])\n",
    "\n",
    "data_y_pk_fake = np.array(data_y_pk_fake)\n",
    "data_y_pk_fake - data_y_bilinear\n",
    "data_y_pk_fake - data_y -->"
   ]
  },
  {
   "cell_type": "code",
   "execution_count": 75,
   "id": "4c330a14",
   "metadata": {},
   "outputs": [],
   "source": [
    "\n",
    "\n",
    "# # Train K(u) to be (A+Bu)\n",
    "# psi_x_data = dic_bilinear(data_x)\n",
    "# target = model_K_u_pred_bilinear([data_u, psi_x_data])\n",
    "# inputs_u = Input(shape=(param_dim,))\n",
    "# inputs_psi_x = Input(shape=(n_psi,))\n",
    "\n",
    "# fake_psi = model_K_u_pred_pk([inputs_u, inputs_psi_x])\n",
    "\n",
    "# test_K_model = Model(inputs=[inputs_u, inputs_psi_x], outputs=fake_psi)\n",
    "\n",
    "# test_K_model.compile(optimizer=Adam(0.000001), loss=\"mse\")\n",
    "# test_K_model.fit(x=[data_u, psi_x_data], y=target, epochs=500, batch_size=200, verbose=1)\n",
    "# dic_pk.set_weights(dic_bilinear.get_weights())\n",
    "\n"
   ]
  },
  {
   "cell_type": "code",
   "execution_count": null,
   "id": "a2fe4211",
   "metadata": {},
   "outputs": [],
   "source": []
  },
  {
   "cell_type": "markdown",
   "id": "871ca98b",
   "metadata": {},
   "source": [
    "## Prediction"
   ]
  },
  {
   "cell_type": "code",
   "execution_count": 76,
   "id": "fde1ce46",
   "metadata": {},
   "outputs": [],
   "source": [
    "from koopmanlib.functions import *"
   ]
  },
  {
   "cell_type": "markdown",
   "id": "4da3a1b9",
   "metadata": {},
   "source": [
    "## Calculate average value"
   ]
  },
  {
   "cell_type": "code",
   "execution_count": 77,
   "id": "59ba4a25",
   "metadata": {},
   "outputs": [],
   "source": [
    "np.random.seed(625)\n",
    "n_test = 20\n",
    "seed_x_list = np.random.randint(1, 300, size=(n_test,))\n",
    "seed_param_list = np.random.randint(1, 300, size=(n_test,))\n",
    "n_traj_test = 1\n",
    "traj_len_test = 50"
   ]
  },
  {
   "cell_type": "code",
   "execution_count": 78,
   "id": "991168ff",
   "metadata": {},
   "outputs": [],
   "source": [
    "ratio_pk_list = []\n",
    "ratio_linear_list = []\n",
    "ratio_bilinear_list = []"
   ]
  },
  {
   "cell_type": "code",
   "execution_count": 79,
   "id": "b4dc73e3",
   "metadata": {},
   "outputs": [],
   "source": [
    "data_pred_list_pk_group = []\n",
    "data_pred_list_linear_group = []\n",
    "data_pred_list_bilinear_group = []\n",
    "data_true_group = []"
   ]
  },
  {
   "cell_type": "code",
   "execution_count": 80,
   "id": "c29d21cf",
   "metadata": {},
   "outputs": [],
   "source": [
    "for seed_x, seed_param in zip(seed_x_list, seed_param_list):\n",
    "    vdp_mathieu_test = VanderPolMathieuTarget(\n",
    "        mu=mu, dim=target_dim, param_dim=param_dim, k1=k1, k2=k2, k4=k4, w0=w0\n",
    "    )\n",
    "\n",
    "    data_x_test, data_u_test = vdp_mathieu_test.generate_init_data(\n",
    "        n_traj=n_traj_test, traj_len=traj_len_test, seed_x=seed_x, seed_param=seed_param\n",
    "    )\n",
    "    data_x_init = tf.reshape(data_x_test[0], shape=(1, -1))\n",
    "    data_true = data_x_test\n",
    "\n",
    "    data_pred_list_pk = solver_pk.compute_data_list(traj_len_test, data_x_init, data_u_test)\n",
    "    data_pred_list_linear = solver_linear.compute_data_list(\n",
    "        traj_len=traj_len_test, data_x_init=data_x_init, data_u=data_u_test\n",
    "    )\n",
    "    data_pred_list_bilinear = solver_bilinear.compute_data_list(\n",
    "        traj_len=traj_len_test, data_x_init=data_x_init, data_u=data_u_test\n",
    "    )\n",
    "\n",
    "    ratio_pk = compute_diff_ratio_one_traj(data_true, data_pred_list_pk)\n",
    "    ratio_linear = compute_diff_ratio_one_traj(data_true, data_pred_list_linear)\n",
    "    ratio_bilinear = compute_diff_ratio_one_traj(data_true, data_pred_list_bilinear)\n",
    "\n",
    "    ratio_pk_list.append(ratio_pk)\n",
    "    ratio_linear_list.append(ratio_linear)\n",
    "    ratio_bilinear_list.append(ratio_bilinear)\n",
    "\n",
    "    data_pred_list_pk_group.append(data_pred_list_pk)\n",
    "    data_pred_list_linear_group.append(data_pred_list_linear)\n",
    "    data_pred_list_bilinear_group.append(data_pred_list_bilinear)\n",
    "    data_true_group.append(data_true)"
   ]
  },
  {
   "cell_type": "code",
   "execution_count": 81,
   "id": "e8c70a6d",
   "metadata": {},
   "outputs": [
    {
     "data": {
      "text/plain": [
       "<matplotlib.legend.Legend at 0x7f7ba413f8b0>"
      ]
     },
     "execution_count": 81,
     "metadata": {},
     "output_type": "execute_result"
    },
    {
     "data": {
      "image/png": "[encoded data removed]",
      "text/plain": [
       "<Figure size 432x360 with 1 Axes>"
      ]
     },
     "metadata": {
      "needs_background": "light"
     },
     "output_type": "display_data"
    }
   ],
   "source": [
    "plt.figure(figsize=(6, 5))\n",
    "plt.plot(\n",
    "    data_pred_list_pk[:, 0], data_pred_list_pk[:, 1], label=\"Ours\", color=\"steelblue\", linewidth=3\n",
    ")\n",
    "plt.plot(\n",
    "    data_pred_list_linear[:, 0],\n",
    "    data_pred_list_linear[:, 1],\n",
    "    label=\"M2\",\n",
    "    color=\"darkorange\",\n",
    "    linewidth=3,\n",
    ")\n",
    "plt.plot(\n",
    "    data_pred_list_bilinear[:, 0],\n",
    "    data_pred_list_bilinear[:, 1],\n",
    "    label=\"M3\",\n",
    "    color=\"forestgreen\",\n",
    "    linewidth=3,\n",
    ")\n",
    "plt.plot(\n",
    "    data_true[:, 0], data_true[:, 1], label=\"True\", color=\"brown\", linestyle=\"dashed\", linewidth=3\n",
    ")\n",
    "plt.xlabel(r\"$x_{1}$\", fontsize=28)\n",
    "plt.ylabel(r\"$x_{2}$\", fontsize=28)\n",
    "plt.xticks(fontsize=18)\n",
    "plt.yticks(fontsize=18)\n",
    "plt.legend(fontsize=18)"
   ]
  },
  {
   "cell_type": "code",
   "execution_count": 82,
   "id": "a36e8965",
   "metadata": {},
   "outputs": [],
   "source": [
    "data_pred_list_pk_group = np.asarray(data_pred_list_pk_group)\n",
    "data_pred_list_linear_group = np.asarray(data_pred_list_linear_group)\n",
    "data_pred_list_bilinear_group = np.asarray(data_pred_list_bilinear_group)\n",
    "data_true_group = np.asarray(data_true_group)"
   ]
  },
  {
   "cell_type": "code",
   "execution_count": 83,
   "id": "a6df8fe1",
   "metadata": {},
   "outputs": [],
   "source": [
    "# for i in range(data_pred_list_pk_group.shape[0]):\n",
    "#     plt.figure(figsize=(6, 5))\n",
    "#     plt.plot(\n",
    "#         data_pred_list_pk_group[i, :, 0],\n",
    "#         data_pred_list_pk_group[i, :, 1],\n",
    "#         label=\"Ours\",\n",
    "#         color=\"steelblue\",\n",
    "#         linewidth=3,\n",
    "#     )\n",
    "#     plt.plot(\n",
    "#         data_pred_list_linear_group[i, :, 0],\n",
    "#         data_pred_list_linear_group[i, :, 1],\n",
    "#         label=\"M2\",\n",
    "#         color=\"darkorange\",\n",
    "#         linewidth=3,\n",
    "#     )\n",
    "#     plt.plot(\n",
    "#         data_pred_list_bilinear_group[i, :, 0],\n",
    "#         data_pred_list_bilinear_group[i, :, 1],\n",
    "#         label=\"M3\",\n",
    "#         color=\"forestgreen\",\n",
    "#         linewidth=3,\n",
    "#     )\n",
    "#     plt.plot(\n",
    "#         data_true_group[i, :, 0],\n",
    "#         data_true_group[i, :, 1],\n",
    "#         label=\"True\",\n",
    "#         color=\"brown\",\n",
    "#         linestyle=\"dashed\",\n",
    "#         linewidth=3,\n",
    "#     )\n",
    "#     plt.xlabel(r\"$x_{1}$\", fontsize=28)\n",
    "#     plt.ylabel(r\"$x_{2}$\", fontsize=28)\n",
    "#     plt.xticks(fontsize=18)\n",
    "#     plt.yticks(fontsize=18)\n",
    "#     plt.legend(fontsize=18)"
   ]
  },
  {
   "cell_type": "code",
   "execution_count": 84,
   "id": "343656b1",
   "metadata": {},
   "outputs": [],
   "source": [
    "ratio_pk_list = np.asarray(ratio_pk_list)\n",
    "ratio_linear_list = np.asarray(ratio_linear_list)\n",
    "ratio_bilinear_list = np.asarray(ratio_bilinear_list)"
   ]
  },
  {
   "cell_type": "code",
   "execution_count": 85,
   "id": "90863088",
   "metadata": {},
   "outputs": [],
   "source": [
    "ratio_pk_list_mean = np.mean(ratio_pk_list, axis=0)\n",
    "ratio_linear_list_mean = np.mean(ratio_linear_list, axis=0)\n",
    "ratio_bilinear_list_mean = np.mean(ratio_bilinear_list, axis=0)"
   ]
  },
  {
   "cell_type": "code",
   "execution_count": 86,
   "id": "5843294e",
   "metadata": {},
   "outputs": [],
   "source": [
    "ratio_pk_list_median = np.median(ratio_pk_list, axis=0)\n",
    "ratio_linear_list_median = np.median(ratio_linear_list, axis=0)\n",
    "ratio_bilinear_list_median = np.median(ratio_bilinear_list, axis=0)"
   ]
  },
  {
   "cell_type": "code",
   "execution_count": 87,
   "id": "a99da91a",
   "metadata": {},
   "outputs": [],
   "source": [
    "q_min = 0.35\n",
    "q_max = 0.65"
   ]
  },
  {
   "cell_type": "code",
   "execution_count": 88,
   "id": "30400bf9",
   "metadata": {},
   "outputs": [
    {
     "data": {
      "text/plain": [
       "array([[0.00000000e+00, 1.31962428e-04, 1.08827937e-04, 9.91088600e-05,\n",
       "        2.61554294e-04, 2.80731825e-04, 4.14135100e-04, 6.12527547e-04,\n",
       "        8.25067450e-04, 9.28264363e-04, 1.01812236e-03, 1.05924659e-03,\n",
       "        1.10669471e-03, 1.19393000e-03, 1.23770206e-03, 1.25201295e-03,\n",
       "        1.27871172e-03, 1.35124686e-03, 1.38994962e-03, 1.43291164e-03,\n",
       "        1.51589408e-03, 1.52533800e-03, 1.54972764e-03, 1.59407589e-03,\n",
       "        1.67162825e-03, 1.76792973e-03, 1.84692217e-03, 1.90764566e-03,\n",
       "        1.97831917e-03, 2.07487946e-03, 2.13205986e-03, 2.19563986e-03,\n",
       "        2.23552905e-03, 2.26090905e-03, 2.30075142e-03, 2.32176404e-03,\n",
       "        2.30427728e-03, 2.27842234e-03, 2.24512050e-03, 2.21073924e-03,\n",
       "        2.17837770e-03, 2.14832209e-03, 2.12030678e-03, 2.09295219e-03,\n",
       "        2.06733164e-03, 2.04321471e-03, 2.02130381e-03, 2.00200145e-03,\n",
       "        1.99551670e-03, 1.99626795e-03],\n",
       "       [0.00000000e+00, 5.09456530e-04, 7.71953472e-04, 9.78891298e-04,\n",
       "        1.01143382e-03, 1.13307337e-03, 1.09735754e-03, 1.12791324e-03,\n",
       "        1.29186789e-03, 1.28784570e-03, 1.32834320e-03, 1.32531126e-03,\n",
       "        1.35937500e-03, 1.32781976e-03, 1.28806592e-03, 1.27347414e-03,\n",
       "        1.28030954e-03, 1.28037680e-03, 1.33916009e-03, 1.42503356e-03,\n",
       "        1.46655309e-03, 1.54278551e-03, 1.59484090e-03, 1.62121953e-03,\n",
       "        1.70462483e-03, 1.76228876e-03, 1.78288281e-03, 1.79551075e-03,\n",
       "        1.85449529e-03, 1.96617234e-03, 2.02921997e-03, 2.14050299e-03,\n",
       "        2.29570193e-03, 2.47955426e-03, 2.66216090e-03, 2.85027367e-03,\n",
       "        3.03217930e-03, 3.16007925e-03, 3.32231901e-03, 3.50245400e-03,\n",
       "        3.63671706e-03, 3.70698897e-03, 3.80175807e-03, 3.92246403e-03,\n",
       "        4.00872572e-03, 4.04782536e-03, 4.07289613e-03, 4.06598412e-03,\n",
       "        4.04903281e-03, 4.04008080e-03],\n",
       "       [0.00000000e+00, 1.12412621e-04, 2.58353117e-04, 4.23846779e-04,\n",
       "        6.71604470e-04, 9.39465637e-04, 1.03271995e-03, 1.19260995e-03,\n",
       "        1.47183862e-03, 1.71108629e-03, 1.91040352e-03, 2.11677105e-03,\n",
       "        2.22119556e-03, 2.34261571e-03, 2.44816310e-03, 2.50104398e-03,\n",
       "        2.57525484e-03, 2.66652161e-03, 2.82232373e-03, 2.97392933e-03,\n",
       "        3.08544545e-03, 3.20711317e-03, 3.31666799e-03, 3.39751542e-03,\n",
       "        3.47673669e-03, 3.52740641e-03, 3.58277051e-03, 3.61676126e-03,\n",
       "        3.65532590e-03, 3.67374624e-03, 3.69455564e-03, 3.71431905e-03,\n",
       "        3.73694021e-03, 3.76241907e-03, 3.77473452e-03, 3.78564446e-03,\n",
       "        3.79246188e-03, 3.79081885e-03, 3.78797095e-03, 3.77876731e-03,\n",
       "        3.76756964e-03, 3.75466189e-03, 3.74406185e-03, 3.73593348e-03,\n",
       "        3.72671427e-03, 3.71625127e-03, 3.70732506e-03, 3.69972052e-03,\n",
       "        3.69509494e-03, 3.69458071e-03],\n",
       "       [0.00000000e+00, 5.42052231e-04, 6.05405504e-04, 7.39876365e-04,\n",
       "        7.05380249e-04, 6.44830747e-04, 6.66280955e-04, 6.95553032e-04,\n",
       "        8.39440202e-04, 8.77835242e-04, 1.00421934e-03, 1.18520638e-03,\n",
       "        1.41071800e-03, 1.57701831e-03, 1.61204845e-03, 1.63159599e-03,\n",
       "        1.62912460e-03, 1.65801016e-03, 1.71427348e-03, 1.81625328e-03,\n",
       "        1.87081829e-03, 1.94969165e-03, 2.01517807e-03, 2.07568714e-03,\n",
       "        2.12040962e-03, 2.19034461e-03, 2.20958577e-03, 2.21891512e-03,\n",
       "        2.23468604e-03, 2.24357161e-03, 2.24962801e-03, 2.27868509e-03,\n",
       "        2.29975897e-03, 2.31685977e-03, 2.35273459e-03, 2.40795585e-03,\n",
       "        2.47910382e-03, 2.57307730e-03, 2.69189220e-03, 2.82636810e-03,\n",
       "        2.95369561e-03, 3.10657651e-03, 3.25761680e-03, 3.39602631e-03,\n",
       "        3.54062351e-03, 3.66785342e-03, 3.79449526e-03, 3.93326062e-03,\n",
       "        4.06993084e-03, 4.21622534e-03],\n",
       "       [0.00000000e+00, 5.04107253e-05, 2.03756334e-04, 3.49052832e-04,\n",
       "        3.26753512e-04, 5.47203641e-04, 5.08682378e-04, 5.92003387e-04,\n",
       "        8.71672288e-04, 1.25963830e-03, 1.71865024e-03, 1.99189137e-03,\n",
       "        2.17766418e-03, 2.29219357e-03, 2.49726848e-03, 2.75987332e-03,\n",
       "        2.94250996e-03, 3.06052487e-03, 3.12858188e-03, 3.26762596e-03,\n",
       "        3.28354883e-03, 3.27666754e-03, 3.26024452e-03, 3.23548109e-03,\n",
       "        3.20578609e-03, 3.20223128e-03, 3.20455314e-03, 3.20987341e-03,\n",
       "        3.19896692e-03, 3.20643052e-03, 3.21810281e-03, 3.25774277e-03,\n",
       "        3.24113463e-03, 3.21686780e-03, 3.22111430e-03, 3.25183280e-03,\n",
       "        3.28505307e-03, 3.29947788e-03, 3.31221825e-03, 3.31270792e-03,\n",
       "        3.31650601e-03, 3.30891005e-03, 3.29711683e-03, 3.27804192e-03,\n",
       "        3.25649523e-03, 3.22792660e-03, 3.20990309e-03, 3.21116693e-03,\n",
       "        3.21878707e-03, 3.21324243e-03],\n",
       "       [0.00000000e+00, 3.14286591e-04, 4.24072079e-04, 9.46121838e-04,\n",
       "        1.17825314e-03, 1.28501064e-03, 1.49196524e-03, 1.66399052e-03,\n",
       "        1.93027158e-03, 2.23349429e-03, 2.51664414e-03, 2.66158734e-03,\n",
       "        2.71831292e-03, 2.72495734e-03, 2.86126252e-03, 3.06600035e-03,\n",
       "        3.19542773e-03, 3.29565986e-03, 3.43295736e-03, 3.53257532e-03,\n",
       "        3.65963051e-03, 3.86956573e-03, 4.09853739e-03, 4.33034604e-03,\n",
       "        4.49679530e-03, 4.70923586e-03, 4.90328608e-03, 5.05198516e-03,\n",
       "        5.20819531e-03, 5.41438679e-03, 5.62605360e-03, 5.84831418e-03,\n",
       "        6.04096162e-03, 6.22786171e-03, 6.40274272e-03, 6.53611484e-03,\n",
       "        6.63528498e-03, 6.76561108e-03, 6.88132470e-03, 7.03445401e-03,\n",
       "        7.18305783e-03, 7.31190755e-03, 7.45704030e-03, 7.57490859e-03,\n",
       "        7.68710154e-03, 7.73390250e-03, 7.75346048e-03, 7.75874574e-03,\n",
       "        7.78483127e-03, 7.81761436e-03],\n",
       "       [0.00000000e+00, 2.52248622e-04, 2.30783466e-04, 2.01279281e-04,\n",
       "        1.94127408e-04, 2.00405046e-04, 1.93746856e-04, 2.23824114e-04,\n",
       "        2.21762776e-04, 2.68669664e-04, 3.69067992e-04, 4.19059133e-04,\n",
       "        4.45803722e-04, 4.98299281e-04, 5.28890529e-04, 5.52278063e-04,\n",
       "        5.90947313e-04, 6.43240587e-04, 6.71342828e-04, 7.23541137e-04,\n",
       "        7.93386002e-04, 8.82963752e-04, 9.29934213e-04, 1.00099980e-03,\n",
       "        1.03395348e-03, 1.08934399e-03, 1.12438965e-03, 1.13671131e-03,\n",
       "        1.16646200e-03, 1.17178091e-03, 1.19053999e-03, 1.22473857e-03,\n",
       "        1.27470229e-03, 1.37017320e-03, 1.45730850e-03, 1.55442871e-03,\n",
       "        1.69963054e-03, 1.90780640e-03, 2.10342792e-03, 2.28084826e-03,\n",
       "        2.40257217e-03, 2.48444893e-03, 2.53864931e-03, 2.58289681e-03,\n",
       "        2.67680370e-03, 2.73591326e-03, 2.79203791e-03, 2.83231839e-03,\n",
       "        2.84917661e-03, 2.84950925e-03],\n",
       "       [0.00000000e+00, 4.47365723e-05, 1.96180640e-04, 3.49390913e-04,\n",
       "        4.45436136e-04, 4.88179407e-04, 4.85840658e-04, 5.13785009e-04,\n",
       "        5.43170852e-04, 5.76711386e-04, 6.23153021e-04, 6.86433218e-04,\n",
       "        7.67295998e-04, 8.42724483e-04, 8.74125996e-04, 9.05041425e-04,\n",
       "        9.44921926e-04, 9.56181272e-04, 9.75772721e-04, 9.81430838e-04,\n",
       "        9.91669148e-04, 9.88250653e-04, 9.77921186e-04, 9.66025120e-04,\n",
       "        9.66406867e-04, 9.54760924e-04, 9.53225936e-04, 9.62367997e-04,\n",
       "        9.63262572e-04, 1.00249336e-03, 1.03223577e-03, 1.07316455e-03,\n",
       "        1.12655691e-03, 1.18761011e-03, 1.24017246e-03, 1.30179878e-03,\n",
       "        1.33583288e-03, 1.38348471e-03, 1.41759187e-03, 1.46402289e-03,\n",
       "        1.56377919e-03, 1.67476457e-03, 1.78570538e-03, 1.91527972e-03,\n",
       "        2.04915567e-03, 2.15791027e-03, 2.28138879e-03, 2.41038319e-03,\n",
       "        2.51477347e-03, 2.59880583e-03],\n",
       "       [0.00000000e+00, 1.29074387e-03, 1.74965038e-03, 1.79737519e-03,\n",
       "        1.93268900e-03, 2.13896287e-03, 2.23248559e-03, 2.39913619e-03,\n",
       "        2.56023887e-03, 2.72154293e-03, 2.91182880e-03, 3.14338163e-03,\n",
       "        3.30979040e-03, 3.43964393e-03, 3.53941448e-03, 3.59280118e-03,\n",
       "        3.63274472e-03, 3.67084679e-03, 3.74797715e-03, 3.83977193e-03,\n",
       "        3.94478238e-03, 4.00976343e-03, 4.04228199e-03, 4.03900604e-03,\n",
       "        4.00221075e-03, 3.98809155e-03, 3.96953592e-03, 3.93822128e-03,\n",
       "        3.89636859e-03, 3.91915867e-03, 4.00610623e-03, 4.08179504e-03,\n",
       "        4.25417175e-03, 4.41614123e-03, 4.59949764e-03, 4.82031022e-03,\n",
       "        5.05563421e-03, 5.29996759e-03, 5.53870747e-03, 5.77450562e-03,\n",
       "        5.97188197e-03, 6.14822065e-03, 6.33171990e-03, 6.49115409e-03,\n",
       "        6.66038159e-03, 6.80447590e-03, 6.96875424e-03, 7.11011813e-03,\n",
       "        7.25424091e-03, 7.36903254e-03],\n",
       "       [0.00000000e+00, 4.82367823e-04, 7.32353866e-04, 8.23684580e-04,\n",
       "        7.99086118e-04, 8.26153068e-04, 8.80865879e-04, 8.81715772e-04,\n",
       "        8.45698568e-04, 8.08818946e-04, 7.65624930e-04, 7.34014204e-04,\n",
       "        7.29180145e-04, 7.13531951e-04, 6.87760844e-04, 6.81920322e-04,\n",
       "        6.97461272e-04, 7.36032786e-04, 7.79331478e-04, 8.13947327e-04,\n",
       "        8.61487753e-04, 9.32652917e-04, 1.02532812e-03, 1.13301473e-03,\n",
       "        1.19433595e-03, 1.27731679e-03, 1.35640442e-03, 1.43852064e-03,\n",
       "        1.51583684e-03, 1.58498061e-03, 1.66149886e-03, 1.74359395e-03,\n",
       "        1.82959302e-03, 1.90148957e-03, 1.97799619e-03, 2.05207380e-03,\n",
       "        2.12406990e-03, 2.19652530e-03, 2.26813123e-03, 2.33798740e-03,\n",
       "        2.40581857e-03, 2.46908114e-03, 2.52895701e-03, 2.58474747e-03,\n",
       "        2.63594336e-03, 2.67909669e-03, 2.71637877e-03, 2.74614797e-03,\n",
       "        2.76915913e-03, 2.78302869e-03],\n",
       "       [0.00000000e+00, 1.08125624e-04, 2.55960450e-04, 2.70602585e-04,\n",
       "        3.61280191e-04, 4.96613804e-04, 5.93323110e-04, 6.62352001e-04,\n",
       "        7.62728467e-04, 8.36099391e-04, 9.02395915e-04, 9.74408550e-04,\n",
       "        1.04756704e-03, 1.11534237e-03, 1.18517818e-03, 1.25367148e-03,\n",
       "        1.31989225e-03, 1.38576990e-03, 1.45690823e-03, 1.53025491e-03,\n",
       "        1.60174640e-03, 1.67209604e-03, 1.74119238e-03, 1.81022141e-03,\n",
       "        1.87663100e-03, 1.93829853e-03, 1.99460974e-03, 2.04568692e-03,\n",
       "        2.09063626e-03, 2.13388317e-03, 2.17543166e-03, 2.21349768e-03,\n",
       "        2.24925869e-03, 2.27929522e-03, 2.30218216e-03, 2.32208615e-03,\n",
       "        2.33823614e-03, 2.34154777e-03, 2.33305337e-03, 2.31636556e-03,\n",
       "        2.29043760e-03, 2.26180329e-03, 2.22684849e-03, 2.18966086e-03,\n",
       "        2.15328780e-03, 2.11851673e-03, 2.08413212e-03, 2.04894892e-03,\n",
       "        2.01546910e-03, 1.98475395e-03],\n",
       "       [0.00000000e+00, 2.85764725e-04, 4.14011961e-04, 4.33328615e-04,\n",
       "        6.88943748e-04, 1.10121193e-03, 1.22219732e-03, 1.25813943e-03,\n",
       "        1.29684418e-03, 1.29356120e-03, 1.30771625e-03, 1.28756211e-03,\n",
       "        1.28866443e-03, 1.30740178e-03, 1.29209427e-03, 1.28002525e-03,\n",
       "        1.28056617e-03, 1.29264150e-03, 1.31085194e-03, 1.30526679e-03,\n",
       "        1.29106921e-03, 1.27001837e-03, 1.26311695e-03, 1.26016415e-03,\n",
       "        1.24913038e-03, 1.23445379e-03, 1.21063207e-03, 1.18181351e-03,\n",
       "        1.15433255e-03, 1.12794480e-03, 1.10222314e-03, 1.07667876e-03,\n",
       "        1.05185752e-03, 1.02732062e-03, 1.00461855e-03, 9.83657907e-04,\n",
       "        9.66014344e-04, 9.51110425e-04, 9.39378258e-04, 9.33045805e-04,\n",
       "        9.31937799e-04, 9.35633643e-04, 9.44749683e-04, 9.59254337e-04,\n",
       "        9.78730296e-04, 1.00437358e-03, 1.03288508e-03, 1.06560395e-03,\n",
       "        1.10301726e-03, 1.14252870e-03],\n",
       "       [0.00000000e+00, 3.12587380e-04, 3.22261476e-04, 3.42998609e-04,\n",
       "        3.12134555e-04, 2.94309257e-04, 2.84553502e-04, 3.13404564e-04,\n",
       "        3.40870193e-04, 3.53337491e-04, 4.73067374e-04, 4.86840701e-04,\n",
       "        4.71428979e-04, 4.63865388e-04, 4.50616039e-04, 4.56659949e-04,\n",
       "        4.79411509e-04, 4.71822366e-04, 4.63732542e-04, 4.55585044e-04,\n",
       "        4.52484454e-04, 4.73221186e-04, 4.68681603e-04, 4.59466285e-04,\n",
       "        4.60695166e-04, 4.71870859e-04, 4.82762756e-04, 4.98619641e-04,\n",
       "        5.16549129e-04, 5.15286231e-04, 5.07062358e-04, 5.11963843e-04,\n",
       "        5.03367226e-04, 4.99740096e-04, 5.05900166e-04, 5.27553342e-04,\n",
       "        5.41111250e-04, 5.37511633e-04, 5.36431621e-04, 5.32520470e-04,\n",
       "        5.24955466e-04, 5.15348250e-04, 5.07885655e-04, 5.03462313e-04,\n",
       "        5.02568958e-04, 5.08414169e-04, 5.20117800e-04, 5.38887491e-04,\n",
       "        5.66577317e-04, 6.14510619e-04],\n",
       "       [0.00000000e+00, 2.47249649e-04, 3.83241222e-04, 4.49233086e-04,\n",
       "        6.46154349e-04, 9.30999239e-04, 1.05034242e-03, 1.11604981e-03,\n",
       "        1.19331392e-03, 1.23733637e-03, 1.31661944e-03, 1.35868599e-03,\n",
       "        1.43529133e-03, 1.54400017e-03, 1.61764805e-03, 1.70716947e-03,\n",
       "        1.82429264e-03, 1.96407175e-03, 2.11414606e-03, 2.21657907e-03,\n",
       "        2.30046823e-03, 2.36880336e-03, 2.47616627e-03, 2.60203907e-03,\n",
       "        2.70837105e-03, 2.80819966e-03, 2.87527791e-03, 2.91563421e-03,\n",
       "        2.97577621e-03, 3.05465375e-03, 3.14893608e-03, 3.24350591e-03,\n",
       "        3.35117960e-03, 3.46234634e-03, 3.54135945e-03, 3.63106138e-03,\n",
       "        3.70835507e-03, 3.79619339e-03, 3.89591455e-03, 3.99485138e-03,\n",
       "        4.10053965e-03, 4.21505484e-03, 4.31995713e-03, 4.41048398e-03,\n",
       "        4.47212005e-03, 4.53097947e-03, 4.56703101e-03, 4.59120166e-03,\n",
       "        4.62131281e-03, 4.65076744e-03],\n",
       "       [0.00000000e+00, 2.03936993e-04, 4.43188743e-04, 6.84162909e-04,\n",
       "        7.53331235e-04, 8.98320894e-04, 1.02785817e-03, 1.26473961e-03,\n",
       "        1.40679375e-03, 1.47909145e-03, 1.51231544e-03, 1.55396521e-03,\n",
       "        1.63818287e-03, 1.76316920e-03, 1.88280742e-03, 1.99681317e-03,\n",
       "        2.08134198e-03, 2.17230262e-03, 2.20599842e-03, 2.27928070e-03,\n",
       "        2.39042469e-03, 2.51356842e-03, 2.64745779e-03, 2.80400954e-03,\n",
       "        2.96934779e-03, 3.15508057e-03, 3.31653481e-03, 3.48542377e-03,\n",
       "        3.67681412e-03, 3.88969121e-03, 4.05840204e-03, 4.24802972e-03,\n",
       "        4.40366672e-03, 4.54537217e-03, 4.66741548e-03, 4.79900977e-03,\n",
       "        4.95078881e-03, 5.07464686e-03, 5.15476787e-03, 5.24500264e-03,\n",
       "        5.31460554e-03, 5.40226016e-03, 5.45647825e-03, 5.46908781e-03,\n",
       "        5.49049430e-03, 5.52868017e-03, 5.59265922e-03, 5.63179645e-03,\n",
       "        5.67648313e-03, 5.72915252e-03],\n",
       "       [0.00000000e+00, 2.08131929e-04, 7.18762718e-04, 1.21350977e-03,\n",
       "        1.41631725e-03, 1.77658082e-03, 1.95212867e-03, 2.24061209e-03,\n",
       "        2.24245766e-03, 2.15973996e-03, 2.07741055e-03, 2.00379019e-03,\n",
       "        1.98339711e-03, 1.94864882e-03, 1.97400778e-03, 2.04964869e-03,\n",
       "        2.09780122e-03, 2.15749765e-03, 2.18734351e-03, 2.28029050e-03,\n",
       "        2.33257019e-03, 2.43922405e-03, 2.56122545e-03, 2.74888753e-03,\n",
       "        2.99162277e-03, 3.27446075e-03, 3.49794094e-03, 3.66504137e-03,\n",
       "        3.88336860e-03, 4.10149760e-03, 4.36161045e-03, 4.64428820e-03,\n",
       "        4.87704062e-03, 5.09033222e-03, 5.33105913e-03, 5.52977771e-03,\n",
       "        5.72575333e-03, 5.95706457e-03, 6.22914748e-03, 6.46144271e-03,\n",
       "        6.67962103e-03, 6.92796611e-03, 7.13710317e-03, 7.31244894e-03,\n",
       "        7.46072379e-03, 7.58326546e-03, 7.68024762e-03, 7.79272052e-03,\n",
       "        7.90316952e-03, 7.95819163e-03],\n",
       "       [0.00000000e+00, 6.34494156e-04, 8.89342784e-04, 1.26627590e-03,\n",
       "        1.50182218e-03, 1.66761711e-03, 1.66609976e-03, 1.56719920e-03,\n",
       "        1.50423513e-03, 1.50121966e-03, 1.47812270e-03, 1.43984383e-03,\n",
       "        1.43025047e-03, 1.48083499e-03, 1.60477442e-03, 1.68499429e-03,\n",
       "        1.70294946e-03, 1.76057996e-03, 1.73999101e-03, 1.73944845e-03,\n",
       "        1.75723186e-03, 1.77204680e-03, 1.77547383e-03, 1.79132481e-03,\n",
       "        1.82452527e-03, 1.87431034e-03, 1.90767341e-03, 1.96752488e-03,\n",
       "        2.06271892e-03, 2.17220212e-03, 2.25942536e-03, 2.33659939e-03,\n",
       "        2.37237348e-03, 2.43568801e-03, 2.50888041e-03, 2.59709669e-03,\n",
       "        2.68175968e-03, 2.76981914e-03, 2.87860000e-03, 2.97745344e-03,\n",
       "        3.07054446e-03, 3.16840208e-03, 3.26062047e-03, 3.34634768e-03,\n",
       "        3.42669525e-03, 3.50520429e-03, 3.59668150e-03, 3.70033354e-03,\n",
       "        3.80755335e-03, 3.93012222e-03],\n",
       "       [0.00000000e+00, 1.93388823e-04, 1.59469647e-04, 2.56358548e-04,\n",
       "        2.71042056e-04, 2.64525753e-04, 2.65156446e-04, 3.62951823e-04,\n",
       "        5.43410418e-04, 6.32062607e-04, 7.58801128e-04, 7.82451562e-04,\n",
       "        7.90958614e-04, 7.82930861e-04, 8.10110522e-04, 7.95494372e-04,\n",
       "        8.18581641e-04, 8.02254975e-04, 7.81016179e-04, 7.78814686e-04,\n",
       "        8.07078254e-04, 8.14579966e-04, 7.97536617e-04, 7.89100597e-04,\n",
       "        7.74920639e-04, 7.76582369e-04, 8.04704975e-04, 8.34294463e-04,\n",
       "        9.16670903e-04, 9.72432392e-04, 1.07953489e-03, 1.23163788e-03,\n",
       "        1.41163085e-03, 1.58670183e-03, 1.70640809e-03, 1.86021530e-03,\n",
       "        1.94711719e-03, 2.06927540e-03, 2.23054959e-03, 2.40744892e-03,\n",
       "        2.60523530e-03, 2.77511338e-03, 2.92204356e-03, 3.04176565e-03,\n",
       "        3.19570032e-03, 3.35580321e-03, 3.54547185e-03, 3.81956723e-03,\n",
       "        4.13559671e-03, 4.38755883e-03],\n",
       "       [0.00000000e+00, 2.87638503e-04, 5.07518178e-04, 8.37074073e-04,\n",
       "        9.27546743e-04, 1.04595959e-03, 1.12867025e-03, 1.48026080e-03,\n",
       "        1.61525164e-03, 1.77230330e-03, 1.84852788e-03, 1.87817984e-03,\n",
       "        1.96035784e-03, 2.01862045e-03, 2.10901578e-03, 2.21662399e-03,\n",
       "        2.35825967e-03, 2.52444337e-03, 2.66687715e-03, 2.82844514e-03,\n",
       "        2.95789326e-03, 3.07735084e-03, 3.18619598e-03, 3.29212208e-03,\n",
       "        3.41124010e-03, 3.49016687e-03, 3.55568536e-03, 3.59757359e-03,\n",
       "        3.61963506e-03, 3.62237354e-03, 3.60955910e-03, 3.58900033e-03,\n",
       "        3.57110286e-03, 3.54492541e-03, 3.51731382e-03, 3.49556373e-03,\n",
       "        3.46638092e-03, 3.43963945e-03, 3.40801113e-03, 3.37186730e-03,\n",
       "        3.33158770e-03, 3.28723465e-03, 3.24393243e-03, 3.19840396e-03,\n",
       "        3.14909827e-03, 3.09900760e-03, 3.05017106e-03, 3.00162691e-03,\n",
       "        2.95535098e-03, 2.91017735e-03],\n",
       "       [0.00000000e+00, 5.05919815e-04, 4.17398251e-04, 5.02527813e-04,\n",
       "        5.24969829e-04, 4.83822610e-04, 4.94538802e-04, 4.89153689e-04,\n",
       "        7.47123904e-04, 8.50980864e-04, 1.06212856e-03, 1.30906262e-03,\n",
       "        1.55293549e-03, 1.82002067e-03, 2.11898397e-03, 2.29311427e-03,\n",
       "        2.38267232e-03, 2.68073427e-03, 2.84769763e-03, 2.95888033e-03,\n",
       "        3.00855957e-03, 3.11049628e-03, 3.24799439e-03, 3.42959467e-03,\n",
       "        3.64320900e-03, 3.80077280e-03, 3.91163191e-03, 3.99287055e-03,\n",
       "        4.05026966e-03, 4.07322218e-03, 4.18459465e-03, 4.33921449e-03,\n",
       "        4.50747343e-03, 4.65313917e-03, 4.83603770e-03, 4.98512815e-03,\n",
       "        5.15581231e-03, 5.36163847e-03, 5.53167689e-03, 5.69921859e-03,\n",
       "        5.83157208e-03, 5.93423298e-03, 6.00998020e-03, 6.10830337e-03,\n",
       "        6.21899669e-03, 6.30546035e-03, 6.37710752e-03, 6.44613002e-03,\n",
       "        6.48617356e-03, 6.54996096e-03]])"
      ]
     },
     "execution_count": 88,
     "metadata": {},
     "output_type": "execute_result"
    }
   ],
   "source": [
    "ratio_pk_list"
   ]
  },
  {
   "cell_type": "code",
   "execution_count": 89,
   "id": "a97a2f25",
   "metadata": {},
   "outputs": [],
   "source": [
    "ratio_pk_list_min = np.quantile(ratio_pk_list, q=q_min, axis=0)\n",
    "ratio_linear_list_min = np.quantile(ratio_linear_list, q=q_min, axis=0)\n",
    "ratio_bilinear_list_min = np.quantile(ratio_bilinear_list, q=q_min, axis=0)"
   ]
  },
  {
   "cell_type": "code",
   "execution_count": 90,
   "id": "d34f9a5c",
   "metadata": {},
   "outputs": [],
   "source": [
    "ratio_pk_list_max = np.quantile(ratio_pk_list, q=q_max, axis=0)\n",
    "ratio_linear_list_max = np.quantile(ratio_linear_list, q=q_max, axis=0)\n",
    "ratio_bilinear_list_max = np.quantile(ratio_bilinear_list, q=q_max, axis=0)"
   ]
  },
  {
   "cell_type": "code",
   "execution_count": 91,
   "id": "b05843d9",
   "metadata": {},
   "outputs": [],
   "source": [
    "x_axis = np.arange(0, traj_len_test, 1)"
   ]
  },
  {
   "cell_type": "code",
   "execution_count": 92,
   "id": "cb16eaf8",
   "metadata": {},
   "outputs": [
    {
     "data": {
      "text/plain": [
       "<matplotlib.legend.Legend at 0x7f7ba4049b80>"
      ]
     },
     "execution_count": 92,
     "metadata": {},
     "output_type": "execute_result"
    },
    {
     "data": {
      "image/png": "[encoded data removed]",
      "text/plain": [
       "<Figure size 432x288 with 1 Axes>"
      ]
     },
     "metadata": {
      "needs_background": "light"
     },
     "output_type": "display_data"
    }
   ],
   "source": [
    "plt.figure(figsize=(6, 4))\n",
    "\n",
    "plt.plot(ratio_pk_list_median, label=\"Ours\", color=\"steelblue\", linewidth=3)\n",
    "plt.fill_between(x_axis, ratio_pk_list_min, ratio_pk_list_max, color=\"lightsteelblue\", alpha=0.5)\n",
    "plt.plot(ratio_linear_list_median, label=\"M2\", color=\"darkorange\", linewidth=3)\n",
    "plt.fill_between(\n",
    "    x_axis, ratio_linear_list_min, ratio_linear_list_max, color=\"navajowhite\", alpha=0.5\n",
    ")\n",
    "plt.plot(ratio_bilinear_list_median, label=\"M3\", color=\"forestgreen\", linewidth=3)\n",
    "plt.fill_between(\n",
    "    x_axis, ratio_bilinear_list_min, ratio_bilinear_list_max, color=\"darkseagreen\", alpha=0.5\n",
    ")\n",
    "\n",
    "\n",
    "plt.ticklabel_format(axis=\"y\", style=\"sci\", scilimits=(0, 0))\n",
    "plt.gca().yaxis.get_offset_text().set_fontsize(18)\n",
    "\n",
    "plt.xlabel(r\"$n$\", fontsize=28)\n",
    "plt.ylabel(\"Error\", fontsize=28)\n",
    "plt.xticks(fontsize=18)\n",
    "plt.yticks(fontsize=18)\n",
    "plt.legend(fontsize=18)"
   ]
  },
  {
   "cell_type": "code",
   "execution_count": 177,
   "id": "d791af51",
   "metadata": {},
   "outputs": [],
   "source": [
    "dict_mean = {\n",
    "    \"pk\": ratio_pk_list_mean,\n",
    "    \"linear\": ratio_linear_list_mean,\n",
    "    \"bilinear\": ratio_bilinear_list_mean,\n",
    "}"
   ]
  },
  {
   "cell_type": "code",
   "execution_count": null,
   "id": "451aa001",
   "metadata": {},
   "outputs": [],
   "source": []
  },
  {
   "cell_type": "code",
   "execution_count": null,
   "id": "46a386ad",
   "metadata": {},
   "outputs": [],
   "source": []
  },
  {
   "cell_type": "code",
   "execution_count": null,
   "id": "7302b6f2",
   "metadata": {},
   "outputs": [],
   "source": [
    "# np.save(os.path.join(data_path, \"ratio_list_dict_mu_\" + str(mu) + \"_mean.npy\"), dict_mean)"
   ]
  },
  {
   "cell_type": "markdown",
   "id": "7153fe7f",
   "metadata": {},
   "source": [
    "# See the comparison\n",
    "If you have tested on all $\\mu: 0,1,2,3,4$, then you can run the following codes to see the comparison."
   ]
  },
  {
   "cell_type": "code",
   "execution_count": null,
   "id": "aa38bf34",
   "metadata": {},
   "outputs": [],
   "source": [
    "import matplotlib.pyplot as plt\n",
    "import numpy as np\n",
    "\n",
    "mean_dict_mu_0 = np.load(\n",
    "    os.path.join(data_path, \"ratio_list_dict_mu_0_mean.npy\"), allow_pickle=True\n",
    ")\n",
    "mean_dict_mu_1 = np.load(\n",
    "    os.path.join(data_path, \"ratio_list_dict_mu_1_mean.npy\"), allow_pickle=True\n",
    ")\n",
    "mean_dict_mu_2 = np.load(\n",
    "    os.path.join(data_path, \"ratio_list_dict_mu_2_mean.npy\"), allow_pickle=True\n",
    ")\n",
    "mean_dict_mu_3 = np.load(\n",
    "    os.path.join(data_path, \"ratio_list_dict_mu_3_mean.npy\"), allow_pickle=True\n",
    ")\n",
    "mean_dict_mu_4 = np.load(\n",
    "    os.path.join(data_path, \"ratio_list_dict_mu_4_mean.npy\"), allow_pickle=True\n",
    ")\n",
    "\n",
    "\n",
    "def extact_data(ratio_dict, ratio_name):\n",
    "    ratio_pk = ratio_dict[()][ratio_name[0]].reshape((1, -1))\n",
    "    ratio_linear = ratio_dict[()][ratio_name[1]].reshape((1, -1))\n",
    "    ratio_bilinear = ratio_dict[()][ratio_name[2]].reshape((1, -1))\n",
    "    return ratio_pk, ratio_linear, ratio_bilinear\n",
    "\n",
    "\n",
    "mean_dict_list = [mean_dict_mu_0, mean_dict_mu_1, mean_dict_mu_2, mean_dict_mu_3, mean_dict_mu_4]\n",
    "\n",
    "ratio_pk_list = []\n",
    "ratio_linear_list = []\n",
    "ratio_bilinear_list = []\n",
    "\n",
    "ratio_name_list = [\"pk\", \"linear\", \"bilinear\"]\n",
    "\n",
    "\n",
    "def concat_ratio_list(ratio_list):\n",
    "    ratio_concat = np.concatenate(ratio_list, axis=0)\n",
    "    ratio_concat = ratio_concat.T\n",
    "    return ratio_concat\n",
    "\n",
    "\n",
    "def concat_data(dict_list):\n",
    "    pk_list = []\n",
    "    linear_list = []\n",
    "    bilinear_list = []\n",
    "\n",
    "    for i in range(5):\n",
    "        pk, linear, bilinear = extact_data(dict_list[i], ratio_name=ratio_name_list)\n",
    "        pk_list.append(pk)\n",
    "        linear_list.append(linear)\n",
    "        bilinear_list.append(bilinear)\n",
    "\n",
    "    pk_concat = concat_ratio_list(pk_list)\n",
    "    linear_concat = concat_ratio_list(linear_list)\n",
    "    bilinear_concat = concat_ratio_list(bilinear_list)\n",
    "\n",
    "    return pk_concat, linear_concat, bilinear_concat\n",
    "\n",
    "\n",
    "mean_pk, mean_linear, mean_bilinear = concat_data(mean_dict_list)\n",
    "\n",
    "mean_linear_mean = np.mean(mean_linear, axis=0)\n",
    "mean_bilinear_mean = np.mean(mean_bilinear, axis=0)\n",
    "mean_pk_mean = np.mean(mean_pk, axis=0)\n",
    "\n",
    "mu = [0, 1, 2, 3, 4]\n",
    "mu_axis = list(range(len(mu)))\n",
    "\n",
    "\n",
    "def plot_evaluate_vdpm(mu, mean, dict_plot):\n",
    "    plt.plot(\n",
    "        mu,\n",
    "        mean,\n",
    "        label=dict_plot[\"label\"],\n",
    "        marker=dict_plot[\"marker\"],\n",
    "        markersize=dict_plot[\"markersize\"],\n",
    "        color=dict_plot[\"color\"],\n",
    "        linestyle=dict_plot[\"linestyle\"],\n",
    "        linewidth=dict_plot[\"linewidth\"],\n",
    "    )\n",
    "\n",
    "\n",
    "label_font = 24\n",
    "ticks_font = 18\n",
    "legend_font = 22\n",
    "\n",
    "\n",
    "dict_plot_pk = {\n",
    "    \"label\": \"Ours\",\n",
    "    \"marker\": \"*\",\n",
    "    \"markersize\": 10,\n",
    "    \"color\": \"steelblue\",\n",
    "    \"linestyle\": \"-\",\n",
    "    \"linewidth\": 3,\n",
    "}\n",
    "\n",
    "dict_plot_linear = {\n",
    "    \"label\": \"M2\",\n",
    "    \"marker\": \"s\",\n",
    "    \"markersize\": 10,\n",
    "    \"color\": \"darkorange\",\n",
    "    \"linestyle\": \"-\",\n",
    "    \"linewidth\": 3,\n",
    "}\n",
    "\n",
    "dict_plot_bilinear = {\n",
    "    \"label\": \"M3\",\n",
    "    \"marker\": \"o\",\n",
    "    \"markersize\": 10,\n",
    "    \"color\": \"forestgreen\",\n",
    "    \"linestyle\": \"-\",\n",
    "    \"linewidth\": 3,\n",
    "}\n",
    "\n",
    "plt.figure(figsize=(15, 4))\n",
    "plot_evaluate_vdpm(mu, mean_pk_mean, dict_plot=dict_plot_pk)\n",
    "plot_evaluate_vdpm(mu, mean_linear_mean, dict_plot=dict_plot_linear)\n",
    "\n",
    "plot_evaluate_vdpm(mu, mean_bilinear_mean, dict_plot=dict_plot_bilinear)\n",
    "\n",
    "plt.xlabel(r\"$\\mu$\", loc=\"right\", fontsize=label_font)\n",
    "plt.ylabel(\"Error\", fontsize=label_font)\n",
    "plt.xticks(mu_axis, mu, fontsize=ticks_font)\n",
    "plt.yticks(fontsize=ticks_font)\n",
    "plt.legend(fontsize=legend_font)"
   ]
  },
  {
   "cell_type": "code",
   "execution_count": null,
   "id": "0d5d9a91",
   "metadata": {},
   "outputs": [],
   "source": []
  }
 ],
 "metadata": {
  "kernelspec": {
   "display_name": "koopman",
   "language": "python",
   "name": "python3"
  },
  "language_info": {
   "codemirror_mode": {
    "name": "ipython",
    "version": 3
   },
   "file_extension": ".py",
   "mimetype": "text/x-python",
   "name": "python",
   "nbconvert_exporter": "python",
   "pygments_lexer": "ipython3",
   "version": "3.8.8"
  }
 },
 "nbformat": 4,
 "nbformat_minor": 5
}
