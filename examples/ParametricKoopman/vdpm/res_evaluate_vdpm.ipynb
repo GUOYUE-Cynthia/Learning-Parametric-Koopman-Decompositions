{
 "cells": [
  {
   "cell_type": "code",
   "execution_count": 2,
   "id": "a3902974",
   "metadata": {},
   "outputs": [],
   "source": [
    "import os\n",
    "\n",
    "os.environ[\"CUDA_VISIBLE_DEVICES\"] = \"-1\""
   ]
  },
  {
   "cell_type": "code",
   "execution_count": 3,
   "id": "de85dd8b",
   "metadata": {},
   "outputs": [],
   "source": [
    "%load_ext autoreload\n",
    "%autoreload 2"
   ]
  },
  {
   "cell_type": "code",
   "execution_count": 4,
   "id": "20eb0b2f",
   "metadata": {},
   "outputs": [
    {
     "name": "stderr",
     "output_type": "stream",
     "text": [
      "2024-03-14 08:48:56.422416: I tensorflow/core/platform/cpu_feature_guard.cc:193] This TensorFlow binary is optimized with oneAPI Deep Neural Network Library (oneDNN) to use the following CPU instructions in performance-critical operations:  AVX2 AVX512F AVX512_VNNI FMA\n",
      "To enable them in other operations, rebuild TensorFlow with the appropriate compiler flags.\n",
      "2024-03-14 08:48:56.557164: I tensorflow/core/util/port.cc:104] oneDNN custom operations are on. You may see slightly different numerical results due to floating-point round-off errors from different computation orders. To turn them off, set the environment variable `TF_ENABLE_ONEDNN_OPTS=0`.\n",
      "2024-03-14 08:48:57.098255: W tensorflow/compiler/xla/stream_executor/platform/default/dso_loader.cc:64] Could not load dynamic library 'libnvinfer.so.7'; dlerror: libnvrtc.so.10.2: cannot open shared object file: No such file or directory\n",
      "2024-03-14 08:48:57.098389: W tensorflow/compiler/xla/stream_executor/platform/default/dso_loader.cc:64] Could not load dynamic library 'libnvinfer_plugin.so.7'; dlerror: libnvrtc.so.10.2: cannot open shared object file: No such file or directory\n",
      "2024-03-14 08:48:57.098396: W tensorflow/compiler/tf2tensorrt/utils/py_utils.cc:38] TF-TRT Warning: Cannot dlopen some TensorRT libraries. If you would like to use Nvidia GPU with TensorRT, please make sure the missing libraries mentioned above are installed properly.\n"
     ]
    }
   ],
   "source": [
    "import numpy as np\n",
    "import tensorflow as tf"
   ]
  },
  {
   "cell_type": "code",
   "execution_count": 5,
   "id": "20434742",
   "metadata": {},
   "outputs": [],
   "source": [
    "import json\n",
    "import sys"
   ]
  },
  {
   "cell_type": "code",
   "execution_count": 6,
   "id": "b57cf3bc",
   "metadata": {},
   "outputs": [],
   "source": [
    "from tensorflow.keras.layers import Dense, Input, Layer\n",
    "from tensorflow.keras.models import Model\n",
    "from tensorflow.keras.optimizers import Adam"
   ]
  },
  {
   "cell_type": "code",
   "execution_count": 7,
   "id": "a68ff93e",
   "metadata": {},
   "outputs": [],
   "source": [
    "import matplotlib.pyplot as plt"
   ]
  },
  {
   "cell_type": "code",
   "execution_count": 8,
   "id": "46c614f7",
   "metadata": {},
   "outputs": [],
   "source": [
    "from koopmanlib.dictionary import PsiNN\n",
    "from koopmanlib.param_solver import (\n",
    "    KoopmanBilinearDLSolver,\n",
    "    KoopmanLinearDLSolver,\n",
    "    KoopmanParametricDLSolver,\n",
    ")\n",
    "from koopmanlib.target import VanderPolMathieuTarget"
   ]
  },
  {
   "cell_type": "code",
   "execution_count": 10,
   "id": "e707adcb",
   "metadata": {},
   "outputs": [],
   "source": [
    "config_file = \"config_vdpm.json\"\n",
    "\n",
    "with open(config_file, \"r\") as f:\n",
    "    config = json.load(f)\n",
    "\n",
    "data_path = config[\"data_settings\"][\"data_path\"]\n",
    "weights_path = config[\"nn_settings\"][\"weights_path\"]\n",
    "\n",
    "n_traj = config[\"data_settings\"][\"n_traj\"]\n",
    "traj_len = config[\"data_settings\"][\"traj_len\"]\n",
    "mu = config[\"data_settings\"][\"mu\"][2]\n",
    "\n",
    "n_psi_train = config[\"nn_settings\"][\"n_psi_train\"]\n",
    "dict_layer_size = config[\"nn_settings\"][\"dict_layer_size\"]\n",
    "K_layer_size = config[\"nn_settings\"][\"K_layer_size\"][2]"
   ]
  },
  {
   "cell_type": "code",
   "execution_count": 141,
   "id": "d2d87a06",
   "metadata": {},
   "outputs": [
    {
     "data": {
      "text/plain": [
       "[32]"
      ]
     },
     "execution_count": 141,
     "metadata": {},
     "output_type": "execute_result"
    }
   ],
   "source": [
    "dict_layer_size"
   ]
  },
  {
   "cell_type": "code",
   "execution_count": 142,
   "id": "cd69951e",
   "metadata": {},
   "outputs": [
    {
     "name": "stdout",
     "output_type": "stream",
     "text": [
      "mu 2\n",
      "K_layer_size [16]\n"
     ]
    }
   ],
   "source": [
    "print(\"mu\", mu)\n",
    "print(\"K_layer_size\", K_layer_size)"
   ]
  },
  {
   "cell_type": "code",
   "execution_count": 143,
   "id": "3719b75b",
   "metadata": {},
   "outputs": [],
   "source": [
    "target_dim = 2\n",
    "param_dim = 1\n",
    "\n",
    "n_psi = 1 + target_dim + n_psi_train"
   ]
  },
  {
   "cell_type": "code",
   "execution_count": 144,
   "id": "fc8d2ef1",
   "metadata": {},
   "outputs": [
    {
     "data": {
      "text/plain": [
       "13"
      ]
     },
     "execution_count": 144,
     "metadata": {},
     "output_type": "execute_result"
    }
   ],
   "source": [
    "n_psi"
   ]
  },
  {
   "cell_type": "code",
   "execution_count": 145,
   "id": "6db408fa",
   "metadata": {},
   "outputs": [],
   "source": [
    "# Set parameters in the vdpm equation.\n",
    "k1, k2, k4, w0 = 2, 2, 1, 1"
   ]
  },
  {
   "cell_type": "code",
   "execution_count": 146,
   "id": "7ba3c3ca",
   "metadata": {},
   "outputs": [],
   "source": [
    "vdp_mathieu = VanderPolMathieuTarget(\n",
    "    mu=mu, dim=target_dim, param_dim=param_dim, k1=k1, k2=k2, k4=k4, w0=w0\n",
    ")"
   ]
  },
  {
   "cell_type": "code",
   "execution_count": 147,
   "id": "a74259c0",
   "metadata": {},
   "outputs": [],
   "source": [
    "dic_pk = PsiNN(layer_sizes=dict_layer_size, n_psi_train=n_psi_train)"
   ]
  },
  {
   "cell_type": "code",
   "execution_count": 148,
   "id": "2a59f6d0",
   "metadata": {},
   "outputs": [],
   "source": [
    "from koopmanlib.K_structure import Model_ResNet_K_u_Layer_One\n",
    "\n",
    "model_K_u = Model_ResNet_K_u_Layer_One(layer_sizes=K_layer_size, n_psi=n_psi, activation=\"tanh\")\n",
    "\n",
    "solver_pk = KoopmanParametricDLSolver(\n",
    "    target_dim=target_dim, param_dim=param_dim, n_psi=n_psi, dic=dic_pk, model_K_u=model_K_u\n",
    ")\n",
    "\n",
    "model_pk, model_K_u_pred_pk = solver_pk.generate_model()"
   ]
  },
  {
   "cell_type": "code",
   "execution_count": 149,
   "id": "c23951cb",
   "metadata": {},
   "outputs": [
    {
     "name": "stdout",
     "output_type": "stream",
     "text": [
      "Model: \"model_9\"\n",
      "__________________________________________________________________________________________________\n",
      " Layer (type)                   Output Shape         Param #     Connected to                     \n",
      "==================================================================================================\n",
      " input_48 (InputLayer)          [(None, 2)]          0           []                               \n",
      "                                                                                                  \n",
      " tf.slice_18 (TFOpLambda)       (None, 1)            0           ['input_48[0][0]']               \n",
      "                                                                                                  \n",
      " input_49 (InputLayer)          [(None, 2)]          0           []                               \n",
      "                                                                                                  \n",
      " tf.ones_like_18 (TFOpLambda)   (None, 1)            0           ['tf.slice_18[0][0]']            \n",
      "                                                                                                  \n",
      " DicNN (DicNN)                  (None, 10)           1450        ['input_48[0][0]',               \n",
      "                                                                  'input_49[0][0]']               \n",
      "                                                                                                  \n",
      " tf.slice_19 (TFOpLambda)       (None, 1)            0           ['input_49[0][0]']               \n",
      "                                                                                                  \n",
      " input_50 (InputLayer)          [(None, 1)]          0           []                               \n",
      "                                                                                                  \n",
      " concatenate_8838 (Concatenate)  (None, 13)          0           ['tf.ones_like_18[0][0]',        \n",
      "                                                                  'input_48[0][0]',               \n",
      "                                                                  'DicNN[0][0]']                  \n",
      "                                                                                                  \n",
      " tf.ones_like_19 (TFOpLambda)   (None, 1)            0           ['tf.slice_19[0][0]']            \n",
      "                                                                                                  \n",
      " K_u_pred (Functional)          (None, 13)           2956        ['input_50[0][0]',               \n",
      "                                                                  'concatenate_8838[0][0]']       \n",
      "                                                                                                  \n",
      " concatenate_8839 (Concatenate)  (None, 13)          0           ['tf.ones_like_19[0][0]',        \n",
      "                                                                  'input_49[0][0]',               \n",
      "                                                                  'DicNN[1][0]']                  \n",
      "                                                                                                  \n",
      " tf.math.subtract_9 (TFOpLambda  (None, 13)          0           ['K_u_pred[0][0]',               \n",
      " )                                                                'concatenate_8839[0][0]']       \n",
      "                                                                                                  \n",
      "==================================================================================================\n",
      "Total params: 4,406\n",
      "Trainable params: 4,406\n",
      "Non-trainable params: 0\n",
      "__________________________________________________________________________________________________\n"
     ]
    }
   ],
   "source": [
    "model_pk.summary()"
   ]
  },
  {
   "cell_type": "code",
   "execution_count": 150,
   "id": "0fa0c7db",
   "metadata": {},
   "outputs": [],
   "source": [
    "model_pk.load_weights(os.path.join(weights_path, \"model_pk_vdpm_mu_\" + str(mu) + \".h5\"))"
   ]
  },
  {
   "cell_type": "code",
   "execution_count": 151,
   "id": "099b98b0",
   "metadata": {},
   "outputs": [],
   "source": [
    "# model_pk.get_layer('DicNN').trainable = False\n",
    "# for layer in solver_pk.model_K_u.hidden_layers:\n",
    "#     layer.trainable = False\n",
    "# solver_pk.model_K_u.output_layer.trainable = True\n",
    "# model_pk.load_weights(os.path.join(weights_path, 'train_dense_model_pk_vdpm_mu_'+str(mu)+'.h5'))"
   ]
  },
  {
   "cell_type": "markdown",
   "id": "81f0de77",
   "metadata": {},
   "source": [
    "# Linear Model: Dynamics is $Az +Bu$"
   ]
  },
  {
   "cell_type": "code",
   "execution_count": 152,
   "id": "9ed53098",
   "metadata": {},
   "outputs": [],
   "source": [
    "dic_linear = PsiNN(layer_sizes=dict_layer_size, n_psi_train=n_psi_train)"
   ]
  },
  {
   "cell_type": "code",
   "execution_count": 153,
   "id": "40ffb512",
   "metadata": {},
   "outputs": [],
   "source": [
    "solver_linear = KoopmanLinearDLSolver(\n",
    "    dic=dic_linear, target_dim=target_dim, param_dim=param_dim, n_psi=n_psi\n",
    ")\n",
    "model_linear, model_K_u_pred_linear = solver_linear.build_model()"
   ]
  },
  {
   "cell_type": "code",
   "execution_count": 154,
   "id": "0f70e996",
   "metadata": {},
   "outputs": [],
   "source": [
    "model_linear.load_weights(os.path.join(weights_path, \"model_linear_vdpm_mu_\" + str(mu) + \".h5\"))"
   ]
  },
  {
   "cell_type": "markdown",
   "id": "782f7468",
   "metadata": {},
   "source": [
    "# Bilinear Model: Dynamics is $Az + \\sum_{i=1}^{N_{u}}B_{i}zu_{i}$"
   ]
  },
  {
   "cell_type": "code",
   "execution_count": 155,
   "id": "c5bd98ae",
   "metadata": {},
   "outputs": [],
   "source": [
    "dic_bilinear = PsiNN(layer_sizes=dict_layer_size, n_psi_train=n_psi_train)"
   ]
  },
  {
   "cell_type": "code",
   "execution_count": 156,
   "id": "cd36fbbc",
   "metadata": {},
   "outputs": [],
   "source": [
    "solver_bilinear = KoopmanBilinearDLSolver(\n",
    "    dic=dic_bilinear, target_dim=target_dim, param_dim=param_dim, n_psi=n_psi\n",
    ")\n",
    "model_bilinear, model_K_u_pred_bilinear = solver_bilinear.build_model()"
   ]
  },
  {
   "cell_type": "code",
   "execution_count": 157,
   "id": "89896950",
   "metadata": {},
   "outputs": [],
   "source": [
    "model_bilinear.load_weights(\n",
    "    os.path.join(weights_path, \"model_bilinear_vdpm_mu_\" + str(mu) + \".h5\")\n",
    ")"
   ]
  },
  {
   "cell_type": "code",
   "execution_count": 158,
   "id": "f8082621",
   "metadata": {},
   "outputs": [
    {
     "name": "stdout",
     "output_type": "stream",
     "text": [
      "Model: \"K_u_bilinear_pred\"\n",
      "__________________________________________________________________________________________________\n",
      " Layer (type)                   Output Shape         Param #     Connected to                     \n",
      "==================================================================================================\n",
      " input_57 (InputLayer)          [(None, 13)]         0           []                               \n",
      "                                                                                                  \n",
      " input_56 (InputLayer)          [(None, 1)]          0           []                               \n",
      "                                                                                                  \n",
      " tf.einsum_3 (TFOpLambda)       (1, None, 13)        0           ['input_57[0][0]',               \n",
      "                                                                  'input_56[0][0]']               \n",
      "                                                                                                  \n",
      " tf.__operators__.getitem_3 (Sl  (None, 13)          0           ['tf.einsum_3[0][0]']            \n",
      " icingOpLambda)                                                                                   \n",
      "                                                                                                  \n",
      " tf.identity_3 (TFOpLambda)     (None, 13)           0           ['tf.__operators__.getitem_3[0][0\n",
      "                                                                 ]']                              \n",
      "                                                                                                  \n",
      " Layer_A (Dense)                (None, 13)           169         ['input_57[0][0]']               \n",
      "                                                                                                  \n",
      " Layer_B (Dense)                (None, 13)           169         ['tf.identity_3[0][0]']          \n",
      "                                                                                                  \n",
      " tf.__operators__.add_7 (TFOpLa  (None, 13)          0           ['Layer_A[0][0]',                \n",
      " mbda)                                                            'Layer_B[0][0]']                \n",
      "                                                                                                  \n",
      "==================================================================================================\n",
      "Total params: 338\n",
      "Trainable params: 0\n",
      "Non-trainable params: 338\n",
      "__________________________________________________________________________________________________\n"
     ]
    }
   ],
   "source": [
    "model_K_u_pred_bilinear.summary()"
   ]
  },
  {
   "cell_type": "code",
   "execution_count": 11,
   "id": "da40a1a5",
   "metadata": {},
   "outputs": [],
   "source": [
    "dict_data = np.load(\n",
    "        os.path.join(data_path, \"vdpm_data_mu_\" + str(mu) + \".npy\"), allow_pickle=True\n",
    "    )\n",
    "\n",
    "data_x = dict_data[()][\"data_x\"]\n",
    "data_y = dict_data[()][\"data_y\"]\n",
    "data_u = dict_data[()][\"data_u\"]"
   ]
  },
  {
   "cell_type": "code",
   "execution_count": 12,
   "id": "bdc54818",
   "metadata": {},
   "outputs": [
    {
     "data": {
      "text/plain": [
       "(50000, 2)"
      ]
     },
     "execution_count": 12,
     "metadata": {},
     "output_type": "execute_result"
    }
   ],
   "source": [
    "data_x.shape"
   ]
  },
  {
   "cell_type": "code",
   "execution_count": null,
   "id": "148464b3",
   "metadata": {},
   "outputs": [],
   "source": []
  },
  {
   "cell_type": "markdown",
   "id": "aa8c252f",
   "metadata": {},
   "source": [
    "<!-- # Train PK-NN using data generated from Bi-linear model\n",
    "dict_data = np.load(\n",
    "        os.path.join(data_path, \"vdpm_data_mu_\" + str(mu) + \".npy\"), allow_pickle=True\n",
    "    )\n",
    "\n",
    "data_x = dict_data[()][\"data_x\"]\n",
    "data_y = dict_data[()][\"data_y\"]\n",
    "data_u = dict_data[()][\"data_u\"]\n",
    "\n",
    "print(\"data_x.shape = \", data_x.shape)\n",
    "data_y_bilinear = []\n",
    "for data_x_single, data_u_single in zip(data_x, data_u):\n",
    "    data_y_bilinear_single = solver_bilinear.compute_data_list(\n",
    "            traj_len=2, data_x_init=data_x_single, data_u=data_u_single\n",
    "        )\n",
    "    data_y_bilinear.append(data_y_bilinear_single[-1])\n",
    "\n",
    "data_y_bilinear = np.array(data_y_bilinear)\n",
    "data_y_bilinear.shape\n",
    "# PK-NN\n",
    "dic_pk = PsiNN(layer_sizes=dict_layer_size, n_psi_train=n_psi_train)\n",
    "from koopmanlib.K_structure import Model_K_u_Layer, Model_ResNet_K_u_Layer_One\n",
    "\n",
    "model_K_u = Model_ResNet_K_u_Layer_One(layer_sizes=K_layer_size, n_psi=n_psi, activation=\"tanh\")\n",
    "\n",
    "solver_pk = KoopmanParametricDLSolver(\n",
    "    target_dim=target_dim, param_dim=param_dim, n_psi=n_psi, dic=dic_pk, model_K_u=model_K_u\n",
    ")\n",
    "\n",
    "model_pk, model_K_u_pred_pk = solver_pk.generate_model()\n",
    "\n",
    "\n",
    "model_pk.compile(optimizer=Adam(0.001), loss=\"mse\")\n",
    "\n",
    "lr_callback = tf.keras.callbacks.ReduceLROnPlateau(\n",
    "    monitor=\"loss\",\n",
    "    factor=0.1,\n",
    "    patience=100,\n",
    "    verbose=0,\n",
    "    mode=\"auto\",\n",
    "    min_delta=1e-4,\n",
    "    cooldown=0,\n",
    "    min_lr=1e-6,\n",
    ")\n",
    "\n",
    "# Define the early stopping criteria\n",
    "es_callback = tf.keras.callbacks.EarlyStopping(\n",
    "    monitor=\"val_loss\", min_delta=1e-12, patience=50, verbose=1, mode=\"auto\"\n",
    ")\n",
    "\n",
    "checkpoint_callback = tf.keras.callbacks.ModelCheckpoint(\n",
    "    filepath=os.path.join(weights_path, \"model_pk_vdpm_mu_\" + str(mu) + \".h5\"),\n",
    "    monitor=\"val_loss\",\n",
    "    save_best_only=True,\n",
    "    save_weights_only=True,\n",
    "    mode=\"min\",\n",
    "    save_freq=\"epoch\",\n",
    ")\n",
    "\n",
    "from tqdm.keras import TqdmCallback\n",
    "# Define the TqdmCallback for progress bar\n",
    "tqdm_callback = TqdmCallback(verbose=1)\n",
    "\n",
    "# Add early_stopping to the list of callbacks\n",
    "callbacks = [lr_callback, checkpoint_callback, tqdm_callback]\n",
    "\n",
    "zeros_data_y_train = tf.zeros_like(dic_pk(data_y_bilinear))\n",
    "\n",
    "\n",
    "history = model_pk.fit(\n",
    "    x=[data_x, data_y_bilinear, data_u],\n",
    "    y=zeros_data_y_train,\n",
    "    validation_split=0.2,\n",
    "    epochs=1000,\n",
    "    batch_size=200,\n",
    "    callbacks=callbacks,\n",
    "    verbose=0,\n",
    ")\n",
    "data_pk_pred_from_bilinear = model_pk([data_x, data_y_bilinear, data_u])\n",
    "data_y_pk_fake = []\n",
    "for data_x_single, data_u_single in zip(data_x, data_u):\n",
    "    data_y_pk_fake_single = solver_pk.compute_data_list(\n",
    "            traj_len=2, data_x_init=data_x_single, data_u=data_u_single\n",
    "        )\n",
    "    data_y_pk_fake.append(data_y_pk_fake_single[-1])\n",
    "\n",
    "data_y_pk_fake = np.array(data_y_pk_fake)\n",
    "data_y_pk_fake - data_y_bilinear\n",
    "data_y_pk_fake - data_y -->"
   ]
  },
  {
   "cell_type": "code",
   "execution_count": 159,
   "id": "4c330a14",
   "metadata": {},
   "outputs": [],
   "source": [
    "\n",
    "\n",
    "# # Train K(u) to be (A+Bu)\n",
    "# psi_x_data = dic_bilinear(data_x)\n",
    "# target = model_K_u_pred_bilinear([data_u, psi_x_data])\n",
    "# inputs_u = Input(shape=(param_dim,))\n",
    "# inputs_psi_x = Input(shape=(n_psi,))\n",
    "\n",
    "# fake_psi = model_K_u_pred_pk([inputs_u, inputs_psi_x])\n",
    "\n",
    "# test_K_model = Model(inputs=[inputs_u, inputs_psi_x], outputs=fake_psi)\n",
    "\n",
    "# test_K_model.compile(optimizer=Adam(0.000001), loss=\"mse\")\n",
    "# test_K_model.fit(x=[data_u, psi_x_data], y=target, epochs=500, batch_size=200, verbose=1)\n",
    "# dic_pk.set_weights(dic_bilinear.get_weights())\n",
    "\n"
   ]
  },
  {
   "cell_type": "code",
   "execution_count": null,
   "id": "a2fe4211",
   "metadata": {},
   "outputs": [],
   "source": []
  },
  {
   "cell_type": "markdown",
   "id": "871ca98b",
   "metadata": {},
   "source": [
    "## Prediction"
   ]
  },
  {
   "cell_type": "code",
   "execution_count": 160,
   "id": "fde1ce46",
   "metadata": {},
   "outputs": [],
   "source": [
    "from koopmanlib.functions import *"
   ]
  },
  {
   "cell_type": "markdown",
   "id": "4da3a1b9",
   "metadata": {},
   "source": [
    "## Calculate average value"
   ]
  },
  {
   "cell_type": "code",
   "execution_count": 161,
   "id": "59ba4a25",
   "metadata": {},
   "outputs": [],
   "source": [
    "np.random.seed(625)\n",
    "n_test = 20\n",
    "seed_x_list = np.random.randint(1, 300, size=(n_test,))\n",
    "seed_param_list = np.random.randint(1, 300, size=(n_test,))\n",
    "n_traj_test = 1\n",
    "traj_len_test = 50"
   ]
  },
  {
   "cell_type": "code",
   "execution_count": 162,
   "id": "991168ff",
   "metadata": {},
   "outputs": [],
   "source": [
    "ratio_pk_list = []\n",
    "ratio_linear_list = []\n",
    "ratio_bilinear_list = []"
   ]
  },
  {
   "cell_type": "code",
   "execution_count": 163,
   "id": "b4dc73e3",
   "metadata": {},
   "outputs": [],
   "source": [
    "data_pred_list_pk_group = []\n",
    "data_pred_list_linear_group = []\n",
    "data_pred_list_bilinear_group = []\n",
    "data_true_group = []"
   ]
  },
  {
   "cell_type": "code",
   "execution_count": 164,
   "id": "c29d21cf",
   "metadata": {},
   "outputs": [],
   "source": [
    "for seed_x, seed_param in zip(seed_x_list, seed_param_list):\n",
    "    vdp_mathieu_test = VanderPolMathieuTarget(\n",
    "        mu=mu, dim=target_dim, param_dim=param_dim, k1=k1, k2=k2, k4=k4, w0=w0\n",
    "    )\n",
    "\n",
    "    data_x_test, data_u_test = vdp_mathieu_test.generate_init_data(\n",
    "        n_traj=n_traj_test, traj_len=traj_len_test, seed_x=seed_x, seed_param=seed_param\n",
    "    )\n",
    "    data_x_init = tf.reshape(data_x_test[0], shape=(1, -1))\n",
    "    data_true = data_x_test\n",
    "\n",
    "    data_pred_list_pk = solver_pk.compute_data_list(traj_len_test, data_x_init, data_u_test)\n",
    "    data_pred_list_linear = solver_linear.compute_data_list(\n",
    "        traj_len=traj_len_test, data_x_init=data_x_init, data_u=data_u_test\n",
    "    )\n",
    "    data_pred_list_bilinear = solver_bilinear.compute_data_list(\n",
    "        traj_len=traj_len_test, data_x_init=data_x_init, data_u=data_u_test\n",
    "    )\n",
    "\n",
    "    ratio_pk = compute_diff_ratio_one_traj(data_true, data_pred_list_pk)\n",
    "    ratio_linear = compute_diff_ratio_one_traj(data_true, data_pred_list_linear)\n",
    "    ratio_bilinear = compute_diff_ratio_one_traj(data_true, data_pred_list_bilinear)\n",
    "\n",
    "    ratio_pk_list.append(ratio_pk)\n",
    "    ratio_linear_list.append(ratio_linear)\n",
    "    ratio_bilinear_list.append(ratio_bilinear)\n",
    "\n",
    "    data_pred_list_pk_group.append(data_pred_list_pk)\n",
    "    data_pred_list_linear_group.append(data_pred_list_linear)\n",
    "    data_pred_list_bilinear_group.append(data_pred_list_bilinear)\n",
    "    data_true_group.append(data_true)"
   ]
  },
  {
   "cell_type": "code",
   "execution_count": 165,
   "id": "e8c70a6d",
   "metadata": {},
   "outputs": [
    {
     "data": {
      "text/plain": [
       "<matplotlib.legend.Legend at 0x7f29987f1d00>"
      ]
     },
     "execution_count": 165,
     "metadata": {},
     "output_type": "execute_result"
    },
    {
     "data": {
      "image/png": "[encoded data removed]",
      "text/plain": [
       "<Figure size 432x360 with 1 Axes>"
      ]
     },
     "metadata": {
      "needs_background": "light"
     },
     "output_type": "display_data"
    }
   ],
   "source": [
    "plt.figure(figsize=(6, 5))\n",
    "plt.plot(\n",
    "    data_pred_list_pk[:, 0], data_pred_list_pk[:, 1], label=\"Ours\", color=\"steelblue\", linewidth=3\n",
    ")\n",
    "plt.plot(\n",
    "    data_pred_list_linear[:, 0],\n",
    "    data_pred_list_linear[:, 1],\n",
    "    label=\"M2\",\n",
    "    color=\"darkorange\",\n",
    "    linewidth=3,\n",
    ")\n",
    "plt.plot(\n",
    "    data_pred_list_bilinear[:, 0],\n",
    "    data_pred_list_bilinear[:, 1],\n",
    "    label=\"M3\",\n",
    "    color=\"forestgreen\",\n",
    "    linewidth=3,\n",
    ")\n",
    "plt.plot(\n",
    "    data_true[:, 0], data_true[:, 1], label=\"True\", color=\"brown\", linestyle=\"dashed\", linewidth=3\n",
    ")\n",
    "plt.xlabel(r\"$x_{1}$\", fontsize=28)\n",
    "plt.ylabel(r\"$x_{2}$\", fontsize=28)\n",
    "plt.xticks(fontsize=18)\n",
    "plt.yticks(fontsize=18)\n",
    "plt.legend(fontsize=18)"
   ]
  },
  {
   "cell_type": "code",
   "execution_count": 166,
   "id": "a36e8965",
   "metadata": {},
   "outputs": [],
   "source": [
    "data_pred_list_pk_group = np.asarray(data_pred_list_pk_group)\n",
    "data_pred_list_linear_group = np.asarray(data_pred_list_linear_group)\n",
    "data_pred_list_bilinear_group = np.asarray(data_pred_list_bilinear_group)\n",
    "data_true_group = np.asarray(data_true_group)"
   ]
  },
  {
   "cell_type": "code",
   "execution_count": 167,
   "id": "a6df8fe1",
   "metadata": {},
   "outputs": [],
   "source": [
    "# for i in range(data_pred_list_pk_group.shape[0]):\n",
    "#     plt.figure(figsize=(6, 5))\n",
    "#     plt.plot(\n",
    "#         data_pred_list_pk_group[i, :, 0],\n",
    "#         data_pred_list_pk_group[i, :, 1],\n",
    "#         label=\"Ours\",\n",
    "#         color=\"steelblue\",\n",
    "#         linewidth=3,\n",
    "#     )\n",
    "#     plt.plot(\n",
    "#         data_pred_list_linear_group[i, :, 0],\n",
    "#         data_pred_list_linear_group[i, :, 1],\n",
    "#         label=\"M2\",\n",
    "#         color=\"darkorange\",\n",
    "#         linewidth=3,\n",
    "#     )\n",
    "#     plt.plot(\n",
    "#         data_pred_list_bilinear_group[i, :, 0],\n",
    "#         data_pred_list_bilinear_group[i, :, 1],\n",
    "#         label=\"M3\",\n",
    "#         color=\"forestgreen\",\n",
    "#         linewidth=3,\n",
    "#     )\n",
    "#     plt.plot(\n",
    "#         data_true_group[i, :, 0],\n",
    "#         data_true_group[i, :, 1],\n",
    "#         label=\"True\",\n",
    "#         color=\"brown\",\n",
    "#         linestyle=\"dashed\",\n",
    "#         linewidth=3,\n",
    "#     )\n",
    "#     plt.xlabel(r\"$x_{1}$\", fontsize=28)\n",
    "#     plt.ylabel(r\"$x_{2}$\", fontsize=28)\n",
    "#     plt.xticks(fontsize=18)\n",
    "#     plt.yticks(fontsize=18)\n",
    "#     plt.legend(fontsize=18)"
   ]
  },
  {
   "cell_type": "code",
   "execution_count": 168,
   "id": "343656b1",
   "metadata": {},
   "outputs": [],
   "source": [
    "ratio_pk_list = np.asarray(ratio_pk_list)\n",
    "ratio_linear_list = np.asarray(ratio_linear_list)\n",
    "ratio_bilinear_list = np.asarray(ratio_bilinear_list)"
   ]
  },
  {
   "cell_type": "code",
   "execution_count": 169,
   "id": "90863088",
   "metadata": {},
   "outputs": [],
   "source": [
    "ratio_pk_list_mean = np.mean(ratio_pk_list, axis=0)\n",
    "ratio_linear_list_mean = np.mean(ratio_linear_list, axis=0)\n",
    "ratio_bilinear_list_mean = np.mean(ratio_bilinear_list, axis=0)"
   ]
  },
  {
   "cell_type": "code",
   "execution_count": 170,
   "id": "5843294e",
   "metadata": {},
   "outputs": [],
   "source": [
    "ratio_pk_list_median = np.median(ratio_pk_list, axis=0)\n",
    "ratio_linear_list_median = np.median(ratio_linear_list, axis=0)\n",
    "ratio_bilinear_list_median = np.median(ratio_bilinear_list, axis=0)"
   ]
  },
  {
   "cell_type": "code",
   "execution_count": 171,
   "id": "a99da91a",
   "metadata": {},
   "outputs": [],
   "source": [
    "q_min = 0.35\n",
    "q_max = 0.65"
   ]
  },
  {
   "cell_type": "code",
   "execution_count": 172,
   "id": "30400bf9",
   "metadata": {},
   "outputs": [
    {
     "data": {
      "text/plain": [
       "array([[0.        , 0.00096785, 0.00081038, 0.00081925, 0.00180367,\n",
       "        0.0019736 , 0.00216252, 0.00255947, 0.00282229, 0.0028309 ,\n",
       "        0.00294131, 0.0029328 , 0.0030165 , 0.00309464, 0.00312369,\n",
       "        0.00315461, 0.00321783, 0.00326826, 0.00333148, 0.00341931,\n",
       "        0.00353093, 0.00362788, 0.00371484, 0.00379713, 0.00389157,\n",
       "        0.00401431, 0.00414251, 0.00428051, 0.00438906, 0.00452184,\n",
       "        0.00457721, 0.00467882, 0.00474646, 0.00480217, 0.00485937,\n",
       "        0.00485025, 0.00482441, 0.00479135, 0.00477223, 0.00477919,\n",
       "        0.00477846, 0.00476473, 0.0047845 , 0.00479004, 0.00479349,\n",
       "        0.00478431, 0.00476545, 0.00480457, 0.00493577, 0.00509971],\n",
       "       [0.        , 0.0031215 , 0.00396478, 0.00449743, 0.00503694,\n",
       "        0.00572672, 0.00576966, 0.00635092, 0.00767071, 0.00818702,\n",
       "        0.00877516, 0.00903331, 0.00939011, 0.00946025, 0.00934741,\n",
       "        0.00912639, 0.00893795, 0.00874492, 0.00852064, 0.00828912,\n",
       "        0.00809067, 0.00789244, 0.007716  , 0.00756094, 0.00742241,\n",
       "        0.00728071, 0.00716718, 0.007073  , 0.00698932, 0.00694688,\n",
       "        0.00691641, 0.00693924, 0.00706652, 0.00731443, 0.00765732,\n",
       "        0.00810001, 0.0084772 , 0.00881449, 0.00927452, 0.0098434 ,\n",
       "        0.01033933, 0.0105744 , 0.01090966, 0.01128678, 0.01164822,\n",
       "        0.01182908, 0.01204977, 0.01216502, 0.01230581, 0.01244385],\n",
       "       [0.        , 0.00156904, 0.00141235, 0.00225487, 0.00340743,\n",
       "        0.00414538, 0.00499508, 0.00596283, 0.00829527, 0.01081032,\n",
       "        0.01330693, 0.01552359, 0.01705748, 0.01825833, 0.01974778,\n",
       "        0.02083975, 0.02233877, 0.02379028, 0.02586517, 0.02789085,\n",
       "        0.03010831, 0.03253393, 0.03449031, 0.03660145, 0.03864183,\n",
       "        0.04083269, 0.04282313, 0.04447379, 0.04597708, 0.04733001,\n",
       "        0.04861479, 0.04968457, 0.050628  , 0.05172805, 0.05275922,\n",
       "        0.05377406, 0.05481008, 0.05568452, 0.05637722, 0.05696112,\n",
       "        0.05758083, 0.05822543, 0.05873897, 0.05912518, 0.05949933,\n",
       "        0.05994525, 0.06024679, 0.06048057, 0.06073276, 0.06098056],\n",
       "       [0.        , 0.00172697, 0.00307864, 0.00445413, 0.00759859,\n",
       "        0.01128468, 0.01504916, 0.01744858, 0.02017074, 0.02278947,\n",
       "        0.02558535, 0.02834647, 0.03146229, 0.03475151, 0.03699163,\n",
       "        0.03888133, 0.04069726, 0.04290588, 0.04545506, 0.04819955,\n",
       "        0.05045728, 0.0523471 , 0.05410243, 0.055721  , 0.05758396,\n",
       "        0.05953377, 0.06108898, 0.06285323, 0.06492129, 0.06697502,\n",
       "        0.06888415, 0.07094499, 0.07304343, 0.07537217, 0.07798311,\n",
       "        0.08035377, 0.08276951, 0.08545008, 0.08787971, 0.09039964,\n",
       "        0.09320092, 0.09574492, 0.0986103 , 0.1017276 , 0.10516164,\n",
       "        0.10841011, 0.11161984, 0.11499087, 0.11867595, 0.1225607 ],\n",
       "       [0.        , 0.00092215, 0.00195922, 0.00309599, 0.00366185,\n",
       "        0.00386537, 0.005087  , 0.0056963 , 0.00595183, 0.00600914,\n",
       "        0.00606088, 0.00622461, 0.00647745, 0.00687202, 0.00709391,\n",
       "        0.00721413, 0.00750854, 0.00789988, 0.00839566, 0.00870315,\n",
       "        0.00951101, 0.01034533, 0.01118911, 0.0120408 , 0.01289042,\n",
       "        0.01354773, 0.01413877, 0.01468409, 0.01527315, 0.01580525,\n",
       "        0.01629158, 0.01672104, 0.01744858, 0.01818254, 0.01874255,\n",
       "        0.01920746, 0.0196267 , 0.02007096, 0.02048694, 0.0209222 ,\n",
       "        0.02131582, 0.02172915, 0.02214581, 0.02257664, 0.023007  ,\n",
       "        0.02353512, 0.0239526 , 0.02426792, 0.02457168, 0.02495003],\n",
       "       [0.        , 0.00090896, 0.00270954, 0.00457834, 0.0062062 ,\n",
       "        0.00796608, 0.0087115 , 0.00984912, 0.01063242, 0.01174498,\n",
       "        0.01244748, 0.01333313, 0.01435134, 0.01551128, 0.01685806,\n",
       "        0.01778614, 0.01865075, 0.01939106, 0.01992455, 0.02041996,\n",
       "        0.02091205, 0.02158411, 0.02210122, 0.02277411, 0.02345031,\n",
       "        0.02398104, 0.02444274, 0.02506521, 0.02558611, 0.02623993,\n",
       "        0.02679134, 0.02725157, 0.02780962, 0.02847266, 0.02907226,\n",
       "        0.0297153 , 0.03039009, 0.03097811, 0.03164749, 0.03241568,\n",
       "        0.03311612, 0.03379181, 0.03438408, 0.03498839, 0.03567092,\n",
       "        0.03662902, 0.03776042, 0.03891807, 0.04014546, 0.04126646],\n",
       "       [0.        , 0.00115175, 0.00188001, 0.00278774, 0.003919  ,\n",
       "        0.00519171, 0.00597869, 0.00660758, 0.0073892 , 0.00804267,\n",
       "        0.00863124, 0.00923847, 0.00994476, 0.01056072, 0.01125269,\n",
       "        0.01189919, 0.01254406, 0.01311616, 0.01374571, 0.01429271,\n",
       "        0.01485226, 0.01537131, 0.01598611, 0.01652553, 0.01710465,\n",
       "        0.01760366, 0.01808464, 0.01857008, 0.01900204, 0.01946594,\n",
       "        0.01985606, 0.02018392, 0.02045898, 0.02069225, 0.02092441,\n",
       "        0.02111158, 0.02125459, 0.02134379, 0.0214159 , 0.0214804 ,\n",
       "        0.02155991, 0.02164755, 0.02173402, 0.02179687, 0.02180454,\n",
       "        0.02182696, 0.02184807, 0.02185564, 0.02188066, 0.02190579],\n",
       "       [0.        , 0.00075386, 0.00139541, 0.00202426, 0.00237117,\n",
       "        0.00275266, 0.00364439, 0.0044331 , 0.00495161, 0.0056335 ,\n",
       "        0.00608433, 0.00669057, 0.00710312, 0.00759437, 0.00814897,\n",
       "        0.00878583, 0.00923917, 0.0097122 , 0.01019547, 0.0107693 ,\n",
       "        0.01136315, 0.01189383, 0.01256359, 0.01309954, 0.0136653 ,\n",
       "        0.01429185, 0.01483235, 0.0152334 , 0.01557107, 0.01589063,\n",
       "        0.0161441 , 0.0163122 , 0.01644646, 0.01657099, 0.01674589,\n",
       "        0.01690099, 0.01718062, 0.01740269, 0.01759433, 0.01775412,\n",
       "        0.01786338, 0.01792098, 0.01793695, 0.01794668, 0.01795662,\n",
       "        0.01796303, 0.01793864, 0.01789101, 0.01785179, 0.01783457],\n",
       "       [0.        , 0.00465744, 0.00836064, 0.01069933, 0.01360761,\n",
       "        0.01692097, 0.01948509, 0.02247106, 0.02560777, 0.02842807,\n",
       "        0.03154926, 0.03492262, 0.03802236, 0.04084963, 0.04359913,\n",
       "        0.0462595 , 0.0489905 , 0.05162496, 0.0545037 , 0.05755684,\n",
       "        0.06054155, 0.06342519, 0.06624842, 0.06896621, 0.07154508,\n",
       "        0.07434392, 0.07721205, 0.08002639, 0.08280911, 0.08585526,\n",
       "        0.08908811, 0.09242073, 0.09599401, 0.09969496, 0.10360382,\n",
       "        0.10758397, 0.11173979, 0.11607351, 0.12054009, 0.12507889,\n",
       "        0.12957291, 0.13412444, 0.13877245, 0.14337597, 0.14809011,\n",
       "        0.15277902, 0.15764399, 0.16248593, 0.16739893, 0.17221598],\n",
       "       [0.        , 0.0052444 , 0.00704019, 0.00922297, 0.01088213,\n",
       "        0.01217282, 0.013282  , 0.01453648, 0.01554763, 0.01684996,\n",
       "        0.01803391, 0.01904115, 0.01994938, 0.02099182, 0.02246851,\n",
       "        0.02376967, 0.02488554, 0.02586133, 0.02699851, 0.02834885,\n",
       "        0.02951202, 0.03091882, 0.0321769 , 0.03339962, 0.03492464,\n",
       "        0.03663644, 0.03832316, 0.04001062, 0.0415012 , 0.04308823,\n",
       "        0.04461548, 0.04594516, 0.04710337, 0.04839563, 0.0495821 ,\n",
       "        0.05069158, 0.05173176, 0.05267883, 0.05363449, 0.0545757 ,\n",
       "        0.05551045, 0.05635152, 0.05709958, 0.05773026, 0.0583854 ,\n",
       "        0.0589492 , 0.05939654, 0.05973983, 0.06011026, 0.06039397],\n",
       "       [0.        , 0.0009782 , 0.00131457, 0.00335393, 0.00406989,\n",
       "        0.00458412, 0.00487983, 0.00534078, 0.00635444, 0.00779595,\n",
       "        0.00870659, 0.0092963 , 0.00969581, 0.01008942, 0.01037269,\n",
       "        0.01059849, 0.01094721, 0.01120624, 0.01153989, 0.01177817,\n",
       "        0.01197379, 0.01214365, 0.01228103, 0.01243151, 0.01252003,\n",
       "        0.01256036, 0.01260589, 0.01270452, 0.0127307 , 0.01270592,\n",
       "        0.01265721, 0.01257244, 0.01247174, 0.01235612, 0.01223378,\n",
       "        0.01210121, 0.01196013, 0.01180821, 0.01164581, 0.01147626,\n",
       "        0.01132437, 0.01120246, 0.01108195, 0.01103651, 0.01096804,\n",
       "        0.01091287, 0.01093878, 0.010974  , 0.01116463, 0.01147118],\n",
       "       [0.        , 0.002412  , 0.00388131, 0.00506633, 0.00816859,\n",
       "        0.01238268, 0.01501034, 0.01695789, 0.01866855, 0.02044399,\n",
       "        0.02250471, 0.02430002, 0.0261094 , 0.02806353, 0.03041782,\n",
       "        0.03292709, 0.03541568, 0.03784771, 0.04017505, 0.04237845,\n",
       "        0.04461658, 0.04687834, 0.04937481, 0.05179117, 0.05403869,\n",
       "        0.05615885, 0.05819634, 0.06015443, 0.06212483, 0.06409091,\n",
       "        0.06608218, 0.06799783, 0.06993736, 0.07193151, 0.0738456 ,\n",
       "        0.0757035 , 0.0774778 , 0.07920519, 0.08089855, 0.08262957,\n",
       "        0.0843676 , 0.08605799, 0.08767636, 0.08922313, 0.09071983,\n",
       "        0.09223883, 0.09369293, 0.09518793, 0.09667046, 0.09807337],\n",
       "       [0.        , 0.00306086, 0.0029137 , 0.00265823, 0.00405269,\n",
       "        0.0044635 , 0.00501089, 0.00595194, 0.0064208 , 0.00664478,\n",
       "        0.00703523, 0.00741821, 0.00765438, 0.00794264, 0.00821074,\n",
       "        0.00843584, 0.00862227, 0.00897587, 0.0095771 , 0.01005082,\n",
       "        0.01074327, 0.01185284, 0.0134501 , 0.01470546, 0.01586295,\n",
       "        0.01683223, 0.0176797 , 0.01883116, 0.01983511, 0.02092021,\n",
       "        0.02197765, 0.02298794, 0.02441027, 0.02587803, 0.02738725,\n",
       "        0.02916602, 0.03075476, 0.03220532, 0.03376458, 0.03547658,\n",
       "        0.0370245 , 0.03873129, 0.04039059, 0.04214144, 0.04400103,\n",
       "        0.0459734 , 0.04776445, 0.04961966, 0.05131458, 0.05291228],\n",
       "       [0.        , 0.00150515, 0.00272052, 0.00375992, 0.00450494,\n",
       "        0.00523647, 0.00610956, 0.00703443, 0.00793003, 0.00890023,\n",
       "        0.0098401 , 0.01081082, 0.0117017 , 0.01255645, 0.01348903,\n",
       "        0.01440961, 0.01526542, 0.01606767, 0.01683301, 0.01763376,\n",
       "        0.01846006, 0.01931566, 0.02012554, 0.02086952, 0.02159381,\n",
       "        0.02228353, 0.02300072, 0.02374103, 0.02442649, 0.02505985,\n",
       "        0.0256572 , 0.02621692, 0.02674563, 0.02725645, 0.02777736,\n",
       "        0.02825119, 0.02870201, 0.02911083, 0.02948173, 0.02983707,\n",
       "        0.03016762, 0.03046408, 0.03073729, 0.03099079, 0.03124081,\n",
       "        0.03147627, 0.03170646, 0.03194022, 0.03215093, 0.03232951],\n",
       "       [0.        , 0.00121486, 0.00178107, 0.00221817, 0.00207677,\n",
       "        0.00204764, 0.00234271, 0.00359328, 0.00431289, 0.0045966 ,\n",
       "        0.00469056, 0.0049209 , 0.00512735, 0.00533699, 0.00566653,\n",
       "        0.00581359, 0.00579564, 0.00589274, 0.0060013 , 0.00618361,\n",
       "        0.00644502, 0.00662143, 0.00688809, 0.00712877, 0.00751693,\n",
       "        0.00787502, 0.00822058, 0.00849263, 0.00882736, 0.00918539,\n",
       "        0.00940933, 0.00968923, 0.0098355 , 0.00989725, 0.0099835 ,\n",
       "        0.01012286, 0.01030869, 0.01038999, 0.01043531, 0.01046621,\n",
       "        0.01046348, 0.01049864, 0.01050206, 0.01044908, 0.0104215 ,\n",
       "        0.01041731, 0.01053788, 0.01060998, 0.01066102, 0.01077324],\n",
       "       [0.        , 0.0006746 , 0.00074688, 0.00101824, 0.00120801,\n",
       "        0.00137935, 0.00167612, 0.00186439, 0.00296505, 0.00467997,\n",
       "        0.0061207 , 0.00736944, 0.00819131, 0.00910064, 0.00974597,\n",
       "        0.01027099, 0.01087639, 0.0114606 , 0.0121361 , 0.01264067,\n",
       "        0.01324053, 0.01371289, 0.01415478, 0.0144769 , 0.01472191,\n",
       "        0.01490813, 0.01514989, 0.01545686, 0.01567956, 0.01589216,\n",
       "        0.01604153, 0.01616139, 0.01632071, 0.01649274, 0.0166204 ,\n",
       "        0.01677936, 0.01693214, 0.01703291, 0.01708428, 0.01715808,\n",
       "        0.01722847, 0.01726263, 0.01731799, 0.0173957 , 0.01748898,\n",
       "        0.01760518, 0.01774669, 0.01785277, 0.01795164, 0.01821367],\n",
       "       [0.        , 0.00545004, 0.00985357, 0.01435831, 0.01865442,\n",
       "        0.02281683, 0.02512001, 0.02615542, 0.02744419, 0.0295462 ,\n",
       "        0.0316395 , 0.03384438, 0.03574236, 0.03812953, 0.04082948,\n",
       "        0.0436719 , 0.04590585, 0.04852291, 0.05041652, 0.05270365,\n",
       "        0.05480297, 0.05685352, 0.05895544, 0.06137291, 0.06408258,\n",
       "        0.06705503, 0.07002892, 0.07323138, 0.07658093, 0.07969529,\n",
       "        0.08283724, 0.08591779, 0.08860865, 0.09148426, 0.09425816,\n",
       "        0.09729525, 0.100315  , 0.10328164, 0.10648933, 0.1095464 ,\n",
       "        0.11248958, 0.11542953, 0.11860412, 0.1219518 , 0.12547404,\n",
       "        0.12908533, 0.13262642, 0.13622744, 0.14012395, 0.14416435],\n",
       "       [0.        , 0.00125812, 0.0014802 , 0.0015236 , 0.00191671,\n",
       "        0.00249048, 0.00336627, 0.00439601, 0.00551203, 0.00638113,\n",
       "        0.00733356, 0.00792112, 0.00845685, 0.00891875, 0.00946727,\n",
       "        0.00977776, 0.01023509, 0.01050198, 0.01071938, 0.01108581,\n",
       "        0.01157979, 0.0120157 , 0.01228412, 0.01248994, 0.01281565,\n",
       "        0.01326937, 0.01382255, 0.01438697, 0.01507921, 0.01571594,\n",
       "        0.01647094, 0.01732842, 0.01826405, 0.0192315 , 0.02008941,\n",
       "        0.02101988, 0.02186319, 0.02277916, 0.02377746, 0.02480486,\n",
       "        0.0258768 , 0.02689255, 0.02785935, 0.02876598, 0.02976869,\n",
       "        0.03082911, 0.03196957, 0.03337732, 0.03495131, 0.03637695],\n",
       "       [0.        , 0.00142728, 0.00435838, 0.00578157, 0.00854852,\n",
       "        0.00984826, 0.01048436, 0.01294846, 0.01464064, 0.01590012,\n",
       "        0.01673601, 0.01766516, 0.01875626, 0.01957712, 0.02067157,\n",
       "        0.02163087, 0.02262751, 0.0237754 , 0.02526983, 0.02667518,\n",
       "        0.02840755, 0.0303447 , 0.03245363, 0.03425824, 0.03603399,\n",
       "        0.03768245, 0.039426  , 0.04113108, 0.04279884, 0.04436255,\n",
       "        0.04584267, 0.04736549, 0.04898078, 0.05077598, 0.05239301,\n",
       "        0.05393043, 0.05533689, 0.05663927, 0.05783061, 0.05915235,\n",
       "        0.06048434, 0.06177864, 0.0630921 , 0.06429978, 0.06565327,\n",
       "        0.06691345, 0.06811553, 0.06933481, 0.070679  , 0.07191183],\n",
       "       [0.        , 0.00085762, 0.00148906, 0.00339692, 0.00466157,\n",
       "        0.0052257 , 0.00652405, 0.00739402, 0.0093787 , 0.01137001,\n",
       "        0.01365384, 0.01569284, 0.01785169, 0.01986648, 0.02202582,\n",
       "        0.02423627, 0.02599292, 0.02849902, 0.03051712, 0.03263009,\n",
       "        0.03444187, 0.03635967, 0.03842971, 0.04054083, 0.04278213,\n",
       "        0.04476259, 0.04651677, 0.04838902, 0.05016744, 0.05175144,\n",
       "        0.05368111, 0.05574439, 0.05790752, 0.05992688, 0.06205178,\n",
       "        0.06424127, 0.06642939, 0.06871417, 0.0708383 , 0.07293657,\n",
       "        0.07489961, 0.07673847, 0.07844223, 0.08017845, 0.08191058,\n",
       "        0.08352547, 0.08520426, 0.08696266, 0.08859274, 0.09028407]])"
      ]
     },
     "execution_count": 172,
     "metadata": {},
     "output_type": "execute_result"
    }
   ],
   "source": [
    "ratio_pk_list"
   ]
  },
  {
   "cell_type": "code",
   "execution_count": 173,
   "id": "a97a2f25",
   "metadata": {},
   "outputs": [],
   "source": [
    "ratio_pk_list_min = np.quantile(ratio_pk_list, q=q_min, axis=0)\n",
    "ratio_linear_list_min = np.quantile(ratio_linear_list, q=q_min, axis=0)\n",
    "ratio_bilinear_list_min = np.quantile(ratio_bilinear_list, q=q_min, axis=0)"
   ]
  },
  {
   "cell_type": "code",
   "execution_count": 174,
   "id": "d34f9a5c",
   "metadata": {},
   "outputs": [],
   "source": [
    "ratio_pk_list_max = np.quantile(ratio_pk_list, q=q_max, axis=0)\n",
    "ratio_linear_list_max = np.quantile(ratio_linear_list, q=q_max, axis=0)\n",
    "ratio_bilinear_list_max = np.quantile(ratio_bilinear_list, q=q_max, axis=0)"
   ]
  },
  {
   "cell_type": "code",
   "execution_count": 175,
   "id": "b05843d9",
   "metadata": {},
   "outputs": [],
   "source": [
    "x_axis = np.arange(0, traj_len_test, 1)"
   ]
  },
  {
   "cell_type": "code",
   "execution_count": 176,
   "id": "cb16eaf8",
   "metadata": {},
   "outputs": [
    {
     "data": {
      "text/plain": [
       "<matplotlib.legend.Legend at 0x7f2a40211c10>"
      ]
     },
     "execution_count": 176,
     "metadata": {},
     "output_type": "execute_result"
    },
    {
     "data": {
      "image/png": "[encoded data removed]",
      "text/plain": [
       "<Figure size 432x288 with 1 Axes>"
      ]
     },
     "metadata": {
      "needs_background": "light"
     },
     "output_type": "display_data"
    }
   ],
   "source": [
    "plt.figure(figsize=(6, 4))\n",
    "\n",
    "plt.plot(ratio_pk_list_median, label=\"Ours\", color=\"steelblue\", linewidth=3)\n",
    "plt.fill_between(x_axis, ratio_pk_list_min, ratio_pk_list_max, color=\"lightsteelblue\", alpha=0.5)\n",
    "plt.plot(ratio_linear_list_median, label=\"M2\", color=\"darkorange\", linewidth=3)\n",
    "plt.fill_between(\n",
    "    x_axis, ratio_linear_list_min, ratio_linear_list_max, color=\"navajowhite\", alpha=0.5\n",
    ")\n",
    "plt.plot(ratio_bilinear_list_median, label=\"M3\", color=\"forestgreen\", linewidth=3)\n",
    "plt.fill_between(\n",
    "    x_axis, ratio_bilinear_list_min, ratio_bilinear_list_max, color=\"darkseagreen\", alpha=0.5\n",
    ")\n",
    "\n",
    "\n",
    "plt.ticklabel_format(axis=\"y\", style=\"sci\", scilimits=(0, 0))\n",
    "plt.gca().yaxis.get_offset_text().set_fontsize(18)\n",
    "\n",
    "plt.xlabel(r\"$n$\", fontsize=28)\n",
    "plt.ylabel(\"Error\", fontsize=28)\n",
    "plt.xticks(fontsize=18)\n",
    "plt.yticks(fontsize=18)\n",
    "plt.legend(fontsize=18)"
   ]
  },
  {
   "cell_type": "code",
   "execution_count": 177,
   "id": "d791af51",
   "metadata": {},
   "outputs": [],
   "source": [
    "dict_mean = {\n",
    "    \"pk\": ratio_pk_list_mean,\n",
    "    \"linear\": ratio_linear_list_mean,\n",
    "    \"bilinear\": ratio_bilinear_list_mean,\n",
    "}"
   ]
  },
  {
   "cell_type": "code",
   "execution_count": null,
   "id": "451aa001",
   "metadata": {},
   "outputs": [],
   "source": []
  },
  {
   "cell_type": "code",
   "execution_count": null,
   "id": "46a386ad",
   "metadata": {},
   "outputs": [],
   "source": []
  },
  {
   "cell_type": "code",
   "execution_count": null,
   "id": "7302b6f2",
   "metadata": {},
   "outputs": [],
   "source": [
    "# np.save(os.path.join(data_path, \"ratio_list_dict_mu_\" + str(mu) + \"_mean.npy\"), dict_mean)"
   ]
  },
  {
   "cell_type": "markdown",
   "id": "7153fe7f",
   "metadata": {},
   "source": [
    "# See the comparison\n",
    "If you have tested on all $\\mu: 0,1,2,3,4$, then you can run the following codes to see the comparison."
   ]
  },
  {
   "cell_type": "code",
   "execution_count": null,
   "id": "aa38bf34",
   "metadata": {},
   "outputs": [],
   "source": [
    "import matplotlib.pyplot as plt\n",
    "import numpy as np\n",
    "\n",
    "mean_dict_mu_0 = np.load(\n",
    "    os.path.join(data_path, \"ratio_list_dict_mu_0_mean.npy\"), allow_pickle=True\n",
    ")\n",
    "mean_dict_mu_1 = np.load(\n",
    "    os.path.join(data_path, \"ratio_list_dict_mu_1_mean.npy\"), allow_pickle=True\n",
    ")\n",
    "mean_dict_mu_2 = np.load(\n",
    "    os.path.join(data_path, \"ratio_list_dict_mu_2_mean.npy\"), allow_pickle=True\n",
    ")\n",
    "mean_dict_mu_3 = np.load(\n",
    "    os.path.join(data_path, \"ratio_list_dict_mu_3_mean.npy\"), allow_pickle=True\n",
    ")\n",
    "mean_dict_mu_4 = np.load(\n",
    "    os.path.join(data_path, \"ratio_list_dict_mu_4_mean.npy\"), allow_pickle=True\n",
    ")\n",
    "\n",
    "\n",
    "def extact_data(ratio_dict, ratio_name):\n",
    "    ratio_pk = ratio_dict[()][ratio_name[0]].reshape((1, -1))\n",
    "    ratio_linear = ratio_dict[()][ratio_name[1]].reshape((1, -1))\n",
    "    ratio_bilinear = ratio_dict[()][ratio_name[2]].reshape((1, -1))\n",
    "    return ratio_pk, ratio_linear, ratio_bilinear\n",
    "\n",
    "\n",
    "mean_dict_list = [mean_dict_mu_0, mean_dict_mu_1, mean_dict_mu_2, mean_dict_mu_3, mean_dict_mu_4]\n",
    "\n",
    "ratio_pk_list = []\n",
    "ratio_linear_list = []\n",
    "ratio_bilinear_list = []\n",
    "\n",
    "ratio_name_list = [\"pk\", \"linear\", \"bilinear\"]\n",
    "\n",
    "\n",
    "def concat_ratio_list(ratio_list):\n",
    "    ratio_concat = np.concatenate(ratio_list, axis=0)\n",
    "    ratio_concat = ratio_concat.T\n",
    "    return ratio_concat\n",
    "\n",
    "\n",
    "def concat_data(dict_list):\n",
    "    pk_list = []\n",
    "    linear_list = []\n",
    "    bilinear_list = []\n",
    "\n",
    "    for i in range(5):\n",
    "        pk, linear, bilinear = extact_data(dict_list[i], ratio_name=ratio_name_list)\n",
    "        pk_list.append(pk)\n",
    "        linear_list.append(linear)\n",
    "        bilinear_list.append(bilinear)\n",
    "\n",
    "    pk_concat = concat_ratio_list(pk_list)\n",
    "    linear_concat = concat_ratio_list(linear_list)\n",
    "    bilinear_concat = concat_ratio_list(bilinear_list)\n",
    "\n",
    "    return pk_concat, linear_concat, bilinear_concat\n",
    "\n",
    "\n",
    "mean_pk, mean_linear, mean_bilinear = concat_data(mean_dict_list)\n",
    "\n",
    "mean_linear_mean = np.mean(mean_linear, axis=0)\n",
    "mean_bilinear_mean = np.mean(mean_bilinear, axis=0)\n",
    "mean_pk_mean = np.mean(mean_pk, axis=0)\n",
    "\n",
    "mu = [0, 1, 2, 3, 4]\n",
    "mu_axis = list(range(len(mu)))\n",
    "\n",
    "\n",
    "def plot_evaluate_vdpm(mu, mean, dict_plot):\n",
    "    plt.plot(\n",
    "        mu,\n",
    "        mean,\n",
    "        label=dict_plot[\"label\"],\n",
    "        marker=dict_plot[\"marker\"],\n",
    "        markersize=dict_plot[\"markersize\"],\n",
    "        color=dict_plot[\"color\"],\n",
    "        linestyle=dict_plot[\"linestyle\"],\n",
    "        linewidth=dict_plot[\"linewidth\"],\n",
    "    )\n",
    "\n",
    "\n",
    "label_font = 24\n",
    "ticks_font = 18\n",
    "legend_font = 22\n",
    "\n",
    "\n",
    "dict_plot_pk = {\n",
    "    \"label\": \"Ours\",\n",
    "    \"marker\": \"*\",\n",
    "    \"markersize\": 10,\n",
    "    \"color\": \"steelblue\",\n",
    "    \"linestyle\": \"-\",\n",
    "    \"linewidth\": 3,\n",
    "}\n",
    "\n",
    "dict_plot_linear = {\n",
    "    \"label\": \"M2\",\n",
    "    \"marker\": \"s\",\n",
    "    \"markersize\": 10,\n",
    "    \"color\": \"darkorange\",\n",
    "    \"linestyle\": \"-\",\n",
    "    \"linewidth\": 3,\n",
    "}\n",
    "\n",
    "dict_plot_bilinear = {\n",
    "    \"label\": \"M3\",\n",
    "    \"marker\": \"o\",\n",
    "    \"markersize\": 10,\n",
    "    \"color\": \"forestgreen\",\n",
    "    \"linestyle\": \"-\",\n",
    "    \"linewidth\": 3,\n",
    "}\n",
    "\n",
    "plt.figure(figsize=(15, 4))\n",
    "plot_evaluate_vdpm(mu, mean_pk_mean, dict_plot=dict_plot_pk)\n",
    "plot_evaluate_vdpm(mu, mean_linear_mean, dict_plot=dict_plot_linear)\n",
    "\n",
    "plot_evaluate_vdpm(mu, mean_bilinear_mean, dict_plot=dict_plot_bilinear)\n",
    "\n",
    "plt.xlabel(r\"$\\mu$\", loc=\"right\", fontsize=label_font)\n",
    "plt.ylabel(\"Error\", fontsize=label_font)\n",
    "plt.xticks(mu_axis, mu, fontsize=ticks_font)\n",
    "plt.yticks(fontsize=ticks_font)\n",
    "plt.legend(fontsize=legend_font)"
   ]
  },
  {
   "cell_type": "code",
   "execution_count": null,
   "id": "0d5d9a91",
   "metadata": {},
   "outputs": [],
   "source": []
  }
 ],
 "metadata": {
  "kernelspec": {
   "display_name": "koopman",
   "language": "python",
   "name": "python3"
  },
  "language_info": {
   "codemirror_mode": {
    "name": "ipython",
    "version": 3
   },
   "file_extension": ".py",
   "mimetype": "text/x-python",
   "name": "python",
   "nbconvert_exporter": "python",
   "pygments_lexer": "ipython3",
   "version": "3.8.8"
  }
 },
 "nbformat": 4,
 "nbformat_minor": 5
}
