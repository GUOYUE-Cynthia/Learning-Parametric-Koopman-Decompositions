{
 "cells": [
  {
   "cell_type": "code",
   "execution_count": 1,
   "metadata": {},
   "outputs": [],
   "source": [
    "import os; os.environ['CUDA_VISIBLE_DEVICES'] = '-1'"
   ]
  },
  {
   "cell_type": "code",
   "execution_count": 2,
   "metadata": {},
   "outputs": [],
   "source": [
    "%load_ext autoreload\n",
    "%autoreload 2"
   ]
  },
  {
   "cell_type": "code",
   "execution_count": 3,
   "metadata": {},
   "outputs": [
    {
     "name": "stderr",
     "output_type": "stream",
     "text": [
      "2024-02-28 13:05:38.047398: I tensorflow/core/util/util.cc:169] oneDNN custom operations are on. You may see slightly different numerical results due to floating-point round-off errors from different computation orders. To turn them off, set the environment variable `TF_ENABLE_ONEDNN_OPTS=0`.\n"
     ]
    }
   ],
   "source": [
    "import numpy as np\n",
    "import tensorflow as tf"
   ]
  },
  {
   "cell_type": "code",
   "execution_count": 4,
   "metadata": {},
   "outputs": [],
   "source": [
    "import json\n",
    "import sys"
   ]
  },
  {
   "cell_type": "code",
   "execution_count": 5,
   "metadata": {},
   "outputs": [],
   "source": [
    "from tensorflow.keras.optimizers import Adam\n",
    "from tensorflow.keras.layers import Layer, Dense\n",
    "from tensorflow.keras.layers import Input\n",
    "from tensorflow.keras.models import Model"
   ]
  },
  {
   "cell_type": "code",
   "execution_count": 6,
   "metadata": {},
   "outputs": [],
   "source": [
    "import matplotlib.pyplot as plt"
   ]
  },
  {
   "cell_type": "code",
   "execution_count": 7,
   "metadata": {},
   "outputs": [],
   "source": [
    "from koopmanlib.dictionary import PsiNN\n",
    "from koopmanlib.target import VanderPolMathieuTarget\n",
    "from koopmanlib.param_solver import KoopmanParametricDLSolver, KoopmanLinearDLSolver, KoopmanBilinearDLSolver"
   ]
  },
  {
   "cell_type": "code",
   "execution_count": 8,
   "metadata": {},
   "outputs": [],
   "source": [
    "config_file = 'config_vdpm.json'\n",
    "\n",
    "with open(config_file, 'r') as f:\n",
    "    config = json.load(f)\n",
    "\n",
    "data_path = config['data_settings']['data_path']\n",
    "weights_path = config['nn_settings']['weights_path']\n",
    "\n",
    "n_traj = config['data_settings']['n_traj']\n",
    "traj_len = config['data_settings']['traj_len']\n",
    "mu = config['data_settings']['mu'][0]\n",
    "\n",
    "n_psi_train = config['nn_settings']['n_psi_train']\n",
    "dict_layer_size = config['nn_settings']['dict_layer_size']\n",
    "K_layer_size = config['nn_settings']['K_layer_size'][0]"
   ]
  },
  {
   "cell_type": "code",
   "execution_count": 9,
   "id": "cd69951e",
   "metadata": {},
   "outputs": [
    {
     "name": "stdout",
     "output_type": "stream",
     "text": [
      "mu 0\n",
      "K_layer_size [16]\n"
     ]
    }
   ],
   "source": [
    "print('mu', mu)\n",
    "print('K_layer_size', K_layer_size)"
   ]
  },
  {
   "cell_type": "code",
   "execution_count": 10,
   "metadata": {},
   "outputs": [],
   "source": [
    "target_dim = 2\n",
    "param_dim = 1\n",
    "\n",
    "n_psi = 1 + target_dim + n_psi_train"
   ]
  },
  {
   "cell_type": "code",
   "execution_count": 11,
   "metadata": {},
   "outputs": [],
   "source": [
    "# Set parameters in the vdpm equation.\n",
    "k1, k2, k4, w0 = 2,2,1,1"
   ]
  },
  {
   "cell_type": "code",
   "execution_count": 12,
   "metadata": {},
   "outputs": [],
   "source": [
    "vdp_mathieu = VanderPolMathieuTarget(mu=mu,\n",
    "                                     dim=target_dim,\n",
    "                                     param_dim=param_dim, \n",
    "                                     k1=k1,\n",
    "                                    k2=k2,\n",
    "                                    k4=k4,\n",
    "                                    w0=w0)"
   ]
  },
  {
   "cell_type": "code",
   "execution_count": 13,
   "metadata": {},
   "outputs": [],
   "source": [
    "dic_pk = PsiNN(layer_sizes=dict_layer_size, n_psi_train=n_psi_train)"
   ]
  },
  {
   "cell_type": "code",
   "execution_count": 14,
   "metadata": {},
   "outputs": [
    {
     "name": "stderr",
     "output_type": "stream",
     "text": [
      "2024-02-28 13:05:43.399669: E tensorflow/stream_executor/cuda/cuda_driver.cc:271] failed call to cuInit: CUDA_ERROR_NO_DEVICE: no CUDA-capable device is detected\n",
      "2024-02-28 13:05:43.399709: I tensorflow/stream_executor/cuda/cuda_diagnostics.cc:169] retrieving CUDA diagnostic information for host: neon\n",
      "2024-02-28 13:05:43.399715: I tensorflow/stream_executor/cuda/cuda_diagnostics.cc:176] hostname: neon\n",
      "2024-02-28 13:05:43.399838: I tensorflow/stream_executor/cuda/cuda_diagnostics.cc:200] libcuda reported version is: 465.19.1\n",
      "2024-02-28 13:05:43.399858: I tensorflow/stream_executor/cuda/cuda_diagnostics.cc:204] kernel reported version is: 465.19.1\n",
      "2024-02-28 13:05:43.399863: I tensorflow/stream_executor/cuda/cuda_diagnostics.cc:310] kernel version seems to match DSO: 465.19.1\n",
      "2024-02-28 13:05:43.400153: I tensorflow/core/platform/cpu_feature_guard.cc:193] This TensorFlow binary is optimized with oneAPI Deep Neural Network Library (oneDNN) to use the following CPU instructions in performance-critical operations:  AVX2 AVX512F AVX512_VNNI FMA\n",
      "To enable them in other operations, rebuild TensorFlow with the appropriate compiler flags.\n"
     ]
    }
   ],
   "source": [
    "from koopmanlib.K_structure import Model_K_u_Layer_One\n",
    "\n",
    "model_K_u = Model_K_u_Layer_One(layer_sizes=K_layer_size, \n",
    "                                n_psi=n_psi,\n",
    "                                activation='relu')\n",
    "\n",
    "solver_pk = KoopmanParametricDLSolver(\n",
    "    target_dim=target_dim, \n",
    "    param_dim=param_dim, \n",
    "    n_psi=n_psi, \n",
    "    dic=dic_pk, \n",
    "    model_K_u=model_K_u)\n",
    "\n",
    "model_pk, model_K_u_pred_pk = solver_pk.generate_model()"
   ]
  },
  {
   "cell_type": "code",
   "execution_count": 15,
   "id": "6331aea8",
   "metadata": {},
   "outputs": [
    {
     "data": {
      "text/plain": [
       "TensorShape([16])"
      ]
     },
     "execution_count": 15,
     "metadata": {},
     "output_type": "execute_result"
    }
   ],
   "source": [
    "model_K_u.weights[1].shape"
   ]
  },
  {
   "cell_type": "code",
   "execution_count": 16,
   "metadata": {},
   "outputs": [],
   "source": [
    "model_pk.load_weights(os.path.join(weights_path, 'test_model_pk_vdpm_mu_'+str(mu)+'.h5'))"
   ]
  },
  {
   "cell_type": "markdown",
   "metadata": {},
   "source": [
    "# Linear Model: Dynamics is $Az +Bu$"
   ]
  },
  {
   "cell_type": "code",
   "execution_count": 17,
   "metadata": {},
   "outputs": [],
   "source": [
    "dic_linear = PsiNN(layer_sizes=dict_layer_size, n_psi_train=n_psi_train)"
   ]
  },
  {
   "cell_type": "code",
   "execution_count": 18,
   "metadata": {},
   "outputs": [],
   "source": [
    "solver_linear = KoopmanLinearDLSolver(dic=dic_linear, target_dim=target_dim, param_dim=param_dim, n_psi=n_psi)\n",
    "model_linear = solver_linear.build_model()"
   ]
  },
  {
   "cell_type": "code",
   "execution_count": 19,
   "metadata": {},
   "outputs": [],
   "source": [
    "model_linear.load_weights(os.path.join(weights_path, 'test_model_linear_vdpm_mu_'+str(mu)+'.h5'))"
   ]
  },
  {
   "cell_type": "markdown",
   "metadata": {},
   "source": [
    "# Bilinear Model: Dynamics is $Az + \\sum_{i=1}^{N_{u}}B_{i}zu_{i}$"
   ]
  },
  {
   "cell_type": "code",
   "execution_count": 20,
   "metadata": {},
   "outputs": [],
   "source": [
    "dic_bilinear = PsiNN(layer_sizes=dict_layer_size, n_psi_train=n_psi_train)"
   ]
  },
  {
   "cell_type": "code",
   "execution_count": 21,
   "metadata": {},
   "outputs": [],
   "source": [
    "solver_bilinear = KoopmanBilinearDLSolver(dic=dic_bilinear, target_dim=target_dim, param_dim=param_dim, n_psi=n_psi)\n",
    "model_bilinear = solver_bilinear.build_model()"
   ]
  },
  {
   "cell_type": "code",
   "execution_count": 22,
   "metadata": {},
   "outputs": [],
   "source": [
    "model_bilinear.load_weights(os.path.join(weights_path,'test_model_bilinear_vdpm_mu_'+str(mu)+'.h5'))"
   ]
  },
  {
   "cell_type": "markdown",
   "metadata": {},
   "source": [
    "## Prediction"
   ]
  },
  {
   "cell_type": "code",
   "execution_count": 23,
   "metadata": {},
   "outputs": [],
   "source": [
    "from koopmanlib.functions import *"
   ]
  },
  {
   "cell_type": "markdown",
   "metadata": {},
   "source": [
    "## Calculate average value"
   ]
  },
  {
   "cell_type": "code",
   "execution_count": 24,
   "metadata": {},
   "outputs": [],
   "source": [
    "np.random.seed(625)\n",
    "n_test = 20\n",
    "seed_x_list = np.random.randint(1,300, size=(n_test,))\n",
    "seed_param_list = np.random.randint(1,300, size=(n_test,))\n",
    "n_traj_test = 1\n",
    "traj_len_test = 50"
   ]
  },
  {
   "cell_type": "code",
   "execution_count": 25,
   "metadata": {},
   "outputs": [],
   "source": [
    "ratio_pk_list = []\n",
    "ratio_linear_list = []\n",
    "ratio_bilinear_list = []"
   ]
  },
  {
   "cell_type": "code",
   "execution_count": 26,
   "metadata": {
    "scrolled": true
   },
   "outputs": [],
   "source": [
    "for seed_x, seed_param in zip(seed_x_list, seed_param_list):\n",
    "    vdp_mathieu_test = VanderPolMathieuTarget(mu=mu,\n",
    "                                        dim=target_dim,\n",
    "                                        param_dim=param_dim,\n",
    "                                        k1=k1,\n",
    "                                        k2=k2,\n",
    "                                        k4=k4,\n",
    "                                        w0=w0)\n",
    "    \n",
    "    \n",
    "    data_x_test, data_u_test = vdp_mathieu_test.generate_init_data(n_traj=n_traj_test,\n",
    "                                                                   traj_len=traj_len_test,\n",
    "                                                                  seed_x=seed_x,\n",
    "                                                                  seed_param=seed_param)\n",
    "    data_x_init = tf.reshape(data_x_test[0], shape=(1,-1))\n",
    "    data_true = data_x_test\n",
    "    \n",
    "    data_pred_list_pk= solver_pk.compute_data_list(\n",
    "                                     traj_len_test,\n",
    "                                     data_x_init,\n",
    "                                     data_u_test)\n",
    "    data_pred_list_linear= solver_linear.compute_data_list(\n",
    "                                                     traj_len=traj_len_test, \n",
    "                                                     data_x_init=data_x_init, \n",
    "                                                     data_u=data_u_test)\n",
    "    data_pred_list_bilinear= solver_bilinear.compute_data_list(\n",
    "                                                     traj_len=traj_len_test, \n",
    "                                                     data_x_init=data_x_init, \n",
    "                                                     data_u=data_u_test)\n",
    "    \n",
    "    ratio_pk = compute_diff_ratio_one_traj(data_true, \n",
    "                                    data_pred_list_pk)\n",
    "    ratio_linear = compute_diff_ratio_one_traj(data_true, \n",
    "                                        data_pred_list_linear)\n",
    "    ratio_bilinear = compute_diff_ratio_one_traj(data_true, \n",
    "                                        data_pred_list_bilinear)\n",
    "    \n",
    "    \n",
    "    ratio_pk_list.append(ratio_pk)\n",
    "    ratio_linear_list.append(ratio_linear)\n",
    "    ratio_bilinear_list.append(ratio_bilinear)\n",
    "    "
   ]
  },
  {
   "cell_type": "code",
   "execution_count": null,
   "id": "19343e58",
   "metadata": {},
   "outputs": [],
   "source": []
  },
  {
   "cell_type": "code",
   "execution_count": 27,
   "id": "c9192f09",
   "metadata": {},
   "outputs": [
    {
     "data": {
      "text/plain": [
       "array([[ 0.22989485,  0.15661314],\n",
       "       [ 0.17784297,  0.13788336],\n",
       "       [ 0.12907229,  0.1087323 ],\n",
       "       [ 0.08462275,  0.09278017],\n",
       "       [ 0.0697902 ,  0.10361331],\n",
       "       [ 0.05921159,  0.10232794],\n",
       "       [ 0.02478408,  0.08351505],\n",
       "       [ 0.02919429,  0.05370537],\n",
       "       [ 0.01809444,  0.07579205],\n",
       "       [-0.01967194,  0.06220018],\n",
       "       [-0.02056638,  0.07565368],\n",
       "       [-0.01872275,  0.04450533],\n",
       "       [-0.04424784,  0.02820746],\n",
       "       [-0.035674  ,  0.00605548],\n",
       "       [-0.05378654, -0.00704867],\n",
       "       [-0.08741532, -0.01816306],\n",
       "       [-0.05157384, -0.01587796],\n",
       "       [-0.05518305,  0.00961804],\n",
       "       [-0.03472916,  0.01460352],\n",
       "       [-0.0689834 ,  0.00295163],\n",
       "       [-0.04765468,  0.01131898],\n",
       "       [-0.05186593, -0.00539392],\n",
       "       [-0.06899156, -0.01800806],\n",
       "       [-0.06166647, -0.03108309],\n",
       "       [-0.05551368, -0.0077355 ],\n",
       "       [-0.02634974, -0.00903643],\n",
       "       [-0.00589746, -0.00801629],\n",
       "       [-0.04477075, -0.01338448],\n",
       "       [-0.03234886,  0.00439745],\n",
       "       [-0.01287342,  0.00530812],\n",
       "       [-0.02006594,  0.03123409],\n",
       "       [-0.02169288,  0.04975011],\n",
       "       [-0.04649958,  0.03232837],\n",
       "       [-0.01954532,  0.01400697],\n",
       "       [-0.02113667,  0.034946  ],\n",
       "       [-0.05597798,  0.02225286],\n",
       "       [-0.04482928,  0.00080225],\n",
       "       [-0.04255878,  0.02144505],\n",
       "       [-0.01730195,  0.01255797],\n",
       "       [-0.01507593,  0.03098575],\n",
       "       [-0.00782627,  0.04094888],\n",
       "       [-0.00223783,  0.04978068],\n",
       "       [ 0.00970608,  0.03787636],\n",
       "       [ 0.00271444,  0.01743563],\n",
       "       [ 0.00369589, -0.00065998],\n",
       "       [ 0.01587366, -0.00105679],\n",
       "       [-0.02509932, -0.00484625],\n",
       "       [-0.05719622, -0.01348426],\n",
       "       [-0.03646906, -0.00316242],\n",
       "       [-0.03724123, -0.01698492]])"
      ]
     },
     "execution_count": 27,
     "metadata": {},
     "output_type": "execute_result"
    }
   ],
   "source": [
    "data_pred_list_pk"
   ]
  },
  {
   "cell_type": "code",
   "execution_count": 28,
   "metadata": {},
   "outputs": [
    {
     "data": {
      "text/plain": [
       "<matplotlib.legend.Legend at 0x7fa448442a00>"
      ]
     },
     "execution_count": 28,
     "metadata": {},
     "output_type": "execute_result"
    },
    {
     "data": {
      "image/png": "[encoded data removed]",
      "text/plain": [
       "<Figure size 432x360 with 1 Axes>"
      ]
     },
     "metadata": {
      "needs_background": "light"
     },
     "output_type": "display_data"
    }
   ],
   "source": [
    "plt.figure(figsize=(6,5))\n",
    "plt.plot(data_pred_list_pk[:,0], data_pred_list_pk[:,1], label='Ours', color='steelblue', linewidth=3)\n",
    "plt.plot(data_pred_list_linear[:,0], data_pred_list_linear[:,1], label='M2', color='darkorange', linewidth=3)\n",
    "plt.plot(data_pred_list_bilinear[:,0], data_pred_list_bilinear[:,1], label='M3', color='forestgreen', linewidth=3)\n",
    "plt.plot(data_true[:,0], data_true[:,1], label='True', color='brown', linestyle='dashed', linewidth=3)\n",
    "plt.xlabel(r'$x_{1}$', fontsize=28)\n",
    "plt.ylabel(r'$x_{2}$', fontsize=28)\n",
    "plt.xticks(fontsize=18)\n",
    "plt.yticks(fontsize=18)\n",
    "plt.legend(fontsize=18)"
   ]
  },
  {
   "cell_type": "code",
   "execution_count": 30,
   "id": "e0fb74c7",
   "metadata": {},
   "outputs": [],
   "source": [
    "# Load data\n",
    "dict_data = np.load(os.path.join(\n",
    "    data_path, 'vdpm_data_mu_'+str(mu)+'.npy'), allow_pickle=True)\n",
    "\n",
    "data_x = dict_data[()]['data_x']\n",
    "data_y = dict_data[()]['data_y']\n",
    "data_u = dict_data[()]['data_u']"
   ]
  },
  {
   "cell_type": "code",
   "execution_count": 33,
   "id": "137974b7",
   "metadata": {},
   "outputs": [
    {
     "name": "stdout",
     "output_type": "stream",
     "text": [
      "125/125 [==============================] - 1s 1ms/step - loss: 0.0108\n"
     ]
    },
    {
     "data": {
      "text/plain": [
       "0.01083258010025367"
      ]
     },
     "execution_count": 33,
     "metadata": {},
     "output_type": "execute_result"
    }
   ],
   "source": [
    "\n",
    "zeros_data_y_train = tf.zeros_like(dic_pk(data_y))\n",
    "lr = 1e-5\n",
    "\n",
    "opt = Adam(lr)\n",
    "model_pk.compile(optimizer=opt, loss='mse')\n",
    "\n",
    "model_pk.evaluate(x=[data_x, data_y, data_u], y=zeros_data_y_train, batch_size=200, verbose=1)"
   ]
  },
  {
   "cell_type": "code",
   "execution_count": 48,
   "id": "bdcb3d7b",
   "metadata": {},
   "outputs": [
    {
     "data": {
      "text/plain": [
       "<tf.Tensor: shape=(25000, 13), dtype=float64, numpy=\n",
       "array([[ 1.00000000e+00,  3.03095219e-01, -3.22644123e-01, ...,\n",
       "         1.31949718e-01,  1.10268474e-01,  1.20254618e-01],\n",
       "       [ 1.00000000e+00, -4.09484532e-01,  5.75472514e-02, ...,\n",
       "        -1.60455195e-01, -2.38958050e-01, -1.81601537e-01],\n",
       "       [ 1.00000000e+00,  3.32459936e-01, -8.40170910e-02, ...,\n",
       "         1.29823757e-01,  1.23025513e-01, -1.31666403e-02],\n",
       "       ...,\n",
       "       [ 1.00000000e+00, -1.26735580e-01, -1.12356069e+00, ...,\n",
       "         2.02438928e-03, -1.09209636e-01, -9.02087176e-04],\n",
       "       [ 1.00000000e+00,  4.66628186e-02, -8.35704627e-01, ...,\n",
       "         4.37784742e-02,  4.45895107e-02, -7.52162793e-02],\n",
       "       [ 1.00000000e+00, -9.04958222e-01,  2.18535211e-02, ...,\n",
       "        -2.59281379e-01, -4.60088225e-01, -2.47313822e-01]])>"
      ]
     },
     "execution_count": 48,
     "metadata": {},
     "output_type": "execute_result"
    }
   ],
   "source": [
    "from tensorflow.keras.layers import Concatenate\n",
    "\n",
    "psi_x_train = model_pk.get_layer('DicNN')(data_x)\n",
    "constant = tf.ones_like(tf.slice(data_x, [0, 0], [-1, 1]))\n",
    "psi_x = Concatenate()([constant, data_x, psi_x_train])\n",
    "\n",
    "model_pk.get_layer('K_u_pred')([data_u, psi_x])"
   ]
  },
  {
   "cell_type": "code",
   "execution_count": 49,
   "id": "c6a0bcff",
   "metadata": {},
   "outputs": [
    {
     "data": {
      "text/plain": [
       "[<tf.Variable 'model_k_u__layer__one/dense_3/kernel:0' shape=(1, 16) dtype=float64, numpy=\n",
       " array([[ 0.0816518 , -0.13737178, -0.44672785,  0.44556687, -0.14981654,\n",
       "          0.37378147,  0.07011786,  0.15696788, -0.06975915, -0.40947325,\n",
       "          0.43573341, -0.41761965,  0.39219801, -0.2822007 ,  0.0527503 ,\n",
       "          0.42495586]])>,\n",
       " <tf.Variable 'model_k_u__layer__one/dense_3/bias:0' shape=(16,) dtype=float64, numpy=\n",
       " array([-0.158155  ,  0.16592645, -0.02085937, -0.04065792,  0.1015685 ,\n",
       "        -0.03553214,  0.19673346,  0.17667912, -0.23762604, -0.01306559,\n",
       "        -0.00410502,  0.01013201, -0.0083233 , -0.02326938, -0.17165581,\n",
       "        -0.04580996])>,\n",
       " <tf.Variable 'model_k_u__layer__one/dense_4/kernel:0' shape=(16, 156) dtype=float64, numpy=\n",
       " array([[ 0.09250067, -0.0089461 , -0.05420009, ...,  0.03395653,\n",
       "         -0.00224979, -0.21771001],\n",
       "        [ 0.0159288 , -0.09668435, -0.19662081, ...,  0.10904923,\n",
       "          0.11813257, -0.01412418],\n",
       "        [-0.08066587,  0.03419079, -0.03695519, ...,  0.02860672,\n",
       "          0.10909318,  0.1489717 ],\n",
       "        ...,\n",
       "        [ 0.10593866,  0.04209739, -0.00734656, ..., -0.19587695,\n",
       "          0.09894483, -0.18373317],\n",
       "        [-0.18672311,  0.0652679 ,  0.12197795, ...,  0.01409856,\n",
       "         -0.05702393, -0.2555341 ],\n",
       "        [ 0.14514397, -0.046054  , -0.11268345, ...,  0.00464668,\n",
       "          0.05810736, -0.05907897]])>,\n",
       " <tf.Variable 'model_k_u__layer__one/dense_4/bias:0' shape=(156,) dtype=float64, numpy=\n",
       " array([ 6.32958673e-03,  1.41650283e-02,  6.35031565e-02,  2.17413755e-02,\n",
       "         9.92820349e-03,  1.17602606e-03, -4.31780598e-02, -2.14158907e-02,\n",
       "         8.46906608e-03, -2.49336492e-02, -1.51868120e-02, -1.24682570e-02,\n",
       "         1.39906305e-01, -1.19459551e-04, -4.74993497e-02,  6.86479610e-02,\n",
       "         7.23849731e-02,  4.75453074e-02,  2.49438890e-02,  4.78014157e-02,\n",
       "         6.64617169e-02,  6.52287108e-02,  8.66737702e-02,  8.07191433e-02,\n",
       "        -4.83224167e-03,  2.09934731e-01,  6.65354143e-02, -1.45441440e-02,\n",
       "         1.10375740e-01, -3.17083033e-03, -4.23594259e-02,  4.65583420e-02,\n",
       "         2.32010008e-02, -3.13719917e-02,  2.13331508e-02, -5.51631293e-03,\n",
       "        -9.13232842e-02,  1.64234633e-01,  9.23668549e-02, -3.09156550e-02,\n",
       "        -3.26245077e-02, -7.81856718e-02, -5.99481733e-02, -1.31925059e-02,\n",
       "        -2.46400757e-02, -3.42325044e-02, -5.60697137e-02, -1.81302864e-02,\n",
       "         9.89743890e-02,  2.97954321e-01,  7.70141779e-02,  1.63963054e-01,\n",
       "         6.36239422e-02,  1.27960021e-01, -1.48871645e-01,  1.11857721e-01,\n",
       "         1.45775345e-01, -1.70657637e-01,  7.20944088e-02, -1.24694685e-01,\n",
       "         9.68927498e-02,  1.32959326e-01, -5.98592375e-02, -3.20885419e-02,\n",
       "         1.16079043e-01, -2.45720141e-02,  6.11682224e-02,  3.00877555e-02,\n",
       "         1.01869989e-02,  1.20425746e-01,  1.49889116e-02,  1.04673752e-01,\n",
       "         9.64822309e-02,  1.55444850e-01, -3.85846190e-02,  9.28068225e-02,\n",
       "         6.87295107e-02,  7.06951563e-02,  2.02201363e-04,  8.63161768e-02,\n",
       "         1.06847173e-01,  1.80249075e-02,  6.95351146e-02,  1.44343394e-02,\n",
       "         4.06949730e-02, -2.21200542e-01, -9.10738867e-02, -2.19886185e-02,\n",
       "         8.25791554e-03,  5.97651300e-02,  1.02869934e-01, -1.25081211e-02,\n",
       "        -1.74362725e-02,  5.54373969e-02,  3.29045014e-02,  6.25276174e-03,\n",
       "         7.26945750e-02,  2.23531725e-01, -5.53173988e-04,  5.85360763e-02,\n",
       "         9.57251263e-02,  4.42285905e-02, -2.75118326e-02,  9.90623701e-02,\n",
       "         6.37859270e-02,  1.20991848e-02,  2.28717538e-02, -2.42501183e-02,\n",
       "         7.48362749e-02,  2.70551395e-01,  3.15662211e-02,  7.93267764e-02,\n",
       "         9.75337694e-02,  8.49360879e-02, -7.74036415e-02,  8.47607221e-02,\n",
       "         1.18742347e-01, -1.15859497e-01,  4.68522052e-02, -7.94744642e-02,\n",
       "         9.19107527e-02, -2.99768762e-01, -5.50472499e-02, -7.41042369e-02,\n",
       "         1.03983331e-02, -2.24397599e-02,  9.37851296e-02, -3.55158431e-02,\n",
       "        -1.54171719e-01,  1.53635047e-01,  4.60077825e-02,  1.09670843e-01,\n",
       "         1.13407931e-01,  1.44360581e-01, -1.79221894e-02,  1.03504004e-01,\n",
       "         4.88441707e-02,  7.32488794e-02, -3.73473127e-02,  7.22100613e-02,\n",
       "         9.49989623e-02,  8.48187394e-03,  1.02836722e-01,  7.74174444e-03,\n",
       "         1.25993321e-01, -2.94694743e-01, -4.54822647e-02, -1.03134027e-01,\n",
       "        -3.34345317e-03, -2.18251881e-02,  6.50932871e-02, -8.89296240e-02,\n",
       "        -1.53532865e-01,  1.31802184e-01,  4.16679760e-02,  1.29352000e-01])>]"
      ]
     },
     "execution_count": 49,
     "metadata": {},
     "output_type": "execute_result"
    }
   ],
   "source": [
    "model_pk.get_layer('K_u_pred').weights"
   ]
  },
  {
   "cell_type": "code",
   "execution_count": 47,
   "id": "8f095bfd",
   "metadata": {},
   "outputs": [
    {
     "data": {
      "text/plain": [
       "TensorShape([25000, 10])"
      ]
     },
     "execution_count": 47,
     "metadata": {},
     "output_type": "execute_result"
    }
   ],
   "source": [
    "psi_x.shape"
   ]
  },
  {
   "cell_type": "code",
   "execution_count": 39,
   "id": "64b40620",
   "metadata": {},
   "outputs": [
    {
     "data": {
      "text/plain": [
       "<tf.Tensor: shape=(25000, 2), dtype=float64, numpy=\n",
       "array([[ 0.38860321, -0.44063573],\n",
       "       [-0.54521972,  0.11400706],\n",
       "       [ 0.43732384, -0.17077534],\n",
       "       ...,\n",
       "       [-0.15918179, -1.40095387],\n",
       "       [ 0.07036387, -1.01300055],\n",
       "       [-1.0529745 ,  0.17011209]])>"
      ]
     },
     "execution_count": 39,
     "metadata": {},
     "output_type": "execute_result"
    }
   ],
   "source": [
    "data_y"
   ]
  },
  {
   "cell_type": "code",
   "execution_count": 36,
   "id": "ec7e956c",
   "metadata": {},
   "outputs": [
    {
     "name": "stdout",
     "output_type": "stream",
     "text": [
      "782/782 [==============================] - 1s 839us/step\n"
     ]
    },
    {
     "data": {
      "text/plain": [
       "array([[ 0.        , -0.08550799,  0.11799161, ..., -0.0783958 ,\n",
       "        -0.11887505, -0.07341195],\n",
       "       [ 0.        ,  0.13573519, -0.05645981, ...,  0.0252049 ,\n",
       "         0.03405673,  0.00320011],\n",
       "       [ 0.        , -0.1048639 ,  0.08675825, ..., -0.07564992,\n",
       "        -0.12942322, -0.20358287],\n",
       "       ...,\n",
       "       [ 0.        ,  0.03244621,  0.27739319, ..., -0.08681285,\n",
       "        -0.05613228, -0.07237851],\n",
       "       [ 0.        , -0.02370105,  0.17729592, ..., -0.09759602,\n",
       "        -0.02053302, -0.19932805],\n",
       "       [ 0.        ,  0.14801628, -0.14825857, ...,  0.11895891,\n",
       "         0.08378518,  0.12499352]])"
      ]
     },
     "execution_count": 36,
     "metadata": {},
     "output_type": "execute_result"
    }
   ],
   "source": [
    "model_pk.predict(x=[data_x, data_y, data_u])"
   ]
  },
  {
   "cell_type": "code",
   "execution_count": 76,
   "metadata": {},
   "outputs": [],
   "source": [
    "ratio_pk_list = np.asarray(ratio_pk_list)\n",
    "ratio_linear_list = np.asarray(ratio_linear_list)\n",
    "ratio_bilinear_list = np.asarray(ratio_bilinear_list)"
   ]
  },
  {
   "cell_type": "code",
   "execution_count": 77,
   "metadata": {},
   "outputs": [],
   "source": [
    "ratio_pk_list_mean = np.mean(ratio_pk_list, axis=0)\n",
    "ratio_linear_list_mean = np.mean(ratio_linear_list, axis=0)\n",
    "ratio_bilinear_list_mean = np.mean(ratio_bilinear_list, axis=0)"
   ]
  },
  {
   "cell_type": "code",
   "execution_count": 78,
   "metadata": {},
   "outputs": [],
   "source": [
    "ratio_pk_list_median = np.median(ratio_pk_list, axis=0)\n",
    "ratio_linear_list_median = np.median(ratio_linear_list, axis=0)\n",
    "ratio_bilinear_list_median = np.median(ratio_bilinear_list, axis=0)"
   ]
  },
  {
   "cell_type": "code",
   "execution_count": 79,
   "metadata": {},
   "outputs": [],
   "source": [
    "q_min = 0.35\n",
    "q_max = 0.65"
   ]
  },
  {
   "cell_type": "code",
   "execution_count": 80,
   "metadata": {},
   "outputs": [],
   "source": [
    "ratio_pk_list_min = np.quantile(ratio_pk_list, q=q_min, axis=0)\n",
    "ratio_linear_list_min = np.quantile(ratio_linear_list, q=q_min, axis=0)\n",
    "ratio_bilinear_list_min = np.quantile(ratio_bilinear_list, q=q_min, axis=0)"
   ]
  },
  {
   "cell_type": "code",
   "execution_count": 81,
   "metadata": {},
   "outputs": [],
   "source": [
    "ratio_pk_list_max = np.quantile(ratio_pk_list, q=q_max, axis=0)\n",
    "ratio_linear_list_max = np.quantile(ratio_linear_list, q=q_max, axis=0)\n",
    "ratio_bilinear_list_max = np.quantile(ratio_bilinear_list, q=q_max, axis=0)"
   ]
  },
  {
   "cell_type": "code",
   "execution_count": 82,
   "metadata": {},
   "outputs": [],
   "source": [
    "x_axis = np.arange(0,50,1)"
   ]
  },
  {
   "cell_type": "code",
   "execution_count": 83,
   "metadata": {
    "scrolled": true
   },
   "outputs": [
    {
     "data": {
      "text/plain": [
       "<matplotlib.legend.Legend at 0x7faecc751430>"
      ]
     },
     "execution_count": 83,
     "metadata": {},
     "output_type": "execute_result"
    },
    {
     "data": {
      "image/png": "[encoded data removed]",
      "text/plain": [
       "<Figure size 432x288 with 1 Axes>"
      ]
     },
     "metadata": {
      "needs_background": "light"
     },
     "output_type": "display_data"
    }
   ],
   "source": [
    "plt.figure(figsize=(6,4))\n",
    "\n",
    "plt.plot(ratio_pk_list_median, label='Ours', color='steelblue', linewidth=3)\n",
    "plt.fill_between(x_axis, ratio_pk_list_min, ratio_pk_list_max, color='lightsteelblue', alpha=0.5)\n",
    "plt.plot(ratio_linear_list_median, label='M2', color='darkorange', linewidth=3)\n",
    "plt.fill_between(x_axis, ratio_linear_list_min, ratio_linear_list_max, color='navajowhite', alpha=0.5)\n",
    "plt.plot(ratio_bilinear_list_median, label='M3', color='forestgreen', linewidth=3)\n",
    "plt.fill_between(x_axis, ratio_bilinear_list_min, ratio_bilinear_list_max, color='darkseagreen', alpha=0.5)\n",
    "\n",
    "\n",
    "plt.ticklabel_format(axis='y', style='sci', scilimits=(0,0))\n",
    "plt.gca().yaxis.get_offset_text().set_fontsize(18)\n",
    "\n",
    "plt.xlabel(r'$n$', fontsize=28)\n",
    "plt.ylabel('Error', fontsize=28)\n",
    "plt.xticks(fontsize=18)\n",
    "plt.yticks(fontsize=18)\n",
    "plt.legend(fontsize=18)\n"
   ]
  },
  {
   "cell_type": "code",
   "execution_count": 45,
   "metadata": {},
   "outputs": [],
   "source": [
    "dict_mean = {'pk': ratio_pk_list_mean,\n",
    "              'linear': ratio_linear_list_mean,\n",
    "              'bilinear': ratio_bilinear_list_mean}"
   ]
  },
  {
   "cell_type": "code",
   "execution_count": 51,
   "metadata": {},
   "outputs": [],
   "source": [
    "np.save(os.path.join(data_path, 'ratio_list_dict_mu_'+str(mu)+'_mean.npy'), dict_mean)"
   ]
  },
  {
   "cell_type": "markdown",
   "metadata": {},
   "source": [
    "# See the comparison\n",
    "If you have tested on all $\\mu: 0,1,2,3,4$, then you can run the following codes to see the comparison."
   ]
  },
  {
   "cell_type": "code",
   "execution_count": 53,
   "metadata": {},
   "outputs": [
    {
     "data": {
      "text/plain": [
       "<matplotlib.legend.Legend at 0x7f9a46084a90>"
      ]
     },
     "execution_count": 53,
     "metadata": {},
     "output_type": "execute_result"
    },
    {
     "data": {
      "image/png": "[encoded data removed]",
      "text/plain": [
       "<Figure size 1080x288 with 1 Axes>"
      ]
     },
     "metadata": {
      "needs_background": "light"
     },
     "output_type": "display_data"
    }
   ],
   "source": [
    "import numpy as np\n",
    "\n",
    "import matplotlib.pyplot as plt\n",
    "\n",
    "mean_dict_mu_0 = np.load(os.path.join(data_path, 'ratio_list_dict_mu_0_mean.npy'), allow_pickle=True)\n",
    "mean_dict_mu_1 = np.load(os.path.join(data_path, 'ratio_list_dict_mu_1_mean.npy'), allow_pickle=True)\n",
    "mean_dict_mu_2 = np.load(os.path.join(data_path, 'ratio_list_dict_mu_2_mean.npy'), allow_pickle=True)\n",
    "mean_dict_mu_3 = np.load(os.path.join(data_path, 'ratio_list_dict_mu_3_mean.npy'), allow_pickle=True)\n",
    "mean_dict_mu_4 = np.load(os.path.join(data_path, 'ratio_list_dict_mu_4_mean.npy'), allow_pickle=True)\n",
    "\n",
    "def extact_data(ratio_dict, ratio_name):\n",
    "    ratio_pk = ratio_dict[()][ratio_name[0]].reshape((1,-1))\n",
    "    ratio_linear = ratio_dict[()][ratio_name[1]].reshape((1,-1))\n",
    "    ratio_bilinear = ratio_dict[()][ratio_name[2]].reshape((1,-1))\n",
    "    return ratio_pk, ratio_linear, ratio_bilinear\n",
    "\n",
    "mean_dict_list = [mean_dict_mu_0, mean_dict_mu_1, mean_dict_mu_2, mean_dict_mu_3, mean_dict_mu_4]\n",
    "\n",
    "ratio_pk_list = []\n",
    "ratio_linear_list = []\n",
    "ratio_bilinear_list = []\n",
    "\n",
    "ratio_name_list = ['pk', 'linear', 'bilinear']\n",
    "\n",
    "def concat_ratio_list(ratio_list):\n",
    "    ratio_concat = np.concatenate(ratio_list, axis=0)\n",
    "    ratio_concat = ratio_concat.T\n",
    "    return ratio_concat\n",
    "\n",
    "def concat_data(dict_list):\n",
    "    pk_list=[]\n",
    "    linear_list = []\n",
    "    bilinear_list = []\n",
    "\n",
    "    for i in range(5):\n",
    "        pk, linear, bilinear = extact_data(dict_list[i], ratio_name=ratio_name_list)\n",
    "        pk_list.append(pk)\n",
    "        linear_list.append(linear)\n",
    "        bilinear_list.append(bilinear)\n",
    "        \n",
    "    pk_concat = concat_ratio_list(pk_list)\n",
    "    linear_concat = concat_ratio_list(linear_list)\n",
    "    bilinear_concat = concat_ratio_list(bilinear_list)\n",
    "    \n",
    "    return pk_concat, linear_concat, bilinear_concat\n",
    "\n",
    "mean_pk, mean_linear, mean_bilinear = concat_data(mean_dict_list)\n",
    "\n",
    "mean_linear_mean = np.mean(mean_linear, axis=0)\n",
    "mean_bilinear_mean = np.mean(mean_bilinear, axis=0)\n",
    "mean_pk_mean = np.mean(mean_pk, axis=0)\n",
    "\n",
    "mu = [0,1,2,3,4]\n",
    "mu_axis = list(range(len(mu)))\n",
    "\n",
    "\n",
    "def plot_evaluate_vdpm(mu, mean, dict_plot):\n",
    "    plt.plot(mu,\n",
    "             mean,\n",
    "             label=dict_plot['label'],\n",
    "             marker=dict_plot['marker'], \n",
    "             markersize=dict_plot['markersize'], \n",
    "             color=dict_plot['color'],\n",
    "             linestyle=dict_plot['linestyle'],\n",
    "             linewidth=dict_plot['linewidth'])\n",
    "\n",
    "label_font = 24\n",
    "ticks_font = 18\n",
    "legend_font = 22\n",
    "\n",
    "\n",
    "\n",
    "\n",
    "\n",
    "\n",
    "dict_plot_pk = {'label':'Ours',\n",
    "                'marker':'*',\n",
    "                'markersize':10,\n",
    "                'color':'steelblue',\n",
    "                'linestyle':'-',\n",
    "                'linewidth':3\n",
    "               }\n",
    "\n",
    "dict_plot_linear = {'label':'M2',\n",
    "                'marker':'s',\n",
    "                'markersize':10,\n",
    "                'color':'darkorange',\n",
    "                'linestyle':'-',\n",
    "                'linewidth':3\n",
    "               }\n",
    "\n",
    "dict_plot_bilinear = {'label':'M3',\n",
    "                'marker':'o',\n",
    "                'markersize':10,\n",
    "                'color':'forestgreen',\n",
    "                'linestyle':'-',\n",
    "                'linewidth':3\n",
    "               }\n",
    "\n",
    "plt.figure(figsize=(15,4))\n",
    "plot_evaluate_vdpm(mu, mean_pk_mean, dict_plot=dict_plot_pk)\n",
    "plot_evaluate_vdpm(mu, mean_linear_mean, dict_plot=dict_plot_linear)\n",
    "\n",
    "plot_evaluate_vdpm(mu, mean_bilinear_mean, dict_plot=dict_plot_bilinear)\n",
    "\n",
    "plt.xlabel(r'$\\mu$', loc='right', fontsize=label_font)\n",
    "plt.ylabel('Error', fontsize=label_font)\n",
    "plt.xticks(mu_axis, mu, fontsize=ticks_font)\n",
    "plt.yticks(fontsize=ticks_font)\n",
    "plt.legend(fontsize=legend_font)\n"
   ]
  },
  {
   "cell_type": "code",
   "execution_count": null,
   "metadata": {},
   "outputs": [],
   "source": []
  }
 ],
 "metadata": {
  "kernelspec": {
   "display_name": "koopman",
   "language": "python",
   "name": "python3"
  },
  "language_info": {
   "codemirror_mode": {
    "name": "ipython",
    "version": 3
   },
   "file_extension": ".py",
   "mimetype": "text/x-python",
   "name": "python",
   "nbconvert_exporter": "python",
   "pygments_lexer": "ipython3",
   "version": "3.8.8"
  }
 },
 "nbformat": 4,
 "nbformat_minor": 5
}
