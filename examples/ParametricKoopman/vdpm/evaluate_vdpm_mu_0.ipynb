{
 "cells": [
  {
   "cell_type": "code",
   "execution_count": 1,
   "id": "a3902974",
   "metadata": {},
   "outputs": [],
   "source": [
    "import os\n",
    "\n",
    "os.environ[\"CUDA_VISIBLE_DEVICES\"] = \"-1\""
   ]
  },
  {
   "cell_type": "code",
   "execution_count": 2,
   "id": "de85dd8b",
   "metadata": {},
   "outputs": [],
   "source": [
    "%load_ext autoreload\n",
    "%autoreload 2"
   ]
  },
  {
   "cell_type": "code",
   "execution_count": 3,
   "id": "20eb0b2f",
   "metadata": {},
   "outputs": [
    {
     "name": "stderr",
     "output_type": "stream",
     "text": [
      "2024-03-18 19:48:20.454390: I tensorflow/core/platform/cpu_feature_guard.cc:193] This TensorFlow binary is optimized with oneAPI Deep Neural Network Library (oneDNN) to use the following CPU instructions in performance-critical operations:  AVX2 AVX512F AVX512_VNNI FMA\n",
      "To enable them in other operations, rebuild TensorFlow with the appropriate compiler flags.\n",
      "2024-03-18 19:48:21.301601: I tensorflow/core/util/port.cc:104] oneDNN custom operations are on. You may see slightly different numerical results due to floating-point round-off errors from different computation orders. To turn them off, set the environment variable `TF_ENABLE_ONEDNN_OPTS=0`.\n",
      "2024-03-18 19:48:25.890333: W tensorflow/compiler/xla/stream_executor/platform/default/dso_loader.cc:64] Could not load dynamic library 'libnvinfer.so.7'; dlerror: libnvrtc.so.10.2: cannot open shared object file: No such file or directory; LD_LIBRARY_PATH: /usr/local/cuda-11.1/lib64:\n",
      "2024-03-18 19:48:25.892155: W tensorflow/compiler/xla/stream_executor/platform/default/dso_loader.cc:64] Could not load dynamic library 'libnvinfer_plugin.so.7'; dlerror: libnvrtc.so.10.2: cannot open shared object file: No such file or directory; LD_LIBRARY_PATH: /usr/local/cuda-11.1/lib64:\n",
      "2024-03-18 19:48:25.892192: W tensorflow/compiler/tf2tensorrt/utils/py_utils.cc:38] TF-TRT Warning: Cannot dlopen some TensorRT libraries. If you would like to use Nvidia GPU with TensorRT, please make sure the missing libraries mentioned above are installed properly.\n"
     ]
    }
   ],
   "source": [
    "import numpy as np\n",
    "import tensorflow as tf"
   ]
  },
  {
   "cell_type": "code",
   "execution_count": 4,
   "id": "20434742",
   "metadata": {},
   "outputs": [],
   "source": [
    "import json\n",
    "import sys"
   ]
  },
  {
   "cell_type": "code",
   "execution_count": 5,
   "id": "b57cf3bc",
   "metadata": {},
   "outputs": [],
   "source": [
    "from tensorflow.keras.layers import Dense, Input, Layer\n",
    "from tensorflow.keras.models import Model\n",
    "from tensorflow.keras.optimizers import Adam"
   ]
  },
  {
   "cell_type": "code",
   "execution_count": 6,
   "id": "a68ff93e",
   "metadata": {},
   "outputs": [],
   "source": [
    "import matplotlib.pyplot as plt"
   ]
  },
  {
   "cell_type": "code",
   "execution_count": 7,
   "id": "46c614f7",
   "metadata": {},
   "outputs": [],
   "source": [
    "from koopmanlib.dictionary import PsiNN\n",
    "from koopmanlib.param_solver import (\n",
    "    KoopmanBilinearDLSolver,\n",
    "    KoopmanLinearDLSolver,\n",
    "    KoopmanParametricDLSolver,\n",
    ")\n",
    "from koopmanlib.target import VanderPolMathieuTarget"
   ]
  },
  {
   "cell_type": "code",
   "execution_count": 8,
   "id": "e707adcb",
   "metadata": {},
   "outputs": [],
   "source": [
    "config_file = \"config_vdpm.json\"\n",
    "\n",
    "index = 0\n",
    "with open(config_file, \"r\") as f:\n",
    "    config = json.load(f)\n",
    "\n",
    "data_path = config[\"data_settings\"][\"data_path\"]\n",
    "weights_path = config[\"nn_settings\"][\"weights_path\"]\n",
    "\n",
    "n_traj = config[\"data_settings\"][\"n_traj\"]\n",
    "traj_len = config[\"data_settings\"][\"traj_len\"]\n",
    "mu = config[\"data_settings\"][\"mu\"][index]\n",
    "\n",
    "n_psi_train = config[\"nn_settings\"][\"n_psi_train\"]\n",
    "dict_layer_size = config[\"nn_settings\"][\"dict_layer_size\"]\n",
    "K_layer_size = config[\"nn_settings\"][\"K_layer_size\"][index]"
   ]
  },
  {
   "cell_type": "code",
   "execution_count": 9,
   "id": "d2d87a06",
   "metadata": {},
   "outputs": [
    {
     "data": {
      "text/plain": [
       "[64, 64]"
      ]
     },
     "execution_count": 9,
     "metadata": {},
     "output_type": "execute_result"
    }
   ],
   "source": [
    "dict_layer_size"
   ]
  },
  {
   "cell_type": "code",
   "execution_count": 10,
   "id": "cd69951e",
   "metadata": {},
   "outputs": [
    {
     "name": "stdout",
     "output_type": "stream",
     "text": [
      "mu 0\n",
      "K_layer_size [128]\n"
     ]
    }
   ],
   "source": [
    "print(\"mu\", mu)\n",
    "print(\"K_layer_size\", K_layer_size)"
   ]
  },
  {
   "cell_type": "code",
   "execution_count": 11,
   "id": "3719b75b",
   "metadata": {},
   "outputs": [],
   "source": [
    "target_dim = 2\n",
    "param_dim = 1\n",
    "\n",
    "n_psi = 1 + target_dim + n_psi_train"
   ]
  },
  {
   "cell_type": "code",
   "execution_count": 12,
   "id": "fc8d2ef1",
   "metadata": {},
   "outputs": [
    {
     "data": {
      "text/plain": [
       "13"
      ]
     },
     "execution_count": 12,
     "metadata": {},
     "output_type": "execute_result"
    }
   ],
   "source": [
    "n_psi"
   ]
  },
  {
   "cell_type": "code",
   "execution_count": 13,
   "id": "6db408fa",
   "metadata": {},
   "outputs": [],
   "source": [
    "# Set parameters in the vdpm equation.\n",
    "k1, k2, k4, w0 = 2, 2, 1, 1"
   ]
  },
  {
   "cell_type": "code",
   "execution_count": 14,
   "id": "348b3466",
   "metadata": {},
   "outputs": [],
   "source": [
    "# Load data\n",
    "dict_data = np.load(\n",
    "    os.path.join(data_path, \"vdpm_data_mu_\" + str(mu) + \".npy\"), allow_pickle=True\n",
    ")\n",
    "\n",
    "data_x = dict_data[()][\"data_x\"]\n",
    "data_y = dict_data[()][\"data_y\"]\n",
    "data_u = dict_data[()][\"data_u\"]"
   ]
  },
  {
   "cell_type": "code",
   "execution_count": 15,
   "id": "7ba3c3ca",
   "metadata": {},
   "outputs": [],
   "source": [
    "vdp_mathieu = VanderPolMathieuTarget(\n",
    "    mu=mu, dim=target_dim, param_dim=param_dim, k1=k1, k2=k2, k4=k4, w0=w0\n",
    ")"
   ]
  },
  {
   "cell_type": "code",
   "execution_count": 16,
   "id": "a74259c0",
   "metadata": {},
   "outputs": [],
   "source": [
    "dic_pk = PsiNN(layer_sizes=dict_layer_size, n_psi_train=n_psi_train)"
   ]
  },
  {
   "cell_type": "markdown",
   "id": "8733042d",
   "metadata": {},
   "source": [
    "# Set Linear weights into PKNN\n",
    "## Design the activation function\n"
   ]
  },
  {
   "cell_type": "code",
   "execution_count": 17,
   "id": "88255302",
   "metadata": {},
   "outputs": [],
   "source": [
    "\n",
    "@tf.function\n",
    "def hard_tanh(x):\n",
    "    return tf.clip_by_value(x, clip_value_min=-1., clip_value_max=1.)"
   ]
  },
  {
   "cell_type": "code",
   "execution_count": 18,
   "id": "fb6462d6",
   "metadata": {},
   "outputs": [
    {
     "name": "stderr",
     "output_type": "stream",
     "text": [
      "2024-03-18 19:48:41.654283: E tensorflow/compiler/xla/stream_executor/cuda/cuda_driver.cc:267] failed call to cuInit: CUDA_ERROR_NO_DEVICE: no CUDA-capable device is detected\n",
      "2024-03-18 19:48:41.654338: I tensorflow/compiler/xla/stream_executor/cuda/cuda_diagnostics.cc:169] retrieving CUDA diagnostic information for host: neon\n",
      "2024-03-18 19:48:41.654343: I tensorflow/compiler/xla/stream_executor/cuda/cuda_diagnostics.cc:176] hostname: neon\n",
      "2024-03-18 19:48:41.654508: I tensorflow/compiler/xla/stream_executor/cuda/cuda_diagnostics.cc:200] libcuda reported version is: 470.239.6\n",
      "2024-03-18 19:48:41.654547: I tensorflow/compiler/xla/stream_executor/cuda/cuda_diagnostics.cc:204] kernel reported version is: 470.239.6\n",
      "2024-03-18 19:48:41.654553: I tensorflow/compiler/xla/stream_executor/cuda/cuda_diagnostics.cc:310] kernel version seems to match DSO: 470.239.6\n",
      "2024-03-18 19:48:41.655322: I tensorflow/core/platform/cpu_feature_guard.cc:193] This TensorFlow binary is optimized with oneAPI Deep Neural Network Library (oneDNN) to use the following CPU instructions in performance-critical operations:  AVX2 AVX512F AVX512_VNNI FMA\n",
      "To enable them in other operations, rebuild TensorFlow with the appropriate compiler flags.\n"
     ]
    },
    {
     "data": {
      "text/plain": [
       "<tf.Tensor: shape=(50000, 1), dtype=float64, numpy=\n",
       "array([[-0.16595599],\n",
       "       [ 0.44064899],\n",
       "       [-0.99977125],\n",
       "       ...,\n",
       "       [ 0.52979385],\n",
       "       [-0.92560571],\n",
       "       [ 0.7583709 ]])>"
      ]
     },
     "execution_count": 18,
     "metadata": {},
     "output_type": "execute_result"
    }
   ],
   "source": [
    "hard_tanh(data_u)"
   ]
  },
  {
   "cell_type": "code",
   "execution_count": 19,
   "id": "40e8c875",
   "metadata": {},
   "outputs": [
    {
     "data": {
      "text/plain": [
       "array([[-0.16595599],\n",
       "       [ 0.44064899],\n",
       "       [-0.99977125],\n",
       "       ...,\n",
       "       [ 0.52979385],\n",
       "       [-0.92560571],\n",
       "       [ 0.7583709 ]])"
      ]
     },
     "execution_count": 19,
     "metadata": {},
     "output_type": "execute_result"
    }
   ],
   "source": [
    "data_u"
   ]
  },
  {
   "cell_type": "code",
   "execution_count": 20,
   "id": "2a59f6d0",
   "metadata": {},
   "outputs": [],
   "source": [
    "from koopmanlib.K_structure import Model_K_u_Layer_One\n",
    "\n",
    "model_K_u = Model_K_u_Layer_One(layer_sizes=K_layer_size, n_psi=n_psi, activation=hard_tanh)\n",
    "\n",
    "solver_pk = KoopmanParametricDLSolver(\n",
    "    target_dim=target_dim, param_dim=param_dim, n_psi=n_psi, dic=dic_pk, model_K_u=model_K_u\n",
    ")\n",
    "\n",
    "model_pk, model_K_u_pred_pk = solver_pk.generate_model()"
   ]
  },
  {
   "cell_type": "code",
   "execution_count": 21,
   "id": "c23951cb",
   "metadata": {},
   "outputs": [
    {
     "name": "stderr",
     "output_type": "stream",
     "text": [
      "/home/guoyue/Learning-Parametric-Koopman-Decompositions/pknn/lib/python3.8/site-packages/tqdm/auto.py:21: TqdmWarning: IProgress not found. Please update jupyter and ipywidgets. See https://ipywidgets.readthedocs.io/en/stable/user_install.html\n",
      "  from .autonotebook import tqdm as notebook_tqdm\n",
      "0epoch [00:00, ?epoch/s]"
     ]
    }
   ],
   "source": [
    "zeros_data_y_train = tf.zeros_like(dic_pk(data_y))\n",
    "\n",
    "model_pk.compile(optimizer=Adam(0.001), loss=\"mse\")\n",
    "\n",
    "\n",
    "lr_callback = tf.keras.callbacks.ReduceLROnPlateau(\n",
    "    monitor=\"loss\",\n",
    "    factor=0.1,\n",
    "    patience=100,\n",
    "    verbose=0,\n",
    "    mode=\"auto\",\n",
    "    min_delta=1e-4,\n",
    "    cooldown=0,\n",
    "    min_lr=1e-10,\n",
    ")\n",
    "\n",
    "# Define the early stopping criteria\n",
    "es_callback = tf.keras.callbacks.EarlyStopping(\n",
    "    monitor=\"val_loss\", min_delta=1e-12, patience=50, verbose=1, mode=\"auto\"\n",
    ")\n",
    "\n",
    "checkpoint_path = os.path.join(weights_path, \"hardtanh_model_pk_vdpm_mu_\" + str(mu) + \".h5\")\n",
    "checkpoint_callback = tf.keras.callbacks.ModelCheckpoint(\n",
    "    filepath=checkpoint_path,\n",
    "    monitor=\"val_loss\",\n",
    "    save_best_only=True,\n",
    "    save_weights_only=True,\n",
    "    mode=\"min\",\n",
    "    save_freq=\"epoch\",\n",
    ")\n",
    "\n",
    "from tqdm.keras import TqdmCallback\n",
    "# Define the TqdmCallback for progress bar\n",
    "tqdm_callback = TqdmCallback(verbose=1)\n",
    "\n",
    "# Add early_stopping to the list of callbacks\n",
    "callbacks = [lr_callback, checkpoint_callback, tqdm_callback]\n"
   ]
  },
  {
   "cell_type": "code",
   "execution_count": 22,
   "id": "2b40143c",
   "metadata": {},
   "outputs": [
    {
     "name": "stderr",
     "output_type": "stream",
     "text": [
      "100%|██████████| 500/500 [06:15<00:00,  1.33epoch/s, loss=1.92e-9, val_loss=1.16e-8, lr=1e-7]  \n"
     ]
    }
   ],
   "source": [
    "\n",
    "pknn_epochs = config[\"nn_settings\"][\"pknn_epochs\"]\n",
    "\n",
    "history_pk = model_pk.fit(\n",
    "x=[data_x, data_y, data_u],\n",
    "y=zeros_data_y_train,\n",
    "validation_split=0.2,\n",
    "epochs=pknn_epochs,\n",
    "batch_size=200,\n",
    "callbacks=callbacks,\n",
    "verbose=0,\n",
    ")\n"
   ]
  },
  {
   "cell_type": "code",
   "execution_count": 23,
   "id": "0fa0c7db",
   "metadata": {},
   "outputs": [],
   "source": [
    "model_pk.load_weights(os.path.join(weights_path, \"hardtanh_model_pk_vdpm_mu_\" + str(mu) + \".h5\"))"
   ]
  },
  {
   "cell_type": "code",
   "execution_count": null,
   "id": "cf3b840b",
   "metadata": {},
   "outputs": [],
   "source": []
  },
  {
   "cell_type": "markdown",
   "id": "c54d508e",
   "metadata": {},
   "source": [
    "# DMDc"
   ]
  },
  {
   "cell_type": "code",
   "execution_count": 24,
   "id": "30684fb8",
   "metadata": {},
   "outputs": [],
   "source": [
    "# dic_dmdc = PsiNN(n_psi_train=0, add_constant=False)\n",
    "# solver_dmdc = KoopmanLinearDLSolver(\n",
    "#     dic=dic_dmdc, target_dim=target_dim, param_dim=param_dim, n_psi=target_dim\n",
    "# )\n",
    "# model_dmdc, model_K_u_pred_dmdc = solver_dmdc.build_model()\n",
    "# dic_dmdc.generate_B(data_x)"
   ]
  },
  {
   "cell_type": "markdown",
   "id": "81f0de77",
   "metadata": {},
   "source": [
    "# Linear Model: Dynamics is $Az +Bu$"
   ]
  },
  {
   "cell_type": "code",
   "execution_count": 25,
   "id": "9ed53098",
   "metadata": {},
   "outputs": [],
   "source": [
    "dic_linear = PsiNN(layer_sizes=dict_layer_size, n_psi_train=n_psi_train)"
   ]
  },
  {
   "cell_type": "code",
   "execution_count": 26,
   "id": "40ffb512",
   "metadata": {},
   "outputs": [],
   "source": [
    "solver_linear = KoopmanLinearDLSolver(\n",
    "    dic=dic_linear, target_dim=target_dim, param_dim=param_dim, n_psi=n_psi\n",
    ")\n",
    "model_linear, model_K_u_pred_linear = solver_linear.build_model()"
   ]
  },
  {
   "cell_type": "code",
   "execution_count": 27,
   "id": "0f70e996",
   "metadata": {},
   "outputs": [],
   "source": [
    "model_linear.load_weights(os.path.join(weights_path, \"model_linear_vdpm_mu_\" + str(mu) + \".h5\"))"
   ]
  },
  {
   "cell_type": "markdown",
   "id": "c71e618a",
   "metadata": {},
   "source": [
    "## Try to set Linear weights"
   ]
  },
  {
   "cell_type": "code",
   "execution_count": 28,
   "id": "61670951",
   "metadata": {},
   "outputs": [],
   "source": [
    "dic_pk_faker = PsiNN(layer_sizes=dict_layer_size, n_psi_train=n_psi_train)\n",
    "dic_pk_faker(data_x)\n",
    "\n",
    "# Set weigths in dictionary the same as linear Koopman model\n",
    "dic_pk_faker.set_weights(dic_linear.get_weights())"
   ]
  },
  {
   "cell_type": "code",
   "execution_count": 29,
   "id": "5541559b",
   "metadata": {},
   "outputs": [],
   "source": [
    "# Set updated dictionary into PKNN, then build model_pk_faker\n",
    "model_K_u_faker = Model_K_u_Layer_One(layer_sizes=K_layer_size, n_psi=n_psi, activation=hard_tanh)\n",
    "\n",
    "solver_pk_faker = KoopmanParametricDLSolver(\n",
    "    target_dim=target_dim, param_dim=param_dim, n_psi=n_psi, dic=dic_pk_faker, model_K_u=model_K_u_faker\n",
    ")\n",
    "\n",
    "model_pk_faker, model_K_u_pred_pk_faker = solver_pk_faker.generate_model()"
   ]
  },
  {
   "cell_type": "code",
   "execution_count": 30,
   "id": "58f21cee",
   "metadata": {},
   "outputs": [],
   "source": [
    "# Extract weights from linear Koopman model\n",
    "K_linear_weights = model_linear.get_layer('K_u_linear_pred').weights"
   ]
  },
  {
   "cell_type": "code",
   "execution_count": 31,
   "id": "4d7fe983",
   "metadata": {},
   "outputs": [
    {
     "data": {
      "text/plain": [
       "4"
      ]
     },
     "execution_count": 31,
     "metadata": {},
     "output_type": "execute_result"
    }
   ],
   "source": [
    "len(model_pk_faker.get_layer('K_u_pred').weights)"
   ]
  },
  {
   "cell_type": "code",
   "execution_count": 32,
   "id": "160a5f4c",
   "metadata": {},
   "outputs": [
    {
     "data": {
      "text/plain": [
       "<tf.Variable 'UnreadVariable' shape=(128,) dtype=float64, numpy=\n",
       "array([0., 0., 0., 0., 0., 0., 0., 0., 0., 0., 0., 0., 0., 0., 0., 0., 0.,\n",
       "       0., 0., 0., 0., 0., 0., 0., 0., 0., 0., 0., 0., 0., 0., 0., 0., 0.,\n",
       "       0., 0., 0., 0., 0., 0., 0., 0., 0., 0., 0., 0., 0., 0., 0., 0., 0.,\n",
       "       0., 0., 0., 0., 0., 0., 0., 0., 0., 0., 0., 0., 0., 0., 0., 0., 0.,\n",
       "       0., 0., 0., 0., 0., 0., 0., 0., 0., 0., 0., 0., 0., 0., 0., 0., 0.,\n",
       "       0., 0., 0., 0., 0., 0., 0., 0., 0., 0., 0., 0., 0., 0., 0., 0., 0.,\n",
       "       0., 0., 0., 0., 0., 0., 0., 0., 0., 0., 0., 0., 0., 0., 0., 0., 0.,\n",
       "       0., 0., 0., 0., 0., 0., 0., 0., 0.])>"
      ]
     },
     "execution_count": 32,
     "metadata": {},
     "output_type": "execute_result"
    }
   ],
   "source": [
    "# Consider the hidden layers in K(u)\n",
    "# weights and bias, somehow set weights as identity mappings and bias are zeros\n",
    "hidden_dense_kernel = model_pk_faker.get_layer('K_u_pred').weights[0]\n",
    "model_pk_faker.get_layer('K_u_pred').weights[0].assign(\n",
    "    tf.Variable(tf.constant([([1.0] * hidden_dense_kernel.shape[1] if i == 0 else [0.0] * hidden_dense_kernel.shape[1]) for i in range(hidden_dense_kernel.shape[0])], dtype='float64'))\n",
    "    )\n",
    "model_pk_faker.get_layer('K_u_pred').weights[1].assign(\n",
    "    tf.zeros_like(model_pk_faker.get_layer('K_u_pred').weights[1])\n",
    "    )"
   ]
  },
  {
   "cell_type": "code",
   "execution_count": 33,
   "id": "7c617091",
   "metadata": {},
   "outputs": [
    {
     "data": {
      "text/plain": [
       "<tf.Variable 'UnreadVariable' shape=(156,) dtype=float64, numpy=\n",
       "array([ 3.94845674e-05,  8.83166490e-03,  5.47554181e-03, -7.59532262e-03,\n",
       "        2.46115773e-03,  7.83433572e-03,  8.80262722e-03, -7.51704222e-03,\n",
       "       -5.67505755e-03, -1.74687247e-03,  1.56132159e-02, -6.59015747e-03,\n",
       "        1.00076182e+00,  1.64890787e-01, -1.70957936e-02,  9.95357065e-02,\n",
       "        6.67900079e-02, -1.16890575e-02,  3.26710991e-03, -3.45848265e-02,\n",
       "       -3.90870076e-02, -6.52488721e-03, -3.49217570e-02,  4.53576238e-02,\n",
       "        1.70822454e-02,  2.58764381e+00,  2.94701781e-01,  3.86317977e-01,\n",
       "        1.95449750e-01,  3.44148848e-02,  4.04374561e-01, -4.15705962e-01,\n",
       "       -6.15446124e-02, -3.83932386e-01,  4.28636474e-01,  1.45889252e-01,\n",
       "       -2.91381707e-03, -6.59368608e-01,  7.29042180e-01,  1.98208311e-01,\n",
       "       -8.48748538e-02, -2.42476507e-01, -4.18119602e-01,  3.60526782e-01,\n",
       "        1.62695891e-01,  1.62142466e-01, -6.66483237e-01,  1.29357348e-01,\n",
       "       -3.13395831e-03, -7.02352240e-01, -3.72025848e-02,  5.03133678e-01,\n",
       "       -3.22600733e-02,  2.21292253e-01,  6.04794179e-02,  2.69098021e-02,\n",
       "       -1.77838598e-01,  1.97142923e-01,  2.76166763e-01, -2.35697443e-01,\n",
       "       -8.66198197e-03, -1.93532209e+00, -4.42381420e-01, -1.79066092e-02,\n",
       "        6.41730681e-01, -3.67256058e-01, -8.21113098e-01,  7.40335213e-01,\n",
       "        4.20542604e-01,  3.89010224e-01, -1.11774436e+00,  9.55701672e-03,\n",
       "       -2.48912680e-03, -5.59107887e-01,  8.96083738e-03, -4.54855149e-01,\n",
       "       -3.10678700e-02,  1.21994595e+00,  7.06359874e-02, -2.70122584e-02,\n",
       "       -1.27868586e-01,  1.44012793e-01,  2.60979954e-01, -2.56457226e-01,\n",
       "       -6.83555608e-03, -1.52989225e+00, -8.96995864e-02, -1.07979344e+00,\n",
       "       -9.74130325e-02,  4.04749187e-01,  1.09940400e+00,  9.31426275e-02,\n",
       "       -3.16956929e-01,  4.21835903e-01,  4.34977063e-01, -4.96038338e-01,\n",
       "        1.24967914e-03,  2.83195888e-01,  4.00760866e-02,  1.66837881e-01,\n",
       "       -1.22006960e-02, -5.64379963e-02,  1.04338051e-02,  1.00076603e+00,\n",
       "        6.64340212e-02, -1.03590164e-01, -9.20954235e-03,  7.36877813e-02,\n",
       "        1.79643874e-03,  4.15612145e-01,  2.63011973e-01, -1.66682068e-01,\n",
       "       -1.48980929e-02,  1.62438703e-01,  2.76152065e-01, -2.44788437e-01,\n",
       "        9.88768187e-01, -1.51491886e-01,  4.67268537e-01, -1.59368824e-01,\n",
       "        1.27578177e-02,  2.86130423e+00,  6.63049506e-01,  3.03335018e-01,\n",
       "        4.28677839e-01,  3.44467841e-01,  1.01302664e+00, -9.57584973e-01,\n",
       "       -3.59861197e-01,  3.60389790e-01,  1.31175317e+00,  4.44626886e-02,\n",
       "        3.60909928e-03,  8.11253339e-01,  1.38509633e-01,  3.51763232e-01,\n",
       "        4.37593059e-02, -6.21755472e-02,  1.07773960e-01, -1.48696444e-01,\n",
       "        7.98679382e-02, -2.38923118e-01,  1.10409712e+00,  1.44939578e-01,\n",
       "       -2.44762709e-03, -5.49209790e-01, -1.29185511e-01,  3.62744734e-02,\n",
       "       -9.27208166e-02, -1.04039805e-01, -2.62533516e-01,  1.93998748e-01,\n",
       "        1.29778523e-01,  1.13954240e-01, -3.40036179e-01,  1.01117756e+00])>"
      ]
     },
     "execution_count": 33,
     "metadata": {},
     "output_type": "execute_result"
    }
   ],
   "source": [
    "# Consider the output layers in K(u)\n",
    "\n",
    "# Delete the first column (1, 0, ...,0)^T,\n",
    "# need to be careful with the transposed form of weights in formula and the codes\n",
    "# B in linear Koopman can be considered as the weights of the output layer\n",
    "# Set the first (n_psi - 1) diagonal elements are the components of B\n",
    "trainable_B_from_linear = K_linear_weights[1][:,1:] \n",
    "zero_B_matrix = np.zeros(model_pk_faker.get_layer('K_u_pred').weights[2].shape, dtype='float64')\n",
    "for i in range(trainable_B_from_linear.shape[-1]):\n",
    "    zero_B_matrix[i,i] = trainable_B_from_linear[0,i]\n",
    "\n",
    "\n",
    "# A in linear Koopman can be considered as the bias of the output layer\n",
    "set_output_layer_w_weights = tf.Variable(zero_B_matrix)\n",
    "set_output_layer_bias_weights = tf.reshape(K_linear_weights[0][:,1:], shape=model_pk_faker.get_layer('K_u_pred').weights[3].shape)\n",
    "\n",
    "model_pk_faker.get_layer('K_u_pred').weights[2].assign(\n",
    "    set_output_layer_w_weights\n",
    "    )\n",
    "model_pk_faker.get_layer('K_u_pred').weights[3].assign(\n",
    "    set_output_layer_bias_weights\n",
    "    )"
   ]
  },
  {
   "cell_type": "markdown",
   "id": "0a8b03a2",
   "metadata": {},
   "source": [
    "## Add Perturbation\n"
   ]
  },
  {
   "cell_type": "code",
   "execution_count": 34,
   "id": "52a6b459",
   "metadata": {},
   "outputs": [
    {
     "name": "stdout",
     "output_type": "stream",
     "text": [
      "perturb:  tf.Tensor(\n",
      "[[ 3.13933319e-05 -5.21496940e-05  1.04599127e-04 -2.66423328e-05\n",
      "  -4.75718575e-05  9.75472677e-05  1.58829481e-05  8.25888973e-05\n",
      "  -5.73215743e-05  1.21500005e-04  5.47343337e-05 -2.55551426e-05\n",
      "   6.08792292e-05 -1.74642404e-04  2.47113947e-04  1.38528612e-04\n",
      "   5.59677261e-05 -1.24267028e-04  1.74972891e-04 -3.87284117e-05\n",
      "  -2.22109134e-04 -7.49841485e-05 -7.25742372e-05  1.43350836e-04\n",
      "  -7.38819246e-05  1.01562929e-04  4.78746642e-05  1.95497936e-04\n",
      "  -1.20954767e-04 -9.17871017e-05  8.17040150e-05 -5.52837989e-05\n",
      "   1.07878242e-05 -2.82363395e-05 -1.19862781e-04 -1.35545309e-04\n",
      "   1.21134264e-04 -4.58429107e-05 -3.79405634e-05  1.81908892e-05\n",
      "  -8.72590900e-05 -8.71173279e-05  1.24376046e-04  5.31475395e-05\n",
      "   4.97080975e-05 -8.78987460e-05 -1.97472767e-04  1.48199945e-04\n",
      "   5.36516204e-05  2.46158194e-05 -1.58589384e-04 -2.77389155e-05\n",
      "  -4.26135650e-05  1.12016764e-04 -1.10238099e-04  3.47543966e-05\n",
      "  -4.62542987e-05  8.88471809e-05  6.59301437e-05 -1.14940734e-04\n",
      "   4.04323398e-05  1.35343176e-04  1.16790373e-04 -7.68066394e-05]\n",
      " [-7.60409191e-06 -9.11635100e-05 -1.48516633e-04  1.18397368e-05\n",
      "  -8.11476704e-05  2.60602633e-04 -1.10808504e-05  9.48531535e-05\n",
      "   1.67140278e-04  5.97069260e-05 -1.69620527e-05 -2.62676050e-07\n",
      "   4.84648614e-05  1.03646371e-05 -7.68154299e-05 -1.44186383e-04\n",
      "  -4.69221266e-06 -6.83831278e-05 -6.17054140e-05 -6.69563053e-05\n",
      "  -5.56683026e-05 -2.27097899e-06  5.44991900e-05 -2.69943761e-05\n",
      "   9.10106267e-05 -2.33062648e-05 -2.34360653e-05  8.26680279e-05\n",
      "  -9.86904488e-05 -2.43356256e-05  1.48330749e-04 -9.04191130e-05\n",
      "   1.09982400e-04  7.25077501e-06  4.39852360e-05 -6.20588131e-05\n",
      "   1.27507781e-04  5.68130207e-05  5.09716648e-05 -8.62411966e-05\n",
      "   8.97238480e-06 -1.14363504e-04  1.74791047e-04 -6.50559709e-05\n",
      "   6.53078635e-06  7.01744628e-05 -3.65379099e-05  2.10049659e-04\n",
      "  -1.05331498e-04 -1.14888301e-04 -7.31406101e-05 -8.04679555e-05\n",
      "  -3.28700868e-05 -2.60602069e-05  7.97120914e-06  4.74616125e-05\n",
      "   1.05840484e-04 -4.16163802e-05  1.58351387e-04  3.20127938e-05\n",
      "  -6.16109149e-05 -1.22276103e-04  2.22305636e-04  9.93767179e-05]], shape=(2, 64), dtype=float64)\n",
      "perturb:  tf.Tensor(\n",
      "[[-1.14118360e-04 -1.02769954e-04  8.54056080e-05 ...  5.66617182e-05\n",
      "  -1.80706439e-05  1.04959953e-04]\n",
      " [ 8.07614859e-05 -1.59403157e-05 -1.52671115e-05 ... -2.72995474e-05\n",
      "  -3.36069732e-05 -5.69480656e-05]\n",
      " [ 5.52886400e-05 -3.80597241e-05  7.59266060e-05 ... -6.52493988e-05\n",
      "   4.88492925e-07  1.39167057e-04]\n",
      " ...\n",
      " [ 1.22843992e-05  5.82393750e-05  2.87671642e-05 ... -2.82226605e-05\n",
      "  -1.57720565e-04 -5.21382568e-07]\n",
      " [-2.09360299e-04  1.81359005e-04 -2.61553882e-05 ...  8.80422888e-05\n",
      "   1.35621136e-04  2.25714385e-04]\n",
      " [ 6.79786889e-05 -2.56592789e-05  1.55664778e-04 ...  7.41407618e-05\n",
      "   1.99464154e-04  3.17287245e-04]], shape=(64, 64), dtype=float64)\n",
      "perturb:  tf.Tensor(\n",
      "[-3.99891756e-05 -7.80044391e-05 -3.33231179e-05 -1.25103219e-04\n",
      " -7.66080584e-05 -1.24469559e-04  7.11289033e-05  8.20320878e-05\n",
      " -2.82459358e-05 -9.96103828e-05  1.06915863e-04  1.30595945e-04\n",
      " -6.47935862e-05  1.53843700e-05 -3.39826254e-05  8.10365646e-06\n",
      "  1.80204070e-05  2.39483118e-05 -4.40263783e-06 -2.99487990e-04\n",
      " -6.14057766e-06 -3.40966583e-04  1.43795283e-04  2.47341495e-05\n",
      " -9.61704988e-05 -2.78340987e-05  3.64276367e-05 -6.94005712e-05\n",
      "  1.01414736e-04  1.97347187e-04  2.08935616e-04 -8.53280708e-05\n",
      " -1.24623954e-04  7.14308632e-05 -8.37138911e-05  1.40877325e-05\n",
      "  1.55722191e-04  1.42666764e-04 -7.15765647e-05  1.53411858e-05\n",
      " -4.42952241e-05  3.84172742e-05  3.71781741e-05 -8.81664021e-05\n",
      "  6.32504586e-05  1.27964245e-04  2.45726238e-06 -1.09096289e-04\n",
      "  1.61518489e-04 -7.76224483e-05 -1.02196845e-04 -6.73772853e-05\n",
      "  1.32643954e-04  4.23443623e-05  1.10525106e-04  6.22532069e-05\n",
      " -6.27682913e-05  9.81897907e-05 -7.15466458e-05 -4.21359388e-05\n",
      " -9.00962193e-05 -1.12633167e-04 -3.82298703e-05 -1.16161241e-04], shape=(64,), dtype=float64)\n",
      "perturb:  tf.Tensor(\n",
      "[[ 3.04773602e-05  1.30923517e-05 -6.74029146e-05 ... -6.67358302e-05\n",
      "  -2.07122572e-04  3.21125735e-05]\n",
      " [ 1.46862942e-04 -4.70012738e-05  5.22886560e-05 ... -9.85689046e-05\n",
      "  -7.26362322e-05  9.95266202e-05]\n",
      " [ 5.34548641e-05  2.37840076e-05  9.79703462e-05 ... -5.11361553e-05\n",
      "   2.59611902e-05 -2.01565083e-05]\n",
      " ...\n",
      " [-5.55926939e-05  9.61896036e-06  1.02970403e-04 ... -5.00487589e-05\n",
      "   1.25527513e-05 -2.38473669e-05]\n",
      " [ 1.48692774e-04  2.41854834e-04 -6.68986975e-05 ...  1.81926188e-05\n",
      "   4.48035746e-05 -1.46798406e-04]\n",
      " [-9.61347925e-05 -2.14595409e-05  6.28339093e-05 ...  1.58622595e-04\n",
      "   6.83168843e-05  7.10632447e-05]], shape=(64, 64), dtype=float64)\n",
      "perturb:  tf.Tensor(\n",
      "[ 1.30409646e-04 -3.93113214e-05  2.66020692e-04  1.65505608e-04\n",
      "  1.62236863e-04 -5.80889766e-05  1.77422422e-04  1.92405568e-05\n",
      "  1.40521614e-04 -1.58912563e-04 -6.89985736e-05 -1.89186784e-04\n",
      " -2.17763178e-05 -1.38477848e-05  5.61817327e-05  1.14527196e-04\n",
      " -5.52572120e-05  2.18149073e-04  4.07225781e-05 -9.34034070e-05\n",
      "  5.50572539e-05  6.50057746e-05 -1.82189112e-06 -7.94262822e-05\n",
      " -6.57366096e-05 -8.16231799e-05 -6.63699706e-05  8.57788898e-05\n",
      "  1.50195366e-04  1.25209572e-04  1.30346154e-06 -1.12646228e-04\n",
      "  1.15717355e-04  3.89678081e-05 -8.64939345e-06 -1.13535283e-04\n",
      " -1.14325925e-04  8.83439913e-05 -1.03567150e-04 -5.48055847e-05\n",
      "  7.77472059e-05 -7.67299324e-05  1.24855520e-05  5.26952355e-05\n",
      "  2.68825509e-05  4.91119236e-05 -8.14119086e-06  1.11407015e-04\n",
      "  5.18965049e-05  1.30772115e-04  5.30212391e-05 -2.15450670e-04\n",
      " -1.02193875e-04  1.49220449e-04 -6.70213667e-05 -8.99400038e-05\n",
      "  8.50989596e-05  2.02493266e-05 -1.52637759e-04  2.70239080e-04\n",
      "  1.52122877e-04  6.09866082e-05 -4.74699744e-05  1.01873934e-04], shape=(64,), dtype=float64)\n",
      "perturb:  tf.Tensor(\n",
      "[[ 2.87176523e-06 -4.78201214e-05 -1.27408713e-04  8.51624336e-05\n",
      "   1.20164667e-04 -7.54798383e-05 -7.09457754e-05 -4.43089062e-05\n",
      "   4.30827108e-05 -5.54854041e-06]\n",
      " [-1.30688721e-04  1.30066109e-04 -3.05811544e-05  1.72605226e-04\n",
      "  -1.10066991e-04  1.12185836e-04 -6.50106192e-05  8.04173238e-05\n",
      "   1.68055535e-04  8.43417504e-05]\n",
      " [ 1.43278213e-04  1.55128583e-04 -3.49762883e-06  6.77834793e-05\n",
      "   4.24914289e-05 -1.85628116e-04 -7.43288976e-05 -5.10678496e-05\n",
      "  -6.55152522e-05  6.84655820e-05]\n",
      " [ 6.31583890e-05  3.96058323e-05 -1.36693575e-04  7.29514814e-06\n",
      "  -1.78354852e-04 -2.49262176e-05 -1.54908363e-04  1.26976521e-04\n",
      "  -3.40833579e-06 -9.63686822e-06]\n",
      " [-1.73714247e-04 -5.74911501e-05 -9.24240826e-05 -6.34387405e-05\n",
      "  -4.62382517e-05 -6.81268072e-05  8.09943951e-05 -1.86469777e-05\n",
      "  -8.30916491e-06 -2.58489739e-05]\n",
      " [-1.62097194e-04 -3.73954621e-05  1.03700302e-04 -1.78919899e-04\n",
      "   9.26457216e-06  1.70485220e-04 -7.43643681e-05 -6.44052705e-05\n",
      "  -2.40291810e-04  6.93729598e-05]\n",
      " [-1.15406680e-04 -3.97560641e-05  8.03384064e-05 -3.52042198e-05\n",
      "   1.62061336e-05 -8.04874803e-05 -2.67969578e-04  1.92426539e-04\n",
      "  -4.67397526e-06  8.25914514e-05]\n",
      " [-2.93963873e-05 -2.64258269e-05  2.88628093e-06 -3.00495039e-05\n",
      "  -7.48835723e-05  7.08378393e-06  5.22440285e-05  4.93043178e-05\n",
      "  -2.11479271e-04  1.06936581e-04]\n",
      " [-7.35568501e-05  8.46883335e-05 -1.52740280e-04  2.06561308e-05\n",
      "   1.70790628e-04  1.36100815e-04  6.44251095e-05 -1.36791785e-04\n",
      "   4.89729341e-05 -5.16282815e-06]\n",
      " [-4.03931055e-05 -6.83747878e-05 -1.06535693e-04 -8.45255535e-05\n",
      "   1.14618855e-04 -5.37923120e-05  2.95032378e-05 -1.56150499e-04\n",
      "   7.97659136e-05 -5.32242056e-05]\n",
      " [-5.27918970e-05 -1.42897028e-04 -1.48316189e-04 -2.30314331e-05\n",
      "  -1.30966110e-04  6.84461131e-05 -2.40891669e-05  4.75288854e-05\n",
      "  -1.39017628e-04 -1.24892277e-04]\n",
      " [-1.12755524e-04  3.59398860e-05 -1.23351218e-04 -2.88601243e-05\n",
      "  -1.63077250e-05 -2.06093812e-05  2.60493092e-04 -1.09735658e-04\n",
      "   3.23165860e-05  7.04250888e-05]\n",
      " [-1.53414363e-04  1.41780626e-04  1.46550213e-04  1.94321586e-05\n",
      "   7.08826886e-05 -1.70908990e-04  1.44846456e-04 -4.97718222e-05\n",
      "  -2.52401940e-05  3.22238201e-05]\n",
      " [-2.19368211e-04 -2.88376190e-04 -5.67377047e-07  6.92779003e-05\n",
      "  -2.19558471e-04 -3.05625412e-04 -1.58245082e-04 -1.81298591e-04\n",
      "  -5.36905074e-05  9.07282755e-05]\n",
      " [ 8.38101487e-05 -5.68050807e-05  5.95830972e-05 -8.45644410e-05\n",
      "  -1.39975841e-04 -2.14276612e-05 -4.17841865e-05 -1.61810888e-04\n",
      "  -8.69553825e-05 -3.02288995e-05]\n",
      " [-6.35488510e-05 -1.05819176e-04 -3.67930595e-05 -3.55876777e-05\n",
      "   3.76105147e-05  8.17472253e-05 -2.93427219e-05  1.86908515e-05\n",
      "  -5.94756723e-05 -1.90364117e-04]\n",
      " [-4.92135208e-05 -3.99443936e-05  1.11504940e-04 -7.82399770e-05\n",
      "  -1.10093916e-04  1.82586579e-05 -4.92224272e-05  5.35789037e-06\n",
      "  -2.76750034e-05  2.91798831e-05]\n",
      " [ 5.24114697e-05 -7.45457225e-05  1.03627458e-04  9.34424382e-05\n",
      "   2.53271937e-05  2.18514971e-06  7.59365017e-05 -8.10418533e-05\n",
      "   2.53771084e-05  8.80913624e-05]\n",
      " [-8.60452917e-05  3.12811518e-05  1.89175699e-06  1.40170193e-04\n",
      "  -4.84401452e-05 -4.88839695e-05  7.58465325e-05  3.29768215e-05\n",
      "  -4.25825963e-05 -1.45372072e-05]\n",
      " [ 3.42232006e-05 -9.27028729e-06 -1.58116394e-05 -9.64265844e-05\n",
      "  -1.99431421e-04 -1.52782502e-04 -1.40330383e-04  5.94215982e-05\n",
      "  -3.83620172e-05 -4.88929373e-05]\n",
      " [-1.39239903e-04  5.65509315e-05  1.23152294e-04 -2.66883953e-05\n",
      "  -3.13840498e-06 -1.13589330e-04 -6.18755106e-05 -2.09453917e-04\n",
      "   1.19760046e-04 -1.18191474e-04]\n",
      " [-1.00244444e-04 -9.89427607e-05 -1.29103555e-04  1.01283508e-04\n",
      "   5.04375935e-06 -8.91564324e-05 -9.23345442e-05  4.02800024e-05\n",
      "  -1.25384103e-04  3.77662187e-05]\n",
      " [ 2.51406320e-05  1.87468003e-05 -8.40149009e-05  4.76960023e-05\n",
      "   1.06421611e-04 -5.60940806e-06  1.20308591e-04 -5.69276810e-05\n",
      "  -1.10470855e-04 -3.47980626e-05]\n",
      " [-1.17355551e-04 -1.16212852e-04  3.88101488e-05 -1.46974919e-04\n",
      "  -1.35043177e-04 -8.25950488e-05 -1.43562574e-05 -7.77991921e-05\n",
      "   1.01521877e-04 -1.86483907e-05]\n",
      " [ 8.56168607e-05  8.84284649e-05 -3.09371781e-05 -1.38343599e-05\n",
      "  -1.11087284e-04  3.27638940e-05 -7.80561667e-05  4.07112642e-05\n",
      "   6.75391213e-05 -1.36015082e-04]\n",
      " [-1.89483163e-05 -5.86314480e-05 -7.66125752e-05  7.72912517e-05\n",
      "  -3.83408090e-05  3.39182090e-05 -1.02581452e-04  1.80128091e-04\n",
      "  -2.23090831e-04 -1.76974833e-05]\n",
      " [ 5.42238019e-05 -4.28795778e-05 -1.55011691e-04 -6.87879120e-05\n",
      "  -6.43406852e-05  3.91814862e-05  1.18760324e-04 -7.97643712e-05\n",
      "  -1.66116358e-05 -9.05723454e-06]\n",
      " [-6.00541259e-05 -6.99003570e-05  2.70801878e-04  7.16442430e-05\n",
      "   1.03695084e-04  2.76887350e-04 -9.45027300e-05 -9.60634745e-05\n",
      "   6.70561904e-05 -1.01062875e-04]\n",
      " [-2.06702307e-04  1.29017899e-04 -1.83095649e-04 -6.03042790e-05\n",
      "  -2.39336941e-05 -7.06552449e-05  5.78042136e-05  9.05513649e-05\n",
      "   4.82876231e-05  8.55612316e-05]\n",
      " [ 4.42563571e-05  1.34181484e-04 -3.29758734e-05 -1.16188168e-04\n",
      "  -1.08397244e-04  1.85266450e-04  1.51335372e-04  1.72666552e-06\n",
      "  -1.45858448e-04 -1.30714149e-04]\n",
      " [ 8.96187266e-05  1.21232444e-04 -2.14373783e-05 -1.46653615e-04\n",
      "   6.68026217e-06  2.61416903e-05 -7.77470628e-05  1.04115917e-04\n",
      "  -1.44645531e-05 -1.60941257e-05]\n",
      " [ 3.11018384e-05  4.53296646e-05 -1.32858239e-04 -1.73410789e-04\n",
      "  -4.27014482e-05  1.17640634e-04 -5.14385830e-05  7.42069708e-05\n",
      "  -6.76083368e-05  6.29931500e-05]\n",
      " [-8.36959519e-05  1.73700173e-04  8.11630139e-05 -6.77182918e-05\n",
      "   2.79269066e-05 -1.01961340e-04 -1.59819116e-04 -1.42193202e-04\n",
      "   8.66863164e-05 -1.27617953e-05]\n",
      " [ 2.03227895e-04  2.88531728e-05  1.85107856e-04  1.03024874e-04\n",
      "  -7.66518426e-05 -1.25868633e-04 -5.48065078e-05  1.37606664e-04\n",
      "  -1.71610568e-04  3.06995780e-05]\n",
      " [-2.66336778e-05  7.51892968e-05  1.12283608e-04 -1.26405043e-06\n",
      "   9.72153823e-05 -9.79399819e-05 -8.92940747e-06  1.85156859e-05\n",
      "   1.40960157e-06 -5.19691725e-05]\n",
      " [-1.72507143e-04 -8.75035508e-05 -1.82458762e-05  1.47770955e-04\n",
      "  -5.59580219e-05  8.80662936e-05  2.17727068e-06 -1.39568762e-04\n",
      "  -3.34917674e-06  1.72323478e-05]\n",
      " [ 1.23549211e-04 -1.09604655e-04 -1.35661354e-04  6.22465250e-05\n",
      "  -3.52006055e-05 -1.00116633e-04 -2.03991629e-05  9.63391160e-05\n",
      "   1.61271472e-04 -3.38096267e-05]\n",
      " [ 1.03159453e-04  9.33445683e-05 -8.83054987e-05 -5.84752744e-06\n",
      "  -9.49499317e-06 -2.83570867e-06 -1.92169477e-05  1.89272411e-04\n",
      "   4.67336355e-05  1.51773365e-04]\n",
      " [ 3.13011957e-05 -3.17380264e-05  1.11909749e-04 -3.80595154e-05\n",
      "  -4.89062559e-05 -1.89113054e-05 -1.51700685e-04 -2.32153782e-06\n",
      "  -1.66928776e-04 -6.36639155e-05]\n",
      " [-1.69486275e-05  1.51737247e-04  9.35531985e-05 -5.22411132e-05\n",
      "  -2.63365055e-05 -4.89105715e-05  3.92415167e-05 -8.23646459e-05\n",
      "  -2.50071246e-05  6.73562672e-05]\n",
      " [ 7.54283041e-05  1.53990057e-04 -4.46654733e-05  2.37386513e-05\n",
      "   1.79475013e-04 -8.42856587e-06 -1.39469457e-05 -1.03980141e-04\n",
      "  -1.67282398e-05 -4.53680243e-05]\n",
      " [ 5.02546667e-07 -2.66826917e-04  1.75204506e-05  1.68809241e-06\n",
      "  -1.03346740e-04 -3.46330260e-05  1.62445266e-04  5.37791304e-05\n",
      "  -7.06635736e-05 -5.23542317e-05]\n",
      " [ 8.89279848e-05 -6.85215963e-05 -3.70803776e-05  1.51823981e-04\n",
      "   5.18659247e-05  8.83146499e-05 -1.38786625e-04  4.61650178e-05\n",
      "   1.75804120e-04 -7.66218715e-05]\n",
      " [-9.16521043e-06 -2.26500646e-05 -1.29993115e-05 -2.21143165e-04\n",
      "   3.87671828e-05  1.53720242e-04 -1.41350866e-05 -1.27109908e-04\n",
      "   1.39810086e-04  7.94971799e-05]\n",
      " [ 4.28169699e-05  4.36454842e-05  7.78433891e-06 -1.98102950e-05\n",
      "  -1.32039920e-04  1.24148431e-05 -7.26907532e-05  6.76735022e-05\n",
      "  -8.53057463e-05  2.28101353e-04]\n",
      " [ 9.55806297e-06 -8.05900063e-05  3.35761322e-05 -2.90269023e-04\n",
      "   3.68383627e-05 -9.58580559e-05  1.14260998e-04 -4.25500964e-06\n",
      "   2.60242428e-05  2.35435474e-06]\n",
      " [-1.91255963e-04  1.08898345e-04 -6.19979193e-05 -7.85980844e-05\n",
      "   3.45949079e-05 -4.16315543e-05  5.24585598e-05  1.42594359e-04\n",
      "   1.63301590e-04  6.72095259e-05]\n",
      " [-1.17136002e-04 -1.25907127e-04  4.82332898e-05 -4.68904259e-05\n",
      "   1.82447451e-05  2.04397150e-04 -1.38229578e-05  4.18945399e-05\n",
      "   6.36133132e-05  2.26047695e-06]\n",
      " [ 6.80696238e-05 -1.76088026e-05 -4.85909181e-05 -7.04087180e-05\n",
      "   1.10260970e-04 -1.49515919e-04 -1.02009021e-04 -7.52767030e-05\n",
      "   1.31411548e-04 -1.46641834e-05]\n",
      " [-4.20037253e-05 -8.92018725e-06  1.77506693e-04 -2.49119704e-04\n",
      "  -1.20567208e-04 -7.45706963e-05  3.43427709e-05 -1.28818571e-04\n",
      "  -8.44793640e-05  2.14100404e-05]\n",
      " [ 3.77490848e-05  3.47362587e-05 -1.43948946e-04 -2.13494079e-05\n",
      "   1.28101555e-04 -6.06642296e-05  1.21332499e-04  6.33329051e-05\n",
      "   1.20984835e-05 -1.03652243e-04]\n",
      " [-1.32846638e-04  3.48935364e-05 -3.11487605e-05 -3.10746158e-05\n",
      "  -3.10339899e-05  1.08017015e-04 -2.17883796e-04 -7.74558930e-05\n",
      "  -1.72031971e-05  9.05026849e-05]\n",
      " [ 2.00985575e-04 -1.29544612e-04 -6.33272047e-05 -2.20588561e-05\n",
      "  -7.64283585e-05 -2.36968992e-05 -1.00481399e-04  2.43185943e-04\n",
      "  -1.52474417e-04  1.22530953e-04]\n",
      " [ 1.13985930e-04  2.23709651e-04  1.73412925e-04  7.35761710e-05\n",
      "  -7.88697038e-06 -4.52757892e-05  7.74765222e-05  1.13405122e-04\n",
      "   7.13674504e-05  2.23280658e-05]\n",
      " [ 2.58193302e-05 -1.36224145e-04 -4.02928228e-05 -1.29721570e-04\n",
      "   2.39861904e-05  6.59489182e-05 -1.86968263e-04  1.61836420e-05\n",
      "   1.68469403e-05 -3.16147777e-05]\n",
      " [-1.95657734e-05  1.03577566e-04 -8.40439832e-05  1.27914014e-04\n",
      "  -4.79960770e-05 -3.35006741e-05 -7.38313101e-05  2.95818535e-05\n",
      "  -1.04349945e-04  6.43826678e-05]\n",
      " [ 1.77458371e-04 -6.24105377e-05 -2.98521523e-05 -7.47018178e-06\n",
      "  -1.02221575e-04  1.01355765e-04  1.24254384e-04  8.69530019e-05\n",
      "   4.58220325e-05 -1.52730504e-05]\n",
      " [-6.59203880e-05 -3.02748286e-05  4.18041928e-05 -3.92436045e-05\n",
      "   1.21017784e-04 -1.82151897e-04  3.98037425e-05  1.35368317e-05\n",
      "   1.04284148e-04 -3.66931295e-05]\n",
      " [ 1.04437198e-04 -9.93157882e-06  2.30265294e-04  4.65152817e-05\n",
      "  -9.71314261e-05 -5.88427603e-08 -2.59462934e-04 -1.30893648e-04\n",
      "   3.21180993e-05 -2.90893653e-05]\n",
      " [ 1.57080189e-06 -7.87686174e-05  4.57104442e-06 -9.66299291e-05\n",
      "   4.04316770e-05 -8.21458653e-05 -5.60531607e-05  6.70117229e-05\n",
      "  -1.32459593e-04  6.30934499e-05]\n",
      " [-5.57295562e-05 -6.72714776e-05  3.74333599e-05  2.29577797e-05\n",
      "  -5.70365823e-06 -1.80807361e-04  1.74976165e-04  5.96385915e-05\n",
      "  -5.13662556e-05 -5.61565545e-06]\n",
      " [ 2.49649406e-05  1.02202728e-04  1.42388137e-04  1.70561091e-05\n",
      "   2.21916426e-06 -3.25934925e-05  4.08235485e-05 -1.12913005e-05\n",
      "  -6.72351073e-05 -5.73329969e-05]\n",
      " [-2.33015332e-04 -8.69720212e-05 -1.99967034e-05  9.23047211e-05\n",
      "   1.49051193e-05 -1.57834055e-05 -1.50328764e-04  1.11311852e-04\n",
      "  -6.89703927e-05  1.16130189e-04]\n",
      " [ 2.31460514e-05  1.28762188e-05  2.80166946e-05 -7.91355680e-05\n",
      "   1.98788145e-07  3.94736424e-05 -1.07696002e-04  1.25247561e-04\n",
      "   4.05954303e-05 -8.86306645e-05]], shape=(64, 10), dtype=float64)\n",
      "perturb:  tf.Tensor(\n",
      "[-1.94862642e-05  6.82634064e-05  8.22577553e-05  9.10589800e-07\n",
      " -1.91906693e-05  9.32313181e-05  1.47588791e-04  4.87269314e-06\n",
      "  4.48873665e-05 -1.20411681e-05], shape=(10,), dtype=float64)\n",
      "perturb:  tf.Tensor(\n",
      "[[-3.56406307e-06 -2.08832266e-04 -3.85892950e-05 -1.54419990e-05\n",
      "  -1.81020684e-04 -3.32803600e-05 -7.57474358e-05 -2.48807721e-05\n",
      "   1.50268227e-04 -1.54881314e-04  5.85936697e-05 -5.75541710e-05\n",
      "   8.57075891e-05 -1.12127725e-04 -9.33582039e-05 -5.49326361e-05\n",
      "   3.00584016e-04  3.80763115e-05  2.79977786e-05  5.37204041e-06\n",
      "   1.37675363e-04  6.35884095e-06 -6.61763540e-06  3.98313390e-05\n",
      "   9.43532979e-05 -1.97042002e-04  1.78993859e-04 -3.50651350e-06\n",
      "   8.66068706e-05 -1.04662457e-04 -6.02537162e-05  3.70829267e-05\n",
      "  -3.99743384e-05  2.47141338e-05 -2.81005099e-05 -9.05467220e-06\n",
      "  -1.40221266e-04 -9.78194990e-06 -5.94955108e-05  1.27305917e-04\n",
      "  -1.18117142e-05  6.57882319e-05 -6.49123170e-05 -1.68616051e-04\n",
      "  -2.94988893e-05 -1.34075775e-04  1.10416330e-04  8.19002155e-05\n",
      "  -1.83190112e-05  4.65430884e-05  1.54123083e-04  3.56260806e-05\n",
      "   2.20996001e-04  1.43883847e-04  1.18871384e-04 -8.69681773e-05\n",
      "  -8.95088782e-05 -3.84800203e-07  2.91203728e-06 -4.25162769e-05\n",
      "   1.18970806e-04  1.81545385e-05 -3.93514880e-05  1.34655038e-06\n",
      "  -2.88909414e-05  1.77090250e-04  9.99109888e-06  3.86542603e-06\n",
      "  -4.08123004e-05 -6.23115966e-05 -1.07945449e-04  6.93613795e-06\n",
      "  -5.38086703e-05 -1.47583331e-04  1.18301484e-04 -6.00271421e-05\n",
      "  -3.79888841e-06  1.28055452e-04 -1.46239279e-06  6.05757491e-05\n",
      "   8.65063525e-06 -5.36832151e-05 -3.67133542e-05 -5.59754572e-05\n",
      "  -2.54887531e-04  5.90681353e-05  6.19520523e-05 -1.62156458e-04\n",
      "   6.13061687e-05  3.51919437e-05 -2.24529269e-05  4.74532714e-05\n",
      "  -4.91857634e-05 -6.73212395e-05  7.45163999e-05 -4.90983305e-05\n",
      "   5.83213985e-05  7.34664720e-05  8.00445031e-05 -1.35214792e-04\n",
      "   1.90597587e-05  8.71213637e-05  1.05189001e-04  4.60723262e-05\n",
      "   5.41148174e-06 -3.81306879e-05 -5.16111303e-05 -1.20491206e-05\n",
      "  -1.63221147e-05  2.22388810e-04  3.85265273e-05  8.35577333e-05\n",
      "   1.34684182e-04  8.82625666e-05  2.68100407e-06 -8.96442923e-05\n",
      "  -4.17881041e-05  7.88722565e-05  8.65950130e-05 -8.93673297e-05\n",
      "  -1.22093578e-04 -1.56106471e-05  1.39104857e-04  1.15740554e-04\n",
      "   1.52772542e-04  2.48539010e-05  9.52492377e-05  3.97522162e-05]], shape=(1, 128), dtype=float64)\n",
      "perturb:  tf.Tensor(\n",
      "[ 9.23277651e-05  7.73116059e-05 -5.47107179e-06 -6.18549382e-05\n",
      "  8.46823044e-05 -3.62737906e-05  3.56228473e-05  4.83268946e-05\n",
      "  5.07274855e-05 -7.22387203e-05 -8.08111961e-05 -4.32636585e-05\n",
      " -5.15079088e-06 -2.56003091e-05 -3.77334086e-05 -5.55087657e-06\n",
      " -9.51997475e-05  2.93156079e-05  6.64191200e-05 -6.94770724e-05\n",
      " -2.23560457e-05  2.99368286e-05  1.42352087e-04  3.35321116e-05\n",
      " -2.89435834e-04  1.15454222e-05  3.39457463e-05  1.28122531e-04\n",
      " -9.82330356e-05  3.37350941e-05 -9.08491606e-05 -1.02388440e-04\n",
      " -2.27611689e-05  3.08344301e-05 -2.33868670e-05  1.75225079e-04\n",
      "  6.05004023e-05 -1.56725795e-05  5.92111974e-06  4.02301834e-05\n",
      "  2.48466837e-04 -1.06537379e-04 -2.88379509e-05 -4.47961469e-06\n",
      "  7.38523266e-05  4.22742901e-05 -9.03784603e-05 -1.08631444e-04\n",
      " -8.94209517e-05  1.57597111e-04  5.65810293e-05  9.60340731e-05\n",
      "  7.37681864e-05  1.13301107e-04  7.09677094e-05 -1.68287481e-04\n",
      " -7.62076606e-06 -1.54032533e-04 -9.58253292e-05 -1.50328676e-04\n",
      " -1.15495685e-04  2.01105339e-04 -4.45791965e-05 -5.83230255e-05\n",
      " -1.93691318e-04  8.07022672e-05  1.19123938e-05  1.07197235e-04\n",
      " -9.92920683e-05  1.01513148e-05  9.29222667e-05  7.16802735e-05\n",
      " -7.64981895e-05 -4.11385111e-05  2.54559078e-04 -1.04099063e-05\n",
      " -9.56799861e-06 -9.96786895e-05 -9.87229113e-05 -2.36253567e-04\n",
      "  1.73107935e-05  2.80065519e-05 -7.92482873e-05  2.79671396e-05\n",
      "  2.01037371e-05  1.59272777e-04 -4.94639084e-05  1.82791221e-04\n",
      " -3.85684318e-05  2.11695444e-04 -1.68050783e-04  1.09869576e-04\n",
      "  4.65902144e-05  7.39970249e-05 -2.15888768e-05  9.74902421e-05\n",
      " -4.38308944e-06  7.47423712e-07  5.32341394e-05  3.63977164e-05\n",
      " -1.58781108e-04 -2.69999038e-05  1.17149553e-04  7.89352729e-05\n",
      " -5.63324715e-05  1.91781192e-05 -8.00028746e-05  2.31457024e-05\n",
      "  9.49278582e-05  1.41791650e-05  4.75412637e-06  6.58440285e-05\n",
      "  3.10141972e-05 -4.30409864e-05  5.65024546e-05  1.20717861e-04\n",
      "  7.76535046e-05 -1.07011219e-04 -9.21420315e-06  1.72913974e-04\n",
      "  1.49485425e-04  9.35902952e-05  1.06090377e-04 -1.17529106e-04\n",
      "  6.97280143e-05 -1.57394403e-04 -3.90240580e-06 -1.01789883e-04], shape=(128,), dtype=float64)\n",
      "perturb:  tf.Tensor(\n",
      "[[ 8.56128284e-05  7.76533446e-05 -1.52893734e-04 ... -6.30815219e-05\n",
      "   6.44051550e-05  5.93089942e-06]\n",
      " [-3.36555430e-05 -1.00068945e-04  1.61007719e-04 ... -2.52298330e-05\n",
      "  -1.59811899e-04 -4.06260034e-05]\n",
      " [-3.30808343e-05 -6.10113474e-05 -1.32736495e-04 ... -1.14957157e-04\n",
      "  -1.07157895e-04  7.96374486e-05]\n",
      " ...\n",
      " [ 1.81014014e-05 -3.04005416e-05 -2.72123753e-05 ...  5.20462442e-05\n",
      "   1.48336781e-04 -5.48405319e-06]\n",
      " [-1.25203387e-04  1.85873690e-05 -1.04669365e-04 ... -1.25814140e-04\n",
      "   2.25870233e-05  9.68240053e-05]\n",
      " [-2.96613405e-05  2.57097244e-05 -6.04025082e-05 ...  1.15890864e-04\n",
      "  -1.41245305e-04  3.44050123e-05]], shape=(128, 156), dtype=float64)\n",
      "perturb:  tf.Tensor(\n",
      "[-1.31078127e-04  4.52717934e-06 -2.79223145e-05  3.78787934e-05\n",
      " -8.62310794e-05 -1.16160838e-04 -1.54533254e-05 -3.27562131e-05\n",
      " -6.45370484e-05 -5.28137587e-05 -1.73638538e-04 -5.43838980e-05\n",
      " -8.02708646e-05 -3.52672216e-05  1.15119483e-04 -7.58953171e-05\n",
      " -1.13747809e-04  8.71831471e-07 -1.33812614e-04  7.60566621e-06\n",
      " -4.00292835e-05  3.66149249e-05 -1.54860916e-04 -7.34933646e-05\n",
      " -9.61285310e-05  3.18476569e-07 -2.14983622e-05 -6.51211254e-05\n",
      "  3.74120161e-05 -1.88601863e-05  4.61411002e-05 -9.91252938e-05\n",
      " -7.04006855e-06 -3.21194099e-05 -1.81057269e-04 -1.24352540e-04\n",
      "  3.42242464e-05 -4.76937230e-05  1.62264100e-04 -4.06831768e-05\n",
      "  2.80915954e-05  1.29517827e-04  1.51323185e-05  1.62687603e-05\n",
      "  1.68501702e-04 -7.27902915e-05  6.03510914e-05 -1.13003534e-04\n",
      " -2.14053450e-05 -5.03915359e-05 -4.02795515e-05  2.89437755e-04\n",
      " -7.50159320e-06  3.03049898e-06 -2.33609913e-05 -4.43506110e-05\n",
      "  7.62089360e-05  1.88933112e-04  9.51550809e-05 -1.10115962e-05\n",
      "  1.74405353e-04 -3.06500306e-05 -7.43985113e-05  3.87739272e-05\n",
      "  5.10941121e-05  1.90266018e-04  1.13576846e-04 -7.05299187e-05\n",
      "  1.12053606e-04  2.45692282e-04  5.91917454e-05 -1.38153833e-04\n",
      " -1.15178148e-04 -1.31212116e-04 -1.36706376e-05  4.89577825e-05\n",
      " -5.19200702e-05  1.30953524e-05 -8.58919960e-06 -1.04639915e-04\n",
      " -1.06357541e-04  4.41742116e-06 -6.98380373e-06 -7.96771712e-05\n",
      " -2.89200133e-07 -9.47526295e-05  1.86644513e-04 -1.09739124e-04\n",
      "  2.17085331e-04 -8.35427629e-05 -8.01930271e-05  2.62480787e-05\n",
      " -4.08599799e-06 -1.17844867e-05  1.37514668e-04 -3.11377972e-05\n",
      " -1.97622281e-05 -1.78224210e-05 -1.45183262e-04 -2.71531633e-04\n",
      " -2.54074515e-04  1.98423491e-04  6.75414778e-05  3.08412902e-05\n",
      "  3.08535049e-05 -5.46943193e-05  4.55334982e-05  7.07845481e-05\n",
      "  7.20662890e-05 -1.06453232e-04  5.76923002e-05  1.57228376e-04\n",
      "  6.24953623e-05 -1.78142711e-04  1.36409509e-04 -1.51088795e-04\n",
      " -1.94460641e-04  3.90388670e-05  7.70474314e-05 -9.47740751e-05\n",
      "  1.96771984e-04  6.99895867e-05 -1.03557261e-04  5.48343441e-05\n",
      " -1.79704440e-05  9.12094919e-05  7.00715607e-05  6.79674063e-06\n",
      "  1.46986378e-04 -8.07162272e-05  7.62811816e-05  1.24518548e-04\n",
      " -7.23598807e-06 -1.41972328e-04  7.64147695e-05 -9.18126077e-05\n",
      "  2.39860023e-05  1.91349867e-05 -4.50410317e-05 -7.52192680e-06\n",
      " -6.89279402e-05 -1.11162202e-04  1.63614447e-04 -4.20996851e-05\n",
      "  5.87636803e-06 -5.23110230e-05  2.94102045e-05  4.90338522e-05\n",
      "  4.54681134e-05 -1.25678088e-05 -9.73615181e-05 -1.74218188e-05\n",
      " -5.86940917e-05 -5.43184972e-05 -4.43332210e-05 -6.02103759e-05], shape=(156,), dtype=float64)\n"
     ]
    }
   ],
   "source": [
    "percentage = 0.0001  # 1%\n",
    "\n",
    "for layer in model_pk_faker.layers:\n",
    "    if layer.weights:\n",
    "        for weight in layer.weights:\n",
    "            current_weight_value = weight.numpy()\n",
    "            perturbation = tf.random.normal(current_weight_value.shape, stddev=percentage, dtype=weight.dtype)\n",
    "            print('perturb: ', perturbation)\n",
    "            weight.assign_add(perturbation)"
   ]
  },
  {
   "cell_type": "markdown",
   "id": "7513414b",
   "metadata": {},
   "source": [
    "## Continue to train from linear weights\n"
   ]
  },
  {
   "cell_type": "code",
   "execution_count": 35,
   "id": "a2d98946",
   "metadata": {},
   "outputs": [
    {
     "name": "stderr",
     "output_type": "stream",
     "text": [
      "0epoch [00:00, ?epoch/s]"
     ]
    }
   ],
   "source": [
    "model_pk_faker.compile(optimizer=Adam(1e-4), loss=\"mse\")\n",
    "    \n",
    "lr_callback = tf.keras.callbacks.ReduceLROnPlateau(\n",
    "    monitor=\"loss\",\n",
    "    factor=0.1,\n",
    "    patience=100,\n",
    "    verbose=0,\n",
    "    mode=\"auto\",\n",
    "    min_delta=1e-4,\n",
    "    cooldown=0,\n",
    "    min_lr=1e-10,\n",
    ")\n",
    "\n",
    "# Define the early stopping criteria\n",
    "es_callback = tf.keras.callbacks.EarlyStopping(\n",
    "    monitor=\"val_loss\", min_delta=1e-12, patience=50, verbose=1, mode=\"auto\"\n",
    ")\n",
    "\n",
    "checkpoint_path = os.path.join(weights_path, \"train_from_linear_hardtanh_model_pk_vdpm_mu_\" + str(mu) + \".h5\")\n",
    "checkpoint_callback = tf.keras.callbacks.ModelCheckpoint(\n",
    "    filepath=checkpoint_path,\n",
    "    monitor=\"val_loss\",\n",
    "    save_best_only=True,\n",
    "    save_weights_only=True,\n",
    "    mode=\"min\",\n",
    "    save_freq=\"epoch\",\n",
    ")\n",
    "\n",
    "from tqdm.keras import TqdmCallback\n",
    "\n",
    "# Define the TqdmCallback for progress bar\n",
    "tqdm_callback = TqdmCallback(verbose=1)\n",
    "\n",
    "# Add early_stopping to the list of callbacks\n",
    "callbacks = [lr_callback, checkpoint_callback, tqdm_callback]\n"
   ]
  },
  {
   "cell_type": "code",
   "execution_count": 36,
   "id": "ba3d0130",
   "metadata": {},
   "outputs": [
    {
     "name": "stderr",
     "output_type": "stream",
     "text": [
      "100%|██████████| 500/500 [06:16<00:00,  1.33epoch/s, loss=1.91e-9, val_loss=7.69e-9, lr=1e-8]  \n"
     ]
    }
   ],
   "source": [
    "history_pk_faker = model_pk_faker.fit(\n",
    "x=[data_x, data_y, data_u],\n",
    "y=zeros_data_y_train,\n",
    "validation_split=0.2,\n",
    "epochs=pknn_epochs,\n",
    "batch_size=200,\n",
    "callbacks=callbacks,\n",
    "verbose=0,\n",
    ")"
   ]
  },
  {
   "cell_type": "code",
   "execution_count": 37,
   "id": "bdb446a8",
   "metadata": {},
   "outputs": [],
   "source": [
    "model_pk_faker.load_weights(os.path.join(weights_path, \"train_from_linear_hardtanh_model_pk_vdpm_mu_\" + str(mu) + \".h5\"))"
   ]
  },
  {
   "cell_type": "code",
   "execution_count": null,
   "id": "9fc20ccf",
   "metadata": {},
   "outputs": [],
   "source": []
  },
  {
   "cell_type": "code",
   "execution_count": null,
   "id": "b4500ab8",
   "metadata": {},
   "outputs": [],
   "source": []
  },
  {
   "cell_type": "code",
   "execution_count": null,
   "id": "cb853629",
   "metadata": {},
   "outputs": [],
   "source": []
  },
  {
   "cell_type": "markdown",
   "id": "782f7468",
   "metadata": {},
   "source": [
    "# Bilinear Model: Dynamics is $Az + \\sum_{i=1}^{N_{u}}B_{i}zu_{i}$"
   ]
  },
  {
   "cell_type": "code",
   "execution_count": 38,
   "id": "c5bd98ae",
   "metadata": {},
   "outputs": [],
   "source": [
    "dic_bilinear = PsiNN(layer_sizes=dict_layer_size, n_psi_train=n_psi_train)"
   ]
  },
  {
   "cell_type": "code",
   "execution_count": 39,
   "id": "cd36fbbc",
   "metadata": {},
   "outputs": [],
   "source": [
    "solver_bilinear = KoopmanBilinearDLSolver(\n",
    "    dic=dic_bilinear, target_dim=target_dim, param_dim=param_dim, n_psi=n_psi\n",
    ")\n",
    "model_bilinear, model_K_u_pred_bilinear = solver_bilinear.build_model()"
   ]
  },
  {
   "cell_type": "code",
   "execution_count": 40,
   "id": "89896950",
   "metadata": {},
   "outputs": [],
   "source": [
    "model_bilinear.load_weights(\n",
    "    os.path.join(weights_path, \"model_bilinear_vdpm_mu_\" + str(mu) + \".h5\")\n",
    ")"
   ]
  },
  {
   "cell_type": "code",
   "execution_count": 41,
   "id": "f8082621",
   "metadata": {},
   "outputs": [
    {
     "name": "stdout",
     "output_type": "stream",
     "text": [
      "Model: \"K_u_bilinear_pred\"\n",
      "__________________________________________________________________________________________________\n",
      " Layer (type)                   Output Shape         Param #     Connected to                     \n",
      "==================================================================================================\n",
      " input_17 (InputLayer)          [(None, 13)]         0           []                               \n",
      "                                                                                                  \n",
      " input_16 (InputLayer)          [(None, 1)]          0           []                               \n",
      "                                                                                                  \n",
      " tf.einsum (TFOpLambda)         (1, None, 13)        0           ['input_17[0][0]',               \n",
      "                                                                  'input_16[0][0]']               \n",
      "                                                                                                  \n",
      " tf.__operators__.getitem (Slic  (None, 13)          0           ['tf.einsum[0][0]']              \n",
      " ingOpLambda)                                                                                     \n",
      "                                                                                                  \n",
      " tf.identity (TFOpLambda)       (None, 13)           0           ['tf.__operators__.getitem[0][0]'\n",
      "                                                                 ]                                \n",
      "                                                                                                  \n",
      " Layer_A (Dense)                (None, 13)           169         ['input_17[0][0]']               \n",
      "                                                                                                  \n",
      " Layer_B (Dense)                (None, 13)           169         ['tf.identity[0][0]']            \n",
      "                                                                                                  \n",
      " tf.__operators__.add_1 (TFOpLa  (None, 13)          0           ['Layer_A[0][0]',                \n",
      " mbda)                                                            'Layer_B[0][0]']                \n",
      "                                                                                                  \n",
      "==================================================================================================\n",
      "Total params: 338\n",
      "Trainable params: 0\n",
      "Non-trainable params: 338\n",
      "__________________________________________________________________________________________________\n"
     ]
    }
   ],
   "source": [
    "model_K_u_pred_bilinear.summary()"
   ]
  },
  {
   "cell_type": "code",
   "execution_count": 42,
   "id": "4c330a14",
   "metadata": {},
   "outputs": [],
   "source": [
    "\n",
    "\n",
    "# # Train K(u) to be (A+Bu)\n",
    "# psi_x_data = dic_bilinear(data_x)\n",
    "# target = model_K_u_pred_bilinear([data_u, psi_x_data])\n",
    "# inputs_u = Input(shape=(param_dim,))\n",
    "# inputs_psi_x = Input(shape=(n_psi,))\n",
    "\n",
    "# fake_psi = model_K_u_pred_pk([inputs_u, inputs_psi_x])\n",
    "\n",
    "# test_K_model = Model(inputs=[inputs_u, inputs_psi_x], outputs=fake_psi)\n",
    "\n",
    "# test_K_model.compile(optimizer=Adam(0.000001), loss=\"mse\")\n",
    "# test_K_model.fit(x=[data_u, psi_x_data], y=target, epochs=500, batch_size=200, verbose=1)\n",
    "# dic_pk.set_weights(dic_bilinear.get_weights())\n",
    "\n"
   ]
  },
  {
   "cell_type": "code",
   "execution_count": null,
   "id": "a2fe4211",
   "metadata": {},
   "outputs": [],
   "source": []
  },
  {
   "cell_type": "markdown",
   "id": "871ca98b",
   "metadata": {},
   "source": [
    "## Prediction"
   ]
  },
  {
   "cell_type": "code",
   "execution_count": 43,
   "id": "fde1ce46",
   "metadata": {},
   "outputs": [],
   "source": [
    "from koopmanlib.functions import *"
   ]
  },
  {
   "cell_type": "markdown",
   "id": "4da3a1b9",
   "metadata": {},
   "source": [
    "## Calculate average value"
   ]
  },
  {
   "cell_type": "code",
   "execution_count": 44,
   "id": "59ba4a25",
   "metadata": {},
   "outputs": [],
   "source": [
    "np.random.seed(625)\n",
    "n_test = 20\n",
    "seed_x_list = np.random.randint(1, 300, size=(n_test,))\n",
    "seed_param_list = np.random.randint(1, 300, size=(n_test,))\n",
    "n_traj_test = 1\n",
    "traj_len_test = 50"
   ]
  },
  {
   "cell_type": "code",
   "execution_count": 45,
   "id": "991168ff",
   "metadata": {},
   "outputs": [],
   "source": [
    "ratio_pk_list = []\n",
    "ratio_linear_list = []\n",
    "ratio_bilinear_list = []\n",
    "# ratio_dmdc_list = []\n",
    "ratio_pk_faker_list = []"
   ]
  },
  {
   "cell_type": "code",
   "execution_count": 46,
   "id": "b4dc73e3",
   "metadata": {},
   "outputs": [],
   "source": [
    "data_pred_list_pk_group = []\n",
    "data_pred_list_linear_group = []\n",
    "data_pred_list_bilinear_group = []\n",
    "data_true_group = []\n",
    "# data_pred_list_dmdc_group = []\n",
    "data_pred_list_pk_faker_group = []\n"
   ]
  },
  {
   "cell_type": "code",
   "execution_count": 47,
   "id": "c29d21cf",
   "metadata": {},
   "outputs": [],
   "source": [
    "for seed_x, seed_param in zip(seed_x_list, seed_param_list):\n",
    "    vdp_mathieu_test = VanderPolMathieuTarget(\n",
    "        mu=mu, dim=target_dim, param_dim=param_dim, k1=k1, k2=k2, k4=k4, w0=w0\n",
    "    )\n",
    "\n",
    "    data_x_test, data_u_test = vdp_mathieu_test.generate_init_data(\n",
    "        n_traj=n_traj_test, traj_len=traj_len_test, seed_x=seed_x, seed_param=seed_param\n",
    "    )\n",
    "    data_x_init = tf.reshape(data_x_test[0], shape=(1, -1))\n",
    "    data_true = data_x_test\n",
    "\n",
    "    data_pred_list_pk = solver_pk.compute_data_list(traj_len_test, data_x_init, data_u_test)\n",
    "    data_pred_list_pk_faker = solver_pk_faker.compute_data_list(traj_len_test, data_x_init, data_u_test)\n",
    "    data_pred_list_linear = solver_linear.compute_data_list(\n",
    "        traj_len=traj_len_test, data_x_init=data_x_init, data_u=data_u_test\n",
    "    )\n",
    "    data_pred_list_bilinear = solver_bilinear.compute_data_list(\n",
    "        traj_len=traj_len_test, data_x_init=data_x_init, data_u=data_u_test\n",
    "    )\n",
    "\n",
    "    # data_pred_list_dmdc = solver_dmdc.compute_data_list(\n",
    "    #     traj_len=traj_len_test, data_x_init=data_x_init, data_u=data_u_test\n",
    "    # )\n",
    "\n",
    "    ratio_pk = compute_diff_ratio_one_traj(data_true, data_pred_list_pk)\n",
    "    ratio_linear = compute_diff_ratio_one_traj(data_true, data_pred_list_linear)\n",
    "    ratio_bilinear = compute_diff_ratio_one_traj(data_true, data_pred_list_bilinear)\n",
    "    # ratio_dmdc = compute_diff_ratio_one_traj(data_true, data_pred_list_dmdc)\n",
    "    ratio_pk_faker = compute_diff_ratio_one_traj(data_true, data_pred_list_pk_faker)\n",
    "\n",
    "    ratio_pk_list.append(ratio_pk)\n",
    "    ratio_linear_list.append(ratio_linear)\n",
    "    ratio_bilinear_list.append(ratio_bilinear)\n",
    "    # ratio_dmdc_list.append(ratio_dmdc)\n",
    "    ratio_pk_faker_list.append(ratio_pk_faker)\n",
    "\n",
    "    data_pred_list_pk_group.append(data_pred_list_pk)\n",
    "    data_pred_list_linear_group.append(data_pred_list_linear)\n",
    "    data_pred_list_bilinear_group.append(data_pred_list_bilinear)\n",
    "    # data_pred_list_dmdc_group.append(data_pred_list_dmdc)\n",
    "    data_pred_list_pk_faker_group.append(data_pred_list_pk_faker)\n",
    "\n",
    "    data_true_group.append(data_true)"
   ]
  },
  {
   "cell_type": "code",
   "execution_count": 48,
   "id": "e8c70a6d",
   "metadata": {},
   "outputs": [
    {
     "data": {
      "text/plain": [
       "<matplotlib.legend.Legend at 0x7fcc6c57a040>"
      ]
     },
     "execution_count": 48,
     "metadata": {},
     "output_type": "execute_result"
    },
    {
     "data": {
      "image/png": "[encoded data removed]",
      "text/plain": [
       "<Figure size 432x360 with 1 Axes>"
      ]
     },
     "metadata": {
      "needs_background": "light"
     },
     "output_type": "display_data"
    }
   ],
   "source": [
    "plt.figure(figsize=(6, 5))\n",
    "\n",
    "plt.plot(\n",
    "    data_pred_list_pk[:, 0], \n",
    "    data_pred_list_pk[:, 1], \n",
    "    label=\"Ours\", \n",
    "    color=\"steelblue\", \n",
    "    linewidth=3\n",
    ")\n",
    "    \n",
    "plt.plot(\n",
    "    data_pred_list_linear[:, 0],\n",
    "    data_pred_list_linear[:, 1],\n",
    "    label=\"M2\",\n",
    "    color=\"darkorange\",\n",
    "    linewidth=3,\n",
    ")\n",
    "plt.plot(\n",
    "    data_pred_list_bilinear[:, 0],\n",
    "    data_pred_list_bilinear[:, 1],\n",
    "    label=\"M3\",\n",
    "    color=\"forestgreen\",\n",
    "    linewidth=3,\n",
    ")\n",
    "\n",
    "# plt.plot(\n",
    "# data_pred_list_dmdc[:,0],\n",
    "# data_pred_list_dmdc[:,1],\n",
    "# label='DMDc',\n",
    "# color='red',\n",
    "# linewidth=3\n",
    "# )\n",
    "\n",
    "plt.plot(\n",
    "    data_pred_list_pk_faker[:, 0], \n",
    "    data_pred_list_pk_faker[:, 1], \n",
    "    label=\"PK-faker\", \n",
    "    color=\"pink\", \n",
    "    linewidth=3\n",
    ")\n",
    "\n",
    "\n",
    "plt.plot(\n",
    "    data_true[:, 0], data_true[:, 1], label=\"True\", color=\"brown\", linestyle=\"dashed\", linewidth=3\n",
    ")\n",
    "plt.xlabel(r\"$x_{1}$\", fontsize=28)\n",
    "plt.ylabel(r\"$x_{2}$\", fontsize=28)\n",
    "plt.xticks(fontsize=18)\n",
    "plt.yticks(fontsize=18)\n",
    "plt.legend(fontsize=18)"
   ]
  },
  {
   "cell_type": "code",
   "execution_count": 49,
   "id": "a36e8965",
   "metadata": {},
   "outputs": [],
   "source": [
    "data_pred_list_pk_group = np.asarray(data_pred_list_pk_group)\n",
    "data_pred_list_linear_group = np.asarray(data_pred_list_linear_group)\n",
    "data_pred_list_bilinear_group = np.asarray(data_pred_list_bilinear_group)\n",
    "# data_pred_list_dmdc_group = np.asarray(data_pred_list_dmdc_group)\n",
    "data_pred_list_pk_faker_group = np.asarray(data_pred_list_pk_faker_group)\n",
    "data_true_group = np.asarray(data_true_group)"
   ]
  },
  {
   "cell_type": "code",
   "execution_count": 50,
   "id": "a6df8fe1",
   "metadata": {},
   "outputs": [],
   "source": [
    "# for i in range(data_pred_list_pk_group.shape[0]):\n",
    "#     plt.figure(figsize=(6, 5))\n",
    "#     plt.plot(\n",
    "#         data_pred_list_pk_group[i, :, 0],\n",
    "#         data_pred_list_pk_group[i, :, 1],\n",
    "#         label=\"Ours\",\n",
    "#         color=\"steelblue\",\n",
    "#         linewidth=3,\n",
    "#     )\n",
    "#     plt.plot(\n",
    "#         data_pred_list_linear_group[i, :, 0],\n",
    "#         data_pred_list_linear_group[i, :, 1],\n",
    "#         label=\"M2\",\n",
    "#         color=\"darkorange\",\n",
    "#         linewidth=3,\n",
    "#     )\n",
    "#     plt.plot(\n",
    "#         data_pred_list_bilinear_group[i, :, 0],\n",
    "#         data_pred_list_bilinear_group[i, :, 1],\n",
    "#         label=\"M3\",\n",
    "#         color=\"forestgreen\",\n",
    "#         linewidth=3,\n",
    "#     )\n",
    "#     plt.plot(\n",
    "#         data_true_group[i, :, 0],\n",
    "#         data_true_group[i, :, 1],\n",
    "#         label=\"True\",\n",
    "#         color=\"brown\",\n",
    "#         linestyle=\"dashed\",\n",
    "#         linewidth=3,\n",
    "#     )\n",
    "#     plt.xlabel(r\"$x_{1}$\", fontsize=28)\n",
    "#     plt.ylabel(r\"$x_{2}$\", fontsize=28)\n",
    "#     plt.xticks(fontsize=18)\n",
    "#     plt.yticks(fontsize=18)\n",
    "#     plt.legend(fontsize=18)"
   ]
  },
  {
   "cell_type": "code",
   "execution_count": 51,
   "id": "343656b1",
   "metadata": {},
   "outputs": [],
   "source": [
    "ratio_pk_list = np.asarray(ratio_pk_list)\n",
    "ratio_linear_list = np.asarray(ratio_linear_list)\n",
    "ratio_bilinear_list = np.asarray(ratio_bilinear_list)\n",
    "# ratio_dmdc_list = np.asarray(ratio_dmdc_list)\n",
    "ratio_pk_faker_list = np.asarray(ratio_pk_faker_list)"
   ]
  },
  {
   "cell_type": "code",
   "execution_count": 52,
   "id": "90863088",
   "metadata": {},
   "outputs": [],
   "source": [
    "ratio_pk_list_mean = np.mean(ratio_pk_list, axis=0)\n",
    "ratio_linear_list_mean = np.mean(ratio_linear_list, axis=0)\n",
    "ratio_bilinear_list_mean = np.mean(ratio_bilinear_list, axis=0)\n",
    "# ratio_dmdc_list_mean = np.mean(ratio_dmdc_list, axis=0)\n",
    "ratio_pk_faker_list_mean = np.mean(ratio_pk_faker_list, axis=0)"
   ]
  },
  {
   "cell_type": "code",
   "execution_count": 53,
   "id": "5843294e",
   "metadata": {},
   "outputs": [],
   "source": [
    "ratio_pk_list_median = np.median(ratio_pk_list, axis=0)\n",
    "ratio_linear_list_median = np.median(ratio_linear_list, axis=0)\n",
    "ratio_bilinear_list_median = np.median(ratio_bilinear_list, axis=0)\n",
    "# ratio_dmdc_list_median = np.median(ratio_dmdc_list, axis=0)\n",
    "ratio_pk_faker_list_median = np.median(ratio_pk_faker_list, axis=0)"
   ]
  },
  {
   "cell_type": "code",
   "execution_count": 54,
   "id": "a99da91a",
   "metadata": {},
   "outputs": [],
   "source": [
    "q_min = 0.35\n",
    "q_max = 0.65"
   ]
  },
  {
   "cell_type": "code",
   "execution_count": 55,
   "id": "30400bf9",
   "metadata": {},
   "outputs": [
    {
     "data": {
      "text/plain": [
       "array([[0.00000000e+00, 9.70791320e-05, 1.95416529e-04, 2.99036466e-04,\n",
       "        4.06737841e-04, 5.14307055e-04, 6.18306675e-04, 7.20197045e-04,\n",
       "        8.23321465e-04, 9.29586382e-04, 1.03928368e-03, 1.14979517e-03,\n",
       "        1.26161179e-03, 1.37127029e-03, 1.48070389e-03, 1.58902897e-03,\n",
       "        1.69492301e-03, 1.79769264e-03, 1.89697485e-03, 1.99561999e-03,\n",
       "        2.09096457e-03, 2.18243809e-03, 2.27141307e-03, 2.35748953e-03,\n",
       "        2.44013483e-03, 2.51918555e-03, 2.59568858e-03, 2.66768679e-03,\n",
       "        2.73579646e-03, 2.79959585e-03, 2.85944783e-03, 2.91497631e-03,\n",
       "        2.96531904e-03, 3.00990598e-03, 3.04794401e-03, 3.07969093e-03,\n",
       "        3.10490254e-03, 3.12426215e-03, 3.13773354e-03, 3.14519258e-03,\n",
       "        3.14660572e-03, 3.14254294e-03, 3.13338643e-03, 3.11941961e-03,\n",
       "        3.10130080e-03, 3.07972495e-03, 3.05538817e-03, 3.02879798e-03,\n",
       "        3.00057969e-03, 2.97183238e-03],\n",
       "       [0.00000000e+00, 8.69439573e-05, 1.66354230e-04, 2.45114845e-04,\n",
       "        3.26651053e-04, 4.08222931e-04, 4.86746721e-04, 5.61235831e-04,\n",
       "        6.32814620e-04, 7.03557776e-04, 7.76360385e-04, 8.48999024e-04,\n",
       "        9.23120021e-04, 9.96008422e-04, 1.06834765e-03, 1.14019784e-03,\n",
       "        1.21070732e-03, 1.28169121e-03, 1.35185099e-03, 1.42214068e-03,\n",
       "        1.49382175e-03, 1.56556708e-03, 1.63882414e-03, 1.71279820e-03,\n",
       "        1.78657343e-03, 1.85952870e-03, 1.93370169e-03, 2.00860473e-03,\n",
       "        2.08337831e-03, 2.15806227e-03, 2.23400506e-03, 2.30994298e-03,\n",
       "        2.38621122e-03, 2.46296649e-03, 2.54044065e-03, 2.61861956e-03,\n",
       "        2.69864998e-03, 2.78016485e-03, 2.86225956e-03, 2.94510916e-03,\n",
       "        3.02958565e-03, 3.11403135e-03, 3.19922494e-03, 3.28479049e-03,\n",
       "        3.37187942e-03, 3.45904750e-03, 3.54749608e-03, 3.63605500e-03,\n",
       "        3.72617964e-03, 3.81669061e-03],\n",
       "       [0.00000000e+00, 1.39092357e-04, 2.52949822e-04, 3.63766924e-04,\n",
       "        4.71229436e-04, 5.75242146e-04, 6.75519044e-04, 7.73138357e-04,\n",
       "        8.67403183e-04, 9.58844338e-04, 1.04759704e-03, 1.13304411e-03,\n",
       "        1.21495044e-03, 1.29325842e-03, 1.36766534e-03, 1.43816355e-03,\n",
       "        1.50496079e-03, 1.56779105e-03, 1.62696048e-03, 1.68208293e-03,\n",
       "        1.73296183e-03, 1.78009621e-03, 1.82328265e-03, 1.86229964e-03,\n",
       "        1.89724882e-03, 1.92814740e-03, 1.95526651e-03, 1.97905526e-03,\n",
       "        1.99947519e-03, 2.01708625e-03, 2.03177704e-03, 2.04398670e-03,\n",
       "        2.05395716e-03, 2.06238006e-03, 2.06939107e-03, 2.07498460e-03,\n",
       "        2.07962604e-03, 2.08404963e-03, 2.08856084e-03, 2.09369520e-03,\n",
       "        2.09989450e-03, 2.10749860e-03, 2.11680610e-03, 2.12848380e-03,\n",
       "        2.14324965e-03, 2.16158119e-03, 2.18437860e-03, 2.21226026e-03,\n",
       "        2.24571199e-03, 2.28525139e-03],\n",
       "       [0.00000000e+00, 1.22492199e-04, 2.23701429e-04, 3.24173443e-04,\n",
       "        4.18963541e-04, 5.08681966e-04, 5.93367664e-04, 6.76239149e-04,\n",
       "        7.55069496e-04, 8.31321591e-04, 9.04066987e-04, 9.73087073e-04,\n",
       "        1.03866041e-03, 1.10128090e-03, 1.16070281e-03, 1.21681741e-03,\n",
       "        1.27012886e-03, 1.32113196e-03, 1.37003550e-03, 1.41702482e-03,\n",
       "        1.46217529e-03, 1.50539426e-03, 1.54736100e-03, 1.58856913e-03,\n",
       "        1.62952492e-03, 1.67057242e-03, 1.71166205e-03, 1.75231211e-03,\n",
       "        1.79285482e-03, 1.83324563e-03, 1.87421372e-03, 1.91552821e-03,\n",
       "        1.95672973e-03, 1.99813464e-03, 2.03998952e-03, 2.08176928e-03,\n",
       "        2.12423115e-03, 2.16701061e-03, 2.20936302e-03, 2.25193611e-03,\n",
       "        2.29405874e-03, 2.33506017e-03, 2.37508230e-03, 2.41358496e-03,\n",
       "        2.45030075e-03, 2.48513419e-03, 2.51755368e-03, 2.54695101e-03,\n",
       "        2.57252376e-03, 2.59394087e-03],\n",
       "       [0.00000000e+00, 1.53556395e-04, 2.81177737e-04, 4.10574305e-04,\n",
       "        5.36267207e-04, 6.65464390e-04, 7.87962359e-04, 9.07393680e-04,\n",
       "        1.02466451e-03, 1.14048117e-03, 1.25818322e-03, 1.37553953e-03,\n",
       "        1.49236074e-03, 1.60940834e-03, 1.72442615e-03, 1.83795717e-03,\n",
       "        1.94902011e-03, 2.05936534e-03, 2.16917257e-03, 2.27723449e-03,\n",
       "        2.38284200e-03, 2.48749538e-03, 2.59151000e-03, 2.69491329e-03,\n",
       "        2.79775057e-03, 2.89926238e-03, 2.99959701e-03, 3.09875209e-03,\n",
       "        3.19707416e-03, 3.29361489e-03, 3.38887111e-03, 3.48343742e-03,\n",
       "        3.57606171e-03, 3.66772890e-03, 3.75780454e-03, 3.84610850e-03,\n",
       "        3.93302099e-03, 4.01881018e-03, 4.10330701e-03, 4.18679118e-03,\n",
       "        4.26901173e-03, 4.35023817e-03, 4.43058357e-03, 4.51003303e-03,\n",
       "        4.58867541e-03, 4.66575664e-03, 4.74153089e-03, 4.81587368e-03,\n",
       "        4.88860929e-03, 4.95962787e-03],\n",
       "       [0.00000000e+00, 5.91403008e-05, 1.13622857e-04, 1.65440896e-04,\n",
       "        2.10202291e-04, 2.55486489e-04, 2.97777590e-04, 3.39378925e-04,\n",
       "        3.77346903e-04, 4.14723020e-04, 4.49398440e-04, 4.82383633e-04,\n",
       "        5.13211764e-04, 5.41676312e-04, 5.67830623e-04, 5.90388621e-04,\n",
       "        6.10290180e-04, 6.27538126e-04, 6.42132218e-04, 6.54498298e-04,\n",
       "        6.64335978e-04, 6.72677885e-04, 6.78821314e-04, 6.83272000e-04,\n",
       "        6.85732667e-04, 6.86118794e-04, 6.84824122e-04, 6.81859059e-04,\n",
       "        6.77718108e-04, 6.72750688e-04, 6.66929724e-04, 6.60568012e-04,\n",
       "        6.53978024e-04, 6.47647528e-04, 6.41946514e-04, 6.37361085e-04,\n",
       "        6.34449594e-04, 6.33901353e-04, 6.36363195e-04, 6.42178833e-04,\n",
       "        6.52160308e-04, 6.66825097e-04, 6.86715605e-04, 7.12039985e-04,\n",
       "        7.42978227e-04, 7.80160476e-04, 8.23357361e-04, 8.71971635e-04,\n",
       "        9.25861956e-04, 9.85290443e-04],\n",
       "       [0.00000000e+00, 1.12996776e-04, 2.03438089e-04, 2.91877745e-04,\n",
       "        3.78139747e-04, 4.62171581e-04, 5.45703864e-04, 6.28109560e-04,\n",
       "        7.07905416e-04, 7.86588099e-04, 8.63862340e-04, 9.38686493e-04,\n",
       "        1.01252683e-03, 1.08421431e-03, 1.15238295e-03, 1.21783294e-03,\n",
       "        1.28148617e-03, 1.34247762e-03, 1.39968790e-03, 1.45417551e-03,\n",
       "        1.50449859e-03, 1.55221359e-03, 1.59757348e-03, 1.64005734e-03,\n",
       "        1.67860578e-03, 1.71403211e-03, 1.74571338e-03, 1.77347952e-03,\n",
       "        1.79802599e-03, 1.81843301e-03, 1.83532742e-03, 1.84874398e-03,\n",
       "        1.85870869e-03, 1.86430043e-03, 1.86677814e-03, 1.86591752e-03,\n",
       "        1.86097765e-03, 1.85207904e-03, 1.84037526e-03, 1.82607654e-03,\n",
       "        1.80874624e-03, 1.78870031e-03, 1.76627800e-03, 1.74191675e-03,\n",
       "        1.71547586e-03, 1.68763424e-03, 1.65867776e-03, 1.62942011e-03,\n",
       "        1.60013354e-03, 1.57144687e-03],\n",
       "       [0.00000000e+00, 7.17625361e-05, 1.27462021e-04, 1.79984067e-04,\n",
       "        2.29524404e-04, 2.76245657e-04, 3.19745717e-04, 3.60189279e-04,\n",
       "        3.97488868e-04, 4.31467415e-04, 4.62104076e-04, 4.89204590e-04,\n",
       "        5.12586929e-04, 5.32288588e-04, 5.48352287e-04, 5.60765538e-04,\n",
       "        5.69639035e-04, 5.75037758e-04, 5.77074984e-04, 5.75917384e-04,\n",
       "        5.71789413e-04, 5.64963963e-04, 5.55838754e-04, 5.44797757e-04,\n",
       "        5.32241975e-04, 5.18757424e-04, 5.05222382e-04, 4.92390202e-04,\n",
       "        4.81023521e-04, 4.71652983e-04, 4.65377279e-04, 4.63038494e-04,\n",
       "        4.65333469e-04, 4.72639815e-04, 4.85114778e-04, 5.02424550e-04,\n",
       "        5.24317665e-04, 5.49871543e-04, 5.77767308e-04, 6.07570727e-04,\n",
       "        6.37126938e-04, 6.66305665e-04, 6.94163278e-04, 7.19076001e-04,\n",
       "        7.41164648e-04, 7.59409487e-04, 7.73555344e-04, 7.83184385e-04,\n",
       "        7.87857798e-04, 7.87356752e-04],\n",
       "       [0.00000000e+00, 2.47759986e-04, 4.35223727e-04, 6.29451933e-04,\n",
       "        8.18476663e-04, 1.01070408e-03, 1.21189821e-03, 1.41132757e-03,\n",
       "        1.61382688e-03, 1.82303906e-03, 2.03217684e-03, 2.24189972e-03,\n",
       "        2.45129833e-03, 2.66786195e-03, 2.88429195e-03, 3.10605482e-03,\n",
       "        3.33155287e-03, 3.56204350e-03, 3.79341290e-03, 4.02731832e-03,\n",
       "        4.26568815e-03, 4.50653690e-03, 4.74904262e-03, 4.99225750e-03,\n",
       "        5.23682853e-03, 5.48445430e-03, 5.73619955e-03, 5.99218568e-03,\n",
       "        6.25150693e-03, 6.51299593e-03, 6.77457695e-03, 7.03673212e-03,\n",
       "        7.29648622e-03, 7.55612826e-03, 7.81716758e-03, 8.07453128e-03,\n",
       "        8.33477595e-03, 8.59646865e-03, 8.85911433e-03, 9.12631300e-03,\n",
       "        9.39248544e-03, 9.65857213e-03, 9.92961214e-03, 1.01983856e-02,\n",
       "        1.04723547e-02, 1.07443107e-02, 1.10205088e-02, 1.12940809e-02,\n",
       "        1.15739691e-02, 1.18618293e-02],\n",
       "       [0.00000000e+00, 8.15347834e-05, 1.47033085e-04, 2.06551513e-04,\n",
       "        2.61501446e-04, 3.13435633e-04, 3.61952658e-04, 4.05577924e-04,\n",
       "        4.44826572e-04, 4.79151235e-04, 5.08907195e-04, 5.34316166e-04,\n",
       "        5.55354057e-04, 5.73093493e-04, 5.86107763e-04, 5.95053691e-04,\n",
       "        6.00289817e-04, 6.02005166e-04, 6.00004292e-04, 5.94585241e-04,\n",
       "        5.86626593e-04, 5.77011388e-04, 5.65305270e-04, 5.51858389e-04,\n",
       "        5.37025352e-04, 5.22056897e-04, 5.07196067e-04, 4.92496452e-04,\n",
       "        4.78680168e-04, 4.65962835e-04, 4.54732997e-04, 4.45207756e-04,\n",
       "        4.37399604e-04, 4.31155262e-04, 4.26111630e-04, 4.21792493e-04,\n",
       "        4.17803903e-04, 4.13757973e-04, 4.09137752e-04, 4.03700495e-04,\n",
       "        3.97305448e-04, 3.89895133e-04, 3.81604269e-04, 3.72878849e-04,\n",
       "        3.64559201e-04, 3.57581537e-04, 3.53488293e-04, 3.53978096e-04,\n",
       "        3.61014708e-04, 3.75524632e-04],\n",
       "       [0.00000000e+00, 4.23252741e-05, 8.22054715e-05, 1.25122699e-04,\n",
       "        1.69724102e-04, 2.16440640e-04, 2.64585033e-04, 3.13978926e-04,\n",
       "        3.64634257e-04, 4.17475712e-04, 4.71193046e-04, 5.25626886e-04,\n",
       "        5.80384128e-04, 6.35042556e-04, 6.89474385e-04, 7.43251963e-04,\n",
       "        7.96037031e-04, 8.47044015e-04, 8.95984270e-04, 9.42710177e-04,\n",
       "        9.86758092e-04, 1.02789560e-03, 1.06589736e-03, 1.10057428e-03,\n",
       "        1.13171142e-03, 1.15894251e-03, 1.18182324e-03, 1.20026446e-03,\n",
       "        1.21419287e-03, 1.22361715e-03, 1.22868766e-03, 1.22954170e-03,\n",
       "        1.22646655e-03, 1.21969478e-03, 1.20934328e-03, 1.19609766e-03,\n",
       "        1.18051627e-03, 1.16283967e-03, 1.14362032e-03, 1.12346058e-03,\n",
       "        1.10317877e-03, 1.08316239e-03, 1.06350989e-03, 1.04503286e-03,\n",
       "        1.02817133e-03, 1.01399702e-03, 1.00380525e-03, 1.00079186e-03,\n",
       "        1.00995474e-03, 1.03754146e-03],\n",
       "       [0.00000000e+00, 6.54598638e-05, 1.15974596e-04, 1.62743858e-04,\n",
       "        2.04667935e-04, 2.41873741e-04, 2.75193342e-04, 3.04735596e-04,\n",
       "        3.30790106e-04, 3.52460348e-04, 3.71116030e-04, 3.85772850e-04,\n",
       "        3.97072451e-04, 4.05223135e-04, 4.10581881e-04, 4.13063308e-04,\n",
       "        4.12653125e-04, 4.09495112e-04, 4.03781390e-04, 3.95569335e-04,\n",
       "        3.85358571e-04, 3.73975062e-04, 3.62429097e-04, 3.52308699e-04,\n",
       "        3.44928383e-04, 3.41868501e-04, 3.44680326e-04, 3.54647490e-04,\n",
       "        3.72329598e-04, 3.97806209e-04, 4.30645763e-04, 4.70227463e-04,\n",
       "        5.15563599e-04, 5.66025827e-04, 6.20460427e-04, 6.77867310e-04,\n",
       "        7.37594232e-04, 7.98909863e-04, 8.61256491e-04, 9.24137314e-04,\n",
       "        9.87182355e-04, 1.04999619e-03, 1.11210934e-03, 1.17299936e-03,\n",
       "        1.23211346e-03, 1.28900723e-03, 1.34332380e-03, 1.39474910e-03,\n",
       "        1.44311712e-03, 1.48815383e-03],\n",
       "       [0.00000000e+00, 1.71702040e-04, 3.13492684e-04, 4.54783946e-04,\n",
       "        5.96199358e-04, 7.37387789e-04, 8.78567866e-04, 1.01947685e-03,\n",
       "        1.16002937e-03, 1.30012633e-03, 1.43935223e-03, 1.57807526e-03,\n",
       "        1.71609964e-03, 1.85352938e-03, 1.98974096e-03, 2.12494417e-03,\n",
       "        2.25882514e-03, 2.39057173e-03, 2.51981753e-03, 2.64705710e-03,\n",
       "        2.77136507e-03, 2.89395925e-03, 3.01301325e-03, 3.12937113e-03,\n",
       "        3.24327895e-03, 3.35421333e-03, 3.46190913e-03, 3.56532259e-03,\n",
       "        3.66516015e-03, 3.76071743e-03, 3.85207765e-03, 3.94006462e-03,\n",
       "        4.02516299e-03, 4.10569335e-03, 4.18157453e-03, 4.25437300e-03,\n",
       "        4.32313514e-03, 4.38820852e-03, 4.44851731e-03, 4.50401616e-03,\n",
       "        4.55573391e-03, 4.60284041e-03, 4.64701401e-03, 4.68858129e-03,\n",
       "        4.72606941e-03, 4.75974165e-03, 4.79076233e-03, 4.82014951e-03,\n",
       "        4.84742135e-03, 4.87320277e-03],\n",
       "       [0.00000000e+00, 1.35653001e-04, 2.47341422e-04, 3.57671829e-04,\n",
       "        4.64511843e-04, 5.69392021e-04, 6.74615157e-04, 7.80046931e-04,\n",
       "        8.86071814e-04, 9.90102289e-04, 1.09573860e-03, 1.19978910e-03,\n",
       "        1.30393285e-03, 1.40837321e-03, 1.51377064e-03, 1.61928096e-03,\n",
       "        1.72420242e-03, 1.82822336e-03, 1.93089395e-03, 2.03048098e-03,\n",
       "        2.12641054e-03, 2.21867522e-03, 2.30670514e-03, 2.39343302e-03,\n",
       "        2.47763052e-03, 2.55941070e-03, 2.63759627e-03, 2.71212643e-03,\n",
       "        2.78481050e-03, 2.85539561e-03, 2.92393953e-03, 2.98945083e-03,\n",
       "        3.05266326e-03, 3.11092142e-03, 3.16496321e-03, 3.21585024e-03,\n",
       "        3.26290694e-03, 3.30664395e-03, 3.34710010e-03, 3.38473570e-03,\n",
       "        3.41932737e-03, 3.45040221e-03, 3.47747713e-03, 3.50041514e-03,\n",
       "        3.51865520e-03, 3.53380408e-03, 3.54448000e-03, 3.55217683e-03,\n",
       "        3.55666334e-03, 3.55731915e-03],\n",
       "       [0.00000000e+00, 2.36424150e-05, 5.05163524e-05, 8.18409475e-05,\n",
       "        1.21732137e-04, 1.63717939e-04, 2.06843980e-04, 2.60872254e-04,\n",
       "        3.21456778e-04, 3.86873325e-04, 4.57052736e-04, 5.32538984e-04,\n",
       "        6.09345245e-04, 6.88176313e-04, 7.72554466e-04, 8.59705651e-04,\n",
       "        9.50251407e-04, 1.04179597e-03, 1.13447771e-03, 1.22974820e-03,\n",
       "        1.32755880e-03, 1.42857446e-03, 1.53156117e-03, 1.63729850e-03,\n",
       "        1.74716644e-03, 1.85881835e-03, 1.97339202e-03, 2.08915551e-03,\n",
       "        2.20544670e-03, 2.32240727e-03, 2.44078837e-03, 2.55909281e-03,\n",
       "        2.67796378e-03, 2.79675837e-03, 2.91443166e-03, 3.03117980e-03,\n",
       "        3.14708418e-03, 3.26247484e-03, 3.37620167e-03, 3.48871830e-03,\n",
       "        3.60008664e-03, 3.70924552e-03, 3.81595518e-03, 3.92027591e-03,\n",
       "        4.02238041e-03, 4.12227762e-03, 4.22010330e-03, 4.31483003e-03,\n",
       "        4.40665375e-03, 4.49547072e-03],\n",
       "       [0.00000000e+00, 1.89938797e-04, 3.35852591e-04, 4.80386309e-04,\n",
       "        6.27509170e-04, 7.72158226e-04, 9.18919488e-04, 1.06474888e-03,\n",
       "        1.20767458e-03, 1.34860171e-03, 1.49092637e-03, 1.63509348e-03,\n",
       "        1.77861812e-03, 1.92248638e-03, 2.06555714e-03, 2.20717079e-03,\n",
       "        2.34917412e-03, 2.49061784e-03, 2.63175925e-03, 2.77182429e-03,\n",
       "        2.91154681e-03, 3.04983927e-03, 3.18715361e-03, 3.32309884e-03,\n",
       "        3.45865708e-03, 3.59272848e-03, 3.72580645e-03, 3.85802626e-03,\n",
       "        3.98879236e-03, 4.11828037e-03, 4.24628614e-03, 4.37262192e-03,\n",
       "        4.49765992e-03, 4.62131544e-03, 4.74342970e-03, 4.86432587e-03,\n",
       "        4.98377786e-03, 5.10161828e-03, 5.21831025e-03, 5.33364169e-03,\n",
       "        5.44778362e-03, 5.56034954e-03, 5.67155835e-03, 5.78141671e-03,\n",
       "        5.89001513e-03, 5.99728714e-03, 6.10327816e-03, 6.20782696e-03,\n",
       "        6.31097520e-03, 6.41244550e-03],\n",
       "       [0.00000000e+00, 1.98992301e-04, 3.61332132e-04, 5.16698356e-04,\n",
       "        6.68777004e-04, 8.16731668e-04, 9.57184293e-04, 1.09328488e-03,\n",
       "        1.22746648e-03, 1.36121980e-03, 1.49516497e-03, 1.62712948e-03,\n",
       "        1.75684471e-03, 1.88147064e-03, 2.00175774e-03, 2.11956463e-03,\n",
       "        2.23323613e-03, 2.34482578e-03, 2.45367720e-03, 2.56172410e-03,\n",
       "        2.66992668e-03, 2.77741969e-03, 2.88367508e-03, 2.98798277e-03,\n",
       "        3.09058970e-03, 3.19181539e-03, 3.29244476e-03, 3.39179989e-03,\n",
       "        3.49007998e-03, 3.58872258e-03, 3.68724291e-03, 3.78575821e-03,\n",
       "        3.88295870e-03, 3.97982405e-03, 4.07764140e-03, 4.17552623e-03,\n",
       "        4.27427199e-03, 4.37383196e-03, 4.47329215e-03, 4.57230251e-03,\n",
       "        4.67105028e-03, 4.77097717e-03, 4.87144686e-03, 4.97241588e-03,\n",
       "        5.07365459e-03, 5.17506117e-03, 5.27656395e-03, 5.37642969e-03,\n",
       "        5.47499946e-03, 5.57127144e-03],\n",
       "       [0.00000000e+00, 5.69942963e-05, 9.72328503e-05, 1.31490072e-04,\n",
       "        1.61017362e-04, 1.85687200e-04, 2.06201172e-04, 2.22658934e-04,\n",
       "        2.35233990e-04, 2.43327286e-04, 2.47345994e-04, 2.46966612e-04,\n",
       "        2.42995854e-04, 2.36529217e-04, 2.29483311e-04, 2.23761995e-04,\n",
       "        2.21370819e-04, 2.24117771e-04, 2.34374742e-04, 2.53171897e-04,\n",
       "        2.80968252e-04, 3.17977923e-04, 3.62300323e-04, 4.12294199e-04,\n",
       "        4.67391122e-04, 5.26645057e-04, 5.89727035e-04, 6.57286689e-04,\n",
       "        7.28417314e-04, 8.03152648e-04, 8.80678261e-04, 9.60304393e-04,\n",
       "        1.04137412e-03, 1.12458262e-03, 1.20992077e-03, 1.29688098e-03,\n",
       "        1.38445370e-03, 1.47236297e-03, 1.56019172e-03, 1.64774110e-03,\n",
       "        1.73472395e-03, 1.82112896e-03, 1.90686026e-03, 1.99186752e-03,\n",
       "        2.07552001e-03, 2.15720739e-03, 2.23659094e-03, 2.31436304e-03,\n",
       "        2.39070448e-03, 2.46543735e-03],\n",
       "       [0.00000000e+00, 1.58492002e-04, 2.87835499e-04, 4.17617867e-04,\n",
       "        5.46937385e-04, 6.74525802e-04, 8.00495217e-04, 9.24851334e-04,\n",
       "        1.04801354e-03, 1.16983362e-03, 1.29008031e-03, 1.40876978e-03,\n",
       "        1.52542347e-03, 1.63993191e-03, 1.75175003e-03, 1.86078501e-03,\n",
       "        1.96670210e-03, 2.06915778e-03, 2.16772963e-03, 2.26247508e-03,\n",
       "        2.35287065e-03, 2.43875261e-03, 2.51994407e-03, 2.59683846e-03,\n",
       "        2.66907573e-03, 2.73745416e-03, 2.80218727e-03, 2.86321789e-03,\n",
       "        2.92056686e-03, 2.97416409e-03, 3.02403977e-03, 3.07037434e-03,\n",
       "        3.11218146e-03, 3.14940444e-03, 3.18281697e-03, 3.21227377e-03,\n",
       "        3.23838936e-03, 3.26101292e-03, 3.28060173e-03, 3.29668506e-03,\n",
       "        3.31055607e-03, 3.32232813e-03, 3.33151963e-03, 3.33904917e-03,\n",
       "        3.34454740e-03, 3.34923196e-03, 3.35298607e-03, 3.35619157e-03,\n",
       "        3.36016674e-03, 3.36461973e-03],\n",
       "       [0.00000000e+00, 6.68743313e-05, 1.28334643e-04, 1.91989100e-04,\n",
       "        2.48757318e-04, 3.04312532e-04, 3.65114228e-04, 4.25878181e-04,\n",
       "        4.83500095e-04, 5.45701414e-04, 6.05275861e-04, 6.66646044e-04,\n",
       "        7.30849755e-04, 7.95852997e-04, 8.62667715e-04, 9.31720245e-04,\n",
       "        9.99753921e-04, 1.06525728e-03, 1.13004267e-03, 1.19747835e-03,\n",
       "        1.26396470e-03, 1.33191718e-03, 1.40165037e-03, 1.47236132e-03,\n",
       "        1.54156467e-03, 1.61084063e-03, 1.68018923e-03, 1.75178964e-03,\n",
       "        1.82247768e-03, 1.89309794e-03, 1.96235321e-03, 2.03047296e-03,\n",
       "        2.10062165e-03, 2.17120323e-03, 2.24065828e-03, 2.31233331e-03,\n",
       "        2.38494334e-03, 2.45643773e-03, 2.52813525e-03, 2.59885734e-03,\n",
       "        2.66884363e-03, 2.73804221e-03, 2.80722727e-03, 2.87726985e-03,\n",
       "        2.94793359e-03, 3.01856700e-03, 3.09103484e-03, 3.16520260e-03,\n",
       "        3.23885865e-03, 3.31338726e-03]])"
      ]
     },
     "execution_count": 55,
     "metadata": {},
     "output_type": "execute_result"
    }
   ],
   "source": [
    "ratio_pk_list"
   ]
  },
  {
   "cell_type": "code",
   "execution_count": 56,
   "id": "a97a2f25",
   "metadata": {},
   "outputs": [],
   "source": [
    "ratio_pk_list_min = np.quantile(ratio_pk_list, q=q_min, axis=0)\n",
    "ratio_linear_list_min = np.quantile(ratio_linear_list, q=q_min, axis=0)\n",
    "ratio_bilinear_list_min = np.quantile(ratio_bilinear_list, q=q_min, axis=0)\n",
    "# ratio_dmdc_list_min = np.quantile(ratio_dmdc_list, q=q_min, axis=0)\n",
    "ratio_pk_faker_list_min = np.quantile(ratio_pk_faker_list, q=q_min, axis=0)"
   ]
  },
  {
   "cell_type": "code",
   "execution_count": 57,
   "id": "d34f9a5c",
   "metadata": {},
   "outputs": [],
   "source": [
    "ratio_pk_list_max = np.quantile(ratio_pk_list, q=q_max, axis=0)\n",
    "ratio_linear_list_max = np.quantile(ratio_linear_list, q=q_max, axis=0)\n",
    "ratio_bilinear_list_max = np.quantile(ratio_bilinear_list, q=q_max, axis=0)\n",
    "# ratio_dmdc_list_max = np.quantile(ratio_dmdc_list, q=q_max, axis=0)\n",
    "ratio_pk_faker_list_max = np.quantile(ratio_pk_faker_list, q=q_max, axis=0)"
   ]
  },
  {
   "cell_type": "code",
   "execution_count": 58,
   "id": "b05843d9",
   "metadata": {},
   "outputs": [],
   "source": [
    "x_axis = np.arange(0, traj_len_test, 1)"
   ]
  },
  {
   "cell_type": "code",
   "execution_count": 59,
   "id": "cb16eaf8",
   "metadata": {},
   "outputs": [
    {
     "data": {
      "text/plain": [
       "<matplotlib.legend.Legend at 0x7fcc6c242ac0>"
      ]
     },
     "execution_count": 59,
     "metadata": {},
     "output_type": "execute_result"
    },
    {
     "data": {
      "image/png": "[encoded data removed]",
      "text/plain": [
       "<Figure size 432x288 with 1 Axes>"
      ]
     },
     "metadata": {
      "needs_background": "light"
     },
     "output_type": "display_data"
    }
   ],
   "source": [
    "plt.figure(figsize=(6, 4))\n",
    "\n",
    "plt.plot(ratio_pk_list_median, label=\"Ours\", color=\"steelblue\", linewidth=3)\n",
    "plt.fill_between(x_axis, ratio_pk_list_min, ratio_pk_list_max, color=\"lightsteelblue\", alpha=0.5)\n",
    "plt.plot(ratio_linear_list_median, label=\"M2\", color=\"darkorange\", linewidth=3)\n",
    "plt.fill_between(\n",
    "    x_axis, ratio_linear_list_min, ratio_linear_list_max, color=\"navajowhite\", alpha=0.5\n",
    ")\n",
    "plt.plot(ratio_bilinear_list_median, label=\"M3\", color=\"forestgreen\", linewidth=3)\n",
    "plt.fill_between(\n",
    "    x_axis, ratio_bilinear_list_min, ratio_bilinear_list_max, color=\"darkseagreen\", alpha=0.5\n",
    ")\n",
    "\n",
    "plt.plot(ratio_pk_faker_list_median, label=\"PKNN-Faker\", color=\"red\", linewidth=3)\n",
    "plt.fill_between(x_axis, ratio_pk_faker_list_min, ratio_pk_faker_list_max, color=\"pink\", alpha=0.5)\n",
    "\n",
    "\n",
    "plt.ticklabel_format(axis=\"y\", style=\"sci\", scilimits=(0, 0))\n",
    "plt.gca().yaxis.get_offset_text().set_fontsize(18)\n",
    "\n",
    "plt.xlabel(r\"$n$\", fontsize=28)\n",
    "plt.ylabel(\"Error\", fontsize=28)\n",
    "plt.xticks(fontsize=18)\n",
    "plt.yticks(fontsize=18)\n",
    "plt.legend(fontsize=18)"
   ]
  },
  {
   "cell_type": "code",
   "execution_count": 177,
   "id": "d791af51",
   "metadata": {},
   "outputs": [],
   "source": [
    "dict_mean = {\n",
    "    \"pk\": ratio_pk_list_mean,\n",
    "    \"linear\": ratio_linear_list_mean,\n",
    "    \"bilinear\": ratio_bilinear_list_mean,\n",
    "}"
   ]
  },
  {
   "cell_type": "code",
   "execution_count": null,
   "id": "451aa001",
   "metadata": {},
   "outputs": [],
   "source": []
  },
  {
   "cell_type": "code",
   "execution_count": null,
   "id": "9b2b97bf",
   "metadata": {},
   "outputs": [],
   "source": []
  },
  {
   "cell_type": "code",
   "execution_count": null,
   "id": "46a386ad",
   "metadata": {},
   "outputs": [],
   "source": []
  },
  {
   "cell_type": "code",
   "execution_count": null,
   "id": "7302b6f2",
   "metadata": {},
   "outputs": [],
   "source": [
    "# np.save(os.path.join(data_path, \"ratio_list_dict_mu_\" + str(mu) + \"_mean.npy\"), dict_mean)"
   ]
  },
  {
   "cell_type": "markdown",
   "id": "7153fe7f",
   "metadata": {},
   "source": [
    "# See the comparison\n",
    "If you have tested on all $\\mu: 0,1,2,3,4$, then you can run the following codes to see the comparison."
   ]
  },
  {
   "cell_type": "code",
   "execution_count": null,
   "id": "aa38bf34",
   "metadata": {},
   "outputs": [],
   "source": [
    "import matplotlib.pyplot as plt\n",
    "import numpy as np\n",
    "\n",
    "mean_dict_mu_0 = np.load(\n",
    "    os.path.join(data_path, \"ratio_list_dict_mu_0_mean.npy\"), allow_pickle=True\n",
    ")\n",
    "mean_dict_mu_1 = np.load(\n",
    "    os.path.join(data_path, \"ratio_list_dict_mu_1_mean.npy\"), allow_pickle=True\n",
    ")\n",
    "mean_dict_mu_2 = np.load(\n",
    "    os.path.join(data_path, \"ratio_list_dict_mu_2_mean.npy\"), allow_pickle=True\n",
    ")\n",
    "mean_dict_mu_3 = np.load(\n",
    "    os.path.join(data_path, \"ratio_list_dict_mu_3_mean.npy\"), allow_pickle=True\n",
    ")\n",
    "mean_dict_mu_4 = np.load(\n",
    "    os.path.join(data_path, \"ratio_list_dict_mu_4_mean.npy\"), allow_pickle=True\n",
    ")\n",
    "\n",
    "\n",
    "def extact_data(ratio_dict, ratio_name):\n",
    "    ratio_pk = ratio_dict[()][ratio_name[0]].reshape((1, -1))\n",
    "    ratio_linear = ratio_dict[()][ratio_name[1]].reshape((1, -1))\n",
    "    ratio_bilinear = ratio_dict[()][ratio_name[2]].reshape((1, -1))\n",
    "    return ratio_pk, ratio_linear, ratio_bilinear\n",
    "\n",
    "\n",
    "mean_dict_list = [mean_dict_mu_0, mean_dict_mu_1, mean_dict_mu_2, mean_dict_mu_3, mean_dict_mu_4]\n",
    "\n",
    "ratio_pk_list = []\n",
    "ratio_linear_list = []\n",
    "ratio_bilinear_list = []\n",
    "\n",
    "ratio_name_list = [\"pk\", \"linear\", \"bilinear\"]\n",
    "\n",
    "\n",
    "def concat_ratio_list(ratio_list):\n",
    "    ratio_concat = np.concatenate(ratio_list, axis=0)\n",
    "    ratio_concat = ratio_concat.T\n",
    "    return ratio_concat\n",
    "\n",
    "\n",
    "def concat_data(dict_list):\n",
    "    pk_list = []\n",
    "    linear_list = []\n",
    "    bilinear_list = []\n",
    "\n",
    "    for i in range(5):\n",
    "        pk, linear, bilinear = extact_data(dict_list[i], ratio_name=ratio_name_list)\n",
    "        pk_list.append(pk)\n",
    "        linear_list.append(linear)\n",
    "        bilinear_list.append(bilinear)\n",
    "\n",
    "    pk_concat = concat_ratio_list(pk_list)\n",
    "    linear_concat = concat_ratio_list(linear_list)\n",
    "    bilinear_concat = concat_ratio_list(bilinear_list)\n",
    "\n",
    "    return pk_concat, linear_concat, bilinear_concat\n",
    "\n",
    "\n",
    "mean_pk, mean_linear, mean_bilinear = concat_data(mean_dict_list)\n",
    "\n",
    "mean_linear_mean = np.mean(mean_linear, axis=0)\n",
    "mean_bilinear_mean = np.mean(mean_bilinear, axis=0)\n",
    "mean_pk_mean = np.mean(mean_pk, axis=0)\n",
    "\n",
    "mu = [0, 1, 2, 3, 4]\n",
    "mu_axis = list(range(len(mu)))\n",
    "\n",
    "\n",
    "def plot_evaluate_vdpm(mu, mean, dict_plot):\n",
    "    plt.plot(\n",
    "        mu,\n",
    "        mean,\n",
    "        label=dict_plot[\"label\"],\n",
    "        marker=dict_plot[\"marker\"],\n",
    "        markersize=dict_plot[\"markersize\"],\n",
    "        color=dict_plot[\"color\"],\n",
    "        linestyle=dict_plot[\"linestyle\"],\n",
    "        linewidth=dict_plot[\"linewidth\"],\n",
    "    )\n",
    "\n",
    "\n",
    "label_font = 24\n",
    "ticks_font = 18\n",
    "legend_font = 22\n",
    "\n",
    "\n",
    "dict_plot_pk = {\n",
    "    \"label\": \"Ours\",\n",
    "    \"marker\": \"*\",\n",
    "    \"markersize\": 10,\n",
    "    \"color\": \"steelblue\",\n",
    "    \"linestyle\": \"-\",\n",
    "    \"linewidth\": 3,\n",
    "}\n",
    "\n",
    "dict_plot_linear = {\n",
    "    \"label\": \"M2\",\n",
    "    \"marker\": \"s\",\n",
    "    \"markersize\": 10,\n",
    "    \"color\": \"darkorange\",\n",
    "    \"linestyle\": \"-\",\n",
    "    \"linewidth\": 3,\n",
    "}\n",
    "\n",
    "dict_plot_bilinear = {\n",
    "    \"label\": \"M3\",\n",
    "    \"marker\": \"o\",\n",
    "    \"markersize\": 10,\n",
    "    \"color\": \"forestgreen\",\n",
    "    \"linestyle\": \"-\",\n",
    "    \"linewidth\": 3,\n",
    "}\n",
    "\n",
    "plt.figure(figsize=(15, 4))\n",
    "plot_evaluate_vdpm(mu, mean_pk_mean, dict_plot=dict_plot_pk)\n",
    "plot_evaluate_vdpm(mu, mean_linear_mean, dict_plot=dict_plot_linear)\n",
    "\n",
    "plot_evaluate_vdpm(mu, mean_bilinear_mean, dict_plot=dict_plot_bilinear)\n",
    "\n",
    "plt.xlabel(r\"$\\mu$\", loc=\"right\", fontsize=label_font)\n",
    "plt.ylabel(\"Error\", fontsize=label_font)\n",
    "plt.xticks(mu_axis, mu, fontsize=ticks_font)\n",
    "plt.yticks(fontsize=ticks_font)\n",
    "plt.legend(fontsize=legend_font)"
   ]
  },
  {
   "cell_type": "code",
   "execution_count": null,
   "id": "0d5d9a91",
   "metadata": {},
   "outputs": [],
   "source": []
  }
 ],
 "metadata": {
  "kernelspec": {
   "display_name": "koopman",
   "language": "python",
   "name": "python3"
  },
  "language_info": {
   "codemirror_mode": {
    "name": "ipython",
    "version": 3
   },
   "file_extension": ".py",
   "mimetype": "text/x-python",
   "name": "python",
   "nbconvert_exporter": "python",
   "pygments_lexer": "ipython3",
   "version": "3.8.8"
  }
 },
 "nbformat": 4,
 "nbformat_minor": 5
}
