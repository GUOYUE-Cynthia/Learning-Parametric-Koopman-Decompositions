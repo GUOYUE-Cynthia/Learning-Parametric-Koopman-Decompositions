{
 "cells": [
  {
   "cell_type": "code",
   "execution_count": 1,
   "id": "a3902974",
   "metadata": {},
   "outputs": [],
   "source": [
    "import os\n",
    "\n",
    "os.environ[\"CUDA_VISIBLE_DEVICES\"] = \"-1\""
   ]
  },
  {
   "cell_type": "code",
   "execution_count": 2,
   "id": "de85dd8b",
   "metadata": {},
   "outputs": [],
   "source": [
    "%load_ext autoreload\n",
    "%autoreload 2"
   ]
  },
  {
   "cell_type": "code",
   "execution_count": 3,
   "id": "20eb0b2f",
   "metadata": {},
   "outputs": [
    {
     "name": "stderr",
     "output_type": "stream",
     "text": [
      "2024-03-18 14:29:04.349915: I tensorflow/core/platform/cpu_feature_guard.cc:193] This TensorFlow binary is optimized with oneAPI Deep Neural Network Library (oneDNN) to use the following CPU instructions in performance-critical operations:  AVX2 AVX512F AVX512_VNNI FMA\n",
      "To enable them in other operations, rebuild TensorFlow with the appropriate compiler flags.\n",
      "2024-03-18 14:29:04.673574: I tensorflow/core/util/port.cc:104] oneDNN custom operations are on. You may see slightly different numerical results due to floating-point round-off errors from different computation orders. To turn them off, set the environment variable `TF_ENABLE_ONEDNN_OPTS=0`.\n",
      "2024-03-18 14:29:09.722701: W tensorflow/compiler/xla/stream_executor/platform/default/dso_loader.cc:64] Could not load dynamic library 'libnvinfer.so.7'; dlerror: libnvrtc.so.10.2: cannot open shared object file: No such file or directory; LD_LIBRARY_PATH: /usr/local/cuda-11.1/lib64:\n",
      "2024-03-18 14:29:09.724553: W tensorflow/compiler/xla/stream_executor/platform/default/dso_loader.cc:64] Could not load dynamic library 'libnvinfer_plugin.so.7'; dlerror: libnvrtc.so.10.2: cannot open shared object file: No such file or directory; LD_LIBRARY_PATH: /usr/local/cuda-11.1/lib64:\n",
      "2024-03-18 14:29:09.724574: W tensorflow/compiler/tf2tensorrt/utils/py_utils.cc:38] TF-TRT Warning: Cannot dlopen some TensorRT libraries. If you would like to use Nvidia GPU with TensorRT, please make sure the missing libraries mentioned above are installed properly.\n"
     ]
    }
   ],
   "source": [
    "import numpy as np\n",
    "import tensorflow as tf"
   ]
  },
  {
   "cell_type": "code",
   "execution_count": 4,
   "id": "20434742",
   "metadata": {},
   "outputs": [],
   "source": [
    "import json\n",
    "import sys"
   ]
  },
  {
   "cell_type": "code",
   "execution_count": 5,
   "id": "b57cf3bc",
   "metadata": {},
   "outputs": [],
   "source": [
    "from tensorflow.keras.layers import Dense, Input, Layer\n",
    "from tensorflow.keras.models import Model\n",
    "from tensorflow.keras.optimizers import Adam"
   ]
  },
  {
   "cell_type": "code",
   "execution_count": 6,
   "id": "a68ff93e",
   "metadata": {},
   "outputs": [],
   "source": [
    "import matplotlib.pyplot as plt"
   ]
  },
  {
   "cell_type": "code",
   "execution_count": 7,
   "id": "46c614f7",
   "metadata": {},
   "outputs": [],
   "source": [
    "from koopmanlib.dictionary import PsiNN\n",
    "from koopmanlib.param_solver import (\n",
    "    KoopmanBilinearDLSolver,\n",
    "    KoopmanLinearDLSolver,\n",
    "    KoopmanParametricDLSolver,\n",
    ")\n",
    "from koopmanlib.target import VanderPolMathieuTarget"
   ]
  },
  {
   "cell_type": "code",
   "execution_count": 8,
   "id": "e707adcb",
   "metadata": {},
   "outputs": [],
   "source": [
    "config_file = \"config_vdpm.json\"\n",
    "\n",
    "index = 0\n",
    "with open(config_file, \"r\") as f:\n",
    "    config = json.load(f)\n",
    "\n",
    "data_path = config[\"data_settings\"][\"data_path\"]\n",
    "weights_path = config[\"nn_settings\"][\"weights_path\"]\n",
    "\n",
    "n_traj = config[\"data_settings\"][\"n_traj\"]\n",
    "traj_len = config[\"data_settings\"][\"traj_len\"]\n",
    "mu = config[\"data_settings\"][\"mu\"][index]\n",
    "\n",
    "n_psi_train = config[\"nn_settings\"][\"n_psi_train\"]\n",
    "dict_layer_size = config[\"nn_settings\"][\"dict_layer_size\"]\n",
    "K_layer_size = config[\"nn_settings\"][\"K_layer_size\"][index]"
   ]
  },
  {
   "cell_type": "code",
   "execution_count": 9,
   "id": "d2d87a06",
   "metadata": {},
   "outputs": [
    {
     "data": {
      "text/plain": [
       "[64, 64]"
      ]
     },
     "execution_count": 9,
     "metadata": {},
     "output_type": "execute_result"
    }
   ],
   "source": [
    "dict_layer_size"
   ]
  },
  {
   "cell_type": "code",
   "execution_count": 10,
   "id": "cd69951e",
   "metadata": {},
   "outputs": [
    {
     "name": "stdout",
     "output_type": "stream",
     "text": [
      "mu 0\n",
      "K_layer_size [128]\n"
     ]
    }
   ],
   "source": [
    "print(\"mu\", mu)\n",
    "print(\"K_layer_size\", K_layer_size)"
   ]
  },
  {
   "cell_type": "code",
   "execution_count": 11,
   "id": "3719b75b",
   "metadata": {},
   "outputs": [],
   "source": [
    "target_dim = 2\n",
    "param_dim = 1\n",
    "\n",
    "n_psi = 1 + target_dim + n_psi_train"
   ]
  },
  {
   "cell_type": "code",
   "execution_count": 12,
   "id": "fc8d2ef1",
   "metadata": {},
   "outputs": [
    {
     "data": {
      "text/plain": [
       "13"
      ]
     },
     "execution_count": 12,
     "metadata": {},
     "output_type": "execute_result"
    }
   ],
   "source": [
    "n_psi"
   ]
  },
  {
   "cell_type": "code",
   "execution_count": 13,
   "id": "6db408fa",
   "metadata": {},
   "outputs": [],
   "source": [
    "# Set parameters in the vdpm equation.\n",
    "k1, k2, k4, w0 = 2, 2, 1, 1"
   ]
  },
  {
   "cell_type": "code",
   "execution_count": 14,
   "id": "348b3466",
   "metadata": {},
   "outputs": [],
   "source": [
    "# Load data\n",
    "dict_data = np.load(\n",
    "    os.path.join(data_path, \"vdpm_data_mu_\" + str(mu) + \".npy\"), allow_pickle=True\n",
    ")\n",
    "\n",
    "data_x = dict_data[()][\"data_x\"]\n",
    "data_y = dict_data[()][\"data_y\"]\n",
    "data_u = dict_data[()][\"data_u\"]"
   ]
  },
  {
   "cell_type": "code",
   "execution_count": 15,
   "id": "7ba3c3ca",
   "metadata": {},
   "outputs": [],
   "source": [
    "vdp_mathieu = VanderPolMathieuTarget(\n",
    "    mu=mu, dim=target_dim, param_dim=param_dim, k1=k1, k2=k2, k4=k4, w0=w0\n",
    ")"
   ]
  },
  {
   "cell_type": "code",
   "execution_count": 16,
   "id": "a74259c0",
   "metadata": {},
   "outputs": [],
   "source": [
    "dic_pk = PsiNN(layer_sizes=dict_layer_size, n_psi_train=n_psi_train)"
   ]
  },
  {
   "cell_type": "markdown",
   "id": "8733042d",
   "metadata": {},
   "source": [
    "# Set Linear weights into PKNN\n",
    "## Design the activation function\n"
   ]
  },
  {
   "cell_type": "code",
   "execution_count": 22,
   "id": "88255302",
   "metadata": {},
   "outputs": [],
   "source": [
    "\n",
    "@tf.function\n",
    "def hard_tanh(x):\n",
    "    return tf.clip_by_value(x, clip_value_min=-1., clip_value_max=1.)"
   ]
  },
  {
   "cell_type": "code",
   "execution_count": 23,
   "id": "fb6462d6",
   "metadata": {},
   "outputs": [
    {
     "data": {
      "text/plain": [
       "<tf.Tensor: shape=(50000, 1), dtype=float64, numpy=\n",
       "array([[-0.16595599],\n",
       "       [ 0.44064899],\n",
       "       [-0.99977125],\n",
       "       ...,\n",
       "       [ 0.52979385],\n",
       "       [-0.92560571],\n",
       "       [ 0.7583709 ]])>"
      ]
     },
     "execution_count": 23,
     "metadata": {},
     "output_type": "execute_result"
    }
   ],
   "source": [
    "hard_tanh(data_u)"
   ]
  },
  {
   "cell_type": "code",
   "execution_count": 24,
   "id": "40e8c875",
   "metadata": {},
   "outputs": [
    {
     "data": {
      "text/plain": [
       "array([[-0.16595599],\n",
       "       [ 0.44064899],\n",
       "       [-0.99977125],\n",
       "       ...,\n",
       "       [ 0.52979385],\n",
       "       [-0.92560571],\n",
       "       [ 0.7583709 ]])"
      ]
     },
     "execution_count": 24,
     "metadata": {},
     "output_type": "execute_result"
    }
   ],
   "source": [
    "data_u"
   ]
  },
  {
   "cell_type": "code",
   "execution_count": 25,
   "id": "2a59f6d0",
   "metadata": {},
   "outputs": [],
   "source": [
    "from koopmanlib.K_structure import Model_K_u_Layer_One\n",
    "\n",
    "model_K_u = Model_K_u_Layer_One(layer_sizes=K_layer_size, n_psi=n_psi, activation=hard_tanh)\n",
    "\n",
    "solver_pk = KoopmanParametricDLSolver(\n",
    "    target_dim=target_dim, param_dim=param_dim, n_psi=n_psi, dic=dic_pk, model_K_u=model_K_u\n",
    ")\n",
    "\n",
    "model_pk, model_K_u_pred_pk = solver_pk.generate_model()"
   ]
  },
  {
   "cell_type": "code",
   "execution_count": 189,
   "id": "c23951cb",
   "metadata": {},
   "outputs": [
    {
     "name": "stderr",
     "output_type": "stream",
     "text": [
      "\n",
      "\u001b[A\n",
      "\n",
      "0epoch [00:24, ?epoch/s]\n"
     ]
    }
   ],
   "source": [
    "zeros_data_y_train = tf.zeros_like(dic_pk(data_y))\n",
    "\n",
    "model_pk.compile(optimizer=Adam(0.001), loss=\"mse\")\n",
    "\n",
    "\n",
    "lr_callback = tf.keras.callbacks.ReduceLROnPlateau(\n",
    "    monitor=\"loss\",\n",
    "    factor=0.1,\n",
    "    patience=100,\n",
    "    verbose=0,\n",
    "    mode=\"auto\",\n",
    "    min_delta=1e-4,\n",
    "    cooldown=0,\n",
    "    min_lr=1e-10,\n",
    ")\n",
    "\n",
    "# Define the early stopping criteria\n",
    "es_callback = tf.keras.callbacks.EarlyStopping(\n",
    "    monitor=\"val_loss\", min_delta=1e-12, patience=50, verbose=1, mode=\"auto\"\n",
    ")\n",
    "\n",
    "checkpoint_path = os.path.join(weights_path, \"hardtanh_model_pk_vdpm_mu_\" + str(mu) + \".h5\")\n",
    "checkpoint_callback = tf.keras.callbacks.ModelCheckpoint(\n",
    "    filepath=checkpoint_path,\n",
    "    monitor=\"val_loss\",\n",
    "    save_best_only=True,\n",
    "    save_weights_only=True,\n",
    "    mode=\"min\",\n",
    "    save_freq=\"epoch\",\n",
    ")\n",
    "\n",
    "from tqdm.keras import TqdmCallback\n",
    "# Define the TqdmCallback for progress bar\n",
    "tqdm_callback = TqdmCallback(verbose=1)\n",
    "\n",
    "# Add early_stopping to the list of callbacks\n",
    "callbacks = [lr_callback, checkpoint_callback, tqdm_callback]\n"
   ]
  },
  {
   "cell_type": "code",
   "execution_count": 28,
   "id": "2b40143c",
   "metadata": {},
   "outputs": [
    {
     "name": "stderr",
     "output_type": "stream",
     "text": [
      "100%|██████████| 500/500 [06:37<00:00,  1.26epoch/s, loss=1.47e-9, val_loss=5.91e-9, lr=1e-7]  \n"
     ]
    }
   ],
   "source": [
    "\n",
    "pknn_epochs = config[\"nn_settings\"][\"pknn_epochs\"]\n",
    "\n",
    "history_pk = model_pk.fit(\n",
    "x=[data_x, data_y, data_u],\n",
    "y=zeros_data_y_train,\n",
    "validation_split=0.2,\n",
    "epochs=pknn_epochs,\n",
    "batch_size=200,\n",
    "callbacks=callbacks,\n",
    "verbose=0,\n",
    ")\n"
   ]
  },
  {
   "cell_type": "code",
   "execution_count": 26,
   "id": "0fa0c7db",
   "metadata": {},
   "outputs": [],
   "source": [
    "model_pk.load_weights(os.path.join(weights_path, \"hardtanh_model_pk_vdpm_mu_\" + str(mu) + \".h5\"))"
   ]
  },
  {
   "cell_type": "code",
   "execution_count": null,
   "id": "cf3b840b",
   "metadata": {},
   "outputs": [],
   "source": []
  },
  {
   "cell_type": "markdown",
   "id": "c54d508e",
   "metadata": {},
   "source": [
    "# DMDc"
   ]
  },
  {
   "cell_type": "code",
   "execution_count": 55,
   "id": "30684fb8",
   "metadata": {},
   "outputs": [],
   "source": [
    "dic_dmdc = PsiNN(n_psi_train=0, add_constant=False)"
   ]
  },
  {
   "cell_type": "code",
   "execution_count": 56,
   "id": "668803b1",
   "metadata": {},
   "outputs": [],
   "source": [
    "solver_dmdc = KoopmanLinearDLSolver(\n",
    "    dic=dic_dmdc, target_dim=target_dim, param_dim=param_dim, n_psi=target_dim\n",
    ")\n",
    "model_dmdc, model_K_u_pred_dmdc = solver_dmdc.build_model()"
   ]
  },
  {
   "cell_type": "code",
   "execution_count": 57,
   "id": "7dbcc0b3",
   "metadata": {},
   "outputs": [
    {
     "name": "stdout",
     "output_type": "stream",
     "text": [
      "2\n"
     ]
    },
    {
     "data": {
      "text/plain": [
       "array([[1., 0.],\n",
       "       [0., 1.]])"
      ]
     },
     "execution_count": 57,
     "metadata": {},
     "output_type": "execute_result"
    }
   ],
   "source": [
    "dic_dmdc.generate_B(data_x)"
   ]
  },
  {
   "cell_type": "markdown",
   "id": "81f0de77",
   "metadata": {},
   "source": [
    "# Linear Model: Dynamics is $Az +Bu$"
   ]
  },
  {
   "cell_type": "code",
   "execution_count": 27,
   "id": "9ed53098",
   "metadata": {},
   "outputs": [],
   "source": [
    "dic_linear = PsiNN(layer_sizes=dict_layer_size, n_psi_train=n_psi_train)"
   ]
  },
  {
   "cell_type": "code",
   "execution_count": 28,
   "id": "40ffb512",
   "metadata": {},
   "outputs": [],
   "source": [
    "solver_linear = KoopmanLinearDLSolver(\n",
    "    dic=dic_linear, target_dim=target_dim, param_dim=param_dim, n_psi=n_psi\n",
    ")\n",
    "model_linear, model_K_u_pred_linear = solver_linear.build_model()"
   ]
  },
  {
   "cell_type": "code",
   "execution_count": 29,
   "id": "0f70e996",
   "metadata": {},
   "outputs": [],
   "source": [
    "model_linear.load_weights(os.path.join(weights_path, \"model_linear_vdpm_mu_\" + str(mu) + \".h5\"))"
   ]
  },
  {
   "cell_type": "markdown",
   "id": "c71e618a",
   "metadata": {},
   "source": [
    "## Try to set Linear weights"
   ]
  },
  {
   "cell_type": "code",
   "execution_count": 30,
   "id": "0152ca8b",
   "metadata": {},
   "outputs": [
    {
     "name": "stdout",
     "output_type": "stream",
     "text": [
      "layer size:  (2, 64)\n",
      "layer size:  (64, 64)\n",
      "layer size:  (64,)\n",
      "layer size:  (64, 64)\n",
      "layer size:  (64,)\n",
      "layer size:  (64, 10)\n",
      "layer size:  (10,)\n",
      "layer size:  (13, 13)\n",
      "layer size:  (1, 13)\n"
     ]
    }
   ],
   "source": [
    "for i in range(len(model_linear.weights)):\n",
    "    print('layer size: ', model_linear.weights[i].shape)"
   ]
  },
  {
   "cell_type": "code",
   "execution_count": 31,
   "id": "e86fb53b",
   "metadata": {},
   "outputs": [],
   "source": [
    "K_linear_weights = model_linear.get_layer('K_u_linear_pred').weights"
   ]
  },
  {
   "cell_type": "code",
   "execution_count": 32,
   "id": "e20167ec",
   "metadata": {},
   "outputs": [
    {
     "data": {
      "text/plain": [
       "<tf.Variable 'Layer_B/kernel:0' shape=(1, 13) dtype=float64, numpy=\n",
       "array([[-2.56175289e-15,  4.51574192e-05,  1.00591366e-02,\n",
       "         1.05114961e-03,  4.14935594e-03,  1.53033495e-03,\n",
       "        -1.06570852e-03,  1.64613125e-03, -1.79409055e-03,\n",
       "        -1.45446904e-04, -2.10318070e-03,  4.87134872e-04,\n",
       "         2.11681962e-03]])>"
      ]
     },
     "execution_count": 32,
     "metadata": {},
     "output_type": "execute_result"
    }
   ],
   "source": [
    "K_linear_weights[1]"
   ]
  },
  {
   "cell_type": "code",
   "execution_count": null,
   "id": "fe834cb1",
   "metadata": {},
   "outputs": [],
   "source": []
  },
  {
   "cell_type": "code",
   "execution_count": 42,
   "id": "61670951",
   "metadata": {},
   "outputs": [],
   "source": [
    "dic_pk_faker = PsiNN(layer_sizes=dict_layer_size, n_psi_train=n_psi_train)"
   ]
  },
  {
   "cell_type": "code",
   "execution_count": 43,
   "id": "58f21cee",
   "metadata": {},
   "outputs": [
    {
     "data": {
      "text/plain": [
       "<tf.Tensor: shape=(50000, 13), dtype=float64, numpy=\n",
       "array([[ 1.        ,  0.39293837, -0.42772133, ..., -0.39803476,\n",
       "        -0.0634612 , -0.19607071],\n",
       "       [ 1.        , -0.54629709,  0.10262954, ...,  0.2613169 ,\n",
       "         0.13315093,  0.08076899],\n",
       "       [ 1.        ,  0.43893794, -0.15378708, ..., -0.25348963,\n",
       "        -0.10189078, -0.09394875],\n",
       "       ...,\n",
       "       [ 1.        , -0.16080765, -1.75050783, ..., -0.86216967,\n",
       "         0.24666764, -0.58340357],\n",
       "       [ 1.        ,  0.05699151, -1.33033763, ..., -0.76037075,\n",
       "         0.13795293, -0.46985893],\n",
       "       [ 1.        , -0.20198488, -2.0547168 , ..., -0.96177419,\n",
       "         0.30203558, -0.65153372]])>"
      ]
     },
     "execution_count": 43,
     "metadata": {},
     "output_type": "execute_result"
    }
   ],
   "source": [
    "dic_pk_faker(data_x)"
   ]
  },
  {
   "cell_type": "code",
   "execution_count": 44,
   "id": "375dbbe0",
   "metadata": {},
   "outputs": [],
   "source": [
    "dic_pk_faker.set_weights(dic_linear.get_weights())"
   ]
  },
  {
   "cell_type": "code",
   "execution_count": 49,
   "id": "dd69633d",
   "metadata": {},
   "outputs": [],
   "source": [
    "model_K_u_faker = Model_K_u_Layer_One(layer_sizes=K_layer_size, n_psi=n_psi, activation=hard_tanh)\n",
    "\n",
    "solver_pk_faker = KoopmanParametricDLSolver(\n",
    "    target_dim=target_dim, param_dim=param_dim, n_psi=n_psi, dic=dic_pk_faker, model_K_u=model_K_u_faker\n",
    ")\n",
    "\n",
    "model_pk_faker, model_K_u_pred_pk_faker = solver_pk_faker.generate_model()"
   ]
  },
  {
   "cell_type": "code",
   "execution_count": 51,
   "id": "4d7fe983",
   "metadata": {},
   "outputs": [
    {
     "data": {
      "text/plain": [
       "4"
      ]
     },
     "execution_count": 51,
     "metadata": {},
     "output_type": "execute_result"
    }
   ],
   "source": [
    "len(model_pk_faker.get_layer('K_u_pred').weights)"
   ]
  },
  {
   "cell_type": "code",
   "execution_count": 71,
   "id": "160a5f4c",
   "metadata": {},
   "outputs": [],
   "source": [
    "hidden_dense_kernel = model_pk_faker.get_layer('K_u_pred').weights[0]"
   ]
  },
  {
   "cell_type": "code",
   "execution_count": 72,
   "id": "5b6deac9",
   "metadata": {},
   "outputs": [
    {
     "data": {
      "text/plain": [
       "<tf.Variable 'UnreadVariable' shape=(1, 128) dtype=float64, numpy=\n",
       "array([[1., 1., 1., 1., 1., 1., 1., 1., 1., 1., 1., 1., 1., 1., 1., 1.,\n",
       "        1., 1., 1., 1., 1., 1., 1., 1., 1., 1., 1., 1., 1., 1., 1., 1.,\n",
       "        1., 1., 1., 1., 1., 1., 1., 1., 1., 1., 1., 1., 1., 1., 1., 1.,\n",
       "        1., 1., 1., 1., 1., 1., 1., 1., 1., 1., 1., 1., 1., 1., 1., 1.,\n",
       "        1., 1., 1., 1., 1., 1., 1., 1., 1., 1., 1., 1., 1., 1., 1., 1.,\n",
       "        1., 1., 1., 1., 1., 1., 1., 1., 1., 1., 1., 1., 1., 1., 1., 1.,\n",
       "        1., 1., 1., 1., 1., 1., 1., 1., 1., 1., 1., 1., 1., 1., 1., 1.,\n",
       "        1., 1., 1., 1., 1., 1., 1., 1., 1., 1., 1., 1., 1., 1., 1., 1.]])>"
      ]
     },
     "execution_count": 72,
     "metadata": {},
     "output_type": "execute_result"
    }
   ],
   "source": [
    "model_pk_faker.get_layer('K_u_pred').weights[0].assign(\n",
    "    tf.Variable(tf.constant([([1.0] * hidden_dense_kernel.shape[1] if i == 0 else [0.0] * hidden_dense_kernel.shape[1]) for i in range(hidden_dense_kernel.shape[0])], dtype='float64'))\n",
    "    )"
   ]
  },
  {
   "cell_type": "code",
   "execution_count": 75,
   "id": "26790585",
   "metadata": {},
   "outputs": [
    {
     "data": {
      "text/plain": [
       "<tf.Variable 'UnreadVariable' shape=(128,) dtype=float64, numpy=\n",
       "array([0., 0., 0., 0., 0., 0., 0., 0., 0., 0., 0., 0., 0., 0., 0., 0., 0.,\n",
       "       0., 0., 0., 0., 0., 0., 0., 0., 0., 0., 0., 0., 0., 0., 0., 0., 0.,\n",
       "       0., 0., 0., 0., 0., 0., 0., 0., 0., 0., 0., 0., 0., 0., 0., 0., 0.,\n",
       "       0., 0., 0., 0., 0., 0., 0., 0., 0., 0., 0., 0., 0., 0., 0., 0., 0.,\n",
       "       0., 0., 0., 0., 0., 0., 0., 0., 0., 0., 0., 0., 0., 0., 0., 0., 0.,\n",
       "       0., 0., 0., 0., 0., 0., 0., 0., 0., 0., 0., 0., 0., 0., 0., 0., 0.,\n",
       "       0., 0., 0., 0., 0., 0., 0., 0., 0., 0., 0., 0., 0., 0., 0., 0., 0.,\n",
       "       0., 0., 0., 0., 0., 0., 0., 0., 0.])>"
      ]
     },
     "execution_count": 75,
     "metadata": {},
     "output_type": "execute_result"
    }
   ],
   "source": [
    "model_pk_faker.get_layer('K_u_pred').weights[1].assign(\n",
    "    tf.zeros_like(model_pk_faker.get_layer('K_u_pred').weights[1])\n",
    "    )"
   ]
  },
  {
   "cell_type": "code",
   "execution_count": 126,
   "id": "7c617091",
   "metadata": {},
   "outputs": [],
   "source": [
    "trainable_B_from_linear = K_linear_weights[1][:,1:]"
   ]
  },
  {
   "cell_type": "code",
   "execution_count": 124,
   "id": "205d64cb",
   "metadata": {},
   "outputs": [],
   "source": [
    "zero_B_matrix = np.zeros(model_pk_faker.get_layer('K_u_pred').weights[2].shape, dtype='float64')"
   ]
  },
  {
   "cell_type": "code",
   "execution_count": 147,
   "id": "c9895f87",
   "metadata": {},
   "outputs": [],
   "source": [
    "for i in range(trainable_B_from_linear.shape[-1]):\n",
    "    zero_B_matrix[i,i] = trainable_B_from_linear[0,i]"
   ]
  },
  {
   "cell_type": "code",
   "execution_count": 148,
   "id": "c8cb0afc",
   "metadata": {},
   "outputs": [],
   "source": [
    "set_output_layer_kernel_weights = tf.Variable(zero_B_matrix)"
   ]
  },
  {
   "cell_type": "code",
   "execution_count": 149,
   "id": "38d33394",
   "metadata": {},
   "outputs": [],
   "source": [
    "set_output_layer_bias_weights = tf.reshape(K_linear_weights[0][:,1:], shape=model_pk_faker.get_layer('K_u_pred').weights[3].shape)"
   ]
  },
  {
   "cell_type": "code",
   "execution_count": 150,
   "id": "d47665b5",
   "metadata": {},
   "outputs": [
    {
     "data": {
      "text/plain": [
       "<tf.Variable 'UnreadVariable' shape=(128, 156) dtype=float64, numpy=\n",
       "array([[4.51574192e-05, 0.00000000e+00, 0.00000000e+00, ...,\n",
       "        0.00000000e+00, 0.00000000e+00, 0.00000000e+00],\n",
       "       [0.00000000e+00, 1.00591366e-02, 0.00000000e+00, ...,\n",
       "        0.00000000e+00, 0.00000000e+00, 0.00000000e+00],\n",
       "       [0.00000000e+00, 0.00000000e+00, 1.05114961e-03, ...,\n",
       "        0.00000000e+00, 0.00000000e+00, 0.00000000e+00],\n",
       "       ...,\n",
       "       [0.00000000e+00, 0.00000000e+00, 0.00000000e+00, ...,\n",
       "        0.00000000e+00, 0.00000000e+00, 0.00000000e+00],\n",
       "       [0.00000000e+00, 0.00000000e+00, 0.00000000e+00, ...,\n",
       "        0.00000000e+00, 0.00000000e+00, 0.00000000e+00],\n",
       "       [0.00000000e+00, 0.00000000e+00, 0.00000000e+00, ...,\n",
       "        0.00000000e+00, 0.00000000e+00, 0.00000000e+00]])>"
      ]
     },
     "execution_count": 150,
     "metadata": {},
     "output_type": "execute_result"
    }
   ],
   "source": [
    "model_pk_faker.get_layer('K_u_pred').weights[2].assign(\n",
    "    set_output_layer_kernel_weights\n",
    "    )"
   ]
  },
  {
   "cell_type": "code",
   "execution_count": 151,
   "id": "1154b684",
   "metadata": {},
   "outputs": [
    {
     "data": {
      "text/plain": [
       "<tf.Variable 'UnreadVariable' shape=(156,) dtype=float64, numpy=\n",
       "array([ 3.94845674e-05,  8.83166490e-03,  5.47554181e-03, -7.59532262e-03,\n",
       "        2.46115773e-03,  7.83433572e-03,  8.80262722e-03, -7.51704222e-03,\n",
       "       -5.67505755e-03, -1.74687247e-03,  1.56132159e-02, -6.59015747e-03,\n",
       "        1.00076182e+00,  1.64890787e-01, -1.70957936e-02,  9.95357065e-02,\n",
       "        6.67900079e-02, -1.16890575e-02,  3.26710991e-03, -3.45848265e-02,\n",
       "       -3.90870076e-02, -6.52488721e-03, -3.49217570e-02,  4.53576238e-02,\n",
       "        1.70822454e-02,  2.58764381e+00,  2.94701781e-01,  3.86317977e-01,\n",
       "        1.95449750e-01,  3.44148848e-02,  4.04374561e-01, -4.15705962e-01,\n",
       "       -6.15446124e-02, -3.83932386e-01,  4.28636474e-01,  1.45889252e-01,\n",
       "       -2.91381707e-03, -6.59368608e-01,  7.29042180e-01,  1.98208311e-01,\n",
       "       -8.48748538e-02, -2.42476507e-01, -4.18119602e-01,  3.60526782e-01,\n",
       "        1.62695891e-01,  1.62142466e-01, -6.66483237e-01,  1.29357348e-01,\n",
       "       -3.13395831e-03, -7.02352240e-01, -3.72025848e-02,  5.03133678e-01,\n",
       "       -3.22600733e-02,  2.21292253e-01,  6.04794179e-02,  2.69098021e-02,\n",
       "       -1.77838598e-01,  1.97142923e-01,  2.76166763e-01, -2.35697443e-01,\n",
       "       -8.66198197e-03, -1.93532209e+00, -4.42381420e-01, -1.79066092e-02,\n",
       "        6.41730681e-01, -3.67256058e-01, -8.21113098e-01,  7.40335213e-01,\n",
       "        4.20542604e-01,  3.89010224e-01, -1.11774436e+00,  9.55701672e-03,\n",
       "       -2.48912680e-03, -5.59107887e-01,  8.96083738e-03, -4.54855149e-01,\n",
       "       -3.10678700e-02,  1.21994595e+00,  7.06359874e-02, -2.70122584e-02,\n",
       "       -1.27868586e-01,  1.44012793e-01,  2.60979954e-01, -2.56457226e-01,\n",
       "       -6.83555608e-03, -1.52989225e+00, -8.96995864e-02, -1.07979344e+00,\n",
       "       -9.74130325e-02,  4.04749187e-01,  1.09940400e+00,  9.31426275e-02,\n",
       "       -3.16956929e-01,  4.21835903e-01,  4.34977063e-01, -4.96038338e-01,\n",
       "        1.24967914e-03,  2.83195888e-01,  4.00760866e-02,  1.66837881e-01,\n",
       "       -1.22006960e-02, -5.64379963e-02,  1.04338051e-02,  1.00076603e+00,\n",
       "        6.64340212e-02, -1.03590164e-01, -9.20954235e-03,  7.36877813e-02,\n",
       "        1.79643874e-03,  4.15612145e-01,  2.63011973e-01, -1.66682068e-01,\n",
       "       -1.48980929e-02,  1.62438703e-01,  2.76152065e-01, -2.44788437e-01,\n",
       "        9.88768187e-01, -1.51491886e-01,  4.67268537e-01, -1.59368824e-01,\n",
       "        1.27578177e-02,  2.86130423e+00,  6.63049506e-01,  3.03335018e-01,\n",
       "        4.28677839e-01,  3.44467841e-01,  1.01302664e+00, -9.57584973e-01,\n",
       "       -3.59861197e-01,  3.60389790e-01,  1.31175317e+00,  4.44626886e-02,\n",
       "        3.60909928e-03,  8.11253339e-01,  1.38509633e-01,  3.51763232e-01,\n",
       "        4.37593059e-02, -6.21755472e-02,  1.07773960e-01, -1.48696444e-01,\n",
       "        7.98679382e-02, -2.38923118e-01,  1.10409712e+00,  1.44939578e-01,\n",
       "       -2.44762709e-03, -5.49209790e-01, -1.29185511e-01,  3.62744734e-02,\n",
       "       -9.27208166e-02, -1.04039805e-01, -2.62533516e-01,  1.93998748e-01,\n",
       "        1.29778523e-01,  1.13954240e-01, -3.40036179e-01,  1.01117756e+00])>"
      ]
     },
     "execution_count": 151,
     "metadata": {},
     "output_type": "execute_result"
    }
   ],
   "source": [
    "model_pk_faker.get_layer('K_u_pred').weights[3].assign(\n",
    "    set_output_layer_bias_weights\n",
    "    )"
   ]
  },
  {
   "cell_type": "markdown",
   "id": "7513414b",
   "metadata": {},
   "source": [
    "## Continue to train from linear weights\n"
   ]
  },
  {
   "cell_type": "code",
   "execution_count": 190,
   "id": "a2d98946",
   "metadata": {},
   "outputs": [
    {
     "name": "stderr",
     "output_type": "stream",
     "text": [
      "0epoch [00:10, ?epoch/s]\n",
      "\n",
      "\n",
      "\u001b[A\u001b[A"
     ]
    }
   ],
   "source": [
    "model_pk_faker.compile(optimizer=Adam(1e-5), loss=\"mse\")\n",
    "    \n",
    "lr_callback = tf.keras.callbacks.ReduceLROnPlateau(\n",
    "    monitor=\"loss\",\n",
    "    factor=0.1,\n",
    "    patience=100,\n",
    "    verbose=0,\n",
    "    mode=\"auto\",\n",
    "    min_delta=1e-4,\n",
    "    cooldown=0,\n",
    "    min_lr=1e-10,\n",
    ")\n",
    "\n",
    "# Define the early stopping criteria\n",
    "es_callback = tf.keras.callbacks.EarlyStopping(\n",
    "    monitor=\"val_loss\", min_delta=1e-12, patience=50, verbose=1, mode=\"auto\"\n",
    ")\n",
    "\n",
    "checkpoint_path = os.path.join(weights_path, \"train_from_linear_hardtanh_model_pk_vdpm_mu_\" + str(mu) + \".h5\")\n",
    "checkpoint_callback = tf.keras.callbacks.ModelCheckpoint(\n",
    "    filepath=checkpoint_path,\n",
    "    monitor=\"val_loss\",\n",
    "    save_best_only=True,\n",
    "    save_weights_only=True,\n",
    "    mode=\"min\",\n",
    "    save_freq=\"epoch\",\n",
    ")\n",
    "\n",
    "from tqdm.keras import TqdmCallback\n",
    "\n",
    "# Define the TqdmCallback for progress bar\n",
    "tqdm_callback = TqdmCallback(verbose=1)\n",
    "\n",
    "# Add early_stopping to the list of callbacks\n",
    "callbacks = [lr_callback, checkpoint_callback, tqdm_callback]\n"
   ]
  },
  {
   "cell_type": "code",
   "execution_count": 191,
   "id": "ba3d0130",
   "metadata": {},
   "outputs": [
    {
     "name": "stderr",
     "output_type": "stream",
     "text": [
      "100%|██████████| 200/200 [03:01<00:00,  1.10epoch/s, loss=1.43e-9, val_loss=6.9e-9, lr=1e-6] \n"
     ]
    }
   ],
   "source": [
    "history_pk_faker = model_pk_faker.fit(\n",
    "x=[data_x, data_y, data_u],\n",
    "y=zeros_data_y_train,\n",
    "validation_split=0.2,\n",
    "epochs=200,\n",
    "batch_size=200,\n",
    "callbacks=callbacks,\n",
    "verbose=0,\n",
    ")"
   ]
  },
  {
   "cell_type": "code",
   "execution_count": 192,
   "id": "bdb446a8",
   "metadata": {},
   "outputs": [],
   "source": [
    "model_pk_faker.load_weights(os.path.join(weights_path, \"train_from_linear_hardtanh_model_pk_vdpm_mu_\" + str(mu) + \".h5\"))"
   ]
  },
  {
   "cell_type": "code",
   "execution_count": null,
   "id": "9fc20ccf",
   "metadata": {},
   "outputs": [],
   "source": []
  },
  {
   "cell_type": "code",
   "execution_count": null,
   "id": "b4500ab8",
   "metadata": {},
   "outputs": [],
   "source": []
  },
  {
   "cell_type": "code",
   "execution_count": null,
   "id": "cb853629",
   "metadata": {},
   "outputs": [],
   "source": []
  },
  {
   "cell_type": "markdown",
   "id": "782f7468",
   "metadata": {},
   "source": [
    "# Bilinear Model: Dynamics is $Az + \\sum_{i=1}^{N_{u}}B_{i}zu_{i}$"
   ]
  },
  {
   "cell_type": "code",
   "execution_count": 193,
   "id": "c5bd98ae",
   "metadata": {},
   "outputs": [],
   "source": [
    "dic_bilinear = PsiNN(layer_sizes=dict_layer_size, n_psi_train=n_psi_train)"
   ]
  },
  {
   "cell_type": "code",
   "execution_count": 194,
   "id": "cd36fbbc",
   "metadata": {},
   "outputs": [],
   "source": [
    "solver_bilinear = KoopmanBilinearDLSolver(\n",
    "    dic=dic_bilinear, target_dim=target_dim, param_dim=param_dim, n_psi=n_psi\n",
    ")\n",
    "model_bilinear, model_K_u_pred_bilinear = solver_bilinear.build_model()"
   ]
  },
  {
   "cell_type": "code",
   "execution_count": 195,
   "id": "89896950",
   "metadata": {},
   "outputs": [],
   "source": [
    "model_bilinear.load_weights(\n",
    "    os.path.join(weights_path, \"model_bilinear_vdpm_mu_\" + str(mu) + \".h5\")\n",
    ")"
   ]
  },
  {
   "cell_type": "code",
   "execution_count": 196,
   "id": "f8082621",
   "metadata": {},
   "outputs": [
    {
     "name": "stdout",
     "output_type": "stream",
     "text": [
      "Model: \"K_u_bilinear_pred\"\n",
      "__________________________________________________________________________________________________\n",
      " Layer (type)                   Output Shape         Param #     Connected to                     \n",
      "==================================================================================================\n",
      " input_32 (InputLayer)          [(None, 13)]         0           []                               \n",
      "                                                                                                  \n",
      " input_31 (InputLayer)          [(None, 1)]          0           []                               \n",
      "                                                                                                  \n",
      " tf.einsum_1 (TFOpLambda)       (1, None, 13)        0           ['input_32[0][0]',               \n",
      "                                                                  'input_31[0][0]']               \n",
      "                                                                                                  \n",
      " tf.__operators__.getitem_1 (Sl  (None, 13)          0           ['tf.einsum_1[0][0]']            \n",
      " icingOpLambda)                                                                                   \n",
      "                                                                                                  \n",
      " tf.identity_1 (TFOpLambda)     (None, 13)           0           ['tf.__operators__.getitem_1[0][0\n",
      "                                                                 ]']                              \n",
      "                                                                                                  \n",
      " Layer_A (Dense)                (None, 13)           169         ['input_32[0][0]']               \n",
      "                                                                                                  \n",
      " Layer_B (Dense)                (None, 13)           169         ['tf.identity_1[0][0]']          \n",
      "                                                                                                  \n",
      " tf.__operators__.add_2 (TFOpLa  (None, 13)          0           ['Layer_A[0][0]',                \n",
      " mbda)                                                            'Layer_B[0][0]']                \n",
      "                                                                                                  \n",
      "==================================================================================================\n",
      "Total params: 338\n",
      "Trainable params: 0\n",
      "Non-trainable params: 338\n",
      "__________________________________________________________________________________________________\n"
     ]
    }
   ],
   "source": [
    "model_K_u_pred_bilinear.summary()"
   ]
  },
  {
   "cell_type": "code",
   "execution_count": 197,
   "id": "4c330a14",
   "metadata": {},
   "outputs": [],
   "source": [
    "\n",
    "\n",
    "# # Train K(u) to be (A+Bu)\n",
    "# psi_x_data = dic_bilinear(data_x)\n",
    "# target = model_K_u_pred_bilinear([data_u, psi_x_data])\n",
    "# inputs_u = Input(shape=(param_dim,))\n",
    "# inputs_psi_x = Input(shape=(n_psi,))\n",
    "\n",
    "# fake_psi = model_K_u_pred_pk([inputs_u, inputs_psi_x])\n",
    "\n",
    "# test_K_model = Model(inputs=[inputs_u, inputs_psi_x], outputs=fake_psi)\n",
    "\n",
    "# test_K_model.compile(optimizer=Adam(0.000001), loss=\"mse\")\n",
    "# test_K_model.fit(x=[data_u, psi_x_data], y=target, epochs=500, batch_size=200, verbose=1)\n",
    "# dic_pk.set_weights(dic_bilinear.get_weights())\n",
    "\n"
   ]
  },
  {
   "cell_type": "code",
   "execution_count": null,
   "id": "a2fe4211",
   "metadata": {},
   "outputs": [],
   "source": []
  },
  {
   "cell_type": "markdown",
   "id": "871ca98b",
   "metadata": {},
   "source": [
    "## Prediction"
   ]
  },
  {
   "cell_type": "code",
   "execution_count": 198,
   "id": "fde1ce46",
   "metadata": {},
   "outputs": [],
   "source": [
    "from koopmanlib.functions import *"
   ]
  },
  {
   "cell_type": "markdown",
   "id": "4da3a1b9",
   "metadata": {},
   "source": [
    "## Calculate average value"
   ]
  },
  {
   "cell_type": "code",
   "execution_count": 199,
   "id": "59ba4a25",
   "metadata": {},
   "outputs": [],
   "source": [
    "np.random.seed(625)\n",
    "n_test = 20\n",
    "seed_x_list = np.random.randint(1, 300, size=(n_test,))\n",
    "seed_param_list = np.random.randint(1, 300, size=(n_test,))\n",
    "n_traj_test = 1\n",
    "traj_len_test = 50"
   ]
  },
  {
   "cell_type": "code",
   "execution_count": 200,
   "id": "991168ff",
   "metadata": {},
   "outputs": [],
   "source": [
    "ratio_pk_list = []\n",
    "ratio_linear_list = []\n",
    "ratio_bilinear_list = []\n",
    "# ratio_dmdc_list = []\n",
    "ratio_pk_faker_list = []"
   ]
  },
  {
   "cell_type": "code",
   "execution_count": 201,
   "id": "b4dc73e3",
   "metadata": {},
   "outputs": [],
   "source": [
    "data_pred_list_pk_group = []\n",
    "data_pred_list_linear_group = []\n",
    "data_pred_list_bilinear_group = []\n",
    "data_true_group = []\n",
    "# data_pred_list_dmdc_group = []\n",
    "data_pred_list_pk_faker_group = []\n"
   ]
  },
  {
   "cell_type": "code",
   "execution_count": 202,
   "id": "c29d21cf",
   "metadata": {},
   "outputs": [],
   "source": [
    "for seed_x, seed_param in zip(seed_x_list, seed_param_list):\n",
    "    vdp_mathieu_test = VanderPolMathieuTarget(\n",
    "        mu=mu, dim=target_dim, param_dim=param_dim, k1=k1, k2=k2, k4=k4, w0=w0\n",
    "    )\n",
    "\n",
    "    data_x_test, data_u_test = vdp_mathieu_test.generate_init_data(\n",
    "        n_traj=n_traj_test, traj_len=traj_len_test, seed_x=seed_x, seed_param=seed_param\n",
    "    )\n",
    "    data_x_init = tf.reshape(data_x_test[0], shape=(1, -1))\n",
    "    data_true = data_x_test\n",
    "\n",
    "    data_pred_list_pk = solver_pk.compute_data_list(traj_len_test, data_x_init, data_u_test)\n",
    "    data_pred_list_pk_faker = solver_pk_faker.compute_data_list(traj_len_test, data_x_init, data_u_test)\n",
    "    data_pred_list_linear = solver_linear.compute_data_list(\n",
    "        traj_len=traj_len_test, data_x_init=data_x_init, data_u=data_u_test\n",
    "    )\n",
    "    data_pred_list_bilinear = solver_bilinear.compute_data_list(\n",
    "        traj_len=traj_len_test, data_x_init=data_x_init, data_u=data_u_test\n",
    "    )\n",
    "\n",
    "    # data_pred_list_dmdc = solver_dmdc.compute_data_list(\n",
    "    #     traj_len=traj_len_test, data_x_init=data_x_init, data_u=data_u_test\n",
    "    # )\n",
    "\n",
    "    ratio_pk = compute_diff_ratio_one_traj(data_true, data_pred_list_pk)\n",
    "    ratio_linear = compute_diff_ratio_one_traj(data_true, data_pred_list_linear)\n",
    "    ratio_bilinear = compute_diff_ratio_one_traj(data_true, data_pred_list_bilinear)\n",
    "    # ratio_dmdc = compute_diff_ratio_one_traj(data_true, data_pred_list_dmdc)\n",
    "    ratio_pk_faker = compute_diff_ratio_one_traj(data_true, data_pred_list_pk_faker)\n",
    "\n",
    "    ratio_pk_list.append(ratio_pk)\n",
    "    ratio_linear_list.append(ratio_linear)\n",
    "    ratio_bilinear_list.append(ratio_bilinear)\n",
    "    # ratio_dmdc_list.append(ratio_dmdc)\n",
    "    ratio_pk_faker_list.append(ratio_pk_faker)\n",
    "\n",
    "    data_pred_list_pk_group.append(data_pred_list_pk)\n",
    "    data_pred_list_linear_group.append(data_pred_list_linear)\n",
    "    data_pred_list_bilinear_group.append(data_pred_list_bilinear)\n",
    "    # data_pred_list_dmdc_group.append(data_pred_list_dmdc)\n",
    "    data_pred_list_pk_faker_group.append(data_pred_list_pk_faker)\n",
    "\n",
    "    data_true_group.append(data_true)"
   ]
  },
  {
   "cell_type": "code",
   "execution_count": 203,
   "id": "e8c70a6d",
   "metadata": {},
   "outputs": [
    {
     "data": {
      "text/plain": [
       "<matplotlib.legend.Legend at 0x7f69704a8430>"
      ]
     },
     "execution_count": 203,
     "metadata": {},
     "output_type": "execute_result"
    },
    {
     "data": {
      "image/png": "[encoded data removed]",
      "text/plain": [
       "<Figure size 432x360 with 1 Axes>"
      ]
     },
     "metadata": {
      "needs_background": "light"
     },
     "output_type": "display_data"
    }
   ],
   "source": [
    "plt.figure(figsize=(6, 5))\n",
    "\n",
    "plt.plot(\n",
    "    data_pred_list_pk[:, 0], \n",
    "    data_pred_list_pk[:, 1], \n",
    "    label=\"Ours\", \n",
    "    color=\"steelblue\", \n",
    "    linewidth=3\n",
    ")\n",
    "    \n",
    "plt.plot(\n",
    "    data_pred_list_linear[:, 0],\n",
    "    data_pred_list_linear[:, 1],\n",
    "    label=\"M2\",\n",
    "    color=\"darkorange\",\n",
    "    linewidth=3,\n",
    ")\n",
    "plt.plot(\n",
    "    data_pred_list_bilinear[:, 0],\n",
    "    data_pred_list_bilinear[:, 1],\n",
    "    label=\"M3\",\n",
    "    color=\"forestgreen\",\n",
    "    linewidth=3,\n",
    ")\n",
    "\n",
    "# plt.plot(\n",
    "# data_pred_list_dmdc[:,0],\n",
    "# data_pred_list_dmdc[:,1],\n",
    "# label='DMDc',\n",
    "# color='red',\n",
    "# linewidth=3\n",
    "# )\n",
    "\n",
    "plt.plot(\n",
    "    data_pred_list_pk_faker[:, 0], \n",
    "    data_pred_list_pk_faker[:, 1], \n",
    "    label=\"PK-faker\", \n",
    "    color=\"pink\", \n",
    "    linewidth=3\n",
    ")\n",
    "\n",
    "\n",
    "plt.plot(\n",
    "    data_true[:, 0], data_true[:, 1], label=\"True\", color=\"brown\", linestyle=\"dashed\", linewidth=3\n",
    ")\n",
    "plt.xlabel(r\"$x_{1}$\", fontsize=28)\n",
    "plt.ylabel(r\"$x_{2}$\", fontsize=28)\n",
    "plt.xticks(fontsize=18)\n",
    "plt.yticks(fontsize=18)\n",
    "plt.legend(fontsize=18)"
   ]
  },
  {
   "cell_type": "code",
   "execution_count": 204,
   "id": "a36e8965",
   "metadata": {},
   "outputs": [],
   "source": [
    "data_pred_list_pk_group = np.asarray(data_pred_list_pk_group)\n",
    "data_pred_list_linear_group = np.asarray(data_pred_list_linear_group)\n",
    "data_pred_list_bilinear_group = np.asarray(data_pred_list_bilinear_group)\n",
    "# data_pred_list_dmdc_group = np.asarray(data_pred_list_dmdc_group)\n",
    "data_pred_list_pk_faker_group = np.asarray(data_pred_list_pk_faker_group)\n",
    "data_true_group = np.asarray(data_true_group)"
   ]
  },
  {
   "cell_type": "code",
   "execution_count": 205,
   "id": "a6df8fe1",
   "metadata": {},
   "outputs": [],
   "source": [
    "# for i in range(data_pred_list_pk_group.shape[0]):\n",
    "#     plt.figure(figsize=(6, 5))\n",
    "#     plt.plot(\n",
    "#         data_pred_list_pk_group[i, :, 0],\n",
    "#         data_pred_list_pk_group[i, :, 1],\n",
    "#         label=\"Ours\",\n",
    "#         color=\"steelblue\",\n",
    "#         linewidth=3,\n",
    "#     )\n",
    "#     plt.plot(\n",
    "#         data_pred_list_linear_group[i, :, 0],\n",
    "#         data_pred_list_linear_group[i, :, 1],\n",
    "#         label=\"M2\",\n",
    "#         color=\"darkorange\",\n",
    "#         linewidth=3,\n",
    "#     )\n",
    "#     plt.plot(\n",
    "#         data_pred_list_bilinear_group[i, :, 0],\n",
    "#         data_pred_list_bilinear_group[i, :, 1],\n",
    "#         label=\"M3\",\n",
    "#         color=\"forestgreen\",\n",
    "#         linewidth=3,\n",
    "#     )\n",
    "#     plt.plot(\n",
    "#         data_true_group[i, :, 0],\n",
    "#         data_true_group[i, :, 1],\n",
    "#         label=\"True\",\n",
    "#         color=\"brown\",\n",
    "#         linestyle=\"dashed\",\n",
    "#         linewidth=3,\n",
    "#     )\n",
    "#     plt.xlabel(r\"$x_{1}$\", fontsize=28)\n",
    "#     plt.ylabel(r\"$x_{2}$\", fontsize=28)\n",
    "#     plt.xticks(fontsize=18)\n",
    "#     plt.yticks(fontsize=18)\n",
    "#     plt.legend(fontsize=18)"
   ]
  },
  {
   "cell_type": "code",
   "execution_count": 206,
   "id": "343656b1",
   "metadata": {},
   "outputs": [],
   "source": [
    "ratio_pk_list = np.asarray(ratio_pk_list)\n",
    "ratio_linear_list = np.asarray(ratio_linear_list)\n",
    "ratio_bilinear_list = np.asarray(ratio_bilinear_list)\n",
    "# ratio_dmdc_list = np.asarray(ratio_dmdc_list)\n",
    "ratio_pk_faker_list = np.asarray(ratio_pk_faker_list)"
   ]
  },
  {
   "cell_type": "code",
   "execution_count": 207,
   "id": "90863088",
   "metadata": {},
   "outputs": [],
   "source": [
    "ratio_pk_list_mean = np.mean(ratio_pk_list, axis=0)\n",
    "ratio_linear_list_mean = np.mean(ratio_linear_list, axis=0)\n",
    "ratio_bilinear_list_mean = np.mean(ratio_bilinear_list, axis=0)\n",
    "# ratio_dmdc_list_mean = np.mean(ratio_dmdc_list, axis=0)\n",
    "ratio_pk_faker_list_mean = np.mean(ratio_pk_faker_list, axis=0)"
   ]
  },
  {
   "cell_type": "code",
   "execution_count": 208,
   "id": "5843294e",
   "metadata": {},
   "outputs": [],
   "source": [
    "ratio_pk_list_median = np.median(ratio_pk_list, axis=0)\n",
    "ratio_linear_list_median = np.median(ratio_linear_list, axis=0)\n",
    "ratio_bilinear_list_median = np.median(ratio_bilinear_list, axis=0)\n",
    "# ratio_dmdc_list_median = np.median(ratio_dmdc_list, axis=0)\n",
    "ratio_pk_faker_list_median = np.median(ratio_pk_faker_list, axis=0)"
   ]
  },
  {
   "cell_type": "code",
   "execution_count": 209,
   "id": "a99da91a",
   "metadata": {},
   "outputs": [],
   "source": [
    "q_min = 0.35\n",
    "q_max = 0.65"
   ]
  },
  {
   "cell_type": "code",
   "execution_count": 210,
   "id": "30400bf9",
   "metadata": {},
   "outputs": [
    {
     "data": {
      "text/plain": [
       "array([[0.00000000e+00, 7.90979852e-05, 1.42658789e-04, 2.06403425e-04,\n",
       "        2.70658871e-04, 3.36643736e-04, 4.05799418e-04, 4.78037493e-04,\n",
       "        5.52101399e-04, 6.26781661e-04, 7.01245424e-04, 7.76060613e-04,\n",
       "        8.50391197e-04, 9.25555666e-04, 1.00027286e-03, 1.07442094e-03,\n",
       "        1.14833662e-03, 1.22232341e-03, 1.29676856e-03, 1.36940319e-03,\n",
       "        1.44135486e-03, 1.51312841e-03, 1.58362438e-03, 1.65266983e-03,\n",
       "        1.72037574e-03, 1.78675501e-03, 1.85016168e-03, 1.91183373e-03,\n",
       "        1.97102069e-03, 2.02783262e-03, 2.08129552e-03, 2.13064999e-03,\n",
       "        2.17568477e-03, 2.21603217e-03, 2.25230054e-03, 2.28407926e-03,\n",
       "        2.31215851e-03, 2.33579331e-03, 2.35467156e-03, 2.36862686e-03,\n",
       "        2.37844450e-03, 2.38413807e-03, 2.38527017e-03, 2.38248562e-03,\n",
       "        2.37619443e-03, 2.36662323e-03, 2.35409718e-03, 2.33848235e-03,\n",
       "        2.32010821e-03, 2.29988908e-03],\n",
       "       [0.00000000e+00, 5.88026994e-05, 1.09452331e-04, 1.59452756e-04,\n",
       "        2.10341978e-04, 2.61184560e-04, 3.10634206e-04, 3.58109906e-04,\n",
       "        4.03990960e-04, 4.49173988e-04, 4.95051939e-04, 5.40681145e-04,\n",
       "        5.86906967e-04, 6.32451780e-04, 6.77643150e-04, 7.22517946e-04,\n",
       "        7.66634774e-04, 8.10934739e-04, 8.54765671e-04, 8.98639149e-04,\n",
       "        9.43277633e-04, 9.88020995e-04, 1.03370168e-03, 1.07994198e-03,\n",
       "        1.12624872e-03, 1.17225771e-03, 1.21913657e-03, 1.26665230e-03,\n",
       "        1.31432157e-03, 1.36216258e-03, 1.41098621e-03, 1.46007015e-03,\n",
       "        1.50961432e-03, 1.55972244e-03, 1.61055056e-03, 1.66210930e-03,\n",
       "        1.71513854e-03, 1.76946931e-03, 1.82456002e-03, 1.88052196e-03,\n",
       "        1.93792872e-03, 1.99573108e-03, 2.05441076e-03, 2.11372014e-03,\n",
       "        2.17441143e-03, 2.23555174e-03, 2.29791967e-03, 2.36074667e-03,\n",
       "        2.42499135e-03, 2.48988463e-03],\n",
       "       [0.00000000e+00, 1.11933399e-04, 2.00277822e-04, 2.85257536e-04,\n",
       "        3.68292915e-04, 4.49724619e-04, 5.31719262e-04, 6.10600622e-04,\n",
       "        6.89560172e-04, 7.67778826e-04, 8.42050873e-04, 9.12795825e-04,\n",
       "        9.81645851e-04, 1.04737946e-03, 1.10919393e-03, 1.16857437e-03,\n",
       "        1.22611939e-03, 1.27986697e-03, 1.33165274e-03, 1.37942014e-03,\n",
       "        1.42290109e-03, 1.46402515e-03, 1.50167835e-03, 1.53505937e-03,\n",
       "        1.56441739e-03, 1.58958654e-03, 1.61102057e-03, 1.62954033e-03,\n",
       "        1.64455429e-03, 1.65707154e-03, 1.66625602e-03, 1.67265724e-03,\n",
       "        1.67625958e-03, 1.67830369e-03, 1.67863363e-03, 1.67646894e-03,\n",
       "        1.67206311e-03, 1.66654348e-03, 1.65984508e-03, 1.65257404e-03,\n",
       "        1.64520819e-03, 1.63792096e-03, 1.63017907e-03, 1.62239229e-03,\n",
       "        1.61566276e-03, 1.60920565e-03, 1.60437538e-03, 1.60192485e-03,\n",
       "        1.60253709e-03, 1.60555805e-03],\n",
       "       [0.00000000e+00, 1.22105876e-04, 2.24649593e-04, 3.27259196e-04,\n",
       "        4.23747830e-04, 5.15103116e-04, 6.01425163e-04, 6.86827418e-04,\n",
       "        7.67768928e-04, 8.46524359e-04, 9.21401798e-04, 9.92302269e-04,\n",
       "        1.05979986e-03, 1.12456371e-03, 1.18570405e-03, 1.24332136e-03,\n",
       "        1.29866492e-03, 1.35163869e-03, 1.40244482e-03, 1.45112078e-03,\n",
       "        1.49756136e-03, 1.54247587e-03, 1.58629892e-03, 1.62941923e-03,\n",
       "        1.67205224e-03, 1.71418334e-03, 1.75570533e-03, 1.79669575e-03,\n",
       "        1.83735063e-03, 1.87784740e-03, 1.91836982e-03, 1.95886433e-03,\n",
       "        1.99933178e-03, 2.03997437e-03, 2.08091375e-03, 2.12208862e-03,\n",
       "        2.16373920e-03, 2.20573599e-03, 2.24788433e-03, 2.29034359e-03,\n",
       "        2.33286105e-03, 2.37518707e-03, 2.41723790e-03, 2.45870485e-03,\n",
       "        2.49929689e-03, 2.53872522e-03, 2.57661490e-03, 2.61255020e-03,\n",
       "        2.64603226e-03, 2.67656967e-03],\n",
       "       [0.00000000e+00, 1.13237265e-04, 2.05671696e-04, 2.95276586e-04,\n",
       "        3.87146276e-04, 4.75559736e-04, 5.69034327e-04, 6.63441364e-04,\n",
       "        7.57637490e-04, 8.50837490e-04, 9.40074363e-04, 1.02823674e-03,\n",
       "        1.11552974e-03, 1.20120940e-03, 1.28768911e-03, 1.37394558e-03,\n",
       "        1.46077373e-03, 1.54586507e-03, 1.62925913e-03, 1.71248958e-03,\n",
       "        1.79606076e-03, 1.87785899e-03, 1.95777231e-03, 2.03606691e-03,\n",
       "        2.11291849e-03, 2.18939835e-03, 2.26517450e-03, 2.34019849e-03,\n",
       "        2.41402815e-03, 2.48790424e-03, 2.56094322e-03, 2.63243961e-03,\n",
       "        2.70410325e-03, 2.77445730e-03, 2.84439379e-03, 2.91397051e-03,\n",
       "        2.98259982e-03, 3.05002489e-03, 3.11655814e-03, 3.18193643e-03,\n",
       "        3.24655753e-03, 3.31014952e-03, 3.37269948e-03, 3.43434245e-03,\n",
       "        3.49507310e-03, 3.55575504e-03, 3.61595843e-03, 3.67574992e-03,\n",
       "        3.73520582e-03, 3.79430344e-03],\n",
       "       [0.00000000e+00, 5.09775818e-05, 9.73623670e-05, 1.41936958e-04,\n",
       "        1.80786907e-04, 2.20222974e-04, 2.57285013e-04, 2.93984915e-04,\n",
       "        3.27688827e-04, 3.61121358e-04, 3.92406386e-04, 4.22487157e-04,\n",
       "        4.50975971e-04, 4.77712902e-04, 5.02826893e-04, 5.24926461e-04,\n",
       "        5.44928990e-04, 5.62790813e-04, 5.78433464e-04, 5.92278607e-04,\n",
       "        6.03881736e-04, 6.14429848e-04, 6.23060304e-04, 6.30372556e-04,\n",
       "        6.35942300e-04, 6.39497963e-04, 6.41420553e-04, 6.41493512e-04,\n",
       "        6.40242305e-04, 6.38046747e-04, 6.34547116e-04, 6.29882391e-04,\n",
       "        6.24085001e-04, 6.17693727e-04, 6.10672206e-04, 6.03279463e-04,\n",
       "        5.95725423e-04, 5.88249568e-04, 5.81251760e-04, 5.75088972e-04,\n",
       "        5.70220441e-04, 5.67107604e-04, 5.66321477e-04, 5.68280296e-04,\n",
       "        5.73392017e-04, 5.82697339e-04, 5.96544374e-04, 6.14653014e-04,\n",
       "        6.37097843e-04, 6.64545720e-04],\n",
       "       [0.00000000e+00, 8.59911033e-05, 1.59101370e-04, 2.31289298e-04,\n",
       "        3.03016238e-04, 3.74103464e-04, 4.43882562e-04, 5.12598529e-04,\n",
       "        5.80337613e-04, 6.47079981e-04, 7.12794798e-04, 7.77259692e-04,\n",
       "        8.40838999e-04, 9.03137352e-04, 9.63631776e-04, 1.02265124e-03,\n",
       "        1.08061174e-03, 1.13702244e-03, 1.19125774e-03, 1.24397213e-03,\n",
       "        1.29422617e-03, 1.34311145e-03, 1.39074785e-03, 1.43667986e-03,\n",
       "        1.48007315e-03, 1.52162079e-03, 1.56077349e-03, 1.59739549e-03,\n",
       "        1.63212926e-03, 1.66405762e-03, 1.69380326e-03, 1.72134745e-03,\n",
       "        1.74665363e-03, 1.76866536e-03, 1.78876105e-03, 1.80654552e-03,\n",
       "        1.82103244e-03, 1.83227342e-03, 1.84156079e-03, 1.84891843e-03,\n",
       "        1.85352568e-03, 1.85553849e-03, 1.85510160e-03, 1.85244542e-03,\n",
       "        1.84701380e-03, 1.83930512e-03, 1.82927067e-03, 1.81749556e-03,\n",
       "        1.80386576e-03, 1.78869584e-03],\n",
       "       [0.00000000e+00, 8.15328365e-05, 1.46734373e-04, 2.10102911e-04,\n",
       "        2.71807190e-04, 3.32132468e-04, 3.90863125e-04, 4.47964962e-04,\n",
       "        5.03237020e-04, 5.56832878e-04, 6.08445088e-04, 6.57615338e-04,\n",
       "        7.04829548e-04, 7.50228203e-04, 7.93107821e-04, 8.34107665e-04,\n",
       "        8.72805241e-04, 9.08889043e-04, 9.42969306e-04, 9.74202027e-04,\n",
       "        1.00346145e-03, 1.03016540e-03, 1.05495409e-03, 1.07729788e-03,\n",
       "        1.09678566e-03, 1.11371517e-03, 1.12888418e-03, 1.14214894e-03,\n",
       "        1.15338036e-03, 1.16226190e-03, 1.16951151e-03, 1.17541374e-03,\n",
       "        1.18019895e-03, 1.18398078e-03, 1.18690705e-03, 1.18898598e-03,\n",
       "        1.19044451e-03, 1.19120972e-03, 1.19120694e-03, 1.19091817e-03,\n",
       "        1.18997378e-03, 1.18921756e-03, 1.18879893e-03, 1.18867768e-03,\n",
       "        1.18975399e-03, 1.19204852e-03, 1.19611098e-03, 1.20226041e-03,\n",
       "        1.21085427e-03, 1.22244377e-03],\n",
       "       [0.00000000e+00, 3.92269641e-05, 9.33509119e-05, 1.38974179e-04,\n",
       "        1.94949831e-04, 2.52651326e-04, 3.02988362e-04, 3.58202443e-04,\n",
       "        4.13953242e-04, 4.64579488e-04, 5.16925653e-04, 5.71551743e-04,\n",
       "        6.30764262e-04, 6.86994989e-04, 7.47145048e-04, 8.06419740e-04,\n",
       "        8.65616018e-04, 9.22411166e-04, 9.81060005e-04, 1.04039309e-03,\n",
       "        1.09743314e-03, 1.15291484e-03, 1.20686127e-03, 1.26363006e-03,\n",
       "        1.32341617e-03, 1.38462107e-03, 1.44603165e-03, 1.50658412e-03,\n",
       "        1.56614658e-03, 1.62299820e-03, 1.67678169e-03, 1.72970261e-03,\n",
       "        1.77890024e-03, 1.82716240e-03, 1.87555799e-03, 1.92033048e-03,\n",
       "        1.96607752e-03, 2.01165091e-03, 2.05664096e-03, 2.10316560e-03,\n",
       "        2.14772752e-03, 2.19102080e-03, 2.23569940e-03, 2.27795189e-03,\n",
       "        2.32151222e-03, 2.36287178e-03, 2.40493465e-03, 2.44464913e-03,\n",
       "        2.48582945e-03, 2.52916143e-03],\n",
       "       [0.00000000e+00, 4.76715301e-05, 9.17396338e-05, 1.28142564e-04,\n",
       "        1.61103216e-04, 1.93593858e-04, 2.24266633e-04, 2.50437413e-04,\n",
       "        2.73296301e-04, 2.92075210e-04, 3.07419831e-04, 3.19619374e-04,\n",
       "        3.28585632e-04, 3.35585160e-04, 3.38780971e-04, 3.38984835e-04,\n",
       "        3.36596290e-04, 3.31852486e-04, 3.24726563e-04, 3.15779116e-04,\n",
       "        3.06049173e-04, 2.96512714e-04, 2.87681238e-04, 2.80736438e-04,\n",
       "        2.77088981e-04, 2.77711591e-04, 2.83553551e-04, 2.95690121e-04,\n",
       "        3.13907828e-04, 3.38291211e-04, 3.67942369e-04, 4.01742366e-04,\n",
       "        4.38783188e-04, 4.78311289e-04, 5.19194700e-04, 5.60572272e-04,\n",
       "        6.02018680e-04, 6.43031204e-04, 6.83062902e-04, 7.21823777e-04,\n",
       "        7.59026778e-04, 7.94079254e-04, 8.26641935e-04, 8.56358310e-04,\n",
       "        8.83110825e-04, 9.06321212e-04, 9.25761246e-04, 9.41157134e-04,\n",
       "        9.52735356e-04, 9.60141488e-04],\n",
       "       [0.00000000e+00, 4.47964074e-05, 8.77299531e-05, 1.34196763e-04,\n",
       "        1.81978276e-04, 2.32136243e-04, 2.83788612e-04, 3.36819127e-04,\n",
       "        3.91361377e-04, 4.49268976e-04, 5.08966874e-04, 5.70490342e-04,\n",
       "        6.33573252e-04, 6.97873721e-04, 7.63406784e-04, 8.29876282e-04,\n",
       "        8.97039509e-04, 9.64355280e-04, 1.03167968e-03, 1.09871912e-03,\n",
       "        1.16522495e-03, 1.23099488e-03, 1.29578080e-03, 1.35946948e-03,\n",
       "        1.42157388e-03, 1.48155890e-03, 1.53868950e-03, 1.59341829e-03,\n",
       "        1.64498298e-03, 1.69335933e-03, 1.73848511e-03, 1.78001010e-03,\n",
       "        1.81798015e-03, 1.85201644e-03, 1.88133904e-03, 1.90670703e-03,\n",
       "        1.92826446e-03, 1.94531768e-03, 1.95799371e-03, 1.96661308e-03,\n",
       "        1.97218882e-03, 1.97502267e-03, 1.97485130e-03, 1.97283953e-03,\n",
       "        1.96921131e-03, 1.96470357e-03, 1.95922361e-03, 1.95384601e-03,\n",
       "        1.94999655e-03, 1.94866030e-03],\n",
       "       [0.00000000e+00, 3.66184845e-05, 6.29275811e-05, 8.56953743e-05,\n",
       "        1.02068907e-04, 1.14270252e-04, 1.24792448e-04, 1.33587067e-04,\n",
       "        1.40969769e-04, 1.45103347e-04, 1.48435798e-04, 1.49156721e-04,\n",
       "        1.48356853e-04, 1.46344654e-04, 1.43651532e-04, 1.40412081e-04,\n",
       "        1.37158975e-04, 1.34915306e-04, 1.35101648e-04, 1.39691512e-04,\n",
       "        1.50680647e-04, 1.69156155e-04, 1.95417388e-04, 2.27563485e-04,\n",
       "        2.65440270e-04, 3.08339624e-04, 3.56186803e-04, 4.08468022e-04,\n",
       "        4.64142017e-04, 5.23103375e-04, 5.85160265e-04, 6.50397457e-04,\n",
       "        7.18429345e-04, 7.89557961e-04, 8.63246373e-04, 9.39066565e-04,\n",
       "        1.01686630e-03, 1.09636205e-03, 1.17734990e-03, 1.25965644e-03,\n",
       "        1.34311977e-03, 1.42749951e-03, 1.51246224e-03, 1.59765365e-03,\n",
       "        1.68257619e-03, 1.76728252e-03, 1.85110430e-03, 1.93421205e-03,\n",
       "        2.01633460e-03, 2.09694239e-03],\n",
       "       [0.00000000e+00, 1.25676054e-04, 2.34506433e-04, 3.43296389e-04,\n",
       "        4.49149376e-04, 5.56945184e-04, 6.67633085e-04, 7.76727578e-04,\n",
       "        8.86202696e-04, 9.95953657e-04, 1.10465557e-03, 1.21451076e-03,\n",
       "        1.32454213e-03, 1.43512115e-03, 1.54453571e-03, 1.65378406e-03,\n",
       "        1.76223290e-03, 1.86841801e-03, 1.97220298e-03, 2.07499200e-03,\n",
       "        2.17520209e-03, 2.27526749e-03, 2.37199191e-03, 2.46710446e-03,\n",
       "        2.56100446e-03, 2.65284468e-03, 2.74228535e-03, 2.82789573e-03,\n",
       "        2.91085878e-03, 2.99022174e-03, 3.06617426e-03, 3.13984087e-03,\n",
       "        3.21179067e-03, 3.27971858e-03, 3.34353170e-03, 3.40522836e-03,\n",
       "        3.46348856e-03, 3.51868957e-03, 3.56938562e-03, 3.61543891e-03,\n",
       "        3.65803911e-03, 3.69601170e-03, 3.73132722e-03, 3.76426769e-03,\n",
       "        3.79280840e-03, 3.81706586e-03, 3.83830538e-03, 3.85765783e-03,\n",
       "        3.87430494e-03, 3.88885160e-03],\n",
       "       [0.00000000e+00, 9.84629647e-05, 1.81136737e-04, 2.64084467e-04,\n",
       "        3.48774787e-04, 4.33916486e-04, 5.18513220e-04, 6.02595237e-04,\n",
       "        6.86189547e-04, 7.69282965e-04, 8.52148324e-04, 9.34375185e-04,\n",
       "        1.01627914e-03, 1.09792747e-03, 1.17952763e-03, 1.26082691e-03,\n",
       "        1.34158925e-03, 1.42169855e-03, 1.50097054e-03, 1.57865765e-03,\n",
       "        1.65448499e-03, 1.72843294e-03, 1.80019436e-03, 1.87133332e-03,\n",
       "        1.94112760e-03, 2.00962648e-03, 2.07611643e-03, 2.14056401e-03,\n",
       "        2.20411693e-03, 2.26656963e-03, 2.32792827e-03, 2.38749236e-03,\n",
       "        2.44576539e-03, 2.50085365e-03, 2.55333259e-03, 2.60400570e-03,\n",
       "        2.65234081e-03, 2.69873049e-03, 2.74318222e-03, 2.78603780e-03,\n",
       "        2.82706984e-03, 2.86585114e-03, 2.90195531e-03, 2.93525591e-03,\n",
       "        2.96525319e-03, 2.99336812e-03, 3.01829384e-03, 3.04137386e-03,\n",
       "        3.06231456e-03, 3.08046247e-03],\n",
       "       [0.00000000e+00, 2.97710365e-05, 5.69148912e-05, 8.66438685e-05,\n",
       "        1.17603040e-04, 1.52127093e-04, 1.90783973e-04, 2.29676594e-04,\n",
       "        2.70395296e-04, 3.13520067e-04, 3.59007003e-04, 4.06512003e-04,\n",
       "        4.57657719e-04, 5.12251333e-04, 5.68537544e-04, 6.27644517e-04,\n",
       "        6.89143183e-04, 7.54236364e-04, 8.23001687e-04, 8.94625939e-04,\n",
       "        9.69034441e-04, 1.04560598e-03, 1.12499697e-03, 1.20649502e-03,\n",
       "        1.28858301e-03, 1.37254597e-03, 1.45701116e-03, 1.54285234e-03,\n",
       "        1.63039340e-03, 1.71931766e-03, 1.80842239e-03, 1.89866366e-03,\n",
       "        1.98893815e-03, 2.07926041e-03, 2.17046742e-03, 2.26225209e-03,\n",
       "        2.35427482e-03, 2.44547726e-03, 2.53698261e-03, 2.62783494e-03,\n",
       "        2.71696689e-03, 2.80529883e-03, 2.89312995e-03, 2.98044173e-03,\n",
       "        3.06683200e-03, 3.15191662e-03, 3.23408132e-03, 3.31491425e-03,\n",
       "        3.39358736e-03, 3.46891476e-03],\n",
       "       [0.00000000e+00, 1.29706398e-04, 2.45160868e-04, 3.60298621e-04,\n",
       "        4.73251428e-04, 5.88257078e-04, 7.01308509e-04, 8.15166361e-04,\n",
       "        9.31453241e-04, 1.04889776e-03, 1.16367369e-03, 1.27554214e-03,\n",
       "        1.38754641e-03, 1.49826415e-03, 1.60908645e-03, 1.72062982e-03,\n",
       "        1.83001201e-03, 1.93872816e-03, 2.04625372e-03, 2.15374691e-03,\n",
       "        2.25975195e-03, 2.36611678e-03, 2.47170206e-03, 2.57708918e-03,\n",
       "        2.68015832e-03, 2.78326441e-03, 2.88508967e-03, 2.98531570e-03,\n",
       "        3.08527489e-03, 3.18431173e-03, 3.28277661e-03, 3.38089362e-03,\n",
       "        3.47753803e-03, 3.57295282e-03, 3.66749837e-03, 3.76027128e-03,\n",
       "        3.85197704e-03, 3.94298097e-03, 4.03196721e-03, 4.11971285e-03,\n",
       "        4.20577910e-03, 4.29134651e-03, 4.37566153e-03, 4.45875178e-03,\n",
       "        4.54041578e-03, 4.62093735e-03, 4.70022631e-03, 4.77879152e-03,\n",
       "        4.85646600e-03, 4.93394285e-03],\n",
       "       [0.00000000e+00, 2.52855729e-04, 4.56711750e-04, 6.54044512e-04,\n",
       "        8.46648411e-04, 1.03436348e-03, 1.21665084e-03, 1.39526144e-03,\n",
       "        1.57132926e-03, 1.74537448e-03, 1.91740502e-03, 2.08614748e-03,\n",
       "        2.25140140e-03, 2.41161359e-03, 2.56738667e-03, 2.71999649e-03,\n",
       "        2.86835239e-03, 3.01396308e-03, 3.15631898e-03, 3.29694030e-03,\n",
       "        3.43667999e-03, 3.57488473e-03, 3.71115904e-03, 3.84486649e-03,\n",
       "        3.97620900e-03, 4.10545827e-03, 4.23341145e-03, 4.35934595e-03,\n",
       "        4.48337435e-03, 4.60705806e-03, 4.72992532e-03, 4.85214829e-03,\n",
       "        4.97213444e-03, 5.09086339e-03, 5.20985613e-03, 5.32807318e-03,\n",
       "        5.44649348e-03, 5.56513892e-03, 5.68289525e-03, 5.79926146e-03,\n",
       "        5.91441073e-03, 6.03022167e-03, 6.14601744e-03, 6.26187086e-03,\n",
       "        6.37763643e-03, 6.49335093e-03, 6.60911201e-03, 6.72285951e-03,\n",
       "        6.83523205e-03, 6.94516137e-03],\n",
       "       [0.00000000e+00, 3.81011696e-05, 6.63480472e-05, 9.08283950e-05,\n",
       "        1.11608916e-04, 1.28961917e-04, 1.43117070e-04, 1.54378581e-04,\n",
       "        1.62965573e-04, 1.68807849e-04, 1.72083104e-04, 1.72771614e-04,\n",
       "        1.71451871e-04, 1.69017709e-04, 1.67279461e-04, 1.67999947e-04,\n",
       "        1.72484773e-04, 1.82070119e-04, 1.97013654e-04, 2.18213513e-04,\n",
       "        2.45386384e-04, 2.78308114e-04, 3.16685666e-04, 3.59394176e-04,\n",
       "        4.05723238e-04, 4.55303124e-04, 5.07797767e-04, 5.63375409e-04,\n",
       "        6.21953923e-04, 6.83359420e-04, 7.47266376e-04, 8.13191664e-04,\n",
       "        8.80668217e-04, 9.49907949e-04, 1.02100363e-03, 1.09367983e-03,\n",
       "        1.16728182e-03, 1.24151228e-03, 1.31605500e-03, 1.39072149e-03,\n",
       "        1.46528156e-03, 1.53968157e-03, 1.61382819e-03, 1.68765795e-03,\n",
       "        1.76069998e-03, 1.83247106e-03, 1.90267483e-03, 1.97176974e-03,\n",
       "        2.03987977e-03, 2.10685669e-03],\n",
       "       [0.00000000e+00, 1.24451188e-04, 2.31130460e-04, 3.31695411e-04,\n",
       "        4.28673898e-04, 5.26128560e-04, 6.23711989e-04, 7.23473409e-04,\n",
       "        8.23189441e-04, 9.21012094e-04, 1.01796926e-03, 1.11479251e-03,\n",
       "        1.20893903e-03, 1.30163967e-03, 1.39146941e-03, 1.47922951e-03,\n",
       "        1.56442051e-03, 1.64667560e-03, 1.72549660e-03, 1.80151055e-03,\n",
       "        1.87380946e-03, 1.94239788e-03, 2.00715292e-03, 2.06892837e-03,\n",
       "        2.12701617e-03, 2.18279239e-03, 2.23641579e-03, 2.28759230e-03,\n",
       "        2.33620393e-03, 2.38200404e-03, 2.42492737e-03, 2.46514719e-03,\n",
       "        2.50100488e-03, 2.53233072e-03, 2.56019193e-03, 2.58420670e-03,\n",
       "        2.60513820e-03, 2.62256557e-03, 2.63697852e-03, 2.64741221e-03,\n",
       "        2.65560062e-03, 2.66150865e-03, 2.66409375e-03, 2.66448407e-03,\n",
       "        2.66170269e-03, 2.65734178e-03, 2.65079179e-03, 2.64214929e-03,\n",
       "        2.63330392e-03, 2.62324044e-03],\n",
       "       [0.00000000e+00, 1.31763498e-05, 1.98259932e-05, 2.42685218e-05,\n",
       "        3.29947473e-05, 4.32881110e-05, 5.05825923e-05, 5.79040256e-05,\n",
       "        6.72877217e-05, 7.43784677e-05, 8.29101291e-05, 9.07200051e-05,\n",
       "        9.71973359e-05, 1.03171663e-04, 1.08202271e-04, 1.12084269e-04,\n",
       "        1.16003239e-04, 1.20649287e-04, 1.25528936e-04, 1.29483895e-04,\n",
       "        1.33648577e-04, 1.37288966e-04, 1.40284644e-04, 1.42846045e-04,\n",
       "        1.45655959e-04, 1.48347050e-04, 1.50926078e-04, 1.52871045e-04,\n",
       "        1.54888650e-04, 1.56811490e-04, 1.58914261e-04, 1.61155760e-04,\n",
       "        1.62915693e-04, 1.64473860e-04, 1.66089664e-04, 1.67205571e-04,\n",
       "        1.68022599e-04, 1.68828874e-04, 1.69435232e-04, 1.69978792e-04,\n",
       "        1.70412336e-04, 1.70721673e-04, 1.70810774e-04, 1.70595712e-04,\n",
       "        1.70105440e-04, 1.69393854e-04, 1.68368049e-04, 1.67091890e-04,\n",
       "        1.65675352e-04, 1.64113448e-04]])"
      ]
     },
     "execution_count": 210,
     "metadata": {},
     "output_type": "execute_result"
    }
   ],
   "source": [
    "ratio_pk_list"
   ]
  },
  {
   "cell_type": "code",
   "execution_count": 211,
   "id": "a97a2f25",
   "metadata": {},
   "outputs": [],
   "source": [
    "ratio_pk_list_min = np.quantile(ratio_pk_list, q=q_min, axis=0)\n",
    "ratio_linear_list_min = np.quantile(ratio_linear_list, q=q_min, axis=0)\n",
    "ratio_bilinear_list_min = np.quantile(ratio_bilinear_list, q=q_min, axis=0)\n",
    "# ratio_dmdc_list_min = np.quantile(ratio_dmdc_list, q=q_min, axis=0)\n",
    "ratio_pk_faker_list_min = np.quantile(ratio_pk_faker_list, q=q_min, axis=0)"
   ]
  },
  {
   "cell_type": "code",
   "execution_count": 212,
   "id": "d34f9a5c",
   "metadata": {},
   "outputs": [],
   "source": [
    "ratio_pk_list_max = np.quantile(ratio_pk_list, q=q_max, axis=0)\n",
    "ratio_linear_list_max = np.quantile(ratio_linear_list, q=q_max, axis=0)\n",
    "ratio_bilinear_list_max = np.quantile(ratio_bilinear_list, q=q_max, axis=0)\n",
    "# ratio_dmdc_list_max = np.quantile(ratio_dmdc_list, q=q_max, axis=0)\n",
    "ratio_pk_faker_list_max = np.quantile(ratio_pk_faker_list, q=q_max, axis=0)"
   ]
  },
  {
   "cell_type": "code",
   "execution_count": 213,
   "id": "b05843d9",
   "metadata": {},
   "outputs": [],
   "source": [
    "x_axis = np.arange(0, traj_len_test, 1)"
   ]
  },
  {
   "cell_type": "code",
   "execution_count": 214,
   "id": "cb16eaf8",
   "metadata": {},
   "outputs": [
    {
     "data": {
      "text/plain": [
       "<matplotlib.legend.Legend at 0x7f69703d0eb0>"
      ]
     },
     "execution_count": 214,
     "metadata": {},
     "output_type": "execute_result"
    },
    {
     "data": {
      "image/png": "[encoded data removed]",
      "text/plain": [
       "<Figure size 432x288 with 1 Axes>"
      ]
     },
     "metadata": {
      "needs_background": "light"
     },
     "output_type": "display_data"
    }
   ],
   "source": [
    "plt.figure(figsize=(6, 4))\n",
    "\n",
    "plt.plot(ratio_pk_list_median, label=\"Ours\", color=\"steelblue\", linewidth=3)\n",
    "plt.fill_between(x_axis, ratio_pk_list_min, ratio_pk_list_max, color=\"lightsteelblue\", alpha=0.5)\n",
    "plt.plot(ratio_linear_list_median, label=\"M2\", color=\"darkorange\", linewidth=3)\n",
    "plt.fill_between(\n",
    "    x_axis, ratio_linear_list_min, ratio_linear_list_max, color=\"navajowhite\", alpha=0.5\n",
    ")\n",
    "plt.plot(ratio_bilinear_list_median, label=\"M3\", color=\"forestgreen\", linewidth=3)\n",
    "plt.fill_between(\n",
    "    x_axis, ratio_bilinear_list_min, ratio_bilinear_list_max, color=\"darkseagreen\", alpha=0.5\n",
    ")\n",
    "\n",
    "plt.plot(ratio_pk_faker_list_median, label=\"PKNN-Faker\", color=\"red\", linewidth=3)\n",
    "plt.fill_between(x_axis, ratio_pk_faker_list_min, ratio_pk_faker_list_max, color=\"pink\", alpha=0.5)\n",
    "\n",
    "\n",
    "plt.ticklabel_format(axis=\"y\", style=\"sci\", scilimits=(0, 0))\n",
    "plt.gca().yaxis.get_offset_text().set_fontsize(18)\n",
    "\n",
    "plt.xlabel(r\"$n$\", fontsize=28)\n",
    "plt.ylabel(\"Error\", fontsize=28)\n",
    "plt.xticks(fontsize=18)\n",
    "plt.yticks(fontsize=18)\n",
    "plt.legend(fontsize=18)"
   ]
  },
  {
   "cell_type": "code",
   "execution_count": 177,
   "id": "d791af51",
   "metadata": {},
   "outputs": [],
   "source": [
    "dict_mean = {\n",
    "    \"pk\": ratio_pk_list_mean,\n",
    "    \"linear\": ratio_linear_list_mean,\n",
    "    \"bilinear\": ratio_bilinear_list_mean,\n",
    "}"
   ]
  },
  {
   "cell_type": "code",
   "execution_count": null,
   "id": "451aa001",
   "metadata": {},
   "outputs": [],
   "source": []
  },
  {
   "cell_type": "code",
   "execution_count": null,
   "id": "46a386ad",
   "metadata": {},
   "outputs": [],
   "source": []
  },
  {
   "cell_type": "code",
   "execution_count": null,
   "id": "7302b6f2",
   "metadata": {},
   "outputs": [],
   "source": [
    "# np.save(os.path.join(data_path, \"ratio_list_dict_mu_\" + str(mu) + \"_mean.npy\"), dict_mean)"
   ]
  },
  {
   "cell_type": "markdown",
   "id": "7153fe7f",
   "metadata": {},
   "source": [
    "# See the comparison\n",
    "If you have tested on all $\\mu: 0,1,2,3,4$, then you can run the following codes to see the comparison."
   ]
  },
  {
   "cell_type": "code",
   "execution_count": null,
   "id": "aa38bf34",
   "metadata": {},
   "outputs": [],
   "source": [
    "import matplotlib.pyplot as plt\n",
    "import numpy as np\n",
    "\n",
    "mean_dict_mu_0 = np.load(\n",
    "    os.path.join(data_path, \"ratio_list_dict_mu_0_mean.npy\"), allow_pickle=True\n",
    ")\n",
    "mean_dict_mu_1 = np.load(\n",
    "    os.path.join(data_path, \"ratio_list_dict_mu_1_mean.npy\"), allow_pickle=True\n",
    ")\n",
    "mean_dict_mu_2 = np.load(\n",
    "    os.path.join(data_path, \"ratio_list_dict_mu_2_mean.npy\"), allow_pickle=True\n",
    ")\n",
    "mean_dict_mu_3 = np.load(\n",
    "    os.path.join(data_path, \"ratio_list_dict_mu_3_mean.npy\"), allow_pickle=True\n",
    ")\n",
    "mean_dict_mu_4 = np.load(\n",
    "    os.path.join(data_path, \"ratio_list_dict_mu_4_mean.npy\"), allow_pickle=True\n",
    ")\n",
    "\n",
    "\n",
    "def extact_data(ratio_dict, ratio_name):\n",
    "    ratio_pk = ratio_dict[()][ratio_name[0]].reshape((1, -1))\n",
    "    ratio_linear = ratio_dict[()][ratio_name[1]].reshape((1, -1))\n",
    "    ratio_bilinear = ratio_dict[()][ratio_name[2]].reshape((1, -1))\n",
    "    return ratio_pk, ratio_linear, ratio_bilinear\n",
    "\n",
    "\n",
    "mean_dict_list = [mean_dict_mu_0, mean_dict_mu_1, mean_dict_mu_2, mean_dict_mu_3, mean_dict_mu_4]\n",
    "\n",
    "ratio_pk_list = []\n",
    "ratio_linear_list = []\n",
    "ratio_bilinear_list = []\n",
    "\n",
    "ratio_name_list = [\"pk\", \"linear\", \"bilinear\"]\n",
    "\n",
    "\n",
    "def concat_ratio_list(ratio_list):\n",
    "    ratio_concat = np.concatenate(ratio_list, axis=0)\n",
    "    ratio_concat = ratio_concat.T\n",
    "    return ratio_concat\n",
    "\n",
    "\n",
    "def concat_data(dict_list):\n",
    "    pk_list = []\n",
    "    linear_list = []\n",
    "    bilinear_list = []\n",
    "\n",
    "    for i in range(5):\n",
    "        pk, linear, bilinear = extact_data(dict_list[i], ratio_name=ratio_name_list)\n",
    "        pk_list.append(pk)\n",
    "        linear_list.append(linear)\n",
    "        bilinear_list.append(bilinear)\n",
    "\n",
    "    pk_concat = concat_ratio_list(pk_list)\n",
    "    linear_concat = concat_ratio_list(linear_list)\n",
    "    bilinear_concat = concat_ratio_list(bilinear_list)\n",
    "\n",
    "    return pk_concat, linear_concat, bilinear_concat\n",
    "\n",
    "\n",
    "mean_pk, mean_linear, mean_bilinear = concat_data(mean_dict_list)\n",
    "\n",
    "mean_linear_mean = np.mean(mean_linear, axis=0)\n",
    "mean_bilinear_mean = np.mean(mean_bilinear, axis=0)\n",
    "mean_pk_mean = np.mean(mean_pk, axis=0)\n",
    "\n",
    "mu = [0, 1, 2, 3, 4]\n",
    "mu_axis = list(range(len(mu)))\n",
    "\n",
    "\n",
    "def plot_evaluate_vdpm(mu, mean, dict_plot):\n",
    "    plt.plot(\n",
    "        mu,\n",
    "        mean,\n",
    "        label=dict_plot[\"label\"],\n",
    "        marker=dict_plot[\"marker\"],\n",
    "        markersize=dict_plot[\"markersize\"],\n",
    "        color=dict_plot[\"color\"],\n",
    "        linestyle=dict_plot[\"linestyle\"],\n",
    "        linewidth=dict_plot[\"linewidth\"],\n",
    "    )\n",
    "\n",
    "\n",
    "label_font = 24\n",
    "ticks_font = 18\n",
    "legend_font = 22\n",
    "\n",
    "\n",
    "dict_plot_pk = {\n",
    "    \"label\": \"Ours\",\n",
    "    \"marker\": \"*\",\n",
    "    \"markersize\": 10,\n",
    "    \"color\": \"steelblue\",\n",
    "    \"linestyle\": \"-\",\n",
    "    \"linewidth\": 3,\n",
    "}\n",
    "\n",
    "dict_plot_linear = {\n",
    "    \"label\": \"M2\",\n",
    "    \"marker\": \"s\",\n",
    "    \"markersize\": 10,\n",
    "    \"color\": \"darkorange\",\n",
    "    \"linestyle\": \"-\",\n",
    "    \"linewidth\": 3,\n",
    "}\n",
    "\n",
    "dict_plot_bilinear = {\n",
    "    \"label\": \"M3\",\n",
    "    \"marker\": \"o\",\n",
    "    \"markersize\": 10,\n",
    "    \"color\": \"forestgreen\",\n",
    "    \"linestyle\": \"-\",\n",
    "    \"linewidth\": 3,\n",
    "}\n",
    "\n",
    "plt.figure(figsize=(15, 4))\n",
    "plot_evaluate_vdpm(mu, mean_pk_mean, dict_plot=dict_plot_pk)\n",
    "plot_evaluate_vdpm(mu, mean_linear_mean, dict_plot=dict_plot_linear)\n",
    "\n",
    "plot_evaluate_vdpm(mu, mean_bilinear_mean, dict_plot=dict_plot_bilinear)\n",
    "\n",
    "plt.xlabel(r\"$\\mu$\", loc=\"right\", fontsize=label_font)\n",
    "plt.ylabel(\"Error\", fontsize=label_font)\n",
    "plt.xticks(mu_axis, mu, fontsize=ticks_font)\n",
    "plt.yticks(fontsize=ticks_font)\n",
    "plt.legend(fontsize=legend_font)"
   ]
  },
  {
   "cell_type": "code",
   "execution_count": null,
   "id": "0d5d9a91",
   "metadata": {},
   "outputs": [],
   "source": []
  }
 ],
 "metadata": {
  "kernelspec": {
   "display_name": "koopman",
   "language": "python",
   "name": "python3"
  },
  "language_info": {
   "codemirror_mode": {
    "name": "ipython",
    "version": 3
   },
   "file_extension": ".py",
   "mimetype": "text/x-python",
   "name": "python",
   "nbconvert_exporter": "python",
   "pygments_lexer": "ipython3",
   "version": "3.8.8"
  }
 },
 "nbformat": 4,
 "nbformat_minor": 5
}
