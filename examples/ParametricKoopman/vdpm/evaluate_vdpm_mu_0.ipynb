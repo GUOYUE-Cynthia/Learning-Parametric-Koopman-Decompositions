{
 "cells": [
  {
   "cell_type": "code",
   "execution_count": 2,
   "id": "a3902974",
   "metadata": {},
   "outputs": [],
   "source": [
    "import os\n",
    "\n",
    "os.environ[\"CUDA_VISIBLE_DEVICES\"] = \"-1\""
   ]
  },
  {
   "cell_type": "code",
   "execution_count": 3,
   "id": "de85dd8b",
   "metadata": {},
   "outputs": [],
   "source": [
    "%load_ext autoreload\n",
    "%autoreload 2"
   ]
  },
  {
   "cell_type": "code",
   "execution_count": 4,
   "id": "20eb0b2f",
   "metadata": {},
   "outputs": [
    {
     "name": "stderr",
     "output_type": "stream",
     "text": [
      "2024-03-20 19:32:17.784396: I tensorflow/core/platform/cpu_feature_guard.cc:193] This TensorFlow binary is optimized with oneAPI Deep Neural Network Library (oneDNN) to use the following CPU instructions in performance-critical operations:  AVX2 AVX512F AVX512_VNNI FMA\n",
      "To enable them in other operations, rebuild TensorFlow with the appropriate compiler flags.\n",
      "2024-03-20 19:32:18.128474: I tensorflow/core/util/port.cc:104] oneDNN custom operations are on. You may see slightly different numerical results due to floating-point round-off errors from different computation orders. To turn them off, set the environment variable `TF_ENABLE_ONEDNN_OPTS=0`.\n",
      "2024-03-20 19:32:19.655677: W tensorflow/compiler/xla/stream_executor/platform/default/dso_loader.cc:64] Could not load dynamic library 'libnvinfer.so.7'; dlerror: libnvrtc.so.10.2: cannot open shared object file: No such file or directory; LD_LIBRARY_PATH: /usr/local/cuda-11.1/lib64:\n",
      "2024-03-20 19:32:19.655934: W tensorflow/compiler/xla/stream_executor/platform/default/dso_loader.cc:64] Could not load dynamic library 'libnvinfer_plugin.so.7'; dlerror: libnvrtc.so.10.2: cannot open shared object file: No such file or directory; LD_LIBRARY_PATH: /usr/local/cuda-11.1/lib64:\n",
      "2024-03-20 19:32:19.655952: W tensorflow/compiler/tf2tensorrt/utils/py_utils.cc:38] TF-TRT Warning: Cannot dlopen some TensorRT libraries. If you would like to use Nvidia GPU with TensorRT, please make sure the missing libraries mentioned above are installed properly.\n"
     ]
    }
   ],
   "source": [
    "import numpy as np\n",
    "import tensorflow as tf"
   ]
  },
  {
   "cell_type": "code",
   "execution_count": 5,
   "id": "20434742",
   "metadata": {},
   "outputs": [],
   "source": [
    "import json\n",
    "import sys"
   ]
  },
  {
   "cell_type": "code",
   "execution_count": 6,
   "id": "b57cf3bc",
   "metadata": {},
   "outputs": [],
   "source": [
    "from tensorflow.keras.layers import Dense, Input, Layer\n",
    "from tensorflow.keras.models import Model\n",
    "from tensorflow.keras.optimizers import Adam"
   ]
  },
  {
   "cell_type": "code",
   "execution_count": 7,
   "id": "a68ff93e",
   "metadata": {},
   "outputs": [],
   "source": [
    "import matplotlib.pyplot as plt"
   ]
  },
  {
   "cell_type": "code",
   "execution_count": 8,
   "id": "46c614f7",
   "metadata": {},
   "outputs": [],
   "source": [
    "from koopmanlib.dictionary import PsiNN\n",
    "from koopmanlib.param_solver import (\n",
    "    KoopmanBilinearDLSolver,\n",
    "    KoopmanLinearDLSolver,\n",
    "    KoopmanParametricDLSolver,\n",
    ")\n",
    "from koopmanlib.target import VanderPolMathieuTarget"
   ]
  },
  {
   "cell_type": "code",
   "execution_count": 9,
   "id": "e707adcb",
   "metadata": {},
   "outputs": [],
   "source": [
    "config_file = \"config_vdpm.json\"\n",
    "\n",
    "index = 0\n",
    "with open(config_file, \"r\") as f:\n",
    "    config = json.load(f)\n",
    "\n",
    "data_path = config[\"data_settings\"][\"data_path\"]\n",
    "weights_path = config[\"nn_settings\"][\"weights_path\"]\n",
    "figures_path = config[\"data_settings\"][\"figures_path\"]\n",
    "\n",
    "\n",
    "n_traj = config[\"data_settings\"][\"n_traj\"]\n",
    "traj_len = config[\"data_settings\"][\"traj_len\"]\n",
    "mu = config[\"data_settings\"][\"mu\"][index]\n",
    "\n",
    "n_psi_train = config[\"nn_settings\"][\"n_psi_train\"]\n",
    "dict_layer_size = config[\"nn_settings\"][\"dict_layer_size\"]\n",
    "K_layer_size = config[\"nn_settings\"][\"K_layer_size\"][index]"
   ]
  },
  {
   "cell_type": "code",
   "execution_count": 10,
   "id": "d2d87a06",
   "metadata": {},
   "outputs": [
    {
     "data": {
      "text/plain": [
       "[64, 64]"
      ]
     },
     "execution_count": 10,
     "metadata": {},
     "output_type": "execute_result"
    }
   ],
   "source": [
    "dict_layer_size"
   ]
  },
  {
   "cell_type": "code",
   "execution_count": 11,
   "id": "cd69951e",
   "metadata": {},
   "outputs": [
    {
     "name": "stdout",
     "output_type": "stream",
     "text": [
      "mu 0\n",
      "K_layer_size [128]\n"
     ]
    }
   ],
   "source": [
    "print(\"mu\", mu)\n",
    "print(\"K_layer_size\", K_layer_size)"
   ]
  },
  {
   "cell_type": "code",
   "execution_count": 12,
   "id": "3719b75b",
   "metadata": {},
   "outputs": [],
   "source": [
    "target_dim = 2\n",
    "param_dim = 1\n",
    "\n",
    "n_psi = 1 + target_dim + n_psi_train"
   ]
  },
  {
   "cell_type": "code",
   "execution_count": 13,
   "id": "fc8d2ef1",
   "metadata": {},
   "outputs": [
    {
     "data": {
      "text/plain": [
       "13"
      ]
     },
     "execution_count": 13,
     "metadata": {},
     "output_type": "execute_result"
    }
   ],
   "source": [
    "n_psi"
   ]
  },
  {
   "cell_type": "code",
   "execution_count": 14,
   "id": "6db408fa",
   "metadata": {},
   "outputs": [],
   "source": [
    "# Set parameters in the vdpm equation.\n",
    "k1, k2, k4, w0 = 2, 2, 1, 1"
   ]
  },
  {
   "cell_type": "code",
   "execution_count": 15,
   "id": "348b3466",
   "metadata": {},
   "outputs": [],
   "source": [
    "# Load data\n",
    "dict_data = np.load(\n",
    "    os.path.join(data_path, \"vdpm_data_mu_\" + str(mu) + \".npy\"), allow_pickle=True\n",
    ")\n",
    "\n",
    "data_x = dict_data[()][\"data_x\"]\n",
    "data_y = dict_data[()][\"data_y\"]\n",
    "data_u = dict_data[()][\"data_u\"]"
   ]
  },
  {
   "cell_type": "code",
   "execution_count": 16,
   "id": "7ba3c3ca",
   "metadata": {},
   "outputs": [],
   "source": [
    "vdp_mathieu = VanderPolMathieuTarget(\n",
    "    mu=mu, dim=target_dim, param_dim=param_dim, k1=k1, k2=k2, k4=k4, w0=w0\n",
    ")"
   ]
  },
  {
   "cell_type": "code",
   "execution_count": 17,
   "id": "a74259c0",
   "metadata": {},
   "outputs": [],
   "source": [
    "dic_pk = PsiNN(layer_sizes=dict_layer_size, n_psi_train=n_psi_train)"
   ]
  },
  {
   "cell_type": "markdown",
   "id": "8733042d",
   "metadata": {},
   "source": [
    "# Set Linear weights into PKNN\n",
    "## Design the activation function\n"
   ]
  },
  {
   "cell_type": "code",
   "execution_count": 18,
   "id": "88255302",
   "metadata": {},
   "outputs": [],
   "source": [
    "\n",
    "@tf.function\n",
    "def hard_tanh(x):\n",
    "    return tf.clip_by_value(x, clip_value_min=-1., clip_value_max=1.)"
   ]
  },
  {
   "cell_type": "code",
   "execution_count": 19,
   "id": "fb6462d6",
   "metadata": {},
   "outputs": [
    {
     "name": "stderr",
     "output_type": "stream",
     "text": [
      "2024-03-20 19:32:28.089799: E tensorflow/compiler/xla/stream_executor/cuda/cuda_driver.cc:267] failed call to cuInit: CUDA_ERROR_NO_DEVICE: no CUDA-capable device is detected\n",
      "2024-03-20 19:32:28.089935: I tensorflow/compiler/xla/stream_executor/cuda/cuda_diagnostics.cc:169] retrieving CUDA diagnostic information for host: neon\n",
      "2024-03-20 19:32:28.089944: I tensorflow/compiler/xla/stream_executor/cuda/cuda_diagnostics.cc:176] hostname: neon\n",
      "2024-03-20 19:32:28.090341: I tensorflow/compiler/xla/stream_executor/cuda/cuda_diagnostics.cc:200] libcuda reported version is: 470.239.6\n",
      "2024-03-20 19:32:28.090398: I tensorflow/compiler/xla/stream_executor/cuda/cuda_diagnostics.cc:204] kernel reported version is: 470.239.6\n",
      "2024-03-20 19:32:28.090404: I tensorflow/compiler/xla/stream_executor/cuda/cuda_diagnostics.cc:310] kernel version seems to match DSO: 470.239.6\n",
      "2024-03-20 19:32:28.092019: I tensorflow/core/platform/cpu_feature_guard.cc:193] This TensorFlow binary is optimized with oneAPI Deep Neural Network Library (oneDNN) to use the following CPU instructions in performance-critical operations:  AVX2 AVX512F AVX512_VNNI FMA\n",
      "To enable them in other operations, rebuild TensorFlow with the appropriate compiler flags.\n"
     ]
    },
    {
     "data": {
      "text/plain": [
       "<tf.Tensor: shape=(50000, 1), dtype=float64, numpy=\n",
       "array([[-0.16595599],\n",
       "       [ 0.44064899],\n",
       "       [-0.99977125],\n",
       "       ...,\n",
       "       [ 0.52979385],\n",
       "       [-0.92560571],\n",
       "       [ 0.7583709 ]])>"
      ]
     },
     "execution_count": 19,
     "metadata": {},
     "output_type": "execute_result"
    }
   ],
   "source": [
    "hard_tanh(data_u)"
   ]
  },
  {
   "cell_type": "code",
   "execution_count": 20,
   "id": "40e8c875",
   "metadata": {},
   "outputs": [
    {
     "data": {
      "text/plain": [
       "array([[-0.16595599],\n",
       "       [ 0.44064899],\n",
       "       [-0.99977125],\n",
       "       ...,\n",
       "       [ 0.52979385],\n",
       "       [-0.92560571],\n",
       "       [ 0.7583709 ]])"
      ]
     },
     "execution_count": 20,
     "metadata": {},
     "output_type": "execute_result"
    }
   ],
   "source": [
    "data_u"
   ]
  },
  {
   "cell_type": "code",
   "execution_count": 21,
   "id": "2a59f6d0",
   "metadata": {},
   "outputs": [],
   "source": [
    "from koopmanlib.K_structure import Model_K_u_Layer_One\n",
    "\n",
    "model_K_u = Model_K_u_Layer_One(layer_sizes=K_layer_size, n_psi=n_psi, activation=hard_tanh)\n",
    "\n",
    "solver_pk = KoopmanParametricDLSolver(\n",
    "    target_dim=target_dim, param_dim=param_dim, n_psi=n_psi, dic=dic_pk, model_K_u=model_K_u\n",
    ")\n",
    "\n",
    "model_pk, model_K_u_pred_pk = solver_pk.generate_model()"
   ]
  },
  {
   "cell_type": "code",
   "execution_count": 22,
   "id": "c23951cb",
   "metadata": {},
   "outputs": [
    {
     "data": {
      "application/vnd.jupyter.widget-view+json": {
       "model_id": "7cadab8338cf4bf78b97b24c2fa30e27",
       "version_major": 2,
       "version_minor": 0
      },
      "text/plain": [
       "0epoch [00:00, ?epoch/s]"
      ]
     },
     "metadata": {},
     "output_type": "display_data"
    },
    {
     "data": {
      "application/vnd.jupyter.widget-view+json": {
       "model_id": "be3c8908a57d4770bf58c8acbd6f0079",
       "version_major": 2,
       "version_minor": 0
      },
      "text/plain": [
       "0batch [00:00, ?batch/s]"
      ]
     },
     "metadata": {},
     "output_type": "display_data"
    }
   ],
   "source": [
    "zeros_data_y_train = tf.zeros_like(dic_pk(data_y))\n",
    "\n",
    "model_pk.compile(optimizer=Adam(0.001), loss=\"mse\")\n",
    "\n",
    "\n",
    "lr_callback = tf.keras.callbacks.ReduceLROnPlateau(\n",
    "    monitor=\"loss\",\n",
    "    factor=0.1,\n",
    "    patience=100,\n",
    "    verbose=0,\n",
    "    mode=\"auto\",\n",
    "    min_delta=1e-4,\n",
    "    cooldown=0,\n",
    "    min_lr=1e-10,\n",
    ")\n",
    "\n",
    "# Define the early stopping criteria\n",
    "es_callback = tf.keras.callbacks.EarlyStopping(\n",
    "    monitor=\"val_loss\", min_delta=1e-12, patience=50, verbose=1, mode=\"auto\"\n",
    ")\n",
    "\n",
    "checkpoint_path = os.path.join(weights_path, \"hardtanh_model_pk_vdpm_mu_\" + str(mu) + \".h5\")\n",
    "checkpoint_callback = tf.keras.callbacks.ModelCheckpoint(\n",
    "    filepath=checkpoint_path,\n",
    "    monitor=\"val_loss\",\n",
    "    save_best_only=True,\n",
    "    save_weights_only=True,\n",
    "    mode=\"min\",\n",
    "    save_freq=\"epoch\",\n",
    ")\n",
    "\n",
    "from tqdm.keras import TqdmCallback\n",
    "# Define the TqdmCallback for progress bar\n",
    "tqdm_callback = TqdmCallback(verbose=1)\n",
    "\n",
    "# Add early_stopping to the list of callbacks\n",
    "callbacks = [lr_callback, checkpoint_callback, tqdm_callback]\n"
   ]
  },
  {
   "cell_type": "code",
   "execution_count": 23,
   "id": "2b40143c",
   "metadata": {},
   "outputs": [],
   "source": [
    "\n",
    "# pknn_epochs = config[\"nn_settings\"][\"pknn_epochs\"]\n",
    "\n",
    "# history_pk = model_pk.fit(\n",
    "# x=[data_x, data_y, data_u],\n",
    "# y=zeros_data_y_train,\n",
    "# validation_split=0.2,\n",
    "# epochs=pknn_epochs,\n",
    "# batch_size=200,\n",
    "# callbacks=callbacks,\n",
    "# verbose=0,\n",
    "# )\n"
   ]
  },
  {
   "cell_type": "code",
   "execution_count": 24,
   "id": "0fa0c7db",
   "metadata": {},
   "outputs": [],
   "source": [
    "model_pk.load_weights(os.path.join(weights_path, \"hardtanh_model_pk_vdpm_mu_\" + str(mu) + \".h5\"))"
   ]
  },
  {
   "cell_type": "code",
   "execution_count": null,
   "id": "cf3b840b",
   "metadata": {},
   "outputs": [],
   "source": []
  },
  {
   "cell_type": "markdown",
   "id": "c54d508e",
   "metadata": {},
   "source": [
    "# DMDc"
   ]
  },
  {
   "cell_type": "code",
   "execution_count": 25,
   "id": "30684fb8",
   "metadata": {},
   "outputs": [],
   "source": [
    "# dic_dmdc = PsiNN(n_psi_train=0, add_constant=False)\n",
    "# solver_dmdc = KoopmanLinearDLSolver(\n",
    "#     dic=dic_dmdc, target_dim=target_dim, param_dim=param_dim, n_psi=target_dim\n",
    "# )\n",
    "# model_dmdc, model_K_u_pred_dmdc = solver_dmdc.build_model()\n",
    "# dic_dmdc.generate_B(data_x)"
   ]
  },
  {
   "cell_type": "markdown",
   "id": "81f0de77",
   "metadata": {},
   "source": [
    "# Linear Model: Dynamics is $Az +Bu$"
   ]
  },
  {
   "cell_type": "code",
   "execution_count": 26,
   "id": "9ed53098",
   "metadata": {},
   "outputs": [],
   "source": [
    "dic_linear = PsiNN(layer_sizes=dict_layer_size, n_psi_train=n_psi_train)"
   ]
  },
  {
   "cell_type": "code",
   "execution_count": 27,
   "id": "40ffb512",
   "metadata": {},
   "outputs": [],
   "source": [
    "solver_linear = KoopmanLinearDLSolver(\n",
    "    dic=dic_linear, target_dim=target_dim, param_dim=param_dim, n_psi=n_psi\n",
    ")\n",
    "model_linear, model_K_u_pred_linear = solver_linear.build_model()"
   ]
  },
  {
   "cell_type": "code",
   "execution_count": 28,
   "id": "0f70e996",
   "metadata": {},
   "outputs": [],
   "source": [
    "model_linear.load_weights(os.path.join(weights_path, \"model_linear_vdpm_mu_\" + str(mu) + \".h5\"))"
   ]
  },
  {
   "cell_type": "markdown",
   "id": "c71e618a",
   "metadata": {},
   "source": [
    "## Try to set Linear weights"
   ]
  },
  {
   "cell_type": "code",
   "execution_count": 29,
   "id": "61670951",
   "metadata": {},
   "outputs": [],
   "source": [
    "dic_pk_faker = PsiNN(layer_sizes=dict_layer_size, n_psi_train=n_psi_train)\n",
    "dic_pk_faker(data_x)\n",
    "\n",
    "# Set weigths in dictionary the same as linear Koopman model\n",
    "dic_pk_faker.set_weights(dic_linear.get_weights())"
   ]
  },
  {
   "cell_type": "code",
   "execution_count": 30,
   "id": "5541559b",
   "metadata": {},
   "outputs": [],
   "source": [
    "# Set updated dictionary into PKNN, then build model_pk_faker\n",
    "model_K_u_faker = Model_K_u_Layer_One(layer_sizes=K_layer_size, n_psi=n_psi, activation=hard_tanh)\n",
    "\n",
    "solver_pk_faker = KoopmanParametricDLSolver(\n",
    "    target_dim=target_dim, param_dim=param_dim, n_psi=n_psi, dic=dic_pk_faker, model_K_u=model_K_u_faker\n",
    ")\n",
    "\n",
    "model_pk_faker, model_K_u_pred_pk_faker = solver_pk_faker.generate_model()"
   ]
  },
  {
   "cell_type": "code",
   "execution_count": 31,
   "id": "58f21cee",
   "metadata": {},
   "outputs": [],
   "source": [
    "# Extract weights from linear Koopman model\n",
    "K_linear_weights = model_linear.get_layer('K_u_linear_pred').weights"
   ]
  },
  {
   "cell_type": "code",
   "execution_count": 32,
   "id": "4d7fe983",
   "metadata": {},
   "outputs": [
    {
     "data": {
      "text/plain": [
       "4"
      ]
     },
     "execution_count": 32,
     "metadata": {},
     "output_type": "execute_result"
    }
   ],
   "source": [
    "len(model_pk_faker.get_layer('K_u_pred').weights)"
   ]
  },
  {
   "cell_type": "code",
   "execution_count": 33,
   "id": "160a5f4c",
   "metadata": {},
   "outputs": [
    {
     "data": {
      "text/plain": [
       "<tf.Variable 'UnreadVariable' shape=(128,) dtype=float64, numpy=\n",
       "array([0., 0., 0., 0., 0., 0., 0., 0., 0., 0., 0., 0., 0., 0., 0., 0., 0.,\n",
       "       0., 0., 0., 0., 0., 0., 0., 0., 0., 0., 0., 0., 0., 0., 0., 0., 0.,\n",
       "       0., 0., 0., 0., 0., 0., 0., 0., 0., 0., 0., 0., 0., 0., 0., 0., 0.,\n",
       "       0., 0., 0., 0., 0., 0., 0., 0., 0., 0., 0., 0., 0., 0., 0., 0., 0.,\n",
       "       0., 0., 0., 0., 0., 0., 0., 0., 0., 0., 0., 0., 0., 0., 0., 0., 0.,\n",
       "       0., 0., 0., 0., 0., 0., 0., 0., 0., 0., 0., 0., 0., 0., 0., 0., 0.,\n",
       "       0., 0., 0., 0., 0., 0., 0., 0., 0., 0., 0., 0., 0., 0., 0., 0., 0.,\n",
       "       0., 0., 0., 0., 0., 0., 0., 0., 0.])>"
      ]
     },
     "execution_count": 33,
     "metadata": {},
     "output_type": "execute_result"
    }
   ],
   "source": [
    "# Consider the hidden layers in K(u)\n",
    "# weights and bias, somehow set weights as identity mappings and bias are zeros\n",
    "hidden_dense_kernel = model_pk_faker.get_layer('K_u_pred').weights[0]\n",
    "model_pk_faker.get_layer('K_u_pred').weights[0].assign(\n",
    "    tf.Variable(tf.constant([([1.0] * hidden_dense_kernel.shape[1] if i == 0 else [0.0] * hidden_dense_kernel.shape[1]) for i in range(hidden_dense_kernel.shape[0])], dtype='float64'))\n",
    "    )\n",
    "model_pk_faker.get_layer('K_u_pred').weights[1].assign(\n",
    "    tf.zeros_like(model_pk_faker.get_layer('K_u_pred').weights[1])\n",
    "    )"
   ]
  },
  {
   "cell_type": "code",
   "execution_count": 34,
   "id": "7c617091",
   "metadata": {},
   "outputs": [
    {
     "data": {
      "text/plain": [
       "<tf.Variable 'UnreadVariable' shape=(156,) dtype=float64, numpy=\n",
       "array([ 3.94845674e-05,  8.83166490e-03,  5.47554181e-03, -7.59532262e-03,\n",
       "        2.46115773e-03,  7.83433572e-03,  8.80262722e-03, -7.51704222e-03,\n",
       "       -5.67505755e-03, -1.74687247e-03,  1.56132159e-02, -6.59015747e-03,\n",
       "        1.00076182e+00,  1.64890787e-01, -1.70957936e-02,  9.95357065e-02,\n",
       "        6.67900079e-02, -1.16890575e-02,  3.26710991e-03, -3.45848265e-02,\n",
       "       -3.90870076e-02, -6.52488721e-03, -3.49217570e-02,  4.53576238e-02,\n",
       "        1.70822454e-02,  2.58764381e+00,  2.94701781e-01,  3.86317977e-01,\n",
       "        1.95449750e-01,  3.44148848e-02,  4.04374561e-01, -4.15705962e-01,\n",
       "       -6.15446124e-02, -3.83932386e-01,  4.28636474e-01,  1.45889252e-01,\n",
       "       -2.91381707e-03, -6.59368608e-01,  7.29042180e-01,  1.98208311e-01,\n",
       "       -8.48748538e-02, -2.42476507e-01, -4.18119602e-01,  3.60526782e-01,\n",
       "        1.62695891e-01,  1.62142466e-01, -6.66483237e-01,  1.29357348e-01,\n",
       "       -3.13395831e-03, -7.02352240e-01, -3.72025848e-02,  5.03133678e-01,\n",
       "       -3.22600733e-02,  2.21292253e-01,  6.04794179e-02,  2.69098021e-02,\n",
       "       -1.77838598e-01,  1.97142923e-01,  2.76166763e-01, -2.35697443e-01,\n",
       "       -8.66198197e-03, -1.93532209e+00, -4.42381420e-01, -1.79066092e-02,\n",
       "        6.41730681e-01, -3.67256058e-01, -8.21113098e-01,  7.40335213e-01,\n",
       "        4.20542604e-01,  3.89010224e-01, -1.11774436e+00,  9.55701672e-03,\n",
       "       -2.48912680e-03, -5.59107887e-01,  8.96083738e-03, -4.54855149e-01,\n",
       "       -3.10678700e-02,  1.21994595e+00,  7.06359874e-02, -2.70122584e-02,\n",
       "       -1.27868586e-01,  1.44012793e-01,  2.60979954e-01, -2.56457226e-01,\n",
       "       -6.83555608e-03, -1.52989225e+00, -8.96995864e-02, -1.07979344e+00,\n",
       "       -9.74130325e-02,  4.04749187e-01,  1.09940400e+00,  9.31426275e-02,\n",
       "       -3.16956929e-01,  4.21835903e-01,  4.34977063e-01, -4.96038338e-01,\n",
       "        1.24967914e-03,  2.83195888e-01,  4.00760866e-02,  1.66837881e-01,\n",
       "       -1.22006960e-02, -5.64379963e-02,  1.04338051e-02,  1.00076603e+00,\n",
       "        6.64340212e-02, -1.03590164e-01, -9.20954235e-03,  7.36877813e-02,\n",
       "        1.79643874e-03,  4.15612145e-01,  2.63011973e-01, -1.66682068e-01,\n",
       "       -1.48980929e-02,  1.62438703e-01,  2.76152065e-01, -2.44788437e-01,\n",
       "        9.88768187e-01, -1.51491886e-01,  4.67268537e-01, -1.59368824e-01,\n",
       "        1.27578177e-02,  2.86130423e+00,  6.63049506e-01,  3.03335018e-01,\n",
       "        4.28677839e-01,  3.44467841e-01,  1.01302664e+00, -9.57584973e-01,\n",
       "       -3.59861197e-01,  3.60389790e-01,  1.31175317e+00,  4.44626886e-02,\n",
       "        3.60909928e-03,  8.11253339e-01,  1.38509633e-01,  3.51763232e-01,\n",
       "        4.37593059e-02, -6.21755472e-02,  1.07773960e-01, -1.48696444e-01,\n",
       "        7.98679382e-02, -2.38923118e-01,  1.10409712e+00,  1.44939578e-01,\n",
       "       -2.44762709e-03, -5.49209790e-01, -1.29185511e-01,  3.62744734e-02,\n",
       "       -9.27208166e-02, -1.04039805e-01, -2.62533516e-01,  1.93998748e-01,\n",
       "        1.29778523e-01,  1.13954240e-01, -3.40036179e-01,  1.01117756e+00])>"
      ]
     },
     "execution_count": 34,
     "metadata": {},
     "output_type": "execute_result"
    }
   ],
   "source": [
    "# Consider the output layers in K(u)\n",
    "\n",
    "# Delete the first column (1, 0, ...,0)^T,\n",
    "# need to be careful with the transposed form of weights in formula and the codes\n",
    "# B in linear Koopman can be considered as the weights of the output layer\n",
    "# Set the first (n_psi - 1) diagonal elements are the components of B\n",
    "trainable_B_from_linear = K_linear_weights[1][:,1:] \n",
    "zero_B_matrix = np.zeros(model_pk_faker.get_layer('K_u_pred').weights[2].shape, dtype='float64')\n",
    "for i in range(trainable_B_from_linear.shape[-1]):\n",
    "    zero_B_matrix[i,i] = trainable_B_from_linear[0,i]\n",
    "\n",
    "\n",
    "# A in linear Koopman can be considered as the bias of the output layer\n",
    "set_output_layer_w_weights = tf.Variable(zero_B_matrix)\n",
    "set_output_layer_bias_weights = tf.reshape(K_linear_weights[0][:,1:], shape=model_pk_faker.get_layer('K_u_pred').weights[3].shape)\n",
    "\n",
    "model_pk_faker.get_layer('K_u_pred').weights[2].assign(\n",
    "    set_output_layer_w_weights\n",
    "    )\n",
    "model_pk_faker.get_layer('K_u_pred').weights[3].assign(\n",
    "    set_output_layer_bias_weights\n",
    "    )"
   ]
  },
  {
   "cell_type": "markdown",
   "id": "0a8b03a2",
   "metadata": {},
   "source": [
    "## Add Perturbation\n"
   ]
  },
  {
   "cell_type": "code",
   "execution_count": 35,
   "id": "52a6b459",
   "metadata": {},
   "outputs": [
    {
     "name": "stdout",
     "output_type": "stream",
     "text": [
      "perturb:  tf.Tensor(\n",
      "[[ 9.52569244e-05 -3.80691924e-05 -2.67068618e-05  2.27785787e-05\n",
      "   9.68711774e-05 -9.71647408e-05 -7.40043701e-05 -5.95135382e-05\n",
      "  -1.48326293e-04  1.66766539e-04  1.32076297e-04 -2.46919874e-05\n",
      "  -1.26692378e-04 -1.46656558e-04  7.79056549e-05 -3.57424074e-05\n",
      "  -2.29453912e-05  6.28142957e-05 -2.07049276e-04  5.19765537e-05\n",
      "   1.19508694e-04  5.09065607e-05 -1.02489269e-04 -4.72067236e-05\n",
      "   6.94663072e-05  3.80044435e-05 -2.11662365e-04  6.17804169e-05\n",
      "   1.14887888e-04 -5.37667500e-05  1.53740060e-04 -2.63286951e-06\n",
      "  -3.66140850e-05 -1.55305131e-04 -9.87301625e-06  1.27068696e-04\n",
      "   2.01853639e-05  9.51643019e-05 -9.68386377e-05  7.17555506e-05\n",
      "  -1.59286779e-05  7.55311953e-05  1.45785543e-04 -6.55320298e-05\n",
      "   7.45674121e-05  4.02093575e-05 -8.44286444e-05 -3.31790687e-05\n",
      "  -7.37323762e-05 -6.98013429e-05  1.87920636e-06 -1.72659282e-04\n",
      "   2.26170226e-05  2.71485673e-05  9.16458863e-05 -1.07370025e-04\n",
      "  -3.34449137e-05  1.05849134e-04  9.89228159e-05 -1.14469899e-04\n",
      "   7.02793005e-05 -2.60209399e-05 -5.40621944e-05 -2.32177054e-04]\n",
      " [ 3.53933208e-05  6.14189906e-05  1.74935203e-04  5.30820349e-05\n",
      "  -3.11324167e-04  3.23579322e-05 -1.85334479e-04  3.58808423e-05\n",
      "   1.17160119e-05 -1.62736384e-04 -8.38882214e-05  2.88816383e-05\n",
      "   6.97526401e-05 -1.26141782e-04  3.17173143e-06  8.51449588e-05\n",
      "  -1.23821528e-04 -1.35091058e-04 -1.19872077e-04  1.04342055e-04\n",
      "   1.12719230e-04 -9.64517340e-05  9.85117488e-05 -8.96935540e-05\n",
      "  -1.36964767e-04 -6.68498307e-05  4.48540006e-05 -1.54337717e-05\n",
      "  -7.63351588e-06  9.03789895e-05  1.08045109e-04 -9.56237005e-05\n",
      "   1.63447742e-04 -1.73351263e-05 -1.35059413e-05 -1.66385309e-05\n",
      "  -2.65791008e-05  1.03417036e-04  6.84757735e-06 -1.87139265e-04\n",
      "  -2.18594344e-04 -1.07313857e-04  8.08692419e-05  7.97006881e-05\n",
      "  -3.91999145e-05  2.36395565e-05  4.76132424e-05 -1.10366758e-04\n",
      "   2.35153087e-05 -8.19934821e-05 -1.28881150e-04  1.07688010e-04\n",
      "  -8.77389372e-05 -1.62193907e-04  1.33265499e-04 -2.43256770e-05\n",
      "  -6.20717701e-05 -6.44599964e-05 -1.52769270e-04 -1.51452197e-05\n",
      "  -1.51479477e-04  1.00305589e-04  4.31822718e-05 -1.17154891e-06]], shape=(2, 64), dtype=float64)\n",
      "perturb:  tf.Tensor(\n",
      "[[-1.16663733e-04  6.77465933e-05  1.87818782e-05 ... -7.61090499e-05\n",
      "  -8.59635999e-06  3.80205010e-05]\n",
      " [-1.77461018e-04 -1.76251187e-05 -5.90198737e-05 ... -9.52382089e-05\n",
      "  -5.59451646e-05 -1.51629234e-05]\n",
      " [ 1.07994676e-04 -2.07582776e-05  3.60808649e-05 ... -5.62872568e-05\n",
      "   1.80551701e-04  1.13578678e-04]\n",
      " ...\n",
      " [ 6.80329588e-05 -1.70180107e-05 -1.05441040e-04 ...  7.56651207e-05\n",
      "  -1.49841417e-04  7.12141450e-05]\n",
      " [ 6.26238110e-05 -3.97938378e-05  1.86862795e-04 ... -9.80658777e-05\n",
      "   7.72305594e-05  1.07915512e-05]\n",
      " [-4.36108480e-05  9.84687396e-05  7.77301053e-06 ...  7.87904644e-05\n",
      "   1.52951808e-04 -9.15791755e-05]], shape=(64, 64), dtype=float64)\n",
      "perturb:  tf.Tensor(\n",
      "[-2.13025510e-05  4.84608432e-05  8.59742161e-05 -4.99998386e-05\n",
      " -6.85945951e-05 -7.24883061e-05 -9.75949895e-05  5.92185779e-05\n",
      "  1.36465880e-04 -6.40340740e-06  6.34646405e-05  1.99824987e-05\n",
      "  3.77293169e-06  4.01257844e-05 -3.57384176e-05  5.01993917e-05\n",
      " -1.11028748e-07 -5.40706902e-05 -1.81807741e-05  9.24421129e-05\n",
      "  5.59372494e-05 -1.63195849e-04 -3.25580416e-05  4.22833948e-05\n",
      "  1.08109755e-04  1.92726288e-04  9.69875844e-05 -8.73862925e-05\n",
      " -4.41400256e-05  1.09413091e-04 -1.35577691e-06 -2.26270238e-05\n",
      " -5.40067039e-05  3.69569742e-05 -7.03639876e-05  8.54293022e-05\n",
      " -4.45866702e-05  1.66703810e-04  1.82105531e-04  1.59100050e-04\n",
      " -1.52127627e-04 -7.17435039e-05 -2.90685954e-05 -8.15833730e-05\n",
      "  3.63192077e-05  8.18016931e-05 -1.57896849e-05  7.21367619e-05\n",
      "  9.31150200e-05  1.62336318e-04 -9.74303001e-05 -5.12478030e-05\n",
      "  6.71573344e-05 -1.92592241e-04  2.80843965e-05 -1.71354494e-05\n",
      "  2.86400143e-06 -6.98837552e-05  3.16579841e-05 -5.69991658e-05\n",
      "  3.28345101e-05  1.00532070e-04 -2.57971485e-05 -1.01800534e-04], shape=(64,), dtype=float64)\n",
      "perturb:  tf.Tensor(\n",
      "[[ 6.74828613e-06  1.40494603e-05  3.24716324e-05 ...  9.10607277e-05\n",
      "   4.48477191e-05  3.48468975e-05]\n",
      " [-1.39120637e-04  1.67046386e-04  1.02372976e-04 ... -3.33499952e-05\n",
      "  -1.47222406e-04 -6.51333401e-05]\n",
      " [ 4.27342134e-05 -1.05402673e-04 -7.61570280e-05 ...  7.68671291e-05\n",
      "   1.52517328e-04 -1.81854935e-04]\n",
      " ...\n",
      " [-1.12258586e-04 -8.76270105e-05  1.17307410e-05 ... -3.33894369e-05\n",
      "  -6.32247965e-05  9.31406086e-06]\n",
      " [-2.75588125e-05  1.49029372e-04  2.46572778e-05 ...  7.53452631e-05\n",
      "   6.52336121e-05 -5.29659279e-05]\n",
      " [-9.79665532e-05  2.98842119e-05 -1.30625580e-04 ...  8.55602095e-05\n",
      "  -9.12247962e-05 -1.46143610e-04]], shape=(64, 64), dtype=float64)\n",
      "perturb:  tf.Tensor(\n",
      "[ 1.11081688e-04  3.21332801e-05  1.19857090e-04  5.91750998e-05\n",
      "  1.17521801e-04 -3.35073518e-05 -3.10942797e-05 -6.35894658e-06\n",
      "  6.32244311e-05  1.37527025e-06 -1.26296448e-04 -7.08364655e-05\n",
      " -1.92857130e-04  1.27544948e-05  1.21418056e-04  3.37912304e-05\n",
      " -1.60001574e-05 -6.21284991e-07 -2.46274596e-05 -1.84647428e-05\n",
      "  1.83528038e-04 -1.39614453e-05 -1.07171208e-04  2.51004738e-05\n",
      "  5.15441763e-05 -1.50043378e-04 -4.75280718e-06 -6.61125506e-06\n",
      " -6.41443441e-05 -7.17343126e-05  1.41529970e-04 -7.37485607e-05\n",
      " -1.84075116e-05 -6.31555970e-05 -1.97830477e-04  9.16931601e-05\n",
      " -1.52770221e-04  4.71017829e-05  6.55161839e-05 -3.75418543e-05\n",
      "  1.04888451e-04  1.51813856e-05  3.21031134e-05  3.77147382e-06\n",
      " -1.81579791e-04  7.75226517e-06  4.06414850e-05  1.68482513e-04\n",
      " -1.23255030e-04 -1.42901055e-04 -4.80552141e-05  7.62732013e-05\n",
      "  3.71136476e-06 -5.92903749e-05 -8.40968761e-05  2.85436687e-05\n",
      " -1.24539156e-04  2.55295637e-05 -9.61529599e-05  3.68812058e-05\n",
      " -1.72359718e-05  2.18990152e-05 -5.95870555e-05  1.71511472e-06], shape=(64,), dtype=float64)\n",
      "perturb:  tf.Tensor(\n",
      "[[ 1.10489205e-04 -5.17615189e-05  7.42016625e-05  1.13019752e-04\n",
      "  -5.69426961e-05  6.42144598e-05 -1.25380208e-04 -9.97968589e-05\n",
      "  -2.94773808e-05 -1.34954490e-04]\n",
      " [ 6.78150875e-05  2.09812058e-04  4.80427877e-05  3.95790506e-05\n",
      "  -1.38034379e-04 -2.60370487e-04  5.74217510e-05 -3.05259767e-05\n",
      "   1.39693843e-05  1.66944130e-04]\n",
      " [-7.92049508e-05  3.27582460e-05  1.45865846e-04  1.10886728e-05\n",
      "   1.55877258e-05  8.37680698e-05  7.51093125e-06  4.84536784e-05\n",
      "  -4.18426051e-05 -8.21712172e-05]\n",
      " [-6.72704148e-05 -4.21780295e-05  1.19324263e-05 -1.41579889e-04\n",
      "  -1.37797054e-04  2.45175774e-04 -8.93006329e-05  5.14164871e-05\n",
      "  -8.47279041e-05 -3.81355348e-06]\n",
      " [-3.72395420e-05 -3.47329222e-05 -3.84127231e-05  1.86437252e-05\n",
      "  -1.53627739e-05 -1.15010748e-04 -1.44820242e-04 -5.25961198e-05\n",
      "  -2.18126509e-06 -5.68718309e-06]\n",
      " [-1.38688004e-04 -1.02351952e-04 -1.89190226e-04 -4.29070849e-05\n",
      "   5.80875848e-05  1.80787071e-05 -3.80996857e-05  5.13417940e-05\n",
      "   1.04401002e-04 -1.40667319e-04]\n",
      " [-3.57404794e-05  9.26060859e-05 -8.89293186e-05 -4.07231936e-05\n",
      "  -9.35230088e-05  6.97815355e-05  8.79854279e-05 -1.26599032e-05\n",
      "   1.19905539e-05  3.84125546e-05]\n",
      " [-1.92709096e-04  1.29216022e-04  1.66033492e-04  3.50514332e-05\n",
      "  -1.94025558e-04 -1.24398355e-04  5.46052811e-05  7.51637214e-05\n",
      "   9.19552280e-05 -1.22146601e-04]\n",
      " [-6.87144067e-05  1.16423893e-04  1.85990569e-05  6.36510625e-05\n",
      "   4.12584082e-05  1.37183392e-04 -1.34363004e-05 -3.82604934e-05\n",
      "   4.75676081e-05 -2.99460697e-05]\n",
      " [ 1.38547617e-06  2.83065138e-05 -2.34176393e-04  1.07525733e-04\n",
      "  -3.58261744e-05  5.24469751e-05 -5.38875062e-05  7.11354509e-05\n",
      "   7.99225256e-06 -1.15234845e-04]\n",
      " [ 9.33727308e-05  1.78038532e-05  1.14174203e-04  8.95257075e-06\n",
      "  -1.24742183e-04  2.77691801e-05 -3.79294193e-05  2.10186275e-04\n",
      "  -6.91367866e-05  6.32579369e-06]\n",
      " [-4.55398779e-05 -3.08874687e-05 -3.95513236e-05  9.29975449e-06\n",
      "  -1.10151299e-05  9.59196532e-05 -5.07975796e-06  1.67073523e-04\n",
      "   1.46047223e-04  1.38257572e-04]\n",
      " [-1.92261466e-05 -5.01922277e-05  8.07845228e-05 -9.65170563e-06\n",
      "  -1.80550114e-05 -1.02056322e-04 -3.05459164e-05 -1.24293823e-04\n",
      "  -1.10095218e-04  4.35440202e-05]\n",
      " [-1.55246331e-04 -2.77303965e-05  3.01783557e-05 -1.14168978e-05\n",
      "   8.47081488e-05  1.02047653e-04  1.82662812e-04  2.38911498e-05\n",
      "  -9.09816495e-05 -3.17187226e-05]\n",
      " [-4.06044040e-05  1.65540500e-04  2.88127448e-05  2.41162917e-05\n",
      "  -4.72072593e-06  1.03092513e-04  8.09783804e-05  5.45452808e-05\n",
      "   1.35510713e-04 -1.48371951e-04]\n",
      " [ 1.68674462e-04 -4.45230607e-05  8.24710618e-05 -1.70026794e-05\n",
      "  -1.78604477e-04  6.94431239e-05  1.20946503e-04  5.56399092e-05\n",
      "  -6.85219596e-05 -2.40360272e-06]\n",
      " [ 6.78289804e-05 -9.42583088e-05  6.66186199e-06  1.91757492e-04\n",
      "   1.19108821e-04 -7.75208255e-05 -2.00212460e-05 -7.54373883e-05\n",
      "   1.68512247e-05  5.02084045e-05]\n",
      " [-6.48750793e-05 -2.62511216e-05 -9.77234913e-05  3.65017904e-05\n",
      "   1.03836173e-04 -4.17580448e-05 -1.21969179e-04  5.17390720e-05\n",
      "   1.32717045e-04  4.75076926e-05]\n",
      " [ 1.67411428e-05  6.84811500e-05 -4.54498586e-05  5.71232082e-05\n",
      "  -4.18001487e-05 -1.29566399e-05 -1.56166994e-05 -1.06546449e-04\n",
      "  -2.74847472e-05  9.72563525e-05]\n",
      " [ 2.02540606e-04 -1.35001160e-04  3.73896492e-05  8.86152315e-05\n",
      "  -1.26779601e-04  1.10823944e-04 -1.54427361e-04 -4.53681664e-05\n",
      "  -8.73647509e-05  8.73545917e-05]\n",
      " [ 3.68117605e-06  9.15783088e-05 -7.94882064e-05  1.59153798e-04\n",
      "   1.27326555e-04 -8.60866856e-05  6.05186042e-05  1.82490840e-04\n",
      "   7.93813871e-05  1.13591816e-04]\n",
      " [-5.56807117e-05  2.55974439e-05  7.99799516e-05  4.22039157e-05\n",
      "   3.49875918e-05  2.30027814e-04  1.33704519e-04 -5.86829465e-05\n",
      "  -7.02410921e-05 -1.05237892e-04]\n",
      " [ 6.48561616e-05 -5.16331295e-05 -2.90274621e-05  1.45953100e-05\n",
      "  -3.35566665e-05  9.07689092e-05 -1.54878897e-04  1.41975534e-04\n",
      "   5.85718114e-05  8.64082073e-05]\n",
      " [-1.35282345e-04  6.39937541e-05 -5.23903878e-05 -2.50631985e-05\n",
      "  -9.74245308e-05 -1.90827355e-05  5.69083996e-05 -7.86886437e-05\n",
      "  -1.02777776e-04  1.81013302e-05]\n",
      " [-6.10276257e-05  2.82568698e-05  4.76081177e-06 -9.17387464e-05\n",
      "   7.52135867e-05 -3.47721831e-05  1.94913518e-04  9.77316496e-05\n",
      "   2.44183028e-05  1.39536518e-04]\n",
      " [ 3.25567195e-05  1.38907897e-05 -1.67037514e-04  1.04004658e-05\n",
      "  -2.03250605e-05 -1.52752727e-04  2.60989551e-05  7.05900130e-05\n",
      "  -6.97230695e-06 -2.27198022e-05]\n",
      " [ 3.90365052e-05  1.46981393e-04 -7.15609411e-05 -4.35942762e-05\n",
      "   5.79176845e-05 -9.53546845e-05  1.72981883e-05  4.35903943e-05\n",
      "   1.11233143e-04 -3.61067916e-05]\n",
      " [ 1.27882058e-04 -1.75105403e-04 -4.46677103e-05  8.68345382e-06\n",
      "   1.32113511e-04 -1.05551864e-04  5.31932232e-05 -6.26558971e-05\n",
      "   1.35819054e-05 -9.56905273e-05]\n",
      " [-3.72208882e-05  1.65471274e-05  8.06337774e-05 -5.75082742e-06\n",
      "   5.05305903e-05 -4.91863315e-05  2.88809092e-05  2.32069754e-05\n",
      "  -1.52008679e-04 -1.79249449e-05]\n",
      " [ 8.19355574e-05 -2.59028236e-05  1.14666104e-04  1.17463772e-05\n",
      "  -9.94163409e-06  3.48932372e-06 -2.36772474e-05 -1.32829007e-04\n",
      "  -1.36808133e-04  7.10600525e-06]\n",
      " [ 9.81216081e-06 -2.05828322e-04 -1.12892655e-05 -1.39964926e-04\n",
      "  -1.05891970e-04 -4.09324559e-06 -1.50913261e-04  6.82991668e-05\n",
      "  -2.70255656e-05  8.64159927e-05]\n",
      " [-3.91957522e-05 -1.81731386e-04 -9.53186941e-05 -6.44307003e-05\n",
      "  -1.37580828e-04  1.13543374e-04  6.05708794e-06  1.77141684e-04\n",
      "   5.95463705e-05 -1.15711354e-04]\n",
      " [-1.17052844e-04  1.88813577e-05 -9.10549627e-05 -4.34315634e-05\n",
      "   1.74514217e-04  1.98859317e-05 -1.90067556e-04 -7.67778362e-05\n",
      "  -6.36986974e-05  6.45327673e-06]\n",
      " [ 8.73474664e-05  8.97545210e-06 -1.13602808e-04 -4.49680568e-06\n",
      "   3.03089923e-04  1.11352230e-05  6.22566335e-05 -3.48581485e-05\n",
      "  -2.95064648e-05 -1.15389726e-04]\n",
      " [-1.10715220e-04  6.60063270e-05  1.09946752e-04  5.27059235e-05\n",
      "  -2.75480503e-05 -1.02791020e-05 -1.04801102e-04  1.14730207e-04\n",
      "   1.24714979e-05  1.34824148e-04]\n",
      " [ 7.70418959e-05  1.09236895e-04 -2.83620140e-05 -6.87702698e-05\n",
      "  -1.34657926e-04 -1.14230864e-04 -1.03646398e-04  5.75964562e-05\n",
      "   7.31562786e-05 -1.31962632e-05]\n",
      " [ 1.79644493e-04  1.74190002e-04 -5.09010780e-05 -3.11723661e-05\n",
      "  -9.78390726e-05 -1.82178106e-04 -1.45766142e-04  7.88161398e-05\n",
      "   2.85073461e-05  2.82590161e-06]\n",
      " [ 9.31108013e-05  8.09192839e-06  5.29265772e-05  1.88708150e-05\n",
      "  -2.10094853e-05 -1.18875914e-04 -1.23619665e-05  3.66335105e-05\n",
      "   2.77772733e-05  2.06299597e-06]\n",
      " [ 1.11246636e-04  1.52238908e-04 -4.18009026e-05 -8.52231328e-05\n",
      "   4.31738312e-05 -6.10215635e-05 -2.04876779e-05 -1.77471691e-04\n",
      "  -1.26785224e-04  8.49075286e-05]\n",
      " [-1.15512077e-05  6.47962533e-05  1.02159773e-04 -1.66730192e-04\n",
      "   1.32731478e-04 -1.11032720e-04  1.99260850e-04 -4.19161535e-05\n",
      "   9.61642693e-05 -1.07324463e-05]\n",
      " [-4.27005391e-05 -2.08806415e-04 -4.62976246e-05  2.15720239e-06\n",
      "  -2.14274783e-04  1.09334476e-04 -8.87177997e-07  1.42485045e-04\n",
      "   5.93843174e-06 -1.73652130e-06]\n",
      " [-8.44086821e-06  4.54617382e-05 -1.34279333e-04  1.03345241e-04\n",
      "   8.67655615e-05  1.11444340e-05  1.10332427e-05  2.07362051e-04\n",
      "   6.63798960e-05 -1.37616839e-04]\n",
      " [-4.70490491e-05  1.18414932e-04 -1.68241286e-04  1.24319264e-04\n",
      "  -1.33367362e-04  4.33708730e-05  7.03767370e-05 -4.08416895e-05\n",
      "  -5.78151716e-05 -1.71085817e-04]\n",
      " [ 2.13784632e-05 -2.30306963e-05  1.85642691e-04 -6.47753527e-05\n",
      "   1.38110889e-04  3.51599472e-05 -7.38049655e-07  1.07413617e-04\n",
      "  -4.69125321e-05  2.67829830e-05]\n",
      " [ 1.80987980e-04  1.70304199e-04  6.92520017e-05 -6.98697447e-05\n",
      "  -9.17485275e-05 -8.40385067e-05  1.65349686e-04 -2.40186082e-04\n",
      "   1.01976810e-04  1.61324533e-05]\n",
      " [ 8.59010360e-06 -1.65962819e-05 -1.30466334e-05  3.45700013e-05\n",
      "  -9.56584593e-05  1.27621669e-04 -6.80779594e-06  2.40669901e-04\n",
      "  -9.00298213e-05 -1.10244046e-04]\n",
      " [ 1.82370301e-04 -5.57360559e-05  1.29854815e-04  6.57094293e-06\n",
      "   1.42696615e-04  1.59647651e-04  8.04485958e-06  5.45413723e-05\n",
      "   1.56227507e-04 -3.70539945e-05]\n",
      " [ 3.13259739e-06 -2.26391595e-05 -1.84179371e-04 -4.28028265e-06\n",
      "  -2.26375231e-04  4.00114212e-05  1.45257752e-05 -3.34204982e-05\n",
      "   6.63206710e-05  2.79229783e-05]\n",
      " [-7.55054427e-05 -5.69679610e-08  1.39742925e-04  9.17713867e-05\n",
      "   8.12377975e-05  1.97703153e-04 -1.45327270e-04  1.53685072e-04\n",
      "   1.69768037e-05 -1.07273691e-04]\n",
      " [ 2.01542703e-04  1.01529102e-05 -6.52614945e-05 -8.19405339e-05\n",
      "  -7.50744880e-05 -1.65697926e-04  9.14278173e-05 -1.14559438e-04\n",
      "   1.52225769e-04  4.07781149e-05]\n",
      " [ 1.73018476e-04 -2.15317625e-04  3.20236048e-05  1.10844563e-04\n",
      "   5.75221650e-05 -1.02112539e-04 -1.33403962e-04 -5.09087464e-05\n",
      "  -1.03455452e-04  1.24369551e-04]\n",
      " [ 9.97585463e-05 -8.47856185e-05 -1.49862148e-05 -5.92666383e-06\n",
      "   3.13062452e-06 -2.23625722e-04 -7.75084596e-05  7.91438757e-06\n",
      "  -2.15442438e-06  8.04463476e-05]\n",
      " [ 5.77745448e-06 -5.14423994e-05  4.59214927e-05  1.93442336e-05\n",
      "  -1.16187218e-04  1.01505862e-04 -1.73214376e-04  1.49208619e-04\n",
      "  -1.13231786e-04  9.28876499e-05]\n",
      " [-8.14513442e-05  1.54591601e-04 -4.15057736e-05 -5.95256697e-05\n",
      "  -1.06108957e-04 -7.81361330e-05 -9.25302409e-05 -2.15852712e-05\n",
      "   6.06796731e-06  8.66768213e-05]\n",
      " [-1.25890181e-04 -1.24301273e-04  1.32109335e-05  2.93563429e-06\n",
      "  -5.01966619e-05 -1.02673378e-04 -1.07826331e-04 -6.23238183e-05\n",
      "   2.97022407e-06  7.64898413e-05]\n",
      " [-9.90582298e-05  3.65893020e-05  1.28265885e-04 -6.61810945e-05\n",
      "   9.84844337e-05  1.01661659e-05 -1.64710248e-04 -2.06970449e-04\n",
      "  -4.45426081e-05  1.08571339e-04]\n",
      " [ 1.53281934e-04  8.51463008e-05 -3.33473809e-05 -2.02757326e-04\n",
      "   1.45684416e-04  3.06141650e-05  3.36002854e-05  6.30784926e-05\n",
      "  -7.24984116e-05  2.23515302e-05]\n",
      " [-3.06355738e-05 -1.24751519e-04  5.22489172e-05 -1.01883453e-04\n",
      "  -1.47204811e-05 -6.19664885e-06  2.89335231e-05  9.27305713e-05\n",
      "   4.06330105e-05 -1.00699022e-04]\n",
      " [ 1.48955607e-04 -1.26047811e-04 -3.12491232e-05 -2.38476068e-05\n",
      "   3.79174604e-05 -1.54637663e-04  1.49412117e-04 -1.63505587e-04\n",
      "   1.03831395e-04  8.17391363e-05]\n",
      " [-2.25651782e-04  1.32228741e-04 -3.83060153e-05 -6.09862708e-05\n",
      "  -1.28094112e-05  7.12707620e-05 -1.06701217e-04 -1.14489006e-05\n",
      "   1.41628625e-05 -1.43670762e-04]\n",
      " [-2.97828650e-05 -8.02797484e-05  1.67913970e-06 -5.47687931e-05\n",
      "  -6.05209000e-05  4.94131295e-05  1.22486090e-04  7.32246631e-05\n",
      "  -1.00814205e-04  1.68209417e-05]\n",
      " [-1.03602130e-04 -1.66069117e-05  9.89241589e-05  8.84294594e-05\n",
      "   7.17016381e-05 -2.25864222e-05  6.29621100e-05 -5.71172520e-05\n",
      "  -4.59838676e-05  1.53179616e-04]\n",
      " [ 1.21577041e-04 -8.72282519e-05  1.81634840e-05  6.25452510e-05\n",
      "  -2.49650537e-06 -3.32926739e-05 -1.02498406e-05  2.68695323e-04\n",
      "  -9.34219947e-05  8.85581402e-06]\n",
      " [-8.86046650e-05  4.50737839e-05  1.10848333e-04  2.38781191e-04\n",
      "  -1.47810146e-04 -1.26315799e-04  1.56786920e-04 -1.88638150e-04\n",
      "   4.73840310e-05  6.99134916e-05]], shape=(64, 10), dtype=float64)\n",
      "perturb:  tf.Tensor(\n",
      "[ 8.16281972e-05  5.67457340e-05 -1.71764571e-04 -7.52051266e-05\n",
      "  2.41809231e-05  1.85852541e-04 -7.78015422e-05 -4.92657629e-05\n",
      " -1.09490915e-04 -1.44384445e-04], shape=(10,), dtype=float64)\n",
      "perturb:  tf.Tensor(\n",
      "[[ 5.54062804e-05  6.24707943e-05  5.14571075e-06  2.75355851e-05\n",
      "  -6.91022176e-05  1.56747686e-04 -1.12587983e-04  1.40732880e-05\n",
      "   2.11460246e-05  9.00939130e-05  9.86539170e-05 -7.68198820e-06\n",
      "   9.70421742e-05  4.13399131e-05 -1.17891531e-04  9.04816498e-05\n",
      "   1.79727160e-05  1.10270205e-04  1.28044012e-04 -4.55539305e-05\n",
      "  -3.81039094e-08 -1.03966769e-04 -1.98975340e-04  2.98104746e-05\n",
      "  -2.61602070e-04 -2.31651525e-04  1.23716285e-04 -1.01449982e-05\n",
      "  -1.03073226e-04  4.09422830e-05 -5.21979463e-05 -6.84786420e-05\n",
      "   2.20259639e-05  1.31684126e-05 -1.64577683e-04 -9.33053893e-06\n",
      "   6.15662146e-05 -4.45638158e-06  3.05508221e-05  1.31077406e-05\n",
      "   9.21894610e-05  4.31874768e-05 -4.76862309e-05 -2.26049776e-06\n",
      "   7.03680567e-05 -9.95815753e-05 -1.71855000e-04  2.45749029e-04\n",
      "  -1.25924474e-05  8.80847145e-05  5.16115858e-05  7.17632728e-06\n",
      "   1.88535611e-05 -5.03733845e-05  8.43329189e-05 -4.66313367e-05\n",
      "   1.06035102e-04 -3.88425334e-05  1.02525102e-04 -3.94464881e-05\n",
      "  -4.82785347e-05  1.46778427e-04  6.97082875e-06 -8.41520143e-05\n",
      "   3.05780638e-05 -2.30878483e-05 -1.19493302e-04 -5.23310993e-05\n",
      "  -1.03850115e-04  2.03904742e-04  3.16546563e-05 -1.84861047e-05\n",
      "  -1.85079950e-04 -3.57463441e-05 -1.13852859e-04 -1.01677132e-04\n",
      "   9.66797545e-05 -6.88064907e-05 -5.39176397e-05  8.21212372e-05\n",
      "   3.26688644e-05 -4.86368501e-06 -1.45504295e-04  6.76332562e-05\n",
      "   3.21237996e-06  1.14119885e-05  2.48161886e-04 -6.83812997e-05\n",
      "  -1.83075114e-05  1.60257435e-04  3.40830610e-05  4.78977033e-05\n",
      "  -2.09703039e-04  1.58953887e-04  2.01560194e-04 -1.10081135e-04\n",
      "  -8.98767753e-05 -2.88893132e-05  1.78174295e-04  2.78023341e-05\n",
      "  -4.47002805e-05  1.26482137e-04 -9.02688648e-05 -2.61857818e-05\n",
      "  -3.58680785e-05 -9.99589600e-05  1.58691668e-05 -8.39117075e-05\n",
      "   6.29844272e-06  9.39172086e-06 -4.37247451e-05  9.31865266e-05\n",
      "   1.93372245e-04  1.77588566e-05 -2.74728475e-05  3.13194411e-05\n",
      "  -1.93835817e-04 -1.07660995e-04 -1.21591434e-04 -1.37503504e-04\n",
      "   5.57291925e-05  4.38110568e-05  6.07925256e-05 -1.57034879e-04\n",
      "   3.68813619e-05  2.17101031e-04 -9.09968455e-05 -5.97511658e-05]], shape=(1, 128), dtype=float64)\n",
      "perturb:  tf.Tensor(\n",
      "[ 1.07423224e-04  1.78594830e-05 -2.51073259e-04 -2.79832253e-05\n",
      " -1.55591213e-06  4.81526568e-05  1.54838014e-04  1.77252321e-05\n",
      "  1.07139833e-04 -2.47713351e-05  9.72618599e-06  1.43153744e-04\n",
      "  1.63908995e-04  1.94434005e-04  2.33137144e-04  4.06402051e-05\n",
      "  7.83178290e-06  3.24574486e-04 -2.11593397e-06  8.65459701e-05\n",
      "  1.89654684e-05 -6.66522656e-05  1.33311191e-04  6.03119751e-05\n",
      " -1.98477299e-04  1.36805425e-04 -3.20977909e-05 -8.50561166e-05\n",
      " -1.18161907e-04 -3.29680158e-05  9.51409553e-05  9.92715660e-05\n",
      " -5.24869424e-05 -1.14187599e-04 -8.76562631e-05 -6.09584729e-05\n",
      " -7.17191563e-05 -1.77107736e-04  3.06861193e-05 -3.20219817e-05\n",
      " -1.08162652e-04  7.25544522e-05  1.47697002e-04 -3.30284461e-05\n",
      " -6.97733149e-05  6.30080208e-05  1.90404681e-05 -1.88394869e-05\n",
      " -1.08847883e-05 -4.98912937e-06  1.12477411e-04  1.30707428e-05\n",
      "  9.74096463e-05  7.49381332e-06 -1.34685798e-04 -6.68369150e-05\n",
      " -1.06632684e-05 -8.41885002e-05  6.21852618e-05 -3.05152077e-06\n",
      "  1.92515472e-04 -7.62111855e-06  1.82832626e-05  3.32577538e-06\n",
      "  8.80063257e-05 -8.33240520e-05  8.74416439e-05 -1.21021057e-04\n",
      "  8.99804263e-06 -1.02620233e-04 -4.29794742e-05  2.56510773e-05\n",
      " -1.46412068e-04  1.24031686e-04 -6.01619075e-05  7.64239830e-05\n",
      " -7.64775543e-05  7.52654502e-05  2.68707711e-05  1.27373046e-04\n",
      " -4.52170528e-05  2.05147468e-04  5.40484645e-05 -6.22647125e-05\n",
      " -2.12206976e-04 -4.80481477e-05 -4.24230624e-05  1.32247685e-05\n",
      "  1.50770180e-04  1.31918905e-05  6.57470920e-05  1.90223862e-04\n",
      " -1.26940751e-04  1.14425315e-04 -2.89741913e-05  6.41895701e-05\n",
      " -1.18997441e-04  5.22317753e-05 -1.50518497e-05 -9.83994607e-05\n",
      " -2.61085477e-05 -3.54196659e-05  7.80816213e-05 -2.49298164e-05\n",
      " -1.25114864e-04 -8.47397632e-05  1.01999201e-04 -1.87517609e-05\n",
      "  8.87459510e-05 -5.05406764e-05  6.37184967e-05  7.21156632e-05\n",
      " -1.45994741e-04 -1.13552826e-05 -2.73666038e-05 -4.83680332e-05\n",
      " -3.07083915e-05 -2.64818000e-04 -1.29266894e-04 -6.10127846e-05\n",
      "  6.82307231e-05  1.16420714e-04  1.62524383e-05 -3.76886847e-05\n",
      " -1.55815018e-05  6.06450311e-06  8.83742435e-06 -8.42090476e-05], shape=(128,), dtype=float64)\n",
      "perturb:  tf.Tensor(\n",
      "[[ 2.51819407e-05 -6.40448223e-05  5.90125264e-05 ... -7.34457897e-05\n",
      "  -1.63264832e-04  7.27112570e-05]\n",
      " [-3.05117915e-05 -6.06535348e-05  7.76938070e-05 ...  4.46229026e-05\n",
      "  -1.12658574e-05  4.01743072e-05]\n",
      " [ 1.35412510e-05  6.04566603e-05  2.53684420e-05 ... -7.48422731e-05\n",
      "   6.11936588e-06 -7.36421538e-05]\n",
      " ...\n",
      " [ 1.48964436e-04  8.52118875e-05  4.94114298e-05 ... -1.54641142e-04\n",
      "   1.36928106e-04  5.75546870e-05]\n",
      " [-8.17479466e-06 -7.07065518e-05  2.41861585e-04 ...  4.87576005e-06\n",
      "  -1.35983109e-06  6.59843957e-05]\n",
      " [ 1.08505268e-05  1.29491237e-04 -1.65161094e-04 ... -1.74108009e-04\n",
      "   1.67380321e-04 -1.14556374e-04]], shape=(128, 156), dtype=float64)\n",
      "perturb:  tf.Tensor(\n",
      "[-5.99984367e-05  5.19352842e-05 -5.85361411e-05 -6.03679197e-05\n",
      "  2.94886207e-05 -3.79898102e-05 -1.28920005e-04  6.87028116e-05\n",
      " -2.59971016e-04  1.03530195e-04  4.38271741e-05  7.55457940e-05\n",
      " -7.92133343e-05  1.18017760e-06 -1.86202825e-04  2.65638898e-04\n",
      " -6.82180667e-05 -8.58379873e-05  9.84936250e-05  1.30337874e-04\n",
      " -3.08910527e-05  1.78221978e-04 -2.11858759e-04  7.12786972e-05\n",
      " -8.91183606e-05 -8.60577926e-05  5.19403463e-05 -1.91025625e-06\n",
      " -1.03125710e-04  2.72710506e-05 -8.37377033e-05  9.16534089e-05\n",
      "  1.29871609e-04  4.12880611e-05  8.24605292e-05  1.16680365e-04\n",
      "  5.93443968e-05  2.48700512e-05  1.88284155e-05  1.64376000e-04\n",
      " -1.33350316e-05 -8.20760723e-05  4.52449944e-05 -3.62025428e-04\n",
      "  6.59479196e-06  5.41305387e-05 -7.40927184e-05 -9.19384168e-05\n",
      "  5.21871474e-05  3.84540554e-05  8.12266772e-05 -8.42191633e-07\n",
      " -6.24554825e-05 -7.22066324e-05  1.52583741e-06  1.67959063e-04\n",
      " -9.92149942e-05 -9.29457248e-05 -6.16824347e-05  6.98890145e-06\n",
      " -1.27805758e-04  1.04636995e-04 -1.80558094e-05  8.98164404e-05\n",
      "  2.05390463e-04 -6.88887628e-05  1.13097674e-04 -8.01180951e-05\n",
      "  5.22446458e-05  4.89390223e-05 -9.95472460e-05 -1.45513473e-04\n",
      "  1.71484426e-05 -1.67012573e-04  4.87862443e-05 -4.62438850e-05\n",
      " -9.73583703e-05 -1.09537323e-05 -1.22896020e-04  5.59019709e-05\n",
      " -5.58839214e-05  8.11754277e-05 -2.08373815e-04 -8.66325217e-05\n",
      "  9.24592559e-05 -1.58454843e-05 -2.13060409e-04  2.97918977e-05\n",
      " -5.75745879e-05  3.20653509e-05 -9.02931052e-05  2.72665546e-05\n",
      " -3.63737773e-05  2.20413180e-06 -2.06052420e-04 -5.47789784e-05\n",
      " -1.42563498e-06  1.07657157e-04 -1.38142855e-04  1.67321449e-05\n",
      " -5.08058109e-05  6.95816877e-05 -3.69548627e-05 -1.65463755e-05\n",
      " -2.15876851e-04  1.44080664e-06 -1.38458935e-04 -1.79726760e-06\n",
      "  1.49788905e-05  2.33899748e-05  9.26172394e-06 -7.97762289e-05\n",
      "  1.28254560e-04 -3.11702330e-05 -4.81268041e-05  3.86178266e-05\n",
      " -1.07636561e-04  5.40710937e-05  1.14268375e-05 -7.65269142e-05\n",
      "  1.87571547e-05 -9.51620593e-05  1.53065333e-05 -4.96085575e-05\n",
      "  1.05856267e-04 -2.69570155e-05  2.12036321e-04 -9.85024818e-05\n",
      " -3.74617522e-05  3.49281712e-05  1.23789087e-06  5.36137894e-05\n",
      "  7.04692731e-05 -1.08629583e-04 -1.52986060e-04 -1.01350684e-04\n",
      " -6.10051926e-05  1.10633459e-04  6.43135549e-05 -1.64271868e-04\n",
      "  1.20222372e-04 -6.27534313e-06  9.43618590e-05  5.70231122e-05\n",
      " -2.55434634e-05  2.29648750e-04 -1.55404296e-04 -1.10711050e-04\n",
      "  1.95122452e-06 -7.95578070e-05  1.06519616e-04  7.49636460e-05\n",
      "  3.46090423e-05 -1.85834411e-05  8.62070967e-05 -2.02936870e-04], shape=(156,), dtype=float64)\n"
     ]
    }
   ],
   "source": [
    "percentage = 0.0001  # 1%\n",
    "\n",
    "for layer in model_pk_faker.layers:\n",
    "    if layer.weights:\n",
    "        for weight in layer.weights:\n",
    "            current_weight_value = weight.numpy()\n",
    "            perturbation = tf.random.normal(current_weight_value.shape, stddev=percentage, dtype=weight.dtype)\n",
    "            print('perturb: ', perturbation)\n",
    "            weight.assign_add(perturbation)"
   ]
  },
  {
   "cell_type": "markdown",
   "id": "7513414b",
   "metadata": {},
   "source": [
    "## Continue to train from linear weights\n"
   ]
  },
  {
   "cell_type": "code",
   "execution_count": 36,
   "id": "a2d98946",
   "metadata": {},
   "outputs": [
    {
     "data": {
      "application/vnd.jupyter.widget-view+json": {
       "model_id": "f3db2e8937074023954115137982a79d",
       "version_major": 2,
       "version_minor": 0
      },
      "text/plain": [
       "0epoch [00:00, ?epoch/s]"
      ]
     },
     "metadata": {},
     "output_type": "display_data"
    },
    {
     "data": {
      "application/vnd.jupyter.widget-view+json": {
       "model_id": "9a2b4fa4ab7b49d488f23cfc602f57c0",
       "version_major": 2,
       "version_minor": 0
      },
      "text/plain": [
       "0batch [00:00, ?batch/s]"
      ]
     },
     "metadata": {},
     "output_type": "display_data"
    }
   ],
   "source": [
    "model_pk_faker.compile(optimizer=Adam(1e-4), loss=\"mse\")\n",
    "    \n",
    "lr_callback = tf.keras.callbacks.ReduceLROnPlateau(\n",
    "    monitor=\"loss\",\n",
    "    factor=0.1,\n",
    "    patience=100,\n",
    "    verbose=0,\n",
    "    mode=\"auto\",\n",
    "    min_delta=1e-4,\n",
    "    cooldown=0,\n",
    "    min_lr=1e-10,\n",
    ")\n",
    "\n",
    "# Define the early stopping criteria\n",
    "es_callback = tf.keras.callbacks.EarlyStopping(\n",
    "    monitor=\"val_loss\", min_delta=1e-12, patience=50, verbose=1, mode=\"auto\"\n",
    ")\n",
    "\n",
    "checkpoint_path = os.path.join(weights_path, \"train_from_linear_hardtanh_model_pk_vdpm_mu_\" + str(mu) + \".h5\")\n",
    "checkpoint_callback = tf.keras.callbacks.ModelCheckpoint(\n",
    "    filepath=checkpoint_path,\n",
    "    monitor=\"val_loss\",\n",
    "    save_best_only=True,\n",
    "    save_weights_only=True,\n",
    "    mode=\"min\",\n",
    "    save_freq=\"epoch\",\n",
    ")\n",
    "\n",
    "from tqdm.keras import TqdmCallback\n",
    "\n",
    "# Define the TqdmCallback for progress bar\n",
    "tqdm_callback = TqdmCallback(verbose=1)\n",
    "\n",
    "# Add early_stopping to the list of callbacks\n",
    "callbacks = [lr_callback, checkpoint_callback, tqdm_callback]\n"
   ]
  },
  {
   "cell_type": "code",
   "execution_count": 37,
   "id": "ba3d0130",
   "metadata": {},
   "outputs": [],
   "source": [
    "# history_pk_faker = model_pk_faker.fit(\n",
    "# x=[data_x, data_y, data_u],\n",
    "# y=zeros_data_y_train,\n",
    "# validation_split=0.2,\n",
    "# epochs=pknn_epochs,\n",
    "# batch_size=200,\n",
    "# callbacks=callbacks,\n",
    "# verbose=0,\n",
    "# )"
   ]
  },
  {
   "cell_type": "code",
   "execution_count": 38,
   "id": "bdb446a8",
   "metadata": {},
   "outputs": [],
   "source": [
    "model_pk_faker.load_weights(os.path.join(weights_path, \"train_from_linear_hardtanh_model_pk_vdpm_mu_\" + str(mu) + \".h5\"))"
   ]
  },
  {
   "cell_type": "code",
   "execution_count": null,
   "id": "9fc20ccf",
   "metadata": {},
   "outputs": [],
   "source": []
  },
  {
   "cell_type": "code",
   "execution_count": null,
   "id": "b4500ab8",
   "metadata": {},
   "outputs": [],
   "source": []
  },
  {
   "cell_type": "code",
   "execution_count": null,
   "id": "cb853629",
   "metadata": {},
   "outputs": [],
   "source": []
  },
  {
   "cell_type": "markdown",
   "id": "782f7468",
   "metadata": {},
   "source": [
    "# Bilinear Model: Dynamics is $Az + \\sum_{i=1}^{N_{u}}B_{i}zu_{i}$"
   ]
  },
  {
   "cell_type": "code",
   "execution_count": 39,
   "id": "c5bd98ae",
   "metadata": {},
   "outputs": [],
   "source": [
    "dic_bilinear = PsiNN(layer_sizes=dict_layer_size, n_psi_train=n_psi_train)"
   ]
  },
  {
   "cell_type": "code",
   "execution_count": 40,
   "id": "cd36fbbc",
   "metadata": {},
   "outputs": [],
   "source": [
    "solver_bilinear = KoopmanBilinearDLSolver(\n",
    "    dic=dic_bilinear, target_dim=target_dim, param_dim=param_dim, n_psi=n_psi\n",
    ")\n",
    "model_bilinear, model_K_u_pred_bilinear = solver_bilinear.build_model()"
   ]
  },
  {
   "cell_type": "code",
   "execution_count": 41,
   "id": "89896950",
   "metadata": {},
   "outputs": [],
   "source": [
    "model_bilinear.load_weights(\n",
    "    os.path.join(weights_path, \"model_bilinear_vdpm_mu_\" + str(mu) + \".h5\")\n",
    ")"
   ]
  },
  {
   "cell_type": "code",
   "execution_count": 42,
   "id": "f8082621",
   "metadata": {},
   "outputs": [
    {
     "name": "stdout",
     "output_type": "stream",
     "text": [
      "Model: \"K_u_bilinear_pred\"\n",
      "__________________________________________________________________________________________________\n",
      " Layer (type)                   Output Shape         Param #     Connected to                     \n",
      "==================================================================================================\n"
     ]
    },
    {
     "name": "stdout",
     "output_type": "stream",
     "text": [
      " input_17 (InputLayer)          [(None, 13)]         0           []                               \n",
      "                                                                                                  \n",
      " input_16 (InputLayer)          [(None, 1)]          0           []                               \n",
      "                                                                                                  \n",
      " tf.einsum (TFOpLambda)         (1, None, 13)        0           ['input_17[0][0]',               \n",
      "                                                                  'input_16[0][0]']               \n",
      "                                                                                                  \n",
      " tf.__operators__.getitem (Slic  (None, 13)          0           ['tf.einsum[0][0]']              \n",
      " ingOpLambda)                                                                                     \n",
      "                                                                                                  \n",
      " tf.identity (TFOpLambda)       (None, 13)           0           ['tf.__operators__.getitem[0][0]'\n",
      "                                                                 ]                                \n",
      "                                                                                                  \n",
      " Layer_A (Dense)                (None, 13)           169         ['input_17[0][0]']               \n",
      "                                                                                                  \n",
      " Layer_B (Dense)                (None, 13)           169         ['tf.identity[0][0]']            \n",
      "                                                                                                  \n",
      " tf.__operators__.add_1 (TFOpLa  (None, 13)          0           ['Layer_A[0][0]',                \n",
      " mbda)                                                            'Layer_B[0][0]']                \n",
      "                                                                                                  \n",
      "==================================================================================================\n",
      "Total params: 338\n",
      "Trainable params: 0\n",
      "Non-trainable params: 338\n",
      "__________________________________________________________________________________________________\n"
     ]
    }
   ],
   "source": [
    "model_K_u_pred_bilinear.summary()"
   ]
  },
  {
   "cell_type": "code",
   "execution_count": 43,
   "id": "4c330a14",
   "metadata": {},
   "outputs": [],
   "source": [
    "\n",
    "\n",
    "# # Train K(u) to be (A+Bu)\n",
    "# psi_x_data = dic_bilinear(data_x)\n",
    "# target = model_K_u_pred_bilinear([data_u, psi_x_data])\n",
    "# inputs_u = Input(shape=(param_dim,))\n",
    "# inputs_psi_x = Input(shape=(n_psi,))\n",
    "\n",
    "# fake_psi = model_K_u_pred_pk([inputs_u, inputs_psi_x])\n",
    "\n",
    "# test_K_model = Model(inputs=[inputs_u, inputs_psi_x], outputs=fake_psi)\n",
    "\n",
    "# test_K_model.compile(optimizer=Adam(0.000001), loss=\"mse\")\n",
    "# test_K_model.fit(x=[data_u, psi_x_data], y=target, epochs=500, batch_size=200, verbose=1)\n",
    "# dic_pk.set_weights(dic_bilinear.get_weights())\n",
    "\n"
   ]
  },
  {
   "cell_type": "code",
   "execution_count": null,
   "id": "a2fe4211",
   "metadata": {},
   "outputs": [],
   "source": []
  },
  {
   "cell_type": "markdown",
   "id": "871ca98b",
   "metadata": {},
   "source": [
    "## Prediction"
   ]
  },
  {
   "cell_type": "code",
   "execution_count": 44,
   "id": "fde1ce46",
   "metadata": {},
   "outputs": [],
   "source": [
    "from koopmanlib.functions import *"
   ]
  },
  {
   "cell_type": "markdown",
   "id": "4da3a1b9",
   "metadata": {},
   "source": [
    "## Calculate average value"
   ]
  },
  {
   "cell_type": "code",
   "execution_count": 45,
   "id": "59ba4a25",
   "metadata": {},
   "outputs": [],
   "source": [
    "np.random.seed(625)\n",
    "n_test = 20\n",
    "seed_x_list = np.random.randint(1, 300, size=(n_test,))\n",
    "seed_param_list = np.random.randint(1, 300, size=(n_test,))\n",
    "n_traj_test = 1\n",
    "traj_len_test = 50"
   ]
  },
  {
   "cell_type": "code",
   "execution_count": 46,
   "id": "991168ff",
   "metadata": {},
   "outputs": [],
   "source": [
    "ratio_pk_list = []\n",
    "ratio_linear_list = []\n",
    "ratio_bilinear_list = []\n",
    "# ratio_dmdc_list = []\n",
    "ratio_pk_faker_list = []"
   ]
  },
  {
   "cell_type": "code",
   "execution_count": 47,
   "id": "b4dc73e3",
   "metadata": {},
   "outputs": [],
   "source": [
    "data_pred_list_pk_group = []\n",
    "data_pred_list_linear_group = []\n",
    "data_pred_list_bilinear_group = []\n",
    "data_true_group = []\n",
    "# data_pred_list_dmdc_group = []\n",
    "data_pred_list_pk_faker_group = []\n"
   ]
  },
  {
   "cell_type": "code",
   "execution_count": 48,
   "id": "c29d21cf",
   "metadata": {},
   "outputs": [],
   "source": [
    "for seed_x, seed_param in zip(seed_x_list, seed_param_list):\n",
    "    vdp_mathieu_test = VanderPolMathieuTarget(\n",
    "        mu=mu, dim=target_dim, param_dim=param_dim, k1=k1, k2=k2, k4=k4, w0=w0\n",
    "    )\n",
    "\n",
    "    data_x_test, data_u_test = vdp_mathieu_test.generate_init_data(\n",
    "        n_traj=n_traj_test, traj_len=traj_len_test, seed_x=seed_x, seed_param=seed_param\n",
    "    )\n",
    "    data_x_init = tf.reshape(data_x_test[0], shape=(1, -1))\n",
    "    data_true = data_x_test\n",
    "\n",
    "    data_pred_list_pk = solver_pk.compute_data_list(traj_len_test, data_x_init, data_u_test)\n",
    "    data_pred_list_pk_faker = solver_pk_faker.compute_data_list(traj_len_test, data_x_init, data_u_test)\n",
    "    data_pred_list_linear = solver_linear.compute_data_list(\n",
    "        traj_len=traj_len_test, data_x_init=data_x_init, data_u=data_u_test\n",
    "    )\n",
    "    data_pred_list_bilinear = solver_bilinear.compute_data_list(\n",
    "        traj_len=traj_len_test, data_x_init=data_x_init, data_u=data_u_test\n",
    "    )\n",
    "\n",
    "    # data_pred_list_dmdc = solver_dmdc.compute_data_list(\n",
    "    #     traj_len=traj_len_test, data_x_init=data_x_init, data_u=data_u_test\n",
    "    # )\n",
    "\n",
    "    ratio_pk = compute_diff_ratio_one_traj(data_true, data_pred_list_pk)\n",
    "    ratio_linear = compute_diff_ratio_one_traj(data_true, data_pred_list_linear)\n",
    "    ratio_bilinear = compute_diff_ratio_one_traj(data_true, data_pred_list_bilinear)\n",
    "    # ratio_dmdc = compute_diff_ratio_one_traj(data_true, data_pred_list_dmdc)\n",
    "    ratio_pk_faker = compute_diff_ratio_one_traj(data_true, data_pred_list_pk_faker)\n",
    "\n",
    "    ratio_pk_list.append(ratio_pk)\n",
    "    ratio_linear_list.append(ratio_linear)\n",
    "    ratio_bilinear_list.append(ratio_bilinear)\n",
    "    # ratio_dmdc_list.append(ratio_dmdc)\n",
    "    ratio_pk_faker_list.append(ratio_pk_faker)\n",
    "\n",
    "    data_pred_list_pk_group.append(data_pred_list_pk)\n",
    "    data_pred_list_linear_group.append(data_pred_list_linear)\n",
    "    data_pred_list_bilinear_group.append(data_pred_list_bilinear)\n",
    "    # data_pred_list_dmdc_group.append(data_pred_list_dmdc)\n",
    "    data_pred_list_pk_faker_group.append(data_pred_list_pk_faker)\n",
    "\n",
    "    data_true_group.append(data_true)"
   ]
  },
  {
   "cell_type": "code",
   "execution_count": 69,
   "id": "e8c70a6d",
   "metadata": {},
   "outputs": [
    {
     "data": {
      "image/png": "[encoded data removed]",
      "text/plain": [
       "<Figure size 432x360 with 1 Axes>"
      ]
     },
     "metadata": {
      "needs_background": "light"
     },
     "output_type": "display_data"
    }
   ],
   "source": [
    "plt.figure(figsize=(6, 5))\n",
    "\n",
    "plt.plot(\n",
    "    data_pred_list_pk[:, 0], \n",
    "    data_pred_list_pk[:, 1], \n",
    "    label=\"Ours\", \n",
    "    color=\"steelblue\", \n",
    "    linewidth=3\n",
    ")\n",
    "    \n",
    "plt.plot(\n",
    "    data_pred_list_linear[:, 0],\n",
    "    data_pred_list_linear[:, 1],\n",
    "    label=\"M2\",\n",
    "    color=\"darkorange\",\n",
    "    linewidth=3,\n",
    ")\n",
    "plt.plot(\n",
    "    data_pred_list_bilinear[:, 0],\n",
    "    data_pred_list_bilinear[:, 1],\n",
    "    label=\"M3\",\n",
    "    color=\"forestgreen\",\n",
    "    linewidth=3,\n",
    ")\n",
    "\n",
    "# plt.plot(\n",
    "# data_pred_list_dmdc[:,0],\n",
    "# data_pred_list_dmdc[:,1],\n",
    "# label='DMDc',\n",
    "# color='red',\n",
    "# linewidth=3\n",
    "# )\n",
    "\n",
    "plt.plot(\n",
    "    data_pred_list_pk_faker[:, 0], \n",
    "    data_pred_list_pk_faker[:, 1], \n",
    "    label=\"PKNN-M2\", \n",
    "    color=\"purple\", \n",
    "    linewidth=3,\n",
    "    alpha=0.7\n",
    ")\n",
    "\n",
    "\n",
    "plt.plot(\n",
    "    data_true[:, 0], data_true[:, 1], label=\"True\", color=\"brown\", linestyle=\"dashed\", linewidth=3\n",
    ")\n",
    "plt.xlabel(r\"$x_{1}$\", fontsize=28)\n",
    "plt.ylabel(r\"$x_{2}$\", fontsize=28)\n",
    "plt.xticks(fontsize=18)\n",
    "plt.yticks(fontsize=18)\n",
    "plt.legend(fontsize=18)\n",
    "\n",
    "plt.savefig(os.path.join(figures_path, 'traj_linear_perturb_vdpm_'+str(mu)+'_.png'), dpi=200, bbox_inches='tight')\n",
    "plt.savefig(os.path.join(figures_path, 'traj_linear_perturb_vdpm_'+str(mu)+'_.pdf'), dpi=200, bbox_inches='tight')\n"
   ]
  },
  {
   "cell_type": "code",
   "execution_count": 51,
   "id": "a36e8965",
   "metadata": {},
   "outputs": [],
   "source": [
    "data_pred_list_pk_group = np.asarray(data_pred_list_pk_group)\n",
    "data_pred_list_linear_group = np.asarray(data_pred_list_linear_group)\n",
    "data_pred_list_bilinear_group = np.asarray(data_pred_list_bilinear_group)\n",
    "# data_pred_list_dmdc_group = np.asarray(data_pred_list_dmdc_group)\n",
    "data_pred_list_pk_faker_group = np.asarray(data_pred_list_pk_faker_group)\n",
    "data_true_group = np.asarray(data_true_group)"
   ]
  },
  {
   "cell_type": "code",
   "execution_count": 52,
   "id": "a6df8fe1",
   "metadata": {},
   "outputs": [],
   "source": [
    "# for i in range(data_pred_list_pk_group.shape[0]):\n",
    "#     plt.figure(figsize=(6, 5))\n",
    "#     plt.plot(\n",
    "#         data_pred_list_pk_group[i, :, 0],\n",
    "#         data_pred_list_pk_group[i, :, 1],\n",
    "#         label=\"Ours\",\n",
    "#         color=\"steelblue\",\n",
    "#         linewidth=3,\n",
    "#     )\n",
    "#     plt.plot(\n",
    "#         data_pred_list_linear_group[i, :, 0],\n",
    "#         data_pred_list_linear_group[i, :, 1],\n",
    "#         label=\"M2\",\n",
    "#         color=\"darkorange\",\n",
    "#         linewidth=3,\n",
    "#     )\n",
    "#     plt.plot(\n",
    "#         data_pred_list_bilinear_group[i, :, 0],\n",
    "#         data_pred_list_bilinear_group[i, :, 1],\n",
    "#         label=\"M3\",\n",
    "#         color=\"forestgreen\",\n",
    "#         linewidth=3,\n",
    "#     )\n",
    "#     plt.plot(\n",
    "#         data_true_group[i, :, 0],\n",
    "#         data_true_group[i, :, 1],\n",
    "#         label=\"True\",\n",
    "#         color=\"brown\",\n",
    "#         linestyle=\"dashed\",\n",
    "#         linewidth=3,\n",
    "#     )\n",
    "#     plt.xlabel(r\"$x_{1}$\", fontsize=28)\n",
    "#     plt.ylabel(r\"$x_{2}$\", fontsize=28)\n",
    "#     plt.xticks(fontsize=18)\n",
    "#     plt.yticks(fontsize=18)\n",
    "#     plt.legend(fontsize=18)"
   ]
  },
  {
   "cell_type": "code",
   "execution_count": 53,
   "id": "343656b1",
   "metadata": {},
   "outputs": [],
   "source": [
    "ratio_pk_list = np.asarray(ratio_pk_list)\n",
    "ratio_linear_list = np.asarray(ratio_linear_list)\n",
    "ratio_bilinear_list = np.asarray(ratio_bilinear_list)\n",
    "# ratio_dmdc_list = np.asarray(ratio_dmdc_list)\n",
    "ratio_pk_faker_list = np.asarray(ratio_pk_faker_list)"
   ]
  },
  {
   "cell_type": "code",
   "execution_count": 54,
   "id": "90863088",
   "metadata": {},
   "outputs": [],
   "source": [
    "ratio_pk_list_mean = np.mean(ratio_pk_list, axis=0)\n",
    "ratio_linear_list_mean = np.mean(ratio_linear_list, axis=0)\n",
    "ratio_bilinear_list_mean = np.mean(ratio_bilinear_list, axis=0)\n",
    "# ratio_dmdc_list_mean = np.mean(ratio_dmdc_list, axis=0)\n",
    "ratio_pk_faker_list_mean = np.mean(ratio_pk_faker_list, axis=0)"
   ]
  },
  {
   "cell_type": "code",
   "execution_count": 55,
   "id": "5843294e",
   "metadata": {},
   "outputs": [],
   "source": [
    "ratio_pk_list_median = np.median(ratio_pk_list, axis=0)\n",
    "ratio_linear_list_median = np.median(ratio_linear_list, axis=0)\n",
    "ratio_bilinear_list_median = np.median(ratio_bilinear_list, axis=0)\n",
    "# ratio_dmdc_list_median = np.median(ratio_dmdc_list, axis=0)\n",
    "ratio_pk_faker_list_median = np.median(ratio_pk_faker_list, axis=0)"
   ]
  },
  {
   "cell_type": "code",
   "execution_count": 56,
   "id": "a99da91a",
   "metadata": {},
   "outputs": [],
   "source": [
    "q_min = 0.35\n",
    "q_max = 0.65"
   ]
  },
  {
   "cell_type": "code",
   "execution_count": 57,
   "id": "30400bf9",
   "metadata": {},
   "outputs": [
    {
     "data": {
      "text/plain": [
       "array([[0.00000000e+00, 1.08002377e-04, 2.03615975e-04, 3.01131228e-04,\n",
       "        4.00254354e-04, 4.99888098e-04, 5.99304956e-04, 6.98935822e-04,\n",
       "        7.99435169e-04, 9.00911523e-04, 1.00299172e-03, 1.10484419e-03,\n",
       "        1.20616149e-03, 1.30617470e-03, 1.40491244e-03, 1.50188627e-03,\n",
       "        1.59667392e-03, 1.68908564e-03, 1.77910571e-03, 1.86665527e-03,\n",
       "        1.95118170e-03, 2.03266036e-03, 2.11104409e-03, 2.18604299e-03,\n",
       "        2.25746243e-03, 2.32521679e-03, 2.38890360e-03, 2.44831219e-03,\n",
       "        2.50332792e-03, 2.55383758e-03, 2.59953883e-03, 2.63992909e-03,\n",
       "        2.67458254e-03, 2.70314181e-03, 2.72566725e-03, 2.74217169e-03,\n",
       "        2.75307803e-03, 2.75845489e-03, 2.75832480e-03, 2.75278734e-03,\n",
       "        2.74249788e-03, 2.72798206e-03, 2.70951179e-03, 2.68795276e-03,\n",
       "        2.66420214e-03, 2.63909116e-03, 2.61354313e-03, 2.58817267e-03,\n",
       "        2.56403975e-03, 2.54278499e-03],\n",
       "       [0.00000000e+00, 3.93370647e-05, 7.88818044e-05, 1.18151677e-04,\n",
       "        1.60215690e-04, 2.02595845e-04, 2.42543546e-04, 2.79200682e-04,\n",
       "        3.13550272e-04, 3.47404823e-04, 3.83350304e-04, 4.19574813e-04,\n",
       "        4.57571273e-04, 4.95061727e-04, 5.32634614e-04, 5.70364493e-04,\n",
       "        6.07533524e-04, 6.45703852e-04, 6.83819154e-04, 7.22709164e-04,\n",
       "        7.63528690e-04, 8.05236370e-04, 8.49134133e-04, 8.94639935e-04,\n",
       "        9.40998601e-04, 9.87648502e-04, 1.03634197e-03, 1.08673803e-03,\n",
       "        1.13811665e-03, 1.19049001e-03, 1.24504630e-03, 1.30073407e-03,\n",
       "        1.35782754e-03, 1.41646804e-03, 1.47687495e-03, 1.53906026e-03,\n",
       "        1.60408298e-03, 1.67171894e-03, 1.74120469e-03, 1.81266922e-03,\n",
       "        1.88689550e-03, 1.96242782e-03, 2.03987658e-03, 2.11887646e-03,\n",
       "        2.20042804e-03, 2.28325987e-03, 2.36838103e-03, 2.45474669e-03,\n",
       "        2.54360242e-03, 2.63392393e-03],\n",
       "       [0.00000000e+00, 1.67294873e-04, 3.02151903e-04, 4.33390070e-04,\n",
       "        5.62271358e-04, 6.89102198e-04, 8.15854782e-04, 9.39165616e-04,\n",
       "        1.06212730e-03, 1.18393720e-03, 1.30131172e-03, 1.41465736e-03,\n",
       "        1.52579792e-03, 1.63330842e-03, 1.73622070e-03, 1.83638532e-03,\n",
       "        1.93455984e-03, 2.02819220e-03, 2.11974783e-03, 2.20643996e-03,\n",
       "        2.28792343e-03, 2.36694856e-03, 2.44190020e-03, 2.51161499e-03,\n",
       "        2.57646257e-03, 2.63617479e-03, 2.69140988e-03, 2.74338547e-03,\n",
       "        2.79113334e-03, 2.83616285e-03, 2.87711053e-03, 2.91475683e-03,\n",
       "        2.94900024e-03, 2.98168923e-03, 3.01253797e-03, 3.04029157e-03,\n",
       "        3.06525322e-03, 3.08904131e-03, 3.11152644e-03, 3.13355498e-03,\n",
       "        3.15579621e-03, 3.17849888e-03, 3.20095122e-03, 3.22368870e-03,\n",
       "        3.24810629e-03, 3.27323237e-03, 3.30061908e-03, 3.33103649e-03,\n",
       "        3.36510205e-03, 3.40198818e-03],\n",
       "       [0.00000000e+00, 1.51163827e-04, 2.74586727e-04, 3.96036511e-04,\n",
       "        5.09479839e-04, 6.15706200e-04, 7.14764313e-04, 8.11035751e-04,\n",
       "        9.01119862e-04, 9.87350760e-04, 1.06807531e-03, 1.14311629e-03,\n",
       "        1.21307966e-03, 1.27877052e-03, 1.33931162e-03, 1.39478664e-03,\n",
       "        1.44661803e-03, 1.49486598e-03, 1.53982603e-03, 1.58159780e-03,\n",
       "        1.62008459e-03, 1.65619539e-03, 1.69057095e-03, 1.72378909e-03,\n",
       "        1.75617229e-03, 1.78767967e-03, 1.81816347e-03, 1.84787998e-03,\n",
       "        1.87710946e-03, 1.90622421e-03, 1.93533105e-03, 1.96443421e-03,\n",
       "        1.99377301e-03, 2.02367205e-03, 2.05431677e-03, 2.08594317e-03,\n",
       "        2.11874803e-03, 2.15271607e-03, 2.18797034e-03, 2.22466973e-03,\n",
       "        2.26275115e-03, 2.30225975e-03, 2.34326682e-03, 2.38564526e-03,\n",
       "        2.42924270e-03, 2.47381264e-03, 2.51897069e-03, 2.56430880e-03,\n",
       "        2.60936355e-03, 2.65375303e-03],\n",
       "       [0.00000000e+00, 1.15014633e-04, 2.09873275e-04, 3.04441870e-04,\n",
       "        3.97970899e-04, 4.91863459e-04, 5.84276886e-04, 6.75601927e-04,\n",
       "        7.65925782e-04, 8.55343349e-04, 9.44397822e-04, 1.03299767e-03,\n",
       "        1.12113688e-03, 1.20892424e-03, 1.29614423e-03, 1.38275220e-03,\n",
       "        1.46860178e-03, 1.55375930e-03, 1.63831556e-03, 1.72224647e-03,\n",
       "        1.80544209e-03, 1.88790043e-03, 1.96971717e-03, 2.05098628e-03,\n",
       "        2.13178258e-03, 2.21213964e-03, 2.29203379e-03, 2.37146369e-03,\n",
       "        2.45043958e-03, 2.52898502e-03, 2.60704412e-03, 2.68463151e-03,\n",
       "        2.76180581e-03, 2.83850269e-03, 2.91476746e-03, 2.99056797e-03,\n",
       "        3.06587397e-03, 3.14070481e-03, 3.21509842e-03, 3.28907359e-03,\n",
       "        3.36266682e-03, 3.43588959e-03, 3.50877522e-03, 3.58135908e-03,\n",
       "        3.65366855e-03, 3.72571945e-03, 3.79747679e-03, 3.86892422e-03,\n",
       "        3.94003131e-03, 4.01075806e-03],\n",
       "       [0.00000000e+00, 3.40141258e-05, 6.80554588e-05, 9.95430694e-05,\n",
       "        1.23640293e-04, 1.48164625e-04, 1.69600248e-04, 1.90298823e-04,\n",
       "        2.07377563e-04, 2.23808008e-04, 2.37660515e-04, 2.49925446e-04,\n",
       "        2.60266176e-04, 2.68601932e-04, 2.75107905e-04, 2.78949388e-04,\n",
       "        2.81054884e-04, 2.81707229e-04, 2.81271283e-04, 2.80358300e-04,\n",
       "        2.79415760e-04, 2.79106488e-04, 2.80068950e-04, 2.82867353e-04,\n",
       "        2.88430246e-04, 2.97806885e-04, 3.11399596e-04, 3.30053941e-04,\n",
       "        3.53321066e-04, 3.80677892e-04, 4.13038191e-04, 4.50231638e-04,\n",
       "        4.92385967e-04, 5.38020963e-04, 5.87805872e-04, 6.41362705e-04,\n",
       "        6.98779495e-04, 7.60582923e-04, 8.26607133e-04, 8.95478863e-04,\n",
       "        9.68049614e-04, 1.04416715e-03, 1.12404010e-03, 1.20728170e-03,\n",
       "        1.29372527e-03, 1.38453300e-03, 1.47929294e-03, 1.57699472e-03,\n",
       "        1.67755435e-03, 1.78177908e-03],\n",
       "       [0.00000000e+00, 1.18123860e-04, 2.18935127e-04, 3.17791150e-04,\n",
       "        4.15497476e-04, 5.11723906e-04, 6.04756674e-04, 6.95327937e-04,\n",
       "        7.84135858e-04, 8.70435842e-04, 9.54372316e-04, 1.03604570e-03,\n",
       "        1.11531380e-03, 1.19217515e-03, 1.26635817e-03, 1.33783949e-03,\n",
       "        1.40677286e-03, 1.47289754e-03, 1.53576288e-03, 1.59568626e-03,\n",
       "        1.65199937e-03, 1.70535697e-03, 1.75587293e-03, 1.80326362e-03,\n",
       "        1.84691086e-03, 1.88727544e-03, 1.92395194e-03, 1.95681075e-03,\n",
       "        1.98631774e-03, 2.01180383e-03, 2.03372567e-03, 2.05210155e-03,\n",
       "        2.06694452e-03, 2.07748627e-03, 2.08478658e-03, 2.08863162e-03,\n",
       "        2.08833473e-03, 2.08397413e-03, 2.07660719e-03, 2.06638925e-03,\n",
       "        2.05282993e-03, 2.03617618e-03, 2.01668990e-03, 1.99472526e-03,\n",
       "        1.97002486e-03, 1.94317792e-03, 1.91435765e-03, 1.88428499e-03,\n",
       "        1.85311931e-03, 1.82139528e-03],\n",
       "       [0.00000000e+00, 9.37019671e-05, 1.65298068e-04, 2.33312200e-04,\n",
       "        2.97322941e-04, 3.59886910e-04, 4.18027781e-04, 4.72761243e-04,\n",
       "        5.24805210e-04, 5.73046130e-04, 6.18057724e-04, 6.60200454e-04,\n",
       "        6.98396713e-04, 7.32451948e-04, 7.62880545e-04, 7.89178785e-04,\n",
       "        8.11595016e-04, 8.30217938e-04, 8.44880744e-04, 8.55827281e-04,\n",
       "        8.62990481e-04, 8.66562807e-04, 8.66679859e-04, 8.63540220e-04,\n",
       "        8.57309432e-04, 8.48239549e-04, 8.36747188e-04, 8.23165620e-04,\n",
       "        8.07848022e-04, 7.91091772e-04, 7.73553666e-04, 7.55818298e-04,\n",
       "        7.38498152e-04, 7.22182795e-04, 7.07490140e-04, 6.94930909e-04,\n",
       "        6.85109023e-04, 6.78325175e-04, 6.74631727e-04, 6.74350656e-04,\n",
       "        6.76776824e-04, 6.82003974e-04, 6.89503783e-04, 6.98219306e-04,\n",
       "        7.07892535e-04, 7.17551613e-04, 7.26592913e-04, 7.34288910e-04,\n",
       "        7.39855382e-04, 7.42569947e-04],\n",
       "       [0.00000000e+00, 4.40752967e-05, 6.51763230e-05, 9.36283043e-05,\n",
       "        1.14985745e-04, 1.34893263e-04, 1.61741439e-04, 1.85995409e-04,\n",
       "        2.10733742e-04, 2.41653241e-04, 2.73097671e-04, 3.04041333e-04,\n",
       "        3.31724728e-04, 3.63039823e-04, 3.91857668e-04, 4.22430577e-04,\n",
       "        4.54392817e-04, 4.90341440e-04, 5.26459285e-04, 5.63594019e-04,\n",
       "        6.04805990e-04, 6.49856841e-04, 6.98968483e-04, 7.48035652e-04,\n",
       "        7.96058594e-04, 8.44145966e-04, 8.93513506e-04, 9.45404741e-04,\n",
       "        1.00021429e-03, 1.05961924e-03, 1.12419134e-03, 1.19272349e-03,\n",
       "        1.26695094e-03, 1.34559777e-03, 1.42795842e-03, 1.51562872e-03,\n",
       "        1.60685830e-03, 1.70173799e-03, 1.80029021e-03, 1.90163437e-03,\n",
       "        2.00668326e-03, 2.11541815e-03, 2.22723596e-03, 2.34269621e-03,\n",
       "        2.46142297e-03, 2.58363672e-03, 2.70933182e-03, 2.83846640e-03,\n",
       "        2.97131588e-03, 3.10751899e-03],\n",
       "       [0.00000000e+00, 5.70037933e-05, 1.11594277e-04, 1.55649254e-04,\n",
       "        1.95572513e-04, 2.35539302e-04, 2.73402203e-04, 3.05362095e-04,\n",
       "        3.33293373e-04, 3.56171226e-04, 3.75005291e-04, 3.90215081e-04,\n",
       "        4.01653274e-04, 4.11087831e-04, 4.15764104e-04, 4.16877857e-04,\n",
       "        4.14930942e-04, 4.10138105e-04, 4.02278350e-04, 3.91945977e-04,\n",
       "        3.80355001e-04, 3.68531390e-04, 3.56595105e-04, 3.45634911e-04,\n",
       "        3.37045271e-04, 3.31699640e-04, 3.30604570e-04, 3.35437593e-04,\n",
       "        3.46142604e-04, 3.63659444e-04, 3.87249148e-04, 4.15566088e-04,\n",
       "        4.47606362e-04, 4.82950420e-04, 5.19893431e-04, 5.56690788e-04,\n",
       "        5.92851394e-04, 6.28464370e-04, 6.62069956e-04, 6.93404057e-04,\n",
       "        7.22161903e-04, 7.48447943e-04, 7.71366681e-04, 7.90715718e-04,\n",
       "        8.06151394e-04, 8.17818876e-04, 8.25417095e-04, 8.28933551e-04,\n",
       "        8.28420406e-04, 8.24237687e-04],\n",
       "       [0.00000000e+00, 5.79015271e-05, 1.13479609e-04, 1.73028124e-04,\n",
       "        2.32701922e-04, 2.94460335e-04, 3.56756981e-04, 4.19429911e-04,\n",
       "        4.82754808e-04, 5.50570458e-04, 6.19656759e-04, 6.90247730e-04,\n",
       "        7.61909746e-04, 8.33902022e-04, 9.06603075e-04, 9.79499670e-04,\n",
       "        1.05293462e-03, 1.12539356e-03, 1.19630510e-03, 1.26608895e-03,\n",
       "        1.33395335e-03, 1.39963691e-03, 1.46291335e-03, 1.52344900e-03,\n",
       "        1.58114403e-03, 1.63557863e-03, 1.68623318e-03, 1.73252838e-03,\n",
       "        1.77438980e-03, 1.81153133e-03, 1.84385319e-03, 1.87126885e-03,\n",
       "        1.89376611e-03, 1.91131211e-03, 1.92371719e-03, 1.93128544e-03,\n",
       "        1.93432443e-03, 1.93284421e-03, 1.92717062e-03, 1.91778800e-03,\n",
       "        1.90556551e-03, 1.89104340e-03, 1.87445847e-03, 1.85686715e-03,\n",
       "        1.83874512e-03, 1.82092017e-03, 1.80371167e-03, 1.78842984e-03,\n",
       "        1.77678873e-03, 1.77033276e-03],\n",
       "       [0.00000000e+00, 2.18532835e-05, 3.44815321e-05, 4.27001145e-05,\n",
       "        4.39664188e-05, 4.20800569e-05, 3.99444168e-05, 3.87826383e-05,\n",
       "        4.00457419e-05, 4.77275251e-05, 5.86774070e-05, 7.64643410e-05,\n",
       "        9.81232472e-05, 1.23165875e-04, 1.50853381e-04, 1.82295503e-04,\n",
       "        2.18153012e-04, 2.58543243e-04, 3.03669116e-04, 3.54707215e-04,\n",
       "        4.11495114e-04, 4.73406945e-04, 5.40303655e-04, 6.09759450e-04,\n",
       "        6.82673495e-04, 7.58829470e-04, 8.38689138e-04, 9.21902226e-04,\n",
       "        1.00734238e-03, 1.09514253e-03, 1.18523392e-03, 1.27787394e-03,\n",
       "        1.37258948e-03, 1.46991110e-03, 1.56902805e-03, 1.66928898e-03,\n",
       "        1.77055118e-03, 1.87238247e-03, 1.97451239e-03, 2.07666221e-03,\n",
       "        2.17865916e-03, 2.28025152e-03, 2.38105890e-03, 2.48061494e-03,\n",
       "        2.57836053e-03, 2.67399706e-03, 2.76700702e-03, 2.85723249e-03,\n",
       "        2.94442151e-03, 3.02811503e-03],\n",
       "       [0.00000000e+00, 1.86669962e-04, 3.44773011e-04, 5.02674508e-04,\n",
       "        6.58742042e-04, 8.16543029e-04, 9.76785120e-04, 1.13584909e-03,\n",
       "        1.29535627e-03, 1.45518356e-03, 1.61408485e-03, 1.77411879e-03,\n",
       "        1.93431451e-03, 2.09503508e-03, 2.25451630e-03, 2.41380117e-03,\n",
       "        2.57220005e-03, 2.72808762e-03, 2.88129325e-03, 3.03344446e-03,\n",
       "        3.18265439e-03, 3.33187880e-03, 3.47717637e-03, 3.62073308e-03,\n",
       "        3.76306269e-03, 3.90307889e-03, 4.04035911e-03, 4.17304059e-03,\n",
       "        4.30274804e-03, 4.42821363e-03, 4.54973199e-03, 4.66888799e-03,\n",
       "        4.78648076e-03, 4.89927685e-03, 5.00718379e-03, 5.11308153e-03,\n",
       "        5.21507980e-03, 5.31374124e-03, 5.40698866e-03, 5.49464287e-03,\n",
       "        5.57844800e-03, 5.65668494e-03, 5.73222628e-03, 5.80546953e-03,\n",
       "        5.87344084e-03, 5.93628087e-03, 5.99578888e-03, 6.05356583e-03,\n",
       "        6.10840730e-03, 6.16113914e-03],\n",
       "       [0.00000000e+00, 1.47033843e-04, 2.69807503e-04, 3.92375671e-04,\n",
       "        5.16821117e-04, 6.41241895e-04, 7.64142684e-04, 8.85571985e-04,\n",
       "        1.00555224e-03, 1.12419534e-03, 1.24164383e-03, 1.35756311e-03,\n",
       "        1.47225947e-03, 1.58583593e-03, 1.69857236e-03, 1.81022036e-03,\n",
       "        1.92051040e-03, 2.02929666e-03, 2.13634171e-03, 2.24069694e-03,\n",
       "        2.34197139e-03, 2.44008561e-03, 2.53461347e-03, 2.62738435e-03,\n",
       "        2.71754911e-03, 2.80515286e-03, 2.88933648e-03, 2.97002624e-03,\n",
       "        3.04854236e-03, 3.12467001e-03, 3.19843546e-03, 3.26904530e-03,\n",
       "        3.33707874e-03, 3.40036649e-03, 3.45952381e-03, 3.51544583e-03,\n",
       "        3.56754451e-03, 3.61626156e-03, 3.66162421e-03, 3.70403699e-03,\n",
       "        3.74328765e-03, 3.77893860e-03, 3.81054380e-03, 3.83797925e-03,\n",
       "        3.86071533e-03, 3.88030112e-03, 3.89538185e-03, 3.90742469e-03,\n",
       "        3.91618422e-03, 3.92102590e-03],\n",
       "       [0.00000000e+00, 5.32743096e-05, 1.01876993e-04, 1.53747904e-04,\n",
       "        2.09674216e-04, 2.68689692e-04, 3.30672303e-04, 3.96896172e-04,\n",
       "        4.66707283e-04, 5.39813508e-04, 6.16118253e-04, 6.95566729e-04,\n",
       "        7.77672792e-04, 8.62477095e-04, 9.50161363e-04, 1.04035778e-03,\n",
       "        1.13298218e-03, 1.22781117e-03, 1.32485479e-03, 1.42411429e-03,\n",
       "        1.52547489e-03, 1.62877841e-03, 1.73388472e-03, 1.84062776e-03,\n",
       "        1.94861184e-03, 2.05763610e-03, 2.16728675e-03, 2.27736095e-03,\n",
       "        2.38773778e-03, 2.49823213e-03, 2.60839185e-03, 2.71814119e-03,\n",
       "        2.82704830e-03, 2.93482780e-03, 3.04150695e-03, 3.14694244e-03,\n",
       "        3.25093741e-03, 3.35300049e-03, 3.45327072e-03, 3.55137601e-03,\n",
       "        3.64673578e-03, 3.73941036e-03, 3.82945325e-03, 3.91687121e-03,\n",
       "        4.00152157e-03, 4.08321360e-03, 4.16117386e-03, 4.23581255e-03,\n",
       "        4.30680852e-03, 4.37353841e-03],\n",
       "       [0.00000000e+00, 1.42802721e-04, 2.58152838e-04, 3.72312317e-04,\n",
       "        4.86489169e-04, 5.99822156e-04, 7.13078712e-04, 8.25799557e-04,\n",
       "        9.37654304e-04, 1.04868186e-03, 1.15918836e-03, 1.26927005e-03,\n",
       "        1.37880338e-03, 1.48778323e-03, 1.59616171e-03, 1.70387176e-03,\n",
       "        1.81083057e-03, 1.91709834e-03, 2.02263466e-03, 2.12748201e-03,\n",
       "        2.23152236e-03, 2.33487888e-03, 2.43742557e-03, 2.53920019e-03,\n",
       "        2.63998057e-03, 2.74003827e-03, 2.83920615e-03, 2.93745275e-03,\n",
       "        3.03495641e-03, 3.13162134e-03, 3.22749746e-03, 3.32261207e-03,\n",
       "        3.41680048e-03, 3.51011788e-03, 3.60263331e-03, 3.69421447e-03,\n",
       "        3.78500073e-03, 3.87506486e-03, 3.96419613e-03, 4.05255692e-03,\n",
       "        4.14008578e-03, 4.22701631e-03, 4.31322606e-03, 4.39873906e-03,\n",
       "        4.48353570e-03, 4.56768861e-03, 4.65119828e-03, 4.73418195e-03,\n",
       "        4.81662814e-03, 4.89868560e-03],\n",
       "       [0.00000000e+00, 3.18907882e-04, 5.73374336e-04, 8.16383827e-04,\n",
       "        1.05094728e-03, 1.27675309e-03, 1.49224278e-03, 1.69997524e-03,\n",
       "        1.90180337e-03, 2.09878471e-03, 2.29125822e-03, 2.47747048e-03,\n",
       "        2.65724289e-03, 2.82836774e-03, 2.99166690e-03, 3.14891663e-03,\n",
       "        3.29871687e-03, 3.44309694e-03, 3.58149061e-03, 3.71590489e-03,\n",
       "        3.84745553e-03, 3.97538775e-03, 4.09927935e-03, 4.21846848e-03,\n",
       "        4.33329687e-03, 4.44418893e-03, 4.55212635e-03, 4.65642472e-03,\n",
       "        4.75736452e-03, 4.85671870e-03, 4.95405338e-03, 5.04962713e-03,\n",
       "        5.14197849e-03, 5.23233463e-03, 5.32234818e-03, 5.41111564e-03,\n",
       "        5.49972154e-03, 5.58826845e-03, 5.67585377e-03, 5.76227229e-03,\n",
       "        5.84799267e-03, 5.93491298e-03, 6.02254325e-03, 6.11108588e-03,\n",
       "        6.20054216e-03, 6.29105586e-03, 6.38278701e-03, 6.47421220e-03,\n",
       "        6.56606271e-03, 6.65768271e-03],\n",
       "       [0.00000000e+00, 5.00785011e-05, 8.49810753e-05, 1.14152075e-04,\n",
       "        1.38514693e-04, 1.57993089e-04, 1.73126278e-04, 1.84046876e-04,\n",
       "        1.90984556e-04, 1.93714406e-04, 1.92863956e-04, 1.88872137e-04,\n",
       "        1.83352046e-04, 1.78735960e-04, 1.78123224e-04, 1.84327445e-04,\n",
       "        1.99591617e-04, 2.24239084e-04, 2.59040472e-04, 3.02503707e-04,\n",
       "        3.53791896e-04, 4.12601395e-04, 4.76883754e-04, 5.45516195e-04,\n",
       "        6.18416576e-04, 6.94871953e-04, 7.74793319e-04, 8.58946299e-04,\n",
       "        9.46300204e-04, 1.03702803e-03, 1.13025900e-03, 1.22537443e-03,\n",
       "        1.32175823e-03, 1.42019593e-03, 1.52050918e-03, 1.62207480e-03,\n",
       "        1.72382339e-03, 1.82554558e-03, 1.92677289e-03, 2.02727177e-03,\n",
       "        2.12668851e-03, 2.22496407e-03, 2.32192714e-03, 2.41745869e-03,\n",
       "        2.51083923e-03, 2.60141175e-03, 2.68879985e-03, 2.77364238e-03,\n",
       "        2.85606085e-03, 2.93582827e-03],\n",
       "       [0.00000000e+00, 1.76898539e-04, 3.25040072e-04, 4.69008508e-04,\n",
       "        6.10452863e-04, 7.52041096e-04, 8.93475515e-04, 1.03634661e-03,\n",
       "        1.17884788e-03, 1.31942333e-03, 1.45895439e-03, 1.59809282e-03,\n",
       "        1.73441010e-03, 1.86908868e-03, 2.00064907e-03, 2.12991102e-03,\n",
       "        2.25631059e-03, 2.37942155e-03, 2.49865765e-03, 2.61476005e-03,\n",
       "        2.72662144e-03, 2.83425377e-03, 2.93750828e-03, 3.03750389e-03,\n",
       "        3.13330594e-03, 3.22676786e-03, 3.31808752e-03, 3.40684887e-03,\n",
       "        3.49288691e-03, 3.57586235e-03, 3.65569329e-03, 3.73263341e-03,\n",
       "        3.80433725e-03, 3.87059205e-03, 3.93295482e-03, 3.99086982e-03,\n",
       "        4.04544142e-03, 4.09603962e-03, 4.14336106e-03, 4.18597139e-03,\n",
       "        4.22637039e-03, 4.26447886e-03, 4.29875432e-03, 4.33078818e-03,\n",
       "        4.35914714e-03, 4.38605495e-03, 4.41063016e-03, 4.43297646e-03,\n",
       "        4.45565732e-03, 4.47730158e-03],\n",
       "       [0.00000000e+00, 1.95814091e-05, 3.91876636e-05, 6.14498860e-05,\n",
       "        8.09189730e-05, 9.90923774e-05, 1.19723733e-04, 1.40885508e-04,\n",
       "        1.60519184e-04, 1.82414419e-04, 2.03307697e-04, 2.25078071e-04,\n",
       "        2.48683689e-04, 2.73473901e-04, 3.00090466e-04, 3.29039222e-04,\n",
       "        3.58826181e-04, 3.88275175e-04, 4.17796668e-04, 4.49085745e-04,\n",
       "        4.80533751e-04, 5.13237366e-04, 5.47534351e-04, 5.83179973e-04,\n",
       "        6.18894654e-04, 6.55223884e-04, 6.92117183e-04, 7.30718378e-04,\n",
       "        7.69540186e-04, 8.08861327e-04, 8.47927692e-04, 8.86683296e-04,\n",
       "        9.26751949e-04, 9.67436337e-04, 1.00791286e-03, 1.04992916e-03,\n",
       "        1.09294099e-03, 1.13588525e-03, 1.17939800e-03, 1.22284704e-03,\n",
       "        1.26631837e-03, 1.30976876e-03, 1.35363222e-03, 1.39844413e-03,\n",
       "        1.44414152e-03, 1.49040992e-03, 1.53834446e-03, 1.58793859e-03,\n",
       "        1.63799256e-03, 1.68929384e-03]])"
      ]
     },
     "execution_count": 57,
     "metadata": {},
     "output_type": "execute_result"
    }
   ],
   "source": [
    "ratio_pk_list"
   ]
  },
  {
   "cell_type": "code",
   "execution_count": 58,
   "id": "a97a2f25",
   "metadata": {},
   "outputs": [],
   "source": [
    "ratio_pk_list_min = np.quantile(ratio_pk_list, q=q_min, axis=0)\n",
    "ratio_linear_list_min = np.quantile(ratio_linear_list, q=q_min, axis=0)\n",
    "ratio_bilinear_list_min = np.quantile(ratio_bilinear_list, q=q_min, axis=0)\n",
    "# ratio_dmdc_list_min = np.quantile(ratio_dmdc_list, q=q_min, axis=0)\n",
    "ratio_pk_faker_list_min = np.quantile(ratio_pk_faker_list, q=q_min, axis=0)"
   ]
  },
  {
   "cell_type": "code",
   "execution_count": 59,
   "id": "d34f9a5c",
   "metadata": {},
   "outputs": [],
   "source": [
    "ratio_pk_list_max = np.quantile(ratio_pk_list, q=q_max, axis=0)\n",
    "ratio_linear_list_max = np.quantile(ratio_linear_list, q=q_max, axis=0)\n",
    "ratio_bilinear_list_max = np.quantile(ratio_bilinear_list, q=q_max, axis=0)\n",
    "# ratio_dmdc_list_max = np.quantile(ratio_dmdc_list, q=q_max, axis=0)\n",
    "ratio_pk_faker_list_max = np.quantile(ratio_pk_faker_list, q=q_max, axis=0)"
   ]
  },
  {
   "cell_type": "code",
   "execution_count": 60,
   "id": "b05843d9",
   "metadata": {},
   "outputs": [],
   "source": [
    "x_axis = np.arange(0, traj_len_test, 1)"
   ]
  },
  {
   "cell_type": "code",
   "execution_count": 71,
   "id": "cb16eaf8",
   "metadata": {},
   "outputs": [
    {
     "data": {
      "image/png": "[encoded data removed]",
      "text/plain": [
       "<Figure size 432x288 with 1 Axes>"
      ]
     },
     "metadata": {
      "needs_background": "light"
     },
     "output_type": "display_data"
    }
   ],
   "source": [
    "plt.figure(figsize=(6, 4))\n",
    "\n",
    "plt.plot(ratio_pk_list_median, label=\"Ours\", color=\"steelblue\", linewidth=3)\n",
    "plt.fill_between(x_axis, ratio_pk_list_min, ratio_pk_list_max, color=\"lightsteelblue\", alpha=0.5)\n",
    "plt.plot(ratio_linear_list_median, label=\"M2\", color=\"darkorange\", linewidth=3)\n",
    "plt.fill_between(\n",
    "    x_axis, ratio_linear_list_min, ratio_linear_list_max, color=\"navajowhite\", alpha=0.5\n",
    ")\n",
    "plt.plot(ratio_bilinear_list_median, label=\"M3\", color=\"forestgreen\", linewidth=3)\n",
    "plt.fill_between(\n",
    "    x_axis, ratio_bilinear_list_min, ratio_bilinear_list_max, color=\"darkseagreen\", alpha=0.5\n",
    ")\n",
    "\n",
    "plt.plot(ratio_pk_faker_list_median, label=\"PKNN-M2\", color=\"purple\", linewidth=3, alpha=0.7)\n",
    "plt.fill_between(x_axis, ratio_pk_faker_list_min, ratio_pk_faker_list_max, color=\"thistle\", alpha=0.7)\n",
    "\n",
    "\n",
    "plt.ticklabel_format(axis=\"y\", style=\"sci\", scilimits=(0, 0))\n",
    "plt.gca().yaxis.get_offset_text().set_fontsize(18)\n",
    "\n",
    "plt.xlabel(r\"$n$\", fontsize=28)\n",
    "plt.ylabel(\"Error\", fontsize=28)\n",
    "plt.xticks(fontsize=18)\n",
    "plt.yticks(fontsize=18)\n",
    "plt.legend(fontsize=18)\n",
    "\n",
    "plt.savefig(os.path.join(figures_path, 'error_linear_perturb_vdpm_'+str(mu)+'_.png'), dpi=200, bbox_inches='tight')\n",
    "plt.savefig(os.path.join(figures_path, 'error_linear_perturb_vdpm_'+str(mu)+'_.pdf'), dpi=200, bbox_inches='tight')\n"
   ]
  },
  {
   "cell_type": "code",
   "execution_count": null,
   "id": "0d5d9a91",
   "metadata": {},
   "outputs": [],
   "source": []
  }
 ],
 "metadata": {
  "kernelspec": {
   "display_name": "koopman",
   "language": "python",
   "name": "python3"
  },
  "language_info": {
   "codemirror_mode": {
    "name": "ipython",
    "version": 3
   },
   "file_extension": ".py",
   "mimetype": "text/x-python",
   "name": "python",
   "nbconvert_exporter": "python",
   "pygments_lexer": "ipython3",
   "version": "3.8.8"
  }
 },
 "nbformat": 4,
 "nbformat_minor": 5
}
