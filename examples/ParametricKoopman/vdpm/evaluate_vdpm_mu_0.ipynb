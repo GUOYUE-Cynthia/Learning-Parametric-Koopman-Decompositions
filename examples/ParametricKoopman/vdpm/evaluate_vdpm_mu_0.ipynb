{
 "cells": [
  {
   "cell_type": "code",
   "execution_count": 1,
   "id": "a3902974",
   "metadata": {},
   "outputs": [],
   "source": [
    "import os\n",
    "\n",
    "os.environ[\"CUDA_VISIBLE_DEVICES\"] = \"-1\""
   ]
  },
  {
   "cell_type": "code",
   "execution_count": 2,
   "id": "de85dd8b",
   "metadata": {},
   "outputs": [],
   "source": [
    "%load_ext autoreload\n",
    "%autoreload 2"
   ]
  },
  {
   "cell_type": "code",
   "execution_count": 3,
   "id": "20eb0b2f",
   "metadata": {},
   "outputs": [
    {
     "name": "stderr",
     "output_type": "stream",
     "text": [
      "2024-03-21 19:32:59.326196: I tensorflow/core/platform/cpu_feature_guard.cc:193] This TensorFlow binary is optimized with oneAPI Deep Neural Network Library (oneDNN) to use the following CPU instructions in performance-critical operations:  AVX2 AVX512F AVX512_VNNI FMA\n",
      "To enable them in other operations, rebuild TensorFlow with the appropriate compiler flags.\n",
      "2024-03-21 19:32:59.981858: I tensorflow/core/util/port.cc:104] oneDNN custom operations are on. You may see slightly different numerical results due to floating-point round-off errors from different computation orders. To turn them off, set the environment variable `TF_ENABLE_ONEDNN_OPTS=0`.\n",
      "2024-03-21 19:33:06.610211: W tensorflow/compiler/xla/stream_executor/platform/default/dso_loader.cc:64] Could not load dynamic library 'libnvinfer.so.7'; dlerror: libnvrtc.so.10.2: cannot open shared object file: No such file or directory; LD_LIBRARY_PATH: /usr/local/cuda-11.1/lib64:\n",
      "2024-03-21 19:33:06.610996: W tensorflow/compiler/xla/stream_executor/platform/default/dso_loader.cc:64] Could not load dynamic library 'libnvinfer_plugin.so.7'; dlerror: libnvrtc.so.10.2: cannot open shared object file: No such file or directory; LD_LIBRARY_PATH: /usr/local/cuda-11.1/lib64:\n",
      "2024-03-21 19:33:06.611029: W tensorflow/compiler/tf2tensorrt/utils/py_utils.cc:38] TF-TRT Warning: Cannot dlopen some TensorRT libraries. If you would like to use Nvidia GPU with TensorRT, please make sure the missing libraries mentioned above are installed properly.\n"
     ]
    }
   ],
   "source": [
    "import numpy as np\n",
    "import tensorflow as tf"
   ]
  },
  {
   "cell_type": "code",
   "execution_count": 4,
   "id": "20434742",
   "metadata": {},
   "outputs": [],
   "source": [
    "import json\n",
    "import sys"
   ]
  },
  {
   "cell_type": "code",
   "execution_count": 5,
   "id": "b57cf3bc",
   "metadata": {},
   "outputs": [],
   "source": [
    "from tensorflow.keras.layers import Dense, Input, Layer\n",
    "from tensorflow.keras.models import Model\n",
    "from tensorflow.keras.optimizers import Adam"
   ]
  },
  {
   "cell_type": "code",
   "execution_count": 6,
   "id": "a68ff93e",
   "metadata": {},
   "outputs": [],
   "source": [
    "import matplotlib.pyplot as plt"
   ]
  },
  {
   "cell_type": "code",
   "execution_count": 7,
   "id": "46c614f7",
   "metadata": {},
   "outputs": [],
   "source": [
    "from koopmanlib.dictionary import PsiNN\n",
    "from koopmanlib.param_solver import (\n",
    "    KoopmanBilinearDLSolver,\n",
    "    KoopmanLinearDLSolver,\n",
    "    KoopmanParametricDLSolver,\n",
    ")\n",
    "from koopmanlib.target import VanderPolMathieuTarget"
   ]
  },
  {
   "cell_type": "code",
   "execution_count": 8,
   "id": "e707adcb",
   "metadata": {},
   "outputs": [],
   "source": [
    "config_file = \"config_vdpm.json\"\n",
    "\n",
    "index = 0\n",
    "with open(config_file, \"r\") as f:\n",
    "    config = json.load(f)\n",
    "\n",
    "data_path = config[\"data_settings\"][\"data_path\"]\n",
    "weights_path = config[\"nn_settings\"][\"weights_path\"]\n",
    "figures_path = config[\"data_settings\"][\"figures_path\"]\n",
    "\n",
    "\n",
    "n_traj = config[\"data_settings\"][\"n_traj\"]\n",
    "traj_len = config[\"data_settings\"][\"traj_len\"]\n",
    "mu = config[\"data_settings\"][\"mu\"][index]\n",
    "\n",
    "n_psi_train = config[\"nn_settings\"][\"n_psi_train\"]\n",
    "dict_layer_size = config[\"nn_settings\"][\"dict_layer_size\"]\n",
    "K_layer_size = config[\"nn_settings\"][\"K_layer_size\"][index]"
   ]
  },
  {
   "cell_type": "code",
   "execution_count": 9,
   "id": "d2d87a06",
   "metadata": {},
   "outputs": [
    {
     "data": {
      "text/plain": [
       "[64, 64]"
      ]
     },
     "execution_count": 9,
     "metadata": {},
     "output_type": "execute_result"
    }
   ],
   "source": [
    "dict_layer_size"
   ]
  },
  {
   "cell_type": "code",
   "execution_count": 10,
   "id": "cd69951e",
   "metadata": {},
   "outputs": [
    {
     "name": "stdout",
     "output_type": "stream",
     "text": [
      "mu 0\n",
      "K_layer_size [128]\n"
     ]
    }
   ],
   "source": [
    "print(\"mu\", mu)\n",
    "print(\"K_layer_size\", K_layer_size)"
   ]
  },
  {
   "cell_type": "code",
   "execution_count": 11,
   "id": "3719b75b",
   "metadata": {},
   "outputs": [],
   "source": [
    "target_dim = 2\n",
    "param_dim = 1\n",
    "\n",
    "n_psi = 1 + target_dim + n_psi_train"
   ]
  },
  {
   "cell_type": "code",
   "execution_count": 12,
   "id": "fc8d2ef1",
   "metadata": {},
   "outputs": [
    {
     "data": {
      "text/plain": [
       "13"
      ]
     },
     "execution_count": 12,
     "metadata": {},
     "output_type": "execute_result"
    }
   ],
   "source": [
    "n_psi"
   ]
  },
  {
   "cell_type": "code",
   "execution_count": 13,
   "id": "6db408fa",
   "metadata": {},
   "outputs": [],
   "source": [
    "# Set parameters in the vdpm equation.\n",
    "k1, k2, k4, w0 = 2, 2, 1, 1"
   ]
  },
  {
   "cell_type": "code",
   "execution_count": 14,
   "id": "348b3466",
   "metadata": {},
   "outputs": [],
   "source": [
    "# Load data\n",
    "dict_data = np.load(\n",
    "    os.path.join(data_path, \"vdpm_data_mu_\" + str(mu) + \".npy\"), allow_pickle=True\n",
    ")\n",
    "\n",
    "data_x = dict_data[()][\"data_x\"]\n",
    "data_y = dict_data[()][\"data_y\"]\n",
    "data_u = dict_data[()][\"data_u\"]"
   ]
  },
  {
   "cell_type": "code",
   "execution_count": 15,
   "id": "7ba3c3ca",
   "metadata": {},
   "outputs": [],
   "source": [
    "vdp_mathieu = VanderPolMathieuTarget(\n",
    "    mu=mu, dim=target_dim, param_dim=param_dim, k1=k1, k2=k2, k4=k4, w0=w0\n",
    ")"
   ]
  },
  {
   "cell_type": "code",
   "execution_count": 16,
   "id": "a74259c0",
   "metadata": {},
   "outputs": [],
   "source": [
    "dic_pk = PsiNN(layer_sizes=dict_layer_size, n_psi_train=n_psi_train)"
   ]
  },
  {
   "cell_type": "markdown",
   "id": "8733042d",
   "metadata": {},
   "source": [
    "# Set Linear weights into PKNN\n",
    "## Design the activation function\n"
   ]
  },
  {
   "cell_type": "code",
   "execution_count": 17,
   "id": "88255302",
   "metadata": {},
   "outputs": [],
   "source": [
    "\n",
    "@tf.function\n",
    "def hard_tanh(x):\n",
    "    return tf.clip_by_value(x, clip_value_min=-1., clip_value_max=1.)"
   ]
  },
  {
   "cell_type": "code",
   "execution_count": 18,
   "id": "fb6462d6",
   "metadata": {},
   "outputs": [
    {
     "name": "stderr",
     "output_type": "stream",
     "text": [
      "2024-03-21 19:33:29.436348: E tensorflow/compiler/xla/stream_executor/cuda/cuda_driver.cc:267] failed call to cuInit: CUDA_ERROR_NO_DEVICE: no CUDA-capable device is detected\n",
      "2024-03-21 19:33:29.436455: I tensorflow/compiler/xla/stream_executor/cuda/cuda_diagnostics.cc:169] retrieving CUDA diagnostic information for host: neon\n",
      "2024-03-21 19:33:29.436464: I tensorflow/compiler/xla/stream_executor/cuda/cuda_diagnostics.cc:176] hostname: neon\n",
      "2024-03-21 19:33:29.437024: I tensorflow/compiler/xla/stream_executor/cuda/cuda_diagnostics.cc:200] libcuda reported version is: 470.239.6\n",
      "2024-03-21 19:33:29.437119: I tensorflow/compiler/xla/stream_executor/cuda/cuda_diagnostics.cc:204] kernel reported version is: 470.239.6\n",
      "2024-03-21 19:33:29.437127: I tensorflow/compiler/xla/stream_executor/cuda/cuda_diagnostics.cc:310] kernel version seems to match DSO: 470.239.6\n",
      "2024-03-21 19:33:29.441683: I tensorflow/core/platform/cpu_feature_guard.cc:193] This TensorFlow binary is optimized with oneAPI Deep Neural Network Library (oneDNN) to use the following CPU instructions in performance-critical operations:  AVX2 AVX512F AVX512_VNNI FMA\n",
      "To enable them in other operations, rebuild TensorFlow with the appropriate compiler flags.\n"
     ]
    },
    {
     "data": {
      "text/plain": [
       "<tf.Tensor: shape=(50000, 1), dtype=float64, numpy=\n",
       "array([[-0.16595599],\n",
       "       [ 0.44064899],\n",
       "       [-0.99977125],\n",
       "       ...,\n",
       "       [ 0.52979385],\n",
       "       [-0.92560571],\n",
       "       [ 0.7583709 ]])>"
      ]
     },
     "execution_count": 18,
     "metadata": {},
     "output_type": "execute_result"
    }
   ],
   "source": [
    "hard_tanh(data_u)"
   ]
  },
  {
   "cell_type": "code",
   "execution_count": 19,
   "id": "40e8c875",
   "metadata": {},
   "outputs": [
    {
     "data": {
      "text/plain": [
       "array([[-0.16595599],\n",
       "       [ 0.44064899],\n",
       "       [-0.99977125],\n",
       "       ...,\n",
       "       [ 0.52979385],\n",
       "       [-0.92560571],\n",
       "       [ 0.7583709 ]])"
      ]
     },
     "execution_count": 19,
     "metadata": {},
     "output_type": "execute_result"
    }
   ],
   "source": [
    "data_u"
   ]
  },
  {
   "cell_type": "code",
   "execution_count": 20,
   "id": "2a59f6d0",
   "metadata": {},
   "outputs": [],
   "source": [
    "from koopmanlib.K_structure import Model_K_u_Layer_One\n",
    "\n",
    "model_K_u = Model_K_u_Layer_One(layer_sizes=K_layer_size, n_psi=n_psi, activation=hard_tanh)\n",
    "\n",
    "solver_pk = KoopmanParametricDLSolver(\n",
    "    target_dim=target_dim, param_dim=param_dim, n_psi=n_psi, dic=dic_pk, model_K_u=model_K_u\n",
    ")\n",
    "\n",
    "model_pk, model_K_u_pred_pk = solver_pk.generate_model()"
   ]
  },
  {
   "cell_type": "code",
   "execution_count": 21,
   "id": "c23951cb",
   "metadata": {},
   "outputs": [
    {
     "data": {
      "application/vnd.jupyter.widget-view+json": {
       "model_id": "9224d74c93f54fc09bd9b22b9efbf8ec",
       "version_major": 2,
       "version_minor": 0
      },
      "text/plain": [
       "0epoch [00:00, ?epoch/s]"
      ]
     },
     "metadata": {},
     "output_type": "display_data"
    },
    {
     "data": {
      "application/vnd.jupyter.widget-view+json": {
       "model_id": "9449741eddbf4a43a19da31bfbc3d6ac",
       "version_major": 2,
       "version_minor": 0
      },
      "text/plain": [
       "0batch [00:00, ?batch/s]"
      ]
     },
     "metadata": {},
     "output_type": "display_data"
    }
   ],
   "source": [
    "zeros_data_y_train = tf.zeros_like(dic_pk(data_y))\n",
    "\n",
    "model_pk.compile(optimizer=Adam(0.001), loss=\"mse\")\n",
    "\n",
    "\n",
    "lr_callback = tf.keras.callbacks.ReduceLROnPlateau(\n",
    "    monitor=\"loss\",\n",
    "    factor=0.1,\n",
    "    patience=100,\n",
    "    verbose=0,\n",
    "    mode=\"auto\",\n",
    "    min_delta=1e-4,\n",
    "    cooldown=0,\n",
    "    min_lr=1e-10,\n",
    ")\n",
    "\n",
    "# Define the early stopping criteria\n",
    "es_callback = tf.keras.callbacks.EarlyStopping(\n",
    "    monitor=\"val_loss\", min_delta=1e-12, patience=50, verbose=1, mode=\"auto\"\n",
    ")\n",
    "\n",
    "checkpoint_path = os.path.join(weights_path, \"hardtanh_model_pk_vdpm_mu_\" + str(mu) + \".h5\")\n",
    "checkpoint_callback = tf.keras.callbacks.ModelCheckpoint(\n",
    "    filepath=checkpoint_path,\n",
    "    monitor=\"val_loss\",\n",
    "    save_best_only=True,\n",
    "    save_weights_only=True,\n",
    "    mode=\"min\",\n",
    "    save_freq=\"epoch\",\n",
    ")\n",
    "\n",
    "from tqdm.keras import TqdmCallback\n",
    "# Define the TqdmCallback for progress bar\n",
    "tqdm_callback = TqdmCallback(verbose=1)\n",
    "\n",
    "# Add early_stopping to the list of callbacks\n",
    "callbacks = [lr_callback, checkpoint_callback, tqdm_callback]\n"
   ]
  },
  {
   "cell_type": "code",
   "execution_count": 23,
   "id": "2b40143c",
   "metadata": {},
   "outputs": [],
   "source": [
    "\n",
    "# pknn_epochs = config[\"nn_settings\"][\"pknn_epochs\"]\n",
    "\n",
    "# history_pk = model_pk.fit(\n",
    "# x=[data_x, data_y, data_u],\n",
    "# y=zeros_data_y_train,\n",
    "# validation_split=0.2,\n",
    "# epochs=pknn_epochs,\n",
    "# batch_size=200,\n",
    "# callbacks=callbacks,\n",
    "# verbose=0,\n",
    "# )\n"
   ]
  },
  {
   "cell_type": "code",
   "execution_count": 22,
   "id": "0fa0c7db",
   "metadata": {},
   "outputs": [],
   "source": [
    "model_pk.load_weights(os.path.join(weights_path, \"hardtanh_model_pk_vdpm_mu_\" + str(mu) + \".h5\"))"
   ]
  },
  {
   "cell_type": "code",
   "execution_count": null,
   "id": "cf3b840b",
   "metadata": {},
   "outputs": [],
   "source": []
  },
  {
   "cell_type": "markdown",
   "id": "c54d508e",
   "metadata": {},
   "source": [
    "# DMDc"
   ]
  },
  {
   "cell_type": "code",
   "execution_count": 23,
   "id": "30684fb8",
   "metadata": {},
   "outputs": [],
   "source": [
    "# dic_dmdc = PsiNN(n_psi_train=0, add_constant=False)\n",
    "# solver_dmdc = KoopmanLinearDLSolver(\n",
    "#     dic=dic_dmdc, target_dim=target_dim, param_dim=param_dim, n_psi=target_dim\n",
    "# )\n",
    "# model_dmdc, model_K_u_pred_dmdc = solver_dmdc.build_model()\n",
    "# dic_dmdc.generate_B(data_x)"
   ]
  },
  {
   "cell_type": "markdown",
   "id": "81f0de77",
   "metadata": {},
   "source": [
    "# Linear Model: Dynamics is $Az +Bu$"
   ]
  },
  {
   "cell_type": "code",
   "execution_count": 24,
   "id": "9ed53098",
   "metadata": {},
   "outputs": [],
   "source": [
    "dic_linear = PsiNN(layer_sizes=dict_layer_size, n_psi_train=n_psi_train)"
   ]
  },
  {
   "cell_type": "code",
   "execution_count": 25,
   "id": "40ffb512",
   "metadata": {},
   "outputs": [],
   "source": [
    "solver_linear = KoopmanLinearDLSolver(\n",
    "    dic=dic_linear, target_dim=target_dim, param_dim=param_dim, n_psi=n_psi\n",
    ")\n",
    "model_linear, model_K_u_pred_linear = solver_linear.build_model()"
   ]
  },
  {
   "cell_type": "code",
   "execution_count": 26,
   "id": "0f70e996",
   "metadata": {},
   "outputs": [],
   "source": [
    "model_linear.load_weights(os.path.join(weights_path, \"model_linear_vdpm_mu_\" + str(mu) + \".h5\"))"
   ]
  },
  {
   "cell_type": "markdown",
   "id": "c71e618a",
   "metadata": {},
   "source": [
    "## Try to set Linear weights"
   ]
  },
  {
   "cell_type": "code",
   "execution_count": 27,
   "id": "61670951",
   "metadata": {},
   "outputs": [],
   "source": [
    "dic_pk_faker = PsiNN(layer_sizes=dict_layer_size, n_psi_train=n_psi_train)\n",
    "dic_pk_faker(data_x)\n",
    "\n",
    "# Set weigths in dictionary the same as linear Koopman model\n",
    "dic_pk_faker.set_weights(dic_linear.get_weights())"
   ]
  },
  {
   "cell_type": "code",
   "execution_count": 28,
   "id": "5541559b",
   "metadata": {},
   "outputs": [],
   "source": [
    "# Set updated dictionary into PKNN, then build model_pk_faker\n",
    "model_K_u_faker = Model_K_u_Layer_One(layer_sizes=K_layer_size, n_psi=n_psi, activation=hard_tanh)\n",
    "\n",
    "solver_pk_faker = KoopmanParametricDLSolver(\n",
    "    target_dim=target_dim, param_dim=param_dim, n_psi=n_psi, dic=dic_pk_faker, model_K_u=model_K_u_faker\n",
    ")\n",
    "\n",
    "model_pk_faker, model_K_u_pred_pk_faker = solver_pk_faker.generate_model()"
   ]
  },
  {
   "cell_type": "code",
   "execution_count": 29,
   "id": "58f21cee",
   "metadata": {},
   "outputs": [],
   "source": [
    "# Extract weights from linear Koopman model\n",
    "K_linear_weights = model_linear.get_layer('K_u_linear_pred').weights"
   ]
  },
  {
   "cell_type": "code",
   "execution_count": 30,
   "id": "4d7fe983",
   "metadata": {},
   "outputs": [
    {
     "data": {
      "text/plain": [
       "4"
      ]
     },
     "execution_count": 30,
     "metadata": {},
     "output_type": "execute_result"
    }
   ],
   "source": [
    "len(model_pk_faker.get_layer('K_u_pred').weights)"
   ]
  },
  {
   "cell_type": "code",
   "execution_count": 31,
   "id": "160a5f4c",
   "metadata": {},
   "outputs": [
    {
     "data": {
      "text/plain": [
       "<tf.Variable 'UnreadVariable' shape=(128,) dtype=float64, numpy=\n",
       "array([0., 0., 0., 0., 0., 0., 0., 0., 0., 0., 0., 0., 0., 0., 0., 0., 0.,\n",
       "       0., 0., 0., 0., 0., 0., 0., 0., 0., 0., 0., 0., 0., 0., 0., 0., 0.,\n",
       "       0., 0., 0., 0., 0., 0., 0., 0., 0., 0., 0., 0., 0., 0., 0., 0., 0.,\n",
       "       0., 0., 0., 0., 0., 0., 0., 0., 0., 0., 0., 0., 0., 0., 0., 0., 0.,\n",
       "       0., 0., 0., 0., 0., 0., 0., 0., 0., 0., 0., 0., 0., 0., 0., 0., 0.,\n",
       "       0., 0., 0., 0., 0., 0., 0., 0., 0., 0., 0., 0., 0., 0., 0., 0., 0.,\n",
       "       0., 0., 0., 0., 0., 0., 0., 0., 0., 0., 0., 0., 0., 0., 0., 0., 0.,\n",
       "       0., 0., 0., 0., 0., 0., 0., 0., 0.])>"
      ]
     },
     "execution_count": 31,
     "metadata": {},
     "output_type": "execute_result"
    }
   ],
   "source": [
    "# Consider the hidden layers in K(u)\n",
    "# weights and bias, somehow set weights as identity mappings and bias are zeros\n",
    "hidden_dense_kernel = model_pk_faker.get_layer('K_u_pred').weights[0]\n",
    "model_pk_faker.get_layer('K_u_pred').weights[0].assign(\n",
    "    tf.Variable(tf.constant([([1.0] * hidden_dense_kernel.shape[1] if i == 0 else [0.0] * hidden_dense_kernel.shape[1]) for i in range(hidden_dense_kernel.shape[0])], dtype='float64'))\n",
    "    )\n",
    "model_pk_faker.get_layer('K_u_pred').weights[1].assign(\n",
    "    tf.zeros_like(model_pk_faker.get_layer('K_u_pred').weights[1])\n",
    "    )"
   ]
  },
  {
   "cell_type": "code",
   "execution_count": 32,
   "id": "7c617091",
   "metadata": {},
   "outputs": [
    {
     "data": {
      "text/plain": [
       "<tf.Variable 'UnreadVariable' shape=(156,) dtype=float64, numpy=\n",
       "array([ 3.94845674e-05,  8.83166490e-03,  5.47554181e-03, -7.59532262e-03,\n",
       "        2.46115773e-03,  7.83433572e-03,  8.80262722e-03, -7.51704222e-03,\n",
       "       -5.67505755e-03, -1.74687247e-03,  1.56132159e-02, -6.59015747e-03,\n",
       "        1.00076182e+00,  1.64890787e-01, -1.70957936e-02,  9.95357065e-02,\n",
       "        6.67900079e-02, -1.16890575e-02,  3.26710991e-03, -3.45848265e-02,\n",
       "       -3.90870076e-02, -6.52488721e-03, -3.49217570e-02,  4.53576238e-02,\n",
       "        1.70822454e-02,  2.58764381e+00,  2.94701781e-01,  3.86317977e-01,\n",
       "        1.95449750e-01,  3.44148848e-02,  4.04374561e-01, -4.15705962e-01,\n",
       "       -6.15446124e-02, -3.83932386e-01,  4.28636474e-01,  1.45889252e-01,\n",
       "       -2.91381707e-03, -6.59368608e-01,  7.29042180e-01,  1.98208311e-01,\n",
       "       -8.48748538e-02, -2.42476507e-01, -4.18119602e-01,  3.60526782e-01,\n",
       "        1.62695891e-01,  1.62142466e-01, -6.66483237e-01,  1.29357348e-01,\n",
       "       -3.13395831e-03, -7.02352240e-01, -3.72025848e-02,  5.03133678e-01,\n",
       "       -3.22600733e-02,  2.21292253e-01,  6.04794179e-02,  2.69098021e-02,\n",
       "       -1.77838598e-01,  1.97142923e-01,  2.76166763e-01, -2.35697443e-01,\n",
       "       -8.66198197e-03, -1.93532209e+00, -4.42381420e-01, -1.79066092e-02,\n",
       "        6.41730681e-01, -3.67256058e-01, -8.21113098e-01,  7.40335213e-01,\n",
       "        4.20542604e-01,  3.89010224e-01, -1.11774436e+00,  9.55701672e-03,\n",
       "       -2.48912680e-03, -5.59107887e-01,  8.96083738e-03, -4.54855149e-01,\n",
       "       -3.10678700e-02,  1.21994595e+00,  7.06359874e-02, -2.70122584e-02,\n",
       "       -1.27868586e-01,  1.44012793e-01,  2.60979954e-01, -2.56457226e-01,\n",
       "       -6.83555608e-03, -1.52989225e+00, -8.96995864e-02, -1.07979344e+00,\n",
       "       -9.74130325e-02,  4.04749187e-01,  1.09940400e+00,  9.31426275e-02,\n",
       "       -3.16956929e-01,  4.21835903e-01,  4.34977063e-01, -4.96038338e-01,\n",
       "        1.24967914e-03,  2.83195888e-01,  4.00760866e-02,  1.66837881e-01,\n",
       "       -1.22006960e-02, -5.64379963e-02,  1.04338051e-02,  1.00076603e+00,\n",
       "        6.64340212e-02, -1.03590164e-01, -9.20954235e-03,  7.36877813e-02,\n",
       "        1.79643874e-03,  4.15612145e-01,  2.63011973e-01, -1.66682068e-01,\n",
       "       -1.48980929e-02,  1.62438703e-01,  2.76152065e-01, -2.44788437e-01,\n",
       "        9.88768187e-01, -1.51491886e-01,  4.67268537e-01, -1.59368824e-01,\n",
       "        1.27578177e-02,  2.86130423e+00,  6.63049506e-01,  3.03335018e-01,\n",
       "        4.28677839e-01,  3.44467841e-01,  1.01302664e+00, -9.57584973e-01,\n",
       "       -3.59861197e-01,  3.60389790e-01,  1.31175317e+00,  4.44626886e-02,\n",
       "        3.60909928e-03,  8.11253339e-01,  1.38509633e-01,  3.51763232e-01,\n",
       "        4.37593059e-02, -6.21755472e-02,  1.07773960e-01, -1.48696444e-01,\n",
       "        7.98679382e-02, -2.38923118e-01,  1.10409712e+00,  1.44939578e-01,\n",
       "       -2.44762709e-03, -5.49209790e-01, -1.29185511e-01,  3.62744734e-02,\n",
       "       -9.27208166e-02, -1.04039805e-01, -2.62533516e-01,  1.93998748e-01,\n",
       "        1.29778523e-01,  1.13954240e-01, -3.40036179e-01,  1.01117756e+00])>"
      ]
     },
     "execution_count": 32,
     "metadata": {},
     "output_type": "execute_result"
    }
   ],
   "source": [
    "# Consider the output layers in K(u)\n",
    "\n",
    "# Delete the first column (1, 0, ...,0)^T,\n",
    "# need to be careful with the transposed form of weights in formula and the codes\n",
    "# B in linear Koopman can be considered as the weights of the output layer\n",
    "# Set the first (n_psi - 1) diagonal elements are the components of B\n",
    "trainable_B_from_linear = K_linear_weights[1][:,1:] \n",
    "zero_B_matrix = np.zeros(model_pk_faker.get_layer('K_u_pred').weights[2].shape, dtype='float64')\n",
    "for i in range(trainable_B_from_linear.shape[-1]):\n",
    "    zero_B_matrix[i,i] = trainable_B_from_linear[0,i]\n",
    "\n",
    "\n",
    "# A in linear Koopman can be considered as the bias of the output layer\n",
    "set_output_layer_w_weights = tf.Variable(zero_B_matrix)\n",
    "set_output_layer_bias_weights = tf.reshape(K_linear_weights[0][:,1:], shape=model_pk_faker.get_layer('K_u_pred').weights[3].shape)\n",
    "\n",
    "model_pk_faker.get_layer('K_u_pred').weights[2].assign(\n",
    "    set_output_layer_w_weights\n",
    "    )\n",
    "model_pk_faker.get_layer('K_u_pred').weights[3].assign(\n",
    "    set_output_layer_bias_weights\n",
    "    )"
   ]
  },
  {
   "cell_type": "markdown",
   "id": "0a8b03a2",
   "metadata": {},
   "source": [
    "## Add Perturbation\n"
   ]
  },
  {
   "cell_type": "code",
   "execution_count": 33,
   "id": "52a6b459",
   "metadata": {},
   "outputs": [
    {
     "name": "stdout",
     "output_type": "stream",
     "text": [
      "perturb:  tf.Tensor(\n",
      "[[ 1.16191707e-04  8.88859418e-06 -1.72991339e-04  2.17642621e-06\n",
      "  -4.70717614e-05 -1.21397562e-04  1.65502419e-04 -5.45141544e-05\n",
      "   6.55971759e-05  1.97576897e-05  1.17415221e-04 -6.06521387e-05\n",
      "  -1.01060548e-04 -1.23603755e-05 -3.25968368e-05 -8.83125382e-05\n",
      "   6.24459714e-05 -2.75961654e-05  4.76497370e-05  1.44631996e-04\n",
      "   5.40935724e-05 -7.93302447e-05  3.52651460e-05  1.14041609e-04\n",
      "   4.77845672e-06 -1.58084300e-05  7.83845064e-06  1.72405826e-05\n",
      "  -2.29346740e-05 -1.72880248e-04 -5.43525578e-05 -1.02032666e-04\n",
      "  -9.74457926e-05  9.14209329e-06 -2.24230172e-04 -2.48230726e-05\n",
      "  -7.09531257e-05 -1.46797930e-04  6.99450940e-05 -6.50747278e-05\n",
      "  -1.77276653e-05  2.39624845e-05  1.25322131e-05 -1.43130923e-04\n",
      "   1.01676689e-04  2.23942645e-04 -6.70327507e-05  2.18598809e-06\n",
      "  -1.85817599e-05  1.46286194e-05 -1.38162371e-04  1.47509790e-05\n",
      "   5.33977537e-05  2.08895410e-05  1.24228566e-04 -6.49393046e-05\n",
      "  -2.00224342e-04  1.79417023e-04  6.46107063e-05  4.71023800e-05\n",
      "   2.35694373e-05  1.91141178e-04  2.06288239e-04  1.01609505e-04]\n",
      " [-1.47694739e-04 -6.09894286e-05  2.93936772e-05  8.11471711e-05\n",
      "  -5.75502631e-05  2.18761909e-04  8.82417847e-05 -1.26667527e-04\n",
      "  -1.36162332e-04 -3.21695420e-04 -9.42206047e-05 -1.56543923e-04\n",
      "  -2.69373192e-06  7.36070002e-05 -4.04189960e-05 -6.20057400e-05\n",
      "   6.02861248e-05 -4.57463412e-05  1.63569742e-04 -1.34416723e-04\n",
      "   6.99696168e-05 -1.55033643e-04  2.10958316e-05  3.80872029e-05\n",
      "  -2.19027629e-04  5.59566541e-06  6.23302022e-05 -4.56719274e-05\n",
      "   4.91239344e-05  1.12732709e-04 -9.23512246e-05  8.05653688e-05\n",
      "  -4.57784865e-05  8.44903701e-05 -7.99939410e-05 -1.28285188e-05\n",
      "   9.50849148e-05 -1.34010474e-04 -1.89884379e-04  7.22817741e-05\n",
      "   9.65247731e-05  1.46742338e-04  1.09169773e-04 -1.64753763e-05\n",
      "  -1.13323854e-04 -1.22813386e-04  6.23642665e-05  1.56035362e-05\n",
      "  -1.15154321e-04  8.58200979e-05 -6.57465769e-05  2.15813549e-04\n",
      "   3.11999976e-05 -3.44385100e-05  1.49941062e-04 -2.63834360e-05\n",
      "   4.56325343e-05 -7.23048473e-05  1.25067744e-04 -3.83962307e-05\n",
      "  -4.53626314e-06  7.44558127e-05  4.45600222e-05 -1.52538240e-05]], shape=(2, 64), dtype=float64)\n",
      "perturb:  tf.Tensor(\n",
      "[[ 6.75862015e-05  5.46776068e-05  1.43027681e-04 ... -9.34088180e-05\n",
      "  -1.49042992e-05  2.65333266e-04]\n",
      " [ 1.08304530e-04  1.59845833e-04 -7.20082664e-05 ... -1.36158234e-06\n",
      "  -1.12023524e-04  4.24748778e-05]\n",
      " [ 6.88285083e-05  2.16690658e-05 -8.21947594e-06 ... -2.02516321e-04\n",
      "  -7.92358917e-05  1.29213710e-05]\n",
      " ...\n",
      " [ 2.56388073e-05 -8.26538487e-05 -4.29979289e-05 ...  2.39761614e-05\n",
      "   5.62462245e-05 -3.45326603e-05]\n",
      " [ 1.10842163e-04  3.29063246e-05 -2.93118013e-05 ...  6.08659682e-05\n",
      "  -6.37397176e-05 -5.27752618e-05]\n",
      " [-3.62448591e-05  8.62890895e-05  4.21474383e-05 ...  2.18292172e-05\n",
      "   4.40688527e-05 -8.60927927e-05]], shape=(64, 64), dtype=float64)\n",
      "perturb:  tf.Tensor(\n",
      "[ 9.50780998e-05  1.05793337e-04 -8.00769934e-06 -6.66864861e-05\n",
      "  5.56519838e-05  1.50066911e-04  1.43159586e-04  8.93542571e-06\n",
      "  9.54861565e-05  7.47434512e-05  3.04970070e-05 -2.67323155e-05\n",
      "  2.90792750e-05 -1.67356417e-06  3.50386209e-05  7.57686737e-05\n",
      "  1.29113227e-04  1.18947963e-04 -7.99341837e-05  1.36864620e-04\n",
      " -3.09467075e-05 -2.40884970e-05  8.30965238e-06  1.43193086e-04\n",
      "  8.63860759e-06 -4.33335144e-05  9.37074820e-05 -1.01606973e-04\n",
      " -5.23317773e-05  1.71039326e-05  2.33752598e-04 -4.95793633e-05\n",
      " -2.27272057e-06 -2.14108567e-05  8.81705320e-05 -1.65211965e-04\n",
      " -1.98236963e-05  9.45844363e-05 -9.33756163e-06 -6.20590239e-05\n",
      " -1.00661309e-05  8.77286046e-05 -6.02249226e-05 -1.37406655e-04\n",
      " -1.90928077e-04 -1.25254478e-05 -7.54630063e-05 -2.80085104e-05\n",
      " -1.81687558e-04  7.00579462e-05 -5.92124014e-05 -4.77463698e-05\n",
      "  6.04217577e-05 -3.53831061e-05 -1.41028851e-04  5.58653167e-05\n",
      " -2.00778847e-05  9.87121762e-07  2.75321253e-05 -4.24120436e-05\n",
      " -1.29506122e-05 -1.20812296e-04 -2.38155533e-04 -1.37553260e-04], shape=(64,), dtype=float64)\n",
      "perturb:  tf.Tensor(\n",
      "[[ 6.06522041e-05 -6.68336993e-05  8.96374932e-05 ... -8.02877539e-05\n",
      "   5.92456345e-05 -8.93243050e-05]\n",
      " [-1.26955794e-04  9.16516342e-05 -1.14095205e-04 ... -3.94378144e-05\n",
      "   2.32287583e-06  7.20819931e-05]\n",
      " [ 2.33890335e-05 -4.07556796e-05  1.94828811e-05 ...  3.19234931e-05\n",
      "   4.34685709e-05 -1.15004738e-04]\n",
      " ...\n",
      " [-8.04251544e-05 -1.87841994e-06 -4.94709224e-05 ...  1.29456627e-04\n",
      "   3.75174548e-05  8.57932361e-05]\n",
      " [-6.39889969e-07 -2.26810544e-04 -2.21376513e-05 ...  1.41187702e-05\n",
      "  -1.02836726e-05 -3.78710398e-05]\n",
      " [-2.45013092e-04 -1.87489801e-05  1.21887825e-04 ... -1.20699468e-04\n",
      "   1.40406828e-04  5.45855223e-05]], shape=(64, 64), dtype=float64)\n",
      "perturb:  tf.Tensor(\n",
      "[-5.52299159e-05  1.20095162e-05  1.60631163e-04 -1.81747698e-05\n",
      " -4.64952771e-05 -1.39132945e-04 -2.39780447e-05  7.93340441e-05\n",
      "  6.85292534e-06 -1.77546838e-04 -1.78060239e-05 -6.01972343e-05\n",
      "  7.17772093e-05 -7.66297189e-05  1.77575185e-04  3.66230974e-05\n",
      " -6.35741842e-05 -7.66164605e-05 -7.10323789e-05 -2.33158465e-04\n",
      "  6.17853994e-05 -1.86511851e-04 -2.66780844e-04  3.53527394e-05\n",
      "  1.90759093e-06  1.11943796e-04  1.10538204e-04  5.86527078e-05\n",
      " -3.39496067e-05 -1.23470556e-04  2.21682684e-04 -1.08334026e-05\n",
      "  1.39951374e-04  6.12156663e-05  1.17721205e-04  3.85920401e-05\n",
      "  1.17699484e-04 -1.69989620e-05  1.19404461e-04  2.26165109e-05\n",
      " -1.04875504e-04 -6.27808830e-05  1.54412586e-05 -5.10982695e-05\n",
      "  8.88384494e-05 -1.32691708e-04 -1.42236691e-04 -1.13945931e-05\n",
      " -1.43639636e-05  9.71585692e-05 -2.69263020e-04  3.31972603e-05\n",
      " -1.07492308e-04 -1.27040492e-04 -5.38738245e-05  1.51516879e-04\n",
      " -4.89667545e-06  1.17228894e-04  2.39942075e-04  2.24347587e-05\n",
      "  1.44687305e-04 -1.80411495e-04 -2.00518148e-04 -6.99639330e-05], shape=(64,), dtype=float64)\n",
      "perturb:  tf.Tensor(\n",
      "[[ 2.80200819e-05 -1.97965918e-05 -9.47836357e-05  1.30928931e-04\n",
      "  -1.37438679e-04  8.93789888e-05  1.45689239e-04  5.72445663e-05\n",
      "  -5.91584799e-05  7.48600146e-05]\n",
      " [ 2.29890095e-04  1.37013021e-04  1.48244356e-04 -1.00725459e-04\n",
      "   8.92424323e-05 -1.04528696e-04 -4.27261000e-05 -1.17540807e-04\n",
      "  -1.60021794e-04 -1.47612084e-04]\n",
      " [-1.82660829e-05 -2.68770313e-05 -3.42906964e-05  4.92132162e-05\n",
      "  -1.14612128e-04  1.89812426e-05  3.35605660e-05  4.75173334e-05\n",
      "  -2.77195270e-05  4.87692863e-07]\n",
      " [-1.96395955e-05  1.25824005e-04 -8.46513827e-05  7.92558509e-06\n",
      "   9.57431664e-06  6.93379573e-05  1.00485187e-04  1.08446464e-04\n",
      "  -8.00067182e-05 -2.18670700e-05]\n",
      " [ 8.37267817e-05  9.64070845e-05  5.67936433e-05  6.71779531e-05\n",
      "  -4.58338637e-07 -1.23219505e-04 -1.14688144e-04  8.13903235e-05\n",
      "  -5.53683582e-05 -9.71955643e-07]\n",
      " [-1.84827699e-04  1.74822622e-05  1.96789743e-04  2.09379200e-04\n",
      "   5.55121727e-05  6.13102074e-08  3.72351724e-05  1.59250003e-04\n",
      "  -2.19834718e-04  3.72725142e-07]\n",
      " [ 7.39704403e-05  2.87117307e-05  2.71874725e-05  5.83690390e-05\n",
      "  -2.42916039e-05 -3.19088027e-05  2.18866624e-06  1.44682631e-04\n",
      "  -2.18142283e-05  3.54614779e-05]\n",
      " [-1.20662867e-04  1.34849703e-05 -1.25384278e-04  1.16050281e-04\n",
      "  -1.58828944e-04 -3.32689712e-05  3.00884221e-05 -1.66211887e-04\n",
      "  -1.30887298e-05  3.39049159e-05]\n",
      " [ 9.91340420e-05  6.68316578e-05  8.10757390e-05 -1.32060387e-04\n",
      "  -1.19920557e-04 -5.47053963e-05  2.28485684e-05  4.50947252e-05\n",
      "   8.70782538e-05  3.01955435e-06]\n",
      " [ 5.65778681e-05 -1.10844749e-05 -1.86039554e-04 -1.22977541e-04\n",
      "  -1.93407075e-04  3.56685384e-05 -1.29683831e-05 -3.47622850e-05\n",
      "  -2.87823966e-05  5.10334391e-05]\n",
      " [ 1.04201851e-04  2.43425769e-04 -1.01127181e-04 -7.04181716e-06\n",
      "   1.56534773e-04 -6.21308554e-05 -8.39449339e-05 -1.31273192e-04\n",
      "  -4.29610825e-05  6.06129645e-05]\n",
      " [ 1.31574908e-04  1.67353544e-05  5.96897789e-06  6.79846052e-05\n",
      "   1.49600976e-04  2.06742848e-04 -1.13344818e-05 -1.28661236e-04\n",
      "   1.68050654e-04 -7.28995940e-05]\n",
      " [ 2.33382628e-04  3.64644968e-05 -9.11823762e-05  4.64056294e-05\n",
      "   7.42452386e-06 -9.51737926e-05  1.64771408e-05 -4.72127076e-05\n",
      "   1.62466978e-04  1.39759908e-05]\n",
      " [ 1.13566778e-05 -2.03281905e-04 -3.71741431e-05  4.81879315e-05\n",
      "  -6.82890096e-05  1.13924221e-04  8.22882709e-05  7.81199906e-05\n",
      "  -8.24449928e-05  2.43156831e-04]\n",
      " [-2.81590263e-05 -9.76727535e-05 -2.42142052e-04  4.39800951e-05\n",
      "  -1.63270462e-04 -1.15018199e-04 -6.91041913e-05  5.92783813e-05\n",
      "  -1.75251522e-04  2.75183617e-05]\n",
      " [ 6.72628620e-05 -1.21256176e-04 -9.62192738e-05  9.54492637e-05\n",
      "  -2.66597608e-05 -8.07559004e-06 -6.29797489e-05  1.08789857e-04\n",
      "   4.58912395e-05  1.82308449e-04]\n",
      " [-7.77791497e-06 -3.70938614e-05  1.09444988e-04 -4.75735680e-05\n",
      "   2.53899455e-04 -6.28741166e-05  7.96038249e-05  7.16358725e-05\n",
      "  -4.67659052e-05  1.09979823e-04]\n",
      " [-5.56109894e-05  1.03404861e-04 -7.79559321e-05  1.46677706e-04\n",
      "   6.93585982e-05 -3.34631310e-05  2.68453787e-04 -1.15862791e-04\n",
      "  -1.00515458e-04 -1.31868616e-05]\n",
      " [ 5.19131837e-05 -1.76044546e-04 -4.79069832e-05 -3.99516793e-05\n",
      "  -5.77880665e-05  8.53956860e-05 -2.47418000e-05  1.10938779e-04\n",
      "   1.71638852e-04  7.87526805e-05]\n",
      " [ 4.55472744e-05 -3.29962526e-05 -1.05786262e-05  3.78066328e-05\n",
      "   5.04097325e-06 -9.71497955e-06 -9.71941509e-06 -6.14912770e-06\n",
      "  -6.28764169e-05  2.61231244e-05]\n",
      " [ 9.35557709e-05  1.22399626e-04 -2.11610393e-04  8.30663692e-05\n",
      "  -3.37524701e-05  4.48357933e-05  1.95227785e-04 -2.84877768e-05\n",
      "   8.77058388e-05 -4.93975128e-05]\n",
      " [ 2.40278718e-04  1.85832450e-04 -9.62681417e-05 -4.68290249e-05\n",
      "   4.94033479e-06  2.88039778e-05  1.12551382e-04 -1.57121408e-05\n",
      "  -1.20573712e-04 -6.94474922e-05]\n",
      " [ 1.71032434e-05  8.10575293e-06  2.51966752e-04 -2.80543298e-04\n",
      "   7.03960599e-05 -3.89106694e-05 -1.31130661e-04  1.07373243e-05\n",
      "  -2.78468683e-05 -3.12870409e-04]\n",
      " [ 7.46845071e-05  1.01796971e-04 -3.25457855e-05  3.01786959e-05\n",
      "  -9.75855685e-05 -6.33504264e-05 -6.48612613e-05 -5.56330433e-05\n",
      "  -1.74067271e-04  1.10605245e-04]\n",
      " [-1.03283407e-04 -1.34883067e-04  1.26276363e-05  3.56356046e-05\n",
      "   2.36630698e-05  2.52767765e-05  1.73012377e-06  1.28424340e-04\n",
      "   9.64767453e-05  9.34948032e-05]\n",
      " [ 1.40705710e-04  1.18973859e-05  7.99074630e-05 -1.28565608e-04\n",
      "  -1.99639964e-05  4.16617707e-05  3.77843317e-05  1.22343370e-05\n",
      "  -1.40368196e-05 -1.74159685e-04]\n",
      " [ 1.75083507e-05 -1.56991560e-04 -7.83359072e-05  1.44488272e-05\n",
      "   1.43242070e-05  1.85933613e-04 -1.08996453e-04 -6.53345166e-05\n",
      "   5.26541832e-06 -6.37007717e-05]\n",
      " [ 3.43015494e-05 -1.44884632e-04  9.51097895e-05  4.33904765e-05\n",
      "   1.15752427e-04  4.56277085e-05  1.16585609e-04  8.17839762e-05\n",
      "  -1.53980254e-04 -3.53551335e-05]\n",
      " [-1.18282613e-04  1.82547844e-05 -4.58505087e-05 -6.52520440e-05\n",
      "   2.11092996e-04  1.14958920e-04 -6.21767568e-05 -1.29845933e-05\n",
      "   2.96484412e-05 -7.96377191e-05]\n",
      " [ 4.06067597e-06 -9.38768614e-05 -2.80126867e-05 -9.57017821e-05\n",
      "   1.24179074e-04 -1.32417033e-04  9.32260322e-05  7.54934988e-05\n",
      "  -1.22402603e-04  4.92821715e-05]\n",
      " [-1.26298194e-04  1.39815474e-04  3.01034714e-05 -2.65585598e-05\n",
      "   1.09544605e-05 -4.51503176e-05  1.11190071e-04 -1.37409782e-04\n",
      "  -1.15067536e-04 -5.60111549e-05]\n",
      " [-1.18990951e-04  4.72587291e-06  7.45468141e-05 -2.18631490e-05\n",
      "   2.02682965e-05 -2.53149271e-05  7.38790740e-07  3.40544929e-05\n",
      "   1.04341637e-04 -1.93384571e-04]\n",
      " [-1.97433490e-04 -2.10376790e-04  1.18399333e-04 -1.81132525e-05\n",
      "  -7.39325438e-05  1.34235105e-04 -3.97186559e-05 -8.44175466e-05\n",
      "   4.46714827e-05  7.70027060e-05]\n",
      " [-6.33829946e-05 -6.14925666e-05 -2.39257709e-05  2.26494828e-05\n",
      "  -5.66308739e-05  4.30606122e-05 -1.91919107e-04 -1.21663939e-04\n",
      "  -2.12164558e-04  7.23110063e-05]\n",
      " [ 4.12463930e-06  1.10157218e-05 -3.09506722e-05 -9.31426845e-05\n",
      "   9.00740551e-06 -4.45405708e-05  4.10654656e-05  7.78686154e-05\n",
      "   1.13161440e-04  8.89314092e-05]\n",
      " [-1.41519320e-04  5.08000713e-05  7.16632176e-06  1.03818814e-04\n",
      "   1.87730805e-04  8.13096289e-05 -1.80221042e-04 -9.91471565e-05\n",
      "  -2.05576375e-05 -1.05646957e-04]\n",
      " [ 1.52105002e-04 -1.54854434e-04  6.39766576e-05 -1.19874591e-04\n",
      "  -6.08094710e-05 -5.83029993e-05 -1.16840212e-04 -3.08306269e-05\n",
      "   2.22221909e-04  7.94138814e-05]\n",
      " [-1.40862385e-04  3.70883778e-05 -6.45318889e-05 -3.92334546e-05\n",
      "   1.11429810e-04 -1.83477216e-04  1.44222791e-04  1.32494606e-05\n",
      "   3.64941932e-05  7.61876507e-05]\n",
      " [-1.31360868e-04  2.94428014e-05 -1.02876691e-04  3.00551158e-05\n",
      "   5.45074237e-05 -4.17768536e-05 -8.48116668e-05 -2.48985613e-04\n",
      "   2.06546395e-04  1.00059813e-05]\n",
      " [ 2.02434914e-05 -2.73598541e-04 -2.73277435e-05 -7.36689282e-05\n",
      "   1.33077191e-04  5.00833662e-05  3.61466342e-05  2.57781932e-06\n",
      "  -5.78032698e-05  1.61494441e-04]\n",
      " [ 1.32877755e-04  1.11556021e-04 -8.66107265e-05 -5.04985342e-05\n",
      "  -1.26308094e-04  1.09807695e-04 -1.61364060e-05 -1.36371586e-04\n",
      "   1.03843073e-05  1.16053810e-05]\n",
      " [-6.84284413e-05  1.19836992e-04  1.51970746e-05  1.57178069e-04\n",
      "   3.23396146e-05  2.11338593e-05 -5.84638551e-05  1.81174467e-05\n",
      "  -2.61511448e-04 -6.62101845e-05]\n",
      " [ 9.95000492e-05 -1.54667243e-04  5.55622498e-05 -2.15460947e-04\n",
      "   1.94481127e-04  1.75996297e-04 -7.50649120e-05  1.16076617e-04\n",
      "   3.91204392e-05 -1.94841681e-04]\n",
      " [-1.17956607e-04  1.07235886e-04 -6.30707870e-05 -9.20346914e-05\n",
      "   1.70757323e-04 -5.42604616e-05  1.73900445e-05  3.87974838e-05\n",
      "   3.66681186e-06 -8.85996028e-05]\n",
      " [ 1.34532887e-05  1.73056149e-04  2.61683220e-05 -2.93397548e-05\n",
      "  -1.62979495e-04  2.71667546e-05  2.66849566e-05 -4.43116404e-05\n",
      "  -2.95959553e-05  1.15493415e-05]\n",
      " [-5.59856651e-05 -7.91204441e-05  4.60174263e-05  1.03352321e-04\n",
      "   3.37635510e-05  1.10361013e-04  2.30806875e-04  3.50001043e-05\n",
      "   9.33685470e-05 -2.41096938e-04]\n",
      " [ 5.24487999e-05 -1.69553454e-04  1.05940420e-04  5.36082522e-05\n",
      "   1.10929158e-04 -7.65830701e-05  8.47588745e-05  5.38235539e-05\n",
      "   2.00909528e-04  3.04690949e-05]\n",
      " [-6.90435543e-05 -8.73621074e-05  3.53947945e-05 -1.86250367e-05\n",
      "   8.45793288e-05  8.09273762e-05 -7.64932363e-05  7.93989977e-05\n",
      "   1.86892805e-05  4.96721476e-06]\n",
      " [ 1.82789482e-04  8.50553818e-05 -4.90933328e-05  1.22831453e-04\n",
      "  -8.75007155e-06 -1.51044241e-04  8.01861051e-05  1.89152004e-04\n",
      "   6.85140266e-05  1.58765156e-04]\n",
      " [-5.19299765e-06 -8.79776000e-05  7.92132772e-05 -2.71189491e-05\n",
      "   1.24452479e-04 -1.81096908e-04  2.78554267e-05  9.12927141e-05\n",
      "   1.65736876e-04  5.70649210e-05]\n",
      " [-4.96194134e-05  1.35978031e-04  8.87380092e-05  6.62403334e-06\n",
      "  -5.58619148e-05 -1.06092132e-04 -1.15297298e-04 -1.75906112e-04\n",
      "  -3.22211346e-05  1.25583019e-04]\n",
      " [ 1.65090257e-04  2.48632390e-04 -1.77996830e-04 -2.57946628e-05\n",
      "  -1.15901114e-05  4.25884200e-05  9.46060723e-05  9.69178640e-05\n",
      "  -9.42608413e-05 -2.02240952e-04]\n",
      " [-9.93539161e-05 -7.74911801e-05 -8.11772685e-05  8.46297786e-05\n",
      "  -4.87640682e-05  9.62555163e-05  5.35441143e-05 -6.52853388e-05\n",
      "  -8.56973439e-06 -7.51535577e-05]\n",
      " [-1.69790237e-05  7.27210866e-05  1.56029862e-04  6.37539387e-05\n",
      "  -2.22930941e-05  1.73090251e-04  8.80321836e-05 -9.14406998e-05\n",
      "  -6.14470811e-05  4.82467212e-05]\n",
      " [ 2.45775641e-05 -7.84702608e-05 -7.84702414e-05  4.96103490e-05\n",
      "   9.43563964e-06  7.24044838e-05 -4.09307522e-06  6.09916846e-05\n",
      "   1.66032770e-04 -1.14622225e-04]\n",
      " [ 2.79385511e-05 -7.74353610e-06  1.35970987e-04 -5.29783140e-06\n",
      "  -1.90037055e-05 -4.36367361e-05 -9.31696022e-05 -6.40392014e-05\n",
      "  -6.72472038e-05  1.67385750e-05]\n",
      " [ 1.50764767e-05  5.36503292e-08  4.22834693e-05  3.41276943e-05\n",
      "  -3.05971450e-05 -2.08499852e-04 -9.44294441e-05  8.64993930e-05\n",
      "  -5.12881823e-05 -7.85683383e-05]\n",
      " [-1.68502528e-05 -1.24827240e-04  1.84159323e-05 -1.05326384e-05\n",
      "   3.94599747e-05 -2.86948183e-05  1.07644853e-04  1.16377367e-04\n",
      "   1.08846776e-04  5.38219407e-05]\n",
      " [-3.08124493e-05  1.69367037e-04 -7.05785879e-07 -2.63438234e-04\n",
      "  -1.85953325e-05  5.33060099e-06 -5.17300044e-06 -1.28797711e-05\n",
      "   3.53525759e-05  3.06077720e-05]\n",
      " [-2.25924514e-05 -1.34357498e-04  8.68436997e-05 -3.56218968e-05\n",
      "  -8.84653353e-06 -1.08029387e-04  4.65885122e-05  2.41129401e-06\n",
      "  -1.41803413e-05  1.26968902e-04]\n",
      " [ 9.87424395e-05 -3.26382376e-05  1.15980046e-04  5.45772401e-05\n",
      "  -8.12001827e-05  8.34904627e-06  4.20759430e-05  5.54310233e-05\n",
      "   5.33645277e-05 -2.82383138e-05]\n",
      " [-2.87513459e-05 -6.94998245e-05  1.00083186e-04  3.57246636e-05\n",
      "   1.28843868e-04  1.50631745e-04 -4.45820375e-05  2.52413113e-05\n",
      "  -2.48758107e-05  1.71681736e-04]\n",
      " [ 1.69777067e-04 -1.94736392e-04 -2.91752177e-07  1.62070867e-04\n",
      "  -1.40172256e-04 -1.64847349e-04 -8.16554642e-05  7.39593950e-06\n",
      "  -3.92686301e-05  3.64286762e-06]\n",
      " [-7.19495055e-05  1.54332505e-04  1.34283630e-05  1.67196972e-04\n",
      "  -7.67564527e-05  1.30133532e-04 -6.37939353e-05  7.66975517e-05\n",
      "   4.26026218e-05 -2.18327249e-04]], shape=(64, 10), dtype=float64)\n",
      "perturb:  tf.Tensor(\n",
      "[ 1.52638683e-05 -4.29667458e-05  1.85813288e-04 -1.04234369e-04\n",
      " -9.87828742e-05  1.13673211e-05 -1.68700961e-04  1.51788195e-04\n",
      " -7.86250658e-05 -2.93589979e-06], shape=(10,), dtype=float64)\n",
      "perturb:  tf.Tensor(\n",
      "[[ 2.40934931e-05  1.71702725e-04 -6.91544219e-05  7.39706222e-05\n",
      "  -4.22256338e-05  2.96536199e-05 -2.74303766e-05  2.32943072e-04\n",
      "   6.72614529e-06  1.87436049e-05 -2.11536838e-04  4.21605937e-06\n",
      "   1.30161143e-04 -5.54010058e-05  1.68950648e-05 -1.27541899e-06\n",
      "  -1.49515567e-04 -3.99398342e-05  7.08654060e-06 -8.34193053e-05\n",
      "   2.62027702e-05 -3.16570810e-05 -1.54395709e-04 -8.12803777e-06\n",
      "   1.52863620e-04 -8.12303931e-05  1.57802871e-04 -1.29860552e-05\n",
      "   2.36099937e-05 -4.96674716e-05 -2.10365004e-05 -1.80296810e-04\n",
      "  -9.95261225e-06  2.19429374e-05  2.58878979e-05  5.87118703e-05\n",
      "  -3.44149976e-05 -1.29587803e-04  6.09368152e-05  2.92167427e-05\n",
      "  -1.57216256e-04  7.04935322e-05  7.50285809e-05  3.79124066e-05\n",
      "  -9.09099935e-05  9.59268985e-06  9.00673889e-06 -3.68504196e-05\n",
      "   1.45259164e-05 -9.68030690e-05 -1.16129617e-04  2.89908054e-05\n",
      "   5.86130512e-05 -6.65265763e-05  4.91261231e-05 -4.71369991e-05\n",
      "   8.90693784e-05  1.12268250e-04  1.14870348e-04 -2.76831374e-04\n",
      "   1.23098721e-04  3.91339989e-05  7.64096574e-06  5.23707401e-05\n",
      "  -2.60073639e-05  9.22276100e-06 -1.02894216e-04  5.71673194e-06\n",
      "  -8.72247602e-05  1.19473053e-05  8.50788494e-05 -6.96125269e-05\n",
      "  -7.65989514e-06  1.91950113e-05  9.70186786e-05  1.30069174e-04\n",
      "   6.84766819e-05 -1.76518361e-04  2.71939515e-05 -1.22277538e-05\n",
      "   6.31925613e-05 -2.66704487e-05  3.02918636e-05  7.73665411e-05\n",
      "   2.21397835e-05  8.60615570e-05  2.49634555e-06 -1.38561150e-04\n",
      "   3.98728372e-05 -1.43376399e-04  3.21678448e-05 -3.31142849e-05\n",
      "   4.10178205e-05  8.30814254e-05 -6.36657967e-05 -5.28567346e-05\n",
      "  -3.67395114e-05 -4.16663280e-05  1.00024997e-05 -4.36236417e-05\n",
      "   1.97743443e-05  2.02843560e-05  1.31640347e-04 -1.47469511e-05\n",
      "  -7.11490145e-05  1.05556250e-04 -1.82012715e-06 -3.34550870e-05\n",
      "   6.01924533e-05 -2.47893826e-05 -5.61999751e-05 -1.24698388e-05\n",
      "   2.98636614e-05 -2.43910795e-04  1.13004702e-04  4.34405643e-05\n",
      "  -2.07001833e-05  5.74183082e-05  1.28190187e-05 -6.58615046e-05\n",
      "  -6.88533640e-05  1.04793678e-04  1.20658445e-04  5.33613917e-05\n",
      "  -4.63988004e-05 -1.82228641e-04 -6.27167248e-05 -8.29759768e-05]], shape=(1, 128), dtype=float64)\n",
      "perturb:  tf.Tensor(\n",
      "[ 9.78046567e-05 -1.88735549e-04  3.33164856e-04  2.91339813e-05\n",
      " -8.00499771e-05  8.39097106e-05  1.17339881e-05  9.38293021e-05\n",
      "  2.36330660e-06  2.48937711e-05  8.31300716e-06  5.27530102e-05\n",
      " -2.41008385e-05  4.05302995e-05  8.65734288e-05  6.12236609e-05\n",
      " -1.09267200e-04 -2.98428612e-05 -7.22526365e-05 -5.08212754e-05\n",
      "  1.50868068e-04  5.39043793e-05  7.97456030e-05  3.18088559e-05\n",
      "  1.20932258e-04  6.71658940e-06 -8.86675474e-05  3.02217544e-06\n",
      " -1.59062502e-04 -1.69517193e-04 -7.01366957e-05  4.83779434e-05\n",
      " -1.18311473e-04  6.13180009e-05  3.21892757e-06 -1.85066973e-04\n",
      " -1.84070692e-04  1.09926664e-05  3.63190546e-05  1.88196063e-05\n",
      "  4.17225529e-05 -2.03661235e-04  1.40619763e-04  1.09196451e-04\n",
      "  4.45530984e-05  9.78959645e-05 -1.57394154e-04  1.60954129e-04\n",
      " -4.60926558e-05 -6.75706577e-06 -1.11791454e-04 -6.10607838e-05\n",
      "  8.31144954e-05  1.52037731e-04  9.66736730e-05  3.85298084e-05\n",
      " -6.05871092e-05 -1.18022015e-05 -1.07767178e-05 -5.53104714e-05\n",
      "  2.13765428e-05  6.28013613e-06  1.03817587e-04  2.22764126e-05\n",
      "  3.01851073e-06 -1.18126474e-05 -4.59449643e-05  2.03493498e-04\n",
      " -2.42075763e-04 -4.40438848e-06 -1.24536370e-04  2.41204523e-05\n",
      " -4.63121914e-05 -2.91029675e-05 -1.18512053e-04  1.34687001e-04\n",
      "  5.18547911e-05  1.05299239e-04  4.19311616e-05  5.10452549e-05\n",
      "  5.94974364e-05 -1.34830831e-04  4.54370338e-06  1.37756810e-05\n",
      "  1.77428575e-04 -1.79981795e-05 -1.13384191e-04 -9.76524134e-06\n",
      " -8.44026134e-05 -1.53809470e-04 -1.16642082e-04 -1.45754962e-05\n",
      "  5.66406993e-05 -1.53340680e-04 -2.79775156e-05  6.78898826e-05\n",
      "  3.31168531e-05  8.35533076e-05 -9.57098025e-05  7.08014091e-06\n",
      " -5.40205666e-05 -1.81951220e-05  4.61352462e-05  6.63185884e-05\n",
      "  1.76593461e-04  5.10865066e-05  8.56795310e-05  7.05738417e-05\n",
      "  4.83441622e-05 -5.61173466e-05 -5.02970706e-05  1.34142958e-04\n",
      " -1.61213049e-04 -3.28832510e-05 -1.78854100e-06 -5.82358046e-05\n",
      " -3.11834529e-05 -6.11992986e-05 -5.41436960e-05  1.97795536e-04\n",
      "  2.31959174e-06  3.62256695e-05  4.13537457e-05 -1.11376812e-04\n",
      "  8.52797564e-05 -9.69645733e-05 -7.87572579e-05 -1.16515428e-05], shape=(128,), dtype=float64)\n",
      "perturb:  tf.Tensor(\n",
      "[[-1.33255357e-05  1.01526472e-05  1.43800722e-05 ...  6.07081264e-05\n",
      "  -9.58897325e-06  2.24936514e-06]\n",
      " [ 1.33042147e-04 -3.27998186e-05  1.04684887e-04 ...  1.73298700e-04\n",
      "   2.92529716e-05  8.88627218e-05]\n",
      " [-1.84309832e-05 -2.95042317e-05  3.35900749e-05 ... -8.83990911e-06\n",
      "   4.86563754e-05  2.28538550e-04]\n",
      " ...\n",
      " [ 3.98448831e-05  2.01708188e-05 -2.17836011e-05 ... -2.58326390e-04\n",
      "  -3.83460466e-05  3.62504692e-05]\n",
      " [-2.46564374e-05  5.19831827e-05  1.87333660e-04 ... -4.96144471e-05\n",
      "   1.86202189e-05  3.08500941e-05]\n",
      " [ 5.40013557e-05  1.75337903e-04 -2.17726201e-04 ...  4.02319706e-05\n",
      "  -2.41926719e-05  1.27030564e-04]], shape=(128, 156), dtype=float64)\n",
      "perturb:  tf.Tensor(\n",
      "[-7.61917816e-05 -3.12357239e-05  7.43291229e-05  5.37351927e-05\n",
      " -6.54341928e-05  1.84726777e-05 -2.44342050e-05 -5.92779803e-06\n",
      " -1.41112956e-04 -7.22606028e-05  5.26573438e-05  5.66368391e-05\n",
      " -2.00579634e-05  6.60328874e-06 -1.17884513e-04 -4.91235423e-05\n",
      " -1.42423641e-04 -9.96720801e-05  2.24939593e-05 -9.13054655e-05\n",
      " -1.14835029e-04  4.21001460e-05 -5.42667427e-05 -1.13181745e-05\n",
      " -5.12115843e-05 -1.31237027e-04  3.36949682e-05 -1.10275094e-04\n",
      " -8.25733394e-05 -6.66084166e-05 -2.54523956e-04  5.16258384e-05\n",
      "  2.18601428e-04 -3.68609508e-05  1.28985557e-05  5.87515206e-05\n",
      " -5.82799338e-05  2.33007580e-05 -2.68077228e-06 -5.32603793e-05\n",
      "  5.30364518e-05  1.68134904e-04  2.11669623e-05  3.24031926e-05\n",
      "  3.01568068e-06 -2.36771550e-04  8.17782999e-05 -9.41240866e-05\n",
      "  3.72079021e-05 -3.12355790e-05 -2.45047284e-04 -1.51594876e-04\n",
      " -1.59637901e-04 -8.20253091e-05 -2.51006936e-05  1.71180433e-04\n",
      "  6.58344983e-05 -1.02571034e-04  1.63801978e-05 -3.73498458e-05\n",
      " -2.33595395e-05  3.39864183e-05  2.65457966e-05  4.04182594e-06\n",
      " -2.27165675e-05  4.79104459e-05  1.25605484e-04  2.55399291e-05\n",
      " -6.87439454e-05  3.20857485e-05 -4.38155027e-05  2.14914014e-04\n",
      "  9.07043131e-06  1.17769328e-05 -5.01830925e-05  4.13755499e-06\n",
      "  2.14977350e-04 -3.40225172e-05  7.40416887e-05 -1.55980520e-04\n",
      " -4.11747310e-05 -1.52438483e-04 -6.56261657e-05 -2.32998610e-05\n",
      " -8.30691363e-05 -4.46140320e-05  1.76730210e-05  1.59978208e-05\n",
      " -8.83588381e-05 -2.76101391e-05 -3.78550847e-05  3.94328770e-05\n",
      " -8.48632519e-06  1.93760846e-04 -3.06697948e-05 -3.13165968e-04\n",
      " -1.63830255e-04  6.02731469e-05 -5.65640764e-05 -2.54373731e-05\n",
      "  2.25482062e-04  5.36989781e-05 -2.81487431e-05  7.57640923e-05\n",
      "  1.25425752e-04 -2.00798320e-04  8.40542694e-05  4.36474842e-05\n",
      "  3.72270222e-05 -6.98871649e-05  1.51776043e-04 -1.90624521e-05\n",
      "  1.00319595e-04 -1.48286573e-04 -1.10716636e-04  1.33284855e-04\n",
      "  1.24666320e-04  1.05321060e-04  3.79157586e-05  8.26570734e-05\n",
      " -1.87432963e-04 -1.14244499e-04  2.67724326e-07  1.20448189e-04\n",
      " -2.30628059e-05 -1.08247212e-06  6.81853741e-05  3.58907804e-05\n",
      " -1.00713562e-04  1.00931866e-04  6.14526954e-05 -9.31101737e-05\n",
      "  4.12102166e-07  7.75878526e-05 -6.75058536e-07  9.52610673e-05\n",
      "  2.03800838e-05 -6.78041328e-05 -1.38654417e-04  6.02601219e-05\n",
      "  2.94962227e-05 -1.21476006e-04  1.34102915e-04  1.37411052e-05\n",
      " -4.52670475e-05 -9.06114800e-05 -1.61820252e-04 -1.52799472e-04\n",
      "  1.62221447e-05  6.76649401e-05 -1.01156358e-04  2.35818826e-05\n",
      " -6.11573309e-05 -3.80798510e-05  1.63941831e-04 -6.57295936e-05], shape=(156,), dtype=float64)\n"
     ]
    }
   ],
   "source": [
    "percentage = 0.0001  # 1%\n",
    "\n",
    "for layer in model_pk_faker.layers:\n",
    "    if layer.weights:\n",
    "        for weight in layer.weights:\n",
    "            current_weight_value = weight.numpy()\n",
    "            perturbation = tf.random.normal(current_weight_value.shape, stddev=percentage, dtype=weight.dtype)\n",
    "            print('perturb: ', perturbation)\n",
    "            weight.assign_add(perturbation)"
   ]
  },
  {
   "cell_type": "markdown",
   "id": "7513414b",
   "metadata": {},
   "source": [
    "## Continue to train from perturbed linear weights\n"
   ]
  },
  {
   "cell_type": "code",
   "execution_count": 34,
   "id": "a2d98946",
   "metadata": {},
   "outputs": [
    {
     "data": {
      "application/vnd.jupyter.widget-view+json": {
       "model_id": "285f3ad19c77483487773f99b59ea454",
       "version_major": 2,
       "version_minor": 0
      },
      "text/plain": [
       "0epoch [00:00, ?epoch/s]"
      ]
     },
     "metadata": {},
     "output_type": "display_data"
    },
    {
     "data": {
      "application/vnd.jupyter.widget-view+json": {
       "model_id": "3bd880b797454bd792df240e5c5dfb6f",
       "version_major": 2,
       "version_minor": 0
      },
      "text/plain": [
       "0batch [00:00, ?batch/s]"
      ]
     },
     "metadata": {},
     "output_type": "display_data"
    }
   ],
   "source": [
    "model_pk_faker.compile(optimizer=Adam(1e-4), loss=\"mse\")\n",
    "    \n",
    "lr_callback = tf.keras.callbacks.ReduceLROnPlateau(\n",
    "    monitor=\"loss\",\n",
    "    factor=0.1,\n",
    "    patience=100,\n",
    "    verbose=0,\n",
    "    mode=\"auto\",\n",
    "    min_delta=1e-4,\n",
    "    cooldown=0,\n",
    "    min_lr=1e-10,\n",
    ")\n",
    "\n",
    "# Define the early stopping criteria\n",
    "es_callback = tf.keras.callbacks.EarlyStopping(\n",
    "    monitor=\"val_loss\", min_delta=1e-12, patience=50, verbose=1, mode=\"auto\"\n",
    ")\n",
    "\n",
    "checkpoint_path = os.path.join(weights_path, \"train_from_linear_hardtanh_model_pk_vdpm_mu_\" + str(mu) + \".h5\")\n",
    "checkpoint_callback = tf.keras.callbacks.ModelCheckpoint(\n",
    "    filepath=checkpoint_path,\n",
    "    monitor=\"val_loss\",\n",
    "    save_best_only=True,\n",
    "    save_weights_only=True,\n",
    "    mode=\"min\",\n",
    "    save_freq=\"epoch\",\n",
    ")\n",
    "\n",
    "from tqdm.keras import TqdmCallback\n",
    "\n",
    "# Define the TqdmCallback for progress bar\n",
    "tqdm_callback = TqdmCallback(verbose=1)\n",
    "\n",
    "# Add early_stopping to the list of callbacks\n",
    "callbacks = [lr_callback, checkpoint_callback, tqdm_callback]\n"
   ]
  },
  {
   "cell_type": "code",
   "execution_count": 36,
   "id": "ba3d0130",
   "metadata": {},
   "outputs": [],
   "source": [
    "history_pk_faker = model_pk_faker.fit(\n",
    "x=[data_x, data_y, data_u],\n",
    "y=zeros_data_y_train,\n",
    "validation_split=0.2,\n",
    "epochs=500,\n",
    "batch_size=200,\n",
    "callbacks=callbacks,\n",
    "verbose=0,\n",
    ")"
   ]
  },
  {
   "cell_type": "code",
   "execution_count": 37,
   "id": "bdb446a8",
   "metadata": {},
   "outputs": [],
   "source": [
    "model_pk_faker.load_weights(os.path.join(weights_path, \"train_from_linear_hardtanh_model_pk_vdpm_mu_\" + str(mu) + \".h5\"))"
   ]
  },
  {
   "cell_type": "code",
   "execution_count": null,
   "id": "9fc20ccf",
   "metadata": {},
   "outputs": [],
   "source": []
  },
  {
   "cell_type": "code",
   "execution_count": null,
   "id": "b4500ab8",
   "metadata": {},
   "outputs": [],
   "source": []
  },
  {
   "cell_type": "code",
   "execution_count": null,
   "id": "cb853629",
   "metadata": {},
   "outputs": [],
   "source": []
  },
  {
   "cell_type": "markdown",
   "id": "782f7468",
   "metadata": {},
   "source": [
    "# Bilinear Model: Dynamics is $Az + \\sum_{i=1}^{N_{u}}B_{i}zu_{i}$"
   ]
  },
  {
   "cell_type": "code",
   "execution_count": 38,
   "id": "c5bd98ae",
   "metadata": {},
   "outputs": [],
   "source": [
    "dic_bilinear = PsiNN(layer_sizes=dict_layer_size, n_psi_train=n_psi_train)"
   ]
  },
  {
   "cell_type": "code",
   "execution_count": 39,
   "id": "cd36fbbc",
   "metadata": {},
   "outputs": [],
   "source": [
    "solver_bilinear = KoopmanBilinearDLSolver(\n",
    "    dic=dic_bilinear, target_dim=target_dim, param_dim=param_dim, n_psi=n_psi\n",
    ")\n",
    "model_bilinear, model_K_u_pred_bilinear = solver_bilinear.build_model()"
   ]
  },
  {
   "cell_type": "code",
   "execution_count": 40,
   "id": "89896950",
   "metadata": {},
   "outputs": [],
   "source": [
    "model_bilinear.load_weights(\n",
    "    os.path.join(weights_path, \"model_bilinear_vdpm_mu_\" + str(mu) + \".h5\")\n",
    ")"
   ]
  },
  {
   "cell_type": "code",
   "execution_count": 41,
   "id": "f8082621",
   "metadata": {},
   "outputs": [
    {
     "name": "stdout",
     "output_type": "stream",
     "text": [
      "Model: \"K_u_bilinear_pred\"\n",
      "__________________________________________________________________________________________________\n",
      " Layer (type)                   Output Shape         Param #     Connected to                     \n",
      "==================================================================================================\n",
      " input_17 (InputLayer)          [(None, 13)]         0           []                               \n",
      "                                                                                                  \n",
      " input_16 (InputLayer)          [(None, 1)]          0           []                               \n"
     ]
    },
    {
     "name": "stdout",
     "output_type": "stream",
     "text": [
      "                                                                                                  \n",
      " tf.einsum (TFOpLambda)         (1, None, 13)        0           ['input_17[0][0]',               \n",
      "                                                                  'input_16[0][0]']               \n",
      "                                                                                                  \n",
      " tf.__operators__.getitem (Slic  (None, 13)          0           ['tf.einsum[0][0]']              \n",
      " ingOpLambda)                                                                                     \n",
      "                                                                                                  \n",
      " tf.identity (TFOpLambda)       (None, 13)           0           ['tf.__operators__.getitem[0][0]'\n",
      "                                                                 ]                                \n",
      "                                                                                                  \n",
      " Layer_A (Dense)                (None, 13)           169         ['input_17[0][0]']               \n",
      "                                                                                                  \n",
      " Layer_B (Dense)                (None, 13)           169         ['tf.identity[0][0]']            \n",
      "                                                                                                  \n",
      " tf.__operators__.add_1 (TFOpLa  (None, 13)          0           ['Layer_A[0][0]',                \n",
      " mbda)                                                            'Layer_B[0][0]']                \n",
      "                                                                                                  \n",
      "==================================================================================================\n",
      "Total params: 338\n",
      "Trainable params: 0\n",
      "Non-trainable params: 338\n",
      "__________________________________________________________________________________________________\n"
     ]
    }
   ],
   "source": [
    "model_K_u_pred_bilinear.summary()"
   ]
  },
  {
   "cell_type": "code",
   "execution_count": 42,
   "id": "4c330a14",
   "metadata": {},
   "outputs": [],
   "source": [
    "\n",
    "\n",
    "# # Train K(u) to be (A+Bu)\n",
    "# psi_x_data = dic_bilinear(data_x)\n",
    "# target = model_K_u_pred_bilinear([data_u, psi_x_data])\n",
    "# inputs_u = Input(shape=(param_dim,))\n",
    "# inputs_psi_x = Input(shape=(n_psi,))\n",
    "\n",
    "# fake_psi = model_K_u_pred_pk([inputs_u, inputs_psi_x])\n",
    "\n",
    "# test_K_model = Model(inputs=[inputs_u, inputs_psi_x], outputs=fake_psi)\n",
    "\n",
    "# test_K_model.compile(optimizer=Adam(0.000001), loss=\"mse\")\n",
    "# test_K_model.fit(x=[data_u, psi_x_data], y=target, epochs=500, batch_size=200, verbose=1)\n",
    "# dic_pk.set_weights(dic_bilinear.get_weights())\n",
    "\n"
   ]
  },
  {
   "cell_type": "code",
   "execution_count": null,
   "id": "a2fe4211",
   "metadata": {},
   "outputs": [],
   "source": []
  },
  {
   "cell_type": "markdown",
   "id": "871ca98b",
   "metadata": {},
   "source": [
    "## Prediction"
   ]
  },
  {
   "cell_type": "code",
   "execution_count": 43,
   "id": "fde1ce46",
   "metadata": {},
   "outputs": [],
   "source": [
    "from koopmanlib.functions import *"
   ]
  },
  {
   "cell_type": "markdown",
   "id": "4da3a1b9",
   "metadata": {},
   "source": [
    "## Calculate average value"
   ]
  },
  {
   "cell_type": "code",
   "execution_count": 44,
   "id": "59ba4a25",
   "metadata": {},
   "outputs": [],
   "source": [
    "np.random.seed(625)\n",
    "n_test = 20\n",
    "seed_x_list = np.random.randint(1, 300, size=(n_test,))\n",
    "seed_param_list = np.random.randint(1, 300, size=(n_test,))\n",
    "n_traj_test = 1\n",
    "traj_len_test = 50"
   ]
  },
  {
   "cell_type": "code",
   "execution_count": 45,
   "id": "991168ff",
   "metadata": {},
   "outputs": [],
   "source": [
    "ratio_pk_list = []\n",
    "ratio_linear_list = []\n",
    "ratio_bilinear_list = []\n",
    "# ratio_dmdc_list = []\n",
    "ratio_pk_faker_list = []"
   ]
  },
  {
   "cell_type": "code",
   "execution_count": 46,
   "id": "b4dc73e3",
   "metadata": {},
   "outputs": [],
   "source": [
    "data_pred_list_pk_group = []\n",
    "data_pred_list_linear_group = []\n",
    "data_pred_list_bilinear_group = []\n",
    "data_true_group = []\n",
    "# data_pred_list_dmdc_group = []\n",
    "data_pred_list_pk_faker_group = []\n"
   ]
  },
  {
   "cell_type": "code",
   "execution_count": 47,
   "id": "c29d21cf",
   "metadata": {},
   "outputs": [],
   "source": [
    "for seed_x, seed_param in zip(seed_x_list, seed_param_list):\n",
    "    vdp_mathieu_test = VanderPolMathieuTarget(\n",
    "        mu=mu, dim=target_dim, param_dim=param_dim, k1=k1, k2=k2, k4=k4, w0=w0\n",
    "    )\n",
    "\n",
    "    data_x_test, data_u_test = vdp_mathieu_test.generate_init_data(\n",
    "        n_traj=n_traj_test, traj_len=traj_len_test, seed_x=seed_x, seed_param=seed_param\n",
    "    )\n",
    "    data_x_init = tf.reshape(data_x_test[0], shape=(1, -1))\n",
    "    data_true = data_x_test\n",
    "\n",
    "    data_pred_list_pk = solver_pk.compute_data_list(traj_len_test, data_x_init, data_u_test)\n",
    "    data_pred_list_pk_faker = solver_pk_faker.compute_data_list(traj_len_test, data_x_init, data_u_test)\n",
    "    data_pred_list_linear = solver_linear.compute_data_list(\n",
    "        traj_len=traj_len_test, data_x_init=data_x_init, data_u=data_u_test\n",
    "    )\n",
    "    data_pred_list_bilinear = solver_bilinear.compute_data_list(\n",
    "        traj_len=traj_len_test, data_x_init=data_x_init, data_u=data_u_test\n",
    "    )\n",
    "\n",
    "    # data_pred_list_dmdc = solver_dmdc.compute_data_list(\n",
    "    #     traj_len=traj_len_test, data_x_init=data_x_init, data_u=data_u_test\n",
    "    # )\n",
    "\n",
    "    ratio_pk = compute_diff_ratio_one_traj(data_true, data_pred_list_pk)\n",
    "    ratio_linear = compute_diff_ratio_one_traj(data_true, data_pred_list_linear)\n",
    "    ratio_bilinear = compute_diff_ratio_one_traj(data_true, data_pred_list_bilinear)\n",
    "    # ratio_dmdc = compute_diff_ratio_one_traj(data_true, data_pred_list_dmdc)\n",
    "    ratio_pk_faker = compute_diff_ratio_one_traj(data_true, data_pred_list_pk_faker)\n",
    "\n",
    "    ratio_pk_list.append(ratio_pk)\n",
    "    ratio_linear_list.append(ratio_linear)\n",
    "    ratio_bilinear_list.append(ratio_bilinear)\n",
    "    # ratio_dmdc_list.append(ratio_dmdc)\n",
    "    ratio_pk_faker_list.append(ratio_pk_faker)\n",
    "\n",
    "    data_pred_list_pk_group.append(data_pred_list_pk)\n",
    "    data_pred_list_linear_group.append(data_pred_list_linear)\n",
    "    data_pred_list_bilinear_group.append(data_pred_list_bilinear)\n",
    "    # data_pred_list_dmdc_group.append(data_pred_list_dmdc)\n",
    "    data_pred_list_pk_faker_group.append(data_pred_list_pk_faker)\n",
    "\n",
    "    data_true_group.append(data_true)"
   ]
  },
  {
   "cell_type": "code",
   "execution_count": 48,
   "id": "e8c70a6d",
   "metadata": {},
   "outputs": [
    {
     "data": {
      "image/png": "[encoded data removed]",
      "text/plain": [
       "<Figure size 432x360 with 1 Axes>"
      ]
     },
     "metadata": {
      "needs_background": "light"
     },
     "output_type": "display_data"
    }
   ],
   "source": [
    "plt.figure(figsize=(6, 5))\n",
    "\n",
    "plt.plot(\n",
    "    data_pred_list_pk[:, 0], \n",
    "    data_pred_list_pk[:, 1], \n",
    "    label=\"Ours\", \n",
    "    color=\"steelblue\", \n",
    "    linewidth=3\n",
    ")\n",
    "    \n",
    "plt.plot(\n",
    "    data_pred_list_linear[:, 0],\n",
    "    data_pred_list_linear[:, 1],\n",
    "    label=\"M2\",\n",
    "    color=\"darkorange\",\n",
    "    linewidth=3,\n",
    ")\n",
    "plt.plot(\n",
    "    data_pred_list_bilinear[:, 0],\n",
    "    data_pred_list_bilinear[:, 1],\n",
    "    label=\"M3\",\n",
    "    color=\"forestgreen\",\n",
    "    linewidth=3,\n",
    ")\n",
    "\n",
    "# plt.plot(\n",
    "# data_pred_list_dmdc[:,0],\n",
    "# data_pred_list_dmdc[:,1],\n",
    "# label='DMDc',\n",
    "# color='red',\n",
    "# linewidth=3\n",
    "# )\n",
    "\n",
    "plt.plot(\n",
    "    data_pred_list_pk_faker[:, 0], \n",
    "    data_pred_list_pk_faker[:, 1], \n",
    "    label=\"PKNN-M2\", \n",
    "    color=\"purple\", \n",
    "    linewidth=3,\n",
    "    alpha=0.7\n",
    ")\n",
    "\n",
    "\n",
    "plt.plot(\n",
    "    data_true[:, 0], data_true[:, 1], label=\"True\", color=\"brown\", linestyle=\"dashed\", linewidth=3\n",
    ")\n",
    "plt.xlabel(r\"$x_{1}$\", fontsize=28)\n",
    "plt.ylabel(r\"$x_{2}$\", fontsize=28)\n",
    "plt.xticks(fontsize=18)\n",
    "plt.yticks(fontsize=18)\n",
    "plt.legend(fontsize=18)\n",
    "\n",
    "plt.savefig(os.path.join(figures_path, 'traj_linear_perturb_vdpm_'+str(mu)+'_.png'), dpi=200, bbox_inches='tight')\n",
    "plt.savefig(os.path.join(figures_path, 'traj_linear_perturb_vdpm_'+str(mu)+'_.pdf'), dpi=200, bbox_inches='tight')\n"
   ]
  },
  {
   "cell_type": "code",
   "execution_count": 49,
   "id": "a36e8965",
   "metadata": {},
   "outputs": [],
   "source": [
    "data_pred_list_pk_group = np.asarray(data_pred_list_pk_group)\n",
    "data_pred_list_linear_group = np.asarray(data_pred_list_linear_group)\n",
    "data_pred_list_bilinear_group = np.asarray(data_pred_list_bilinear_group)\n",
    "# data_pred_list_dmdc_group = np.asarray(data_pred_list_dmdc_group)\n",
    "data_pred_list_pk_faker_group = np.asarray(data_pred_list_pk_faker_group)\n",
    "data_true_group = np.asarray(data_true_group)"
   ]
  },
  {
   "cell_type": "code",
   "execution_count": 50,
   "id": "a6df8fe1",
   "metadata": {},
   "outputs": [],
   "source": [
    "# for i in range(data_pred_list_pk_group.shape[0]):\n",
    "#     plt.figure(figsize=(6, 5))\n",
    "#     plt.plot(\n",
    "#         data_pred_list_pk_group[i, :, 0],\n",
    "#         data_pred_list_pk_group[i, :, 1],\n",
    "#         label=\"Ours\",\n",
    "#         color=\"steelblue\",\n",
    "#         linewidth=3,\n",
    "#     )\n",
    "#     plt.plot(\n",
    "#         data_pred_list_linear_group[i, :, 0],\n",
    "#         data_pred_list_linear_group[i, :, 1],\n",
    "#         label=\"M2\",\n",
    "#         color=\"darkorange\",\n",
    "#         linewidth=3,\n",
    "#     )\n",
    "#     plt.plot(\n",
    "#         data_pred_list_bilinear_group[i, :, 0],\n",
    "#         data_pred_list_bilinear_group[i, :, 1],\n",
    "#         label=\"M3\",\n",
    "#         color=\"forestgreen\",\n",
    "#         linewidth=3,\n",
    "#     )\n",
    "#     plt.plot(\n",
    "#         data_true_group[i, :, 0],\n",
    "#         data_true_group[i, :, 1],\n",
    "#         label=\"True\",\n",
    "#         color=\"brown\",\n",
    "#         linestyle=\"dashed\",\n",
    "#         linewidth=3,\n",
    "#     )\n",
    "#     plt.xlabel(r\"$x_{1}$\", fontsize=28)\n",
    "#     plt.ylabel(r\"$x_{2}$\", fontsize=28)\n",
    "#     plt.xticks(fontsize=18)\n",
    "#     plt.yticks(fontsize=18)\n",
    "#     plt.legend(fontsize=18)"
   ]
  },
  {
   "cell_type": "code",
   "execution_count": 51,
   "id": "343656b1",
   "metadata": {},
   "outputs": [],
   "source": [
    "ratio_pk_list = np.asarray(ratio_pk_list)\n",
    "ratio_linear_list = np.asarray(ratio_linear_list)\n",
    "ratio_bilinear_list = np.asarray(ratio_bilinear_list)\n",
    "# ratio_dmdc_list = np.asarray(ratio_dmdc_list)\n",
    "ratio_pk_faker_list = np.asarray(ratio_pk_faker_list)"
   ]
  },
  {
   "cell_type": "code",
   "execution_count": 52,
   "id": "90863088",
   "metadata": {},
   "outputs": [],
   "source": [
    "ratio_pk_list_mean = np.mean(ratio_pk_list, axis=0)\n",
    "ratio_linear_list_mean = np.mean(ratio_linear_list, axis=0)\n",
    "ratio_bilinear_list_mean = np.mean(ratio_bilinear_list, axis=0)\n",
    "# ratio_dmdc_list_mean = np.mean(ratio_dmdc_list, axis=0)\n",
    "ratio_pk_faker_list_mean = np.mean(ratio_pk_faker_list, axis=0)"
   ]
  },
  {
   "cell_type": "code",
   "execution_count": 53,
   "id": "5843294e",
   "metadata": {},
   "outputs": [],
   "source": [
    "ratio_pk_list_median = np.median(ratio_pk_list, axis=0)\n",
    "ratio_linear_list_median = np.median(ratio_linear_list, axis=0)\n",
    "ratio_bilinear_list_median = np.median(ratio_bilinear_list, axis=0)\n",
    "# ratio_dmdc_list_median = np.median(ratio_dmdc_list, axis=0)\n",
    "ratio_pk_faker_list_median = np.median(ratio_pk_faker_list, axis=0)"
   ]
  },
  {
   "cell_type": "code",
   "execution_count": 54,
   "id": "a99da91a",
   "metadata": {},
   "outputs": [],
   "source": [
    "q_min = 0.35\n",
    "q_max = 0.65"
   ]
  },
  {
   "cell_type": "code",
   "execution_count": 55,
   "id": "30400bf9",
   "metadata": {},
   "outputs": [
    {
     "data": {
      "text/plain": [
       "array([[0.00000000e+00, 1.08002377e-04, 2.03615975e-04, 3.01131228e-04,\n",
       "        4.00254354e-04, 4.99888098e-04, 5.99304956e-04, 6.98935822e-04,\n",
       "        7.99435169e-04, 9.00911523e-04, 1.00299172e-03, 1.10484419e-03,\n",
       "        1.20616149e-03, 1.30617470e-03, 1.40491244e-03, 1.50188627e-03,\n",
       "        1.59667392e-03, 1.68908564e-03, 1.77910571e-03, 1.86665527e-03,\n",
       "        1.95118170e-03, 2.03266036e-03, 2.11104409e-03, 2.18604299e-03,\n",
       "        2.25746243e-03, 2.32521679e-03, 2.38890360e-03, 2.44831219e-03,\n",
       "        2.50332792e-03, 2.55383758e-03, 2.59953883e-03, 2.63992909e-03,\n",
       "        2.67458254e-03, 2.70314181e-03, 2.72566725e-03, 2.74217169e-03,\n",
       "        2.75307803e-03, 2.75845489e-03, 2.75832480e-03, 2.75278734e-03,\n",
       "        2.74249788e-03, 2.72798206e-03, 2.70951179e-03, 2.68795276e-03,\n",
       "        2.66420214e-03, 2.63909116e-03, 2.61354313e-03, 2.58817267e-03,\n",
       "        2.56403975e-03, 2.54278499e-03],\n",
       "       [0.00000000e+00, 3.93370647e-05, 7.88818044e-05, 1.18151677e-04,\n",
       "        1.60215690e-04, 2.02595845e-04, 2.42543546e-04, 2.79200682e-04,\n",
       "        3.13550272e-04, 3.47404823e-04, 3.83350304e-04, 4.19574813e-04,\n",
       "        4.57571273e-04, 4.95061727e-04, 5.32634614e-04, 5.70364493e-04,\n",
       "        6.07533524e-04, 6.45703852e-04, 6.83819154e-04, 7.22709164e-04,\n",
       "        7.63528690e-04, 8.05236370e-04, 8.49134133e-04, 8.94639935e-04,\n",
       "        9.40998601e-04, 9.87648502e-04, 1.03634197e-03, 1.08673803e-03,\n",
       "        1.13811665e-03, 1.19049001e-03, 1.24504630e-03, 1.30073407e-03,\n",
       "        1.35782754e-03, 1.41646804e-03, 1.47687495e-03, 1.53906026e-03,\n",
       "        1.60408298e-03, 1.67171894e-03, 1.74120469e-03, 1.81266922e-03,\n",
       "        1.88689550e-03, 1.96242782e-03, 2.03987658e-03, 2.11887646e-03,\n",
       "        2.20042804e-03, 2.28325987e-03, 2.36838103e-03, 2.45474669e-03,\n",
       "        2.54360242e-03, 2.63392393e-03],\n",
       "       [0.00000000e+00, 1.67294873e-04, 3.02151903e-04, 4.33390070e-04,\n",
       "        5.62271358e-04, 6.89102198e-04, 8.15854782e-04, 9.39165616e-04,\n",
       "        1.06212730e-03, 1.18393720e-03, 1.30131172e-03, 1.41465736e-03,\n",
       "        1.52579792e-03, 1.63330842e-03, 1.73622070e-03, 1.83638532e-03,\n",
       "        1.93455984e-03, 2.02819220e-03, 2.11974783e-03, 2.20643996e-03,\n",
       "        2.28792343e-03, 2.36694856e-03, 2.44190020e-03, 2.51161499e-03,\n",
       "        2.57646257e-03, 2.63617479e-03, 2.69140988e-03, 2.74338547e-03,\n",
       "        2.79113334e-03, 2.83616285e-03, 2.87711053e-03, 2.91475683e-03,\n",
       "        2.94900024e-03, 2.98168923e-03, 3.01253797e-03, 3.04029157e-03,\n",
       "        3.06525322e-03, 3.08904131e-03, 3.11152644e-03, 3.13355498e-03,\n",
       "        3.15579621e-03, 3.17849888e-03, 3.20095122e-03, 3.22368870e-03,\n",
       "        3.24810629e-03, 3.27323237e-03, 3.30061908e-03, 3.33103649e-03,\n",
       "        3.36510205e-03, 3.40198818e-03],\n",
       "       [0.00000000e+00, 1.51163827e-04, 2.74586727e-04, 3.96036511e-04,\n",
       "        5.09479839e-04, 6.15706200e-04, 7.14764313e-04, 8.11035751e-04,\n",
       "        9.01119862e-04, 9.87350760e-04, 1.06807531e-03, 1.14311629e-03,\n",
       "        1.21307966e-03, 1.27877052e-03, 1.33931162e-03, 1.39478664e-03,\n",
       "        1.44661803e-03, 1.49486598e-03, 1.53982603e-03, 1.58159780e-03,\n",
       "        1.62008459e-03, 1.65619539e-03, 1.69057095e-03, 1.72378909e-03,\n",
       "        1.75617229e-03, 1.78767967e-03, 1.81816347e-03, 1.84787998e-03,\n",
       "        1.87710946e-03, 1.90622421e-03, 1.93533105e-03, 1.96443421e-03,\n",
       "        1.99377301e-03, 2.02367205e-03, 2.05431677e-03, 2.08594317e-03,\n",
       "        2.11874803e-03, 2.15271607e-03, 2.18797034e-03, 2.22466973e-03,\n",
       "        2.26275115e-03, 2.30225975e-03, 2.34326682e-03, 2.38564526e-03,\n",
       "        2.42924270e-03, 2.47381264e-03, 2.51897069e-03, 2.56430880e-03,\n",
       "        2.60936355e-03, 2.65375303e-03],\n",
       "       [0.00000000e+00, 1.15014633e-04, 2.09873275e-04, 3.04441870e-04,\n",
       "        3.97970899e-04, 4.91863459e-04, 5.84276886e-04, 6.75601927e-04,\n",
       "        7.65925782e-04, 8.55343349e-04, 9.44397822e-04, 1.03299767e-03,\n",
       "        1.12113688e-03, 1.20892424e-03, 1.29614423e-03, 1.38275220e-03,\n",
       "        1.46860178e-03, 1.55375930e-03, 1.63831556e-03, 1.72224647e-03,\n",
       "        1.80544209e-03, 1.88790043e-03, 1.96971717e-03, 2.05098628e-03,\n",
       "        2.13178258e-03, 2.21213964e-03, 2.29203379e-03, 2.37146369e-03,\n",
       "        2.45043958e-03, 2.52898502e-03, 2.60704412e-03, 2.68463151e-03,\n",
       "        2.76180581e-03, 2.83850269e-03, 2.91476746e-03, 2.99056797e-03,\n",
       "        3.06587397e-03, 3.14070481e-03, 3.21509842e-03, 3.28907359e-03,\n",
       "        3.36266682e-03, 3.43588959e-03, 3.50877522e-03, 3.58135908e-03,\n",
       "        3.65366855e-03, 3.72571945e-03, 3.79747679e-03, 3.86892422e-03,\n",
       "        3.94003131e-03, 4.01075806e-03],\n",
       "       [0.00000000e+00, 3.40141258e-05, 6.80554588e-05, 9.95430694e-05,\n",
       "        1.23640293e-04, 1.48164625e-04, 1.69600248e-04, 1.90298823e-04,\n",
       "        2.07377563e-04, 2.23808008e-04, 2.37660515e-04, 2.49925446e-04,\n",
       "        2.60266176e-04, 2.68601932e-04, 2.75107905e-04, 2.78949388e-04,\n",
       "        2.81054884e-04, 2.81707229e-04, 2.81271283e-04, 2.80358300e-04,\n",
       "        2.79415760e-04, 2.79106488e-04, 2.80068950e-04, 2.82867353e-04,\n",
       "        2.88430246e-04, 2.97806885e-04, 3.11399596e-04, 3.30053941e-04,\n",
       "        3.53321066e-04, 3.80677892e-04, 4.13038191e-04, 4.50231638e-04,\n",
       "        4.92385967e-04, 5.38020963e-04, 5.87805872e-04, 6.41362705e-04,\n",
       "        6.98779495e-04, 7.60582923e-04, 8.26607133e-04, 8.95478863e-04,\n",
       "        9.68049614e-04, 1.04416715e-03, 1.12404010e-03, 1.20728170e-03,\n",
       "        1.29372527e-03, 1.38453300e-03, 1.47929294e-03, 1.57699472e-03,\n",
       "        1.67755435e-03, 1.78177908e-03],\n",
       "       [0.00000000e+00, 1.18123860e-04, 2.18935127e-04, 3.17791150e-04,\n",
       "        4.15497476e-04, 5.11723906e-04, 6.04756674e-04, 6.95327937e-04,\n",
       "        7.84135858e-04, 8.70435842e-04, 9.54372316e-04, 1.03604570e-03,\n",
       "        1.11531380e-03, 1.19217515e-03, 1.26635817e-03, 1.33783949e-03,\n",
       "        1.40677286e-03, 1.47289754e-03, 1.53576288e-03, 1.59568626e-03,\n",
       "        1.65199937e-03, 1.70535697e-03, 1.75587293e-03, 1.80326362e-03,\n",
       "        1.84691086e-03, 1.88727544e-03, 1.92395194e-03, 1.95681075e-03,\n",
       "        1.98631774e-03, 2.01180383e-03, 2.03372567e-03, 2.05210155e-03,\n",
       "        2.06694452e-03, 2.07748627e-03, 2.08478658e-03, 2.08863162e-03,\n",
       "        2.08833473e-03, 2.08397413e-03, 2.07660719e-03, 2.06638925e-03,\n",
       "        2.05282993e-03, 2.03617618e-03, 2.01668990e-03, 1.99472526e-03,\n",
       "        1.97002486e-03, 1.94317792e-03, 1.91435765e-03, 1.88428499e-03,\n",
       "        1.85311931e-03, 1.82139528e-03],\n",
       "       [0.00000000e+00, 9.37019671e-05, 1.65298068e-04, 2.33312200e-04,\n",
       "        2.97322941e-04, 3.59886910e-04, 4.18027781e-04, 4.72761243e-04,\n",
       "        5.24805210e-04, 5.73046130e-04, 6.18057724e-04, 6.60200454e-04,\n",
       "        6.98396713e-04, 7.32451948e-04, 7.62880545e-04, 7.89178785e-04,\n",
       "        8.11595016e-04, 8.30217938e-04, 8.44880744e-04, 8.55827281e-04,\n",
       "        8.62990481e-04, 8.66562807e-04, 8.66679859e-04, 8.63540220e-04,\n",
       "        8.57309432e-04, 8.48239549e-04, 8.36747188e-04, 8.23165620e-04,\n",
       "        8.07848022e-04, 7.91091772e-04, 7.73553666e-04, 7.55818298e-04,\n",
       "        7.38498152e-04, 7.22182795e-04, 7.07490140e-04, 6.94930909e-04,\n",
       "        6.85109023e-04, 6.78325175e-04, 6.74631727e-04, 6.74350656e-04,\n",
       "        6.76776824e-04, 6.82003974e-04, 6.89503783e-04, 6.98219306e-04,\n",
       "        7.07892535e-04, 7.17551613e-04, 7.26592913e-04, 7.34288910e-04,\n",
       "        7.39855382e-04, 7.42569947e-04],\n",
       "       [0.00000000e+00, 4.40752967e-05, 6.51763230e-05, 9.36283043e-05,\n",
       "        1.14985745e-04, 1.34893263e-04, 1.61741439e-04, 1.85995409e-04,\n",
       "        2.10733742e-04, 2.41653241e-04, 2.73097671e-04, 3.04041333e-04,\n",
       "        3.31724728e-04, 3.63039823e-04, 3.91857668e-04, 4.22430577e-04,\n",
       "        4.54392817e-04, 4.90341440e-04, 5.26459285e-04, 5.63594019e-04,\n",
       "        6.04805990e-04, 6.49856841e-04, 6.98968483e-04, 7.48035652e-04,\n",
       "        7.96058594e-04, 8.44145966e-04, 8.93513506e-04, 9.45404741e-04,\n",
       "        1.00021429e-03, 1.05961924e-03, 1.12419134e-03, 1.19272349e-03,\n",
       "        1.26695094e-03, 1.34559777e-03, 1.42795842e-03, 1.51562872e-03,\n",
       "        1.60685830e-03, 1.70173799e-03, 1.80029021e-03, 1.90163437e-03,\n",
       "        2.00668326e-03, 2.11541815e-03, 2.22723596e-03, 2.34269621e-03,\n",
       "        2.46142297e-03, 2.58363672e-03, 2.70933182e-03, 2.83846640e-03,\n",
       "        2.97131588e-03, 3.10751899e-03],\n",
       "       [0.00000000e+00, 5.70037933e-05, 1.11594277e-04, 1.55649254e-04,\n",
       "        1.95572513e-04, 2.35539302e-04, 2.73402203e-04, 3.05362095e-04,\n",
       "        3.33293373e-04, 3.56171226e-04, 3.75005291e-04, 3.90215081e-04,\n",
       "        4.01653274e-04, 4.11087831e-04, 4.15764104e-04, 4.16877857e-04,\n",
       "        4.14930942e-04, 4.10138105e-04, 4.02278350e-04, 3.91945977e-04,\n",
       "        3.80355001e-04, 3.68531390e-04, 3.56595105e-04, 3.45634911e-04,\n",
       "        3.37045271e-04, 3.31699640e-04, 3.30604570e-04, 3.35437593e-04,\n",
       "        3.46142604e-04, 3.63659444e-04, 3.87249148e-04, 4.15566088e-04,\n",
       "        4.47606362e-04, 4.82950420e-04, 5.19893431e-04, 5.56690788e-04,\n",
       "        5.92851394e-04, 6.28464370e-04, 6.62069956e-04, 6.93404057e-04,\n",
       "        7.22161903e-04, 7.48447943e-04, 7.71366681e-04, 7.90715718e-04,\n",
       "        8.06151394e-04, 8.17818876e-04, 8.25417095e-04, 8.28933551e-04,\n",
       "        8.28420406e-04, 8.24237687e-04],\n",
       "       [0.00000000e+00, 5.79015271e-05, 1.13479609e-04, 1.73028124e-04,\n",
       "        2.32701922e-04, 2.94460335e-04, 3.56756981e-04, 4.19429911e-04,\n",
       "        4.82754808e-04, 5.50570458e-04, 6.19656759e-04, 6.90247730e-04,\n",
       "        7.61909746e-04, 8.33902022e-04, 9.06603075e-04, 9.79499670e-04,\n",
       "        1.05293462e-03, 1.12539356e-03, 1.19630510e-03, 1.26608895e-03,\n",
       "        1.33395335e-03, 1.39963691e-03, 1.46291335e-03, 1.52344900e-03,\n",
       "        1.58114403e-03, 1.63557863e-03, 1.68623318e-03, 1.73252838e-03,\n",
       "        1.77438980e-03, 1.81153133e-03, 1.84385319e-03, 1.87126885e-03,\n",
       "        1.89376611e-03, 1.91131211e-03, 1.92371719e-03, 1.93128544e-03,\n",
       "        1.93432443e-03, 1.93284421e-03, 1.92717062e-03, 1.91778800e-03,\n",
       "        1.90556551e-03, 1.89104340e-03, 1.87445847e-03, 1.85686715e-03,\n",
       "        1.83874512e-03, 1.82092017e-03, 1.80371167e-03, 1.78842984e-03,\n",
       "        1.77678873e-03, 1.77033276e-03],\n",
       "       [0.00000000e+00, 2.18532835e-05, 3.44815321e-05, 4.27001145e-05,\n",
       "        4.39664188e-05, 4.20800569e-05, 3.99444168e-05, 3.87826383e-05,\n",
       "        4.00457419e-05, 4.77275251e-05, 5.86774070e-05, 7.64643410e-05,\n",
       "        9.81232472e-05, 1.23165875e-04, 1.50853381e-04, 1.82295503e-04,\n",
       "        2.18153012e-04, 2.58543243e-04, 3.03669116e-04, 3.54707215e-04,\n",
       "        4.11495114e-04, 4.73406945e-04, 5.40303655e-04, 6.09759450e-04,\n",
       "        6.82673495e-04, 7.58829470e-04, 8.38689138e-04, 9.21902226e-04,\n",
       "        1.00734238e-03, 1.09514253e-03, 1.18523392e-03, 1.27787394e-03,\n",
       "        1.37258948e-03, 1.46991110e-03, 1.56902805e-03, 1.66928898e-03,\n",
       "        1.77055118e-03, 1.87238247e-03, 1.97451239e-03, 2.07666221e-03,\n",
       "        2.17865916e-03, 2.28025152e-03, 2.38105890e-03, 2.48061494e-03,\n",
       "        2.57836053e-03, 2.67399706e-03, 2.76700702e-03, 2.85723249e-03,\n",
       "        2.94442151e-03, 3.02811503e-03],\n",
       "       [0.00000000e+00, 1.86669962e-04, 3.44773011e-04, 5.02674508e-04,\n",
       "        6.58742042e-04, 8.16543029e-04, 9.76785120e-04, 1.13584909e-03,\n",
       "        1.29535627e-03, 1.45518356e-03, 1.61408485e-03, 1.77411879e-03,\n",
       "        1.93431451e-03, 2.09503508e-03, 2.25451630e-03, 2.41380117e-03,\n",
       "        2.57220005e-03, 2.72808762e-03, 2.88129325e-03, 3.03344446e-03,\n",
       "        3.18265439e-03, 3.33187880e-03, 3.47717637e-03, 3.62073308e-03,\n",
       "        3.76306269e-03, 3.90307889e-03, 4.04035911e-03, 4.17304059e-03,\n",
       "        4.30274804e-03, 4.42821363e-03, 4.54973199e-03, 4.66888799e-03,\n",
       "        4.78648076e-03, 4.89927685e-03, 5.00718379e-03, 5.11308153e-03,\n",
       "        5.21507980e-03, 5.31374124e-03, 5.40698866e-03, 5.49464287e-03,\n",
       "        5.57844800e-03, 5.65668494e-03, 5.73222628e-03, 5.80546953e-03,\n",
       "        5.87344084e-03, 5.93628087e-03, 5.99578888e-03, 6.05356583e-03,\n",
       "        6.10840730e-03, 6.16113914e-03],\n",
       "       [0.00000000e+00, 1.47033843e-04, 2.69807503e-04, 3.92375671e-04,\n",
       "        5.16821117e-04, 6.41241895e-04, 7.64142684e-04, 8.85571985e-04,\n",
       "        1.00555224e-03, 1.12419534e-03, 1.24164383e-03, 1.35756311e-03,\n",
       "        1.47225947e-03, 1.58583593e-03, 1.69857236e-03, 1.81022036e-03,\n",
       "        1.92051040e-03, 2.02929666e-03, 2.13634171e-03, 2.24069694e-03,\n",
       "        2.34197139e-03, 2.44008561e-03, 2.53461347e-03, 2.62738435e-03,\n",
       "        2.71754911e-03, 2.80515286e-03, 2.88933648e-03, 2.97002624e-03,\n",
       "        3.04854236e-03, 3.12467001e-03, 3.19843546e-03, 3.26904530e-03,\n",
       "        3.33707874e-03, 3.40036649e-03, 3.45952381e-03, 3.51544583e-03,\n",
       "        3.56754451e-03, 3.61626156e-03, 3.66162421e-03, 3.70403699e-03,\n",
       "        3.74328765e-03, 3.77893860e-03, 3.81054380e-03, 3.83797925e-03,\n",
       "        3.86071533e-03, 3.88030112e-03, 3.89538185e-03, 3.90742469e-03,\n",
       "        3.91618422e-03, 3.92102590e-03],\n",
       "       [0.00000000e+00, 5.32743096e-05, 1.01876993e-04, 1.53747904e-04,\n",
       "        2.09674216e-04, 2.68689692e-04, 3.30672303e-04, 3.96896172e-04,\n",
       "        4.66707283e-04, 5.39813508e-04, 6.16118253e-04, 6.95566729e-04,\n",
       "        7.77672792e-04, 8.62477095e-04, 9.50161363e-04, 1.04035778e-03,\n",
       "        1.13298218e-03, 1.22781117e-03, 1.32485479e-03, 1.42411429e-03,\n",
       "        1.52547489e-03, 1.62877841e-03, 1.73388472e-03, 1.84062776e-03,\n",
       "        1.94861184e-03, 2.05763610e-03, 2.16728675e-03, 2.27736095e-03,\n",
       "        2.38773778e-03, 2.49823213e-03, 2.60839185e-03, 2.71814119e-03,\n",
       "        2.82704830e-03, 2.93482780e-03, 3.04150695e-03, 3.14694244e-03,\n",
       "        3.25093741e-03, 3.35300049e-03, 3.45327072e-03, 3.55137601e-03,\n",
       "        3.64673578e-03, 3.73941036e-03, 3.82945325e-03, 3.91687121e-03,\n",
       "        4.00152157e-03, 4.08321360e-03, 4.16117386e-03, 4.23581255e-03,\n",
       "        4.30680852e-03, 4.37353841e-03],\n",
       "       [0.00000000e+00, 1.42802721e-04, 2.58152838e-04, 3.72312317e-04,\n",
       "        4.86489169e-04, 5.99822156e-04, 7.13078712e-04, 8.25799557e-04,\n",
       "        9.37654304e-04, 1.04868186e-03, 1.15918836e-03, 1.26927005e-03,\n",
       "        1.37880338e-03, 1.48778323e-03, 1.59616171e-03, 1.70387176e-03,\n",
       "        1.81083057e-03, 1.91709834e-03, 2.02263466e-03, 2.12748201e-03,\n",
       "        2.23152236e-03, 2.33487888e-03, 2.43742557e-03, 2.53920019e-03,\n",
       "        2.63998057e-03, 2.74003827e-03, 2.83920615e-03, 2.93745275e-03,\n",
       "        3.03495641e-03, 3.13162134e-03, 3.22749746e-03, 3.32261207e-03,\n",
       "        3.41680048e-03, 3.51011788e-03, 3.60263331e-03, 3.69421447e-03,\n",
       "        3.78500073e-03, 3.87506486e-03, 3.96419613e-03, 4.05255692e-03,\n",
       "        4.14008578e-03, 4.22701631e-03, 4.31322606e-03, 4.39873906e-03,\n",
       "        4.48353570e-03, 4.56768861e-03, 4.65119828e-03, 4.73418195e-03,\n",
       "        4.81662814e-03, 4.89868560e-03],\n",
       "       [0.00000000e+00, 3.18907882e-04, 5.73374336e-04, 8.16383827e-04,\n",
       "        1.05094728e-03, 1.27675309e-03, 1.49224278e-03, 1.69997524e-03,\n",
       "        1.90180337e-03, 2.09878471e-03, 2.29125822e-03, 2.47747048e-03,\n",
       "        2.65724289e-03, 2.82836774e-03, 2.99166690e-03, 3.14891663e-03,\n",
       "        3.29871687e-03, 3.44309694e-03, 3.58149061e-03, 3.71590489e-03,\n",
       "        3.84745553e-03, 3.97538775e-03, 4.09927935e-03, 4.21846848e-03,\n",
       "        4.33329687e-03, 4.44418893e-03, 4.55212635e-03, 4.65642472e-03,\n",
       "        4.75736452e-03, 4.85671870e-03, 4.95405338e-03, 5.04962713e-03,\n",
       "        5.14197849e-03, 5.23233463e-03, 5.32234818e-03, 5.41111564e-03,\n",
       "        5.49972154e-03, 5.58826845e-03, 5.67585377e-03, 5.76227229e-03,\n",
       "        5.84799267e-03, 5.93491298e-03, 6.02254325e-03, 6.11108588e-03,\n",
       "        6.20054216e-03, 6.29105586e-03, 6.38278701e-03, 6.47421220e-03,\n",
       "        6.56606271e-03, 6.65768271e-03],\n",
       "       [0.00000000e+00, 5.00785011e-05, 8.49810753e-05, 1.14152075e-04,\n",
       "        1.38514693e-04, 1.57993089e-04, 1.73126278e-04, 1.84046876e-04,\n",
       "        1.90984556e-04, 1.93714406e-04, 1.92863956e-04, 1.88872137e-04,\n",
       "        1.83352046e-04, 1.78735960e-04, 1.78123224e-04, 1.84327445e-04,\n",
       "        1.99591617e-04, 2.24239084e-04, 2.59040472e-04, 3.02503707e-04,\n",
       "        3.53791896e-04, 4.12601395e-04, 4.76883754e-04, 5.45516195e-04,\n",
       "        6.18416576e-04, 6.94871953e-04, 7.74793319e-04, 8.58946299e-04,\n",
       "        9.46300204e-04, 1.03702803e-03, 1.13025900e-03, 1.22537443e-03,\n",
       "        1.32175823e-03, 1.42019593e-03, 1.52050918e-03, 1.62207480e-03,\n",
       "        1.72382339e-03, 1.82554558e-03, 1.92677289e-03, 2.02727177e-03,\n",
       "        2.12668851e-03, 2.22496407e-03, 2.32192714e-03, 2.41745869e-03,\n",
       "        2.51083923e-03, 2.60141175e-03, 2.68879985e-03, 2.77364238e-03,\n",
       "        2.85606085e-03, 2.93582827e-03],\n",
       "       [0.00000000e+00, 1.76898539e-04, 3.25040072e-04, 4.69008508e-04,\n",
       "        6.10452863e-04, 7.52041096e-04, 8.93475515e-04, 1.03634661e-03,\n",
       "        1.17884788e-03, 1.31942333e-03, 1.45895439e-03, 1.59809282e-03,\n",
       "        1.73441010e-03, 1.86908868e-03, 2.00064907e-03, 2.12991102e-03,\n",
       "        2.25631059e-03, 2.37942155e-03, 2.49865765e-03, 2.61476005e-03,\n",
       "        2.72662144e-03, 2.83425377e-03, 2.93750828e-03, 3.03750389e-03,\n",
       "        3.13330594e-03, 3.22676786e-03, 3.31808752e-03, 3.40684887e-03,\n",
       "        3.49288691e-03, 3.57586235e-03, 3.65569329e-03, 3.73263341e-03,\n",
       "        3.80433725e-03, 3.87059205e-03, 3.93295482e-03, 3.99086982e-03,\n",
       "        4.04544142e-03, 4.09603962e-03, 4.14336106e-03, 4.18597139e-03,\n",
       "        4.22637039e-03, 4.26447886e-03, 4.29875432e-03, 4.33078818e-03,\n",
       "        4.35914714e-03, 4.38605495e-03, 4.41063016e-03, 4.43297646e-03,\n",
       "        4.45565732e-03, 4.47730158e-03],\n",
       "       [0.00000000e+00, 1.95814091e-05, 3.91876636e-05, 6.14498860e-05,\n",
       "        8.09189730e-05, 9.90923774e-05, 1.19723733e-04, 1.40885508e-04,\n",
       "        1.60519184e-04, 1.82414419e-04, 2.03307697e-04, 2.25078071e-04,\n",
       "        2.48683689e-04, 2.73473901e-04, 3.00090466e-04, 3.29039222e-04,\n",
       "        3.58826181e-04, 3.88275175e-04, 4.17796668e-04, 4.49085745e-04,\n",
       "        4.80533751e-04, 5.13237366e-04, 5.47534351e-04, 5.83179973e-04,\n",
       "        6.18894654e-04, 6.55223884e-04, 6.92117183e-04, 7.30718378e-04,\n",
       "        7.69540186e-04, 8.08861327e-04, 8.47927692e-04, 8.86683296e-04,\n",
       "        9.26751949e-04, 9.67436337e-04, 1.00791286e-03, 1.04992916e-03,\n",
       "        1.09294099e-03, 1.13588525e-03, 1.17939800e-03, 1.22284704e-03,\n",
       "        1.26631837e-03, 1.30976876e-03, 1.35363222e-03, 1.39844413e-03,\n",
       "        1.44414152e-03, 1.49040992e-03, 1.53834446e-03, 1.58793859e-03,\n",
       "        1.63799256e-03, 1.68929384e-03]])"
      ]
     },
     "execution_count": 55,
     "metadata": {},
     "output_type": "execute_result"
    }
   ],
   "source": [
    "ratio_pk_list"
   ]
  },
  {
   "cell_type": "code",
   "execution_count": 56,
   "id": "a97a2f25",
   "metadata": {},
   "outputs": [],
   "source": [
    "ratio_pk_list_min = np.quantile(ratio_pk_list, q=q_min, axis=0)\n",
    "ratio_linear_list_min = np.quantile(ratio_linear_list, q=q_min, axis=0)\n",
    "ratio_bilinear_list_min = np.quantile(ratio_bilinear_list, q=q_min, axis=0)\n",
    "# ratio_dmdc_list_min = np.quantile(ratio_dmdc_list, q=q_min, axis=0)\n",
    "ratio_pk_faker_list_min = np.quantile(ratio_pk_faker_list, q=q_min, axis=0)"
   ]
  },
  {
   "cell_type": "code",
   "execution_count": 57,
   "id": "d34f9a5c",
   "metadata": {},
   "outputs": [],
   "source": [
    "ratio_pk_list_max = np.quantile(ratio_pk_list, q=q_max, axis=0)\n",
    "ratio_linear_list_max = np.quantile(ratio_linear_list, q=q_max, axis=0)\n",
    "ratio_bilinear_list_max = np.quantile(ratio_bilinear_list, q=q_max, axis=0)\n",
    "# ratio_dmdc_list_max = np.quantile(ratio_dmdc_list, q=q_max, axis=0)\n",
    "ratio_pk_faker_list_max = np.quantile(ratio_pk_faker_list, q=q_max, axis=0)"
   ]
  },
  {
   "cell_type": "code",
   "execution_count": 58,
   "id": "b05843d9",
   "metadata": {},
   "outputs": [],
   "source": [
    "x_axis = np.arange(0, traj_len_test, 1)"
   ]
  },
  {
   "cell_type": "code",
   "execution_count": 60,
   "id": "cb16eaf8",
   "metadata": {},
   "outputs": [
    {
     "data": {
      "text/plain": [
       "<matplotlib.legend.Legend at 0x7f9478565430>"
      ]
     },
     "execution_count": 60,
     "metadata": {},
     "output_type": "execute_result"
    },
    {
     "data": {
      "image/png": "[encoded data removed]",
      "text/plain": [
       "<Figure size 432x288 with 1 Axes>"
      ]
     },
     "metadata": {
      "needs_background": "light"
     },
     "output_type": "display_data"
    }
   ],
   "source": [
    "plt.figure(figsize=(6, 4))\n",
    "\n",
    "plt.plot(ratio_pk_list_median, label=\"Ours\", color=\"steelblue\", linewidth=3)\n",
    "plt.fill_between(x_axis, ratio_pk_list_min, ratio_pk_list_max, color=\"lightsteelblue\", alpha=0.5)\n",
    "plt.plot(ratio_linear_list_median, label=\"M2\", color=\"darkorange\", linewidth=3)\n",
    "plt.fill_between(\n",
    "    x_axis, ratio_linear_list_min, ratio_linear_list_max, color=\"navajowhite\", alpha=0.5\n",
    ")\n",
    "plt.plot(ratio_bilinear_list_median, label=\"M3\", color=\"forestgreen\", linewidth=3)\n",
    "plt.fill_between(\n",
    "    x_axis, ratio_bilinear_list_min, ratio_bilinear_list_max, color=\"darkseagreen\", alpha=0.5\n",
    ")\n",
    "\n",
    "plt.plot(ratio_pk_faker_list_median, label=\"PKNN-M2\", color=\"purple\", linewidth=3, alpha=0.7)\n",
    "plt.fill_between(x_axis, ratio_pk_faker_list_min, ratio_pk_faker_list_max, color=\"thistle\", alpha=0.7)\n",
    "\n",
    "\n",
    "plt.ticklabel_format(axis=\"y\", style=\"sci\", scilimits=(0, 0))\n",
    "plt.gca().yaxis.get_offset_text().set_fontsize(18)\n",
    "\n",
    "plt.xlabel(r\"$n$\", fontsize=28)\n",
    "plt.ylabel(\"Error\", fontsize=28)\n",
    "plt.xticks(fontsize=18)\n",
    "plt.yticks(fontsize=18)\n",
    "plt.legend(fontsize=18)\n",
    "\n",
    "# plt.savefig(os.path.join(figures_path, 'error_linear_perturb_vdpm_'+str(mu)+'_.png'), dpi=200, bbox_inches='tight')\n",
    "# plt.savefig(os.path.join(figures_path, 'error_linear_perturb_vdpm_'+str(mu)+'_.pdf'), dpi=200, bbox_inches='tight')\n"
   ]
  },
  {
   "cell_type": "code",
   "execution_count": null,
   "id": "0d5d9a91",
   "metadata": {},
   "outputs": [],
   "source": []
  }
 ],
 "metadata": {
  "kernelspec": {
   "display_name": "koopman",
   "language": "python",
   "name": "python3"
  },
  "language_info": {
   "codemirror_mode": {
    "name": "ipython",
    "version": 3
   },
   "file_extension": ".py",
   "mimetype": "text/x-python",
   "name": "python",
   "nbconvert_exporter": "python",
   "pygments_lexer": "ipython3",
   "version": "3.8.8"
  }
 },
 "nbformat": 4,
 "nbformat_minor": 5
}
