{
 "cells": [
  {
   "cell_type": "code",
   "execution_count": 1,
   "metadata": {},
   "outputs": [],
   "source": [
    "import os\n",
    "\n",
    "os.environ[\"CUDA_VISIBLE_DEVICES\"] = \"-1\""
   ]
  },
  {
   "cell_type": "code",
   "execution_count": 2,
   "metadata": {},
   "outputs": [],
   "source": [
    "%load_ext autoreload\n",
    "%autoreload 2"
   ]
  },
  {
   "cell_type": "code",
   "execution_count": 3,
   "metadata": {},
   "outputs": [],
   "source": [
    "import json\n",
    "import sys\n",
    "\n",
    "from tqdm import tqdm"
   ]
  },
  {
   "cell_type": "code",
   "execution_count": 4,
   "metadata": {},
   "outputs": [],
   "source": [
    "config_file = \"config_kdv.json\"\n",
    "\n",
    "with open(config_file, \"r\") as f:\n",
    "    config = json.load(f)[\"linear\"]"
   ]
  },
  {
   "cell_type": "code",
   "execution_count": 5,
   "metadata": {},
   "outputs": [],
   "source": [
    "data_path = config[\"data_settings\"][\"data_path\"]\n",
    "weights_path = config[\"nn_settings\"][\"weights_path\"]\n",
    "figures_path = config[\"data_settings\"][\"figures_path\"]\n",
    "\n",
    "\n",
    "n_traj = config[\"data_settings\"][\"n_traj\"]\n",
    "traj_len = config[\"data_settings\"][\"traj_len\"]\n",
    "\n",
    "forcing_type = config['data_settings']['forcing_type']\n",
    "\n",
    "\n",
    "n_psi_train = config[\"nn_settings\"][\"n_psi_train\"]\n",
    "dict_layer_size = config[\"nn_settings\"][\"dict_layer_size\"]\n",
    "K_layer_size = config[\"nn_settings\"][\"K_layer_size\"]"
   ]
  },
  {
   "cell_type": "code",
   "execution_count": 6,
   "metadata": {},
   "outputs": [
    {
     "name": "stderr",
     "output_type": "stream",
     "text": [
      "2024-03-24 00:08:21.929439: I tensorflow/core/platform/cpu_feature_guard.cc:193] This TensorFlow binary is optimized with oneAPI Deep Neural Network Library (oneDNN) to use the following CPU instructions in performance-critical operations:  AVX2 AVX512F AVX512_VNNI FMA\n",
      "To enable them in other operations, rebuild TensorFlow with the appropriate compiler flags.\n",
      "2024-03-24 00:08:22.037638: I tensorflow/core/util/port.cc:104] oneDNN custom operations are on. You may see slightly different numerical results due to floating-point round-off errors from different computation orders. To turn them off, set the environment variable `TF_ENABLE_ONEDNN_OPTS=0`.\n",
      "2024-03-24 00:08:22.551212: W tensorflow/compiler/xla/stream_executor/platform/default/dso_loader.cc:64] Could not load dynamic library 'libnvinfer.so.7'; dlerror: libnvrtc.so.10.2: cannot open shared object file: No such file or directory; LD_LIBRARY_PATH: /usr/local/cuda-11.1/lib64:\n",
      "2024-03-24 00:08:22.551383: W tensorflow/compiler/xla/stream_executor/platform/default/dso_loader.cc:64] Could not load dynamic library 'libnvinfer_plugin.so.7'; dlerror: libnvrtc.so.10.2: cannot open shared object file: No such file or directory; LD_LIBRARY_PATH: /usr/local/cuda-11.1/lib64:\n",
      "2024-03-24 00:08:22.551390: W tensorflow/compiler/tf2tensorrt/utils/py_utils.cc:38] TF-TRT Warning: Cannot dlopen some TensorRT libraries. If you would like to use Nvidia GPU with TensorRT, please make sure the missing libraries mentioned above are installed properly.\n"
     ]
    }
   ],
   "source": [
    "import matplotlib.pyplot as plt\n",
    "import numpy as np\n",
    "import pandas as pd\n",
    "import tensorflow as tf"
   ]
  },
  {
   "cell_type": "code",
   "execution_count": 7,
   "metadata": {},
   "outputs": [],
   "source": [
    "from koopmanlib.functions import *"
   ]
  },
  {
   "cell_type": "code",
   "execution_count": 8,
   "metadata": {},
   "outputs": [],
   "source": [
    "from koopmanlib.target import KortewegDeVriesTarget"
   ]
  },
  {
   "cell_type": "code",
   "execution_count": 9,
   "metadata": {},
   "outputs": [],
   "source": [
    "# Set the size of the domain, and create the discretized grid.\n",
    "L = 2 * np.pi\n",
    "Nx = 128\n",
    "dx = L / (Nx - 1.0)\n",
    "x = np.linspace(-np.pi, np.pi, Nx)\n",
    "T = 0.01"
   ]
  },
  {
   "cell_type": "code",
   "execution_count": 10,
   "metadata": {},
   "outputs": [],
   "source": [
    "def v_func(x, c):\n",
    "    return np.exp(-25 * (x - c) ** 2)\n",
    "\n",
    "\n",
    "c1, c2, c3 = -np.pi / 2, 0, np.pi / 2\n",
    "v1 = v_func(x, c1).reshape(1, -1)\n",
    "v2 = v_func(x, c2).reshape(1, -1)\n",
    "v3 = v_func(x, c3).reshape(1, -1)\n",
    "\n",
    "v_list = np.concatenate([v1, v2, v3], axis=0)"
   ]
  },
  {
   "cell_type": "code",
   "execution_count": 11,
   "metadata": {},
   "outputs": [],
   "source": [
    "umax = 1\n",
    "umin = -umax\n",
    "\n",
    "target_dim = Nx\n",
    "param_dim = 3"
   ]
  },
  {
   "cell_type": "code",
   "execution_count": 12,
   "metadata": {},
   "outputs": [],
   "source": [
    "kdv = KortewegDeVriesTarget(\n",
    "    x=x, t_step=T, dim=Nx, param_dim=param_dim, forcing_type=forcing_type, v_list=v_list, L=L\n",
    ")"
   ]
  },
  {
   "cell_type": "code",
   "execution_count": 13,
   "metadata": {},
   "outputs": [],
   "source": [
    "dict_data = np.load(\n",
    "    os.path.join(data_path, \"data_kdv_\" + forcing_type + \".npy\"), allow_pickle=True\n",
    ")\n",
    "\n",
    "data_x = dict_data[()][\"data_x\"]\n",
    "data_y = dict_data[()][\"data_y\"]\n",
    "data_u = dict_data[()][\"data_u\"]"
   ]
  },
  {
   "cell_type": "markdown",
   "metadata": {},
   "source": [
    "# Build model"
   ]
  },
  {
   "cell_type": "markdown",
   "metadata": {},
   "source": [
    "## PK-NN"
   ]
  },
  {
   "cell_type": "code",
   "execution_count": 14,
   "metadata": {},
   "outputs": [
    {
     "name": "stderr",
     "output_type": "stream",
     "text": [
      "2024-03-24 00:08:26.230969: E tensorflow/compiler/xla/stream_executor/cuda/cuda_driver.cc:267] failed call to cuInit: CUDA_ERROR_NO_DEVICE: no CUDA-capable device is detected\n",
      "2024-03-24 00:08:26.231013: I tensorflow/compiler/xla/stream_executor/cuda/cuda_diagnostics.cc:169] retrieving CUDA diagnostic information for host: neon\n",
      "2024-03-24 00:08:26.231020: I tensorflow/compiler/xla/stream_executor/cuda/cuda_diagnostics.cc:176] hostname: neon\n",
      "2024-03-24 00:08:26.231193: I tensorflow/compiler/xla/stream_executor/cuda/cuda_diagnostics.cc:200] libcuda reported version is: 470.239.6\n",
      "2024-03-24 00:08:26.231223: I tensorflow/compiler/xla/stream_executor/cuda/cuda_diagnostics.cc:204] kernel reported version is: 470.239.6\n",
      "2024-03-24 00:08:26.231229: I tensorflow/compiler/xla/stream_executor/cuda/cuda_diagnostics.cc:310] kernel version seems to match DSO: 470.239.6\n",
      "2024-03-24 00:08:26.231883: I tensorflow/core/platform/cpu_feature_guard.cc:193] This TensorFlow binary is optimized with oneAPI Deep Neural Network Library (oneDNN) to use the following CPU instructions in performance-critical operations:  AVX2 AVX512F AVX512_VNNI FMA\n",
      "To enable them in other operations, rebuild TensorFlow with the appropriate compiler flags.\n"
     ]
    }
   ],
   "source": [
    "from tensorflow.keras.optimizers import Adam\n",
    "\n",
    "from koopmanlib.dictionary import PsiNN_obs\n",
    "from koopmanlib.param_solver import KoopmanParametricDLSolver\n",
    "\n",
    "n_psi = 1 + 1 + 1 + n_psi_train  # constant + momentum + mean + NN\n",
    "\n",
    "dic_pk = PsiNN_obs(layer_sizes=dict_layer_size, n_psi_train=n_psi_train, dx=dx)\n",
    "\n",
    "from koopmanlib.K_structure import Model_K_u_Layer_One\n",
    "\n",
    "model_K_u = Model_K_u_Layer_One(layer_sizes=K_layer_size, n_psi=n_psi, activation=\"relu\")\n",
    "\n",
    "solver_pk = KoopmanParametricDLSolver(\n",
    "    target_dim=target_dim, param_dim=param_dim, n_psi=n_psi, dic=dic_pk, model_K_u=model_K_u\n",
    ")\n",
    "\n",
    "model_pk, model_K_u_pred_pk = solver_pk.generate_model()\n",
    "\n",
    "model_pk.load_weights(os.path.join(weights_path, \"pk_kdv_weights_\" + forcing_type + \".h5\"))"
   ]
  },
  {
   "cell_type": "code",
   "execution_count": 15,
   "metadata": {},
   "outputs": [],
   "source": [
    "def compute_pk_obs(y0, param_list, B_obs):\n",
    "    param = tf.reshape(param_list, shape=(param_list.shape[0], 1, param_dim))\n",
    "    y0 = y0.reshape(1, -1)\n",
    "\n",
    "    psi_y = dic_pk(y0)\n",
    "    obs_list = [psi_y @ B_obs]\n",
    "\n",
    "    tau = param_list.shape[0]\n",
    "\n",
    "    for i in range(tau):\n",
    "        psi_y = model_K_u_pred_pk([param[i], psi_y])\n",
    "        obs_next = psi_y @ B_obs\n",
    "        obs_list.append(obs_next)\n",
    "\n",
    "    return np.squeeze(np.asarray(obs_list))"
   ]
  },
  {
   "cell_type": "markdown",
   "metadata": {},
   "source": [
    "## Linear"
   ]
  },
  {
   "cell_type": "code",
   "execution_count": 16,
   "metadata": {},
   "outputs": [],
   "source": [
    "from koopmanlib.param_solver import KoopmanLinearDLSolver\n",
    "\n",
    "dic_linear = PsiNN_obs(layer_sizes=dict_layer_size, n_psi_train=n_psi_train, dx=dx)\n",
    "\n",
    "solver_linear = KoopmanLinearDLSolver(\n",
    "    dic=dic_linear, target_dim=target_dim, param_dim=param_dim, n_psi=n_psi\n",
    ")\n",
    "\n",
    "model_linear, model_K_u_pred_linear = solver_linear.build_model()\n",
    "\n",
    "solver_linear.model.load_weights(\n",
    "    os.path.join(weights_path, \"linear_kdv_weights_\" + forcing_type + \".h5\")\n",
    ")"
   ]
  },
  {
   "cell_type": "code",
   "execution_count": 17,
   "metadata": {},
   "outputs": [],
   "source": [
    "def compute_linear_obs(y0, param_list, B_obs):\n",
    "    param_list = tf.reshape(param_list, shape=(param_list.shape[0], 1, param_dim))\n",
    "    y0 = y0.reshape(1, -1)\n",
    "    psi_y = solver_linear.dic.call(y0)\n",
    "    obs_list = [psi_y @ B_obs]\n",
    "\n",
    "    for param in param_list:\n",
    "        psi_y = solver_linear.model_K_u_pred_linear.get_layer(\"Layer_A\")(psi_y) + solver_linear.model_K_u_pred_linear.get_layer(\n",
    "            \"Layer_B\"\n",
    "        )(param)\n",
    "        obs_next = psi_y @ B_obs\n",
    "        obs_list.append(obs_next)\n",
    "\n",
    "    return np.squeeze(np.asarray(obs_list))"
   ]
  },
  {
   "cell_type": "markdown",
   "metadata": {},
   "source": [
    "## Bilinear"
   ]
  },
  {
   "cell_type": "code",
   "execution_count": 18,
   "metadata": {},
   "outputs": [],
   "source": [
    "from koopmanlib.param_solver import KoopmanBilinearDLSolver\n",
    "\n",
    "dic_bilinear = PsiNN_obs(layer_sizes=dict_layer_size, n_psi_train=n_psi_train, dx=dx)\n",
    "\n",
    "solver_bilinear = KoopmanBilinearDLSolver(\n",
    "    dic=dic_bilinear, target_dim=target_dim, param_dim=param_dim, n_psi=n_psi\n",
    ")\n",
    "\n",
    "model_bilinear, model_K_u_pred_bilinear = solver_bilinear.build_model()"
   ]
  },
  {
   "cell_type": "code",
   "execution_count": 19,
   "metadata": {},
   "outputs": [],
   "source": [
    "solver_bilinear.model.load_weights(\n",
    "    os.path.join(weights_path, \"bilinear_kdv_weights_\" + forcing_type + \".h5\")\n",
    ")"
   ]
  },
  {
   "cell_type": "code",
   "execution_count": 20,
   "metadata": {},
   "outputs": [],
   "source": [
    "def compute_bilinear_obs(y0, param_list, B_obs):\n",
    "    param_list = tf.reshape(param_list, shape=(param_list.shape[0], 1, param_dim))\n",
    "    y0 = y0.reshape(1, -1)\n",
    "    psi_y = solver_bilinear.dic.call(y0)\n",
    "    obs_list = [psi_y @ B_obs]\n",
    "\n",
    "    for param in param_list:\n",
    "        u_psiy = tf.einsum(\"ij,ik->kij\", psi_y, param)\n",
    "        u_psiy_list = []\n",
    "        for curr in u_psiy:\n",
    "            u_psiy_list.append(curr)\n",
    "        u_psiy_list = tf.concat(u_psiy_list, axis=-1)\n",
    "\n",
    "        psi_y = solver_bilinear.model_K_u_pred_bilinear.get_layer(\"Layer_A\")(\n",
    "            psi_y\n",
    "        ) + solver_bilinear.model_K_u_pred_bilinear.get_layer(\"Layer_B\")(u_psiy_list)\n",
    "        obs_next = psi_y @ B_obs\n",
    "        obs_list.append(obs_next)\n",
    "\n",
    "    return np.squeeze(np.asarray(obs_list))"
   ]
  },
  {
   "cell_type": "markdown",
   "metadata": {},
   "source": [
    "# Try to set Bilinear weights"
   ]
  },
  {
   "cell_type": "code",
   "execution_count": 21,
   "metadata": {},
   "outputs": [
    {
     "data": {
      "text/plain": [
       "<tf.Variable 'UnreadVariable' shape=(30,) dtype=float64, numpy=\n",
       "array([-5.27006706e-07, -1.22008700e-04, -3.81258551e-02, -1.35997842e-02,\n",
       "       -2.06411977e-03,  1.00000016e+00,  5.16771931e-05, -3.93633075e-03,\n",
       "       -2.86770763e-03,  4.55591820e-04, -3.68063025e-10,  1.00000024e+00,\n",
       "        1.77602798e-05,  7.21029625e-06,  8.80468211e-07, -4.46495943e-07,\n",
       "       -9.44654875e-05,  9.71375288e-01, -1.09531098e-02, -2.24829295e-03,\n",
       "        1.48455189e-06,  3.89811237e-04,  6.22413227e-02,  1.01931064e+00,\n",
       "        6.02347557e-03, -1.46534309e-06, -3.22972752e-04,  3.61692355e-02,\n",
       "        2.03980921e-02,  9.92802706e-01])>"
      ]
     },
     "execution_count": 21,
     "metadata": {},
     "output_type": "execute_result"
    }
   ],
   "source": [
    "\n",
    "def hard_tanh(x):\n",
    "    return tf.clip_by_value(x, clip_value_min=-1., clip_value_max=1.)\n",
    "dic_pk_faker = PsiNN_obs(layer_sizes=dict_layer_size, n_psi_train=n_psi_train, dx=dx)\n",
    "dic_pk_faker(data_x)\n",
    "\n",
    "# Set weigths in dictionary the same as linear Koopman model\n",
    "dic_pk_faker.set_weights(dic_bilinear.get_weights())\n",
    "# Set updated dictionary into PKNN, then build model_pk_faker\n",
    "model_K_u_faker = Model_K_u_Layer_One(layer_sizes=K_layer_size, n_psi=n_psi, activation=hard_tanh)\n",
    "\n",
    "solver_pk_faker = KoopmanParametricDLSolver(\n",
    "    target_dim=target_dim, param_dim=param_dim, n_psi=n_psi, dic=dic_pk_faker, model_K_u=model_K_u_faker\n",
    ")\n",
    "\n",
    "model_pk_faker, model_K_u_pred_pk_faker = solver_pk_faker.generate_model()\n",
    "# Extract weights from bilinear Koopman model\n",
    "K_bilinear_weights = model_bilinear.get_layer('K_u_bilinear_pred').weights\n",
    "K_bilinear_weights[0].shape, K_bilinear_weights[1].shape\n",
    "len(model_pk_faker.get_layer('K_u_pred').weights)\n",
    "hidden_dense_weights_0 = model_pk_faker.get_layer('K_u_pred').weights[0]\n",
    "hidden_dense_bias_0 = model_pk_faker.get_layer('K_u_pred').weights[1]\n",
    "\n",
    "hidden_dense_weights_1 = model_pk_faker.get_layer('K_u_pred').weights[2]\n",
    "hidden_dense_bias_1 = model_pk_faker.get_layer('K_u_pred').weights[3]\n",
    "\n",
    "hidden_dense_weights_0.shape[0]\n",
    "def generate_hidden_layer_indentity_matrix(m,n):\n",
    "    # Step 1: Create an identity matrix of size m x m\n",
    "    identity_matrix = tf.eye(m, dtype='float64')\n",
    "    # Step 2: Generate a matrix of size m x (n-m) filled with zeros (or random values)\n",
    "    additional_matrix = tf.zeros((m, n - m), dtype='float64')\n",
    "    # Step 3: Concatenate the two matrices along the second dimension\n",
    "    final_matrix = tf.concat([identity_matrix, additional_matrix], axis=1)\n",
    "\n",
    "    return tf.Variable(final_matrix, dtype='float64')\n",
    "set_hidden_layer_weights_0 = generate_hidden_layer_indentity_matrix(hidden_dense_weights_0.shape[0], hidden_dense_weights_0.shape[1])\n",
    "set_hidden_layer_weights_1 = generate_hidden_layer_indentity_matrix(hidden_dense_weights_1.shape[0], hidden_dense_weights_1.shape[1])\n",
    "set_hidden_layer_bias_0 = tf.zeros_like(hidden_dense_bias_0, dtype='float64')\n",
    "set_hidden_layer_bias_1 = tf.zeros_like(hidden_dense_bias_1, dtype='float64')\n",
    "\n",
    "model_pk_faker.get_layer('K_u_pred').weights[0].assign(set_hidden_layer_weights_0)\n",
    "model_pk_faker.get_layer('K_u_pred').weights[1].assign(set_hidden_layer_bias_0)\n",
    "model_pk_faker.get_layer('K_u_pred').weights[2].assign(set_hidden_layer_weights_1)\n",
    "model_pk_faker.get_layer('K_u_pred').weights[3].assign(set_hidden_layer_bias_1)\n",
    "\n",
    "trainable_B_from_bilinear = K_bilinear_weights[1][:,1:] \n",
    "trainable_B_from_bilinear.shape\n",
    "B1 = trainable_B_from_bilinear[:6,:]\n",
    "B2 = trainable_B_from_bilinear[6:12,:]\n",
    "B3 = trainable_B_from_bilinear[12:,:]\n",
    "\n",
    "reshape_trainable_B_from_bilinear = tf.reshape(trainable_B_from_bilinear, shape=(3,30))\n",
    "output_layer_B_in_pknn = tf.concat([reshape_trainable_B_from_bilinear,\n",
    "                       tf.zeros(shape=(set_hidden_layer_bias_1.shape[0]-3, 30), dtype='float64')],\n",
    "                       axis=0)\n",
    "model_pk_faker.get_layer('K_u_pred').weights[4].assign(output_layer_B_in_pknn)\n",
    "set_output_layer_bias_weights = tf.reshape(K_bilinear_weights[0][:,1:], shape=model_pk_faker.get_layer('K_u_pred').weights[5].shape)\n",
    "\n",
    "model_pk_faker.get_layer('K_u_pred').weights[5].assign(set_output_layer_bias_weights)"
   ]
  },
  {
   "cell_type": "code",
   "execution_count": 22,
   "metadata": {},
   "outputs": [
    {
     "data": {
      "text/plain": [
       "<tf.Tensor: shape=(200000, 6), dtype=float64, numpy=\n",
       "array([[ 1.38999923e-13, -4.44089210e-16, -5.55111512e-16,\n",
       "         0.00000000e+00,  0.00000000e+00,  0.00000000e+00],\n",
       "       [ 1.22346577e-13, -2.22044605e-16, -1.11022302e-16,\n",
       "        -1.11022302e-16, -2.77555756e-17,  0.00000000e+00],\n",
       "       [ 1.16018306e-13,  4.44089210e-16, -2.22044605e-16,\n",
       "         0.00000000e+00,  2.77555756e-17,  2.77555756e-17],\n",
       "       ...,\n",
       "       [ 1.19015908e-13,  0.00000000e+00, -2.77555756e-17,\n",
       "         5.55111512e-17, -5.55111512e-17,  0.00000000e+00],\n",
       "       [ 1.10467191e-13, -1.38777878e-17,  1.11022302e-16,\n",
       "        -5.55111512e-17, -5.55111512e-17,  0.00000000e+00],\n",
       "       [ 1.15130128e-13,  1.38777878e-17,  1.66533454e-16,\n",
       "         0.00000000e+00, -5.55111512e-17,  2.77555756e-17]])>"
      ]
     },
     "execution_count": 22,
     "metadata": {},
     "output_type": "execute_result"
    }
   ],
   "source": [
    "model_pk_faker([data_x, data_y, data_u]) - model_bilinear([data_x, data_u, data_y])"
   ]
  },
  {
   "cell_type": "code",
   "execution_count": 24,
   "metadata": {},
   "outputs": [
    {
     "data": {
      "text/plain": [
       "<tf.Tensor: shape=(200000, 6), dtype=float64, numpy=\n",
       "array([[ 1.38999923e-13, -4.44089210e-16, -5.55111512e-16,\n",
       "         0.00000000e+00,  0.00000000e+00,  0.00000000e+00],\n",
       "       [ 1.22346577e-13, -2.22044605e-16, -1.11022302e-16,\n",
       "        -1.11022302e-16, -2.77555756e-17,  0.00000000e+00],\n",
       "       [ 1.16018306e-13,  4.44089210e-16, -2.22044605e-16,\n",
       "         0.00000000e+00,  2.77555756e-17,  2.77555756e-17],\n",
       "       ...,\n",
       "       [ 1.19015908e-13,  0.00000000e+00, -2.77555756e-17,\n",
       "         5.55111512e-17, -5.55111512e-17,  0.00000000e+00],\n",
       "       [ 1.10467191e-13, -1.38777878e-17,  1.11022302e-16,\n",
       "        -5.55111512e-17, -5.55111512e-17,  0.00000000e+00],\n",
       "       [ 1.15130128e-13,  1.38777878e-17,  1.66533454e-16,\n",
       "         0.00000000e+00, -5.55111512e-17,  2.77555756e-17]])>"
      ]
     },
     "execution_count": 24,
     "metadata": {},
     "output_type": "execute_result"
    }
   ],
   "source": [
    "model_K_u_pred_pk_faker([data_u, dic_pk_faker(data_x)]) - model_K_u_pred_bilinear([data_u, dic_bilinear(data_x)])"
   ]
  },
  {
   "cell_type": "markdown",
   "metadata": {},
   "source": [
    "## Add Perturbation\n"
   ]
  },
  {
   "cell_type": "code",
   "execution_count": 25,
   "metadata": {},
   "outputs": [],
   "source": [
    "# percentage = 0.0001  # 1%\n",
    "\n",
    "# for layer in model_pk_faker.layers:\n",
    "#     if layer.weights:\n",
    "#         for weight in layer.weights:\n",
    "#             current_weight_value = weight.numpy()\n",
    "#             perturbation = tf.random.normal(current_weight_value.shape, stddev=percentage, dtype=weight.dtype)\n",
    "#             print('perturb: ', perturbation)\n",
    "#             weight.assign_add(perturbation)"
   ]
  },
  {
   "cell_type": "markdown",
   "metadata": {},
   "source": [
    "# Trian from perturbed bilinear weights"
   ]
  },
  {
   "cell_type": "code",
   "execution_count": 26,
   "metadata": {},
   "outputs": [],
   "source": [
    "# model_pk_faker.compile(optimizer=Adam(1e-4), loss=\"mse\")\n",
    "    \n",
    "# lr_callback = tf.keras.callbacks.ReduceLROnPlateau(\n",
    "#     monitor=\"loss\",\n",
    "#     factor=0.1,\n",
    "#     patience=100,\n",
    "#     verbose=0,\n",
    "#     mode=\"auto\",\n",
    "#     min_delta=1e-4,\n",
    "#     cooldown=0,\n",
    "#     min_lr=1e-10,\n",
    "# )\n",
    "\n",
    "# # Define the early stopping criteria\n",
    "# es_callback = tf.keras.callbacks.EarlyStopping(\n",
    "#     monitor=\"val_loss\", min_delta=1e-12, patience=50, verbose=1, mode=\"auto\"\n",
    "# )\n",
    "\n",
    "# checkpoint_path = os.path.join(weights_path, \"pknn_train_from_bilinear_hardtanh_model_kdv.h5\")\n",
    "# checkpoint_callback = tf.keras.callbacks.ModelCheckpoint(\n",
    "#     filepath=checkpoint_path,\n",
    "#     monitor=\"val_loss\",\n",
    "#     save_best_only=True,\n",
    "#     save_weights_only=True,\n",
    "#     mode=\"min\",\n",
    "#     save_freq=\"epoch\",\n",
    "# )\n",
    "\n",
    "# from tqdm.keras import TqdmCallback\n",
    "\n",
    "# # Define the TqdmCallback for progress bar\n",
    "# tqdm_callback = TqdmCallback(verbose=1)\n",
    "\n",
    "# # Add early_stopping to the list of callbacks\n",
    "# callbacks = [lr_callback, checkpoint_callback, tqdm_callback]\n"
   ]
  },
  {
   "cell_type": "code",
   "execution_count": 27,
   "metadata": {},
   "outputs": [],
   "source": [
    "# zeros_data_y_train = tf.zeros_like(dic_pk(data_y))\n",
    "\n",
    "# history_pk_faker = model_pk_faker.fit(\n",
    "# x=[data_x, data_y, data_u],\n",
    "# y=zeros_data_y_train,\n",
    "# validation_split=0.2,\n",
    "# epochs=500,\n",
    "# batch_size=200,\n",
    "# callbacks=callbacks,\n",
    "# verbose=0,\n",
    "# )"
   ]
  },
  {
   "cell_type": "code",
   "execution_count": null,
   "metadata": {},
   "outputs": [],
   "source": []
  },
  {
   "cell_type": "code",
   "execution_count": null,
   "metadata": {},
   "outputs": [],
   "source": []
  },
  {
   "cell_type": "markdown",
   "metadata": {},
   "source": [
    "# Testing problems"
   ]
  },
  {
   "cell_type": "code",
   "execution_count": 28,
   "metadata": {},
   "outputs": [],
   "source": [
    "# Plot setting\n",
    "linear_curve = \"darkorange\"\n",
    "linear_shadow = \"navajowhite\"\n",
    "bilinear_curve = \"forestgreen\"\n",
    "bilinear_shadow = \"darkseagreen\"\n",
    "pk_curve = \"darkblue\"\n",
    "pk_shadow = \"lightsteelblue\"\n",
    "ref_color = \"black\"\n",
    "\n",
    "\n",
    "exact_color = \"darkred\"\n",
    "linear_no_penalty_color = \"gold\"\n",
    "bilinear_no_penalty_color = \"turquoise\"\n",
    "pk_no_penalty_color = \"palevioletred\"\n",
    "\n",
    "label_font = 24\n",
    "ticks_font = 22\n",
    "legend_font = 24\n",
    "linewidth = 2.5\n",
    "title_font = 16\n",
    "\n",
    "linear_linestyle = \"dashdot\"\n",
    "bilinear_linestyle = \"dotted\"\n",
    "pk_linestyle = \"solid\""
   ]
  },
  {
   "cell_type": "markdown",
   "metadata": {},
   "source": [
    "## Prediction"
   ]
  },
  {
   "cell_type": "code",
   "execution_count": 29,
   "metadata": {},
   "outputs": [],
   "source": [
    "def compute_kdv_soln(y0, param_list):\n",
    "    y0_loop = y0\n",
    "    kdv_soln_list = [y0_loop]\n",
    "    for param in param_list:\n",
    "        # Solve the equation using the scipy integrator\n",
    "        soln = kdv.kdv_solution(y0_loop, T, param)\n",
    "        y0_loop = soln.y.T[-1]\n",
    "        kdv_soln_list.append(y0_loop)\n",
    "    return kdv_soln_list"
   ]
  },
  {
   "cell_type": "code",
   "execution_count": 30,
   "metadata": {},
   "outputs": [],
   "source": [
    "def compute_pk_obs(y0, param_list, B_obs):\n",
    "    param = tf.reshape(param_list, shape=(param_list.shape[0], 1, param_dim))\n",
    "    y0 = y0.reshape(1, -1)\n",
    "\n",
    "    psi_y = dic_pk_faker(y0)\n",
    "    obs_list = [psi_y @ B_obs]\n",
    "\n",
    "    tau = param_list.shape[0]\n",
    "\n",
    "    for i in range(tau):\n",
    "        psi_y = model_K_u_pred_pk_faker([param[i], psi_y])\n",
    "        obs_next = psi_y @ B_obs\n",
    "        obs_list.append(obs_next)\n",
    "\n",
    "    return np.squeeze(np.asarray(obs_list))"
   ]
  },
  {
   "cell_type": "code",
   "execution_count": 31,
   "metadata": {},
   "outputs": [],
   "source": [
    "pred_traj_number = 10\n",
    "np.random.seed(625)\n",
    "seed_list = np.random.randint(low=1, high=200, size=(pred_traj_number, 2))\n",
    "\n",
    "y0_pred_list = []\n",
    "param_pred_list = []\n",
    "\n",
    "Tsim_pred = 0.1\n",
    "traj_len_pred = int(Tsim_pred / T)\n",
    "\n",
    "for seed_IC, seed_u in seed_list:\n",
    "    # Forward prediction problem setting\n",
    "    y0_pred = kdv.generate_y0(seed_IC)\n",
    "\n",
    "    # Set the seed of param_list\n",
    "    np.random.seed(seed_u)\n",
    "\n",
    "    param_pred = (\n",
    "        np.random.uniform(low=0, high=1, size=(traj_len_pred, param_dim)) * (umax - umin) + umin\n",
    "    )\n",
    "\n",
    "    y0_pred_list.append(y0_pred)\n",
    "    param_pred_list.append(param_pred)"
   ]
  },
  {
   "cell_type": "code",
   "execution_count": 32,
   "metadata": {},
   "outputs": [
    {
     "ename": "KeyboardInterrupt",
     "evalue": "",
     "output_type": "error",
     "traceback": [
      "\u001b[0;31m---------------------------------------------------------------------------\u001b[0m",
      "\u001b[0;31mKeyboardInterrupt\u001b[0m                         Traceback (most recent call last)",
      "Input \u001b[0;32mIn [32]\u001b[0m, in \u001b[0;36m<cell line: 1>\u001b[0;34m()\u001b[0m\n\u001b[0;32m----> 1\u001b[0m error_mass_list_pk, error_momentum_list_pk \u001b[38;5;241m=\u001b[39m \u001b[43mkdv\u001b[49m\u001b[38;5;241;43m.\u001b[39;49m\u001b[43mcompute_obs_error\u001b[49m\u001b[43m(\u001b[49m\n\u001b[1;32m      2\u001b[0m \u001b[43m    \u001b[49m\u001b[43mdic\u001b[49m\u001b[38;5;241;43m=\u001b[39;49m\u001b[43mdic_pk\u001b[49m\u001b[43m,\u001b[49m\n\u001b[1;32m      3\u001b[0m \u001b[43m    \u001b[49m\u001b[43mcompute_kdv_soln_func\u001b[49m\u001b[38;5;241;43m=\u001b[39;49m\u001b[43mcompute_kdv_soln\u001b[49m\u001b[43m,\u001b[49m\n\u001b[1;32m      4\u001b[0m \u001b[43m    \u001b[49m\u001b[43mcompute_obs_func_model\u001b[49m\u001b[38;5;241;43m=\u001b[39;49m\u001b[43mcompute_pk_obs\u001b[49m\u001b[43m,\u001b[49m\n\u001b[1;32m      5\u001b[0m \u001b[43m    \u001b[49m\u001b[43merror_func\u001b[49m\u001b[38;5;241;43m=\u001b[39;49m\u001b[43mcompute_diff_ratio_one_traj\u001b[49m\u001b[43m,\u001b[49m\n\u001b[1;32m      6\u001b[0m \u001b[43m    \u001b[49m\u001b[43my0_pred_list\u001b[49m\u001b[38;5;241;43m=\u001b[39;49m\u001b[43my0_pred_list\u001b[49m\u001b[43m,\u001b[49m\n\u001b[1;32m      7\u001b[0m \u001b[43m    \u001b[49m\u001b[43mparam_pred_list\u001b[49m\u001b[38;5;241;43m=\u001b[39;49m\u001b[43mparam_pred_list\u001b[49m\u001b[43m,\u001b[49m\n\u001b[1;32m      8\u001b[0m \u001b[43m    \u001b[49m\u001b[43mdx\u001b[49m\u001b[38;5;241;43m=\u001b[39;49m\u001b[43mdx\u001b[49m\u001b[43m,\u001b[49m\n\u001b[1;32m      9\u001b[0m \u001b[43m)\u001b[49m\n\u001b[1;32m     11\u001b[0m mass_mean_pk, mass_std_pk, mass_mean_plus_pk, mass_mean_minus_pk \u001b[38;5;241m=\u001b[39m compute_stat_info(\n\u001b[1;32m     12\u001b[0m     error_mass_list_pk\n\u001b[1;32m     13\u001b[0m )\n\u001b[1;32m     14\u001b[0m momentum_mean_pk, momentum_std_pk, momentum_mean_plus_pk, momentum_mean_minus_pk \u001b[38;5;241m=\u001b[39m (\n\u001b[1;32m     15\u001b[0m     compute_stat_info(error_momentum_list_pk)\n\u001b[1;32m     16\u001b[0m )\n",
      "File \u001b[0;32m~/Learning-Parametric-Koopman-Decompositions/src/koopmanlib/target.py:564\u001b[0m, in \u001b[0;36mKortewegDeVriesTarget.compute_obs_error\u001b[0;34m(self, dic, compute_kdv_soln_func, compute_obs_func_model, error_func, y0_pred_list, param_pred_list, dx)\u001b[0m\n\u001b[1;32m    560\u001b[0m error_momentum_list \u001b[38;5;241m=\u001b[39m []\n\u001b[1;32m    562\u001b[0m \u001b[38;5;28;01mfor\u001b[39;00m y0_pred, param_pred \u001b[38;5;129;01min\u001b[39;00m \u001b[38;5;28mzip\u001b[39m(y0_pred_list, param_pred_list):\n\u001b[1;32m    563\u001b[0m     \u001b[38;5;66;03m# Compute exact solution\u001b[39;00m\n\u001b[0;32m--> 564\u001b[0m     kdv_soln_pred \u001b[38;5;241m=\u001b[39m \u001b[43mcompute_kdv_soln_func\u001b[49m\u001b[43m(\u001b[49m\u001b[43my0_pred\u001b[49m\u001b[43m,\u001b[49m\u001b[43m \u001b[49m\u001b[43mparam_list\u001b[49m\u001b[38;5;241;43m=\u001b[39;49m\u001b[43mparam_pred\u001b[49m\u001b[43m)\u001b[49m\n\u001b[1;32m    565\u001b[0m     kdv_soln_pred \u001b[38;5;241m=\u001b[39m np\u001b[38;5;241m.\u001b[39masarray(kdv_soln_pred)\n\u001b[1;32m    567\u001b[0m     kdv_mass_pred \u001b[38;5;241m=\u001b[39m dx \u001b[38;5;241m*\u001b[39m tf\u001b[38;5;241m.\u001b[39mreshape(\n\u001b[1;32m    568\u001b[0m         tf\u001b[38;5;241m.\u001b[39mmath\u001b[38;5;241m.\u001b[39mreduce_sum(kdv_soln_pred, axis\u001b[38;5;241m=\u001b[39m\u001b[38;5;241m-\u001b[39m\u001b[38;5;241m1\u001b[39m), shape\u001b[38;5;241m=\u001b[39m(\u001b[38;5;241m-\u001b[39m\u001b[38;5;241m1\u001b[39m, \u001b[38;5;241m1\u001b[39m)\n\u001b[1;32m    569\u001b[0m     )\n",
      "Input \u001b[0;32mIn [29]\u001b[0m, in \u001b[0;36mcompute_kdv_soln\u001b[0;34m(y0, param_list)\u001b[0m\n\u001b[1;32m      3\u001b[0m kdv_soln_list \u001b[38;5;241m=\u001b[39m [y0_loop]\n\u001b[1;32m      4\u001b[0m \u001b[38;5;28;01mfor\u001b[39;00m param \u001b[38;5;129;01min\u001b[39;00m param_list:\n\u001b[1;32m      5\u001b[0m     \u001b[38;5;66;03m# Solve the equation using the scipy integrator\u001b[39;00m\n\u001b[0;32m----> 6\u001b[0m     soln \u001b[38;5;241m=\u001b[39m \u001b[43mkdv\u001b[49m\u001b[38;5;241;43m.\u001b[39;49m\u001b[43mkdv_solution\u001b[49m\u001b[43m(\u001b[49m\u001b[43my0_loop\u001b[49m\u001b[43m,\u001b[49m\u001b[43m \u001b[49m\u001b[43mT\u001b[49m\u001b[43m,\u001b[49m\u001b[43m \u001b[49m\u001b[43mparam\u001b[49m\u001b[43m)\u001b[49m\n\u001b[1;32m      7\u001b[0m     y0_loop \u001b[38;5;241m=\u001b[39m soln\u001b[38;5;241m.\u001b[39my\u001b[38;5;241m.\u001b[39mT[\u001b[38;5;241m-\u001b[39m\u001b[38;5;241m1\u001b[39m]\n\u001b[1;32m      8\u001b[0m     kdv_soln_list\u001b[38;5;241m.\u001b[39mappend(y0_loop)\n",
      "File \u001b[0;32m~/Learning-Parametric-Koopman-Decompositions/src/koopmanlib/target.py:544\u001b[0m, in \u001b[0;36mKortewegDeVriesTarget.kdv_solution\u001b[0;34m(self, y0, t, param)\u001b[0m\n\u001b[1;32m    536\u001b[0m \u001b[38;5;124;03m\"\"\"Use odeint to solve the KdV equation on a periodic domain.\u001b[39;00m\n\u001b[1;32m    537\u001b[0m \n\u001b[1;32m    538\u001b[0m \u001b[38;5;124;03m`y0` is initial condition, `t` is the array of time values at which\u001b[39;00m\n\u001b[1;32m    539\u001b[0m \u001b[38;5;124;03mthe solution is to be computed, and `L` is the length of the periodic\u001b[39;00m\n\u001b[1;32m    540\u001b[0m \u001b[38;5;124;03mdomain.\u001b[39;00m\n\u001b[1;32m    541\u001b[0m \u001b[38;5;124;03m\"\"\"\u001b[39;00m\n\u001b[1;32m    543\u001b[0m t_span \u001b[38;5;241m=\u001b[39m [\u001b[38;5;241m0\u001b[39m, t]\n\u001b[0;32m--> 544\u001b[0m soln \u001b[38;5;241m=\u001b[39m \u001b[43msolve_ivp\u001b[49m\u001b[43m(\u001b[49m\n\u001b[1;32m    545\u001b[0m \u001b[43m    \u001b[49m\u001b[38;5;28;43mself\u001b[39;49m\u001b[38;5;241;43m.\u001b[39;49m\u001b[43mkdv_ode\u001b[49m\u001b[43m,\u001b[49m\u001b[43m \u001b[49m\u001b[43mt_span\u001b[49m\u001b[43m,\u001b[49m\u001b[43m \u001b[49m\u001b[43my0\u001b[49m\u001b[43m,\u001b[49m\u001b[43m \u001b[49m\u001b[43mt_eval\u001b[49m\u001b[38;5;241;43m=\u001b[39;49m\u001b[43mnp\u001b[49m\u001b[38;5;241;43m.\u001b[39;49m\u001b[43masarray\u001b[49m\u001b[43m(\u001b[49m\u001b[43mt_span\u001b[49m\u001b[43m)\u001b[49m\u001b[43m,\u001b[49m\u001b[43m \u001b[49m\u001b[43margs\u001b[49m\u001b[38;5;241;43m=\u001b[39;49m\u001b[43m(\u001b[49m\u001b[43mparam\u001b[49m\u001b[43m,\u001b[49m\u001b[43m)\u001b[49m\u001b[43m,\u001b[49m\u001b[43m \u001b[49m\u001b[43mmethod\u001b[49m\u001b[38;5;241;43m=\u001b[39;49m\u001b[38;5;124;43m\"\u001b[39;49m\u001b[38;5;124;43mRK23\u001b[39;49m\u001b[38;5;124;43m\"\u001b[39;49m\n\u001b[1;32m    546\u001b[0m \u001b[43m\u001b[49m\u001b[43m)\u001b[49m\n\u001b[1;32m    547\u001b[0m \u001b[38;5;28;01mreturn\u001b[39;00m soln\n",
      "File \u001b[0;32m~/Learning-Parametric-Koopman-Decompositions/pknn/lib/python3.8/site-packages/scipy/integrate/_ivp/ivp.py:580\u001b[0m, in \u001b[0;36msolve_ivp\u001b[0;34m(fun, t_span, y0, method, t_eval, dense_output, events, vectorized, args, **options)\u001b[0m\n\u001b[1;32m    578\u001b[0m status \u001b[38;5;241m=\u001b[39m \u001b[38;5;28;01mNone\u001b[39;00m\n\u001b[1;32m    579\u001b[0m \u001b[38;5;28;01mwhile\u001b[39;00m status \u001b[38;5;129;01mis\u001b[39;00m \u001b[38;5;28;01mNone\u001b[39;00m:\n\u001b[0;32m--> 580\u001b[0m     message \u001b[38;5;241m=\u001b[39m \u001b[43msolver\u001b[49m\u001b[38;5;241;43m.\u001b[39;49m\u001b[43mstep\u001b[49m\u001b[43m(\u001b[49m\u001b[43m)\u001b[49m\n\u001b[1;32m    582\u001b[0m     \u001b[38;5;28;01mif\u001b[39;00m solver\u001b[38;5;241m.\u001b[39mstatus \u001b[38;5;241m==\u001b[39m \u001b[38;5;124m'\u001b[39m\u001b[38;5;124mfinished\u001b[39m\u001b[38;5;124m'\u001b[39m:\n\u001b[1;32m    583\u001b[0m         status \u001b[38;5;241m=\u001b[39m \u001b[38;5;241m0\u001b[39m\n",
      "File \u001b[0;32m~/Learning-Parametric-Koopman-Decompositions/pknn/lib/python3.8/site-packages/scipy/integrate/_ivp/base.py:181\u001b[0m, in \u001b[0;36mOdeSolver.step\u001b[0;34m(self)\u001b[0m\n\u001b[1;32m    179\u001b[0m \u001b[38;5;28;01melse\u001b[39;00m:\n\u001b[1;32m    180\u001b[0m     t \u001b[38;5;241m=\u001b[39m \u001b[38;5;28mself\u001b[39m\u001b[38;5;241m.\u001b[39mt\n\u001b[0;32m--> 181\u001b[0m     success, message \u001b[38;5;241m=\u001b[39m \u001b[38;5;28;43mself\u001b[39;49m\u001b[38;5;241;43m.\u001b[39;49m\u001b[43m_step_impl\u001b[49m\u001b[43m(\u001b[49m\u001b[43m)\u001b[49m\n\u001b[1;32m    183\u001b[0m     \u001b[38;5;28;01mif\u001b[39;00m \u001b[38;5;129;01mnot\u001b[39;00m success:\n\u001b[1;32m    184\u001b[0m         \u001b[38;5;28mself\u001b[39m\u001b[38;5;241m.\u001b[39mstatus \u001b[38;5;241m=\u001b[39m \u001b[38;5;124m'\u001b[39m\u001b[38;5;124mfailed\u001b[39m\u001b[38;5;124m'\u001b[39m\n",
      "File \u001b[0;32m~/Learning-Parametric-Koopman-Decompositions/pknn/lib/python3.8/site-packages/scipy/integrate/_ivp/rk.py:144\u001b[0m, in \u001b[0;36mRungeKutta._step_impl\u001b[0;34m(self)\u001b[0m\n\u001b[1;32m    141\u001b[0m h \u001b[38;5;241m=\u001b[39m t_new \u001b[38;5;241m-\u001b[39m t\n\u001b[1;32m    142\u001b[0m h_abs \u001b[38;5;241m=\u001b[39m np\u001b[38;5;241m.\u001b[39mabs(h)\n\u001b[0;32m--> 144\u001b[0m y_new, f_new \u001b[38;5;241m=\u001b[39m \u001b[43mrk_step\u001b[49m\u001b[43m(\u001b[49m\u001b[38;5;28;43mself\u001b[39;49m\u001b[38;5;241;43m.\u001b[39;49m\u001b[43mfun\u001b[49m\u001b[43m,\u001b[49m\u001b[43m \u001b[49m\u001b[43mt\u001b[49m\u001b[43m,\u001b[49m\u001b[43m \u001b[49m\u001b[43my\u001b[49m\u001b[43m,\u001b[49m\u001b[43m \u001b[49m\u001b[38;5;28;43mself\u001b[39;49m\u001b[38;5;241;43m.\u001b[39;49m\u001b[43mf\u001b[49m\u001b[43m,\u001b[49m\u001b[43m \u001b[49m\u001b[43mh\u001b[49m\u001b[43m,\u001b[49m\u001b[43m \u001b[49m\u001b[38;5;28;43mself\u001b[39;49m\u001b[38;5;241;43m.\u001b[39;49m\u001b[43mA\u001b[49m\u001b[43m,\u001b[49m\n\u001b[1;32m    145\u001b[0m \u001b[43m                       \u001b[49m\u001b[38;5;28;43mself\u001b[39;49m\u001b[38;5;241;43m.\u001b[39;49m\u001b[43mB\u001b[49m\u001b[43m,\u001b[49m\u001b[43m \u001b[49m\u001b[38;5;28;43mself\u001b[39;49m\u001b[38;5;241;43m.\u001b[39;49m\u001b[43mC\u001b[49m\u001b[43m,\u001b[49m\u001b[43m \u001b[49m\u001b[38;5;28;43mself\u001b[39;49m\u001b[38;5;241;43m.\u001b[39;49m\u001b[43mK\u001b[49m\u001b[43m)\u001b[49m\n\u001b[1;32m    146\u001b[0m scale \u001b[38;5;241m=\u001b[39m atol \u001b[38;5;241m+\u001b[39m np\u001b[38;5;241m.\u001b[39mmaximum(np\u001b[38;5;241m.\u001b[39mabs(y), np\u001b[38;5;241m.\u001b[39mabs(y_new)) \u001b[38;5;241m*\u001b[39m rtol\n\u001b[1;32m    147\u001b[0m error_norm \u001b[38;5;241m=\u001b[39m \u001b[38;5;28mself\u001b[39m\u001b[38;5;241m.\u001b[39m_estimate_error_norm(\u001b[38;5;28mself\u001b[39m\u001b[38;5;241m.\u001b[39mK, h, scale)\n",
      "File \u001b[0;32m~/Learning-Parametric-Koopman-Decompositions/pknn/lib/python3.8/site-packages/scipy/integrate/_ivp/rk.py:64\u001b[0m, in \u001b[0;36mrk_step\u001b[0;34m(fun, t, y, f, h, A, B, C, K)\u001b[0m\n\u001b[1;32m     62\u001b[0m \u001b[38;5;28;01mfor\u001b[39;00m s, (a, c) \u001b[38;5;129;01min\u001b[39;00m \u001b[38;5;28menumerate\u001b[39m(\u001b[38;5;28mzip\u001b[39m(A[\u001b[38;5;241m1\u001b[39m:], C[\u001b[38;5;241m1\u001b[39m:]), start\u001b[38;5;241m=\u001b[39m\u001b[38;5;241m1\u001b[39m):\n\u001b[1;32m     63\u001b[0m     dy \u001b[38;5;241m=\u001b[39m np\u001b[38;5;241m.\u001b[39mdot(K[:s]\u001b[38;5;241m.\u001b[39mT, a[:s]) \u001b[38;5;241m*\u001b[39m h\n\u001b[0;32m---> 64\u001b[0m     K[s] \u001b[38;5;241m=\u001b[39m \u001b[43mfun\u001b[49m\u001b[43m(\u001b[49m\u001b[43mt\u001b[49m\u001b[43m \u001b[49m\u001b[38;5;241;43m+\u001b[39;49m\u001b[43m \u001b[49m\u001b[43mc\u001b[49m\u001b[43m \u001b[49m\u001b[38;5;241;43m*\u001b[39;49m\u001b[43m \u001b[49m\u001b[43mh\u001b[49m\u001b[43m,\u001b[49m\u001b[43m \u001b[49m\u001b[43my\u001b[49m\u001b[43m \u001b[49m\u001b[38;5;241;43m+\u001b[39;49m\u001b[43m \u001b[49m\u001b[43mdy\u001b[49m\u001b[43m)\u001b[49m\n\u001b[1;32m     66\u001b[0m y_new \u001b[38;5;241m=\u001b[39m y \u001b[38;5;241m+\u001b[39m h \u001b[38;5;241m*\u001b[39m np\u001b[38;5;241m.\u001b[39mdot(K[:\u001b[38;5;241m-\u001b[39m\u001b[38;5;241m1\u001b[39m]\u001b[38;5;241m.\u001b[39mT, B)\n\u001b[1;32m     67\u001b[0m f_new \u001b[38;5;241m=\u001b[39m fun(t \u001b[38;5;241m+\u001b[39m h, y_new)\n",
      "File \u001b[0;32m~/Learning-Parametric-Koopman-Decompositions/pknn/lib/python3.8/site-packages/scipy/integrate/_ivp/base.py:138\u001b[0m, in \u001b[0;36mOdeSolver.__init__.<locals>.fun\u001b[0;34m(t, y)\u001b[0m\n\u001b[1;32m    136\u001b[0m \u001b[38;5;28;01mdef\u001b[39;00m \u001b[38;5;21mfun\u001b[39m(t, y):\n\u001b[1;32m    137\u001b[0m     \u001b[38;5;28mself\u001b[39m\u001b[38;5;241m.\u001b[39mnfev \u001b[38;5;241m+\u001b[39m\u001b[38;5;241m=\u001b[39m \u001b[38;5;241m1\u001b[39m\n\u001b[0;32m--> 138\u001b[0m     \u001b[38;5;28;01mreturn\u001b[39;00m \u001b[38;5;28;43mself\u001b[39;49m\u001b[38;5;241;43m.\u001b[39;49m\u001b[43mfun_single\u001b[49m\u001b[43m(\u001b[49m\u001b[43mt\u001b[49m\u001b[43m,\u001b[49m\u001b[43m \u001b[49m\u001b[43my\u001b[49m\u001b[43m)\u001b[49m\n",
      "File \u001b[0;32m~/Learning-Parametric-Koopman-Decompositions/pknn/lib/python3.8/site-packages/scipy/integrate/_ivp/base.py:20\u001b[0m, in \u001b[0;36mcheck_arguments.<locals>.fun_wrapped\u001b[0;34m(t, y)\u001b[0m\n\u001b[1;32m     19\u001b[0m \u001b[38;5;28;01mdef\u001b[39;00m \u001b[38;5;21mfun_wrapped\u001b[39m(t, y):\n\u001b[0;32m---> 20\u001b[0m     \u001b[38;5;28;01mreturn\u001b[39;00m np\u001b[38;5;241m.\u001b[39masarray(\u001b[43mfun\u001b[49m\u001b[43m(\u001b[49m\u001b[43mt\u001b[49m\u001b[43m,\u001b[49m\u001b[43m \u001b[49m\u001b[43my\u001b[49m\u001b[43m)\u001b[49m, dtype\u001b[38;5;241m=\u001b[39mdtype)\n",
      "File \u001b[0;32m~/Learning-Parametric-Koopman-Decompositions/pknn/lib/python3.8/site-packages/scipy/integrate/_ivp/ivp.py:518\u001b[0m, in \u001b[0;36msolve_ivp.<locals>.<lambda>\u001b[0;34m(t, x, fun)\u001b[0m\n\u001b[1;32m    512\u001b[0m t0, tf \u001b[38;5;241m=\u001b[39m \u001b[38;5;28mmap\u001b[39m(\u001b[38;5;28mfloat\u001b[39m, t_span)\n\u001b[1;32m    514\u001b[0m \u001b[38;5;28;01mif\u001b[39;00m args \u001b[38;5;129;01mis\u001b[39;00m \u001b[38;5;129;01mnot\u001b[39;00m \u001b[38;5;28;01mNone\u001b[39;00m:\n\u001b[1;32m    515\u001b[0m     \u001b[38;5;66;03m# Wrap the user's fun (and jac, if given) in lambdas to hide the\u001b[39;00m\n\u001b[1;32m    516\u001b[0m     \u001b[38;5;66;03m# additional parameters.  Pass in the original fun as a keyword\u001b[39;00m\n\u001b[1;32m    517\u001b[0m     \u001b[38;5;66;03m# argument to keep it in the scope of the lambda.\u001b[39;00m\n\u001b[0;32m--> 518\u001b[0m     fun \u001b[38;5;241m=\u001b[39m \u001b[38;5;28;01mlambda\u001b[39;00m t, x, fun\u001b[38;5;241m=\u001b[39mfun: \u001b[43mfun\u001b[49m\u001b[43m(\u001b[49m\u001b[43mt\u001b[49m\u001b[43m,\u001b[49m\u001b[43m \u001b[49m\u001b[43mx\u001b[49m\u001b[43m,\u001b[49m\u001b[43m \u001b[49m\u001b[38;5;241;43m*\u001b[39;49m\u001b[43margs\u001b[49m\u001b[43m)\u001b[49m\n\u001b[1;32m    519\u001b[0m     jac \u001b[38;5;241m=\u001b[39m options\u001b[38;5;241m.\u001b[39mget(\u001b[38;5;124m'\u001b[39m\u001b[38;5;124mjac\u001b[39m\u001b[38;5;124m'\u001b[39m)\n\u001b[1;32m    520\u001b[0m     \u001b[38;5;28;01mif\u001b[39;00m callable(jac):\n",
      "File \u001b[0;32m~/Learning-Parametric-Koopman-Decompositions/src/koopmanlib/target.py:513\u001b[0m, in \u001b[0;36mKortewegDeVriesTarget.kdv_ode\u001b[0;34m(self, t, y, param)\u001b[0m\n\u001b[1;32m    511\u001b[0m \u001b[38;5;66;03m# Compute the x derivatives using the pseudo-spectral method.\u001b[39;00m\n\u001b[1;32m    512\u001b[0m yx \u001b[38;5;241m=\u001b[39m psdiff(y, period\u001b[38;5;241m=\u001b[39m\u001b[38;5;28mself\u001b[39m\u001b[38;5;241m.\u001b[39mL)\n\u001b[0;32m--> 513\u001b[0m yxxx \u001b[38;5;241m=\u001b[39m \u001b[43mpsdiff\u001b[49m\u001b[43m(\u001b[49m\u001b[43my\u001b[49m\u001b[43m,\u001b[49m\u001b[43m \u001b[49m\u001b[43mperiod\u001b[49m\u001b[38;5;241;43m=\u001b[39;49m\u001b[38;5;28;43mself\u001b[39;49m\u001b[38;5;241;43m.\u001b[39;49m\u001b[43mL\u001b[49m\u001b[43m,\u001b[49m\u001b[43m \u001b[49m\u001b[43morder\u001b[49m\u001b[38;5;241;43m=\u001b[39;49m\u001b[38;5;241;43m3\u001b[39;49m\u001b[43m)\u001b[49m\n\u001b[1;32m    515\u001b[0m \u001b[38;5;66;03m# Compute du/dt.\u001b[39;00m\n\u001b[1;32m    516\u001b[0m dydt \u001b[38;5;241m=\u001b[39m \u001b[38;5;241m-\u001b[39my \u001b[38;5;241m*\u001b[39m yx \u001b[38;5;241m-\u001b[39m yxxx\n",
      "File \u001b[0;32m~/Learning-Parametric-Koopman-Decompositions/pknn/lib/python3.8/site-packages/scipy/fftpack/_pseudo_diffs.py:73\u001b[0m, in \u001b[0;36mdiff\u001b[0;34m(x, order, period, _cache)\u001b[0m\n\u001b[1;32m     71\u001b[0m     _cache[(n,order,c)] \u001b[38;5;241m=\u001b[39m omega\n\u001b[1;32m     72\u001b[0m overwrite_x \u001b[38;5;241m=\u001b[39m _datacopied(tmp, x)\n\u001b[0;32m---> 73\u001b[0m \u001b[38;5;28;01mreturn\u001b[39;00m \u001b[43mconvolve\u001b[49m\u001b[38;5;241;43m.\u001b[39;49m\u001b[43mconvolve\u001b[49m\u001b[43m(\u001b[49m\u001b[43mtmp\u001b[49m\u001b[43m,\u001b[49m\u001b[43momega\u001b[49m\u001b[43m,\u001b[49m\u001b[43mswap_real_imag\u001b[49m\u001b[38;5;241;43m=\u001b[39;49m\u001b[43morder\u001b[49m\u001b[43m \u001b[49m\u001b[38;5;241;43m%\u001b[39;49m\u001b[43m \u001b[49m\u001b[38;5;241;43m2\u001b[39;49m\u001b[43m,\u001b[49m\n\u001b[1;32m     74\u001b[0m \u001b[43m                         \u001b[49m\u001b[43moverwrite_x\u001b[49m\u001b[38;5;241;43m=\u001b[39;49m\u001b[43moverwrite_x\u001b[49m\u001b[43m)\u001b[49m\n",
      "\u001b[0;31mKeyboardInterrupt\u001b[0m: "
     ]
    }
   ],
   "source": [
    "error_mass_list_pk, error_momentum_list_pk = kdv.compute_obs_error(\n",
    "    dic=dic_pk,\n",
    "    compute_kdv_soln_func=compute_kdv_soln,\n",
    "    compute_obs_func_model=compute_pk_obs,\n",
    "    error_func=compute_diff_ratio_one_traj,\n",
    "    y0_pred_list=y0_pred_list,\n",
    "    param_pred_list=param_pred_list,\n",
    "    dx=dx,\n",
    ")\n",
    "\n",
    "mass_mean_pk, mass_std_pk, mass_mean_plus_pk, mass_mean_minus_pk = compute_stat_info(\n",
    "    error_mass_list_pk\n",
    ")\n",
    "momentum_mean_pk, momentum_std_pk, momentum_mean_plus_pk, momentum_mean_minus_pk = (\n",
    "    compute_stat_info(error_momentum_list_pk)\n",
    ")"
   ]
  },
  {
   "cell_type": "code",
   "execution_count": null,
   "metadata": {},
   "outputs": [],
   "source": [
    "error_mass_list_linear, error_momentum_list_linear = kdv.compute_obs_error(\n",
    "    dic=dic_linear,\n",
    "    compute_kdv_soln_func=compute_kdv_soln,\n",
    "    compute_obs_func_model=compute_linear_obs,\n",
    "    error_func=compute_diff_ratio_one_traj,\n",
    "    y0_pred_list=y0_pred_list,\n",
    "    param_pred_list=param_pred_list,\n",
    "    dx=dx,\n",
    ")\n",
    "mass_mean_linear, mass_std_linear, mass_mean_plus_linear, mass_mean_minus_linear = (\n",
    "    compute_stat_info(error_mass_list_linear)\n",
    ")\n",
    "(\n",
    "    momentum_mean_linear,\n",
    "    momentum_std_linear,\n",
    "    momentum_mean_plus_linear,\n",
    "    momentum_mean_minus_linear,\n",
    ") = compute_stat_info(error_momentum_list_linear)"
   ]
  },
  {
   "cell_type": "code",
   "execution_count": 47,
   "metadata": {},
   "outputs": [],
   "source": [
    "error_mass_list_bilinear, error_momentum_list_bilinear = kdv.compute_obs_error(\n",
    "    dic=dic_bilinear,\n",
    "    compute_kdv_soln_func=compute_kdv_soln,\n",
    "    compute_obs_func_model=compute_bilinear_obs,\n",
    "    error_func=compute_diff_ratio_one_traj,\n",
    "    y0_pred_list=y0_pred_list,\n",
    "    param_pred_list=param_pred_list,\n",
    "    dx=dx,\n",
    ")\n",
    "mass_mean_bilinear, mass_std_bilinear, mass_mean_plus_bilinear, mass_mean_minus_bilinear = (\n",
    "    compute_stat_info(error_mass_list_bilinear)\n",
    ")\n",
    "(\n",
    "    momentum_mean_bilinear,\n",
    "    momentum_std_bilinear,\n",
    "    momentum_mean_plus_bilinear,\n",
    "    momentum_mean_minus_bilinear,\n",
    ") = compute_stat_info(error_momentum_list_bilinear)"
   ]
  },
  {
   "cell_type": "code",
   "execution_count": 48,
   "metadata": {},
   "outputs": [
    {
     "data": {
      "text/plain": [
       "<matplotlib.legend.Legend at 0x7fbdc81a07c0>"
      ]
     },
     "execution_count": 48,
     "metadata": {},
     "output_type": "execute_result"
    },
    {
     "data": {
      "image/png": "[encoded data removed]",
      "text/plain": [
       "<Figure size 432x288 with 1 Axes>"
      ]
     },
     "metadata": {
      "needs_background": "light"
     },
     "output_type": "display_data"
    }
   ],
   "source": [
    "t_axis = np.arange(0, traj_len_pred + 1, 1)\n",
    "\n",
    "plt.title(\"Mass\", fontsize=28)\n",
    "plt.plot(mass_mean_pk, label=\"Ours\", color=pk_curve, linewidth=3)\n",
    "plt.fill_between(\n",
    "    t_axis, np.maximum(mass_mean_minus_pk, 0), mass_mean_plus_pk, color=pk_shadow, alpha=0.5\n",
    ")\n",
    "\n",
    "plt.plot(mass_mean_linear, label=\"M2\", color=linear_curve, linewidth=3)\n",
    "plt.fill_between(\n",
    "    t_axis,\n",
    "    np.maximum(mass_mean_minus_linear, 0),\n",
    "    mass_mean_plus_linear,\n",
    "    color=linear_shadow,\n",
    "    alpha=0.5,\n",
    ")\n",
    "\n",
    "plt.plot(mass_mean_bilinear, label=\"M3\", color=bilinear_curve, linewidth=3)\n",
    "plt.fill_between(\n",
    "    t_axis,\n",
    "    np.maximum(mass_mean_minus_bilinear, 0),\n",
    "    mass_mean_plus_bilinear,\n",
    "    color=bilinear_shadow,\n",
    "    alpha=0.5,\n",
    ")\n",
    "\n",
    "plt.xlabel(r\"$n$\", fontsize=28)\n",
    "plt.ylabel(\"Error\", fontsize=28)\n",
    "plt.xticks(fontsize=18)\n",
    "plt.yticks(fontsize=18)\n",
    "plt.legend(fontsize=18)\n",
    "\n",
    "# plt.savefig(os.path.join(figures_path, 'kdv_'+forcing_type+'_mass_pred.png'), dpi=200, bbox_inches='tight')\n",
    "# plt.savefig(os.path.join(figures_path, 'kdv_'+forcing_type+'_mass_pred.pdf'), dpi=200, bbox_inches='tight')\n"
   ]
  },
  {
   "cell_type": "code",
   "execution_count": 49,
   "metadata": {},
   "outputs": [
    {
     "data": {
      "text/plain": [
       "<matplotlib.legend.Legend at 0x7fbdc8125a90>"
      ]
     },
     "execution_count": 49,
     "metadata": {},
     "output_type": "execute_result"
    },
    {
     "data": {
      "image/png": "[encoded data removed]",
      "text/plain": [
       "<Figure size 432x288 with 1 Axes>"
      ]
     },
     "metadata": {
      "needs_background": "light"
     },
     "output_type": "display_data"
    }
   ],
   "source": [
    "t_axis = np.arange(0, traj_len_pred + 1, 1)\n",
    "\n",
    "plt.title(\"Momentum\", fontsize=28)\n",
    "plt.plot(momentum_mean_pk, label=\"Ours\", color=pk_curve, linewidth=3)\n",
    "plt.fill_between(\n",
    "    t_axis,\n",
    "    np.maximum(momentum_mean_minus_pk, 0),\n",
    "    momentum_mean_plus_pk,\n",
    "    color=pk_shadow,\n",
    "    alpha=0.5,\n",
    ")\n",
    "\n",
    "plt.plot(momentum_mean_linear, label=\"M2\", color=linear_curve, linewidth=3)\n",
    "plt.fill_between(\n",
    "    t_axis,\n",
    "    np.maximum(momentum_mean_minus_linear, 0),\n",
    "    momentum_mean_plus_linear,\n",
    "    color=linear_shadow,\n",
    "    alpha=0.5,\n",
    ")\n",
    "\n",
    "plt.plot(momentum_mean_bilinear, label=\"M3\", color=bilinear_curve, linewidth=3)\n",
    "plt.fill_between(\n",
    "    t_axis,\n",
    "    np.maximum(momentum_mean_minus_bilinear, 0),\n",
    "    momentum_mean_plus_bilinear,\n",
    "    color=bilinear_shadow,\n",
    "    alpha=0.5,\n",
    ")\n",
    "\n",
    "plt.xlabel(r\"$n$\", fontsize=28)\n",
    "plt.ylabel(\"Error\", fontsize=28)\n",
    "plt.xticks(fontsize=18)\n",
    "plt.yticks(fontsize=18)\n",
    "plt.legend(fontsize=18)\n",
    "\n",
    "# plt.savefig(os.path.join(figures_path, 'kdv_'+forcing_type+'_momentum_pred.png'), dpi=200, bbox_inches='tight')\n",
    "# plt.savefig(os.path.join(figures_path, 'kdv_'+forcing_type+'_momentum_pred.pdf'), dpi=200, bbox_inches='tight')\n"
   ]
  },
  {
   "cell_type": "markdown",
   "metadata": {},
   "source": [
    "# Tracking problem"
   ]
  },
  {
   "cell_type": "code",
   "execution_count": 33,
   "metadata": {},
   "outputs": [],
   "source": [
    "from scipy.optimize import minimize"
   ]
  },
  {
   "cell_type": "code",
   "execution_count": 34,
   "metadata": {},
   "outputs": [],
   "source": [
    "# Testing reference\n",
    "y0_track = np.zeros(shape=(Nx,)) + 0.2"
   ]
  },
  {
   "cell_type": "code",
   "execution_count": 35,
   "metadata": {},
   "outputs": [],
   "source": [
    "Tsim_track = 10\n",
    "\n",
    "traj_len_track = int(Tsim_track / T)\n",
    "\n",
    "### Set piece-wise reference\n",
    "soln_ref = np.zeros(shape=(traj_len_track, target_dim)) + 0.3\n",
    "\n",
    "for i in range(soln_ref.shape[0]):\n",
    "    if i > traj_len_track / 2:\n",
    "        soln_ref[i, :] = 0.5"
   ]
  },
  {
   "cell_type": "code",
   "execution_count": 36,
   "metadata": {},
   "outputs": [],
   "source": [
    "mass_ref = dx * tf.reshape(tf.math.reduce_sum(soln_ref, axis=-1), shape=(-1, 1))\n",
    "momentum_ref = dx * tf.reshape(tf.math.reduce_sum(tf.square(soln_ref), axis=-1), shape=(-1, 1))"
   ]
  },
  {
   "cell_type": "code",
   "execution_count": 78,
   "metadata": {},
   "outputs": [],
   "source": [
    "def mpc_loss_pk(param, tau, ref_list, y0, B, lambda_param):\n",
    "    param = tf.reshape(param, shape=(int(param.shape[0] / param_dim), 1, param_dim))\n",
    "    loss_list = []\n",
    "    y0 = y0.reshape(1, -1)\n",
    "    psi_x = dic_pk_faker(y0)\n",
    "\n",
    "    for i in range(tau):\n",
    "        psi_x = model_K_u_pred_pk_faker([param[i], psi_x])\n",
    "        obs_next = psi_x @ B\n",
    "        loss_curr = tf.square(tf.norm(ref_list[i] - obs_next))\n",
    "        loss_list.append(loss_curr)\n",
    "\n",
    "    ref_loss = tf.reduce_sum(loss_list)\n",
    "    param_loss = lambda_param * tf.reduce_sum(tf.square(tf.norm(param, axis=-1)))\n",
    "\n",
    "    loss = ref_loss + param_loss\n",
    "\n",
    "    return loss\n",
    "\n",
    "\n",
    "def mpc_loss_linear(param, tau, ref_list, y0, B, lambda_param):\n",
    "    param = tf.reshape(param, shape=(int(param.shape[0] / param_dim), 1, param_dim))\n",
    "    loss_list = []\n",
    "    y0 = y0.reshape(1, -1)\n",
    "    psi_y = solver_linear.dic.call(y0)\n",
    "\n",
    "    for i in range(tau):\n",
    "        psi_y = solver_linear.model_K_u_pred_linear.get_layer(\"Layer_A\")(psi_y) + solver_linear.model_K_u_pred_linear.get_layer(\n",
    "            \"Layer_B\"\n",
    "        )(param[i])\n",
    "        obs = psi_y @ B\n",
    "        loss_curr = tf.square(tf.norm(ref_list[i] - obs))\n",
    "        loss_list.append(loss_curr)\n",
    "\n",
    "    ref_loss = tf.reduce_sum(loss_list)\n",
    "    param_loss = lambda_param * tf.reduce_sum(tf.square(tf.norm(param, axis=-1)))\n",
    "\n",
    "    loss = ref_loss + param_loss\n",
    "\n",
    "    return loss\n",
    "\n",
    "\n",
    "def mpc_loss_bilinear(param, tau, ref_list, y0, B, lambda_param):\n",
    "    param = tf.reshape(param, shape=(int(param.shape[0] / param_dim), 1, param_dim))\n",
    "    loss_list = []\n",
    "    y0 = y0.reshape(1, -1)\n",
    "    psi_y = solver_bilinear.dic.call(y0)\n",
    "\n",
    "    for i in range(tau):\n",
    "\n",
    "        u_psiy = tf.einsum(\"ij,ik->kij\", psi_y, param[i])\n",
    "        u_psiy_list = []\n",
    "        for curr in u_psiy:\n",
    "            u_psiy_list.append(curr)\n",
    "        u_psiy_list = tf.concat(u_psiy_list, axis=-1)\n",
    "\n",
    "        psi_y = solver_bilinear.model_K_u_pred_bilinear.get_layer(\"Layer_A\")(\n",
    "            psi_y\n",
    "        ) + solver_bilinear.model_K_u_pred_bilinear.get_layer(\"Layer_B\")(u_psiy_list)\n",
    "        obs = psi_y @ B\n",
    "        loss_curr = tf.square(tf.norm(ref_list[i] - obs))\n",
    "        loss_list.append(loss_curr)\n",
    "\n",
    "    ref_loss = tf.reduce_sum(loss_list)\n",
    "    param_loss = lambda_param * tf.reduce_sum(tf.square(tf.norm(param, axis=-1)))\n",
    "\n",
    "    loss = ref_loss + param_loss\n",
    "\n",
    "    return loss"
   ]
  },
  {
   "cell_type": "code",
   "execution_count": 79,
   "metadata": {},
   "outputs": [],
   "source": [
    "def KoopmanMPC(y0, tau, traj_len, soln_ref, kdv_solver, B, loss, lambda_param):\n",
    "\n",
    "    bounds = []\n",
    "    for i in range(tau * param_dim):\n",
    "        bounds.append((-1, 1))\n",
    "\n",
    "    y0_mpc_loop_list = [y0]\n",
    "    opt_control_list = []\n",
    "\n",
    "    results_list = []\n",
    "\n",
    "    # Wrap the loop with tqdm for a progress bar\n",
    "    for current_time in tqdm(range(traj_len - tau - 1), desc=\"Processing time steps\"):\n",
    "\n",
    "        param_init = (\n",
    "            np.random.uniform(low=0, high=1, size=(tau * param_dim,)) * (umax - umin) + umin\n",
    "        )\n",
    "\n",
    "        results = minimize(\n",
    "            loss,\n",
    "            x0=param_init,\n",
    "            args=(\n",
    "                tau,\n",
    "                soln_ref[current_time + 1 : current_time + 1 + tau, :],\n",
    "                y0_mpc_loop_list[-1],\n",
    "                B,\n",
    "                lambda_param,\n",
    "            ),\n",
    "            bounds=bounds,\n",
    "        )\n",
    "\n",
    "        param = results.x.reshape(tau, param_dim)[0]\n",
    "        soln_next = kdv_solver(y0_mpc_loop_list[-1], T, param)\n",
    "        y_next = soln_next.y.T[-1]\n",
    "        y0_mpc_loop_list.append(y_next)\n",
    "        opt_control_list.append(param)\n",
    "        results_list.append(results)\n",
    "\n",
    "    current_time = current_time + 1\n",
    "\n",
    "    param_init = np.random.uniform(low=0, high=1, size=(tau * param_dim,)) * (umax - umin) + umin\n",
    "\n",
    "    results = minimize(\n",
    "        loss,\n",
    "        x0=param_init,\n",
    "        args=(\n",
    "            tau,\n",
    "            soln_ref[current_time + 1 : current_time + 1 + tau, :],\n",
    "            y0_mpc_loop_list[-1],\n",
    "            B,\n",
    "            lambda_param,\n",
    "        ),\n",
    "        bounds=bounds,\n",
    "    )\n",
    "\n",
    "    results_list.append(results)\n",
    "\n",
    "    param = results.x.reshape(tau, param_dim)\n",
    "    for param_curr in param:\n",
    "        soln_next = kdv_solver(y0_mpc_loop_list[-1], T, param_curr)\n",
    "        y_next = soln_next.y.T[-1]\n",
    "        y0_mpc_loop_list.append(y_next)\n",
    "        opt_control_list.append(param_curr)\n",
    "\n",
    "    opt_control_list = np.asarray(opt_control_list)\n",
    "    y0_mpc_loop_list = np.asarray(y0_mpc_loop_list)\n",
    "\n",
    "    return opt_control_list, y0_mpc_loop_list, results_list"
   ]
  },
  {
   "cell_type": "code",
   "execution_count": 80,
   "metadata": {},
   "outputs": [],
   "source": [
    "B_mass = dic_pk_faker.generate_B_mass(mass_ref)\n",
    "B_momentum = dic_pk_faker.generate_B_momentum(momentum_ref)"
   ]
  },
  {
   "cell_type": "code",
   "execution_count": 84,
   "metadata": {},
   "outputs": [],
   "source": [
    "tau=10\n",
    "param_list = np.random.uniform(size=(3*tau,))\n",
    "lambda_param = 0.005\n",
    "ref_list = np.ones(shape=(tau,1))\n",
    "y0 = np.random.uniform(size=(1,128))\n",
    "\n"
   ]
  },
  {
   "cell_type": "code",
   "execution_count": 85,
   "metadata": {},
   "outputs": [
    {
     "data": {
      "text/plain": [
       "<tf.Tensor: shape=(), dtype=float64, numpy=35.83570148024514>"
      ]
     },
     "execution_count": 85,
     "metadata": {},
     "output_type": "execute_result"
    }
   ],
   "source": [
    "mpc_loss_pk(param=param_list,\n",
    "            tau=tau,\n",
    "            ref_list=ref_list,\n",
    "            y0=y0,\n",
    "            B=B_mass,\n",
    "            lambda_param=lambda_param)"
   ]
  },
  {
   "cell_type": "code",
   "execution_count": 86,
   "metadata": {},
   "outputs": [
    {
     "data": {
      "text/plain": [
       "<tf.Tensor: shape=(), dtype=float64, numpy=35.83570148024493>"
      ]
     },
     "execution_count": 86,
     "metadata": {},
     "output_type": "execute_result"
    }
   ],
   "source": [
    "mpc_loss_bilinear(param=param_list,\n",
    "            tau=tau,\n",
    "            ref_list=ref_list,\n",
    "            y0=y0,\n",
    "            B=B_mass,\n",
    "            lambda_param=lambda_param)"
   ]
  },
  {
   "cell_type": "markdown",
   "metadata": {},
   "source": [
    "### Track mass"
   ]
  },
  {
   "cell_type": "code",
   "execution_count": 40,
   "metadata": {},
   "outputs": [],
   "source": [
    "tau = 10  # time horizon\n",
    "# lambda_param = 0.005\n",
    "# lambda_param = 0"
   ]
  },
  {
   "cell_type": "code",
   "execution_count": 81,
   "metadata": {},
   "outputs": [
    {
     "name": "stderr",
     "output_type": "stream",
     "text": [
      "Processing time steps: 100%|██████████| 998/998 [04:52<00:00,  3.41it/s]\n"
     ]
    }
   ],
   "source": [
    "pk_opt_control_mass_0, pk_kdv_opt_mass_soln_0, pk_mass_results_list_0 = KoopmanMPC(\n",
    "    y0=y0_track,\n",
    "    tau=tau,\n",
    "    traj_len=traj_len_track,\n",
    "    soln_ref=mass_ref,\n",
    "    kdv_solver=kdv.kdv_solution,\n",
    "    B=B_mass,\n",
    "    loss=mpc_loss_pk,\n",
    "    lambda_param=0,\n",
    ")"
   ]
  },
  {
   "cell_type": "code",
   "execution_count": 62,
   "metadata": {},
   "outputs": [
    {
     "name": "stderr",
     "output_type": "stream",
     "text": [
      "Processing time steps:   0%|          | 0/989 [00:00<?, ?it/s]"
     ]
    },
    {
     "name": "stderr",
     "output_type": "stream",
     "text": [
      "Processing time steps: 100%|██████████| 989/989 [50:47<00:00,  3.08s/it]\n"
     ]
    }
   ],
   "source": [
    "pk_opt_control_mass_5, pk_kdv_opt_mass_soln_5, pk_mass_results_list_5 = KoopmanMPC(\n",
    "    y0=y0_track,\n",
    "    tau=tau,\n",
    "    traj_len=traj_len_track,\n",
    "    soln_ref=mass_ref,\n",
    "    kdv_solver=kdv.kdv_solution,\n",
    "    B=B_mass,\n",
    "    loss=mpc_loss_pk,\n",
    "    lambda_param=0.005,\n",
    ")"
   ]
  },
  {
   "cell_type": "code",
   "execution_count": 83,
   "metadata": {},
   "outputs": [
    {
     "name": "stderr",
     "output_type": "stream",
     "text": [
      "Processing time steps:   0%|          | 0/998 [00:00<?, ?it/s]"
     ]
    },
    {
     "name": "stderr",
     "output_type": "stream",
     "text": [
      "Processing time steps: 100%|██████████| 998/998 [04:29<00:00,  3.70it/s]\n"
     ]
    }
   ],
   "source": [
    "linear_opt_control_mass_0, linear_kdv_opt_mass_soln_0 = KoopmanMPC(\n",
    "    y0=y0_track,\n",
    "    tau=tau,\n",
    "    traj_len=traj_len_track,\n",
    "    soln_ref=mass_ref,\n",
    "    kdv_solver=kdv.kdv_solution,\n",
    "    B=B_mass,\n",
    "    loss=mpc_loss_linear,\n",
    "    lambda_param=0,\n",
    ")"
   ]
  },
  {
   "cell_type": "code",
   "execution_count": 84,
   "metadata": {},
   "outputs": [
    {
     "name": "stderr",
     "output_type": "stream",
     "text": [
      "Processing time steps:   0%|          | 0/998 [00:00<?, ?it/s]"
     ]
    },
    {
     "name": "stderr",
     "output_type": "stream",
     "text": [
      "Processing time steps: 100%|██████████| 998/998 [04:47<00:00,  3.47it/s]\n"
     ]
    }
   ],
   "source": [
    "linear_opt_control_mass_5, linear_kdv_opt_mass_soln_5 = KoopmanMPC(\n",
    "    y0=y0_track,\n",
    "    tau=tau,\n",
    "    traj_len=traj_len_track,\n",
    "    soln_ref=mass_ref,\n",
    "    kdv_solver=kdv.kdv_solution,\n",
    "    B=B_mass,\n",
    "    loss=mpc_loss_linear,\n",
    "    lambda_param=0.005,\n",
    ")"
   ]
  },
  {
   "cell_type": "code",
   "execution_count": 85,
   "metadata": {},
   "outputs": [
    {
     "name": "stderr",
     "output_type": "stream",
     "text": [
      "Processing time steps:   0%|          | 0/998 [00:00<?, ?it/s]"
     ]
    },
    {
     "name": "stderr",
     "output_type": "stream",
     "text": [
      "Processing time steps: 100%|██████████| 998/998 [04:43<00:00,  3.52it/s]\n"
     ]
    }
   ],
   "source": [
    "bilinear_opt_control_mass_0, bilinear_kdv_opt_mass_soln_0 = KoopmanMPC(\n",
    "    y0=y0_track,\n",
    "    tau=tau,\n",
    "    traj_len=traj_len_track,\n",
    "    soln_ref=mass_ref,\n",
    "    kdv_solver=kdv.kdv_solution,\n",
    "    B=B_mass,\n",
    "    loss=mpc_loss_bilinear,\n",
    "    lambda_param=0,\n",
    ")"
   ]
  },
  {
   "cell_type": "code",
   "execution_count": 66,
   "metadata": {},
   "outputs": [
    {
     "name": "stderr",
     "output_type": "stream",
     "text": [
      "Processing time steps:   0%|          | 0/989 [00:00<?, ?it/s]"
     ]
    },
    {
     "name": "stderr",
     "output_type": "stream",
     "text": [
      "Processing time steps: 100%|██████████| 989/989 [50:49<00:00,  3.08s/it]\n"
     ]
    }
   ],
   "source": [
    "bilinear_opt_control_mass_5, bilinear_kdv_opt_mass_soln_5, bilinear_mass_results_list_5 = KoopmanMPC(\n",
    "    y0=y0_track,\n",
    "    tau=tau,\n",
    "    traj_len=traj_len_track,\n",
    "    soln_ref=mass_ref,\n",
    "    kdv_solver=kdv.kdv_solution,\n",
    "    B=B_mass,\n",
    "    loss=mpc_loss_bilinear,\n",
    "    lambda_param=0.005,\n",
    ")"
   ]
  },
  {
   "cell_type": "code",
   "execution_count": 67,
   "metadata": {},
   "outputs": [],
   "source": [
    "# pk_kdv_opt_mass_0 = dx * tf.reduce_sum(pk_kdv_opt_mass_soln_0, axis=-1)\n",
    "# linear_kdv_opt_mass_0 = dx * tf.reduce_sum(linear_kdv_opt_mass_soln_0, axis=-1)\n",
    "# bilinear_kdv_opt_mass_0 = dx * tf.reduce_sum(bilinear_kdv_opt_mass_soln_0, axis=-1)\n",
    "pk_kdv_opt_mass_5 = dx * tf.reduce_sum(pk_kdv_opt_mass_soln_5, axis=-1)\n",
    "# linear_kdv_opt_mass_5 = dx * tf.reduce_sum(linear_kdv_opt_mass_soln_5, axis=-1)\n",
    "bilinear_kdv_opt_mass_5 = dx * tf.reduce_sum(bilinear_kdv_opt_mass_soln_5, axis=-1)\n"
   ]
  },
  {
   "cell_type": "code",
   "execution_count": null,
   "metadata": {},
   "outputs": [
    {
     "ename": "",
     "evalue": "",
     "output_type": "error",
     "traceback": [
      "\u001b[1;31mFailed to start the Kernel. \n",
      "\u001b[1;31mUnable to start Kernel 'pknn (Python 3.8.8)' due to a connection timeout. \n",
      "\u001b[1;31mView Jupyter <a href='command:jupyter.viewOutput'>log</a> for further details."
     ]
    }
   ],
   "source": [
    "plt.plot(pk_kdv_opt_mass_5)\n",
    "plt.plot(bilinear_kdv_opt_mass_5)"
   ]
  },
  {
   "cell_type": "code",
   "execution_count": 65,
   "metadata": {},
   "outputs": [
    {
     "data": {
      "text/plain": [
       "      fun: 3.980188786737502\n",
       " hess_inv: <30x30 LbfgsInvHessProduct with dtype=float64>\n",
       "      jac: array([ 8.88178420e-08, -1.77635684e-07,  4.44089210e-08,  4.44089210e-08,\n",
       "        8.88178420e-08,  1.33226763e-07, -4.44089210e-08, -8.88178420e-08,\n",
       "       -8.88178420e-08,  4.44089210e-08, -8.88178420e-08,  0.00000000e+00,\n",
       "        4.44089210e-08,  4.44089210e-08,  0.00000000e+00, -4.44089210e-08,\n",
       "       -8.88178420e-08,  4.44089210e-08, -8.88178420e-08, -8.88178420e-08,\n",
       "       -1.77635684e-07,  0.00000000e+00, -8.88178420e-08, -8.88178420e-08,\n",
       "       -8.88178420e-08, -4.44089210e-08, -1.77635684e-07, -1.33226763e-07,\n",
       "       -8.88178420e-08, -4.44089210e-08])\n",
       "  message: 'CONVERGENCE: NORM_OF_PROJECTED_GRADIENT_<=_PGTOL'\n",
       "     nfev: 124\n",
       "      nit: 3\n",
       "     njev: 4\n",
       "   status: 0\n",
       "  success: True\n",
       "        x: array([0.44604751, 0.44602711, 0.44604602, 0.44604018, 0.44604593,\n",
       "       0.44604815, 0.44603927, 0.44603701, 0.44603613, 0.44604473,\n",
       "       0.44603331, 0.44604071, 0.44604463, 0.44604077, 0.44604499,\n",
       "       0.44603985, 0.44603772, 0.44604815, 0.44603702, 0.44603456,\n",
       "       0.44602512, 0.44603969, 0.4460345 , 0.44603744, 0.44603693,\n",
       "       0.44603545, 0.44603365, 0.44603731, 0.44603424, 0.44604593])"
      ]
     },
     "execution_count": 65,
     "metadata": {},
     "output_type": "execute_result"
    }
   ],
   "source": [
    "pk_mass_results_list_5[0]"
   ]
  },
  {
   "cell_type": "code",
   "execution_count": 69,
   "metadata": {},
   "outputs": [
    {
     "data": {
      "text/plain": [
       "      fun: 3.4556674731054215\n",
       " hess_inv: <30x30 LbfgsInvHessProduct with dtype=float64>\n",
       "      jac: array([-3.08684632e-02, -3.08682856e-02, -3.08686408e-02, -2.64499532e-02,\n",
       "       -2.64499532e-02, -2.64502641e-02, -2.21069384e-02, -2.21069384e-02,\n",
       "       -2.21072493e-02, -1.78395964e-02, -1.78397296e-02, -1.78397296e-02,\n",
       "       -1.36476607e-02, -1.36477939e-02, -1.36479272e-02, -9.53130903e-03,\n",
       "       -9.53139785e-03, -9.53139785e-03, -5.49054133e-03, -5.49054133e-03,\n",
       "       -5.49054133e-03, -1.52517997e-03, -1.52517997e-03, -1.52517997e-03,\n",
       "        4.44089208e-08,  4.44089208e-08,  8.88178415e-08,  4.44089210e-08,\n",
       "        4.44089210e-08, -4.44089210e-08])\n",
       "  message: 'CONVERGENCE: NORM_OF_PROJECTED_GRADIENT_<=_PGTOL'\n",
       "     nfev: 155\n",
       "      nit: 4\n",
       "     njev: 5\n",
       "   status: 0\n",
       "  success: True\n",
       "        x: array([1.        , 1.        , 1.        , 1.        , 1.        ,\n",
       "       1.        , 1.        , 1.        , 1.        , 1.        ,\n",
       "       1.        , 1.        , 1.        , 1.        , 1.        ,\n",
       "       1.        , 1.        , 1.        , 1.        , 1.        ,\n",
       "       1.        , 1.        , 1.        , 1.        , 0.76354497,\n",
       "       0.7635443 , 0.76354908, 0.38033847, 0.38033794, 0.38033167])"
      ]
     },
     "execution_count": 69,
     "metadata": {},
     "output_type": "execute_result"
    }
   ],
   "source": [
    "bilinear_mass_results_list_5[0]"
   ]
  },
  {
   "cell_type": "code",
   "execution_count": null,
   "metadata": {},
   "outputs": [],
   "source": []
  },
  {
   "cell_type": "code",
   "execution_count": null,
   "metadata": {},
   "outputs": [],
   "source": []
  },
  {
   "cell_type": "code",
   "execution_count": null,
   "metadata": {},
   "outputs": [],
   "source": []
  },
  {
   "cell_type": "code",
   "execution_count": null,
   "metadata": {},
   "outputs": [],
   "source": []
  },
  {
   "cell_type": "code",
   "execution_count": 70,
   "metadata": {},
   "outputs": [],
   "source": [
    "pknn_with_bilinear_mass_5 = np.load(os.path.join(data_path, 'mass_hardtanh_linear_tau_'+str(tau)+'_pknn_with_bilinear_weights.npy'), allow_pickle=True)"
   ]
  },
  {
   "cell_type": "code",
   "execution_count": 71,
   "metadata": {},
   "outputs": [
    {
     "data": {
      "text/plain": [
       "<tf.Tensor: shape=(1000,), dtype=float64, numpy=\n",
       "array([ 0.00000000e+00, -3.69934656e-06, -7.81340088e-06, -1.16994828e-05,\n",
       "       -1.51703517e-05, -1.83935039e-05, -2.72368547e-05, -3.11371767e-05,\n",
       "       -3.50450539e-05, -3.86531324e-05, -4.17828064e-05, -4.49537508e-05,\n",
       "       -4.83688504e-05, -5.22292357e-05, -5.62321280e-05, -6.04023058e-05,\n",
       "       -6.41597094e-05, -6.86842418e-05, -7.25093267e-05, -7.69100243e-05,\n",
       "       -8.17759166e-05, -8.66536562e-05, -9.12500230e-05, -9.55338977e-05,\n",
       "       -9.97411849e-05, -1.04224338e-04, -1.09096609e-04, -1.14237594e-04,\n",
       "       -1.19171931e-04, -1.23839184e-04, -1.25526696e-04, -1.29618630e-04,\n",
       "       -1.33879079e-04, -1.38462424e-04, -1.43137515e-04, -1.47797588e-04,\n",
       "       -1.52294849e-04, -1.56338534e-04, -1.60211212e-04, -1.64131254e-04,\n",
       "       -1.68435377e-04, -1.72796650e-04, -1.77250560e-04, -1.81580636e-04,\n",
       "       -1.85536617e-04, -1.89189576e-04, -1.92994597e-04, -1.96868787e-04,\n",
       "       -2.01010622e-04, -1.98718788e-04, -2.00825824e-04, -2.04697365e-04,\n",
       "       -2.07040276e-04, -2.15681741e-04, -2.18499577e-04, -2.21281561e-04,\n",
       "       -2.25853667e-04, -2.32218192e-04, -2.31648072e-04, -2.37434911e-04,\n",
       "       -2.36766657e-04, -2.32587486e-04, -2.30094882e-04, -2.32879948e-04,\n",
       "       -2.37865344e-04, -2.39299046e-04, -2.39092078e-04, -2.46266888e-04,\n",
       "       -2.49809424e-04, -2.49056437e-04, -2.51324372e-04, -2.54393900e-04,\n",
       "       -2.54150538e-04, -2.52785204e-04, -2.54076640e-04, -2.54755430e-04,\n",
       "       -2.57331226e-04, -2.56667179e-04, -2.57700228e-04, -2.59333588e-04,\n",
       "       -2.62119197e-04, -2.62916108e-04, -2.65353855e-04, -2.64293152e-04,\n",
       "       -2.62099524e-04, -2.63838314e-04, -2.63326675e-04, -2.64178349e-04,\n",
       "       -2.65274389e-04, -2.63789895e-04, -2.61345110e-04, -2.58442746e-04,\n",
       "       -2.56767264e-04, -2.56954926e-04, -2.57908563e-04, -2.61816104e-04,\n",
       "       -2.63021207e-04, -2.61053467e-04, -2.59796347e-04, -2.66642168e-04,\n",
       "       -2.67660180e-04, -2.68644127e-04, -2.66978589e-04, -2.63340205e-04,\n",
       "       -2.64821271e-04, -2.67675012e-04, -2.70365169e-04, -2.68171908e-04,\n",
       "       -2.72709520e-04, -2.76360418e-04, -2.78003764e-04, -2.80121254e-04,\n",
       "       -2.81251613e-04, -2.80245884e-04, -2.81699715e-04, -2.83779959e-04,\n",
       "       -2.88358556e-04, -2.91318820e-04, -2.95739366e-04, -2.96359498e-04,\n",
       "       -2.95363889e-04, -2.96362005e-04, -2.99566462e-04, -3.02754868e-04,\n",
       "       -3.02424977e-04, -2.99837974e-04, -3.01120368e-04, -3.04716081e-04,\n",
       "       -3.05864025e-04, -3.05816946e-04, -3.07112266e-04, -3.11117313e-04,\n",
       "       -3.13000687e-04, -3.14320088e-04, -3.16589925e-04, -3.16649052e-04,\n",
       "       -3.16233364e-04, -3.17018627e-04, -3.17663290e-04, -3.17259031e-04,\n",
       "       -3.18725368e-04, -3.20702090e-04, -3.21858281e-04, -3.20591569e-04,\n",
       "       -3.18101215e-04, -3.15192216e-04, -3.16583828e-04, -3.13889901e-04,\n",
       "       -3.12408274e-04, -3.12525386e-04, -3.09546652e-04, -3.10695666e-04,\n",
       "       -3.11003224e-04, -3.11379374e-04, -3.13590985e-04, -3.07164550e-04,\n",
       "       -3.05484749e-04, -3.03459335e-04, -3.02430683e-04, -3.00126425e-04,\n",
       "       -3.00364478e-04, -2.99338708e-04, -2.98338177e-04, -2.97139169e-04,\n",
       "       -2.97344801e-04, -2.99130575e-04, -2.98414368e-04, -2.98637751e-04,\n",
       "       -2.97996438e-04, -2.96715130e-04, -2.94565696e-04, -2.93977713e-04,\n",
       "       -2.91304703e-04, -2.90541769e-04, -2.91170607e-04, -2.88066479e-04,\n",
       "       -2.85555531e-04, -2.84089277e-04, -2.87257662e-04, -2.86713563e-04,\n",
       "       -2.85791347e-04, -2.87177120e-04, -2.86052927e-04, -2.83318764e-04,\n",
       "       -2.81295423e-04, -2.80869522e-04, -2.79924978e-04, -2.77623236e-04,\n",
       "       -2.77488811e-04, -2.79470632e-04, -2.78087674e-04, -2.76972675e-04,\n",
       "       -2.75251669e-04, -2.76718184e-04, -2.74929084e-04, -2.72832901e-04,\n",
       "       -2.70787541e-04, -2.70025217e-04, -2.69836700e-04, -2.68871153e-04,\n",
       "       -2.65191547e-04, -2.63002385e-04, -2.63226872e-04, -2.61881407e-04,\n",
       "       -2.59426698e-04, -2.59677411e-04, -2.58156826e-04, -2.54963316e-04,\n",
       "       -2.52749615e-04, -2.52539434e-04, -2.52457624e-04, -2.45956881e-04,\n",
       "       -2.45260253e-04, -2.43176587e-04, -2.41310254e-04, -2.37640820e-04,\n",
       "       -2.39480049e-04, -2.39295932e-04, -2.38121579e-04, -2.38431601e-04,\n",
       "       -2.38086492e-04, -2.37309627e-04, -2.36585680e-04, -2.34736378e-04,\n",
       "       -2.35997412e-04, -2.34350412e-04, -2.36493305e-04, -2.36247447e-04,\n",
       "       -2.38119093e-04, -2.38405277e-04, -2.36248485e-04, -2.37047072e-04,\n",
       "       -2.35895134e-04, -2.36773735e-04, -2.37065995e-04, -2.35138863e-04,\n",
       "       -2.33156019e-04, -2.32550678e-04, -2.32036197e-04, -2.30388705e-04,\n",
       "       -2.31674166e-04, -2.29354540e-04, -2.29360835e-04, -2.26734634e-04,\n",
       "       -2.27088722e-04, -2.24756410e-04, -2.25117384e-04, -2.23401469e-04,\n",
       "       -2.22943174e-04, -2.23339462e-04, -2.22918343e-04, -2.22363094e-04,\n",
       "       -2.21154393e-04, -2.19909010e-04, -2.19561544e-04, -2.17609406e-04,\n",
       "       -2.15593460e-04, -2.12771572e-04, -2.11836156e-04, -2.11286134e-04,\n",
       "       -2.08519229e-04, -2.08894122e-04, -2.08231187e-04, -2.06609415e-04,\n",
       "       -2.06434497e-04, -2.05021298e-04, -2.04846527e-04, -2.04928417e-04,\n",
       "       -2.07121812e-04, -2.05175132e-04, -2.04720211e-04, -2.01257175e-04,\n",
       "       -2.01039534e-04, -1.99715197e-04, -1.97079613e-04, -1.96503435e-04,\n",
       "       -1.96298548e-04, -1.96807580e-04, -1.96278420e-04, -1.96447959e-04,\n",
       "       -1.94584383e-04, -1.92829419e-04, -1.93838073e-04, -1.93519474e-04,\n",
       "       -1.93480868e-04, -1.91872994e-04, -1.92611854e-04, -1.90941711e-04,\n",
       "       -1.91148032e-04, -1.90536000e-04, -1.91181636e-04, -1.90878824e-04,\n",
       "       -1.91354175e-04, -1.90750555e-04, -1.89351459e-04, -1.88457881e-04,\n",
       "       -1.87018945e-04, -1.85400319e-04, -1.85031531e-04, -1.84938135e-04,\n",
       "       -1.84201764e-04, -1.82012985e-04, -1.79596623e-04, -1.79532669e-04,\n",
       "       -1.77071051e-04, -1.75258578e-04, -1.73687924e-04, -1.72996819e-04,\n",
       "       -1.71953737e-04, -1.70230183e-04, -1.69526196e-04, -1.69375715e-04,\n",
       "       -1.67581649e-04, -1.67241314e-04, -1.65109252e-04, -1.64534982e-04,\n",
       "       -1.63026472e-04, -1.61262317e-04, -1.61031480e-04, -1.60107365e-04,\n",
       "       -1.59003541e-04, -1.58441323e-04, -1.58968159e-04, -1.58084544e-04,\n",
       "       -1.57254202e-04, -1.56842458e-04, -1.56027356e-04, -1.55459068e-04,\n",
       "       -1.54119528e-04, -1.53519325e-04, -1.52596716e-04, -1.52291343e-04,\n",
       "       -1.52014810e-04, -1.50559890e-04, -1.49870063e-04, -1.49281952e-04,\n",
       "       -1.48577452e-04, -1.48290279e-04, -1.47992668e-04, -1.47766971e-04,\n",
       "       -1.46863246e-04, -1.46319024e-04, -1.45603506e-04, -1.45314387e-04,\n",
       "       -1.43908096e-04, -1.43020448e-04, -1.42917209e-04, -1.42718830e-04,\n",
       "       -1.44297030e-04, -1.44196995e-04, -1.43085427e-04, -1.42380739e-04,\n",
       "       -1.41621400e-04, -1.40769820e-04, -1.40900199e-04, -1.40442361e-04,\n",
       "       -1.38770300e-04, -1.38196895e-04, -1.38011240e-04, -1.37887377e-04,\n",
       "       -1.36468418e-04, -1.35899412e-04, -1.31151361e-04, -1.24580440e-04,\n",
       "       -1.17746999e-04, -1.09930818e-04, -9.96777427e-05, -8.73480064e-05,\n",
       "       -7.27337060e-05, -5.61858020e-05, -3.75919553e-05, -1.68018510e-05,\n",
       "        6.34919810e-06,  3.08809306e-05,  5.78144888e-05,  8.65505806e-05,\n",
       "        1.17394607e-04,  1.50435113e-04,  1.85145069e-04,  2.19024570e-04,\n",
       "        2.56423956e-04,  2.95526393e-04,  3.35189206e-04,  3.75807084e-04,\n",
       "        4.14723180e-04,  4.20191457e-04,  4.57507986e-04,  4.94402521e-04,\n",
       "        5.30880883e-04,  5.66551757e-04,  6.02327076e-04,  6.38987297e-04,\n",
       "        6.74753663e-04,  7.10083450e-04,  7.44279386e-04,  7.78598730e-04,\n",
       "        7.91345233e-04,  8.05522885e-04,  8.05352626e-04,  8.07054993e-04,\n",
       "        8.18500689e-04,  8.32138440e-04,  8.45793607e-04,  8.59249993e-04,\n",
       "        8.72374366e-04,  8.69975988e-04,  8.58593921e-04,  8.43580228e-04,\n",
       "        8.29591364e-04,  8.15450055e-04,  8.01551711e-04,  7.88165227e-04,\n",
       "        7.74938911e-04,  7.61909670e-04,  7.48673208e-04,  7.35532714e-04,\n",
       "        7.22702448e-04,  7.09894887e-04,  6.97520387e-04,  6.85226023e-04,\n",
       "        6.72976666e-04,  6.60733724e-04,  6.48813333e-04,  6.36763513e-04,\n",
       "        6.25219103e-04,  6.13709368e-04,  6.02225599e-04,  5.90670632e-04,\n",
       "        5.79414458e-04,  5.68429751e-04,  5.57589592e-04,  5.47142089e-04,\n",
       "        5.36545635e-04,  5.26052003e-04,  5.15716538e-04,  5.05342958e-04,\n",
       "        4.95490342e-04,  4.85470130e-04,  4.75801533e-04,  4.66277299e-04,\n",
       "        4.56670660e-04,  4.47360190e-04,  4.38046212e-04,  4.28819341e-04,\n",
       "        4.19669900e-04,  4.10902083e-04,  4.02180134e-04,  3.93484515e-04,\n",
       "        3.84625799e-04,  3.75647119e-04,  3.67042027e-04,  3.58772299e-04,\n",
       "        3.50269247e-04,  3.41881288e-04,  3.33649283e-04,  3.25865639e-04,\n",
       "        3.17987307e-04,  3.10508359e-04,  3.02884894e-04,  2.95284722e-04,\n",
       "        2.87899930e-04,  2.80462197e-04,  2.73214674e-04,  2.65914228e-04,\n",
       "        2.59051500e-04,  2.52031657e-04,  2.45128804e-04,  2.38158222e-04,\n",
       "        2.31204081e-04,  2.24798509e-04,  2.17935888e-04,  2.11512997e-04,\n",
       "        2.04914386e-04,  1.98594025e-04,  1.92340289e-04,  1.86040986e-04,\n",
       "        1.79683408e-04,  1.73472152e-04,  1.67611845e-04,  1.61566853e-04,\n",
       "        1.55710827e-04,  1.49959267e-04,  1.44269983e-04,  1.38775343e-04,\n",
       "        1.33411803e-04,  1.28098033e-04,  1.22711628e-04,  1.17432295e-04,\n",
       "        1.12030909e-04,  1.06655877e-04,  1.01805835e-04,  9.68334505e-05,\n",
       "        9.04071023e-05,  8.55638291e-05,  8.07607812e-05,  7.59869107e-05,\n",
       "        7.15174810e-05,  6.68315947e-05,  6.23415521e-05,  5.76585075e-05,\n",
       "        5.31829072e-05,  3.72610196e-05,  2.09117418e-05,  3.88365854e-06,\n",
       "       -1.38852056e-05, -3.17832375e-05, -4.76155792e-05, -6.33228764e-05,\n",
       "       -7.78283875e-05, -9.29651044e-05, -1.08646808e-04, -1.25721949e-04,\n",
       "       -1.43157488e-04, -1.60799122e-04, -1.77996959e-04, -1.94723422e-04,\n",
       "       -2.11577845e-04, -2.29488088e-04, -2.50080487e-04, -2.70918347e-04,\n",
       "       -2.92741371e-04, -3.15733594e-04, -3.38665357e-04, -3.61354033e-04,\n",
       "       -3.83933061e-04, -4.06277339e-04, -4.28884599e-04, -4.52762293e-04,\n",
       "       -4.77304636e-04, -5.02687922e-04, -5.27760543e-04, -5.52181241e-04,\n",
       "       -5.75203454e-04, -5.97559296e-04, -6.19456258e-04, -6.41222467e-04,\n",
       "       -6.62954654e-04, -6.86468953e-04, -7.09825281e-04, -7.33759122e-04,\n",
       "       -7.57718143e-04, -7.81312643e-04, -8.04139546e-04, -8.26632753e-04,\n",
       "       -8.45464826e-04, -8.66818123e-04, -8.87216440e-04, -9.07895816e-04,\n",
       "       -9.28871178e-04, -9.50116781e-04, -9.71872958e-04, -9.92881025e-04,\n",
       "       -1.01318965e-03, -1.03232743e-03, -1.05015231e-03, -1.06719238e-03,\n",
       "       -1.08214597e-03, -1.09649846e-03, -1.11002740e-03, -1.12364142e-03,\n",
       "       -1.13690802e-03, -1.15007993e-03, -1.16290350e-03, -1.17473493e-03,\n",
       "       -1.18552687e-03, -1.19533636e-03, -1.20416128e-03, -1.21272515e-03,\n",
       "       -1.22188931e-03, -1.23127942e-03, -1.24059043e-03, -1.24968537e-03,\n",
       "       -1.25812925e-03, -1.26541077e-03, -1.27142320e-03, -1.27697119e-03,\n",
       "       -1.28258434e-03, -1.28843225e-03, -1.29427041e-03, -1.29970874e-03,\n",
       "       -1.30425121e-03, -1.30779733e-03, -1.31061009e-03, -1.31306071e-03,\n",
       "       -1.31544329e-03, -1.31866025e-03, -1.32223067e-03, -1.32557572e-03,\n",
       "       -1.32828204e-03, -1.33040417e-03, -1.33248711e-03, -1.33520276e-03,\n",
       "       -1.33871535e-03, -1.33842714e-03, -1.34284741e-03, -1.34741169e-03,\n",
       "       -1.35173238e-03, -1.35553288e-03, -1.35924381e-03, -1.36392280e-03,\n",
       "       -1.36885804e-03, -1.37452952e-03, -1.38040414e-03, -1.38593946e-03,\n",
       "       -1.39079445e-03, -1.39522197e-03, -1.39934478e-03, -1.40380626e-03,\n",
       "       -1.40915714e-03, -1.41504112e-03, -1.42123795e-03, -1.42753327e-03,\n",
       "       -1.43352212e-03, -1.43920120e-03, -1.44479074e-03, -1.45063457e-03,\n",
       "       -1.45697625e-03, -1.46391744e-03, -1.47154454e-03, -1.47957682e-03,\n",
       "       -1.48767170e-03, -1.49562321e-03, -1.50323727e-03, -1.51028997e-03,\n",
       "       -1.51700496e-03, -1.52367931e-03, -1.53029076e-03, -1.53730301e-03,\n",
       "       -1.54441048e-03, -1.55161944e-03, -1.55824853e-03, -1.56433042e-03,\n",
       "       -1.56959984e-03, -1.57428538e-03, -1.57860433e-03, -1.58289895e-03,\n",
       "       -1.58724724e-03, -1.59159156e-03, -1.59632899e-03, -1.60105930e-03,\n",
       "       -1.60565865e-03, -1.61036367e-03, -1.61363544e-03, -1.61638777e-03,\n",
       "       -1.61895228e-03, -1.62131394e-03, -1.62391898e-03, -1.62651372e-03,\n",
       "       -1.62804261e-03, -1.63041575e-03, -1.63201462e-03, -1.63300807e-03,\n",
       "       -1.63174408e-03, -1.63114697e-03, -1.63026951e-03, -1.62840415e-03,\n",
       "       -1.62753667e-03, -1.62654505e-03, -1.62530464e-03, -1.62377861e-03,\n",
       "       -1.62136206e-03, -1.61844591e-03, -1.61546858e-03, -1.61266635e-03,\n",
       "       -1.61032439e-03, -1.60826676e-03, -1.60640190e-03, -1.60374062e-03,\n",
       "       -1.60073649e-03, -1.59743296e-03, -1.59401685e-03, -1.59083817e-03,\n",
       "       -1.58816658e-03, -1.58565846e-03, -1.58288235e-03, -1.57974013e-03,\n",
       "       -1.57611100e-03, -1.57197207e-03, -1.57209590e-03, -1.56648656e-03,\n",
       "       -1.56328898e-03, -1.56019044e-03, -1.56036159e-03, -1.55833663e-03,\n",
       "       -1.55456074e-03, -1.55212679e-03, -1.54705635e-03, -1.54385214e-03,\n",
       "       -1.53828128e-03, -1.53608705e-03, -1.53407017e-03, -1.53208823e-03,\n",
       "       -1.52688520e-03, -1.52927486e-03, -1.52157072e-03, -1.51599676e-03,\n",
       "       -1.51452683e-03, -1.51680528e-03, -1.50987362e-03, -1.50873352e-03,\n",
       "       -1.50780448e-03, -1.50812570e-03, -1.50712626e-03, -1.50540340e-03,\n",
       "       -1.50354188e-03, -1.50219763e-03, -1.49669236e-03, -1.49330854e-03,\n",
       "       -1.49293062e-03, -1.49123561e-03, -1.48788008e-03, -1.48824472e-03,\n",
       "       -1.48998437e-03, -1.48869773e-03, -1.48943854e-03, -1.48691929e-03,\n",
       "       -1.48381763e-03, -1.48343832e-03, -1.48292155e-03, -1.48097510e-03,\n",
       "       -1.48044629e-03, -1.47828660e-03, -1.47561783e-03, -1.47847950e-03,\n",
       "       -1.47420879e-03, -1.47685939e-03, -1.47742677e-03, -1.47189254e-03,\n",
       "       -1.46556225e-03, -1.46180289e-03, -1.45972454e-03, -1.45430580e-03,\n",
       "       -1.45301835e-03, -1.44859078e-03, -1.45221499e-03, -1.44993839e-03,\n",
       "       -1.44533740e-03, -1.44018835e-03, -1.44309500e-03, -1.44157912e-03,\n",
       "       -1.43682935e-03, -1.43655191e-03, -1.43470609e-03, -1.43216913e-03,\n",
       "       -1.43246792e-03, -1.42531130e-03, -1.41667945e-03, -1.41084298e-03,\n",
       "       -1.40961516e-03, -1.40494529e-03, -1.40263549e-03, -1.40038333e-03,\n",
       "       -1.39699698e-03, -1.39534113e-03, -1.39179813e-03, -1.38844386e-03,\n",
       "       -1.38199303e-03, -1.37600956e-03, -1.37466493e-03, -1.36968611e-03,\n",
       "       -1.36619300e-03, -1.36008868e-03, -1.35182661e-03, -1.34620404e-03,\n",
       "       -1.34239814e-03, -1.33615418e-03, -1.33431784e-03, -1.32762251e-03,\n",
       "       -1.32244264e-03, -1.31915749e-03, -1.32638334e-03, -1.31833731e-03,\n",
       "       -1.31303955e-03, -1.30560680e-03, -1.29465082e-03, -1.28845481e-03,\n",
       "       -1.27902841e-03, -1.27172411e-03, -1.26722663e-03, -1.26106002e-03,\n",
       "       -1.25548273e-03, -1.24806509e-03, -1.24398341e-03, -1.23583659e-03,\n",
       "       -1.22973664e-03, -1.22542722e-03, -1.22054582e-03, -1.21427529e-03,\n",
       "       -1.21021437e-03, -1.20561877e-03, -1.20111105e-03, -1.19216404e-03,\n",
       "       -1.18724294e-03, -1.18156321e-03, -1.18066330e-03, -1.17363493e-03,\n",
       "       -1.16848957e-03, -1.16340634e-03, -1.15554060e-03, -1.14942485e-03,\n",
       "       -1.14212487e-03, -1.13448969e-03, -1.13193002e-03, -1.12808465e-03,\n",
       "       -1.12329483e-03, -1.11637881e-03, -1.11149257e-03, -1.10464621e-03,\n",
       "       -1.09719741e-03, -1.09139744e-03, -1.08647688e-03, -1.07862111e-03,\n",
       "       -1.07348620e-03, -1.06681782e-03, -1.06323962e-03, -1.05745087e-03,\n",
       "       -1.05234705e-03, -1.04324390e-03, -1.03719271e-03, -1.03365028e-03,\n",
       "       -1.02802521e-03, -1.02474433e-03, -1.02006066e-03, -1.01515999e-03,\n",
       "       -1.01175648e-03, -1.00680560e-03, -1.00287384e-03, -9.97663266e-04,\n",
       "       -9.91452018e-04, -9.89187244e-04, -9.87206086e-04, -9.81828040e-04,\n",
       "       -9.76874352e-04, -9.69721119e-04, -9.63783918e-04, -9.57954388e-04,\n",
       "       -9.52425989e-04, -9.47515928e-04, -9.43158243e-04, -9.37755271e-04,\n",
       "       -9.33463206e-04, -9.27420894e-04, -9.20686186e-04, -9.14239275e-04,\n",
       "       -9.08684524e-04, -9.03022736e-04, -8.98471766e-04, -8.92648538e-04,\n",
       "       -8.89109574e-04, -8.84241215e-04, -8.80320638e-04, -8.74427124e-04,\n",
       "       -8.71279502e-04, -8.66227822e-04, -8.60718460e-04, -8.59715039e-04,\n",
       "       -8.55347099e-04, -8.50023554e-04, -8.45700931e-04, -8.41600851e-04,\n",
       "       -8.38322005e-04, -8.34572038e-04, -8.31150486e-04, -8.25693771e-04,\n",
       "       -8.20332130e-04, -8.15373054e-04, -8.10016092e-04, -8.05841464e-04,\n",
       "       -7.98732874e-04, -7.95255850e-04, -7.92962524e-04, -7.88215054e-04,\n",
       "       -7.85882743e-04, -7.82092967e-04, -7.77856933e-04, -7.76507457e-04,\n",
       "       -7.72604165e-04, -7.67264092e-04, -7.64834035e-04, -7.63204267e-04,\n",
       "       -7.62092037e-04, -7.58749718e-04, -7.54738528e-04, -7.50540725e-04,\n",
       "       -7.45265285e-04, -7.42789420e-04, -7.39280496e-04, -7.35329853e-04,\n",
       "       -7.31805354e-04, -7.28920659e-04, -7.25659982e-04, -7.22925698e-04,\n",
       "       -7.18801305e-04, -7.15709663e-04, -7.11584810e-04, -7.07338342e-04,\n",
       "       -7.03943419e-04, -7.00970068e-04, -6.98148536e-04, -6.92640461e-04,\n",
       "       -6.88858947e-04, -6.86449093e-04, -6.83077704e-04, -6.78360562e-04,\n",
       "       -6.75863099e-04, -6.72408693e-04, -6.70170286e-04, -6.63592228e-04,\n",
       "       -6.62418664e-04, -6.59935291e-04, -6.56825382e-04, -6.53733647e-04,\n",
       "       -6.50679169e-04, -6.45326511e-04, -6.44022419e-04, -6.40595868e-04,\n",
       "       -6.37297832e-04, -6.34081780e-04, -6.33671156e-04, -6.29042361e-04,\n",
       "       -6.27510560e-04, -6.23542599e-04, -6.19010847e-04, -6.15985770e-04,\n",
       "       -6.12412522e-04, -6.11636628e-04, -6.10721766e-04, -6.07777450e-04,\n",
       "       -6.02137631e-04, -6.00009889e-04, -5.97886331e-04, -5.95070928e-04,\n",
       "       -5.94172942e-04, -5.88346454e-04, -5.83993689e-04, -5.82167363e-04,\n",
       "       -5.78731117e-04, -5.73106209e-04, -5.69843286e-04, -5.67023797e-04,\n",
       "       -5.64012955e-04, -5.61701148e-04, -5.59453606e-04, -5.55566489e-04,\n",
       "       -5.53059328e-04, -5.48084480e-04, -5.43720160e-04, -5.40293470e-04,\n",
       "       -5.38647229e-04, -5.35486183e-04, -5.33264055e-04, -5.30923807e-04,\n",
       "       -5.28793939e-04, -5.24494858e-04, -5.21955729e-04, -5.17647060e-04,\n",
       "       -5.13758514e-04, -5.07761091e-04, -4.98484856e-04, -4.89613354e-04,\n",
       "       -4.79103093e-04, -4.65457985e-04, -4.49666575e-04, -4.32436475e-04,\n",
       "       -4.12945806e-04, -3.91719902e-04, -3.68371211e-04, -3.42391935e-04,\n",
       "       -3.15215456e-04, -2.85755854e-04, -2.55298445e-04, -2.25383163e-04,\n",
       "       -1.96618334e-04, -1.60027739e-04, -1.24746165e-04, -8.93177128e-05,\n",
       "       -5.55048427e-05, -2.20154583e-05,  1.18436231e-05,  4.51449297e-05,\n",
       "        7.80191153e-05,  1.09350798e-04,  1.40767638e-04,  1.72036547e-04,\n",
       "        2.02859279e-04,  2.07196212e-04,  2.12273752e-04,  2.16722586e-04,\n",
       "        2.20522600e-04,  2.24543958e-04,  2.53122979e-04,  2.56307075e-04,\n",
       "        2.84384664e-04,  3.13242113e-04,  3.41416426e-04,  3.70403754e-04,\n",
       "        3.75193272e-04,  4.01300994e-04,  4.26316999e-04,  4.29469239e-04])>"
      ]
     },
     "execution_count": 71,
     "metadata": {},
     "output_type": "execute_result"
    }
   ],
   "source": [
    "pknn_with_bilinear_mass_5 - pk_kdv_opt_mass_5"
   ]
  },
  {
   "cell_type": "code",
   "execution_count": null,
   "metadata": {},
   "outputs": [],
   "source": []
  },
  {
   "cell_type": "code",
   "execution_count": 113,
   "metadata": {},
   "outputs": [],
   "source": [
    "\n",
    "np.save(os.path.join(data_path,'mass_hardtanh_linear_tau_'+str(tau)+'_pknn_with_bilinear_weights.npy'), pk_kdv_opt_mass_5)"
   ]
  },
  {
   "cell_type": "markdown",
   "metadata": {},
   "source": [
    "### Check exact control for KdV equation"
   ]
  },
  {
   "cell_type": "code",
   "execution_count": 88,
   "metadata": {},
   "outputs": [],
   "source": [
    "def v_func(x, c):\n",
    "    return np.exp(-25 * (x - c) ** 2)\n",
    "\n",
    "\n",
    "c1, c2, c3 = -np.pi / 2, 0, np.pi / 2\n",
    "v1 = v_func(x, c1).reshape(1, -1)\n",
    "v2 = v_func(x, c2).reshape(1, -1)\n",
    "v3 = v_func(x, c3).reshape(1, -1)\n",
    "\n",
    "v_list = np.concatenate([v1, v2, v3], axis=0)\n",
    "\n",
    "\n",
    "def v1_func(x):\n",
    "    return np.exp(-25 * (x + np.pi / 2) ** 2)\n",
    "\n",
    "\n",
    "def v2_func(x):\n",
    "    return np.exp(-25 * (x) ** 2)\n",
    "\n",
    "\n",
    "def v3_func(x):\n",
    "    return np.exp(-25 * (x - np.pi / 2) ** 2)\n",
    "\n",
    "\n",
    "from scipy import integrate\n",
    "\n",
    "integral_1, error_1 = integrate.quad(v1_func, -np.pi, np.pi)\n",
    "\n",
    "integral_2, error_2 = integrate.quad(v2_func, -np.pi, np.pi)\n",
    "\n",
    "integral_3, error_3 = integrate.quad(v3_func, -np.pi, np.pi)\n",
    "\n",
    "rhs_value = integral_1 + integral_2 + integral_3\n",
    "\n",
    "mass_y0_track = dx * tf.reshape(tf.math.reduce_sum(y0_track, axis=-1), shape=(-1, 1))\n",
    "\n",
    "track_time_1 = (mass_ref[0] - mass_y0_track) / rhs_value\n",
    "track_step_1 = int(track_time_1 / T)\n",
    "\n",
    "track_time_2 = (mass_ref[-1] - mass_ref[0]) / rhs_value\n",
    "track_step_2 = int(track_time_2 / T)\n",
    "\n",
    "control_exact_opt = np.zeros(shape=pk_opt_control_mass_0.shape, dtype=\"float64\")\n",
    "\n",
    "control_exact_opt[:track_step_1] = 1\n",
    "control_exact_opt[500 : 500 + track_step_2] = 1\n",
    "\n",
    "kdv_opt_control = compute_kdv_soln(y0_track, control_exact_opt)\n",
    "\n",
    "kdv_opt_control = np.asarray(kdv_opt_control)\n",
    "kdv_opt_mass = dx * tf.reshape(tf.math.reduce_sum(kdv_opt_control, axis=-1), shape=(-1, 1))"
   ]
  },
  {
   "cell_type": "code",
   "execution_count": 119,
   "metadata": {},
   "outputs": [
    {
     "data": {
      "text/plain": [
       "<matplotlib.legend.Legend at 0x7f1d25b0ac70>"
      ]
     },
     "execution_count": 119,
     "metadata": {},
     "output_type": "execute_result"
    },
    {
     "data": {
      "image/png": "[encoded data removed]",
      "text/plain": [
       "<Figure size 720x360 with 1 Axes>"
      ]
     },
     "metadata": {
      "needs_background": "light"
     },
     "output_type": "display_data"
    }
   ],
   "source": [
    "plt.figure(figsize=(10, 5))\n",
    "plt.plot(mass_ref, label=\"Reference\", linestyle=\"--\", color=ref_color, linewidth=linewidth)\n",
    "\n",
    "plt.plot(\n",
    "    linear_kdv_opt_mass_0,\n",
    "    label=r\"$M2(\\lambda = 0)$\",\n",
    "    color=linear_no_penalty_color,\n",
    "    linestyle=linear_linestyle,\n",
    "    linewidth=linewidth,\n",
    ")\n",
    "plt.plot(\n",
    "    bilinear_kdv_opt_mass_0,\n",
    "    label=r\"$M3(\\lambda = 0)$\",\n",
    "    color=bilinear_no_penalty_color,\n",
    "    linestyle=bilinear_linestyle,\n",
    "    linewidth=linewidth,\n",
    ")\n",
    "plt.plot(\n",
    "    pk_kdv_opt_mass_0,\n",
    "    label=r\"$Ours(\\lambda = 0)$\", \n",
    "    color=pk_no_penalty_color, \n",
    "    linestyle=pk_linestyle, \n",
    "    linewidth=linewidth,\n",
    "alpha=0.7\n",
    ")\n",
    "\n",
    "\n",
    "plt.plot(\n",
    "    linear_kdv_opt_mass_5,\n",
    "    label=r\"$M2(\\lambda = 0.005)$\",\n",
    "    color=linear_curve,\n",
    "    linestyle=linear_linestyle,\n",
    "    linewidth=linewidth,\n",
    ")\n",
    "plt.plot(\n",
    "    bilinear_kdv_opt_mass_5,\n",
    "    label=r\"$M3(\\lambda = 0.005)$\",\n",
    "    color=bilinear_curve,\n",
    "    linestyle=bilinear_linestyle,\n",
    "    linewidth=linewidth,\n",
    ")\n",
    "plt.plot(\n",
    "    pk_kdv_opt_mass_5,\n",
    "    label=r\"$Ours(\\lambda = 0.005)$\",\n",
    "    color=pk_curve, \n",
    "    linestyle=pk_linestyle, \n",
    "    linewidth=linewidth,\n",
    "    alpha=0.5\n",
    ")\n",
    "\n",
    "plt.plot(kdv_opt_mass, label=\"KdV\", linestyle=\"--\", color=exact_color, linewidth=linewidth, alpha=0.5)\n",
    "\n",
    "plt.xticks(fontsize=ticks_font)\n",
    "plt.yticks(fontsize=ticks_font)\n",
    "plt.xlabel(r\"$n$\", fontsize=label_font)\n",
    "plt.ylabel(\"Mass\", fontsize=label_font)\n",
    "# plt.yscale('log')\n",
    "plt.legend(fontsize=legend_font, loc=(1.05, 0.001))\n",
    "\n",
    "\n",
    "# plt.savefig(os.path.join(figures_path, 'kdv_'+forcing_type+'_mass_tracking.png'), dpi=200, bbox_inches='tight')\n",
    "# plt.savefig(os.path.join(figures_path, 'kdv_'+forcing_type+'_mass_tracking.pdf'), dpi=200, bbox_inches='tight')\n"
   ]
  },
  {
   "cell_type": "markdown",
   "metadata": {},
   "source": [
    "### Track momentum"
   ]
  },
  {
   "cell_type": "code",
   "execution_count": 90,
   "metadata": {},
   "outputs": [
    {
     "name": "stderr",
     "output_type": "stream",
     "text": [
      "Processing time steps:  50%|█████     | 502/998 [02:21<02:19,  3.56it/s]\n"
     ]
    },
    {
     "ename": "KeyboardInterrupt",
     "evalue": "",
     "output_type": "error",
     "traceback": [
      "\u001b[0;31m---------------------------------------------------------------------------\u001b[0m",
      "\u001b[0;31mKeyboardInterrupt\u001b[0m                         Traceback (most recent call last)",
      "Input \u001b[0;32mIn [90]\u001b[0m, in \u001b[0;36m<cell line: 1>\u001b[0;34m()\u001b[0m\n\u001b[0;32m----> 1\u001b[0m pk_opt_control_momentum_0, pk_kdv_opt_momentum_soln_0 \u001b[38;5;241m=\u001b[39m \u001b[43mKoopmanMPC\u001b[49m\u001b[43m(\u001b[49m\n\u001b[1;32m      2\u001b[0m \u001b[43m    \u001b[49m\u001b[43my0\u001b[49m\u001b[38;5;241;43m=\u001b[39;49m\u001b[43my0_track\u001b[49m\u001b[43m,\u001b[49m\n\u001b[1;32m      3\u001b[0m \u001b[43m    \u001b[49m\u001b[43mtau\u001b[49m\u001b[38;5;241;43m=\u001b[39;49m\u001b[43mtau\u001b[49m\u001b[43m,\u001b[49m\n\u001b[1;32m      4\u001b[0m \u001b[43m    \u001b[49m\u001b[43mtraj_len\u001b[49m\u001b[38;5;241;43m=\u001b[39;49m\u001b[43mtraj_len_track\u001b[49m\u001b[43m,\u001b[49m\n\u001b[1;32m      5\u001b[0m \u001b[43m    \u001b[49m\u001b[43msoln_ref\u001b[49m\u001b[38;5;241;43m=\u001b[39;49m\u001b[43mmomentum_ref\u001b[49m\u001b[43m,\u001b[49m\n\u001b[1;32m      6\u001b[0m \u001b[43m    \u001b[49m\u001b[43mkdv_solver\u001b[49m\u001b[38;5;241;43m=\u001b[39;49m\u001b[43mkdv\u001b[49m\u001b[38;5;241;43m.\u001b[39;49m\u001b[43mkdv_solution\u001b[49m\u001b[43m,\u001b[49m\n\u001b[1;32m      7\u001b[0m \u001b[43m    \u001b[49m\u001b[43mB\u001b[49m\u001b[38;5;241;43m=\u001b[39;49m\u001b[43mB_momentum\u001b[49m\u001b[43m,\u001b[49m\n\u001b[1;32m      8\u001b[0m \u001b[43m    \u001b[49m\u001b[43mloss\u001b[49m\u001b[38;5;241;43m=\u001b[39;49m\u001b[43mmpc_loss_pk\u001b[49m\u001b[43m,\u001b[49m\n\u001b[1;32m      9\u001b[0m \u001b[43m    \u001b[49m\u001b[43mlambda_param\u001b[49m\u001b[38;5;241;43m=\u001b[39;49m\u001b[38;5;241;43m0\u001b[39;49m\u001b[43m,\u001b[49m\n\u001b[1;32m     10\u001b[0m \u001b[43m)\u001b[49m\n",
      "Input \u001b[0;32mIn [78]\u001b[0m, in \u001b[0;36mKoopmanMPC\u001b[0;34m(y0, tau, traj_len, soln_ref, kdv_solver, B, loss, lambda_param)\u001b[0m\n\u001b[1;32m     11\u001b[0m \u001b[38;5;28;01mfor\u001b[39;00m current_time \u001b[38;5;129;01min\u001b[39;00m tqdm(\u001b[38;5;28mrange\u001b[39m(traj_len \u001b[38;5;241m-\u001b[39m tau \u001b[38;5;241m-\u001b[39m \u001b[38;5;241m1\u001b[39m), desc\u001b[38;5;241m=\u001b[39m\u001b[38;5;124m\"\u001b[39m\u001b[38;5;124mProcessing time steps\u001b[39m\u001b[38;5;124m\"\u001b[39m):\n\u001b[1;32m     13\u001b[0m     param_init \u001b[38;5;241m=\u001b[39m (\n\u001b[1;32m     14\u001b[0m         np\u001b[38;5;241m.\u001b[39mrandom\u001b[38;5;241m.\u001b[39muniform(low\u001b[38;5;241m=\u001b[39m\u001b[38;5;241m0\u001b[39m, high\u001b[38;5;241m=\u001b[39m\u001b[38;5;241m1\u001b[39m, size\u001b[38;5;241m=\u001b[39m(tau \u001b[38;5;241m*\u001b[39m param_dim,)) \u001b[38;5;241m*\u001b[39m (umax \u001b[38;5;241m-\u001b[39m umin) \u001b[38;5;241m+\u001b[39m umin\n\u001b[1;32m     15\u001b[0m     )\n\u001b[0;32m---> 17\u001b[0m     results \u001b[38;5;241m=\u001b[39m \u001b[43mminimize\u001b[49m\u001b[43m(\u001b[49m\n\u001b[1;32m     18\u001b[0m \u001b[43m        \u001b[49m\u001b[43mloss\u001b[49m\u001b[43m,\u001b[49m\n\u001b[1;32m     19\u001b[0m \u001b[43m        \u001b[49m\u001b[43mx0\u001b[49m\u001b[38;5;241;43m=\u001b[39;49m\u001b[43mparam_init\u001b[49m\u001b[43m,\u001b[49m\n\u001b[1;32m     20\u001b[0m \u001b[43m        \u001b[49m\u001b[43margs\u001b[49m\u001b[38;5;241;43m=\u001b[39;49m\u001b[43m(\u001b[49m\n\u001b[1;32m     21\u001b[0m \u001b[43m            \u001b[49m\u001b[43mtau\u001b[49m\u001b[43m,\u001b[49m\n\u001b[1;32m     22\u001b[0m \u001b[43m            \u001b[49m\u001b[43msoln_ref\u001b[49m\u001b[43m[\u001b[49m\u001b[43mcurrent_time\u001b[49m\u001b[43m \u001b[49m\u001b[38;5;241;43m+\u001b[39;49m\u001b[43m \u001b[49m\u001b[38;5;241;43m1\u001b[39;49m\u001b[43m \u001b[49m\u001b[43m:\u001b[49m\u001b[43m \u001b[49m\u001b[43mcurrent_time\u001b[49m\u001b[43m \u001b[49m\u001b[38;5;241;43m+\u001b[39;49m\u001b[43m \u001b[49m\u001b[38;5;241;43m1\u001b[39;49m\u001b[43m \u001b[49m\u001b[38;5;241;43m+\u001b[39;49m\u001b[43m \u001b[49m\u001b[43mtau\u001b[49m\u001b[43m,\u001b[49m\u001b[43m \u001b[49m\u001b[43m:\u001b[49m\u001b[43m]\u001b[49m\u001b[43m,\u001b[49m\n\u001b[1;32m     23\u001b[0m \u001b[43m            \u001b[49m\u001b[43my0_mpc_loop_list\u001b[49m\u001b[43m[\u001b[49m\u001b[38;5;241;43m-\u001b[39;49m\u001b[38;5;241;43m1\u001b[39;49m\u001b[43m]\u001b[49m\u001b[43m,\u001b[49m\n\u001b[1;32m     24\u001b[0m \u001b[43m            \u001b[49m\u001b[43mB\u001b[49m\u001b[43m,\u001b[49m\n\u001b[1;32m     25\u001b[0m \u001b[43m            \u001b[49m\u001b[43mlambda_param\u001b[49m\u001b[43m,\u001b[49m\n\u001b[1;32m     26\u001b[0m \u001b[43m        \u001b[49m\u001b[43m)\u001b[49m\u001b[43m,\u001b[49m\n\u001b[1;32m     27\u001b[0m \u001b[43m        \u001b[49m\u001b[43mbounds\u001b[49m\u001b[38;5;241;43m=\u001b[39;49m\u001b[43mbounds\u001b[49m\u001b[43m,\u001b[49m\n\u001b[1;32m     28\u001b[0m \u001b[43m    \u001b[49m\u001b[43m)\u001b[49m\n\u001b[1;32m     30\u001b[0m     param \u001b[38;5;241m=\u001b[39m results\u001b[38;5;241m.\u001b[39mx\u001b[38;5;241m.\u001b[39mreshape(tau, param_dim)[\u001b[38;5;241m0\u001b[39m]\n\u001b[1;32m     31\u001b[0m     soln_next \u001b[38;5;241m=\u001b[39m kdv_solver(y0_mpc_loop_list[\u001b[38;5;241m-\u001b[39m\u001b[38;5;241m1\u001b[39m], T, param)\n",
      "File \u001b[0;32m~/Learning-Parametric-Koopman-Decompositions/pknn/lib/python3.8/site-packages/scipy/optimize/_minimize.py:692\u001b[0m, in \u001b[0;36mminimize\u001b[0;34m(fun, x0, args, method, jac, hess, hessp, bounds, constraints, tol, callback, options)\u001b[0m\n\u001b[1;32m    689\u001b[0m     res \u001b[38;5;241m=\u001b[39m _minimize_newtoncg(fun, x0, args, jac, hess, hessp, callback,\n\u001b[1;32m    690\u001b[0m                              \u001b[38;5;241m*\u001b[39m\u001b[38;5;241m*\u001b[39moptions)\n\u001b[1;32m    691\u001b[0m \u001b[38;5;28;01melif\u001b[39;00m meth \u001b[38;5;241m==\u001b[39m \u001b[38;5;124m'\u001b[39m\u001b[38;5;124ml-bfgs-b\u001b[39m\u001b[38;5;124m'\u001b[39m:\n\u001b[0;32m--> 692\u001b[0m     res \u001b[38;5;241m=\u001b[39m \u001b[43m_minimize_lbfgsb\u001b[49m\u001b[43m(\u001b[49m\u001b[43mfun\u001b[49m\u001b[43m,\u001b[49m\u001b[43m \u001b[49m\u001b[43mx0\u001b[49m\u001b[43m,\u001b[49m\u001b[43m \u001b[49m\u001b[43margs\u001b[49m\u001b[43m,\u001b[49m\u001b[43m \u001b[49m\u001b[43mjac\u001b[49m\u001b[43m,\u001b[49m\u001b[43m \u001b[49m\u001b[43mbounds\u001b[49m\u001b[43m,\u001b[49m\n\u001b[1;32m    693\u001b[0m \u001b[43m                           \u001b[49m\u001b[43mcallback\u001b[49m\u001b[38;5;241;43m=\u001b[39;49m\u001b[43mcallback\u001b[49m\u001b[43m,\u001b[49m\u001b[43m \u001b[49m\u001b[38;5;241;43m*\u001b[39;49m\u001b[38;5;241;43m*\u001b[39;49m\u001b[43moptions\u001b[49m\u001b[43m)\u001b[49m\n\u001b[1;32m    694\u001b[0m \u001b[38;5;28;01melif\u001b[39;00m meth \u001b[38;5;241m==\u001b[39m \u001b[38;5;124m'\u001b[39m\u001b[38;5;124mtnc\u001b[39m\u001b[38;5;124m'\u001b[39m:\n\u001b[1;32m    695\u001b[0m     res \u001b[38;5;241m=\u001b[39m _minimize_tnc(fun, x0, args, jac, bounds, callback\u001b[38;5;241m=\u001b[39mcallback,\n\u001b[1;32m    696\u001b[0m                         \u001b[38;5;241m*\u001b[39m\u001b[38;5;241m*\u001b[39moptions)\n",
      "File \u001b[0;32m~/Learning-Parametric-Koopman-Decompositions/pknn/lib/python3.8/site-packages/scipy/optimize/_lbfgsb_py.py:362\u001b[0m, in \u001b[0;36m_minimize_lbfgsb\u001b[0;34m(fun, x0, args, jac, bounds, disp, maxcor, ftol, gtol, eps, maxfun, maxiter, iprint, callback, maxls, finite_diff_rel_step, **unknown_options)\u001b[0m\n\u001b[1;32m    356\u001b[0m task_str \u001b[38;5;241m=\u001b[39m task\u001b[38;5;241m.\u001b[39mtobytes()\n\u001b[1;32m    357\u001b[0m \u001b[38;5;28;01mif\u001b[39;00m task_str\u001b[38;5;241m.\u001b[39mstartswith(\u001b[38;5;124mb\u001b[39m\u001b[38;5;124m'\u001b[39m\u001b[38;5;124mFG\u001b[39m\u001b[38;5;124m'\u001b[39m):\n\u001b[1;32m    358\u001b[0m     \u001b[38;5;66;03m# The minimization routine wants f and g at the current x.\u001b[39;00m\n\u001b[1;32m    359\u001b[0m     \u001b[38;5;66;03m# Note that interruptions due to maxfun are postponed\u001b[39;00m\n\u001b[1;32m    360\u001b[0m     \u001b[38;5;66;03m# until the completion of the current minimization iteration.\u001b[39;00m\n\u001b[1;32m    361\u001b[0m     \u001b[38;5;66;03m# Overwrite f and g:\u001b[39;00m\n\u001b[0;32m--> 362\u001b[0m     f, g \u001b[38;5;241m=\u001b[39m \u001b[43mfunc_and_grad\u001b[49m\u001b[43m(\u001b[49m\u001b[43mx\u001b[49m\u001b[43m)\u001b[49m\n\u001b[1;32m    363\u001b[0m \u001b[38;5;28;01melif\u001b[39;00m task_str\u001b[38;5;241m.\u001b[39mstartswith(\u001b[38;5;124mb\u001b[39m\u001b[38;5;124m'\u001b[39m\u001b[38;5;124mNEW_X\u001b[39m\u001b[38;5;124m'\u001b[39m):\n\u001b[1;32m    364\u001b[0m     \u001b[38;5;66;03m# new iteration\u001b[39;00m\n\u001b[1;32m    365\u001b[0m     n_iterations \u001b[38;5;241m+\u001b[39m\u001b[38;5;241m=\u001b[39m \u001b[38;5;241m1\u001b[39m\n",
      "File \u001b[0;32m~/Learning-Parametric-Koopman-Decompositions/pknn/lib/python3.8/site-packages/scipy/optimize/_differentiable_functions.py:286\u001b[0m, in \u001b[0;36mScalarFunction.fun_and_grad\u001b[0;34m(self, x)\u001b[0m\n\u001b[1;32m    284\u001b[0m     \u001b[38;5;28mself\u001b[39m\u001b[38;5;241m.\u001b[39m_update_x_impl(x)\n\u001b[1;32m    285\u001b[0m \u001b[38;5;28mself\u001b[39m\u001b[38;5;241m.\u001b[39m_update_fun()\n\u001b[0;32m--> 286\u001b[0m \u001b[38;5;28;43mself\u001b[39;49m\u001b[38;5;241;43m.\u001b[39;49m\u001b[43m_update_grad\u001b[49m\u001b[43m(\u001b[49m\u001b[43m)\u001b[49m\n\u001b[1;32m    287\u001b[0m \u001b[38;5;28;01mreturn\u001b[39;00m \u001b[38;5;28mself\u001b[39m\u001b[38;5;241m.\u001b[39mf, \u001b[38;5;28mself\u001b[39m\u001b[38;5;241m.\u001b[39mg\n",
      "File \u001b[0;32m~/Learning-Parametric-Koopman-Decompositions/pknn/lib/python3.8/site-packages/scipy/optimize/_differentiable_functions.py:256\u001b[0m, in \u001b[0;36mScalarFunction._update_grad\u001b[0;34m(self)\u001b[0m\n\u001b[1;32m    254\u001b[0m \u001b[38;5;28;01mdef\u001b[39;00m \u001b[38;5;21m_update_grad\u001b[39m(\u001b[38;5;28mself\u001b[39m):\n\u001b[1;32m    255\u001b[0m     \u001b[38;5;28;01mif\u001b[39;00m \u001b[38;5;129;01mnot\u001b[39;00m \u001b[38;5;28mself\u001b[39m\u001b[38;5;241m.\u001b[39mg_updated:\n\u001b[0;32m--> 256\u001b[0m         \u001b[38;5;28;43mself\u001b[39;49m\u001b[38;5;241;43m.\u001b[39;49m\u001b[43m_update_grad_impl\u001b[49m\u001b[43m(\u001b[49m\u001b[43m)\u001b[49m\n\u001b[1;32m    257\u001b[0m         \u001b[38;5;28mself\u001b[39m\u001b[38;5;241m.\u001b[39mg_updated \u001b[38;5;241m=\u001b[39m \u001b[38;5;28;01mTrue\u001b[39;00m\n",
      "File \u001b[0;32m~/Learning-Parametric-Koopman-Decompositions/pknn/lib/python3.8/site-packages/scipy/optimize/_differentiable_functions.py:173\u001b[0m, in \u001b[0;36mScalarFunction.__init__.<locals>.update_grad\u001b[0;34m()\u001b[0m\n\u001b[1;32m    171\u001b[0m \u001b[38;5;28mself\u001b[39m\u001b[38;5;241m.\u001b[39m_update_fun()\n\u001b[1;32m    172\u001b[0m \u001b[38;5;28mself\u001b[39m\u001b[38;5;241m.\u001b[39mngev \u001b[38;5;241m+\u001b[39m\u001b[38;5;241m=\u001b[39m \u001b[38;5;241m1\u001b[39m\n\u001b[0;32m--> 173\u001b[0m \u001b[38;5;28mself\u001b[39m\u001b[38;5;241m.\u001b[39mg \u001b[38;5;241m=\u001b[39m \u001b[43mapprox_derivative\u001b[49m\u001b[43m(\u001b[49m\u001b[43mfun_wrapped\u001b[49m\u001b[43m,\u001b[49m\u001b[43m \u001b[49m\u001b[38;5;28;43mself\u001b[39;49m\u001b[38;5;241;43m.\u001b[39;49m\u001b[43mx\u001b[49m\u001b[43m,\u001b[49m\u001b[43m \u001b[49m\u001b[43mf0\u001b[49m\u001b[38;5;241;43m=\u001b[39;49m\u001b[38;5;28;43mself\u001b[39;49m\u001b[38;5;241;43m.\u001b[39;49m\u001b[43mf\u001b[49m\u001b[43m,\u001b[49m\n\u001b[1;32m    174\u001b[0m \u001b[43m                           \u001b[49m\u001b[38;5;241;43m*\u001b[39;49m\u001b[38;5;241;43m*\u001b[39;49m\u001b[43mfinite_diff_options\u001b[49m\u001b[43m)\u001b[49m\n",
      "File \u001b[0;32m~/Learning-Parametric-Koopman-Decompositions/pknn/lib/python3.8/site-packages/scipy/optimize/_numdiff.py:505\u001b[0m, in \u001b[0;36mapprox_derivative\u001b[0;34m(fun, x0, method, rel_step, abs_step, f0, bounds, sparsity, as_linear_operator, args, kwargs)\u001b[0m\n\u001b[1;32m    502\u001b[0m     use_one_sided \u001b[38;5;241m=\u001b[39m \u001b[38;5;28;01mFalse\u001b[39;00m\n\u001b[1;32m    504\u001b[0m \u001b[38;5;28;01mif\u001b[39;00m sparsity \u001b[38;5;129;01mis\u001b[39;00m \u001b[38;5;28;01mNone\u001b[39;00m:\n\u001b[0;32m--> 505\u001b[0m     \u001b[38;5;28;01mreturn\u001b[39;00m \u001b[43m_dense_difference\u001b[49m\u001b[43m(\u001b[49m\u001b[43mfun_wrapped\u001b[49m\u001b[43m,\u001b[49m\u001b[43m \u001b[49m\u001b[43mx0\u001b[49m\u001b[43m,\u001b[49m\u001b[43m \u001b[49m\u001b[43mf0\u001b[49m\u001b[43m,\u001b[49m\u001b[43m \u001b[49m\u001b[43mh\u001b[49m\u001b[43m,\u001b[49m\n\u001b[1;32m    506\u001b[0m \u001b[43m                             \u001b[49m\u001b[43muse_one_sided\u001b[49m\u001b[43m,\u001b[49m\u001b[43m \u001b[49m\u001b[43mmethod\u001b[49m\u001b[43m)\u001b[49m\n\u001b[1;32m    507\u001b[0m \u001b[38;5;28;01melse\u001b[39;00m:\n\u001b[1;32m    508\u001b[0m     \u001b[38;5;28;01mif\u001b[39;00m \u001b[38;5;129;01mnot\u001b[39;00m issparse(sparsity) \u001b[38;5;129;01mand\u001b[39;00m \u001b[38;5;28mlen\u001b[39m(sparsity) \u001b[38;5;241m==\u001b[39m \u001b[38;5;241m2\u001b[39m:\n",
      "File \u001b[0;32m~/Learning-Parametric-Koopman-Decompositions/pknn/lib/python3.8/site-packages/scipy/optimize/_numdiff.py:576\u001b[0m, in \u001b[0;36m_dense_difference\u001b[0;34m(fun, x0, f0, h, use_one_sided, method)\u001b[0m\n\u001b[1;32m    574\u001b[0m     x \u001b[38;5;241m=\u001b[39m x0 \u001b[38;5;241m+\u001b[39m h_vecs[i]\n\u001b[1;32m    575\u001b[0m     dx \u001b[38;5;241m=\u001b[39m x[i] \u001b[38;5;241m-\u001b[39m x0[i]  \u001b[38;5;66;03m# Recompute dx as exactly representable number.\u001b[39;00m\n\u001b[0;32m--> 576\u001b[0m     df \u001b[38;5;241m=\u001b[39m \u001b[43mfun\u001b[49m\u001b[43m(\u001b[49m\u001b[43mx\u001b[49m\u001b[43m)\u001b[49m \u001b[38;5;241m-\u001b[39m f0\n\u001b[1;32m    577\u001b[0m \u001b[38;5;28;01melif\u001b[39;00m method \u001b[38;5;241m==\u001b[39m \u001b[38;5;124m'\u001b[39m\u001b[38;5;124m3-point\u001b[39m\u001b[38;5;124m'\u001b[39m \u001b[38;5;129;01mand\u001b[39;00m use_one_sided[i]:\n\u001b[1;32m    578\u001b[0m     x1 \u001b[38;5;241m=\u001b[39m x0 \u001b[38;5;241m+\u001b[39m h_vecs[i]\n",
      "File \u001b[0;32m~/Learning-Parametric-Koopman-Decompositions/pknn/lib/python3.8/site-packages/scipy/optimize/_numdiff.py:456\u001b[0m, in \u001b[0;36mapprox_derivative.<locals>.fun_wrapped\u001b[0;34m(x)\u001b[0m\n\u001b[1;32m    455\u001b[0m \u001b[38;5;28;01mdef\u001b[39;00m \u001b[38;5;21mfun_wrapped\u001b[39m(x):\n\u001b[0;32m--> 456\u001b[0m     f \u001b[38;5;241m=\u001b[39m np\u001b[38;5;241m.\u001b[39matleast_1d(\u001b[43mfun\u001b[49m\u001b[43m(\u001b[49m\u001b[43mx\u001b[49m\u001b[43m,\u001b[49m\u001b[43m \u001b[49m\u001b[38;5;241;43m*\u001b[39;49m\u001b[43margs\u001b[49m\u001b[43m,\u001b[49m\u001b[43m \u001b[49m\u001b[38;5;241;43m*\u001b[39;49m\u001b[38;5;241;43m*\u001b[39;49m\u001b[43mkwargs\u001b[49m\u001b[43m)\u001b[49m)\n\u001b[1;32m    457\u001b[0m     \u001b[38;5;28;01mif\u001b[39;00m f\u001b[38;5;241m.\u001b[39mndim \u001b[38;5;241m>\u001b[39m \u001b[38;5;241m1\u001b[39m:\n\u001b[1;32m    458\u001b[0m         \u001b[38;5;28;01mraise\u001b[39;00m \u001b[38;5;167;01mRuntimeError\u001b[39;00m(\u001b[38;5;124m\"\u001b[39m\u001b[38;5;124m`fun` return value has \u001b[39m\u001b[38;5;124m\"\u001b[39m\n\u001b[1;32m    459\u001b[0m                            \u001b[38;5;124m\"\u001b[39m\u001b[38;5;124mmore than 1 dimension.\u001b[39m\u001b[38;5;124m\"\u001b[39m)\n",
      "File \u001b[0;32m~/Learning-Parametric-Koopman-Decompositions/pknn/lib/python3.8/site-packages/scipy/optimize/_differentiable_functions.py:137\u001b[0m, in \u001b[0;36mScalarFunction.__init__.<locals>.fun_wrapped\u001b[0;34m(x)\u001b[0m\n\u001b[1;32m    133\u001b[0m \u001b[38;5;28mself\u001b[39m\u001b[38;5;241m.\u001b[39mnfev \u001b[38;5;241m+\u001b[39m\u001b[38;5;241m=\u001b[39m \u001b[38;5;241m1\u001b[39m\n\u001b[1;32m    134\u001b[0m \u001b[38;5;66;03m# Send a copy because the user may overwrite it.\u001b[39;00m\n\u001b[1;32m    135\u001b[0m \u001b[38;5;66;03m# Overwriting results in undefined behaviour because\u001b[39;00m\n\u001b[1;32m    136\u001b[0m \u001b[38;5;66;03m# fun(self.x) will change self.x, with the two no longer linked.\u001b[39;00m\n\u001b[0;32m--> 137\u001b[0m fx \u001b[38;5;241m=\u001b[39m \u001b[43mfun\u001b[49m\u001b[43m(\u001b[49m\u001b[43mnp\u001b[49m\u001b[38;5;241;43m.\u001b[39;49m\u001b[43mcopy\u001b[49m\u001b[43m(\u001b[49m\u001b[43mx\u001b[49m\u001b[43m)\u001b[49m\u001b[43m,\u001b[49m\u001b[43m \u001b[49m\u001b[38;5;241;43m*\u001b[39;49m\u001b[43margs\u001b[49m\u001b[43m)\u001b[49m\n\u001b[1;32m    138\u001b[0m \u001b[38;5;66;03m# Make sure the function returns a true scalar\u001b[39;00m\n\u001b[1;32m    139\u001b[0m \u001b[38;5;28;01mif\u001b[39;00m \u001b[38;5;129;01mnot\u001b[39;00m np\u001b[38;5;241m.\u001b[39misscalar(fx):\n",
      "Input \u001b[0;32mIn [77]\u001b[0m, in \u001b[0;36mmpc_loss_pk\u001b[0;34m(param, tau, ref_list, y0, B, lambda_param)\u001b[0m\n\u001b[1;32m      5\u001b[0m psi_y \u001b[38;5;241m=\u001b[39m dic_pk(y0)\n\u001b[1;32m      7\u001b[0m \u001b[38;5;28;01mfor\u001b[39;00m i \u001b[38;5;129;01min\u001b[39;00m \u001b[38;5;28mrange\u001b[39m(tau):\n\u001b[0;32m----> 8\u001b[0m     psi_x \u001b[38;5;241m=\u001b[39m \u001b[43mmodel_K_u_pred_pk\u001b[49m\u001b[43m(\u001b[49m\u001b[43m[\u001b[49m\u001b[43mparam\u001b[49m\u001b[43m[\u001b[49m\u001b[43mi\u001b[49m\u001b[43m]\u001b[49m\u001b[43m,\u001b[49m\u001b[43m \u001b[49m\u001b[43mpsi_y\u001b[49m\u001b[43m]\u001b[49m\u001b[43m)\u001b[49m\n\u001b[1;32m      9\u001b[0m     obs_next \u001b[38;5;241m=\u001b[39m psi_x \u001b[38;5;241m@\u001b[39m B\n\u001b[1;32m     10\u001b[0m     loss_curr \u001b[38;5;241m=\u001b[39m tf\u001b[38;5;241m.\u001b[39msquare(tf\u001b[38;5;241m.\u001b[39mnorm(ref_list[i] \u001b[38;5;241m-\u001b[39m obs_next))\n",
      "File \u001b[0;32m~/Learning-Parametric-Koopman-Decompositions/pknn/lib/python3.8/site-packages/keras/utils/traceback_utils.py:65\u001b[0m, in \u001b[0;36mfilter_traceback.<locals>.error_handler\u001b[0;34m(*args, **kwargs)\u001b[0m\n\u001b[1;32m     63\u001b[0m filtered_tb \u001b[38;5;241m=\u001b[39m \u001b[38;5;28;01mNone\u001b[39;00m\n\u001b[1;32m     64\u001b[0m \u001b[38;5;28;01mtry\u001b[39;00m:\n\u001b[0;32m---> 65\u001b[0m     \u001b[38;5;28;01mreturn\u001b[39;00m \u001b[43mfn\u001b[49m\u001b[43m(\u001b[49m\u001b[38;5;241;43m*\u001b[39;49m\u001b[43margs\u001b[49m\u001b[43m,\u001b[49m\u001b[43m \u001b[49m\u001b[38;5;241;43m*\u001b[39;49m\u001b[38;5;241;43m*\u001b[39;49m\u001b[43mkwargs\u001b[49m\u001b[43m)\u001b[49m\n\u001b[1;32m     66\u001b[0m \u001b[38;5;28;01mexcept\u001b[39;00m \u001b[38;5;167;01mException\u001b[39;00m \u001b[38;5;28;01mas\u001b[39;00m e:\n\u001b[1;32m     67\u001b[0m     filtered_tb \u001b[38;5;241m=\u001b[39m _process_traceback_frames(e\u001b[38;5;241m.\u001b[39m__traceback__)\n",
      "File \u001b[0;32m~/Learning-Parametric-Koopman-Decompositions/pknn/lib/python3.8/site-packages/keras/engine/training.py:561\u001b[0m, in \u001b[0;36mModel.__call__\u001b[0;34m(self, *args, **kwargs)\u001b[0m\n\u001b[1;32m    557\u001b[0m         \u001b[38;5;28msuper\u001b[39m()\u001b[38;5;241m.\u001b[39m\u001b[38;5;21m__call__\u001b[39m(inputs, \u001b[38;5;241m*\u001b[39mcopied_args, \u001b[38;5;241m*\u001b[39m\u001b[38;5;241m*\u001b[39mcopied_kwargs)\n\u001b[1;32m    559\u001b[0m     layout_map_lib\u001b[38;5;241m.\u001b[39m_map_subclass_model_variable(\u001b[38;5;28mself\u001b[39m, \u001b[38;5;28mself\u001b[39m\u001b[38;5;241m.\u001b[39m_layout_map)\n\u001b[0;32m--> 561\u001b[0m \u001b[38;5;28;01mreturn\u001b[39;00m \u001b[38;5;28;43msuper\u001b[39;49m\u001b[43m(\u001b[49m\u001b[43m)\u001b[49m\u001b[38;5;241;43m.\u001b[39;49m\u001b[38;5;21;43m__call__\u001b[39;49m\u001b[43m(\u001b[49m\u001b[38;5;241;43m*\u001b[39;49m\u001b[43margs\u001b[49m\u001b[43m,\u001b[49m\u001b[43m \u001b[49m\u001b[38;5;241;43m*\u001b[39;49m\u001b[38;5;241;43m*\u001b[39;49m\u001b[43mkwargs\u001b[49m\u001b[43m)\u001b[49m\n",
      "File \u001b[0;32m~/Learning-Parametric-Koopman-Decompositions/pknn/lib/python3.8/site-packages/keras/utils/traceback_utils.py:65\u001b[0m, in \u001b[0;36mfilter_traceback.<locals>.error_handler\u001b[0;34m(*args, **kwargs)\u001b[0m\n\u001b[1;32m     63\u001b[0m filtered_tb \u001b[38;5;241m=\u001b[39m \u001b[38;5;28;01mNone\u001b[39;00m\n\u001b[1;32m     64\u001b[0m \u001b[38;5;28;01mtry\u001b[39;00m:\n\u001b[0;32m---> 65\u001b[0m     \u001b[38;5;28;01mreturn\u001b[39;00m \u001b[43mfn\u001b[49m\u001b[43m(\u001b[49m\u001b[38;5;241;43m*\u001b[39;49m\u001b[43margs\u001b[49m\u001b[43m,\u001b[49m\u001b[43m \u001b[49m\u001b[38;5;241;43m*\u001b[39;49m\u001b[38;5;241;43m*\u001b[39;49m\u001b[43mkwargs\u001b[49m\u001b[43m)\u001b[49m\n\u001b[1;32m     66\u001b[0m \u001b[38;5;28;01mexcept\u001b[39;00m \u001b[38;5;167;01mException\u001b[39;00m \u001b[38;5;28;01mas\u001b[39;00m e:\n\u001b[1;32m     67\u001b[0m     filtered_tb \u001b[38;5;241m=\u001b[39m _process_traceback_frames(e\u001b[38;5;241m.\u001b[39m__traceback__)\n",
      "File \u001b[0;32m~/Learning-Parametric-Koopman-Decompositions/pknn/lib/python3.8/site-packages/keras/engine/base_layer.py:1132\u001b[0m, in \u001b[0;36mLayer.__call__\u001b[0;34m(self, *args, **kwargs)\u001b[0m\n\u001b[1;32m   1127\u001b[0m     inputs \u001b[38;5;241m=\u001b[39m \u001b[38;5;28mself\u001b[39m\u001b[38;5;241m.\u001b[39m_maybe_cast_inputs(inputs, input_list)\n\u001b[1;32m   1129\u001b[0m \u001b[38;5;28;01mwith\u001b[39;00m autocast_variable\u001b[38;5;241m.\u001b[39menable_auto_cast_variables(\n\u001b[1;32m   1130\u001b[0m     \u001b[38;5;28mself\u001b[39m\u001b[38;5;241m.\u001b[39m_compute_dtype_object\n\u001b[1;32m   1131\u001b[0m ):\n\u001b[0;32m-> 1132\u001b[0m     outputs \u001b[38;5;241m=\u001b[39m \u001b[43mcall_fn\u001b[49m\u001b[43m(\u001b[49m\u001b[43minputs\u001b[49m\u001b[43m,\u001b[49m\u001b[43m \u001b[49m\u001b[38;5;241;43m*\u001b[39;49m\u001b[43margs\u001b[49m\u001b[43m,\u001b[49m\u001b[43m \u001b[49m\u001b[38;5;241;43m*\u001b[39;49m\u001b[38;5;241;43m*\u001b[39;49m\u001b[43mkwargs\u001b[49m\u001b[43m)\u001b[49m\n\u001b[1;32m   1134\u001b[0m \u001b[38;5;28;01mif\u001b[39;00m \u001b[38;5;28mself\u001b[39m\u001b[38;5;241m.\u001b[39m_activity_regularizer:\n\u001b[1;32m   1135\u001b[0m     \u001b[38;5;28mself\u001b[39m\u001b[38;5;241m.\u001b[39m_handle_activity_regularization(inputs, outputs)\n",
      "File \u001b[0;32m~/Learning-Parametric-Koopman-Decompositions/pknn/lib/python3.8/site-packages/keras/utils/traceback_utils.py:96\u001b[0m, in \u001b[0;36minject_argument_info_in_traceback.<locals>.error_handler\u001b[0;34m(*args, **kwargs)\u001b[0m\n\u001b[1;32m     94\u001b[0m bound_signature \u001b[38;5;241m=\u001b[39m \u001b[38;5;28;01mNone\u001b[39;00m\n\u001b[1;32m     95\u001b[0m \u001b[38;5;28;01mtry\u001b[39;00m:\n\u001b[0;32m---> 96\u001b[0m     \u001b[38;5;28;01mreturn\u001b[39;00m \u001b[43mfn\u001b[49m\u001b[43m(\u001b[49m\u001b[38;5;241;43m*\u001b[39;49m\u001b[43margs\u001b[49m\u001b[43m,\u001b[49m\u001b[43m \u001b[49m\u001b[38;5;241;43m*\u001b[39;49m\u001b[38;5;241;43m*\u001b[39;49m\u001b[43mkwargs\u001b[49m\u001b[43m)\u001b[49m\n\u001b[1;32m     97\u001b[0m \u001b[38;5;28;01mexcept\u001b[39;00m \u001b[38;5;167;01mException\u001b[39;00m \u001b[38;5;28;01mas\u001b[39;00m e:\n\u001b[1;32m     98\u001b[0m     \u001b[38;5;28;01mif\u001b[39;00m \u001b[38;5;28mhasattr\u001b[39m(e, \u001b[38;5;124m\"\u001b[39m\u001b[38;5;124m_keras_call_info_injected\u001b[39m\u001b[38;5;124m\"\u001b[39m):\n\u001b[1;32m     99\u001b[0m         \u001b[38;5;66;03m# Only inject info for the innermost failing call\u001b[39;00m\n",
      "File \u001b[0;32m~/Learning-Parametric-Koopman-Decompositions/pknn/lib/python3.8/site-packages/keras/engine/functional.py:511\u001b[0m, in \u001b[0;36mFunctional.call\u001b[0;34m(self, inputs, training, mask)\u001b[0m\n\u001b[1;32m    492\u001b[0m \u001b[38;5;129m@doc_controls\u001b[39m\u001b[38;5;241m.\u001b[39mdo_not_doc_inheritable\n\u001b[1;32m    493\u001b[0m \u001b[38;5;28;01mdef\u001b[39;00m \u001b[38;5;21mcall\u001b[39m(\u001b[38;5;28mself\u001b[39m, inputs, training\u001b[38;5;241m=\u001b[39m\u001b[38;5;28;01mNone\u001b[39;00m, mask\u001b[38;5;241m=\u001b[39m\u001b[38;5;28;01mNone\u001b[39;00m):\n\u001b[1;32m    494\u001b[0m     \u001b[38;5;124;03m\"\"\"Calls the model on new inputs.\u001b[39;00m\n\u001b[1;32m    495\u001b[0m \n\u001b[1;32m    496\u001b[0m \u001b[38;5;124;03m    In this case `call` just reapplies\u001b[39;00m\n\u001b[0;32m   (...)\u001b[0m\n\u001b[1;32m    509\u001b[0m \u001b[38;5;124;03m        a list of tensors if there are more than one outputs.\u001b[39;00m\n\u001b[1;32m    510\u001b[0m \u001b[38;5;124;03m    \"\"\"\u001b[39;00m\n\u001b[0;32m--> 511\u001b[0m     \u001b[38;5;28;01mreturn\u001b[39;00m \u001b[38;5;28;43mself\u001b[39;49m\u001b[38;5;241;43m.\u001b[39;49m\u001b[43m_run_internal_graph\u001b[49m\u001b[43m(\u001b[49m\u001b[43minputs\u001b[49m\u001b[43m,\u001b[49m\u001b[43m \u001b[49m\u001b[43mtraining\u001b[49m\u001b[38;5;241;43m=\u001b[39;49m\u001b[43mtraining\u001b[49m\u001b[43m,\u001b[49m\u001b[43m \u001b[49m\u001b[43mmask\u001b[49m\u001b[38;5;241;43m=\u001b[39;49m\u001b[43mmask\u001b[49m\u001b[43m)\u001b[49m\n",
      "File \u001b[0;32m~/Learning-Parametric-Koopman-Decompositions/pknn/lib/python3.8/site-packages/keras/engine/functional.py:668\u001b[0m, in \u001b[0;36mFunctional._run_internal_graph\u001b[0;34m(self, inputs, training, mask)\u001b[0m\n\u001b[1;32m    665\u001b[0m     \u001b[38;5;28;01mcontinue\u001b[39;00m  \u001b[38;5;66;03m# Node is not computable, try skipping.\u001b[39;00m\n\u001b[1;32m    667\u001b[0m args, kwargs \u001b[38;5;241m=\u001b[39m node\u001b[38;5;241m.\u001b[39mmap_arguments(tensor_dict)\n\u001b[0;32m--> 668\u001b[0m outputs \u001b[38;5;241m=\u001b[39m \u001b[43mnode\u001b[49m\u001b[38;5;241;43m.\u001b[39;49m\u001b[43mlayer\u001b[49m\u001b[43m(\u001b[49m\u001b[38;5;241;43m*\u001b[39;49m\u001b[43margs\u001b[49m\u001b[43m,\u001b[49m\u001b[43m \u001b[49m\u001b[38;5;241;43m*\u001b[39;49m\u001b[38;5;241;43m*\u001b[39;49m\u001b[43mkwargs\u001b[49m\u001b[43m)\u001b[49m\n\u001b[1;32m    670\u001b[0m \u001b[38;5;66;03m# Update tensor_dict.\u001b[39;00m\n\u001b[1;32m    671\u001b[0m \u001b[38;5;28;01mfor\u001b[39;00m x_id, y \u001b[38;5;129;01min\u001b[39;00m \u001b[38;5;28mzip\u001b[39m(\n\u001b[1;32m    672\u001b[0m     node\u001b[38;5;241m.\u001b[39mflat_output_ids, tf\u001b[38;5;241m.\u001b[39mnest\u001b[38;5;241m.\u001b[39mflatten(outputs)\n\u001b[1;32m    673\u001b[0m ):\n",
      "File \u001b[0;32m~/Learning-Parametric-Koopman-Decompositions/pknn/lib/python3.8/site-packages/keras/utils/traceback_utils.py:65\u001b[0m, in \u001b[0;36mfilter_traceback.<locals>.error_handler\u001b[0;34m(*args, **kwargs)\u001b[0m\n\u001b[1;32m     63\u001b[0m filtered_tb \u001b[38;5;241m=\u001b[39m \u001b[38;5;28;01mNone\u001b[39;00m\n\u001b[1;32m     64\u001b[0m \u001b[38;5;28;01mtry\u001b[39;00m:\n\u001b[0;32m---> 65\u001b[0m     \u001b[38;5;28;01mreturn\u001b[39;00m \u001b[43mfn\u001b[49m\u001b[43m(\u001b[49m\u001b[38;5;241;43m*\u001b[39;49m\u001b[43margs\u001b[49m\u001b[43m,\u001b[49m\u001b[43m \u001b[49m\u001b[38;5;241;43m*\u001b[39;49m\u001b[38;5;241;43m*\u001b[39;49m\u001b[43mkwargs\u001b[49m\u001b[43m)\u001b[49m\n\u001b[1;32m     66\u001b[0m \u001b[38;5;28;01mexcept\u001b[39;00m \u001b[38;5;167;01mException\u001b[39;00m \u001b[38;5;28;01mas\u001b[39;00m e:\n\u001b[1;32m     67\u001b[0m     filtered_tb \u001b[38;5;241m=\u001b[39m _process_traceback_frames(e\u001b[38;5;241m.\u001b[39m__traceback__)\n",
      "File \u001b[0;32m~/Learning-Parametric-Koopman-Decompositions/pknn/lib/python3.8/site-packages/keras/engine/base_layer.py:1132\u001b[0m, in \u001b[0;36mLayer.__call__\u001b[0;34m(self, *args, **kwargs)\u001b[0m\n\u001b[1;32m   1127\u001b[0m     inputs \u001b[38;5;241m=\u001b[39m \u001b[38;5;28mself\u001b[39m\u001b[38;5;241m.\u001b[39m_maybe_cast_inputs(inputs, input_list)\n\u001b[1;32m   1129\u001b[0m \u001b[38;5;28;01mwith\u001b[39;00m autocast_variable\u001b[38;5;241m.\u001b[39menable_auto_cast_variables(\n\u001b[1;32m   1130\u001b[0m     \u001b[38;5;28mself\u001b[39m\u001b[38;5;241m.\u001b[39m_compute_dtype_object\n\u001b[1;32m   1131\u001b[0m ):\n\u001b[0;32m-> 1132\u001b[0m     outputs \u001b[38;5;241m=\u001b[39m \u001b[43mcall_fn\u001b[49m\u001b[43m(\u001b[49m\u001b[43minputs\u001b[49m\u001b[43m,\u001b[49m\u001b[43m \u001b[49m\u001b[38;5;241;43m*\u001b[39;49m\u001b[43margs\u001b[49m\u001b[43m,\u001b[49m\u001b[43m \u001b[49m\u001b[38;5;241;43m*\u001b[39;49m\u001b[38;5;241;43m*\u001b[39;49m\u001b[43mkwargs\u001b[49m\u001b[43m)\u001b[49m\n\u001b[1;32m   1134\u001b[0m \u001b[38;5;28;01mif\u001b[39;00m \u001b[38;5;28mself\u001b[39m\u001b[38;5;241m.\u001b[39m_activity_regularizer:\n\u001b[1;32m   1135\u001b[0m     \u001b[38;5;28mself\u001b[39m\u001b[38;5;241m.\u001b[39m_handle_activity_regularization(inputs, outputs)\n",
      "File \u001b[0;32m~/Learning-Parametric-Koopman-Decompositions/pknn/lib/python3.8/site-packages/keras/utils/traceback_utils.py:96\u001b[0m, in \u001b[0;36minject_argument_info_in_traceback.<locals>.error_handler\u001b[0;34m(*args, **kwargs)\u001b[0m\n\u001b[1;32m     94\u001b[0m bound_signature \u001b[38;5;241m=\u001b[39m \u001b[38;5;28;01mNone\u001b[39;00m\n\u001b[1;32m     95\u001b[0m \u001b[38;5;28;01mtry\u001b[39;00m:\n\u001b[0;32m---> 96\u001b[0m     \u001b[38;5;28;01mreturn\u001b[39;00m \u001b[43mfn\u001b[49m\u001b[43m(\u001b[49m\u001b[38;5;241;43m*\u001b[39;49m\u001b[43margs\u001b[49m\u001b[43m,\u001b[49m\u001b[43m \u001b[49m\u001b[38;5;241;43m*\u001b[39;49m\u001b[38;5;241;43m*\u001b[39;49m\u001b[43mkwargs\u001b[49m\u001b[43m)\u001b[49m\n\u001b[1;32m     97\u001b[0m \u001b[38;5;28;01mexcept\u001b[39;00m \u001b[38;5;167;01mException\u001b[39;00m \u001b[38;5;28;01mas\u001b[39;00m e:\n\u001b[1;32m     98\u001b[0m     \u001b[38;5;28;01mif\u001b[39;00m \u001b[38;5;28mhasattr\u001b[39m(e, \u001b[38;5;124m\"\u001b[39m\u001b[38;5;124m_keras_call_info_injected\u001b[39m\u001b[38;5;124m\"\u001b[39m):\n\u001b[1;32m     99\u001b[0m         \u001b[38;5;66;03m# Only inject info for the innermost failing call\u001b[39;00m\n",
      "File \u001b[0;32m~/Learning-Parametric-Koopman-Decompositions/src/koopmanlib/K_structure.py:47\u001b[0m, in \u001b[0;36mModel_K_u_Layer_One.call\u001b[0;34m(self, inputs)\u001b[0m\n\u001b[1;32m     45\u001b[0m \u001b[38;5;28;01mfor\u001b[39;00m layer \u001b[38;5;129;01min\u001b[39;00m \u001b[38;5;28mself\u001b[39m\u001b[38;5;241m.\u001b[39mhidden_layers:\n\u001b[1;32m     46\u001b[0m     hidden_u \u001b[38;5;241m=\u001b[39m layer(hidden_u)\n\u001b[0;32m---> 47\u001b[0m K_u_entry \u001b[38;5;241m=\u001b[39m \u001b[38;5;28;43mself\u001b[39;49m\u001b[38;5;241;43m.\u001b[39;49m\u001b[43moutput_layer\u001b[49m\u001b[43m(\u001b[49m\u001b[43mhidden_u\u001b[49m\u001b[43m)\u001b[49m\n\u001b[1;32m     48\u001b[0m K_u \u001b[38;5;241m=\u001b[39m tf\u001b[38;5;241m.\u001b[39mreshape(K_u_entry, shape\u001b[38;5;241m=\u001b[39m(\u001b[38;5;241m-\u001b[39m\u001b[38;5;241m1\u001b[39m, \u001b[38;5;28mself\u001b[39m\u001b[38;5;241m.\u001b[39mn_psi, \u001b[38;5;28mself\u001b[39m\u001b[38;5;241m.\u001b[39mn_psi \u001b[38;5;241m-\u001b[39m \u001b[38;5;241m1\u001b[39m))\n\u001b[1;32m     49\u001b[0m Constant_one \u001b[38;5;241m=\u001b[39m tf\u001b[38;5;241m.\u001b[39mconstant([[\u001b[38;5;241m1\u001b[39m]] \u001b[38;5;241m+\u001b[39m [[\u001b[38;5;241m0\u001b[39m]] \u001b[38;5;241m*\u001b[39m (\u001b[38;5;28mself\u001b[39m\u001b[38;5;241m.\u001b[39mn_psi \u001b[38;5;241m-\u001b[39m \u001b[38;5;241m1\u001b[39m), dtype\u001b[38;5;241m=\u001b[39m\u001b[38;5;124m\"\u001b[39m\u001b[38;5;124mfloat64\u001b[39m\u001b[38;5;124m\"\u001b[39m)\n",
      "File \u001b[0;32m~/Learning-Parametric-Koopman-Decompositions/pknn/lib/python3.8/site-packages/keras/utils/traceback_utils.py:65\u001b[0m, in \u001b[0;36mfilter_traceback.<locals>.error_handler\u001b[0;34m(*args, **kwargs)\u001b[0m\n\u001b[1;32m     63\u001b[0m filtered_tb \u001b[38;5;241m=\u001b[39m \u001b[38;5;28;01mNone\u001b[39;00m\n\u001b[1;32m     64\u001b[0m \u001b[38;5;28;01mtry\u001b[39;00m:\n\u001b[0;32m---> 65\u001b[0m     \u001b[38;5;28;01mreturn\u001b[39;00m \u001b[43mfn\u001b[49m\u001b[43m(\u001b[49m\u001b[38;5;241;43m*\u001b[39;49m\u001b[43margs\u001b[49m\u001b[43m,\u001b[49m\u001b[43m \u001b[49m\u001b[38;5;241;43m*\u001b[39;49m\u001b[38;5;241;43m*\u001b[39;49m\u001b[43mkwargs\u001b[49m\u001b[43m)\u001b[49m\n\u001b[1;32m     66\u001b[0m \u001b[38;5;28;01mexcept\u001b[39;00m \u001b[38;5;167;01mException\u001b[39;00m \u001b[38;5;28;01mas\u001b[39;00m e:\n\u001b[1;32m     67\u001b[0m     filtered_tb \u001b[38;5;241m=\u001b[39m _process_traceback_frames(e\u001b[38;5;241m.\u001b[39m__traceback__)\n",
      "File \u001b[0;32m~/Learning-Parametric-Koopman-Decompositions/pknn/lib/python3.8/site-packages/keras/engine/base_layer.py:1132\u001b[0m, in \u001b[0;36mLayer.__call__\u001b[0;34m(self, *args, **kwargs)\u001b[0m\n\u001b[1;32m   1127\u001b[0m     inputs \u001b[38;5;241m=\u001b[39m \u001b[38;5;28mself\u001b[39m\u001b[38;5;241m.\u001b[39m_maybe_cast_inputs(inputs, input_list)\n\u001b[1;32m   1129\u001b[0m \u001b[38;5;28;01mwith\u001b[39;00m autocast_variable\u001b[38;5;241m.\u001b[39menable_auto_cast_variables(\n\u001b[1;32m   1130\u001b[0m     \u001b[38;5;28mself\u001b[39m\u001b[38;5;241m.\u001b[39m_compute_dtype_object\n\u001b[1;32m   1131\u001b[0m ):\n\u001b[0;32m-> 1132\u001b[0m     outputs \u001b[38;5;241m=\u001b[39m \u001b[43mcall_fn\u001b[49m\u001b[43m(\u001b[49m\u001b[43minputs\u001b[49m\u001b[43m,\u001b[49m\u001b[43m \u001b[49m\u001b[38;5;241;43m*\u001b[39;49m\u001b[43margs\u001b[49m\u001b[43m,\u001b[49m\u001b[43m \u001b[49m\u001b[38;5;241;43m*\u001b[39;49m\u001b[38;5;241;43m*\u001b[39;49m\u001b[43mkwargs\u001b[49m\u001b[43m)\u001b[49m\n\u001b[1;32m   1134\u001b[0m \u001b[38;5;28;01mif\u001b[39;00m \u001b[38;5;28mself\u001b[39m\u001b[38;5;241m.\u001b[39m_activity_regularizer:\n\u001b[1;32m   1135\u001b[0m     \u001b[38;5;28mself\u001b[39m\u001b[38;5;241m.\u001b[39m_handle_activity_regularization(inputs, outputs)\n",
      "File \u001b[0;32m~/Learning-Parametric-Koopman-Decompositions/pknn/lib/python3.8/site-packages/keras/utils/traceback_utils.py:96\u001b[0m, in \u001b[0;36minject_argument_info_in_traceback.<locals>.error_handler\u001b[0;34m(*args, **kwargs)\u001b[0m\n\u001b[1;32m     94\u001b[0m bound_signature \u001b[38;5;241m=\u001b[39m \u001b[38;5;28;01mNone\u001b[39;00m\n\u001b[1;32m     95\u001b[0m \u001b[38;5;28;01mtry\u001b[39;00m:\n\u001b[0;32m---> 96\u001b[0m     \u001b[38;5;28;01mreturn\u001b[39;00m \u001b[43mfn\u001b[49m\u001b[43m(\u001b[49m\u001b[38;5;241;43m*\u001b[39;49m\u001b[43margs\u001b[49m\u001b[43m,\u001b[49m\u001b[43m \u001b[49m\u001b[38;5;241;43m*\u001b[39;49m\u001b[38;5;241;43m*\u001b[39;49m\u001b[43mkwargs\u001b[49m\u001b[43m)\u001b[49m\n\u001b[1;32m     97\u001b[0m \u001b[38;5;28;01mexcept\u001b[39;00m \u001b[38;5;167;01mException\u001b[39;00m \u001b[38;5;28;01mas\u001b[39;00m e:\n\u001b[1;32m     98\u001b[0m     \u001b[38;5;28;01mif\u001b[39;00m \u001b[38;5;28mhasattr\u001b[39m(e, \u001b[38;5;124m\"\u001b[39m\u001b[38;5;124m_keras_call_info_injected\u001b[39m\u001b[38;5;124m\"\u001b[39m):\n\u001b[1;32m     99\u001b[0m         \u001b[38;5;66;03m# Only inject info for the innermost failing call\u001b[39;00m\n",
      "File \u001b[0;32m~/Learning-Parametric-Koopman-Decompositions/pknn/lib/python3.8/site-packages/keras/layers/core/dense.py:252\u001b[0m, in \u001b[0;36mDense.call\u001b[0;34m(self, inputs)\u001b[0m\n\u001b[1;32m    249\u001b[0m         outputs\u001b[38;5;241m.\u001b[39mset_shape(output_shape)\n\u001b[1;32m    251\u001b[0m \u001b[38;5;28;01mif\u001b[39;00m \u001b[38;5;28mself\u001b[39m\u001b[38;5;241m.\u001b[39muse_bias:\n\u001b[0;32m--> 252\u001b[0m     outputs \u001b[38;5;241m=\u001b[39m \u001b[43mtf\u001b[49m\u001b[38;5;241;43m.\u001b[39;49m\u001b[43mnn\u001b[49m\u001b[38;5;241;43m.\u001b[39;49m\u001b[43mbias_add\u001b[49m\u001b[43m(\u001b[49m\u001b[43moutputs\u001b[49m\u001b[43m,\u001b[49m\u001b[43m \u001b[49m\u001b[38;5;28;43mself\u001b[39;49m\u001b[38;5;241;43m.\u001b[39;49m\u001b[43mbias\u001b[49m\u001b[43m)\u001b[49m\n\u001b[1;32m    254\u001b[0m \u001b[38;5;28;01mif\u001b[39;00m \u001b[38;5;28mself\u001b[39m\u001b[38;5;241m.\u001b[39mactivation \u001b[38;5;129;01mis\u001b[39;00m \u001b[38;5;129;01mnot\u001b[39;00m \u001b[38;5;28;01mNone\u001b[39;00m:\n\u001b[1;32m    255\u001b[0m     outputs \u001b[38;5;241m=\u001b[39m \u001b[38;5;28mself\u001b[39m\u001b[38;5;241m.\u001b[39mactivation(outputs)\n",
      "File \u001b[0;32m~/Learning-Parametric-Koopman-Decompositions/pknn/lib/python3.8/site-packages/tensorflow/python/util/traceback_utils.py:150\u001b[0m, in \u001b[0;36mfilter_traceback.<locals>.error_handler\u001b[0;34m(*args, **kwargs)\u001b[0m\n\u001b[1;32m    148\u001b[0m filtered_tb \u001b[38;5;241m=\u001b[39m \u001b[38;5;28;01mNone\u001b[39;00m\n\u001b[1;32m    149\u001b[0m \u001b[38;5;28;01mtry\u001b[39;00m:\n\u001b[0;32m--> 150\u001b[0m   \u001b[38;5;28;01mreturn\u001b[39;00m \u001b[43mfn\u001b[49m\u001b[43m(\u001b[49m\u001b[38;5;241;43m*\u001b[39;49m\u001b[43margs\u001b[49m\u001b[43m,\u001b[49m\u001b[43m \u001b[49m\u001b[38;5;241;43m*\u001b[39;49m\u001b[38;5;241;43m*\u001b[39;49m\u001b[43mkwargs\u001b[49m\u001b[43m)\u001b[49m\n\u001b[1;32m    151\u001b[0m \u001b[38;5;28;01mexcept\u001b[39;00m \u001b[38;5;167;01mException\u001b[39;00m \u001b[38;5;28;01mas\u001b[39;00m e:\n\u001b[1;32m    152\u001b[0m   filtered_tb \u001b[38;5;241m=\u001b[39m _process_traceback_frames(e\u001b[38;5;241m.\u001b[39m__traceback__)\n",
      "File \u001b[0;32m~/Learning-Parametric-Koopman-Decompositions/pknn/lib/python3.8/site-packages/tensorflow/python/util/dispatch.py:1176\u001b[0m, in \u001b[0;36madd_dispatch_support.<locals>.decorator.<locals>.op_dispatch_handler\u001b[0;34m(*args, **kwargs)\u001b[0m\n\u001b[1;32m   1174\u001b[0m \u001b[38;5;66;03m# Fallback dispatch system (dispatch v1):\u001b[39;00m\n\u001b[1;32m   1175\u001b[0m \u001b[38;5;28;01mtry\u001b[39;00m:\n\u001b[0;32m-> 1176\u001b[0m   \u001b[38;5;28;01mreturn\u001b[39;00m \u001b[43mdispatch_target\u001b[49m\u001b[43m(\u001b[49m\u001b[38;5;241;43m*\u001b[39;49m\u001b[43margs\u001b[49m\u001b[43m,\u001b[49m\u001b[43m \u001b[49m\u001b[38;5;241;43m*\u001b[39;49m\u001b[38;5;241;43m*\u001b[39;49m\u001b[43mkwargs\u001b[49m\u001b[43m)\u001b[49m\n\u001b[1;32m   1177\u001b[0m \u001b[38;5;28;01mexcept\u001b[39;00m (\u001b[38;5;167;01mTypeError\u001b[39;00m, \u001b[38;5;167;01mValueError\u001b[39;00m):\n\u001b[1;32m   1178\u001b[0m   \u001b[38;5;66;03m# Note: convert_to_eager_tensor currently raises a ValueError, not a\u001b[39;00m\n\u001b[1;32m   1179\u001b[0m   \u001b[38;5;66;03m# TypeError, when given unexpected types.  So we need to catch both.\u001b[39;00m\n\u001b[1;32m   1180\u001b[0m   result \u001b[38;5;241m=\u001b[39m dispatch(op_dispatch_handler, args, kwargs)\n",
      "File \u001b[0;32m~/Learning-Parametric-Koopman-Decompositions/pknn/lib/python3.8/site-packages/tensorflow/python/ops/nn_ops.py:3554\u001b[0m, in \u001b[0;36mbias_add\u001b[0;34m(value, bias, data_format, name)\u001b[0m\n\u001b[1;32m   3551\u001b[0m   value \u001b[38;5;241m=\u001b[39m ops\u001b[38;5;241m.\u001b[39mconvert_to_tensor(value, name\u001b[38;5;241m=\u001b[39m\u001b[38;5;124m\"\u001b[39m\u001b[38;5;124minput\u001b[39m\u001b[38;5;124m\"\u001b[39m)\n\u001b[1;32m   3552\u001b[0m   bias \u001b[38;5;241m=\u001b[39m ops\u001b[38;5;241m.\u001b[39mconvert_to_tensor(bias, dtype\u001b[38;5;241m=\u001b[39mvalue\u001b[38;5;241m.\u001b[39mdtype, name\u001b[38;5;241m=\u001b[39m\u001b[38;5;124m\"\u001b[39m\u001b[38;5;124mbias\u001b[39m\u001b[38;5;124m\"\u001b[39m)\n\u001b[0;32m-> 3554\u001b[0m \u001b[38;5;28;01mreturn\u001b[39;00m \u001b[43mgen_nn_ops\u001b[49m\u001b[38;5;241;43m.\u001b[39;49m\u001b[43mbias_add\u001b[49m\u001b[43m(\u001b[49m\u001b[43mvalue\u001b[49m\u001b[43m,\u001b[49m\u001b[43m \u001b[49m\u001b[43mbias\u001b[49m\u001b[43m,\u001b[49m\u001b[43m \u001b[49m\u001b[43mdata_format\u001b[49m\u001b[38;5;241;43m=\u001b[39;49m\u001b[43mdata_format\u001b[49m\u001b[43m,\u001b[49m\u001b[43m \u001b[49m\u001b[43mname\u001b[49m\u001b[38;5;241;43m=\u001b[39;49m\u001b[43mname\u001b[49m\u001b[43m)\u001b[49m\n",
      "File \u001b[0;32m~/Learning-Parametric-Koopman-Decompositions/pknn/lib/python3.8/site-packages/tensorflow/python/ops/gen_nn_ops.py:850\u001b[0m, in \u001b[0;36mbias_add\u001b[0;34m(value, bias, data_format, name)\u001b[0m\n\u001b[1;32m    848\u001b[0m \u001b[38;5;28;01mif\u001b[39;00m tld\u001b[38;5;241m.\u001b[39mis_eager:\n\u001b[1;32m    849\u001b[0m   \u001b[38;5;28;01mtry\u001b[39;00m:\n\u001b[0;32m--> 850\u001b[0m     _result \u001b[38;5;241m=\u001b[39m \u001b[43mpywrap_tfe\u001b[49m\u001b[38;5;241;43m.\u001b[39;49m\u001b[43mTFE_Py_FastPathExecute\u001b[49m\u001b[43m(\u001b[49m\n\u001b[1;32m    851\u001b[0m \u001b[43m      \u001b[49m\u001b[43m_ctx\u001b[49m\u001b[43m,\u001b[49m\u001b[43m \u001b[49m\u001b[38;5;124;43m\"\u001b[39;49m\u001b[38;5;124;43mBiasAdd\u001b[39;49m\u001b[38;5;124;43m\"\u001b[39;49m\u001b[43m,\u001b[49m\u001b[43m \u001b[49m\u001b[43mname\u001b[49m\u001b[43m,\u001b[49m\u001b[43m \u001b[49m\u001b[43mvalue\u001b[49m\u001b[43m,\u001b[49m\u001b[43m \u001b[49m\u001b[43mbias\u001b[49m\u001b[43m,\u001b[49m\u001b[43m \u001b[49m\u001b[38;5;124;43m\"\u001b[39;49m\u001b[38;5;124;43mdata_format\u001b[39;49m\u001b[38;5;124;43m\"\u001b[39;49m\u001b[43m,\u001b[49m\u001b[43m \u001b[49m\u001b[43mdata_format\u001b[49m\u001b[43m)\u001b[49m\n\u001b[1;32m    852\u001b[0m     \u001b[38;5;28;01mreturn\u001b[39;00m _result\n\u001b[1;32m    853\u001b[0m   \u001b[38;5;28;01mexcept\u001b[39;00m _core\u001b[38;5;241m.\u001b[39m_NotOkStatusException \u001b[38;5;28;01mas\u001b[39;00m e:\n",
      "\u001b[0;31mKeyboardInterrupt\u001b[0m: "
     ]
    }
   ],
   "source": [
    "pk_opt_control_momentum_0, pk_kdv_opt_momentum_soln_0 = KoopmanMPC(\n",
    "    y0=y0_track,\n",
    "    tau=tau,\n",
    "    traj_len=traj_len_track,\n",
    "    soln_ref=momentum_ref,\n",
    "    kdv_solver=kdv.kdv_solution,\n",
    "    B=B_momentum,\n",
    "    loss=mpc_loss_pk,\n",
    "    lambda_param=0,\n",
    ")"
   ]
  },
  {
   "cell_type": "code",
   "execution_count": null,
   "metadata": {},
   "outputs": [
    {
     "name": "stderr",
     "output_type": "stream",
     "text": [
      "Processing time steps:   0%|          | 0/998 [00:00<?, ?it/s]"
     ]
    },
    {
     "name": "stderr",
     "output_type": "stream",
     "text": [
      "Processing time steps: 100%|██████████| 998/998 [04:57<00:00,  3.35it/s]\n"
     ]
    }
   ],
   "source": [
    "pk_opt_control_momentum_5, pk_kdv_opt_momentum_soln_5 = KoopmanMPC(\n",
    "    y0=y0_track,\n",
    "    tau=tau,\n",
    "    traj_len=traj_len_track,\n",
    "    soln_ref=momentum_ref,\n",
    "    kdv_solver=kdv.kdv_solution,\n",
    "    B=B_momentum,\n",
    "    loss=mpc_loss_pk,\n",
    "    lambda_param=0.005,\n",
    ")"
   ]
  },
  {
   "cell_type": "code",
   "execution_count": null,
   "metadata": {},
   "outputs": [
    {
     "ename": "NameError",
     "evalue": "name 'lambda_param' is not defined",
     "output_type": "error",
     "traceback": [
      "\u001b[0;31m---------------------------------------------------------------------------\u001b[0m",
      "\u001b[0;31mNameError\u001b[0m                                 Traceback (most recent call last)",
      "Input \u001b[0;32mIn [49]\u001b[0m, in \u001b[0;36m<cell line: 1>\u001b[0;34m()\u001b[0m\n\u001b[1;32m      1\u001b[0m linear_opt_control_momentum_0, linear_kdv_opt_momentum_soln_0 \u001b[38;5;241m=\u001b[39m KoopmanMPC(\n\u001b[1;32m      2\u001b[0m     y0\u001b[38;5;241m=\u001b[39my0_track,\n\u001b[1;32m      3\u001b[0m     tau\u001b[38;5;241m=\u001b[39mtau,\n\u001b[1;32m      4\u001b[0m     traj_len\u001b[38;5;241m=\u001b[39mtraj_len_track,\n\u001b[1;32m      5\u001b[0m     soln_ref\u001b[38;5;241m=\u001b[39mmomentum_ref,\n\u001b[1;32m      6\u001b[0m     kdv_solver\u001b[38;5;241m=\u001b[39mkdv\u001b[38;5;241m.\u001b[39mkdv_solution,\n\u001b[1;32m      7\u001b[0m     B\u001b[38;5;241m=\u001b[39mB_momentum,\n\u001b[1;32m      8\u001b[0m     loss\u001b[38;5;241m=\u001b[39mmpc_loss_linear,\n\u001b[0;32m----> 9\u001b[0m     lambda_param\u001b[38;5;241m=\u001b[39m\u001b[43mlambda_param\u001b[49m,\n\u001b[1;32m     10\u001b[0m )\n",
      "\u001b[0;31mNameError\u001b[0m: name 'lambda_param' is not defined"
     ]
    }
   ],
   "source": [
    "linear_opt_control_momentum_0, linear_kdv_opt_momentum_soln_0 = KoopmanMPC(\n",
    "    y0=y0_track,\n",
    "    tau=tau,\n",
    "    traj_len=traj_len_track,\n",
    "    soln_ref=momentum_ref,\n",
    "    kdv_solver=kdv.kdv_solution,\n",
    "    B=B_momentum,\n",
    "    loss=mpc_loss_linear,\n",
    "    lambda_param=0,\n",
    ")"
   ]
  },
  {
   "cell_type": "code",
   "execution_count": null,
   "metadata": {},
   "outputs": [
    {
     "name": "stderr",
     "output_type": "stream",
     "text": [
      "Processing time steps: 100%|██████████| 998/998 [04:49<00:00,  3.44it/s]\n"
     ]
    }
   ],
   "source": [
    "linear_opt_control_momentum_5, linear_kdv_opt_momentum_soln_5 = KoopmanMPC(\n",
    "    y0=y0_track,\n",
    "    tau=tau,\n",
    "    traj_len=traj_len_track,\n",
    "    soln_ref=momentum_ref,\n",
    "    kdv_solver=kdv.kdv_solution,\n",
    "    B=B_momentum,\n",
    "    loss=mpc_loss_linear,\n",
    "    lambda_param=0.005,\n",
    ")"
   ]
  },
  {
   "cell_type": "code",
   "execution_count": null,
   "metadata": {},
   "outputs": [
    {
     "name": "stderr",
     "output_type": "stream",
     "text": [
      "Processing time steps:   0%|          | 0/998 [00:00<?, ?it/s]"
     ]
    },
    {
     "name": "stderr",
     "output_type": "stream",
     "text": [
      "Processing time steps: 100%|██████████| 998/998 [01:13<00:00, 13.55it/s]\n"
     ]
    }
   ],
   "source": [
    "bilinear_opt_control_momentum_0, bilinear_kdv_opt_momentum_soln_0 = KoopmanMPC(\n",
    "    y0=y0_track,\n",
    "    tau=tau,\n",
    "    traj_len=traj_len_track,\n",
    "    soln_ref=momentum_ref,\n",
    "    kdv_solver=kdv.kdv_solution,\n",
    "    B=B_momentum,\n",
    "    loss=mpc_loss_bilinear,\n",
    "    lambda_param=0,\n",
    ")"
   ]
  },
  {
   "cell_type": "code",
   "execution_count": null,
   "metadata": {},
   "outputs": [
    {
     "name": "stderr",
     "output_type": "stream",
     "text": [
      "Processing time steps: 100%|██████████| 998/998 [05:00<00:00,  3.32it/s]\n"
     ]
    }
   ],
   "source": [
    "bilinear_opt_control_momentum_5, bilinear_kdv_opt_momentum_soln_5 = KoopmanMPC(\n",
    "    y0=y0_track,\n",
    "    tau=tau,\n",
    "    traj_len=traj_len_track,\n",
    "    soln_ref=momentum_ref,\n",
    "    kdv_solver=kdv.kdv_solution,\n",
    "    B=B_momentum,\n",
    "    loss=mpc_loss_bilinear,\n",
    "    lambda_param=0.005,\n",
    ")"
   ]
  },
  {
   "cell_type": "code",
   "execution_count": null,
   "metadata": {},
   "outputs": [],
   "source": [
    "pk_kdv_opt_momentum_0 = dx * tf.reduce_sum(tf.square(pk_kdv_opt_momentum_soln_0), axis=-1)\n",
    "linear_kdv_opt_momentum_0 = dx * tf.reduce_sum(tf.square(linear_kdv_opt_momentum_soln_0), axis=-1)\n",
    "bilinear_kdv_opt_momentum_0 = dx * tf.reduce_sum(tf.square(bilinear_kdv_opt_momentum_soln_0), axis=-1)\n",
    "pk_kdv_opt_momentum_5 = dx * tf.reduce_sum(tf.square(pk_kdv_opt_momentum_soln_5), axis=-1)\n",
    "linear_kdv_opt_momentum_5 = dx * tf.reduce_sum(tf.square(linear_kdv_opt_momentum_soln_5), axis=-1)\n",
    "bilinear_kdv_opt_momentum_5 = dx * tf.reduce_sum(tf.square(bilinear_kdv_opt_momentum_soln_5), axis=-1)"
   ]
  },
  {
   "cell_type": "code",
   "execution_count": null,
   "metadata": {},
   "outputs": [
    {
     "data": {
      "image/png": "[encoded data removed]",
      "text/plain": [
       "<Figure size 720x360 with 1 Axes>"
      ]
     },
     "metadata": {
      "needs_background": "light"
     },
     "output_type": "display_data"
    }
   ],
   "source": [
    "plt.figure(figsize=(10, 5))\n",
    "plt.plot(momentum_ref, label=\"Reference\", linestyle=\"--\", color=ref_color, linewidth=linewidth)\n",
    "\n",
    "plt.plot(\n",
    "    linear_kdv_opt_momentum_0,\n",
    "    label=r\"$M2(\\lambda = 0)$\",\n",
    "    color=linear_no_penalty_color,\n",
    "    linestyle=linear_linestyle,\n",
    "    linewidth=linewidth,\n",
    ")\n",
    "plt.plot(\n",
    "    bilinear_kdv_opt_momentum_0,\n",
    "    label=r\"$M3(\\lambda = 0)$\",\n",
    "    color=bilinear_no_penalty_color,\n",
    "    linestyle=bilinear_linestyle,\n",
    "    linewidth=linewidth,\n",
    ")\n",
    "plt.plot(\n",
    "    pk_kdv_opt_momentum_0,\n",
    "    label=r\"$Ours(\\lambda = 0)$\",\n",
    "    color=pk_no_penalty_color, \n",
    "    linestyle=pk_linestyle, \n",
    "    linewidth=linewidth\n",
    ")\n",
    "\n",
    "plt.plot(\n",
    "    linear_kdv_opt_momentum_5,\n",
    "    label=r\"$M2(\\lambda = 0.005)$\",\n",
    "    color=linear_curve,\n",
    "    linestyle=linear_linestyle,\n",
    "    linewidth=linewidth,\n",
    ")\n",
    "plt.plot(\n",
    "    bilinear_kdv_opt_momentum_5,\n",
    "    label=r\"$M3(\\lambda = 0.005)$\",\n",
    "    color=bilinear_curve,\n",
    "    linestyle=bilinear_linestyle,\n",
    "    linewidth=linewidth,\n",
    ")\n",
    "plt.plot(\n",
    "    pk_kdv_opt_momentum_5,\n",
    "    label=r\"$Ours(\\lambda = 0.005)$\",\n",
    "    color=pk_curve, \n",
    "    linestyle=pk_linestyle, \n",
    "    linewidth=linewidth\n",
    ")\n",
    "\n",
    "\n",
    "plt.xticks(fontsize=ticks_font)\n",
    "plt.yticks(fontsize=ticks_font)\n",
    "plt.xlabel(r\"$n$\", fontsize=label_font)\n",
    "plt.ylabel(\"Momentum\", fontsize=label_font)\n",
    "plt.legend(fontsize=legend_font, loc=(1.05, 0.001))\n",
    "\n",
    "\n",
    "# plt.savefig(os.path.join(figures_path, 'kdv_'+forcing_type+'_momentum_tracking.png'), dpi=200, bbox_inches='tight')\n",
    "# plt.savefig(os.path.join(figures_path, 'kdv_'+forcing_type+'_momentum_tracking.pdf'), dpi=200, bbox_inches='tight')\n"
   ]
  },
  {
   "cell_type": "markdown",
   "metadata": {},
   "source": [
    "# Controllability"
   ]
  },
  {
   "cell_type": "code",
   "execution_count": null,
   "metadata": {},
   "outputs": [],
   "source": [
    "# Randomly sample control\n",
    "np.random.seed(seed=111)\n",
    "n_control_samples = 2000\n",
    "control_samples = (\n",
    "    np.random.uniform(low=0, high=1, size=(n_control_samples, param_dim)) * (umax - umin) + umin\n",
    ")"
   ]
  },
  {
   "cell_type": "code",
   "execution_count": null,
   "metadata": {},
   "outputs": [],
   "source": [
    "pk_K_matrix = solver_pk.model_K_u(control_samples)"
   ]
  },
  {
   "cell_type": "code",
   "execution_count": null,
   "metadata": {},
   "outputs": [],
   "source": [
    "identity_matrix = np.eye(N=pk_K_matrix.shape[-1])\n",
    "\n",
    "pk_A_matrix = (pk_K_matrix - identity_matrix) / T\n",
    "\n",
    "pk_A_vector = tf.reshape(\n",
    "    pk_A_matrix, shape=(pk_A_matrix.shape[0], pk_A_matrix.shape[-1] * pk_A_matrix.shape[-1])\n",
    ")\n",
    "\n",
    "rank = np.linalg.matrix_rank(pk_A_vector)\n",
    "\n",
    "U, S, VT = np.linalg.svd(pk_A_vector)"
   ]
  },
  {
   "cell_type": "code",
   "execution_count": null,
   "metadata": {},
   "outputs": [],
   "source": [
    "pk_A_vector.shape"
   ]
  },
  {
   "cell_type": "code",
   "execution_count": null,
   "metadata": {},
   "outputs": [],
   "source": [
    "np.sum(S > 1e-5)"
   ]
  },
  {
   "cell_type": "code",
   "execution_count": null,
   "metadata": {},
   "outputs": [],
   "source": [
    "label_font = 16\n",
    "ticks_font = 16\n",
    "\n",
    "np.linspace(1, 36, 8)\n",
    "\n",
    "# plt.plot(S, linewidth=2)\n",
    "plt.plot(S / np.max(S), linewidth=2)\n",
    "\n",
    "\n",
    "plt.yscale(\"log\")\n",
    "\n",
    "custom_xticks = np.linspace(1, 36, 8)\n",
    "plt.xticks(custom_xticks, fontsize=ticks_font)\n",
    "plt.yticks(fontsize=ticks_font)\n",
    "\n",
    "\n",
    "plt.xlabel(r\"$i$\", fontsize=label_font)\n",
    "plt.ylabel(r\"$\\sigma_{i}$\", fontsize=label_font)"
   ]
  },
  {
   "cell_type": "markdown",
   "metadata": {},
   "source": [
    "# Save data"
   ]
  },
  {
   "cell_type": "code",
   "execution_count": null,
   "metadata": {},
   "outputs": [],
   "source": [
    "# results_dict = {'eigen_value': S,\n",
    "#                'pk_opt_soln_mass':pk_kdv_opt_mass,\n",
    "#                'pk_opt_soln_momentum': pk_kdv_opt_momentum}"
   ]
  },
  {
   "cell_type": "code",
   "execution_count": null,
   "metadata": {},
   "outputs": [],
   "source": [
    "# np.save(os.path.join(data_path,'K_layer/results_klayer'+str(K_layer_size[-1])+'.npy'), results_dict)"
   ]
  },
  {
   "cell_type": "markdown",
   "metadata": {},
   "source": [
    "# Evaluation over different K structures\n",
    "If you have solved the tracking problems over different K settings and saved results by the corresponding file name, you can run the following code to see the comparison. "
   ]
  },
  {
   "cell_type": "code",
   "execution_count": null,
   "metadata": {},
   "outputs": [],
   "source": [
    "results_dict_6 = np.load(os.path.join(data_path, \"K_layer/results_klayer6.npy\"), allow_pickle=True)\n",
    "\n",
    "eig_value_6 = results_dict_6[()][\"eigen_value\"]\n",
    "pk_opt_soln_mass_6 = results_dict_6[()][\"pk_opt_soln_mass\"]\n",
    "pk_opt_soln_momentum_6 = results_dict_6[()][\"pk_opt_soln_momentum\"]"
   ]
  },
  {
   "cell_type": "code",
   "execution_count": null,
   "metadata": {},
   "outputs": [],
   "source": [
    "results_dict_12 = np.load(\n",
    "    os.path.join(data_path, \"K_layer/results_klayer12.npy\"), allow_pickle=True\n",
    ")\n",
    "\n",
    "eig_value_12 = results_dict_12[()][\"eigen_value\"]\n",
    "pk_opt_soln_mass_12 = results_dict_12[()][\"pk_opt_soln_mass\"]\n",
    "pk_opt_soln_momentum_12 = results_dict_12[()][\"pk_opt_soln_momentum\"]"
   ]
  },
  {
   "cell_type": "code",
   "execution_count": null,
   "metadata": {},
   "outputs": [],
   "source": [
    "results_dict_36 = np.load(\n",
    "    os.path.join(data_path, \"K_layer/results_klayer36.npy\"), allow_pickle=True\n",
    ")\n",
    "\n",
    "eig_value_36 = results_dict_36[()][\"eigen_value\"]\n",
    "pk_opt_soln_mass_36 = results_dict_36[()][\"pk_opt_soln_mass\"]\n",
    "pk_opt_soln_momentum_36 = results_dict_36[()][\"pk_opt_soln_momentum\"]"
   ]
  },
  {
   "cell_type": "markdown",
   "metadata": {},
   "source": [
    "# Eigenvalues"
   ]
  },
  {
   "cell_type": "code",
   "execution_count": null,
   "metadata": {},
   "outputs": [],
   "source": [
    "plt.figure(figsize=(8, 6))\n",
    "plt.plot(eig_value_6, linewidth=2, label=r\"$N_{K}$=7\", marker=\"o\", color=\"palevioletred\")\n",
    "plt.plot(eig_value_12, linewidth=2, label=r\"$N_{K}$=13\", marker=\"s\", color=\"darkseagreen\")\n",
    "plt.plot(eig_value_36, linewidth=2, label=r\"$N_{K}$=37\", marker=\"*\", color=\"darkorange\")\n",
    "\n",
    "plt.yscale(\"log\")\n",
    "\n",
    "custom_xticks = np.linspace(1, 36, 8)\n",
    "plt.xticks(custom_xticks, fontsize=ticks_font)\n",
    "plt.yticks(fontsize=ticks_font)\n",
    "\n",
    "# plt.xlim(0,37)\n",
    "plt.ylim(1e-14, 1e5)\n",
    "plt.xlabel(r\"$i$\", fontsize=22)\n",
    "plt.ylabel(r\"$\\sigma_{i}$\", fontsize=22)\n",
    "plt.legend(fontsize=22, loc=(0.58, 0.2))"
   ]
  },
  {
   "cell_type": "code",
   "execution_count": null,
   "metadata": {},
   "outputs": [],
   "source": [
    "plt.figure(figsize=(8, 6))\n",
    "plt.plot(\n",
    "    eig_value_6 / np.max(eig_value_6),\n",
    "    linewidth=2,\n",
    "    label=r\"$N_{K}$=7\",\n",
    "    marker=\"o\",\n",
    "    color=\"palevioletred\",\n",
    ")\n",
    "plt.plot(\n",
    "    eig_value_12 / np.max(eig_value_12),\n",
    "    linewidth=2,\n",
    "    label=r\"$N_{K}$=13\",\n",
    "    marker=\"s\",\n",
    "    color=\"darkseagreen\",\n",
    ")\n",
    "plt.plot(\n",
    "    eig_value_36 / np.max(eig_value_36),\n",
    "    linewidth=2,\n",
    "    label=r\"$N_{K}$=37\",\n",
    "    marker=\"*\",\n",
    "    color=\"darkorange\",\n",
    ")\n",
    "\n",
    "plt.yscale(\"log\")\n",
    "\n",
    "custom_xticks = np.linspace(1, 36, 8)\n",
    "plt.xticks(custom_xticks, fontsize=ticks_font)\n",
    "plt.yticks(fontsize=ticks_font)\n",
    "\n",
    "# plt.xlim(0,37)\n",
    "# plt.ylim(1e-14,1e5)\n",
    "plt.xlabel(r\"$i$\", fontsize=22)\n",
    "plt.ylabel(r\"$\\sigma_{i}$\", fontsize=22)\n",
    "plt.legend(fontsize=22, loc=(0.58, 0.2))"
   ]
  },
  {
   "cell_type": "code",
   "execution_count": null,
   "metadata": {},
   "outputs": [],
   "source": [
    "eig_value_36 / np.max(eig_value_36)"
   ]
  },
  {
   "cell_type": "code",
   "execution_count": null,
   "metadata": {},
   "outputs": [],
   "source": [
    "plt.figure(figsize=(8, 6))\n",
    "plt.plot(mass_ref, label=\"Reference\", linestyle=\"--\", color=ref_color, linewidth=2)\n",
    "\n",
    "plt.plot(pk_opt_soln_mass_6, linewidth=2, label=r\"$N_{K}$=7\", color=\"palevioletred\")\n",
    "plt.plot(pk_opt_soln_mass_12, linewidth=2, label=r\"$N_{K}$=13\", color=\"darkseagreen\")\n",
    "plt.plot(pk_opt_soln_mass_36, linewidth=2, label=r\"$N_{K}$=37\", color=\"darkorange\")\n",
    "\n",
    "plt.xticks(fontsize=ticks_font)\n",
    "plt.yticks(fontsize=ticks_font)\n",
    "\n",
    "plt.xlabel(r\"$n$\", fontsize=22)\n",
    "plt.ylabel(\"Mass\", fontsize=22)\n",
    "plt.legend(fontsize=22)"
   ]
  },
  {
   "cell_type": "code",
   "execution_count": null,
   "metadata": {},
   "outputs": [],
   "source": [
    "plt.figure(figsize=(8, 6))\n",
    "plt.plot(momentum_ref, label=\"Reference\", linestyle=\"--\", color=ref_color, linewidth=2)\n",
    "\n",
    "plt.plot(pk_opt_soln_momentum_6, linewidth=2, label=r\"$N_{K}$=7\", color=\"palevioletred\")\n",
    "plt.plot(pk_opt_soln_momentum_12, linewidth=2, label=r\"$N_{K}$=13\", color=\"darkseagreen\")\n",
    "plt.plot(pk_opt_soln_momentum_36, linewidth=2, label=r\"$N_{K}$=37\", color=\"darkorange\")\n",
    "\n",
    "\n",
    "plt.xticks(fontsize=ticks_font)\n",
    "plt.yticks(fontsize=ticks_font)\n",
    "\n",
    "plt.xlabel(r\"$n$\", fontsize=22)\n",
    "plt.ylabel(\"Momentum\", fontsize=22)\n",
    "plt.legend(fontsize=22)"
   ]
  },
  {
   "cell_type": "code",
   "execution_count": null,
   "metadata": {},
   "outputs": [],
   "source": []
  }
 ],
 "metadata": {
  "kernelspec": {
   "display_name": "pknn_env",
   "language": "python",
   "name": "python3"
  },
  "language_info": {
   "codemirror_mode": {
    "name": "ipython",
    "version": 3
   },
   "file_extension": ".py",
   "mimetype": "text/x-python",
   "name": "python",
   "nbconvert_exporter": "python",
   "pygments_lexer": "ipython3",
   "version": "3.8.8"
  }
 },
 "nbformat": 4,
 "nbformat_minor": 2
}
