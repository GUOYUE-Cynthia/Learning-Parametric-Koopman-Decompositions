{
 "cells": [
  {
   "cell_type": "code",
   "execution_count": 45,
   "metadata": {},
   "outputs": [],
   "source": [
    "import os\n",
    "\n",
    "os.environ[\"CUDA_VISIBLE_DEVICES\"] = \"-1\""
   ]
  },
  {
   "cell_type": "code",
   "execution_count": 46,
   "metadata": {},
   "outputs": [
    {
     "name": "stdout",
     "output_type": "stream",
     "text": [
      "The autoreload extension is already loaded. To reload it, use:\n",
      "  %reload_ext autoreload\n"
     ]
    }
   ],
   "source": [
    "%load_ext autoreload\n",
    "%autoreload 2"
   ]
  },
  {
   "cell_type": "code",
   "execution_count": 47,
   "metadata": {},
   "outputs": [],
   "source": [
    "import json\n",
    "import sys\n",
    "\n",
    "from tqdm import tqdm"
   ]
  },
  {
   "cell_type": "code",
   "execution_count": 48,
   "metadata": {},
   "outputs": [],
   "source": [
    "config_file = \"config_kdv.json\"\n",
    "\n",
    "with open(config_file, \"r\") as f:\n",
    "    config = json.load(f)[\"linear\"]"
   ]
  },
  {
   "cell_type": "code",
   "execution_count": 49,
   "metadata": {},
   "outputs": [],
   "source": [
    "data_path = config[\"data_settings\"][\"data_path\"]\n",
    "weights_path = config[\"nn_settings\"][\"weights_path\"]\n",
    "figures_path = config[\"data_settings\"][\"figures_path\"]\n",
    "\n",
    "\n",
    "n_traj = config[\"data_settings\"][\"n_traj\"]\n",
    "traj_len = config[\"data_settings\"][\"traj_len\"]\n",
    "\n",
    "forcing_type = config['data_settings']['forcing_type']\n",
    "\n",
    "\n",
    "n_psi_train = config[\"nn_settings\"][\"n_psi_train\"]\n",
    "dict_layer_size = config[\"nn_settings\"][\"dict_layer_size\"]\n",
    "K_layer_size = config[\"nn_settings\"][\"K_layer_size\"]"
   ]
  },
  {
   "cell_type": "code",
   "execution_count": 50,
   "metadata": {},
   "outputs": [],
   "source": [
    "import matplotlib.pyplot as plt\n",
    "import numpy as np\n",
    "import pandas as pd\n",
    "import tensorflow as tf"
   ]
  },
  {
   "cell_type": "code",
   "execution_count": 51,
   "metadata": {},
   "outputs": [],
   "source": [
    "from koopmanlib.functions import *"
   ]
  },
  {
   "cell_type": "code",
   "execution_count": 52,
   "metadata": {},
   "outputs": [],
   "source": [
    "from koopmanlib.target import KortewegDeVriesTarget"
   ]
  },
  {
   "cell_type": "code",
   "execution_count": 53,
   "metadata": {},
   "outputs": [],
   "source": [
    "# Set the size of the domain, and create the discretized grid.\n",
    "L = 2 * np.pi\n",
    "Nx = 128\n",
    "dx = L / (Nx - 1.0)\n",
    "x = np.linspace(-np.pi, np.pi, Nx)\n",
    "T = 0.01"
   ]
  },
  {
   "cell_type": "code",
   "execution_count": 54,
   "metadata": {},
   "outputs": [],
   "source": [
    "def v_func(x, c):\n",
    "    return np.exp(-25 * (x - c) ** 2)\n",
    "\n",
    "\n",
    "c1, c2, c3 = -np.pi / 2, 0, np.pi / 2\n",
    "v1 = v_func(x, c1).reshape(1, -1)\n",
    "v2 = v_func(x, c2).reshape(1, -1)\n",
    "v3 = v_func(x, c3).reshape(1, -1)\n",
    "\n",
    "v_list = np.concatenate([v1, v2, v3], axis=0)"
   ]
  },
  {
   "cell_type": "code",
   "execution_count": 55,
   "metadata": {},
   "outputs": [],
   "source": [
    "umax = 1\n",
    "umin = -umax\n",
    "\n",
    "target_dim = Nx\n",
    "param_dim = 3"
   ]
  },
  {
   "cell_type": "code",
   "execution_count": 56,
   "metadata": {},
   "outputs": [],
   "source": [
    "kdv = KortewegDeVriesTarget(\n",
    "    x=x, t_step=T, dim=Nx, param_dim=param_dim, forcing_type=forcing_type, v_list=v_list, L=L\n",
    ")"
   ]
  },
  {
   "cell_type": "code",
   "execution_count": 57,
   "metadata": {},
   "outputs": [],
   "source": [
    "dict_data = np.load(\n",
    "    os.path.join(data_path, \"data_kdv_\" + forcing_type + \".npy\"), allow_pickle=True\n",
    ")"
   ]
  },
  {
   "cell_type": "markdown",
   "metadata": {},
   "source": [
    "# Build model"
   ]
  },
  {
   "cell_type": "markdown",
   "metadata": {},
   "source": [
    "## PK-NN"
   ]
  },
  {
   "cell_type": "code",
   "execution_count": 58,
   "metadata": {},
   "outputs": [],
   "source": [
    "from tensorflow.keras.optimizers import Adam\n",
    "\n",
    "from koopmanlib.dictionary import PsiNN_obs\n",
    "from koopmanlib.param_solver import KoopmanParametricDLSolver\n",
    "\n",
    "n_psi = 1 + 1 + 1 + n_psi_train  # constant + momentum + mean + NN\n",
    "\n",
    "dic_pk = PsiNN_obs(layer_sizes=dict_layer_size, n_psi_train=n_psi_train, dx=dx)\n",
    "\n",
    "from koopmanlib.K_structure import Model_K_u_Layer_One\n",
    "\n",
    "model_K_u = Model_K_u_Layer_One(layer_sizes=K_layer_size, n_psi=n_psi, activation=\"relu\")\n",
    "\n",
    "solver_pk = KoopmanParametricDLSolver(\n",
    "    target_dim=target_dim, param_dim=param_dim, n_psi=n_psi, dic=dic_pk, model_K_u=model_K_u\n",
    ")\n",
    "\n",
    "model_pk, model_K_u_pred_pk = solver_pk.generate_model()\n",
    "\n",
    "model_pk.load_weights(os.path.join(weights_path, \"pk_kdv_weights_\" + forcing_type + \".h5\"))"
   ]
  },
  {
   "cell_type": "code",
   "execution_count": 59,
   "metadata": {},
   "outputs": [],
   "source": [
    "def compute_pk_obs(y0, param_list, B_obs):\n",
    "    param = tf.reshape(param_list, shape=(param_list.shape[0], 1, param_dim))\n",
    "    y0 = y0.reshape(1, -1)\n",
    "\n",
    "    psi_y = dic_pk(y0)\n",
    "    obs_list = [psi_y @ B_obs]\n",
    "\n",
    "    tau = param_list.shape[0]\n",
    "\n",
    "    for i in range(tau):\n",
    "        psi_y = model_K_u_pred_pk([param[i], psi_y])\n",
    "        obs_next = psi_y @ B_obs\n",
    "        obs_list.append(obs_next)\n",
    "\n",
    "    return np.squeeze(np.asarray(obs_list))"
   ]
  },
  {
   "cell_type": "markdown",
   "metadata": {},
   "source": [
    "## Linear"
   ]
  },
  {
   "cell_type": "code",
   "execution_count": 60,
   "metadata": {},
   "outputs": [],
   "source": [
    "from koopmanlib.param_solver import KoopmanLinearDLSolver\n",
    "\n",
    "dic_linear = PsiNN_obs(layer_sizes=dict_layer_size, n_psi_train=n_psi_train, dx=dx)\n",
    "\n",
    "solver_linear = KoopmanLinearDLSolver(\n",
    "    dic=dic_linear, target_dim=target_dim, param_dim=param_dim, n_psi=n_psi\n",
    ")\n",
    "\n",
    "model_linear, model_K_u_pred_linear = solver_linear.build_model()\n",
    "\n",
    "solver_linear.model.load_weights(\n",
    "    os.path.join(weights_path, \"linear_kdv_weights_\" + forcing_type + \".h5\")\n",
    ")"
   ]
  },
  {
   "cell_type": "code",
   "execution_count": 61,
   "metadata": {},
   "outputs": [],
   "source": [
    "def compute_linear_obs(y0, param_list, B_obs):\n",
    "    param_list = tf.reshape(param_list, shape=(param_list.shape[0], 1, param_dim))\n",
    "    y0 = y0.reshape(1, -1)\n",
    "    psi_y = solver_linear.dic.call(y0)\n",
    "    obs_list = [psi_y @ B_obs]\n",
    "\n",
    "    for param in param_list:\n",
    "        psi_y = solver_linear.model_K_u_pred_linear.get_layer(\"Layer_A\")(psi_y) + solver_linear.model_K_u_pred_linear.get_layer(\n",
    "            \"Layer_B\"\n",
    "        )(param)\n",
    "        obs_next = psi_y @ B_obs\n",
    "        obs_list.append(obs_next)\n",
    "\n",
    "    return np.squeeze(np.asarray(obs_list))"
   ]
  },
  {
   "cell_type": "markdown",
   "metadata": {},
   "source": [
    "## Bilinear"
   ]
  },
  {
   "cell_type": "code",
   "execution_count": 62,
   "metadata": {},
   "outputs": [],
   "source": [
    "from koopmanlib.param_solver import KoopmanBilinearDLSolver\n",
    "\n",
    "dic_bilinear = PsiNN_obs(layer_sizes=dict_layer_size, n_psi_train=n_psi_train, dx=dx)\n",
    "\n",
    "solver_bilinear = KoopmanBilinearDLSolver(\n",
    "    dic=dic_bilinear, target_dim=target_dim, param_dim=param_dim, n_psi=n_psi\n",
    ")\n",
    "\n",
    "model_bilinear, model_K_u_pred_bilinear = solver_bilinear.build_model()"
   ]
  },
  {
   "cell_type": "code",
   "execution_count": 63,
   "metadata": {},
   "outputs": [],
   "source": [
    "solver_bilinear.model.load_weights(\n",
    "    os.path.join(weights_path, \"bilinear_kdv_weights_\" + forcing_type + \".h5\")\n",
    ")"
   ]
  },
  {
   "cell_type": "code",
   "execution_count": 64,
   "metadata": {},
   "outputs": [],
   "source": [
    "def compute_bilinear_obs(y0, param_list, B_obs):\n",
    "    param_list = tf.reshape(param_list, shape=(param_list.shape[0], 1, param_dim))\n",
    "    y0 = y0.reshape(1, -1)\n",
    "    psi_y = solver_bilinear.dic.call(y0)\n",
    "    obs_list = [psi_y @ B_obs]\n",
    "\n",
    "    for param in param_list:\n",
    "        u_psiy = tf.einsum(\"ij,ik->kij\", psi_y, param)\n",
    "        u_psiy_list = []\n",
    "        for curr in u_psiy:\n",
    "            u_psiy_list.append(curr)\n",
    "        u_psiy_list = tf.concat(u_psiy_list, axis=-1)\n",
    "\n",
    "        psi_y = solver_bilinear.model_K_u_pred_bilinear.get_layer(\"Layer_A\")(\n",
    "            psi_y\n",
    "        ) + solver_bilinear.model_K_u_pred_bilinear.get_layer(\"Layer_B\")(u_psiy_list)\n",
    "        obs_next = psi_y @ B_obs\n",
    "        obs_list.append(obs_next)\n",
    "\n",
    "    return np.squeeze(np.asarray(obs_list))"
   ]
  },
  {
   "cell_type": "markdown",
   "metadata": {},
   "source": [
    "# Testing problems"
   ]
  },
  {
   "cell_type": "code",
   "execution_count": 116,
   "metadata": {},
   "outputs": [],
   "source": [
    "# Plot setting\n",
    "linear_curve = \"darkorange\"\n",
    "linear_shadow = \"navajowhite\"\n",
    "bilinear_curve = \"forestgreen\"\n",
    "bilinear_shadow = \"darkseagreen\"\n",
    "pk_curve = \"darkblue\"\n",
    "pk_shadow = \"lightsteelblue\"\n",
    "ref_color = \"black\"\n",
    "\n",
    "\n",
    "exact_color = \"darkred\"\n",
    "linear_no_penalty_color = \"gold\"\n",
    "bilinear_no_penalty_color = \"turquoise\"\n",
    "pk_no_penalty_color = \"palevioletred\"\n",
    "\n",
    "label_font = 24\n",
    "ticks_font = 22\n",
    "legend_font = 24\n",
    "linewidth = 2.5\n",
    "title_font = 16\n",
    "\n",
    "linear_linestyle = \"dashdot\"\n",
    "bilinear_linestyle = \"dotted\"\n",
    "pk_linestyle = \"solid\""
   ]
  },
  {
   "cell_type": "markdown",
   "metadata": {},
   "source": [
    "## Prediction"
   ]
  },
  {
   "cell_type": "code",
   "execution_count": 66,
   "metadata": {},
   "outputs": [],
   "source": [
    "def compute_kdv_soln(y0, param_list):\n",
    "    y0_loop = y0\n",
    "    kdv_soln_list = [y0_loop]\n",
    "    for param in param_list:\n",
    "        # Solve the equation using the scipy integrator\n",
    "        soln = kdv.kdv_solution(y0_loop, T, param)\n",
    "        y0_loop = soln.y.T[-1]\n",
    "        kdv_soln_list.append(y0_loop)\n",
    "    return kdv_soln_list"
   ]
  },
  {
   "cell_type": "code",
   "execution_count": 67,
   "metadata": {},
   "outputs": [],
   "source": [
    "pred_traj_number = 10\n",
    "np.random.seed(625)\n",
    "seed_list = np.random.randint(low=1, high=200, size=(pred_traj_number, 2))\n",
    "\n",
    "y0_pred_list = []\n",
    "param_pred_list = []\n",
    "\n",
    "Tsim_pred = 0.1\n",
    "traj_len_pred = int(Tsim_pred / T)\n",
    "\n",
    "for seed_IC, seed_u in seed_list:\n",
    "    # Forward prediction problem setting\n",
    "    y0_pred = kdv.generate_y0(seed_IC)\n",
    "\n",
    "    # Set the seed of param_list\n",
    "    np.random.seed(seed_u)\n",
    "\n",
    "    param_pred = (\n",
    "        np.random.uniform(low=0, high=1, size=(traj_len_pred, param_dim)) * (umax - umin) + umin\n",
    "    )\n",
    "\n",
    "    y0_pred_list.append(y0_pred)\n",
    "    param_pred_list.append(param_pred)"
   ]
  },
  {
   "cell_type": "code",
   "execution_count": 68,
   "metadata": {},
   "outputs": [],
   "source": [
    "error_mass_list_pk, error_momentum_list_pk = kdv.compute_obs_error(\n",
    "    dic=dic_pk,\n",
    "    compute_kdv_soln_func=compute_kdv_soln,\n",
    "    compute_obs_func_model=compute_pk_obs,\n",
    "    error_func=compute_diff_ratio_one_traj,\n",
    "    y0_pred_list=y0_pred_list,\n",
    "    param_pred_list=param_pred_list,\n",
    "    dx=dx,\n",
    ")\n",
    "\n",
    "mass_mean_pk, mass_std_pk, mass_mean_plus_pk, mass_mean_minus_pk = compute_stat_info(\n",
    "    error_mass_list_pk\n",
    ")\n",
    "momentum_mean_pk, momentum_std_pk, momentum_mean_plus_pk, momentum_mean_minus_pk = (\n",
    "    compute_stat_info(error_momentum_list_pk)\n",
    ")"
   ]
  },
  {
   "cell_type": "code",
   "execution_count": 69,
   "metadata": {},
   "outputs": [],
   "source": [
    "error_mass_list_linear, error_momentum_list_linear = kdv.compute_obs_error(\n",
    "    dic=dic_linear,\n",
    "    compute_kdv_soln_func=compute_kdv_soln,\n",
    "    compute_obs_func_model=compute_linear_obs,\n",
    "    error_func=compute_diff_ratio_one_traj,\n",
    "    y0_pred_list=y0_pred_list,\n",
    "    param_pred_list=param_pred_list,\n",
    "    dx=dx,\n",
    ")\n",
    "mass_mean_linear, mass_std_linear, mass_mean_plus_linear, mass_mean_minus_linear = (\n",
    "    compute_stat_info(error_mass_list_linear)\n",
    ")\n",
    "(\n",
    "    momentum_mean_linear,\n",
    "    momentum_std_linear,\n",
    "    momentum_mean_plus_linear,\n",
    "    momentum_mean_minus_linear,\n",
    ") = compute_stat_info(error_momentum_list_linear)"
   ]
  },
  {
   "cell_type": "code",
   "execution_count": 70,
   "metadata": {},
   "outputs": [],
   "source": [
    "error_mass_list_bilinear, error_momentum_list_bilinear = kdv.compute_obs_error(\n",
    "    dic=dic_bilinear,\n",
    "    compute_kdv_soln_func=compute_kdv_soln,\n",
    "    compute_obs_func_model=compute_bilinear_obs,\n",
    "    error_func=compute_diff_ratio_one_traj,\n",
    "    y0_pred_list=y0_pred_list,\n",
    "    param_pred_list=param_pred_list,\n",
    "    dx=dx,\n",
    ")\n",
    "mass_mean_bilinear, mass_std_bilinear, mass_mean_plus_bilinear, mass_mean_minus_bilinear = (\n",
    "    compute_stat_info(error_mass_list_bilinear)\n",
    ")\n",
    "(\n",
    "    momentum_mean_bilinear,\n",
    "    momentum_std_bilinear,\n",
    "    momentum_mean_plus_bilinear,\n",
    "    momentum_mean_minus_bilinear,\n",
    ") = compute_stat_info(error_momentum_list_bilinear)"
   ]
  },
  {
   "cell_type": "code",
   "execution_count": 71,
   "metadata": {},
   "outputs": [
    {
     "data": {
      "text/plain": [
       "<matplotlib.legend.Legend at 0x7f1d31b5eca0>"
      ]
     },
     "execution_count": 71,
     "metadata": {},
     "output_type": "execute_result"
    },
    {
     "data": {
      "image/png": "[encoded data removed]",
      "text/plain": [
       "<Figure size 432x288 with 1 Axes>"
      ]
     },
     "metadata": {
      "needs_background": "light"
     },
     "output_type": "display_data"
    }
   ],
   "source": [
    "t_axis = np.arange(0, traj_len_pred + 1, 1)\n",
    "\n",
    "plt.title(\"Mass\", fontsize=28)\n",
    "plt.plot(mass_mean_pk, label=\"Ours\", color=pk_curve, linewidth=3)\n",
    "plt.fill_between(\n",
    "    t_axis, np.maximum(mass_mean_minus_pk, 0), mass_mean_plus_pk, color=pk_shadow, alpha=0.5\n",
    ")\n",
    "\n",
    "plt.plot(mass_mean_linear, label=\"M2\", color=linear_curve, linewidth=3)\n",
    "plt.fill_between(\n",
    "    t_axis,\n",
    "    np.maximum(mass_mean_minus_linear, 0),\n",
    "    mass_mean_plus_linear,\n",
    "    color=linear_shadow,\n",
    "    alpha=0.5,\n",
    ")\n",
    "\n",
    "plt.plot(mass_mean_bilinear, label=\"M3\", color=bilinear_curve, linewidth=3)\n",
    "plt.fill_between(\n",
    "    t_axis,\n",
    "    np.maximum(mass_mean_minus_bilinear, 0),\n",
    "    mass_mean_plus_bilinear,\n",
    "    color=bilinear_shadow,\n",
    "    alpha=0.5,\n",
    ")\n",
    "\n",
    "plt.xlabel(r\"$n$\", fontsize=28)\n",
    "plt.ylabel(\"Error\", fontsize=28)\n",
    "plt.xticks(fontsize=18)\n",
    "plt.yticks(fontsize=18)\n",
    "plt.legend(fontsize=18)\n",
    "\n",
    "# plt.savefig(os.path.join(figures_path, 'kdv_'+forcing_type+'_mass_pred.png'), dpi=200, bbox_inches='tight')\n",
    "# plt.savefig(os.path.join(figures_path, 'kdv_'+forcing_type+'_mass_pred.pdf'), dpi=200, bbox_inches='tight')\n"
   ]
  },
  {
   "cell_type": "code",
   "execution_count": 72,
   "metadata": {},
   "outputs": [
    {
     "data": {
      "text/plain": [
       "<matplotlib.legend.Legend at 0x7f1d31a82a30>"
      ]
     },
     "execution_count": 72,
     "metadata": {},
     "output_type": "execute_result"
    },
    {
     "data": {
      "image/png": "[encoded data removed]",
      "text/plain": [
       "<Figure size 432x288 with 1 Axes>"
      ]
     },
     "metadata": {
      "needs_background": "light"
     },
     "output_type": "display_data"
    }
   ],
   "source": [
    "t_axis = np.arange(0, traj_len_pred + 1, 1)\n",
    "\n",
    "plt.title(\"Momentum\", fontsize=28)\n",
    "plt.plot(momentum_mean_pk, label=\"Ours\", color=pk_curve, linewidth=3)\n",
    "plt.fill_between(\n",
    "    t_axis,\n",
    "    np.maximum(momentum_mean_minus_pk, 0),\n",
    "    momentum_mean_plus_pk,\n",
    "    color=pk_shadow,\n",
    "    alpha=0.5,\n",
    ")\n",
    "\n",
    "plt.plot(momentum_mean_linear, label=\"M2\", color=linear_curve, linewidth=3)\n",
    "plt.fill_between(\n",
    "    t_axis,\n",
    "    np.maximum(momentum_mean_minus_linear, 0),\n",
    "    momentum_mean_plus_linear,\n",
    "    color=linear_shadow,\n",
    "    alpha=0.5,\n",
    ")\n",
    "\n",
    "plt.plot(momentum_mean_bilinear, label=\"M3\", color=bilinear_curve, linewidth=3)\n",
    "plt.fill_between(\n",
    "    t_axis,\n",
    "    np.maximum(momentum_mean_minus_bilinear, 0),\n",
    "    momentum_mean_plus_bilinear,\n",
    "    color=bilinear_shadow,\n",
    "    alpha=0.5,\n",
    ")\n",
    "\n",
    "plt.xlabel(r\"$n$\", fontsize=28)\n",
    "plt.ylabel(\"Error\", fontsize=28)\n",
    "plt.xticks(fontsize=18)\n",
    "plt.yticks(fontsize=18)\n",
    "plt.legend(fontsize=18)\n",
    "\n",
    "# plt.savefig(os.path.join(figures_path, 'kdv_'+forcing_type+'_momentum_pred.png'), dpi=200, bbox_inches='tight')\n",
    "# plt.savefig(os.path.join(figures_path, 'kdv_'+forcing_type+'_momentum_pred.pdf'), dpi=200, bbox_inches='tight')\n"
   ]
  },
  {
   "cell_type": "markdown",
   "metadata": {},
   "source": [
    "# Tracking problem"
   ]
  },
  {
   "cell_type": "code",
   "execution_count": 73,
   "metadata": {},
   "outputs": [],
   "source": [
    "from scipy.optimize import minimize"
   ]
  },
  {
   "cell_type": "code",
   "execution_count": 74,
   "metadata": {},
   "outputs": [],
   "source": [
    "# Testing reference\n",
    "y0_track = np.zeros(shape=(Nx,)) + 0.2"
   ]
  },
  {
   "cell_type": "code",
   "execution_count": 75,
   "metadata": {},
   "outputs": [],
   "source": [
    "Tsim_track = 10\n",
    "\n",
    "traj_len_track = int(Tsim_track / T)\n",
    "\n",
    "### Set piece-wise reference\n",
    "soln_ref = np.zeros(shape=(traj_len_track, target_dim)) + 0.3\n",
    "\n",
    "for i in range(soln_ref.shape[0]):\n",
    "    if i > traj_len_track / 2:\n",
    "        soln_ref[i, :] = 0.5"
   ]
  },
  {
   "cell_type": "code",
   "execution_count": 76,
   "metadata": {},
   "outputs": [],
   "source": [
    "mass_ref = dx * tf.reshape(tf.math.reduce_sum(soln_ref, axis=-1), shape=(-1, 1))\n",
    "momentum_ref = dx * tf.reshape(tf.math.reduce_sum(tf.square(soln_ref), axis=-1), shape=(-1, 1))"
   ]
  },
  {
   "cell_type": "code",
   "execution_count": 77,
   "metadata": {},
   "outputs": [],
   "source": [
    "def mpc_loss_pk(param, tau, ref_list, y0, B, lambda_param):\n",
    "    param = tf.reshape(param, shape=(int(param.shape[0] / param_dim), 1, param_dim))\n",
    "    loss_list = []\n",
    "    y0 = y0.reshape(1, -1)\n",
    "    psi_y = dic_pk(y0)\n",
    "\n",
    "    for i in range(tau):\n",
    "        psi_x = model_K_u_pred_pk([param[i], psi_y])\n",
    "        obs_next = psi_x @ B\n",
    "        loss_curr = tf.square(tf.norm(ref_list[i] - obs_next))\n",
    "        loss_list.append(loss_curr)\n",
    "\n",
    "    ref_loss = tf.reduce_sum(loss_list)\n",
    "    param_loss = lambda_param * tf.reduce_sum(tf.square(tf.norm(param, axis=-1)))\n",
    "\n",
    "    loss = ref_loss + param_loss\n",
    "\n",
    "    return loss\n",
    "\n",
    "\n",
    "def mpc_loss_linear(param, tau, ref_list, y0, B, lambda_param):\n",
    "    param = tf.reshape(param, shape=(int(param.shape[0] / param_dim), 1, param_dim))\n",
    "    loss_list = []\n",
    "    y0 = y0.reshape(1, -1)\n",
    "    psi_y = solver_linear.dic.call(y0)\n",
    "\n",
    "    for i in range(tau):\n",
    "        psi_y = solver_linear.model_K_u_pred_linear.get_layer(\"Layer_A\")(psi_y) + solver_linear.model_K_u_pred_linear.get_layer(\n",
    "            \"Layer_B\"\n",
    "        )(param[i])\n",
    "        obs = psi_y @ B\n",
    "        loss_curr = tf.square(tf.norm(ref_list[i] - obs))\n",
    "        loss_list.append(loss_curr)\n",
    "\n",
    "    ref_loss = tf.reduce_sum(loss_list)\n",
    "    param_loss = lambda_param * tf.reduce_sum(tf.square(tf.norm(param, axis=-1)))\n",
    "\n",
    "    loss = ref_loss + param_loss\n",
    "\n",
    "    return loss\n",
    "\n",
    "\n",
    "def mpc_loss_bilinear(param, tau, ref_list, y0, B, lambda_param):\n",
    "    param = tf.reshape(param, shape=(int(param.shape[0] / param_dim), 1, param_dim))\n",
    "    loss_list = []\n",
    "    y0 = y0.reshape(1, -1)\n",
    "    psi_y = solver_bilinear.dic.call(y0)\n",
    "\n",
    "    for i in range(tau):\n",
    "\n",
    "        u_psiy = tf.einsum(\"ij,ik->kij\", psi_y, param[i])\n",
    "        u_psiy_list = []\n",
    "        for curr in u_psiy:\n",
    "            u_psiy_list.append(curr)\n",
    "        u_psiy_list = tf.concat(u_psiy_list, axis=-1)\n",
    "\n",
    "        psi_y = solver_bilinear.model_K_u_pred_bilinear.get_layer(\"Layer_A\")(\n",
    "            psi_y\n",
    "        ) + solver_bilinear.model_K_u_pred_bilinear.get_layer(\"Layer_B\")(u_psiy_list)\n",
    "        obs = psi_y @ B\n",
    "        loss_curr = tf.square(tf.norm(ref_list[i] - obs))\n",
    "        loss_list.append(loss_curr)\n",
    "\n",
    "    ref_loss = tf.reduce_sum(loss_list)\n",
    "    param_loss = lambda_param * tf.reduce_sum(tf.square(tf.norm(param, axis=-1)))\n",
    "\n",
    "    loss = ref_loss + param_loss\n",
    "\n",
    "    return loss"
   ]
  },
  {
   "cell_type": "code",
   "execution_count": 78,
   "metadata": {},
   "outputs": [],
   "source": [
    "def KoopmanMPC(y0, tau, traj_len, soln_ref, kdv_solver, B, loss, lambda_param):\n",
    "\n",
    "    bounds = []\n",
    "    for i in range(tau * param_dim):\n",
    "        bounds.append((-1, 1))\n",
    "\n",
    "    y0_mpc_loop_list = [y0]\n",
    "    opt_control_list = []\n",
    "\n",
    "    # Wrap the loop with tqdm for a progress bar\n",
    "    for current_time in tqdm(range(traj_len - tau - 1), desc=\"Processing time steps\"):\n",
    "\n",
    "        param_init = (\n",
    "            np.random.uniform(low=0, high=1, size=(tau * param_dim,)) * (umax - umin) + umin\n",
    "        )\n",
    "\n",
    "        results = minimize(\n",
    "            loss,\n",
    "            x0=param_init,\n",
    "            args=(\n",
    "                tau,\n",
    "                soln_ref[current_time + 1 : current_time + 1 + tau, :],\n",
    "                y0_mpc_loop_list[-1],\n",
    "                B,\n",
    "                lambda_param,\n",
    "            ),\n",
    "            bounds=bounds,\n",
    "        )\n",
    "\n",
    "        param = results.x.reshape(tau, param_dim)[0]\n",
    "        soln_next = kdv_solver(y0_mpc_loop_list[-1], T, param)\n",
    "        y_next = soln_next.y.T[-1]\n",
    "        y0_mpc_loop_list.append(y_next)\n",
    "        opt_control_list.append(param)\n",
    "\n",
    "    current_time = current_time + 1\n",
    "\n",
    "    param_init = np.random.uniform(low=0, high=1, size=(tau * param_dim,)) * (umax - umin) + umin\n",
    "\n",
    "    results = minimize(\n",
    "        loss,\n",
    "        x0=param_init,\n",
    "        args=(\n",
    "            tau,\n",
    "            soln_ref[current_time + 1 : current_time + 1 + tau, :],\n",
    "            y0_mpc_loop_list[-1],\n",
    "            B,\n",
    "            lambda_param,\n",
    "        ),\n",
    "        bounds=bounds,\n",
    "    )\n",
    "\n",
    "    param = results.x.reshape(tau, param_dim)\n",
    "    for param_curr in param:\n",
    "        soln_next = kdv_solver(y0_mpc_loop_list[-1], T, param_curr)\n",
    "        y_next = soln_next.y.T[-1]\n",
    "        y0_mpc_loop_list.append(y_next)\n",
    "        opt_control_list.append(param_curr)\n",
    "\n",
    "    opt_control_list = np.asarray(opt_control_list)\n",
    "    y0_mpc_loop_list = np.asarray(y0_mpc_loop_list)\n",
    "\n",
    "    return opt_control_list, y0_mpc_loop_list"
   ]
  },
  {
   "cell_type": "code",
   "execution_count": 79,
   "metadata": {},
   "outputs": [],
   "source": [
    "B_mass = dic_pk.generate_B_mass(mass_ref)\n",
    "B_momentum = dic_pk.generate_B_momentum(momentum_ref)"
   ]
  },
  {
   "cell_type": "markdown",
   "metadata": {},
   "source": [
    "### Track mass"
   ]
  },
  {
   "cell_type": "code",
   "execution_count": 80,
   "metadata": {},
   "outputs": [],
   "source": [
    "tau = 1  # time horizon\n",
    "# lambda_param = 0.005\n",
    "# lambda_param = 0"
   ]
  },
  {
   "cell_type": "code",
   "execution_count": 81,
   "metadata": {},
   "outputs": [
    {
     "name": "stderr",
     "output_type": "stream",
     "text": [
      "Processing time steps: 100%|██████████| 998/998 [04:52<00:00,  3.41it/s]\n"
     ]
    }
   ],
   "source": [
    "pk_opt_control_mass_0, pk_kdv_opt_mass_soln_0 = KoopmanMPC(\n",
    "    y0=y0_track,\n",
    "    tau=tau,\n",
    "    traj_len=traj_len_track,\n",
    "    soln_ref=mass_ref,\n",
    "    kdv_solver=kdv.kdv_solution,\n",
    "    B=B_mass,\n",
    "    loss=mpc_loss_pk,\n",
    "    lambda_param=0,\n",
    ")"
   ]
  },
  {
   "cell_type": "code",
   "execution_count": 82,
   "metadata": {},
   "outputs": [
    {
     "name": "stderr",
     "output_type": "stream",
     "text": [
      "Processing time steps:   0%|          | 0/998 [00:00<?, ?it/s]"
     ]
    },
    {
     "name": "stderr",
     "output_type": "stream",
     "text": [
      "Processing time steps: 100%|██████████| 998/998 [05:17<00:00,  3.14it/s]\n"
     ]
    }
   ],
   "source": [
    "pk_opt_control_mass_5, pk_kdv_opt_mass_soln_5 = KoopmanMPC(\n",
    "    y0=y0_track,\n",
    "    tau=tau,\n",
    "    traj_len=traj_len_track,\n",
    "    soln_ref=mass_ref,\n",
    "    kdv_solver=kdv.kdv_solution,\n",
    "    B=B_mass,\n",
    "    loss=mpc_loss_pk,\n",
    "    lambda_param=0.005,\n",
    ")"
   ]
  },
  {
   "cell_type": "code",
   "execution_count": 83,
   "metadata": {},
   "outputs": [
    {
     "name": "stderr",
     "output_type": "stream",
     "text": [
      "Processing time steps:   0%|          | 0/998 [00:00<?, ?it/s]"
     ]
    },
    {
     "name": "stderr",
     "output_type": "stream",
     "text": [
      "Processing time steps: 100%|██████████| 998/998 [04:29<00:00,  3.70it/s]\n"
     ]
    }
   ],
   "source": [
    "linear_opt_control_mass_0, linear_kdv_opt_mass_soln_0 = KoopmanMPC(\n",
    "    y0=y0_track,\n",
    "    tau=tau,\n",
    "    traj_len=traj_len_track,\n",
    "    soln_ref=mass_ref,\n",
    "    kdv_solver=kdv.kdv_solution,\n",
    "    B=B_mass,\n",
    "    loss=mpc_loss_linear,\n",
    "    lambda_param=0,\n",
    ")"
   ]
  },
  {
   "cell_type": "code",
   "execution_count": 84,
   "metadata": {},
   "outputs": [
    {
     "name": "stderr",
     "output_type": "stream",
     "text": [
      "Processing time steps:   0%|          | 0/998 [00:00<?, ?it/s]"
     ]
    },
    {
     "name": "stderr",
     "output_type": "stream",
     "text": [
      "Processing time steps: 100%|██████████| 998/998 [04:47<00:00,  3.47it/s]\n"
     ]
    }
   ],
   "source": [
    "linear_opt_control_mass_5, linear_kdv_opt_mass_soln_5 = KoopmanMPC(\n",
    "    y0=y0_track,\n",
    "    tau=tau,\n",
    "    traj_len=traj_len_track,\n",
    "    soln_ref=mass_ref,\n",
    "    kdv_solver=kdv.kdv_solution,\n",
    "    B=B_mass,\n",
    "    loss=mpc_loss_linear,\n",
    "    lambda_param=0.005,\n",
    ")"
   ]
  },
  {
   "cell_type": "code",
   "execution_count": 85,
   "metadata": {},
   "outputs": [
    {
     "name": "stderr",
     "output_type": "stream",
     "text": [
      "Processing time steps:   0%|          | 0/998 [00:00<?, ?it/s]"
     ]
    },
    {
     "name": "stderr",
     "output_type": "stream",
     "text": [
      "Processing time steps: 100%|██████████| 998/998 [04:43<00:00,  3.52it/s]\n"
     ]
    }
   ],
   "source": [
    "bilinear_opt_control_mass_0, bilinear_kdv_opt_mass_soln_0 = KoopmanMPC(\n",
    "    y0=y0_track,\n",
    "    tau=tau,\n",
    "    traj_len=traj_len_track,\n",
    "    soln_ref=mass_ref,\n",
    "    kdv_solver=kdv.kdv_solution,\n",
    "    B=B_mass,\n",
    "    loss=mpc_loss_bilinear,\n",
    "    lambda_param=0,\n",
    ")"
   ]
  },
  {
   "cell_type": "code",
   "execution_count": 86,
   "metadata": {},
   "outputs": [
    {
     "name": "stderr",
     "output_type": "stream",
     "text": [
      "Processing time steps:   0%|          | 0/998 [00:00<?, ?it/s]"
     ]
    },
    {
     "name": "stderr",
     "output_type": "stream",
     "text": [
      "Processing time steps: 100%|██████████| 998/998 [04:52<00:00,  3.41it/s]\n"
     ]
    }
   ],
   "source": [
    "bilinear_opt_control_mass_5, bilinear_kdv_opt_mass_soln_5 = KoopmanMPC(\n",
    "    y0=y0_track,\n",
    "    tau=tau,\n",
    "    traj_len=traj_len_track,\n",
    "    soln_ref=mass_ref,\n",
    "    kdv_solver=kdv.kdv_solution,\n",
    "    B=B_mass,\n",
    "    loss=mpc_loss_bilinear,\n",
    "    lambda_param=0.005,\n",
    ")"
   ]
  },
  {
   "cell_type": "code",
   "execution_count": 87,
   "metadata": {},
   "outputs": [],
   "source": [
    "pk_kdv_opt_mass_0 = dx * tf.reduce_sum(pk_kdv_opt_mass_soln_0, axis=-1)\n",
    "linear_kdv_opt_mass_0 = dx * tf.reduce_sum(linear_kdv_opt_mass_soln_0, axis=-1)\n",
    "bilinear_kdv_opt_mass_0 = dx * tf.reduce_sum(bilinear_kdv_opt_mass_soln_0, axis=-1)\n",
    "pk_kdv_opt_mass_5 = dx * tf.reduce_sum(pk_kdv_opt_mass_soln_5, axis=-1)\n",
    "linear_kdv_opt_mass_5 = dx * tf.reduce_sum(linear_kdv_opt_mass_soln_5, axis=-1)\n",
    "bilinear_kdv_opt_mass_5 = dx * tf.reduce_sum(bilinear_kdv_opt_mass_soln_5, axis=-1)\n"
   ]
  },
  {
   "cell_type": "markdown",
   "metadata": {},
   "source": [
    "### Check exact control for KdV equation"
   ]
  },
  {
   "cell_type": "code",
   "execution_count": 88,
   "metadata": {},
   "outputs": [],
   "source": [
    "def v_func(x, c):\n",
    "    return np.exp(-25 * (x - c) ** 2)\n",
    "\n",
    "\n",
    "c1, c2, c3 = -np.pi / 2, 0, np.pi / 2\n",
    "v1 = v_func(x, c1).reshape(1, -1)\n",
    "v2 = v_func(x, c2).reshape(1, -1)\n",
    "v3 = v_func(x, c3).reshape(1, -1)\n",
    "\n",
    "v_list = np.concatenate([v1, v2, v3], axis=0)\n",
    "\n",
    "\n",
    "def v1_func(x):\n",
    "    return np.exp(-25 * (x + np.pi / 2) ** 2)\n",
    "\n",
    "\n",
    "def v2_func(x):\n",
    "    return np.exp(-25 * (x) ** 2)\n",
    "\n",
    "\n",
    "def v3_func(x):\n",
    "    return np.exp(-25 * (x - np.pi / 2) ** 2)\n",
    "\n",
    "\n",
    "from scipy import integrate\n",
    "\n",
    "integral_1, error_1 = integrate.quad(v1_func, -np.pi, np.pi)\n",
    "\n",
    "integral_2, error_2 = integrate.quad(v2_func, -np.pi, np.pi)\n",
    "\n",
    "integral_3, error_3 = integrate.quad(v3_func, -np.pi, np.pi)\n",
    "\n",
    "rhs_value = integral_1 + integral_2 + integral_3\n",
    "\n",
    "mass_y0_track = dx * tf.reshape(tf.math.reduce_sum(y0_track, axis=-1), shape=(-1, 1))\n",
    "\n",
    "track_time_1 = (mass_ref[0] - mass_y0_track) / rhs_value\n",
    "track_step_1 = int(track_time_1 / T)\n",
    "\n",
    "track_time_2 = (mass_ref[-1] - mass_ref[0]) / rhs_value\n",
    "track_step_2 = int(track_time_2 / T)\n",
    "\n",
    "control_exact_opt = np.zeros(shape=pk_opt_control_mass_0.shape, dtype=\"float64\")\n",
    "\n",
    "control_exact_opt[:track_step_1] = 1\n",
    "control_exact_opt[500 : 500 + track_step_2] = 1\n",
    "\n",
    "kdv_opt_control = compute_kdv_soln(y0_track, control_exact_opt)\n",
    "\n",
    "kdv_opt_control = np.asarray(kdv_opt_control)\n",
    "kdv_opt_mass = dx * tf.reshape(tf.math.reduce_sum(kdv_opt_control, axis=-1), shape=(-1, 1))"
   ]
  },
  {
   "cell_type": "code",
   "execution_count": 119,
   "metadata": {},
   "outputs": [
    {
     "data": {
      "text/plain": [
       "<matplotlib.legend.Legend at 0x7f1d25b0ac70>"
      ]
     },
     "execution_count": 119,
     "metadata": {},
     "output_type": "execute_result"
    },
    {
     "data": {
      "image/png": "[encoded data removed]",
      "text/plain": [
       "<Figure size 720x360 with 1 Axes>"
      ]
     },
     "metadata": {
      "needs_background": "light"
     },
     "output_type": "display_data"
    }
   ],
   "source": [
    "plt.figure(figsize=(10, 5))\n",
    "plt.plot(mass_ref, label=\"Reference\", linestyle=\"--\", color=ref_color, linewidth=linewidth)\n",
    "\n",
    "plt.plot(\n",
    "    linear_kdv_opt_mass_0,\n",
    "    label=r\"$M2(\\lambda = 0)$\",\n",
    "    color=linear_no_penalty_color,\n",
    "    linestyle=linear_linestyle,\n",
    "    linewidth=linewidth,\n",
    ")\n",
    "plt.plot(\n",
    "    bilinear_kdv_opt_mass_0,\n",
    "    label=r\"$M3(\\lambda = 0)$\",\n",
    "    color=bilinear_no_penalty_color,\n",
    "    linestyle=bilinear_linestyle,\n",
    "    linewidth=linewidth,\n",
    ")\n",
    "plt.plot(\n",
    "    pk_kdv_opt_mass_0,\n",
    "    label=r\"$Ours(\\lambda = 0)$\", \n",
    "    color=pk_no_penalty_color, \n",
    "    linestyle=pk_linestyle, \n",
    "    linewidth=linewidth,\n",
    "alpha=0.7\n",
    ")\n",
    "\n",
    "\n",
    "plt.plot(\n",
    "    linear_kdv_opt_mass_5,\n",
    "    label=r\"$M2(\\lambda = 0.005)$\",\n",
    "    color=linear_curve,\n",
    "    linestyle=linear_linestyle,\n",
    "    linewidth=linewidth,\n",
    ")\n",
    "plt.plot(\n",
    "    bilinear_kdv_opt_mass_5,\n",
    "    label=r\"$M3(\\lambda = 0.005)$\",\n",
    "    color=bilinear_curve,\n",
    "    linestyle=bilinear_linestyle,\n",
    "    linewidth=linewidth,\n",
    ")\n",
    "plt.plot(\n",
    "    pk_kdv_opt_mass_5,\n",
    "    label=r\"$Ours(\\lambda = 0.005)$\",\n",
    "    color=pk_curve, \n",
    "    linestyle=pk_linestyle, \n",
    "    linewidth=linewidth,\n",
    "    alpha=0.5\n",
    ")\n",
    "\n",
    "plt.plot(kdv_opt_mass, label=\"KdV\", linestyle=\"--\", color=exact_color, linewidth=linewidth, alpha=0.5)\n",
    "\n",
    "plt.xticks(fontsize=ticks_font)\n",
    "plt.yticks(fontsize=ticks_font)\n",
    "plt.xlabel(r\"$n$\", fontsize=label_font)\n",
    "plt.ylabel(\"Mass\", fontsize=label_font)\n",
    "# plt.yscale('log')\n",
    "plt.legend(fontsize=legend_font, loc=(1.05, 0.001))\n",
    "\n",
    "\n",
    "# plt.savefig(os.path.join(figures_path, 'kdv_'+forcing_type+'_mass_tracking.png'), dpi=200, bbox_inches='tight')\n",
    "# plt.savefig(os.path.join(figures_path, 'kdv_'+forcing_type+'_mass_tracking.pdf'), dpi=200, bbox_inches='tight')\n"
   ]
  },
  {
   "cell_type": "markdown",
   "metadata": {},
   "source": [
    "### Track momentum"
   ]
  },
  {
   "cell_type": "code",
   "execution_count": 90,
   "metadata": {},
   "outputs": [
    {
     "name": "stderr",
     "output_type": "stream",
     "text": [
      "Processing time steps:  50%|█████     | 502/998 [02:21<02:19,  3.56it/s]\n"
     ]
    },
    {
     "ename": "KeyboardInterrupt",
     "evalue": "",
     "output_type": "error",
     "traceback": [
      "\u001b[0;31m---------------------------------------------------------------------------\u001b[0m",
      "\u001b[0;31mKeyboardInterrupt\u001b[0m                         Traceback (most recent call last)",
      "Input \u001b[0;32mIn [90]\u001b[0m, in \u001b[0;36m<cell line: 1>\u001b[0;34m()\u001b[0m\n\u001b[0;32m----> 1\u001b[0m pk_opt_control_momentum_0, pk_kdv_opt_momentum_soln_0 \u001b[38;5;241m=\u001b[39m \u001b[43mKoopmanMPC\u001b[49m\u001b[43m(\u001b[49m\n\u001b[1;32m      2\u001b[0m \u001b[43m    \u001b[49m\u001b[43my0\u001b[49m\u001b[38;5;241;43m=\u001b[39;49m\u001b[43my0_track\u001b[49m\u001b[43m,\u001b[49m\n\u001b[1;32m      3\u001b[0m \u001b[43m    \u001b[49m\u001b[43mtau\u001b[49m\u001b[38;5;241;43m=\u001b[39;49m\u001b[43mtau\u001b[49m\u001b[43m,\u001b[49m\n\u001b[1;32m      4\u001b[0m \u001b[43m    \u001b[49m\u001b[43mtraj_len\u001b[49m\u001b[38;5;241;43m=\u001b[39;49m\u001b[43mtraj_len_track\u001b[49m\u001b[43m,\u001b[49m\n\u001b[1;32m      5\u001b[0m \u001b[43m    \u001b[49m\u001b[43msoln_ref\u001b[49m\u001b[38;5;241;43m=\u001b[39;49m\u001b[43mmomentum_ref\u001b[49m\u001b[43m,\u001b[49m\n\u001b[1;32m      6\u001b[0m \u001b[43m    \u001b[49m\u001b[43mkdv_solver\u001b[49m\u001b[38;5;241;43m=\u001b[39;49m\u001b[43mkdv\u001b[49m\u001b[38;5;241;43m.\u001b[39;49m\u001b[43mkdv_solution\u001b[49m\u001b[43m,\u001b[49m\n\u001b[1;32m      7\u001b[0m \u001b[43m    \u001b[49m\u001b[43mB\u001b[49m\u001b[38;5;241;43m=\u001b[39;49m\u001b[43mB_momentum\u001b[49m\u001b[43m,\u001b[49m\n\u001b[1;32m      8\u001b[0m \u001b[43m    \u001b[49m\u001b[43mloss\u001b[49m\u001b[38;5;241;43m=\u001b[39;49m\u001b[43mmpc_loss_pk\u001b[49m\u001b[43m,\u001b[49m\n\u001b[1;32m      9\u001b[0m \u001b[43m    \u001b[49m\u001b[43mlambda_param\u001b[49m\u001b[38;5;241;43m=\u001b[39;49m\u001b[38;5;241;43m0\u001b[39;49m\u001b[43m,\u001b[49m\n\u001b[1;32m     10\u001b[0m \u001b[43m)\u001b[49m\n",
      "Input \u001b[0;32mIn [78]\u001b[0m, in \u001b[0;36mKoopmanMPC\u001b[0;34m(y0, tau, traj_len, soln_ref, kdv_solver, B, loss, lambda_param)\u001b[0m\n\u001b[1;32m     11\u001b[0m \u001b[38;5;28;01mfor\u001b[39;00m current_time \u001b[38;5;129;01min\u001b[39;00m tqdm(\u001b[38;5;28mrange\u001b[39m(traj_len \u001b[38;5;241m-\u001b[39m tau \u001b[38;5;241m-\u001b[39m \u001b[38;5;241m1\u001b[39m), desc\u001b[38;5;241m=\u001b[39m\u001b[38;5;124m\"\u001b[39m\u001b[38;5;124mProcessing time steps\u001b[39m\u001b[38;5;124m\"\u001b[39m):\n\u001b[1;32m     13\u001b[0m     param_init \u001b[38;5;241m=\u001b[39m (\n\u001b[1;32m     14\u001b[0m         np\u001b[38;5;241m.\u001b[39mrandom\u001b[38;5;241m.\u001b[39muniform(low\u001b[38;5;241m=\u001b[39m\u001b[38;5;241m0\u001b[39m, high\u001b[38;5;241m=\u001b[39m\u001b[38;5;241m1\u001b[39m, size\u001b[38;5;241m=\u001b[39m(tau \u001b[38;5;241m*\u001b[39m param_dim,)) \u001b[38;5;241m*\u001b[39m (umax \u001b[38;5;241m-\u001b[39m umin) \u001b[38;5;241m+\u001b[39m umin\n\u001b[1;32m     15\u001b[0m     )\n\u001b[0;32m---> 17\u001b[0m     results \u001b[38;5;241m=\u001b[39m \u001b[43mminimize\u001b[49m\u001b[43m(\u001b[49m\n\u001b[1;32m     18\u001b[0m \u001b[43m        \u001b[49m\u001b[43mloss\u001b[49m\u001b[43m,\u001b[49m\n\u001b[1;32m     19\u001b[0m \u001b[43m        \u001b[49m\u001b[43mx0\u001b[49m\u001b[38;5;241;43m=\u001b[39;49m\u001b[43mparam_init\u001b[49m\u001b[43m,\u001b[49m\n\u001b[1;32m     20\u001b[0m \u001b[43m        \u001b[49m\u001b[43margs\u001b[49m\u001b[38;5;241;43m=\u001b[39;49m\u001b[43m(\u001b[49m\n\u001b[1;32m     21\u001b[0m \u001b[43m            \u001b[49m\u001b[43mtau\u001b[49m\u001b[43m,\u001b[49m\n\u001b[1;32m     22\u001b[0m \u001b[43m            \u001b[49m\u001b[43msoln_ref\u001b[49m\u001b[43m[\u001b[49m\u001b[43mcurrent_time\u001b[49m\u001b[43m \u001b[49m\u001b[38;5;241;43m+\u001b[39;49m\u001b[43m \u001b[49m\u001b[38;5;241;43m1\u001b[39;49m\u001b[43m \u001b[49m\u001b[43m:\u001b[49m\u001b[43m \u001b[49m\u001b[43mcurrent_time\u001b[49m\u001b[43m \u001b[49m\u001b[38;5;241;43m+\u001b[39;49m\u001b[43m \u001b[49m\u001b[38;5;241;43m1\u001b[39;49m\u001b[43m \u001b[49m\u001b[38;5;241;43m+\u001b[39;49m\u001b[43m \u001b[49m\u001b[43mtau\u001b[49m\u001b[43m,\u001b[49m\u001b[43m \u001b[49m\u001b[43m:\u001b[49m\u001b[43m]\u001b[49m\u001b[43m,\u001b[49m\n\u001b[1;32m     23\u001b[0m \u001b[43m            \u001b[49m\u001b[43my0_mpc_loop_list\u001b[49m\u001b[43m[\u001b[49m\u001b[38;5;241;43m-\u001b[39;49m\u001b[38;5;241;43m1\u001b[39;49m\u001b[43m]\u001b[49m\u001b[43m,\u001b[49m\n\u001b[1;32m     24\u001b[0m \u001b[43m            \u001b[49m\u001b[43mB\u001b[49m\u001b[43m,\u001b[49m\n\u001b[1;32m     25\u001b[0m \u001b[43m            \u001b[49m\u001b[43mlambda_param\u001b[49m\u001b[43m,\u001b[49m\n\u001b[1;32m     26\u001b[0m \u001b[43m        \u001b[49m\u001b[43m)\u001b[49m\u001b[43m,\u001b[49m\n\u001b[1;32m     27\u001b[0m \u001b[43m        \u001b[49m\u001b[43mbounds\u001b[49m\u001b[38;5;241;43m=\u001b[39;49m\u001b[43mbounds\u001b[49m\u001b[43m,\u001b[49m\n\u001b[1;32m     28\u001b[0m \u001b[43m    \u001b[49m\u001b[43m)\u001b[49m\n\u001b[1;32m     30\u001b[0m     param \u001b[38;5;241m=\u001b[39m results\u001b[38;5;241m.\u001b[39mx\u001b[38;5;241m.\u001b[39mreshape(tau, param_dim)[\u001b[38;5;241m0\u001b[39m]\n\u001b[1;32m     31\u001b[0m     soln_next \u001b[38;5;241m=\u001b[39m kdv_solver(y0_mpc_loop_list[\u001b[38;5;241m-\u001b[39m\u001b[38;5;241m1\u001b[39m], T, param)\n",
      "File \u001b[0;32m~/Learning-Parametric-Koopman-Decompositions/pknn/lib/python3.8/site-packages/scipy/optimize/_minimize.py:692\u001b[0m, in \u001b[0;36mminimize\u001b[0;34m(fun, x0, args, method, jac, hess, hessp, bounds, constraints, tol, callback, options)\u001b[0m\n\u001b[1;32m    689\u001b[0m     res \u001b[38;5;241m=\u001b[39m _minimize_newtoncg(fun, x0, args, jac, hess, hessp, callback,\n\u001b[1;32m    690\u001b[0m                              \u001b[38;5;241m*\u001b[39m\u001b[38;5;241m*\u001b[39moptions)\n\u001b[1;32m    691\u001b[0m \u001b[38;5;28;01melif\u001b[39;00m meth \u001b[38;5;241m==\u001b[39m \u001b[38;5;124m'\u001b[39m\u001b[38;5;124ml-bfgs-b\u001b[39m\u001b[38;5;124m'\u001b[39m:\n\u001b[0;32m--> 692\u001b[0m     res \u001b[38;5;241m=\u001b[39m \u001b[43m_minimize_lbfgsb\u001b[49m\u001b[43m(\u001b[49m\u001b[43mfun\u001b[49m\u001b[43m,\u001b[49m\u001b[43m \u001b[49m\u001b[43mx0\u001b[49m\u001b[43m,\u001b[49m\u001b[43m \u001b[49m\u001b[43margs\u001b[49m\u001b[43m,\u001b[49m\u001b[43m \u001b[49m\u001b[43mjac\u001b[49m\u001b[43m,\u001b[49m\u001b[43m \u001b[49m\u001b[43mbounds\u001b[49m\u001b[43m,\u001b[49m\n\u001b[1;32m    693\u001b[0m \u001b[43m                           \u001b[49m\u001b[43mcallback\u001b[49m\u001b[38;5;241;43m=\u001b[39;49m\u001b[43mcallback\u001b[49m\u001b[43m,\u001b[49m\u001b[43m \u001b[49m\u001b[38;5;241;43m*\u001b[39;49m\u001b[38;5;241;43m*\u001b[39;49m\u001b[43moptions\u001b[49m\u001b[43m)\u001b[49m\n\u001b[1;32m    694\u001b[0m \u001b[38;5;28;01melif\u001b[39;00m meth \u001b[38;5;241m==\u001b[39m \u001b[38;5;124m'\u001b[39m\u001b[38;5;124mtnc\u001b[39m\u001b[38;5;124m'\u001b[39m:\n\u001b[1;32m    695\u001b[0m     res \u001b[38;5;241m=\u001b[39m _minimize_tnc(fun, x0, args, jac, bounds, callback\u001b[38;5;241m=\u001b[39mcallback,\n\u001b[1;32m    696\u001b[0m                         \u001b[38;5;241m*\u001b[39m\u001b[38;5;241m*\u001b[39moptions)\n",
      "File \u001b[0;32m~/Learning-Parametric-Koopman-Decompositions/pknn/lib/python3.8/site-packages/scipy/optimize/_lbfgsb_py.py:362\u001b[0m, in \u001b[0;36m_minimize_lbfgsb\u001b[0;34m(fun, x0, args, jac, bounds, disp, maxcor, ftol, gtol, eps, maxfun, maxiter, iprint, callback, maxls, finite_diff_rel_step, **unknown_options)\u001b[0m\n\u001b[1;32m    356\u001b[0m task_str \u001b[38;5;241m=\u001b[39m task\u001b[38;5;241m.\u001b[39mtobytes()\n\u001b[1;32m    357\u001b[0m \u001b[38;5;28;01mif\u001b[39;00m task_str\u001b[38;5;241m.\u001b[39mstartswith(\u001b[38;5;124mb\u001b[39m\u001b[38;5;124m'\u001b[39m\u001b[38;5;124mFG\u001b[39m\u001b[38;5;124m'\u001b[39m):\n\u001b[1;32m    358\u001b[0m     \u001b[38;5;66;03m# The minimization routine wants f and g at the current x.\u001b[39;00m\n\u001b[1;32m    359\u001b[0m     \u001b[38;5;66;03m# Note that interruptions due to maxfun are postponed\u001b[39;00m\n\u001b[1;32m    360\u001b[0m     \u001b[38;5;66;03m# until the completion of the current minimization iteration.\u001b[39;00m\n\u001b[1;32m    361\u001b[0m     \u001b[38;5;66;03m# Overwrite f and g:\u001b[39;00m\n\u001b[0;32m--> 362\u001b[0m     f, g \u001b[38;5;241m=\u001b[39m \u001b[43mfunc_and_grad\u001b[49m\u001b[43m(\u001b[49m\u001b[43mx\u001b[49m\u001b[43m)\u001b[49m\n\u001b[1;32m    363\u001b[0m \u001b[38;5;28;01melif\u001b[39;00m task_str\u001b[38;5;241m.\u001b[39mstartswith(\u001b[38;5;124mb\u001b[39m\u001b[38;5;124m'\u001b[39m\u001b[38;5;124mNEW_X\u001b[39m\u001b[38;5;124m'\u001b[39m):\n\u001b[1;32m    364\u001b[0m     \u001b[38;5;66;03m# new iteration\u001b[39;00m\n\u001b[1;32m    365\u001b[0m     n_iterations \u001b[38;5;241m+\u001b[39m\u001b[38;5;241m=\u001b[39m \u001b[38;5;241m1\u001b[39m\n",
      "File \u001b[0;32m~/Learning-Parametric-Koopman-Decompositions/pknn/lib/python3.8/site-packages/scipy/optimize/_differentiable_functions.py:286\u001b[0m, in \u001b[0;36mScalarFunction.fun_and_grad\u001b[0;34m(self, x)\u001b[0m\n\u001b[1;32m    284\u001b[0m     \u001b[38;5;28mself\u001b[39m\u001b[38;5;241m.\u001b[39m_update_x_impl(x)\n\u001b[1;32m    285\u001b[0m \u001b[38;5;28mself\u001b[39m\u001b[38;5;241m.\u001b[39m_update_fun()\n\u001b[0;32m--> 286\u001b[0m \u001b[38;5;28;43mself\u001b[39;49m\u001b[38;5;241;43m.\u001b[39;49m\u001b[43m_update_grad\u001b[49m\u001b[43m(\u001b[49m\u001b[43m)\u001b[49m\n\u001b[1;32m    287\u001b[0m \u001b[38;5;28;01mreturn\u001b[39;00m \u001b[38;5;28mself\u001b[39m\u001b[38;5;241m.\u001b[39mf, \u001b[38;5;28mself\u001b[39m\u001b[38;5;241m.\u001b[39mg\n",
      "File \u001b[0;32m~/Learning-Parametric-Koopman-Decompositions/pknn/lib/python3.8/site-packages/scipy/optimize/_differentiable_functions.py:256\u001b[0m, in \u001b[0;36mScalarFunction._update_grad\u001b[0;34m(self)\u001b[0m\n\u001b[1;32m    254\u001b[0m \u001b[38;5;28;01mdef\u001b[39;00m \u001b[38;5;21m_update_grad\u001b[39m(\u001b[38;5;28mself\u001b[39m):\n\u001b[1;32m    255\u001b[0m     \u001b[38;5;28;01mif\u001b[39;00m \u001b[38;5;129;01mnot\u001b[39;00m \u001b[38;5;28mself\u001b[39m\u001b[38;5;241m.\u001b[39mg_updated:\n\u001b[0;32m--> 256\u001b[0m         \u001b[38;5;28;43mself\u001b[39;49m\u001b[38;5;241;43m.\u001b[39;49m\u001b[43m_update_grad_impl\u001b[49m\u001b[43m(\u001b[49m\u001b[43m)\u001b[49m\n\u001b[1;32m    257\u001b[0m         \u001b[38;5;28mself\u001b[39m\u001b[38;5;241m.\u001b[39mg_updated \u001b[38;5;241m=\u001b[39m \u001b[38;5;28;01mTrue\u001b[39;00m\n",
      "File \u001b[0;32m~/Learning-Parametric-Koopman-Decompositions/pknn/lib/python3.8/site-packages/scipy/optimize/_differentiable_functions.py:173\u001b[0m, in \u001b[0;36mScalarFunction.__init__.<locals>.update_grad\u001b[0;34m()\u001b[0m\n\u001b[1;32m    171\u001b[0m \u001b[38;5;28mself\u001b[39m\u001b[38;5;241m.\u001b[39m_update_fun()\n\u001b[1;32m    172\u001b[0m \u001b[38;5;28mself\u001b[39m\u001b[38;5;241m.\u001b[39mngev \u001b[38;5;241m+\u001b[39m\u001b[38;5;241m=\u001b[39m \u001b[38;5;241m1\u001b[39m\n\u001b[0;32m--> 173\u001b[0m \u001b[38;5;28mself\u001b[39m\u001b[38;5;241m.\u001b[39mg \u001b[38;5;241m=\u001b[39m \u001b[43mapprox_derivative\u001b[49m\u001b[43m(\u001b[49m\u001b[43mfun_wrapped\u001b[49m\u001b[43m,\u001b[49m\u001b[43m \u001b[49m\u001b[38;5;28;43mself\u001b[39;49m\u001b[38;5;241;43m.\u001b[39;49m\u001b[43mx\u001b[49m\u001b[43m,\u001b[49m\u001b[43m \u001b[49m\u001b[43mf0\u001b[49m\u001b[38;5;241;43m=\u001b[39;49m\u001b[38;5;28;43mself\u001b[39;49m\u001b[38;5;241;43m.\u001b[39;49m\u001b[43mf\u001b[49m\u001b[43m,\u001b[49m\n\u001b[1;32m    174\u001b[0m \u001b[43m                           \u001b[49m\u001b[38;5;241;43m*\u001b[39;49m\u001b[38;5;241;43m*\u001b[39;49m\u001b[43mfinite_diff_options\u001b[49m\u001b[43m)\u001b[49m\n",
      "File \u001b[0;32m~/Learning-Parametric-Koopman-Decompositions/pknn/lib/python3.8/site-packages/scipy/optimize/_numdiff.py:505\u001b[0m, in \u001b[0;36mapprox_derivative\u001b[0;34m(fun, x0, method, rel_step, abs_step, f0, bounds, sparsity, as_linear_operator, args, kwargs)\u001b[0m\n\u001b[1;32m    502\u001b[0m     use_one_sided \u001b[38;5;241m=\u001b[39m \u001b[38;5;28;01mFalse\u001b[39;00m\n\u001b[1;32m    504\u001b[0m \u001b[38;5;28;01mif\u001b[39;00m sparsity \u001b[38;5;129;01mis\u001b[39;00m \u001b[38;5;28;01mNone\u001b[39;00m:\n\u001b[0;32m--> 505\u001b[0m     \u001b[38;5;28;01mreturn\u001b[39;00m \u001b[43m_dense_difference\u001b[49m\u001b[43m(\u001b[49m\u001b[43mfun_wrapped\u001b[49m\u001b[43m,\u001b[49m\u001b[43m \u001b[49m\u001b[43mx0\u001b[49m\u001b[43m,\u001b[49m\u001b[43m \u001b[49m\u001b[43mf0\u001b[49m\u001b[43m,\u001b[49m\u001b[43m \u001b[49m\u001b[43mh\u001b[49m\u001b[43m,\u001b[49m\n\u001b[1;32m    506\u001b[0m \u001b[43m                             \u001b[49m\u001b[43muse_one_sided\u001b[49m\u001b[43m,\u001b[49m\u001b[43m \u001b[49m\u001b[43mmethod\u001b[49m\u001b[43m)\u001b[49m\n\u001b[1;32m    507\u001b[0m \u001b[38;5;28;01melse\u001b[39;00m:\n\u001b[1;32m    508\u001b[0m     \u001b[38;5;28;01mif\u001b[39;00m \u001b[38;5;129;01mnot\u001b[39;00m issparse(sparsity) \u001b[38;5;129;01mand\u001b[39;00m \u001b[38;5;28mlen\u001b[39m(sparsity) \u001b[38;5;241m==\u001b[39m \u001b[38;5;241m2\u001b[39m:\n",
      "File \u001b[0;32m~/Learning-Parametric-Koopman-Decompositions/pknn/lib/python3.8/site-packages/scipy/optimize/_numdiff.py:576\u001b[0m, in \u001b[0;36m_dense_difference\u001b[0;34m(fun, x0, f0, h, use_one_sided, method)\u001b[0m\n\u001b[1;32m    574\u001b[0m     x \u001b[38;5;241m=\u001b[39m x0 \u001b[38;5;241m+\u001b[39m h_vecs[i]\n\u001b[1;32m    575\u001b[0m     dx \u001b[38;5;241m=\u001b[39m x[i] \u001b[38;5;241m-\u001b[39m x0[i]  \u001b[38;5;66;03m# Recompute dx as exactly representable number.\u001b[39;00m\n\u001b[0;32m--> 576\u001b[0m     df \u001b[38;5;241m=\u001b[39m \u001b[43mfun\u001b[49m\u001b[43m(\u001b[49m\u001b[43mx\u001b[49m\u001b[43m)\u001b[49m \u001b[38;5;241m-\u001b[39m f0\n\u001b[1;32m    577\u001b[0m \u001b[38;5;28;01melif\u001b[39;00m method \u001b[38;5;241m==\u001b[39m \u001b[38;5;124m'\u001b[39m\u001b[38;5;124m3-point\u001b[39m\u001b[38;5;124m'\u001b[39m \u001b[38;5;129;01mand\u001b[39;00m use_one_sided[i]:\n\u001b[1;32m    578\u001b[0m     x1 \u001b[38;5;241m=\u001b[39m x0 \u001b[38;5;241m+\u001b[39m h_vecs[i]\n",
      "File \u001b[0;32m~/Learning-Parametric-Koopman-Decompositions/pknn/lib/python3.8/site-packages/scipy/optimize/_numdiff.py:456\u001b[0m, in \u001b[0;36mapprox_derivative.<locals>.fun_wrapped\u001b[0;34m(x)\u001b[0m\n\u001b[1;32m    455\u001b[0m \u001b[38;5;28;01mdef\u001b[39;00m \u001b[38;5;21mfun_wrapped\u001b[39m(x):\n\u001b[0;32m--> 456\u001b[0m     f \u001b[38;5;241m=\u001b[39m np\u001b[38;5;241m.\u001b[39matleast_1d(\u001b[43mfun\u001b[49m\u001b[43m(\u001b[49m\u001b[43mx\u001b[49m\u001b[43m,\u001b[49m\u001b[43m \u001b[49m\u001b[38;5;241;43m*\u001b[39;49m\u001b[43margs\u001b[49m\u001b[43m,\u001b[49m\u001b[43m \u001b[49m\u001b[38;5;241;43m*\u001b[39;49m\u001b[38;5;241;43m*\u001b[39;49m\u001b[43mkwargs\u001b[49m\u001b[43m)\u001b[49m)\n\u001b[1;32m    457\u001b[0m     \u001b[38;5;28;01mif\u001b[39;00m f\u001b[38;5;241m.\u001b[39mndim \u001b[38;5;241m>\u001b[39m \u001b[38;5;241m1\u001b[39m:\n\u001b[1;32m    458\u001b[0m         \u001b[38;5;28;01mraise\u001b[39;00m \u001b[38;5;167;01mRuntimeError\u001b[39;00m(\u001b[38;5;124m\"\u001b[39m\u001b[38;5;124m`fun` return value has \u001b[39m\u001b[38;5;124m\"\u001b[39m\n\u001b[1;32m    459\u001b[0m                            \u001b[38;5;124m\"\u001b[39m\u001b[38;5;124mmore than 1 dimension.\u001b[39m\u001b[38;5;124m\"\u001b[39m)\n",
      "File \u001b[0;32m~/Learning-Parametric-Koopman-Decompositions/pknn/lib/python3.8/site-packages/scipy/optimize/_differentiable_functions.py:137\u001b[0m, in \u001b[0;36mScalarFunction.__init__.<locals>.fun_wrapped\u001b[0;34m(x)\u001b[0m\n\u001b[1;32m    133\u001b[0m \u001b[38;5;28mself\u001b[39m\u001b[38;5;241m.\u001b[39mnfev \u001b[38;5;241m+\u001b[39m\u001b[38;5;241m=\u001b[39m \u001b[38;5;241m1\u001b[39m\n\u001b[1;32m    134\u001b[0m \u001b[38;5;66;03m# Send a copy because the user may overwrite it.\u001b[39;00m\n\u001b[1;32m    135\u001b[0m \u001b[38;5;66;03m# Overwriting results in undefined behaviour because\u001b[39;00m\n\u001b[1;32m    136\u001b[0m \u001b[38;5;66;03m# fun(self.x) will change self.x, with the two no longer linked.\u001b[39;00m\n\u001b[0;32m--> 137\u001b[0m fx \u001b[38;5;241m=\u001b[39m \u001b[43mfun\u001b[49m\u001b[43m(\u001b[49m\u001b[43mnp\u001b[49m\u001b[38;5;241;43m.\u001b[39;49m\u001b[43mcopy\u001b[49m\u001b[43m(\u001b[49m\u001b[43mx\u001b[49m\u001b[43m)\u001b[49m\u001b[43m,\u001b[49m\u001b[43m \u001b[49m\u001b[38;5;241;43m*\u001b[39;49m\u001b[43margs\u001b[49m\u001b[43m)\u001b[49m\n\u001b[1;32m    138\u001b[0m \u001b[38;5;66;03m# Make sure the function returns a true scalar\u001b[39;00m\n\u001b[1;32m    139\u001b[0m \u001b[38;5;28;01mif\u001b[39;00m \u001b[38;5;129;01mnot\u001b[39;00m np\u001b[38;5;241m.\u001b[39misscalar(fx):\n",
      "Input \u001b[0;32mIn [77]\u001b[0m, in \u001b[0;36mmpc_loss_pk\u001b[0;34m(param, tau, ref_list, y0, B, lambda_param)\u001b[0m\n\u001b[1;32m      5\u001b[0m psi_y \u001b[38;5;241m=\u001b[39m dic_pk(y0)\n\u001b[1;32m      7\u001b[0m \u001b[38;5;28;01mfor\u001b[39;00m i \u001b[38;5;129;01min\u001b[39;00m \u001b[38;5;28mrange\u001b[39m(tau):\n\u001b[0;32m----> 8\u001b[0m     psi_x \u001b[38;5;241m=\u001b[39m \u001b[43mmodel_K_u_pred_pk\u001b[49m\u001b[43m(\u001b[49m\u001b[43m[\u001b[49m\u001b[43mparam\u001b[49m\u001b[43m[\u001b[49m\u001b[43mi\u001b[49m\u001b[43m]\u001b[49m\u001b[43m,\u001b[49m\u001b[43m \u001b[49m\u001b[43mpsi_y\u001b[49m\u001b[43m]\u001b[49m\u001b[43m)\u001b[49m\n\u001b[1;32m      9\u001b[0m     obs_next \u001b[38;5;241m=\u001b[39m psi_x \u001b[38;5;241m@\u001b[39m B\n\u001b[1;32m     10\u001b[0m     loss_curr \u001b[38;5;241m=\u001b[39m tf\u001b[38;5;241m.\u001b[39msquare(tf\u001b[38;5;241m.\u001b[39mnorm(ref_list[i] \u001b[38;5;241m-\u001b[39m obs_next))\n",
      "File \u001b[0;32m~/Learning-Parametric-Koopman-Decompositions/pknn/lib/python3.8/site-packages/keras/utils/traceback_utils.py:65\u001b[0m, in \u001b[0;36mfilter_traceback.<locals>.error_handler\u001b[0;34m(*args, **kwargs)\u001b[0m\n\u001b[1;32m     63\u001b[0m filtered_tb \u001b[38;5;241m=\u001b[39m \u001b[38;5;28;01mNone\u001b[39;00m\n\u001b[1;32m     64\u001b[0m \u001b[38;5;28;01mtry\u001b[39;00m:\n\u001b[0;32m---> 65\u001b[0m     \u001b[38;5;28;01mreturn\u001b[39;00m \u001b[43mfn\u001b[49m\u001b[43m(\u001b[49m\u001b[38;5;241;43m*\u001b[39;49m\u001b[43margs\u001b[49m\u001b[43m,\u001b[49m\u001b[43m \u001b[49m\u001b[38;5;241;43m*\u001b[39;49m\u001b[38;5;241;43m*\u001b[39;49m\u001b[43mkwargs\u001b[49m\u001b[43m)\u001b[49m\n\u001b[1;32m     66\u001b[0m \u001b[38;5;28;01mexcept\u001b[39;00m \u001b[38;5;167;01mException\u001b[39;00m \u001b[38;5;28;01mas\u001b[39;00m e:\n\u001b[1;32m     67\u001b[0m     filtered_tb \u001b[38;5;241m=\u001b[39m _process_traceback_frames(e\u001b[38;5;241m.\u001b[39m__traceback__)\n",
      "File \u001b[0;32m~/Learning-Parametric-Koopman-Decompositions/pknn/lib/python3.8/site-packages/keras/engine/training.py:561\u001b[0m, in \u001b[0;36mModel.__call__\u001b[0;34m(self, *args, **kwargs)\u001b[0m\n\u001b[1;32m    557\u001b[0m         \u001b[38;5;28msuper\u001b[39m()\u001b[38;5;241m.\u001b[39m\u001b[38;5;21m__call__\u001b[39m(inputs, \u001b[38;5;241m*\u001b[39mcopied_args, \u001b[38;5;241m*\u001b[39m\u001b[38;5;241m*\u001b[39mcopied_kwargs)\n\u001b[1;32m    559\u001b[0m     layout_map_lib\u001b[38;5;241m.\u001b[39m_map_subclass_model_variable(\u001b[38;5;28mself\u001b[39m, \u001b[38;5;28mself\u001b[39m\u001b[38;5;241m.\u001b[39m_layout_map)\n\u001b[0;32m--> 561\u001b[0m \u001b[38;5;28;01mreturn\u001b[39;00m \u001b[38;5;28;43msuper\u001b[39;49m\u001b[43m(\u001b[49m\u001b[43m)\u001b[49m\u001b[38;5;241;43m.\u001b[39;49m\u001b[38;5;21;43m__call__\u001b[39;49m\u001b[43m(\u001b[49m\u001b[38;5;241;43m*\u001b[39;49m\u001b[43margs\u001b[49m\u001b[43m,\u001b[49m\u001b[43m \u001b[49m\u001b[38;5;241;43m*\u001b[39;49m\u001b[38;5;241;43m*\u001b[39;49m\u001b[43mkwargs\u001b[49m\u001b[43m)\u001b[49m\n",
      "File \u001b[0;32m~/Learning-Parametric-Koopman-Decompositions/pknn/lib/python3.8/site-packages/keras/utils/traceback_utils.py:65\u001b[0m, in \u001b[0;36mfilter_traceback.<locals>.error_handler\u001b[0;34m(*args, **kwargs)\u001b[0m\n\u001b[1;32m     63\u001b[0m filtered_tb \u001b[38;5;241m=\u001b[39m \u001b[38;5;28;01mNone\u001b[39;00m\n\u001b[1;32m     64\u001b[0m \u001b[38;5;28;01mtry\u001b[39;00m:\n\u001b[0;32m---> 65\u001b[0m     \u001b[38;5;28;01mreturn\u001b[39;00m \u001b[43mfn\u001b[49m\u001b[43m(\u001b[49m\u001b[38;5;241;43m*\u001b[39;49m\u001b[43margs\u001b[49m\u001b[43m,\u001b[49m\u001b[43m \u001b[49m\u001b[38;5;241;43m*\u001b[39;49m\u001b[38;5;241;43m*\u001b[39;49m\u001b[43mkwargs\u001b[49m\u001b[43m)\u001b[49m\n\u001b[1;32m     66\u001b[0m \u001b[38;5;28;01mexcept\u001b[39;00m \u001b[38;5;167;01mException\u001b[39;00m \u001b[38;5;28;01mas\u001b[39;00m e:\n\u001b[1;32m     67\u001b[0m     filtered_tb \u001b[38;5;241m=\u001b[39m _process_traceback_frames(e\u001b[38;5;241m.\u001b[39m__traceback__)\n",
      "File \u001b[0;32m~/Learning-Parametric-Koopman-Decompositions/pknn/lib/python3.8/site-packages/keras/engine/base_layer.py:1132\u001b[0m, in \u001b[0;36mLayer.__call__\u001b[0;34m(self, *args, **kwargs)\u001b[0m\n\u001b[1;32m   1127\u001b[0m     inputs \u001b[38;5;241m=\u001b[39m \u001b[38;5;28mself\u001b[39m\u001b[38;5;241m.\u001b[39m_maybe_cast_inputs(inputs, input_list)\n\u001b[1;32m   1129\u001b[0m \u001b[38;5;28;01mwith\u001b[39;00m autocast_variable\u001b[38;5;241m.\u001b[39menable_auto_cast_variables(\n\u001b[1;32m   1130\u001b[0m     \u001b[38;5;28mself\u001b[39m\u001b[38;5;241m.\u001b[39m_compute_dtype_object\n\u001b[1;32m   1131\u001b[0m ):\n\u001b[0;32m-> 1132\u001b[0m     outputs \u001b[38;5;241m=\u001b[39m \u001b[43mcall_fn\u001b[49m\u001b[43m(\u001b[49m\u001b[43minputs\u001b[49m\u001b[43m,\u001b[49m\u001b[43m \u001b[49m\u001b[38;5;241;43m*\u001b[39;49m\u001b[43margs\u001b[49m\u001b[43m,\u001b[49m\u001b[43m \u001b[49m\u001b[38;5;241;43m*\u001b[39;49m\u001b[38;5;241;43m*\u001b[39;49m\u001b[43mkwargs\u001b[49m\u001b[43m)\u001b[49m\n\u001b[1;32m   1134\u001b[0m \u001b[38;5;28;01mif\u001b[39;00m \u001b[38;5;28mself\u001b[39m\u001b[38;5;241m.\u001b[39m_activity_regularizer:\n\u001b[1;32m   1135\u001b[0m     \u001b[38;5;28mself\u001b[39m\u001b[38;5;241m.\u001b[39m_handle_activity_regularization(inputs, outputs)\n",
      "File \u001b[0;32m~/Learning-Parametric-Koopman-Decompositions/pknn/lib/python3.8/site-packages/keras/utils/traceback_utils.py:96\u001b[0m, in \u001b[0;36minject_argument_info_in_traceback.<locals>.error_handler\u001b[0;34m(*args, **kwargs)\u001b[0m\n\u001b[1;32m     94\u001b[0m bound_signature \u001b[38;5;241m=\u001b[39m \u001b[38;5;28;01mNone\u001b[39;00m\n\u001b[1;32m     95\u001b[0m \u001b[38;5;28;01mtry\u001b[39;00m:\n\u001b[0;32m---> 96\u001b[0m     \u001b[38;5;28;01mreturn\u001b[39;00m \u001b[43mfn\u001b[49m\u001b[43m(\u001b[49m\u001b[38;5;241;43m*\u001b[39;49m\u001b[43margs\u001b[49m\u001b[43m,\u001b[49m\u001b[43m \u001b[49m\u001b[38;5;241;43m*\u001b[39;49m\u001b[38;5;241;43m*\u001b[39;49m\u001b[43mkwargs\u001b[49m\u001b[43m)\u001b[49m\n\u001b[1;32m     97\u001b[0m \u001b[38;5;28;01mexcept\u001b[39;00m \u001b[38;5;167;01mException\u001b[39;00m \u001b[38;5;28;01mas\u001b[39;00m e:\n\u001b[1;32m     98\u001b[0m     \u001b[38;5;28;01mif\u001b[39;00m \u001b[38;5;28mhasattr\u001b[39m(e, \u001b[38;5;124m\"\u001b[39m\u001b[38;5;124m_keras_call_info_injected\u001b[39m\u001b[38;5;124m\"\u001b[39m):\n\u001b[1;32m     99\u001b[0m         \u001b[38;5;66;03m# Only inject info for the innermost failing call\u001b[39;00m\n",
      "File \u001b[0;32m~/Learning-Parametric-Koopman-Decompositions/pknn/lib/python3.8/site-packages/keras/engine/functional.py:511\u001b[0m, in \u001b[0;36mFunctional.call\u001b[0;34m(self, inputs, training, mask)\u001b[0m\n\u001b[1;32m    492\u001b[0m \u001b[38;5;129m@doc_controls\u001b[39m\u001b[38;5;241m.\u001b[39mdo_not_doc_inheritable\n\u001b[1;32m    493\u001b[0m \u001b[38;5;28;01mdef\u001b[39;00m \u001b[38;5;21mcall\u001b[39m(\u001b[38;5;28mself\u001b[39m, inputs, training\u001b[38;5;241m=\u001b[39m\u001b[38;5;28;01mNone\u001b[39;00m, mask\u001b[38;5;241m=\u001b[39m\u001b[38;5;28;01mNone\u001b[39;00m):\n\u001b[1;32m    494\u001b[0m     \u001b[38;5;124;03m\"\"\"Calls the model on new inputs.\u001b[39;00m\n\u001b[1;32m    495\u001b[0m \n\u001b[1;32m    496\u001b[0m \u001b[38;5;124;03m    In this case `call` just reapplies\u001b[39;00m\n\u001b[0;32m   (...)\u001b[0m\n\u001b[1;32m    509\u001b[0m \u001b[38;5;124;03m        a list of tensors if there are more than one outputs.\u001b[39;00m\n\u001b[1;32m    510\u001b[0m \u001b[38;5;124;03m    \"\"\"\u001b[39;00m\n\u001b[0;32m--> 511\u001b[0m     \u001b[38;5;28;01mreturn\u001b[39;00m \u001b[38;5;28;43mself\u001b[39;49m\u001b[38;5;241;43m.\u001b[39;49m\u001b[43m_run_internal_graph\u001b[49m\u001b[43m(\u001b[49m\u001b[43minputs\u001b[49m\u001b[43m,\u001b[49m\u001b[43m \u001b[49m\u001b[43mtraining\u001b[49m\u001b[38;5;241;43m=\u001b[39;49m\u001b[43mtraining\u001b[49m\u001b[43m,\u001b[49m\u001b[43m \u001b[49m\u001b[43mmask\u001b[49m\u001b[38;5;241;43m=\u001b[39;49m\u001b[43mmask\u001b[49m\u001b[43m)\u001b[49m\n",
      "File \u001b[0;32m~/Learning-Parametric-Koopman-Decompositions/pknn/lib/python3.8/site-packages/keras/engine/functional.py:668\u001b[0m, in \u001b[0;36mFunctional._run_internal_graph\u001b[0;34m(self, inputs, training, mask)\u001b[0m\n\u001b[1;32m    665\u001b[0m     \u001b[38;5;28;01mcontinue\u001b[39;00m  \u001b[38;5;66;03m# Node is not computable, try skipping.\u001b[39;00m\n\u001b[1;32m    667\u001b[0m args, kwargs \u001b[38;5;241m=\u001b[39m node\u001b[38;5;241m.\u001b[39mmap_arguments(tensor_dict)\n\u001b[0;32m--> 668\u001b[0m outputs \u001b[38;5;241m=\u001b[39m \u001b[43mnode\u001b[49m\u001b[38;5;241;43m.\u001b[39;49m\u001b[43mlayer\u001b[49m\u001b[43m(\u001b[49m\u001b[38;5;241;43m*\u001b[39;49m\u001b[43margs\u001b[49m\u001b[43m,\u001b[49m\u001b[43m \u001b[49m\u001b[38;5;241;43m*\u001b[39;49m\u001b[38;5;241;43m*\u001b[39;49m\u001b[43mkwargs\u001b[49m\u001b[43m)\u001b[49m\n\u001b[1;32m    670\u001b[0m \u001b[38;5;66;03m# Update tensor_dict.\u001b[39;00m\n\u001b[1;32m    671\u001b[0m \u001b[38;5;28;01mfor\u001b[39;00m x_id, y \u001b[38;5;129;01min\u001b[39;00m \u001b[38;5;28mzip\u001b[39m(\n\u001b[1;32m    672\u001b[0m     node\u001b[38;5;241m.\u001b[39mflat_output_ids, tf\u001b[38;5;241m.\u001b[39mnest\u001b[38;5;241m.\u001b[39mflatten(outputs)\n\u001b[1;32m    673\u001b[0m ):\n",
      "File \u001b[0;32m~/Learning-Parametric-Koopman-Decompositions/pknn/lib/python3.8/site-packages/keras/utils/traceback_utils.py:65\u001b[0m, in \u001b[0;36mfilter_traceback.<locals>.error_handler\u001b[0;34m(*args, **kwargs)\u001b[0m\n\u001b[1;32m     63\u001b[0m filtered_tb \u001b[38;5;241m=\u001b[39m \u001b[38;5;28;01mNone\u001b[39;00m\n\u001b[1;32m     64\u001b[0m \u001b[38;5;28;01mtry\u001b[39;00m:\n\u001b[0;32m---> 65\u001b[0m     \u001b[38;5;28;01mreturn\u001b[39;00m \u001b[43mfn\u001b[49m\u001b[43m(\u001b[49m\u001b[38;5;241;43m*\u001b[39;49m\u001b[43margs\u001b[49m\u001b[43m,\u001b[49m\u001b[43m \u001b[49m\u001b[38;5;241;43m*\u001b[39;49m\u001b[38;5;241;43m*\u001b[39;49m\u001b[43mkwargs\u001b[49m\u001b[43m)\u001b[49m\n\u001b[1;32m     66\u001b[0m \u001b[38;5;28;01mexcept\u001b[39;00m \u001b[38;5;167;01mException\u001b[39;00m \u001b[38;5;28;01mas\u001b[39;00m e:\n\u001b[1;32m     67\u001b[0m     filtered_tb \u001b[38;5;241m=\u001b[39m _process_traceback_frames(e\u001b[38;5;241m.\u001b[39m__traceback__)\n",
      "File \u001b[0;32m~/Learning-Parametric-Koopman-Decompositions/pknn/lib/python3.8/site-packages/keras/engine/base_layer.py:1132\u001b[0m, in \u001b[0;36mLayer.__call__\u001b[0;34m(self, *args, **kwargs)\u001b[0m\n\u001b[1;32m   1127\u001b[0m     inputs \u001b[38;5;241m=\u001b[39m \u001b[38;5;28mself\u001b[39m\u001b[38;5;241m.\u001b[39m_maybe_cast_inputs(inputs, input_list)\n\u001b[1;32m   1129\u001b[0m \u001b[38;5;28;01mwith\u001b[39;00m autocast_variable\u001b[38;5;241m.\u001b[39menable_auto_cast_variables(\n\u001b[1;32m   1130\u001b[0m     \u001b[38;5;28mself\u001b[39m\u001b[38;5;241m.\u001b[39m_compute_dtype_object\n\u001b[1;32m   1131\u001b[0m ):\n\u001b[0;32m-> 1132\u001b[0m     outputs \u001b[38;5;241m=\u001b[39m \u001b[43mcall_fn\u001b[49m\u001b[43m(\u001b[49m\u001b[43minputs\u001b[49m\u001b[43m,\u001b[49m\u001b[43m \u001b[49m\u001b[38;5;241;43m*\u001b[39;49m\u001b[43margs\u001b[49m\u001b[43m,\u001b[49m\u001b[43m \u001b[49m\u001b[38;5;241;43m*\u001b[39;49m\u001b[38;5;241;43m*\u001b[39;49m\u001b[43mkwargs\u001b[49m\u001b[43m)\u001b[49m\n\u001b[1;32m   1134\u001b[0m \u001b[38;5;28;01mif\u001b[39;00m \u001b[38;5;28mself\u001b[39m\u001b[38;5;241m.\u001b[39m_activity_regularizer:\n\u001b[1;32m   1135\u001b[0m     \u001b[38;5;28mself\u001b[39m\u001b[38;5;241m.\u001b[39m_handle_activity_regularization(inputs, outputs)\n",
      "File \u001b[0;32m~/Learning-Parametric-Koopman-Decompositions/pknn/lib/python3.8/site-packages/keras/utils/traceback_utils.py:96\u001b[0m, in \u001b[0;36minject_argument_info_in_traceback.<locals>.error_handler\u001b[0;34m(*args, **kwargs)\u001b[0m\n\u001b[1;32m     94\u001b[0m bound_signature \u001b[38;5;241m=\u001b[39m \u001b[38;5;28;01mNone\u001b[39;00m\n\u001b[1;32m     95\u001b[0m \u001b[38;5;28;01mtry\u001b[39;00m:\n\u001b[0;32m---> 96\u001b[0m     \u001b[38;5;28;01mreturn\u001b[39;00m \u001b[43mfn\u001b[49m\u001b[43m(\u001b[49m\u001b[38;5;241;43m*\u001b[39;49m\u001b[43margs\u001b[49m\u001b[43m,\u001b[49m\u001b[43m \u001b[49m\u001b[38;5;241;43m*\u001b[39;49m\u001b[38;5;241;43m*\u001b[39;49m\u001b[43mkwargs\u001b[49m\u001b[43m)\u001b[49m\n\u001b[1;32m     97\u001b[0m \u001b[38;5;28;01mexcept\u001b[39;00m \u001b[38;5;167;01mException\u001b[39;00m \u001b[38;5;28;01mas\u001b[39;00m e:\n\u001b[1;32m     98\u001b[0m     \u001b[38;5;28;01mif\u001b[39;00m \u001b[38;5;28mhasattr\u001b[39m(e, \u001b[38;5;124m\"\u001b[39m\u001b[38;5;124m_keras_call_info_injected\u001b[39m\u001b[38;5;124m\"\u001b[39m):\n\u001b[1;32m     99\u001b[0m         \u001b[38;5;66;03m# Only inject info for the innermost failing call\u001b[39;00m\n",
      "File \u001b[0;32m~/Learning-Parametric-Koopman-Decompositions/src/koopmanlib/K_structure.py:47\u001b[0m, in \u001b[0;36mModel_K_u_Layer_One.call\u001b[0;34m(self, inputs)\u001b[0m\n\u001b[1;32m     45\u001b[0m \u001b[38;5;28;01mfor\u001b[39;00m layer \u001b[38;5;129;01min\u001b[39;00m \u001b[38;5;28mself\u001b[39m\u001b[38;5;241m.\u001b[39mhidden_layers:\n\u001b[1;32m     46\u001b[0m     hidden_u \u001b[38;5;241m=\u001b[39m layer(hidden_u)\n\u001b[0;32m---> 47\u001b[0m K_u_entry \u001b[38;5;241m=\u001b[39m \u001b[38;5;28;43mself\u001b[39;49m\u001b[38;5;241;43m.\u001b[39;49m\u001b[43moutput_layer\u001b[49m\u001b[43m(\u001b[49m\u001b[43mhidden_u\u001b[49m\u001b[43m)\u001b[49m\n\u001b[1;32m     48\u001b[0m K_u \u001b[38;5;241m=\u001b[39m tf\u001b[38;5;241m.\u001b[39mreshape(K_u_entry, shape\u001b[38;5;241m=\u001b[39m(\u001b[38;5;241m-\u001b[39m\u001b[38;5;241m1\u001b[39m, \u001b[38;5;28mself\u001b[39m\u001b[38;5;241m.\u001b[39mn_psi, \u001b[38;5;28mself\u001b[39m\u001b[38;5;241m.\u001b[39mn_psi \u001b[38;5;241m-\u001b[39m \u001b[38;5;241m1\u001b[39m))\n\u001b[1;32m     49\u001b[0m Constant_one \u001b[38;5;241m=\u001b[39m tf\u001b[38;5;241m.\u001b[39mconstant([[\u001b[38;5;241m1\u001b[39m]] \u001b[38;5;241m+\u001b[39m [[\u001b[38;5;241m0\u001b[39m]] \u001b[38;5;241m*\u001b[39m (\u001b[38;5;28mself\u001b[39m\u001b[38;5;241m.\u001b[39mn_psi \u001b[38;5;241m-\u001b[39m \u001b[38;5;241m1\u001b[39m), dtype\u001b[38;5;241m=\u001b[39m\u001b[38;5;124m\"\u001b[39m\u001b[38;5;124mfloat64\u001b[39m\u001b[38;5;124m\"\u001b[39m)\n",
      "File \u001b[0;32m~/Learning-Parametric-Koopman-Decompositions/pknn/lib/python3.8/site-packages/keras/utils/traceback_utils.py:65\u001b[0m, in \u001b[0;36mfilter_traceback.<locals>.error_handler\u001b[0;34m(*args, **kwargs)\u001b[0m\n\u001b[1;32m     63\u001b[0m filtered_tb \u001b[38;5;241m=\u001b[39m \u001b[38;5;28;01mNone\u001b[39;00m\n\u001b[1;32m     64\u001b[0m \u001b[38;5;28;01mtry\u001b[39;00m:\n\u001b[0;32m---> 65\u001b[0m     \u001b[38;5;28;01mreturn\u001b[39;00m \u001b[43mfn\u001b[49m\u001b[43m(\u001b[49m\u001b[38;5;241;43m*\u001b[39;49m\u001b[43margs\u001b[49m\u001b[43m,\u001b[49m\u001b[43m \u001b[49m\u001b[38;5;241;43m*\u001b[39;49m\u001b[38;5;241;43m*\u001b[39;49m\u001b[43mkwargs\u001b[49m\u001b[43m)\u001b[49m\n\u001b[1;32m     66\u001b[0m \u001b[38;5;28;01mexcept\u001b[39;00m \u001b[38;5;167;01mException\u001b[39;00m \u001b[38;5;28;01mas\u001b[39;00m e:\n\u001b[1;32m     67\u001b[0m     filtered_tb \u001b[38;5;241m=\u001b[39m _process_traceback_frames(e\u001b[38;5;241m.\u001b[39m__traceback__)\n",
      "File \u001b[0;32m~/Learning-Parametric-Koopman-Decompositions/pknn/lib/python3.8/site-packages/keras/engine/base_layer.py:1132\u001b[0m, in \u001b[0;36mLayer.__call__\u001b[0;34m(self, *args, **kwargs)\u001b[0m\n\u001b[1;32m   1127\u001b[0m     inputs \u001b[38;5;241m=\u001b[39m \u001b[38;5;28mself\u001b[39m\u001b[38;5;241m.\u001b[39m_maybe_cast_inputs(inputs, input_list)\n\u001b[1;32m   1129\u001b[0m \u001b[38;5;28;01mwith\u001b[39;00m autocast_variable\u001b[38;5;241m.\u001b[39menable_auto_cast_variables(\n\u001b[1;32m   1130\u001b[0m     \u001b[38;5;28mself\u001b[39m\u001b[38;5;241m.\u001b[39m_compute_dtype_object\n\u001b[1;32m   1131\u001b[0m ):\n\u001b[0;32m-> 1132\u001b[0m     outputs \u001b[38;5;241m=\u001b[39m \u001b[43mcall_fn\u001b[49m\u001b[43m(\u001b[49m\u001b[43minputs\u001b[49m\u001b[43m,\u001b[49m\u001b[43m \u001b[49m\u001b[38;5;241;43m*\u001b[39;49m\u001b[43margs\u001b[49m\u001b[43m,\u001b[49m\u001b[43m \u001b[49m\u001b[38;5;241;43m*\u001b[39;49m\u001b[38;5;241;43m*\u001b[39;49m\u001b[43mkwargs\u001b[49m\u001b[43m)\u001b[49m\n\u001b[1;32m   1134\u001b[0m \u001b[38;5;28;01mif\u001b[39;00m \u001b[38;5;28mself\u001b[39m\u001b[38;5;241m.\u001b[39m_activity_regularizer:\n\u001b[1;32m   1135\u001b[0m     \u001b[38;5;28mself\u001b[39m\u001b[38;5;241m.\u001b[39m_handle_activity_regularization(inputs, outputs)\n",
      "File \u001b[0;32m~/Learning-Parametric-Koopman-Decompositions/pknn/lib/python3.8/site-packages/keras/utils/traceback_utils.py:96\u001b[0m, in \u001b[0;36minject_argument_info_in_traceback.<locals>.error_handler\u001b[0;34m(*args, **kwargs)\u001b[0m\n\u001b[1;32m     94\u001b[0m bound_signature \u001b[38;5;241m=\u001b[39m \u001b[38;5;28;01mNone\u001b[39;00m\n\u001b[1;32m     95\u001b[0m \u001b[38;5;28;01mtry\u001b[39;00m:\n\u001b[0;32m---> 96\u001b[0m     \u001b[38;5;28;01mreturn\u001b[39;00m \u001b[43mfn\u001b[49m\u001b[43m(\u001b[49m\u001b[38;5;241;43m*\u001b[39;49m\u001b[43margs\u001b[49m\u001b[43m,\u001b[49m\u001b[43m \u001b[49m\u001b[38;5;241;43m*\u001b[39;49m\u001b[38;5;241;43m*\u001b[39;49m\u001b[43mkwargs\u001b[49m\u001b[43m)\u001b[49m\n\u001b[1;32m     97\u001b[0m \u001b[38;5;28;01mexcept\u001b[39;00m \u001b[38;5;167;01mException\u001b[39;00m \u001b[38;5;28;01mas\u001b[39;00m e:\n\u001b[1;32m     98\u001b[0m     \u001b[38;5;28;01mif\u001b[39;00m \u001b[38;5;28mhasattr\u001b[39m(e, \u001b[38;5;124m\"\u001b[39m\u001b[38;5;124m_keras_call_info_injected\u001b[39m\u001b[38;5;124m\"\u001b[39m):\n\u001b[1;32m     99\u001b[0m         \u001b[38;5;66;03m# Only inject info for the innermost failing call\u001b[39;00m\n",
      "File \u001b[0;32m~/Learning-Parametric-Koopman-Decompositions/pknn/lib/python3.8/site-packages/keras/layers/core/dense.py:252\u001b[0m, in \u001b[0;36mDense.call\u001b[0;34m(self, inputs)\u001b[0m\n\u001b[1;32m    249\u001b[0m         outputs\u001b[38;5;241m.\u001b[39mset_shape(output_shape)\n\u001b[1;32m    251\u001b[0m \u001b[38;5;28;01mif\u001b[39;00m \u001b[38;5;28mself\u001b[39m\u001b[38;5;241m.\u001b[39muse_bias:\n\u001b[0;32m--> 252\u001b[0m     outputs \u001b[38;5;241m=\u001b[39m \u001b[43mtf\u001b[49m\u001b[38;5;241;43m.\u001b[39;49m\u001b[43mnn\u001b[49m\u001b[38;5;241;43m.\u001b[39;49m\u001b[43mbias_add\u001b[49m\u001b[43m(\u001b[49m\u001b[43moutputs\u001b[49m\u001b[43m,\u001b[49m\u001b[43m \u001b[49m\u001b[38;5;28;43mself\u001b[39;49m\u001b[38;5;241;43m.\u001b[39;49m\u001b[43mbias\u001b[49m\u001b[43m)\u001b[49m\n\u001b[1;32m    254\u001b[0m \u001b[38;5;28;01mif\u001b[39;00m \u001b[38;5;28mself\u001b[39m\u001b[38;5;241m.\u001b[39mactivation \u001b[38;5;129;01mis\u001b[39;00m \u001b[38;5;129;01mnot\u001b[39;00m \u001b[38;5;28;01mNone\u001b[39;00m:\n\u001b[1;32m    255\u001b[0m     outputs \u001b[38;5;241m=\u001b[39m \u001b[38;5;28mself\u001b[39m\u001b[38;5;241m.\u001b[39mactivation(outputs)\n",
      "File \u001b[0;32m~/Learning-Parametric-Koopman-Decompositions/pknn/lib/python3.8/site-packages/tensorflow/python/util/traceback_utils.py:150\u001b[0m, in \u001b[0;36mfilter_traceback.<locals>.error_handler\u001b[0;34m(*args, **kwargs)\u001b[0m\n\u001b[1;32m    148\u001b[0m filtered_tb \u001b[38;5;241m=\u001b[39m \u001b[38;5;28;01mNone\u001b[39;00m\n\u001b[1;32m    149\u001b[0m \u001b[38;5;28;01mtry\u001b[39;00m:\n\u001b[0;32m--> 150\u001b[0m   \u001b[38;5;28;01mreturn\u001b[39;00m \u001b[43mfn\u001b[49m\u001b[43m(\u001b[49m\u001b[38;5;241;43m*\u001b[39;49m\u001b[43margs\u001b[49m\u001b[43m,\u001b[49m\u001b[43m \u001b[49m\u001b[38;5;241;43m*\u001b[39;49m\u001b[38;5;241;43m*\u001b[39;49m\u001b[43mkwargs\u001b[49m\u001b[43m)\u001b[49m\n\u001b[1;32m    151\u001b[0m \u001b[38;5;28;01mexcept\u001b[39;00m \u001b[38;5;167;01mException\u001b[39;00m \u001b[38;5;28;01mas\u001b[39;00m e:\n\u001b[1;32m    152\u001b[0m   filtered_tb \u001b[38;5;241m=\u001b[39m _process_traceback_frames(e\u001b[38;5;241m.\u001b[39m__traceback__)\n",
      "File \u001b[0;32m~/Learning-Parametric-Koopman-Decompositions/pknn/lib/python3.8/site-packages/tensorflow/python/util/dispatch.py:1176\u001b[0m, in \u001b[0;36madd_dispatch_support.<locals>.decorator.<locals>.op_dispatch_handler\u001b[0;34m(*args, **kwargs)\u001b[0m\n\u001b[1;32m   1174\u001b[0m \u001b[38;5;66;03m# Fallback dispatch system (dispatch v1):\u001b[39;00m\n\u001b[1;32m   1175\u001b[0m \u001b[38;5;28;01mtry\u001b[39;00m:\n\u001b[0;32m-> 1176\u001b[0m   \u001b[38;5;28;01mreturn\u001b[39;00m \u001b[43mdispatch_target\u001b[49m\u001b[43m(\u001b[49m\u001b[38;5;241;43m*\u001b[39;49m\u001b[43margs\u001b[49m\u001b[43m,\u001b[49m\u001b[43m \u001b[49m\u001b[38;5;241;43m*\u001b[39;49m\u001b[38;5;241;43m*\u001b[39;49m\u001b[43mkwargs\u001b[49m\u001b[43m)\u001b[49m\n\u001b[1;32m   1177\u001b[0m \u001b[38;5;28;01mexcept\u001b[39;00m (\u001b[38;5;167;01mTypeError\u001b[39;00m, \u001b[38;5;167;01mValueError\u001b[39;00m):\n\u001b[1;32m   1178\u001b[0m   \u001b[38;5;66;03m# Note: convert_to_eager_tensor currently raises a ValueError, not a\u001b[39;00m\n\u001b[1;32m   1179\u001b[0m   \u001b[38;5;66;03m# TypeError, when given unexpected types.  So we need to catch both.\u001b[39;00m\n\u001b[1;32m   1180\u001b[0m   result \u001b[38;5;241m=\u001b[39m dispatch(op_dispatch_handler, args, kwargs)\n",
      "File \u001b[0;32m~/Learning-Parametric-Koopman-Decompositions/pknn/lib/python3.8/site-packages/tensorflow/python/ops/nn_ops.py:3554\u001b[0m, in \u001b[0;36mbias_add\u001b[0;34m(value, bias, data_format, name)\u001b[0m\n\u001b[1;32m   3551\u001b[0m   value \u001b[38;5;241m=\u001b[39m ops\u001b[38;5;241m.\u001b[39mconvert_to_tensor(value, name\u001b[38;5;241m=\u001b[39m\u001b[38;5;124m\"\u001b[39m\u001b[38;5;124minput\u001b[39m\u001b[38;5;124m\"\u001b[39m)\n\u001b[1;32m   3552\u001b[0m   bias \u001b[38;5;241m=\u001b[39m ops\u001b[38;5;241m.\u001b[39mconvert_to_tensor(bias, dtype\u001b[38;5;241m=\u001b[39mvalue\u001b[38;5;241m.\u001b[39mdtype, name\u001b[38;5;241m=\u001b[39m\u001b[38;5;124m\"\u001b[39m\u001b[38;5;124mbias\u001b[39m\u001b[38;5;124m\"\u001b[39m)\n\u001b[0;32m-> 3554\u001b[0m \u001b[38;5;28;01mreturn\u001b[39;00m \u001b[43mgen_nn_ops\u001b[49m\u001b[38;5;241;43m.\u001b[39;49m\u001b[43mbias_add\u001b[49m\u001b[43m(\u001b[49m\u001b[43mvalue\u001b[49m\u001b[43m,\u001b[49m\u001b[43m \u001b[49m\u001b[43mbias\u001b[49m\u001b[43m,\u001b[49m\u001b[43m \u001b[49m\u001b[43mdata_format\u001b[49m\u001b[38;5;241;43m=\u001b[39;49m\u001b[43mdata_format\u001b[49m\u001b[43m,\u001b[49m\u001b[43m \u001b[49m\u001b[43mname\u001b[49m\u001b[38;5;241;43m=\u001b[39;49m\u001b[43mname\u001b[49m\u001b[43m)\u001b[49m\n",
      "File \u001b[0;32m~/Learning-Parametric-Koopman-Decompositions/pknn/lib/python3.8/site-packages/tensorflow/python/ops/gen_nn_ops.py:850\u001b[0m, in \u001b[0;36mbias_add\u001b[0;34m(value, bias, data_format, name)\u001b[0m\n\u001b[1;32m    848\u001b[0m \u001b[38;5;28;01mif\u001b[39;00m tld\u001b[38;5;241m.\u001b[39mis_eager:\n\u001b[1;32m    849\u001b[0m   \u001b[38;5;28;01mtry\u001b[39;00m:\n\u001b[0;32m--> 850\u001b[0m     _result \u001b[38;5;241m=\u001b[39m \u001b[43mpywrap_tfe\u001b[49m\u001b[38;5;241;43m.\u001b[39;49m\u001b[43mTFE_Py_FastPathExecute\u001b[49m\u001b[43m(\u001b[49m\n\u001b[1;32m    851\u001b[0m \u001b[43m      \u001b[49m\u001b[43m_ctx\u001b[49m\u001b[43m,\u001b[49m\u001b[43m \u001b[49m\u001b[38;5;124;43m\"\u001b[39;49m\u001b[38;5;124;43mBiasAdd\u001b[39;49m\u001b[38;5;124;43m\"\u001b[39;49m\u001b[43m,\u001b[49m\u001b[43m \u001b[49m\u001b[43mname\u001b[49m\u001b[43m,\u001b[49m\u001b[43m \u001b[49m\u001b[43mvalue\u001b[49m\u001b[43m,\u001b[49m\u001b[43m \u001b[49m\u001b[43mbias\u001b[49m\u001b[43m,\u001b[49m\u001b[43m \u001b[49m\u001b[38;5;124;43m\"\u001b[39;49m\u001b[38;5;124;43mdata_format\u001b[39;49m\u001b[38;5;124;43m\"\u001b[39;49m\u001b[43m,\u001b[49m\u001b[43m \u001b[49m\u001b[43mdata_format\u001b[49m\u001b[43m)\u001b[49m\n\u001b[1;32m    852\u001b[0m     \u001b[38;5;28;01mreturn\u001b[39;00m _result\n\u001b[1;32m    853\u001b[0m   \u001b[38;5;28;01mexcept\u001b[39;00m _core\u001b[38;5;241m.\u001b[39m_NotOkStatusException \u001b[38;5;28;01mas\u001b[39;00m e:\n",
      "\u001b[0;31mKeyboardInterrupt\u001b[0m: "
     ]
    }
   ],
   "source": [
    "pk_opt_control_momentum_0, pk_kdv_opt_momentum_soln_0 = KoopmanMPC(\n",
    "    y0=y0_track,\n",
    "    tau=tau,\n",
    "    traj_len=traj_len_track,\n",
    "    soln_ref=momentum_ref,\n",
    "    kdv_solver=kdv.kdv_solution,\n",
    "    B=B_momentum,\n",
    "    loss=mpc_loss_pk,\n",
    "    lambda_param=0,\n",
    ")"
   ]
  },
  {
   "cell_type": "code",
   "execution_count": null,
   "metadata": {},
   "outputs": [
    {
     "name": "stderr",
     "output_type": "stream",
     "text": [
      "Processing time steps:   0%|          | 0/998 [00:00<?, ?it/s]"
     ]
    },
    {
     "name": "stderr",
     "output_type": "stream",
     "text": [
      "Processing time steps: 100%|██████████| 998/998 [04:57<00:00,  3.35it/s]\n"
     ]
    }
   ],
   "source": [
    "pk_opt_control_momentum_5, pk_kdv_opt_momentum_soln_5 = KoopmanMPC(\n",
    "    y0=y0_track,\n",
    "    tau=tau,\n",
    "    traj_len=traj_len_track,\n",
    "    soln_ref=momentum_ref,\n",
    "    kdv_solver=kdv.kdv_solution,\n",
    "    B=B_momentum,\n",
    "    loss=mpc_loss_pk,\n",
    "    lambda_param=0.005,\n",
    ")"
   ]
  },
  {
   "cell_type": "code",
   "execution_count": null,
   "metadata": {},
   "outputs": [
    {
     "ename": "NameError",
     "evalue": "name 'lambda_param' is not defined",
     "output_type": "error",
     "traceback": [
      "\u001b[0;31m---------------------------------------------------------------------------\u001b[0m",
      "\u001b[0;31mNameError\u001b[0m                                 Traceback (most recent call last)",
      "Input \u001b[0;32mIn [49]\u001b[0m, in \u001b[0;36m<cell line: 1>\u001b[0;34m()\u001b[0m\n\u001b[1;32m      1\u001b[0m linear_opt_control_momentum_0, linear_kdv_opt_momentum_soln_0 \u001b[38;5;241m=\u001b[39m KoopmanMPC(\n\u001b[1;32m      2\u001b[0m     y0\u001b[38;5;241m=\u001b[39my0_track,\n\u001b[1;32m      3\u001b[0m     tau\u001b[38;5;241m=\u001b[39mtau,\n\u001b[1;32m      4\u001b[0m     traj_len\u001b[38;5;241m=\u001b[39mtraj_len_track,\n\u001b[1;32m      5\u001b[0m     soln_ref\u001b[38;5;241m=\u001b[39mmomentum_ref,\n\u001b[1;32m      6\u001b[0m     kdv_solver\u001b[38;5;241m=\u001b[39mkdv\u001b[38;5;241m.\u001b[39mkdv_solution,\n\u001b[1;32m      7\u001b[0m     B\u001b[38;5;241m=\u001b[39mB_momentum,\n\u001b[1;32m      8\u001b[0m     loss\u001b[38;5;241m=\u001b[39mmpc_loss_linear,\n\u001b[0;32m----> 9\u001b[0m     lambda_param\u001b[38;5;241m=\u001b[39m\u001b[43mlambda_param\u001b[49m,\n\u001b[1;32m     10\u001b[0m )\n",
      "\u001b[0;31mNameError\u001b[0m: name 'lambda_param' is not defined"
     ]
    }
   ],
   "source": [
    "linear_opt_control_momentum_0, linear_kdv_opt_momentum_soln_0 = KoopmanMPC(\n",
    "    y0=y0_track,\n",
    "    tau=tau,\n",
    "    traj_len=traj_len_track,\n",
    "    soln_ref=momentum_ref,\n",
    "    kdv_solver=kdv.kdv_solution,\n",
    "    B=B_momentum,\n",
    "    loss=mpc_loss_linear,\n",
    "    lambda_param=0,\n",
    ")"
   ]
  },
  {
   "cell_type": "code",
   "execution_count": null,
   "metadata": {},
   "outputs": [
    {
     "name": "stderr",
     "output_type": "stream",
     "text": [
      "Processing time steps: 100%|██████████| 998/998 [04:49<00:00,  3.44it/s]\n"
     ]
    }
   ],
   "source": [
    "linear_opt_control_momentum_5, linear_kdv_opt_momentum_soln_5 = KoopmanMPC(\n",
    "    y0=y0_track,\n",
    "    tau=tau,\n",
    "    traj_len=traj_len_track,\n",
    "    soln_ref=momentum_ref,\n",
    "    kdv_solver=kdv.kdv_solution,\n",
    "    B=B_momentum,\n",
    "    loss=mpc_loss_linear,\n",
    "    lambda_param=0.005,\n",
    ")"
   ]
  },
  {
   "cell_type": "code",
   "execution_count": null,
   "metadata": {},
   "outputs": [
    {
     "name": "stderr",
     "output_type": "stream",
     "text": [
      "Processing time steps:   0%|          | 0/998 [00:00<?, ?it/s]"
     ]
    },
    {
     "name": "stderr",
     "output_type": "stream",
     "text": [
      "Processing time steps: 100%|██████████| 998/998 [01:13<00:00, 13.55it/s]\n"
     ]
    }
   ],
   "source": [
    "bilinear_opt_control_momentum_0, bilinear_kdv_opt_momentum_soln_0 = KoopmanMPC(\n",
    "    y0=y0_track,\n",
    "    tau=tau,\n",
    "    traj_len=traj_len_track,\n",
    "    soln_ref=momentum_ref,\n",
    "    kdv_solver=kdv.kdv_solution,\n",
    "    B=B_momentum,\n",
    "    loss=mpc_loss_bilinear,\n",
    "    lambda_param=0,\n",
    ")"
   ]
  },
  {
   "cell_type": "code",
   "execution_count": null,
   "metadata": {},
   "outputs": [
    {
     "name": "stderr",
     "output_type": "stream",
     "text": [
      "Processing time steps: 100%|██████████| 998/998 [05:00<00:00,  3.32it/s]\n"
     ]
    }
   ],
   "source": [
    "bilinear_opt_control_momentum_5, bilinear_kdv_opt_momentum_soln_5 = KoopmanMPC(\n",
    "    y0=y0_track,\n",
    "    tau=tau,\n",
    "    traj_len=traj_len_track,\n",
    "    soln_ref=momentum_ref,\n",
    "    kdv_solver=kdv.kdv_solution,\n",
    "    B=B_momentum,\n",
    "    loss=mpc_loss_bilinear,\n",
    "    lambda_param=0.005,\n",
    ")"
   ]
  },
  {
   "cell_type": "code",
   "execution_count": null,
   "metadata": {},
   "outputs": [],
   "source": [
    "pk_kdv_opt_momentum_0 = dx * tf.reduce_sum(tf.square(pk_kdv_opt_momentum_soln_0), axis=-1)\n",
    "linear_kdv_opt_momentum_0 = dx * tf.reduce_sum(tf.square(linear_kdv_opt_momentum_soln_0), axis=-1)\n",
    "bilinear_kdv_opt_momentum_0 = dx * tf.reduce_sum(tf.square(bilinear_kdv_opt_momentum_soln_0), axis=-1)\n",
    "pk_kdv_opt_momentum_5 = dx * tf.reduce_sum(tf.square(pk_kdv_opt_momentum_soln_5), axis=-1)\n",
    "linear_kdv_opt_momentum_5 = dx * tf.reduce_sum(tf.square(linear_kdv_opt_momentum_soln_5), axis=-1)\n",
    "bilinear_kdv_opt_momentum_5 = dx * tf.reduce_sum(tf.square(bilinear_kdv_opt_momentum_soln_5), axis=-1)"
   ]
  },
  {
   "cell_type": "code",
   "execution_count": null,
   "metadata": {},
   "outputs": [
    {
     "data": {
      "image/png": "[encoded data removed]",
      "text/plain": [
       "<Figure size 720x360 with 1 Axes>"
      ]
     },
     "metadata": {
      "needs_background": "light"
     },
     "output_type": "display_data"
    }
   ],
   "source": [
    "plt.figure(figsize=(10, 5))\n",
    "plt.plot(momentum_ref, label=\"Reference\", linestyle=\"--\", color=ref_color, linewidth=linewidth)\n",
    "\n",
    "plt.plot(\n",
    "    linear_kdv_opt_momentum_0,\n",
    "    label=r\"$M2(\\lambda = 0)$\",\n",
    "    color=linear_no_penalty_color,\n",
    "    linestyle=linear_linestyle,\n",
    "    linewidth=linewidth,\n",
    ")\n",
    "plt.plot(\n",
    "    bilinear_kdv_opt_momentum_0,\n",
    "    label=r\"$M3(\\lambda = 0)$\",\n",
    "    color=bilinear_no_penalty_color,\n",
    "    linestyle=bilinear_linestyle,\n",
    "    linewidth=linewidth,\n",
    ")\n",
    "plt.plot(\n",
    "    pk_kdv_opt_momentum_0,\n",
    "    label=r\"$Ours(\\lambda = 0)$\",\n",
    "    color=pk_no_penalty_color, \n",
    "    linestyle=pk_linestyle, \n",
    "    linewidth=linewidth\n",
    ")\n",
    "\n",
    "plt.plot(\n",
    "    linear_kdv_opt_momentum_5,\n",
    "    label=r\"$M2(\\lambda = 0.005)$\",\n",
    "    color=linear_curve,\n",
    "    linestyle=linear_linestyle,\n",
    "    linewidth=linewidth,\n",
    ")\n",
    "plt.plot(\n",
    "    bilinear_kdv_opt_momentum_5,\n",
    "    label=r\"$M3(\\lambda = 0.005)$\",\n",
    "    color=bilinear_curve,\n",
    "    linestyle=bilinear_linestyle,\n",
    "    linewidth=linewidth,\n",
    ")\n",
    "plt.plot(\n",
    "    pk_kdv_opt_momentum_5,\n",
    "    label=r\"$Ours(\\lambda = 0.005)$\",\n",
    "    color=pk_curve, \n",
    "    linestyle=pk_linestyle, \n",
    "    linewidth=linewidth\n",
    ")\n",
    "\n",
    "\n",
    "plt.xticks(fontsize=ticks_font)\n",
    "plt.yticks(fontsize=ticks_font)\n",
    "plt.xlabel(r\"$n$\", fontsize=label_font)\n",
    "plt.ylabel(\"Momentum\", fontsize=label_font)\n",
    "plt.legend(fontsize=legend_font, loc=(1.05, 0.001))\n",
    "\n",
    "\n",
    "# plt.savefig(os.path.join(figures_path, 'kdv_'+forcing_type+'_momentum_tracking.png'), dpi=200, bbox_inches='tight')\n",
    "# plt.savefig(os.path.join(figures_path, 'kdv_'+forcing_type+'_momentum_tracking.pdf'), dpi=200, bbox_inches='tight')\n"
   ]
  },
  {
   "cell_type": "markdown",
   "metadata": {},
   "source": [
    "# Controllability"
   ]
  },
  {
   "cell_type": "code",
   "execution_count": null,
   "metadata": {},
   "outputs": [],
   "source": [
    "# Randomly sample control\n",
    "np.random.seed(seed=111)\n",
    "n_control_samples = 2000\n",
    "control_samples = (\n",
    "    np.random.uniform(low=0, high=1, size=(n_control_samples, param_dim)) * (umax - umin) + umin\n",
    ")"
   ]
  },
  {
   "cell_type": "code",
   "execution_count": null,
   "metadata": {},
   "outputs": [],
   "source": [
    "pk_K_matrix = solver_pk.model_K_u(control_samples)"
   ]
  },
  {
   "cell_type": "code",
   "execution_count": null,
   "metadata": {},
   "outputs": [],
   "source": [
    "identity_matrix = np.eye(N=pk_K_matrix.shape[-1])\n",
    "\n",
    "pk_A_matrix = (pk_K_matrix - identity_matrix) / T\n",
    "\n",
    "pk_A_vector = tf.reshape(\n",
    "    pk_A_matrix, shape=(pk_A_matrix.shape[0], pk_A_matrix.shape[-1] * pk_A_matrix.shape[-1])\n",
    ")\n",
    "\n",
    "rank = np.linalg.matrix_rank(pk_A_vector)\n",
    "\n",
    "U, S, VT = np.linalg.svd(pk_A_vector)"
   ]
  },
  {
   "cell_type": "code",
   "execution_count": null,
   "metadata": {},
   "outputs": [],
   "source": [
    "pk_A_vector.shape"
   ]
  },
  {
   "cell_type": "code",
   "execution_count": null,
   "metadata": {},
   "outputs": [],
   "source": [
    "np.sum(S > 1e-5)"
   ]
  },
  {
   "cell_type": "code",
   "execution_count": null,
   "metadata": {},
   "outputs": [],
   "source": [
    "label_font = 16\n",
    "ticks_font = 16\n",
    "\n",
    "np.linspace(1, 36, 8)\n",
    "\n",
    "# plt.plot(S, linewidth=2)\n",
    "plt.plot(S / np.max(S), linewidth=2)\n",
    "\n",
    "\n",
    "plt.yscale(\"log\")\n",
    "\n",
    "custom_xticks = np.linspace(1, 36, 8)\n",
    "plt.xticks(custom_xticks, fontsize=ticks_font)\n",
    "plt.yticks(fontsize=ticks_font)\n",
    "\n",
    "\n",
    "plt.xlabel(r\"$i$\", fontsize=label_font)\n",
    "plt.ylabel(r\"$\\sigma_{i}$\", fontsize=label_font)"
   ]
  },
  {
   "cell_type": "markdown",
   "metadata": {},
   "source": [
    "# Save data"
   ]
  },
  {
   "cell_type": "code",
   "execution_count": null,
   "metadata": {},
   "outputs": [],
   "source": [
    "# results_dict = {'eigen_value': S,\n",
    "#                'pk_opt_soln_mass':pk_kdv_opt_mass,\n",
    "#                'pk_opt_soln_momentum': pk_kdv_opt_momentum}"
   ]
  },
  {
   "cell_type": "code",
   "execution_count": null,
   "metadata": {},
   "outputs": [],
   "source": [
    "# np.save(os.path.join(data_path,'K_layer/results_klayer'+str(K_layer_size[-1])+'.npy'), results_dict)"
   ]
  },
  {
   "cell_type": "markdown",
   "metadata": {},
   "source": [
    "# Evaluation over different K structures\n",
    "If you have solved the tracking problems over different K settings and saved results by the corresponding file name, you can run the following code to see the comparison. "
   ]
  },
  {
   "cell_type": "code",
   "execution_count": null,
   "metadata": {},
   "outputs": [],
   "source": [
    "results_dict_6 = np.load(os.path.join(data_path, \"K_layer/results_klayer6.npy\"), allow_pickle=True)\n",
    "\n",
    "eig_value_6 = results_dict_6[()][\"eigen_value\"]\n",
    "pk_opt_soln_mass_6 = results_dict_6[()][\"pk_opt_soln_mass\"]\n",
    "pk_opt_soln_momentum_6 = results_dict_6[()][\"pk_opt_soln_momentum\"]"
   ]
  },
  {
   "cell_type": "code",
   "execution_count": null,
   "metadata": {},
   "outputs": [],
   "source": [
    "results_dict_12 = np.load(\n",
    "    os.path.join(data_path, \"K_layer/results_klayer12.npy\"), allow_pickle=True\n",
    ")\n",
    "\n",
    "eig_value_12 = results_dict_12[()][\"eigen_value\"]\n",
    "pk_opt_soln_mass_12 = results_dict_12[()][\"pk_opt_soln_mass\"]\n",
    "pk_opt_soln_momentum_12 = results_dict_12[()][\"pk_opt_soln_momentum\"]"
   ]
  },
  {
   "cell_type": "code",
   "execution_count": null,
   "metadata": {},
   "outputs": [],
   "source": [
    "results_dict_36 = np.load(\n",
    "    os.path.join(data_path, \"K_layer/results_klayer36.npy\"), allow_pickle=True\n",
    ")\n",
    "\n",
    "eig_value_36 = results_dict_36[()][\"eigen_value\"]\n",
    "pk_opt_soln_mass_36 = results_dict_36[()][\"pk_opt_soln_mass\"]\n",
    "pk_opt_soln_momentum_36 = results_dict_36[()][\"pk_opt_soln_momentum\"]"
   ]
  },
  {
   "cell_type": "markdown",
   "metadata": {},
   "source": [
    "# Eigenvalues"
   ]
  },
  {
   "cell_type": "code",
   "execution_count": null,
   "metadata": {},
   "outputs": [],
   "source": [
    "plt.figure(figsize=(8, 6))\n",
    "plt.plot(eig_value_6, linewidth=2, label=r\"$N_{K}$=7\", marker=\"o\", color=\"palevioletred\")\n",
    "plt.plot(eig_value_12, linewidth=2, label=r\"$N_{K}$=13\", marker=\"s\", color=\"darkseagreen\")\n",
    "plt.plot(eig_value_36, linewidth=2, label=r\"$N_{K}$=37\", marker=\"*\", color=\"darkorange\")\n",
    "\n",
    "plt.yscale(\"log\")\n",
    "\n",
    "custom_xticks = np.linspace(1, 36, 8)\n",
    "plt.xticks(custom_xticks, fontsize=ticks_font)\n",
    "plt.yticks(fontsize=ticks_font)\n",
    "\n",
    "# plt.xlim(0,37)\n",
    "plt.ylim(1e-14, 1e5)\n",
    "plt.xlabel(r\"$i$\", fontsize=22)\n",
    "plt.ylabel(r\"$\\sigma_{i}$\", fontsize=22)\n",
    "plt.legend(fontsize=22, loc=(0.58, 0.2))"
   ]
  },
  {
   "cell_type": "code",
   "execution_count": null,
   "metadata": {},
   "outputs": [],
   "source": [
    "plt.figure(figsize=(8, 6))\n",
    "plt.plot(\n",
    "    eig_value_6 / np.max(eig_value_6),\n",
    "    linewidth=2,\n",
    "    label=r\"$N_{K}$=7\",\n",
    "    marker=\"o\",\n",
    "    color=\"palevioletred\",\n",
    ")\n",
    "plt.plot(\n",
    "    eig_value_12 / np.max(eig_value_12),\n",
    "    linewidth=2,\n",
    "    label=r\"$N_{K}$=13\",\n",
    "    marker=\"s\",\n",
    "    color=\"darkseagreen\",\n",
    ")\n",
    "plt.plot(\n",
    "    eig_value_36 / np.max(eig_value_36),\n",
    "    linewidth=2,\n",
    "    label=r\"$N_{K}$=37\",\n",
    "    marker=\"*\",\n",
    "    color=\"darkorange\",\n",
    ")\n",
    "\n",
    "plt.yscale(\"log\")\n",
    "\n",
    "custom_xticks = np.linspace(1, 36, 8)\n",
    "plt.xticks(custom_xticks, fontsize=ticks_font)\n",
    "plt.yticks(fontsize=ticks_font)\n",
    "\n",
    "# plt.xlim(0,37)\n",
    "# plt.ylim(1e-14,1e5)\n",
    "plt.xlabel(r\"$i$\", fontsize=22)\n",
    "plt.ylabel(r\"$\\sigma_{i}$\", fontsize=22)\n",
    "plt.legend(fontsize=22, loc=(0.58, 0.2))"
   ]
  },
  {
   "cell_type": "code",
   "execution_count": null,
   "metadata": {},
   "outputs": [],
   "source": [
    "eig_value_36 / np.max(eig_value_36)"
   ]
  },
  {
   "cell_type": "code",
   "execution_count": null,
   "metadata": {},
   "outputs": [],
   "source": [
    "plt.figure(figsize=(8, 6))\n",
    "plt.plot(mass_ref, label=\"Reference\", linestyle=\"--\", color=ref_color, linewidth=2)\n",
    "\n",
    "plt.plot(pk_opt_soln_mass_6, linewidth=2, label=r\"$N_{K}$=7\", color=\"palevioletred\")\n",
    "plt.plot(pk_opt_soln_mass_12, linewidth=2, label=r\"$N_{K}$=13\", color=\"darkseagreen\")\n",
    "plt.plot(pk_opt_soln_mass_36, linewidth=2, label=r\"$N_{K}$=37\", color=\"darkorange\")\n",
    "\n",
    "plt.xticks(fontsize=ticks_font)\n",
    "plt.yticks(fontsize=ticks_font)\n",
    "\n",
    "plt.xlabel(r\"$n$\", fontsize=22)\n",
    "plt.ylabel(\"Mass\", fontsize=22)\n",
    "plt.legend(fontsize=22)"
   ]
  },
  {
   "cell_type": "code",
   "execution_count": null,
   "metadata": {},
   "outputs": [],
   "source": [
    "plt.figure(figsize=(8, 6))\n",
    "plt.plot(momentum_ref, label=\"Reference\", linestyle=\"--\", color=ref_color, linewidth=2)\n",
    "\n",
    "plt.plot(pk_opt_soln_momentum_6, linewidth=2, label=r\"$N_{K}$=7\", color=\"palevioletred\")\n",
    "plt.plot(pk_opt_soln_momentum_12, linewidth=2, label=r\"$N_{K}$=13\", color=\"darkseagreen\")\n",
    "plt.plot(pk_opt_soln_momentum_36, linewidth=2, label=r\"$N_{K}$=37\", color=\"darkorange\")\n",
    "\n",
    "\n",
    "plt.xticks(fontsize=ticks_font)\n",
    "plt.yticks(fontsize=ticks_font)\n",
    "\n",
    "plt.xlabel(r\"$n$\", fontsize=22)\n",
    "plt.ylabel(\"Momentum\", fontsize=22)\n",
    "plt.legend(fontsize=22)"
   ]
  },
  {
   "cell_type": "code",
   "execution_count": null,
   "metadata": {},
   "outputs": [],
   "source": []
  }
 ],
 "metadata": {
  "kernelspec": {
   "display_name": "pknn_env",
   "language": "python",
   "name": "python3"
  },
  "language_info": {
   "codemirror_mode": {
    "name": "ipython",
    "version": 3
   },
   "file_extension": ".py",
   "mimetype": "text/x-python",
   "name": "python",
   "nbconvert_exporter": "python",
   "pygments_lexer": "ipython3",
   "version": "3.8.8"
  }
 },
 "nbformat": 4,
 "nbformat_minor": 2
}
