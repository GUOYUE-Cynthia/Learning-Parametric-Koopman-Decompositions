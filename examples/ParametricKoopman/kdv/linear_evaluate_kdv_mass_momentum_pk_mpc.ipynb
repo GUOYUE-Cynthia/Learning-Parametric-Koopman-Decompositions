{
 "cells": [
  {
   "cell_type": "code",
   "execution_count": null,
   "metadata": {},
   "outputs": [],
   "source": [
    "import os\n",
    "os.environ[\"CUDA_VISIBLE_DEVICES\"] = \"-1\""
   ]
  },
  {
   "cell_type": "code",
   "execution_count": 2,
   "metadata": {},
   "outputs": [],
   "source": [
    "%load_ext autoreload\n",
    "%autoreload 2"
   ]
  },
  {
   "cell_type": "code",
   "execution_count": 3,
   "metadata": {},
   "outputs": [],
   "source": [
    "import json\n",
    "import sys\n",
    "\n",
    "from tqdm import tqdm"
   ]
  },
  {
   "cell_type": "code",
   "execution_count": 4,
   "metadata": {},
   "outputs": [],
   "source": [
    "config_file = \"config_kdv.json\"\n",
    "\n",
    "with open(config_file, \"r\") as f:\n",
    "    config = json.load(f)[\"linear\"]"
   ]
  },
  {
   "cell_type": "code",
   "execution_count": 5,
   "metadata": {},
   "outputs": [],
   "source": [
    "data_path = config[\"data_settings\"][\"data_path\"]\n",
    "weights_path = config[\"nn_settings\"][\"weights_path\"]\n",
    "\n",
    "n_traj = config[\"data_settings\"][\"n_traj\"]\n",
    "traj_len = config[\"data_settings\"][\"traj_len\"]\n",
    "\n",
    "# forcing_type = config['data_settings']['forcing_type']\n",
    "\n",
    "forcing_type = \"linear\"\n",
    "\n",
    "\n",
    "n_psi_train = config[\"nn_settings\"][\"n_psi_train\"]\n",
    "dict_layer_size = config[\"nn_settings\"][\"dict_layer_size\"]\n",
    "K_layer_size = config[\"nn_settings\"][\"K_layer_size\"]"
   ]
  },
  {
   "cell_type": "code",
   "execution_count": 6,
   "metadata": {},
   "outputs": [
    {
     "name": "stderr",
     "output_type": "stream",
     "text": [
      "2024-03-15 22:30:59.534468: I tensorflow/core/platform/cpu_feature_guard.cc:193] This TensorFlow binary is optimized with oneAPI Deep Neural Network Library (oneDNN) to use the following CPU instructions in performance-critical operations:  AVX2 AVX512F AVX512_VNNI FMA\n",
      "To enable them in other operations, rebuild TensorFlow with the appropriate compiler flags.\n",
      "2024-03-15 22:31:00.508289: I tensorflow/core/util/port.cc:104] oneDNN custom operations are on. You may see slightly different numerical results due to floating-point round-off errors from different computation orders. To turn them off, set the environment variable `TF_ENABLE_ONEDNN_OPTS=0`.\n",
      "2024-03-15 22:31:04.701656: W tensorflow/compiler/xla/stream_executor/platform/default/dso_loader.cc:64] Could not load dynamic library 'libnvinfer.so.7'; dlerror: libnvrtc.so.10.2: cannot open shared object file: No such file or directory; LD_LIBRARY_PATH: /usr/local/cuda-11.1/lib64:\n",
      "2024-03-15 22:31:04.703015: W tensorflow/compiler/xla/stream_executor/platform/default/dso_loader.cc:64] Could not load dynamic library 'libnvinfer_plugin.so.7'; dlerror: libnvrtc.so.10.2: cannot open shared object file: No such file or directory; LD_LIBRARY_PATH: /usr/local/cuda-11.1/lib64:\n",
      "2024-03-15 22:31:04.703133: W tensorflow/compiler/tf2tensorrt/utils/py_utils.cc:38] TF-TRT Warning: Cannot dlopen some TensorRT libraries. If you would like to use Nvidia GPU with TensorRT, please make sure the missing libraries mentioned above are installed properly.\n"
     ]
    }
   ],
   "source": [
    "import matplotlib.pyplot as plt\n",
    "import numpy as np\n",
    "import pandas as pd\n",
    "import tensorflow as tf"
   ]
  },
  {
   "cell_type": "code",
   "execution_count": 7,
   "metadata": {},
   "outputs": [],
   "source": [
    "from koopmanlib.functions import *"
   ]
  },
  {
   "cell_type": "code",
   "execution_count": 8,
   "metadata": {},
   "outputs": [],
   "source": [
    "from koopmanlib.target import KortewegDeVriesTarget"
   ]
  },
  {
   "cell_type": "code",
   "execution_count": 9,
   "metadata": {},
   "outputs": [],
   "source": [
    "# Set the size of the domain, and create the discretized grid.\n",
    "L = 2 * np.pi\n",
    "Nx = 128\n",
    "dx = L / (Nx - 1.0)\n",
    "x = np.linspace(-np.pi, np.pi, Nx)\n",
    "T = 0.01"
   ]
  },
  {
   "cell_type": "code",
   "execution_count": 10,
   "metadata": {},
   "outputs": [],
   "source": [
    "def v_func(x, c):\n",
    "    return np.exp(-25 * (x - c) ** 2)\n",
    "\n",
    "\n",
    "c1, c2, c3 = -np.pi / 2, 0, np.pi / 2\n",
    "v1 = v_func(x, c1).reshape(1, -1)\n",
    "v2 = v_func(x, c2).reshape(1, -1)\n",
    "v3 = v_func(x, c3).reshape(1, -1)\n",
    "\n",
    "v_list = np.concatenate([v1, v2, v3], axis=0)"
   ]
  },
  {
   "cell_type": "code",
   "execution_count": 11,
   "metadata": {},
   "outputs": [],
   "source": [
    "umax = 1\n",
    "umin = -umax\n",
    "\n",
    "target_dim = Nx\n",
    "param_dim = 3"
   ]
  },
  {
   "cell_type": "code",
   "execution_count": 12,
   "metadata": {},
   "outputs": [],
   "source": [
    "kdv = KortewegDeVriesTarget(\n",
    "    x=x, t_step=T, dim=Nx, param_dim=param_dim, forcing_type=\"sin\", v_list=v_list, L=L\n",
    ")"
   ]
  },
  {
   "cell_type": "code",
   "execution_count": 13,
   "metadata": {},
   "outputs": [],
   "source": [
    "dict_data = np.load(\n",
    "    os.path.join(data_path, \"data_kdv_\" + forcing_type + \".npy\"), allow_pickle=True\n",
    ")"
   ]
  },
  {
   "cell_type": "markdown",
   "metadata": {},
   "source": [
    "# Build model"
   ]
  },
  {
   "cell_type": "markdown",
   "metadata": {},
   "source": [
    "## PK-NN"
   ]
  },
  {
   "cell_type": "code",
   "execution_count": 14,
   "metadata": {},
   "outputs": [
    {
     "name": "stderr",
     "output_type": "stream",
     "text": [
      "2024-03-15 22:31:26.861970: E tensorflow/compiler/xla/stream_executor/cuda/cuda_driver.cc:267] failed call to cuInit: CUDA_ERROR_NO_DEVICE: no CUDA-capable device is detected\n",
      "2024-03-15 22:31:26.862416: I tensorflow/compiler/xla/stream_executor/cuda/cuda_diagnostics.cc:169] retrieving CUDA diagnostic information for host: neon\n",
      "2024-03-15 22:31:26.862456: I tensorflow/compiler/xla/stream_executor/cuda/cuda_diagnostics.cc:176] hostname: neon\n",
      "2024-03-15 22:31:26.863253: I tensorflow/compiler/xla/stream_executor/cuda/cuda_diagnostics.cc:200] libcuda reported version is: 470.239.6\n",
      "2024-03-15 22:31:26.863383: I tensorflow/compiler/xla/stream_executor/cuda/cuda_diagnostics.cc:204] kernel reported version is: 470.239.6\n",
      "2024-03-15 22:31:26.863393: I tensorflow/compiler/xla/stream_executor/cuda/cuda_diagnostics.cc:310] kernel version seems to match DSO: 470.239.6\n",
      "2024-03-15 22:31:26.864943: I tensorflow/core/platform/cpu_feature_guard.cc:193] This TensorFlow binary is optimized with oneAPI Deep Neural Network Library (oneDNN) to use the following CPU instructions in performance-critical operations:  AVX2 AVX512F AVX512_VNNI FMA\n",
      "To enable them in other operations, rebuild TensorFlow with the appropriate compiler flags.\n"
     ]
    }
   ],
   "source": [
    "from tensorflow.keras.optimizers import Adam\n",
    "\n",
    "from koopmanlib.dictionary import PsiNN_obs\n",
    "from koopmanlib.param_solver import KoopmanParametricDLSolver\n",
    "\n",
    "n_psi = 1 + 1 + 1 + n_psi_train  # constant + momentum + mean + NN\n",
    "\n",
    "dic_pk = PsiNN_obs(layer_sizes=dict_layer_size, n_psi_train=n_psi_train, dx=dx)\n",
    "\n",
    "from koopmanlib.K_structure import Model_K_u_Layer_One\n",
    "\n",
    "model_K_u = Model_K_u_Layer_One(layer_sizes=K_layer_size, n_psi=n_psi, activation=\"relu\")\n",
    "\n",
    "solver_pk = KoopmanParametricDLSolver(\n",
    "    target_dim=target_dim, param_dim=param_dim, n_psi=n_psi, dic=dic_pk, model_K_u=model_K_u\n",
    ")\n",
    "\n",
    "model_pk, model_K_u_pred_pk = solver_pk.generate_model()\n",
    "\n",
    "model_pk.load_weights(os.path.join(weights_path, \"pk_kdv_weights_\" + forcing_type + \".h5\"))"
   ]
  },
  {
   "cell_type": "code",
   "execution_count": 15,
   "metadata": {},
   "outputs": [],
   "source": [
    "def compute_pk_obs(y0, param_list, B_obs):\n",
    "    param = tf.reshape(param_list, shape=(param_list.shape[0], 1, param_dim))\n",
    "    y0 = y0.reshape(1, -1)\n",
    "\n",
    "    psi_y = dic_pk(y0)\n",
    "    obs_list = [psi_y @ B_obs]\n",
    "\n",
    "    tau = param_list.shape[0]\n",
    "\n",
    "    for i in range(tau):\n",
    "        psi_y = model_K_u_pred_pk([param[i], psi_y])\n",
    "        obs_next = psi_y @ B_obs\n",
    "        obs_list.append(obs_next)\n",
    "\n",
    "    return np.squeeze(np.asarray(obs_list))"
   ]
  },
  {
   "cell_type": "markdown",
   "metadata": {},
   "source": [
    "## Linear"
   ]
  },
  {
   "cell_type": "code",
   "execution_count": 16,
   "metadata": {},
   "outputs": [],
   "source": [
    "from koopmanlib.param_solver import KoopmanLinearDLSolver\n",
    "\n",
    "dic_linear = PsiNN_obs(layer_sizes=dict_layer_size, n_psi_train=n_psi_train, dx=dx)\n",
    "\n",
    "solver_linear = KoopmanLinearDLSolver(\n",
    "    dic=dic_linear, target_dim=target_dim, param_dim=param_dim, n_psi=n_psi\n",
    ")\n",
    "\n",
    "model_linear, model_K_u_pred_linear = solver_linear.build_model()\n",
    "\n",
    "solver_linear.model.load_weights(\n",
    "    os.path.join(weights_path, \"linear_kdv_weights_\" + forcing_type + \".h5\")\n",
    ")"
   ]
  },
  {
   "cell_type": "code",
   "execution_count": 17,
   "metadata": {},
   "outputs": [],
   "source": [
    "def compute_linear_obs(y0, param_list, B_obs):\n",
    "    param_list = tf.reshape(param_list, shape=(param_list.shape[0], 1, param_dim))\n",
    "    y0 = y0.reshape(1, -1)\n",
    "    psi_y = solver_linear.dic.call(y0)\n",
    "    obs_list = [psi_y @ B_obs]\n",
    "\n",
    "    for param in param_list:\n",
    "        psi_y = solver_linear.model_K_u_pred_linear.get_layer(\"Layer_A\")(psi_y) + solver_linear.model_K_u_pred_linear.get_layer(\n",
    "            \"Layer_B\"\n",
    "        )(param)\n",
    "        obs_next = psi_y @ B_obs\n",
    "        obs_list.append(obs_next)\n",
    "\n",
    "    return np.squeeze(np.asarray(obs_list))"
   ]
  },
  {
   "cell_type": "markdown",
   "metadata": {},
   "source": [
    "## Bilinear"
   ]
  },
  {
   "cell_type": "code",
   "execution_count": 18,
   "metadata": {},
   "outputs": [],
   "source": [
    "from koopmanlib.param_solver import KoopmanBilinearDLSolver\n",
    "\n",
    "dic_bilinear = PsiNN_obs(layer_sizes=dict_layer_size, n_psi_train=n_psi_train, dx=dx)\n",
    "\n",
    "solver_bilinear = KoopmanBilinearDLSolver(\n",
    "    dic=dic_bilinear, target_dim=target_dim, param_dim=param_dim, n_psi=n_psi\n",
    ")\n",
    "\n",
    "model_bilinear, model_K_u_pred_bilinear = solver_bilinear.build_model()"
   ]
  },
  {
   "cell_type": "code",
   "execution_count": 19,
   "metadata": {},
   "outputs": [],
   "source": [
    "solver_bilinear.model.load_weights(\n",
    "    os.path.join(weights_path, \"bilinear_kdv_weights_\" + forcing_type + \".h5\")\n",
    ")"
   ]
  },
  {
   "cell_type": "code",
   "execution_count": 20,
   "metadata": {},
   "outputs": [],
   "source": [
    "def compute_bilinear_obs(y0, param_list, B_obs):\n",
    "    param_list = tf.reshape(param_list, shape=(param_list.shape[0], 1, param_dim))\n",
    "    y0 = y0.reshape(1, -1)\n",
    "    psi_y = solver_bilinear.dic.call(y0)\n",
    "    obs_list = [psi_y @ B_obs]\n",
    "\n",
    "    for param in param_list:\n",
    "        u_psiy = tf.einsum(\"ij,ik->kij\", psi_y, param)\n",
    "        u_psiy_list = []\n",
    "        for curr in u_psiy:\n",
    "            u_psiy_list.append(curr)\n",
    "        u_psiy_list = tf.concat(u_psiy_list, axis=-1)\n",
    "\n",
    "        psi_y = solver_bilinear.model_K_u_pred_bilinear.get_layer(\"Layer_A\")(\n",
    "            psi_y\n",
    "        ) + solver_bilinear.model_K_u_pred_bilinear.get_layer(\"Layer_B\")(u_psiy_list)\n",
    "        obs_next = psi_y @ B_obs\n",
    "        obs_list.append(obs_next)\n",
    "\n",
    "    return np.squeeze(np.asarray(obs_list))"
   ]
  },
  {
   "cell_type": "markdown",
   "metadata": {},
   "source": [
    "# Testing problems"
   ]
  },
  {
   "cell_type": "code",
   "execution_count": 21,
   "metadata": {},
   "outputs": [],
   "source": [
    "# Plot setting\n",
    "linear_curve = \"darkorange\"\n",
    "linear_shadow = \"navajowhite\"\n",
    "bilinear_curve = \"forestgreen\"\n",
    "bilinear_shadow = \"darkseagreen\"\n",
    "pk_curve = \"darkslateblue\"\n",
    "pk_shadow = \"lightsteelblue\"\n",
    "ref_color = \"black\"\n",
    "\n",
    "\n",
    "exact_color = \"darkred\"\n",
    "linear_no_penalty_color = \"gold\"\n",
    "bilinear_no_penalty_color = \"turquoise\"\n",
    "pk_no_penalty_color = \"palevioletred\"\n",
    "\n",
    "label_font = 24\n",
    "ticks_font = 22\n",
    "legend_font = 24\n",
    "linewidth = 2.5\n",
    "title_font = 16\n",
    "\n",
    "linear_linestyle = \"dashdot\"\n",
    "bilinear_linestyle = \"dotted\"\n",
    "pk_linestyle = \"solid\""
   ]
  },
  {
   "cell_type": "markdown",
   "metadata": {},
   "source": [
    "## Prediction"
   ]
  },
  {
   "cell_type": "code",
   "execution_count": 22,
   "metadata": {},
   "outputs": [],
   "source": [
    "def compute_kdv_soln(y0, param_list):\n",
    "    y0_loop = y0\n",
    "    kdv_soln_list = [y0_loop]\n",
    "    for param in param_list:\n",
    "        # Solve the equation using the scipy integrator\n",
    "        soln = kdv.kdv_solution(y0_loop, T, param)\n",
    "        y0_loop = soln.y.T[-1]\n",
    "        kdv_soln_list.append(y0_loop)\n",
    "    return kdv_soln_list"
   ]
  },
  {
   "cell_type": "code",
   "execution_count": 23,
   "metadata": {},
   "outputs": [],
   "source": [
    "pred_traj_number = 5\n",
    "np.random.seed(12)\n",
    "seed_list = np.random.randint(low=1, high=200, size=(pred_traj_number, 2))\n",
    "\n",
    "y0_pred_list = []\n",
    "param_pred_list = []\n",
    "\n",
    "Tsim_pred = 0.1\n",
    "traj_len_pred = int(Tsim_pred / T)\n",
    "\n",
    "for seed_IC, seed_u in seed_list:\n",
    "    # Forward prediction problem setting\n",
    "    y0_pred = kdv.generate_y0(seed_IC)\n",
    "\n",
    "    # Set the seed of param_list\n",
    "    np.random.seed(seed_u)\n",
    "\n",
    "    param_pred = (\n",
    "        np.random.uniform(low=0, high=1, size=(traj_len_pred, param_dim)) * (umax - umin) + umin\n",
    "    )\n",
    "\n",
    "    y0_pred_list.append(y0_pred)\n",
    "    param_pred_list.append(param_pred)"
   ]
  },
  {
   "cell_type": "code",
   "execution_count": 24,
   "metadata": {},
   "outputs": [],
   "source": [
    "error_mass_list_pk, error_momentum_list_pk = kdv.compute_obs_error(\n",
    "    dic=dic_pk,\n",
    "    compute_kdv_soln_func=compute_kdv_soln,\n",
    "    compute_obs_func_model=compute_pk_obs,\n",
    "    error_func=compute_diff_ratio_one_traj,\n",
    "    y0_pred_list=y0_pred_list,\n",
    "    param_pred_list=param_pred_list,\n",
    "    dx=dx,\n",
    ")\n",
    "\n",
    "mass_mean_pk, mass_std_pk, mass_mean_plus_pk, mass_mean_minus_pk = compute_stat_info(\n",
    "    error_mass_list_pk\n",
    ")\n",
    "momentum_mean_pk, momentum_std_pk, momentum_mean_plus_pk, momentum_mean_minus_pk = (\n",
    "    compute_stat_info(error_momentum_list_pk)\n",
    ")"
   ]
  },
  {
   "cell_type": "code",
   "execution_count": 25,
   "metadata": {},
   "outputs": [],
   "source": [
    "error_mass_list_linear, error_momentum_list_linear = kdv.compute_obs_error(\n",
    "    dic=dic_linear,\n",
    "    compute_kdv_soln_func=compute_kdv_soln,\n",
    "    compute_obs_func_model=compute_linear_obs,\n",
    "    error_func=compute_diff_ratio_one_traj,\n",
    "    y0_pred_list=y0_pred_list,\n",
    "    param_pred_list=param_pred_list,\n",
    "    dx=dx,\n",
    ")\n",
    "mass_mean_linear, mass_std_linear, mass_mean_plus_linear, mass_mean_minus_linear = (\n",
    "    compute_stat_info(error_mass_list_linear)\n",
    ")\n",
    "(\n",
    "    momentum_mean_linear,\n",
    "    momentum_std_linear,\n",
    "    momentum_mean_plus_linear,\n",
    "    momentum_mean_minus_linear,\n",
    ") = compute_stat_info(error_momentum_list_linear)"
   ]
  },
  {
   "cell_type": "code",
   "execution_count": 26,
   "metadata": {},
   "outputs": [],
   "source": [
    "error_mass_list_bilinear, error_momentum_list_bilinear = kdv.compute_obs_error(\n",
    "    dic=dic_bilinear,\n",
    "    compute_kdv_soln_func=compute_kdv_soln,\n",
    "    compute_obs_func_model=compute_bilinear_obs,\n",
    "    error_func=compute_diff_ratio_one_traj,\n",
    "    y0_pred_list=y0_pred_list,\n",
    "    param_pred_list=param_pred_list,\n",
    "    dx=dx,\n",
    ")\n",
    "mass_mean_bilinear, mass_std_bilinear, mass_mean_plus_bilinear, mass_mean_minus_bilinear = (\n",
    "    compute_stat_info(error_mass_list_bilinear)\n",
    ")\n",
    "(\n",
    "    momentum_mean_bilinear,\n",
    "    momentum_std_bilinear,\n",
    "    momentum_mean_plus_bilinear,\n",
    "    momentum_mean_minus_bilinear,\n",
    ") = compute_stat_info(error_momentum_list_bilinear)"
   ]
  },
  {
   "cell_type": "code",
   "execution_count": 52,
   "metadata": {},
   "outputs": [
    {
     "data": {
      "text/plain": [
       "<matplotlib.legend.Legend at 0x7f787c14f070>"
      ]
     },
     "execution_count": 52,
     "metadata": {},
     "output_type": "execute_result"
    },
    {
     "data": {
      "image/png": "[encoded data removed]",
      "text/plain": [
       "<Figure size 432x288 with 1 Axes>"
      ]
     },
     "metadata": {
      "needs_background": "light"
     },
     "output_type": "display_data"
    }
   ],
   "source": [
    "t_axis = np.arange(0, traj_len_pred + 1, 1)\n",
    "\n",
    "plt.title(\"Mass\", fontsize=28)\n",
    "plt.plot(mass_mean_pk, label=\"Ours\", color=pk_curve, linewidth=3)\n",
    "plt.fill_between(\n",
    "    t_axis, np.maximum(mass_mean_minus_pk, 0), mass_mean_plus_pk, color=pk_shadow, alpha=0.5\n",
    ")\n",
    "\n",
    "plt.plot(mass_mean_linear, label=\"M2\", color=linear_curve, linewidth=3)\n",
    "plt.fill_between(\n",
    "    t_axis,\n",
    "    np.maximum(mass_mean_minus_linear, 0),\n",
    "    mass_mean_plus_linear,\n",
    "    color=linear_shadow,\n",
    "    alpha=0.5,\n",
    ")\n",
    "\n",
    "plt.plot(mass_mean_bilinear, label=\"M3\", color=bilinear_curve, linewidth=3)\n",
    "plt.fill_between(\n",
    "    t_axis,\n",
    "    np.maximum(mass_mean_minus_bilinear, 0),\n",
    "    mass_mean_plus_bilinear,\n",
    "    color=bilinear_shadow,\n",
    "    alpha=0.5,\n",
    ")\n",
    "\n",
    "plt.xlabel(r\"$n$\", fontsize=28)\n",
    "plt.ylabel(\"Error\", fontsize=28)\n",
    "plt.xticks(fontsize=18)\n",
    "plt.yticks(fontsize=18)\n",
    "plt.legend(fontsize=18)"
   ]
  },
  {
   "cell_type": "code",
   "execution_count": 28,
   "metadata": {},
   "outputs": [
    {
     "data": {
      "text/plain": [
       "<matplotlib.legend.Legend at 0x7f78c83ad7f0>"
      ]
     },
     "execution_count": 28,
     "metadata": {},
     "output_type": "execute_result"
    },
    {
     "data": {
      "image/png": "[encoded data removed]",
      "text/plain": [
       "<Figure size 432x288 with 1 Axes>"
      ]
     },
     "metadata": {
      "needs_background": "light"
     },
     "output_type": "display_data"
    }
   ],
   "source": [
    "t_axis = np.arange(0, traj_len_pred + 1, 1)\n",
    "\n",
    "plt.title(\"Momentum\", fontsize=28)\n",
    "plt.plot(momentum_mean_pk, label=\"Ours\", color=pk_curve, linewidth=3)\n",
    "plt.fill_between(\n",
    "    t_axis,\n",
    "    np.maximum(momentum_mean_minus_pk, 0),\n",
    "    momentum_mean_plus_pk,\n",
    "    color=pk_shadow,\n",
    "    alpha=0.5,\n",
    ")\n",
    "\n",
    "plt.plot(momentum_mean_linear, label=\"M2\", color=linear_curve, linewidth=3)\n",
    "plt.fill_between(\n",
    "    t_axis,\n",
    "    np.maximum(momentum_mean_minus_linear, 0),\n",
    "    momentum_mean_plus_linear,\n",
    "    color=linear_shadow,\n",
    "    alpha=0.5,\n",
    ")\n",
    "\n",
    "plt.plot(momentum_mean_bilinear, label=\"M3\", color=bilinear_curve, linewidth=3)\n",
    "plt.fill_between(\n",
    "    t_axis,\n",
    "    np.maximum(momentum_mean_minus_bilinear, 0),\n",
    "    momentum_mean_plus_bilinear,\n",
    "    color=bilinear_shadow,\n",
    "    alpha=0.5,\n",
    ")\n",
    "\n",
    "plt.xlabel(r\"$n$\", fontsize=28)\n",
    "plt.ylabel(\"Error\", fontsize=28)\n",
    "plt.xticks(fontsize=18)\n",
    "plt.yticks(fontsize=18)\n",
    "plt.legend(fontsize=18)"
   ]
  },
  {
   "cell_type": "markdown",
   "metadata": {},
   "source": [
    "# Tracking problem"
   ]
  },
  {
   "cell_type": "code",
   "execution_count": 29,
   "metadata": {},
   "outputs": [],
   "source": [
    "from scipy.optimize import minimize"
   ]
  },
  {
   "cell_type": "code",
   "execution_count": 30,
   "metadata": {},
   "outputs": [],
   "source": [
    "# Testing reference\n",
    "y0_track = np.zeros(shape=(Nx,)) + 0.2"
   ]
  },
  {
   "cell_type": "code",
   "execution_count": 31,
   "metadata": {},
   "outputs": [],
   "source": [
    "Tsim_track = 10\n",
    "\n",
    "traj_len_track = int(Tsim_track / T)\n",
    "\n",
    "### Set piece-wise reference\n",
    "soln_ref = np.zeros(shape=(traj_len_track, target_dim)) + 0.3\n",
    "\n",
    "for i in range(soln_ref.shape[0]):\n",
    "    if i > traj_len_track / 2:\n",
    "        soln_ref[i, :] = 0.5"
   ]
  },
  {
   "cell_type": "code",
   "execution_count": 32,
   "metadata": {},
   "outputs": [],
   "source": [
    "mass_ref = dx * tf.reshape(tf.math.reduce_sum(soln_ref, axis=-1), shape=(-1, 1))\n",
    "momentum_ref = dx * tf.reshape(tf.math.reduce_sum(tf.square(soln_ref), axis=-1), shape=(-1, 1))"
   ]
  },
  {
   "cell_type": "code",
   "execution_count": 33,
   "metadata": {},
   "outputs": [],
   "source": [
    "def mpc_loss_pk(param, tau, ref_list, y0, B, lambda_param):\n",
    "    param = tf.reshape(param, shape=(int(param.shape[0] / param_dim), 1, param_dim))\n",
    "    loss_list = []\n",
    "    y0 = y0.reshape(1, -1)\n",
    "    psi_y = dic_pk(y0)\n",
    "\n",
    "    for i in range(tau):\n",
    "        psi_x = model_K_u_pred_pk([param[i], psi_y])\n",
    "        obs_next = psi_x @ B\n",
    "        loss_curr = tf.square(tf.norm(ref_list[i] - obs_next))\n",
    "        loss_list.append(loss_curr)\n",
    "\n",
    "    ref_loss = tf.reduce_sum(loss_list)\n",
    "    param_loss = lambda_param * tf.reduce_sum(tf.square(tf.norm(param, axis=-1)))\n",
    "\n",
    "    loss = ref_loss + param_loss\n",
    "\n",
    "    return loss\n",
    "\n",
    "\n",
    "def mpc_loss_linear(param, tau, ref_list, y0, B, lambda_param):\n",
    "    param = tf.reshape(param, shape=(int(param.shape[0] / param_dim), 1, param_dim))\n",
    "    loss_list = []\n",
    "    y0 = y0.reshape(1, -1)\n",
    "    psi_y = solver_linear.dic.call(y0)\n",
    "\n",
    "    for i in range(tau):\n",
    "        psi_y = solver_linear.model_K_u_pred_linear.get_layer(\"Layer_A\")(psi_y) + solver_linear.model_K_u_pred_linear.get_layer(\n",
    "            \"Layer_B\"\n",
    "        )(param[i])\n",
    "        obs = psi_y @ B\n",
    "        loss_curr = tf.square(tf.norm(ref_list[i] - obs))\n",
    "        loss_list.append(loss_curr)\n",
    "\n",
    "    ref_loss = tf.reduce_sum(loss_list)\n",
    "    param_loss = lambda_param * tf.reduce_sum(tf.square(tf.norm(param, axis=-1)))\n",
    "\n",
    "    loss = ref_loss + param_loss\n",
    "\n",
    "    return loss\n",
    "\n",
    "\n",
    "def mpc_loss_bilinear(param, tau, ref_list, y0, B, lambda_param):\n",
    "    param = tf.reshape(param, shape=(int(param.shape[0] / param_dim), 1, param_dim))\n",
    "    loss_list = []\n",
    "    y0 = y0.reshape(1, -1)\n",
    "    psi_y = solver_bilinear.dic.call(y0)\n",
    "\n",
    "    for i in range(tau):\n",
    "\n",
    "        u_psiy = tf.einsum(\"ij,ik->kij\", psi_y, param[i])\n",
    "        u_psiy_list = []\n",
    "        for curr in u_psiy:\n",
    "            u_psiy_list.append(curr)\n",
    "        u_psiy_list = tf.concat(u_psiy_list, axis=-1)\n",
    "\n",
    "        psi_y = solver_bilinear.model_K_u_pred_bilinear.get_layer(\"Layer_A\")(\n",
    "            psi_y\n",
    "        ) + solver_bilinear.model_K_u_pred_bilinear.get_layer(\"Layer_B\")(u_psiy_list)\n",
    "        obs = psi_y @ B\n",
    "        loss_curr = tf.square(tf.norm(ref_list[i] - obs))\n",
    "        loss_list.append(loss_curr)\n",
    "\n",
    "    ref_loss = tf.reduce_sum(loss_list)\n",
    "    param_loss = lambda_param * tf.reduce_sum(tf.square(tf.norm(param, axis=-1)))\n",
    "\n",
    "    loss = ref_loss + param_loss\n",
    "\n",
    "    return loss"
   ]
  },
  {
   "cell_type": "code",
   "execution_count": 34,
   "metadata": {},
   "outputs": [],
   "source": [
    "def KoopmanMPC(y0, tau, traj_len, soln_ref, kdv_solver, B, loss, lambda_param):\n",
    "\n",
    "    bounds = []\n",
    "    for i in range(tau * param_dim):\n",
    "        bounds.append((-1, 1))\n",
    "\n",
    "    y0_mpc_loop_list = [y0]\n",
    "    opt_control_list = []\n",
    "\n",
    "    # Wrap the loop with tqdm for a progress bar\n",
    "    for current_time in tqdm(range(traj_len - tau - 1), desc=\"Processing time steps\"):\n",
    "\n",
    "        param_init = (\n",
    "            np.random.uniform(low=0, high=1, size=(tau * param_dim,)) * (umax - umin) + umin\n",
    "        )\n",
    "\n",
    "        results = minimize(\n",
    "            loss,\n",
    "            x0=param_init,\n",
    "            args=(\n",
    "                tau,\n",
    "                soln_ref[current_time + 1 : current_time + 1 + tau, :],\n",
    "                y0_mpc_loop_list[-1],\n",
    "                B,\n",
    "                lambda_param,\n",
    "            ),\n",
    "            bounds=bounds,\n",
    "        )\n",
    "\n",
    "        param = results.x.reshape(tau, param_dim)[0]\n",
    "        soln_next = kdv_solver(y0_mpc_loop_list[-1], T, param)\n",
    "        y_next = soln_next.y.T[-1]\n",
    "        y0_mpc_loop_list.append(y_next)\n",
    "        opt_control_list.append(param)\n",
    "\n",
    "    current_time = current_time + 1\n",
    "\n",
    "    param_init = np.random.uniform(low=0, high=1, size=(tau * param_dim,)) * (umax - umin) + umin\n",
    "\n",
    "    results = minimize(\n",
    "        loss,\n",
    "        x0=param_init,\n",
    "        args=(\n",
    "            tau,\n",
    "            soln_ref[current_time + 1 : current_time + 1 + tau, :],\n",
    "            y0_mpc_loop_list[-1],\n",
    "            B,\n",
    "            lambda_param,\n",
    "        ),\n",
    "        bounds=bounds,\n",
    "    )\n",
    "\n",
    "    param = results.x.reshape(tau, param_dim)\n",
    "    for param_curr in param:\n",
    "        soln_next = kdv_solver(y0_mpc_loop_list[-1], T, param_curr)\n",
    "        y_next = soln_next.y.T[-1]\n",
    "        y0_mpc_loop_list.append(y_next)\n",
    "        opt_control_list.append(param_curr)\n",
    "\n",
    "    opt_control_list = np.asarray(opt_control_list)\n",
    "    y0_mpc_loop_list = np.asarray(y0_mpc_loop_list)\n",
    "\n",
    "    return opt_control_list, y0_mpc_loop_list"
   ]
  },
  {
   "cell_type": "code",
   "execution_count": 35,
   "metadata": {},
   "outputs": [],
   "source": [
    "B_mass = dic_pk.generate_B_mass(mass_ref)\n",
    "B_momentum = dic_pk.generate_B_momentum(momentum_ref)"
   ]
  },
  {
   "cell_type": "markdown",
   "metadata": {},
   "source": [
    "### Track mass"
   ]
  },
  {
   "cell_type": "code",
   "execution_count": 36,
   "metadata": {},
   "outputs": [],
   "source": [
    "tau = 1  # time horizon\n",
    "lambda_param = 0.005"
   ]
  },
  {
   "cell_type": "code",
   "execution_count": 37,
   "metadata": {},
   "outputs": [
    {
     "name": "stderr",
     "output_type": "stream",
     "text": [
      "Processing time steps: 100%|██████████| 998/998 [27:30<00:00,  1.65s/it]\n"
     ]
    }
   ],
   "source": [
    "pk_opt_control_mass, pk_kdv_opt_mass_soln = KoopmanMPC(\n",
    "    y0=y0_track,\n",
    "    tau=tau,\n",
    "    traj_len=traj_len_track,\n",
    "    soln_ref=mass_ref,\n",
    "    kdv_solver=kdv.kdv_solution,\n",
    "    B=B_mass,\n",
    "    loss=mpc_loss_pk,\n",
    "    lambda_param=lambda_param,\n",
    ")"
   ]
  },
  {
   "cell_type": "code",
   "execution_count": 38,
   "metadata": {},
   "outputs": [
    {
     "name": "stderr",
     "output_type": "stream",
     "text": [
      "Processing time steps:   1%|          | 12/998 [00:16<22:46,  1.39s/it]"
     ]
    },
    {
     "name": "stderr",
     "output_type": "stream",
     "text": [
      "Processing time steps: 100%|██████████| 998/998 [23:20<00:00,  1.40s/it]\n"
     ]
    }
   ],
   "source": [
    "linear_opt_control_mass, linear_kdv_opt_mass_soln = KoopmanMPC(\n",
    "    y0=y0_track,\n",
    "    tau=tau,\n",
    "    traj_len=traj_len_track,\n",
    "    soln_ref=mass_ref,\n",
    "    kdv_solver=kdv.kdv_solution,\n",
    "    B=B_mass,\n",
    "    loss=mpc_loss_linear,\n",
    "    lambda_param=lambda_param,\n",
    ")"
   ]
  },
  {
   "cell_type": "code",
   "execution_count": 39,
   "metadata": {},
   "outputs": [
    {
     "name": "stderr",
     "output_type": "stream",
     "text": [
      "Processing time steps:   4%|▍         | 38/998 [00:53<19:50,  1.24s/it]"
     ]
    },
    {
     "name": "stderr",
     "output_type": "stream",
     "text": [
      "Processing time steps: 100%|██████████| 998/998 [24:49<00:00,  1.49s/it]\n"
     ]
    }
   ],
   "source": [
    "bilinear_opt_control_mass, bilinear_kdv_opt_mass_soln = KoopmanMPC(\n",
    "    y0=y0_track,\n",
    "    tau=tau,\n",
    "    traj_len=traj_len_track,\n",
    "    soln_ref=mass_ref,\n",
    "    kdv_solver=kdv.kdv_solution,\n",
    "    B=B_mass,\n",
    "    loss=mpc_loss_bilinear,\n",
    "    lambda_param=lambda_param,\n",
    ")"
   ]
  },
  {
   "cell_type": "code",
   "execution_count": 40,
   "metadata": {},
   "outputs": [],
   "source": [
    "pk_kdv_opt_mass = dx * tf.reduce_sum(pk_kdv_opt_mass_soln, axis=-1)\n",
    "linear_kdv_opt_mass = dx * tf.reduce_sum(linear_kdv_opt_mass_soln, axis=-1)\n",
    "bilinear_kdv_opt_mass = dx * tf.reduce_sum(bilinear_kdv_opt_mass_soln, axis=-1)"
   ]
  },
  {
   "cell_type": "markdown",
   "metadata": {},
   "source": [
    "### Check exact control for KdV equation"
   ]
  },
  {
   "cell_type": "code",
   "execution_count": 41,
   "metadata": {},
   "outputs": [],
   "source": [
    "def v_func(x, c):\n",
    "    return np.exp(-25 * (x - c) ** 2)\n",
    "\n",
    "\n",
    "c1, c2, c3 = -np.pi / 2, 0, np.pi / 2\n",
    "v1 = v_func(x, c1).reshape(1, -1)\n",
    "v2 = v_func(x, c2).reshape(1, -1)\n",
    "v3 = v_func(x, c3).reshape(1, -1)\n",
    "\n",
    "v_list = np.concatenate([v1, v2, v3], axis=0)\n",
    "\n",
    "\n",
    "def v1_func(x):\n",
    "    return np.exp(-25 * (x + np.pi / 2) ** 2)\n",
    "\n",
    "\n",
    "def v2_func(x):\n",
    "    return np.exp(-25 * (x) ** 2)\n",
    "\n",
    "\n",
    "def v3_func(x):\n",
    "    return np.exp(-25 * (x - np.pi / 2) ** 2)\n",
    "\n",
    "\n",
    "from scipy import integrate\n",
    "\n",
    "integral_1, error_1 = integrate.quad(v1_func, -np.pi, np.pi)\n",
    "\n",
    "integral_2, error_2 = integrate.quad(v2_func, -np.pi, np.pi)\n",
    "\n",
    "integral_3, error_3 = integrate.quad(v3_func, -np.pi, np.pi)\n",
    "\n",
    "rhs_value = integral_1 + integral_2 + integral_3\n",
    "\n",
    "mass_y0_track = dx * tf.reshape(tf.math.reduce_sum(y0_track, axis=-1), shape=(-1, 1))\n",
    "\n",
    "track_time_1 = (mass_ref[0] - mass_y0_track) / rhs_value\n",
    "track_step_1 = int(track_time_1 / T)\n",
    "\n",
    "track_time_2 = (mass_ref[-1] - mass_ref[0]) / rhs_value\n",
    "track_step_2 = int(track_time_2 / T)\n",
    "\n",
    "control_exact_opt = np.zeros(shape=pk_opt_control_mass.shape, dtype=\"float64\")\n",
    "\n",
    "control_exact_opt[:track_step_1] = 0.5\n",
    "control_exact_opt[500 : 500 + track_step_2] = 0.5\n",
    "\n",
    "kdv_opt_control = compute_kdv_soln(y0_track, control_exact_opt)\n",
    "\n",
    "kdv_opt_control = np.asarray(kdv_opt_control)\n",
    "kdv_opt_mass = dx * tf.reshape(tf.math.reduce_sum(kdv_opt_control, axis=-1), shape=(-1, 1))"
   ]
  },
  {
   "cell_type": "code",
   "execution_count": 48,
   "metadata": {},
   "outputs": [
    {
     "data": {
      "text/plain": [
       "<matplotlib.legend.Legend at 0x7f78c81c82b0>"
      ]
     },
     "execution_count": 48,
     "metadata": {},
     "output_type": "execute_result"
    },
    {
     "data": {
      "image/png": "[encoded data removed]",
      "text/plain": [
       "<Figure size 720x360 with 1 Axes>"
      ]
     },
     "metadata": {
      "needs_background": "light"
     },
     "output_type": "display_data"
    }
   ],
   "source": [
    "plt.figure(figsize=(10, 5))\n",
    "plt.plot(mass_ref, label=\"Reference\", linestyle=\"--\", color=ref_color, linewidth=linewidth)\n",
    "\n",
    "plt.plot(\n",
    "    linear_kdv_opt_mass,\n",
    "    label=\"M2\",\n",
    "    color=linear_curve,\n",
    "    linestyle=linear_linestyle,\n",
    "    linewidth=linewidth,\n",
    ")\n",
    "plt.plot(\n",
    "    bilinear_kdv_opt_mass,\n",
    "    label=\"M3 \",\n",
    "    color=bilinear_curve,\n",
    "    linestyle=bilinear_linestyle,\n",
    "    linewidth=linewidth,\n",
    ")\n",
    "plt.plot(\n",
    "    pk_kdv_opt_mass, label=\"Ours\", color=pk_curve, linestyle=pk_linestyle, linewidth=linewidth\n",
    ")\n",
    "\n",
    "\n",
    "plt.plot(kdv_opt_mass, label=\"KdV\", linestyle=\"--\", color=exact_color, linewidth=linewidth)\n",
    "\n",
    "plt.xticks(fontsize=ticks_font)\n",
    "plt.yticks(fontsize=ticks_font)\n",
    "plt.xlabel(r\"$n$\", fontsize=label_font)\n",
    "plt.ylabel(\"Mass\", fontsize=label_font)\n",
    "# plt.yscale('log')\n",
    "plt.legend(fontsize=legend_font, loc=(1.05, 0.1))"
   ]
  },
  {
   "cell_type": "markdown",
   "metadata": {},
   "source": [
    "### Track momentum"
   ]
  },
  {
   "cell_type": "code",
   "execution_count": 43,
   "metadata": {},
   "outputs": [
    {
     "name": "stderr",
     "output_type": "stream",
     "text": [
      "Processing time steps:   1%|          | 9/998 [00:16<28:28,  1.73s/it]"
     ]
    },
    {
     "name": "stderr",
     "output_type": "stream",
     "text": [
      "Processing time steps: 100%|██████████| 998/998 [28:05<00:00,  1.69s/it]\n"
     ]
    }
   ],
   "source": [
    "pk_opt_control_momentum, pk_kdv_opt_momentum_soln = KoopmanMPC(\n",
    "    y0=y0_track,\n",
    "    tau=tau,\n",
    "    traj_len=traj_len_track,\n",
    "    soln_ref=momentum_ref,\n",
    "    kdv_solver=kdv.kdv_solution,\n",
    "    B=B_momentum,\n",
    "    loss=mpc_loss_pk,\n",
    "    lambda_param=lambda_param,\n",
    ")"
   ]
  },
  {
   "cell_type": "code",
   "execution_count": 44,
   "metadata": {},
   "outputs": [
    {
     "name": "stderr",
     "output_type": "stream",
     "text": [
      "Processing time steps:   1%|          | 6/998 [00:09<26:15,  1.59s/it]"
     ]
    },
    {
     "name": "stderr",
     "output_type": "stream",
     "text": [
      "Processing time steps: 100%|██████████| 998/998 [24:53<00:00,  1.50s/it]\n"
     ]
    }
   ],
   "source": [
    "linear_opt_control_momentum, linear_kdv_opt_momentum_soln = KoopmanMPC(\n",
    "    y0=y0_track,\n",
    "    tau=tau,\n",
    "    traj_len=traj_len_track,\n",
    "    soln_ref=momentum_ref,\n",
    "    kdv_solver=kdv.kdv_solution,\n",
    "    B=B_momentum,\n",
    "    loss=mpc_loss_linear,\n",
    "    lambda_param=lambda_param,\n",
    ")"
   ]
  },
  {
   "cell_type": "code",
   "execution_count": 45,
   "metadata": {},
   "outputs": [
    {
     "name": "stderr",
     "output_type": "stream",
     "text": [
      "Processing time steps:   1%|          | 9/998 [00:13<25:41,  1.56s/it]"
     ]
    },
    {
     "name": "stderr",
     "output_type": "stream",
     "text": [
      "Processing time steps: 100%|██████████| 998/998 [24:54<00:00,  1.50s/it]\n"
     ]
    }
   ],
   "source": [
    "bilinear_opt_control_momentum, bilinear_kdv_opt_momentum_soln = KoopmanMPC(\n",
    "    y0=y0_track,\n",
    "    tau=tau,\n",
    "    traj_len=traj_len_track,\n",
    "    soln_ref=momentum_ref,\n",
    "    kdv_solver=kdv.kdv_solution,\n",
    "    B=B_momentum,\n",
    "    loss=mpc_loss_bilinear,\n",
    "    lambda_param=lambda_param,\n",
    ")"
   ]
  },
  {
   "cell_type": "code",
   "execution_count": 46,
   "metadata": {},
   "outputs": [],
   "source": [
    "pk_kdv_opt_momentum = dx * tf.reduce_sum(tf.square(pk_kdv_opt_momentum_soln), axis=-1)\n",
    "linear_kdv_opt_momentum = dx * tf.reduce_sum(tf.square(linear_kdv_opt_momentum_soln), axis=-1)\n",
    "bilinear_kdv_opt_momentum = dx * tf.reduce_sum(tf.square(bilinear_kdv_opt_momentum_soln), axis=-1)"
   ]
  },
  {
   "cell_type": "code",
   "execution_count": 1,
   "metadata": {},
   "outputs": [
    {
     "ename": "NameError",
     "evalue": "name 'plt' is not defined",
     "output_type": "error",
     "traceback": [
      "\u001b[0;31m---------------------------------------------------------------------------\u001b[0m",
      "\u001b[0;31mNameError\u001b[0m                                 Traceback (most recent call last)",
      "Input \u001b[0;32mIn [1]\u001b[0m, in \u001b[0;36m<cell line: 1>\u001b[0;34m()\u001b[0m\n\u001b[0;32m----> 1\u001b[0m \u001b[43mplt\u001b[49m\u001b[38;5;241m.\u001b[39mfigure(figsize\u001b[38;5;241m=\u001b[39m(\u001b[38;5;241m10\u001b[39m, \u001b[38;5;241m5\u001b[39m))\n\u001b[1;32m      2\u001b[0m plt\u001b[38;5;241m.\u001b[39mplot(momentum_ref, label\u001b[38;5;241m=\u001b[39m\u001b[38;5;124m\"\u001b[39m\u001b[38;5;124mReference\u001b[39m\u001b[38;5;124m\"\u001b[39m, linestyle\u001b[38;5;241m=\u001b[39m\u001b[38;5;124m\"\u001b[39m\u001b[38;5;124m--\u001b[39m\u001b[38;5;124m\"\u001b[39m, color\u001b[38;5;241m=\u001b[39mref_color, linewidth\u001b[38;5;241m=\u001b[39mlinewidth)\n\u001b[1;32m      4\u001b[0m plt\u001b[38;5;241m.\u001b[39mplot(\n\u001b[1;32m      5\u001b[0m     linear_kdv_opt_momentum,\n\u001b[1;32m      6\u001b[0m     label\u001b[38;5;241m=\u001b[39m\u001b[38;5;124m\"\u001b[39m\u001b[38;5;124mM2\u001b[39m\u001b[38;5;124m\"\u001b[39m,\n\u001b[0;32m   (...)\u001b[0m\n\u001b[1;32m      9\u001b[0m     linewidth\u001b[38;5;241m=\u001b[39mlinewidth,\n\u001b[1;32m     10\u001b[0m )\n",
      "\u001b[0;31mNameError\u001b[0m: name 'plt' is not defined"
     ]
    }
   ],
   "source": [
    "plt.figure(figsize=(10, 5))\n",
    "plt.plot(momentum_ref, label=\"Reference\", linestyle=\"--\", color=ref_color, linewidth=linewidth)\n",
    "\n",
    "plt.plot(\n",
    "    linear_kdv_opt_momentum,\n",
    "    label=\"M2\",\n",
    "    color=linear_curve,\n",
    "    linestyle=linear_linestyle,\n",
    "    linewidth=linewidth,\n",
    ")\n",
    "plt.plot(\n",
    "    bilinear_kdv_opt_momentum,\n",
    "    label=\"M3 \",\n",
    "    color=bilinear_curve,\n",
    "    linestyle=bilinear_linestyle,\n",
    "    linewidth=linewidth,\n",
    ")\n",
    "plt.plot(\n",
    "    pk_kdv_opt_momentum, label=\"Ours\", color=pk_curve, linestyle=pk_linestyle, linewidth=linewidth\n",
    ")\n",
    "\n",
    "\n",
    "plt.xticks(fontsize=ticks_font)\n",
    "plt.yticks(fontsize=ticks_font)\n",
    "plt.xlabel(r\"$n$\", fontsize=label_font)\n",
    "plt.ylabel(\"momentum\", fontsize=label_font)\n",
    "plt.legend(fontsize=legend_font, loc=(1.05, 0.1))"
   ]
  },
  {
   "cell_type": "code",
   "execution_count": null,
   "metadata": {},
   "outputs": [],
   "source": []
  },
  {
   "cell_type": "code",
   "execution_count": null,
   "metadata": {},
   "outputs": [],
   "source": []
  },
  {
   "cell_type": "code",
   "execution_count": null,
   "metadata": {},
   "outputs": [],
   "source": []
  },
  {
   "cell_type": "markdown",
   "metadata": {},
   "source": [
    "# Controllability"
   ]
  },
  {
   "cell_type": "code",
   "execution_count": null,
   "metadata": {},
   "outputs": [],
   "source": [
    "# Randomly sample control\n",
    "np.random.seed(seed=111)\n",
    "n_control_samples = 2000\n",
    "control_samples = (\n",
    "    np.random.uniform(low=0, high=1, size=(n_control_samples, param_dim)) * (umax - umin) + umin\n",
    ")"
   ]
  },
  {
   "cell_type": "code",
   "execution_count": null,
   "metadata": {},
   "outputs": [],
   "source": [
    "pk_K_matrix = solver_pk.model_K_u(control_samples)"
   ]
  },
  {
   "cell_type": "code",
   "execution_count": null,
   "metadata": {},
   "outputs": [],
   "source": [
    "identity_matrix = np.eye(N=pk_K_matrix.shape[-1])\n",
    "\n",
    "pk_A_matrix = (pk_K_matrix - identity_matrix) / T\n",
    "\n",
    "pk_A_vector = tf.reshape(\n",
    "    pk_A_matrix, shape=(pk_A_matrix.shape[0], pk_A_matrix.shape[-1] * pk_A_matrix.shape[-1])\n",
    ")\n",
    "\n",
    "rank = np.linalg.matrix_rank(pk_A_vector)\n",
    "\n",
    "U, S, VT = np.linalg.svd(pk_A_vector)"
   ]
  },
  {
   "cell_type": "code",
   "execution_count": null,
   "metadata": {},
   "outputs": [],
   "source": [
    "pk_A_vector.shape"
   ]
  },
  {
   "cell_type": "code",
   "execution_count": null,
   "metadata": {},
   "outputs": [],
   "source": [
    "np.sum(S > 1e-5)"
   ]
  },
  {
   "cell_type": "code",
   "execution_count": null,
   "metadata": {},
   "outputs": [],
   "source": [
    "label_font = 16\n",
    "ticks_font = 16\n",
    "\n",
    "np.linspace(1, 36, 8)\n",
    "\n",
    "# plt.plot(S, linewidth=2)\n",
    "plt.plot(S / np.max(S), linewidth=2)\n",
    "\n",
    "\n",
    "plt.yscale(\"log\")\n",
    "\n",
    "custom_xticks = np.linspace(1, 36, 8)\n",
    "plt.xticks(custom_xticks, fontsize=ticks_font)\n",
    "plt.yticks(fontsize=ticks_font)\n",
    "\n",
    "\n",
    "plt.xlabel(r\"$i$\", fontsize=label_font)\n",
    "plt.ylabel(r\"$\\sigma_{i}$\", fontsize=label_font)"
   ]
  },
  {
   "cell_type": "markdown",
   "metadata": {},
   "source": [
    "# Save data"
   ]
  },
  {
   "cell_type": "code",
   "execution_count": null,
   "metadata": {},
   "outputs": [],
   "source": [
    "# results_dict = {'eigen_value': S,\n",
    "#                'pk_opt_soln_mass':pk_kdv_opt_mass,\n",
    "#                'pk_opt_soln_momentum': pk_kdv_opt_momentum}"
   ]
  },
  {
   "cell_type": "code",
   "execution_count": null,
   "metadata": {},
   "outputs": [],
   "source": [
    "# np.save(os.path.join(data_path,'K_layer/results_klayer'+str(K_layer_size[-1])+'.npy'), results_dict)"
   ]
  },
  {
   "cell_type": "markdown",
   "metadata": {},
   "source": [
    "# Evaluation over different K structures\n",
    "If you have solved the tracking problems over different K settings and saved results by the corresponding file name, you can run the following code to see the comparison. "
   ]
  },
  {
   "cell_type": "code",
   "execution_count": null,
   "metadata": {},
   "outputs": [],
   "source": [
    "results_dict_6 = np.load(os.path.join(data_path, \"K_layer/results_klayer6.npy\"), allow_pickle=True)\n",
    "\n",
    "eig_value_6 = results_dict_6[()][\"eigen_value\"]\n",
    "pk_opt_soln_mass_6 = results_dict_6[()][\"pk_opt_soln_mass\"]\n",
    "pk_opt_soln_momentum_6 = results_dict_6[()][\"pk_opt_soln_momentum\"]"
   ]
  },
  {
   "cell_type": "code",
   "execution_count": null,
   "metadata": {},
   "outputs": [],
   "source": [
    "results_dict_12 = np.load(\n",
    "    os.path.join(data_path, \"K_layer/results_klayer12.npy\"), allow_pickle=True\n",
    ")\n",
    "\n",
    "eig_value_12 = results_dict_12[()][\"eigen_value\"]\n",
    "pk_opt_soln_mass_12 = results_dict_12[()][\"pk_opt_soln_mass\"]\n",
    "pk_opt_soln_momentum_12 = results_dict_12[()][\"pk_opt_soln_momentum\"]"
   ]
  },
  {
   "cell_type": "code",
   "execution_count": null,
   "metadata": {},
   "outputs": [],
   "source": [
    "results_dict_36 = np.load(\n",
    "    os.path.join(data_path, \"K_layer/results_klayer36.npy\"), allow_pickle=True\n",
    ")\n",
    "\n",
    "eig_value_36 = results_dict_36[()][\"eigen_value\"]\n",
    "pk_opt_soln_mass_36 = results_dict_36[()][\"pk_opt_soln_mass\"]\n",
    "pk_opt_soln_momentum_36 = results_dict_36[()][\"pk_opt_soln_momentum\"]"
   ]
  },
  {
   "cell_type": "markdown",
   "metadata": {},
   "source": [
    "# Eigenvalues"
   ]
  },
  {
   "cell_type": "code",
   "execution_count": null,
   "metadata": {},
   "outputs": [],
   "source": [
    "plt.figure(figsize=(8, 6))\n",
    "plt.plot(eig_value_6, linewidth=2, label=r\"$N_{K}$=7\", marker=\"o\", color=\"palevioletred\")\n",
    "plt.plot(eig_value_12, linewidth=2, label=r\"$N_{K}$=13\", marker=\"s\", color=\"darkseagreen\")\n",
    "plt.plot(eig_value_36, linewidth=2, label=r\"$N_{K}$=37\", marker=\"*\", color=\"darkorange\")\n",
    "\n",
    "plt.yscale(\"log\")\n",
    "\n",
    "custom_xticks = np.linspace(1, 36, 8)\n",
    "plt.xticks(custom_xticks, fontsize=ticks_font)\n",
    "plt.yticks(fontsize=ticks_font)\n",
    "\n",
    "# plt.xlim(0,37)\n",
    "plt.ylim(1e-14, 1e5)\n",
    "plt.xlabel(r\"$i$\", fontsize=22)\n",
    "plt.ylabel(r\"$\\sigma_{i}$\", fontsize=22)\n",
    "plt.legend(fontsize=22, loc=(0.58, 0.2))"
   ]
  },
  {
   "cell_type": "code",
   "execution_count": null,
   "metadata": {},
   "outputs": [],
   "source": [
    "plt.figure(figsize=(8, 6))\n",
    "plt.plot(\n",
    "    eig_value_6 / np.max(eig_value_6),\n",
    "    linewidth=2,\n",
    "    label=r\"$N_{K}$=7\",\n",
    "    marker=\"o\",\n",
    "    color=\"palevioletred\",\n",
    ")\n",
    "plt.plot(\n",
    "    eig_value_12 / np.max(eig_value_12),\n",
    "    linewidth=2,\n",
    "    label=r\"$N_{K}$=13\",\n",
    "    marker=\"s\",\n",
    "    color=\"darkseagreen\",\n",
    ")\n",
    "plt.plot(\n",
    "    eig_value_36 / np.max(eig_value_36),\n",
    "    linewidth=2,\n",
    "    label=r\"$N_{K}$=37\",\n",
    "    marker=\"*\",\n",
    "    color=\"darkorange\",\n",
    ")\n",
    "\n",
    "plt.yscale(\"log\")\n",
    "\n",
    "custom_xticks = np.linspace(1, 36, 8)\n",
    "plt.xticks(custom_xticks, fontsize=ticks_font)\n",
    "plt.yticks(fontsize=ticks_font)\n",
    "\n",
    "# plt.xlim(0,37)\n",
    "# plt.ylim(1e-14,1e5)\n",
    "plt.xlabel(r\"$i$\", fontsize=22)\n",
    "plt.ylabel(r\"$\\sigma_{i}$\", fontsize=22)\n",
    "plt.legend(fontsize=22, loc=(0.58, 0.2))"
   ]
  },
  {
   "cell_type": "code",
   "execution_count": null,
   "metadata": {},
   "outputs": [],
   "source": [
    "eig_value_36 / np.max(eig_value_36)"
   ]
  },
  {
   "cell_type": "code",
   "execution_count": null,
   "metadata": {},
   "outputs": [],
   "source": [
    "plt.figure(figsize=(8, 6))\n",
    "plt.plot(mass_ref, label=\"Reference\", linestyle=\"--\", color=ref_color, linewidth=2)\n",
    "\n",
    "plt.plot(pk_opt_soln_mass_6, linewidth=2, label=r\"$N_{K}$=7\", color=\"palevioletred\")\n",
    "plt.plot(pk_opt_soln_mass_12, linewidth=2, label=r\"$N_{K}$=13\", color=\"darkseagreen\")\n",
    "plt.plot(pk_opt_soln_mass_36, linewidth=2, label=r\"$N_{K}$=37\", color=\"darkorange\")\n",
    "\n",
    "plt.xticks(fontsize=ticks_font)\n",
    "plt.yticks(fontsize=ticks_font)\n",
    "\n",
    "plt.xlabel(r\"$n$\", fontsize=22)\n",
    "plt.ylabel(\"Mass\", fontsize=22)\n",
    "plt.legend(fontsize=22)"
   ]
  },
  {
   "cell_type": "code",
   "execution_count": null,
   "metadata": {},
   "outputs": [],
   "source": [
    "plt.figure(figsize=(8, 6))\n",
    "plt.plot(momentum_ref, label=\"Reference\", linestyle=\"--\", color=ref_color, linewidth=2)\n",
    "\n",
    "plt.plot(pk_opt_soln_momentum_6, linewidth=2, label=r\"$N_{K}$=7\", color=\"palevioletred\")\n",
    "plt.plot(pk_opt_soln_momentum_12, linewidth=2, label=r\"$N_{K}$=13\", color=\"darkseagreen\")\n",
    "plt.plot(pk_opt_soln_momentum_36, linewidth=2, label=r\"$N_{K}$=37\", color=\"darkorange\")\n",
    "\n",
    "\n",
    "plt.xticks(fontsize=ticks_font)\n",
    "plt.yticks(fontsize=ticks_font)\n",
    "\n",
    "plt.xlabel(r\"$n$\", fontsize=22)\n",
    "plt.ylabel(\"Momentum\", fontsize=22)\n",
    "plt.legend(fontsize=22)"
   ]
  },
  {
   "cell_type": "code",
   "execution_count": null,
   "metadata": {},
   "outputs": [],
   "source": []
  }
 ],
 "metadata": {
  "kernelspec": {
   "display_name": "pknn_env",
   "language": "python",
   "name": "python3"
  },
  "language_info": {
   "codemirror_mode": {
    "name": "ipython",
    "version": 3
   },
   "file_extension": ".py",
   "mimetype": "text/x-python",
   "name": "python",
   "nbconvert_exporter": "python",
   "pygments_lexer": "ipython3",
   "version": "3.8.8"
  }
 },
 "nbformat": 4,
 "nbformat_minor": 2
}
