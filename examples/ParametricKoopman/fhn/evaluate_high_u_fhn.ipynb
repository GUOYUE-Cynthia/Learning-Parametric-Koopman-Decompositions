{
 "cells": [
  {
   "cell_type": "code",
   "execution_count": 1,
   "metadata": {},
   "outputs": [],
   "source": [
    "import os\n",
    "\n",
    "os.environ[\"CUDA_VISIBLE_DEVICES\"] = \"-1\""
   ]
  },
  {
   "cell_type": "code",
   "execution_count": 2,
   "metadata": {},
   "outputs": [],
   "source": [
    "%load_ext autoreload\n",
    "%autoreload 2"
   ]
  },
  {
   "cell_type": "code",
   "execution_count": 3,
   "metadata": {},
   "outputs": [
    {
     "name": "stderr",
     "output_type": "stream",
     "text": [
      "2024-03-20 21:29:24.656501: I tensorflow/core/platform/cpu_feature_guard.cc:193] This TensorFlow binary is optimized with oneAPI Deep Neural Network Library (oneDNN) to use the following CPU instructions in performance-critical operations:  AVX2 AVX512F AVX512_VNNI FMA\n",
      "To enable them in other operations, rebuild TensorFlow with the appropriate compiler flags.\n",
      "2024-03-20 21:29:24.951017: I tensorflow/core/util/port.cc:104] oneDNN custom operations are on. You may see slightly different numerical results due to floating-point round-off errors from different computation orders. To turn them off, set the environment variable `TF_ENABLE_ONEDNN_OPTS=0`.\n",
      "2024-03-20 21:29:26.414430: W tensorflow/compiler/xla/stream_executor/platform/default/dso_loader.cc:64] Could not load dynamic library 'libnvinfer.so.7'; dlerror: libnvrtc.so.10.2: cannot open shared object file: No such file or directory; LD_LIBRARY_PATH: /usr/local/cuda-11.1/lib64:\n",
      "2024-03-20 21:29:26.414968: W tensorflow/compiler/xla/stream_executor/platform/default/dso_loader.cc:64] Could not load dynamic library 'libnvinfer_plugin.so.7'; dlerror: libnvrtc.so.10.2: cannot open shared object file: No such file or directory; LD_LIBRARY_PATH: /usr/local/cuda-11.1/lib64:\n",
      "2024-03-20 21:29:26.414988: W tensorflow/compiler/tf2tensorrt/utils/py_utils.cc:38] TF-TRT Warning: Cannot dlopen some TensorRT libraries. If you would like to use Nvidia GPU with TensorRT, please make sure the missing libraries mentioned above are installed properly.\n"
     ]
    }
   ],
   "source": [
    "import matplotlib.pyplot as plt\n",
    "import numpy as np\n",
    "import seaborn as sns\n",
    "import tensorflow as tf"
   ]
  },
  {
   "cell_type": "code",
   "execution_count": 4,
   "metadata": {},
   "outputs": [],
   "source": [
    "from koopmanlib.functions import *"
   ]
  },
  {
   "cell_type": "code",
   "execution_count": 5,
   "metadata": {},
   "outputs": [],
   "source": [
    "import json\n",
    "import sys"
   ]
  },
  {
   "cell_type": "markdown",
   "metadata": {},
   "source": [
    "# Generate data"
   ]
  },
  {
   "cell_type": "code",
   "execution_count": 6,
   "metadata": {},
   "outputs": [],
   "source": [
    "config_file = \"config_fhn.json\""
   ]
  },
  {
   "cell_type": "code",
   "execution_count": 7,
   "metadata": {},
   "outputs": [],
   "source": [
    "with open(config_file, \"r\") as f:\n",
    "    config = json.load(f)[\"fhn_high_dim_u_settings\"]"
   ]
  },
  {
   "cell_type": "code",
   "execution_count": 8,
   "metadata": {},
   "outputs": [],
   "source": [
    "data_path = config[\"data_settings\"][\"data_path\"]\n",
    "weights_path = config[\"nn_settings\"][\"weights_path\"]\n",
    "figures_path = config[\"data_settings\"][\"figures_path\"]\n"
   ]
  },
  {
   "cell_type": "code",
   "execution_count": 9,
   "metadata": {},
   "outputs": [],
   "source": [
    "Nx = config[\"data_settings\"][\"Nx\"]\n",
    "n_traj = config[\"data_settings\"][\"n_traj\"]\n",
    "traj_len = config[\"data_settings\"][\"traj_len\"]"
   ]
  },
  {
   "cell_type": "code",
   "execution_count": 10,
   "metadata": {},
   "outputs": [],
   "source": [
    "n_psi_train = config[\"nn_settings\"][\"n_psi_train\"]\n",
    "target_dim = Nx * 2\n",
    "param_dim = 3\n",
    "n_psi = 1 + target_dim + n_psi_train\n",
    "dict_layer_size = config[\"nn_settings\"][\"dict_layer_size\"]\n",
    "K_layer_size = config[\"nn_settings\"][\"K_layer_size\"]"
   ]
  },
  {
   "cell_type": "code",
   "execution_count": 11,
   "metadata": {},
   "outputs": [
    {
     "data": {
      "text/plain": [
       "[64]"
      ]
     },
     "execution_count": 11,
     "metadata": {},
     "output_type": "execute_result"
    }
   ],
   "source": [
    "K_layer_size"
   ]
  },
  {
   "cell_type": "code",
   "execution_count": 12,
   "metadata": {},
   "outputs": [],
   "source": [
    "x = np.linspace(-10, 10, Nx)\n",
    "t = np.arange(0, traj_len, 1)"
   ]
  },
  {
   "cell_type": "code",
   "execution_count": 13,
   "metadata": {},
   "outputs": [],
   "source": [
    "from koopmanlib.target import ModifiedFHNTarget"
   ]
  },
  {
   "cell_type": "code",
   "execution_count": 14,
   "metadata": {},
   "outputs": [],
   "source": [
    "fhn_pde = ModifiedFHNTarget(\n",
    "    x=x, dt=1e-5, t_step=1e-3, dim=target_dim, param_dim=param_dim, param_input=1e3\n",
    ")"
   ]
  },
  {
   "cell_type": "code",
   "execution_count": 15,
   "metadata": {},
   "outputs": [],
   "source": [
    "data_dict = np.load(\n",
    "    os.path.join(data_path, \"data_high_u_fhn_Nx_\" + str(Nx) + \".npy\"), allow_pickle=True\n",
    ")"
   ]
  },
  {
   "cell_type": "code",
   "execution_count": 16,
   "metadata": {},
   "outputs": [],
   "source": [
    "data_z_curr = data_dict[()][\"data_z_curr\"]\n",
    "data_u = data_dict[()][\"data_u\"]\n",
    "data_z_next = data_dict[()][\"data_z_next\"]"
   ]
  },
  {
   "cell_type": "code",
   "execution_count": 17,
   "metadata": {},
   "outputs": [
    {
     "data": {
      "text/plain": [
       "(49900, 20)"
      ]
     },
     "execution_count": 17,
     "metadata": {},
     "output_type": "execute_result"
    }
   ],
   "source": [
    "data_z_curr.shape"
   ]
  },
  {
   "cell_type": "code",
   "execution_count": 18,
   "metadata": {},
   "outputs": [],
   "source": [
    "data_z_curr_reshape = data_z_curr.reshape(-1, n_traj, target_dim)\n",
    "data_z_curr_reshape_trans = np.transpose(data_z_curr_reshape, (1, 0, 2))\n",
    "\n",
    "sample_idx = 1"
   ]
  },
  {
   "cell_type": "code",
   "execution_count": 19,
   "metadata": {},
   "outputs": [],
   "source": [
    "from sklearn.preprocessing import StandardScaler\n",
    "\n",
    "scaler_z = StandardScaler()\n",
    "scaler_z.fit(data_z_curr)\n",
    "\n",
    "z_curr_normalized = scaler_z.transform(data_z_curr)\n",
    "z_next_normalized = scaler_z.transform(data_z_next)\n",
    "\n",
    "# After the prediction, we use inverse_transform to recover data.\n",
    "\n",
    "# z_curr_recover = scaler_z.inverse_transform(z_curr_normalized)"
   ]
  },
  {
   "cell_type": "markdown",
   "metadata": {},
   "source": [
    "# Build model"
   ]
  },
  {
   "cell_type": "code",
   "execution_count": 20,
   "metadata": {},
   "outputs": [],
   "source": [
    "from koopmanlib.dictionary import PsiNN\n",
    "from koopmanlib.param_solver import KoopmanParametricDLSolver"
   ]
  },
  {
   "cell_type": "code",
   "execution_count": 21,
   "metadata": {},
   "outputs": [],
   "source": [
    "from tensorflow.keras.optimizers import Adam"
   ]
  },
  {
   "cell_type": "code",
   "execution_count": 22,
   "metadata": {},
   "outputs": [],
   "source": [
    "dic_pk = PsiNN(layer_sizes=dict_layer_size, n_psi_train=n_psi_train)"
   ]
  },
  {
   "cell_type": "code",
   "execution_count": 23,
   "metadata": {},
   "outputs": [
    {
     "name": "stderr",
     "output_type": "stream",
     "text": [
      "2024-03-20 21:29:34.248249: E tensorflow/compiler/xla/stream_executor/cuda/cuda_driver.cc:267] failed call to cuInit: CUDA_ERROR_NO_DEVICE: no CUDA-capable device is detected\n",
      "2024-03-20 21:29:34.248379: I tensorflow/compiler/xla/stream_executor/cuda/cuda_diagnostics.cc:169] retrieving CUDA diagnostic information for host: neon\n",
      "2024-03-20 21:29:34.248389: I tensorflow/compiler/xla/stream_executor/cuda/cuda_diagnostics.cc:176] hostname: neon\n",
      "2024-03-20 21:29:34.248716: I tensorflow/compiler/xla/stream_executor/cuda/cuda_diagnostics.cc:200] libcuda reported version is: 470.239.6\n",
      "2024-03-20 21:29:34.248798: I tensorflow/compiler/xla/stream_executor/cuda/cuda_diagnostics.cc:204] kernel reported version is: 470.239.6\n",
      "2024-03-20 21:29:34.248821: I tensorflow/compiler/xla/stream_executor/cuda/cuda_diagnostics.cc:310] kernel version seems to match DSO: 470.239.6\n",
      "2024-03-20 21:29:34.250511: I tensorflow/core/platform/cpu_feature_guard.cc:193] This TensorFlow binary is optimized with oneAPI Deep Neural Network Library (oneDNN) to use the following CPU instructions in performance-critical operations:  AVX2 AVX512F AVX512_VNNI FMA\n",
      "To enable them in other operations, rebuild TensorFlow with the appropriate compiler flags.\n"
     ]
    }
   ],
   "source": [
    "from koopmanlib.K_structure import Model_K_u_Layer_One, Model_ResNet_K_u_Layer_One\n",
    "\n",
    "model_K_u = Model_K_u_Layer_One(layer_sizes=K_layer_size, n_psi=n_psi)\n",
    "\n",
    "solver_pk = KoopmanParametricDLSolver(\n",
    "    target_dim=target_dim, param_dim=param_dim, n_psi=n_psi, dic=dic_pk, model_K_u=model_K_u\n",
    ")\n",
    "\n",
    "model_pk, model_K_u_pred_pk = solver_pk.generate_model()"
   ]
  },
  {
   "cell_type": "code",
   "execution_count": 24,
   "metadata": {},
   "outputs": [],
   "source": [
    "model_pk.load_weights(\n",
    "    os.path.join(\n",
    "        weights_path, \"norm_high_u_psi_\" + str(n_psi_train) + \"_model_pk_fhn_Nx_\" + str(Nx) + \".h5\"\n",
    "    )\n",
    ")"
   ]
  },
  {
   "cell_type": "markdown",
   "metadata": {},
   "source": [
    "# Prediction"
   ]
  },
  {
   "cell_type": "code",
   "execution_count": 25,
   "metadata": {},
   "outputs": [],
   "source": [
    "n_traj_test = 1\n",
    "traj_len_test = 500"
   ]
  },
  {
   "cell_type": "code",
   "execution_count": 26,
   "metadata": {},
   "outputs": [],
   "source": [
    "data_true_normalized, data_pred_pk_normalized, z_curr_ori = recover_prediction(\n",
    "    target=fhn_pde,\n",
    "    scaler=scaler_z,\n",
    "    solver=solver_pk,\n",
    "    n_traj=n_traj_test,\n",
    "    traj_len=traj_len_test,\n",
    "    seed_z=11,\n",
    "    seed_param=11,\n",
    ")"
   ]
  },
  {
   "cell_type": "code",
   "execution_count": 27,
   "metadata": {},
   "outputs": [
    {
     "data": {
      "text/plain": [
       "((499, 20), (499, 20), (499, 20))"
      ]
     },
     "execution_count": 27,
     "metadata": {},
     "output_type": "execute_result"
    }
   ],
   "source": [
    "data_true_normalized.shape, data_pred_pk_normalized.shape, z_curr_ori.shape"
   ]
  },
  {
   "cell_type": "code",
   "execution_count": 28,
   "metadata": {},
   "outputs": [],
   "source": [
    "x_axis = x\n",
    "y_axis = np.arange(0, data_true_normalized.shape[0], 1)"
   ]
  },
  {
   "cell_type": "code",
   "execution_count": 29,
   "metadata": {},
   "outputs": [],
   "source": [
    "ratio_pk_normalized = compute_diff_ratio_one_traj(data_true_normalized, data_pred_pk_normalized)"
   ]
  },
  {
   "cell_type": "code",
   "execution_count": 30,
   "metadata": {},
   "outputs": [],
   "source": [
    "data_pred_pk_recover = scaler_z.inverse_transform(data_pred_pk_normalized)"
   ]
  },
  {
   "cell_type": "code",
   "execution_count": 31,
   "metadata": {},
   "outputs": [],
   "source": [
    "ratio_pk_recover = compute_diff_ratio_one_traj(z_curr_ori, data_pred_pk_recover)"
   ]
  },
  {
   "cell_type": "code",
   "execution_count": 32,
   "metadata": {},
   "outputs": [
    {
     "data": {
      "text/plain": [
       "(499, 20)"
      ]
     },
     "execution_count": 32,
     "metadata": {},
     "output_type": "execute_result"
    }
   ],
   "source": [
    "data_pred_pk_normalized.shape"
   ]
  },
  {
   "cell_type": "markdown",
   "metadata": {},
   "source": [
    "# RBF + Poly K (1, $u, u^2, u^3$)"
   ]
  },
  {
   "cell_type": "code",
   "execution_count": 33,
   "metadata": {},
   "outputs": [],
   "source": [
    "from koopmanlib.dictionary import DicGaussianRBF\n",
    "\n",
    "dic_rbf_fhn = DicGaussianRBF(rbf_number=n_psi_train, s=5)\n",
    "\n",
    "dic_rbf_fhn.build(z_curr_normalized)\n",
    "\n",
    "from koopmanlib.param_solver import KoopmanActuatedDLSolver\n",
    "\n",
    "solver_rbf = KoopmanActuatedDLSolver(\n",
    "    dic=dic_rbf_fhn,\n",
    "    target_dim=target_dim,\n",
    "    param_dim=param_dim,\n",
    "    n_psi=n_psi,\n",
    "    basis_u_func=fhn_pde.basis_u_func,\n",
    ")\n",
    "\n",
    "model_rbf = solver_rbf.build_model()\n",
    "\n",
    "model_rbf_opt = solver_rbf.opt_rbf_model(\n",
    "    data_x=z_curr_normalized, data_u=data_u, data_y=z_next_normalized\n",
    ")"
   ]
  },
  {
   "cell_type": "code",
   "execution_count": 34,
   "metadata": {},
   "outputs": [],
   "source": [
    "data_true_normalized, data_pred_rbf_normalized, z_curr_ori = recover_prediction(\n",
    "    target=fhn_pde,\n",
    "    scaler=scaler_z,\n",
    "    solver=solver_rbf,\n",
    "    n_traj=n_traj_test,\n",
    "    traj_len=traj_len_test,\n",
    "    seed_z=11,\n",
    "    seed_param=11,\n",
    ")"
   ]
  },
  {
   "cell_type": "code",
   "execution_count": 36,
   "metadata": {},
   "outputs": [],
   "source": [
    "# Normalized space\n",
    "x_axis = np.arange(0, Nx, 1)\n",
    "y_axis = np.arange(0, traj_len_test - 1, 1)"
   ]
  },
  {
   "cell_type": "code",
   "execution_count": 37,
   "metadata": {},
   "outputs": [],
   "source": [
    "ratio_rbf_normalized = compute_diff_ratio_one_traj(data_true_normalized, data_pred_rbf_normalized)"
   ]
  },
  {
   "cell_type": "code",
   "execution_count": 38,
   "metadata": {},
   "outputs": [],
   "source": [
    "# Original space\n",
    "data_pred_rbf_recover = scaler_z.inverse_transform(data_pred_rbf_normalized)"
   ]
  },
  {
   "cell_type": "code",
   "execution_count": 39,
   "metadata": {},
   "outputs": [],
   "source": [
    "x_axis = np.arange(0, Nx, 1)\n",
    "y_axis = np.arange(0, traj_len_test - 1, 1)"
   ]
  },
  {
   "cell_type": "code",
   "execution_count": 40,
   "metadata": {},
   "outputs": [],
   "source": [
    "ratio_rbf_recover = compute_diff_ratio_one_traj(z_curr_ori, data_pred_rbf_recover)"
   ]
  },
  {
   "cell_type": "markdown",
   "metadata": {},
   "source": [
    "# DL + Polynomial K (1, $u, u^2, u^3$)"
   ]
  },
  {
   "cell_type": "code",
   "execution_count": 41,
   "metadata": {},
   "outputs": [],
   "source": [
    "dic_dl_polyK = PsiNN(layer_sizes=dict_layer_size, n_psi_train=n_psi_train)\n",
    "\n",
    "solver_dl_polyK = KoopmanActuatedDLSolver(\n",
    "    dic=dic_dl_polyK,\n",
    "    target_dim=target_dim,\n",
    "    param_dim=param_dim,\n",
    "    n_psi=n_psi,\n",
    "    basis_u_func=fhn_pde.basis_u_func,\n",
    ")\n",
    "\n",
    "model_dl_polyK = solver_dl_polyK.build_model()"
   ]
  },
  {
   "cell_type": "code",
   "execution_count": 42,
   "metadata": {},
   "outputs": [],
   "source": [
    "solver_dl_polyK.model.load_weights(\n",
    "    os.path.join(\n",
    "        weights_path,\n",
    "        \"norm_high_u_psi_\" + str(n_psi_train) + \"_model_dl_polyK_fhn_Nx_\" + str(Nx) + \".h5\",\n",
    "    )\n",
    ")"
   ]
  },
  {
   "cell_type": "code",
   "execution_count": 43,
   "metadata": {},
   "outputs": [],
   "source": [
    "data_true_normalized, data_pred_dl_polyK_normalized, z_curr_ori = recover_prediction(\n",
    "    target=fhn_pde,\n",
    "    scaler=scaler_z,\n",
    "    solver=solver_dl_polyK,\n",
    "    n_traj=n_traj_test,\n",
    "    traj_len=traj_len_test,\n",
    "    seed_z=11,\n",
    "    seed_param=11,\n",
    ")"
   ]
  },
  {
   "cell_type": "code",
   "execution_count": 44,
   "metadata": {},
   "outputs": [],
   "source": [
    "ratio_dl_polyK_normalized = compute_diff_ratio_one_traj(\n",
    "    data_true_normalized, data_pred_dl_polyK_normalized\n",
    ")"
   ]
  },
  {
   "cell_type": "code",
   "execution_count": 45,
   "metadata": {},
   "outputs": [],
   "source": [
    "# Original space\n",
    "data_pred_dl_polyK_recover = scaler_z.inverse_transform(data_pred_dl_polyK_normalized)"
   ]
  },
  {
   "cell_type": "code",
   "execution_count": 46,
   "metadata": {},
   "outputs": [],
   "source": [
    "ratio_dl_polyK_recover = compute_diff_ratio_one_traj(z_curr_ori, data_pred_dl_polyK_recover)"
   ]
  },
  {
   "cell_type": "markdown",
   "metadata": {},
   "source": [
    "# Average Prediction"
   ]
  },
  {
   "cell_type": "code",
   "execution_count": 47,
   "metadata": {},
   "outputs": [],
   "source": [
    "np.random.seed(625)\n",
    "n_test = 5\n",
    "seed_z_list = np.random.randint(1, 300, size=(n_test,))\n",
    "seed_param_list = np.random.randint(1, 300, size=(n_test,))\n",
    "\n",
    "n_traj_test = 1\n",
    "\n",
    "x_axis = x\n",
    "y_axis = np.arange(0, traj_len_test - 1, 1)"
   ]
  },
  {
   "cell_type": "code",
   "execution_count": 48,
   "metadata": {},
   "outputs": [],
   "source": [
    "ratio_pk_list = []\n",
    "ratio_rbf_list = []\n",
    "ratio_dl_polyK_list = []\n",
    "\n",
    "for seed_z, seed_param in zip(seed_z_list, seed_param_list):\n",
    "\n",
    "    data_true_normalized, data_pred_pk_normalized, z_curr_ori = recover_prediction(\n",
    "        target=fhn_pde,\n",
    "        scaler=scaler_z,\n",
    "        solver=solver_pk,\n",
    "        n_traj=n_traj_test,\n",
    "        traj_len=traj_len_test,\n",
    "        seed_z=seed_z,\n",
    "        seed_param=seed_param,\n",
    "    )\n",
    "\n",
    "    data_true_normalized, data_pred_rbf_normalized, z_curr_ori = recover_prediction(\n",
    "        target=fhn_pde,\n",
    "        scaler=scaler_z,\n",
    "        solver=solver_rbf,\n",
    "        n_traj=n_traj_test,\n",
    "        traj_len=traj_len_test,\n",
    "        seed_z=seed_z,\n",
    "        seed_param=seed_param,\n",
    "    )\n",
    "\n",
    "    data_true_normalized, data_pred_dl_polyK_normalized, z_curr_ori = recover_prediction(\n",
    "        target=fhn_pde,\n",
    "        scaler=scaler_z,\n",
    "        solver=solver_dl_polyK,\n",
    "        n_traj=n_traj_test,\n",
    "        traj_len=traj_len_test,\n",
    "        seed_z=seed_z,\n",
    "        seed_param=seed_param,\n",
    "    )\n",
    "\n",
    "    data_pred_pk_recover = scaler_z.inverse_transform(data_pred_pk_normalized)\n",
    "    data_pred_rbf_recover = scaler_z.inverse_transform(data_pred_rbf_normalized)\n",
    "    data_pred_dl_polyK_recover = scaler_z.inverse_transform(data_pred_dl_polyK_normalized)\n",
    "\n",
    "    ratio_pk_recover = compute_diff_ratio_one_traj(z_curr_ori, data_pred_pk_recover)\n",
    "    ratio_rbf_recover = compute_diff_ratio_one_traj(z_curr_ori, data_pred_rbf_recover)\n",
    "    ratio_dl_polyK_recover = compute_diff_ratio_one_traj(z_curr_ori, data_pred_dl_polyK_recover)\n",
    "\n",
    "    ratio_pk_list.append(ratio_pk_recover)\n",
    "    ratio_rbf_list.append(ratio_rbf_recover)\n",
    "    ratio_dl_polyK_list.append(ratio_dl_polyK_recover)\n",
    "\n",
    "ratio_pk_list = np.asarray(ratio_pk_list)\n",
    "ratio_rbf_list = np.asarray(ratio_rbf_list)\n",
    "ratio_dl_polyK_list = np.asarray(ratio_dl_polyK_list)\n",
    "\n",
    "\n",
    "mean_pk, std_pk, mean_plus_pk, mean_minus_pk = compute_stat_info(ratio_pk_list)\n",
    "mean_rbf, std_rbf, mean_plus_rbf, mean_minus_rbf = compute_stat_info(ratio_rbf_list)\n",
    "mean_dl_polyK, std_dl_polyK, mean_plus_dl_polyK, mean_minus_dl_polyK = compute_stat_info(\n",
    "    ratio_dl_polyK_list\n",
    ")"
   ]
  },
  {
   "cell_type": "code",
   "execution_count": 49,
   "metadata": {},
   "outputs": [],
   "source": [
    "ratio_pk_list = np.asarray(ratio_pk_list)\n",
    "ratio_rbf_list = np.asarray(ratio_rbf_list)\n",
    "ratio_dl_polyK_list = np.asarray(ratio_dl_polyK_list)"
   ]
  },
  {
   "cell_type": "code",
   "execution_count": 50,
   "metadata": {},
   "outputs": [],
   "source": [
    "mean_pk, std_pk, mean_plus_pk, mean_minus_pk = compute_stat_info(ratio_pk_list)\n",
    "mean_rbf, std_rbf, mean_plus_rbf, mean_minus_rbf = compute_stat_info(ratio_rbf_list)\n",
    "mean_dl_actK, std_dl_actK, mean_plus_dl_actK, mean_minus_dl_actK = compute_stat_info(\n",
    "    ratio_dl_polyK_list\n",
    ")"
   ]
  },
  {
   "cell_type": "code",
   "execution_count": 51,
   "metadata": {},
   "outputs": [
    {
     "data": {
      "image/png": "[encoded data removed]",
      "text/plain": [
       "<Figure size 432x288 with 1 Axes>"
      ]
     },
     "metadata": {
      "needs_background": "light"
     },
     "output_type": "display_data"
    }
   ],
   "source": [
    "t_axis = np.arange(0, traj_len_test - 1, 1)\n",
    "\n",
    "plt.plot(mean_rbf, label=\"M4-RBF\", color=\"darkorange\", linewidth=3)\n",
    "plt.fill_between(t_axis, mean_minus_rbf, mean_plus_rbf, color=\"navajowhite\", alpha=0.5)\n",
    "\n",
    "plt.plot(mean_dl_polyK, label=\"M4-NN\", color=\"forestgreen\", linewidth=3)\n",
    "plt.fill_between(t_axis, mean_minus_dl_polyK, mean_plus_dl_polyK, color=\"darkseagreen\", alpha=0.5)\n",
    "\n",
    "\n",
    "plt.plot(mean_pk, label=\"PK-NN\", color=\"steelblue\", linewidth=3)\n",
    "plt.fill_between(t_axis, mean_minus_pk, mean_plus_pk, color=\"lightsteelblue\", alpha=0.5)\n",
    "\n",
    "plt.xticks(fontsize=18)\n",
    "plt.yticks(fontsize=18)\n",
    "\n",
    "plt.xlabel(r\"$n$\", fontsize=28)\n",
    "plt.ylabel(\"Error\", fontsize=28)\n",
    "plt.legend(fontsize=14)\n",
    "\n",
    "plt.savefig(os.path.join(figures_path, 'high_u_fhn_error_Nx10.png'), dpi=200, bbox_inches='tight')\n",
    "plt.savefig(os.path.join(figures_path, 'high_u_fhn_error_Nx10.pdf'), dpi=200, bbox_inches='tight')\n"
   ]
  },
  {
   "cell_type": "code",
   "execution_count": 52,
   "metadata": {},
   "outputs": [],
   "source": [
    "dict_error = {\"pk\": ratio_pk_list, \"rbf\": ratio_rbf_list, \"dl\": ratio_dl_polyK_list}"
   ]
  },
  {
   "cell_type": "code",
   "execution_count": 53,
   "metadata": {},
   "outputs": [],
   "source": [
    "np.save(os.path.join('high_u_error_dict.npy'), dict_error)"
   ]
  },
  {
   "cell_type": "code",
   "execution_count": 54,
   "metadata": {},
   "outputs": [
    {
     "name": "stderr",
     "output_type": "stream",
     "text": [
      "/home/guoyue/Learning-Parametric-Koopman-Decompositions/src/koopmanlib/functions.py:57: UserWarning: This figure includes Axes that are not compatible with tight_layout, so results might be incorrect.\n",
      "  plt.tight_layout()\n"
     ]
    },
    {
     "data": {
      "image/png": "[encoded data removed]",
      "text/plain": [
       "<Figure size 1728x576 with 10 Axes>"
      ]
     },
     "metadata": {
      "needs_background": "light"
     },
     "output_type": "display_data"
    }
   ],
   "source": [
    "data_list = [z_curr_ori, data_pred_pk_recover, data_pred_rbf_recover, data_pred_dl_polyK_recover]\n",
    "data_label_list = ['True', 'Ours','M4-RBF', 'M4-NN' ]\n",
    "plot_pde_comparison(x_axis,\n",
    "                    y_axis,\n",
    "                    data_list,\n",
    "                    data_label_list, \n",
    "                    Nx, \n",
    "                    figsize=(24,8),\n",
    "                    cbar_ax = ([1.01, 0.60, 0.01, 0.35], [1.01, 0.10, 0.01, 0.35]))\n",
    "plt.savefig(os.path.join(figures_path, 'traj_high_u_fhn_error_Nx10.png'), dpi=200, bbox_inches='tight')\n",
    "plt.savefig(os.path.join(figures_path, 'traj_high_u__fhn_error_Nx10.pdf'), dpi=200, bbox_inches='tight')\n"
   ]
  },
  {
   "cell_type": "code",
   "execution_count": 55,
   "metadata": {},
   "outputs": [
    {
     "name": "stderr",
     "output_type": "stream",
     "text": [
      "/home/guoyue/Learning-Parametric-Koopman-Decompositions/src/koopmanlib/functions.py:57: UserWarning: This figure includes Axes that are not compatible with tight_layout, so results might be incorrect.\n",
      "  plt.tight_layout()\n"
     ]
    },
    {
     "data": {
      "image/png": "[encoded data removed]",
      "text/plain": [
       "<Figure size 1152x576 with 8 Axes>"
      ]
     },
     "metadata": {
      "needs_background": "light"
     },
     "output_type": "display_data"
    }
   ],
   "source": [
    "data_diff_list = [data_list[1]-data_list[0], data_list[2]-data_list[0], data_list[3]-data_list[0]]\n",
    "data_diff_label_list = data_label_list[1:]\n",
    "\n",
    "plot_pde_comparison(x_axis,\n",
    "                    y_axis,\n",
    "                    data_diff_list, \n",
    "                    data_diff_label_list, \n",
    "                    Nx,\n",
    "                    figsize=(16,8),\n",
    "                    cbar_ax = ([1.01, 0.60, 0.01, 0.35], [1.01, 0.10, 0.01, 0.35]))\n",
    "\n",
    "plt.savefig(os.path.join(figures_path, 'diff_traj_fhn_error_Nx10.png'), dpi=200, bbox_inches='tight')\n",
    "plt.savefig(os.path.join(figures_path, 'diff_traj_fhn_error_Nx10.pdf'), dpi=200, bbox_inches='tight')\n"
   ]
  },
  {
   "cell_type": "code",
   "execution_count": null,
   "metadata": {},
   "outputs": [],
   "source": []
  },
  {
   "cell_type": "code",
   "execution_count": null,
   "metadata": {},
   "outputs": [],
   "source": []
  },
  {
   "cell_type": "code",
   "execution_count": null,
   "metadata": {},
   "outputs": [],
   "source": []
  }
 ],
 "metadata": {
  "kernelspec": {
   "display_name": "koopman",
   "language": "python",
   "name": "python3"
  },
  "language_info": {
   "codemirror_mode": {
    "name": "ipython",
    "version": 3
   },
   "file_extension": ".py",
   "mimetype": "text/x-python",
   "name": "python",
   "nbconvert_exporter": "python",
   "pygments_lexer": "ipython3",
   "version": "3.8.8"
  }
 },
 "nbformat": 4,
 "nbformat_minor": 2
}
