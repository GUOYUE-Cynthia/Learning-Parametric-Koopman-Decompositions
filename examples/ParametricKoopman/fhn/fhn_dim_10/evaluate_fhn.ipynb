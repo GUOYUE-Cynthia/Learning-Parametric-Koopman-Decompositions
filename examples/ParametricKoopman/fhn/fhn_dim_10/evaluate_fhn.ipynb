{
 "cells": [
  {
   "cell_type": "code",
   "execution_count": 1,
   "metadata": {},
   "outputs": [],
   "source": [
    "import os\n",
    "\n",
    "os.environ[\"CUDA_VISIBLE_DEVICES\"] = \"-1\""
   ]
  },
  {
   "cell_type": "code",
   "execution_count": 2,
   "metadata": {},
   "outputs": [],
   "source": [
    "%load_ext autoreload\n",
    "%autoreload 2"
   ]
  },
  {
   "cell_type": "code",
   "execution_count": 3,
   "metadata": {},
   "outputs": [
    {
     "name": "stderr",
     "output_type": "stream",
     "text": [
      "2024-07-29 18:24:26.142366: I tensorflow/core/platform/cpu_feature_guard.cc:193] This TensorFlow binary is optimized with oneAPI Deep Neural Network Library (oneDNN) to use the following CPU instructions in performance-critical operations:  AVX2 AVX512F AVX512_VNNI FMA\n",
      "To enable them in other operations, rebuild TensorFlow with the appropriate compiler flags.\n",
      "2024-07-29 18:24:26.262110: I tensorflow/core/util/port.cc:104] oneDNN custom operations are on. You may see slightly different numerical results due to floating-point round-off errors from different computation orders. To turn them off, set the environment variable `TF_ENABLE_ONEDNN_OPTS=0`.\n",
      "2024-07-29 18:24:26.983046: W tensorflow/compiler/xla/stream_executor/platform/default/dso_loader.cc:64] Could not load dynamic library 'libnvinfer.so.7'; dlerror: libnvrtc.so.10.2: cannot open shared object file: No such file or directory; LD_LIBRARY_PATH: /usr/local/cuda-11.1/lib64:\n",
      "2024-07-29 18:24:26.983237: W tensorflow/compiler/xla/stream_executor/platform/default/dso_loader.cc:64] Could not load dynamic library 'libnvinfer_plugin.so.7'; dlerror: libnvrtc.so.10.2: cannot open shared object file: No such file or directory; LD_LIBRARY_PATH: /usr/local/cuda-11.1/lib64:\n",
      "2024-07-29 18:24:26.983245: W tensorflow/compiler/tf2tensorrt/utils/py_utils.cc:38] TF-TRT Warning: Cannot dlopen some TensorRT libraries. If you would like to use Nvidia GPU with TensorRT, please make sure the missing libraries mentioned above are installed properly.\n"
     ]
    }
   ],
   "source": [
    "import matplotlib.pyplot as plt\n",
    "import numpy as np\n",
    "import seaborn as sns\n",
    "import tensorflow as tf"
   ]
  },
  {
   "cell_type": "code",
   "execution_count": 4,
   "metadata": {},
   "outputs": [],
   "source": [
    "from koopmanlib.functions import *"
   ]
  },
  {
   "cell_type": "code",
   "execution_count": 5,
   "metadata": {},
   "outputs": [],
   "source": [
    "import json\n",
    "import sys"
   ]
  },
  {
   "cell_type": "markdown",
   "metadata": {},
   "source": [
    "# Generate data"
   ]
  },
  {
   "cell_type": "code",
   "execution_count": 6,
   "metadata": {},
   "outputs": [],
   "source": [
    "config_file = \"config_fhn.json\""
   ]
  },
  {
   "cell_type": "code",
   "execution_count": 7,
   "metadata": {},
   "outputs": [],
   "source": [
    "with open(config_file, \"r\") as f:\n",
    "    config = json.load(f)[\"fhn_settings\"]"
   ]
  },
  {
   "cell_type": "code",
   "execution_count": 8,
   "metadata": {},
   "outputs": [],
   "source": [
    "data_path = config[\"data_settings\"][\"data_path\"]\n",
    "weights_path = config[\"nn_settings\"][\"weights_path\"]\n",
    "figures_path = config[\"data_settings\"][\"figures_path\"]"
   ]
  },
  {
   "cell_type": "code",
   "execution_count": 9,
   "metadata": {},
   "outputs": [],
   "source": [
    "Nx = config[\"data_settings\"][\"Nx\"]\n",
    "n_traj = config[\"data_settings\"][\"n_traj\"]\n",
    "traj_len = config[\"data_settings\"][\"traj_len\"]"
   ]
  },
  {
   "cell_type": "code",
   "execution_count": 10,
   "metadata": {},
   "outputs": [],
   "source": [
    "n_psi_train = config[\"nn_settings\"][\"n_psi_train\"]\n",
    "target_dim = Nx * 2\n",
    "param_dim = 1\n",
    "n_psi = 1 + target_dim + n_psi_train\n",
    "dict_layer_size = config[\"nn_settings\"][\"dict_layer_size\"]\n",
    "K_layer_size = config[\"nn_settings\"][\"K_layer_size\"]"
   ]
  },
  {
   "cell_type": "code",
   "execution_count": 11,
   "metadata": {},
   "outputs": [],
   "source": [
    "x = np.linspace(-10, 10, Nx)\n",
    "t = np.arange(0, traj_len, 1)"
   ]
  },
  {
   "cell_type": "code",
   "execution_count": 12,
   "metadata": {},
   "outputs": [],
   "source": [
    "from koopmanlib.target import FitzHughNagumoTarget"
   ]
  },
  {
   "cell_type": "code",
   "execution_count": 13,
   "metadata": {},
   "outputs": [],
   "source": [
    "fhn_pde = FitzHughNagumoTarget(\n",
    "    x=x, dt=1e-5, t_step=1e-3, dim=target_dim, param_dim=param_dim, param_input=1e3\n",
    ")"
   ]
  },
  {
   "cell_type": "code",
   "execution_count": 14,
   "metadata": {},
   "outputs": [],
   "source": [
    "data_dict = np.load(os.path.join(data_path, \"data_fhn_Nx_\" + str(Nx) + \".npy\"), allow_pickle=True)"
   ]
  },
  {
   "cell_type": "code",
   "execution_count": 15,
   "metadata": {},
   "outputs": [],
   "source": [
    "data_z_curr = data_dict[()][\"data_z_curr\"]\n",
    "data_u = data_dict[()][\"data_u\"]\n",
    "data_z_next = data_dict[()][\"data_z_next\"]"
   ]
  },
  {
   "cell_type": "code",
   "execution_count": 16,
   "metadata": {},
   "outputs": [
    {
     "data": {
      "text/plain": [
       "(49900, 20)"
      ]
     },
     "execution_count": 16,
     "metadata": {},
     "output_type": "execute_result"
    }
   ],
   "source": [
    "data_z_curr.shape"
   ]
  },
  {
   "cell_type": "code",
   "execution_count": 17,
   "metadata": {},
   "outputs": [],
   "source": [
    "data_z_curr_reshape = data_z_curr.reshape(-1, n_traj, target_dim)\n",
    "data_z_curr_reshape_trans = np.transpose(data_z_curr_reshape, (1, 0, 2))\n",
    "sample_idx = 1"
   ]
  },
  {
   "cell_type": "code",
   "execution_count": 18,
   "metadata": {},
   "outputs": [],
   "source": [
    "from sklearn.preprocessing import StandardScaler\n",
    "\n",
    "scaler_z = StandardScaler()\n",
    "scaler_z.fit(data_z_curr)\n",
    "\n",
    "z_curr_normalized = scaler_z.transform(data_z_curr)\n",
    "z_next_normalized = scaler_z.transform(data_z_next)\n",
    "\n",
    "# After the prediction, we use inverse_transform to recover data.\n",
    "\n",
    "# z_curr_recover = scaler_z.inverse_transform(z_curr_normalized)"
   ]
  },
  {
   "cell_type": "markdown",
   "metadata": {},
   "source": [
    "# Build model"
   ]
  },
  {
   "cell_type": "code",
   "execution_count": 19,
   "metadata": {},
   "outputs": [],
   "source": [
    "from koopmanlib.dictionary import PsiNN\n",
    "from koopmanlib.param_solver import KoopmanParametricDLSolver"
   ]
  },
  {
   "cell_type": "code",
   "execution_count": 20,
   "metadata": {},
   "outputs": [],
   "source": [
    "from tensorflow.keras.optimizers import Adam"
   ]
  },
  {
   "cell_type": "code",
   "execution_count": 21,
   "metadata": {},
   "outputs": [],
   "source": [
    "dic_pk = PsiNN(layer_sizes=dict_layer_size, n_psi_train=n_psi_train)"
   ]
  },
  {
   "cell_type": "code",
   "execution_count": 22,
   "metadata": {},
   "outputs": [
    {
     "name": "stderr",
     "output_type": "stream",
     "text": [
      "2024-07-29 18:24:32.825939: E tensorflow/compiler/xla/stream_executor/cuda/cuda_driver.cc:267] failed call to cuInit: CUDA_ERROR_NO_DEVICE: no CUDA-capable device is detected\n",
      "2024-07-29 18:24:32.825992: I tensorflow/compiler/xla/stream_executor/cuda/cuda_diagnostics.cc:169] retrieving CUDA diagnostic information for host: neon\n",
      "2024-07-29 18:24:32.825998: I tensorflow/compiler/xla/stream_executor/cuda/cuda_diagnostics.cc:176] hostname: neon\n",
      "2024-07-29 18:24:32.826150: I tensorflow/compiler/xla/stream_executor/cuda/cuda_diagnostics.cc:200] libcuda reported version is: 535.171.4\n",
      "2024-07-29 18:24:32.826169: I tensorflow/compiler/xla/stream_executor/cuda/cuda_diagnostics.cc:204] kernel reported version is: 535.171.4\n",
      "2024-07-29 18:24:32.826174: I tensorflow/compiler/xla/stream_executor/cuda/cuda_diagnostics.cc:310] kernel version seems to match DSO: 535.171.4\n",
      "2024-07-29 18:24:32.826505: I tensorflow/core/platform/cpu_feature_guard.cc:193] This TensorFlow binary is optimized with oneAPI Deep Neural Network Library (oneDNN) to use the following CPU instructions in performance-critical operations:  AVX2 AVX512F AVX512_VNNI FMA\n",
      "To enable them in other operations, rebuild TensorFlow with the appropriate compiler flags.\n"
     ]
    }
   ],
   "source": [
    "from koopmanlib.K_structure import Model_K_u_Layer_One, Model_ResNet_K_u_Layer_One\n",
    "\n",
    "model_K_u = Model_K_u_Layer_One(layer_sizes=K_layer_size, n_psi=n_psi)\n",
    "\n",
    "solver_pk = KoopmanParametricDLSolver(\n",
    "    target_dim=target_dim, param_dim=param_dim, n_psi=n_psi, dic=dic_pk, model_K_u=model_K_u\n",
    ")\n",
    "\n",
    "model_pk, model_K_u_pred_pk = solver_pk.generate_model()"
   ]
  },
  {
   "cell_type": "code",
   "execution_count": 23,
   "metadata": {},
   "outputs": [],
   "source": [
    "model_pk.load_weights(\n",
    "    os.path.join(\n",
    "        weights_path, \"norm_psi_\" + str(n_psi_train) + \"_model_pk_fhn_Nx_\" + str(Nx) + \".h5\"\n",
    "    )\n",
    ")"
   ]
  },
  {
   "cell_type": "markdown",
   "metadata": {},
   "source": [
    "# Prediction"
   ]
  },
  {
   "cell_type": "code",
   "execution_count": 24,
   "metadata": {},
   "outputs": [],
   "source": [
    "n_traj_test = 1\n",
    "traj_len_test = 500"
   ]
  },
  {
   "cell_type": "code",
   "execution_count": 25,
   "metadata": {},
   "outputs": [],
   "source": [
    "seed_z = 11\n",
    "seed_param = 11"
   ]
  },
  {
   "cell_type": "code",
   "execution_count": 26,
   "metadata": {},
   "outputs": [],
   "source": [
    "data_true_normalized, data_pred_pk_normalized, z_curr_ori = recover_prediction(\n",
    "    target=fhn_pde,\n",
    "    scaler=scaler_z,\n",
    "    solver=solver_pk,\n",
    "    n_traj=n_traj_test,\n",
    "    traj_len=traj_len_test,\n",
    "    seed_z=seed_z,\n",
    "    seed_param=seed_param\n",
    ")"
   ]
  },
  {
   "cell_type": "code",
   "execution_count": 27,
   "metadata": {},
   "outputs": [
    {
     "data": {
      "text/plain": [
       "((499, 20), (499, 20), (499, 20))"
      ]
     },
     "execution_count": 27,
     "metadata": {},
     "output_type": "execute_result"
    }
   ],
   "source": [
    "data_true_normalized.shape, data_pred_pk_normalized.shape, z_curr_ori.shape"
   ]
  },
  {
   "cell_type": "code",
   "execution_count": 28,
   "metadata": {},
   "outputs": [],
   "source": [
    "x_axis = x\n",
    "y_axis = np.arange(0, data_true_normalized.shape[0], 1)"
   ]
  },
  {
   "cell_type": "code",
   "execution_count": 29,
   "metadata": {},
   "outputs": [],
   "source": [
    "ratio_pk_normalized = compute_diff_ratio_one_traj(data_true_normalized, data_pred_pk_normalized)"
   ]
  },
  {
   "cell_type": "code",
   "execution_count": 30,
   "metadata": {},
   "outputs": [],
   "source": [
    "data_pred_pk_recover = scaler_z.inverse_transform(data_pred_pk_normalized)"
   ]
  },
  {
   "cell_type": "code",
   "execution_count": 31,
   "metadata": {},
   "outputs": [],
   "source": [
    "ratio_pk_recover = compute_diff_ratio_one_traj(z_curr_ori, data_pred_pk_recover)"
   ]
  },
  {
   "cell_type": "code",
   "execution_count": 32,
   "metadata": {},
   "outputs": [
    {
     "data": {
      "text/plain": [
       "(499, 20)"
      ]
     },
     "execution_count": 32,
     "metadata": {},
     "output_type": "execute_result"
    }
   ],
   "source": [
    "data_pred_pk_normalized.shape"
   ]
  },
  {
   "cell_type": "markdown",
   "metadata": {},
   "source": [
    "# RBF + Ploynomial K (1, $u, u^2, u^3$)"
   ]
  },
  {
   "cell_type": "code",
   "execution_count": 33,
   "metadata": {},
   "outputs": [],
   "source": [
    "from koopmanlib.dictionary import DicGaussianRBF\n",
    "\n",
    "dic_rbf_fhn = DicGaussianRBF(rbf_number=n_psi_train, s=1 / 20)\n",
    "\n",
    "dic_rbf_fhn.build(z_curr_normalized)\n",
    "\n",
    "from koopmanlib.param_solver import KoopmanActuatedDLSolver\n",
    "\n",
    "solver_rbf = KoopmanActuatedDLSolver(\n",
    "    dic=dic_rbf_fhn,\n",
    "    target_dim=target_dim,\n",
    "    param_dim=param_dim,\n",
    "    n_psi=n_psi,\n",
    "    basis_u_func=fhn_pde.basis_u_func,\n",
    ")\n",
    "\n",
    "model_rbf = solver_rbf.build_model()\n",
    "\n",
    "model_rbf_opt = solver_rbf.opt_rbf_model(\n",
    "    data_x=z_curr_normalized, data_u=data_u, data_y=z_next_normalized\n",
    ")"
   ]
  },
  {
   "cell_type": "code",
   "execution_count": 34,
   "metadata": {},
   "outputs": [],
   "source": [
    "data_true_normalized, data_pred_rbf_normalized, z_curr_ori = recover_prediction(\n",
    "    target=fhn_pde,\n",
    "    scaler=scaler_z,\n",
    "    solver=solver_rbf,\n",
    "    n_traj=n_traj_test,\n",
    "    traj_len=traj_len_test,\n",
    "    seed_z=seed_z,\n",
    "    seed_param=seed_param\n",
    ")"
   ]
  },
  {
   "cell_type": "code",
   "execution_count": 35,
   "metadata": {},
   "outputs": [],
   "source": [
    "ratio_rbf_normalized = compute_diff_ratio_one_traj(data_true_normalized, data_pred_rbf_normalized)"
   ]
  },
  {
   "cell_type": "code",
   "execution_count": 36,
   "metadata": {},
   "outputs": [],
   "source": [
    "# Original space\n",
    "data_pred_rbf_recover = scaler_z.inverse_transform(data_pred_rbf_normalized)"
   ]
  },
  {
   "cell_type": "code",
   "execution_count": 37,
   "metadata": {},
   "outputs": [
    {
     "data": {
      "text/plain": [
       "(499, 20)"
      ]
     },
     "execution_count": 37,
     "metadata": {},
     "output_type": "execute_result"
    }
   ],
   "source": [
    "data_pred_rbf_recover.shape"
   ]
  },
  {
   "cell_type": "code",
   "execution_count": 38,
   "metadata": {},
   "outputs": [],
   "source": [
    "ratio_rbf_recover = compute_diff_ratio_one_traj(z_curr_ori, data_pred_rbf_recover)"
   ]
  },
  {
   "cell_type": "markdown",
   "metadata": {},
   "source": [
    "# DL + Polynomial K (1, $u, u^2, u^3$)"
   ]
  },
  {
   "cell_type": "code",
   "execution_count": 39,
   "metadata": {},
   "outputs": [],
   "source": [
    "dic_dl_polyK = PsiNN(layer_sizes=dict_layer_size, n_psi_train=n_psi_train)\n",
    "\n",
    "solver_dl_polyK = KoopmanActuatedDLSolver(\n",
    "    dic=dic_dl_polyK,\n",
    "    target_dim=target_dim,\n",
    "    param_dim=param_dim,\n",
    "    n_psi=n_psi,\n",
    "    basis_u_func=fhn_pde.basis_u_func,\n",
    ")\n",
    "\n",
    "model_dl_polyK = solver_dl_polyK.build_model()"
   ]
  },
  {
   "cell_type": "code",
   "execution_count": 40,
   "metadata": {},
   "outputs": [],
   "source": [
    "solver_dl_polyK.model.load_weights(\n",
    "    os.path.join(\n",
    "        weights_path, \"norm_psi_\" + str(n_psi_train) + \"_model_dl_polyK_fhn_Nx_\" + str(Nx) + \".h5\"\n",
    "    )\n",
    ")"
   ]
  },
  {
   "cell_type": "code",
   "execution_count": 41,
   "metadata": {},
   "outputs": [],
   "source": [
    "data_true_normalized, data_pred_dl_polyK_normalized, z_curr_ori = recover_prediction(\n",
    "    target=fhn_pde,\n",
    "    scaler=scaler_z,\n",
    "    solver=solver_dl_polyK,\n",
    "    n_traj=n_traj_test,\n",
    "    traj_len=traj_len_test,\n",
    "    seed_z=seed_z,\n",
    "    seed_param=seed_param\n",
    ")"
   ]
  },
  {
   "cell_type": "code",
   "execution_count": 42,
   "metadata": {},
   "outputs": [],
   "source": [
    "ratio_dl_polyK_normalized = compute_diff_ratio_one_traj(\n",
    "    data_true_normalized, data_pred_dl_polyK_normalized\n",
    ")"
   ]
  },
  {
   "cell_type": "code",
   "execution_count": 43,
   "metadata": {},
   "outputs": [],
   "source": [
    "# Original space\n",
    "data_pred_dl_polyK_recover = scaler_z.inverse_transform(data_pred_dl_polyK_normalized)"
   ]
  },
  {
   "cell_type": "code",
   "execution_count": 44,
   "metadata": {},
   "outputs": [],
   "source": [
    "ratio_dl_polyK_recover = compute_diff_ratio_one_traj(z_curr_ori, data_pred_dl_polyK_recover)"
   ]
  },
  {
   "cell_type": "markdown",
   "metadata": {},
   "source": [
    "# Average Prediction"
   ]
  },
  {
   "cell_type": "code",
   "execution_count": 45,
   "metadata": {},
   "outputs": [],
   "source": [
    "np.random.seed(111)\n",
    "n_test = 10\n",
    "seed_z_list = np.random.randint(1, 300, size=(n_test,))\n",
    "seed_param_list = np.random.randint(1, 300, size=(n_test,))\n",
    "\n",
    "n_traj_test = 1\n",
    "\n",
    "x_axis = x\n",
    "y_axis = np.arange(0, traj_len_test - 1, 1)"
   ]
  },
  {
   "cell_type": "code",
   "execution_count": 46,
   "metadata": {},
   "outputs": [],
   "source": [
    "ratio_pk_list = []\n",
    "ratio_rbf_list = []\n",
    "ratio_dl_polyK_list = []\n",
    "\n",
    "for seed_z, seed_param in zip(seed_z_list, seed_param_list):\n",
    "\n",
    "    data_true_normalized, data_pred_pk_normalized, z_curr_ori = recover_prediction(\n",
    "        target=fhn_pde,\n",
    "        scaler=scaler_z,\n",
    "        solver=solver_pk,\n",
    "        n_traj=n_traj_test,\n",
    "        traj_len=traj_len_test,\n",
    "        seed_z=seed_z,\n",
    "        seed_param=seed_param,\n",
    "    )\n",
    "\n",
    "    data_true_normalized, data_pred_rbf_normalized, z_curr_ori = recover_prediction(\n",
    "        target=fhn_pde,\n",
    "        scaler=scaler_z,\n",
    "        solver=solver_rbf,\n",
    "        n_traj=n_traj_test,\n",
    "        traj_len=traj_len_test,\n",
    "        seed_z=seed_z,\n",
    "        seed_param=seed_param,\n",
    "    )\n",
    "\n",
    "    data_true_normalized, data_pred_dl_polyK_normalized, z_curr_ori = recover_prediction(\n",
    "        target=fhn_pde,\n",
    "        scaler=scaler_z,\n",
    "        solver=solver_dl_polyK,\n",
    "        n_traj=n_traj_test,\n",
    "        traj_len=traj_len_test,\n",
    "        seed_z=seed_z,\n",
    "        seed_param=seed_param,\n",
    "    )\n",
    "\n",
    "    data_pred_pk_recover = scaler_z.inverse_transform(data_pred_pk_normalized)\n",
    "    data_pred_rbf_recover = scaler_z.inverse_transform(data_pred_rbf_normalized)\n",
    "    data_pred_dl_polyK_recover = scaler_z.inverse_transform(data_pred_dl_polyK_normalized)\n",
    "\n",
    "    ratio_pk_recover = compute_diff_ratio_one_traj(z_curr_ori, data_pred_pk_recover)\n",
    "    ratio_rbf_recover = compute_diff_ratio_one_traj(z_curr_ori, data_pred_rbf_recover)\n",
    "    ratio_dl_polyK_recover = compute_diff_ratio_one_traj(z_curr_ori, data_pred_dl_polyK_recover)\n",
    "\n",
    "    ratio_pk_list.append(ratio_pk_recover)\n",
    "    ratio_rbf_list.append(ratio_rbf_recover)\n",
    "    ratio_dl_polyK_list.append(ratio_dl_polyK_recover)\n",
    "\n",
    "ratio_pk_list = np.asarray(ratio_pk_list)\n",
    "ratio_rbf_list = np.asarray(ratio_rbf_list)\n",
    "ratio_dl_polyK_list = np.asarray(ratio_dl_polyK_list)\n",
    "\n",
    "\n",
    "mean_pk, std_pk, mean_plus_pk, mean_minus_pk = compute_stat_info(ratio_pk_list)\n",
    "mean_rbf, std_rbf, mean_plus_rbf, mean_minus_rbf = compute_stat_info(ratio_rbf_list)\n",
    "mean_dl_polyK, std_dl_polyK, mean_plus_dl_polyK, mean_minus_dl_polyK = compute_stat_info(\n",
    "    ratio_dl_polyK_list\n",
    ")"
   ]
  },
  {
   "cell_type": "code",
   "execution_count": 47,
   "metadata": {},
   "outputs": [
    {
     "data": {
      "image/png": "[encoded data removed]",
      "text/plain": [
       "<Figure size 432x288 with 1 Axes>"
      ]
     },
     "metadata": {
      "needs_background": "light"
     },
     "output_type": "display_data"
    }
   ],
   "source": [
    "label_font = 16\n",
    "ticks_font = 16\n",
    "legend_font = 16\n",
    "linewidth = 2\n",
    "\n",
    "t_axis = np.arange(0, traj_len_test - 1, 1)\n",
    "\n",
    "plt.plot(mean_rbf, label=\"M4-RBF\", color=\"darkorange\", linewidth=linewidth)\n",
    "plt.fill_between(t_axis, mean_minus_rbf, mean_plus_rbf, color=\"navajowhite\", alpha=0.5)\n",
    "\n",
    "plt.plot(mean_dl_polyK, label=\"M4-NN\", color=\"forestgreen\", linewidth=linewidth)\n",
    "plt.fill_between(t_axis, mean_minus_dl_polyK, mean_plus_dl_polyK, color=\"darkseagreen\", alpha=0.5)\n",
    "\n",
    "plt.plot(mean_pk, label=\"Ours\", color=\"steelblue\", linewidth=linewidth)\n",
    "plt.fill_between(t_axis, mean_minus_pk, mean_plus_pk, color=\"lightsteelblue\", alpha=0.5)\n",
    "\n",
    "plt.xticks(fontsize=18)\n",
    "plt.yticks(fontsize=18)\n",
    "\n",
    "plt.xlabel(r\"$n$\", fontsize=28)\n",
    "plt.ylabel(\"Error\", fontsize=28)\n",
    "\n",
    "# plt.yscale('log')\n",
    "# plt.legend(fontsize=14)\n",
    "plt.savefig(os.path.join(figures_path, 'fhn_error_Nx10.png'), dpi=200, bbox_inches='tight')\n",
    "plt.savefig(os.path.join(figures_path, 'fhn_error_Nx10.pdf'), dpi=200, bbox_inches='tight')\n"
   ]
  },
  {
   "cell_type": "code",
   "execution_count": 48,
   "metadata": {},
   "outputs": [],
   "source": [
    "dict_error = {\"pk\": ratio_pk_list, \"rbf\": ratio_rbf_list, \"dl\": ratio_dl_polyK_list}"
   ]
  },
  {
   "cell_type": "code",
   "execution_count": 49,
   "metadata": {},
   "outputs": [],
   "source": [
    "np.save(os.path.join(data_path, 'error_dict.npy'), dict_error)"
   ]
  },
  {
   "cell_type": "code",
   "execution_count": 50,
   "metadata": {},
   "outputs": [
    {
     "data": {
      "text/plain": [
       "(499, 20)"
      ]
     },
     "execution_count": 50,
     "metadata": {},
     "output_type": "execute_result"
    }
   ],
   "source": [
    "data_pred_pk_recover.shape\n",
    "# data_pred_rbf_recover\n",
    "# data_pred_dl_polyK_recover "
   ]
  },
  {
   "cell_type": "code",
   "execution_count": 51,
   "metadata": {},
   "outputs": [
    {
     "data": {
      "text/plain": [
       "array([-10.        ,  -7.77777778,  -5.55555556,  -3.33333333,\n",
       "        -1.11111111,   1.11111111,   3.33333333,   5.55555556,\n",
       "         7.77777778,  10.        ])"
      ]
     },
     "execution_count": 51,
     "metadata": {},
     "output_type": "execute_result"
    }
   ],
   "source": [
    "x_axis"
   ]
  },
  {
   "cell_type": "code",
   "execution_count": 52,
   "metadata": {},
   "outputs": [
    {
     "name": "stderr",
     "output_type": "stream",
     "text": [
      "/home/guoyue/Learning-Parametric-Koopman-Decompositions/src/koopmanlib/functions.py:67: UserWarning: This figure includes Axes that are not compatible with tight_layout, so results might be incorrect.\n",
      "  plt.tight_layout()\n"
     ]
    },
    {
     "data": {
      "image/png": "[encoded data removed]",
      "text/plain": [
       "<Figure size 1728x576 with 10 Axes>"
      ]
     },
     "metadata": {
      "needs_background": "light"
     },
     "output_type": "display_data"
    }
   ],
   "source": [
    "data_list = [z_curr_ori, data_pred_pk_recover, data_pred_rbf_recover, data_pred_dl_polyK_recover]\n",
    "data_label_list = ['True', 'Ours','M4-RBF', 'M4-NN' ]\n",
    "# with plt.rc_context({'xtick.labelsize': 20, 'ytick.labelsize': 20, 'axes.labelsize': 20}):\n",
    "plot_pde_comparison(x_axis,\n",
    "                    y_axis,\n",
    "                    data_list,\n",
    "                    data_label_list, \n",
    "                    Nx, \n",
    "                    figsize=(24,8),\n",
    "                    cbar_ax = ([1.01, 0.60, 0.01, 0.35], [1.01, 0.10, 0.01, 0.35]),\n",
    "                    fontsize=25)\n",
    "\n",
    "plt.savefig(os.path.join(figures_path, 'traj_fhn_error_Nx10.png'), dpi=200, bbox_inches='tight')\n",
    "plt.savefig(os.path.join(figures_path, 'traj_fhn_error_Nx10.pdf'), dpi=200, bbox_inches='tight')\n"
   ]
  },
  {
   "cell_type": "code",
   "execution_count": 53,
   "metadata": {},
   "outputs": [
    {
     "data": {
      "text/plain": [
       "array([[1.11022302e-16, 0.00000000e+00, 2.77555756e-17, ...,\n",
       "        0.00000000e+00, 0.00000000e+00, 1.08420217e-19],\n",
       "       [1.64652686e-04, 7.98388322e-05, 3.02258395e-04, ...,\n",
       "        1.15824170e-07, 2.30218443e-07, 1.99666958e-07],\n",
       "       [1.32431519e-05, 3.56369798e-05, 3.07247152e-04, ...,\n",
       "        6.89907563e-08, 1.47364004e-07, 1.79704133e-07],\n",
       "       ...,\n",
       "       [1.66951853e-02, 1.82834737e-02, 1.30373047e-01, ...,\n",
       "        7.18992267e-05, 4.16939022e-05, 5.26877577e-05],\n",
       "       [1.67948241e-02, 1.86901704e-02, 1.32364105e-01, ...,\n",
       "        7.83502502e-05, 4.03274753e-05, 5.00520287e-05],\n",
       "       [1.69473599e-02, 1.90528706e-02, 1.34792035e-01, ...,\n",
       "        8.43191317e-05, 3.98207485e-05, 4.85045735e-05]])"
      ]
     },
     "execution_count": 53,
     "metadata": {},
     "output_type": "execute_result"
    }
   ],
   "source": [
    "np.abs(data_list[1]-data_list[0])"
   ]
  },
  {
   "cell_type": "code",
   "execution_count": 54,
   "metadata": {},
   "outputs": [
    {
     "name": "stderr",
     "output_type": "stream",
     "text": [
      "/home/guoyue/Learning-Parametric-Koopman-Decompositions/src/koopmanlib/functions.py:67: UserWarning: This figure includes Axes that are not compatible with tight_layout, so results might be incorrect.\n",
      "  plt.tight_layout()\n"
     ]
    },
    {
     "data": {
      "image/png": "[encoded data removed]",
      "text/plain": [
       "<Figure size 1152x576 with 8 Axes>"
      ]
     },
     "metadata": {
      "needs_background": "light"
     },
     "output_type": "display_data"
    }
   ],
   "source": [
    "data_diff_list = [np.abs(data_list[1]-data_list[0]), np.abs(data_list[2]-data_list[0]), np.abs(data_list[3]-data_list[0])]\n",
    "data_diff_label_list = data_label_list[1:]\n",
    "\n",
    "plot_pde_comparison(x_axis,\n",
    "                    y_axis,\n",
    "                    data_diff_list, \n",
    "                    data_diff_label_list, \n",
    "                    Nx,\n",
    "                    figsize=(16,8),\n",
    "                    cbar_ax = ([1.01, 0.60, 0.01, 0.35], [1.01, 0.10, 0.01, 0.35]),\n",
    "                    fontsize=22)\n",
    "\n",
    "plt.savefig(os.path.join(figures_path, 'diff_traj_fhn_error_Nx10.png'), dpi=200, bbox_inches='tight')\n",
    "plt.savefig(os.path.join(figures_path, 'diff_traj_fhn_error_Nx10.pdf'), dpi=200, bbox_inches='tight')\n"
   ]
  },
  {
   "cell_type": "code",
   "execution_count": null,
   "metadata": {},
   "outputs": [],
   "source": []
  },
  {
   "cell_type": "code",
   "execution_count": null,
   "metadata": {},
   "outputs": [],
   "source": []
  },
  {
   "cell_type": "code",
   "execution_count": null,
   "metadata": {},
   "outputs": [],
   "source": []
  },
  {
   "cell_type": "code",
   "execution_count": null,
   "metadata": {},
   "outputs": [],
   "source": []
  },
  {
   "cell_type": "code",
   "execution_count": null,
   "metadata": {},
   "outputs": [],
   "source": []
  },
  {
   "cell_type": "markdown",
   "metadata": {},
   "source": [
    "# Test polynomial"
   ]
  },
  {
   "cell_type": "code",
   "execution_count": 55,
   "metadata": {},
   "outputs": [],
   "source": [
    "import tensorflow as tf\n",
    "import numpy as np\n",
    "import matplotlib.pyplot as plt\n",
    "\n",
    "# Generate Data\n",
    "x = data_u  # 400 data points between -2 and 2\n",
    "y = np.hstack([x, x**2, x**3])  # Corresponding [x, x^2, x^3] values\n",
    "\n",
    "\n",
    "# Define the Neural Network\n",
    "model = tf.keras.Sequential([\n",
    "    tf.keras.layers.Dense(4, activation='tanh', input_shape=(1,)),\n",
    "    tf.keras.layers.Dense(4, activation='tanh'),\n",
    "    tf.keras.layers.Dense(3)  # Output layer for [x, x^2, x^3]\n",
    "])\n",
    "\n",
    "# Compile the Model\n",
    "model.compile(optimizer='adam', loss='mse')\n",
    "\n"
   ]
  },
  {
   "cell_type": "code",
   "execution_count": 56,
   "metadata": {},
   "outputs": [
    {
     "name": "stdout",
     "output_type": "stream",
     "text": [
      "Epoch 1/100\n",
      "1560/1560 [==============================] - 2s 1ms/step - loss: 0.0577\n",
      "Epoch 2/100\n",
      "1560/1560 [==============================] - 2s 1ms/step - loss: 0.0075\n",
      "Epoch 3/100\n",
      "1560/1560 [==============================] - 2s 1ms/step - loss: 0.0013\n",
      "Epoch 4/100\n",
      "1560/1560 [==============================] - 2s 1ms/step - loss: 4.2751e-04\n",
      "Epoch 5/100\n",
      "1560/1560 [==============================] - 2s 1ms/step - loss: 2.1427e-04\n",
      "Epoch 6/100\n",
      "1560/1560 [==============================] - 2s 1ms/step - loss: 1.5152e-04\n",
      "Epoch 7/100\n",
      "1560/1560 [==============================] - 2s 1ms/step - loss: 1.1454e-04\n",
      "Epoch 8/100\n",
      "1560/1560 [==============================] - 2s 1ms/step - loss: 8.9477e-05\n",
      "Epoch 9/100\n",
      "1560/1560 [==============================] - 2s 1ms/step - loss: 7.1145e-05\n",
      "Epoch 10/100\n",
      "1560/1560 [==============================] - 2s 1ms/step - loss: 5.7175e-05\n",
      "Epoch 11/100\n",
      "1560/1560 [==============================] - 2s 1ms/step - loss: 4.5700e-05\n",
      "Epoch 12/100\n",
      "1560/1560 [==============================] - 2s 1ms/step - loss: 3.6506e-05\n",
      "Epoch 13/100\n",
      "1560/1560 [==============================] - 2s 1ms/step - loss: 2.9882e-05\n",
      "Epoch 14/100\n",
      "1560/1560 [==============================] - 2s 1ms/step - loss: 2.4668e-05\n",
      "Epoch 15/100\n",
      "1560/1560 [==============================] - 2s 1ms/step - loss: 2.0599e-05\n",
      "Epoch 16/100\n",
      "1560/1560 [==============================] - 2s 1ms/step - loss: 1.7923e-05\n",
      "Epoch 17/100\n",
      "1560/1560 [==============================] - 2s 1ms/step - loss: 1.4882e-05\n",
      "Epoch 18/100\n",
      "1560/1560 [==============================] - 2s 1ms/step - loss: 1.3497e-05\n",
      "Epoch 19/100\n",
      "1560/1560 [==============================] - 2s 1ms/step - loss: 1.1738e-05\n",
      "Epoch 20/100\n",
      "1560/1560 [==============================] - 2s 1ms/step - loss: 1.0828e-05\n",
      "Epoch 21/100\n",
      "1560/1560 [==============================] - 2s 1ms/step - loss: 9.8159e-06\n",
      "Epoch 22/100\n",
      "1560/1560 [==============================] - 2s 1ms/step - loss: 9.0328e-06\n",
      "Epoch 23/100\n",
      "1560/1560 [==============================] - 2s 1ms/step - loss: 8.4776e-06\n",
      "Epoch 24/100\n",
      "1560/1560 [==============================] - 2s 1ms/step - loss: 8.1635e-06\n",
      "Epoch 25/100\n",
      "1560/1560 [==============================] - 2s 1ms/step - loss: 7.5631e-06\n",
      "Epoch 26/100\n",
      "1560/1560 [==============================] - 2s 1ms/step - loss: 7.5409e-06\n",
      "Epoch 27/100\n",
      "1560/1560 [==============================] - 2s 1ms/step - loss: 7.1167e-06\n",
      "Epoch 28/100\n",
      "1560/1560 [==============================] - 2s 1ms/step - loss: 6.5897e-06\n",
      "Epoch 29/100\n",
      "1560/1560 [==============================] - 2s 1ms/step - loss: 6.5139e-06\n",
      "Epoch 30/100\n",
      "1560/1560 [==============================] - 2s 1ms/step - loss: 6.3291e-06\n",
      "Epoch 31/100\n",
      "1560/1560 [==============================] - 2s 1ms/step - loss: 5.9857e-06\n",
      "Epoch 32/100\n",
      "1560/1560 [==============================] - 2s 1ms/step - loss: 5.8071e-06\n",
      "Epoch 33/100\n",
      "1560/1560 [==============================] - 2s 1ms/step - loss: 5.8821e-06\n",
      "Epoch 34/100\n",
      "1560/1560 [==============================] - 2s 1ms/step - loss: 5.6326e-06\n",
      "Epoch 35/100\n",
      "1560/1560 [==============================] - 2s 1ms/step - loss: 5.5063e-06\n",
      "Epoch 36/100\n",
      "1560/1560 [==============================] - 2s 1ms/step - loss: 5.3446e-06\n",
      "Epoch 37/100\n",
      "1560/1560 [==============================] - 2s 1ms/step - loss: 5.2215e-06\n",
      "Epoch 38/100\n",
      "1560/1560 [==============================] - 2s 1ms/step - loss: 5.1605e-06\n",
      "Epoch 39/100\n",
      "1560/1560 [==============================] - 2s 1ms/step - loss: 4.9876e-06\n",
      "Epoch 40/100\n",
      "1560/1560 [==============================] - 2s 1ms/step - loss: 4.9970e-06\n",
      "Epoch 41/100\n",
      "1560/1560 [==============================] - 2s 1ms/step - loss: 4.9173e-06\n",
      "Epoch 42/100\n",
      "1560/1560 [==============================] - 2s 1ms/step - loss: 4.8550e-06\n",
      "Epoch 43/100\n",
      "1560/1560 [==============================] - 2s 1ms/step - loss: 4.6130e-06\n",
      "Epoch 44/100\n",
      "1560/1560 [==============================] - 2s 1ms/step - loss: 4.7255e-06\n",
      "Epoch 45/100\n",
      "1560/1560 [==============================] - 2s 1ms/step - loss: 4.6185e-06\n",
      "Epoch 46/100\n",
      "1560/1560 [==============================] - 2s 1ms/step - loss: 4.6026e-06\n",
      "Epoch 47/100\n",
      "1560/1560 [==============================] - 2s 1ms/step - loss: 4.4611e-06\n",
      "Epoch 48/100\n",
      "1560/1560 [==============================] - 2s 1ms/step - loss: 4.3342e-06\n",
      "Epoch 49/100\n",
      "1560/1560 [==============================] - 2s 1ms/step - loss: 4.3781e-06\n",
      "Epoch 50/100\n",
      "1560/1560 [==============================] - 2s 1ms/step - loss: 4.2618e-06\n",
      "Epoch 51/100\n",
      "1560/1560 [==============================] - 2s 1ms/step - loss: 4.4295e-06\n",
      "Epoch 52/100\n",
      "1560/1560 [==============================] - 2s 1ms/step - loss: 4.1685e-06\n",
      "Epoch 53/100\n",
      "1560/1560 [==============================] - 2s 1ms/step - loss: 4.2024e-06\n",
      "Epoch 54/100\n",
      "1560/1560 [==============================] - 2s 1ms/step - loss: 4.1885e-06\n",
      "Epoch 55/100\n",
      "1560/1560 [==============================] - 2s 1ms/step - loss: 4.0904e-06\n",
      "Epoch 56/100\n",
      "1560/1560 [==============================] - 2s 1ms/step - loss: 4.1097e-06\n",
      "Epoch 57/100\n",
      "1560/1560 [==============================] - 2s 1ms/step - loss: 3.9154e-06\n",
      "Epoch 58/100\n",
      "1560/1560 [==============================] - 2s 1ms/step - loss: 3.9695e-06\n",
      "Epoch 59/100\n",
      "1560/1560 [==============================] - 2s 1ms/step - loss: 3.9030e-06\n",
      "Epoch 60/100\n",
      "1560/1560 [==============================] - 2s 1ms/step - loss: 3.8871e-06\n",
      "Epoch 61/100\n",
      "1560/1560 [==============================] - 2s 1ms/step - loss: 3.8352e-06\n",
      "Epoch 62/100\n",
      "1560/1560 [==============================] - 2s 1ms/step - loss: 3.8429e-06\n",
      "Epoch 63/100\n",
      "1560/1560 [==============================] - 2s 1ms/step - loss: 3.8630e-06\n",
      "Epoch 64/100\n",
      "1560/1560 [==============================] - 2s 1ms/step - loss: 3.8402e-06\n",
      "Epoch 65/100\n",
      "1560/1560 [==============================] - 2s 1ms/step - loss: 3.7296e-06\n",
      "Epoch 66/100\n",
      "1560/1560 [==============================] - 2s 1ms/step - loss: 3.7881e-06\n",
      "Epoch 67/100\n",
      "1560/1560 [==============================] - 2s 1ms/step - loss: 3.7344e-06\n",
      "Epoch 68/100\n",
      "1560/1560 [==============================] - 2s 1ms/step - loss: 3.6915e-06\n",
      "Epoch 69/100\n",
      "1560/1560 [==============================] - 2s 1ms/step - loss: 3.6334e-06\n",
      "Epoch 70/100\n",
      "1560/1560 [==============================] - 2s 1ms/step - loss: 3.6123e-06\n",
      "Epoch 71/100\n",
      "1560/1560 [==============================] - 2s 1ms/step - loss: 3.5383e-06\n",
      "Epoch 72/100\n",
      "1560/1560 [==============================] - 2s 1ms/step - loss: 3.5991e-06\n",
      "Epoch 73/100\n",
      "1560/1560 [==============================] - 2s 1ms/step - loss: 3.5468e-06\n",
      "Epoch 74/100\n",
      "1560/1560 [==============================] - 2s 1ms/step - loss: 3.4344e-06\n",
      "Epoch 75/100\n",
      "1560/1560 [==============================] - 2s 1ms/step - loss: 3.4693e-06\n",
      "Epoch 76/100\n",
      "1560/1560 [==============================] - 2s 1ms/step - loss: 3.6200e-06\n",
      "Epoch 77/100\n",
      "1560/1560 [==============================] - 2s 1ms/step - loss: 3.4248e-06\n",
      "Epoch 78/100\n",
      "1560/1560 [==============================] - 2s 1ms/step - loss: 3.4502e-06\n",
      "Epoch 79/100\n",
      "1560/1560 [==============================] - 2s 1ms/step - loss: 3.4324e-06\n",
      "Epoch 80/100\n",
      "1560/1560 [==============================] - 2s 1ms/step - loss: 3.3868e-06\n",
      "Epoch 81/100\n",
      "1560/1560 [==============================] - 2s 1ms/step - loss: 3.3671e-06\n",
      "Epoch 82/100\n",
      "1560/1560 [==============================] - 2s 1ms/step - loss: 3.4077e-06\n",
      "Epoch 83/100\n",
      "1560/1560 [==============================] - 2s 1ms/step - loss: 3.3880e-06\n",
      "Epoch 84/100\n",
      "1560/1560 [==============================] - 2s 1ms/step - loss: 3.3206e-06\n",
      "Epoch 85/100\n",
      "1560/1560 [==============================] - 2s 1ms/step - loss: 3.2806e-06\n",
      "Epoch 86/100\n",
      "1560/1560 [==============================] - 2s 1ms/step - loss: 3.2188e-06\n",
      "Epoch 87/100\n",
      "1560/1560 [==============================] - 2s 1ms/step - loss: 3.3364e-06\n",
      "Epoch 88/100\n",
      "1560/1560 [==============================] - 2s 1ms/step - loss: 3.2004e-06\n",
      "Epoch 89/100\n",
      "1560/1560 [==============================] - 2s 1ms/step - loss: 3.2763e-06\n",
      "Epoch 90/100\n",
      "1560/1560 [==============================] - 2s 1ms/step - loss: 3.1525e-06\n",
      "Epoch 91/100\n",
      "1560/1560 [==============================] - 2s 1ms/step - loss: 3.2457e-06\n",
      "Epoch 92/100\n",
      "1560/1560 [==============================] - 2s 1ms/step - loss: 3.1952e-06\n",
      "Epoch 93/100\n",
      "1560/1560 [==============================] - 2s 1ms/step - loss: 3.2616e-06\n",
      "Epoch 94/100\n",
      "1560/1560 [==============================] - 2s 1ms/step - loss: 3.1172e-06\n",
      "Epoch 95/100\n",
      "1560/1560 [==============================] - 2s 1ms/step - loss: 3.1526e-06\n",
      "Epoch 96/100\n",
      "1560/1560 [==============================] - 2s 1ms/step - loss: 3.0554e-06\n",
      "Epoch 97/100\n",
      "1560/1560 [==============================] - 2s 1ms/step - loss: 3.1218e-06\n",
      "Epoch 98/100\n",
      "1560/1560 [==============================] - 3s 2ms/step - loss: 3.2518e-06\n",
      "Epoch 99/100\n",
      "1560/1560 [==============================] - 3s 2ms/step - loss: 2.9393e-06\n",
      "Epoch 100/100\n",
      "1560/1560 [==============================] - 4s 2ms/step - loss: 2.9955e-06\n"
     ]
    }
   ],
   "source": [
    "\n",
    "# Train the Model\n",
    "history = model.fit(x, y, epochs=100, verbose=1)\n"
   ]
  },
  {
   "cell_type": "code",
   "execution_count": 57,
   "metadata": {},
   "outputs": [],
   "source": [
    "# data_u_test = np.random.uniform(low=0, high=1, size=(n_traj, traj_len, param_dim))* (1+1) - 1\n",
    "data_u_test = np.linspace(-1,1,100)\n",
    "data_u_test = data_u_test.reshape(-1,1)"
   ]
  },
  {
   "cell_type": "code",
   "execution_count": 58,
   "metadata": {},
   "outputs": [
    {
     "name": "stdout",
     "output_type": "stream",
     "text": [
      "4/4 [==============================] - 0s 1ms/step\n"
     ]
    }
   ],
   "source": [
    "\n",
    "\n",
    "# Evaluate the Model\n",
    "preds = model.predict(data_u_test)\n",
    "\n",
    "y_test = np.hstack([data_u_test, data_u_test**2, data_u_test**3])\n"
   ]
  },
  {
   "cell_type": "code",
   "execution_count": 59,
   "metadata": {},
   "outputs": [
    {
     "name": "stdout",
     "output_type": "stream",
     "text": [
      "Epoch 1/100\n",
      "1560/1560 [==============================] - 6s 3ms/step - loss: 0.0157\n",
      "Epoch 2/100\n",
      "1560/1560 [==============================] - 4s 3ms/step - loss: 2.7264e-04\n",
      "Epoch 3/100\n",
      "1560/1560 [==============================] - 4s 3ms/step - loss: 1.0149e-04\n",
      "Epoch 4/100\n",
      "1560/1560 [==============================] - 4s 3ms/step - loss: 6.7975e-05\n",
      "Epoch 5/100\n",
      "1560/1560 [==============================] - 5s 3ms/step - loss: 4.2079e-05\n",
      "Epoch 6/100\n",
      "1560/1560 [==============================] - 4s 2ms/step - loss: 2.9773e-05\n",
      "Epoch 7/100\n",
      "1560/1560 [==============================] - 4s 3ms/step - loss: 2.5359e-05\n",
      "Epoch 8/100\n",
      "1560/1560 [==============================] - 5s 3ms/step - loss: 2.4858e-05\n",
      "Epoch 9/100\n",
      "1560/1560 [==============================] - 5s 3ms/step - loss: 1.6440e-05\n",
      "Epoch 10/100\n",
      "1560/1560 [==============================] - 4s 3ms/step - loss: 1.6351e-05\n",
      "Epoch 11/100\n",
      "1560/1560 [==============================] - 4s 3ms/step - loss: 1.5586e-05\n",
      "Epoch 12/100\n",
      "1560/1560 [==============================] - 4s 2ms/step - loss: 1.3550e-05\n",
      "Epoch 13/100\n",
      "1560/1560 [==============================] - 3s 2ms/step - loss: 1.7172e-05\n",
      "Epoch 14/100\n",
      "1560/1560 [==============================] - 3s 2ms/step - loss: 1.6873e-05\n",
      "Epoch 15/100\n",
      "1560/1560 [==============================] - 2s 1ms/step - loss: 1.3693e-05\n",
      "Epoch 16/100\n",
      "1560/1560 [==============================] - 2s 1ms/step - loss: 1.4828e-05\n",
      "Epoch 17/100\n",
      "1560/1560 [==============================] - 2s 1ms/step - loss: 1.4695e-05\n",
      "Epoch 18/100\n",
      "1560/1560 [==============================] - 2s 1ms/step - loss: 1.4890e-05\n",
      "Epoch 19/100\n",
      "1560/1560 [==============================] - 2s 1ms/step - loss: 1.0502e-05\n",
      "Epoch 20/100\n",
      "1560/1560 [==============================] - 2s 1ms/step - loss: 1.2313e-05\n",
      "Epoch 21/100\n",
      "1560/1560 [==============================] - 2s 1ms/step - loss: 1.0996e-05\n",
      "Epoch 22/100\n",
      "1560/1560 [==============================] - 2s 1ms/step - loss: 1.3550e-05\n",
      "Epoch 23/100\n",
      "1560/1560 [==============================] - 2s 1ms/step - loss: 1.1449e-05\n",
      "Epoch 24/100\n",
      "1560/1560 [==============================] - 2s 1ms/step - loss: 1.3844e-05\n",
      "Epoch 25/100\n",
      "1560/1560 [==============================] - 2s 1ms/step - loss: 1.1065e-05\n",
      "Epoch 26/100\n",
      "1560/1560 [==============================] - 2s 2ms/step - loss: 1.1713e-05\n",
      "Epoch 27/100\n",
      "1560/1560 [==============================] - 2s 1ms/step - loss: 8.7195e-06\n",
      "Epoch 28/100\n",
      "1560/1560 [==============================] - 2s 1ms/step - loss: 1.0104e-05\n",
      "Epoch 29/100\n",
      "1560/1560 [==============================] - 2s 1ms/step - loss: 1.1782e-05\n",
      "Epoch 30/100\n",
      "1560/1560 [==============================] - 2s 1ms/step - loss: 1.1830e-05\n",
      "Epoch 31/100\n",
      "1560/1560 [==============================] - 2s 1ms/step - loss: 9.3119e-06\n",
      "Epoch 32/100\n",
      "1560/1560 [==============================] - 2s 1ms/step - loss: 8.1414e-06\n",
      "Epoch 33/100\n",
      "1560/1560 [==============================] - 2s 1ms/step - loss: 8.2911e-06\n",
      "Epoch 34/100\n",
      "1560/1560 [==============================] - 2s 1ms/step - loss: 9.5783e-06\n",
      "Epoch 35/100\n",
      "1560/1560 [==============================] - 2s 1ms/step - loss: 1.1352e-05\n",
      "Epoch 36/100\n",
      "1560/1560 [==============================] - 2s 1ms/step - loss: 7.3142e-06\n",
      "Epoch 37/100\n",
      "1560/1560 [==============================] - 2s 1ms/step - loss: 9.8792e-06\n",
      "Epoch 38/100\n",
      "1560/1560 [==============================] - 2s 1ms/step - loss: 1.1831e-05\n",
      "Epoch 39/100\n",
      "1560/1560 [==============================] - 2s 1ms/step - loss: 6.5031e-06\n",
      "Epoch 40/100\n",
      "1560/1560 [==============================] - 2s 1ms/step - loss: 9.3932e-06\n",
      "Epoch 41/100\n",
      "1560/1560 [==============================] - 2s 1ms/step - loss: 5.7477e-06\n",
      "Epoch 42/100\n",
      "1560/1560 [==============================] - 2s 1ms/step - loss: 8.6850e-06\n",
      "Epoch 43/100\n",
      "1560/1560 [==============================] - 2s 1ms/step - loss: 8.8625e-06\n",
      "Epoch 44/100\n",
      "1560/1560 [==============================] - 2s 1ms/step - loss: 1.0201e-05\n",
      "Epoch 45/100\n",
      "1560/1560 [==============================] - 2s 1ms/step - loss: 5.4545e-06\n",
      "Epoch 46/100\n",
      "1560/1560 [==============================] - 2s 1ms/step - loss: 7.8378e-06\n",
      "Epoch 47/100\n",
      "1560/1560 [==============================] - 2s 1ms/step - loss: 8.8591e-06\n",
      "Epoch 48/100\n",
      "1560/1560 [==============================] - 2s 1ms/step - loss: 6.5558e-06\n",
      "Epoch 49/100\n",
      "1560/1560 [==============================] - 2s 1ms/step - loss: 6.9864e-06\n",
      "Epoch 50/100\n",
      "1560/1560 [==============================] - 2s 1ms/step - loss: 8.1395e-06\n",
      "Epoch 51/100\n",
      "1560/1560 [==============================] - 2s 1ms/step - loss: 7.2828e-06\n",
      "Epoch 52/100\n",
      "1560/1560 [==============================] - 2s 1ms/step - loss: 6.0166e-06\n",
      "Epoch 53/100\n",
      "1560/1560 [==============================] - 2s 1ms/step - loss: 7.2601e-06\n",
      "Epoch 54/100\n",
      "1560/1560 [==============================] - 2s 1ms/step - loss: 6.6381e-06\n",
      "Epoch 55/100\n",
      "1560/1560 [==============================] - 2s 1ms/step - loss: 8.2481e-06\n",
      "Epoch 56/100\n",
      "1560/1560 [==============================] - 2s 1ms/step - loss: 5.7717e-06\n",
      "Epoch 57/100\n",
      "1560/1560 [==============================] - 2s 1ms/step - loss: 6.6971e-06\n",
      "Epoch 58/100\n",
      "1560/1560 [==============================] - 2s 1ms/step - loss: 1.0563e-05\n",
      "Epoch 59/100\n",
      "1560/1560 [==============================] - 2s 1ms/step - loss: 6.8789e-06\n",
      "Epoch 60/100\n",
      "1560/1560 [==============================] - 2s 1ms/step - loss: 6.8660e-06\n",
      "Epoch 61/100\n",
      "1560/1560 [==============================] - 2s 1ms/step - loss: 4.8450e-06\n",
      "Epoch 62/100\n",
      "1560/1560 [==============================] - 2s 1ms/step - loss: 5.7013e-06\n",
      "Epoch 63/100\n",
      "1560/1560 [==============================] - 2s 1ms/step - loss: 7.3982e-06\n",
      "Epoch 64/100\n",
      "1560/1560 [==============================] - 2s 1ms/step - loss: 5.7367e-06\n",
      "Epoch 65/100\n",
      "1560/1560 [==============================] - 2s 1ms/step - loss: 5.7022e-06\n",
      "Epoch 66/100\n",
      "1560/1560 [==============================] - 2s 1ms/step - loss: 6.9568e-06\n",
      "Epoch 67/100\n",
      "1560/1560 [==============================] - 2s 1ms/step - loss: 6.3455e-06\n",
      "Epoch 68/100\n",
      "1560/1560 [==============================] - 2s 1ms/step - loss: 6.5330e-06\n",
      "Epoch 69/100\n",
      "1560/1560 [==============================] - 2s 1ms/step - loss: 7.0780e-06\n",
      "Epoch 70/100\n",
      "1560/1560 [==============================] - 2s 1ms/step - loss: 5.1198e-06\n",
      "Epoch 71/100\n",
      "1560/1560 [==============================] - 2s 1ms/step - loss: 5.5585e-06\n",
      "Epoch 72/100\n",
      "1560/1560 [==============================] - 2s 1ms/step - loss: 4.9801e-06\n",
      "Epoch 73/100\n",
      "1560/1560 [==============================] - 2s 1ms/step - loss: 5.9485e-06\n",
      "Epoch 74/100\n",
      "1560/1560 [==============================] - 2s 1ms/step - loss: 5.7187e-06\n",
      "Epoch 75/100\n",
      "1560/1560 [==============================] - 2s 1ms/step - loss: 5.9452e-06\n",
      "Epoch 76/100\n",
      "1560/1560 [==============================] - 2s 1ms/step - loss: 5.2209e-06\n",
      "Epoch 77/100\n",
      "1560/1560 [==============================] - 2s 1ms/step - loss: 4.6099e-06\n",
      "Epoch 78/100\n",
      "1560/1560 [==============================] - 2s 1ms/step - loss: 4.7902e-06\n",
      "Epoch 79/100\n",
      "1560/1560 [==============================] - 2s 1ms/step - loss: 4.9395e-06\n",
      "Epoch 80/100\n",
      "1560/1560 [==============================] - 2s 1ms/step - loss: 9.6348e-06\n",
      "Epoch 81/100\n",
      "1560/1560 [==============================] - 2s 1ms/step - loss: 2.7217e-06\n",
      "Epoch 82/100\n",
      "1560/1560 [==============================] - 2s 1ms/step - loss: 3.6601e-06\n",
      "Epoch 83/100\n",
      "1560/1560 [==============================] - 2s 1ms/step - loss: 4.7329e-06\n",
      "Epoch 84/100\n",
      "1560/1560 [==============================] - 2s 1ms/step - loss: 5.6409e-06\n",
      "Epoch 85/100\n",
      "1560/1560 [==============================] - 2s 1ms/step - loss: 4.9702e-06\n",
      "Epoch 86/100\n",
      "1560/1560 [==============================] - 2s 1ms/step - loss: 4.2036e-06\n",
      "Epoch 87/100\n",
      "1560/1560 [==============================] - 2s 1ms/step - loss: 5.7514e-06\n",
      "Epoch 88/100\n",
      "1560/1560 [==============================] - 2s 1ms/step - loss: 4.2109e-06\n",
      "Epoch 89/100\n",
      "1560/1560 [==============================] - 2s 1ms/step - loss: 5.1989e-06\n",
      "Epoch 90/100\n",
      "1560/1560 [==============================] - 2s 1ms/step - loss: 3.4537e-06\n",
      "Epoch 91/100\n",
      "1560/1560 [==============================] - 2s 1ms/step - loss: 4.9649e-06\n",
      "Epoch 92/100\n",
      "1560/1560 [==============================] - 2s 1ms/step - loss: 3.6215e-06\n",
      "Epoch 93/100\n",
      "1560/1560 [==============================] - 2s 1ms/step - loss: 3.8422e-06\n",
      "Epoch 94/100\n",
      "1560/1560 [==============================] - 2s 1ms/step - loss: 3.6427e-06\n",
      "Epoch 95/100\n",
      "1560/1560 [==============================] - 2s 1ms/step - loss: 4.6988e-06\n",
      "Epoch 96/100\n",
      "1560/1560 [==============================] - 2s 1ms/step - loss: 3.0218e-06\n",
      "Epoch 97/100\n",
      "1560/1560 [==============================] - 2s 1ms/step - loss: 4.6057e-06\n",
      "Epoch 98/100\n",
      "1560/1560 [==============================] - 2s 1ms/step - loss: 5.9914e-06\n",
      "Epoch 99/100\n",
      "1560/1560 [==============================] - 2s 1ms/step - loss: 5.6733e-06\n",
      "Epoch 100/100\n",
      "1560/1560 [==============================] - 2s 1ms/step - loss: 3.2436e-06\n"
     ]
    }
   ],
   "source": [
    "\n",
    "# Define the Neural Network\n",
    "model_64 = tf.keras.Sequential([\n",
    "    tf.keras.layers.Dense(64, activation='tanh', input_shape=(1,)),\n",
    "    tf.keras.layers.Dense(64, activation='tanh'),\n",
    "    tf.keras.layers.Dense(3)  # Output layer for [x, x^2, x^3]\n",
    "])\n",
    "\n",
    "# Compile the Model\n",
    "model_64.compile(optimizer='adam', loss='mse')\n",
    "\n",
    "# Train the Model\n",
    "history_64 = model_64.fit(x, y, epochs=100, verbose=1)\n",
    "\n"
   ]
  },
  {
   "cell_type": "code",
   "execution_count": 60,
   "metadata": {},
   "outputs": [
    {
     "name": "stdout",
     "output_type": "stream",
     "text": [
      "4/4 [==============================] - 0s 1ms/step\n"
     ]
    }
   ],
   "source": [
    "# Evaluate the Model\n",
    "preds_64 = model_64.predict(data_u_test)"
   ]
  },
  {
   "cell_type": "code",
   "execution_count": 61,
   "metadata": {},
   "outputs": [
    {
     "ename": "NameError",
     "evalue": "name 'matplotlib' is not defined",
     "output_type": "error",
     "traceback": [
      "\u001b[0;31m---------------------------------------------------------------------------\u001b[0m",
      "\u001b[0;31mNameError\u001b[0m                                 Traceback (most recent call last)",
      "Input \u001b[0;32mIn [61]\u001b[0m, in \u001b[0;36m<cell line: 1>\u001b[0;34m()\u001b[0m\n\u001b[0;32m----> 1\u001b[0m \u001b[38;5;28;01mwith\u001b[39;00m \u001b[43mmatplotlib\u001b[49m\u001b[38;5;241m.\u001b[39mrc_context({\u001b[38;5;124m'\u001b[39m\u001b[38;5;124mfont.size\u001b[39m\u001b[38;5;124m'\u001b[39m: \u001b[38;5;241m15\u001b[39m}):\n\u001b[1;32m      2\u001b[0m \n\u001b[1;32m      3\u001b[0m     \u001b[38;5;66;03m# Plotting the results\u001b[39;00m\n\u001b[1;32m      4\u001b[0m     plt\u001b[38;5;241m.\u001b[39mfigure(figsize\u001b[38;5;241m=\u001b[39m(\u001b[38;5;241m12\u001b[39m, \u001b[38;5;241m4\u001b[39m))\n\u001b[1;32m      5\u001b[0m     \u001b[38;5;28;01mfor\u001b[39;00m i, title \u001b[38;5;129;01min\u001b[39;00m \u001b[38;5;28menumerate\u001b[39m([\u001b[38;5;124m'\u001b[39m\u001b[38;5;124mx\u001b[39m\u001b[38;5;124m'\u001b[39m, \u001b[38;5;124m'\u001b[39m\u001b[38;5;124m$x^2$\u001b[39m\u001b[38;5;124m'\u001b[39m, \u001b[38;5;124m'\u001b[39m\u001b[38;5;124m$x^3$\u001b[39m\u001b[38;5;124m'\u001b[39m]):\n",
      "\u001b[0;31mNameError\u001b[0m: name 'matplotlib' is not defined"
     ]
    }
   ],
   "source": [
    "with matplotlib.rc_context({'font.size': 15}):\n",
    "\n",
    "    # Plotting the results\n",
    "    plt.figure(figsize=(12, 4))\n",
    "    for i, title in enumerate(['x', '$x^2$', '$x^3$']):\n",
    "        plt.subplot(1, 3, i + 1)\n",
    "        plt.plot(data_u_test, preds[:, i], label=\"[4,4]\")\n",
    "        plt.plot(data_u_test, preds_64[:, i], label='[64,64]')\n",
    "        plt.plot(data_u_test, y_test[:, i], label='True')\n",
    "        plt.xlabel('$u$')\n",
    "        plt.title(title)\n",
    "        plt.legend()\n",
    "    plt.show()\n",
    "\n"
   ]
  },
  {
   "cell_type": "code",
   "execution_count": null,
   "metadata": {},
   "outputs": [
    {
     "data": {
      "image/png": "[encoded data removed]",
      "text/plain": [
       "<Figure size 432x288 with 1 Axes>"
      ]
     },
     "metadata": {
      "needs_background": "light"
     },
     "output_type": "display_data"
    }
   ],
   "source": [
    "with matplotlib.rc_context({'font.size': 15}):\n",
    "    plt.plot(history.history['loss'], label=\"[4,4]\")\n",
    "    plt.plot(history_64.history['loss'], label=\"[64,64]\")\n",
    "    plt.xlabel('Epochs')\n",
    "    plt.ylabel('Training Loss')\n",
    "    plt.yscale('log')\n",
    "\n",
    "    plt.legend()"
   ]
  },
  {
   "cell_type": "code",
   "execution_count": null,
   "metadata": {},
   "outputs": [],
   "source": []
  }
 ],
 "metadata": {
  "kernelspec": {
   "display_name": "koopman",
   "language": "python",
   "name": "python3"
  },
  "language_info": {
   "codemirror_mode": {
    "name": "ipython",
    "version": 3
   },
   "file_extension": ".py",
   "mimetype": "text/x-python",
   "name": "python",
   "nbconvert_exporter": "python",
   "pygments_lexer": "ipython3",
   "version": "3.8.8"
  }
 },
 "nbformat": 4,
 "nbformat_minor": 2
}
