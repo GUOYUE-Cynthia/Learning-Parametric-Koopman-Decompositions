{
 "cells": [
  {
   "cell_type": "code",
   "execution_count": 47,
   "metadata": {},
   "outputs": [],
   "source": [
    "import os\n",
    "\n",
    "os.environ[\"CUDA_VISIBLE_DEVICES\"] = \"-1\""
   ]
  },
  {
   "cell_type": "code",
   "execution_count": 48,
   "metadata": {},
   "outputs": [
    {
     "name": "stdout",
     "output_type": "stream",
     "text": [
      "The autoreload extension is already loaded. To reload it, use:\n",
      "  %reload_ext autoreload\n"
     ]
    }
   ],
   "source": [
    "%load_ext autoreload\n",
    "%autoreload 2"
   ]
  },
  {
   "cell_type": "code",
   "execution_count": 49,
   "metadata": {},
   "outputs": [],
   "source": [
    "import matplotlib.pyplot as plt\n",
    "import numpy as np\n",
    "import seaborn as sns\n",
    "import tensorflow as tf"
   ]
  },
  {
   "cell_type": "code",
   "execution_count": 50,
   "metadata": {},
   "outputs": [],
   "source": [
    "from koopmanlib.functions import *"
   ]
  },
  {
   "cell_type": "code",
   "execution_count": 51,
   "metadata": {},
   "outputs": [],
   "source": [
    "import json\n",
    "import sys"
   ]
  },
  {
   "cell_type": "markdown",
   "metadata": {},
   "source": [
    "# Generate data"
   ]
  },
  {
   "cell_type": "code",
   "execution_count": 52,
   "metadata": {},
   "outputs": [],
   "source": [
    "config_file = \"config_fhn.json\""
   ]
  },
  {
   "cell_type": "code",
   "execution_count": 53,
   "metadata": {},
   "outputs": [],
   "source": [
    "with open(config_file, \"r\") as f:\n",
    "    config = json.load(f)[\"fhn_settings\"]"
   ]
  },
  {
   "cell_type": "code",
   "execution_count": 54,
   "metadata": {},
   "outputs": [],
   "source": [
    "data_path = config[\"data_settings\"][\"data_path\"]\n",
    "weights_path = config[\"nn_settings\"][\"weights_path\"]\n",
    "figures_path = config[\"data_settings\"][\"figures_path\"]"
   ]
  },
  {
   "cell_type": "code",
   "execution_count": 55,
   "metadata": {},
   "outputs": [],
   "source": [
    "Nx = config[\"data_settings\"][\"Nx\"]\n",
    "n_traj = config[\"data_settings\"][\"n_traj\"]\n",
    "traj_len = config[\"data_settings\"][\"traj_len\"]"
   ]
  },
  {
   "cell_type": "code",
   "execution_count": 56,
   "metadata": {},
   "outputs": [],
   "source": [
    "n_psi_train = config[\"nn_settings\"][\"n_psi_train\"]\n",
    "target_dim = Nx * 2\n",
    "param_dim = 1\n",
    "n_psi = 1 + target_dim + n_psi_train\n",
    "dict_layer_size = config[\"nn_settings\"][\"dict_layer_size\"]\n",
    "K_layer_size = config[\"nn_settings\"][\"K_layer_size\"]"
   ]
  },
  {
   "cell_type": "code",
   "execution_count": 57,
   "metadata": {},
   "outputs": [],
   "source": [
    "x = np.linspace(-10, 10, Nx)\n",
    "t = np.arange(0, traj_len, 1)"
   ]
  },
  {
   "cell_type": "code",
   "execution_count": 58,
   "metadata": {},
   "outputs": [],
   "source": [
    "from koopmanlib.target import FitzHughNagumoTarget"
   ]
  },
  {
   "cell_type": "code",
   "execution_count": 59,
   "metadata": {},
   "outputs": [],
   "source": [
    "fhn_pde = FitzHughNagumoTarget(\n",
    "    x=x, dt=1e-5, t_step=1e-3, dim=target_dim, param_dim=param_dim, param_input=1e3\n",
    ")"
   ]
  },
  {
   "cell_type": "code",
   "execution_count": 60,
   "metadata": {},
   "outputs": [],
   "source": [
    "data_dict = np.load(os.path.join(data_path, \"data_fhn_Nx_\" + str(Nx) + \".npy\"), allow_pickle=True)"
   ]
  },
  {
   "cell_type": "code",
   "execution_count": 61,
   "metadata": {},
   "outputs": [],
   "source": [
    "data_z_curr = data_dict[()][\"data_z_curr\"]\n",
    "data_u = data_dict[()][\"data_u\"]\n",
    "data_z_next = data_dict[()][\"data_z_next\"]"
   ]
  },
  {
   "cell_type": "code",
   "execution_count": 62,
   "metadata": {},
   "outputs": [
    {
     "data": {
      "text/plain": [
       "(49900, 20)"
      ]
     },
     "execution_count": 62,
     "metadata": {},
     "output_type": "execute_result"
    }
   ],
   "source": [
    "data_z_curr.shape"
   ]
  },
  {
   "cell_type": "code",
   "execution_count": 63,
   "metadata": {},
   "outputs": [],
   "source": [
    "data_z_curr_reshape = data_z_curr.reshape(-1, n_traj, target_dim)\n",
    "data_z_curr_reshape_trans = np.transpose(data_z_curr_reshape, (1, 0, 2))\n",
    "sample_idx = 1"
   ]
  },
  {
   "cell_type": "code",
   "execution_count": 64,
   "metadata": {},
   "outputs": [],
   "source": [
    "from sklearn.preprocessing import StandardScaler\n",
    "\n",
    "scaler_z = StandardScaler()\n",
    "scaler_z.fit(data_z_curr)\n",
    "\n",
    "z_curr_normalized = scaler_z.transform(data_z_curr)\n",
    "z_next_normalized = scaler_z.transform(data_z_next)\n",
    "\n",
    "# After the prediction, we use inverse_transform to recover data.\n",
    "\n",
    "# z_curr_recover = scaler_z.inverse_transform(z_curr_normalized)"
   ]
  },
  {
   "cell_type": "markdown",
   "metadata": {},
   "source": [
    "# Build model"
   ]
  },
  {
   "cell_type": "code",
   "execution_count": 65,
   "metadata": {},
   "outputs": [],
   "source": [
    "from koopmanlib.dictionary import PsiNN\n",
    "from koopmanlib.param_solver import KoopmanParametricDLSolver"
   ]
  },
  {
   "cell_type": "code",
   "execution_count": 66,
   "metadata": {},
   "outputs": [],
   "source": [
    "from tensorflow.keras.optimizers import Adam"
   ]
  },
  {
   "cell_type": "code",
   "execution_count": 67,
   "metadata": {},
   "outputs": [],
   "source": [
    "dic_pk = PsiNN(layer_sizes=dict_layer_size, n_psi_train=n_psi_train)"
   ]
  },
  {
   "cell_type": "code",
   "execution_count": 68,
   "metadata": {},
   "outputs": [],
   "source": [
    "from koopmanlib.K_structure import Model_K_u_Layer_One, Model_ResNet_K_u_Layer_One\n",
    "\n",
    "model_K_u = Model_K_u_Layer_One(layer_sizes=K_layer_size, n_psi=n_psi)\n",
    "\n",
    "solver_pk = KoopmanParametricDLSolver(\n",
    "    target_dim=target_dim, param_dim=param_dim, n_psi=n_psi, dic=dic_pk, model_K_u=model_K_u\n",
    ")\n",
    "\n",
    "model_pk, model_K_u_pred_pk = solver_pk.generate_model()"
   ]
  },
  {
   "cell_type": "code",
   "execution_count": 69,
   "metadata": {},
   "outputs": [],
   "source": [
    "model_pk.load_weights(\n",
    "    os.path.join(\n",
    "        weights_path, \"norm_psi_\" + str(n_psi_train) + \"_model_pk_fhn_Nx_\" + str(Nx) + \".h5\"\n",
    "    )\n",
    ")"
   ]
  },
  {
   "cell_type": "markdown",
   "metadata": {},
   "source": [
    "# Prediction"
   ]
  },
  {
   "cell_type": "code",
   "execution_count": 70,
   "metadata": {},
   "outputs": [],
   "source": [
    "n_traj_test = 1\n",
    "traj_len_test = 500"
   ]
  },
  {
   "cell_type": "code",
   "execution_count": 71,
   "metadata": {},
   "outputs": [],
   "source": [
    "data_true_normalized, data_pred_pk_normalized, z_curr_ori = recover_prediction(\n",
    "    target=fhn_pde,\n",
    "    scaler=scaler_z,\n",
    "    solver=solver_pk,\n",
    "    n_traj=n_traj_test,\n",
    "    traj_len=traj_len_test,\n",
    "    seed_z=11,\n",
    "    seed_param=11,\n",
    ")"
   ]
  },
  {
   "cell_type": "code",
   "execution_count": 72,
   "metadata": {},
   "outputs": [
    {
     "data": {
      "text/plain": [
       "((499, 20), (499, 20), (499, 20))"
      ]
     },
     "execution_count": 72,
     "metadata": {},
     "output_type": "execute_result"
    }
   ],
   "source": [
    "data_true_normalized.shape, data_pred_pk_normalized.shape, z_curr_ori.shape"
   ]
  },
  {
   "cell_type": "code",
   "execution_count": 73,
   "metadata": {},
   "outputs": [],
   "source": [
    "x_axis = x\n",
    "y_axis = np.arange(0, data_true_normalized.shape[0], 1)"
   ]
  },
  {
   "cell_type": "code",
   "execution_count": 74,
   "metadata": {},
   "outputs": [],
   "source": [
    "ratio_pk_normalized = compute_diff_ratio_one_traj(data_true_normalized, data_pred_pk_normalized)"
   ]
  },
  {
   "cell_type": "code",
   "execution_count": 75,
   "metadata": {},
   "outputs": [],
   "source": [
    "data_pred_pk_recover = scaler_z.inverse_transform(data_pred_pk_normalized)"
   ]
  },
  {
   "cell_type": "code",
   "execution_count": 76,
   "metadata": {},
   "outputs": [],
   "source": [
    "ratio_pk_recover = compute_diff_ratio_one_traj(z_curr_ori, data_pred_pk_recover)"
   ]
  },
  {
   "cell_type": "code",
   "execution_count": 77,
   "metadata": {},
   "outputs": [
    {
     "data": {
      "text/plain": [
       "(499, 20)"
      ]
     },
     "execution_count": 77,
     "metadata": {},
     "output_type": "execute_result"
    }
   ],
   "source": [
    "data_pred_pk_normalized.shape"
   ]
  },
  {
   "cell_type": "markdown",
   "metadata": {},
   "source": [
    "# RBF + Ploynomial K (1, $u, u^2, u^3$)"
   ]
  },
  {
   "cell_type": "code",
   "execution_count": 78,
   "metadata": {},
   "outputs": [],
   "source": [
    "from koopmanlib.dictionary import DicGaussianRBF\n",
    "\n",
    "dic_rbf_fhn = DicGaussianRBF(rbf_number=n_psi_train, s=1 / 20)\n",
    "\n",
    "dic_rbf_fhn.build(z_curr_normalized)\n",
    "\n",
    "from koopmanlib.param_solver import KoopmanActuatedDLSolver\n",
    "\n",
    "solver_rbf = KoopmanActuatedDLSolver(\n",
    "    dic=dic_rbf_fhn,\n",
    "    target_dim=target_dim,\n",
    "    param_dim=param_dim,\n",
    "    n_psi=n_psi,\n",
    "    basis_u_func=fhn_pde.basis_u_func,\n",
    ")\n",
    "\n",
    "model_rbf = solver_rbf.build_model()\n",
    "\n",
    "model_rbf_opt = solver_rbf.opt_rbf_model(\n",
    "    data_x=z_curr_normalized, data_u=data_u, data_y=z_next_normalized\n",
    ")"
   ]
  },
  {
   "cell_type": "code",
   "execution_count": 79,
   "metadata": {},
   "outputs": [],
   "source": [
    "data_true_normalized, data_pred_rbf_normalized, z_curr_ori = recover_prediction(\n",
    "    target=fhn_pde,\n",
    "    scaler=scaler_z,\n",
    "    solver=solver_rbf,\n",
    "    n_traj=n_traj_test,\n",
    "    traj_len=traj_len_test,\n",
    "    seed_z=11,\n",
    "    seed_param=11,\n",
    ")"
   ]
  },
  {
   "cell_type": "code",
   "execution_count": 80,
   "metadata": {},
   "outputs": [],
   "source": [
    "ratio_rbf_normalized = compute_diff_ratio_one_traj(data_true_normalized, data_pred_rbf_normalized)"
   ]
  },
  {
   "cell_type": "code",
   "execution_count": 81,
   "metadata": {},
   "outputs": [],
   "source": [
    "# Original space\n",
    "data_pred_rbf_recover = scaler_z.inverse_transform(data_pred_rbf_normalized)"
   ]
  },
  {
   "cell_type": "code",
   "execution_count": 82,
   "metadata": {},
   "outputs": [
    {
     "data": {
      "text/plain": [
       "(499, 20)"
      ]
     },
     "execution_count": 82,
     "metadata": {},
     "output_type": "execute_result"
    }
   ],
   "source": [
    "data_pred_rbf_recover.shape"
   ]
  },
  {
   "cell_type": "code",
   "execution_count": 83,
   "metadata": {},
   "outputs": [],
   "source": [
    "ratio_rbf_recover = compute_diff_ratio_one_traj(z_curr_ori, data_pred_rbf_recover)"
   ]
  },
  {
   "cell_type": "markdown",
   "metadata": {},
   "source": [
    "# DL + Polynomial K (1, $u, u^2, u^3$)"
   ]
  },
  {
   "cell_type": "code",
   "execution_count": 84,
   "metadata": {},
   "outputs": [],
   "source": [
    "dic_dl_polyK = PsiNN(layer_sizes=dict_layer_size, n_psi_train=n_psi_train)\n",
    "\n",
    "solver_dl_polyK = KoopmanActuatedDLSolver(\n",
    "    dic=dic_dl_polyK,\n",
    "    target_dim=target_dim,\n",
    "    param_dim=param_dim,\n",
    "    n_psi=n_psi,\n",
    "    basis_u_func=fhn_pde.basis_u_func,\n",
    ")\n",
    "\n",
    "model_dl_polyK = solver_dl_polyK.build_model()"
   ]
  },
  {
   "cell_type": "code",
   "execution_count": 85,
   "metadata": {},
   "outputs": [],
   "source": [
    "solver_dl_polyK.model.load_weights(\n",
    "    os.path.join(\n",
    "        weights_path, \"norm_psi_\" + str(n_psi_train) + \"_model_dl_polyK_fhn_Nx_\" + str(Nx) + \".h5\"\n",
    "    )\n",
    ")"
   ]
  },
  {
   "cell_type": "code",
   "execution_count": 86,
   "metadata": {},
   "outputs": [],
   "source": [
    "data_true_normalized, data_pred_dl_polyK_normalized, z_curr_ori = recover_prediction(\n",
    "    target=fhn_pde,\n",
    "    scaler=scaler_z,\n",
    "    solver=solver_dl_polyK,\n",
    "    n_traj=n_traj_test,\n",
    "    traj_len=traj_len_test,\n",
    "    seed_z=11,\n",
    "    seed_param=11,\n",
    ")"
   ]
  },
  {
   "cell_type": "code",
   "execution_count": 87,
   "metadata": {},
   "outputs": [],
   "source": [
    "ratio_dl_polyK_normalized = compute_diff_ratio_one_traj(\n",
    "    data_true_normalized, data_pred_dl_polyK_normalized\n",
    ")"
   ]
  },
  {
   "cell_type": "code",
   "execution_count": 88,
   "metadata": {},
   "outputs": [],
   "source": [
    "# Original space\n",
    "data_pred_dl_polyK_recover = scaler_z.inverse_transform(data_pred_dl_polyK_normalized)"
   ]
  },
  {
   "cell_type": "code",
   "execution_count": 89,
   "metadata": {},
   "outputs": [],
   "source": [
    "ratio_dl_polyK_recover = compute_diff_ratio_one_traj(z_curr_ori, data_pred_dl_polyK_recover)"
   ]
  },
  {
   "cell_type": "markdown",
   "metadata": {},
   "source": [
    "# Average Prediction"
   ]
  },
  {
   "cell_type": "code",
   "execution_count": 90,
   "metadata": {},
   "outputs": [],
   "source": [
    "np.random.seed(111)\n",
    "n_test = 10\n",
    "seed_z_list = np.random.randint(1, 300, size=(n_test,))\n",
    "seed_param_list = np.random.randint(1, 300, size=(n_test,))\n",
    "\n",
    "n_traj_test = 1\n",
    "\n",
    "x_axis = x\n",
    "y_axis = np.arange(0, traj_len_test - 1, 1)"
   ]
  },
  {
   "cell_type": "code",
   "execution_count": 91,
   "metadata": {},
   "outputs": [],
   "source": [
    "ratio_pk_list = []\n",
    "ratio_rbf_list = []\n",
    "ratio_dl_polyK_list = []\n",
    "\n",
    "for seed_z, seed_param in zip(seed_z_list, seed_param_list):\n",
    "\n",
    "    data_true_normalized, data_pred_pk_normalized, z_curr_ori = recover_prediction(\n",
    "        target=fhn_pde,\n",
    "        scaler=scaler_z,\n",
    "        solver=solver_pk,\n",
    "        n_traj=n_traj_test,\n",
    "        traj_len=traj_len_test,\n",
    "        seed_z=seed_z,\n",
    "        seed_param=seed_param,\n",
    "    )\n",
    "\n",
    "    data_true_normalized, data_pred_rbf_normalized, z_curr_ori = recover_prediction(\n",
    "        target=fhn_pde,\n",
    "        scaler=scaler_z,\n",
    "        solver=solver_rbf,\n",
    "        n_traj=n_traj_test,\n",
    "        traj_len=traj_len_test,\n",
    "        seed_z=seed_z,\n",
    "        seed_param=seed_param,\n",
    "    )\n",
    "\n",
    "    data_true_normalized, data_pred_dl_polyK_normalized, z_curr_ori = recover_prediction(\n",
    "        target=fhn_pde,\n",
    "        scaler=scaler_z,\n",
    "        solver=solver_dl_polyK,\n",
    "        n_traj=n_traj_test,\n",
    "        traj_len=traj_len_test,\n",
    "        seed_z=seed_z,\n",
    "        seed_param=seed_param,\n",
    "    )\n",
    "\n",
    "    data_pred_pk_recover = scaler_z.inverse_transform(data_pred_pk_normalized)\n",
    "    data_pred_rbf_recover = scaler_z.inverse_transform(data_pred_rbf_normalized)\n",
    "    data_pred_dl_polyK_recover = scaler_z.inverse_transform(data_pred_dl_polyK_normalized)\n",
    "\n",
    "    ratio_pk_recover = compute_diff_ratio_one_traj(z_curr_ori, data_pred_pk_recover)\n",
    "    ratio_rbf_recover = compute_diff_ratio_one_traj(z_curr_ori, data_pred_rbf_recover)\n",
    "    ratio_dl_polyK_recover = compute_diff_ratio_one_traj(z_curr_ori, data_pred_dl_polyK_recover)\n",
    "\n",
    "    ratio_pk_list.append(ratio_pk_recover)\n",
    "    ratio_rbf_list.append(ratio_rbf_recover)\n",
    "    ratio_dl_polyK_list.append(ratio_dl_polyK_recover)\n",
    "\n",
    "ratio_pk_list = np.asarray(ratio_pk_list)\n",
    "ratio_rbf_list = np.asarray(ratio_rbf_list)\n",
    "ratio_dl_polyK_list = np.asarray(ratio_dl_polyK_list)\n",
    "\n",
    "\n",
    "mean_pk, std_pk, mean_plus_pk, mean_minus_pk = compute_stat_info(ratio_pk_list)\n",
    "mean_rbf, std_rbf, mean_plus_rbf, mean_minus_rbf = compute_stat_info(ratio_rbf_list)\n",
    "mean_dl_polyK, std_dl_polyK, mean_plus_dl_polyK, mean_minus_dl_polyK = compute_stat_info(\n",
    "    ratio_dl_polyK_list\n",
    ")"
   ]
  },
  {
   "cell_type": "code",
   "execution_count": 92,
   "metadata": {},
   "outputs": [
    {
     "data": {
      "text/plain": [
       "Text(0, 0.5, 'Error')"
      ]
     },
     "execution_count": 92,
     "metadata": {},
     "output_type": "execute_result"
    },
    {
     "data": {
      "image/png": "[encoded data removed]",
      "text/plain": [
       "<Figure size 432x288 with 1 Axes>"
      ]
     },
     "metadata": {
      "needs_background": "light"
     },
     "output_type": "display_data"
    }
   ],
   "source": [
    "label_font = 16\n",
    "ticks_font = 16\n",
    "legend_font = 16\n",
    "linewidth = 2\n",
    "\n",
    "t_axis = np.arange(0, traj_len_test - 1, 1)\n",
    "\n",
    "plt.plot(mean_rbf, label=\"M4-RBF\", color=\"darkorange\", linewidth=linewidth)\n",
    "plt.fill_between(t_axis, mean_minus_rbf, mean_plus_rbf, color=\"navajowhite\", alpha=0.5)\n",
    "\n",
    "plt.plot(mean_dl_polyK, label=\"M4-NN\", color=\"forestgreen\", linewidth=linewidth)\n",
    "plt.fill_between(t_axis, mean_minus_dl_polyK, mean_plus_dl_polyK, color=\"darkseagreen\", alpha=0.5)\n",
    "\n",
    "plt.plot(mean_pk, label=\"Ours\", color=\"steelblue\", linewidth=linewidth)\n",
    "plt.fill_between(t_axis, mean_minus_pk, mean_plus_pk, color=\"lightsteelblue\", alpha=0.5)\n",
    "\n",
    "plt.xticks(fontsize=18)\n",
    "plt.yticks(fontsize=18)\n",
    "\n",
    "plt.xlabel(r\"$n$\", fontsize=28)\n",
    "plt.ylabel(\"Error\", fontsize=28)\n",
    "\n",
    "# plt.yscale('log')\n",
    "# plt.legend(fontsize=14)\n",
    "# plt.savefig(os.path.join(figures_path, 'fhn_error_Nx10.png'), dpi=200, bbox_inches='tight')\n",
    "# plt.savefig(os.path.join(figures_path, 'fhn_error_Nx10.pdf'), dpi=200, bbox_inches='tight')\n"
   ]
  },
  {
   "cell_type": "code",
   "execution_count": 47,
   "metadata": {},
   "outputs": [],
   "source": [
    "dict_error = {\"pk\": ratio_pk_list, \"rbf\": ratio_rbf_list, \"dl\": ratio_dl_polyK_list}"
   ]
  },
  {
   "cell_type": "code",
   "execution_count": 48,
   "metadata": {},
   "outputs": [],
   "source": [
    "np.save(os.path.join(data_path, 'error_dict.npy'), dict_error)"
   ]
  },
  {
   "cell_type": "code",
   "execution_count": 49,
   "metadata": {},
   "outputs": [
    {
     "data": {
      "text/plain": [
       "(499, 20)"
      ]
     },
     "execution_count": 49,
     "metadata": {},
     "output_type": "execute_result"
    }
   ],
   "source": [
    "data_pred_pk_recover.shape\n",
    "# data_pred_rbf_recover\n",
    "# data_pred_dl_polyK_recover "
   ]
  },
  {
   "cell_type": "code",
   "execution_count": 52,
   "metadata": {},
   "outputs": [
    {
     "data": {
      "text/plain": [
       "array([-10.        ,  -7.77777778,  -5.55555556,  -3.33333333,\n",
       "        -1.11111111,   1.11111111,   3.33333333,   5.55555556,\n",
       "         7.77777778,  10.        ])"
      ]
     },
     "execution_count": 52,
     "metadata": {},
     "output_type": "execute_result"
    }
   ],
   "source": [
    "x_axis"
   ]
  },
  {
   "cell_type": "code",
   "execution_count": 77,
   "metadata": {},
   "outputs": [
    {
     "name": "stderr",
     "output_type": "stream",
     "text": [
      "/home/guoyue/Learning-Parametric-Koopman-Decompositions/src/koopmanlib/functions.py:67: UserWarning: This figure includes Axes that are not compatible with tight_layout, so results might be incorrect.\n",
      "  plt.tight_layout()\n"
     ]
    },
    {
     "data": {
      "image/png": "[encoded data removed]",
      "text/plain": [
       "<Figure size 1728x576 with 10 Axes>"
      ]
     },
     "metadata": {
      "needs_background": "light"
     },
     "output_type": "display_data"
    }
   ],
   "source": [
    "data_list = [z_curr_ori, data_pred_pk_recover, data_pred_rbf_recover, data_pred_dl_polyK_recover]\n",
    "data_label_list = ['True', 'Ours','M4-RBF', 'M4-NN' ]\n",
    "# with plt.rc_context({'xtick.labelsize': 20, 'ytick.labelsize': 20, 'axes.labelsize': 20}):\n",
    "plot_pde_comparison(x_axis,\n",
    "                    y_axis,\n",
    "                    data_list,\n",
    "                    data_label_list, \n",
    "                    Nx, \n",
    "                    figsize=(24,8),\n",
    "                    cbar_ax = ([1.01, 0.60, 0.01, 0.35], [1.01, 0.10, 0.01, 0.35]),\n",
    "                    fontsize=25)\n",
    "\n",
    "plt.savefig(os.path.join(figures_path, 'traj_fhn_error_Nx10.png'), dpi=200, bbox_inches='tight')\n",
    "plt.savefig(os.path.join(figures_path, 'traj_fhn_error_Nx10.pdf'), dpi=200, bbox_inches='tight')\n"
   ]
  },
  {
   "cell_type": "code",
   "execution_count": 78,
   "metadata": {},
   "outputs": [
    {
     "name": "stderr",
     "output_type": "stream",
     "text": [
      "/home/guoyue/Learning-Parametric-Koopman-Decompositions/src/koopmanlib/functions.py:67: UserWarning: This figure includes Axes that are not compatible with tight_layout, so results might be incorrect.\n",
      "  plt.tight_layout()\n"
     ]
    },
    {
     "data": {
      "image/png": "[encoded data removed]",
      "text/plain": [
       "<Figure size 1152x576 with 8 Axes>"
      ]
     },
     "metadata": {
      "needs_background": "light"
     },
     "output_type": "display_data"
    }
   ],
   "source": [
    "data_diff_list = [data_list[1]-data_list[0], data_list[2]-data_list[0], data_list[3]-data_list[0]]\n",
    "data_diff_label_list = data_label_list[1:]\n",
    "\n",
    "plot_pde_comparison(x_axis,\n",
    "                    y_axis,\n",
    "                    data_diff_list, \n",
    "                    data_diff_label_list, \n",
    "                    Nx,\n",
    "                    figsize=(16,8),\n",
    "                    cbar_ax = ([1.01, 0.60, 0.01, 0.35], [1.01, 0.10, 0.01, 0.35]),\n",
    "                    fontsize=22)\n",
    "\n",
    "plt.savefig(os.path.join(figures_path, 'diff_traj_fhn_error_Nx10.png'), dpi=200, bbox_inches='tight')\n",
    "plt.savefig(os.path.join(figures_path, 'diff_traj_fhn_error_Nx10.pdf'), dpi=200, bbox_inches='tight')\n"
   ]
  },
  {
   "cell_type": "code",
   "execution_count": null,
   "metadata": {},
   "outputs": [],
   "source": []
  },
  {
   "cell_type": "code",
   "execution_count": null,
   "metadata": {},
   "outputs": [],
   "source": []
  },
  {
   "cell_type": "code",
   "execution_count": null,
   "metadata": {},
   "outputs": [],
   "source": []
  },
  {
   "cell_type": "code",
   "execution_count": null,
   "metadata": {},
   "outputs": [],
   "source": []
  },
  {
   "cell_type": "markdown",
   "metadata": {},
   "source": [
    "# Test polynomial"
   ]
  },
  {
   "cell_type": "code",
   "execution_count": 127,
   "metadata": {},
   "outputs": [],
   "source": [
    "import tensorflow as tf\n",
    "import numpy as np\n",
    "import matplotlib.pyplot as plt\n",
    "\n",
    "# Generate Data\n",
    "x = data_u  # 400 data points between -2 and 2\n",
    "y = np.hstack([x, x**2, x**3])  # Corresponding [x, x^2, x^3] values\n",
    "\n",
    "\n",
    "# Define the Neural Network\n",
    "model = tf.keras.Sequential([\n",
    "    tf.keras.layers.Dense(4, activation='tanh', input_shape=(1,)),\n",
    "    tf.keras.layers.Dense(4, activation='tanh'),\n",
    "    tf.keras.layers.Dense(3)  # Output layer for [x, x^2, x^3]\n",
    "])\n",
    "\n",
    "# Compile the Model\n",
    "model.compile(optimizer='adam', loss='mse')\n",
    "\n"
   ]
  },
  {
   "cell_type": "code",
   "execution_count": 128,
   "metadata": {},
   "outputs": [
    {
     "name": "stdout",
     "output_type": "stream",
     "text": [
      "Epoch 1/100\n",
      "1560/1560 [==============================] - 2s 1ms/step - loss: 0.0605\n",
      "Epoch 2/100\n",
      "1560/1560 [==============================] - 2s 1ms/step - loss: 0.0053\n",
      "Epoch 3/100\n",
      "1560/1560 [==============================] - 2s 1ms/step - loss: 5.8009e-04\n",
      "Epoch 4/100\n",
      "1560/1560 [==============================] - 2s 1ms/step - loss: 1.5093e-04\n",
      "Epoch 5/100\n",
      "1560/1560 [==============================] - 2s 1ms/step - loss: 4.5567e-05\n",
      "Epoch 6/100\n",
      "1560/1560 [==============================] - 2s 1ms/step - loss: 2.5910e-05\n",
      "Epoch 7/100\n",
      "1560/1560 [==============================] - 2s 1ms/step - loss: 2.2362e-05\n",
      "Epoch 8/100\n",
      "1560/1560 [==============================] - 2s 1ms/step - loss: 2.0058e-05\n",
      "Epoch 9/100\n",
      "1560/1560 [==============================] - 2s 1ms/step - loss: 1.8723e-05\n",
      "Epoch 10/100\n",
      "1560/1560 [==============================] - 2s 1ms/step - loss: 1.7333e-05\n",
      "Epoch 11/100\n",
      "1560/1560 [==============================] - 2s 1ms/step - loss: 1.6318e-05\n",
      "Epoch 12/100\n",
      "1560/1560 [==============================] - 2s 1ms/step - loss: 1.5324e-05\n",
      "Epoch 13/100\n",
      "1560/1560 [==============================] - 2s 1ms/step - loss: 1.4580e-05\n",
      "Epoch 14/100\n",
      "1560/1560 [==============================] - 2s 1ms/step - loss: 1.3621e-05\n",
      "Epoch 15/100\n",
      "1560/1560 [==============================] - 2s 1ms/step - loss: 1.3280e-05\n",
      "Epoch 16/100\n",
      "1560/1560 [==============================] - 2s 1ms/step - loss: 1.2584e-05\n",
      "Epoch 17/100\n",
      "1560/1560 [==============================] - 2s 1ms/step - loss: 1.2032e-05\n",
      "Epoch 18/100\n",
      "1560/1560 [==============================] - 2s 1ms/step - loss: 1.1412e-05\n",
      "Epoch 19/100\n",
      "1560/1560 [==============================] - 2s 1ms/step - loss: 1.0923e-05\n",
      "Epoch 20/100\n",
      "1560/1560 [==============================] - 2s 1ms/step - loss: 1.0826e-05\n",
      "Epoch 21/100\n",
      "1560/1560 [==============================] - 2s 1ms/step - loss: 1.0437e-05\n",
      "Epoch 22/100\n",
      "1560/1560 [==============================] - 2s 1ms/step - loss: 9.8765e-06\n",
      "Epoch 23/100\n",
      "1560/1560 [==============================] - 2s 1ms/step - loss: 9.8291e-06\n",
      "Epoch 24/100\n",
      "1560/1560 [==============================] - 2s 1ms/step - loss: 9.6077e-06\n",
      "Epoch 25/100\n",
      "1560/1560 [==============================] - 2s 2ms/step - loss: 9.1534e-06\n",
      "Epoch 26/100\n",
      "1560/1560 [==============================] - 2s 1ms/step - loss: 8.9275e-06\n",
      "Epoch 27/100\n",
      "1560/1560 [==============================] - 2s 1ms/step - loss: 8.7736e-06\n",
      "Epoch 28/100\n",
      "1560/1560 [==============================] - 2s 1ms/step - loss: 8.3289e-06\n",
      "Epoch 29/100\n",
      "1560/1560 [==============================] - 2s 1ms/step - loss: 8.1850e-06\n",
      "Epoch 30/100\n",
      "1560/1560 [==============================] - 2s 1ms/step - loss: 8.1179e-06\n",
      "Epoch 31/100\n",
      "1560/1560 [==============================] - 2s 1ms/step - loss: 7.9160e-06\n",
      "Epoch 32/100\n",
      "1560/1560 [==============================] - 2s 1ms/step - loss: 7.4285e-06\n",
      "Epoch 33/100\n",
      "1560/1560 [==============================] - 2s 1ms/step - loss: 7.5681e-06\n",
      "Epoch 34/100\n",
      "1560/1560 [==============================] - 2s 1ms/step - loss: 7.5567e-06\n",
      "Epoch 35/100\n",
      "1560/1560 [==============================] - 2s 1ms/step - loss: 7.1694e-06\n",
      "Epoch 36/100\n",
      "1560/1560 [==============================] - 2s 1ms/step - loss: 7.0810e-06\n",
      "Epoch 37/100\n",
      "1560/1560 [==============================] - 2s 1ms/step - loss: 6.7829e-06\n",
      "Epoch 38/100\n",
      "1560/1560 [==============================] - 2s 1ms/step - loss: 6.7173e-06\n",
      "Epoch 39/100\n",
      "1560/1560 [==============================] - 2s 1ms/step - loss: 6.6932e-06\n",
      "Epoch 40/100\n",
      "1560/1560 [==============================] - 2s 1ms/step - loss: 6.4463e-06\n",
      "Epoch 41/100\n",
      "1560/1560 [==============================] - 2s 1ms/step - loss: 6.3512e-06\n",
      "Epoch 42/100\n",
      "1560/1560 [==============================] - 2s 1ms/step - loss: 6.2592e-06\n",
      "Epoch 43/100\n",
      "1560/1560 [==============================] - 2s 1ms/step - loss: 6.1655e-06\n",
      "Epoch 44/100\n",
      "1560/1560 [==============================] - 2s 1ms/step - loss: 6.1527e-06\n",
      "Epoch 45/100\n",
      "1560/1560 [==============================] - 2s 1ms/step - loss: 5.9242e-06\n",
      "Epoch 46/100\n",
      "1560/1560 [==============================] - 2s 2ms/step - loss: 5.7676e-06\n",
      "Epoch 47/100\n",
      "1560/1560 [==============================] - 2s 1ms/step - loss: 5.9025e-06\n",
      "Epoch 48/100\n",
      "1560/1560 [==============================] - 2s 1ms/step - loss: 5.6515e-06\n",
      "Epoch 49/100\n",
      "1560/1560 [==============================] - 2s 1ms/step - loss: 5.6481e-06\n",
      "Epoch 50/100\n",
      "1560/1560 [==============================] - 2s 1ms/step - loss: 5.4250e-06\n",
      "Epoch 51/100\n",
      "1560/1560 [==============================] - 2s 1ms/step - loss: 5.4561e-06\n",
      "Epoch 52/100\n",
      "1560/1560 [==============================] - 2s 1ms/step - loss: 5.3819e-06\n",
      "Epoch 53/100\n",
      "1560/1560 [==============================] - 2s 1ms/step - loss: 5.4028e-06\n",
      "Epoch 54/100\n",
      "1560/1560 [==============================] - 2s 1ms/step - loss: 5.4066e-06\n",
      "Epoch 55/100\n",
      "1560/1560 [==============================] - 2s 1ms/step - loss: 5.2526e-06\n",
      "Epoch 56/100\n",
      "1560/1560 [==============================] - 2s 1ms/step - loss: 5.0151e-06\n",
      "Epoch 57/100\n",
      "1560/1560 [==============================] - 2s 2ms/step - loss: 5.2411e-06\n",
      "Epoch 58/100\n",
      "1560/1560 [==============================] - 2s 1ms/step - loss: 4.9457e-06\n",
      "Epoch 59/100\n",
      "1560/1560 [==============================] - 2s 1ms/step - loss: 4.8917e-06\n",
      "Epoch 60/100\n",
      "1560/1560 [==============================] - 2s 1ms/step - loss: 4.8850e-06\n",
      "Epoch 61/100\n",
      "1560/1560 [==============================] - 2s 1ms/step - loss: 4.8848e-06\n",
      "Epoch 62/100\n",
      "1560/1560 [==============================] - 2s 1ms/step - loss: 4.6273e-06\n",
      "Epoch 63/100\n",
      "1560/1560 [==============================] - 2s 1ms/step - loss: 4.6952e-06\n",
      "Epoch 64/100\n",
      "1560/1560 [==============================] - 2s 1ms/step - loss: 4.6162e-06\n",
      "Epoch 65/100\n",
      "1560/1560 [==============================] - 2s 1ms/step - loss: 4.5661e-06\n",
      "Epoch 66/100\n",
      "1560/1560 [==============================] - 2s 1ms/step - loss: 4.5664e-06\n",
      "Epoch 67/100\n",
      "1560/1560 [==============================] - 2s 1ms/step - loss: 4.4568e-06\n",
      "Epoch 68/100\n",
      "1560/1560 [==============================] - 2s 1ms/step - loss: 4.4854e-06\n",
      "Epoch 69/100\n",
      "1560/1560 [==============================] - 2s 1ms/step - loss: 4.3752e-06\n",
      "Epoch 70/100\n",
      "1560/1560 [==============================] - 2s 1ms/step - loss: 4.3038e-06\n",
      "Epoch 71/100\n",
      "1560/1560 [==============================] - 2s 1ms/step - loss: 4.3364e-06\n",
      "Epoch 72/100\n",
      "1560/1560 [==============================] - 2s 1ms/step - loss: 4.1811e-06\n",
      "Epoch 73/100\n",
      "1560/1560 [==============================] - 2s 1ms/step - loss: 4.2380e-06\n",
      "Epoch 74/100\n",
      "1560/1560 [==============================] - 2s 1ms/step - loss: 4.2204e-06\n",
      "Epoch 75/100\n",
      "1560/1560 [==============================] - 2s 1ms/step - loss: 4.1172e-06\n",
      "Epoch 76/100\n",
      "1560/1560 [==============================] - 2s 1ms/step - loss: 4.1259e-06\n",
      "Epoch 77/100\n",
      "1560/1560 [==============================] - 2s 1ms/step - loss: 4.0208e-06\n",
      "Epoch 78/100\n",
      "1560/1560 [==============================] - 2s 1ms/step - loss: 4.0494e-06\n",
      "Epoch 79/100\n",
      "1560/1560 [==============================] - 2s 1ms/step - loss: 4.0397e-06\n",
      "Epoch 80/100\n",
      "1560/1560 [==============================] - 2s 1ms/step - loss: 3.9155e-06\n",
      "Epoch 81/100\n",
      "1560/1560 [==============================] - 2s 1ms/step - loss: 3.8695e-06\n",
      "Epoch 82/100\n",
      "1560/1560 [==============================] - 2s 1ms/step - loss: 3.9417e-06\n",
      "Epoch 83/100\n",
      "1560/1560 [==============================] - 2s 1ms/step - loss: 3.9231e-06\n",
      "Epoch 84/100\n",
      "1560/1560 [==============================] - 2s 2ms/step - loss: 3.8517e-06\n",
      "Epoch 85/100\n",
      "1560/1560 [==============================] - 2s 1ms/step - loss: 3.8542e-06\n",
      "Epoch 86/100\n",
      "1560/1560 [==============================] - 2s 1ms/step - loss: 3.7126e-06\n",
      "Epoch 87/100\n",
      "1560/1560 [==============================] - 2s 1ms/step - loss: 3.6676e-06\n",
      "Epoch 88/100\n",
      "1560/1560 [==============================] - 2s 1ms/step - loss: 3.8694e-06\n",
      "Epoch 89/100\n",
      "1560/1560 [==============================] - 2s 1ms/step - loss: 3.7616e-06\n",
      "Epoch 90/100\n",
      "1560/1560 [==============================] - 2s 2ms/step - loss: 3.6415e-06\n",
      "Epoch 91/100\n",
      "1560/1560 [==============================] - 2s 1ms/step - loss: 3.5633e-06\n",
      "Epoch 92/100\n",
      "1560/1560 [==============================] - 2s 1ms/step - loss: 3.6170e-06\n",
      "Epoch 93/100\n",
      "1560/1560 [==============================] - 2s 1ms/step - loss: 3.5936e-06\n",
      "Epoch 94/100\n",
      "1560/1560 [==============================] - 2s 1ms/step - loss: 3.6985e-06\n",
      "Epoch 95/100\n",
      "1560/1560 [==============================] - 2s 1ms/step - loss: 3.5806e-06\n",
      "Epoch 96/100\n",
      "1560/1560 [==============================] - 2s 2ms/step - loss: 3.5792e-06\n",
      "Epoch 97/100\n",
      "1560/1560 [==============================] - 2s 2ms/step - loss: 3.4941e-06\n",
      "Epoch 98/100\n",
      "1560/1560 [==============================] - 2s 1ms/step - loss: 3.4254e-06\n",
      "Epoch 99/100\n",
      "1560/1560 [==============================] - 2s 1ms/step - loss: 3.3680e-06\n",
      "Epoch 100/100\n",
      "1560/1560 [==============================] - 2s 1ms/step - loss: 3.4822e-06\n"
     ]
    }
   ],
   "source": [
    "\n",
    "# Train the Model\n",
    "history = model.fit(x, y, epochs=100, verbose=1)\n"
   ]
  },
  {
   "cell_type": "code",
   "execution_count": 94,
   "metadata": {},
   "outputs": [],
   "source": [
    "# data_u_test = np.random.uniform(low=0, high=1, size=(n_traj, traj_len, param_dim))* (1+1) - 1\n",
    "data_u_test = np.linspace(-1,1,100)\n",
    "data_u_test = data_u_test.reshape(-1,1)"
   ]
  },
  {
   "cell_type": "code",
   "execution_count": 129,
   "metadata": {},
   "outputs": [
    {
     "name": "stdout",
     "output_type": "stream",
     "text": [
      "4/4 [==============================] - 0s 2ms/step\n"
     ]
    }
   ],
   "source": [
    "\n",
    "\n",
    "# Evaluate the Model\n",
    "preds = model.predict(data_u_test)\n",
    "\n",
    "y_test = np.hstack([data_u_test, data_u_test**2, data_u_test**3])\n"
   ]
  },
  {
   "cell_type": "code",
   "execution_count": 132,
   "metadata": {},
   "outputs": [
    {
     "name": "stdout",
     "output_type": "stream",
     "text": [
      "Epoch 1/100\n",
      "1560/1560 [==============================] - 3s 2ms/step - loss: 0.0200\n",
      "Epoch 2/100\n",
      "1560/1560 [==============================] - 3s 2ms/step - loss: 5.9556e-04\n",
      "Epoch 3/100\n",
      "1560/1560 [==============================] - 3s 2ms/step - loss: 1.6240e-04\n",
      "Epoch 4/100\n",
      "1560/1560 [==============================] - 3s 2ms/step - loss: 1.0722e-04\n",
      "Epoch 5/100\n",
      "1560/1560 [==============================] - 3s 2ms/step - loss: 7.5987e-05\n",
      "Epoch 6/100\n",
      "1560/1560 [==============================] - 3s 2ms/step - loss: 5.3929e-05\n",
      "Epoch 7/100\n",
      "1560/1560 [==============================] - 3s 2ms/step - loss: 4.1645e-05\n",
      "Epoch 8/100\n",
      "1560/1560 [==============================] - 3s 2ms/step - loss: 3.4934e-05\n",
      "Epoch 9/100\n",
      "1560/1560 [==============================] - 3s 2ms/step - loss: 3.0125e-05\n",
      "Epoch 10/100\n",
      "1560/1560 [==============================] - 3s 2ms/step - loss: 2.9394e-05\n",
      "Epoch 11/100\n",
      "1560/1560 [==============================] - 3s 2ms/step - loss: 2.3081e-05\n",
      "Epoch 12/100\n",
      "1560/1560 [==============================] - 3s 2ms/step - loss: 2.3042e-05\n",
      "Epoch 13/100\n",
      "1560/1560 [==============================] - 3s 2ms/step - loss: 1.7102e-05\n",
      "Epoch 14/100\n",
      "1560/1560 [==============================] - 3s 2ms/step - loss: 1.8356e-05\n",
      "Epoch 15/100\n",
      "1560/1560 [==============================] - 3s 2ms/step - loss: 1.5861e-05\n",
      "Epoch 16/100\n",
      "1560/1560 [==============================] - 3s 2ms/step - loss: 1.5505e-05\n",
      "Epoch 17/100\n",
      "1560/1560 [==============================] - 3s 2ms/step - loss: 1.3981e-05\n",
      "Epoch 18/100\n",
      "1560/1560 [==============================] - 3s 2ms/step - loss: 1.5397e-05\n",
      "Epoch 19/100\n",
      "1560/1560 [==============================] - 3s 2ms/step - loss: 1.3484e-05\n",
      "Epoch 20/100\n",
      "1560/1560 [==============================] - 3s 2ms/step - loss: 1.1500e-05\n",
      "Epoch 21/100\n",
      "1560/1560 [==============================] - 3s 2ms/step - loss: 1.1046e-05\n",
      "Epoch 22/100\n",
      "1560/1560 [==============================] - 3s 2ms/step - loss: 1.4769e-05\n",
      "Epoch 23/100\n",
      "1560/1560 [==============================] - 3s 2ms/step - loss: 1.0427e-05\n",
      "Epoch 24/100\n",
      "1560/1560 [==============================] - 3s 2ms/step - loss: 9.8129e-06\n",
      "Epoch 25/100\n",
      "1560/1560 [==============================] - 3s 2ms/step - loss: 1.2214e-05\n",
      "Epoch 26/100\n",
      "1560/1560 [==============================] - 3s 2ms/step - loss: 7.0234e-06\n",
      "Epoch 27/100\n",
      "1560/1560 [==============================] - 3s 2ms/step - loss: 1.2118e-05\n",
      "Epoch 28/100\n",
      "1560/1560 [==============================] - 3s 2ms/step - loss: 9.8892e-06\n",
      "Epoch 29/100\n",
      "1560/1560 [==============================] - 3s 2ms/step - loss: 9.6310e-06\n",
      "Epoch 30/100\n",
      "1560/1560 [==============================] - 3s 2ms/step - loss: 1.0555e-05\n",
      "Epoch 31/100\n",
      "1560/1560 [==============================] - 3s 2ms/step - loss: 9.6712e-06\n",
      "Epoch 32/100\n",
      "1560/1560 [==============================] - 2s 2ms/step - loss: 9.1423e-06\n",
      "Epoch 33/100\n",
      "1560/1560 [==============================] - 2s 2ms/step - loss: 9.6971e-06\n",
      "Epoch 34/100\n",
      "1560/1560 [==============================] - 2s 2ms/step - loss: 7.5004e-06\n",
      "Epoch 35/100\n",
      "1560/1560 [==============================] - 3s 2ms/step - loss: 9.0948e-06\n",
      "Epoch 36/100\n",
      "1560/1560 [==============================] - 3s 2ms/step - loss: 7.0359e-06\n",
      "Epoch 37/100\n",
      "1560/1560 [==============================] - 3s 2ms/step - loss: 9.6554e-06\n",
      "Epoch 38/100\n",
      "1560/1560 [==============================] - 3s 2ms/step - loss: 9.9188e-06\n",
      "Epoch 39/100\n",
      "1560/1560 [==============================] - 3s 2ms/step - loss: 8.4731e-06\n",
      "Epoch 40/100\n",
      "1560/1560 [==============================] - 3s 2ms/step - loss: 8.3395e-06\n",
      "Epoch 41/100\n",
      "1560/1560 [==============================] - 3s 2ms/step - loss: 9.9627e-06\n",
      "Epoch 42/100\n",
      "1560/1560 [==============================] - 3s 2ms/step - loss: 8.3338e-06\n",
      "Epoch 43/100\n",
      "1560/1560 [==============================] - 3s 2ms/step - loss: 7.0088e-06\n",
      "Epoch 44/100\n",
      "1560/1560 [==============================] - 3s 2ms/step - loss: 8.5441e-06\n",
      "Epoch 45/100\n",
      "1560/1560 [==============================] - 3s 2ms/step - loss: 7.4778e-06\n",
      "Epoch 46/100\n",
      "1560/1560 [==============================] - 3s 2ms/step - loss: 6.5852e-06\n",
      "Epoch 47/100\n",
      "1560/1560 [==============================] - 3s 2ms/step - loss: 7.7071e-06\n",
      "Epoch 48/100\n",
      "1560/1560 [==============================] - 3s 2ms/step - loss: 8.9049e-06\n",
      "Epoch 49/100\n",
      "1560/1560 [==============================] - 3s 2ms/step - loss: 8.0707e-06\n",
      "Epoch 50/100\n",
      "1560/1560 [==============================] - 3s 2ms/step - loss: 7.1018e-06\n",
      "Epoch 51/100\n",
      "1560/1560 [==============================] - 3s 2ms/step - loss: 7.2031e-06\n",
      "Epoch 52/100\n",
      "1560/1560 [==============================] - 3s 2ms/step - loss: 6.6314e-06\n",
      "Epoch 53/100\n",
      "1560/1560 [==============================] - 3s 2ms/step - loss: 7.4944e-06\n",
      "Epoch 54/100\n",
      "1560/1560 [==============================] - 3s 2ms/step - loss: 6.8651e-06\n",
      "Epoch 55/100\n",
      "1560/1560 [==============================] - 3s 2ms/step - loss: 6.0394e-06\n",
      "Epoch 56/100\n",
      "1560/1560 [==============================] - 3s 2ms/step - loss: 7.3045e-06\n",
      "Epoch 57/100\n",
      "1560/1560 [==============================] - 3s 2ms/step - loss: 5.7111e-06\n",
      "Epoch 58/100\n",
      "1560/1560 [==============================] - 3s 2ms/step - loss: 7.1246e-06\n",
      "Epoch 59/100\n",
      "1560/1560 [==============================] - 3s 2ms/step - loss: 5.6563e-06\n",
      "Epoch 60/100\n",
      "1560/1560 [==============================] - 3s 2ms/step - loss: 6.9382e-06\n",
      "Epoch 61/100\n",
      "1560/1560 [==============================] - 3s 2ms/step - loss: 7.2270e-06\n",
      "Epoch 62/100\n",
      "1560/1560 [==============================] - 3s 2ms/step - loss: 8.3708e-06\n",
      "Epoch 63/100\n",
      "1560/1560 [==============================] - 3s 2ms/step - loss: 4.9836e-06\n",
      "Epoch 64/100\n",
      "1560/1560 [==============================] - 3s 2ms/step - loss: 8.8720e-06\n",
      "Epoch 65/100\n",
      "1560/1560 [==============================] - 3s 2ms/step - loss: 5.3874e-06\n",
      "Epoch 66/100\n",
      "1560/1560 [==============================] - 3s 2ms/step - loss: 7.3274e-06\n",
      "Epoch 67/100\n",
      "1560/1560 [==============================] - 3s 2ms/step - loss: 5.5351e-06\n",
      "Epoch 68/100\n",
      "1560/1560 [==============================] - 3s 2ms/step - loss: 6.1938e-06\n",
      "Epoch 69/100\n",
      "1560/1560 [==============================] - 3s 2ms/step - loss: 6.2259e-06\n",
      "Epoch 70/100\n",
      "1560/1560 [==============================] - 3s 2ms/step - loss: 5.6590e-06\n",
      "Epoch 71/100\n",
      "1560/1560 [==============================] - 3s 2ms/step - loss: 6.7326e-06\n",
      "Epoch 72/100\n",
      "1560/1560 [==============================] - 3s 2ms/step - loss: 5.6651e-06\n",
      "Epoch 73/100\n",
      "1560/1560 [==============================] - 3s 2ms/step - loss: 5.7635e-06\n",
      "Epoch 74/100\n",
      "1560/1560 [==============================] - 3s 2ms/step - loss: 7.3958e-06\n",
      "Epoch 75/100\n",
      "1560/1560 [==============================] - 3s 2ms/step - loss: 5.5665e-06\n",
      "Epoch 76/100\n",
      "1560/1560 [==============================] - 3s 2ms/step - loss: 5.4104e-06\n",
      "Epoch 77/100\n",
      "1560/1560 [==============================] - 3s 2ms/step - loss: 5.3842e-06\n",
      "Epoch 78/100\n",
      "1560/1560 [==============================] - 3s 2ms/step - loss: 6.4223e-06\n",
      "Epoch 79/100\n",
      "1560/1560 [==============================] - 3s 2ms/step - loss: 7.6697e-06\n",
      "Epoch 80/100\n",
      "1560/1560 [==============================] - 3s 2ms/step - loss: 5.0041e-06\n",
      "Epoch 81/100\n",
      "1560/1560 [==============================] - 3s 2ms/step - loss: 5.0905e-06\n",
      "Epoch 82/100\n",
      "1560/1560 [==============================] - 3s 2ms/step - loss: 6.6323e-06\n",
      "Epoch 83/100\n",
      "1560/1560 [==============================] - 3s 2ms/step - loss: 4.3874e-06\n",
      "Epoch 84/100\n",
      "1560/1560 [==============================] - 3s 2ms/step - loss: 6.1637e-06\n",
      "Epoch 85/100\n",
      "1560/1560 [==============================] - 3s 2ms/step - loss: 5.2849e-06\n",
      "Epoch 86/100\n",
      "1560/1560 [==============================] - 3s 2ms/step - loss: 5.8337e-06\n",
      "Epoch 87/100\n",
      "1560/1560 [==============================] - 3s 2ms/step - loss: 4.4944e-06\n",
      "Epoch 88/100\n",
      "1560/1560 [==============================] - 3s 2ms/step - loss: 5.9205e-06\n",
      "Epoch 89/100\n",
      "1560/1560 [==============================] - 3s 2ms/step - loss: 6.0588e-06\n",
      "Epoch 90/100\n",
      "1560/1560 [==============================] - 3s 2ms/step - loss: 3.7923e-06\n",
      "Epoch 91/100\n",
      "1560/1560 [==============================] - 3s 2ms/step - loss: 7.6842e-06\n",
      "Epoch 92/100\n",
      "1560/1560 [==============================] - 3s 2ms/step - loss: 5.6251e-06\n",
      "Epoch 93/100\n",
      "1560/1560 [==============================] - 3s 2ms/step - loss: 4.7411e-06\n",
      "Epoch 94/100\n",
      "1560/1560 [==============================] - 3s 2ms/step - loss: 5.1657e-06\n",
      "Epoch 95/100\n",
      "1560/1560 [==============================] - 3s 2ms/step - loss: 7.7265e-06\n",
      "Epoch 96/100\n",
      "1560/1560 [==============================] - 3s 2ms/step - loss: 4.5090e-06\n",
      "Epoch 97/100\n",
      "1560/1560 [==============================] - 3s 2ms/step - loss: 5.2520e-06\n",
      "Epoch 98/100\n",
      "1560/1560 [==============================] - 3s 2ms/step - loss: 4.9275e-06\n",
      "Epoch 99/100\n",
      "1560/1560 [==============================] - 3s 2ms/step - loss: 5.0342e-06\n",
      "Epoch 100/100\n",
      "1560/1560 [==============================] - 3s 2ms/step - loss: 5.8375e-06\n"
     ]
    }
   ],
   "source": [
    "\n",
    "# Define the Neural Network\n",
    "model_64 = tf.keras.Sequential([\n",
    "    tf.keras.layers.Dense(64, activation='tanh', input_shape=(1,)),\n",
    "    tf.keras.layers.Dense(64, activation='tanh'),\n",
    "    tf.keras.layers.Dense(3)  # Output layer for [x, x^2, x^3]\n",
    "])\n",
    "\n",
    "# Compile the Model\n",
    "model_64.compile(optimizer='adam', loss='mse')\n",
    "\n",
    "# Train the Model\n",
    "history_64 = model_64.fit(x, y, epochs=100, verbose=1)\n",
    "\n"
   ]
  },
  {
   "cell_type": "code",
   "execution_count": 133,
   "metadata": {},
   "outputs": [
    {
     "name": "stdout",
     "output_type": "stream",
     "text": [
      "4/4 [==============================] - 0s 1ms/step\n"
     ]
    }
   ],
   "source": [
    "# Evaluate the Model\n",
    "preds_64 = model_64.predict(data_u_test)"
   ]
  },
  {
   "cell_type": "code",
   "execution_count": 134,
   "metadata": {},
   "outputs": [
    {
     "data": {
      "image/png": "[encoded data removed]",
      "text/plain": [
       "<Figure size 864x288 with 3 Axes>"
      ]
     },
     "metadata": {
      "needs_background": "light"
     },
     "output_type": "display_data"
    }
   ],
   "source": [
    "with matplotlib.rc_context({'font.size': 15}):\n",
    "\n",
    "    # Plotting the results\n",
    "    plt.figure(figsize=(12, 4))\n",
    "    for i, title in enumerate(['x', '$x^2$', '$x^3$']):\n",
    "        plt.subplot(1, 3, i + 1)\n",
    "        plt.plot(data_u_test, preds[:, i], label=\"[4,4]\")\n",
    "        plt.plot(data_u_test, preds_64[:, i], label='[64,64]')\n",
    "        plt.plot(data_u_test, y_test[:, i], label='True')\n",
    "        plt.xlabel('$u$')\n",
    "        plt.title(title)\n",
    "        plt.legend()\n",
    "    plt.show()\n",
    "\n"
   ]
  },
  {
   "cell_type": "code",
   "execution_count": 135,
   "metadata": {},
   "outputs": [
    {
     "data": {
      "image/png": "[encoded data removed]",
      "text/plain": [
       "<Figure size 432x288 with 1 Axes>"
      ]
     },
     "metadata": {
      "needs_background": "light"
     },
     "output_type": "display_data"
    }
   ],
   "source": [
    "with matplotlib.rc_context({'font.size': 15}):\n",
    "    plt.plot(history.history['loss'], label=\"[4,4]\")\n",
    "    plt.plot(history_64.history['loss'], label=\"[64,64]\")\n",
    "    plt.xlabel('Epochs')\n",
    "    plt.ylabel('Training Loss')\n",
    "    plt.yscale('log')\n",
    "\n",
    "    plt.legend()"
   ]
  },
  {
   "cell_type": "code",
   "execution_count": null,
   "metadata": {},
   "outputs": [],
   "source": []
  }
 ],
 "metadata": {
  "kernelspec": {
   "display_name": "koopman",
   "language": "python",
   "name": "python3"
  },
  "language_info": {
   "codemirror_mode": {
    "name": "ipython",
    "version": 3
   },
   "file_extension": ".py",
   "mimetype": "text/x-python",
   "name": "python",
   "nbconvert_exporter": "python",
   "pygments_lexer": "ipython3",
   "version": "3.8.8"
  }
 },
 "nbformat": 4,
 "nbformat_minor": 2
}
