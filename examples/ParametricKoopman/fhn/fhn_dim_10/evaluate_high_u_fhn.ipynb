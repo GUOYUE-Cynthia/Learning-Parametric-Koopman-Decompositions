{
 "cells": [
  {
   "cell_type": "code",
   "execution_count": 59,
   "metadata": {},
   "outputs": [],
   "source": [
    "import os\n",
    "\n",
    "os.environ[\"CUDA_VISIBLE_DEVICES\"] = \"-1\""
   ]
  },
  {
   "cell_type": "code",
   "execution_count": 60,
   "metadata": {},
   "outputs": [
    {
     "name": "stdout",
     "output_type": "stream",
     "text": [
      "The autoreload extension is already loaded. To reload it, use:\n",
      "  %reload_ext autoreload\n"
     ]
    }
   ],
   "source": [
    "%load_ext autoreload\n",
    "%autoreload 2"
   ]
  },
  {
   "cell_type": "code",
   "execution_count": 61,
   "metadata": {},
   "outputs": [],
   "source": [
    "import matplotlib.pyplot as plt\n",
    "import numpy as np\n",
    "import seaborn as sns\n",
    "import tensorflow as tf"
   ]
  },
  {
   "cell_type": "code",
   "execution_count": 62,
   "metadata": {},
   "outputs": [],
   "source": [
    "from koopmanlib.functions import *"
   ]
  },
  {
   "cell_type": "code",
   "execution_count": 63,
   "metadata": {},
   "outputs": [],
   "source": [
    "import json\n",
    "import sys"
   ]
  },
  {
   "cell_type": "markdown",
   "metadata": {},
   "source": [
    "# Generate data"
   ]
  },
  {
   "cell_type": "code",
   "execution_count": 64,
   "metadata": {},
   "outputs": [],
   "source": [
    "config_file = \"config_fhn.json\""
   ]
  },
  {
   "cell_type": "code",
   "execution_count": 65,
   "metadata": {},
   "outputs": [],
   "source": [
    "with open(config_file, \"r\") as f:\n",
    "    config = json.load(f)[\"fhn_high_dim_u_settings\"]"
   ]
  },
  {
   "cell_type": "code",
   "execution_count": 66,
   "metadata": {},
   "outputs": [],
   "source": [
    "data_path = config[\"data_settings\"][\"data_path\"]\n",
    "weights_path = config[\"nn_settings\"][\"weights_path\"]\n",
    "figures_path = config[\"data_settings\"][\"figures_path\"]\n"
   ]
  },
  {
   "cell_type": "code",
   "execution_count": 67,
   "metadata": {},
   "outputs": [],
   "source": [
    "Nx = config[\"data_settings\"][\"Nx\"]\n",
    "n_traj = config[\"data_settings\"][\"n_traj\"]\n",
    "traj_len = config[\"data_settings\"][\"traj_len\"]"
   ]
  },
  {
   "cell_type": "code",
   "execution_count": 68,
   "metadata": {},
   "outputs": [],
   "source": [
    "n_psi_train = config[\"nn_settings\"][\"n_psi_train\"]\n",
    "target_dim = Nx * 2\n",
    "param_dim = 3\n",
    "n_psi = 1 + target_dim + n_psi_train\n",
    "dict_layer_size = config[\"nn_settings\"][\"dict_layer_size\"]\n",
    "K_layer_size = config[\"nn_settings\"][\"K_layer_size\"]"
   ]
  },
  {
   "cell_type": "code",
   "execution_count": 69,
   "metadata": {},
   "outputs": [
    {
     "data": {
      "text/plain": [
       "[64]"
      ]
     },
     "execution_count": 69,
     "metadata": {},
     "output_type": "execute_result"
    }
   ],
   "source": [
    "K_layer_size"
   ]
  },
  {
   "cell_type": "code",
   "execution_count": 70,
   "metadata": {},
   "outputs": [],
   "source": [
    "x = np.linspace(-10, 10, Nx)\n",
    "t = np.arange(0, traj_len, 1)"
   ]
  },
  {
   "cell_type": "code",
   "execution_count": 71,
   "metadata": {},
   "outputs": [],
   "source": [
    "from koopmanlib.target import ModifiedFHNTarget"
   ]
  },
  {
   "cell_type": "code",
   "execution_count": 72,
   "metadata": {},
   "outputs": [],
   "source": [
    "fhn_pde = ModifiedFHNTarget(\n",
    "    x=x, dt=1e-5, t_step=1e-3, dim=target_dim, param_dim=param_dim, param_input=1e3\n",
    ")"
   ]
  },
  {
   "cell_type": "code",
   "execution_count": 73,
   "metadata": {},
   "outputs": [],
   "source": [
    "data_dict = np.load(\n",
    "    os.path.join(data_path, \"data_high_u_fhn_Nx_\" + str(Nx) + \".npy\"), allow_pickle=True\n",
    ")"
   ]
  },
  {
   "cell_type": "code",
   "execution_count": 74,
   "metadata": {},
   "outputs": [],
   "source": [
    "data_z_curr = data_dict[()][\"data_z_curr\"]\n",
    "data_u = data_dict[()][\"data_u\"]\n",
    "data_z_next = data_dict[()][\"data_z_next\"]"
   ]
  },
  {
   "cell_type": "code",
   "execution_count": 75,
   "metadata": {},
   "outputs": [
    {
     "data": {
      "text/plain": [
       "(49900, 20)"
      ]
     },
     "execution_count": 75,
     "metadata": {},
     "output_type": "execute_result"
    }
   ],
   "source": [
    "data_z_curr.shape"
   ]
  },
  {
   "cell_type": "code",
   "execution_count": 76,
   "metadata": {},
   "outputs": [],
   "source": [
    "data_z_curr_reshape = data_z_curr.reshape(-1, n_traj, target_dim)\n",
    "data_z_curr_reshape_trans = np.transpose(data_z_curr_reshape, (1, 0, 2))\n",
    "\n",
    "sample_idx = 1"
   ]
  },
  {
   "cell_type": "code",
   "execution_count": 77,
   "metadata": {},
   "outputs": [],
   "source": [
    "from sklearn.preprocessing import StandardScaler\n",
    "\n",
    "scaler_z = StandardScaler()\n",
    "scaler_z.fit(data_z_curr)\n",
    "\n",
    "z_curr_normalized = scaler_z.transform(data_z_curr)\n",
    "z_next_normalized = scaler_z.transform(data_z_next)\n",
    "\n",
    "# After the prediction, we use inverse_transform to recover data.\n",
    "\n",
    "# z_curr_recover = scaler_z.inverse_transform(z_curr_normalized)"
   ]
  },
  {
   "cell_type": "markdown",
   "metadata": {},
   "source": [
    "# Build model"
   ]
  },
  {
   "cell_type": "code",
   "execution_count": 78,
   "metadata": {},
   "outputs": [],
   "source": [
    "from koopmanlib.dictionary import PsiNN\n",
    "from koopmanlib.param_solver import KoopmanParametricDLSolver"
   ]
  },
  {
   "cell_type": "code",
   "execution_count": 79,
   "metadata": {},
   "outputs": [],
   "source": [
    "from tensorflow.keras.optimizers import Adam"
   ]
  },
  {
   "cell_type": "code",
   "execution_count": 80,
   "metadata": {},
   "outputs": [],
   "source": [
    "dic_pk = PsiNN(layer_sizes=dict_layer_size, n_psi_train=n_psi_train)"
   ]
  },
  {
   "cell_type": "code",
   "execution_count": 81,
   "metadata": {},
   "outputs": [],
   "source": [
    "from koopmanlib.K_structure import Model_K_u_Layer_One, Model_ResNet_K_u_Layer_One\n",
    "\n",
    "model_K_u = Model_K_u_Layer_One(layer_sizes=K_layer_size, n_psi=n_psi)\n",
    "\n",
    "solver_pk = KoopmanParametricDLSolver(\n",
    "    target_dim=target_dim, param_dim=param_dim, n_psi=n_psi, dic=dic_pk, model_K_u=model_K_u\n",
    ")\n",
    "\n",
    "model_pk, model_K_u_pred_pk = solver_pk.generate_model()"
   ]
  },
  {
   "cell_type": "code",
   "execution_count": 82,
   "metadata": {},
   "outputs": [],
   "source": [
    "model_pk.load_weights(\n",
    "    os.path.join(\n",
    "        weights_path, \"norm_high_u_psi_\" + str(n_psi_train) + \"_model_pk_fhn_Nx_\" + str(Nx) + \".h5\"\n",
    "    )\n",
    ")"
   ]
  },
  {
   "cell_type": "markdown",
   "metadata": {},
   "source": [
    "# Prediction"
   ]
  },
  {
   "cell_type": "code",
   "execution_count": 83,
   "metadata": {},
   "outputs": [],
   "source": [
    "n_traj_test = 1\n",
    "traj_len_test = 500"
   ]
  },
  {
   "cell_type": "code",
   "execution_count": 84,
   "metadata": {},
   "outputs": [],
   "source": [
    "seed_z = 11\n",
    "seed_param = 11"
   ]
  },
  {
   "cell_type": "code",
   "execution_count": 85,
   "metadata": {},
   "outputs": [],
   "source": [
    "data_true_normalized, data_pred_pk_normalized, z_curr_ori = recover_prediction(\n",
    "    target=fhn_pde,\n",
    "    scaler=scaler_z,\n",
    "    solver=solver_pk,\n",
    "    n_traj=n_traj_test,\n",
    "    traj_len=traj_len_test,\n",
    "    seed_z=seed_z,\n",
    "    seed_param=seed_param\n",
    ")"
   ]
  },
  {
   "cell_type": "code",
   "execution_count": 86,
   "metadata": {},
   "outputs": [
    {
     "data": {
      "text/plain": [
       "((499, 20), (499, 20), (499, 20))"
      ]
     },
     "execution_count": 86,
     "metadata": {},
     "output_type": "execute_result"
    }
   ],
   "source": [
    "data_true_normalized.shape, data_pred_pk_normalized.shape, z_curr_ori.shape"
   ]
  },
  {
   "cell_type": "code",
   "execution_count": 87,
   "metadata": {},
   "outputs": [],
   "source": [
    "x_axis = x\n",
    "y_axis = np.arange(0, data_true_normalized.shape[0], 1)"
   ]
  },
  {
   "cell_type": "code",
   "execution_count": 88,
   "metadata": {},
   "outputs": [],
   "source": [
    "ratio_pk_normalized = compute_diff_ratio_one_traj(data_true_normalized, data_pred_pk_normalized)"
   ]
  },
  {
   "cell_type": "code",
   "execution_count": 89,
   "metadata": {},
   "outputs": [],
   "source": [
    "data_pred_pk_recover = scaler_z.inverse_transform(data_pred_pk_normalized)"
   ]
  },
  {
   "cell_type": "code",
   "execution_count": 90,
   "metadata": {},
   "outputs": [],
   "source": [
    "ratio_pk_recover = compute_diff_ratio_one_traj(z_curr_ori, data_pred_pk_recover)"
   ]
  },
  {
   "cell_type": "code",
   "execution_count": 91,
   "metadata": {},
   "outputs": [
    {
     "data": {
      "text/plain": [
       "(499, 20)"
      ]
     },
     "execution_count": 91,
     "metadata": {},
     "output_type": "execute_result"
    }
   ],
   "source": [
    "data_pred_pk_normalized.shape"
   ]
  },
  {
   "cell_type": "markdown",
   "metadata": {},
   "source": [
    "# RBF + Poly K (1, $u, u^2, u^3$)"
   ]
  },
  {
   "cell_type": "code",
   "execution_count": 92,
   "metadata": {},
   "outputs": [],
   "source": [
    "from koopmanlib.dictionary import DicGaussianRBF\n",
    "\n",
    "dic_rbf_fhn = DicGaussianRBF(rbf_number=n_psi_train, s=5)\n",
    "\n",
    "dic_rbf_fhn.build(z_curr_normalized)\n",
    "\n",
    "from koopmanlib.param_solver import KoopmanActuatedDLSolver\n",
    "\n",
    "solver_rbf = KoopmanActuatedDLSolver(\n",
    "    dic=dic_rbf_fhn,\n",
    "    target_dim=target_dim,\n",
    "    param_dim=param_dim,\n",
    "    n_psi=n_psi,\n",
    "    basis_u_func=fhn_pde.basis_u_func,\n",
    ")\n",
    "\n",
    "model_rbf = solver_rbf.build_model()\n",
    "\n",
    "model_rbf_opt = solver_rbf.opt_rbf_model(\n",
    "    data_x=z_curr_normalized, data_u=data_u, data_y=z_next_normalized\n",
    ")"
   ]
  },
  {
   "cell_type": "code",
   "execution_count": 93,
   "metadata": {},
   "outputs": [],
   "source": [
    "data_true_normalized, data_pred_rbf_normalized, z_curr_ori = recover_prediction(\n",
    "    target=fhn_pde,\n",
    "    scaler=scaler_z,\n",
    "    solver=solver_rbf,\n",
    "    n_traj=n_traj_test,\n",
    "    traj_len=traj_len_test,\n",
    "    seed_z=seed_z,\n",
    "    seed_param=seed_param\n",
    ")"
   ]
  },
  {
   "cell_type": "code",
   "execution_count": 94,
   "metadata": {},
   "outputs": [],
   "source": [
    "# Normalized space\n",
    "x_axis = np.arange(0, Nx, 1)\n",
    "y_axis = np.arange(0, traj_len_test - 1, 1)"
   ]
  },
  {
   "cell_type": "code",
   "execution_count": 95,
   "metadata": {},
   "outputs": [],
   "source": [
    "ratio_rbf_normalized = compute_diff_ratio_one_traj(data_true_normalized, data_pred_rbf_normalized)"
   ]
  },
  {
   "cell_type": "code",
   "execution_count": 96,
   "metadata": {},
   "outputs": [],
   "source": [
    "# Original space\n",
    "data_pred_rbf_recover = scaler_z.inverse_transform(data_pred_rbf_normalized)"
   ]
  },
  {
   "cell_type": "code",
   "execution_count": 97,
   "metadata": {},
   "outputs": [],
   "source": [
    "x_axis = np.arange(0, Nx, 1)\n",
    "y_axis = np.arange(0, traj_len_test - 1, 1)"
   ]
  },
  {
   "cell_type": "code",
   "execution_count": 98,
   "metadata": {},
   "outputs": [],
   "source": [
    "ratio_rbf_recover = compute_diff_ratio_one_traj(z_curr_ori, data_pred_rbf_recover)"
   ]
  },
  {
   "cell_type": "markdown",
   "metadata": {},
   "source": [
    "# DL + Polynomial K (1, $u, u^2, u^3$)"
   ]
  },
  {
   "cell_type": "code",
   "execution_count": 99,
   "metadata": {},
   "outputs": [],
   "source": [
    "dic_dl_polyK = PsiNN(layer_sizes=dict_layer_size, n_psi_train=n_psi_train)\n",
    "\n",
    "solver_dl_polyK = KoopmanActuatedDLSolver(\n",
    "    dic=dic_dl_polyK,\n",
    "    target_dim=target_dim,\n",
    "    param_dim=param_dim,\n",
    "    n_psi=n_psi,\n",
    "    basis_u_func=fhn_pde.basis_u_func,\n",
    ")\n",
    "\n",
    "model_dl_polyK = solver_dl_polyK.build_model()"
   ]
  },
  {
   "cell_type": "code",
   "execution_count": 100,
   "metadata": {},
   "outputs": [],
   "source": [
    "solver_dl_polyK.model.load_weights(\n",
    "    os.path.join(\n",
    "        weights_path,\n",
    "        \"norm_high_u_psi_\" + str(n_psi_train) + \"_model_dl_polyK_fhn_Nx_\" + str(Nx) + \".h5\",\n",
    "    )\n",
    ")"
   ]
  },
  {
   "cell_type": "code",
   "execution_count": 101,
   "metadata": {},
   "outputs": [],
   "source": [
    "data_true_normalized, data_pred_dl_polyK_normalized, z_curr_ori = recover_prediction(\n",
    "    target=fhn_pde,\n",
    "    scaler=scaler_z,\n",
    "    solver=solver_dl_polyK,\n",
    "    n_traj=n_traj_test,\n",
    "    traj_len=traj_len_test,\n",
    "    seed_z=seed_z,\n",
    "    seed_param=seed_param\n",
    ")"
   ]
  },
  {
   "cell_type": "code",
   "execution_count": 102,
   "metadata": {},
   "outputs": [],
   "source": [
    "ratio_dl_polyK_normalized = compute_diff_ratio_one_traj(\n",
    "    data_true_normalized, data_pred_dl_polyK_normalized\n",
    ")"
   ]
  },
  {
   "cell_type": "code",
   "execution_count": 103,
   "metadata": {},
   "outputs": [],
   "source": [
    "# Original space\n",
    "data_pred_dl_polyK_recover = scaler_z.inverse_transform(data_pred_dl_polyK_normalized)"
   ]
  },
  {
   "cell_type": "code",
   "execution_count": 104,
   "metadata": {},
   "outputs": [],
   "source": [
    "ratio_dl_polyK_recover = compute_diff_ratio_one_traj(z_curr_ori, data_pred_dl_polyK_recover)"
   ]
  },
  {
   "cell_type": "markdown",
   "metadata": {},
   "source": [
    "# Average Prediction"
   ]
  },
  {
   "cell_type": "code",
   "execution_count": 105,
   "metadata": {},
   "outputs": [],
   "source": [
    "np.random.seed(111)\n",
    "n_test = 10\n",
    "seed_z_list = np.random.randint(1, 300, size=(n_test,))\n",
    "seed_param_list = np.random.randint(1, 300, size=(n_test,))\n",
    "\n",
    "n_traj_test = 1\n",
    "\n",
    "x_axis = x\n",
    "y_axis = np.arange(0, traj_len_test - 1, 1)"
   ]
  },
  {
   "cell_type": "code",
   "execution_count": 106,
   "metadata": {},
   "outputs": [],
   "source": [
    "ratio_pk_list = []\n",
    "ratio_rbf_list = []\n",
    "ratio_dl_polyK_list = []\n",
    "\n",
    "for seed_z, seed_param in zip(seed_z_list, seed_param_list):\n",
    "\n",
    "    data_true_normalized, data_pred_pk_normalized, z_curr_ori = recover_prediction(\n",
    "        target=fhn_pde,\n",
    "        scaler=scaler_z,\n",
    "        solver=solver_pk,\n",
    "        n_traj=n_traj_test,\n",
    "        traj_len=traj_len_test,\n",
    "        seed_z=seed_z,\n",
    "        seed_param=seed_param,\n",
    "    )\n",
    "\n",
    "    data_true_normalized, data_pred_rbf_normalized, z_curr_ori = recover_prediction(\n",
    "        target=fhn_pde,\n",
    "        scaler=scaler_z,\n",
    "        solver=solver_rbf,\n",
    "        n_traj=n_traj_test,\n",
    "        traj_len=traj_len_test,\n",
    "        seed_z=seed_z,\n",
    "        seed_param=seed_param,\n",
    "    )\n",
    "\n",
    "    data_true_normalized, data_pred_dl_polyK_normalized, z_curr_ori = recover_prediction(\n",
    "        target=fhn_pde,\n",
    "        scaler=scaler_z,\n",
    "        solver=solver_dl_polyK,\n",
    "        n_traj=n_traj_test,\n",
    "        traj_len=traj_len_test,\n",
    "        seed_z=seed_z,\n",
    "        seed_param=seed_param,\n",
    "    )\n",
    "\n",
    "    data_pred_pk_recover = scaler_z.inverse_transform(data_pred_pk_normalized)\n",
    "    data_pred_rbf_recover = scaler_z.inverse_transform(data_pred_rbf_normalized)\n",
    "    data_pred_dl_polyK_recover = scaler_z.inverse_transform(data_pred_dl_polyK_normalized)\n",
    "\n",
    "    ratio_pk_recover = compute_diff_ratio_one_traj(z_curr_ori, data_pred_pk_recover)\n",
    "    ratio_rbf_recover = compute_diff_ratio_one_traj(z_curr_ori, data_pred_rbf_recover)\n",
    "    ratio_dl_polyK_recover = compute_diff_ratio_one_traj(z_curr_ori, data_pred_dl_polyK_recover)\n",
    "\n",
    "    ratio_pk_list.append(ratio_pk_recover)\n",
    "    ratio_rbf_list.append(ratio_rbf_recover)\n",
    "    ratio_dl_polyK_list.append(ratio_dl_polyK_recover)\n",
    "\n",
    "ratio_pk_list = np.asarray(ratio_pk_list)\n",
    "ratio_rbf_list = np.asarray(ratio_rbf_list)\n",
    "ratio_dl_polyK_list = np.asarray(ratio_dl_polyK_list)\n",
    "\n",
    "\n",
    "mean_pk, std_pk, mean_plus_pk, mean_minus_pk = compute_stat_info(ratio_pk_list)\n",
    "mean_rbf, std_rbf, mean_plus_rbf, mean_minus_rbf = compute_stat_info(ratio_rbf_list)\n",
    "mean_dl_polyK, std_dl_polyK, mean_plus_dl_polyK, mean_minus_dl_polyK = compute_stat_info(\n",
    "    ratio_dl_polyK_list\n",
    ")"
   ]
  },
  {
   "cell_type": "code",
   "execution_count": 107,
   "metadata": {},
   "outputs": [],
   "source": [
    "ratio_pk_list = np.asarray(ratio_pk_list)\n",
    "ratio_rbf_list = np.asarray(ratio_rbf_list)\n",
    "ratio_dl_polyK_list = np.asarray(ratio_dl_polyK_list)"
   ]
  },
  {
   "cell_type": "code",
   "execution_count": 108,
   "metadata": {},
   "outputs": [],
   "source": [
    "mean_pk, std_pk, mean_plus_pk, mean_minus_pk = compute_stat_info(ratio_pk_list)\n",
    "mean_rbf, std_rbf, mean_plus_rbf, mean_minus_rbf = compute_stat_info(ratio_rbf_list)\n",
    "mean_dl_actK, std_dl_actK, mean_plus_dl_actK, mean_minus_dl_actK = compute_stat_info(\n",
    "    ratio_dl_polyK_list\n",
    ")"
   ]
  },
  {
   "cell_type": "code",
   "execution_count": 115,
   "metadata": {},
   "outputs": [
    {
     "data": {
      "image/png": "[encoded data removed]",
      "text/plain": [
       "<Figure size 432x288 with 1 Axes>"
      ]
     },
     "metadata": {
      "needs_background": "light"
     },
     "output_type": "display_data"
    }
   ],
   "source": [
    "t_axis = np.arange(0, traj_len_test - 1, 1)\n",
    "\n",
    "plt.plot(mean_rbf, label=\"M4-RBF\", color=\"darkorange\", linewidth=2)\n",
    "plt.fill_between(t_axis, mean_minus_rbf, mean_plus_rbf, color=\"navajowhite\", alpha=0.5)\n",
    "\n",
    "plt.plot(mean_dl_polyK, label=\"M4-NN\", color=\"forestgreen\", linewidth=2)\n",
    "plt.fill_between(t_axis, mean_minus_dl_polyK, mean_plus_dl_polyK, color=\"darkseagreen\", alpha=0.5)\n",
    "\n",
    "\n",
    "plt.plot(mean_pk, label=\"Ours\", color=\"steelblue\", linewidth=2)\n",
    "plt.fill_between(t_axis, mean_minus_pk, mean_plus_pk, color=\"lightsteelblue\", alpha=0.5)\n",
    "\n",
    "plt.xticks(fontsize=18)\n",
    "plt.yticks(fontsize=18)\n",
    "\n",
    "plt.xlabel(r\"$n$\", fontsize=28)\n",
    "plt.ylabel(\"Error\", fontsize=28)\n",
    "# plt.legend(fontsize=14, loc=(1.05,1.01))\n",
    "\n",
    "plt.savefig(os.path.join(figures_path, 'high_u_fhn_error_Nx10.png'), dpi=200, bbox_inches='tight')\n",
    "plt.savefig(os.path.join(figures_path, 'high_u_fhn_error_Nx10.pdf'), dpi=200, bbox_inches='tight')\n"
   ]
  },
  {
   "cell_type": "code",
   "execution_count": 110,
   "metadata": {},
   "outputs": [],
   "source": [
    "dict_error = {\"pk\": ratio_pk_list, \"rbf\": ratio_rbf_list, \"dl\": ratio_dl_polyK_list}"
   ]
  },
  {
   "cell_type": "code",
   "execution_count": 111,
   "metadata": {},
   "outputs": [],
   "source": [
    "np.save(os.path.join('high_u_error_dict.npy'), dict_error)"
   ]
  },
  {
   "cell_type": "code",
   "execution_count": 112,
   "metadata": {},
   "outputs": [
    {
     "name": "stderr",
     "output_type": "stream",
     "text": [
      "/home/guoyue/Learning-Parametric-Koopman-Decompositions/src/koopmanlib/functions.py:67: UserWarning: This figure includes Axes that are not compatible with tight_layout, so results might be incorrect.\n",
      "  plt.tight_layout()\n"
     ]
    },
    {
     "data": {
      "image/png": "[encoded data removed]",
      "text/plain": [
       "<Figure size 1728x576 with 10 Axes>"
      ]
     },
     "metadata": {
      "needs_background": "light"
     },
     "output_type": "display_data"
    }
   ],
   "source": [
    "data_list = [z_curr_ori, data_pred_pk_recover, data_pred_rbf_recover, data_pred_dl_polyK_recover]\n",
    "data_label_list = ['True', 'Ours','M4-RBF', 'M4-NN' ]\n",
    "plot_pde_comparison(x_axis,\n",
    "                    y_axis,\n",
    "                    data_list,\n",
    "                    data_label_list, \n",
    "                    Nx, \n",
    "                    figsize=(24,8),\n",
    "                    cbar_ax = ([1.01, 0.60, 0.01, 0.35], [1.01, 0.10, 0.01, 0.35]),\n",
    "                    fontsize=25)\n",
    "\n",
    "\n",
    "# plt.savefig(os.path.join(figures_path, 'traj_high_u_fhn_error_Nx10.png'), dpi=200, bbox_inches='tight')\n",
    "# plt.savefig(os.path.join(figures_path, 'traj_high_u_fhn_error_Nx10.pdf'), dpi=200, bbox_inches='tight')\n"
   ]
  },
  {
   "cell_type": "code",
   "execution_count": 113,
   "metadata": {},
   "outputs": [
    {
     "data": {
      "image/png": "[encoded data removed]",
      "text/plain": [
       "<Figure size 1152x576 with 8 Axes>"
      ]
     },
     "metadata": {
      "needs_background": "light"
     },
     "output_type": "display_data"
    }
   ],
   "source": [
    "# data_diff_list = [data_list[1]-data_list[0], data_list[2]-data_list[0], data_list[3]-data_list[0]]\n",
    "\n",
    "data_diff_list = [np.abs(data_list[1]-data_list[0]), \n",
    "                  np.abs(data_list[2]-data_list[0]),\n",
    "                  np.abs(data_list[3]-data_list[0])]\n",
    "\n",
    "data_diff_label_list = data_label_list[1:]\n",
    "\n",
    "plot_pde_comparison(x_axis,\n",
    "                    y_axis,\n",
    "                    data_diff_list, \n",
    "                    data_diff_label_list, \n",
    "                    Nx,\n",
    "                    figsize=(16,8),\n",
    "                    cbar_ax = ([1.01, 0.60, 0.01, 0.35], [1.01, 0.10, 0.01, 0.35]))\n",
    "\n",
    "plt.savefig(os.path.join(figures_path, 'diff_high_u_traj_fhn_error_Nx10.png'), dpi=200, bbox_inches='tight')\n",
    "plt.savefig(os.path.join(figures_path, 'diff_high_u_traj_fhn_error_Nx10.pdf'), dpi=200, bbox_inches='tight')\n"
   ]
  },
  {
   "cell_type": "code",
   "execution_count": 114,
   "metadata": {},
   "outputs": [
    {
     "data": {
      "text/plain": [
       "[array([[0.00000000e+00, 1.11022302e-16, 0.00000000e+00, ...,\n",
       "         0.00000000e+00, 0.00000000e+00, 0.00000000e+00],\n",
       "        [1.41394021e-04, 6.84244916e-05, 4.90609940e-04, ...,\n",
       "         1.14519230e-06, 7.27054711e-08, 6.06286236e-07],\n",
       "        [2.56231108e-04, 1.48116870e-04, 1.51188408e-03, ...,\n",
       "         2.26231491e-06, 3.00563237e-07, 4.20902251e-07],\n",
       "        ...,\n",
       "        [4.71396725e-03, 7.97395869e-02, 9.54812569e-02, ...,\n",
       "         4.93484069e-04, 6.84237106e-04, 5.04421346e-04],\n",
       "        [4.92667507e-03, 8.00082416e-02, 9.74208162e-02, ...,\n",
       "         4.94485019e-04, 6.84963859e-04, 5.06327902e-04],\n",
       "        [4.91855670e-03, 8.01396416e-02, 9.97099016e-02, ...,\n",
       "         4.95118442e-04, 6.85106227e-04, 5.05486167e-04]]),\n",
       " array([[0.00000000e+00, 1.11022302e-16, 0.00000000e+00, ...,\n",
       "         0.00000000e+00, 0.00000000e+00, 0.00000000e+00],\n",
       "        [4.15684970e-06, 1.60777343e-06, 2.84795644e-03, ...,\n",
       "         7.46492088e-08, 9.97715561e-11, 6.15875061e-11],\n",
       "        [7.14280267e-06, 2.41350344e-06, 9.26426778e-03, ...,\n",
       "         4.45922781e-07, 6.09779178e-10, 2.29701641e-10],\n",
       "        ...,\n",
       "        [1.76884497e-03, 5.02306435e-02, 7.43344010e-01, ...,\n",
       "         6.34387922e-03, 1.20853584e-03, 2.74469262e-04],\n",
       "        [1.77118765e-03, 5.04569778e-02, 7.26345792e-01, ...,\n",
       "         6.34652507e-03, 1.21278191e-03, 2.76052131e-04],\n",
       "        [1.77434672e-03, 5.06816708e-02, 7.12210660e-01, ...,\n",
       "         6.34781387e-03, 1.21702420e-03, 2.77639844e-04]]),\n",
       " array([[0.00000000e+00, 1.11022302e-16, 0.00000000e+00, ...,\n",
       "         0.00000000e+00, 0.00000000e+00, 0.00000000e+00],\n",
       "        [5.01431817e-06, 7.72794837e-07, 6.03765118e-04, ...,\n",
       "         1.61600982e-08, 4.37583412e-11, 7.39393443e-11],\n",
       "        [8.53384723e-06, 3.44881863e-06, 1.49881868e-03, ...,\n",
       "         7.02255817e-08, 2.31088559e-10, 2.74135245e-10],\n",
       "        ...,\n",
       "        [1.41820759e-03, 3.41054463e-02, 1.81084533e-02, ...,\n",
       "         7.23289952e-04, 2.75140031e-05, 2.05814881e-05],\n",
       "        [1.41690352e-03, 3.41947193e-02, 1.30756087e-02, ...,\n",
       "         7.26883276e-04, 2.72160894e-05, 2.06111706e-05],\n",
       "        [1.41581009e-03, 3.42780152e-02, 7.58199783e-03, ...,\n",
       "         7.30283877e-04, 2.69160113e-05, 2.06400082e-05]])]"
      ]
     },
     "execution_count": 114,
     "metadata": {},
     "output_type": "execute_result"
    }
   ],
   "source": [
    "data_diff_list"
   ]
  },
  {
   "cell_type": "code",
   "execution_count": null,
   "metadata": {},
   "outputs": [],
   "source": []
  },
  {
   "cell_type": "code",
   "execution_count": null,
   "metadata": {},
   "outputs": [],
   "source": []
  }
 ],
 "metadata": {
  "kernelspec": {
   "display_name": "koopman",
   "language": "python",
   "name": "python3"
  },
  "language_info": {
   "codemirror_mode": {
    "name": "ipython",
    "version": 3
   },
   "file_extension": ".py",
   "mimetype": "text/x-python",
   "name": "python",
   "nbconvert_exporter": "python",
   "pygments_lexer": "ipython3",
   "version": "3.8.8"
  }
 },
 "nbformat": 4,
 "nbformat_minor": 2
}
