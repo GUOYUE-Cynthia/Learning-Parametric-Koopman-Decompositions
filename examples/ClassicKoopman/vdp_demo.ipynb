{
 "cells": [
  {
   "cell_type": "code",
   "execution_count": null,
   "metadata": {},
   "outputs": [],
   "source": [
    "import matplotlib.pyplot as plt\n",
    "import numpy as np\n",
    "import tensorflow as tf"
   ]
  },
  {
   "cell_type": "code",
   "execution_count": null,
   "metadata": {},
   "outputs": [],
   "source": [
    "import os\n",
    "\n",
    "os.environ[\"CUDA_VISIBLE_DEVICES\"] = \"1\""
   ]
  },
  {
   "cell_type": "code",
   "execution_count": null,
   "metadata": {},
   "outputs": [],
   "source": [
    "from koopmanlib.dictionary import PsiNN\n",
    "from koopmanlib.target import VanderPolOscillator"
   ]
  },
  {
   "cell_type": "code",
   "execution_count": null,
   "metadata": {},
   "outputs": [],
   "source": [
    "basis_function = PsiNN(layer_sizes=[200, 200, 200], n_psi_train=40)"
   ]
  },
  {
   "cell_type": "code",
   "execution_count": null,
   "metadata": {},
   "outputs": [],
   "source": [
    "# Generate data\n",
    "vdp_train = VanderPolOscillator()\n",
    "data_x_train = vdp_train.generate_init_data(n_traj=1000, traj_len=10, seed=0)\n",
    "data_y_train = vdp_train.generate_next_data(data_x_train)\n",
    "\n",
    "vdp_valid = VanderPolOscillator()\n",
    "data_x_valid = vdp_valid.generate_init_data(n_traj=300, traj_len=10, seed=0)\n",
    "data_y_valid = vdp_valid.generate_next_data(data_x_valid)"
   ]
  },
  {
   "cell_type": "code",
   "execution_count": null,
   "metadata": {},
   "outputs": [],
   "source": [
    "# Visualize data\n",
    "fig, (ax1, ax2) = plt.subplots(1, 2, sharey=True, figsize=(10, 5))\n",
    "\n",
    "ax1.plot(data_x_train[:, 0], data_x_train[:, 1], \".\")\n",
    "ax1.set_xlabel(r\"$x_{1}$\")\n",
    "ax1.set_ylabel(r\"$x_{2}$\")\n",
    "ax2.plot(data_y_train[:, 0], data_y_train[:, 1], \".\")\n",
    "ax2.set_xlabel(r\"$x_{1}$\")\n",
    "ax2.set_ylabel(r\"$x_{2}$\")\n",
    "plt.tight_layout()"
   ]
  },
  {
   "cell_type": "code",
   "execution_count": null,
   "metadata": {},
   "outputs": [],
   "source": [
    "# Visualize data\n",
    "fig, (ax1, ax2) = plt.subplots(1, 2, sharey=True, figsize=(10, 5))\n",
    "\n",
    "ax1.plot(data_x_valid[:, 0], data_x_valid[:, 1], \".\")\n",
    "ax1.set_xlabel(r\"$x_{1}$\")\n",
    "ax1.set_ylabel(r\"$x_{2}$\")\n",
    "ax2.plot(data_y_valid[:, 0], data_y_valid[:, 1], \".\")\n",
    "ax2.set_xlabel(r\"$x_{1}$\")\n",
    "ax2.set_ylabel(r\"$x_{2}$\")\n",
    "plt.tight_layout()"
   ]
  },
  {
   "cell_type": "code",
   "execution_count": null,
   "metadata": {},
   "outputs": [],
   "source": [
    "data_train = [data_x_train, data_y_train]\n",
    "data_valid = [data_x_valid, data_y_valid]"
   ]
  },
  {
   "cell_type": "code",
   "execution_count": null,
   "metadata": {},
   "outputs": [],
   "source": [
    "from koopmanlib.solver import KoopmanDLSolver\n",
    "\n",
    "solver = KoopmanDLSolver(dic=basis_function, target_dim=2, reg=0.1)"
   ]
  },
  {
   "cell_type": "code",
   "execution_count": null,
   "metadata": {},
   "outputs": [],
   "source": [
    "solver.build(\n",
    "    data_train=data_train,\n",
    "    data_valid=data_valid,\n",
    "    epochs=2000,\n",
    "    batch_size=5000,\n",
    "    lr=1e-4,\n",
    "    log_interval=20,\n",
    "    lr_decay_factor=0.8,\n",
    ")"
   ]
  },
  {
   "cell_type": "code",
   "execution_count": null,
   "metadata": {},
   "outputs": [],
   "source": [
    "solver.compute_final_info(reg_final=0.0)"
   ]
  },
  {
   "cell_type": "markdown",
   "metadata": {},
   "source": [
    "# Prediction"
   ]
  },
  {
   "cell_type": "code",
   "execution_count": null,
   "metadata": {},
   "outputs": [],
   "source": [
    "traj_len = 50"
   ]
  },
  {
   "cell_type": "code",
   "execution_count": null,
   "metadata": {},
   "outputs": [],
   "source": [
    "from koopmanlib.dictionary import DicRBF\n",
    "from koopmanlib.solver import KoopmanGeneralSolver"
   ]
  },
  {
   "cell_type": "code",
   "execution_count": null,
   "metadata": {},
   "outputs": [],
   "source": [
    "rbf_basis_func = DicRBF(rbf_number=100, regularizer=1e-4)\n",
    "rbf_basis_func.build(data_x_train)\n",
    "\n",
    "rbf_solver = KoopmanGeneralSolver(dic=rbf_basis_func, target_dim=2, reg=0.0)\n",
    "\n",
    "rbf_solver.build(data_train)"
   ]
  },
  {
   "cell_type": "code",
   "execution_count": null,
   "metadata": {},
   "outputs": [],
   "source": [
    "# Plot eigenvalues\n",
    "fig, (ax1, ax2) = plt.subplots(1, 2, figsize=(10, 5), sharex=False, sharey=True)\n",
    "ax1.scatter(solver.eigenvalues.real, solver.eigenvalues.imag)\n",
    "ax1.set_xlabel(r\"Re$(\\mu)$\")\n",
    "ax1.set_ylabel(r\"Im$(\\mu)$\")\n",
    "ax1.set_title(\"EDMD-DL\")\n",
    "\n",
    "# Plot eigenvalues\n",
    "ax2.scatter(rbf_solver.eigenvalues.real, rbf_solver.eigenvalues.imag)\n",
    "ax2.set_xlabel(r\"Re$(\\mu)$\")\n",
    "ax2.set_title(\"EDMD (RBF)\")\n",
    "\n",
    "fig.tight_layout()\n",
    "# plt.cla()\n",
    "# plt.clf()\n",
    "# plt.close()"
   ]
  },
  {
   "cell_type": "code",
   "execution_count": null,
   "metadata": {},
   "outputs": [],
   "source": [
    "# Plot reconstruction\n",
    "import matplotlib\n",
    "\n",
    "matplotlib.rcParams.update({\"font.size\": 18})\n",
    "\n",
    "# Generate testing data\n",
    "vdp_test = VanderPolOscillator()\n",
    "data_x_test = vdp_test.generate_init_data(n_traj=1, traj_len=traj_len, seed=123)\n",
    "data_y_test = vdp_test.generate_next_data(data_x_test)\n",
    "\n",
    "# Exact trajectory\n",
    "x_traj = data_x_test\n",
    "\n",
    "# Estimated trajectory from DL\n",
    "x0_test = data_x_test[0]\n",
    "x0_test = x0_test.reshape(-1, x0_test.shape[-1])"
   ]
  },
  {
   "cell_type": "code",
   "execution_count": null,
   "metadata": {},
   "outputs": [],
   "source": [
    "x_est_traj_DL = solver.predict(x0_test, traj_len)\n",
    "x_est_traj_rbf = rbf_solver.predict(x0_test, traj_len)"
   ]
  },
  {
   "cell_type": "code",
   "execution_count": null,
   "metadata": {},
   "outputs": [],
   "source": [
    "# Calcualte errors\n",
    "DL_error = np.sqrt(np.mean(np.square(x_est_traj_DL - x_traj)))\n",
    "rbf_error = np.sqrt(np.mean(np.square(x_est_traj_rbf - x_traj)))"
   ]
  },
  {
   "cell_type": "code",
   "execution_count": null,
   "metadata": {},
   "outputs": [],
   "source": [
    "fig, (ax1, ax2) = plt.subplots(1, 2, sharey=False, figsize=(12, 5))\n",
    "\n",
    "# Plot\n",
    "t_grid = np.arange(0, traj_len)\n",
    "ax1.plot(t_grid, x_traj[:, 0], \"k-\", label=\"Exact\", markevery=2)\n",
    "ax1.plot(t_grid, x_est_traj_DL[:, 0], \"bo\", label=\"EDMD-DL\", markevery=2)\n",
    "ax1.plot(t_grid, x_est_traj_rbf[:, 0], \"gs\", label=\"EDMD (RBF)\", markevery=2)\n",
    "\n",
    "ax2.plot(t_grid, x_traj[:, 1], \"k-\", label=\"Exact\", markevery=2)\n",
    "ax2.plot(t_grid, x_est_traj_DL[:, 1], \"bo\", label=\"EDMD-DL\", markevery=2)\n",
    "ax2.plot(t_grid, x_est_traj_rbf[:, 1], \"gs\", label=\"EDMD (RBF)\", markevery=2)\n",
    "\n",
    "\n",
    "ax1.set_xlabel(r\"$n$\")\n",
    "ax1.set_ylabel(r\"$x_{1}(n)$\")\n",
    "ax1.legend(loc=\"best\", prop={\"size\": 14})\n",
    "\n",
    "ax2.set_xlabel(r\"$n$\")\n",
    "ax2.set_ylabel(r\"$x_{2}(n)$\")\n",
    "ax2.legend(loc=\"best\", prop={\"size\": 14})\n",
    "\n",
    "print(\"DL error: \", DL_error, \"  RBF error: \", rbf_error)\n",
    "fig.tight_layout()"
   ]
  },
  {
   "cell_type": "code",
   "execution_count": null,
   "metadata": {},
   "outputs": [],
   "source": [
    "# Generate dynamical data\n",
    "xmin, xmax = vdp_test.x_min, vdp_test.x_max\n",
    "dim = vdp_test.dim\n",
    "\n",
    "# Check eigenfunction quality\n",
    "ds = 0.2\n",
    "num_print = 8\n",
    "\n",
    "x_grid = np.mgrid[xmin : xmax + ds : ds, xmin : xmax + ds : ds].reshape(dim, -1).T\n",
    "\n",
    "ode_solver = vdp_test.euler\n",
    "\n",
    "# DL\n",
    "phi_DL = solver.eigenfunctions(x_grid)\n",
    "phif_DL = solver.eigenfunctions(ode_solver(x_grid))\n",
    "mu_DL = solver.eigenvalues\n",
    "error_DL = np.mean(((phi_DL * mu_DL) - phif_DL) ** 2, axis=0)\n",
    "print(\"DL Eigenfunction errors:\\n\", np.abs(error_DL)[0:8])\n",
    "\n",
    "\n",
    "# rbf\n",
    "phi_rbf = rbf_solver.eigenfunctions(x_grid)\n",
    "phif_rbf = rbf_solver.eigenfunctions(ode_solver(x_grid))\n",
    "mu_rbf = rbf_solver.eigenvalues\n",
    "error_rbf = np.mean(((phi_rbf * mu_rbf) - phif_rbf) ** 2, axis=0)\n",
    "print(\"rbf Eigenfunction errors:\\n\", np.abs(error_rbf)[0:8])"
   ]
  },
  {
   "cell_type": "code",
   "execution_count": null,
   "metadata": {},
   "outputs": [],
   "source": [
    "ax = plt.axes()\n",
    "plt.semilogy(np.sqrt(np.abs(error_DL)[0:8]), \"bo\", label=\"EDMD-DL\")\n",
    "plt.semilogy(np.sqrt(np.abs(error_rbf[0:8])), \"gs\", label=\"EDMD (RBF)\")\n",
    "plt.legend(loc=\"best\", fontsize=\"x-small\")\n",
    "ax.set_xticks(np.arange(8))\n",
    "ax.set_xticklabels(np.arange(1, 9))\n",
    "ax.set_xlabel(\"j\")\n",
    "ax.set_ylabel(r\"$E_j$\")\n",
    "ax.set_ylim([1e-6, 1e1])\n",
    "plt.tight_layout()\n",
    "# plt.cla()\n",
    "# plt.clf()\n",
    "# plt.close()"
   ]
  },
  {
   "cell_type": "code",
   "execution_count": null,
   "metadata": {},
   "outputs": [],
   "source": [
    "# Number of outputs vs reconstruction accuracy\n",
    "dic_dims = [0, 1, 5, 10, 25, 50, 100]\n",
    "\n",
    "# Train Koopman model with different number of dictionaries\n",
    "dl_solvers = []\n",
    "\n",
    "for d in dic_dims:\n",
    "    basis_function = PsiNN(layer_sizes=[100, 100, 100], n_psi_train=d)\n",
    "    solver = KoopmanDLSolver(dic=basis_function, target_dim=2, reg=0.1)\n",
    "    solver.build(\n",
    "        data_train=data_train,\n",
    "        data_valid=data_valid,\n",
    "        epochs=500,\n",
    "        batch_size=5000,\n",
    "        lr=1e-4,\n",
    "        log_interval=20,\n",
    "        lr_decay_factor=0.8,\n",
    "    )\n",
    "\n",
    "    dl_solvers.append(solver)\n",
    "    print(\"Model has %d trainable parameters.\" % d)\n",
    "\n",
    "n_test = 50\n",
    "dl_errors = []\n",
    "traj_len = 50  # length of test trajectories\n",
    "\n",
    "for i in range(len(dl_solvers)):\n",
    "    solver = dl_solvers[i]\n",
    "    dl_error = 0\n",
    "    for j in range(n_test):\n",
    "        if j % 10 == 0:\n",
    "            print(\"Model no.: \", i, \" Test no.: \", j)\n",
    "        # Generate testing data\n",
    "        vdp_test = VanderPolOscillator()\n",
    "        data_x_test = vdp_test.generate_init_data(n_traj=1, traj_len=traj_len, seed=100)\n",
    "\n",
    "        # Exact trajectory\n",
    "        x_traj = data_x_test\n",
    "\n",
    "        # Estimated trajectory from DL\n",
    "        x0_test = data_x_test[0]\n",
    "        x0_test = x0_test.reshape(-1, x0_test.shape[-1])\n",
    "        x_est_traj_DL = solver.predict(x0_test, traj_len)\n",
    "\n",
    "        # Calcualte errors\n",
    "        dl_error += np.sqrt(np.mean(np.abs(np.square(x_est_traj_DL - x_traj))))\n",
    "    dl_errors.append(dl_error / n_test)"
   ]
  },
  {
   "cell_type": "code",
   "execution_count": null,
   "metadata": {},
   "outputs": [],
   "source": [
    "rbf_dic_dims = [1, 5, 10, 25, 50, 100]\n",
    "\n",
    "rbf_solvers = []\n",
    "for d in rbf_dic_dims:\n",
    "    rbf_basis_func = DicRBF(rbf_number=d, regularizer=1e-4)\n",
    "    rbf_basis_func.build(data_x_train)\n",
    "    rbf_solver = KoopmanGeneralSolver(dic=rbf_basis_func, target_dim=2, reg=0.0)\n",
    "    rbf_solver.build(data_train)\n",
    "    rbf_solvers.append(rbf_solver)\n",
    "\n",
    "n_test = 50\n",
    "rbf_errors = []\n",
    "traj_len = 50  # length of test trajectories\n",
    "\n",
    "for i in range(len(rbf_solvers)):\n",
    "    solver = rbf_solvers[i]\n",
    "    rbf_error = 0\n",
    "    for j in range(n_test):\n",
    "        if j % 10 == 0:\n",
    "            print(\"Model no.: \", i, \" Test no.: \", j)\n",
    "        # Generate testing data\n",
    "        vdp_test = VanderPolOscillator()\n",
    "        data_x_test = vdp_test.generate_init_data(n_traj=1, traj_len=traj_len, seed=100)\n",
    "\n",
    "        # Exact trajectory\n",
    "        x_traj = data_x_test\n",
    "\n",
    "        # Estimated trajectory from rbf\n",
    "        x0_test = data_x_test[0]\n",
    "        x0_test = x0_test.reshape(-1, x0_test.shape[-1])\n",
    "        x_est_traj_rbf = solver.predict(x0_test, traj_len)\n",
    "\n",
    "        # Calcualte errors\n",
    "        rbf_error += np.sqrt(np.mean(np.square(x_est_traj_rbf - x_traj)))\n",
    "    rbf_errors.append(rbf_error / n_test)\n",
    "rbf_errors = [dl_errors[0]] + rbf_errors\n",
    "\n",
    "ddims = [0, 1, 5, 10, 25, 50, 100]"
   ]
  },
  {
   "cell_type": "code",
   "execution_count": null,
   "metadata": {},
   "outputs": [],
   "source": [
    "matplotlib.rcParams.update({\"font.size\": 18})\n",
    "\n",
    "plt.plot(ddims, dl_errors, \"-o\", label=\"EDMD-DL\")\n",
    "plt.plot(ddims, rbf_errors, \"-s\", label=\"EDMD (RBF)\")\n",
    "plt.legend(loc=\"best\")\n",
    "plt.ylabel(\"Reconstruction Error\")\n",
    "plt.xlabel(\"Number of dictionary elements\")\n",
    "# plt.clf()"
   ]
  },
  {
   "cell_type": "code",
   "execution_count": null,
   "metadata": {},
   "outputs": [],
   "source": []
  }
 ],
 "metadata": {
  "kernelspec": {
   "display_name": "Python 3.8.3 ('koopman')",
   "language": "python",
   "name": "python3"
  },
  "language_info": {
   "codemirror_mode": {
    "name": "ipython",
    "version": 3
   },
   "file_extension": ".py",
   "mimetype": "text/x-python",
   "name": "python",
   "nbconvert_exporter": "python",
   "pygments_lexer": "ipython3",
   "version": "3.8.8"
  },
  "vscode": {
   "interpreter": {
    "hash": "7acb514c14a5e64d33ea17ccb98828e418781d92c0e5dc50854b2be7b9a5d94d"
   }
  }
 },
 "nbformat": 4,
 "nbformat_minor": 2
}
