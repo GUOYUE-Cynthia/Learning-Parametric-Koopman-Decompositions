{
 "cells": [
  {
   "cell_type": "code",
   "execution_count": 2,
   "metadata": {},
   "outputs": [],
   "source": [
    "import os; os.environ['CUDA_VISIBLE_DEVICES'] = '-1'"
   ]
  },
  {
   "cell_type": "code",
   "execution_count": 3,
   "metadata": {},
   "outputs": [],
   "source": [
    "%load_ext autoreload\n",
    "%autoreload 2"
   ]
  },
  {
   "cell_type": "code",
   "execution_count": 4,
   "metadata": {},
   "outputs": [],
   "source": [
    "import numpy as np\n",
    "import tensorflow as tf\n",
    "import matplotlib.pyplot as plt\n",
    "import seaborn as sns"
   ]
  },
  {
   "cell_type": "code",
   "execution_count": 5,
   "metadata": {},
   "outputs": [],
   "source": [
    "from koopmanlib.functions import *"
   ]
  },
  {
   "cell_type": "code",
   "execution_count": 6,
   "metadata": {},
   "outputs": [],
   "source": [
    "import json\n",
    "import sys"
   ]
  },
  {
   "cell_type": "markdown",
   "metadata": {},
   "source": [
    "# Generate data"
   ]
  },
  {
   "cell_type": "code",
   "execution_count": 39,
   "metadata": {},
   "outputs": [],
   "source": [
    "config_file = 'config_fhn.json'"
   ]
  },
  {
   "cell_type": "code",
   "execution_count": 40,
   "metadata": {},
   "outputs": [],
   "source": [
    "data_path = 'results/fhn_pde/data'\n",
    "weights_path = 'results/fhn_pde/weights'\n",
    "figures_path = 'results/fhn_pde/figures'"
   ]
  },
  {
   "cell_type": "code",
   "execution_count": 41,
   "metadata": {},
   "outputs": [],
   "source": [
    "with open(config_file, 'r') as f:\n",
    "    config = json.load(f)['fhn_settings']"
   ]
  },
  {
   "cell_type": "code",
   "execution_count": 42,
   "metadata": {},
   "outputs": [],
   "source": [
    "Nx = config['data_settings']['Nx']\n",
    "n_init = config['data_settings']['n_init']\n",
    "traj_len = config['data_settings']['traj_len']"
   ]
  },
  {
   "cell_type": "code",
   "execution_count": 43,
   "metadata": {},
   "outputs": [],
   "source": [
    "n_psi_train = config['nn_settings']['n_psi_train']\n",
    "target_dim = Nx*2\n",
    "param_dim = 1\n",
    "n_psi = 1 + target_dim + n_psi_train\n",
    "dict_layer_size = config['nn_settings']['dict_layer_size']\n",
    "K_layer_size = config['nn_settings']['K_layer_size']"
   ]
  },
  {
   "cell_type": "code",
   "execution_count": 44,
   "metadata": {},
   "outputs": [],
   "source": [
    "x = np.linspace(-10,10,Nx)\n",
    "t = np.arange(0, traj_len, 1)"
   ]
  },
  {
   "cell_type": "code",
   "execution_count": 45,
   "metadata": {},
   "outputs": [],
   "source": [
    "from koopmanlib.target import FitzHughNagumoTarget"
   ]
  },
  {
   "cell_type": "code",
   "execution_count": 46,
   "metadata": {},
   "outputs": [],
   "source": [
    "fhn_pde = FitzHughNagumoTarget(\n",
    "            n_init=n_init,\n",
    "            traj_len=traj_len,\n",
    "            x=x,\n",
    "            dt=1e-5,\n",
    "            t_step=1e-3,\n",
    "            dim=target_dim,\n",
    "            param_dim=param_dim,\n",
    "#             delta=4,\n",
    "#             epsilon=3,\n",
    "            param_input=1e3,\n",
    "            seed_z=1,\n",
    "            seed_param=123)"
   ]
  },
  {
   "cell_type": "code",
   "execution_count": 13,
   "metadata": {},
   "outputs": [],
   "source": [
    "# data_z_curr, data_u, data_z_next = fhn_pde.generate_data()"
   ]
  },
  {
   "cell_type": "code",
   "execution_count": 18,
   "metadata": {},
   "outputs": [],
   "source": [
    "data_dict = np.load(os.path.join(data_path, 'data_fhn_Nx_'+str(Nx)+'.npy'), allow_pickle=True)"
   ]
  },
  {
   "cell_type": "code",
   "execution_count": 19,
   "metadata": {},
   "outputs": [],
   "source": [
    "data_z_curr = data_dict[()]['data_z_curr']\n",
    "data_u = data_dict[()]['data_u']\n",
    "data_z_next = data_dict[()]['data_z_next']"
   ]
  },
  {
   "cell_type": "code",
   "execution_count": 20,
   "metadata": {},
   "outputs": [
    {
     "data": {
      "text/plain": [
       "(49900, 20)"
      ]
     },
     "execution_count": 20,
     "metadata": {},
     "output_type": "execute_result"
    }
   ],
   "source": [
    "data_z_curr.shape"
   ]
  },
  {
   "cell_type": "code",
   "execution_count": 21,
   "metadata": {},
   "outputs": [],
   "source": [
    "data_z_curr_reshape = data_z_curr.reshape(-1,n_init,target_dim)\n",
    "data_z_curr_reshape_trans = np.transpose(data_z_curr_reshape, (1,0,2))\n",
    "\n",
    "sample_idx = 1"
   ]
  },
  {
   "cell_type": "code",
   "execution_count": 62,
   "metadata": {},
   "outputs": [],
   "source": [
    "# x_axis = x\n",
    "# y_axis = np.arange(0, t.shape[0]-1, 1)\n",
    "# plot_pde(x_axis=x_axis, \n",
    "#         y_axis=y_axis, \n",
    "#         data=data_z_curr_reshape_trans[sample_idx], \n",
    "#         Nx=Nx)"
   ]
  },
  {
   "cell_type": "code",
   "execution_count": 23,
   "metadata": {},
   "outputs": [],
   "source": [
    "from sklearn.preprocessing import StandardScaler\n",
    "scaler_z = StandardScaler()\n",
    "scaler_z.fit(data_z_curr)\n",
    "\n",
    "z_curr_normalized = scaler_z.transform(data_z_curr)\n",
    "z_next_normalized = scaler_z.transform(data_z_next)\n",
    "\n",
    "# After the prediction, we use inverse_transform to recover data.\n",
    "\n",
    "# z_curr_recover = scaler_z.inverse_transform(z_curr_normalized)"
   ]
  },
  {
   "cell_type": "markdown",
   "metadata": {},
   "source": [
    "# Build model"
   ]
  },
  {
   "cell_type": "code",
   "execution_count": 24,
   "metadata": {},
   "outputs": [],
   "source": [
    "from koopmanlib.dictionary import PsiNN\n",
    "from koopmanlib.param_solver import KoopmanParametricDLSolver"
   ]
  },
  {
   "cell_type": "code",
   "execution_count": 25,
   "metadata": {},
   "outputs": [],
   "source": [
    "from tensorflow.keras.optimizers import Adam"
   ]
  },
  {
   "cell_type": "code",
   "execution_count": 26,
   "metadata": {},
   "outputs": [],
   "source": [
    "dic_pk = PsiNN(layer_sizes=dict_layer_size, n_psi_train=n_psi_train)"
   ]
  },
  {
   "cell_type": "code",
   "execution_count": 47,
   "metadata": {},
   "outputs": [],
   "source": [
    "solver_pk = KoopmanParametricDLSolver(target_dim=target_dim, \n",
    "                                      param_dim=param_dim, \n",
    "                                      n_psi=n_psi,\n",
    "                                      dic=dic_pk)"
   ]
  },
  {
   "cell_type": "code",
   "execution_count": 48,
   "metadata": {},
   "outputs": [],
   "source": [
    "# model_pk, model_K_u_pred_pk = solver_pk.generate_model(layer_sizes=[128,128])\n",
    "model_pk, model_K_u_pred_pk = solver_pk.generate_model(layer_sizes=K_layer_size)"
   ]
  },
  {
   "cell_type": "code",
   "execution_count": 49,
   "metadata": {
    "scrolled": true
   },
   "outputs": [],
   "source": [
    "# model_pk.summary()"
   ]
  },
  {
   "cell_type": "code",
   "execution_count": 50,
   "metadata": {},
   "outputs": [],
   "source": [
    "model_pk.load_weights('results/fhn_pde/v4_norm_psi_'+str(n_psi_train)+'_model_pk_fhn_Nx_'+str(Nx)+'.h5')"
   ]
  },
  {
   "cell_type": "code",
   "execution_count": 32,
   "metadata": {},
   "outputs": [],
   "source": [
    "# model_pk.load_weights('results/fhn_pde/v3_norm_psi_'+str(n_psi_train)+'_model_pk_fhn_Nx_'+str(Nx)+'.h5')"
   ]
  },
  {
   "cell_type": "markdown",
   "metadata": {},
   "source": [
    "# Prediction"
   ]
  },
  {
   "cell_type": "code",
   "execution_count": 51,
   "metadata": {},
   "outputs": [],
   "source": [
    "n_init_test = 1\n",
    "traj_len_test = 500"
   ]
  },
  {
   "cell_type": "code",
   "execution_count": 52,
   "metadata": {},
   "outputs": [],
   "source": [
    "fhn_pde_test = FitzHughNagumoTarget(\n",
    "            n_init=n_init_test,\n",
    "            traj_len=traj_len_test,\n",
    "            x=x,\n",
    "            dt=1e-5,\n",
    "            t_step=1e-3,\n",
    "            dim=target_dim,\n",
    "            param_dim=param_dim,\n",
    "            param_input=1e3,\n",
    "            seed_z=11,\n",
    "            seed_param=11)"
   ]
  },
  {
   "cell_type": "code",
   "execution_count": 53,
   "metadata": {},
   "outputs": [],
   "source": [
    "data_true_normalized, data_pred_pk_normalized, z_curr_ori = recover_prediction(target=fhn_pde_test,\n",
    "                                                           scaler=scaler_z,\n",
    "                                                           solver=solver_pk)"
   ]
  },
  {
   "cell_type": "code",
   "execution_count": 54,
   "metadata": {},
   "outputs": [
    {
     "data": {
      "text/plain": [
       "((499, 20), (499, 20), (499, 20))"
      ]
     },
     "execution_count": 54,
     "metadata": {},
     "output_type": "execute_result"
    }
   ],
   "source": [
    "data_true_normalized.shape, data_pred_pk_normalized.shape, z_curr_ori.shape"
   ]
  },
  {
   "cell_type": "code",
   "execution_count": 55,
   "metadata": {},
   "outputs": [],
   "source": [
    "x_axis = x\n",
    "y_axis = np.arange(0, data_true_normalized.shape[0], 1)"
   ]
  },
  {
   "cell_type": "code",
   "execution_count": 56,
   "metadata": {},
   "outputs": [],
   "source": [
    "# plot_pde_comparison(x_axis=x_axis,\n",
    "#                     y_axis=y_axis, \n",
    "#                     data_true=data_true_normalized, \n",
    "#                     data_pred=data_pred_pk_normalized,\n",
    "#                     Nx=Nx)"
   ]
  },
  {
   "cell_type": "code",
   "execution_count": 57,
   "metadata": {},
   "outputs": [],
   "source": [
    "ratio_pk_normalized = compute_diff_ratio_one_traj(data_true_normalized, \n",
    "                                    data_pred_pk_normalized)"
   ]
  },
  {
   "cell_type": "code",
   "execution_count": 58,
   "metadata": {},
   "outputs": [],
   "source": [
    "data_pred_pk_recover = scaler_z.inverse_transform(data_pred_pk_normalized)"
   ]
  },
  {
   "cell_type": "code",
   "execution_count": 59,
   "metadata": {},
   "outputs": [
    {
     "data": {
      "image/png": "[encoded data removed]",
      "text/plain": [
       "<Figure size 1152x864 with 8 Axes>"
      ]
     },
     "metadata": {
      "needs_background": "light"
     },
     "output_type": "display_data"
    }
   ],
   "source": [
    "plot_pde_comparison(x_axis=x_axis,\n",
    "                    y_axis=y_axis, \n",
    "                    data_true=z_curr_ori, \n",
    "                    data_pred=data_pred_pk_recover,\n",
    "                    Nx=Nx)"
   ]
  },
  {
   "cell_type": "code",
   "execution_count": 63,
   "metadata": {},
   "outputs": [],
   "source": [
    "ratio_pk_recover = compute_diff_ratio_one_traj(z_curr_ori, \n",
    "                                    data_pred_pk_recover)"
   ]
  },
  {
   "cell_type": "code",
   "execution_count": 64,
   "metadata": {},
   "outputs": [
    {
     "data": {
      "text/plain": [
       "(499, 20)"
      ]
     },
     "execution_count": 64,
     "metadata": {},
     "output_type": "execute_result"
    }
   ],
   "source": [
    "data_pred_pk_normalized.shape"
   ]
  },
  {
   "cell_type": "markdown",
   "metadata": {},
   "source": [
    "# RBF + Ploynomial K (1, $u, u^2, u^3$)"
   ]
  },
  {
   "cell_type": "code",
   "execution_count": 65,
   "metadata": {},
   "outputs": [],
   "source": [
    "from koopmanlib.dictionary import DicGaussianRBF\n",
    "\n",
    "dic_rbf_fhn = DicGaussianRBF(rbf_number=n_psi_train, s=1/20)\n",
    "# dic_rbf_fhn = DicGaussianRBF(rbf_number=30)\n",
    "\n",
    "\n",
    "\n",
    "dic_rbf_fhn.build(z_curr_normalized)\n",
    "\n",
    "from koopmanlib.param_solver import KoopmanActuatedDLSolver\n",
    "\n",
    "solver_rbf = KoopmanActuatedDLSolver(dic=dic_rbf_fhn, \n",
    "                                     target_dim=target_dim, \n",
    "                                     param_dim=param_dim, \n",
    "                                     n_psi=n_psi, \n",
    "                                     basis_u_func=fhn_pde.basis_u_func)\n",
    "\n",
    "model_rbf = solver_rbf.build_model()\n",
    "\n",
    "model_rbf_opt = solver_rbf.opt_rbf_model(data_x=z_curr_normalized,\n",
    "                                 data_u=data_u,\n",
    "                                 data_y=z_next_normalized)"
   ]
  },
  {
   "cell_type": "code",
   "execution_count": 66,
   "metadata": {},
   "outputs": [],
   "source": [
    "data_true_normalized, data_pred_rbf_normalized, z_curr_ori = recover_prediction(target=fhn_pde_test,\n",
    "                                                           scaler=scaler_z,\n",
    "                                                           solver=solver_rbf)"
   ]
  },
  {
   "cell_type": "code",
   "execution_count": 67,
   "metadata": {
    "scrolled": false
   },
   "outputs": [],
   "source": [
    "# # Normalized space\n",
    "# x_axis = np.arange(0, Nx, 1)\n",
    "# y_axis = np.arange(0, traj_len_test-1, 1)\n",
    "\n",
    "# plot_pde_comparison(x_axis,\n",
    "#                 y_axis, \n",
    "#                 data_true=data_true_normalized, \n",
    "#                 data_pred=data_pred_rbf_normalized, \n",
    "#                 Nx=Nx)"
   ]
  },
  {
   "cell_type": "code",
   "execution_count": 68,
   "metadata": {},
   "outputs": [],
   "source": [
    "ratio_rbf_normalized = compute_diff_ratio_one_traj(data_true_normalized, data_pred_rbf_normalized)"
   ]
  },
  {
   "cell_type": "code",
   "execution_count": 69,
   "metadata": {},
   "outputs": [],
   "source": [
    "# Original space\n",
    "data_pred_rbf_recover = scaler_z.inverse_transform(data_pred_rbf_normalized)"
   ]
  },
  {
   "cell_type": "code",
   "execution_count": 70,
   "metadata": {},
   "outputs": [],
   "source": [
    "# x_axis = np.arange(0, Nx, 1)\n",
    "# y_axis = np.arange(0, traj_len_test-1, 1)\n",
    "# plot_pde_comparison(x_axis, y_axis, data_true=z_curr_ori, data_pred=data_pred_rbf_recover, Nx=Nx)"
   ]
  },
  {
   "cell_type": "code",
   "execution_count": 71,
   "metadata": {},
   "outputs": [
    {
     "data": {
      "text/plain": [
       "(499, 20)"
      ]
     },
     "execution_count": 71,
     "metadata": {},
     "output_type": "execute_result"
    }
   ],
   "source": [
    "data_pred_rbf_recover.shape"
   ]
  },
  {
   "cell_type": "code",
   "execution_count": 72,
   "metadata": {},
   "outputs": [],
   "source": [
    "ratio_rbf_recover = compute_diff_ratio_one_traj(z_curr_ori, \n",
    "                                    data_pred_rbf_recover)"
   ]
  },
  {
   "cell_type": "markdown",
   "metadata": {},
   "source": [
    "# DL + Actuated K (1, $u, u^2, u^3$)"
   ]
  },
  {
   "cell_type": "code",
   "execution_count": 73,
   "metadata": {},
   "outputs": [],
   "source": [
    "dic_dl_actK = PsiNN(layer_sizes=[128,128], n_psi_train=n_psi_train)\n",
    "\n",
    "solver_dl_actK = KoopmanActuatedDLSolver(dic=dic_dl_actK, \n",
    "                                         target_dim=target_dim,\n",
    "                                         param_dim=param_dim,\n",
    "                                         n_psi=n_psi, \n",
    "                                         basis_u_func=fhn_pde.basis_u_func)\n",
    "\n",
    "model_dl_actK = solver_dl_actK.build_model()\n",
    "\n",
    "# solver_dl_actK.opt_nn_model(data_x=z_curr_normalized,\n",
    "#                     data_u=data_u, \n",
    "#                     data_y=z_next_normalized, \n",
    "#                     zeros_data_y_train=zeros_data_z_next_train,\n",
    "#                     epochs=30,\n",
    "#                     batch_size=200,\n",
    "#                     lr=0.0001,\n",
    "#                     log_interval=20,\n",
    "#                     lr_decay_factor=0.1)"
   ]
  },
  {
   "cell_type": "code",
   "execution_count": 74,
   "metadata": {},
   "outputs": [],
   "source": [
    "# solver_dl_actK.model.save_weights('results/fhn_pde/norm_psi_'+str(n_psi_train)+'_model_dl_actK_fhn_Nx_'+str(Nx)+'.h5')"
   ]
  },
  {
   "cell_type": "code",
   "execution_count": 75,
   "metadata": {},
   "outputs": [],
   "source": [
    "solver_dl_actK.model.load_weights('results/fhn_pde/norm_psi_'+str(n_psi_train)+'_model_dl_actK_fhn_Nx_'+str(Nx)+'.h5')"
   ]
  },
  {
   "cell_type": "code",
   "execution_count": 76,
   "metadata": {},
   "outputs": [],
   "source": [
    "data_true_normalized, data_pred_dl_actK_normalized, z_curr_ori = recover_prediction(target=fhn_pde_test,\n",
    "                                                           scaler=scaler_z,\n",
    "                                                           solver=solver_dl_actK)"
   ]
  },
  {
   "cell_type": "code",
   "execution_count": 77,
   "metadata": {},
   "outputs": [],
   "source": [
    "# # Normalized space\n",
    "# x_axis = np.arange(0, Nx, 1)\n",
    "# y_axis = np.arange(0, traj_len_test-1, 1)\n",
    "\n",
    "# plot_pde_comparison(x_axis,\n",
    "#                 y_axis, \n",
    "#                 data_true=data_true_normalized, \n",
    "#                 data_pred=data_pred_dl_actK_normalized, \n",
    "#                 Nx=Nx)"
   ]
  },
  {
   "cell_type": "code",
   "execution_count": 78,
   "metadata": {},
   "outputs": [],
   "source": [
    "ratio_dl_actK_normalized = compute_diff_ratio_one_traj(data_true_normalized, data_pred_dl_actK_normalized)"
   ]
  },
  {
   "cell_type": "code",
   "execution_count": 79,
   "metadata": {},
   "outputs": [],
   "source": [
    "# Original space\n",
    "data_pred_dl_actK_recover = scaler_z.inverse_transform(data_pred_dl_actK_normalized)"
   ]
  },
  {
   "cell_type": "code",
   "execution_count": 80,
   "metadata": {},
   "outputs": [],
   "source": [
    "# x_axis = np.arange(0, Nx, 1)\n",
    "# y_axis = np.arange(0, traj_len_test-1, 1)\n",
    "# plot_pde_comparison(x_axis, y_axis, data_true=z_curr_ori, data_pred=data_pred_dl_actK_recover, Nx=Nx)"
   ]
  },
  {
   "cell_type": "code",
   "execution_count": 81,
   "metadata": {},
   "outputs": [],
   "source": [
    "ratio_dl_actK_recover = compute_diff_ratio_one_traj(z_curr_ori, \n",
    "                                    data_pred_dl_actK_recover)"
   ]
  },
  {
   "cell_type": "code",
   "execution_count": 82,
   "metadata": {},
   "outputs": [
    {
     "data": {
      "text/plain": [
       "<matplotlib.legend.Legend at 0x7fbe98032190>"
      ]
     },
     "execution_count": 82,
     "metadata": {},
     "output_type": "execute_result"
    },
    {
     "data": {
      "image/png": "[encoded data removed]",
      "text/plain": [
       "<Figure size 432x288 with 1 Axes>"
      ]
     },
     "metadata": {
      "needs_background": "light"
     },
     "output_type": "display_data"
    }
   ],
   "source": [
    "plt.plot(ratio_rbf_normalized, label='rbf')\n",
    "plt.plot(ratio_pk_normalized, label='pk')\n",
    "plt.plot(ratio_dl_actK_normalized, label='dl + actK')\n",
    "plt.legend()"
   ]
  },
  {
   "cell_type": "code",
   "execution_count": 83,
   "metadata": {},
   "outputs": [],
   "source": [
    "# plt.plot(ratio_rbf_recover, label='rbf')\n",
    "# plt.plot(ratio_pk_recover, label='pk')\n",
    "# plt.plot(ratio_dl_actK_recover, label='dl + actK')\n",
    "# plt.legend()"
   ]
  },
  {
   "cell_type": "markdown",
   "metadata": {},
   "source": [
    "# Average Prediction"
   ]
  },
  {
   "cell_type": "code",
   "execution_count": 84,
   "metadata": {},
   "outputs": [],
   "source": [
    "np.random.seed(111)\n",
    "n_test = 10\n",
    "seed_z_list = np.random.randint(1,300, size=(n_test,))\n",
    "seed_param_list = np.random.randint(1,300, size=(n_test,))\n",
    "\n",
    "n_traj_test = 1\n",
    "\n",
    "x_axis = x\n",
    "y_axis = np.arange(0, traj_len_test-1, 1)"
   ]
  },
  {
   "cell_type": "code",
   "execution_count": 88,
   "metadata": {},
   "outputs": [],
   "source": [
    "# ratio_pk_list = []\n",
    "# ratio_rbf_list = []\n",
    "# ratio_dl_actK_list = []\n",
    "\n",
    "# for seed_z, seed_param in zip(seed_z_list, seed_param_list):\n",
    "#     fhn_pde_test = FitzHughNagumoTarget(\n",
    "#             n_init=n_init_test,\n",
    "#             traj_len=traj_len_test,\n",
    "#             x=x,\n",
    "#             dt=1e-5,\n",
    "#             t_step=1e-3,\n",
    "#             dim=target_dim,\n",
    "#             param_dim=param_dim,\n",
    "#             param_input=1e3,\n",
    "#             seed_z=seed_z,\n",
    "#             seed_param=seed_param)\n",
    "    \n",
    "#     data_true_normalized, data_pred_pk_normalized, z_curr_ori = recover_prediction(target=fhn_pde_test,\n",
    "#                                                            scaler=scaler_z,\n",
    "#                                                            solver=solver_pk)\n",
    "    \n",
    "#     data_true_normalized, data_pred_rbf_normalized, z_curr_ori = recover_prediction(target=fhn_pde_test,\n",
    "#                                                            scaler=scaler_z,\n",
    "#                                                            solver=solver_rbf)\n",
    "    \n",
    "#     data_true_normalized, data_pred_dl_actK_normalized, z_curr_ori = recover_prediction(target=fhn_pde_test,\n",
    "#                                                            scaler=scaler_z,\n",
    "#                                                            solver=solver_dl_actK)\n",
    "    \n",
    "#     data_pred_pk_recover = scaler_z.inverse_transform(data_pred_pk_normalized)\n",
    "#     data_pred_rbf_recover = scaler_z.inverse_transform(data_pred_rbf_normalized)\n",
    "#     data_pred_dl_actK_recover = scaler_z.inverse_transform(data_pred_dl_actK_normalized)\n",
    "\n",
    "\n",
    "    \n",
    "#     ratio_pk_recover = compute_diff_ratio_one_traj(z_curr_ori, data_pred_pk_recover)\n",
    "#     ratio_rbf_recover = compute_diff_ratio_one_traj(z_curr_ori, data_pred_rbf_recover)\n",
    "#     ratio_dl_actK_recover = compute_diff_ratio_one_traj(z_curr_ori, data_pred_dl_actK_recover)\n",
    "\n",
    "\n",
    "\n",
    "#     ratio_pk_list.append(ratio_pk_recover)\n",
    "#     ratio_rbf_list.append(ratio_rbf_recover)\n",
    "#     ratio_dl_actK_list.append(ratio_dl_actK_recover)\n",
    "    \n",
    "# #     plt.plot(ratio_rbf_recover, label='rbf')\n",
    "# #     plt.plot(ratio_pk_recover, label='pk')\n",
    "# #     plt.plot(ratio_dl_actK_recover, label='dl + actK')\n",
    "# #     plt.legend()\n",
    "# #     plt.show()\n",
    "\n",
    "# ratio_pk_list = np.asarray(ratio_pk_list)\n",
    "# ratio_rbf_list = np.asarray(ratio_rbf_list)\n",
    "# ratio_dl_actK_list = np.asarray(ratio_dl_actK_list)\n",
    "\n",
    "# def compute_stat_info(data):\n",
    "#     data_mean = np.mean(data, axis=0)\n",
    "#     data_std = np.std(data, axis=0)\n",
    "#     mean_plus_std = data_mean + data_std\n",
    "#     mean_minus_std = data_mean - data_std\n",
    "#     return data_mean, data_std, mean_plus_std, mean_minus_std\n",
    "\n",
    "# mean_pk, std_pk, mean_plus_pk, mean_minus_pk = compute_stat_info(ratio_pk_list)\n",
    "# mean_rbf, std_rbf, mean_plus_rbf, mean_minus_rbf = compute_stat_info(ratio_rbf_list)\n",
    "# mean_dl_actK, std_dl_actK, mean_plus_dl_actK, mean_minus_dl_actK = compute_stat_info(ratio_dl_actK_list)\n",
    "\n",
    "# label_font = 16\n",
    "# ticks_font = 16\n",
    "# legend_font = 16\n",
    "# linewidth = 2\n",
    "\n",
    "# t_axis = np.arange(0, traj_len_test-1, 1)\n",
    "\n",
    "# plt.plot(mean_rbf, label='M4-RBF', color='darkorange', linewidth=linewidth)\n",
    "# plt.fill_between(t_axis, mean_minus_rbf, mean_plus_rbf, color='navajowhite', alpha=0.5)\n",
    "\n",
    "# plt.plot(mean_dl_actK, label='M4-NN', color='forestgreen', linewidth=linewidth)\n",
    "# plt.fill_between(t_axis, mean_minus_dl_actK, mean_plus_dl_actK, color='darkseagreen', alpha=0.5)\n",
    "\n",
    "\n",
    "# plt.plot(mean_pk, label='Ours', color='steelblue', linewidth=linewidth)\n",
    "# plt.fill_between(t_axis, mean_minus_pk, mean_plus_pk, color='lightsteelblue', alpha=0.5)\n",
    "\n",
    "# plt.xticks(fontsize=18)\n",
    "# plt.yticks(fontsize=18)\n",
    "\n",
    "# plt.xlabel(r'$n$', fontsize=28)\n",
    "# plt.ylabel('Error', fontsize=28)\n",
    "# plt.legend(fontsize=14)\n",
    "\n",
    "# plt.savefig('results/fhn_pde/figures/fhn_error_Nx'+str(Nx)+'.png', dpi=200, bbox_inches='tight')\n",
    "# plt.savefig('results/fhn_pde/figures/fhn_error_Nx'+str(Nx)+'.pdf', dpi=200, bbox_inches='tight')"
   ]
  },
  {
   "cell_type": "code",
   "execution_count": 105,
   "metadata": {},
   "outputs": [],
   "source": [
    "# dict_error = {'pk': ratio_pk_list,\n",
    "#              'rbf': ratio_rbf_list,\n",
    "#              'dl':ratio_dl_actK_list}"
   ]
  },
  {
   "cell_type": "code",
   "execution_count": 72,
   "metadata": {},
   "outputs": [],
   "source": [
    "# np.save('results/fhn_pde/data/error_dict.npy', dict_error)"
   ]
  },
  {
   "cell_type": "markdown",
   "metadata": {},
   "source": [
    "# Load data and plot"
   ]
  },
  {
   "cell_type": "code",
   "execution_count": 85,
   "metadata": {},
   "outputs": [],
   "source": [
    "n_init_test = 1\n",
    "traj_len_test = 500\n",
    "Nx = 10"
   ]
  },
  {
   "cell_type": "code",
   "execution_count": 86,
   "metadata": {},
   "outputs": [],
   "source": [
    "dict_error_load = np.load('results/fhn_pde/data/error_dict.npy', allow_pickle=True)"
   ]
  },
  {
   "cell_type": "code",
   "execution_count": 87,
   "metadata": {},
   "outputs": [],
   "source": [
    "ratio_pk_list = dict_error_load[()]['pk']\n",
    "ratio_rbf_list = dict_error_load[()]['rbf']\n",
    "ratio_dl_actK_list = dict_error_load[()]['dl']"
   ]
  },
  {
   "cell_type": "code",
   "execution_count": 88,
   "metadata": {},
   "outputs": [],
   "source": [
    "def compute_stat_info(data):\n",
    "    data_mean = np.mean(data, axis=0)\n",
    "    data_std = np.std(data, axis=0)\n",
    "    mean_plus_std = data_mean + data_std\n",
    "    mean_minus_std = data_mean - data_std\n",
    "    return data_mean, data_std, mean_plus_std, mean_minus_std"
   ]
  },
  {
   "cell_type": "code",
   "execution_count": 89,
   "metadata": {},
   "outputs": [],
   "source": [
    "mean_pk, std_pk, mean_plus_pk, mean_minus_pk = compute_stat_info(ratio_pk_list)\n",
    "mean_rbf, std_rbf, mean_plus_rbf, mean_minus_rbf = compute_stat_info(ratio_rbf_list)\n",
    "mean_dl_actK, std_dl_actK, mean_plus_dl_actK, mean_minus_dl_actK = compute_stat_info(ratio_dl_actK_list)"
   ]
  },
  {
   "cell_type": "code",
   "execution_count": 90,
   "metadata": {},
   "outputs": [],
   "source": [
    "label_font = 16\n",
    "ticks_font = 16\n",
    "legend_font = 16\n",
    "linewidth = 2"
   ]
  },
  {
   "cell_type": "code",
   "execution_count": 91,
   "metadata": {},
   "outputs": [
    {
     "data": {
      "text/plain": [
       "<matplotlib.legend.Legend at 0x7fbe95306070>"
      ]
     },
     "execution_count": 91,
     "metadata": {},
     "output_type": "execute_result"
    },
    {
     "data": {
      "image/png": "[encoded data removed]",
      "text/plain": [
       "<Figure size 432x288 with 1 Axes>"
      ]
     },
     "metadata": {
      "needs_background": "light"
     },
     "output_type": "display_data"
    }
   ],
   "source": [
    "t_axis = np.arange(0, traj_len_test-1, 1)\n",
    "\n",
    "\n",
    "plt.plot(mean_pk, label='Ours', color='steelblue', linewidth=linewidth)\n",
    "plt.fill_between(t_axis, mean_minus_pk, mean_plus_pk, color='lightsteelblue', alpha=0.5)\n",
    "\n",
    "plt.plot(mean_dl_actK, label='M4-NN', color='forestgreen', linewidth=linewidth)\n",
    "plt.fill_between(t_axis, mean_minus_dl_actK, mean_plus_dl_actK, color='darkseagreen', alpha=0.5)\n",
    "\n",
    "\n",
    "plt.plot(mean_rbf, label='M4-RBF', color='darkorange', linewidth=linewidth)\n",
    "plt.fill_between(t_axis, mean_minus_rbf, mean_plus_rbf, color='navajowhite', alpha=0.5)\n",
    "\n",
    "plt.xticks(fontsize=ticks_font)\n",
    "plt.yticks(fontsize=ticks_font)\n",
    "\n",
    "plt.xlabel(r'$n$', fontsize=label_font)\n",
    "plt.ylabel('Error', fontsize=label_font)\n",
    "plt.legend(fontsize=legend_font, loc=(0.03,0.61))\n",
    "\n",
    "\n",
    "# plt.savefig('results/fhn_pde/figures/fhn_error_Nx'+str(Nx)+'.png', dpi=200, bbox_inches='tight')\n",
    "# plt.savefig('results/fhn_pde/figures/fhn_error_Nx'+str(Nx)+'.pdf', dpi=200, bbox_inches='tight')"
   ]
  },
  {
   "cell_type": "code",
   "execution_count": null,
   "metadata": {},
   "outputs": [],
   "source": []
  }
 ],
 "metadata": {
  "kernelspec": {
   "display_name": "koopman",
   "language": "python",
   "name": "koopman"
  },
  "language_info": {
   "codemirror_mode": {
    "name": "ipython",
    "version": 3
   },
   "file_extension": ".py",
   "mimetype": "text/x-python",
   "name": "python",
   "nbconvert_exporter": "python",
   "pygments_lexer": "ipython3",
   "version": "3.8.3"
  }
 },
 "nbformat": 4,
 "nbformat_minor": 2
}
