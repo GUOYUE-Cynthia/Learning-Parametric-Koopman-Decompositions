{
 "cells": [
  {
   "cell_type": "code",
   "execution_count": 1,
   "metadata": {},
   "outputs": [
    {
     "data": {
      "text/html": [
       "<style type='text/css'>\n",
       ".CodeMirror{\n",
       "font-size: 14px;\n",
       "</style>\n"
      ],
      "text/plain": [
       "<IPython.core.display.HTML object>"
      ]
     },
     "metadata": {},
     "output_type": "display_data"
    }
   ],
   "source": [
    "%%html\n",
    "<style type='text/css'>\n",
    ".CodeMirror{\n",
    "font-size: 14px;\n",
    "</style>"
   ]
  },
  {
   "cell_type": "code",
   "execution_count": 1,
   "metadata": {},
   "outputs": [],
   "source": [
    "import os; os.environ['CUDA_VISIBLE_DEVICES'] = '-1'"
   ]
  },
  {
   "cell_type": "code",
   "execution_count": 2,
   "metadata": {},
   "outputs": [],
   "source": [
    "%load_ext autoreload\n",
    "%autoreload 2"
   ]
  },
  {
   "cell_type": "code",
   "execution_count": 3,
   "metadata": {},
   "outputs": [],
   "source": [
    "import numpy as np\n",
    "import tensorflow as tf\n",
    "import matplotlib.pyplot as plt\n",
    "import seaborn as sns"
   ]
  },
  {
   "cell_type": "code",
   "execution_count": 4,
   "metadata": {},
   "outputs": [],
   "source": [
    "from koopmanlib.functions import *"
   ]
  },
  {
   "cell_type": "code",
   "execution_count": 5,
   "metadata": {},
   "outputs": [],
   "source": [
    "import json\n",
    "import sys"
   ]
  },
  {
   "cell_type": "markdown",
   "metadata": {},
   "source": [
    "# Generate data"
   ]
  },
  {
   "cell_type": "code",
   "execution_count": 59,
   "metadata": {},
   "outputs": [],
   "source": [
    "config_file = 'config_fhn.json'"
   ]
  },
  {
   "cell_type": "code",
   "execution_count": 60,
   "metadata": {},
   "outputs": [],
   "source": [
    "data_path = 'results/fhn_pde/data'\n",
    "weights_path = 'results/fhn_pde/weights'\n",
    "figures_path = 'results/fhn_pde/figures'"
   ]
  },
  {
   "cell_type": "code",
   "execution_count": 61,
   "metadata": {},
   "outputs": [],
   "source": [
    "with open(config_file, 'r') as f:\n",
    "    config = json.load(f)['fhn_high_dim_u_settings']"
   ]
  },
  {
   "cell_type": "code",
   "execution_count": 62,
   "metadata": {},
   "outputs": [],
   "source": [
    "Nx = config['data_settings']['Nx']\n",
    "n_init = config['data_settings']['n_init']\n",
    "traj_len = config['data_settings']['traj_len']"
   ]
  },
  {
   "cell_type": "code",
   "execution_count": 63,
   "metadata": {},
   "outputs": [],
   "source": [
    "n_psi_train = config['nn_settings']['n_psi_train']\n",
    "target_dim = Nx*2\n",
    "param_dim = 3\n",
    "n_psi = 1 + target_dim + n_psi_train\n",
    "dict_layer_size = config['nn_settings']['dict_layer_size']\n",
    "K_layer_size = config['nn_settings']['K_layer_size']"
   ]
  },
  {
   "cell_type": "code",
   "execution_count": 64,
   "metadata": {},
   "outputs": [],
   "source": [
    "x = np.linspace(-10,10,Nx)\n",
    "t = np.arange(0, traj_len, 1)"
   ]
  },
  {
   "cell_type": "code",
   "execution_count": 39,
   "metadata": {},
   "outputs": [],
   "source": [
    "from koopmanlib.target import ModifiedFHNTarget"
   ]
  },
  {
   "cell_type": "code",
   "execution_count": 40,
   "metadata": {},
   "outputs": [],
   "source": [
    "fhn_pde = ModifiedFHNTarget(\n",
    "            n_init=n_init,\n",
    "            traj_len=traj_len,\n",
    "            x=x,\n",
    "            dt=1e-5,\n",
    "            t_step=1e-3,\n",
    "            dim=target_dim,\n",
    "            param_dim=param_dim,\n",
    "#             delta=4,\n",
    "#             epsilon=3,\n",
    "            param_input=1e3,\n",
    "            seed_z=1,\n",
    "            seed_param=123)"
   ]
  },
  {
   "cell_type": "code",
   "execution_count": 41,
   "metadata": {},
   "outputs": [],
   "source": [
    "# data_z_curr, data_u, data_z_next = fhn_pde.generate_data()"
   ]
  },
  {
   "cell_type": "code",
   "execution_count": 42,
   "metadata": {},
   "outputs": [],
   "source": [
    "data_dict = np.load('results/fhn_pde/data/data_high_u_fhn_Nx_'+str(Nx)+'.npy', allow_pickle=True)"
   ]
  },
  {
   "cell_type": "code",
   "execution_count": 43,
   "metadata": {},
   "outputs": [],
   "source": [
    "data_z_curr = data_dict[()]['data_z_curr']\n",
    "data_u = data_dict[()]['data_u']\n",
    "data_z_next = data_dict[()]['data_z_next']"
   ]
  },
  {
   "cell_type": "code",
   "execution_count": 44,
   "metadata": {},
   "outputs": [
    {
     "data": {
      "text/plain": [
       "(49900, 20)"
      ]
     },
     "execution_count": 44,
     "metadata": {},
     "output_type": "execute_result"
    }
   ],
   "source": [
    "data_z_curr.shape"
   ]
  },
  {
   "cell_type": "code",
   "execution_count": 45,
   "metadata": {},
   "outputs": [],
   "source": [
    "data_z_curr_reshape = data_z_curr.reshape(-1,n_init,target_dim)\n",
    "data_z_curr_reshape_trans = np.transpose(data_z_curr_reshape, (1,0,2))\n",
    "\n",
    "sample_idx = 1"
   ]
  },
  {
   "cell_type": "code",
   "execution_count": 46,
   "metadata": {},
   "outputs": [],
   "source": [
    "# x_axis = x\n",
    "# y_axis = np.arange(0, t.shape[0]-1, 1)\n",
    "# plot_pde(x_axis=x_axis, \n",
    "#         y_axis=y_axis, \n",
    "#         data=data_z_curr_reshape_trans[sample_idx], \n",
    "#         Nx=Nx)"
   ]
  },
  {
   "cell_type": "code",
   "execution_count": 47,
   "metadata": {},
   "outputs": [],
   "source": [
    "from sklearn.preprocessing import StandardScaler\n",
    "scaler_z = StandardScaler()\n",
    "scaler_z.fit(data_z_curr)\n",
    "\n",
    "z_curr_normalized = scaler_z.transform(data_z_curr)\n",
    "z_next_normalized = scaler_z.transform(data_z_next)\n",
    "\n",
    "# After the prediction, we use inverse_transform to recover data.\n",
    "\n",
    "# z_curr_recover = scaler_z.inverse_transform(z_curr_normalized)"
   ]
  },
  {
   "cell_type": "markdown",
   "metadata": {},
   "source": [
    "# Build model"
   ]
  },
  {
   "cell_type": "code",
   "execution_count": 48,
   "metadata": {},
   "outputs": [],
   "source": [
    "from koopmanlib.dictionary import PsiNN\n",
    "from koopmanlib.param_solver import KoopmanParametricDLSolver"
   ]
  },
  {
   "cell_type": "code",
   "execution_count": 49,
   "metadata": {},
   "outputs": [],
   "source": [
    "from tensorflow.keras.optimizers import Adam"
   ]
  },
  {
   "cell_type": "code",
   "execution_count": 50,
   "metadata": {},
   "outputs": [],
   "source": [
    "dic_pk = PsiNN(layer_sizes=dict_layer_size, n_psi_train=n_psi_train)"
   ]
  },
  {
   "cell_type": "code",
   "execution_count": 51,
   "metadata": {},
   "outputs": [],
   "source": [
    "solver_pk = KoopmanParametricDLSolver(target_dim=target_dim, \n",
    "                                      param_dim=param_dim, \n",
    "                                      n_psi=n_psi,\n",
    "                                      dic=dic_pk)"
   ]
  },
  {
   "cell_type": "code",
   "execution_count": 65,
   "metadata": {},
   "outputs": [],
   "source": [
    "# model_pk, model_K_u_pred_pk = solver_pk.generate_model(layer_sizes=[128,128])\n",
    "model_pk, model_K_u_pred_pk = solver_pk.generate_model(layer_sizes=K_layer_size)"
   ]
  },
  {
   "cell_type": "code",
   "execution_count": 66,
   "metadata": {
    "scrolled": true
   },
   "outputs": [],
   "source": [
    "# model_pk.summary()"
   ]
  },
  {
   "cell_type": "code",
   "execution_count": 67,
   "metadata": {},
   "outputs": [],
   "source": [
    "model_pk.load_weights('results/fhn_pde/norm_high_u_psi_'+str(n_psi_train)+'_model_pk_fhn_Nx_'+str(Nx)+'.h5')"
   ]
  },
  {
   "cell_type": "markdown",
   "metadata": {},
   "source": [
    "# Prediction"
   ]
  },
  {
   "cell_type": "code",
   "execution_count": 33,
   "metadata": {},
   "outputs": [],
   "source": [
    "n_init_test = 1\n",
    "traj_len_test = 500"
   ]
  },
  {
   "cell_type": "code",
   "execution_count": 34,
   "metadata": {},
   "outputs": [],
   "source": [
    "fhn_pde_test = ModifiedFHNTarget(\n",
    "            n_init=n_init_test,\n",
    "            traj_len=traj_len_test,\n",
    "            x=x,\n",
    "            dt=1e-5,\n",
    "            t_step=1e-3,\n",
    "            dim=target_dim,\n",
    "            param_dim=param_dim,\n",
    "            param_input=1e3,\n",
    "            seed_z=11,\n",
    "            seed_param=11)"
   ]
  },
  {
   "cell_type": "code",
   "execution_count": 35,
   "metadata": {},
   "outputs": [],
   "source": [
    "data_true_normalized, data_pred_pk_normalized, z_curr_ori = recover_prediction(target=fhn_pde_test,\n",
    "                                                           scaler=scaler_z,\n",
    "                                                           solver=solver_pk)"
   ]
  },
  {
   "cell_type": "code",
   "execution_count": 36,
   "metadata": {},
   "outputs": [
    {
     "data": {
      "text/plain": [
       "((499, 20), (499, 20), (499, 20))"
      ]
     },
     "execution_count": 36,
     "metadata": {},
     "output_type": "execute_result"
    }
   ],
   "source": [
    "data_true_normalized.shape, data_pred_pk_normalized.shape, z_curr_ori.shape"
   ]
  },
  {
   "cell_type": "code",
   "execution_count": 37,
   "metadata": {},
   "outputs": [],
   "source": [
    "x_axis = x\n",
    "y_axis = np.arange(0, data_true_normalized.shape[0], 1)"
   ]
  },
  {
   "cell_type": "code",
   "execution_count": 38,
   "metadata": {},
   "outputs": [],
   "source": [
    "# plot_pde_comparison(x_axis=x_axis,\n",
    "#                     y_axis=y_axis, \n",
    "#                     data_true=data_true_normalized, \n",
    "#                     data_pred=data_pred_pk_normalized,\n",
    "#                     Nx=Nx)"
   ]
  },
  {
   "cell_type": "code",
   "execution_count": 39,
   "metadata": {},
   "outputs": [],
   "source": [
    "ratio_pk_normalized = compute_diff_ratio_one_traj(data_true_normalized, \n",
    "                                    data_pred_pk_normalized)"
   ]
  },
  {
   "cell_type": "code",
   "execution_count": 40,
   "metadata": {},
   "outputs": [],
   "source": [
    "data_pred_pk_recover = scaler_z.inverse_transform(data_pred_pk_normalized)"
   ]
  },
  {
   "cell_type": "code",
   "execution_count": 41,
   "metadata": {},
   "outputs": [],
   "source": [
    "# plot_pde_comparison(x_axis=x_axis,\n",
    "#                     y_axis=y_axis, \n",
    "#                     data_true=z_curr_ori, \n",
    "#                     data_pred=data_pred_pk_recover,\n",
    "#                     Nx=Nx)"
   ]
  },
  {
   "cell_type": "code",
   "execution_count": 42,
   "metadata": {},
   "outputs": [],
   "source": [
    "ratio_pk_recover = compute_diff_ratio_one_traj(z_curr_ori, \n",
    "                                    data_pred_pk_recover)"
   ]
  },
  {
   "cell_type": "code",
   "execution_count": 43,
   "metadata": {},
   "outputs": [
    {
     "data": {
      "text/plain": [
       "(499, 20)"
      ]
     },
     "execution_count": 43,
     "metadata": {},
     "output_type": "execute_result"
    }
   ],
   "source": [
    "data_pred_pk_normalized.shape"
   ]
  },
  {
   "cell_type": "markdown",
   "metadata": {},
   "source": [
    "# RBF + Actuated K (1, $u, u^2, u^3$)"
   ]
  },
  {
   "cell_type": "code",
   "execution_count": 44,
   "metadata": {
    "scrolled": true
   },
   "outputs": [],
   "source": [
    "from koopmanlib.dictionary import DicGaussianRBF\n",
    "\n",
    "dic_rbf_fhn = DicGaussianRBF(rbf_number=n_psi_train, s=5)\n",
    "# dic_rbf_fhn = DicGaussianRBF(rbf_number=30)\n",
    "\n",
    "\n",
    "\n",
    "dic_rbf_fhn.build(z_curr_normalized)\n",
    "\n",
    "from koopmanlib.param_solver import KoopmanActuatedDLSolver\n",
    "\n",
    "solver_rbf = KoopmanActuatedDLSolver(dic=dic_rbf_fhn, \n",
    "                                     target_dim=target_dim, \n",
    "                                     param_dim=param_dim, \n",
    "                                     n_psi=n_psi, \n",
    "                                     basis_u_func=fhn_pde.basis_u_func)\n",
    "\n",
    "model_rbf = solver_rbf.build_model()\n",
    "\n",
    "model_rbf_opt = solver_rbf.opt_rbf_model(data_x=z_curr_normalized,\n",
    "                                 data_u=data_u,\n",
    "                                 data_y=z_next_normalized)"
   ]
  },
  {
   "cell_type": "code",
   "execution_count": 45,
   "metadata": {},
   "outputs": [],
   "source": [
    "data_true_normalized, data_pred_rbf_normalized, z_curr_ori = recover_prediction(target=fhn_pde_test,\n",
    "                                                           scaler=scaler_z,\n",
    "                                                           solver=solver_rbf)"
   ]
  },
  {
   "cell_type": "code",
   "execution_count": 46,
   "metadata": {
    "scrolled": false
   },
   "outputs": [
    {
     "data": {
      "image/png": "[encoded data removed]",
      "text/plain": [
       "<Figure size 1152x864 with 8 Axes>"
      ]
     },
     "metadata": {
      "needs_background": "light"
     },
     "output_type": "display_data"
    }
   ],
   "source": [
    "# Normalized space\n",
    "x_axis = np.arange(0, Nx, 1)\n",
    "y_axis = np.arange(0, traj_len_test-1, 1)\n",
    "\n",
    "plot_pde_comparison(x_axis,\n",
    "                y_axis, \n",
    "                data_true=data_true_normalized, \n",
    "                data_pred=data_pred_rbf_normalized, \n",
    "                Nx=Nx)"
   ]
  },
  {
   "cell_type": "code",
   "execution_count": 47,
   "metadata": {},
   "outputs": [],
   "source": [
    "ratio_rbf_normalized = compute_diff_ratio_one_traj(data_true_normalized, data_pred_rbf_normalized)"
   ]
  },
  {
   "cell_type": "code",
   "execution_count": 48,
   "metadata": {},
   "outputs": [],
   "source": [
    "# Original space\n",
    "data_pred_rbf_recover = scaler_z.inverse_transform(data_pred_rbf_normalized)"
   ]
  },
  {
   "cell_type": "code",
   "execution_count": 49,
   "metadata": {},
   "outputs": [
    {
     "data": {
      "image/png": "[encoded data removed]",
      "text/plain": [
       "<Figure size 1152x864 with 8 Axes>"
      ]
     },
     "metadata": {
      "needs_background": "light"
     },
     "output_type": "display_data"
    }
   ],
   "source": [
    "x_axis = np.arange(0, Nx, 1)\n",
    "y_axis = np.arange(0, traj_len_test-1, 1)\n",
    "plot_pde_comparison(x_axis, y_axis, data_true=z_curr_ori, data_pred=data_pred_rbf_recover, Nx=Nx)"
   ]
  },
  {
   "cell_type": "code",
   "execution_count": 50,
   "metadata": {},
   "outputs": [
    {
     "data": {
      "text/plain": [
       "(499, 20)"
      ]
     },
     "execution_count": 50,
     "metadata": {},
     "output_type": "execute_result"
    }
   ],
   "source": [
    "data_pred_rbf_recover.shape"
   ]
  },
  {
   "cell_type": "code",
   "execution_count": 51,
   "metadata": {},
   "outputs": [],
   "source": [
    "ratio_rbf_recover = compute_diff_ratio_one_traj(z_curr_ori, \n",
    "                                    data_pred_rbf_recover)"
   ]
  },
  {
   "cell_type": "markdown",
   "metadata": {},
   "source": [
    "# DL + Actuated K (1, $u, u^2, u^3$)"
   ]
  },
  {
   "cell_type": "code",
   "execution_count": 52,
   "metadata": {},
   "outputs": [],
   "source": [
    "dic_dl_actK = PsiNN(layer_sizes=[128,128], n_psi_train=n_psi_train)\n",
    "\n",
    "solver_dl_actK = KoopmanActuatedDLSolver(dic=dic_dl_actK, \n",
    "                                         target_dim=target_dim,\n",
    "                                         param_dim=param_dim,\n",
    "                                         n_psi=n_psi, \n",
    "                                         basis_u_func=fhn_pde.basis_u_func)\n",
    "\n",
    "model_dl_actK = solver_dl_actK.build_model()"
   ]
  },
  {
   "cell_type": "code",
   "execution_count": 53,
   "metadata": {},
   "outputs": [],
   "source": [
    "# solver_dl_actK.opt_nn_model(data_x=z_curr_normalized,\n",
    "#                     data_u=data_u, \n",
    "#                     data_y=z_next_normalized, \n",
    "#                     zeros_data_y_train=zeros_data_z_next_train,\n",
    "#                     epochs=30,\n",
    "#                     batch_size=200,\n",
    "#                     lr=0.0001,\n",
    "#                     log_interval=20,\n",
    "#                     lr_decay_factor=0.1)"
   ]
  },
  {
   "cell_type": "code",
   "execution_count": 54,
   "metadata": {},
   "outputs": [],
   "source": [
    "# solver_dl_actK.model.save_weights('results/fhn_pde/norm_psi_'+str(n_psi_train)+'_model_dl_actK_fhn_Nx_'+str(Nx)+'.h5')"
   ]
  },
  {
   "cell_type": "code",
   "execution_count": 55,
   "metadata": {},
   "outputs": [],
   "source": [
    "solver_dl_actK.model.load_weights('results/fhn_pde/norm_high_u_psi_'+str(n_psi_train)+'_model_dl_actK_fhn_Nx_'+str(Nx)+'.h5')"
   ]
  },
  {
   "cell_type": "code",
   "execution_count": 56,
   "metadata": {},
   "outputs": [],
   "source": [
    "data_true_normalized, data_pred_dl_actK_normalized, z_curr_ori = recover_prediction(target=fhn_pde_test,\n",
    "                                                           scaler=scaler_z,\n",
    "                                                           solver=solver_dl_actK)"
   ]
  },
  {
   "cell_type": "code",
   "execution_count": 57,
   "metadata": {},
   "outputs": [],
   "source": [
    "# # Normalized space\n",
    "# x_axis = np.arange(0, Nx, 1)\n",
    "# y_axis = np.arange(0, traj_len_test-1, 1)\n",
    "\n",
    "# plot_pde_comparison(x_axis,\n",
    "#                 y_axis, \n",
    "#                 data_true=data_true_normalized, \n",
    "#                 data_pred=data_pred_dl_actK_normalized, \n",
    "#                 Nx=Nx)"
   ]
  },
  {
   "cell_type": "code",
   "execution_count": 58,
   "metadata": {},
   "outputs": [],
   "source": [
    "ratio_dl_actK_normalized = compute_diff_ratio_one_traj(data_true_normalized, data_pred_dl_actK_normalized)"
   ]
  },
  {
   "cell_type": "code",
   "execution_count": 59,
   "metadata": {},
   "outputs": [],
   "source": [
    "# Original space\n",
    "data_pred_dl_actK_recover = scaler_z.inverse_transform(data_pred_dl_actK_normalized)"
   ]
  },
  {
   "cell_type": "code",
   "execution_count": 60,
   "metadata": {},
   "outputs": [],
   "source": [
    "# x_axis = np.arange(0, Nx, 1)\n",
    "# y_axis = np.arange(0, traj_len_test-1, 1)\n",
    "# plot_pde_comparison(x_axis, y_axis, data_true=z_curr_ori, data_pred=data_pred_dl_actK_recover, Nx=Nx)"
   ]
  },
  {
   "cell_type": "code",
   "execution_count": 61,
   "metadata": {},
   "outputs": [],
   "source": [
    "ratio_dl_actK_recover = compute_diff_ratio_one_traj(z_curr_ori, \n",
    "                                    data_pred_dl_actK_recover)"
   ]
  },
  {
   "cell_type": "code",
   "execution_count": 62,
   "metadata": {},
   "outputs": [],
   "source": [
    "# plt.plot(ratio_rbf_normalized, label='rbf')\n",
    "# plt.plot(ratio_pk_normalized, label='pk')\n",
    "# plt.plot(ratio_dl_actK_normalized, label='dl + actK')\n",
    "# plt.legend()"
   ]
  },
  {
   "cell_type": "code",
   "execution_count": 63,
   "metadata": {},
   "outputs": [
    {
     "data": {
      "text/plain": [
       "<matplotlib.legend.Legend at 0x7f8530f4ab50>"
      ]
     },
     "execution_count": 63,
     "metadata": {},
     "output_type": "execute_result"
    },
    {
     "data": {
      "image/png": "[encoded data removed]",
      "text/plain": [
       "<Figure size 432x288 with 1 Axes>"
      ]
     },
     "metadata": {
      "needs_background": "light"
     },
     "output_type": "display_data"
    }
   ],
   "source": [
    "plt.plot(ratio_rbf_recover, label='rbf')\n",
    "plt.plot(ratio_pk_recover, label='pk')\n",
    "plt.plot(ratio_dl_actK_recover, label='dl + actK')\n",
    "plt.legend()"
   ]
  },
  {
   "cell_type": "markdown",
   "metadata": {},
   "source": [
    "# Average Prediction"
   ]
  },
  {
   "cell_type": "code",
   "execution_count": 64,
   "metadata": {},
   "outputs": [],
   "source": [
    "np.random.seed(111)\n",
    "n_test = 5\n",
    "seed_z_list = np.random.randint(1,300, size=(n_test,))\n",
    "seed_param_list = np.random.randint(1,300, size=(n_test,))\n",
    "\n",
    "n_traj_test = 1\n",
    "\n",
    "x_axis = x\n",
    "y_axis = np.arange(0, traj_len_test-1, 1)"
   ]
  },
  {
   "cell_type": "code",
   "execution_count": 65,
   "metadata": {},
   "outputs": [],
   "source": [
    "ratio_pk_list = []\n",
    "ratio_rbf_list = []\n",
    "ratio_dl_actK_list = []\n",
    "\n",
    "for seed_z, seed_param in zip(seed_z_list, seed_param_list):\n",
    "    fhn_pde_test = ModifiedFHNTarget(\n",
    "            n_init=n_init_test,\n",
    "            traj_len=traj_len_test,\n",
    "            x=x,\n",
    "            dt=1e-5,\n",
    "            t_step=1e-3,\n",
    "            dim=target_dim,\n",
    "            param_dim=param_dim,\n",
    "            param_input=1e3,\n",
    "            seed_z=seed_z,\n",
    "            seed_param=seed_param)\n",
    "    \n",
    "    data_true_normalized, data_pred_pk_normalized, z_curr_ori = recover_prediction(target=fhn_pde_test,\n",
    "                                                           scaler=scaler_z,\n",
    "                                                           solver=solver_pk)\n",
    "    \n",
    "    data_true_normalized, data_pred_rbf_normalized, z_curr_ori = recover_prediction(target=fhn_pde_test,\n",
    "                                                           scaler=scaler_z,\n",
    "                                                           solver=solver_rbf)\n",
    "    \n",
    "    data_true_normalized, data_pred_dl_actK_normalized, z_curr_ori = recover_prediction(target=fhn_pde_test,\n",
    "                                                           scaler=scaler_z,\n",
    "                                                           solver=solver_dl_actK)\n",
    "    \n",
    "    data_pred_pk_recover = scaler_z.inverse_transform(data_pred_pk_normalized)\n",
    "    data_pred_rbf_recover = scaler_z.inverse_transform(data_pred_rbf_normalized)\n",
    "    data_pred_dl_actK_recover = scaler_z.inverse_transform(data_pred_dl_actK_normalized)\n",
    "\n",
    "\n",
    "    \n",
    "    ratio_pk_recover = compute_diff_ratio_one_traj(z_curr_ori, data_pred_pk_recover)\n",
    "    ratio_rbf_recover = compute_diff_ratio_one_traj(z_curr_ori, data_pred_rbf_recover)\n",
    "    ratio_dl_actK_recover = compute_diff_ratio_one_traj(z_curr_ori, data_pred_dl_actK_recover)\n",
    "\n",
    "\n",
    "\n",
    "    ratio_pk_list.append(ratio_pk_recover)\n",
    "    ratio_rbf_list.append(ratio_rbf_recover)\n",
    "    ratio_dl_actK_list.append(ratio_dl_actK_recover)\n",
    "    \n",
    "#     plt.plot(ratio_rbf_recover, label='rbf')\n",
    "#     plt.plot(ratio_pk_recover, label='pk')\n",
    "#     plt.plot(ratio_dl_actK_recover, label='dl + actK')\n",
    "#     plt.legend()\n",
    "#     plt.show()"
   ]
  },
  {
   "cell_type": "code",
   "execution_count": 66,
   "metadata": {},
   "outputs": [],
   "source": [
    "ratio_pk_list = np.asarray(ratio_pk_list)\n",
    "ratio_rbf_list = np.asarray(ratio_rbf_list)\n",
    "ratio_dl_actK_list = np.asarray(ratio_dl_actK_list)"
   ]
  },
  {
   "cell_type": "code",
   "execution_count": 67,
   "metadata": {},
   "outputs": [],
   "source": [
    "def compute_stat_info(data):\n",
    "    data_mean = np.mean(data, axis=0)\n",
    "    data_std = np.std(data, axis=0)\n",
    "    mean_plus_std = data_mean + data_std\n",
    "    mean_minus_std = data_mean - data_std\n",
    "    return data_mean, data_std, mean_plus_std, mean_minus_std"
   ]
  },
  {
   "cell_type": "code",
   "execution_count": 68,
   "metadata": {},
   "outputs": [],
   "source": [
    "mean_pk, std_pk, mean_plus_pk, mean_minus_pk = compute_stat_info(ratio_pk_list)\n",
    "mean_rbf, std_rbf, mean_plus_rbf, mean_minus_rbf = compute_stat_info(ratio_rbf_list)\n",
    "mean_dl_actK, std_dl_actK, mean_plus_dl_actK, mean_minus_dl_actK = compute_stat_info(ratio_dl_actK_list)"
   ]
  },
  {
   "cell_type": "code",
   "execution_count": 69,
   "metadata": {
    "scrolled": true
   },
   "outputs": [
    {
     "data": {
      "text/plain": [
       "<matplotlib.legend.Legend at 0x7f8531a8e8b0>"
      ]
     },
     "execution_count": 69,
     "metadata": {},
     "output_type": "execute_result"
    },
    {
     "data": {
      "image/png": "[encoded data removed]",
      "text/plain": [
       "<Figure size 432x288 with 1 Axes>"
      ]
     },
     "metadata": {
      "needs_background": "light"
     },
     "output_type": "display_data"
    }
   ],
   "source": [
    "t_axis = np.arange(0, traj_len_test-1, 1)\n",
    "\n",
    "plt.plot(mean_rbf, label='RBF + Polynomial K', color='darkorange', linewidth=3)\n",
    "plt.fill_between(t_axis, mean_minus_rbf, mean_plus_rbf, color='navajowhite', alpha=0.5)\n",
    "\n",
    "plt.plot(mean_dl_actK, label='DL + Polynomial K', color='forestgreen', linewidth=3)\n",
    "plt.fill_between(t_axis, mean_minus_dl_actK, mean_plus_dl_actK, color='darkseagreen', alpha=0.5)\n",
    "\n",
    "\n",
    "plt.plot(mean_pk, label='P-Koopman', color='steelblue', linewidth=3)\n",
    "plt.fill_between(t_axis, mean_minus_pk, mean_plus_pk, color='lightsteelblue', alpha=0.5)\n",
    "\n",
    "plt.xticks(fontsize=18)\n",
    "plt.yticks(fontsize=18)\n",
    "\n",
    "plt.xlabel(r'$n$', fontsize=28)\n",
    "plt.ylabel('Error', fontsize=28)\n",
    "plt.legend(fontsize=14)\n",
    "\n",
    "# plt.savefig('results/fhn_pde/figures/fhn_high_u_error_Nx'+str(Nx)+'.png', dpi=200, bbox_inches='tight')\n",
    "# plt.savefig('results/fhn_pde/figures/fhn_high_u_error_Nx'+str(Nx)+'.pdf', dpi=200, bbox_inches='tight')"
   ]
  },
  {
   "cell_type": "code",
   "execution_count": 72,
   "metadata": {},
   "outputs": [],
   "source": [
    "dict_error = {'pk': ratio_pk_list,\n",
    "             'rbf': ratio_rbf_list,\n",
    "             'dl':ratio_dl_actK_list}"
   ]
  },
  {
   "cell_type": "code",
   "execution_count": null,
   "metadata": {},
   "outputs": [],
   "source": [
    "np.save('results/fhn_pde/data/high_u_error_dict.npy', dict_error)"
   ]
  },
  {
   "cell_type": "markdown",
   "metadata": {},
   "source": [
    "# Load data and plot"
   ]
  },
  {
   "cell_type": "code",
   "execution_count": 33,
   "metadata": {},
   "outputs": [],
   "source": [
    "n_init_test = 1\n",
    "traj_len_test = 500\n",
    "Nx = 10"
   ]
  },
  {
   "cell_type": "code",
   "execution_count": 34,
   "metadata": {},
   "outputs": [],
   "source": [
    "dict_error_load = np.load('results/fhn_pde/data/high_u_error_dict.npy', allow_pickle=True)"
   ]
  },
  {
   "cell_type": "code",
   "execution_count": 35,
   "metadata": {},
   "outputs": [],
   "source": [
    "ratio_pk_list = dict_error_load[()]['pk']\n",
    "ratio_rbf_list = dict_error_load[()]['rbf']\n",
    "ratio_dl_actK_list = dict_error_load[()]['dl']"
   ]
  },
  {
   "cell_type": "code",
   "execution_count": 36,
   "metadata": {},
   "outputs": [],
   "source": [
    "def compute_stat_info(data):\n",
    "    data_mean = np.mean(data, axis=0)\n",
    "    data_std = np.std(data, axis=0)\n",
    "    mean_plus_std = data_mean + data_std\n",
    "    mean_minus_std = data_mean - data_std\n",
    "    return data_mean, data_std, mean_plus_std, mean_minus_std"
   ]
  },
  {
   "cell_type": "code",
   "execution_count": 37,
   "metadata": {},
   "outputs": [],
   "source": [
    "mean_pk, std_pk, mean_plus_pk, mean_minus_pk = compute_stat_info(ratio_pk_list)\n",
    "mean_rbf, std_rbf, mean_plus_rbf, mean_minus_rbf = compute_stat_info(ratio_rbf_list)\n",
    "mean_dl_actK, std_dl_actK, mean_plus_dl_actK, mean_minus_dl_actK = compute_stat_info(ratio_dl_actK_list)"
   ]
  },
  {
   "cell_type": "code",
   "execution_count": 38,
   "metadata": {},
   "outputs": [],
   "source": [
    "label_font = 16\n",
    "ticks_font = 16\n",
    "legend_font = 16\n",
    "linewidth = 2"
   ]
  },
  {
   "cell_type": "code",
   "execution_count": 40,
   "metadata": {},
   "outputs": [
    {
     "data": {
      "image/png": "[encoded data removed]",
      "text/plain": [
       "<Figure size 432x288 with 1 Axes>"
      ]
     },
     "metadata": {
      "needs_background": "light"
     },
     "output_type": "display_data"
    }
   ],
   "source": [
    "t_axis = np.arange(0, traj_len_test-1, 1)\n",
    "\n",
    "plt.plot(mean_pk, label='Ours', color='steelblue', linewidth=linewidth)\n",
    "plt.fill_between(t_axis, mean_minus_pk, mean_plus_pk, color='lightsteelblue', alpha=0.5)\n",
    "\n",
    "plt.plot(mean_dl_actK, label='M4-NN', color='forestgreen', linewidth=linewidth)\n",
    "plt.fill_between(t_axis, mean_minus_dl_actK, mean_plus_dl_actK, color='darkseagreen', alpha=0.5)\n",
    "\n",
    "plt.plot(mean_rbf, label='M4-RBF', color='darkorange', linewidth=linewidth)\n",
    "plt.fill_between(t_axis, mean_minus_rbf, mean_plus_rbf, color='navajowhite', alpha=0.5)\n",
    "\n",
    "plt.xticks(fontsize=ticks_font)\n",
    "plt.yticks(fontsize=ticks_font)\n",
    "\n",
    "plt.xlabel(r'$n$', fontsize=label_font)\n",
    "plt.ylabel('Error', fontsize=label_font)\n",
    "plt.legend(fontsize=legend_font, loc=(0.03,0.61))\n",
    "\n",
    "plt.savefig('results/fhn_pde/figures/fhn_high_u_error_Nx'+str(Nx)+'.png', dpi=200, bbox_inches='tight')\n",
    "plt.savefig('results/fhn_pde/figures/fhn_high_u_error_Nx'+str(Nx)+'.pdf', dpi=200, bbox_inches='tight')"
   ]
  },
  {
   "cell_type": "code",
   "execution_count": null,
   "metadata": {},
   "outputs": [],
   "source": []
  },
  {
   "cell_type": "code",
   "execution_count": 70,
   "metadata": {},
   "outputs": [
    {
     "name": "stdout",
     "output_type": "stream",
     "text": [
      "Model: \"model_1\"\n",
      "__________________________________________________________________________________________________\n",
      " Layer (type)                   Output Shape         Param #     Connected to                     \n",
      "==================================================================================================\n",
      " input_7 (InputLayer)           [(None, 20)]         0           []                               \n",
      "                                                                                                  \n",
      " tf.math.subtract_1 (TFOpLambda  (None, 20)          0           ['input_7[0][0]']                \n",
      " )                                                                                                \n",
      "                                                                                                  \n",
      " tf.math.subtract_2 (TFOpLambda  (None, 20)          0           ['input_7[0][0]']                \n",
      " )                                                                                                \n",
      "                                                                                                  \n",
      " tf.math.subtract_3 (TFOpLambda  (None, 20)          0           ['input_7[0][0]']                \n",
      " )                                                                                                \n",
      "                                                                                                  \n",
      " tf.math.subtract_4 (TFOpLambda  (None, 20)          0           ['input_7[0][0]']                \n",
      " )                                                                                                \n",
      "                                                                                                  \n",
      " tf.math.subtract_5 (TFOpLambda  (None, 20)          0           ['input_7[0][0]']                \n",
      " )                                                                                                \n",
      "                                                                                                  \n",
      " tf.math.subtract_6 (TFOpLambda  (None, 20)          0           ['input_7[0][0]']                \n",
      " )                                                                                                \n",
      "                                                                                                  \n",
      " tf.math.subtract_7 (TFOpLambda  (None, 20)          0           ['input_7[0][0]']                \n",
      " )                                                                                                \n",
      "                                                                                                  \n",
      " tf.math.subtract_8 (TFOpLambda  (None, 20)          0           ['input_7[0][0]']                \n",
      " )                                                                                                \n",
      "                                                                                                  \n",
      " tf.math.subtract_9 (TFOpLambda  (None, 20)          0           ['input_7[0][0]']                \n",
      " )                                                                                                \n",
      "                                                                                                  \n",
      " tf.math.subtract_10 (TFOpLambd  (None, 20)          0           ['input_7[0][0]']                \n",
      " a)                                                                                               \n",
      "                                                                                                  \n",
      " tf.compat.v1.norm (TFOpLambda)  (None,)             0           ['tf.math.subtract_1[0][0]']     \n",
      "                                                                                                  \n",
      " tf.compat.v1.norm_1 (TFOpLambd  (None,)             0           ['tf.math.subtract_2[0][0]']     \n",
      " a)                                                                                               \n",
      "                                                                                                  \n",
      " tf.compat.v1.norm_2 (TFOpLambd  (None,)             0           ['tf.math.subtract_3[0][0]']     \n",
      " a)                                                                                               \n",
      "                                                                                                  \n",
      " tf.compat.v1.norm_3 (TFOpLambd  (None,)             0           ['tf.math.subtract_4[0][0]']     \n",
      " a)                                                                                               \n",
      "                                                                                                  \n",
      " tf.compat.v1.norm_4 (TFOpLambd  (None,)             0           ['tf.math.subtract_5[0][0]']     \n",
      " a)                                                                                               \n",
      "                                                                                                  \n",
      " tf.compat.v1.norm_5 (TFOpLambd  (None,)             0           ['tf.math.subtract_6[0][0]']     \n",
      " a)                                                                                               \n",
      "                                                                                                  \n",
      " tf.compat.v1.norm_6 (TFOpLambd  (None,)             0           ['tf.math.subtract_7[0][0]']     \n",
      " a)                                                                                               \n",
      "                                                                                                  \n",
      " tf.compat.v1.norm_7 (TFOpLambd  (None,)             0           ['tf.math.subtract_8[0][0]']     \n",
      " a)                                                                                               \n",
      "                                                                                                  \n",
      " tf.compat.v1.norm_8 (TFOpLambd  (None,)             0           ['tf.math.subtract_9[0][0]']     \n",
      " a)                                                                                               \n",
      "                                                                                                  \n",
      " tf.compat.v1.norm_9 (TFOpLambd  (None,)             0           ['tf.math.subtract_10[0][0]']    \n",
      " a)                                                                                               \n",
      "                                                                                                  \n",
      " tf.math.square (TFOpLambda)    (None,)              0           ['tf.compat.v1.norm[0][0]']      \n",
      "                                                                                                  \n",
      " tf.math.square_1 (TFOpLambda)  (None,)              0           ['tf.compat.v1.norm_1[0][0]']    \n",
      "                                                                                                  \n",
      " tf.math.square_2 (TFOpLambda)  (None,)              0           ['tf.compat.v1.norm_2[0][0]']    \n",
      "                                                                                                  \n",
      " tf.math.square_3 (TFOpLambda)  (None,)              0           ['tf.compat.v1.norm_3[0][0]']    \n",
      "                                                                                                  \n",
      " tf.math.square_4 (TFOpLambda)  (None,)              0           ['tf.compat.v1.norm_4[0][0]']    \n",
      "                                                                                                  \n",
      " tf.math.square_5 (TFOpLambda)  (None,)              0           ['tf.compat.v1.norm_5[0][0]']    \n",
      "                                                                                                  \n",
      " tf.math.square_6 (TFOpLambda)  (None,)              0           ['tf.compat.v1.norm_6[0][0]']    \n",
      "                                                                                                  \n",
      " tf.math.square_7 (TFOpLambda)  (None,)              0           ['tf.compat.v1.norm_7[0][0]']    \n",
      "                                                                                                  \n",
      " tf.math.square_8 (TFOpLambda)  (None,)              0           ['tf.compat.v1.norm_8[0][0]']    \n",
      "                                                                                                  \n",
      " tf.math.square_9 (TFOpLambda)  (None,)              0           ['tf.compat.v1.norm_9[0][0]']    \n"
     ]
    },
    {
     "name": "stdout",
     "output_type": "stream",
     "text": [
      "                                                                                                  \n",
      " input_8 (InputLayer)           [(None, 3)]          0           []                               \n",
      "                                                                                                  \n",
      " tf.reshape_1 (TFOpLambda)      (None, 1)            0           ['tf.math.square[0][0]']         \n",
      "                                                                                                  \n",
      " tf.reshape_2 (TFOpLambda)      (None, 1)            0           ['tf.math.square_1[0][0]']       \n",
      "                                                                                                  \n",
      " tf.reshape_3 (TFOpLambda)      (None, 1)            0           ['tf.math.square_2[0][0]']       \n",
      "                                                                                                  \n",
      " tf.reshape_4 (TFOpLambda)      (None, 1)            0           ['tf.math.square_3[0][0]']       \n",
      "                                                                                                  \n",
      " tf.reshape_5 (TFOpLambda)      (None, 1)            0           ['tf.math.square_4[0][0]']       \n",
      "                                                                                                  \n",
      " tf.reshape_6 (TFOpLambda)      (None, 1)            0           ['tf.math.square_5[0][0]']       \n",
      "                                                                                                  \n",
      " tf.reshape_7 (TFOpLambda)      (None, 1)            0           ['tf.math.square_6[0][0]']       \n",
      "                                                                                                  \n",
      " tf.reshape_8 (TFOpLambda)      (None, 1)            0           ['tf.math.square_7[0][0]']       \n",
      "                                                                                                  \n",
      " tf.reshape_9 (TFOpLambda)      (None, 1)            0           ['tf.math.square_8[0][0]']       \n",
      "                                                                                                  \n",
      " tf.reshape_10 (TFOpLambda)     (None, 1)            0           ['tf.math.square_9[0][0]']       \n",
      "                                                                                                  \n",
      " tf.__operators__.getitem_1 (Sl  (None,)             0           ['input_8[0][0]']                \n",
      " icingOpLambda)                                                                                   \n",
      "                                                                                                  \n",
      " tf.__operators__.getitem_2 (Sl  (None,)             0           ['input_8[0][0]']                \n",
      " icingOpLambda)                                                                                   \n",
      "                                                                                                  \n",
      " tf.__operators__.getitem_3 (Sl  (None,)             0           ['input_8[0][0]']                \n",
      " icingOpLambda)                                                                                   \n",
      "                                                                                                  \n",
      " tf.compat.v1.shape (TFOpLambda  (2,)                0           ['input_7[0][0]']                \n",
      " )                                                                                                \n",
      "                                                                                                  \n",
      " tf.math.multiply (TFOpLambda)  (None, 1)            0           ['tf.reshape_1[0][0]']           \n",
      "                                                                                                  \n",
      " tf.math.multiply_1 (TFOpLambda  (None, 1)           0           ['tf.reshape_2[0][0]']           \n",
      " )                                                                                                \n",
      "                                                                                                  \n",
      " tf.math.multiply_2 (TFOpLambda  (None, 1)           0           ['tf.reshape_3[0][0]']           \n",
      " )                                                                                                \n",
      "                                                                                                  \n",
      " tf.math.multiply_3 (TFOpLambda  (None, 1)           0           ['tf.reshape_4[0][0]']           \n",
      " )                                                                                                \n",
      "                                                                                                  \n",
      " tf.math.multiply_4 (TFOpLambda  (None, 1)           0           ['tf.reshape_5[0][0]']           \n",
      " )                                                                                                \n",
      "                                                                                                  \n",
      " tf.math.multiply_5 (TFOpLambda  (None, 1)           0           ['tf.reshape_6[0][0]']           \n",
      " )                                                                                                \n",
      "                                                                                                  \n",
      " tf.math.multiply_6 (TFOpLambda  (None, 1)           0           ['tf.reshape_7[0][0]']           \n",
      " )                                                                                                \n",
      "                                                                                                  \n",
      " tf.math.multiply_7 (TFOpLambda  (None, 1)           0           ['tf.reshape_8[0][0]']           \n",
      " )                                                                                                \n",
      "                                                                                                  \n",
      " tf.math.multiply_8 (TFOpLambda  (None, 1)           0           ['tf.reshape_9[0][0]']           \n",
      " )                                                                                                \n",
      "                                                                                                  \n",
      " tf.math.multiply_9 (TFOpLambda  (None, 1)           0           ['tf.reshape_10[0][0]']          \n",
      " )                                                                                                \n",
      "                                                                                                  \n",
      " tf.reshape_11 (TFOpLambda)     (None, 1)            0           ['tf.__operators__.getitem_1[0][0\n",
      "                                                                 ]']                              \n",
      "                                                                                                  \n",
      " tf.reshape_12 (TFOpLambda)     (None, 1)            0           ['tf.__operators__.getitem_2[0][0\n",
      "                                                                 ]']                              \n",
      "                                                                                                  \n",
      " tf.reshape_13 (TFOpLambda)     (None, 1)            0           ['tf.__operators__.getitem_3[0][0\n",
      "                                                                 ]']                              \n",
      "                                                                                                  \n",
      " input_9 (InputLayer)           [(None, 20)]         0           []                               \n",
      "                                                                                                  \n",
      " tf.__operators__.getitem (Slic  ()                  0           ['tf.compat.v1.shape[0][0]']     \n",
      " ingOpLambda)                                                                                     \n",
      "                                                                                                  \n",
      " tf.math.exp (TFOpLambda)       (None, 1)            0           ['tf.math.multiply[0][0]']       \n",
      "                                                                                                  \n",
      " tf.math.exp_1 (TFOpLambda)     (None, 1)            0           ['tf.math.multiply_1[0][0]']     \n",
      "                                                                                                  \n",
      " tf.math.exp_2 (TFOpLambda)     (None, 1)            0           ['tf.math.multiply_2[0][0]']     \n"
     ]
    },
    {
     "name": "stdout",
     "output_type": "stream",
     "text": [
      "                                                                                                  \n",
      " tf.math.exp_3 (TFOpLambda)     (None, 1)            0           ['tf.math.multiply_3[0][0]']     \n",
      "                                                                                                  \n",
      " tf.math.exp_4 (TFOpLambda)     (None, 1)            0           ['tf.math.multiply_4[0][0]']     \n",
      "                                                                                                  \n",
      " tf.math.exp_5 (TFOpLambda)     (None, 1)            0           ['tf.math.multiply_5[0][0]']     \n",
      "                                                                                                  \n",
      " tf.math.exp_6 (TFOpLambda)     (None, 1)            0           ['tf.math.multiply_6[0][0]']     \n",
      "                                                                                                  \n",
      " tf.math.exp_7 (TFOpLambda)     (None, 1)            0           ['tf.math.multiply_7[0][0]']     \n",
      "                                                                                                  \n",
      " tf.math.exp_8 (TFOpLambda)     (None, 1)            0           ['tf.math.multiply_8[0][0]']     \n",
      "                                                                                                  \n",
      " tf.math.exp_9 (TFOpLambda)     (None, 1)            0           ['tf.math.multiply_9[0][0]']     \n",
      "                                                                                                  \n",
      " tf.math.pow (TFOpLambda)       (None, 1)            0           ['tf.reshape_11[0][0]']          \n",
      "                                                                                                  \n",
      " tf.math.pow_1 (TFOpLambda)     (None, 1)            0           ['tf.reshape_12[0][0]']          \n",
      "                                                                                                  \n",
      " tf.math.pow_2 (TFOpLambda)     (None, 1)            0           ['tf.reshape_13[0][0]']          \n",
      "                                                                                                  \n",
      " tf.math.multiply_19 (TFOpLambd  (None, 1)           0           ['tf.reshape_11[0][0]',          \n",
      " a)                                                               'tf.reshape_12[0][0]']          \n",
      "                                                                                                  \n",
      " tf.math.subtract_11 (TFOpLambd  (None, 20)          0           ['input_9[0][0]']                \n",
      " a)                                                                                               \n",
      "                                                                                                  \n",
      " tf.math.subtract_12 (TFOpLambd  (None, 20)          0           ['input_9[0][0]']                \n",
      " a)                                                                                               \n",
      "                                                                                                  \n",
      " tf.math.subtract_13 (TFOpLambd  (None, 20)          0           ['input_9[0][0]']                \n",
      " a)                                                                                               \n",
      "                                                                                                  \n",
      " tf.math.subtract_14 (TFOpLambd  (None, 20)          0           ['input_9[0][0]']                \n",
      " a)                                                                                               \n",
      "                                                                                                  \n",
      " tf.math.subtract_15 (TFOpLambd  (None, 20)          0           ['input_9[0][0]']                \n",
      " a)                                                                                               \n",
      "                                                                                                  \n",
      " tf.math.subtract_16 (TFOpLambd  (None, 20)          0           ['input_9[0][0]']                \n",
      " a)                                                                                               \n",
      "                                                                                                  \n",
      " tf.math.subtract_17 (TFOpLambd  (None, 20)          0           ['input_9[0][0]']                \n",
      " a)                                                                                               \n",
      "                                                                                                  \n",
      " tf.math.subtract_18 (TFOpLambd  (None, 20)          0           ['input_9[0][0]']                \n",
      " a)                                                                                               \n",
      "                                                                                                  \n",
      " tf.math.subtract_19 (TFOpLambd  (None, 20)          0           ['input_9[0][0]']                \n",
      " a)                                                                                               \n",
      "                                                                                                  \n",
      " tf.math.subtract_20 (TFOpLambd  (None, 20)          0           ['input_9[0][0]']                \n",
      " a)                                                                                               \n",
      "                                                                                                  \n",
      " tf.ones (TFOpLambda)           (None, 1)            0           ['tf.__operators__.getitem[0][0]'\n",
      "                                                                 ]                                \n",
      "                                                                                                  \n",
      " tf.concat (TFOpLambda)         (None, 10)           0           ['tf.math.exp[0][0]',            \n",
      "                                                                  'tf.math.exp_1[0][0]',          \n",
      "                                                                  'tf.math.exp_2[0][0]',          \n",
      "                                                                  'tf.math.exp_3[0][0]',          \n",
      "                                                                  'tf.math.exp_4[0][0]',          \n",
      "                                                                  'tf.math.exp_5[0][0]',          \n",
      "                                                                  'tf.math.exp_6[0][0]',          \n",
      "                                                                  'tf.math.exp_7[0][0]',          \n",
      "                                                                  'tf.math.exp_8[0][0]',          \n",
      "                                                                  'tf.math.exp_9[0][0]']          \n",
      "                                                                                                  \n",
      " tf.math.multiply_10 (TFOpLambd  (None, 1)           0           ['tf.reshape_11[0][0]',          \n",
      " a)                                                               'tf.reshape_12[0][0]']          \n",
      "                                                                                                  \n",
      " tf.math.multiply_11 (TFOpLambd  (None, 1)           0           ['tf.reshape_11[0][0]',          \n",
      " a)                                                               'tf.reshape_13[0][0]']          \n",
      "                                                                                                  \n",
      " tf.math.multiply_12 (TFOpLambd  (None, 1)           0           ['tf.reshape_12[0][0]',          \n",
      " a)                                                               'tf.reshape_13[0][0]']          \n",
      "                                                                                                  \n",
      " tf.math.pow_3 (TFOpLambda)     (None, 1)            0           ['tf.reshape_11[0][0]']          \n",
      "                                                                                                  \n",
      " tf.math.pow_4 (TFOpLambda)     (None, 1)            0           ['tf.reshape_12[0][0]']          \n",
      "                                                                                                  \n",
      " tf.math.pow_5 (TFOpLambda)     (None, 1)            0           ['tf.reshape_13[0][0]']          \n",
      "                                                                                                  \n"
     ]
    },
    {
     "name": "stdout",
     "output_type": "stream",
     "text": [
      " tf.math.multiply_13 (TFOpLambd  (None, 1)           0           ['tf.math.pow[0][0]',            \n",
      " a)                                                               'tf.reshape_12[0][0]']          \n",
      "                                                                                                  \n",
      " tf.math.multiply_14 (TFOpLambd  (None, 1)           0           ['tf.math.pow[0][0]',            \n",
      " a)                                                               'tf.reshape_13[0][0]']          \n",
      "                                                                                                  \n",
      " tf.math.multiply_15 (TFOpLambd  (None, 1)           0           ['tf.math.pow_1[0][0]',          \n",
      " a)                                                               'tf.reshape_11[0][0]']          \n",
      "                                                                                                  \n",
      " tf.math.multiply_16 (TFOpLambd  (None, 1)           0           ['tf.math.pow_1[0][0]',          \n",
      " a)                                                               'tf.reshape_13[0][0]']          \n",
      "                                                                                                  \n",
      " tf.math.multiply_17 (TFOpLambd  (None, 1)           0           ['tf.math.pow_2[0][0]',          \n",
      " a)                                                               'tf.reshape_11[0][0]']          \n",
      "                                                                                                  \n",
      " tf.math.multiply_18 (TFOpLambd  (None, 1)           0           ['tf.math.pow_2[0][0]',          \n",
      " a)                                                               'tf.reshape_12[0][0]']          \n",
      "                                                                                                  \n",
      " tf.math.multiply_20 (TFOpLambd  (None, 1)           0           ['tf.math.multiply_19[0][0]',    \n",
      " a)                                                               'tf.reshape_13[0][0]']          \n",
      "                                                                                                  \n",
      " tf.compat.v1.norm_10 (TFOpLamb  (None,)             0           ['tf.math.subtract_11[0][0]']    \n",
      " da)                                                                                              \n",
      "                                                                                                  \n",
      " tf.compat.v1.norm_11 (TFOpLamb  (None,)             0           ['tf.math.subtract_12[0][0]']    \n",
      " da)                                                                                              \n",
      "                                                                                                  \n",
      " tf.compat.v1.norm_12 (TFOpLamb  (None,)             0           ['tf.math.subtract_13[0][0]']    \n",
      " da)                                                                                              \n",
      "                                                                                                  \n",
      " tf.compat.v1.norm_13 (TFOpLamb  (None,)             0           ['tf.math.subtract_14[0][0]']    \n",
      " da)                                                                                              \n",
      "                                                                                                  \n",
      " tf.compat.v1.norm_14 (TFOpLamb  (None,)             0           ['tf.math.subtract_15[0][0]']    \n",
      " da)                                                                                              \n",
      "                                                                                                  \n",
      " tf.compat.v1.norm_15 (TFOpLamb  (None,)             0           ['tf.math.subtract_16[0][0]']    \n",
      " da)                                                                                              \n",
      "                                                                                                  \n",
      " tf.compat.v1.norm_16 (TFOpLamb  (None,)             0           ['tf.math.subtract_17[0][0]']    \n",
      " da)                                                                                              \n",
      "                                                                                                  \n",
      " tf.compat.v1.norm_17 (TFOpLamb  (None,)             0           ['tf.math.subtract_18[0][0]']    \n",
      " da)                                                                                              \n",
      "                                                                                                  \n",
      " tf.compat.v1.norm_18 (TFOpLamb  (None,)             0           ['tf.math.subtract_19[0][0]']    \n",
      " da)                                                                                              \n",
      "                                                                                                  \n",
      " tf.compat.v1.norm_19 (TFOpLamb  (None,)             0           ['tf.math.subtract_20[0][0]']    \n",
      " da)                                                                                              \n",
      "                                                                                                  \n",
      " tf.concat_1 (TFOpLambda)       (None, 31)           0           ['tf.ones[0][0]',                \n",
      "                                                                  'input_7[0][0]',                \n",
      "                                                                  'tf.concat[0][0]']              \n",
      "                                                                                                  \n",
      " tf.concat_2 (TFOpLambda)       (None, 19)           0           ['input_8[0][0]',                \n",
      "                                                                  'tf.math.pow[0][0]',            \n",
      "                                                                  'tf.math.pow_1[0][0]',          \n",
      "                                                                  'tf.math.pow_2[0][0]',          \n",
      "                                                                  'tf.math.multiply_10[0][0]',    \n",
      "                                                                  'tf.math.multiply_11[0][0]',    \n",
      "                                                                  'tf.math.multiply_12[0][0]',    \n",
      "                                                                  'tf.math.pow_3[0][0]',          \n",
      "                                                                  'tf.math.pow_4[0][0]',          \n",
      "                                                                  'tf.math.pow_5[0][0]',          \n",
      "                                                                  'tf.math.multiply_13[0][0]',    \n",
      "                                                                  'tf.math.multiply_14[0][0]',    \n",
      "                                                                  'tf.math.multiply_15[0][0]',    \n",
      "                                                                  'tf.math.multiply_16[0][0]',    \n",
      "                                                                  'tf.math.multiply_17[0][0]',    \n",
      "                                                                  'tf.math.multiply_18[0][0]',    \n",
      "                                                                  'tf.math.multiply_20[0][0]']    \n",
      "                                                                                                  \n",
      " tf.math.square_10 (TFOpLambda)  (None,)             0           ['tf.compat.v1.norm_10[0][0]']   \n",
      "                                                                                                  \n",
      " tf.math.square_11 (TFOpLambda)  (None,)             0           ['tf.compat.v1.norm_11[0][0]']   \n",
      "                                                                                                  \n",
      " tf.math.square_12 (TFOpLambda)  (None,)             0           ['tf.compat.v1.norm_12[0][0]']   \n",
      "                                                                                                  \n",
      " tf.math.square_13 (TFOpLambda)  (None,)             0           ['tf.compat.v1.norm_13[0][0]']   \n",
      "                                                                                                  \n",
      " tf.math.square_14 (TFOpLambda)  (None,)             0           ['tf.compat.v1.norm_14[0][0]']   \n",
      "                                                                                                  \n"
     ]
    },
    {
     "name": "stdout",
     "output_type": "stream",
     "text": [
      " tf.math.square_15 (TFOpLambda)  (None,)             0           ['tf.compat.v1.norm_15[0][0]']   \n",
      "                                                                                                  \n",
      " tf.math.square_16 (TFOpLambda)  (None,)             0           ['tf.compat.v1.norm_16[0][0]']   \n",
      "                                                                                                  \n",
      " tf.math.square_17 (TFOpLambda)  (None,)             0           ['tf.compat.v1.norm_17[0][0]']   \n",
      "                                                                                                  \n",
      " tf.math.square_18 (TFOpLambda)  (None,)             0           ['tf.compat.v1.norm_18[0][0]']   \n",
      "                                                                                                  \n",
      " tf.math.square_19 (TFOpLambda)  (None,)             0           ['tf.compat.v1.norm_19[0][0]']   \n",
      "                                                                                                  \n",
      " tf.einsum (TFOpLambda)         (19, None, 31)       0           ['tf.concat_1[0][0]',            \n",
      "                                                                  'tf.concat_2[0][0]']            \n",
      "                                                                                                  \n",
      " tf.reshape_14 (TFOpLambda)     (None, 1)            0           ['tf.math.square_10[0][0]']      \n",
      "                                                                                                  \n",
      " tf.reshape_15 (TFOpLambda)     (None, 1)            0           ['tf.math.square_11[0][0]']      \n",
      "                                                                                                  \n",
      " tf.reshape_16 (TFOpLambda)     (None, 1)            0           ['tf.math.square_12[0][0]']      \n",
      "                                                                                                  \n",
      " tf.reshape_17 (TFOpLambda)     (None, 1)            0           ['tf.math.square_13[0][0]']      \n",
      "                                                                                                  \n",
      " tf.reshape_18 (TFOpLambda)     (None, 1)            0           ['tf.math.square_14[0][0]']      \n",
      "                                                                                                  \n",
      " tf.reshape_19 (TFOpLambda)     (None, 1)            0           ['tf.math.square_15[0][0]']      \n",
      "                                                                                                  \n",
      " tf.reshape_20 (TFOpLambda)     (None, 1)            0           ['tf.math.square_16[0][0]']      \n",
      "                                                                                                  \n",
      " tf.reshape_21 (TFOpLambda)     (None, 1)            0           ['tf.math.square_17[0][0]']      \n",
      "                                                                                                  \n",
      " tf.reshape_22 (TFOpLambda)     (None, 1)            0           ['tf.math.square_18[0][0]']      \n",
      "                                                                                                  \n",
      " tf.reshape_23 (TFOpLambda)     (None, 1)            0           ['tf.math.square_19[0][0]']      \n",
      "                                                                                                  \n",
      " tf.__operators__.getitem_4 (Sl  (None, 31)          0           ['tf.einsum[0][0]']              \n",
      " icingOpLambda)                                                                                   \n",
      "                                                                                                  \n",
      " tf.__operators__.getitem_5 (Sl  (None, 31)          0           ['tf.einsum[0][0]']              \n",
      " icingOpLambda)                                                                                   \n",
      "                                                                                                  \n",
      " tf.__operators__.getitem_6 (Sl  (None, 31)          0           ['tf.einsum[0][0]']              \n",
      " icingOpLambda)                                                                                   \n",
      "                                                                                                  \n",
      " tf.__operators__.getitem_7 (Sl  (None, 31)          0           ['tf.einsum[0][0]']              \n",
      " icingOpLambda)                                                                                   \n",
      "                                                                                                  \n",
      " tf.__operators__.getitem_8 (Sl  (None, 31)          0           ['tf.einsum[0][0]']              \n",
      " icingOpLambda)                                                                                   \n",
      "                                                                                                  \n",
      " tf.__operators__.getitem_9 (Sl  (None, 31)          0           ['tf.einsum[0][0]']              \n",
      " icingOpLambda)                                                                                   \n",
      "                                                                                                  \n",
      " tf.__operators__.getitem_10 (S  (None, 31)          0           ['tf.einsum[0][0]']              \n",
      " licingOpLambda)                                                                                  \n",
      "                                                                                                  \n",
      " tf.__operators__.getitem_11 (S  (None, 31)          0           ['tf.einsum[0][0]']              \n",
      " licingOpLambda)                                                                                  \n",
      "                                                                                                  \n",
      " tf.__operators__.getitem_12 (S  (None, 31)          0           ['tf.einsum[0][0]']              \n",
      " licingOpLambda)                                                                                  \n",
      "                                                                                                  \n",
      " tf.__operators__.getitem_13 (S  (None, 31)          0           ['tf.einsum[0][0]']              \n",
      " licingOpLambda)                                                                                  \n",
      "                                                                                                  \n",
      " tf.__operators__.getitem_14 (S  (None, 31)          0           ['tf.einsum[0][0]']              \n",
      " licingOpLambda)                                                                                  \n",
      "                                                                                                  \n",
      " tf.__operators__.getitem_15 (S  (None, 31)          0           ['tf.einsum[0][0]']              \n",
      " licingOpLambda)                                                                                  \n",
      "                                                                                                  \n",
      " tf.__operators__.getitem_16 (S  (None, 31)          0           ['tf.einsum[0][0]']              \n",
      " licingOpLambda)                                                                                  \n",
      "                                                                                                  \n",
      " tf.__operators__.getitem_17 (S  (None, 31)          0           ['tf.einsum[0][0]']              \n",
      " licingOpLambda)                                                                                  \n",
      "                                                                                                  \n",
      " tf.__operators__.getitem_18 (S  (None, 31)          0           ['tf.einsum[0][0]']              \n",
      " licingOpLambda)                                                                                  \n",
      "                                                                                                  \n",
      " tf.__operators__.getitem_19 (S  (None, 31)          0           ['tf.einsum[0][0]']              \n",
      " licingOpLambda)                                                                                  \n",
      "                                                                                                  \n",
      " tf.__operators__.getitem_20 (S  (None, 31)          0           ['tf.einsum[0][0]']              \n",
      " licingOpLambda)                                                                                  \n"
     ]
    },
    {
     "name": "stdout",
     "output_type": "stream",
     "text": [
      "                                                                                                  \n",
      " tf.__operators__.getitem_21 (S  (None, 31)          0           ['tf.einsum[0][0]']              \n",
      " licingOpLambda)                                                                                  \n",
      "                                                                                                  \n",
      " tf.__operators__.getitem_22 (S  (None, 31)          0           ['tf.einsum[0][0]']              \n",
      " licingOpLambda)                                                                                  \n",
      "                                                                                                  \n",
      " tf.compat.v1.shape_1 (TFOpLamb  (2,)                0           ['input_9[0][0]']                \n",
      " da)                                                                                              \n",
      "                                                                                                  \n",
      " tf.math.multiply_21 (TFOpLambd  (None, 1)           0           ['tf.reshape_14[0][0]']          \n",
      " a)                                                                                               \n",
      "                                                                                                  \n",
      " tf.math.multiply_22 (TFOpLambd  (None, 1)           0           ['tf.reshape_15[0][0]']          \n",
      " a)                                                                                               \n",
      "                                                                                                  \n",
      " tf.math.multiply_23 (TFOpLambd  (None, 1)           0           ['tf.reshape_16[0][0]']          \n",
      " a)                                                                                               \n",
      "                                                                                                  \n",
      " tf.math.multiply_24 (TFOpLambd  (None, 1)           0           ['tf.reshape_17[0][0]']          \n",
      " a)                                                                                               \n",
      "                                                                                                  \n",
      " tf.math.multiply_25 (TFOpLambd  (None, 1)           0           ['tf.reshape_18[0][0]']          \n",
      " a)                                                                                               \n",
      "                                                                                                  \n",
      " tf.math.multiply_26 (TFOpLambd  (None, 1)           0           ['tf.reshape_19[0][0]']          \n",
      " a)                                                                                               \n",
      "                                                                                                  \n",
      " tf.math.multiply_27 (TFOpLambd  (None, 1)           0           ['tf.reshape_20[0][0]']          \n",
      " a)                                                                                               \n",
      "                                                                                                  \n",
      " tf.math.multiply_28 (TFOpLambd  (None, 1)           0           ['tf.reshape_21[0][0]']          \n",
      " a)                                                                                               \n",
      "                                                                                                  \n",
      " tf.math.multiply_29 (TFOpLambd  (None, 1)           0           ['tf.reshape_22[0][0]']          \n",
      " a)                                                                                               \n",
      "                                                                                                  \n",
      " tf.math.multiply_30 (TFOpLambd  (None, 1)           0           ['tf.reshape_23[0][0]']          \n",
      " a)                                                                                               \n",
      "                                                                                                  \n",
      " tf.concat_3 (TFOpLambda)       (None, 589)          0           ['tf.__operators__.getitem_4[0][0\n",
      "                                                                 ]',                              \n",
      "                                                                  'tf.__operators__.getitem_5[0][0\n",
      "                                                                 ]',                              \n",
      "                                                                  'tf.__operators__.getitem_6[0][0\n",
      "                                                                 ]',                              \n",
      "                                                                  'tf.__operators__.getitem_7[0][0\n",
      "                                                                 ]',                              \n",
      "                                                                  'tf.__operators__.getitem_8[0][0\n",
      "                                                                 ]',                              \n",
      "                                                                  'tf.__operators__.getitem_9[0][0\n",
      "                                                                 ]',                              \n",
      "                                                                  'tf.__operators__.getitem_10[0][\n",
      "                                                                 0]',                             \n",
      "                                                                  'tf.__operators__.getitem_11[0][\n",
      "                                                                 0]',                             \n",
      "                                                                  'tf.__operators__.getitem_12[0][\n",
      "                                                                 0]',                             \n",
      "                                                                  'tf.__operators__.getitem_13[0][\n",
      "                                                                 0]',                             \n",
      "                                                                  'tf.__operators__.getitem_14[0][\n",
      "                                                                 0]',                             \n",
      "                                                                  'tf.__operators__.getitem_15[0][\n",
      "                                                                 0]',                             \n",
      "                                                                  'tf.__operators__.getitem_16[0][\n",
      "                                                                 0]',                             \n",
      "                                                                  'tf.__operators__.getitem_17[0][\n",
      "                                                                 0]',                             \n",
      "                                                                  'tf.__operators__.getitem_18[0][\n",
      "                                                                 0]',                             \n",
      "                                                                  'tf.__operators__.getitem_19[0][\n",
      "                                                                 0]',                             \n",
      "                                                                  'tf.__operators__.getitem_20[0][\n",
      "                                                                 0]',                             \n",
      "                                                                  'tf.__operators__.getitem_21[0][\n",
      "                                                                 0]',                             \n",
      "                                                                  'tf.__operators__.getitem_22[0][\n",
      "                                                                 0]']                             \n",
      "                                                                                                  \n",
      " tf.__operators__.getitem_23 (S  ()                  0           ['tf.compat.v1.shape_1[0][0]']   \n",
      " licingOpLambda)                                                                                  \n",
      "                                                                                                  \n",
      " tf.math.exp_10 (TFOpLambda)    (None, 1)            0           ['tf.math.multiply_21[0][0]']    \n"
     ]
    },
    {
     "name": "stdout",
     "output_type": "stream",
     "text": [
      "                                                                                                  \n",
      " tf.math.exp_11 (TFOpLambda)    (None, 1)            0           ['tf.math.multiply_22[0][0]']    \n",
      "                                                                                                  \n",
      " tf.math.exp_12 (TFOpLambda)    (None, 1)            0           ['tf.math.multiply_23[0][0]']    \n",
      "                                                                                                  \n",
      " tf.math.exp_13 (TFOpLambda)    (None, 1)            0           ['tf.math.multiply_24[0][0]']    \n",
      "                                                                                                  \n",
      " tf.math.exp_14 (TFOpLambda)    (None, 1)            0           ['tf.math.multiply_25[0][0]']    \n",
      "                                                                                                  \n",
      " tf.math.exp_15 (TFOpLambda)    (None, 1)            0           ['tf.math.multiply_26[0][0]']    \n",
      "                                                                                                  \n",
      " tf.math.exp_16 (TFOpLambda)    (None, 1)            0           ['tf.math.multiply_27[0][0]']    \n",
      "                                                                                                  \n",
      " tf.math.exp_17 (TFOpLambda)    (None, 1)            0           ['tf.math.multiply_28[0][0]']    \n",
      "                                                                                                  \n",
      " tf.math.exp_18 (TFOpLambda)    (None, 1)            0           ['tf.math.multiply_29[0][0]']    \n",
      "                                                                                                  \n",
      " tf.math.exp_19 (TFOpLambda)    (None, 1)            0           ['tf.math.multiply_30[0][0]']    \n",
      "                                                                                                  \n",
      " tf.concat_4 (TFOpLambda)       (None, 620)          0           ['tf.concat_1[0][0]',            \n",
      "                                                                  'tf.concat_3[0][0]']            \n",
      "                                                                                                  \n",
      " tf.ones_1 (TFOpLambda)         (None, 1)            0           ['tf.__operators__.getitem_23[0][\n",
      "                                                                 0]']                             \n",
      "                                                                                                  \n",
      " tf.concat_5 (TFOpLambda)       (None, 10)           0           ['tf.math.exp_10[0][0]',         \n",
      "                                                                  'tf.math.exp_11[0][0]',         \n",
      "                                                                  'tf.math.exp_12[0][0]',         \n",
      "                                                                  'tf.math.exp_13[0][0]',         \n",
      "                                                                  'tf.math.exp_14[0][0]',         \n",
      "                                                                  'tf.math.exp_15[0][0]',         \n",
      "                                                                  'tf.math.exp_16[0][0]',         \n",
      "                                                                  'tf.math.exp_17[0][0]',         \n",
      "                                                                  'tf.math.exp_18[0][0]',         \n",
      "                                                                  'tf.math.exp_19[0][0]']         \n",
      "                                                                                                  \n",
      " Layer_Ks (Dense)               (None, 31)           19220       ['tf.concat_4[0][0]']            \n",
      "                                                                                                  \n",
      " tf.concat_6 (TFOpLambda)       (None, 31)           0           ['tf.ones_1[0][0]',              \n",
      "                                                                  'input_9[0][0]',                \n",
      "                                                                  'tf.concat_5[0][0]']            \n",
      "                                                                                                  \n",
      " tf.math.subtract_21 (TFOpLambd  (None, 31)          0           ['Layer_Ks[0][0]',               \n",
      " a)                                                               'tf.concat_6[0][0]']            \n",
      "                                                                                                  \n",
      "==================================================================================================\n",
      "Total params: 19,220\n",
      "Trainable params: 0\n",
      "Non-trainable params: 19,220\n",
      "__________________________________________________________________________________________________\n"
     ]
    }
   ],
   "source": [
    "solver_rbf.model.summary()"
   ]
  },
  {
   "cell_type": "code",
   "execution_count": 71,
   "metadata": {},
   "outputs": [
    {
     "name": "stdout",
     "output_type": "stream",
     "text": [
      "Model: \"model\"\n",
      "__________________________________________________________________________________________________\n",
      " Layer (type)                   Output Shape         Param #     Connected to                     \n",
      "==================================================================================================\n",
      " input_4 (InputLayer)           [(None, 20)]         0           []                               \n",
      "                                                                                                  \n",
      " tf.slice (TFOpLambda)          (None, 1)            0           ['input_4[0][0]']                \n",
      "                                                                                                  \n",
      " input_5 (InputLayer)           [(None, 20)]         0           []                               \n",
      "                                                                                                  \n",
      " tf.ones_like (TFOpLambda)      (None, 1)            0           ['tf.slice[0][0]']               \n",
      "                                                                                                  \n",
      " dic_nn (DicNN)                 (None, 10)           36874       ['input_4[0][0]',                \n",
      "                                                                  'input_5[0][0]']                \n",
      "                                                                                                  \n",
      " tf.slice_1 (TFOpLambda)        (None, 1)            0           ['input_5[0][0]']                \n",
      "                                                                                                  \n",
      " input_6 (InputLayer)           [(None, 3)]          0           []                               \n",
      "                                                                                                  \n",
      " concatenate (Concatenate)      (None, 31)           0           ['tf.ones_like[0][0]',           \n",
      "                                                                  'input_4[0][0]',                \n",
      "                                                                  'dic_nn[0][0]']                 \n",
      "                                                                                                  \n",
      " tf.ones_like_1 (TFOpLambda)    (None, 1)            0           ['tf.slice_1[0][0]']             \n",
      "                                                                                                  \n",
      " K_u_pred (Functional)          (None, 31)           16673       ['input_6[0][0]',                \n",
      "                                                                  'concatenate[0][0]']            \n",
      "                                                                                                  \n",
      " concatenate_1 (Concatenate)    (None, 31)           0           ['tf.ones_like_1[0][0]',         \n",
      "                                                                  'input_5[0][0]',                \n",
      "                                                                  'dic_nn[1][0]']                 \n",
      "                                                                                                  \n",
      " tf.math.subtract (TFOpLambda)  (None, 31)           0           ['K_u_pred[0][0]',               \n",
      "                                                                  'concatenate_1[0][0]']          \n",
      "                                                                                                  \n",
      "==================================================================================================\n",
      "Total params: 53,547\n",
      "Trainable params: 53,547\n",
      "Non-trainable params: 0\n",
      "__________________________________________________________________________________________________\n"
     ]
    }
   ],
   "source": [
    "model_pk.summary()"
   ]
  },
  {
   "cell_type": "code",
   "execution_count": null,
   "metadata": {},
   "outputs": [],
   "source": []
  },
  {
   "cell_type": "code",
   "execution_count": null,
   "metadata": {},
   "outputs": [],
   "source": []
  }
 ],
 "metadata": {
  "kernelspec": {
   "display_name": "koopman",
   "language": "python",
   "name": "koopman"
  },
  "language_info": {
   "codemirror_mode": {
    "name": "ipython",
    "version": 3
   },
   "file_extension": ".py",
   "mimetype": "text/x-python",
   "name": "python",
   "nbconvert_exporter": "python",
   "pygments_lexer": "ipython3",
   "version": "3.8.3"
  }
 },
 "nbformat": 4,
 "nbformat_minor": 2
}
