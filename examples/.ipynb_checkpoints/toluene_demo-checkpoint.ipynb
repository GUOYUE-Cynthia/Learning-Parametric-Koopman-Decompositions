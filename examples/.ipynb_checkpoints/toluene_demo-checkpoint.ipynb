{
 "cells": [
  {
   "cell_type": "code",
   "execution_count": 1,
   "metadata": {},
   "outputs": [],
   "source": [
    "import os; \n",
    "os.environ['CUDA_VISIBLE_DEVICES'] = '-1'"
   ]
  },
  {
   "cell_type": "code",
   "execution_count": 2,
   "metadata": {},
   "outputs": [],
   "source": [
    "import tensorflow as tf\n",
    "import numpy as np"
   ]
  },
  {
   "cell_type": "code",
   "execution_count": 3,
   "metadata": {},
   "outputs": [],
   "source": [
    "import matplotlib.pyplot as plt"
   ]
  },
  {
   "cell_type": "code",
   "execution_count": 4,
   "metadata": {},
   "outputs": [],
   "source": [
    "from koopmanlib.target import TolueneHydro"
   ]
  },
  {
   "cell_type": "code",
   "execution_count": 5,
   "metadata": {},
   "outputs": [],
   "source": [
    "target_dim = 3\n",
    "param_dim = 5\n",
    "n_init = 100\n",
    "traj_len = 500"
   ]
  },
  {
   "cell_type": "code",
   "execution_count": 6,
   "metadata": {},
   "outputs": [],
   "source": [
    "Toluene_train = TolueneHydro(n_init=n_init,traj_len=traj_len, seed_param=[1,2,3,4,5])"
   ]
  },
  {
   "cell_type": "markdown",
   "metadata": {},
   "source": [
    "# Check Toluene Hydrogenation"
   ]
  },
  {
   "cell_type": "code",
   "execution_count": 7,
   "metadata": {},
   "outputs": [],
   "source": [
    "x_traj_len = 500\n",
    "x0 = np.asarray([[1., 0., 0.]],dtype='float64')\n",
    "param_u = np.asarray([[2.51*1e-2, 8.7*1e-3, 3.3*1e-3, 1.2726, 1.2423]], dtype='float64')\n",
    "x_traj = [x0]"
   ]
  },
  {
   "cell_type": "code",
   "execution_count": 8,
   "metadata": {},
   "outputs": [
    {
     "name": "stderr",
     "output_type": "stream",
     "text": [
      "2023-03-27 16:21:36.247359: I tensorflow/core/platform/cpu_feature_guard.cc:193] This TensorFlow binary is optimized with oneAPI Deep Neural Network Library (oneDNN) to use the following CPU instructions in performance-critical operations:  AVX2 FMA\n",
      "To enable them in other operations, rebuild TensorFlow with the appropriate compiler flags.\n"
     ]
    }
   ],
   "source": [
    "for t in range(x_traj_len - 1):\n",
    "    x_traj.append(Toluene_train.euler(x_traj[t], param_u))"
   ]
  },
  {
   "cell_type": "code",
   "execution_count": 9,
   "metadata": {},
   "outputs": [],
   "source": [
    "x_traj = np.squeeze(np.asarray(x_traj))"
   ]
  },
  {
   "cell_type": "code",
   "execution_count": 10,
   "metadata": {},
   "outputs": [
    {
     "data": {
      "text/plain": [
       "(500, 3)"
      ]
     },
     "execution_count": 10,
     "metadata": {},
     "output_type": "execute_result"
    }
   ],
   "source": [
    "x_traj.shape"
   ]
  },
  {
   "cell_type": "code",
   "execution_count": 11,
   "metadata": {},
   "outputs": [
    {
     "data": {
      "text/plain": [
       "<matplotlib.legend.Legend at 0x7fcc9727ae50>"
      ]
     },
     "execution_count": 11,
     "metadata": {},
     "output_type": "execute_result"
    },
    {
     "data": {
      "image/png": "[encoded data removed]",
      "text/plain": [
       "<Figure size 432x288 with 1 Axes>"
      ]
     },
     "metadata": {
      "needs_background": "light"
     },
     "output_type": "display_data"
    }
   ],
   "source": [
    "# plt.title('Evaluation (Toluene Hydrogenation)')\n",
    "plt.plot(x_traj[:,0], label='$x_{1}$')\n",
    "plt.plot(x_traj[:,1], label='$x_{2}$')\n",
    "plt.plot(x_traj[:,2], label='$x_{3}$')\n",
    "plt.legend()\n",
    "# plt.savefig('results/toluene/new/evaluation_toluene_sample.png', dpi=200, bbox_inches='tight')\n",
    "# plt.savefig('results/toluene/new/evaluation_toluene_sample.pdf', dpi=200, bbox_inches='tight')"
   ]
  },
  {
   "cell_type": "markdown",
   "metadata": {},
   "source": [
    "# Build Koopman Model"
   ]
  },
  {
   "cell_type": "code",
   "execution_count": 12,
   "metadata": {},
   "outputs": [],
   "source": [
    "from koopmanlib.dictionary import PsiNN"
   ]
  },
  {
   "cell_type": "code",
   "execution_count": 13,
   "metadata": {},
   "outputs": [],
   "source": [
    "from tensorflow.keras.optimizers import Adam\n",
    "from tensorflow.keras.layers import Layer, Dense\n",
    "from tensorflow.keras.layers import Input\n",
    "from tensorflow.keras.models import Model"
   ]
  },
  {
   "cell_type": "code",
   "execution_count": 14,
   "metadata": {},
   "outputs": [],
   "source": [
    "n_phi = 10\n",
    "n_psi_train = 25\n",
    "n_psi = 1 + target_dim + n_psi_train"
   ]
  },
  {
   "cell_type": "code",
   "execution_count": 15,
   "metadata": {},
   "outputs": [],
   "source": [
    "# K(u)\n",
    "layer_sizes=[128, 256, 128]\n",
    "hidden_layers = [Dense(s, activation='tanh') for s in layer_sizes]\n",
    "# hidden_layers = [Dense(s) for s in layer_sizes]\n",
    "output_layer = Dense(n_phi)"
   ]
  },
  {
   "cell_type": "code",
   "execution_count": 16,
   "metadata": {},
   "outputs": [],
   "source": [
    "inputs_u = Input((param_dim,))\n",
    "hidden_u = inputs_u\n",
    "for layer in hidden_layers:\n",
    "    hidden_u = layer(hidden_u)   \n",
    "phi_u = output_layer(hidden_u)\n",
    "K_u_entry = Dense(n_psi**2, use_bias=True)(phi_u)\n",
    "K_u = tf.reshape(K_u_entry, shape=(-1, n_psi, n_psi))\n",
    "model_K_u = Model(inputs=inputs_u, outputs=K_u, name='K_u')"
   ]
  },
  {
   "cell_type": "code",
   "execution_count": 17,
   "metadata": {},
   "outputs": [],
   "source": [
    "inputs_u = Input((param_dim,))\n",
    "inputs_psi_x = Input((n_psi,))\n",
    "K_u = model_K_u(inputs_u)\n",
    "psi_y = tf.einsum('ij,ijk->ik', inputs_psi_x, K_u)\n",
    "model_K_u_pred = Model(inputs=[inputs_u, inputs_psi_x], outputs=psi_y, name='K_u_pred')"
   ]
  },
  {
   "cell_type": "code",
   "execution_count": 18,
   "metadata": {},
   "outputs": [],
   "source": [
    "dic_func = PsiNN(layer_sizes=[128, 128, 128], n_psi_train=n_psi_train)"
   ]
  },
  {
   "cell_type": "code",
   "execution_count": 19,
   "metadata": {},
   "outputs": [],
   "source": [
    "# Build the model related to Psi\n",
    "inputs_x = Input((target_dim,))\n",
    "inputs_y = Input((target_dim,))\n",
    "inputs_u = Input((param_dim,))\n",
    "\n",
    "psi_x = dic_func(inputs_x)\n",
    "psi_y = dic_func(inputs_y)\n",
    "\n",
    "psi_next = model_K_u_pred([inputs_u, psi_x])\n",
    "\n",
    "outputs = psi_next - psi_y\n",
    "model = Model(inputs=[inputs_x, inputs_y, inputs_u], outputs=outputs)"
   ]
  },
  {
   "cell_type": "code",
   "execution_count": 20,
   "metadata": {},
   "outputs": [],
   "source": [
    "model.compile(optimizer=Adam(1e-3),\n",
    "             loss='mse')"
   ]
  },
  {
   "cell_type": "code",
   "execution_count": 21,
   "metadata": {},
   "outputs": [],
   "source": [
    "lr_callbacks = tf.keras.callbacks.ReduceLROnPlateau(monitor='loss',\n",
    "                                                    factor=0.1,\n",
    "                                                    patience=200,\n",
    "                                                    verbose=0,\n",
    "                                                    mode='auto',\n",
    "                                                    min_delta=0.0001,\n",
    "                                                    cooldown=0,\n",
    "                                                    min_lr=1e-6)"
   ]
  },
  {
   "cell_type": "markdown",
   "metadata": {},
   "source": [
    "# Train Model"
   ]
  },
  {
   "cell_type": "code",
   "execution_count": 22,
   "metadata": {
    "scrolled": true
   },
   "outputs": [],
   "source": [
    "data_x, data_u = Toluene_train.generate_init_data()\n",
    "data_y = Toluene_train.generate_next_data(data_x, data_u)"
   ]
  },
  {
   "cell_type": "code",
   "execution_count": 23,
   "metadata": {},
   "outputs": [],
   "source": [
    "zeros_data_y_train = tf.zeros_like(dic_func(data_y))"
   ]
  },
  {
   "cell_type": "code",
   "execution_count": 24,
   "metadata": {
    "scrolled": true
   },
   "outputs": [
    {
     "name": "stdout",
     "output_type": "stream",
     "text": [
      "Epoch 1/5\n",
      "250/250 [==============================] - 4s 12ms/step - loss: 0.0029 - lr: 0.0010\n",
      "Epoch 2/5\n",
      "250/250 [==============================] - 3s 11ms/step - loss: 2.9391e-05 - lr: 0.0010\n",
      "Epoch 3/5\n",
      "250/250 [==============================] - 3s 13ms/step - loss: 2.2176e-05 - lr: 0.0010\n",
      "Epoch 4/5\n",
      "250/250 [==============================] - 4s 14ms/step - loss: 1.3766e-05 - lr: 0.0010\n",
      "Epoch 5/5\n",
      "250/250 [==============================] - 3s 13ms/step - loss: 1.3537e-05 - lr: 0.0010\n"
     ]
    }
   ],
   "source": [
    "history = model.fit(x=[data_x, data_y, data_u], \n",
    "                    y=zeros_data_y_train, \n",
    "                    epochs=5, \n",
    "                    batch_size=200,\n",
    "                    callbacks=lr_callbacks,\n",
    "                    verbose=1)"
   ]
  },
  {
   "cell_type": "code",
   "execution_count": 26,
   "metadata": {},
   "outputs": [],
   "source": [
    "# plt.plot(history.history['loss'])\n",
    "# plt.yscale('log')\n",
    "# plt.title('Training Loss')"
   ]
  },
  {
   "cell_type": "code",
   "execution_count": 27,
   "metadata": {},
   "outputs": [],
   "source": [
    "# model.save_weights('results/toluene/toluene_weights_phi10_psi25.h5')"
   ]
  },
  {
   "cell_type": "code",
   "execution_count": 28,
   "metadata": {},
   "outputs": [],
   "source": [
    "model.load_weights('results/toluene/toluene_weights_phi10_psi25.h5')"
   ]
  },
  {
   "cell_type": "code",
   "execution_count": 29,
   "metadata": {},
   "outputs": [],
   "source": [
    "# tf.keras.models.save_model(model, 'results/toluene/toluene_model')"
   ]
  },
  {
   "cell_type": "markdown",
   "metadata": {},
   "source": [
    "# Inverse Problem"
   ]
  },
  {
   "cell_type": "code",
   "execution_count": 30,
   "metadata": {},
   "outputs": [],
   "source": [
    "from scipy.optimize import minimize"
   ]
  },
  {
   "cell_type": "code",
   "execution_count": 31,
   "metadata": {},
   "outputs": [],
   "source": [
    "n_init_test = 100\n",
    "traj_len_test = 500"
   ]
  },
  {
   "cell_type": "code",
   "execution_count": 32,
   "metadata": {},
   "outputs": [],
   "source": [
    "Toluene_test = TolueneHydro(n_init=n_init_test, traj_len=traj_len_test, seed_param=[11,22,33,44,55])\n",
    "data_x_test, data_u_test = Toluene_test.generate_init_data()"
   ]
  },
  {
   "cell_type": "code",
   "execution_count": 33,
   "metadata": {},
   "outputs": [],
   "source": [
    "u_test = tf.constant([2.51*1e-2, 8.7*1e-3, 3.3*1e-3, 1.2726, 1.2423], shape=(1, Toluene_test.param_dim), dtype='float64')\n",
    "\n",
    "data_u_test = tf.repeat(u_test, repeats=data_u_test.shape[0], axis=0)\n",
    "data_y_test = Toluene_test.generate_next_data(data_x_test, data_u_test)"
   ]
  },
  {
   "cell_type": "code",
   "execution_count": 34,
   "metadata": {},
   "outputs": [],
   "source": [
    "def compute_K(dic, data_x, data_y, reg=0):\n",
    "    psi_x = dic(data_x)\n",
    "    psi_y = dic(data_y)\n",
    "    psi_xt = tf.transpose(psi_x)\n",
    "    idmat = tf.eye(psi_x.shape[-1], dtype='float64')\n",
    "    xtx_inv = tf.linalg.pinv(reg * idmat + tf.matmul(psi_xt, psi_x))\n",
    "    xty = tf.matmul(psi_xt, psi_y)\n",
    "    K_reg = tf.matmul(xtx_inv, xty)\n",
    "    return K_reg"
   ]
  },
  {
   "cell_type": "code",
   "execution_count": 35,
   "metadata": {},
   "outputs": [],
   "source": [
    "# For K trained\n",
    "psi_x = dic_func(data_x_test)\n",
    "psi_y_pred = model_K_u_pred([data_u_test, psi_x])\n",
    "psi_y = dic_func(data_y_test)"
   ]
  },
  {
   "cell_type": "markdown",
   "metadata": {},
   "source": [
    "# Optimize from Psi"
   ]
  },
  {
   "cell_type": "code",
   "execution_count": 36,
   "metadata": {},
   "outputs": [],
   "source": [
    "def psi_loss(param, psi_x, psi_y):\n",
    "    param = tf.reshape(param, shape=(1,-1))\n",
    "    param = tf.repeat(param, repeats=psi_x.shape[0], axis=0)\n",
    "    psi_y_pred = model_K_u_pred([param, psi_x])\n",
    "    diff_psi_y = psi_y-psi_y_pred\n",
    "    loss = tf.reduce_mean(tf.norm(diff_psi_y, ord='euclidean', axis=-1))\n",
    "    return loss"
   ]
  },
  {
   "cell_type": "code",
   "execution_count": 37,
   "metadata": {},
   "outputs": [],
   "source": [
    "param_init = np.random.uniform(size=(5,))\n",
    "# param_init = tf.constant([-1.0, 2.0])"
   ]
  },
  {
   "cell_type": "code",
   "execution_count": null,
   "metadata": {},
   "outputs": [],
   "source": [
    "results_psi = minimize(psi_loss, \n",
    "                  x0=param_init,\n",
    "                  args = (psi_x, psi_y))\n",
    "#                   method='BFGS')"
   ]
  },
  {
   "cell_type": "code",
   "execution_count": null,
   "metadata": {},
   "outputs": [],
   "source": [
    "results_psi"
   ]
  },
  {
   "cell_type": "markdown",
   "metadata": {},
   "source": [
    "Target: 0.0251, 0.0087, 0.0033, 1.2726, 1.2423"
   ]
  },
  {
   "cell_type": "markdown",
   "metadata": {},
   "source": [
    "# Optimize from K"
   ]
  },
  {
   "cell_type": "code",
   "execution_count": null,
   "metadata": {},
   "outputs": [],
   "source": [
    "# For optimal K\n",
    "K_dic_opt = compute_K(dic=dic_func, data_x=data_x_test, data_y=data_y_test)\n",
    "K_dim_0 = K_dic_opt.shape[0]\n",
    "K_dim_1 = K_dic_opt.shape[1]\n",
    "K_dic_opt_test = tf.reshape(K_dic_opt, shape=(-1, K_dim_0, K_dim_1))\n",
    "K_dic_opt_test = tf.repeat(K_dic_opt_test, repeats=data_x_test.shape[0], axis=0)\n",
    "psi_y_opt = tf.einsum('ij,ijk->ik', psi_x, K_dic_opt_test)"
   ]
  },
  {
   "cell_type": "code",
   "execution_count": null,
   "metadata": {},
   "outputs": [],
   "source": [
    "def K_loss(param, K_dic_opt, psi_x):\n",
    "    param = tf.reshape(param, shape=(1,-1))\n",
    "#     K_u = tf.squeeze(model_K_u(param)) \n",
    "    K_u = model_K_u(param) \n",
    "    K_u_psi_x = tf.einsum('ij,ijk->ik', psi_x, K_dic_opt-K_u)\n",
    "    loss = tf.norm(K_u_psi_x, ord='fro', axis=(0,1))\n",
    "    return loss"
   ]
  },
  {
   "cell_type": "code",
   "execution_count": null,
   "metadata": {},
   "outputs": [],
   "source": [
    "# Set random initialization\n",
    "param_init = np.random.uniform(size=(5,))\n",
    "\n",
    "# # # Set fixed initialization\n",
    "# param_init = tf.constant([2.51*1e-2, 8.7*1e-3, 3.3*1e-3, 1.2726, 1.2423])"
   ]
  },
  {
   "cell_type": "code",
   "execution_count": null,
   "metadata": {},
   "outputs": [],
   "source": [
    "results_K = minimize(K_loss, \n",
    "                  x0=param_init,\n",
    "                  args = (K_dic_opt_test, psi_x))\n",
    "#                   method='BFGS')"
   ]
  },
  {
   "cell_type": "code",
   "execution_count": null,
   "metadata": {
    "scrolled": false
   },
   "outputs": [],
   "source": [
    "results_K"
   ]
  },
  {
   "cell_type": "markdown",
   "metadata": {},
   "source": [
    "Target: 0.0251, 0.0087, 0.0033, 1.2726, 1.2423"
   ]
  },
  {
   "cell_type": "markdown",
   "metadata": {},
   "source": [
    "# Prediction"
   ]
  },
  {
   "cell_type": "markdown",
   "metadata": {},
   "source": [
    "## Specific Prediction"
   ]
  },
  {
   "cell_type": "code",
   "execution_count": null,
   "metadata": {},
   "outputs": [],
   "source": [
    "n_traj_test = 1\n",
    "traj_len_test = 500"
   ]
  },
  {
   "cell_type": "code",
   "execution_count": null,
   "metadata": {},
   "outputs": [],
   "source": [
    "data_x.shape"
   ]
  },
  {
   "cell_type": "code",
   "execution_count": null,
   "metadata": {},
   "outputs": [],
   "source": [
    "def compute_specific_u_data_list(n_traj, traj_len, u):\n",
    "    data_true_list = []\n",
    "    data_pred_list = []\n",
    "    for _ in range(n_traj):\n",
    "        Toluene = TolueneHydro(n_init=1, traj_len=traj_len, seed_param=None)\n",
    "        data_x_test, data_u_test = Toluene.generate_init_data()\n",
    "        print('data_x_test', data_x_test)\n",
    "        \n",
    "        u_test = tf.constant(u, shape=(1, Toluene_test.param_dim), dtype='float64')\n",
    "        data_u = tf.repeat(u_test, repeats=data_u_test.shape[0], axis=0)\n",
    "        \n",
    "        data_x = []\n",
    "        data_x.append(data_x_test[0].reshape(-1,target_dim))\n",
    "        print('data_x_test[0]', data_x_test[0])\n",
    "        print('u_test', u_test)\n",
    "        for t in range(traj_len - 1):\n",
    "            data_x.append(Toluene.euler(data_x[t], u_test))\n",
    "        data_x = np.asarray(data_x).reshape(-1,target_dim)\n",
    "        print('data_x', data_x.shape)\n",
    "            \n",
    "        data_y = Toluene.generate_next_data(data_x, data_u)\n",
    "        print('parameters', data_u[0])\n",
    "\n",
    "        B = dic_func.generate_B(data_x)\n",
    "        data_x_list = [data_x]\n",
    "\n",
    "        for _ in range(traj_len):\n",
    "            psi_x = dic_func(data_x_list[-1])\n",
    "            psi_y = model_K_u_pred([data_u, psi_x])\n",
    "            y_pred = psi_y @ B\n",
    "            data_x_list.append(y_pred)\n",
    "\n",
    "        data_x_list = np.array(data_x_list)\n",
    "\n",
    "        data_x_list_reshape = np.transpose(data_x_list, [1,0,2])\n",
    "\n",
    "        data_pred = data_x_list_reshape[0]\n",
    "\n",
    "        data_x_init = data_x[0].reshape(-1,data_x.shape[-1])\n",
    "        data_true = np.concatenate((data_x_init, data_y), axis=0)\n",
    "\n",
    "        data_true_list.append(data_true)\n",
    "        data_pred_list.append(data_pred)\n",
    "\n",
    "    data_true_list = np.asarray(data_true_list)\n",
    "    data_pred_list = np.asarray(data_pred_list)\n",
    "    return data_true_list, data_pred_list"
   ]
  },
  {
   "cell_type": "code",
   "execution_count": null,
   "metadata": {},
   "outputs": [],
   "source": [
    "# u_test = tf.constant([2.51*1e-2, 8.7*1e-3, 3.3*1e-3, 1.2726, 1.2423], shape=(1, Toluene_test.param_dim), dtype='float64')\n",
    "# data_u_test = tf.repeat(u_test, repeats=data_u_test.shape[0], axis=0)"
   ]
  },
  {
   "cell_type": "code",
   "execution_count": 46,
   "metadata": {
    "scrolled": true
   },
   "outputs": [
    {
     "name": "stdout",
     "output_type": "stream",
     "text": [
      "data_x_test [[1.00000000e+00 0.00000000e+00 0.00000000e+00]\n",
      " [9.09455882e-01 9.02389746e-02 3.05143065e-04]\n",
      " [8.28490549e-01 1.70279736e-01 1.22971450e-03]\n",
      " ...\n",
      " [3.15686264e-04 5.13477591e-03 9.94549538e-01]\n",
      " [3.11644687e-04 5.06903787e-03 9.94619317e-01]\n",
      " [3.07654550e-04 5.00413653e-03 9.94688209e-01]]\n",
      "data_x_test[0] [1. 0. 0.]\n",
      "u_test tf.Tensor([[0.0251 0.0087 0.0033 1.2726 1.2423]], shape=(1, 5), dtype=float64)\n",
      "data_x (500, 3)\n",
      "parameters tf.Tensor([0.0251 0.0087 0.0033 1.2726 1.2423], shape=(5,), dtype=float64)\n"
     ]
    }
   ],
   "source": [
    "data_true_list_specific_u, data_pred_list_specific_u = compute_specific_u_data_list(n_traj_test, \n",
    "                                                                                    traj_len_test,\n",
    "                                                                                   u=[2.51*1e-2, 8.7*1e-3, 3.3*1e-3, 1.2726, 1.2423])"
   ]
  },
  {
   "cell_type": "code",
   "execution_count": 47,
   "metadata": {
    "scrolled": true
   },
   "outputs": [
    {
     "name": "stdout",
     "output_type": "stream",
     "text": [
      "data_x_test [[1.00000000e+00 0.00000000e+00 0.00000000e+00]\n",
      " [9.08994269e-01 9.04672860e-02 5.38444684e-04]\n",
      " [8.31219144e-01 1.66708738e-01 2.07211802e-03]\n",
      " ...\n",
      " [4.35509070e-03 6.00626270e-02 9.35582282e-01]\n",
      " [4.33286269e-03 5.97560725e-02 9.35911065e-01]\n",
      " [4.31075056e-03 5.94511162e-02 9.36238133e-01]]\n",
      "data_x_test[0] [1. 0. 0.]\n",
      "u_test tf.Tensor([[0.02736065 0.00791252 0.00336704 1.11560218 1.18697006]], shape=(1, 5), dtype=float64)\n",
      "data_x (500, 3)\n",
      "parameters tf.Tensor([0.02736065 0.00791252 0.00336704 1.11560218 1.18697006], shape=(5,), dtype=float64)\n"
     ]
    }
   ],
   "source": [
    "data_true_list_K_inverse_u, data_pred_list_K_inverse_u = compute_specific_u_data_list(n_traj_test, \n",
    "                                                                                    traj_len_test,\n",
    "                                                                                   u=results_K.x)"
   ]
  },
  {
   "cell_type": "code",
   "execution_count": 48,
   "metadata": {},
   "outputs": [
    {
     "name": "stdout",
     "output_type": "stream",
     "text": [
      "data_x_test [[1.00000000e+00 0.00000000e+00 0.00000000e+00]\n",
      " [9.50736588e-01 4.92231380e-02 4.02737080e-05]\n",
      " [9.04952884e-01 9.48829080e-02 1.64207971e-04]\n",
      " ...\n",
      " [7.76398854e-02 5.15268519e-01 4.07091596e-01]\n",
      " [7.75623987e-02 5.14754267e-01 4.07683334e-01]\n",
      " [7.74850100e-02 5.14240666e-01 4.08274324e-01]]\n",
      "data_x_test[0] [1. 0. 0.]\n",
      "u_test tf.Tensor([[0.02794134 0.00777453 0.00358603 1.13307853 1.21243634]], shape=(1, 5), dtype=float64)\n",
      "data_x (500, 3)\n",
      "parameters tf.Tensor([0.02794134 0.00777453 0.00358603 1.13307853 1.21243634], shape=(5,), dtype=float64)\n"
     ]
    }
   ],
   "source": [
    "data_true_list_psi_inverse_u, data_pred_list_psi_inverse_u = compute_specific_u_data_list(n_traj_test, \n",
    "                                                                                    traj_len_test,\n",
    "                                                                                   u=results_psi.x)"
   ]
  },
  {
   "cell_type": "code",
   "execution_count": 51,
   "metadata": {},
   "outputs": [],
   "source": [
    "# fig, (ax1, ax2, ax3) = plt.subplots(1, 3, figsize=(18, 5))\n",
    "# fig.suptitle('Evaluation (Toluene) Pred (Inverse u) vs True (Inverse u)')\n",
    "# ax1.plot(data_pred_list_psi_inverse_u[0,:,0], label='Prediction')\n",
    "# ax1.plot(data_true_list_psi_inverse_u[0,:,0], label='True')\n",
    "# ax1.set_xlabel(r'$n$')\n",
    "# ax1.set_ylabel('Value')\n",
    "# ax1.title.set_text('$x_1$')\n",
    "# # ax1.set_ylim(0.7, 1.5)\n",
    "# ax1.legend()\n",
    "\n",
    "# ax2.plot(data_pred_list_psi_inverse_u[0,:,1], label='Prediction')\n",
    "# ax2.plot(data_true_list_psi_inverse_u[0,:,1], label='True')\n",
    "# ax2.set_xlabel(r'$n$')\n",
    "# ax2.set_ylabel('Value')\n",
    "# ax2.title.set_text('$x_2$')\n",
    "# ax2.legend()\n",
    "\n",
    "# ax3.plot(data_pred_list_psi_inverse_u[0,:,2], label='Prediction')\n",
    "# ax3.plot(data_true_list_psi_inverse_u[0,:,2],label='True')\n",
    "# ax3.set_xlabel(r'$n$')\n",
    "# ax3.set_ylabel('Value')\n",
    "# ax3.title.set_text('$x_3$')\n",
    "# ax3.legend()\n",
    "# # plt.savefig('results/duffing_param/duffing_traj_one_init.pdf', dpi=200, bbox_inches='tight')"
   ]
  },
  {
   "cell_type": "code",
   "execution_count": 52,
   "metadata": {},
   "outputs": [],
   "source": [
    "# fig, (ax1, ax2, ax3) = plt.subplots(1, 3, figsize=(18, 5))\n",
    "# fig.suptitle('Evaluation (Toluene) Pred (Inverse u) vs True (Inverse u)')\n",
    "# ax1.plot(data_pred_list_K_inverse_u[0,:,0], label='Prediction')\n",
    "# ax1.plot(data_true_list_K_inverse_u[0,:,0], label='True')\n",
    "# ax1.set_xlabel('Time')\n",
    "# ax1.set_ylabel('Value')\n",
    "# ax1.title.set_text('$x_1$')\n",
    "# # ax1.set_ylim(0.7, 1.5)\n",
    "# ax1.legend()\n",
    "\n",
    "# ax2.plot(data_pred_list_K_inverse_u[0,:,1], label='Prediction')\n",
    "# ax2.plot(data_true_list_K_inverse_u[0,:,1],label='True')\n",
    "# ax2.set_xlabel('Time')\n",
    "# ax2.set_ylabel('Value')\n",
    "# ax2.title.set_text('$x_2$')\n",
    "# ax2.legend()\n",
    "\n",
    "# ax3.plot(data_pred_list_K_inverse_u[0,:,2], label='Prediction')\n",
    "# ax3.plot(data_true_list_K_inverse_u[0,:,2],label='True')\n",
    "# ax3.set_xlabel('Time')\n",
    "# ax3.set_ylabel('Value')\n",
    "# ax3.title.set_text('$x_3$')\n",
    "# ax3.legend()\n",
    "# # plt.savefig('results/duffing_param/duffing_traj_one_init.pdf', dpi=200, bbox_inches='tight')"
   ]
  },
  {
   "cell_type": "code",
   "execution_count": 53,
   "metadata": {
    "scrolled": false
   },
   "outputs": [],
   "source": [
    "# fig, (ax1, ax2, ax3) = plt.subplots(3, 1, figsize=(10, 20))\n",
    "# fig.suptitle('Evaluation (Toluene) Pred (Inverse u) vs True (Specific u)')\n",
    "# ax1.plot(data_pred_list_specific_u[0,:,0], marker='^', label='Koopman Prediction (Specific u)')\n",
    "# ax1.plot(data_pred_list_inverse_u[0,:,0], marker='*', label='Koopman Prediction (Inverse u)')\n",
    "# ax1.plot(data_true_list_specific_u[0,:,0], marker='p', label='True (Specific u)')\n",
    "# ax1.set_xlabel('Time')\n",
    "# ax1.set_ylabel('Value')\n",
    "# ax1.title.set_text('$x_1$')\n",
    "# # ax1.set_ylim(0.7, 1.5)\n",
    "# ax1.legend()\n",
    "\n",
    "# ax2.plot(data_pred_list_specific_u[0,:,1], marker='^', label='Koopman Prediction (Specific u)')\n",
    "# ax2.plot(data_pred_list_inverse_u[0,:,1], marker='*', label='Koopman Prediction (Inverse u)')\n",
    "# ax2.plot(data_true_list_specific_u[0,:,1], marker='p', label='True (Specific u)')\n",
    "# ax2.set_xlabel('Time')\n",
    "# ax2.set_ylabel('Value')\n",
    "# ax2.title.set_text('$x_2$')\n",
    "# ax2.legend()\n",
    "\n",
    "# ax3.plot(data_pred_list_specific_u[0,:,2], marker='^', label='Koopman Prediction (Specific u)')\n",
    "# ax3.plot(data_pred_list_inverse_u[0,:,2], marker='*', label='Koopman Prediction (Inverse u)')\n",
    "# ax3.plot(data_true_list_specific_u[0,:,2], marker='p', label='True (Specific u)')\n",
    "# ax3.set_xlabel('Time')\n",
    "# ax3.set_ylabel('Value')\n",
    "# ax3.title.set_text('$x_3$')\n",
    "# ax3.legend()\n",
    "# # plt.savefig('results/duffing_param/duffing_traj_one_init.pdf', dpi=200, bbox_inches='tight')"
   ]
  },
  {
   "cell_type": "code",
   "execution_count": 59,
   "metadata": {},
   "outputs": [
    {
     "data": {
      "image/png": "[encoded data removed]",
      "text/plain": [
       "<Figure size 1440x360 with 3 Axes>"
      ]
     },
     "metadata": {
      "needs_background": "light"
     },
     "output_type": "display_data"
    }
   ],
   "source": [
    "fig, (ax1, ax2, ax3) = plt.subplots(1, 3, figsize=(20, 5))\n",
    "# fig.suptitle('Evaluation (Toluene Hydrogenation)')\n",
    "ax1.plot(data_pred_list_specific_u[0,:,0], label='P-Koopman with true parameter')\n",
    "ax1.plot(data_pred_list_K_inverse_u[0,:,0], label='P-Koopman with parameter from K inverse problem')\n",
    "ax1.plot(data_pred_list_psi_inverse_u[0,:,0], label='P-Koopman with parameter from $\\Psi$ inverse problem')\n",
    "ax1.plot(data_true_list_specific_u[0,:,0], label='True')\n",
    "ax1.set_xlabel(r'$n$')\n",
    "ax1.set_ylabel('Value')\n",
    "ax1.title.set_text('$x_1$')\n",
    "# ax1.set_ylim(0.7, 1.5)\n",
    "ax1.legend()\n",
    "\n",
    "ax2.plot(data_pred_list_specific_u[0,:,1], label='P-Koopman with true parameter')\n",
    "ax2.plot(data_pred_list_K_inverse_u[0,:,1], label='P-Koopman with parameter from K inverse problem')\n",
    "ax2.plot(data_pred_list_psi_inverse_u[0,:,1], label='P-Koopman with parameter from $\\Psi$ inverse problem')\n",
    "ax2.plot(data_true_list_specific_u[0,:,1], label='True')\n",
    "ax2.set_xlabel(r'$n$')\n",
    "ax2.set_ylabel('Value')\n",
    "ax2.title.set_text('$x_2$')\n",
    "# ax2.legend()\n",
    "\n",
    "ax3.plot(data_pred_list_specific_u[0,:,2], label='P-Koopman with true parameter')\n",
    "ax3.plot(data_pred_list_K_inverse_u[0,:,2], label='P-Koopman with parameter from K inverse problem')\n",
    "ax3.plot(data_pred_list_psi_inverse_u[0,:,2], label='P-Koopman with parameter from $\\Psi$ inverse problem')\n",
    "ax3.plot(data_true_list_specific_u[0,:,2], label='True')\n",
    "ax3.set_xlabel(r'$n$')\n",
    "ax3.set_ylabel('Value')\n",
    "ax3.title.set_text('$x_3$')\n",
    "# ax3.legend()\n",
    "plt.savefig('results/toluene/new/comparison_toluene.png', dpi=200, bbox_inches='tight')\n",
    "plt.savefig('results/toluene/new/comparison_toluene.pdf', dpi=200, bbox_inches='tight')"
   ]
  },
  {
   "cell_type": "markdown",
   "metadata": {},
   "source": [
    "## Random Prediction"
   ]
  },
  {
   "cell_type": "code",
   "execution_count": 55,
   "metadata": {},
   "outputs": [],
   "source": [
    "def compute_data_list(n_traj, traj_len):\n",
    "    data_true_list = []\n",
    "    data_pred_list = []\n",
    "    for _ in range(n_traj):\n",
    "        Toluene = TolueneHydro(n_init=1, traj_len=traj_len)\n",
    "        data_x, data_u = Toluene.generate_init_data()\n",
    "        data_y = Toluene.generate_next_data(data_x, data_u)\n",
    "        print('parameters', data_u[0])\n",
    "\n",
    "        B = dic_func.generate_B(data_x)\n",
    "        data_x_list = [data_x]\n",
    "\n",
    "        for _ in range(traj_len):\n",
    "            psi_x = dic_func(data_x_list[-1])\n",
    "            psi_y = model_K_u_pred([data_u, psi_x])\n",
    "            y_pred = psi_y @ B\n",
    "            data_x_list.append(y_pred)\n",
    "\n",
    "        data_x_list = np.array(data_x_list)\n",
    "\n",
    "        data_x_list_reshape = np.transpose(data_x_list, [1,0,2])\n",
    "\n",
    "        data_pred = data_x_list_reshape[0]\n",
    "\n",
    "        data_x_init = data_x[0].reshape(-1,data_x.shape[-1])\n",
    "        data_true = np.concatenate((data_x_init, data_y), axis=0)\n",
    "\n",
    "        data_true_list.append(data_true)\n",
    "        data_pred_list.append(data_pred)\n",
    "\n",
    "    data_true_list = np.asarray(data_true_list)\n",
    "    data_pred_list = np.asarray(data_pred_list)\n",
    "    return data_true_list, data_pred_list"
   ]
  },
  {
   "cell_type": "code",
   "execution_count": 56,
   "metadata": {},
   "outputs": [],
   "source": [
    "n_traj_test = 1\n",
    "traj_len_test = 500"
   ]
  },
  {
   "cell_type": "code",
   "execution_count": 57,
   "metadata": {
    "scrolled": true
   },
   "outputs": [
    {
     "name": "stdout",
     "output_type": "stream",
     "text": [
      "parameters [0.07229773 0.00168819 0.0087433  0.1204807  1.31819425]\n"
     ]
    }
   ],
   "source": [
    "data_true_list, data_pred_list = compute_data_list(n_traj_test, traj_len_test)"
   ]
  },
  {
   "cell_type": "code",
   "execution_count": 58,
   "metadata": {},
   "outputs": [
    {
     "data": {
      "text/plain": [
       "(1, 501, 3)"
      ]
     },
     "execution_count": 58,
     "metadata": {},
     "output_type": "execute_result"
    }
   ],
   "source": [
    "data_true_list.shape"
   ]
  },
  {
   "cell_type": "code",
   "execution_count": 59,
   "metadata": {},
   "outputs": [
    {
     "data": {
      "text/plain": [
       "<matplotlib.legend.Legend at 0x7fd730233bb0>"
      ]
     },
     "execution_count": 59,
     "metadata": {},
     "output_type": "execute_result"
    },
    {
     "data": {
      "image/png": "[encoded data removed]",
      "text/plain": [
       "<Figure size 1296x360 with 3 Axes>"
      ]
     },
     "metadata": {
      "needs_background": "light"
     },
     "output_type": "display_data"
    }
   ],
   "source": [
    "fig, (ax1, ax2, ax3) = plt.subplots(1, 3, figsize=(18, 5))\n",
    "fig.suptitle('Evaluation (Toluene)')\n",
    "ax1.plot(data_pred_list[0,:,0], marker='*', label='Prediction')\n",
    "ax1.plot(data_true_list[0,:,0], marker='p', label='True')\n",
    "ax1.set_xlabel('Time')\n",
    "ax1.set_ylabel('Value')\n",
    "ax1.title.set_text('$x_1$')\n",
    "# ax1.set_ylim(0.7, 1.5)\n",
    "ax1.legend()\n",
    "\n",
    "ax2.plot(data_pred_list[0,:,1],marker='*', label='Prediction')\n",
    "ax2.plot(data_true_list[0,:,1], marker='p',label='True')\n",
    "ax2.set_xlabel('Time')\n",
    "ax2.set_ylabel('Value')\n",
    "ax2.title.set_text('$x_2$')\n",
    "ax2.legend()\n",
    "\n",
    "ax3.plot(data_pred_list[0,:,2],marker='*', label='Prediction')\n",
    "ax3.plot(data_true_list[0,:,2], marker='p',label='True')\n",
    "ax3.set_xlabel('Time')\n",
    "ax3.set_ylabel('Value')\n",
    "ax3.title.set_text('$x_3$')\n",
    "ax3.legend()\n",
    "# plt.savefig('results/duffing_param/duffing_traj_one_init.pdf', dpi=200, bbox_inches='tight')"
   ]
  },
  {
   "cell_type": "code",
   "execution_count": null,
   "metadata": {},
   "outputs": [],
   "source": []
  },
  {
   "cell_type": "code",
   "execution_count": null,
   "metadata": {},
   "outputs": [],
   "source": []
  }
 ],
 "metadata": {
  "kernelspec": {
   "display_name": "koopman",
   "language": "python",
   "name": "koopman"
  },
  "language_info": {
   "codemirror_mode": {
    "name": "ipython",
    "version": 3
   },
   "file_extension": ".py",
   "mimetype": "text/x-python",
   "name": "python",
   "nbconvert_exporter": "python",
   "pygments_lexer": "ipython3",
   "version": "3.8.3"
  }
 },
 "nbformat": 4,
 "nbformat_minor": 5
}
