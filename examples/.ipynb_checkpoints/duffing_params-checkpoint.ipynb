{
 "cells": [
  {
   "cell_type": "code",
   "execution_count": 1,
   "metadata": {},
   "outputs": [],
   "source": [
    "import os; os.environ['CUDA_VISIBLE_DEVICES'] = '-1'"
   ]
  },
  {
   "cell_type": "code",
   "execution_count": 2,
   "metadata": {},
   "outputs": [],
   "source": [
    "%load_ext autoreload\n",
    "%autoreload 2"
   ]
  },
  {
   "cell_type": "code",
   "execution_count": 3,
   "metadata": {},
   "outputs": [],
   "source": [
    "import numpy as np\n",
    "import tensorflow as tf"
   ]
  },
  {
   "cell_type": "code",
   "execution_count": 4,
   "metadata": {},
   "outputs": [],
   "source": [
    "from tensorflow.keras.optimizers import Adam\n",
    "from tensorflow.keras.layers import Layer, Dense\n",
    "from tensorflow.keras.layers import Input\n",
    "from tensorflow.keras.models import Model"
   ]
  },
  {
   "cell_type": "code",
   "execution_count": 5,
   "metadata": {},
   "outputs": [],
   "source": [
    "import matplotlib.pyplot as plt"
   ]
  },
  {
   "cell_type": "code",
   "execution_count": 6,
   "metadata": {},
   "outputs": [],
   "source": [
    "from koopmanlib.dictionary import PsiNN\n",
    "from koopmanlib.target import DuffingParamTarget\n",
    "from koopmanlib.param_solver import KoopmanParametricDLSolver"
   ]
  },
  {
   "cell_type": "code",
   "execution_count": 7,
   "metadata": {},
   "outputs": [],
   "source": [
    "target_dim = 2\n",
    "param_dim = 3\n",
    "n_psi_train = 22\n",
    "n_psi = 1 + target_dim + n_psi_train"
   ]
  },
  {
   "cell_type": "code",
   "execution_count": 8,
   "metadata": {},
   "outputs": [],
   "source": [
    "n_init = 500\n",
    "traj_len = 50"
   ]
  },
  {
   "cell_type": "code",
   "execution_count": 9,
   "metadata": {},
   "outputs": [
    {
     "name": "stderr",
     "output_type": "stream",
     "text": [
      "2023-03-28 10:35:18.502703: I tensorflow/core/platform/cpu_feature_guard.cc:193] This TensorFlow binary is optimized with oneAPI Deep Neural Network Library (oneDNN) to use the following CPU instructions in performance-critical operations:  AVX2 AVX512F AVX512_VNNI FMA\n",
      "To enable them in other operations, rebuild TensorFlow with the appropriate compiler flags.\n"
     ]
    }
   ],
   "source": [
    "duffing_param = DuffingParamTarget(n_init=n_init,traj_len=traj_len, seed_x=123, seed_param=[1,2,3])\n",
    "data_x, data_u = duffing_param.generate_init_data()\n",
    "data_y = duffing_param.generate_next_data(data_x, data_u)"
   ]
  },
  {
   "cell_type": "code",
   "execution_count": 10,
   "metadata": {},
   "outputs": [],
   "source": [
    "dic_pk = PsiNN(layer_sizes=[64, 64], n_psi_train=n_psi_train)"
   ]
  },
  {
   "cell_type": "code",
   "execution_count": 11,
   "metadata": {},
   "outputs": [],
   "source": [
    "solver_pk = KoopmanParametricDLSolver(target_dim=target_dim, param_dim=param_dim, n_psi=n_psi, dic=dic_pk)"
   ]
  },
  {
   "cell_type": "code",
   "execution_count": 12,
   "metadata": {},
   "outputs": [],
   "source": [
    "model_pk, model_K_u_pred_pk = solver_pk.generate_model(layer_sizes=[128, 256, 128])"
   ]
  },
  {
   "cell_type": "code",
   "execution_count": 13,
   "metadata": {},
   "outputs": [
    {
     "name": "stdout",
     "output_type": "stream",
     "text": [
      "Model: \"model\"\n",
      "__________________________________________________________________________________________________\n",
      " Layer (type)                   Output Shape         Param #     Connected to                     \n",
      "==================================================================================================\n",
      " input_4 (InputLayer)           [(None, 2)]          0           []                               \n",
      "                                                                                                  \n",
      " tf.slice (TFOpLambda)          (None, 1)            0           ['input_4[0][0]']                \n",
      "                                                                                                  \n",
      " input_5 (InputLayer)           [(None, 2)]          0           []                               \n",
      "                                                                                                  \n",
      " tf.ones_like (TFOpLambda)      (None, 1)            0           ['tf.slice[0][0]']               \n",
      "                                                                                                  \n",
      " dic_nn (DicNN)                 (None, 22)           9878        ['input_4[0][0]',                \n",
      "                                                                  'input_5[0][0]']                \n",
      "                                                                                                  \n",
      " tf.slice_1 (TFOpLambda)        (None, 1)            0           ['input_5[0][0]']                \n",
      "                                                                                                  \n",
      " input_6 (InputLayer)           [(None, 3)]          0           []                               \n",
      "                                                                                                  \n",
      " concatenate (Concatenate)      (None, 25)           0           ['tf.ones_like[0][0]',           \n",
      "                                                                  'input_4[0][0]',                \n",
      "                                                                  'dic_nn[0][0]']                 \n",
      "                                                                                                  \n",
      " tf.ones_like_1 (TFOpLambda)    (None, 1)            0           ['tf.slice_1[0][0]']             \n",
      "                                                                                                  \n",
      " K_u_pred (Functional)          (None, 25)           147057      ['input_6[0][0]',                \n",
      "                                                                  'concatenate[0][0]']            \n",
      "                                                                                                  \n",
      " concatenate_1 (Concatenate)    (None, 25)           0           ['tf.ones_like_1[0][0]',         \n",
      "                                                                  'input_5[0][0]',                \n",
      "                                                                  'dic_nn[1][0]']                 \n",
      "                                                                                                  \n",
      " tf.math.subtract (TFOpLambda)  (None, 25)           0           ['K_u_pred[0][0]',               \n",
      "                                                                  'concatenate_1[0][0]']          \n",
      "                                                                                                  \n",
      "==================================================================================================\n",
      "Total params: 156,935\n",
      "Trainable params: 156,935\n",
      "Non-trainable params: 0\n",
      "__________________________________________________________________________________________________\n"
     ]
    }
   ],
   "source": [
    "model_pk.summary()"
   ]
  },
  {
   "cell_type": "code",
   "execution_count": 14,
   "metadata": {},
   "outputs": [],
   "source": [
    "zeros_data_y_train = tf.zeros_like(dic_pk(data_y))"
   ]
  },
  {
   "cell_type": "code",
   "execution_count": 15,
   "metadata": {},
   "outputs": [],
   "source": [
    "model_pk.compile(optimizer=Adam(0.001),\n",
    "             loss='mse')"
   ]
  },
  {
   "cell_type": "code",
   "execution_count": 16,
   "metadata": {},
   "outputs": [],
   "source": [
    "lr_callbacks = tf.keras.callbacks.ReduceLROnPlateau(monitor='loss',\n",
    "                                                    factor=0.1,\n",
    "                                                    patience=200,\n",
    "                                                    verbose=0,\n",
    "                                                    mode='auto',\n",
    "                                                    min_delta=0.0001,\n",
    "                                                    cooldown=0,\n",
    "                                                    min_lr=1e-12)"
   ]
  },
  {
   "cell_type": "code",
   "execution_count": 17,
   "metadata": {
    "scrolled": true
   },
   "outputs": [
    {
     "name": "stdout",
     "output_type": "stream",
     "text": [
      "Epoch 1/5\n",
      "125/125 [==============================] - 2s 10ms/step - loss: 0.0183 - lr: 0.0010\n",
      "Epoch 2/5\n",
      "125/125 [==============================] - 1s 10ms/step - loss: 0.0017 - lr: 0.0010\n",
      "Epoch 3/5\n",
      "125/125 [==============================] - 1s 10ms/step - loss: 0.0017 - lr: 0.0010\n",
      "Epoch 4/5\n",
      "125/125 [==============================] - 1s 11ms/step - loss: 5.0165e-04 - lr: 0.0010\n",
      "Epoch 5/5\n",
      "125/125 [==============================] - 1s 10ms/step - loss: 4.4598e-04 - lr: 0.0010\n"
     ]
    }
   ],
   "source": [
    "history = model_pk.fit(x=[data_x, data_y, data_u], \n",
    "                    y=zeros_data_y_train, \n",
    "                    epochs=5, \n",
    "                    batch_size=200,\n",
    "                    callbacks=lr_callbacks,\n",
    "                    verbose=1)"
   ]
  },
  {
   "cell_type": "code",
   "execution_count": 18,
   "metadata": {},
   "outputs": [],
   "source": [
    "# plt.plot(history.history['loss'])\n",
    "# plt.yscale('log')\n",
    "# plt.title('Training Loss (Duffing Param)')"
   ]
  },
  {
   "cell_type": "code",
   "execution_count": 19,
   "metadata": {},
   "outputs": [],
   "source": [
    "# model_pk.save_weights('results/duffing_param/duffing_param_weights.h5')"
   ]
  },
  {
   "cell_type": "code",
   "execution_count": 20,
   "metadata": {},
   "outputs": [],
   "source": [
    "model_pk.load_weights('results/duffing_param/duffing_param_weights.h5')"
   ]
  },
  {
   "cell_type": "code",
   "execution_count": null,
   "metadata": {},
   "outputs": [],
   "source": []
  },
  {
   "cell_type": "code",
   "execution_count": null,
   "metadata": {},
   "outputs": [],
   "source": []
  },
  {
   "cell_type": "code",
   "execution_count": null,
   "metadata": {},
   "outputs": [],
   "source": []
  },
  {
   "cell_type": "markdown",
   "metadata": {},
   "source": [
    "## Iteratively Train"
   ]
  },
  {
   "cell_type": "code",
   "execution_count": 21,
   "metadata": {
    "scrolled": true
   },
   "outputs": [],
   "source": [
    "# init_loss = model.evaluate(x=[data_x, data_y, data_u], y=zeros_data_y_train)\n",
    "# losses = [init_loss]\n",
    "# outer_epoch = 30"
   ]
  },
  {
   "cell_type": "code",
   "execution_count": 22,
   "metadata": {
    "scrolled": true
   },
   "outputs": [],
   "source": [
    "# for j in range (outer_epoch):\n",
    "#     # Train K\n",
    "#     print(j)\n",
    "#     psi_xx = dic_func(data_x)\n",
    "#     psi_yy = dic_func(data_y)\n",
    "    \n",
    "#     model_K_u_pred.trainable=True\n",
    "#     model_K_u_pred.fit(x=[data_u, psi_xx], y=psi_yy, epochs=10, batch_size=200, verbose=1)\n",
    "\n",
    "#     # Get weights from the model embedding K\n",
    "#     w_K = model_K_u_pred.weights\n",
    "#     for i in range(len(w_K)):\n",
    "#         model.get_layer('K_u_pred').weights[i].assign(w_K[i])\n",
    "\n",
    "#     # Train Psi\n",
    "#     model_K_u_pred.trainable=False\n",
    "#     history = model.fit(x=[data_x, data_y, data_u], y=zeros_data_y_train, epochs=50, batch_size=200, verbose=1)\n",
    "#     outer_loss = history.history['loss'][-1]\n",
    "#     print('loss', outer_loss)\n",
    "#     losses.append(outer_loss)"
   ]
  },
  {
   "cell_type": "code",
   "execution_count": 23,
   "metadata": {},
   "outputs": [],
   "source": [
    "# outer_epoch_axis = np.asarray(range(outer_epoch+1))\n",
    "# plt.plot(outer_epoch_axis, losses)\n",
    "# plt.yscale('log')"
   ]
  },
  {
   "cell_type": "markdown",
   "metadata": {},
   "source": [
    "# Add EDMD Koopman Solver"
   ]
  },
  {
   "cell_type": "code",
   "execution_count": 24,
   "metadata": {},
   "outputs": [],
   "source": [
    "from koopmanlib.dictionary import PsiNN\n",
    "from koopmanlib.target import DuffingOscillator"
   ]
  },
  {
   "cell_type": "code",
   "execution_count": 25,
   "metadata": {},
   "outputs": [],
   "source": [
    "# basis_function = PsiNN(layer_sizes=[100,100,100], n_psi_train=22) # Use weights v0\n",
    "basis_function = PsiNN(layer_sizes=[64,64], n_psi_train=22) # Use weights v1"
   ]
  },
  {
   "cell_type": "code",
   "execution_count": 26,
   "metadata": {},
   "outputs": [],
   "source": [
    "# Generate data\n",
    "duffing_train = DuffingOscillator(n_init=1000, traj_len=10, seed=0)\n",
    "data_x_train = duffing_train.generate_init_data()\n",
    "data_y_train = duffing_train.generate_next_data(data_x_train)\n",
    "\n",
    "duffing_valid = DuffingOscillator(n_init=300, traj_len=10, seed=0)\n",
    "data_x_valid = duffing_valid.generate_init_data()\n",
    "data_y_valid = duffing_valid.generate_next_data(data_x_valid)\n",
    "\n",
    "data_train = [data_x_train, data_y_train]\n",
    "data_valid = [data_x_valid, data_y_valid]"
   ]
  },
  {
   "cell_type": "code",
   "execution_count": 27,
   "metadata": {},
   "outputs": [],
   "source": [
    "from koopmanlib.solver import KoopmanDLSolver\n",
    "solver = KoopmanDLSolver(dic=basis_function,\n",
    "                         target_dim=2,\n",
    "                         reg=0.1)"
   ]
  },
  {
   "cell_type": "code",
   "execution_count": 28,
   "metadata": {},
   "outputs": [],
   "source": [
    "solver.build(data_train=data_train,\n",
    "             data_valid=data_valid,\n",
    "             epochs=0,\n",
    "             batch_size=5000,\n",
    "             lr=1e-4,\n",
    "             log_interval=20,\n",
    "             lr_decay_factor=0.8)"
   ]
  },
  {
   "cell_type": "code",
   "execution_count": 29,
   "metadata": {},
   "outputs": [],
   "source": [
    "# solver.model.load_weights('results/duffing/duffing_weights_v0.h5') # for [100,100,100]\n",
    "solver.model.load_weights('results/duffing/duffing_weights_v1.h5') # for [64, 64]"
   ]
  },
  {
   "cell_type": "code",
   "execution_count": 30,
   "metadata": {},
   "outputs": [],
   "source": [
    "solver.build(data_train=data_train,\n",
    "             data_valid=data_valid,\n",
    "             epochs=0,\n",
    "             batch_size=5000,\n",
    "             lr=1e-4,\n",
    "             log_interval=20,\n",
    "             lr_decay_factor=0.8)"
   ]
  },
  {
   "cell_type": "markdown",
   "metadata": {},
   "source": [
    "# Prediction"
   ]
  },
  {
   "cell_type": "code",
   "execution_count": 31,
   "metadata": {},
   "outputs": [],
   "source": [
    "n_traj_test = 1\n",
    "traj_len_test = 50"
   ]
  },
  {
   "cell_type": "markdown",
   "metadata": {},
   "source": []
  },
  {
   "cell_type": "code",
   "execution_count": 32,
   "metadata": {},
   "outputs": [],
   "source": [
    "def compute_data_list_fix_param(dic_func, model_K_u_pred, n_traj, traj_len, seed_x, param):\n",
    "    data_true_list = []\n",
    "    data_pred_list = []\n",
    "\n",
    "    duffing_param = DuffingParamTarget(n_init=1, traj_len=traj_len, seed_x=seed_x)\n",
    "    data_x, data_u = duffing_param.generate_fix_param_init_data(fixed_param=param)\n",
    "\n",
    "#     data_x, data_u = duffing_param.generate_fix_param_init_data(fixed_param=[0.5, 1.0, 0.4])\n",
    "#     data_x, data_u = duffing_param.generate_fix_param_init_data(fixed_param=[0.5, 0.8, -1.0])\n",
    "#     data_x, data_u = duffing_param.generate_fix_param_init_data(fixed_param=[0.2, 1.0, -1.0])\n",
    "\n",
    "\n",
    "    data_y = duffing_param.generate_next_data(data_x, data_u)\n",
    "    print('u', data_u[0])\n",
    "    \n",
    "    B = dic_func.generate_B(data_x)\n",
    "    data_x_list = [data_x]\n",
    "\n",
    "    for _ in range(traj_len-1):\n",
    "        psi_x = dic_func(data_x_list[-1])\n",
    "        psi_y = model_K_u_pred([data_u, psi_x])\n",
    "        y_pred = psi_y @ B\n",
    "        data_x_list.append(y_pred)\n",
    "\n",
    "    data_x_list = np.array(data_x_list)\n",
    "\n",
    "    data_x_list_reshape = np.transpose(data_x_list, [1,0,2])\n",
    "\n",
    "    data_pred = data_x_list_reshape[0]\n",
    "\n",
    "    data_x_init = data_x[0].reshape(-1,data_x.shape[-1])\n",
    "    data_true = np.concatenate((data_x_init, data_y[:-1]), axis=0)\n",
    "\n",
    "    data_true_list.append(data_true)\n",
    "    data_pred_list.append(data_pred)\n",
    "\n",
    "    data_true_list = np.squeeze(np.asarray(data_true_list))\n",
    "    data_pred_list = np.squeeze(np.asarray(data_pred_list))\n",
    "    return data_true_list, data_pred_list, data_x_init"
   ]
  },
  {
   "cell_type": "code",
   "execution_count": 34,
   "metadata": {
    "scrolled": true
   },
   "outputs": [
    {
     "name": "stdout",
     "output_type": "stream",
     "text": [
      "u [ 0.5  1.  -1. ]\n"
     ]
    }
   ],
   "source": [
    "data_true_list_pk, data_pred_list_pk, data_x_init_pk = compute_data_list_fix_param(dic_pk, \n",
    "                                                               model_K_u_pred_pk, \n",
    "                                                               n_traj_test, \n",
    "                                                               traj_len_test,\n",
    "                                                               seed_x = 109,\n",
    "                                                               param =[0.5, 1.0, -1.0])\n",
    "#                                                                 param = [0.2, 0.8, 0.4])\n",
    "#                                                             param =[0.5, 1.0, 0.4])\n",
    "#                                                             param =[0.5, 0.8, -1.0])\n",
    "#                                                             param =[0.2, 1.0, -1.0])"
   ]
  },
  {
   "cell_type": "code",
   "execution_count": 35,
   "metadata": {},
   "outputs": [
    {
     "data": {
      "text/plain": [
       "array([ 0.44584205, -0.03429438])"
      ]
     },
     "execution_count": 35,
     "metadata": {},
     "output_type": "execute_result"
    }
   ],
   "source": [
    "data_true_list_pk[0,:]"
   ]
  },
  {
   "cell_type": "code",
   "execution_count": 36,
   "metadata": {},
   "outputs": [],
   "source": [
    "data_pred_list_edmd = solver.predict(data_x_init_pk, traj_len_test)"
   ]
  },
  {
   "cell_type": "code",
   "execution_count": 37,
   "metadata": {},
   "outputs": [],
   "source": [
    "# font = {'family': 'serif',\n",
    "#         'weight': 'normal',\n",
    "#         'size': 16,\n",
    "#         }"
   ]
  },
  {
   "cell_type": "code",
   "execution_count": 38,
   "metadata": {},
   "outputs": [],
   "source": [
    "font = {'size': 14}\n",
    "font_legend = {'size': 14}"
   ]
  },
  {
   "cell_type": "code",
   "execution_count": 39,
   "metadata": {
    "scrolled": true
   },
   "outputs": [
    {
     "data": {
      "text/plain": [
       "<matplotlib.legend.Legend at 0x7fdcb4991df0>"
      ]
     },
     "execution_count": 39,
     "metadata": {},
     "output_type": "execute_result"
    },
    {
     "data": {
      "image/png": "[encoded data removed]",
      "text/plain": [
       "<Figure size 864x360 with 2 Axes>"
      ]
     },
     "metadata": {
      "needs_background": "light"
     },
     "output_type": "display_data"
    }
   ],
   "source": [
    "fig, (ax1, ax2) = plt.subplots(1, 2, figsize=(12, 5))\n",
    "ax1.plot(data_pred_list_pk[:,0], label='P-Koopman', color='steelblue')\n",
    "ax1.plot(data_pred_list_edmd[:,0], label='EDMD-Koopman (fixed parameter)', color='darkorange')\n",
    "ax1.plot(data_true_list_pk[:,0], label='True', color='forestgreen', linestyle='dashed')\n",
    "ax1.set_xlabel(r'$n$', fontdict=font)\n",
    "ax1.set_ylabel('Value', fontdict=font)\n",
    "ax1.set_title('$x_1$', fontdict=font)\n",
    "\n",
    "\n",
    "# ax1.set_ylim(0.7, 1.5)\n",
    "ax1.legend(prop=font_legend)\n",
    "\n",
    "ax2.plot(data_pred_list_pk[:,1], label='P-Koopman', color='steelblue')\n",
    "ax2.plot(data_pred_list_edmd[:,1], label='EDMD-Koopman (fixed parameter)', color='darkorange')\n",
    "ax2.plot(data_true_list_pk[:,1], label='True', color='forestgreen', linestyle='dashed')\n",
    "ax2.set_xlabel(r'$n$', fontdict=font)\n",
    "ax2.set_ylabel('Value', fontdict=font)\n",
    "ax2.set_title('$x_2$', fontdict=font)\n",
    "# ax2.set_ylim(-0.5, 0)\n",
    "ax2.legend(prop=font_legend)\n",
    "# plt.savefig('results/duffing_param/ori_duffing_constant_x109_time50.png', dpi=200, bbox_inches='tight')\n",
    "# plt.savefig('results/duffing_param/ori_duffing_constant_x109_time50.pdf', dpi=200, bbox_inches='tight')"
   ]
  },
  {
   "cell_type": "code",
   "execution_count": 40,
   "metadata": {},
   "outputs": [],
   "source": [
    "# fig, (ax1, ax2) = plt.subplots(1, 2, figsize=(12, 5))\n",
    "# ax1.plot(data_pred_list_pk[:,0], label='P-Koopman', color='steelblue')\n",
    "# ax1.plot(data_pred_list_edmd[:,0], label='EDMD-Koopman (fixed parameter)', color='darkorange')\n",
    "# ax1.plot(data_true_list_pk[:,0], label='True', color='forestgreen', linestyle='dashed')\n",
    "# ax1.set_xlabel(r'$n$', fontdict=font)\n",
    "# ax1.set_ylabel('Value', fontdict=font)\n",
    "# ax1.set_title('$x_1$', fontdict=font)\n",
    "\n",
    "\n",
    "# # ax1.set_ylim(0.7, 1.5)\n",
    "# ax1.legend(prop=font_legend)\n",
    "\n",
    "# ax2.plot(data_pred_list_pk[:,1], label='P-Koopman', color='steelblue')\n",
    "# ax2.plot(data_pred_list_edmd[:,1], label='EDMD-Koopman (fixed parameter)', color='darkorange')\n",
    "# ax2.plot(data_true_list_pk[:,1], label='True', color='forestgreen', linestyle='dashed')\n",
    "# ax2.set_xlabel(r'$n$', fontdict=font)\n",
    "# ax2.set_ylabel('Value', fontdict=font)\n",
    "# ax2.set_title('$x_2$', fontdict=font)\n",
    "# # ax2.set_ylim(-0.5, 0)\n",
    "# ax2.legend(prop=font_legend)\n",
    "# plt.savefig('results/duffing_param/wrong_duffing_constant_x109_time50.png', dpi=200, bbox_inches='tight')\n",
    "# plt.savefig('results/duffing_param/wrong_duffing_constant_x109_time50.pdf', dpi=200, bbox_inches='tight')"
   ]
  },
  {
   "cell_type": "code",
   "execution_count": 41,
   "metadata": {},
   "outputs": [],
   "source": [
    "from koopmanlib.functions import *"
   ]
  },
  {
   "cell_type": "code",
   "execution_count": 42,
   "metadata": {},
   "outputs": [],
   "source": [
    "ratio_pk = compute_diff_ratio_one_traj(data_true_list_pk, \n",
    "                                    data_pred_list_pk)\n",
    "ratio_edmd = compute_diff_ratio_one_traj(data_true_list_pk, \n",
    "                                    data_pred_list_edmd)"
   ]
  },
  {
   "cell_type": "code",
   "execution_count": 49,
   "metadata": {},
   "outputs": [
    {
     "name": "stdout",
     "output_type": "stream",
     "text": [
      "u [ 0.5  1.  -1. ]\n",
      "u [ 0.5  1.  -1. ]\n",
      "u [ 0.5  1.  -1. ]\n",
      "u [ 0.5  1.  -1. ]\n",
      "u [ 0.5  1.  -1. ]\n",
      "u [ 0.5  1.  -1. ]\n",
      "u [ 0.5  1.  -1. ]\n",
      "u [ 0.5  1.  -1. ]\n",
      "u [ 0.5  1.  -1. ]\n",
      "u [ 0.5  1.  -1. ]\n",
      "u [ 0.5  1.  -1. ]\n",
      "u [ 0.5  1.  -1. ]\n",
      "u [ 0.5  1.  -1. ]\n",
      "u [ 0.5  1.  -1. ]\n",
      "u [ 0.5  1.  -1. ]\n",
      "u [ 0.5  1.  -1. ]\n",
      "u [ 0.5  1.  -1. ]\n",
      "u [ 0.5  1.  -1. ]\n",
      "u [ 0.5  1.  -1. ]\n",
      "u [ 0.5  1.  -1. ]\n"
     ]
    }
   ],
   "source": [
    "ratio_edmd_list = []\n",
    "ratio_pk_list = []\n",
    "np.random.seed(625)\n",
    "seed_x_list = np.random.randint(500, size=(20,))\n",
    "\n",
    "for seed_x in seed_x_list:\n",
    "    data_true_list_pk, data_pred_list_pk, data_x_init_pk = compute_data_list_fix_param(dic_pk, \n",
    "                                                               model_K_u_pred_pk, \n",
    "                                                               n_traj_test, \n",
    "                                                               traj_len_test,\n",
    "                                                               seed_x = seed_x,\n",
    "#                                                                param =[0.2, 0.8, 0.4])\n",
    "                                                                param=[0.5, 1.0, -1.0])\n",
    "    data_pred_list_edmd = solver.predict(data_x_init_pk, traj_len_test)\n",
    "    \n",
    "    ratio_pk = compute_diff_ratio_one_traj(data_true_list_pk, \n",
    "                                    data_pred_list_pk)\n",
    "    ratio_edmd = compute_diff_ratio_one_traj(data_true_list_pk, \n",
    "                                    data_pred_list_edmd)\n",
    "    \n",
    "    ratio_edmd_list.append(ratio_edmd)\n",
    "    ratio_pk_list.append(ratio_pk)"
   ]
  },
  {
   "cell_type": "code",
   "execution_count": 50,
   "metadata": {},
   "outputs": [],
   "source": [
    "ratio_edmd_list = np.asarray(ratio_edmd_list)\n",
    "ratio_pk_list = np.asarray(ratio_pk_list)"
   ]
  },
  {
   "cell_type": "code",
   "execution_count": 51,
   "metadata": {},
   "outputs": [
    {
     "data": {
      "text/plain": [
       "array([307, 284, 412, 193, 150, 136, 344, 209, 342,  24, 338, 262,  19,\n",
       "       302, 205,  68, 397, 444, 459,  41])"
      ]
     },
     "execution_count": 51,
     "metadata": {},
     "output_type": "execute_result"
    }
   ],
   "source": [
    "seed_x_list"
   ]
  },
  {
   "cell_type": "code",
   "execution_count": 52,
   "metadata": {},
   "outputs": [],
   "source": [
    "ratio_edmd_mean = tf.math.reduce_mean(ratio_edmd_list, axis=0)\n",
    "ratio_pk_mean = tf.math.reduce_mean(ratio_pk_list, axis=0)"
   ]
  },
  {
   "cell_type": "code",
   "execution_count": 53,
   "metadata": {},
   "outputs": [
    {
     "data": {
      "text/plain": [
       "TensorShape([50])"
      ]
     },
     "execution_count": 53,
     "metadata": {},
     "output_type": "execute_result"
    }
   ],
   "source": [
    "ratio_pk_mean.shape"
   ]
  },
  {
   "cell_type": "code",
   "execution_count": 54,
   "metadata": {},
   "outputs": [
    {
     "data": {
      "text/plain": [
       "<matplotlib.legend.Legend at 0x7fdcb3e56130>"
      ]
     },
     "execution_count": 54,
     "metadata": {},
     "output_type": "execute_result"
    },
    {
     "data": {
      "image/png": "[encoded data removed]",
      "text/plain": [
       "<Figure size 432x288 with 1 Axes>"
      ]
     },
     "metadata": {
      "needs_background": "light"
     },
     "output_type": "display_data"
    }
   ],
   "source": [
    "time = np.linspace(0,ratio_pk_mean.shape[0]-1, num=ratio_pk_mean.shape[0])\n",
    "std_p_k = np.std(ratio_pk_list, axis=0)\n",
    "std_k = np.std(ratio_edmd_list, axis=0)\n",
    "\n",
    "plt.plot(ratio_pk_mean, label='P-Koopman', color='steelblue')\n",
    "plt.plot(ratio_edmd_mean, label='EDMD-Koopman (fixed parameter)', color='darkorange')\n",
    "# plt.fill_between(time,\n",
    "#                  np.min(ratio_pk_list, axis=0), \n",
    "#                  np.max(ratio_pk_list, axis=0), \n",
    "#                  color='lightsteelblue')\n",
    "\n",
    "\n",
    "plt.fill_between(time,\n",
    "                ratio_edmd_mean - std_k,\n",
    "                ratio_edmd_mean + std_k,\n",
    "                color='bisque', \n",
    "                alpha=0.5)\n",
    "\n",
    "plt.fill_between(time,\n",
    "                ratio_pk_mean - std_p_k,\n",
    "                ratio_pk_mean + std_p_k,\n",
    "                color='lightsteelblue', \n",
    "                alpha=0.5)\n",
    "\n",
    "\n",
    "plt.xlabel(r'$n$', fontdict=font)\n",
    "plt.ylabel('Reconstruction Error', fontdict=font)\n",
    "plt.legend(prop=font_legend)\n",
    "\n",
    "# plt.savefig('results/duffing_param/error_bar_duffing_constant.png', dpi=200, bbox_inches='tight')\n",
    "# plt.savefig('results/duffing_param/error_bar_duffing_constant.pdf', dpi=200, bbox_inches='tight')"
   ]
  },
  {
   "cell_type": "code",
   "execution_count": 115,
   "metadata": {
    "scrolled": false
   },
   "outputs": [],
   "source": [
    "# for i in range(len(ratio_edmd_list)):\n",
    "#     plt.plot(ratio_pk_list[i], label='P-Koopman')\n",
    "#     plt.plot(ratio_edmd_list[i], label='Koopman (fixed parameter)')\n",
    "#     plt.legend()\n",
    "#     plt.xlabel('Time')\n",
    "#     plt.ylabel('Reconstruction Error')\n",
    "#     plt.show()"
   ]
  },
  {
   "cell_type": "code",
   "execution_count": 43,
   "metadata": {},
   "outputs": [],
   "source": [
    "# def compute_data_list(dic_func, model_K_u_pred, n_traj, traj_len):\n",
    "#     data_true_list = []\n",
    "#     data_pred_list = []\n",
    "#     for _ in range(n_traj):\n",
    "#         duffing_param = DuffingParamTarget(n_init=1, traj_len=traj_len)\n",
    "#         data_x, data_u = duffing_param.generate_init_data()\n",
    "#         data_y = duffing_param.generate_next_data(data_x, data_u)\n",
    "        \n",
    "# #         duffing_param = DuffingParamTarget(n_init=1, traj_len=traj_len, seed_x=1)\n",
    "# #         data_x, data_u = duffing_param.generate_init_data()\n",
    "# #         u_test = tf.constant([0.5, 1.0, -1.0], shape=(1, duffing_param.param_dim), dtype='float64')\n",
    "# #         data_u = np.repeat(u_test, repeats=data_u.shape[0], axis=0)\n",
    "# #         data_y = duffing_param.generate_next_data(data_x, data_u)\n",
    "\n",
    "#         B = dic_func.generate_B(data_x)\n",
    "#         data_x_list = [data_x]\n",
    "\n",
    "#         for _ in range(traj_len-1):\n",
    "#             psi_x = dic_func(data_x_list[-1])\n",
    "#             psi_y = model_K_u_pred([data_u, psi_x])\n",
    "#             y_pred = psi_y @ B\n",
    "#             data_x_list.append(y_pred)\n",
    "\n",
    "#         data_x_list = np.array(data_x_list)\n",
    "\n",
    "#         data_x_list_reshape = np.transpose(data_x_list, [1,0,2])\n",
    "\n",
    "#         data_pred = data_x_list_reshape[0]\n",
    "\n",
    "#         data_x_init = data_x[0].reshape(-1,data_x.shape[-1])\n",
    "#         data_true = np.concatenate((data_x_init, data_y[:-1]), axis=0)\n",
    "\n",
    "#         data_true_list.append(data_true)\n",
    "#         data_pred_list.append(data_pred)\n",
    "\n",
    "#     data_true_list = np.asarray(data_true_list)\n",
    "#     data_pred_list = np.asarray(data_pred_list)\n",
    "#     return data_true_list, data_pred_list"
   ]
  },
  {
   "cell_type": "code",
   "execution_count": 111,
   "metadata": {},
   "outputs": [],
   "source": [
    "i=0"
   ]
  },
  {
   "cell_type": "code",
   "execution_count": 112,
   "metadata": {},
   "outputs": [
    {
     "data": {
      "text/plain": [
       "<matplotlib.legend.Legend at 0x7facc0220160>"
      ]
     },
     "execution_count": 112,
     "metadata": {},
     "output_type": "execute_result"
    },
    {
     "data": {
      "image/png": "[encoded data removed]",
      "text/plain": [
       "<Figure size 864x360 with 2 Axes>"
      ]
     },
     "metadata": {
      "needs_background": "light"
     },
     "output_type": "display_data"
    }
   ],
   "source": [
    "fig, (ax1, ax2) = plt.subplots(1, 2, figsize=(12, 5))\n",
    "fig.suptitle('Evaluation (Duffing Param)')\n",
    "ax1.plot(data_pred_list[i,:,0], marker='*', label='Prediction')\n",
    "ax1.plot(data_true_list[i,:,0], marker='p', label='True')\n",
    "ax1.set_xlabel('Time')\n",
    "ax1.set_ylabel('Value')\n",
    "ax1.title.set_text('$x_1$')\n",
    "# ax1.set_ylim(0.7, 1.5)\n",
    "ax1.legend()\n",
    "\n",
    "ax2.plot(data_pred_list[i,:,1],marker='*', label='Prediction')\n",
    "ax2.plot(data_true_list[i,:,1], marker='p',label='True')\n",
    "ax2.set_xlabel('Time')\n",
    "ax2.set_ylabel('Value')\n",
    "ax2.title.set_text('$x_2$')\n",
    "# ax2.set_ylim(-0.5, 0)\n",
    "ax2.legend()\n",
    "# plt.savefig('results/duffing_param/duffing_traj_one_init.pdf', dpi=200, bbox_inches='tight')"
   ]
  },
  {
   "cell_type": "code",
   "execution_count": 53,
   "metadata": {},
   "outputs": [],
   "source": [
    "\n",
    "# data_true_mean = np.mean(data_true_list, axis=0)\n",
    "# data_pred_mean = np.mean(data_pred_list, axis=0)\n",
    "\n",
    "# fig, (ax1, ax2) = plt.subplots(1, 2, figsize=(12, 5))\n",
    "# fig.suptitle('Evaluation (Duffing Param)')\n",
    "# ax1.plot(data_pred_mean[:,0], marker='*', label='Prediction')\n",
    "# ax1.plot(data_true_mean[:,0], marker='p', label='True')\n",
    "# ax1.set_xlabel('Time')\n",
    "# ax1.set_ylabel('Value')\n",
    "# ax1.title.set_text('$x_1$')\n",
    "# # ax1.set_ylim(1.5, 4.5)\n",
    "# ax1.legend()\n",
    "\n",
    "# ax2.plot(data_pred_mean[:,1],marker='*', label='Prediction')\n",
    "# ax2.plot(data_true_mean[:,1], marker='p',label='True')\n",
    "# ax2.set_xlabel('Time')\n",
    "# ax2.set_ylabel('Value')\n",
    "# ax2.title.set_text('$x_2$')\n",
    "# ax2.legend()\n",
    "# # plt.savefig('results/duffing_param/duffing_traj_one_init.pdf', dpi=200, bbox_inches='tight')"
   ]
  },
  {
   "cell_type": "code",
   "execution_count": null,
   "metadata": {},
   "outputs": [],
   "source": []
  },
  {
   "cell_type": "code",
   "execution_count": null,
   "metadata": {},
   "outputs": [],
   "source": []
  },
  {
   "cell_type": "code",
   "execution_count": null,
   "metadata": {},
   "outputs": [],
   "source": []
  },
  {
   "cell_type": "markdown",
   "metadata": {},
   "source": [
    "# Extract Parameters"
   ]
  },
  {
   "cell_type": "code",
   "execution_count": 122,
   "metadata": {},
   "outputs": [],
   "source": [
    "from scipy.optimize import minimize"
   ]
  },
  {
   "cell_type": "code",
   "execution_count": 123,
   "metadata": {},
   "outputs": [],
   "source": [
    "n_init = 5\n",
    "traj_len = 50"
   ]
  },
  {
   "cell_type": "code",
   "execution_count": 124,
   "metadata": {},
   "outputs": [],
   "source": [
    "duffing_param_test = DuffingParamTarget(n_init=n_init,traj_len=traj_len, seed_x=123)\n",
    "data_x_test, data_u = duffing_param_test.generate_init_data()\n",
    "\n",
    "u_test = tf.constant([0.2,1.0 , -1], shape=(1, duffing_param_test.param_dim), dtype='float64')\n",
    "data_u_test = tf.repeat(u_test, repeats=data_u.shape[0], axis=0)\n",
    "\n",
    "data_y_test = duffing_param_test.generate_next_data(data_x_test, data_u_test)"
   ]
  },
  {
   "cell_type": "code",
   "execution_count": 125,
   "metadata": {},
   "outputs": [],
   "source": [
    "zeros_data_y_test = tf.zeros_like(dic_func(data_y_test))"
   ]
  },
  {
   "cell_type": "code",
   "execution_count": 126,
   "metadata": {},
   "outputs": [],
   "source": [
    "def compute_K(dic, data_x, data_y, reg=0):\n",
    "    psi_x = dic(data_x)\n",
    "    psi_y = dic(data_y)\n",
    "    psi_xt = tf.transpose(psi_x)\n",
    "    idmat = tf.eye(psi_x.shape[-1], dtype='float64')\n",
    "    xtx_inv = tf.linalg.pinv(reg * idmat + tf.matmul(psi_xt, psi_x))\n",
    "    xty = tf.matmul(psi_xt, psi_y)\n",
    "    K_reg = tf.matmul(xtx_inv, xty)\n",
    "    return K_reg"
   ]
  },
  {
   "cell_type": "code",
   "execution_count": 127,
   "metadata": {
    "scrolled": true
   },
   "outputs": [],
   "source": [
    "# model.evaluate(x=[data_x_test, data_y_test, data_u_test], y=zeros_data_y_test)"
   ]
  },
  {
   "cell_type": "code",
   "execution_count": 128,
   "metadata": {},
   "outputs": [],
   "source": [
    "# For K trained\n",
    "psi_x = dic_func(data_x_test)\n",
    "psi_y_pred = model_K_u_pred([data_u_test, psi_x])\n",
    "psi_y = dic_func(data_y_test)"
   ]
  },
  {
   "cell_type": "code",
   "execution_count": null,
   "metadata": {},
   "outputs": [],
   "source": []
  },
  {
   "cell_type": "markdown",
   "metadata": {},
   "source": [
    "# Optimize from Psi"
   ]
  },
  {
   "cell_type": "code",
   "execution_count": 40,
   "metadata": {},
   "outputs": [],
   "source": [
    "def psi_loss(param, psi_x, psi_y):\n",
    "    param = tf.reshape(param, shape=(1,-1))\n",
    "    param = tf.repeat(param, repeats=psi_x.shape[0], axis=0)\n",
    "    psi_y_pred = model_K_u_pred([param, psi_x])\n",
    "    diff_psi_y = psi_y-psi_y_pred\n",
    "    loss = tf.reduce_mean(tf.norm(diff_psi_y, ord='euclidean', axis=-1))\n",
    "    return loss"
   ]
  },
  {
   "cell_type": "code",
   "execution_count": 41,
   "metadata": {},
   "outputs": [],
   "source": [
    "param_init = np.random.uniform(size=(3,))\n",
    "# param_init = tf.constant([-1.0, 2.0])"
   ]
  },
  {
   "cell_type": "code",
   "execution_count": 42,
   "metadata": {},
   "outputs": [],
   "source": [
    "results_psi = minimize(psi_loss, \n",
    "                  x0=param_init,\n",
    "                  args = (psi_x, psi_y))\n",
    "#                   method='BFGS')"
   ]
  },
  {
   "cell_type": "code",
   "execution_count": 43,
   "metadata": {},
   "outputs": [
    {
     "data": {
      "text/plain": [
       "      fun: 0.007883109432544461\n",
       " hess_inv: array([[ 0.11595672,  0.00963897, -0.02093943],\n",
       "       [ 0.00963897,  0.15628999, -0.25290648],\n",
       "       [-0.02093943, -0.25290648,  0.66895399]])\n",
       "      jac: array([ 5.62984496e-07,  8.79634172e-07, -3.60887498e-09])\n",
       "  message: 'Optimization terminated successfully.'\n",
       "     nfev: 84\n",
       "      nit: 15\n",
       "     njev: 21\n",
       "   status: 0\n",
       "  success: True\n",
       "        x: array([ 0.48686297,  0.98837327, -0.96849938])"
      ]
     },
     "execution_count": 43,
     "metadata": {},
     "output_type": "execute_result"
    }
   ],
   "source": [
    "results_psi"
   ]
  },
  {
   "cell_type": "code",
   "execution_count": null,
   "metadata": {},
   "outputs": [],
   "source": []
  },
  {
   "cell_type": "code",
   "execution_count": null,
   "metadata": {},
   "outputs": [],
   "source": []
  },
  {
   "cell_type": "markdown",
   "metadata": {},
   "source": [
    "# Optimize from K"
   ]
  },
  {
   "cell_type": "code",
   "execution_count": 129,
   "metadata": {},
   "outputs": [],
   "source": [
    "# For optimal K\n",
    "K_dic_opt = compute_K(dic=dic_func, data_x=data_x_test, data_y=data_y_test)\n",
    "K_dim_0 = K_dic_opt.shape[0]\n",
    "K_dim_1 = K_dic_opt.shape[1]\n",
    "K_dic_opt_test = tf.reshape(K_dic_opt, shape=(-1, K_dim_0, K_dim_1))\n",
    "K_dic_opt_test = tf.repeat(K_dic_opt_test, repeats=data_x_test.shape[0], axis=0)\n",
    "psi_y_opt = tf.einsum('ij,ijk->ik', psi_x, K_dic_opt_test)"
   ]
  },
  {
   "cell_type": "code",
   "execution_count": 130,
   "metadata": {},
   "outputs": [],
   "source": [
    "def K_loss(param, K_dic_opt, psi_x):\n",
    "    param = tf.reshape(param, shape=(1,-1))\n",
    "#     K_u = tf.squeeze(model_K_u(param)) \n",
    "    K_u = model_K_u(param) \n",
    "    K_u_psi_x = tf.einsum('ij,ijk->ik', psi_x, K_dic_opt-K_u)\n",
    "    loss = tf.norm(K_u_psi_x, ord='fro', axis=(0,1))\n",
    "    return loss"
   ]
  },
  {
   "cell_type": "code",
   "execution_count": 131,
   "metadata": {},
   "outputs": [],
   "source": [
    "# Set random initialization\n",
    "param_init = np.random.uniform(size=(3,))\n",
    "\n",
    "# # # Set fixed initialization\n",
    "# param_init = tf.constant([0.5, 1, -1])\n",
    "results_K = minimize(K_loss, \n",
    "                  x0=param_init,\n",
    "                  args = (K_dic_opt_test, psi_x))\n",
    "#                   method='BFGS')"
   ]
  },
  {
   "cell_type": "code",
   "execution_count": 132,
   "metadata": {},
   "outputs": [
    {
     "data": {
      "text/plain": [
       "      fun: 0.04945613842145294\n",
       " hess_inv: array([[ 0.00698202, -0.00042437,  0.00033431],\n",
       "       [-0.00042437,  0.01937387, -0.03586365],\n",
       "       [ 0.00033431, -0.03586365,  0.08761406]])\n",
       "      jac: array([-1.35274604e-06, -1.56555325e-06, -1.36019662e-06])\n",
       "  message: 'Optimization terminated successfully.'\n",
       "     nfev: 92\n",
       "      nit: 17\n",
       "     njev: 23\n",
       "   status: 0\n",
       "  success: True\n",
       "        x: array([ 0.21198654,  0.97076698, -0.91164027])"
      ]
     },
     "execution_count": 132,
     "metadata": {},
     "output_type": "execute_result"
    }
   ],
   "source": [
    "results_K"
   ]
  },
  {
   "cell_type": "code",
   "execution_count": null,
   "metadata": {},
   "outputs": [],
   "source": []
  },
  {
   "cell_type": "code",
   "execution_count": null,
   "metadata": {},
   "outputs": [],
   "source": []
  },
  {
   "cell_type": "code",
   "execution_count": null,
   "metadata": {},
   "outputs": [],
   "source": []
  },
  {
   "cell_type": "code",
   "execution_count": null,
   "metadata": {},
   "outputs": [],
   "source": []
  },
  {
   "cell_type": "code",
   "execution_count": null,
   "metadata": {},
   "outputs": [],
   "source": []
  },
  {
   "cell_type": "code",
   "execution_count": null,
   "metadata": {},
   "outputs": [],
   "source": []
  },
  {
   "cell_type": "code",
   "execution_count": null,
   "metadata": {},
   "outputs": [],
   "source": []
  },
  {
   "cell_type": "code",
   "execution_count": null,
   "metadata": {},
   "outputs": [],
   "source": []
  },
  {
   "cell_type": "code",
   "execution_count": null,
   "metadata": {},
   "outputs": [],
   "source": []
  }
 ],
 "metadata": {
  "kernelspec": {
   "display_name": "koopman",
   "language": "python",
   "name": "koopman"
  },
  "language_info": {
   "codemirror_mode": {
    "name": "ipython",
    "version": 3
   },
   "file_extension": ".py",
   "mimetype": "text/x-python",
   "name": "python",
   "nbconvert_exporter": "python",
   "pygments_lexer": "ipython3",
   "version": "3.8.3"
  }
 },
 "nbformat": 4,
 "nbformat_minor": 5
}
