{
 "cells": [
  {
   "cell_type": "code",
   "execution_count": 1,
   "metadata": {},
   "outputs": [],
   "source": [
    "import os; os.environ['CUDA_VISIBLE_DEVICES'] = '-1'"
   ]
  },
  {
   "cell_type": "code",
   "execution_count": 2,
   "metadata": {},
   "outputs": [],
   "source": [
    "%load_ext autoreload\n",
    "%autoreload 2"
   ]
  },
  {
   "cell_type": "code",
   "execution_count": 3,
   "metadata": {},
   "outputs": [],
   "source": [
    "# Set the base path\n",
    "weights_path = 'results/kdv/weights_u'\n",
    "data_path = 'results/kdv/data_u'"
   ]
  },
  {
   "cell_type": "code",
   "execution_count": 4,
   "metadata": {},
   "outputs": [],
   "source": [
    "import numpy as np\n",
    "import tensorflow as tf\n",
    "import pandas as pd\n",
    "import matplotlib.pyplot as plt"
   ]
  },
  {
   "cell_type": "code",
   "execution_count": 5,
   "metadata": {},
   "outputs": [],
   "source": [
    "import time"
   ]
  },
  {
   "cell_type": "code",
   "execution_count": 6,
   "metadata": {},
   "outputs": [],
   "source": [
    "from scipy.integrate import solve_ivp\n",
    "from scipy.fftpack import diff as psdiff"
   ]
  },
  {
   "cell_type": "code",
   "execution_count": 7,
   "metadata": {},
   "outputs": [],
   "source": [
    "from koopmanlib.kdv_functions import *\n",
    "from koopmanlib.functions import *"
   ]
  },
  {
   "cell_type": "code",
   "execution_count": 8,
   "metadata": {},
   "outputs": [],
   "source": [
    "# Set the size of the domain, and create the discretized grid.\n",
    "L = 2 * np.pi\n",
    "Nx = 128\n",
    "dx = L / (Nx - 1.0)\n",
    "x = np.linspace(-np.pi, np.pi, Nx)\n",
    "\n",
    "# Set the initial conditions.\n",
    "y0 = kdv_exact(x, seed=123) \n",
    "\n",
    "# inner loop\n",
    "# # Set the time sample grid.\n",
    "# dt = 0.4 / (Nx**2)\n",
    "T = 0.01\n",
    "# Nt = int(T / dt)\n",
    "# dt = T / Nt\n",
    "# t = np.linspace(0, T, Nt)"
   ]
  },
  {
   "cell_type": "code",
   "execution_count": 9,
   "metadata": {},
   "outputs": [],
   "source": [
    "def v_func(x, c):\n",
    "    return np.exp(-25 * (x - c)**2)\n",
    "\n",
    "c1, c2, c3 = -np.pi/2, 0, np.pi/2\n",
    "v1 = v_func(x, c1).reshape(1,-1)\n",
    "v2 = v_func(x, c2).reshape(1,-1)\n",
    "v3 = v_func(x, c3).reshape(1,-1)\n",
    "\n",
    "v_list = np.concatenate([v1,v2,v3], axis=0)"
   ]
  },
  {
   "cell_type": "code",
   "execution_count": 10,
   "metadata": {},
   "outputs": [],
   "source": [
    "umax = 1\n",
    "umin = -umax"
   ]
  },
  {
   "cell_type": "markdown",
   "metadata": {},
   "source": [
    "# Generate data"
   ]
  },
  {
   "cell_type": "code",
   "execution_count": 11,
   "metadata": {},
   "outputs": [],
   "source": [
    "target_dim = Nx\n",
    "param_dim = 3\n",
    "# n_init = 1000\n",
    "# traj_len = 200"
   ]
  },
  {
   "cell_type": "code",
   "execution_count": 12,
   "metadata": {},
   "outputs": [],
   "source": [
    "# traj_len = 500\n",
    "\n",
    "# n_init = 100\n",
    "\n",
    "# seed_IC = np.random.randint(0,100,size=(n_init,))\n",
    "# seed_IC\n",
    "\n",
    "# y0_list = []\n",
    "# for seed in seed_IC:\n",
    "#     y0 = kdv_exact(x, seed)\n",
    "#     y0_list.append(y0)\n",
    "# y0_list = np.asarray(y0_list)\n",
    "\n",
    "# y0_list.shape\n",
    "\n",
    "# param_list_group = np.random.uniform(low=0, high=1, size=(n_init, traj_len, param_dim)) * (umax - umin) + umin\n",
    "\n",
    "# soln_outer_list = []\n",
    "# for y0, param_list in zip(y0_list, param_list_group):\n",
    "#     # Calculate inner solution for each y0 and param_list (for one trajectory)\n",
    "#     soln_inner_list = [y0]\n",
    "#     for param in param_list:\n",
    "#         # Solve the equation using the scipy integrator\n",
    "#         soln = kdv_solution(y0, t, L, param, v_list)\n",
    "#         y0 = soln[-1]\n",
    "#         soln_inner_list.append(y0)\n",
    "\n",
    "#     soln_inner_list = np.asarray(soln_inner_list)\n",
    "    \n",
    "#     soln_outer_list.append(soln_inner_list)\n",
    "    \n",
    "# soln_outer_list = np.asarray(soln_outer_list)\n",
    "\n",
    "# soln_outer_list.shape\n",
    "\n",
    "# param_list_group.shape\n",
    "\n",
    "# data_x = soln_outer_list[:,:-1,:].reshape(-1, target_dim)\n",
    "# data_y = soln_outer_list[:,1:,:].reshape(-1, target_dim)\n",
    "# data_u = param_list_group.reshape(-1,param_dim)"
   ]
  },
  {
   "cell_type": "code",
   "execution_count": 13,
   "metadata": {},
   "outputs": [],
   "source": [
    "# # Save the array to a CSV file\n",
    "# np.savetxt('results/kdv/data/kdv_data_x.csv', data_x, delimiter=',')\n",
    "# np.savetxt('results/kdv/data/kdv_data_y.csv', data_y, delimiter=',')\n",
    "# np.savetxt('results/kdv/data/kdv_data_u.csv', data_u, delimiter=',')"
   ]
  },
  {
   "cell_type": "code",
   "execution_count": 14,
   "metadata": {},
   "outputs": [],
   "source": [
    "# # Load the CSV file\n",
    "# data_x = np.loadtxt('results/kdv/data/kdv_data_x_500.csv', delimiter=',')\n",
    "# data_y = np.loadtxt('results/kdv/data/kdv_data_y_500.csv', delimiter=',')\n",
    "# data_u = np.loadtxt('results/kdv/data/kdv_data_u_500.csv', delimiter=',')"
   ]
  },
  {
   "cell_type": "code",
   "execution_count": null,
   "metadata": {},
   "outputs": [
    {
     "name": "stdout",
     "output_type": "stream",
     "text": [
      "load data\n"
     ]
    }
   ],
   "source": [
    "print('load data')\n",
    "X = pd.read_csv(os.path.join(data_path,'kdv_X.csv'), header=None)\n",
    "Y = pd.read_csv(os.path.join(data_path,'kdv_Y.csv'), header=None)\n",
    "U = pd.read_csv(os.path.join(data_path,'kdv_U.csv'), header=None)\n",
    "\n",
    "data_x = X.values.T\n",
    "data_y = Y.values.T\n",
    "data_u = U.values.T"
   ]
  },
  {
   "cell_type": "markdown",
   "metadata": {},
   "source": [
    "# Build model"
   ]
  },
  {
   "cell_type": "code",
   "execution_count": null,
   "metadata": {},
   "outputs": [],
   "source": [
    "from koopmanlib.dictionary import PsiNN, PsiNN_obs\n",
    "from koopmanlib.param_solver import KoopmanParametricDLSolver"
   ]
  },
  {
   "cell_type": "code",
   "execution_count": null,
   "metadata": {},
   "outputs": [],
   "source": [
    "from koopmanlib.param_solver import KoopmanBilinearDLSolver"
   ]
  },
  {
   "cell_type": "code",
   "execution_count": null,
   "metadata": {},
   "outputs": [],
   "source": [
    "from tensorflow.keras.optimizers import Adam"
   ]
  },
  {
   "cell_type": "code",
   "execution_count": null,
   "metadata": {},
   "outputs": [],
   "source": [
    "n_psi_train = 3\n",
    "n_psi = 1 + 1 +1 + n_psi_train # constant + momentum + mean + NN"
   ]
  },
  {
   "cell_type": "code",
   "execution_count": null,
   "metadata": {},
   "outputs": [],
   "source": [
    "dic_bilinear = PsiNN_obs(layer_sizes=[16,16], n_psi_train=n_psi_train, dx=dx)"
   ]
  },
  {
   "cell_type": "code",
   "execution_count": null,
   "metadata": {},
   "outputs": [],
   "source": [
    "solver_bilinear = KoopmanBilinearDLSolver(dic=dic_bilinear, target_dim=target_dim, param_dim=param_dim, n_psi=n_psi)"
   ]
  },
  {
   "cell_type": "code",
   "execution_count": null,
   "metadata": {},
   "outputs": [],
   "source": [
    "model_bilinear = solver_bilinear.build_model()"
   ]
  },
  {
   "cell_type": "code",
   "execution_count": null,
   "metadata": {},
   "outputs": [],
   "source": [
    "zeros_data_y_train = tf.zeros_like(dic_bilinear(data_y))"
   ]
  },
  {
   "cell_type": "code",
   "execution_count": null,
   "metadata": {
    "scrolled": true
   },
   "outputs": [],
   "source": [
    "# solver_bilinear.build(model_bilinear,\n",
    "#                     data_x,\n",
    "#                     data_u, \n",
    "#                     data_y, \n",
    "#                     zeros_data_y_train,\n",
    "#                     epochs=5,\n",
    "#                     batch_size=200,\n",
    "#                     lr=1e-4,\n",
    "#                     log_interval=20,\n",
    "#                     lr_decay_factor=0.8)"
   ]
  },
  {
   "cell_type": "code",
   "execution_count": null,
   "metadata": {},
   "outputs": [],
   "source": [
    "# solver_bilinear.model.save_weights(os.path.join(weights_path, 'bilinear_kdv_mass_momentum_weights_psi3.h5'))"
   ]
  },
  {
   "cell_type": "code",
   "execution_count": null,
   "metadata": {},
   "outputs": [],
   "source": [
    "solver_bilinear.model.load_weights(os.path.join(weights_path, 'bilinear_kdv_mass_momentum_weights_psi3.h5'))"
   ]
  },
  {
   "cell_type": "code",
   "execution_count": null,
   "metadata": {
    "scrolled": true
   },
   "outputs": [],
   "source": [
    "# solver_bilinear.model.summary()"
   ]
  },
  {
   "cell_type": "code",
   "execution_count": null,
   "metadata": {},
   "outputs": [],
   "source": []
  },
  {
   "cell_type": "markdown",
   "metadata": {},
   "source": [
    "# Prediction"
   ]
  },
  {
   "cell_type": "code",
   "execution_count": null,
   "metadata": {},
   "outputs": [],
   "source": [
    "def compute_bilinear_obs(y0, param_list, B_obs):\n",
    "    param_list = tf.reshape(param_list, shape=(param_list.shape[0], 1, param_dim))\n",
    "    y0 = y0.reshape(1,-1)\n",
    "    psi_y = solver_bilinear.dic.call(y0)\n",
    "    obs_list = [psi_y@B_obs]\n",
    "    \n",
    "    for param in param_list:\n",
    "        u_psiy = tf.einsum('ij,ik->kij', psi_y, param)\n",
    "        u_psiy_list = []\n",
    "        for curr in u_psiy:\n",
    "            u_psiy_list.append(curr)\n",
    "        u_psiy_list = tf.concat(u_psiy_list, axis=-1)\n",
    "        \n",
    "        psi_y = solver_bilinear.model.get_layer('Layer_A')(psi_y) + solver_bilinear.model.get_layer('Layer_B')(u_psiy_list)\n",
    "        obs_next = psi_y@B_obs\n",
    "        obs_list.append(obs_next)\n",
    "        \n",
    "    return np.squeeze(np.asarray(obs_list))"
   ]
  },
  {
   "cell_type": "code",
   "execution_count": null,
   "metadata": {},
   "outputs": [],
   "source": [
    "def compute_kdv_soln(y0, param_list):\n",
    "    y0_loop = y0\n",
    "    kdv_soln_list = [y0_loop]\n",
    "    for param in param_list:\n",
    "        # Solve the equation using the scipy integrator\n",
    "        soln = kdv_solution(y0_loop, T, L, param, v_list, x)\n",
    "        y0_loop = soln.y.T[-1]\n",
    "        kdv_soln_list.append(y0_loop)\n",
    "    return kdv_soln_list"
   ]
  },
  {
   "cell_type": "code",
   "execution_count": null,
   "metadata": {},
   "outputs": [],
   "source": [
    "# # # Forward prediction problem setting\n",
    "# # y0_pred = kdv_exact(x, seed=11) \n",
    "# # Tsim_pred = 0.1\n",
    "\n",
    "# # traj_len_pred = int(Tsim_pred / T)\n",
    "\n",
    "# # # Set the seed of param_list\n",
    "# # np.random.seed(123)\n",
    "\n",
    "# # param_list_pred = np.random.uniform(low=0, high=1, size=(traj_len_pred,param_dim)) * (umax - umin) + umin\n",
    "\n",
    "# # # kdv_soln_pred = np.loadtxt(os.path.join(data_path,'kdv_soln_pred.csv'), delimiter=',')\n",
    "# # # bilinear_kdv_mass_pred = np.loadtxt(os.path.join(data_path,'bilinear_kdv_mass_pred.csv'), delimiter=',')\n",
    "\n",
    "# # # Compute exact solution\n",
    "# # kdv_soln_pred = compute_kdv_soln(y0_pred, param_list=param_list_pred)\n",
    "# # kdv_soln_pred = np.asarray(kdv_soln_pred)\n",
    "\n",
    "# # kdv_mass_pred = tf.reshape(tf.math.reduce_sum(kdv_soln_pred, axis=-1), shape=(-1,1))\n",
    "\n",
    "# # # Compute bilinear results\n",
    "# # B_mass = dic_bilinear.generate_B_mass(kdv_mass_pred)\n",
    "# # # B_momentum = dic_bilinear.generate_B_momentum(kdv_momentum_pred)\n",
    "\n",
    "# # bilinear_kdv_mass_pred = compute_bilinear_obs(y0_pred, param_list_pred, B_mass)\n",
    "# # # bilinear_kdv_momentum_pred = compute_bilinear_obs(y0_pred, param_list_pred, B_momentum)\n",
    "\n",
    "# # # Comparison\n",
    "# # plt.plot(kdv_mass_pred, label='kdv eq')\n",
    "# # plt.plot(bilinear_kdv_mass_pred, label='bilinear')\n",
    "# # plt.legend()\n",
    "\n",
    "# # np.savetxt('results/kdv/data_nonlinear/bilinear_kdv_mass_pred.csv', bilinear_kdv_mass_pred , delimiter=',')\n",
    "# # np.savetxt('results/kdv/data_nonlinear/bilinear_kdv_momentum_pred.csv', bilinear_kdv_momentum_pred, delimiter=',')\n",
    "\n",
    "# bilinear_kdv_mass_pred = bilinear_kdv_mass_pred.reshape((-1,1))\n",
    "\n",
    "# error = compute_diff_ratio_one_traj(kdv_mass_pred, bilinear_kdv_mass_pred)\n",
    "\n",
    "# plt.plot(error)"
   ]
  },
  {
   "cell_type": "code",
   "execution_count": null,
   "metadata": {},
   "outputs": [],
   "source": [
    "pred_traj_number = 5\n",
    "np.random.seed(12)\n",
    "seed_list = np.random.randint(low=1, high=200, size=(pred_traj_number,2))\n",
    "\n",
    "y0_pred_list=[]\n",
    "param_pred_list = []\n",
    "\n",
    "Tsim_pred = 0.1\n",
    "traj_len_pred = int(Tsim_pred / T)\n",
    "\n",
    "for seed_x, seed_u in seed_list:\n",
    "    # Forward prediction problem setting\n",
    "    y0_pred = kdv_exact(x, seed=seed_x) \n",
    "    \n",
    "\n",
    "    # Set the seed of param_list\n",
    "    np.random.seed(seed_u)\n",
    "\n",
    "    param_pred = np.random.uniform(low=0, high=1, size=(traj_len_pred, param_dim)) * (umax - umin) + umin\n",
    "    \n",
    "    y0_pred_list.append(y0_pred)\n",
    "    param_pred_list.append(param_pred)\n"
   ]
  },
  {
   "cell_type": "code",
   "execution_count": 181,
   "metadata": {},
   "outputs": [],
   "source": [
    "error_mass_list_bilinear, error_momentum_list_bilinear = compute_obs_error(dic=dic_bilinear,\n",
    "                                                                       compute_kdv_soln_func=compute_kdv_soln,\n",
    "                                                                       compute_obs_func_model=compute_bilinear_obs,\n",
    "                                                                       error_func=compute_diff_ratio_one_traj,\n",
    "                                                                       y0_pred_list=y0_pred_list,\n",
    "                                                                       param_pred_list=param_pred_list,\n",
    "                                                                       dx=dx)"
   ]
  },
  {
   "cell_type": "code",
   "execution_count": 182,
   "metadata": {},
   "outputs": [],
   "source": [
    "mass_mean_bilinear, mass_std_bilinear, mass_mean_plus_bilinear, mass_mean_minus_bilinear = compute_stat_info(error_mass_list_bilinear)\n",
    "momentum_mean_bilinear, momentum_std_bilinear, momentum_mean_plus_bilinear, momentum_mean_minus_bilinear = compute_stat_info(error_momentum_list_bilinear)"
   ]
  },
  {
   "cell_type": "code",
   "execution_count": 183,
   "metadata": {},
   "outputs": [
    {
     "data": {
      "text/plain": [
       "<matplotlib.collections.PolyCollection at 0x7fbd0b02de80>"
      ]
     },
     "execution_count": 183,
     "metadata": {},
     "output_type": "execute_result"
    },
    {
     "data": {
      "image/png": "[encoded data removed]",
      "text/plain": [
       "<Figure size 432x288 with 1 Axes>"
      ]
     },
     "metadata": {
      "needs_background": "light"
     },
     "output_type": "display_data"
    }
   ],
   "source": [
    "t_axis = np.arange(0, traj_len_pred+1, 1)\n",
    "\n",
    "plt.plot(mass_mean_bilinear, label='P-Koopman', color='steelblue', linewidth=3)\n",
    "plt.fill_between(t_axis, np.maximum(mass_mean_minus_bilinear,0), mass_mean_plus_bilinear, color='lightsteelblue', alpha=0.5)"
   ]
  },
  {
   "cell_type": "code",
   "execution_count": 184,
   "metadata": {},
   "outputs": [
    {
     "data": {
      "text/plain": [
       "<matplotlib.collections.PolyCollection at 0x7fbd0b3573a0>"
      ]
     },
     "execution_count": 184,
     "metadata": {},
     "output_type": "execute_result"
    },
    {
     "data": {
      "image/png": "[encoded data removed]",
      "text/plain": [
       "<Figure size 432x288 with 1 Axes>"
      ]
     },
     "metadata": {
      "needs_background": "light"
     },
     "output_type": "display_data"
    }
   ],
   "source": [
    "t_axis = np.arange(0, traj_len_pred+1, 1)\n",
    "\n",
    "plt.plot(momentum_mean_bilinear, label='P-Koopman', color='steelblue', linewidth=3)\n",
    "plt.fill_between(t_axis, np.maximum(momentum_mean_minus_bilinear,0), momentum_mean_plus_bilinear, color='lightsteelblue', alpha=0.5)"
   ]
  },
  {
   "cell_type": "code",
   "execution_count": 58,
   "metadata": {},
   "outputs": [],
   "source": [
    "# dict_error_bilinear = {'mean': mean_bilinear,\n",
    "#              'std': std_bilinear,\n",
    "#              'mean_plus':mean_plus_bilinear,\n",
    "#              'mean_minus':mean_minus_bilinear}\n",
    "# np.save(os.path.join(data_path,'error_bilinear.npy'), dict_error_bilinear)"
   ]
  },
  {
   "cell_type": "code",
   "execution_count": null,
   "metadata": {},
   "outputs": [],
   "source": []
  },
  {
   "cell_type": "markdown",
   "metadata": {},
   "source": [
    "# Tracking Problem"
   ]
  },
  {
   "cell_type": "code",
   "execution_count": null,
   "metadata": {},
   "outputs": [],
   "source": [
    "def compute_stat_info(data):\n",
    "    data_mean = np.mean(data, axis=0)\n",
    "    data_std = np.std(data, axis=0)\n",
    "    mean_plus_std = data_mean + data_std\n",
    "    mean_minus_std = data_mean - data_std\n",
    "    return data_mean, data_std, mean_plus_std, mean_minus_std"
   ]
  },
  {
   "cell_type": "code",
   "execution_count": null,
   "metadata": {},
   "outputs": [],
   "source": [
    "from scipy.optimize import minimize"
   ]
  },
  {
   "cell_type": "code",
   "execution_count": null,
   "metadata": {},
   "outputs": [],
   "source": [
    "# Testing reference\n",
    "y0_track = np.zeros(shape=(Nx, )) + 0.2"
   ]
  },
  {
   "cell_type": "code",
   "execution_count": null,
   "metadata": {},
   "outputs": [],
   "source": [
    "# y0_track = kdv_exact(x, seed=10)"
   ]
  },
  {
   "cell_type": "code",
   "execution_count": null,
   "metadata": {},
   "outputs": [],
   "source": [
    "\n",
    "Tsim_track = 10\n",
    "\n",
    "traj_len_track = int(Tsim_track / T)\n",
    "\n",
    "\n",
    "\n",
    "### Set piece-wise reference\n",
    "soln_ref = np.zeros(shape=(traj_len_track, target_dim))+0.3\n",
    "\n",
    "for i in range(soln_ref.shape[0]):\n",
    "    if i > traj_len_track / 2:\n",
    "        soln_ref[i, :] = 0.5"
   ]
  },
  {
   "cell_type": "code",
   "execution_count": null,
   "metadata": {},
   "outputs": [],
   "source": [
    "tau = 10"
   ]
  },
  {
   "cell_type": "code",
   "execution_count": null,
   "metadata": {},
   "outputs": [],
   "source": [
    "# soln_ref = np.loadtxt(os.path.join(data_path,'track_soln_ref'), delimiter=',')"
   ]
  },
  {
   "cell_type": "code",
   "execution_count": null,
   "metadata": {},
   "outputs": [],
   "source": [
    "mass_ref = dx * tf.reshape(tf.math.reduce_sum(soln_ref, axis=-1), shape=(-1,1))\n",
    "momentum_ref = dx * tf.reshape(tf.math.reduce_sum(tf.square(soln_ref), axis=-1), shape=(-1,1))"
   ]
  },
  {
   "cell_type": "code",
   "execution_count": null,
   "metadata": {},
   "outputs": [],
   "source": [
    "def mpc_loss_bilinear(param, tau, ref_list, y0, B):\n",
    "    param = tf.reshape(param, shape=(int(param.shape[0]/param_dim), 1, param_dim))\n",
    "    loss_list = []\n",
    "    y0 = y0.reshape(1,-1)\n",
    "    psi_y = solver_bilinear.dic.call(y0)\n",
    "    \n",
    "    for i in range(tau):\n",
    "        \n",
    "        u_psiy = tf.einsum('ij,ik->kij', psi_y, param[i])\n",
    "        u_psiy_list = []\n",
    "        for curr in u_psiy:\n",
    "            u_psiy_list.append(curr)\n",
    "        u_psiy_list = tf.concat(u_psiy_list, axis=-1)\n",
    "        \n",
    "        psi_y = solver_bilinear.model.get_layer('Layer_A')(psi_y) + solver_bilinear.model.get_layer('Layer_B')(u_psiy_list)\n",
    "        obs = psi_y@B\n",
    "        loss_curr = tf.square(tf.norm(ref_list[i] - obs))\n",
    "        loss_list.append(loss_curr)\n",
    "    \n",
    "    ref_loss= tf.reduce_sum(loss_list)\n",
    "    param_loss = 0.0 * tf.reduce_sum(tf.square(tf.norm(param, axis=-1)))\n",
    "    \n",
    "    loss = ref_loss + param_loss\n",
    "    \n",
    "#     loss = ref_loss\n",
    "    return loss   "
   ]
  },
  {
   "cell_type": "code",
   "execution_count": null,
   "metadata": {},
   "outputs": [],
   "source": [
    "def KoopmanMPC(y0, tau, traj_len, soln_ref, kdv_solver, B, loss):\n",
    "    \n",
    "    bounds= []\n",
    "    for i in range(tau*param_dim):\n",
    "        bounds.append((-1,1))\n",
    "\n",
    "    y0_mpc_loop_list = [y0]\n",
    "    opt_control_list = []\n",
    "    for current_time in range(traj_len-tau-1):\n",
    "        print('current time step: ', current_time)\n",
    "        start_time = time.time()\n",
    "        # This needs param_init is a scalor\n",
    "\n",
    "        param_init = np.random.uniform(low=0, high=1, size=(tau * param_dim, )) * (umax - umin) + umin\n",
    "\n",
    "        results = minimize(loss, \n",
    "                       x0=param_init,\n",
    "                       args = (tau, soln_ref[current_time+1:current_time+1+tau,:], y0_mpc_loop_list[-1], B),\n",
    "                       bounds=bounds)\n",
    "\n",
    "        param = results.x.reshape(tau, param_dim)[0]\n",
    "        soln_next = kdv_solver(y0_mpc_loop_list[-1], T, L, param, v_list, x)\n",
    "        y_next = soln_next.y.T[-1]\n",
    "        y0_mpc_loop_list.append(y_next)\n",
    "        opt_control_list.append(param)\n",
    "        end_time = time.time()\n",
    "\n",
    "        print('loss: ', results.fun)\n",
    "#         print('time: ', end_time-start_time)\n",
    "        \n",
    "    current_time = current_time + 1\n",
    "        \n",
    "    print('current time step: ', current_time)\n",
    "    start_time = time.time()\n",
    "    # This needs param_init is a scalor\n",
    "\n",
    "    param_init = np.random.uniform(low=0, high=1, size=(tau * param_dim, )) * (umax - umin) + umin\n",
    "\n",
    "    results = minimize(loss, \n",
    "                   x0=param_init,\n",
    "                   args = (tau, soln_ref[current_time+1:current_time+1+tau,:], y0_mpc_loop_list[-1], B),\n",
    "                   bounds=bounds)\n",
    "\n",
    "    param = results.x.reshape(tau, param_dim)\n",
    "    for param_curr in param:\n",
    "        soln_next = kdv_solver(y0_mpc_loop_list[-1], T, L, param_curr, v_list, x)\n",
    "        y_next = soln_next.y.T[-1]\n",
    "        y0_mpc_loop_list.append(y_next)\n",
    "        opt_control_list.append(param_curr)\n",
    "        end_time = time.time()\n",
    "\n",
    "    print('loss: ', results.fun)\n",
    "        \n",
    "    opt_control_list = np.asarray(opt_control_list)\n",
    "    y0_mpc_loop_list = np.asarray(y0_mpc_loop_list)\n",
    "    \n",
    "    return opt_control_list, y0_mpc_loop_list"
   ]
  },
  {
   "cell_type": "code",
   "execution_count": null,
   "metadata": {},
   "outputs": [],
   "source": [
    "B_mass = dic_bilinear.generate_B_mass(mass_ref)\n",
    "B_momentum = dic_bilinear.generate_B_momentum(momentum_ref)"
   ]
  },
  {
   "cell_type": "markdown",
   "metadata": {},
   "source": [
    "## Track mass"
   ]
  },
  {
   "cell_type": "code",
   "execution_count": null,
   "metadata": {
    "scrolled": true
   },
   "outputs": [],
   "source": [
    "bilinear_opt_control_mass, bilinear_kdv_opt_mass_soln = KoopmanMPC(y0=y0_track,\n",
    "                                                                   tau=tau,\n",
    "                                                traj_len=traj_len_track,\n",
    "                                                soln_ref=mass_ref, \n",
    "                                                kdv_solver=kdv_solution,\n",
    "                                                B=B_mass,\n",
    "                                                loss=mpc_loss_bilinear)"
   ]
  },
  {
   "cell_type": "code",
   "execution_count": null,
   "metadata": {},
   "outputs": [],
   "source": [
    "np.savetxt(os.path.join(data_path,'mpc/0_penalty_bilinear_mass_kdv_opt_control.csv'), bilinear_opt_control_mass, delimiter=',')\n",
    "np.savetxt(os.path.join(data_path,'mpc/0_penalty_bilinear_mass_kdv_opt_soln.csv'), bilinear_kdv_opt_mass_soln, delimiter=',')"
   ]
  },
  {
   "cell_type": "code",
   "execution_count": null,
   "metadata": {},
   "outputs": [],
   "source": [
    "# bilinear_opt_control_mass = np.loadtxt(os.path.join(data_path,'bilinear_mass_kdv_opt_control_20s_greedy.csv'), delimiter=',')\n",
    "# bilinear_kdv_opt_mass_soln = np.loadtxt(os.path.join(data_path,'bilinear_mass_kdv_opt_soln_20s_greedy.csv'), delimiter=',')"
   ]
  },
  {
   "cell_type": "code",
   "execution_count": null,
   "metadata": {},
   "outputs": [],
   "source": [
    "bilinear_kdv_opt_mass = dx * tf.reduce_sum(bilinear_kdv_opt_mass_soln, axis=-1)"
   ]
  },
  {
   "cell_type": "code",
   "execution_count": null,
   "metadata": {},
   "outputs": [],
   "source": [
    "plt.plot(mass_ref, label='reference')\n",
    "plt.plot(bilinear_kdv_opt_mass, label='bilinear')\n",
    "plt.legend()"
   ]
  },
  {
   "cell_type": "code",
   "execution_count": null,
   "metadata": {},
   "outputs": [],
   "source": [
    "plt.plot(bilinear_opt_control_mass[:,2])"
   ]
  },
  {
   "cell_type": "code",
   "execution_count": null,
   "metadata": {},
   "outputs": [],
   "source": [
    "# np.savetxt('results/kdv/data_nonlinear/bilinear_mass_kdv_opt_control_30s_tau_2_repeat.csv', bilinear_opt_control_mass, delimiter=',')\n",
    "# np.savetxt('results/kdv/data_nonlinear/bilinear_mass_kdv_opt_soln_30s_tau_2_repeat.csv', bilinear_kdv_opt_mass_soln, delimiter=',')"
   ]
  },
  {
   "cell_type": "markdown",
   "metadata": {},
   "source": [
    "## Track momentum"
   ]
  },
  {
   "cell_type": "code",
   "execution_count": null,
   "metadata": {
    "scrolled": true
   },
   "outputs": [],
   "source": [
    "bilinear_opt_control_momentum, bilinear_kdv_opt_momentum_soln = KoopmanMPC(y0=y0_track,\n",
    "                                                                           tau=tau,\n",
    "                                                traj_len=traj_len_track,\n",
    "                                                soln_ref=momentum_ref, \n",
    "                                                kdv_solver=kdv_solution,\n",
    "                                                B=B_momentum,\n",
    "                                                loss=mpc_loss_bilinear)"
   ]
  },
  {
   "cell_type": "code",
   "execution_count": null,
   "metadata": {},
   "outputs": [],
   "source": [
    "bilinear_kdv_opt_momentum = dx * tf.reshape(tf.math.reduce_sum(tf.square(bilinear_kdv_opt_momentum_soln), axis=-1), shape=(-1,1))"
   ]
  },
  {
   "cell_type": "code",
   "execution_count": null,
   "metadata": {},
   "outputs": [],
   "source": [
    "plt.plot(momentum_ref, label='reference')\n",
    "plt.plot(bilinear_kdv_opt_momentum, label='bilinear')\n",
    "plt.legend()"
   ]
  },
  {
   "cell_type": "code",
   "execution_count": null,
   "metadata": {},
   "outputs": [],
   "source": [
    "np.savetxt(os.path.join(data_path,'mpc/0_penalty_bilinear_momentum_kdv_opt_control.csv'), bilinear_opt_control_momentum, delimiter=',')\n",
    "np.savetxt(os.path.join(data_path,'mpc/0_penalty_bilinear_momentum_kdv_opt_soln.csv'), bilinear_kdv_opt_momentum_soln, delimiter=',')"
   ]
  },
  {
   "cell_type": "code",
   "execution_count": null,
   "metadata": {},
   "outputs": [],
   "source": []
  },
  {
   "cell_type": "markdown",
   "metadata": {},
   "source": [
    "# Controllability"
   ]
  },
  {
   "cell_type": "code",
   "execution_count": 53,
   "metadata": {},
   "outputs": [],
   "source": [
    "# Randomly sample control\n",
    "np.random.seed(seed=111)\n",
    "n_control_samples = 2000\n",
    "control_samples = np.random.uniform(low=0, high=1, size=(n_control_samples, param_dim)) * (umax - umin) + umin"
   ]
  },
  {
   "cell_type": "code",
   "execution_count": 54,
   "metadata": {},
   "outputs": [],
   "source": [
    "control_samples_repeat = np.repeat(control_samples[:, np.newaxis, :], n_psi, axis=1)"
   ]
  },
  {
   "cell_type": "code",
   "execution_count": 55,
   "metadata": {},
   "outputs": [
    {
     "data": {
      "text/plain": [
       "(2000, 4, 3)"
      ]
     },
     "execution_count": 55,
     "metadata": {},
     "output_type": "execute_result"
    }
   ],
   "source": [
    "control_samples_repeat.shape"
   ]
  },
  {
   "cell_type": "code",
   "execution_count": 56,
   "metadata": {},
   "outputs": [
    {
     "data": {
      "text/plain": [
       "(4, 4)"
      ]
     },
     "execution_count": 56,
     "metadata": {},
     "output_type": "execute_result"
    }
   ],
   "source": [
    "psi_y = np.eye(n_psi)\n",
    "psi_y.shape"
   ]
  },
  {
   "cell_type": "code",
   "execution_count": 57,
   "metadata": {},
   "outputs": [],
   "source": [
    "bilinear_K_matrix = []\n",
    "for param in control_samples_repeat:\n",
    "    u_psiy = tf.einsum('ij,ik->kij', psi_y, param)\n",
    "    u_psiy_list = []\n",
    "    for curr in u_psiy:\n",
    "        u_psiy_list.append(curr)\n",
    "    u_psiy_list = tf.concat(u_psiy_list, axis=-1)\n",
    "\n",
    "    psi_y_next = solver_bilinear.model.get_layer('Layer_A')(psi_y) + solver_bilinear.model.get_layer('Layer_B')(u_psiy_list)\n",
    "    bilinear_K_matrix.append(psi_y_next)"
   ]
  },
  {
   "cell_type": "code",
   "execution_count": 58,
   "metadata": {},
   "outputs": [],
   "source": [
    "bilinear_K_matrix = np.asarray(bilinear_K_matrix)"
   ]
  },
  {
   "cell_type": "code",
   "execution_count": 59,
   "metadata": {},
   "outputs": [
    {
     "data": {
      "text/plain": [
       "(2000, 4, 4)"
      ]
     },
     "execution_count": 59,
     "metadata": {},
     "output_type": "execute_result"
    }
   ],
   "source": [
    "bilinear_K_matrix.shape"
   ]
  },
  {
   "cell_type": "code",
   "execution_count": 60,
   "metadata": {},
   "outputs": [],
   "source": [
    "identity_matrix = np.eye(N=bilinear_K_matrix.shape[-1])\n",
    "\n",
    "bilinear_A_matrix = (bilinear_K_matrix - identity_matrix) / T\n",
    "\n",
    "bilinear_A_vector = tf.reshape(bilinear_A_matrix, shape=(bilinear_A_matrix.shape[0], bilinear_A_matrix.shape[-1]*bilinear_A_matrix.shape[-1]))\n",
    "\n",
    "rank = np.linalg.matrix_rank(bilinear_A_vector)\n",
    "\n",
    "U, S, VT = np.linalg.svd(bilinear_A_vector)"
   ]
  },
  {
   "cell_type": "code",
   "execution_count": 61,
   "metadata": {},
   "outputs": [
    {
     "data": {
      "text/plain": [
       "4"
      ]
     },
     "execution_count": 61,
     "metadata": {},
     "output_type": "execute_result"
    }
   ],
   "source": [
    "np.sum(S > 1e-5)"
   ]
  },
  {
   "cell_type": "code",
   "execution_count": 62,
   "metadata": {},
   "outputs": [
    {
     "data": {
      "text/plain": [
       "array([1.12498421e+03, 2.69765782e+02, 8.40963622e+01, 1.05078041e+01,\n",
       "       2.82185967e-13, 2.73238965e-13, 1.60711858e-13, 1.35440437e-13,\n",
       "       1.32707671e-14, 6.22200437e-15, 1.13119939e-15, 2.12596166e-17,\n",
       "       1.27832280e-17, 2.35725666e-24, 4.20409899e-25, 4.57139378e-27])"
      ]
     },
     "execution_count": 62,
     "metadata": {},
     "output_type": "execute_result"
    }
   ],
   "source": [
    "S"
   ]
  },
  {
   "cell_type": "code",
   "execution_count": 63,
   "metadata": {},
   "outputs": [
    {
     "data": {
      "text/plain": [
       "array([9.32574671e+02, 4.37357989e+01, 4.91028004e-01, 6.43728204e-02])"
      ]
     },
     "execution_count": 63,
     "metadata": {},
     "output_type": "execute_result"
    }
   ],
   "source": [
    "# Check the rank of psi_y\n",
    "\n",
    "psi_x = dic_bilinear(data_x[:2000,:])\n",
    "\n",
    "U_x, S_x, VT_x = np.linalg.svd(psi_x.numpy())\n",
    "\n",
    "S_x"
   ]
  },
  {
   "cell_type": "code",
   "execution_count": null,
   "metadata": {},
   "outputs": [],
   "source": []
  },
  {
   "cell_type": "code",
   "execution_count": null,
   "metadata": {},
   "outputs": [],
   "source": []
  }
 ],
 "metadata": {
  "kernelspec": {
   "display_name": "koopman",
   "language": "python",
   "name": "koopman"
  },
  "language_info": {
   "codemirror_mode": {
    "name": "ipython",
    "version": 3
   },
   "file_extension": ".py",
   "mimetype": "text/x-python",
   "name": "python",
   "nbconvert_exporter": "python",
   "pygments_lexer": "ipython3",
   "version": "3.8.3"
  }
 },
 "nbformat": 4,
 "nbformat_minor": 2
}
