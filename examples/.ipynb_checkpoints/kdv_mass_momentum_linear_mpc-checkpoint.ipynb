{
 "cells": [
  {
   "cell_type": "code",
   "execution_count": 2,
   "metadata": {},
   "outputs": [],
   "source": [
    "import os; os.environ['CUDA_VISIBLE_DEVICES'] = '-1'"
   ]
  },
  {
   "cell_type": "code",
   "execution_count": 3,
   "metadata": {},
   "outputs": [],
   "source": [
    "%load_ext autoreload\n",
    "%autoreload 2"
   ]
  },
  {
   "cell_type": "code",
   "execution_count": 4,
   "metadata": {},
   "outputs": [],
   "source": [
    "# Set the base path\n",
    "weights_path = 'results/kdv/weights_sinpiu'\n",
    "data_path = 'results/kdv/data_sinpiu'"
   ]
  },
  {
   "cell_type": "code",
   "execution_count": 5,
   "metadata": {},
   "outputs": [],
   "source": [
    "import numpy as np\n",
    "import tensorflow as tf\n",
    "import pandas as pd\n",
    "import matplotlib.pyplot as plt"
   ]
  },
  {
   "cell_type": "code",
   "execution_count": 6,
   "metadata": {},
   "outputs": [],
   "source": [
    "import time"
   ]
  },
  {
   "cell_type": "code",
   "execution_count": 7,
   "metadata": {},
   "outputs": [],
   "source": [
    "from scipy.integrate import solve_ivp\n",
    "from scipy.fftpack import diff as psdiff"
   ]
  },
  {
   "cell_type": "code",
   "execution_count": 8,
   "metadata": {},
   "outputs": [],
   "source": [
    "from koopmanlib.kdv_functions import *\n",
    "from koopmanlib.functions import *"
   ]
  },
  {
   "cell_type": "code",
   "execution_count": 9,
   "metadata": {},
   "outputs": [],
   "source": [
    "# Set the size of the domain, and create the discretized grid.\n",
    "L = 2 * np.pi\n",
    "Nx = 128\n",
    "dx = L / (Nx - 1.0)\n",
    "x = np.linspace(-np.pi, np.pi, Nx)\n",
    "\n",
    "# Set the initial conditions.\n",
    "y0 = kdv_exact(x, seed=123) \n",
    "\n",
    "# inner loop\n",
    "# # Set the time sample grid.\n",
    "# dt = 0.4 / (Nx**2)\n",
    "T = 0.01\n",
    "# Nt = int(T / dt)\n",
    "# dt = T / Nt\n",
    "# t = np.linspace(0, T, Nt)"
   ]
  },
  {
   "cell_type": "code",
   "execution_count": 10,
   "metadata": {},
   "outputs": [
    {
     "data": {
      "text/plain": [
       "0.049473900056532176"
      ]
     },
     "execution_count": 10,
     "metadata": {},
     "output_type": "execute_result"
    }
   ],
   "source": [
    "dx"
   ]
  },
  {
   "cell_type": "code",
   "execution_count": 11,
   "metadata": {},
   "outputs": [],
   "source": [
    "def v_func(x, c):\n",
    "    return np.exp(-25 * (x - c)**2)\n",
    "\n",
    "c1, c2, c3 = -np.pi/2, 0, np.pi/2\n",
    "v1 = v_func(x, c1).reshape(1,-1)\n",
    "v2 = v_func(x, c2).reshape(1,-1)\n",
    "v3 = v_func(x, c3).reshape(1,-1)\n",
    "\n",
    "v_list = np.concatenate([v1,v2,v3], axis=0)"
   ]
  },
  {
   "cell_type": "code",
   "execution_count": 12,
   "metadata": {},
   "outputs": [],
   "source": [
    "umax = 1\n",
    "umin = -umax"
   ]
  },
  {
   "cell_type": "markdown",
   "metadata": {},
   "source": [
    "# Generate data"
   ]
  },
  {
   "cell_type": "code",
   "execution_count": 13,
   "metadata": {},
   "outputs": [],
   "source": [
    "target_dim = Nx\n",
    "param_dim = 3\n",
    "# n_init = 1000\n",
    "# traj_len = 200"
   ]
  },
  {
   "cell_type": "code",
   "execution_count": 14,
   "metadata": {},
   "outputs": [],
   "source": [
    "# traj_len = 500\n",
    "\n",
    "# n_init = 100\n",
    "\n",
    "# seed_IC = np.random.randint(0,100,size=(n_init,))\n",
    "# seed_IC\n",
    "\n",
    "# y0_list = []\n",
    "# for seed in seed_IC:\n",
    "#     y0 = kdv_exact(x, seed)\n",
    "#     y0_list.append(y0)\n",
    "# y0_list = np.asarray(y0_list)\n",
    "\n",
    "# y0_list.shape\n",
    "\n",
    "# param_list_group = np.random.uniform(low=0, high=1, size=(n_init, traj_len, param_dim)) * (umax - umin) + umin\n",
    "\n",
    "# soln_outer_list = []\n",
    "# for y0, param_list in zip(y0_list, param_list_group):\n",
    "#     # Calculate inner solution for each y0 and param_list (for one trajectory)\n",
    "#     soln_inner_list = [y0]\n",
    "#     for param in param_list:\n",
    "#         # Solve the equation using the scipy integrator\n",
    "#         soln = kdv_solution(y0, t, L, param, v_list)\n",
    "#         y0 = soln[-1]\n",
    "#         soln_inner_list.append(y0)\n",
    "\n",
    "#     soln_inner_list = np.asarray(soln_inner_list)\n",
    "    \n",
    "#     soln_outer_list.append(soln_inner_list)\n",
    "    \n",
    "# soln_outer_list = np.asarray(soln_outer_list)\n",
    "\n",
    "# soln_outer_list.shape\n",
    "\n",
    "# param_list_group.shape\n",
    "\n",
    "# data_x = soln_outer_list[:,:-1,:].reshape(-1, target_dim)\n",
    "# data_y = soln_outer_list[:,1:,:].reshape(-1, target_dim)\n",
    "# data_u = param_list_group.reshape(-1,param_dim)"
   ]
  },
  {
   "cell_type": "code",
   "execution_count": 15,
   "metadata": {},
   "outputs": [],
   "source": [
    "# # Save the array to a CSV file\n",
    "# np.savetxt('results/kdv/data/kdv_data_x.csv', data_x, delimiter=',')\n",
    "# np.savetxt('results/kdv/data/kdv_data_y.csv', data_y, delimiter=',')\n",
    "# np.savetxt('results/kdv/data/kdv_data_u.csv', data_u, delimiter=',')"
   ]
  },
  {
   "cell_type": "code",
   "execution_count": 16,
   "metadata": {},
   "outputs": [],
   "source": [
    "# # Load the CSV file\n",
    "# data_x = np.loadtxt('results/kdv/data/kdv_data_x_500.csv', delimiter=',')\n",
    "# data_y = np.loadtxt('results/kdv/data/kdv_data_y_500.csv', delimiter=',')\n",
    "# data_u = np.loadtxt('results/kdv/data/kdv_data_u_500.csv', delimiter=',')"
   ]
  },
  {
   "cell_type": "code",
   "execution_count": null,
   "metadata": {},
   "outputs": [
    {
     "name": "stdout",
     "output_type": "stream",
     "text": [
      "load data\n"
     ]
    }
   ],
   "source": [
    "print('load data')\n",
    "X = pd.read_csv(os.path.join(data_path,'kdv_X.csv'), header=None)\n",
    "Y = pd.read_csv(os.path.join(data_path,'kdv_Y.csv'), header=None)\n",
    "U = pd.read_csv(os.path.join(data_path,'kdv_U.csv'), header=None)\n",
    "\n",
    "data_x = X.values.T\n",
    "data_y = Y.values.T\n",
    "data_u = U.values.T"
   ]
  },
  {
   "cell_type": "markdown",
   "metadata": {},
   "source": [
    "# Build model"
   ]
  },
  {
   "cell_type": "code",
   "execution_count": null,
   "metadata": {},
   "outputs": [],
   "source": [
    "from koopmanlib.dictionary import PsiNN, PsiNN_obs\n",
    "from koopmanlib.param_solver import KoopmanParametricDLSolver"
   ]
  },
  {
   "cell_type": "code",
   "execution_count": null,
   "metadata": {},
   "outputs": [],
   "source": [
    "from koopmanlib.param_solver import KoopmanLinearDLSolver"
   ]
  },
  {
   "cell_type": "code",
   "execution_count": null,
   "metadata": {},
   "outputs": [],
   "source": [
    "from tensorflow.keras.optimizers import Adam"
   ]
  },
  {
   "cell_type": "code",
   "execution_count": null,
   "metadata": {},
   "outputs": [],
   "source": [
    "n_psi_train = 3\n",
    "n_psi = 1 + 1+1 + n_psi_train # constant + momentum + mean + NN"
   ]
  },
  {
   "cell_type": "code",
   "execution_count": null,
   "metadata": {},
   "outputs": [],
   "source": [
    "dic_linear = PsiNN_obs(layer_sizes=[16,16], n_psi_train=n_psi_train, dx=dx)"
   ]
  },
  {
   "cell_type": "code",
   "execution_count": null,
   "metadata": {},
   "outputs": [],
   "source": [
    "solver_linear = KoopmanLinearDLSolver(dic=dic_linear, target_dim=target_dim, param_dim=param_dim, n_psi=n_psi)"
   ]
  },
  {
   "cell_type": "code",
   "execution_count": null,
   "metadata": {},
   "outputs": [],
   "source": [
    "model_linear = solver_linear.build_model()"
   ]
  },
  {
   "cell_type": "code",
   "execution_count": null,
   "metadata": {},
   "outputs": [],
   "source": [
    "zeros_data_y_train = tf.zeros_like(dic_linear(data_y))"
   ]
  },
  {
   "cell_type": "code",
   "execution_count": null,
   "metadata": {
    "scrolled": true
   },
   "outputs": [],
   "source": [
    "# solver_linear.build(model_linear,\n",
    "#                     data_x,\n",
    "#                     data_u, \n",
    "#                     data_y, \n",
    "#                     zeros_data_y_train,\n",
    "#                     epochs=10,\n",
    "#                     batch_size=200,\n",
    "#                     lr=1e-4,\n",
    "#                     log_interval=20,\n",
    "#                     lr_decay_factor=0.8)"
   ]
  },
  {
   "cell_type": "code",
   "execution_count": null,
   "metadata": {},
   "outputs": [],
   "source": [
    "# solver_linear.model.save_weights(os.path.join(weights_path, 'linear_kdv_mass_momentum_weights_psi3.h5'))"
   ]
  },
  {
   "cell_type": "code",
   "execution_count": null,
   "metadata": {},
   "outputs": [],
   "source": [
    "solver_linear.model.load_weights(os.path.join(weights_path, 'linear_kdv_mass_momentum_weights_psi3.h5'))"
   ]
  },
  {
   "cell_type": "markdown",
   "metadata": {},
   "source": [
    "# Prediction"
   ]
  },
  {
   "cell_type": "code",
   "execution_count": null,
   "metadata": {},
   "outputs": [],
   "source": [
    "def compute_linear_obs(y0, param_list, B_obs):\n",
    "    param_list = tf.reshape(param_list, shape=(param_list.shape[0], 1, param_dim))\n",
    "    y0 = y0.reshape(1,-1)\n",
    "    psi_y = solver_linear.dic.call(y0)\n",
    "    obs_list = [psi_y@B_obs]\n",
    "    \n",
    "    for param in param_list:\n",
    "        psi_y = solver_linear.model.get_layer('Layer_A')(psi_y) + solver_linear.model.get_layer('Layer_B')(param)\n",
    "        obs_next = psi_y@B_obs\n",
    "        obs_list.append(obs_next)\n",
    "        \n",
    "    return np.squeeze(np.asarray(obs_list))"
   ]
  },
  {
   "cell_type": "code",
   "execution_count": null,
   "metadata": {},
   "outputs": [],
   "source": [
    "def compute_kdv_soln(y0, param_list):\n",
    "    y0_loop = y0\n",
    "    kdv_soln_list = [y0_loop]\n",
    "    for param in param_list:\n",
    "        # Solve the equation using the scipy integrator\n",
    "        soln = kdv_solution(y0_loop, T, L, param, v_list,x)\n",
    "        y0_loop = soln.y.T[-1]\n",
    "        kdv_soln_list.append(y0_loop)\n",
    "    return kdv_soln_list"
   ]
  },
  {
   "cell_type": "code",
   "execution_count": 158,
   "metadata": {},
   "outputs": [],
   "source": [
    "pred_traj_number = 5\n",
    "np.random.seed(625)\n",
    "seed_list = np.random.randint(low=1, high=200, size=(pred_traj_number,2))\n",
    "\n",
    "y0_pred_list=[]\n",
    "param_pred_list = []\n",
    "\n",
    "Tsim_pred = 0.05\n",
    "traj_len_pred = int(Tsim_pred / T)\n",
    "\n",
    "for seed_x, seed_u in seed_list:\n",
    "    # Forward prediction problem setting\n",
    "    y0_pred = kdv_exact(x, seed=seed_x) \n",
    "    \n",
    "\n",
    "    # Set the seed of param_list\n",
    "    np.random.seed(seed_u)\n",
    "\n",
    "    param_pred = np.random.uniform(low=0, high=1, size=(traj_len_pred, param_dim)) * (umax - umin) + umin\n",
    "    \n",
    "    y0_pred_list.append(y0_pred)\n",
    "    param_pred_list.append(param_pred)\n",
    "\n"
   ]
  },
  {
   "cell_type": "code",
   "execution_count": 159,
   "metadata": {},
   "outputs": [],
   "source": [
    "error_mass_list_linear, error_momentum_list_linear = compute_obs_error(dic=dic_linear,\n",
    "                                                               compute_kdv_soln_func=compute_kdv_soln,\n",
    "                                                               compute_obs_func_model=compute_linear_obs,\n",
    "                                                               error_func=compute_diff_ratio_one_traj,\n",
    "                                                               y0_pred_list=y0_pred_list,\n",
    "                                                               param_pred_list=param_pred_list,\n",
    "                                                               dx=dx)"
   ]
  },
  {
   "cell_type": "code",
   "execution_count": 160,
   "metadata": {},
   "outputs": [],
   "source": [
    "mass_mean_linear, mass_std_linear, mass_mean_plus_linear, mass_mean_minus_linear = compute_stat_info(error_mass_list_linear)\n",
    "momentum_mean_linear, momentum_std_linear, momentum_mean_plus_linear, momentum_mean_minus_linear = compute_stat_info(error_momentum_list_linear)"
   ]
  },
  {
   "cell_type": "code",
   "execution_count": 161,
   "metadata": {},
   "outputs": [
    {
     "data": {
      "text/plain": [
       "<matplotlib.collections.PolyCollection at 0x7f2c264f7250>"
      ]
     },
     "execution_count": 161,
     "metadata": {},
     "output_type": "execute_result"
    },
    {
     "data": {
      "image/png": "[encoded data removed]",
      "text/plain": [
       "<Figure size 640x480 with 1 Axes>"
      ]
     },
     "metadata": {},
     "output_type": "display_data"
    }
   ],
   "source": [
    "t_axis = np.arange(0, traj_len_pred+1, 1)\n",
    "\n",
    "plt.plot(mass_mean_linear, label='P-Koopman', color='steelblue', linewidth=3)\n",
    "plt.fill_between(t_axis, np.maximum(mass_mean_minus_linear,0), mass_mean_plus_linear, color='lightsteelblue', alpha=0.5)"
   ]
  },
  {
   "cell_type": "code",
   "execution_count": 162,
   "metadata": {},
   "outputs": [
    {
     "data": {
      "text/plain": [
       "<matplotlib.collections.PolyCollection at 0x7f2c1c439f60>"
      ]
     },
     "execution_count": 162,
     "metadata": {},
     "output_type": "execute_result"
    },
    {
     "data": {
      "image/png": "[encoded data removed]",
      "text/plain": [
       "<Figure size 640x480 with 1 Axes>"
      ]
     },
     "metadata": {},
     "output_type": "display_data"
    }
   ],
   "source": [
    "t_axis = np.arange(0, traj_len_pred+1, 1)\n",
    "\n",
    "plt.plot(momentum_mean_linear, label='P-Koopman', color='steelblue', linewidth=3)\n",
    "plt.fill_between(t_axis, np.maximum(momentum_mean_minus_linear,0), momentum_mean_plus_linear, color='lightsteelblue', alpha=0.5)"
   ]
  },
  {
   "cell_type": "code",
   "execution_count": null,
   "metadata": {},
   "outputs": [],
   "source": []
  },
  {
   "cell_type": "code",
   "execution_count": 163,
   "metadata": {},
   "outputs": [],
   "source": [
    "mass_dict_error_linear = {'mean': mass_mean_linear,\n",
    "             'std': mass_std_linear,\n",
    "             'mean_plus':mass_mean_plus_linear,\n",
    "             'mean_minus':mass_mean_minus_linear}\n",
    "np.save(os.path.join(data_path,'mass_error_linear.npy'), mass_dict_error_linear)\n",
    "\n",
    "\n",
    "momentum_dict_error_linear = {'mean': momentum_mean_linear,\n",
    "             'std': momentum_std_linear,\n",
    "             'mean_plus':momentum_mean_plus_linear,\n",
    "             'mean_minus':momentum_mean_minus_linear}\n",
    "np.save(os.path.join(data_path,'momentum_error_linear.npy'), momentum_dict_error_linear)"
   ]
  },
  {
   "cell_type": "markdown",
   "metadata": {},
   "source": [
    "# Tracking Problem"
   ]
  },
  {
   "cell_type": "code",
   "execution_count": null,
   "metadata": {},
   "outputs": [],
   "source": [
    "from scipy.optimize import minimize"
   ]
  },
  {
   "cell_type": "code",
   "execution_count": null,
   "metadata": {},
   "outputs": [],
   "source": [
    "\n",
    "Tsim_track = 10\n",
    "\n",
    "traj_len_track = int(Tsim_track / T)\n",
    "\n",
    "\n",
    "\n",
    "### Set piece-wise reference\n",
    "soln_ref = np.zeros(shape=(traj_len_track, target_dim))+0.3\n",
    "\n",
    "for i in range(soln_ref.shape[0]):\n",
    "    if i > traj_len_track / 2:\n",
    "        soln_ref[i, :] = 0.5"
   ]
  },
  {
   "cell_type": "code",
   "execution_count": null,
   "metadata": {},
   "outputs": [],
   "source": [
    "# Testing reference\n",
    "y0_track = np.zeros(shape=(Nx, )) + 0.2"
   ]
  },
  {
   "cell_type": "code",
   "execution_count": null,
   "metadata": {},
   "outputs": [],
   "source": [
    "# y0_track = kdv_exact(x, seed=10)"
   ]
  },
  {
   "cell_type": "code",
   "execution_count": null,
   "metadata": {},
   "outputs": [],
   "source": [
    "tau = 5"
   ]
  },
  {
   "cell_type": "code",
   "execution_count": null,
   "metadata": {},
   "outputs": [],
   "source": [
    "# soln_ref = np.loadtxt(os.path.join(data_path,'track_soln_ref'), delimiter=',')"
   ]
  },
  {
   "cell_type": "code",
   "execution_count": 112,
   "metadata": {},
   "outputs": [],
   "source": [
    "# np.savetxt(os.path.join(data_path,'track_soln_ref'), soln_ref, delimiter=',')"
   ]
  },
  {
   "cell_type": "code",
   "execution_count": null,
   "metadata": {},
   "outputs": [],
   "source": [
    "mass_ref = dx * tf.reshape(tf.math.reduce_sum(soln_ref, axis=-1), shape=(-1,1))\n",
    "momentum_ref = dx * tf.reshape(tf.math.reduce_sum(tf.square(soln_ref), axis=-1), shape=(-1,1))"
   ]
  },
  {
   "cell_type": "code",
   "execution_count": null,
   "metadata": {},
   "outputs": [],
   "source": [
    "def mpc_loss_linear(param, tau, ref_list, y0, B):\n",
    "    param = tf.reshape(param, shape=(int(param.shape[0]/param_dim), 1, param_dim))\n",
    "    loss_list = []\n",
    "    y0 = y0.reshape(1,-1)\n",
    "    psi_y = solver_linear.dic.call(y0)\n",
    "    \n",
    "    for i in range(tau):\n",
    "        psi_y = solver_linear.model.get_layer('Layer_A')(psi_y) + solver_linear.model.get_layer('Layer_B')(param[i])\n",
    "        obs = psi_y@B\n",
    "        loss_curr = tf.square(tf.norm(ref_list[i] - obs))\n",
    "        loss_list.append(loss_curr)\n",
    "    \n",
    "    ref_loss= tf.reduce_sum(loss_list)\n",
    "    param_loss = 0.0 * tf.reduce_sum(tf.square(tf.norm(param, axis=-1)))\n",
    "    \n",
    "    loss = ref_loss + param_loss\n",
    "    \n",
    "#     loss = ref_loss\n",
    "    return loss   "
   ]
  },
  {
   "cell_type": "code",
   "execution_count": null,
   "metadata": {},
   "outputs": [],
   "source": [
    "def KoopmanMPC(y0, tau, traj_len, soln_ref, kdv_solver, B, loss):\n",
    "    \n",
    "    bounds= []\n",
    "    for i in range(tau*param_dim):\n",
    "        bounds.append((-1,1))\n",
    "\n",
    "    y0_mpc_loop_list = [y0]\n",
    "    opt_control_list = []\n",
    "    for current_time in range(traj_len-tau-1):\n",
    "        print('current time step: ', current_time)\n",
    "        start_time = time.time()\n",
    "        # This needs param_init is a scalor\n",
    "\n",
    "        param_init = np.random.uniform(low=0, high=1, size=(tau * param_dim, )) * (umax - umin) + umin\n",
    "\n",
    "        results = minimize(loss, \n",
    "                       x0=param_init,\n",
    "                       args = (tau, soln_ref[current_time+1:current_time+1+tau,:], y0_mpc_loop_list[-1], B),\n",
    "                       bounds=bounds)\n",
    "\n",
    "        param = results.x.reshape(tau, param_dim)[0]\n",
    "        soln_next = kdv_solver(y0_mpc_loop_list[-1], T, L, param, v_list, x)\n",
    "        y_next = soln_next.y.T[-1]\n",
    "        y0_mpc_loop_list.append(y_next)\n",
    "        opt_control_list.append(param)\n",
    "        end_time = time.time()\n",
    "\n",
    "        print('loss: ', results.fun)\n",
    "#         print('time: ', end_time-start_time)\n",
    "        \n",
    "    current_time = current_time + 1\n",
    "        \n",
    "    print('current time step: ', current_time)\n",
    "    start_time = time.time()\n",
    "    # This needs param_init is a scalor\n",
    "\n",
    "    param_init = np.random.uniform(low=0, high=1, size=(tau * param_dim, )) * (umax - umin) + umin\n",
    "\n",
    "    results = minimize(loss, \n",
    "                   x0=param_init,\n",
    "                   args = (tau, soln_ref[current_time+1:current_time+1+tau,:], y0_mpc_loop_list[-1], B),\n",
    "                   bounds=bounds)\n",
    "\n",
    "    param = results.x.reshape(tau, param_dim)\n",
    "    for param_curr in param:\n",
    "        soln_next = kdv_solver(y0_mpc_loop_list[-1], T, L, param_curr, v_list, x)\n",
    "        y_next = soln_next.y.T[-1]\n",
    "        y0_mpc_loop_list.append(y_next)\n",
    "        opt_control_list.append(param_curr)\n",
    "        end_time = time.time()\n",
    "\n",
    "    print('loss: ', results.fun)\n",
    "        \n",
    "    opt_control_list = np.asarray(opt_control_list)\n",
    "    y0_mpc_loop_list = np.asarray(y0_mpc_loop_list)\n",
    "    \n",
    "    return opt_control_list, y0_mpc_loop_list"
   ]
  },
  {
   "cell_type": "code",
   "execution_count": null,
   "metadata": {},
   "outputs": [],
   "source": [
    "B_mass = dic_linear.generate_B_mass(mass_ref)\n",
    "B_momentum = dic_linear.generate_B_momentum(momentum_ref)"
   ]
  },
  {
   "cell_type": "markdown",
   "metadata": {},
   "source": [
    "## Track mass"
   ]
  },
  {
   "cell_type": "code",
   "execution_count": null,
   "metadata": {
    "scrolled": true
   },
   "outputs": [],
   "source": [
    "linear_opt_control_mass, linear_kdv_opt_mass_soln = KoopmanMPC(y0=y0_track,\n",
    "                                                               tau=tau,\n",
    "                                                traj_len=traj_len_track,\n",
    "                                                soln_ref=mass_ref, \n",
    "                                                kdv_solver=kdv_solution,\n",
    "                                                B=B_mass,\n",
    "                                                loss=mpc_loss_linear)"
   ]
  },
  {
   "cell_type": "code",
   "execution_count": null,
   "metadata": {},
   "outputs": [],
   "source": [
    "# np.savetxt(os.path.join(data_path,'penalty_linear_mass_kdv_opt_control_20s_greedy.csv'), linear_opt_control_mass, delimiter=',')\n",
    "# np.savetxt(os.path.join(data_path,'penalty_linear_mass_kdv_opt_soln_20s_greedy.csv'), linear_kdv_opt_mass_soln, delimiter=',')"
   ]
  },
  {
   "cell_type": "code",
   "execution_count": null,
   "metadata": {},
   "outputs": [],
   "source": [
    "# linear_opt_control_mass = np.loadtxt(os.path.join(data_path,'linear_mass_kdv_opt_control_20s_greedy.csv'), delimiter=',')\n",
    "# linear_kdv_opt_mass_soln = np.loadtxt(os.path.join(data_path,'linear_mass_kdv_opt_soln_20s_greedy.csv'), delimiter=',')"
   ]
  },
  {
   "cell_type": "code",
   "execution_count": null,
   "metadata": {},
   "outputs": [],
   "source": [
    "linear_kdv_opt_mass = dx * tf.reduce_sum(linear_kdv_opt_mass_soln, axis=-1)"
   ]
  },
  {
   "cell_type": "code",
   "execution_count": null,
   "metadata": {},
   "outputs": [],
   "source": [
    "plt.plot(mass_ref, label='reference')\n",
    "plt.plot(linear_kdv_opt_mass, label='linear')\n",
    "plt.legend()"
   ]
  },
  {
   "cell_type": "code",
   "execution_count": null,
   "metadata": {},
   "outputs": [],
   "source": [
    "plt.plot(linear_opt_control_mass[:,0])"
   ]
  },
  {
   "cell_type": "code",
   "execution_count": null,
   "metadata": {},
   "outputs": [],
   "source": []
  },
  {
   "cell_type": "code",
   "execution_count": null,
   "metadata": {},
   "outputs": [],
   "source": []
  },
  {
   "cell_type": "markdown",
   "metadata": {},
   "source": [
    "# Track momentum"
   ]
  },
  {
   "cell_type": "code",
   "execution_count": null,
   "metadata": {
    "scrolled": true
   },
   "outputs": [],
   "source": [
    "linear_opt_control_momentum, linear_kdv_opt_momentum_soln = KoopmanMPC(y0=y0_track,\n",
    "                                                                       tau=tau,\n",
    "                                                traj_len=traj_len_track,\n",
    "                                                soln_ref=momentum_ref, \n",
    "                                                kdv_solver=kdv_solution,\n",
    "                                                B=B_momentum,\n",
    "                                                loss=mpc_loss_linear)"
   ]
  },
  {
   "cell_type": "code",
   "execution_count": 52,
   "metadata": {},
   "outputs": [],
   "source": [
    "linear_kdv_opt_momentum = dx * tf.reshape(tf.math.reduce_sum(tf.square(linear_kdv_opt_momentum_soln), axis=-1), shape=(-1,1))"
   ]
  },
  {
   "cell_type": "code",
   "execution_count": 53,
   "metadata": {},
   "outputs": [
    {
     "data": {
      "text/plain": [
       "<matplotlib.legend.Legend at 0x7fdb9a9008e0>"
      ]
     },
     "execution_count": 53,
     "metadata": {},
     "output_type": "execute_result"
    },
    {
     "data": {
      "image/png": "[encoded data removed]",
      "text/plain": [
       "<Figure size 432x288 with 1 Axes>"
      ]
     },
     "metadata": {
      "needs_background": "light"
     },
     "output_type": "display_data"
    }
   ],
   "source": [
    "plt.plot(momentum_ref, label='reference')\n",
    "plt.plot(linear_kdv_opt_momentum, label='linear')\n",
    "plt.legend()"
   ]
  },
  {
   "cell_type": "code",
   "execution_count": 54,
   "metadata": {},
   "outputs": [],
   "source": [
    "np.savetxt(os.path.join(data_path,'no_penalty_linear_momentum_kdv_opt_control_20s_greedy.csv'), linear_opt_control_momentum, delimiter=',')\n",
    "np.savetxt(os.path.join(data_path,'no_penalty_linear_momentum_kdv_opt_soln_20s_greedy.csv'), linear_kdv_opt_momentum_soln, delimiter=',')"
   ]
  },
  {
   "cell_type": "code",
   "execution_count": null,
   "metadata": {},
   "outputs": [],
   "source": []
  },
  {
   "cell_type": "markdown",
   "metadata": {},
   "source": [
    "# Controllability"
   ]
  },
  {
   "cell_type": "code",
   "execution_count": 68,
   "metadata": {},
   "outputs": [],
   "source": [
    "# Randomly sample control\n",
    "np.random.seed(seed=111)\n",
    "n_control_samples = 2000\n",
    "control_samples = np.random.uniform(low=0, high=1, size=(n_control_samples, param_dim)) * (umax - umin) + umin"
   ]
  },
  {
   "cell_type": "code",
   "execution_count": 69,
   "metadata": {},
   "outputs": [],
   "source": [
    "vector_bu = solver_linear.model.get_layer('Layer_B')(control_samples)"
   ]
  },
  {
   "cell_type": "code",
   "execution_count": 70,
   "metadata": {},
   "outputs": [
    {
     "data": {
      "text/plain": [
       "[<tf.Variable 'Layer_B/kernel:0' shape=(3, 4) dtype=float64, numpy=\n",
       " array([[-1.30104261e-17,  6.84490017e-02, -7.48895866e-04,\n",
       "          2.08050131e-04],\n",
       "        [-9.25908655e-17,  6.86751627e-02, -5.40985905e-04,\n",
       "          3.15769172e-04],\n",
       "        [-3.45535232e-16,  6.86216604e-02, -8.40655009e-04,\n",
       "          3.86985534e-04]])>]"
      ]
     },
     "execution_count": 70,
     "metadata": {},
     "output_type": "execute_result"
    }
   ],
   "source": [
    "solver_linear.model.get_layer('Layer_B').weights"
   ]
  },
  {
   "cell_type": "code",
   "execution_count": 71,
   "metadata": {},
   "outputs": [
    {
     "data": {
      "text/plain": [
       "(2000, 3)"
      ]
     },
     "execution_count": 71,
     "metadata": {},
     "output_type": "execute_result"
    }
   ],
   "source": [
    "control_samples.shape"
   ]
  },
  {
   "cell_type": "code",
   "execution_count": 72,
   "metadata": {},
   "outputs": [],
   "source": [
    "vector_bu = tf.reshape(vector_bu, shape=(vector_bu.shape[0],n_psi,1))"
   ]
  },
  {
   "cell_type": "code",
   "execution_count": 73,
   "metadata": {},
   "outputs": [],
   "source": [
    "vector_zeros = tf.zeros(shape=(vector_bu.shape[0], n_psi, n_psi-1), dtype='float64')"
   ]
  },
  {
   "cell_type": "code",
   "execution_count": 74,
   "metadata": {},
   "outputs": [],
   "source": [
    "matrix_bu = tf.concat([vector_bu, vector_zeros], axis=-1)"
   ]
  },
  {
   "cell_type": "code",
   "execution_count": 75,
   "metadata": {},
   "outputs": [
    {
     "data": {
      "text/plain": [
       "<tf.Tensor: shape=(4, 4), dtype=float64, numpy=\n",
       "array([[ 1.02551195e-16,  0.00000000e+00,  0.00000000e+00,\n",
       "         0.00000000e+00],\n",
       "       [-3.88729764e-02,  0.00000000e+00,  0.00000000e+00,\n",
       "         0.00000000e+00],\n",
       "       [ 2.97554246e-04,  0.00000000e+00,  0.00000000e+00,\n",
       "         0.00000000e+00],\n",
       "       [-2.11809569e-04,  0.00000000e+00,  0.00000000e+00,\n",
       "         0.00000000e+00]])>"
      ]
     },
     "execution_count": 75,
     "metadata": {},
     "output_type": "execute_result"
    }
   ],
   "source": [
    "matrix_bu[0]"
   ]
  },
  {
   "cell_type": "code",
   "execution_count": 76,
   "metadata": {},
   "outputs": [],
   "source": [
    "# Create a 3x3 identity matrix\n",
    "identity_matrix = np.eye(n_psi)"
   ]
  },
  {
   "cell_type": "code",
   "execution_count": 77,
   "metadata": {},
   "outputs": [],
   "source": [
    "matrix_A = solver_linear.model.get_layer('Layer_A')(identity_matrix)"
   ]
  },
  {
   "cell_type": "code",
   "execution_count": 78,
   "metadata": {
    "scrolled": true
   },
   "outputs": [
    {
     "data": {
      "text/plain": [
       "<tf.Tensor: shape=(4, 4), dtype=float64, numpy=\n",
       "array([[ 1.00000000e+00,  1.09276740e-03, -1.49643422e-03,\n",
       "         9.23807438e-04],\n",
       "       [-9.80118764e-17,  9.99806932e-01, -6.53436978e-05,\n",
       "        -4.74398849e-05],\n",
       "       [-2.22044605e-16, -6.21362578e-03,  1.00227680e+00,\n",
       "        -3.83239310e-03],\n",
       "       [ 4.99600361e-15,  2.24902565e-02,  2.11449817e-02,\n",
       "         1.00015566e+00]])>"
      ]
     },
     "execution_count": 78,
     "metadata": {},
     "output_type": "execute_result"
    }
   ],
   "source": [
    "matrix_A"
   ]
  },
  {
   "cell_type": "code",
   "execution_count": 79,
   "metadata": {},
   "outputs": [],
   "source": [
    "linear_K_matrix = matrix_bu + matrix_A"
   ]
  },
  {
   "cell_type": "code",
   "execution_count": 80,
   "metadata": {},
   "outputs": [],
   "source": [
    "linear_A_matrix = (linear_K_matrix - identity_matrix) / T\n",
    "\n",
    "linear_A_vector = tf.reshape(linear_A_matrix, shape=(linear_A_matrix.shape[0], linear_A_matrix.shape[-1]*linear_A_matrix.shape[-1]))\n",
    "\n",
    "rank = np.linalg.matrix_rank(linear_A_vector)\n",
    "\n",
    "U, S, VT = np.linalg.svd(linear_A_vector)"
   ]
  },
  {
   "cell_type": "code",
   "execution_count": 81,
   "metadata": {},
   "outputs": [
    {
     "data": {
      "text/plain": [
       "4"
      ]
     },
     "execution_count": 81,
     "metadata": {},
     "output_type": "execute_result"
    }
   ],
   "source": [
    "np.sum(S > 1e-5)"
   ]
  },
  {
   "cell_type": "code",
   "execution_count": 162,
   "metadata": {},
   "outputs": [
    {
     "data": {
      "text/plain": [
       "array([3.00907567e+02, 1.42514091e+02, 5.66001169e-01, 3.23417390e-01,\n",
       "       6.93493129e-13, 2.87072870e-13, 4.13389705e-15, 1.04323524e-17,\n",
       "       9.59488603e-18, 2.66896110e-18, 1.23800720e-18, 4.75004906e-19,\n",
       "       1.53639253e-19, 7.46375738e-22, 1.18486091e-29, 7.99100638e-34])"
      ]
     },
     "execution_count": 162,
     "metadata": {},
     "output_type": "execute_result"
    }
   ],
   "source": [
    "S"
   ]
  },
  {
   "cell_type": "code",
   "execution_count": 83,
   "metadata": {},
   "outputs": [
    {
     "data": {
      "text/plain": [
       "array([9.32550612e+02, 4.32186938e+01, 1.64202796e+00, 3.39976981e-01])"
      ]
     },
     "execution_count": 83,
     "metadata": {},
     "output_type": "execute_result"
    }
   ],
   "source": [
    "# Check the rank of psi_y\n",
    "\n",
    "psi_x = dic_linear(data_x[:2000,:])\n",
    "\n",
    "U_x, S_x, VT_x = np.linalg.svd(psi_x.numpy())\n",
    "\n",
    "S_x"
   ]
  },
  {
   "cell_type": "code",
   "execution_count": 419,
   "metadata": {},
   "outputs": [
    {
     "data": {
      "text/plain": [
       "[<tf.Variable 'dic_nn_2/dense_8/kernel:0' shape=(128, 16) dtype=float64, numpy=\n",
       " array([[-0.11946949,  0.10629108,  0.18487545, ...,  0.11274908,\n",
       "         -0.09162138,  0.00824665],\n",
       "        [ 0.18563213, -0.156174  , -0.0045291 , ..., -0.15788919,\n",
       "         -0.09166432, -0.04920634],\n",
       "        [ 0.1732359 ,  0.10672823, -0.13551614, ..., -0.02894821,\n",
       "          0.11614003,  0.00164874],\n",
       "        ...,\n",
       "        [-0.11947453,  0.12054729,  0.15148409, ...,  0.04197183,\n",
       "         -0.15330199,  0.05307735],\n",
       "        [-0.02813545, -0.16716774,  0.11357821, ..., -0.14975024,\n",
       "         -0.10167409,  0.11073917],\n",
       "        [ 0.12513555, -0.11729631, -0.09243388, ...,  0.0581396 ,\n",
       "          0.00727545, -0.05674344]])>,\n",
       " <tf.Variable 'dic_nn_2/dense_9/kernel:0' shape=(16, 16) dtype=float64, numpy=\n",
       " array([[ 0.09522783,  0.26683524, -0.27230335,  0.15621851, -0.08574116,\n",
       "         -0.17291086,  0.01433219, -0.1839895 ,  0.05030646,  0.01995397,\n",
       "         -0.44700642,  0.24709881, -0.12161446, -0.25454854, -0.08117115,\n",
       "         -0.14599992],\n",
       "        [-0.37570999,  0.07759062,  0.33202972, -0.0250133 ,  0.41237086,\n",
       "         -0.24008725,  0.31437708,  0.433455  , -0.02703464,  0.04113518,\n",
       "         -0.09744585, -0.38253523,  0.23092828, -0.04826847,  0.17665907,\n",
       "         -0.05237723],\n",
       "        [-0.11313993,  0.25610434, -0.07868924, -0.12935135, -0.20871797,\n",
       "         -0.14580124, -0.42544953,  0.3540096 , -0.31107366,  0.35312021,\n",
       "          0.12374738, -0.10929772,  0.35324641, -0.16578357, -0.09254757,\n",
       "         -0.25558454],\n",
       "        [ 0.37583188,  0.22647896, -0.2135912 , -0.42197391,  0.31557232,\n",
       "         -0.13460997, -0.10244024, -0.26511545,  0.17621877,  0.08739745,\n",
       "         -0.13652288, -0.25415613, -0.37617417, -0.26335963,  0.09095377,\n",
       "         -0.21998316],\n",
       "        [-0.04741737,  0.02499886,  0.29823672,  0.01928926,  0.18502369,\n",
       "          0.08474983, -0.00298425,  0.03814039,  0.15044342,  0.12648391,\n",
       "          0.31640312, -0.3971593 , -0.34257054, -0.17864788, -0.2403865 ,\n",
       "         -0.23979476],\n",
       "        [ 0.35914623, -0.2067831 ,  0.26757999,  0.10111341, -0.30561177,\n",
       "         -0.1617912 , -0.23771604,  0.28035049,  0.37766801, -0.27447557,\n",
       "         -0.25884546,  0.14344553, -0.31056289,  0.02346761,  0.36755724,\n",
       "         -0.0681667 ],\n",
       "        [ 0.09769173,  0.259514  , -0.43333268, -0.02445183,  0.36317009,\n",
       "         -0.14171803,  0.07133236,  0.03883756, -0.36726342,  0.20523095,\n",
       "          0.41708665,  0.5239235 , -0.09516261, -0.38549857,  0.34320176,\n",
       "          0.03426217],\n",
       "        [-0.28379785, -0.19133871,  0.04656877,  0.04344699,  0.02118848,\n",
       "          0.31155816,  0.28365593, -0.3705684 ,  0.39463974, -0.19625869,\n",
       "          0.06527166, -0.17340422,  0.05910202,  0.07706988, -0.27621701,\n",
       "          0.02649982],\n",
       "        [-0.26760301, -0.17184899, -0.29684019, -0.14344291,  0.12755877,\n",
       "         -0.31253657, -0.09705005, -0.27091173,  0.22857722, -0.08907898,\n",
       "          0.11732526, -0.33660104, -0.25143008,  0.305079  , -0.22345098,\n",
       "          0.19433836],\n",
       "        [ 0.12032129,  0.18027853, -0.40892597,  0.02819224,  0.27225364,\n",
       "         -0.26853191,  0.23724627, -0.09435172, -0.00335656, -0.16491848,\n",
       "          0.09541828, -0.27414861, -0.31910483, -0.37118242, -0.21621151,\n",
       "          0.05804449],\n",
       "        [ 0.2221845 ,  0.15494674, -0.24772605,  0.19478072, -0.09212838,\n",
       "          0.21057547,  0.01163884, -0.2098754 , -0.31130786, -0.04348396,\n",
       "         -0.0516546 , -0.15436346, -0.200922  , -0.00444516,  0.20002966,\n",
       "          0.3154986 ],\n",
       "        [ 0.06342402, -0.39003122,  0.06162923, -0.11502195,  0.22657382,\n",
       "         -0.10038213,  0.43647243,  0.11424598, -0.1961816 ,  0.07409207,\n",
       "          0.19260906, -0.0982493 , -0.1258538 , -0.33872787,  0.45191775,\n",
       "          0.11479337],\n",
       "        [-0.17335941,  0.22157615,  0.40801592,  0.07749583,  0.05154042,\n",
       "          0.15238387, -0.23090206,  0.02583939, -0.34284097, -0.18863669,\n",
       "         -0.1418624 ,  0.03478837, -0.33470924,  0.26684201, -0.24391634,\n",
       "          0.31504532],\n",
       "        [ 0.03222487,  0.23026129,  0.07575724,  0.35228671,  0.30217112,\n",
       "         -0.16388077,  0.40976051, -0.37850797,  0.20625987,  0.17160402,\n",
       "         -0.36349425,  0.3366861 , -0.03251731, -0.21295343, -0.2317602 ,\n",
       "         -0.36070758],\n",
       "        [ 0.06852363, -0.34149644, -0.08134406,  0.29916891, -0.39375992,\n",
       "          0.02412731, -0.27953644,  0.01074454,  0.07248728, -0.37312321,\n",
       "          0.01259559,  0.36564867,  0.06439229, -0.27247792,  0.08090528,\n",
       "          0.00730181],\n",
       "        [-0.15220482, -0.29933458, -0.29354605, -0.1579256 ,  0.22360135,\n",
       "         -0.24647928,  0.07973117,  0.2686974 , -0.1406419 ,  0.1079787 ,\n",
       "          0.16546522, -0.22385656,  0.1604448 ,  0.19313528, -0.18978723,\n",
       "         -0.19196998]])>,\n",
       " <tf.Variable 'dic_nn_2/dense_9/bias:0' shape=(16,) dtype=float64, numpy=\n",
       " array([-0.0087499 ,  0.05822047,  0.03855799,  0.15066398,  0.09436538,\n",
       "        -0.0740756 , -0.05495948,  0.04494994, -0.01308923, -0.01949521,\n",
       "        -0.13943994, -0.06507819, -0.0428695 ,  0.02479304,  0.00768084,\n",
       "         0.15633936])>,\n",
       " <tf.Variable 'dic_nn_2/dense_10/kernel:0' shape=(16, 16) dtype=float64, numpy=\n",
       " array([[-0.31657678,  0.11267477,  0.3072192 , -0.22452001,  0.22725611,\n",
       "         -0.02045345,  0.43720423, -0.42801113, -0.30318186, -0.23569342,\n",
       "          0.02999664, -0.2789368 , -0.0196258 , -0.20364281, -0.08494319,\n",
       "          0.06091302],\n",
       "        [-0.18076289,  0.31811664, -0.06477698,  0.407368  , -0.08239303,\n",
       "          0.30817092,  0.34642597, -0.32708221,  0.37370515, -0.43653371,\n",
       "         -0.03178595, -0.07077825, -0.09186473, -0.03879799, -0.13295132,\n",
       "         -0.08869463],\n",
       "        [ 0.19621974,  0.2135873 , -0.35852987,  0.26554102, -0.09886853,\n",
       "          0.31396204, -0.34307424,  0.35867776,  0.14202487,  0.4582323 ,\n",
       "         -0.13230588,  0.0064041 , -0.1482392 , -0.23306557,  0.3736346 ,\n",
       "         -0.27146305],\n",
       "        [-0.45367027, -0.15461111,  0.14675992, -0.4249677 ,  0.30756604,\n",
       "         -0.07268826, -0.06150984, -0.14341218,  0.22407042,  0.32584202,\n",
       "         -0.24735789,  0.2308528 ,  0.32676214,  0.31523274,  0.14866221,\n",
       "         -0.14892909],\n",
       "        [ 0.15812127, -0.16998157, -0.18996436, -0.12178678,  0.01884542,\n",
       "          0.0475809 , -0.01876639,  0.35672696, -0.16033431,  0.2409124 ,\n",
       "          0.08139795, -0.07558251, -0.27226961,  0.16931962, -0.23579301,\n",
       "          0.23726387],\n",
       "        [ 0.06053309, -0.14593567, -0.05028181,  0.10370522,  0.24215895,\n",
       "          0.07618775,  0.15493668, -0.22396832, -0.36332704,  0.23156456,\n",
       "         -0.25183752, -0.07295901,  0.1659215 , -0.19245062, -0.1177258 ,\n",
       "         -0.28588149],\n",
       "        [-0.15064287, -0.06812139,  0.24264869,  0.36897127,  0.04812457,\n",
       "         -0.01878057, -0.03282215, -0.09878726,  0.16948185,  0.31542682,\n",
       "          0.06375441, -0.22595203,  0.14829971, -0.18401198,  0.17952855,\n",
       "          0.2211659 ],\n",
       "        [ 0.3327298 , -0.22089431,  0.04355084, -0.15191493, -0.07205217,\n",
       "          0.06981246, -0.20218447,  0.03170707,  0.10163805, -0.00932813,\n",
       "          0.17868686,  0.1614444 ,  0.07083853,  0.16835765,  0.04440457,\n",
       "          0.25465131],\n",
       "        [-0.31448954, -0.39485154,  0.12597886, -0.38362382, -0.22416037,\n",
       "          0.10974398, -0.02984555,  0.27507781, -0.18164579,  0.14190723,\n",
       "          0.45573698, -0.08245303, -0.21729782,  0.22565981, -0.28407271,\n",
       "          0.22777328],\n",
       "        [ 0.2388949 , -0.00563194, -0.16567607,  0.09277545, -0.25316524,\n",
       "          0.07889926,  0.25484665, -0.25513229,  0.16520636, -0.48709027,\n",
       "          0.22146689, -0.03230506,  0.18883801,  0.37574415,  0.23755255,\n",
       "         -0.27820419],\n",
       "        [-0.19548921, -0.31241337,  0.43435727, -0.08612882, -0.2138774 ,\n",
       "         -0.18309102,  0.04251022,  0.08666737, -0.33173689,  0.26598636,\n",
       "          0.01362573, -0.17294418,  0.00358171, -0.05957091, -0.2579086 ,\n",
       "         -0.04242645],\n",
       "        [-0.26490765, -0.3279729 ,  0.15791472,  0.46749764, -0.03986425,\n",
       "          0.16392004, -0.14203181, -0.01019074,  0.05947606,  0.15818015,\n",
       "          0.11479275,  0.04601629, -0.04630652,  0.19694384,  0.20927524,\n",
       "         -0.190047  ],\n",
       "        [-0.31738823, -0.21118912, -0.11516219, -0.02201345, -0.32229646,\n",
       "         -0.28969535,  0.31820632, -0.15993487, -0.06637431, -0.2101719 ,\n",
       "          0.3675853 , -0.34926889, -0.29196976,  0.1355679 , -0.40233626,\n",
       "          0.31706196],\n",
       "        [ 0.47709692, -0.1998482 , -0.14352947,  0.00963682,  0.27572231,\n",
       "          0.12488713,  0.22539216, -0.03998639,  0.06277056,  0.07175353,\n",
       "          0.10516865, -0.32729465,  0.28543889,  0.0225301 ,  0.3606487 ,\n",
       "          0.20754849],\n",
       "        [-0.13962536, -0.09992354,  0.20688125,  0.37041297,  0.07080477,\n",
       "          0.18682633,  0.4097034 , -0.25759182, -0.15771804,  0.39586905,\n",
       "         -0.1183809 ,  0.2679416 ,  0.26572558, -0.011094  , -0.33539148,\n",
       "          0.16757471],\n",
       "        [ 0.10423899, -0.09611504, -0.09001675, -0.2665254 ,  0.27410981,\n",
       "         -0.23544852,  0.21996493, -0.004379  , -0.30782096, -0.34986525,\n",
       "          0.07209156, -0.18374645,  0.32251986, -0.21651344,  0.096489  ,\n",
       "         -0.25059451]])>,\n",
       " <tf.Variable 'dic_nn_2/dense_10/bias:0' shape=(16,) dtype=float64, numpy=\n",
       " array([-0.06416078, -0.03159301,  0.00806293,  0.04077005,  0.01000019,\n",
       "        -0.02714761,  0.01211672,  0.08350373,  0.06287375,  0.01544277,\n",
       "         0.00704746, -0.05729256,  0.02648331,  0.0925123 ,  0.00507416,\n",
       "         0.00810458])>,\n",
       " <tf.Variable 'dic_nn_2/dense_11/kernel:0' shape=(16, 2) dtype=float64, numpy=\n",
       " array([[-0.24866609,  0.18906193],\n",
       "        [ 0.42473889, -0.26103076],\n",
       "        [-0.14575317,  0.11447303],\n",
       "        [-0.47396314,  0.46251944],\n",
       "        [-0.16670583, -0.21194577],\n",
       "        [ 0.19253136, -0.1977014 ],\n",
       "        [ 0.02897197, -0.04050718],\n",
       "        [-0.10705505, -0.05488741],\n",
       "        [-0.29407002,  0.11163959],\n",
       "        [ 0.34755378,  0.20391783],\n",
       "        [ 0.0739277 , -0.33800296],\n",
       "        [ 0.46742281, -0.39248726],\n",
       "        [-0.03756696, -0.18620776],\n",
       "        [ 0.44706824, -0.25164248],\n",
       "        [-0.26446868, -0.14476858],\n",
       "        [ 0.17064431,  0.22672136]])>,\n",
       " <tf.Variable 'dic_nn_2/dense_11/bias:0' shape=(2,) dtype=float64, numpy=array([-0.02505482, -0.01011265])>,\n",
       " <tf.Variable 'Layer_A/kernel:0' shape=(4, 4) dtype=float64, numpy=\n",
       " array([[ 1.00000000e+00,  2.01612595e-04,  2.17853139e-03,\n",
       "          3.13486433e-03],\n",
       "        [ 3.71702669e-12,  1.00080746e+00,  9.27618219e-03,\n",
       "          1.29840431e-02],\n",
       "        [ 7.78221931e-12,  1.64360966e-03,  1.02060443e+00,\n",
       "          2.98912382e-02],\n",
       "        [-8.57625082e-12, -2.05117592e-03, -1.66210232e-02,\n",
       "          9.80115048e-01]])>,\n",
       " <tf.Variable 'Layer_B/kernel:0' shape=(3, 4) dtype=float64, numpy=\n",
       " array([[-3.11002309e-14,  3.38640039e-03, -1.11382220e-03,\n",
       "          4.27533622e-04],\n",
       "        [-7.13209873e-15,  3.39768596e-03, -1.07616006e-03,\n",
       "          4.37256401e-04],\n",
       "        [-2.90236585e-14,  3.39498204e-03, -1.22193074e-03,\n",
       "          3.05408838e-04]])>]"
      ]
     },
     "execution_count": 419,
     "metadata": {},
     "output_type": "execute_result"
    }
   ],
   "source": [
    "solver_linear.model.weights"
   ]
  },
  {
   "cell_type": "code",
   "execution_count": 425,
   "metadata": {},
   "outputs": [],
   "source": [
    "weights_A = solver_linear.model.get_layer('Layer_A').weights[0].numpy()\n",
    "weights_B = solver_linear.model.get_layer('Layer_B').weights[0].numpy()"
   ]
  },
  {
   "cell_type": "code",
   "execution_count": 426,
   "metadata": {},
   "outputs": [],
   "source": [
    "matrix_check = weights_B @ B_mass @ B_mass.T @ weights_B.T"
   ]
  },
  {
   "cell_type": "code",
   "execution_count": 427,
   "metadata": {},
   "outputs": [
    {
     "data": {
      "text/plain": [
       "array([[1.14677076e-05, 1.15059251e-05, 1.14967685e-05],\n",
       "       [1.15059251e-05, 1.15442699e-05, 1.15350828e-05],\n",
       "       [1.14967685e-05, 1.15350828e-05, 1.15259030e-05]])"
      ]
     },
     "execution_count": 427,
     "metadata": {},
     "output_type": "execute_result"
    }
   ],
   "source": [
    "matrix_check"
   ]
  },
  {
   "cell_type": "code",
   "execution_count": null,
   "metadata": {},
   "outputs": [],
   "source": []
  }
 ],
 "metadata": {
  "kernelspec": {
   "display_name": "koopman",
   "language": "python",
   "name": "koopman"
  },
  "language_info": {
   "codemirror_mode": {
    "name": "ipython",
    "version": 3
   },
   "file_extension": ".py",
   "mimetype": "text/x-python",
   "name": "python",
   "nbconvert_exporter": "python",
   "pygments_lexer": "ipython3",
   "version": "3.8.3"
  }
 },
 "nbformat": 4,
 "nbformat_minor": 2
}
