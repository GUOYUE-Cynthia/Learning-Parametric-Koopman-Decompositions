{
 "cells": [
  {
   "cell_type": "code",
   "execution_count": 1,
   "metadata": {},
   "outputs": [],
   "source": [
    "import os; os.environ['CUDA_VISIBLE_DEVICES'] = '-1'"
   ]
  },
  {
   "cell_type": "code",
   "execution_count": 2,
   "metadata": {},
   "outputs": [],
   "source": [
    "%load_ext autoreload\n",
    "%autoreload 2"
   ]
  },
  {
   "cell_type": "code",
   "execution_count": 3,
   "metadata": {},
   "outputs": [],
   "source": [
    "import numpy as np\n",
    "import tensorflow as tf\n",
    "import pandas as pd"
   ]
  },
  {
   "cell_type": "code",
   "execution_count": 4,
   "metadata": {},
   "outputs": [],
   "source": [
    "from tensorflow.keras.optimizers import Adam\n",
    "from tensorflow.keras.layers import Layer, Dense\n",
    "from tensorflow.keras.layers import Input\n",
    "from tensorflow.keras.models import Model"
   ]
  },
  {
   "cell_type": "code",
   "execution_count": 5,
   "metadata": {},
   "outputs": [],
   "source": [
    "import matplotlib.pyplot as plt"
   ]
  },
  {
   "cell_type": "code",
   "execution_count": 6,
   "metadata": {},
   "outputs": [],
   "source": [
    "from koopmanlib.dictionary import PsiNN\n",
    "from koopmanlib.target import BilinearMotorTarget"
   ]
  },
  {
   "cell_type": "code",
   "execution_count": 7,
   "metadata": {},
   "outputs": [],
   "source": [
    "from koopmanlib.functions import *"
   ]
  },
  {
   "cell_type": "code",
   "execution_count": 8,
   "metadata": {},
   "outputs": [],
   "source": [
    "target_dim = 3\n",
    "param_dim = 1\n",
    "n_phi = 10\n",
    "n_psi_train = 100\n",
    "n_psi = 1 + target_dim + n_psi_train\n",
    "n_init = 1000\n",
    "traj_len = 500"
   ]
  },
  {
   "cell_type": "code",
   "execution_count": 9,
   "metadata": {},
   "outputs": [],
   "source": [
    "# 20, 50, 100\n",
    "# ori  = 32.2293 (30)\n",
    "nonlinear_param = 50"
   ]
  },
  {
   "cell_type": "code",
   "execution_count": 10,
   "metadata": {},
   "outputs": [],
   "source": [
    "X = pd.read_csv('results/motor_time_delay/data/X_'+str(nonlinear_param)+'.csv', header=None)\n",
    "Y = pd.read_csv('results/motor_time_delay/data/Y_'+str(nonlinear_param)+'.csv', header=None)\n",
    "U = pd.read_csv('results/motor_time_delay/data/U_'+str(nonlinear_param)+'.csv', header=None)"
   ]
  },
  {
   "cell_type": "code",
   "execution_count": 11,
   "metadata": {
    "scrolled": true
   },
   "outputs": [],
   "source": [
    "data_x = X.values.T\n",
    "data_y = Y.values.T\n",
    "data_u = U.values.T"
   ]
  },
  {
   "cell_type": "code",
   "execution_count": 12,
   "metadata": {},
   "outputs": [],
   "source": [
    "pw_pred_linear_rbf = pd.read_csv('results/motor_time_delay/data/pw_pred_'+str(nonlinear_param)+'.csv', header=None)\n",
    "pw_yrr_linear = pd.read_csv('results/motor_time_delay/data/pw_yrr_'+str(nonlinear_param)+'.csv', header=None)\n",
    "\n",
    "cos_pred_linear_rbf = pd.read_csv('results/motor_time_delay/data/cos_pred_'+str(nonlinear_param)+'.csv', header=None)\n",
    "cos_yrr_linear = pd.read_csv('results/motor_time_delay/data/cos_yrr_'+str(nonlinear_param)+'.csv', header=None)\n",
    "\n",
    "pw_pred_linear_rbf = pw_pred_linear_rbf.values.T\n",
    "pw_yrr_linear = pw_yrr_linear.values.T\n",
    "\n",
    "cos_pred_linear_rbf = cos_pred_linear_rbf.values.T\n",
    "cos_yrr_linear = cos_yrr_linear.values.T"
   ]
  },
  {
   "cell_type": "code",
   "execution_count": 13,
   "metadata": {},
   "outputs": [],
   "source": [
    "pw_control_linear_rbf = pd.read_csv('results/motor_time_delay/data/pw_new_control_'+str(nonlinear_param)+'.csv', header=None)\n",
    "cos_control_linear_rbf = pd.read_csv('results/motor_time_delay/data/cos_new_control_'+str(nonlinear_param)+'.csv', header=None)"
   ]
  },
  {
   "cell_type": "code",
   "execution_count": 14,
   "metadata": {},
   "outputs": [],
   "source": [
    "pw_control_linear_rbf = pw_control_linear_rbf.values.T\n",
    "cos_control_linear_rbf = cos_control_linear_rbf.values.T"
   ]
  },
  {
   "cell_type": "code",
   "execution_count": 15,
   "metadata": {},
   "outputs": [],
   "source": [
    "bilinear_motor = BilinearMotorTarget(n_init=n_init,\n",
    "                                     traj_len=traj_len, \n",
    "                                     seed_x=2, \n",
    "                                     seed_param=123,\n",
    "                                    mu=nonlinear_param,\n",
    "                                    u_order=1)"
   ]
  },
  {
   "cell_type": "markdown",
   "metadata": {},
   "source": [
    "# Build pk model"
   ]
  },
  {
   "cell_type": "code",
   "execution_count": 16,
   "metadata": {},
   "outputs": [],
   "source": [
    "from koopmanlib.dictionary import PsiNN\n",
    "from koopmanlib.param_solver import KoopmanParametricDLSolver"
   ]
  },
  {
   "cell_type": "code",
   "execution_count": 17,
   "metadata": {},
   "outputs": [],
   "source": [
    "from tensorflow.keras.optimizers import Adam"
   ]
  },
  {
   "cell_type": "code",
   "execution_count": 27,
   "metadata": {},
   "outputs": [],
   "source": [
    "dic_pk = PsiNN(layer_sizes=[32,32], n_psi_train=n_psi_train)\n",
    "# dic_pk = PsiNN(layer_sizes=[16, 16], n_psi_train=n_psi_train)\n"
   ]
  },
  {
   "cell_type": "code",
   "execution_count": 28,
   "metadata": {},
   "outputs": [],
   "source": [
    "solver_pk = KoopmanParametricDLSolver(target_dim=target_dim, \n",
    "                                      param_dim=param_dim, \n",
    "                                      n_psi=n_psi,\n",
    "                                      dic=dic_pk)"
   ]
  },
  {
   "cell_type": "code",
   "execution_count": 29,
   "metadata": {},
   "outputs": [],
   "source": [
    "model_pk, model_K_u_pred_pk = solver_pk.generate_model(layer_sizes=[128, 128])"
   ]
  },
  {
   "cell_type": "code",
   "execution_count": 30,
   "metadata": {},
   "outputs": [],
   "source": [
    "zeros_data_y_train = tf.zeros_like(dic_pk(data_y))\n",
    "# zeros_data_y_valid = tf.zeros_like(dic_func_pk(data_y_valid))"
   ]
  },
  {
   "cell_type": "code",
   "execution_count": 31,
   "metadata": {},
   "outputs": [],
   "source": [
    "model_pk.compile(optimizer=Adam(0.0001),\n",
    "             loss='mse')"
   ]
  },
  {
   "cell_type": "code",
   "execution_count": 32,
   "metadata": {},
   "outputs": [],
   "source": [
    "lr_callbacks = tf.keras.callbacks.ReduceLROnPlateau(monitor='loss',\n",
    "                                                    factor=0.1,\n",
    "                                                    patience=50,\n",
    "                                                    verbose=0,\n",
    "                                                    mode='auto',\n",
    "                                                    min_delta=0.0001,\n",
    "                                                    cooldown=0,\n",
    "                                                    min_lr=1e-10)"
   ]
  },
  {
   "cell_type": "code",
   "execution_count": 33,
   "metadata": {
    "scrolled": true
   },
   "outputs": [],
   "source": [
    "# history = model_pk.fit(x=[data_x, data_y, data_u], \n",
    "#                     y=zeros_data_y_train, \n",
    "# #                     validation_data = ([data_x_valid, data_y_valid, data_u_valid], zeros_data_y_valid),\n",
    "#                     epochs=10, \n",
    "#                     batch_size=1024,\n",
    "#                     callbacks=lr_callbacks,\n",
    "#                     verbose=1)"
   ]
  },
  {
   "cell_type": "code",
   "execution_count": 34,
   "metadata": {},
   "outputs": [],
   "source": [
    "# model_pk.save_weights('results/motor_time_delay/pk_motor_time_delay_weights_'+str(nonlinear_param)+'.h5')"
   ]
  },
  {
   "cell_type": "code",
   "execution_count": 35,
   "metadata": {},
   "outputs": [],
   "source": [
    "model_pk.load_weights('results/motor_time_delay/pk_motor_time_delay_weights_'+str(nonlinear_param)+'.h5')"
   ]
  },
  {
   "cell_type": "markdown",
   "metadata": {},
   "source": [
    "## Add LinearK + DL"
   ]
  },
  {
   "cell_type": "code",
   "execution_count": 36,
   "metadata": {},
   "outputs": [],
   "source": [
    "from koopmanlib.param_solver import KoopmanLinearDLSolver"
   ]
  },
  {
   "cell_type": "code",
   "execution_count": 37,
   "metadata": {},
   "outputs": [],
   "source": [
    "dic_linear = PsiNN(layer_sizes=[32,32], n_psi_train=n_psi_train)"
   ]
  },
  {
   "cell_type": "code",
   "execution_count": 38,
   "metadata": {},
   "outputs": [],
   "source": [
    "solver_linear = KoopmanLinearDLSolver(dic=dic_linear, target_dim=target_dim, param_dim=param_dim, n_psi=n_psi)\n",
    "model_linear = solver_linear.build_model()"
   ]
  },
  {
   "cell_type": "code",
   "execution_count": 39,
   "metadata": {
    "scrolled": true
   },
   "outputs": [],
   "source": [
    "# solver_linear.build(model_linear,\n",
    "#                     data_x,\n",
    "#                     data_u, \n",
    "#                     data_y, \n",
    "#                     zeros_data_y_train,\n",
    "#                     epochs=1,\n",
    "#                     batch_size=200,\n",
    "#                     lr=1e-4,\n",
    "#                     log_interval=20,\n",
    "#                     lr_decay_factor=0.8)"
   ]
  },
  {
   "cell_type": "code",
   "execution_count": 40,
   "metadata": {},
   "outputs": [],
   "source": [
    "# model_linear.save_weights('results/motor_time_delay/linearDL_motor_time_delay_weights_'+str(nonlinear_param)+'.h5')"
   ]
  },
  {
   "cell_type": "code",
   "execution_count": 41,
   "metadata": {},
   "outputs": [],
   "source": [
    "model_linear.load_weights('results/motor_time_delay/linearDL_motor_time_delay_weights_'+str(nonlinear_param)+'.h5')"
   ]
  },
  {
   "cell_type": "code",
   "execution_count": null,
   "metadata": {},
   "outputs": [],
   "source": []
  },
  {
   "cell_type": "markdown",
   "metadata": {},
   "source": [
    "# Inverse Problem"
   ]
  },
  {
   "cell_type": "code",
   "execution_count": 42,
   "metadata": {},
   "outputs": [],
   "source": [
    "from scipy.optimize import minimize"
   ]
  },
  {
   "cell_type": "code",
   "execution_count": 43,
   "metadata": {},
   "outputs": [],
   "source": [
    "u_dim = bilinear_motor.param_dim\n",
    "x_dim = bilinear_motor.dim"
   ]
  },
  {
   "cell_type": "code",
   "execution_count": 44,
   "metadata": {},
   "outputs": [],
   "source": [
    "Cy_x = np.asarray([0,1]).reshape(2,1)\n",
    "Cy_zeta = np.asarray([1,0,0]).reshape(3,1)"
   ]
  },
  {
   "cell_type": "code",
   "execution_count": 45,
   "metadata": {},
   "outputs": [],
   "source": [
    "u_past = np.zeros(shape=(1,1), dtype='float64')"
   ]
  },
  {
   "cell_type": "code",
   "execution_count": 46,
   "metadata": {},
   "outputs": [],
   "source": [
    "B = dic_pk.generate_B(data_x)\n",
    "B = tf.reshape(B[:,0], (-1,1))"
   ]
  },
  {
   "cell_type": "code",
   "execution_count": 47,
   "metadata": {},
   "outputs": [],
   "source": [
    "tau = 5\n",
    "extract_control_iter = 300\n",
    "traj_len_test_control = extract_control_iter + tau*u_dim"
   ]
  },
  {
   "cell_type": "code",
   "execution_count": 48,
   "metadata": {},
   "outputs": [],
   "source": [
    "def mpc_loss_pk(param, tau, ref_list, zeta_0, current_time):\n",
    "    param = tf.reshape(param, shape=(param.shape[0], 1, u_dim))\n",
    "    loss_list = []\n",
    "    zeta_lift = dic_pk(zeta_0)\n",
    "    \n",
    "    for i in range(tau):\n",
    "        zeta_lift = model_K_u_pred_pk([param[i], zeta_lift])\n",
    "        y_next = zeta_lift@B\n",
    "        loss_curr = tf.square(tf.norm(ref_list[current_time+i] - y_next))\n",
    "        loss_list.append(loss_curr)\n",
    "    \n",
    "    ref_loss= tf.reduce_sum(loss_list)\n",
    "    param_loss = 0.01 * tf.square(tf.norm(param))\n",
    "    \n",
    "    loss = ref_loss + param_loss\n",
    "    return loss   "
   ]
  },
  {
   "cell_type": "code",
   "execution_count": 49,
   "metadata": {},
   "outputs": [],
   "source": [
    "def mpc_loss_linearDL(param, tau, ref_list, zeta_0, current_time):\n",
    "    param = tf.reshape(param, shape=(param.shape[0], 1, u_dim))\n",
    "    loss_list = []\n",
    "    zeta_curr = zeta_0\n",
    "    \n",
    "    for i in range(tau):\n",
    "        zeta_next = solver_linear.compute_data_list(traj_len=2, data_x_init=zeta_curr, data_u=param[i])[1]\n",
    "        y_next = zeta_next @ Cy_zeta\n",
    "        loss_curr = tf.square(tf.norm(ref_list[current_time+i] - y_next))\n",
    "        loss_list.append(loss_curr)\n",
    "    \n",
    "    ref_loss= tf.reduce_sum(loss_list)\n",
    "    param_loss = 0.01 * tf.square(tf.norm(param))\n",
    "    \n",
    "    loss = ref_loss + param_loss\n",
    "    return loss   "
   ]
  },
  {
   "cell_type": "code",
   "execution_count": 50,
   "metadata": {},
   "outputs": [],
   "source": [
    "def compute_mpc_control(tau, method, ref_soln, zeta_0, x_koop, extract_control_iter, bounds, cons_list):\n",
    "    results_list = []\n",
    "    \n",
    "    if method == 'pk':\n",
    "        for j in range(extract_control_iter):\n",
    "            param_init = np.random.uniform(size=(tau*u_dim,))\n",
    "            results = minimize(mpc_loss_pk, \n",
    "                          x0=param_init,\n",
    "                          args = (tau, ref_soln, zeta_0, j),\n",
    "                          constraints = cons_list,\n",
    "                          bounds=bounds)\n",
    "            u_opt = results.x[0]\n",
    "            u_opt = tf.reshape(u_opt, shape=(-1, u_dim))\n",
    "            x_koop = bilinear_motor.generate_next_data(x_koop, u_opt)  \n",
    "            zeta_0 = tf.concat([x_koop@Cy_x, u_opt, zeta_0[:,:-2]], axis=-1)\n",
    "\n",
    "            num_iter = j+1\n",
    "            if num_iter % 10 ==0:\n",
    "                print('Closed-loop simulation: iterate', num_iter)\n",
    "                print('loss', results.fun)\n",
    "\n",
    "            results_list.append(results.x[0])\n",
    "            print('current time', j)\n",
    "            print('fun', results.fun)\n",
    "            print('control', results.x[0])\n",
    "\n",
    "        new_control = tf.reshape(results_list, shape=(-1,1))\n",
    "        \n",
    "    elif method == 'linearDL':\n",
    "        for j in range(extract_control_iter):\n",
    "            param_init = np.random.uniform(size=(tau*u_dim,))\n",
    "            results = minimize(mpc_loss_linearDL, \n",
    "                          x0=param_init,\n",
    "                          args = (tau, ref_soln, zeta_0, j),\n",
    "                          constraints = cons_list,\n",
    "                          bounds=bounds)\n",
    "            u_opt = results.x[0]\n",
    "            u_opt = tf.reshape(u_opt, shape=(-1, u_dim))\n",
    "            x_koop = bilinear_motor.generate_next_data(x_koop, u_opt)  \n",
    "            zeta_0 = tf.concat([x_koop@Cy_x, u_opt, zeta_0[:,:-2]], axis=-1)\n",
    "\n",
    "            num_iter = j+1\n",
    "            if num_iter % 10 ==0:\n",
    "                print('Closed-loop simulation: iterate', num_iter)\n",
    "                print('loss', results.fun)\n",
    "\n",
    "            results_list.append(results.x[0])\n",
    "            print('current time', j)\n",
    "            print('fun', results.fun)\n",
    "            print('control', results.x[0])\n",
    "\n",
    "        new_control = tf.reshape(results_list, shape=(-1,1))\n",
    "        \n",
    "    return new_control\n",
    "    "
   ]
  },
  {
   "cell_type": "code",
   "execution_count": 51,
   "metadata": {},
   "outputs": [],
   "source": [
    "def pred_by_new_control(x_init, control):\n",
    "    data_pred_control = [x_init]\n",
    "\n",
    "    for i in range(control.shape[0]):\n",
    "        data_pred_next = bilinear_motor.generate_next_data(data_pred_control[-1], control[i])\n",
    "        data_pred_control.append(data_pred_next)\n",
    "\n",
    "    data_pred_control = tf.squeeze(tf.convert_to_tensor(data_pred_control))\n",
    "    return data_pred_control"
   ]
  },
  {
   "cell_type": "code",
   "execution_count": 52,
   "metadata": {},
   "outputs": [],
   "source": [
    "linewidth = 3"
   ]
  },
  {
   "cell_type": "markdown",
   "metadata": {},
   "source": [
    "# Case 1: Piecewise Constant Reference"
   ]
  },
  {
   "cell_type": "code",
   "execution_count": 53,
   "metadata": {},
   "outputs": [],
   "source": [
    "x0_pw = np.asarray([0,0.6]).reshape(1,2)\n",
    "xp_pw = bilinear_motor.generate_next_data(x0_pw, u_past)\n",
    "zeta_0_pw = tf.concat([xp_pw@Cy_x, u_past, x0_pw@Cy_x], axis=-1)"
   ]
  },
  {
   "cell_type": "code",
   "execution_count": 54,
   "metadata": {},
   "outputs": [],
   "source": [
    "## Find Control\n",
    "\n",
    "def generate_piecewise_ref_soln(traj_len):\n",
    "    ref = np.zeros(shape=(traj_len, 1))\n",
    "    for i in range(ref.shape[0]):\n",
    "        if i < 150:\n",
    "            ref[i,:] = -0.3\n",
    "        else:\n",
    "            ref[i,:] = 0.3\n",
    "    return ref\n",
    "\n",
    "ref_soln_pw = generate_piecewise_ref_soln(traj_len=traj_len_test_control)"
   ]
  },
  {
   "cell_type": "code",
   "execution_count": 55,
   "metadata": {},
   "outputs": [],
   "source": [
    "bounds_pw = []\n",
    "for i in range(tau*u_dim):\n",
    "    bounds_pw.append((-1,1))"
   ]
  },
  {
   "cell_type": "code",
   "execution_count": 56,
   "metadata": {
    "scrolled": true
   },
   "outputs": [],
   "source": [
    "# pk_new_control_pw = compute_mpc_control(tau=tau,\n",
    "#                                      method='pk',\n",
    "#                                      ref_soln=ref_soln_pw,\n",
    "#                                      zeta_0=zeta_0_pw, \n",
    "#                                      x_koop=xp_pw,\n",
    "#                                      extract_control_iter=extract_control_iter,\n",
    "#                                      bounds=bounds_pw,\n",
    "#                                      cons_list=None)"
   ]
  },
  {
   "cell_type": "code",
   "execution_count": 57,
   "metadata": {
    "scrolled": true
   },
   "outputs": [],
   "source": [
    "# linearDL_new_control_pw = compute_mpc_control(tau=tau,\n",
    "#                                      method='linearDL',\n",
    "#                                      ref_soln=ref_soln_pw,\n",
    "#                                      zeta_0=zeta_0_pw, \n",
    "#                                      x_koop=xp_pw,\n",
    "#                                      extract_control_iter=extract_control_iter,\n",
    "#                                      bounds=bounds_pw,\n",
    "#                                      cons_list=None)"
   ]
  },
  {
   "cell_type": "code",
   "execution_count": 58,
   "metadata": {},
   "outputs": [],
   "source": [
    "# np.save('results/motor_time_delay/pk_motor_pw_optimized_control_'+str(nonlinear_param)+'.npy', pk_new_control_pw)\n",
    "# np.save('results/motor_time_delay/linearDL_motor_pw_optimized_control_'+str(nonlinear_param)+'.npy', linearDL_new_control_pw)"
   ]
  },
  {
   "cell_type": "markdown",
   "metadata": {},
   "source": [
    "## Substitute the control into Koopman model to predict"
   ]
  },
  {
   "cell_type": "code",
   "execution_count": 59,
   "metadata": {},
   "outputs": [],
   "source": [
    "label_font = 24\n",
    "ticks_font = 18\n",
    "legend_font = 16"
   ]
  },
  {
   "cell_type": "code",
   "execution_count": 60,
   "metadata": {},
   "outputs": [],
   "source": [
    "pk_new_control_pw = np.load('results/motor_time_delay/pk_motor_pw_optimized_control_'+str(nonlinear_param)+'.npy')\n",
    "linearDL_new_control_pw = np.load('results/motor_time_delay/linearDL_motor_pw_optimized_control_'+str(nonlinear_param)+'.npy')"
   ]
  },
  {
   "cell_type": "code",
   "execution_count": 61,
   "metadata": {
    "scrolled": true
   },
   "outputs": [
    {
     "data": {
      "text/plain": [
       "<matplotlib.collections.LineCollection at 0x7fb823c234c0>"
      ]
     },
     "execution_count": 61,
     "metadata": {},
     "output_type": "execute_result"
    },
    {
     "data": {
      "image/png": "[encoded data removed]",
      "text/plain": [
       "<Figure size 576x432 with 1 Axes>"
      ]
     },
     "metadata": {
      "needs_background": "light"
     },
     "output_type": "display_data"
    }
   ],
   "source": [
    "plt.figure(figsize=(8,6))\n",
    "\n",
    "\n",
    "plt.plot(linearDL_new_control_pw, label='LinearK-EDMD-DL + MPC', color='forestgreen', linewidth=linewidth)\n",
    "plt.plot(pw_control_linear_rbf, label='LinearK-EDMD-RBF + MPC', color='darkorange', linewidth=linewidth)\n",
    "plt.plot(pk_new_control_pw, label='PK-EDMD-DL + MPC', color='steelblue', linewidth=linewidth)\n",
    "\n",
    "\n",
    "plt.xlabel(r'$n$', fontsize=label_font)\n",
    "plt.ylabel('Control', fontsize=label_font)\n",
    "plt.xticks(fontsize=ticks_font)\n",
    "plt.yticks(fontsize=ticks_font)\n",
    "plt.hlines(-1.0, 0, 300,  colors='k', linestyles='--', linewidth=linewidth)\n",
    "plt.hlines(1.0, 0, 300,  colors='k', linestyles='--', linewidth=linewidth)\n",
    "# plt.legend(fontsize=legend_font, loc=(1.2, 0))\n",
    "\n",
    "# plt.savefig('results/motor_time_delay/figures/new/pw_motor_learned_control_'+str(nonlinear_param)+'.png', dpi=200, bbox_inches='tight')\n",
    "# plt.savefig('results/motor_time_delay/figures/new/pw_motor_learned_control_'+str(nonlinear_param)+'.pdf', dpi=200, bbox_inches='tight')"
   ]
  },
  {
   "cell_type": "code",
   "execution_count": 62,
   "metadata": {},
   "outputs": [],
   "source": [
    "x_init_pw = tf.reshape(xp_pw, shape=(-1, x_dim))"
   ]
  },
  {
   "cell_type": "code",
   "execution_count": 63,
   "metadata": {},
   "outputs": [],
   "source": [
    "pk_data_pred_control_pw = pred_by_new_control(x_init_pw, pk_new_control_pw)\n",
    "linearDL_data_pred_control_pw = pred_by_new_control(x_init_pw, linearDL_new_control_pw)"
   ]
  },
  {
   "cell_type": "code",
   "execution_count": 64,
   "metadata": {
    "scrolled": false
   },
   "outputs": [
    {
     "data": {
      "text/plain": [
       "(array([-0.4, -0.2,  0. ,  0.2,  0.4,  0.6,  0.8]),\n",
       " [Text(0, 0, ''),\n",
       "  Text(0, 0, ''),\n",
       "  Text(0, 0, ''),\n",
       "  Text(0, 0, ''),\n",
       "  Text(0, 0, ''),\n",
       "  Text(0, 0, ''),\n",
       "  Text(0, 0, '')])"
      ]
     },
     "execution_count": 64,
     "metadata": {},
     "output_type": "execute_result"
    },
    {
     "data": {
      "image/png": "[encoded data removed]",
      "text/plain": [
       "<Figure size 576x432 with 1 Axes>"
      ]
     },
     "metadata": {
      "needs_background": "light"
     },
     "output_type": "display_data"
    }
   ],
   "source": [
    "plt.figure(figsize=(8,6))\n",
    "\n",
    "plt.plot(linearDL_data_pred_control_pw[:,1], label='LinearK-EDMD-DL + MPC', color='forestgreen', linewidth=linewidth)\n",
    "plt.plot(pw_pred_linear_rbf[:,1], label='LinearK-EDMD-RBF + MPC', color='darkorange', linewidth=linewidth)\n",
    "plt.plot(ref_soln_pw[:301], '--', label='Reference', color='brown', linewidth=linewidth)\n",
    "plt.plot(pk_data_pred_control_pw[:,1], label='PK-EDMD-DL + MPC', color='steelblue', linewidth=linewidth)\n",
    "\n",
    "plt.xlabel(r'$n$', fontsize=label_font)\n",
    "plt.ylabel(r'$y$', fontsize=label_font)\n",
    "plt.xticks(fontsize=ticks_font)\n",
    "plt.yticks(fontsize=ticks_font)\n",
    "# # plt.legend(fontsize=legend_font)\n",
    "# plt.legend(fontsize=legend_font, loc=(0.05, 0.68))\n",
    "\n",
    "\n",
    "# plt.savefig('results/motor_time_delay/figures/new/pw_motor_learned_pk_'+str(nonlinear_param)+'.png', dpi=200, bbox_inches='tight')\n",
    "# plt.savefig('results/motor_time_delay/figures/new/pw_motor_learned_pk_'+str(nonlinear_param)+'.pdf', dpi=200, bbox_inches='tight')"
   ]
  },
  {
   "cell_type": "code",
   "execution_count": null,
   "metadata": {},
   "outputs": [],
   "source": []
  },
  {
   "cell_type": "code",
   "execution_count": null,
   "metadata": {
    "scrolled": true
   },
   "outputs": [],
   "source": []
  },
  {
   "cell_type": "code",
   "execution_count": null,
   "metadata": {},
   "outputs": [],
   "source": []
  },
  {
   "cell_type": "code",
   "execution_count": null,
   "metadata": {},
   "outputs": [],
   "source": []
  },
  {
   "cell_type": "markdown",
   "metadata": {},
   "source": [
    "# Case 2: Time-varying Reference"
   ]
  },
  {
   "cell_type": "markdown",
   "metadata": {},
   "source": [
    "## Add constraints for $y$"
   ]
  },
  {
   "cell_type": "code",
   "execution_count": 65,
   "metadata": {},
   "outputs": [],
   "source": [
    "def generate_cons_y_lhs(x):\n",
    "    def cons_y(u):\n",
    "        u = tf.reshape(u[0], shape=(1, u_dim))\n",
    "        x_next = bilinear_motor.generate_next_data(tf.reshape(x, shape=(-1,x_dim)), u)\n",
    "        y = x_next @ Cy_x\n",
    "        return np.squeeze(y) + 0.4\n",
    "    return cons_y\n",
    "\n",
    "def generate_cons_y_rhs(x):\n",
    "    def cons_y(u):\n",
    "        u = tf.reshape(u[0], shape=(1, u_dim))\n",
    "        x_next = bilinear_motor.generate_next_data(tf.reshape(x, shape=(-1,x_dim)), u)\n",
    "        y = x_next @ Cy_x\n",
    "        return -np.squeeze(y) + 0.4\n",
    "    return cons_y"
   ]
  },
  {
   "cell_type": "markdown",
   "metadata": {},
   "source": [
    "## Find Control"
   ]
  },
  {
   "cell_type": "code",
   "execution_count": 66,
   "metadata": {},
   "outputs": [],
   "source": [
    "x0_cos = np.asarray([-0.1,0.1]).reshape(1,2)\n",
    "xp_cos = bilinear_motor.generate_next_data(x0_cos, u_past)\n",
    "zeta_0_cos = tf.concat([xp_cos@Cy_x, u_past, x0_cos@Cy_x], axis=-1)"
   ]
  },
  {
   "cell_type": "code",
   "execution_count": 67,
   "metadata": {},
   "outputs": [],
   "source": [
    "def generate_cos_ref_soln(traj_len):\n",
    "    t = np.linspace(0, 1, traj_len, endpoint=False)\n",
    "    control = 0.5 * np.cos(2 * np.pi * t ) # Here I do not /3 because have scaled in t (np.linspace)\n",
    "    return control"
   ]
  },
  {
   "cell_type": "code",
   "execution_count": 68,
   "metadata": {},
   "outputs": [],
   "source": [
    "ref_soln_cos = generate_cos_ref_soln(traj_len_test_control)"
   ]
  },
  {
   "cell_type": "code",
   "execution_count": 69,
   "metadata": {},
   "outputs": [],
   "source": [
    "def compute_mpc_control_cos(tau, method, ref_soln, zeta_0, x_koop, extract_control_iter, bounds):\n",
    "    results_list = []\n",
    "    \n",
    "    if method == 'pk':\n",
    "        for j in range(extract_control_iter):\n",
    "            param_init = np.random.uniform(size=(tau*u_dim,))\n",
    "\n",
    "            cons_list = []\n",
    "            cons_y_lhs = generate_cons_y_lhs(x_koop)\n",
    "            cons_y_rhs = generate_cons_y_rhs(x_koop)\n",
    "            cons_y_dic_lhs = {'type': 'ineq', 'fun': cons_y_lhs}\n",
    "            cons_y_dic_rhs = {'type': 'ineq', 'fun': cons_y_rhs}\n",
    "            cons_list.append(cons_y_dic_lhs)\n",
    "            cons_list.append(cons_y_dic_rhs)\n",
    "\n",
    "\n",
    "\n",
    "            results = minimize(mpc_loss_pk, \n",
    "                          x0=param_init,\n",
    "                          args = (tau, ref_soln, zeta_0, j),\n",
    "                            bounds=bounds,\n",
    "                          constraints = cons_list)\n",
    "            u_opt = results.x[0]\n",
    "            u_opt = tf.reshape(u_opt, shape=(-1, u_dim))\n",
    "            x_koop = bilinear_motor.generate_next_data(x_koop, u_opt)  \n",
    "            zeta_0 = tf.concat([x_koop@Cy_x, u_opt, zeta_0[:,:-2]], axis=-1)\n",
    "\n",
    "            num_iter = j+1\n",
    "            if num_iter % 10 ==0:\n",
    "                print('Closed-loop simulation: iterate', num_iter)\n",
    "                print('loss', results.fun)\n",
    "\n",
    "            results_list.append(results.x[0])\n",
    "            print('current time', j)\n",
    "            print('fun', results.fun)\n",
    "            print('control', results.x[0])\n",
    "\n",
    "        new_control = tf.reshape(results_list, shape=(-1,1))\n",
    "        \n",
    "    elif method == 'linearDL':\n",
    "        for j in range(extract_control_iter):\n",
    "            param_init = np.random.uniform(size=(tau*u_dim,))\n",
    "\n",
    "            cons_list = []\n",
    "            cons_y_lhs = generate_cons_y_lhs(x_koop)\n",
    "            cons_y_rhs = generate_cons_y_rhs(x_koop)\n",
    "            cons_y_dic_lhs = {'type': 'ineq', 'fun': cons_y_lhs}\n",
    "            cons_y_dic_rhs = {'type': 'ineq', 'fun': cons_y_rhs}\n",
    "            cons_list.append(cons_y_dic_lhs)\n",
    "            cons_list.append(cons_y_dic_rhs)\n",
    "\n",
    "\n",
    "\n",
    "            results = minimize(mpc_loss_linearDL, \n",
    "                          x0=param_init,\n",
    "                          args = (tau, ref_soln, zeta_0, j),\n",
    "                          constraints = cons_list,\n",
    "                          bounds=bounds)\n",
    "            u_opt = results.x[0]\n",
    "            u_opt = tf.reshape(u_opt, shape=(-1, u_dim))\n",
    "            x_koop = bilinear_motor.generate_next_data(x_koop, u_opt)  \n",
    "            zeta_0 = tf.concat([x_koop@Cy_x, u_opt, zeta_0[:,:-2]], axis=-1)\n",
    "\n",
    "            num_iter = j+1\n",
    "            if num_iter % 10 ==0:\n",
    "                print('Closed-loop simulation: iterate', num_iter)\n",
    "                print('loss', results.fun)\n",
    "\n",
    "            results_list.append(results.x[0])\n",
    "            print('current time', j)\n",
    "            print('fun', results.fun)\n",
    "            print('control', results.x[0])\n",
    "\n",
    "        new_control = tf.reshape(results_list, shape=(-1,1))\n",
    "        \n",
    "    return new_control"
   ]
  },
  {
   "cell_type": "code",
   "execution_count": 70,
   "metadata": {},
   "outputs": [],
   "source": [
    "bounds_cos = []\n",
    "for i in range(tau*u_dim):\n",
    "    bounds_cos.append((-1,1))"
   ]
  },
  {
   "cell_type": "code",
   "execution_count": 71,
   "metadata": {
    "scrolled": true
   },
   "outputs": [],
   "source": [
    "# pk_new_control_cos = compute_mpc_control_cos(tau=tau, method='pk',\n",
    "#                     ref_soln=ref_soln_cos,\n",
    "#                     zeta_0=zeta_0_cos, \n",
    "#                     x_koop=xp_cos,\n",
    "#                     extract_control_iter=extract_control_iter,\n",
    "#                     bounds=bounds_cos)"
   ]
  },
  {
   "cell_type": "code",
   "execution_count": 72,
   "metadata": {
    "scrolled": true
   },
   "outputs": [],
   "source": [
    "# linearDL_new_control_cos = compute_mpc_control_cos(tau=tau,\n",
    "#                                      method='linearDL',\n",
    "#                                      ref_soln=ref_soln_cos,\n",
    "#                                      zeta_0=zeta_0_cos, \n",
    "#                                      x_koop=xp_cos,\n",
    "#                                      extract_control_iter=extract_control_iter,\n",
    "#                                      bounds=bounds_cos)"
   ]
  },
  {
   "cell_type": "code",
   "execution_count": 73,
   "metadata": {},
   "outputs": [],
   "source": [
    "# np.save('results/motor_time_delay/motor_cos_optimized_control_'+str(nonlinear_param)+'.npy', new_control_cos)"
   ]
  },
  {
   "cell_type": "markdown",
   "metadata": {},
   "source": [
    "## Substitute the control into Koopman model to predict"
   ]
  },
  {
   "cell_type": "code",
   "execution_count": 74,
   "metadata": {},
   "outputs": [],
   "source": [
    "pk_new_control_cos = np.load('results/motor_time_delay/pk_motor_cos_optimized_control_'+str(nonlinear_param)+'.npy')\n",
    "linearDL_new_control_cos = np.load('results/motor_time_delay/linearDL_motor_cos_optimized_control_'+str(nonlinear_param)+'.npy')"
   ]
  },
  {
   "cell_type": "code",
   "execution_count": 75,
   "metadata": {},
   "outputs": [
    {
     "data": {
      "text/plain": [
       "<matplotlib.collections.LineCollection at 0x7fb8240715e0>"
      ]
     },
     "execution_count": 75,
     "metadata": {},
     "output_type": "execute_result"
    },
    {
     "data": {
      "image/png": "[encoded data removed]",
      "text/plain": [
       "<Figure size 576x432 with 1 Axes>"
      ]
     },
     "metadata": {
      "needs_background": "light"
     },
     "output_type": "display_data"
    }
   ],
   "source": [
    "plt.figure(figsize=(8,6))\n",
    "\n",
    "\n",
    "plt.plot(linearDL_new_control_cos, label='LinearK-EDMD-DL + MPC', color='forestgreen', linewidth=linewidth)\n",
    "plt.plot(cos_control_linear_rbf, label='LinearK-EDMD-RBF + MPC', color='darkorange', linewidth=linewidth)\n",
    "plt.plot(pk_new_control_cos, label='PK-EDMD-DL + MPC', color='steelblue', linewidth=linewidth)\n",
    "\n",
    "plt.xlabel(r'$n$', fontsize=label_font)\n",
    "plt.ylabel('Control', fontsize=label_font)\n",
    "plt.xticks(fontsize=ticks_font)\n",
    "plt.yticks(fontsize=ticks_font)\n",
    "plt.hlines(0.0, 0, 300,  colors='k', linestyles='--', linewidth=linewidth)\n",
    "plt.hlines(1.0, 0, 300,  colors='k', linestyles='--', linewidth=linewidth)\n",
    "# plt.legend(fontsize=legend_font)\n",
    "# plt.legend(fontsize=legend_font, loc=(1.05, 0))\n",
    "\n",
    "# plt.savefig('results/motor_time_delay/figures/new/cos_motor_learned_control_'+str(nonlinear_param)+'.png', dpi=200, bbox_inches='tight')\n",
    "# plt.savefig('results/motor_time_delay/figures/new/cos_motor_learned_control_'+str(nonlinear_param)+'.pdf', dpi=200, bbox_inches='tight')"
   ]
  },
  {
   "cell_type": "code",
   "execution_count": 76,
   "metadata": {},
   "outputs": [],
   "source": [
    "x_init_cos = tf.reshape(xp_cos, shape=(-1, x_dim))"
   ]
  },
  {
   "cell_type": "code",
   "execution_count": 77,
   "metadata": {},
   "outputs": [],
   "source": [
    "pk_data_pred_control_cos = pred_by_new_control(x_init_cos, pk_new_control_cos)\n",
    "linearDL_data_pred_control_cos = pred_by_new_control(x_init_cos, linearDL_new_control_cos)"
   ]
  },
  {
   "cell_type": "code",
   "execution_count": 78,
   "metadata": {},
   "outputs": [
    {
     "data": {
      "text/plain": [
       "(array([-0.6, -0.4, -0.2,  0. ,  0.2,  0.4,  0.6]),\n",
       " [Text(0, 0, ''),\n",
       "  Text(0, 0, ''),\n",
       "  Text(0, 0, ''),\n",
       "  Text(0, 0, ''),\n",
       "  Text(0, 0, ''),\n",
       "  Text(0, 0, ''),\n",
       "  Text(0, 0, '')])"
      ]
     },
     "execution_count": 78,
     "metadata": {},
     "output_type": "execute_result"
    },
    {
     "data": {
      "image/png": "[encoded data removed]",
      "text/plain": [
       "<Figure size 576x432 with 1 Axes>"
      ]
     },
     "metadata": {
      "needs_background": "light"
     },
     "output_type": "display_data"
    }
   ],
   "source": [
    "plt.figure(figsize=(8,6))\n",
    "\n",
    "\n",
    "plt.plot(linearDL_data_pred_control_cos[:,1], label='LinearK-EDMD-DL + MPC', color='forestgreen', linewidth=linewidth)\n",
    "plt.plot(cos_pred_linear_rbf[:,1], label='LinearK-EDMD-RBF + MPC', color='darkorange', linewidth=linewidth)\n",
    "plt.plot(ref_soln_cos[:301], '--', label='Reference', color='brown', linewidth=linewidth)\n",
    "plt.plot(pk_data_pred_control_cos[:,1], label='PK-EDMD-DL + MPC', color='steelblue', linewidth=linewidth)\n",
    "\n",
    "plt.xlabel(r'$n$', fontsize=label_font)\n",
    "plt.ylabel(r'$y$', fontsize=label_font)\n",
    "plt.hlines(-0.4, 0, 300,  colors='k', linestyles='--', linewidth=linewidth)\n",
    "plt.hlines(0.4, 0, 300,  colors='k', linestyles='--', linewidth=linewidth)\n",
    "plt.xticks(fontsize=ticks_font)\n",
    "plt.yticks(fontsize=ticks_font)\n",
    "# plt.legend(fontsize=legend_font)\n",
    "# plt.legend(fontsize=legend_font, loc=(1.05, 0))\n",
    "\n",
    "# plt.savefig('results/motor_time_delay/figures/new/cos_motor_learned_pk_'+str(nonlinear_param)+'.png', dpi=200, bbox_inches='tight')\n",
    "# plt.savefig('results/motor_time_delay/figures/new/cos_motor_learned_pk_'+str(nonlinear_param)+'.pdf', dpi=200, bbox_inches='tight')"
   ]
  },
  {
   "cell_type": "code",
   "execution_count": 79,
   "metadata": {},
   "outputs": [
    {
     "name": "stdout",
     "output_type": "stream",
     "text": [
      "50 pw error linear rbf 0.006933886494641195\n",
      "50 pw error linear dl 0.010697830935885076\n",
      "50 pw error pk 0.0076872949851014335\n"
     ]
    }
   ],
   "source": [
    "pw_diff_linear_rbf = np.mean((pw_pred_linear_rbf[:,1].reshape(-1,1) - ref_soln_pw[:301].reshape(-1,1))**2)\n",
    "pw_diff_linear_dl = np.mean((linearDL_data_pred_control_pw[:,1].numpy().reshape(-1,1) - ref_soln_pw[:301].reshape(-1,1))**2)\n",
    "pw_diff_pk = np.mean((pk_data_pred_control_pw[:,1].numpy().reshape(-1,1) - ref_soln_pw[:301].reshape(-1,1))**2)\n",
    "\n",
    "print(str(nonlinear_param)+' pw error linear rbf', pw_diff_linear_rbf)\n",
    "print(str(nonlinear_param)+' pw error linear dl', pw_diff_linear_dl)\n",
    "print(str(nonlinear_param)+' pw error pk', pw_diff_pk)"
   ]
  },
  {
   "cell_type": "code",
   "execution_count": 80,
   "metadata": {},
   "outputs": [
    {
     "name": "stdout",
     "output_type": "stream",
     "text": [
      "50 cos error linear rbf 0.012849252469971376\n",
      "50 cos error linear dl 0.012712596287766593\n",
      "50 cos error pk 0.012442180442781224\n"
     ]
    }
   ],
   "source": [
    "cos_diff_linear_rbf = np.mean((cos_pred_linear_rbf[:,1].reshape(-1,1) - ref_soln_cos[:301].reshape(-1,1))**2)\n",
    "cos_diff_linear_dl = np.mean((linearDL_data_pred_control_cos[:,1].numpy().reshape(-1,1) - ref_soln_cos[:301].reshape(-1,1))**2)\n",
    "cos_diff_pk = np.mean((pk_data_pred_control_cos[:,1].numpy().reshape(-1,1) - ref_soln_cos[:301].reshape(-1,1))**2)\n",
    "\n",
    "print(str(nonlinear_param)+' cos error linear rbf', cos_diff_linear_rbf)\n",
    "print(str(nonlinear_param)+' cos error linear dl', cos_diff_linear_dl)\n",
    "print(str(nonlinear_param)+' cos error pk', cos_diff_pk)"
   ]
  },
  {
   "cell_type": "code",
   "execution_count": null,
   "metadata": {},
   "outputs": [],
   "source": []
  }
 ],
 "metadata": {
  "kernelspec": {
   "display_name": "koopman",
   "language": "python",
   "name": "koopman"
  },
  "language_info": {
   "codemirror_mode": {
    "name": "ipython",
    "version": 3
   },
   "file_extension": ".py",
   "mimetype": "text/x-python",
   "name": "python",
   "nbconvert_exporter": "python",
   "pygments_lexer": "ipython3",
   "version": "3.8.3"
  }
 },
 "nbformat": 4,
 "nbformat_minor": 2
}
