{
 "cells": [
  {
   "cell_type": "code",
   "execution_count": 1,
   "metadata": {},
   "outputs": [],
   "source": [
    "import os; os.environ['CUDA_VISIBLE_DEVICES'] = '-1'"
   ]
  },
  {
   "cell_type": "code",
   "execution_count": 2,
   "metadata": {},
   "outputs": [],
   "source": [
    "%load_ext autoreload\n",
    "%autoreload 2"
   ]
  },
  {
   "cell_type": "code",
   "execution_count": 3,
   "metadata": {},
   "outputs": [
    {
     "ename": "ModuleNotFoundError",
     "evalue": "No module named 'pandas'",
     "output_type": "error",
     "traceback": [
      "\u001b[0;31m---------------------------------------------------------------------------\u001b[0m",
      "\u001b[0;31mModuleNotFoundError\u001b[0m                       Traceback (most recent call last)",
      "Input \u001b[0;32mIn [3]\u001b[0m, in \u001b[0;36m<cell line: 3>\u001b[0;34m()\u001b[0m\n\u001b[1;32m      1\u001b[0m \u001b[38;5;28;01mimport\u001b[39;00m \u001b[38;5;21;01mnumpy\u001b[39;00m \u001b[38;5;28;01mas\u001b[39;00m \u001b[38;5;21;01mnp\u001b[39;00m\n\u001b[1;32m      2\u001b[0m \u001b[38;5;28;01mimport\u001b[39;00m \u001b[38;5;21;01mtensorflow\u001b[39;00m \u001b[38;5;28;01mas\u001b[39;00m \u001b[38;5;21;01mtf\u001b[39;00m\n\u001b[0;32m----> 3\u001b[0m \u001b[38;5;28;01mimport\u001b[39;00m \u001b[38;5;21;01mpandas\u001b[39;00m \u001b[38;5;28;01mas\u001b[39;00m \u001b[38;5;21;01mpd\u001b[39;00m\n",
      "\u001b[0;31mModuleNotFoundError\u001b[0m: No module named 'pandas'"
     ]
    }
   ],
   "source": [
    "import numpy as np\n",
    "import tensorflow as tf\n",
    "import pandas as pd"
   ]
  },
  {
   "cell_type": "code",
   "execution_count": null,
   "metadata": {},
   "outputs": [],
   "source": [
    "from tensorflow.keras.optimizers import Adam\n",
    "from tensorflow.keras.layers import Layer, Dense\n",
    "from tensorflow.keras.layers import Input\n",
    "from tensorflow.keras.models import Model"
   ]
  },
  {
   "cell_type": "code",
   "execution_count": null,
   "metadata": {},
   "outputs": [],
   "source": [
    "import matplotlib.pyplot as plt"
   ]
  },
  {
   "cell_type": "code",
   "execution_count": null,
   "metadata": {},
   "outputs": [],
   "source": [
    "from koopmanlib.dictionary import PsiNN\n",
    "from koopmanlib.target import BilinearMotorTarget"
   ]
  },
  {
   "cell_type": "code",
   "execution_count": null,
   "metadata": {},
   "outputs": [],
   "source": [
    "target_dim = 3\n",
    "param_dim = 1\n",
    "n_phi = 10\n",
    "n_psi_train = 100\n",
    "n_psi = 1 + target_dim + n_psi_train\n",
    "n_init = 1000\n",
    "traj_len = 500"
   ]
  },
  {
   "cell_type": "code",
   "execution_count": null,
   "metadata": {},
   "outputs": [],
   "source": [
    "X = pd.read_csv('results/motor_time_delay/data/X.csv', header=None)\n",
    "Y = pd.read_csv('results/motor_time_delay/data/Y.csv', header=None)\n",
    "U = pd.read_csv('results/motor_time_delay/data/U.csv', header=None)"
   ]
  },
  {
   "cell_type": "code",
   "execution_count": null,
   "metadata": {
    "scrolled": true
   },
   "outputs": [],
   "source": [
    "data_x = X.values.T\n",
    "data_y = Y.values.T\n",
    "data_u = U.values.T"
   ]
  },
  {
   "cell_type": "code",
   "execution_count": null,
   "metadata": {},
   "outputs": [],
   "source": [
    "step_pred_linear = pd.read_csv('results/motor_time_delay/data/step_pred.csv', header=None)\n",
    "step_yrr_linear = pd.read_csv('results/motor_time_delay/data/step_yrr.csv', header=None)\n",
    "\n",
    "cos_pred_linear = pd.read_csv('results/motor_time_delay/data/cos_pred.csv', header=None)\n",
    "cos_yrr_linear = pd.read_csv('results/motor_time_delay/data/cos_yrr.csv', header=None)\n",
    "\n",
    "step_pred_linear = step_pred_linear.values.T\n",
    "step_yrr_linear = step_yrr_linear.values.T\n",
    "\n",
    "cos_pred_linear = cos_pred_linear.values.T\n",
    "cos_yrr_linear = cos_yrr_linear.values.T"
   ]
  },
  {
   "cell_type": "code",
   "execution_count": null,
   "metadata": {},
   "outputs": [],
   "source": [
    "bilinear_motor = BilinearMotorTarget(n_init=n_init,traj_len=traj_len, seed_x=2, seed_param=123)\n",
    "# data_x, data_u = bilinear_motor.generate_init_data()\n",
    "# data_y = bilinear_motor.generate_next_data(data_x, data_u)"
   ]
  },
  {
   "cell_type": "code",
   "execution_count": null,
   "metadata": {},
   "outputs": [],
   "source": [
    "# bilinear_motor_valid = BilinearMotorTarget(n_init=100,traj_len=300, seed_x=123, seed_param=111)\n",
    "# data_x_valid, data_u_valid = bilinear_motor_valid.generate_init_data_v1()\n",
    "# data_y_valid = bilinear_motor_valid.generate_next_data(data_x_valid, data_u_valid)"
   ]
  },
  {
   "cell_type": "markdown",
   "metadata": {},
   "source": [
    "# Build model"
   ]
  },
  {
   "cell_type": "code",
   "execution_count": null,
   "metadata": {},
   "outputs": [],
   "source": [
    "from koopmanlib.dictionary import PsiNN\n",
    "from koopmanlib.param_solver import KoopmanParametricDLSolver"
   ]
  },
  {
   "cell_type": "code",
   "execution_count": null,
   "metadata": {},
   "outputs": [],
   "source": [
    "from tensorflow.keras.optimizers import Adam"
   ]
  },
  {
   "cell_type": "code",
   "execution_count": null,
   "metadata": {},
   "outputs": [],
   "source": [
    "dic_pk = PsiNN(layer_sizes=[16,16], n_psi_train=n_psi_train)"
   ]
  },
  {
   "cell_type": "code",
   "execution_count": null,
   "metadata": {},
   "outputs": [],
   "source": [
    "solver_pk = KoopmanParametricDLSolver(target_dim=target_dim, \n",
    "                                      param_dim=param_dim, \n",
    "                                      n_psi=n_psi,\n",
    "                                      dic=dic_pk)"
   ]
  },
  {
   "cell_type": "code",
   "execution_count": null,
   "metadata": {},
   "outputs": [],
   "source": [
    "model_pk, model_K_u_pred_pk = solver_pk.generate_model(layer_sizes=[64,64])"
   ]
  },
  {
   "cell_type": "code",
   "execution_count": null,
   "metadata": {},
   "outputs": [],
   "source": [
    "zeros_data_y_train = tf.zeros_like(dic_pk(data_y))\n",
    "# zeros_data_y_valid = tf.zeros_like(dic_func_pk(data_y_valid))"
   ]
  },
  {
   "cell_type": "code",
   "execution_count": null,
   "metadata": {},
   "outputs": [],
   "source": [
    "model_pk.compile(optimizer=Adam(0.0001),\n",
    "             loss='mse')"
   ]
  },
  {
   "cell_type": "code",
   "execution_count": null,
   "metadata": {},
   "outputs": [],
   "source": [
    "lr_callbacks = tf.keras.callbacks.ReduceLROnPlateau(monitor='loss',\n",
    "                                                    factor=0.1,\n",
    "                                                    patience=50,\n",
    "                                                    verbose=0,\n",
    "                                                    mode='auto',\n",
    "                                                    min_delta=0.0001,\n",
    "                                                    cooldown=0,\n",
    "                                                    min_lr=1e-10)"
   ]
  },
  {
   "cell_type": "code",
   "execution_count": null,
   "metadata": {
    "scrolled": true
   },
   "outputs": [],
   "source": [
    "# history = model_pk.fit(x=[data_x, data_y, data_u], \n",
    "#                     y=zeros_data_y_train, \n",
    "# #                     validation_data = ([data_x_valid, data_y_valid, data_u_valid], zeros_data_y_valid),\n",
    "#                     epochs=100, \n",
    "#                     batch_size=1024,\n",
    "#                     callbacks=lr_callbacks,\n",
    "#                     verbose=1)"
   ]
  },
  {
   "cell_type": "code",
   "execution_count": null,
   "metadata": {},
   "outputs": [],
   "source": [
    "# model_pk.save_weights('results/motor_time_delay/motor_time_delay.weights.h5')"
   ]
  },
  {
   "cell_type": "code",
   "execution_count": null,
   "metadata": {},
   "outputs": [],
   "source": [
    "model_pk.load_weights('results/motor_time_delay/motor_time_delay.weights.h5')"
   ]
  },
  {
   "cell_type": "markdown",
   "metadata": {},
   "source": [
    "# Inverse Problem"
   ]
  },
  {
   "cell_type": "code",
   "execution_count": null,
   "metadata": {},
   "outputs": [],
   "source": [
    "from scipy.optimize import minimize"
   ]
  },
  {
   "cell_type": "code",
   "execution_count": null,
   "metadata": {},
   "outputs": [],
   "source": [
    "u_dim = bilinear_motor.param_dim\n",
    "x_dim = bilinear_motor.dim"
   ]
  },
  {
   "cell_type": "code",
   "execution_count": null,
   "metadata": {},
   "outputs": [],
   "source": [
    "Cy = np.asarray([0,1]).reshape(2,1)"
   ]
  },
  {
   "cell_type": "code",
   "execution_count": null,
   "metadata": {},
   "outputs": [],
   "source": [
    "u_past = np.zeros(shape=(1,1), dtype='float64')"
   ]
  },
  {
   "cell_type": "code",
   "execution_count": null,
   "metadata": {},
   "outputs": [],
   "source": [
    "B = dic_pk.generate_B(data_x)\n",
    "B = tf.reshape(B[:,0], (-1,1))"
   ]
  },
  {
   "cell_type": "code",
   "execution_count": null,
   "metadata": {},
   "outputs": [],
   "source": [
    "tau = 5\n",
    "extract_control_iter = 300\n",
    "traj_len_test_control = extract_control_iter + tau*u_dim"
   ]
  },
  {
   "cell_type": "code",
   "execution_count": null,
   "metadata": {},
   "outputs": [],
   "source": [
    "def mpc_loss(param, tau, model_K_u_pred, ref_list, zeta_0, dic_func, current_time):\n",
    "    param = tf.reshape(param, shape=(param.shape[0], 1, u_dim))\n",
    "    loss_list = []\n",
    "    zeta_lift = dic_func(zeta_0)\n",
    "    \n",
    "    for i in range(tau):\n",
    "        zeta_lift = model_K_u_pred([param[i], zeta_lift])\n",
    "        y_next = zeta_lift@B\n",
    "        loss_curr = tf.square(tf.norm(ref_list[current_time+i] - y_next))\n",
    "        loss_list.append(loss_curr)\n",
    "    \n",
    "    ref_loss= tf.reduce_sum(loss_list)\n",
    "    param_loss = 0.01 * tf.square(tf.norm(param))\n",
    "    \n",
    "    loss = ref_loss + param_loss\n",
    "    return loss   "
   ]
  },
  {
   "cell_type": "code",
   "execution_count": null,
   "metadata": {},
   "outputs": [],
   "source": [
    "def compute_mpc_control(tau, model_K_u_pred_pk, ref_soln, zeta_0, x_koop, dic_func, extract_control_iter, bounds, cons_list):\n",
    "    results_list = []\n",
    "    for j in range(extract_control_iter):\n",
    "        param_init = np.random.uniform(size=(tau*u_dim,))\n",
    "        results = minimize(mpc_loss, \n",
    "                      x0=param_init,\n",
    "                      args = (tau, model_K_u_pred_pk, ref_soln, zeta_0, dic_func, j),\n",
    "                      constraints = cons_list,\n",
    "                      bounds=bounds)\n",
    "        u_opt = results.x[0]\n",
    "        u_opt = tf.reshape(u_opt, shape=(-1, u_dim))\n",
    "        x_koop = bilinear_motor.generate_next_data(x_koop, u_opt)  \n",
    "        zeta_0 = tf.concat([x_koop@Cy, u_opt, zeta_0[:,:-2]], axis=-1)\n",
    "\n",
    "#         if j == extract_control_iter-1:\n",
    "#             for m in range(tau*u_dim):\n",
    "#                 results_list.append(results.x[m])\n",
    "#         else:        \n",
    "#             results_list.append(results.x[0])\n",
    "\n",
    "        num_iter = j+1\n",
    "        if num_iter % 10 ==0:\n",
    "            print('Closed-loop simulation: iterate', num_iter)\n",
    "            print('loss', results.fun)\n",
    "            \n",
    "        results_list.append(results.x[0])\n",
    "        print('current time', j)\n",
    "        print('fun', results.fun)\n",
    "        print('control', results.x[0])\n",
    "        \n",
    "    new_control = tf.reshape(results_list, shape=(-1,1))\n",
    "    return new_control\n",
    "    "
   ]
  },
  {
   "cell_type": "markdown",
   "metadata": {},
   "source": [
    "# Case 1: Piecewise Constant Reference"
   ]
  },
  {
   "cell_type": "code",
   "execution_count": null,
   "metadata": {},
   "outputs": [],
   "source": [
    "x0_pw = np.asarray([0,0.6]).reshape(1,2)\n",
    "xp_pw = bilinear_motor.generate_next_data(x0_pw, u_past)\n",
    "zeta_0_pw = tf.concat([xp_pw@Cy, u_past, x0_pw@Cy], axis=-1)"
   ]
  },
  {
   "cell_type": "code",
   "execution_count": null,
   "metadata": {},
   "outputs": [],
   "source": [
    "## Find Control\n",
    "\n",
    "def generate_piecewise_ref_soln(traj_len):\n",
    "    ref = np.zeros(shape=(traj_len, 1))\n",
    "    for i in range(ref.shape[0]):\n",
    "        if i < 150:\n",
    "            ref[i,:] = -0.3\n",
    "        else:\n",
    "            ref[i,:] = 0.3\n",
    "    return ref\n",
    "\n",
    "ref_soln_pw = generate_piecewise_ref_soln(traj_len=traj_len_test_control)\n",
    "\n",
    "# plt.figure(figsize=(5,3))\n",
    "plt.plot(ref_soln_pw)\n",
    "plt.xlabel(r'$n$')\n",
    "plt.ylabel('Value')\n",
    "# plt.savefig('results/motor/new/motor_ori_piecewise.png', dpi=200, bbox_inches='tight')\n",
    "# plt.savefig('results/motor/new/motor_ori_piecewise.pdf', dpi=200, bbox_inches='tight')"
   ]
  },
  {
   "cell_type": "code",
   "execution_count": null,
   "metadata": {},
   "outputs": [],
   "source": [
    "bounds_pw = []\n",
    "for i in range(tau*u_dim):\n",
    "    bounds_pw.append((-1,1))"
   ]
  },
  {
   "cell_type": "code",
   "execution_count": null,
   "metadata": {
    "scrolled": true
   },
   "outputs": [],
   "source": [
    "# new_control_pw = compute_mpc_control(tau=tau,\n",
    "#                     model_K_u_pred_pk=model_K_u_pred_pk,\n",
    "#                     ref_soln=ref_soln_pw,\n",
    "#                     zeta_0=zeta_0_pw, \n",
    "#                     x_koop=xp_pw,\n",
    "#                     dic_func=dic_pk,\n",
    "#                     extract_control_iter=extract_control_iter,\n",
    "#                     bounds=bounds_pw,\n",
    "#                     cons_list=None)"
   ]
  },
  {
   "cell_type": "code",
   "execution_count": null,
   "metadata": {},
   "outputs": [],
   "source": [
    "# np.save('results/motor/motor_pw_optimized_control.npy', new_control_pw)"
   ]
  },
  {
   "cell_type": "markdown",
   "metadata": {},
   "source": [
    "## Substitute the control into Koopman model to predict"
   ]
  },
  {
   "cell_type": "code",
   "execution_count": null,
   "metadata": {},
   "outputs": [],
   "source": [
    "label_font = 24\n",
    "ticks_font = 18\n",
    "legend_font = 16"
   ]
  },
  {
   "cell_type": "code",
   "execution_count": null,
   "metadata": {},
   "outputs": [],
   "source": [
    "new_control_pw = np.load('results/motor/motor_pw_optimized_control.npy')"
   ]
  },
  {
   "cell_type": "code",
   "execution_count": null,
   "metadata": {
    "scrolled": true
   },
   "outputs": [],
   "source": [
    "# plt.figure(figsize=(5,3))\n",
    "plt.plot(new_control_pw, color='steelblue', linewidth=3)\n",
    "plt.xlabel(r'$n$', fontsize=label_font)\n",
    "plt.ylabel('Control', fontsize=label_font)\n",
    "plt.xticks(fontsize=ticks_font)\n",
    "plt.yticks(fontsize=ticks_font)\n",
    "plt.hlines(-1.0, 0, 300,  colors='k', linestyles='--', linewidth=3)\n",
    "plt.hlines(1.0, 0, 300,  colors='k', linestyles='--', linewidth=3)\n",
    "# plt.savefig('results/motor/pw_motor_learned_control.png', dpi=200, bbox_inches='tight')\n",
    "# plt.savefig('results/motor/pw_motor_learned_control.pdf', dpi=200, bbox_inches='tight')"
   ]
  },
  {
   "cell_type": "code",
   "execution_count": null,
   "metadata": {},
   "outputs": [],
   "source": [
    "x_init_pw = tf.reshape(xp_pw, shape=(-1, x_dim))"
   ]
  },
  {
   "cell_type": "code",
   "execution_count": null,
   "metadata": {},
   "outputs": [],
   "source": [
    "data_pred_control_pw = [x_init_pw]\n",
    "\n",
    "for i in range(new_control_pw.shape[0]):\n",
    "    data_pred_next = bilinear_motor.generate_next_data(data_pred_control_pw[-1], new_control_pw[i])\n",
    "    data_pred_control_pw.append(data_pred_next)\n",
    "\n",
    "data_pred_control_pw = tf.squeeze(tf.convert_to_tensor(data_pred_control_pw))"
   ]
  },
  {
   "cell_type": "code",
   "execution_count": null,
   "metadata": {},
   "outputs": [],
   "source": [
    "step_pred_linear.shape"
   ]
  },
  {
   "cell_type": "code",
   "execution_count": null,
   "metadata": {},
   "outputs": [],
   "source": [
    "ref_soln_pw.shape"
   ]
  },
  {
   "cell_type": "code",
   "execution_count": null,
   "metadata": {},
   "outputs": [],
   "source": [
    "data_pred_control_pw[:,1].shape"
   ]
  },
  {
   "cell_type": "code",
   "execution_count": null,
   "metadata": {},
   "outputs": [],
   "source": [
    "# plt.figure(figsize=(5,3))\n",
    "plt.plot(step_pred_linear[:,1], label='LinearK-EDMD-RBF + MPC', color='forestgreen', linewidth=1)\n",
    "plt.plot(data_pred_control_pw[:,1], label='PK-EDMD-DL + MPC', color='steelblue', linewidth=1)\n",
    "plt.plot(ref_soln_pw, '--', label='Reference', color='darkorange', linewidth=1)\n",
    "\n",
    "plt.xlabel(r'$n$', fontsize=label_font)\n",
    "plt.ylabel(r'$y$', fontsize=label_font)\n",
    "plt.xticks(fontsize=ticks_font)\n",
    "plt.yticks(fontsize=ticks_font)\n",
    "plt.legend(fontsize=legend_font, loc=(0.03,0.27))\n",
    "# plt.savefig('results/motor/pw_motor_learned_pk.png', dpi=200, bbox_inches='tight')\n",
    "# plt.savefig('results/motor/pw_motor_learned_pk.pdf', dpi=200, bbox_inches='tight')"
   ]
  },
  {
   "cell_type": "code",
   "execution_count": null,
   "metadata": {
    "scrolled": true
   },
   "outputs": [],
   "source": [
    "tf.math.reduce_mean((step_pred_linear[:,1] - ref_soln_pw[:301].reshape(-1, ))**2)"
   ]
  },
  {
   "cell_type": "code",
   "execution_count": null,
   "metadata": {
    "scrolled": true
   },
   "outputs": [],
   "source": [
    "tf.math.reduce_mean((data_pred_control_pw[:,1] - ref_soln_pw[:301].reshape(-1, ))**2)"
   ]
  },
  {
   "cell_type": "markdown",
   "metadata": {},
   "source": [
    "# Case 2: Time-varying Reference"
   ]
  },
  {
   "cell_type": "markdown",
   "metadata": {},
   "source": [
    "## Add constraints for $y$"
   ]
  },
  {
   "cell_type": "code",
   "execution_count": null,
   "metadata": {},
   "outputs": [],
   "source": [
    "Cy"
   ]
  },
  {
   "cell_type": "code",
   "execution_count": null,
   "metadata": {},
   "outputs": [],
   "source": [
    "def generate_cons_y_lhs(x):\n",
    "    def cons_y(u):\n",
    "        u = tf.reshape(u, shape=(u.shape[0], u_dim))\n",
    "        x_next = bilinear_motor.generate_next_data(tf.reshape(x, shape=(-1,x_dim)), u)\n",
    "        y = x_next @ Cy\n",
    "        return np.squeeze(y) + 0.4\n",
    "    return cons_y\n",
    "\n",
    "def generate_cons_y_rhs(x):\n",
    "    def cons_y(u):\n",
    "        u = tf.reshape(u, shape=(u.shape[0], u_dim))\n",
    "        x_next = bilinear_motor.generate_next_data(tf.reshape(x, shape=(-1,x_dim)), u)\n",
    "        y = x_next @ Cy\n",
    "        return -np.squeeze(y) + 0.4\n",
    "    return cons_y"
   ]
  },
  {
   "cell_type": "markdown",
   "metadata": {},
   "source": [
    "## Find Control"
   ]
  },
  {
   "cell_type": "code",
   "execution_count": null,
   "metadata": {},
   "outputs": [],
   "source": [
    "x0_cos = np.asarray([-0.1,0.1]).reshape(1,2)\n",
    "xp_cos = bilinear_motor.generate_next_data(x0_cos, u_past)\n",
    "zeta_0_cos = tf.concat([xp_cos@Cy, u_past, x0_cos@Cy], axis=-1)"
   ]
  },
  {
   "cell_type": "code",
   "execution_count": null,
   "metadata": {},
   "outputs": [],
   "source": [
    "def generate_cos_ref_soln(traj_len):\n",
    "    t = np.linspace(0, 1, traj_len, endpoint=False)\n",
    "    control = 0.5 * np.cos(2 * np.pi * t ) # Here I do not /3 because have scaled in t (np.linspace)\n",
    "    return control"
   ]
  },
  {
   "cell_type": "code",
   "execution_count": null,
   "metadata": {},
   "outputs": [],
   "source": [
    "ref_soln_cos = generate_cos_ref_soln(traj_len_test_control)"
   ]
  },
  {
   "cell_type": "code",
   "execution_count": null,
   "metadata": {},
   "outputs": [],
   "source": [
    "# plt.figure(figsize=(5,3))\n",
    "plt.plot(ref_soln_cos)\n",
    "plt.xlabel(r'$n$')\n",
    "plt.ylabel('Value')"
   ]
  },
  {
   "cell_type": "code",
   "execution_count": null,
   "metadata": {},
   "outputs": [],
   "source": [
    "# cons_u_list = []\n",
    "# for i in range(tau*u_dim):\n",
    "#     cons_u_lhs = generate_cons_lhs(i)\n",
    "#     cons_u_rhs = generate_cons_rhs(i)\n",
    "#     cons_u_dic_lhs = {'type': 'ineq', 'fun': cons_u_lhs}\n",
    "#     cons_u_dic_rhs = {'type': 'ineq', 'fun': cons_u_rhs}\n",
    "#     cons_u_list.append(cons_u_dic_lhs)\n",
    "#     cons_u_list.append(cons_u_dic_rhs)"
   ]
  },
  {
   "cell_type": "code",
   "execution_count": null,
   "metadata": {},
   "outputs": [],
   "source": [
    "def compute_mpc_control_cos(tau, model_K_u_pred_pk, ref_soln, zeta_0, x_koop, dic_func, extract_control_iter, bounds):\n",
    "    results_list = []\n",
    "    for j in range(extract_control_iter):\n",
    "        param_init = np.random.uniform(size=(tau*u_dim,))\n",
    "\n",
    "        cons_list = []\n",
    "        cons_y_lhs = generate_cons_y_lhs(x_koop)\n",
    "        cons_y_rhs = generate_cons_y_rhs(x_koop)\n",
    "        cons_y_dic_lhs = {'type': 'ineq', 'fun': cons_y_lhs}\n",
    "        cons_y_dic_rhs = {'type': 'ineq', 'fun': cons_y_rhs}\n",
    "        cons_list.append(cons_y_dic_lhs)\n",
    "        cons_list.append(cons_y_dic_rhs)\n",
    "        \n",
    "   \n",
    "\n",
    "        results = minimize(mpc_loss, \n",
    "                      x0=param_init,\n",
    "                      args = (tau, model_K_u_pred_pk, ref_soln, zeta_0, dic_func, j),\n",
    "                        bounds=bounds,\n",
    "                      constraints = cons_list)\n",
    "        u_opt = results.x[0]\n",
    "        u_opt = tf.reshape(u_opt, shape=(-1, u_dim))\n",
    "        x_koop = bilinear_motor.generate_next_data(x_koop, u_opt)  \n",
    "        zeta_0 = tf.concat([x_koop@Cy, u_opt, zeta_0[:,:-2]], axis=-1)\n",
    "        \n",
    "        num_iter = j+1\n",
    "        if num_iter % 10 ==0:\n",
    "            print('Closed-loop simulation: iterate', num_iter)\n",
    "            print('loss', results.fun)\n",
    "\n",
    "        results_list.append(results.x[0])\n",
    "        print('current time', j)\n",
    "        print('fun', results.fun)\n",
    "        print('control', results.x[0])\n",
    "\n",
    "    new_control = tf.reshape(results_list, shape=(-1,1))\n",
    "    return new_control"
   ]
  },
  {
   "cell_type": "code",
   "execution_count": null,
   "metadata": {},
   "outputs": [],
   "source": [
    "bounds_cos = []\n",
    "for i in range(tau*u_dim):\n",
    "    bounds_cos.append((-1,1))"
   ]
  },
  {
   "cell_type": "code",
   "execution_count": null,
   "metadata": {
    "scrolled": true
   },
   "outputs": [],
   "source": [
    "# new_control_cos = compute_mpc_control_cos(tau=tau,\n",
    "#                     model_K_u_pred_pk=model_K_u_pred_pk,\n",
    "#                     ref_soln=ref_soln_cos,\n",
    "#                     zeta_0=zeta_0_cos, \n",
    "#                     x_koop=xp_cos,\n",
    "#                     dic_func=dic_pk,\n",
    "#                     extract_control_iter=extract_control_iter,\n",
    "#                     bounds=bounds_cos)"
   ]
  },
  {
   "cell_type": "code",
   "execution_count": null,
   "metadata": {},
   "outputs": [],
   "source": [
    "# np.save('results/motor/motor_cos_optimized_control.npy', new_control_cos)"
   ]
  },
  {
   "cell_type": "markdown",
   "metadata": {},
   "source": [
    "## Substitute the control into Koopman model to predict"
   ]
  },
  {
   "cell_type": "code",
   "execution_count": null,
   "metadata": {},
   "outputs": [],
   "source": [
    "new_control_cos = np.load('results/motor/motor_cos_optimized_control.npy')"
   ]
  },
  {
   "cell_type": "code",
   "execution_count": null,
   "metadata": {},
   "outputs": [],
   "source": [
    "# plt.figure(figsize=(5,3))\n",
    "plt.plot(new_control_cos, color='steelblue', linewidth=3)\n",
    "plt.xlabel(r'$n$', fontsize=label_font)\n",
    "plt.ylabel('Control', fontsize=label_font)\n",
    "plt.xticks(fontsize=ticks_font)\n",
    "plt.yticks(fontsize=ticks_font)\n",
    "plt.hlines(-1.0, 0, 300,  colors='k', linestyles='--', linewidth=3)\n",
    "plt.hlines(1.0, 0, 300,  colors='k', linestyles='--', linewidth=3)\n",
    "# plt.savefig('results/motor/cos_motor_learned_control.png', dpi=200, bbox_inches='tight')\n",
    "# plt.savefig('results/motor/cos_motor_learned_control.pdf', dpi=200, bbox_inches='tight')"
   ]
  },
  {
   "cell_type": "code",
   "execution_count": null,
   "metadata": {},
   "outputs": [],
   "source": [
    "x_init_cos = tf.reshape(xp_cos, shape=(-1, x_dim))"
   ]
  },
  {
   "cell_type": "code",
   "execution_count": null,
   "metadata": {},
   "outputs": [],
   "source": [
    "data_pred_control_cos = [x_init_cos]\n",
    "\n",
    "for i in range(new_control_cos.shape[0]):\n",
    "    data_pred_next = bilinear_motor.generate_next_data(data_pred_control_cos[-1], new_control_cos[i])\n",
    "    data_pred_control_cos.append(data_pred_next)\n",
    "\n",
    "data_pred_control_cos = tf.squeeze(tf.convert_to_tensor(data_pred_control_cos))"
   ]
  },
  {
   "cell_type": "code",
   "execution_count": null,
   "metadata": {},
   "outputs": [],
   "source": [
    "# plt.figure(figsize=(5,3))\n",
    "plt.plot(cos_pred_linear[:,1], label='LinearK-EDMD-RBF + MPC', color='forestgreen', linewidth=1)\n",
    "plt.plot(data_pred_control_cos[:,1], label='PK-EDMD-DL + MPC', color='steelblue', linewidth=1)\n",
    "plt.plot(ref_soln_cos, '--', label='Reference', color='darkorange', linewidth=1)\n",
    "\n",
    "plt.xlabel(r'$n$', fontsize=label_font)\n",
    "plt.ylabel(r'$y$', fontsize=label_font)\n",
    "plt.hlines(-0.4, 0, 300,  colors='k', linestyles='--', linewidth=3)\n",
    "plt.hlines(0.4, 0, 300,  colors='k', linestyles='--', linewidth=3)\n",
    "plt.xticks(fontsize=ticks_font)\n",
    "plt.yticks(fontsize=ticks_font)\n",
    "plt.legend(fontsize=legend_font, loc=(0.03,0.3))\n",
    "# plt.savefig('results/motor/cos_motor_learned_pk.png', dpi=200, bbox_inches='tight')\n",
    "# plt.savefig('results/motor/cos_motor_learned_pk.pdf', dpi=200, bbox_inches='tight')"
   ]
  },
  {
   "cell_type": "code",
   "execution_count": null,
   "metadata": {},
   "outputs": [],
   "source": [
    "tf.math.reduce_mean((cos_pred_linear[:,1] - ref_soln_cos[:301].reshape(-1, ))**2)"
   ]
  },
  {
   "cell_type": "code",
   "execution_count": null,
   "metadata": {},
   "outputs": [],
   "source": [
    "tf.math.reduce_mean((data_pred_control_cos[:,1] - ref_soln_cos[:301].reshape(-1, ))**2)"
   ]
  },
  {
   "cell_type": "code",
   "execution_count": null,
   "metadata": {},
   "outputs": [],
   "source": []
  }
 ],
 "metadata": {
  "kernelspec": {
   "display_name": "koopman_virenv",
   "language": "python",
   "name": "koopman_virenv"
  },
  "language_info": {
   "codemirror_mode": {
    "name": "ipython",
    "version": 3
   },
   "file_extension": ".py",
   "mimetype": "text/x-python",
   "name": "python",
   "nbconvert_exporter": "python",
   "pygments_lexer": "ipython3",
   "version": "3.8.3"
  }
 },
 "nbformat": 4,
 "nbformat_minor": 2
}
