{
 "cells": [
  {
   "cell_type": "code",
   "execution_count": 1,
   "metadata": {},
   "outputs": [],
   "source": [
    "import os; os.environ['CUDA_VISIBLE_DEVICES'] = '-1'"
   ]
  },
  {
   "cell_type": "code",
   "execution_count": 2,
   "metadata": {},
   "outputs": [],
   "source": [
    "%load_ext autoreload\n",
    "%autoreload 2"
   ]
  },
  {
   "cell_type": "code",
   "execution_count": 3,
   "metadata": {},
   "outputs": [],
   "source": [
    "import numpy as np\n",
    "import tensorflow as tf\n",
    "import pandas as pd"
   ]
  },
  {
   "cell_type": "code",
   "execution_count": 4,
   "metadata": {},
   "outputs": [],
   "source": [
    "from tensorflow.keras.optimizers import Adam\n",
    "from tensorflow.keras.layers import Layer, Dense\n",
    "from tensorflow.keras.layers import Input\n",
    "from tensorflow.keras.models import Model"
   ]
  },
  {
   "cell_type": "code",
   "execution_count": 5,
   "metadata": {},
   "outputs": [],
   "source": [
    "import matplotlib.pyplot as plt"
   ]
  },
  {
   "cell_type": "code",
   "execution_count": 6,
   "metadata": {},
   "outputs": [],
   "source": [
    "from koopmanlib.dictionary import PsiNN\n",
    "from koopmanlib.target import BilinearMotorTarget"
   ]
  },
  {
   "cell_type": "code",
   "execution_count": 7,
   "metadata": {},
   "outputs": [],
   "source": [
    "target_dim = 3\n",
    "param_dim = 1\n",
    "n_phi = 10\n",
    "n_psi_train = 100\n",
    "n_psi = 1 + target_dim + n_psi_train\n",
    "n_init = 1000\n",
    "traj_len = 500"
   ]
  },
  {
   "cell_type": "code",
   "execution_count": 8,
   "metadata": {},
   "outputs": [],
   "source": [
    "X = pd.read_csv('results/motor_time_delay/data/X.csv', header=None)\n",
    "Y = pd.read_csv('results/motor_time_delay/data/Y.csv', header=None)\n",
    "U = pd.read_csv('results/motor_time_delay/data/U.csv', header=None)"
   ]
  },
  {
   "cell_type": "code",
   "execution_count": 9,
   "metadata": {
    "scrolled": true
   },
   "outputs": [],
   "source": [
    "data_x = X.values.T\n",
    "data_y = Y.values.T\n",
    "data_u = U.values.T"
   ]
  },
  {
   "cell_type": "code",
   "execution_count": 10,
   "metadata": {},
   "outputs": [],
   "source": [
    "bilinear_motor = BilinearMotorTarget(n_init=n_init,traj_len=traj_len, seed_x=2, seed_param=123)\n",
    "# data_x, data_u = bilinear_motor.generate_init_data()\n",
    "# data_y = bilinear_motor.generate_next_data(data_x, data_u)"
   ]
  },
  {
   "cell_type": "code",
   "execution_count": 11,
   "metadata": {},
   "outputs": [],
   "source": [
    "# bilinear_motor_valid = BilinearMotorTarget(n_init=100,traj_len=300, seed_x=123, seed_param=111)\n",
    "# data_x_valid, data_u_valid = bilinear_motor_valid.generate_init_data_v1()\n",
    "# data_y_valid = bilinear_motor_valid.generate_next_data(data_x_valid, data_u_valid)"
   ]
  },
  {
   "cell_type": "markdown",
   "metadata": {},
   "source": [
    "# Build model"
   ]
  },
  {
   "cell_type": "code",
   "execution_count": 12,
   "metadata": {},
   "outputs": [],
   "source": [
    "from koopmanlib.dictionary import PsiNN\n",
    "from koopmanlib.param_solver import KoopmanParametricDLSolver"
   ]
  },
  {
   "cell_type": "code",
   "execution_count": 13,
   "metadata": {},
   "outputs": [],
   "source": [
    "from tensorflow.keras.optimizers import Adam"
   ]
  },
  {
   "cell_type": "code",
   "execution_count": 14,
   "metadata": {},
   "outputs": [],
   "source": [
    "dic_pk = PsiNN(layer_sizes=[128,128], n_psi_train=n_psi_train)"
   ]
  },
  {
   "cell_type": "code",
   "execution_count": 15,
   "metadata": {},
   "outputs": [],
   "source": [
    "solver_pk = KoopmanParametricDLSolver(target_dim=target_dim, \n",
    "                                      param_dim=param_dim, \n",
    "                                      n_psi=n_psi,\n",
    "                                      dic=dic_pk)"
   ]
  },
  {
   "cell_type": "code",
   "execution_count": 16,
   "metadata": {},
   "outputs": [
    {
     "name": "stderr",
     "output_type": "stream",
     "text": [
      "2023-05-01 17:31:11.627881: I tensorflow/core/platform/cpu_feature_guard.cc:193] This TensorFlow binary is optimized with oneAPI Deep Neural Network Library (oneDNN) to use the following CPU instructions in performance-critical operations:  AVX2 AVX512F AVX512_VNNI FMA\n",
      "To enable them in other operations, rebuild TensorFlow with the appropriate compiler flags.\n"
     ]
    }
   ],
   "source": [
    "model_pk, model_K_u_pred_pk = solver_pk.generate_model(layer_sizes=[128, 256, 128])"
   ]
  },
  {
   "cell_type": "code",
   "execution_count": 17,
   "metadata": {},
   "outputs": [],
   "source": [
    "zeros_data_y_train = tf.zeros_like(dic_pk(data_y))\n",
    "# zeros_data_y_valid = tf.zeros_like(dic_func_pk(data_y_valid))"
   ]
  },
  {
   "cell_type": "code",
   "execution_count": 18,
   "metadata": {},
   "outputs": [],
   "source": [
    "model_pk.compile(optimizer=Adam(0.0001),\n",
    "             loss='mse')"
   ]
  },
  {
   "cell_type": "code",
   "execution_count": 19,
   "metadata": {},
   "outputs": [],
   "source": [
    "lr_callbacks = tf.keras.callbacks.ReduceLROnPlateau(monitor='loss',\n",
    "                                                    factor=0.1,\n",
    "                                                    patience=50,\n",
    "                                                    verbose=0,\n",
    "                                                    mode='auto',\n",
    "                                                    min_delta=0.0001,\n",
    "                                                    cooldown=0,\n",
    "                                                    min_lr=1e-10)"
   ]
  },
  {
   "cell_type": "code",
   "execution_count": 20,
   "metadata": {
    "scrolled": true
   },
   "outputs": [
    {
     "name": "stdout",
     "output_type": "stream",
     "text": [
      "Epoch 1/100\n",
      "196/196 [==============================] - 75s 379ms/step - loss: 0.0289 - lr: 1.0000e-04\n",
      "Epoch 2/100\n",
      "196/196 [==============================] - 81s 411ms/step - loss: 7.8976e-04 - lr: 1.0000e-04\n",
      "Epoch 3/100\n",
      "196/196 [==============================] - 77s 391ms/step - loss: 5.2456e-04 - lr: 1.0000e-04\n",
      "Epoch 4/100\n",
      "196/196 [==============================] - 77s 391ms/step - loss: 3.1240e-04 - lr: 1.0000e-04\n",
      "Epoch 5/100\n",
      "196/196 [==============================] - 77s 392ms/step - loss: 1.1228e-04 - lr: 1.0000e-04\n",
      "Epoch 6/100\n",
      "196/196 [==============================] - 77s 391ms/step - loss: 5.3871e-05 - lr: 1.0000e-04\n",
      "Epoch 7/100\n",
      "196/196 [==============================] - 75s 380ms/step - loss: 4.1536e-05 - lr: 1.0000e-04\n",
      "Epoch 8/100\n",
      "196/196 [==============================] - 67s 343ms/step - loss: 3.3153e-05 - lr: 1.0000e-04\n",
      "Epoch 9/100\n",
      "196/196 [==============================] - 66s 338ms/step - loss: 2.7054e-05 - lr: 1.0000e-04\n",
      "Epoch 10/100\n",
      "196/196 [==============================] - 64s 325ms/step - loss: 2.2476e-05 - lr: 1.0000e-04\n",
      "Epoch 11/100\n",
      "196/196 [==============================] - 64s 326ms/step - loss: 1.8979e-05 - lr: 1.0000e-04\n",
      "Epoch 12/100\n",
      "  5/196 [..............................] - ETA: 1:16 - loss: 1.8499e-05"
     ]
    },
    {
     "name": "stderr",
     "output_type": "stream",
     "text": [
      "\n",
      "KeyboardInterrupt\n",
      "\n"
     ]
    }
   ],
   "source": [
    "history = model_pk.fit(x=[data_x, data_y, data_u], \n",
    "                    y=zeros_data_y_train, \n",
    "#                     validation_data = ([data_x_valid, data_y_valid, data_u_valid], zeros_data_y_valid),\n",
    "                    epochs=100, \n",
    "                    batch_size=1024,\n",
    "                    callbacks=lr_callbacks,\n",
    "                    verbose=1)"
   ]
  },
  {
   "cell_type": "code",
   "execution_count": 21,
   "metadata": {},
   "outputs": [],
   "source": [
    "model_pk.save_weights('results/motor_time_delay/motor_time_delay.weights.h5')"
   ]
  },
  {
   "cell_type": "code",
   "execution_count": null,
   "metadata": {},
   "outputs": [],
   "source": [
    "# model_pk.load_weights('results/motor_time_delay/motor_time_delay.weights.h5')"
   ]
  },
  {
   "cell_type": "markdown",
   "metadata": {},
   "source": [
    "# Prediction"
   ]
  },
  {
   "cell_type": "code",
   "execution_count": null,
   "metadata": {},
   "outputs": [],
   "source": [
    "# n_traj_test = 1\n",
    "# traj_len_test = 305\n",
    "# u_dim = bilinear_motor.param_dim\n",
    "# x_dim = bilinear_motor.dim\n",
    "\n",
    "# def generate_prbs(traj_len):\n",
    "#     signal = np.zeros(traj_len)\n",
    "#     y = np.random.uniform(low=0, high=1, size=(traj_len,))\n",
    "\n",
    "#     for i in range(y.shape[0]):\n",
    "#         if y[i] > 1 - 0.5:\n",
    "#             signal[i] = 1\n",
    "#     prbs = 2 * signal -1\n",
    "#     return prbs\n",
    "\n",
    "# traj_len_test = 305\n",
    "# prbs = generate_prbs(traj_len = traj_len_test)\n",
    "# prbs_control = tf.reshape(prbs, shape=(-1,u_dim))\n",
    "\n",
    "# def generate_control_soln(x_init, traj_len, control):\n",
    "#     data_true = [x_init]\n",
    "    \n",
    "#     for i in range(traj_len):\n",
    "#         data_next = bilinear_motor.generate_next_data(data_true[-1], control[i])\n",
    "#         data_true.append(data_next)\n",
    "\n",
    "#     data_true = tf.squeeze(tf.convert_to_tensor(data_true))\n",
    "#     return data_true\n",
    "\n",
    "# # x_init = np.array([-0.404, -0.126]).reshape(1,2)\n",
    "# x_init = np.array([0.887, 0.587]).reshape(1,2)\n",
    "\n",
    "# data_true = generate_control_soln(x_init=x_init, traj_len=100, control=prbs_control)\n",
    "\n",
    "# def compute_koopman_pred(x_init, model_K_u_pred, control, dic_func, traj_len):\n",
    "#     data_pred = [x_init]\n",
    "#     psi_x_init = dic_func(x_init)\n",
    "#     psi_x_list = [psi_x_init]\n",
    "\n",
    "#     B = dic_func.generate_B(data_x)\n",
    "\n",
    "#     for i in range(traj_len):\n",
    "#         psi_y = model_K_u_pred([control[i], psi_x_list[-1]])\n",
    "#         y_pred = psi_y @ B\n",
    "#         data_pred.append(y_pred)\n",
    "#         psi_x_list.append(psi_y)\n",
    "\n",
    "#     data_pred = tf.squeeze(tf.convert_to_tensor(data_pred))\n",
    "# #     psi_x_list = tf.squeeze(tf.convert_to_tensor(psi_x_list))\n",
    "#     return data_pred\n",
    "\n",
    "# data_pred = compute_koopman_pred(x_init=x_init, \n",
    "#                                  model_K_u_pred = model_K_u_pred_pk, \n",
    "#                                  control = prbs_control, \n",
    "#                                  dic_func = dic_func_pk,\n",
    "#                                  traj_len = traj_len_test)\n",
    "\n",
    "# traj_len_test_control = 100\n",
    "\n",
    "# fig, (ax1, ax2) = plt.subplots(1,2, figsize=(12,5))\n",
    "# ax1.plot(data_true[:traj_len_test_control+1,0], '--', label='True')\n",
    "# ax1.plot(data_pred[:traj_len_test_control+1,0], label='P-Koopman')\n",
    "# ax1.set_xlabel(r'$n$')\n",
    "# ax1.set_ylabel('Value')\n",
    "# ax1.title.set_text('$x_1$')\n",
    "# ax1.legend()\n",
    "\n",
    "# ax2.plot(data_true[:traj_len_test_control+1,1], '--', label='True')\n",
    "# ax2.plot(data_pred[:traj_len_test_control+1,1], label='P-Koopman')\n",
    "# ax2.set_xlabel(r'$n$')\n",
    "# ax2.set_ylabel('Value')\n",
    "# ax2.title.set_text('$x_2$')\n",
    "# # ax2.set_ylim(-1,1)\n",
    "# ax2.legend()\n",
    "\n",
    "# # plt.savefig('results/motor/new/motor_random_control_pk.png', dpi=200, bbox_inches='tight')\n",
    "# # plt.savefig('results/motor/new/motor_random_control_pk.pdf', dpi=200, bbox_inches='tight')"
   ]
  },
  {
   "cell_type": "markdown",
   "metadata": {},
   "source": [
    "# Inverse Problem"
   ]
  },
  {
   "cell_type": "code",
   "execution_count": 22,
   "metadata": {},
   "outputs": [],
   "source": [
    "from scipy.optimize import minimize"
   ]
  },
  {
   "cell_type": "code",
   "execution_count": 23,
   "metadata": {},
   "outputs": [],
   "source": [
    "u_dim = bilinear_motor.param_dim\n",
    "x_dim = bilinear_motor.dim"
   ]
  },
  {
   "cell_type": "code",
   "execution_count": 24,
   "metadata": {},
   "outputs": [],
   "source": [
    "Cy = np.asarray([0,1]).reshape(2,1)"
   ]
  },
  {
   "cell_type": "code",
   "execution_count": 25,
   "metadata": {},
   "outputs": [],
   "source": [
    "u_past = np.zeros(shape=(1,1), dtype='float64')"
   ]
  },
  {
   "cell_type": "code",
   "execution_count": 26,
   "metadata": {},
   "outputs": [],
   "source": [
    "B = dic_pk.generate_B(data_x)\n",
    "B = tf.reshape(B[:,0], (-1,1))"
   ]
  },
  {
   "cell_type": "code",
   "execution_count": 30,
   "metadata": {},
   "outputs": [],
   "source": [
    "tau = 5\n",
    "traj_len_test_control = 300 + tau*u_dim"
   ]
  },
  {
   "cell_type": "code",
   "execution_count": 31,
   "metadata": {},
   "outputs": [],
   "source": [
    "def mpc_loss(param, tau, model_K_u_pred, ref_list, zeta_0, dic_func, current_time):\n",
    "    param = tf.reshape(param, shape=(param.shape[0], 1, u_dim))\n",
    "    loss_list = []\n",
    "    zeta_lift = dic_func(zeta_0)\n",
    "    \n",
    "    for i in range(tau):\n",
    "        zeta_lift = model_K_u_pred([param[i], zeta_lift])\n",
    "        y_next = zeta_lift@B\n",
    "        loss_curr = tf.square(tf.norm(ref_list[current_time+i] - y_next))\n",
    "        loss_list.append(loss_curr)\n",
    "    \n",
    "    ref_loss= tf.reduce_sum(loss_list)\n",
    "    param_loss = 0.01 * tf.square(tf.norm(param))\n",
    "    \n",
    "    loss = ref_loss + param_loss\n",
    "    return loss   "
   ]
  },
  {
   "cell_type": "code",
   "execution_count": 32,
   "metadata": {},
   "outputs": [],
   "source": [
    "def compute_mpc_control(tau, model_K_u_pred_pk, ref_soln, zeta_0, x_koop, dic_func, extract_control_iter, cons_list):\n",
    "    results_list = []\n",
    "    for j in range(extract_control_iter):\n",
    "        param_init = np.random.uniform(size=(tau*u_dim,))\n",
    "        results = minimize(mpc_loss, \n",
    "                      x0=param_init,\n",
    "                      args = (tau, model_K_u_pred_pk, ref_soln, zeta_0, dic_func, j),\n",
    "                      constraints = cons_list)\n",
    "        u_opt = results.x[0]\n",
    "        u_opt = tf.reshape(u_opt, shape=(-1, u_dim))\n",
    "        x_koop = bilinear_motor.generate_next_data(x_koop, u_opt)  \n",
    "        zeta_0 = tf.concat([x_koop@Cy, u_opt, zeta_0[:,:-2]], axis=-1)\n",
    "\n",
    "#         if j == extract_control_iter-1:\n",
    "#             for m in range(tau*u_dim):\n",
    "#                 results_list.append(results.x[m])\n",
    "#         else:        \n",
    "#             results_list.append(results.x[0])\n",
    "        results_list.append(results.x[0])\n",
    "        print('current time', j)\n",
    "        print('fun', results.fun)\n",
    "        print('control', results.x[0])\n",
    "        \n",
    "    new_control = tf.reshape(results_list, shape=(-1,1))\n",
    "    return new_control\n",
    "    "
   ]
  },
  {
   "cell_type": "markdown",
   "metadata": {},
   "source": [
    "# Case 1: Piecewise Constant Reference"
   ]
  },
  {
   "cell_type": "code",
   "execution_count": 34,
   "metadata": {},
   "outputs": [],
   "source": [
    "x0_pw = np.asarray([0,0.6]).reshape(1,2)\n",
    "xp_pw = bilinear_motor.generate_next_data(x0_pw, u_past)\n",
    "zeta_0_pw = tf.concat([xp_pw@Cy, u_past, x0_pw@Cy], axis=-1)"
   ]
  },
  {
   "cell_type": "code",
   "execution_count": 35,
   "metadata": {},
   "outputs": [
    {
     "data": {
      "text/plain": [
       "Text(0, 0.5, 'Value')"
      ]
     },
     "execution_count": 35,
     "metadata": {},
     "output_type": "execute_result"
    },
    {
     "data": {
      "image/png": "[encoded data removed]",
      "text/plain": [
       "<Figure size 432x288 with 1 Axes>"
      ]
     },
     "metadata": {
      "needs_background": "light"
     },
     "output_type": "display_data"
    }
   ],
   "source": [
    "## Find Control\n",
    "\n",
    "def generate_piecewise_ref_soln(traj_len):\n",
    "    ref = np.zeros(shape=(traj_len, 1))\n",
    "    for i in range(ref.shape[0]):\n",
    "        if i < 150:\n",
    "            ref[i,:] = -0.3\n",
    "        else:\n",
    "            ref[i,:] = 0.4\n",
    "    return ref\n",
    "\n",
    "ref_soln_pw = generate_piecewise_ref_soln(traj_len=traj_len_test_control)\n",
    "\n",
    "# plt.figure(figsize=(5,3))\n",
    "plt.plot(ref_soln_pw)\n",
    "plt.xlabel(r'$n$')\n",
    "plt.ylabel('Value')\n",
    "# plt.savefig('results/motor/new/motor_ori_piecewise.png', dpi=200, bbox_inches='tight')\n",
    "# plt.savefig('results/motor/new/motor_ori_piecewise.pdf', dpi=200, bbox_inches='tight')"
   ]
  },
  {
   "cell_type": "code",
   "execution_count": 36,
   "metadata": {},
   "outputs": [],
   "source": [
    "def generate_cons_lhs(i):\n",
    "    def cons_func_lhs(u):\n",
    "        return u[i] + 1\n",
    "    return cons_func_lhs\n",
    "\n",
    "def generate_cons_rhs(i):\n",
    "    def cons_func_rhs(u):\n",
    "        return - u[i] + 1\n",
    "    return cons_func_rhs\n",
    "\n",
    "cons_list = []\n",
    "for i in range(tau*u_dim):\n",
    "    cons_lhs = generate_cons_lhs(i)\n",
    "    cons_rhs = generate_cons_rhs(i)\n",
    "    cons_dic_lhs = {'type': 'ineq', 'fun': cons_lhs}\n",
    "    cons_dic_rhs = {'type': 'ineq', 'fun': cons_rhs}\n",
    "    cons_list.append(cons_dic_lhs)\n",
    "    cons_list.append(cons_dic_rhs)\n",
    "    \n",
    "cons_list_pw = cons_list"
   ]
  },
  {
   "cell_type": "code",
   "execution_count": 37,
   "metadata": {
    "scrolled": true
   },
   "outputs": [
    {
     "name": "stdout",
     "output_type": "stream",
     "text": [
      "current time 0\n",
      "fun 1.3376385263028483\n",
      "control -0.9999999999999999\n",
      "current time 1\n",
      "fun 1.0460059025521922\n",
      "control -1.0\n",
      "current time 2\n",
      "fun 0.5794560734749199\n",
      "control -0.9999999999999999\n",
      "current time 3\n",
      "fun 0.23407292333069724\n",
      "control -1.0\n",
      "current time 4\n",
      "fun 0.061482584657846936\n",
      "control -1.0\n",
      "current time 5\n",
      "fun 0.00793911543009539\n",
      "control -0.5496619201783816\n",
      "current time 6\n",
      "fun 0.0012763430916445696\n",
      "control 0.01665075306336947\n",
      "current time 7\n",
      "fun 0.0016082295223014554\n",
      "control 0.16614476892413393\n",
      "current time 8\n",
      "fun 0.001845930105010336\n",
      "control 0.21730116448909237\n",
      "current time 9\n",
      "fun 0.001934783435372049\n",
      "control 0.23579039220265982\n",
      "current time 10\n",
      "fun 0.0019383509855524152\n",
      "control 0.23505894141216604\n",
      "current time 11\n",
      "fun 0.001931764579369367\n",
      "control 0.2344602234930113\n",
      "current time 12\n",
      "fun 0.0019139308282611397\n",
      "control 0.2311924173445582\n",
      "current time 13\n",
      "fun 0.001902057013135697\n",
      "control 0.22815793029391984\n",
      "current time 14\n",
      "fun 0.001901225128807497\n",
      "control 0.21808184346522144\n",
      "current time 15\n",
      "fun 0.0019344984186986606\n",
      "control 0.2327265603747098\n",
      "current time 16\n",
      "fun 0.0019000009569529147\n",
      "control 0.22918627598263216\n",
      "current time 17\n",
      "fun 0.001885423077979137\n",
      "control 0.22474313277814043\n",
      "current time 18\n",
      "fun 0.0018875092114211277\n",
      "control 0.227823967401477\n",
      "current time 19\n",
      "fun 0.0018763925468700392\n",
      "control 0.220452419467065\n",
      "current time 20\n",
      "fun 0.001895372518803352\n",
      "control 0.2289177203232894\n",
      "current time 21\n",
      "fun 0.0018822154582687645\n",
      "control 0.22532712284871156\n",
      "current time 22\n",
      "fun 0.0018766439924530656\n",
      "control 0.22385390620664578\n",
      "current time 23\n",
      "fun 0.0018815967563685886\n",
      "control 0.22490257548515782\n",
      "current time 24\n",
      "fun 0.0018813424071792016\n",
      "control 0.22521020532271183\n",
      "current time 25\n",
      "fun 0.0018850407652133247\n",
      "control 0.22239521691600364\n",
      "current time 26\n",
      "fun 0.00189175189837377\n",
      "control 0.22741778919164257\n",
      "current time 27\n",
      "fun 0.0018821881844087328\n",
      "control 0.2212972147904308\n",
      "current time 28\n",
      "fun 0.0018970909962549038\n",
      "control 0.22982220145809182\n",
      "current time 29\n",
      "fun 0.001880093469292386\n",
      "control 0.21553617033989145\n",
      "current time 30\n",
      "fun 0.0019162447789741375\n",
      "control 0.2296202494394303\n",
      "current time 31\n",
      "fun 0.0018942519624747405\n",
      "control 0.22733790648388774\n",
      "current time 32\n",
      "fun 0.0018890681558093518\n",
      "control 0.21747281251191694\n",
      "current time 33\n",
      "fun 0.001917337721607397\n",
      "control 0.23129876914615435\n",
      "current time 34\n",
      "fun 0.0018939871507205146\n",
      "control 0.22460339148455613\n",
      "current time 35\n",
      "fun 0.0018912136354720525\n",
      "control 0.22643483421238253\n",
      "current time 36\n",
      "fun 0.0018901070989267529\n",
      "control 0.22103687746686146\n",
      "current time 37\n",
      "fun 0.0019008150225899175\n",
      "control 0.22867932284989825\n",
      "current time 38\n",
      "fun 0.0018838875227384633\n",
      "control 0.22415079388310208\n",
      "current time 39\n",
      "fun 0.0018883611293786739\n",
      "control 0.2284533847445514\n",
      "current time 40\n",
      "fun 0.0018727429931411125\n",
      "control 0.22261968546881403\n",
      "current time 41\n",
      "fun 0.0018860761217590599\n",
      "control 0.229633960957159\n",
      "current time 42\n",
      "fun 0.0018636636818242984\n",
      "control 0.22063641218905178\n",
      "current time 43\n",
      "fun 0.0018852325727990494\n",
      "control 0.21865097951810364\n",
      "current time 44\n",
      "fun 0.001907963983024846\n",
      "control 0.23001703107885413\n",
      "current time 45\n",
      "fun 0.00188524594532667\n",
      "control 0.22522843121005523\n",
      "current time 46\n",
      "fun 0.0018878808587629082\n",
      "control 0.21945520437223787\n",
      "current time 47\n",
      "fun 0.0019088263619499385\n",
      "control 0.23094635077766631\n",
      "current time 48\n",
      "fun 0.0018819397330496568\n",
      "control 0.2247281037800146\n",
      "current time 49\n",
      "fun 0.0018862274462164927\n",
      "control 0.22152589598966585\n",
      "current time 50\n",
      "fun 0.001900318878635865\n",
      "control 0.2244858732923663\n",
      "current time 51\n",
      "fun 0.0019015518967362625\n",
      "control 0.22340683353344334\n",
      "current time 52\n",
      "fun 0.0019060533567412281\n",
      "control 0.22917876324517708\n",
      "current time 53\n",
      "fun 0.00188762493731534\n",
      "control 0.22723631375525663\n",
      "current time 54\n",
      "fun 0.0018788549272466602\n",
      "control 0.2267740247535071\n",
      "current time 55\n",
      "fun 0.0018708944136344675\n",
      "control 0.22374036883724\n",
      "current time 56\n",
      "fun 0.0018769521126725886\n",
      "control 0.21975795957098604\n",
      "current time 57\n",
      "fun 0.0018974903887282403\n",
      "control 0.2282521529055166\n",
      "current time 58\n",
      "fun 0.0018827578333366715\n",
      "control 0.22617708698213984\n",
      "current time 59\n",
      "fun 0.0018805145100969844\n",
      "control 0.2190931144558525\n",
      "current time 60\n",
      "fun 0.0019091394245345018\n",
      "control 0.23563230168127586\n",
      "current time 61\n",
      "fun 0.0018570303412868497\n",
      "control 0.21934052540913276\n",
      "current time 62\n",
      "fun 0.0018836425646529653\n",
      "control 0.2263472213497589\n",
      "current time 63\n",
      "fun 0.0018809103352274647\n",
      "control 0.21983167939130924\n",
      "current time 64\n",
      "fun 0.0018992666758421647\n",
      "control 0.22350986412530524\n",
      "current time 65\n",
      "fun 0.0019035905200609571\n",
      "control 0.22680205330146927\n",
      "current time 66\n",
      "fun 0.0018951646681323582\n",
      "control 0.22679646324596148\n",
      "current time 67\n",
      "fun 0.0018875003284725997\n",
      "control 0.22686572594817525\n",
      "current time 68\n",
      "fun 0.001879573362261867\n",
      "control 0.2261770341053263\n",
      "current time 69\n",
      "fun 0.0018751915033540898\n",
      "control 0.22286326303897824\n",
      "current time 70\n",
      "fun 0.0018865055392861753\n",
      "control 0.22027028926076328\n",
      "current time 71\n",
      "fun 0.0019030408907548676\n",
      "control 0.22727797251072346\n",
      "current time 72\n",
      "fun 0.0018919983880733011\n",
      "control 0.22807797271359248\n",
      "current time 73\n",
      "fun 0.0018792997218002253\n",
      "control 0.22494662704931906\n",
      "current time 74\n",
      "fun 0.0018861302906273822\n",
      "control 0.21574155486427335\n",
      "current time 75\n",
      "fun 0.0019215118564503565\n",
      "control 0.22582237177706446\n",
      "current time 76\n",
      "fun 0.0019180858181937028\n",
      "control 0.23637761493166023\n",
      "current time 77\n",
      "fun 0.0018657253744456764\n",
      "control 0.22011857143970276\n",
      "current time 78\n",
      "fun 0.0018908534989706663\n",
      "control 0.21873301325597777\n",
      "current time 79\n",
      "fun 0.0019155104725707061\n",
      "control 0.2331821484271575\n",
      "current time 80\n",
      "fun 0.001876182660912726\n",
      "control 0.22106364736483644\n",
      "current time 81\n",
      "fun 0.0018939221556998182\n",
      "control 0.2271820754597798\n",
      "current time 82\n",
      "fun 0.0018864656719734454\n",
      "control 0.2195668849492826\n",
      "current time 83\n",
      "fun 0.0019075921075560047\n",
      "control 0.22742471815357929\n",
      "current time 84\n",
      "fun 0.0018965852647906444\n",
      "control 0.22235816698979452\n",
      "current time 85\n",
      "fun 0.0019063587143315238\n",
      "control 0.22980131321815406\n",
      "current time 86\n",
      "fun 0.0018865990969630503\n",
      "control 0.2224602911258962\n",
      "current time 87\n",
      "fun 0.001899449057082612\n",
      "control 0.22210819323297837\n",
      "current time 88\n",
      "fun 0.0019079826743520737\n",
      "control 0.22912019260125727\n",
      "current time 89\n",
      "fun 0.001889114677632718\n",
      "control 0.22533530308255606\n",
      "current time 90\n",
      "fun 0.00188802275537714\n",
      "control 0.2238778767301725\n",
      "current time 91\n",
      "fun 0.0018923353159356554\n",
      "control 0.2266212314034785\n",
      "current time 92\n",
      "fun 0.0018845217871570504\n",
      "control 0.22508604334111354\n",
      "current time 93\n",
      "fun 0.001886507654899745\n",
      "control 0.22731682437734133\n",
      "current time 94\n",
      "fun 0.0018741937515166\n",
      "control 0.22079747763747926\n",
      "current time 95\n",
      "fun 0.0018966979445342812\n",
      "control 0.233163148951253\n",
      "current time 96\n",
      "fun 0.0018564375079145332\n",
      "control 0.22140621141259242\n",
      "current time 97\n",
      "fun 0.0018735386865689286\n",
      "control 0.2203134116597418\n",
      "current time 98\n",
      "fun 0.0018929196339209063\n",
      "control 0.2287281906679017\n",
      "current time 99\n",
      "fun 0.0018781493629616702\n",
      "control 0.2166696063158191\n",
      "current time 100\n",
      "fun 0.0019114140713814138\n",
      "control 0.23004666942260082\n",
      "current time 101\n",
      "fun 0.0018877391923753757\n",
      "control 0.22657121471612235\n",
      "current time 102\n",
      "fun 0.001882682391280581\n",
      "control 0.22599412477866432\n",
      "current time 103\n",
      "fun 0.001878511916218544\n",
      "control 0.22695329623338148\n",
      "current time 104\n",
      "fun 0.0018729172399031015\n",
      "control 0.21554893632197122\n",
      "current time 105\n",
      "fun 0.001913392350100488\n",
      "control 0.2321939177104908\n",
      "current time 106\n",
      "fun 0.0018815188077858848\n",
      "control 0.21746822080506006\n",
      "current time 107\n",
      "fun 0.001911350178855897\n",
      "control 0.2285945970959771\n",
      "current time 108\n",
      "fun 0.0018987716274729172\n",
      "control 0.23027152642435078\n",
      "current time 109\n",
      "fun 0.0018736949665990993\n",
      "control 0.22630260841282698\n",
      "current time 110\n",
      "fun 0.0018669557569638985\n",
      "control 0.22428571513378176\n",
      "current time 111\n",
      "fun 0.001869877906547705\n",
      "control 0.22377046529073027\n",
      "current time 112\n",
      "fun 0.0018761526491517227\n",
      "control 0.22049756962513622\n",
      "current time 113\n",
      "fun 0.001893675940416462\n",
      "control 0.22342450587653268\n",
      "current time 114\n",
      "fun 0.001905644192866742\n",
      "control 0.22140970637478521\n",
      "current time 115\n",
      "fun 0.001916095194426857\n",
      "control 0.22570001475172322\n",
      "current time 116\n",
      "fun 0.001914773526114558\n",
      "control 0.226412826513797\n",
      "current time 117\n",
      "fun 0.001904766241705933\n",
      "control 0.22443688831691985\n",
      "current time 118\n",
      "fun 0.0019070509836433761\n",
      "control 0.22705439729378463\n"
     ]
    },
    {
     "name": "stdout",
     "output_type": "stream",
     "text": [
      "current time 119\n",
      "fun 0.0019024650510550615\n",
      "control 0.21595336651372352\n",
      "current time 120\n",
      "fun 0.0019353693756098056\n",
      "control 0.23300291545995827\n",
      "current time 121\n",
      "fun 0.001898534811405584\n",
      "control 0.22634838082541042\n",
      "current time 122\n",
      "fun 0.0018933926590353114\n",
      "control 0.22769228666799066\n",
      "current time 123\n",
      "fun 0.0018828965533223313\n",
      "control 0.22075151598718404\n",
      "current time 124\n",
      "fun 0.0019057289204775904\n",
      "control 0.23117685139903235\n",
      "current time 125\n",
      "fun 0.001871646189481783\n",
      "control 0.2241468020602146\n",
      "current time 126\n",
      "fun 0.001876307987343828\n",
      "control 0.22388816018255356\n",
      "current time 127\n",
      "fun 0.0018815056021127452\n",
      "control 0.22586201378249318\n",
      "current time 128\n",
      "fun 0.0018775527847933434\n",
      "control 0.220334066322453\n",
      "current time 129\n",
      "fun 0.0018969749897240506\n",
      "control 0.23005522055260663\n",
      "current time 130\n",
      "fun 0.0018735787752754468\n",
      "control 0.22408179118906954\n",
      "current time 131\n",
      "fun 0.0018828031886440875\n",
      "control 0.21674894507013445\n",
      "current time 132\n",
      "fun 0.001917649131666126\n",
      "control 0.2272429147272665\n",
      "current time 133\n",
      "fun 0.001901654629566896\n",
      "control 0.23099545848230993\n",
      "current time 134\n",
      "fun 0.0018763611427002505\n",
      "control 0.22119014640339685\n",
      "current time 135\n",
      "fun 0.0018952522474574012\n",
      "control 0.21927058217685697\n",
      "current time 136\n",
      "fun 0.0019168711793298807\n",
      "control 0.23097033154764832\n",
      "current time 137\n",
      "fun 0.0018927548614900698\n",
      "control 0.224993116712668\n",
      "current time 138\n",
      "fun 0.0018924970066469347\n",
      "control 0.22043425205802936\n",
      "current time 139\n",
      "fun 0.0019093216575290684\n",
      "control 0.2303142875277847\n",
      "current time 140\n",
      "fun 0.0018907175880086126\n",
      "control 0.2157768978515329\n",
      "current time 141\n",
      "fun 0.0019284326880038025\n",
      "control 0.22746420335998785\n",
      "current time 142\n",
      "fun 0.00191666992263656\n",
      "control 0.2250468960816659\n",
      "current time 143\n",
      "fun 0.001912225378445753\n",
      "control 0.23087125700126604\n",
      "current time 144\n",
      "fun 0.001886238651991709\n",
      "control 0.2265286556458021\n",
      "current time 145\n",
      "fun 0.0018802627854858107\n",
      "control 0.2238519580002623\n",
      "current time 146\n",
      "fun 0.2179249527581103\n",
      "control 0.2557460925831959\n",
      "current time 147\n",
      "fun 0.28842107414129026\n",
      "control 0.47673137119517406\n",
      "current time 148\n",
      "fun 0.31277496332675303\n",
      "control 0.9999999999999999\n",
      "current time 149\n",
      "fun 0.2936597881997178\n",
      "control 0.9999999999999998\n",
      "current time 150\n",
      "fun 0.22600478843027175\n",
      "control 1.0\n",
      "current time 151\n",
      "fun 0.10983521776738547\n",
      "control 0.9999999999999999\n",
      "current time 152\n",
      "fun 0.048787142394605916\n",
      "control 1.0\n",
      "current time 153\n",
      "fun 0.021694348269685138\n",
      "control 1.0\n",
      "current time 154\n",
      "fun 0.011191929953105334\n",
      "control 0.7905791047654165\n",
      "current time 155\n",
      "fun 0.007771610495023832\n",
      "control 0.6223648735242095\n",
      "current time 156\n",
      "fun 0.006689018865757409\n",
      "control 0.5601254388887321\n",
      "current time 157\n",
      "fun 0.006152276377082701\n",
      "control 0.5277264862195403\n",
      "current time 158\n",
      "fun 0.005866440735765365\n",
      "control 0.5046717492272264\n",
      "current time 159\n",
      "fun 0.005740106790907727\n",
      "control 0.4939287723976142\n",
      "current time 160\n",
      "fun 0.005665619683723795\n",
      "control 0.4896514285016774\n",
      "current time 161\n",
      "fun 0.005605685170885665\n",
      "control 0.47657511953238485\n",
      "current time 162\n",
      "fun 0.005624813393489859\n",
      "control 0.4849196629043185\n",
      "current time 163\n",
      "fun 0.005558080313356899\n",
      "control 0.48178001565296596\n",
      "current time 164\n",
      "fun 0.005521103093526212\n",
      "control 0.47714198295771865\n",
      "current time 165\n",
      "fun 0.005514007708034245\n",
      "control 0.47825494924732825\n",
      "current time 166\n",
      "fun 0.005487373586988541\n",
      "control 0.47350610568413226\n",
      "current time 167\n",
      "fun 0.005494077528773369\n",
      "control 0.4783200779817084\n",
      "current time 168\n",
      "fun 0.0054563431011053435\n",
      "control 0.4735587777948821\n",
      "current time 169\n",
      "fun 0.005461017282292818\n",
      "control 0.4731164214118809\n",
      "current time 170\n",
      "fun 0.005464269385300187\n",
      "control 0.4762334112668746\n",
      "current time 171\n",
      "fun 0.005433705199885133\n",
      "control 0.4654589131886986\n",
      "current time 172\n",
      "fun 0.00548739814477882\n",
      "control 0.47749210247873375\n",
      "current time 173\n",
      "fun 0.005437055230309686\n",
      "control 0.4771120455618267\n",
      "current time 174\n",
      "fun 0.00541274726249753\n",
      "control 0.47842230835204425\n",
      "current time 175\n",
      "fun 0.0053733103669571115\n",
      "control 0.4718944620456747\n",
      "current time 176\n",
      "fun 0.005390732883299392\n",
      "control 0.4746512694187806\n",
      "current time 177\n",
      "fun 0.005372083020038642\n",
      "control 0.4650093035617354\n",
      "current time 178\n",
      "fun 0.005430190819130186\n",
      "control 0.47420023319096016\n",
      "current time 179\n",
      "fun 0.0054087531766862686\n",
      "control 0.4646936875941275\n",
      "current time 180\n",
      "fun 0.005460041488468824\n",
      "control 0.46848186294587835\n",
      "current time 181\n",
      "fun 0.005473245680046592\n",
      "control 0.46906501453176613\n",
      "current time 182\n",
      "fun 0.005477248643114393\n",
      "control 0.47605893374674046\n",
      "current time 183\n",
      "fun 0.005442345777889408\n",
      "control 0.46342136306494436\n",
      "current time 184\n",
      "fun 0.005499635198515093\n",
      "control 0.47398074461445394\n",
      "current time 185\n",
      "fun 0.005463621572996168\n",
      "control 0.47332967643688395\n",
      "current time 186\n",
      "fun 0.005453678824322894\n",
      "control 0.47717072473274214\n",
      "current time 187\n",
      "fun 0.005412093865461041\n",
      "control 0.47602837145983967\n",
      "current time 188\n",
      "fun 0.005388880935467885\n",
      "control 0.4664247271208763\n",
      "current time 189\n",
      "fun 0.005435032152737008\n",
      "control 0.47120987920713614\n",
      "current time 190\n",
      "fun 0.005436743997811071\n",
      "control 0.46559578915873334\n",
      "current time 191\n",
      "fun 0.005472990936465928\n",
      "control 0.474386234491528\n",
      "current time 192\n",
      "fun 0.0054405200481558525\n",
      "control 0.4756993966032358\n",
      "current time 193\n",
      "fun 0.005412808880927966\n",
      "control 0.47398020785604705\n",
      "current time 194\n",
      "fun 0.0054069841904753725\n",
      "control 0.4627631951890825\n",
      "current time 195\n",
      "fun 0.005471274362083758\n",
      "control 0.4783136346860346\n",
      "current time 196\n",
      "fun 0.005406987681784934\n",
      "control 0.4696689389795982\n",
      "current time 197\n",
      "fun 0.005431867130712905\n",
      "control 0.46884598847535697\n",
      "current time 198\n",
      "fun 0.00544973682625712\n",
      "control 0.4718056678627409\n",
      "current time 199\n",
      "fun 0.005441500342129132\n",
      "control 0.46847765477565473\n",
      "current time 200\n",
      "fun 0.005467820537518267\n",
      "control 0.48036039157522326\n",
      "current time 201\n",
      "fun 0.005390030593370907\n",
      "control 0.4691166430169775\n",
      "current time 202\n",
      "fun 0.0054219948980037316\n",
      "control 0.47081262947796176\n",
      "current time 203\n",
      "fun 0.005428371773057292\n",
      "control 0.4762747381833663\n",
      "current time 204\n",
      "fun 0.005392652268922176\n",
      "control 0.4654679119550283\n",
      "current time 205\n",
      "fun 0.005444345579178445\n",
      "control 0.4711866168133921\n",
      "current time 206\n",
      "fun 0.00544342944130202\n",
      "control 0.4652952107363364\n",
      "current time 207\n",
      "fun 0.00548559628280311\n",
      "control 0.4658990308972611\n",
      "current time 208\n",
      "fun 0.005513196718809815\n",
      "control 0.46846843396552956\n",
      "current time 209\n",
      "fun 0.005513869396085428\n",
      "control 0.477089961266004\n",
      "current time 210\n",
      "fun 0.005459402242342771\n",
      "control 0.47607926229353514\n",
      "current time 211\n",
      "fun 0.005430969584105868\n",
      "control 0.47534045272188186\n",
      "current time 212\n",
      "fun 0.005410200783514383\n",
      "control 0.4662697178684896\n",
      "current time 213\n",
      "fun 0.005456162334492458\n",
      "control 0.46884562008793573\n",
      "current time 214\n",
      "fun 0.005465663025206629\n",
      "control 0.47047724422364423\n",
      "current time 215\n",
      "fun 0.005468997786367344\n",
      "control 0.46867426463274475\n",
      "current time 216\n",
      "fun 0.005485166060603568\n",
      "control 0.477847306149256\n",
      "current time 217\n",
      "fun 0.00542698192660532\n",
      "control 0.46891745186721584\n",
      "current time 218\n",
      "fun 0.005455691561162501\n",
      "control 0.4670970826823741\n",
      "current time 219\n",
      "fun 0.005485049868753564\n",
      "control 0.4689686417828405\n",
      "current time 220\n",
      "fun 0.005487716609562964\n",
      "control 0.47741222298630465\n",
      "current time 221\n",
      "fun 0.0054363124117833336\n",
      "control 0.4730605389206773\n",
      "current time 222\n",
      "fun 0.005436324459926804\n",
      "control 0.4666697449757324\n",
      "current time 223\n",
      "fun 0.00547014234101194\n",
      "control 0.4717901633451137\n",
      "current time 224\n",
      "fun 0.005460472368056505\n",
      "control 0.4688155795983579\n",
      "current time 225\n",
      "fun 0.005479609967374303\n",
      "control 0.4802638445482991\n",
      "current time 226\n",
      "fun 0.005411779168054025\n",
      "control 0.4596539589167499\n",
      "current time 227\n",
      "fun 0.005506240665226762\n",
      "control 0.4715395695687188\n",
      "current time 228\n",
      "fun 0.005481696192450459\n",
      "control 0.47930878008525485\n",
      "current time 229\n",
      "fun 0.005423692611093065\n",
      "control 0.46309379882918755\n",
      "current time 230\n",
      "fun 0.0054925765161815965\n",
      "control 0.4720540041932979\n",
      "current time 231\n",
      "fun 0.0054730820323130374\n",
      "control 0.47035931266542447\n",
      "current time 232\n",
      "fun 0.005477966586224952\n",
      "control 0.47136252987670474\n",
      "current time 233\n",
      "fun 0.005471263777690562\n",
      "control 0.47129295848989833\n",
      "current time 234\n",
      "fun 0.0054705515877612465\n",
      "control 0.47939727817097666\n",
      "current time 235\n",
      "fun 0.00540873669484011\n",
      "control 0.47414786328023745\n",
      "current time 236\n",
      "fun 0.005403074578655601\n",
      "control 0.467102870701535\n",
      "current time 237\n",
      "fun 0.005447028957409913\n",
      "control 0.46475122628849974\n"
     ]
    },
    {
     "name": "stdout",
     "output_type": "stream",
     "text": [
      "current time 238\n",
      "fun 0.00548401393973576\n",
      "control 0.47589908490768157\n",
      "current time 239\n",
      "fun 0.0054393315328219284\n",
      "control 0.47396034804549614\n",
      "current time 240\n",
      "fun 0.005425098988312697\n",
      "control 0.4715380836819181\n",
      "current time 241\n",
      "fun 0.005429650615467836\n",
      "control 0.46990172695218935\n",
      "current time 242\n",
      "fun 0.005444400438794402\n",
      "control 0.47562400975241986\n",
      "current time 243\n",
      "fun 0.0054146730414510935\n",
      "control 0.477277122080269\n",
      "current time 244\n",
      "fun 0.005376785537988161\n",
      "control 0.47210171218232816\n",
      "current time 245\n",
      "fun 0.005386413946159917\n",
      "control 0.4729461250601636\n",
      "current time 246\n",
      "fun 0.005381320951366556\n",
      "control 0.46962358339204846\n",
      "current time 247\n",
      "fun 0.005401456319229887\n",
      "control 0.4712507584177216\n",
      "current time 248\n",
      "fun 0.005403857568199035\n",
      "control 0.47212669780418803\n",
      "current time 249\n",
      "fun 0.005401268242516563\n",
      "control 0.46934653958006295\n",
      "current time 250\n",
      "fun 0.005422101258018137\n",
      "control 0.4766429088414709\n",
      "current time 251\n",
      "fun 0.005382124275039249\n",
      "control 0.465068807261443\n",
      "current time 252\n",
      "fun 0.00544261781585187\n",
      "control 0.4619111875238203\n",
      "current time 253\n",
      "fun 0.0055015901551685445\n",
      "control 0.47660080340365835\n",
      "current time 254\n",
      "fun 0.005440649725410793\n",
      "control 0.46993464151538883\n",
      "current time 255\n",
      "fun 0.005455576762300157\n",
      "control 0.47032700520606513\n",
      "current time 256\n",
      "fun 0.005458500803871556\n",
      "control 0.4696414858553529\n",
      "current time 257\n",
      "fun 0.0054666684056047425\n",
      "control 0.47642139805707\n",
      "current time 258\n",
      "fun 0.005424873775110463\n",
      "control 0.4693259371246125\n",
      "current time 259\n",
      "fun 0.0054476089866395735\n",
      "control 0.46905956636922813\n",
      "current time 260\n",
      "fun 0.005461724345066504\n",
      "control 0.4710490913438495\n",
      "current time 261\n",
      "fun 0.005456988544322978\n",
      "control 0.4740887730956878\n",
      "current time 262\n",
      "fun 0.005435620218645007\n",
      "control 0.46881083838627524\n",
      "current time 263\n",
      "fun 0.005458255388165391\n",
      "control 0.4729095051140652\n",
      "current time 264\n",
      "fun 0.00544091681260354\n",
      "control 0.474130588841186\n",
      "current time 265\n",
      "fun 0.005426818272421997\n",
      "control 0.4663649277253251\n",
      "current time 266\n",
      "fun 0.005467436906112471\n",
      "control 0.4695169057583905\n",
      "current time 267\n",
      "fun 0.005472311231237341\n",
      "control 0.4700495358035145\n",
      "current time 268\n",
      "fun 0.0054737082819901195\n",
      "control 0.47912612032319357\n",
      "current time 269\n",
      "fun 0.0054166345518369356\n",
      "control 0.4625399153179237\n",
      "current time 270\n",
      "fun 0.005489413117029115\n",
      "control 0.4718776522056585\n",
      "current time 271\n",
      "fun 0.005468155747969707\n",
      "control 0.4733351387592594\n",
      "current time 272\n",
      "fun 0.005453319967919057\n",
      "control 0.46903868484766614\n",
      "current time 273\n",
      "fun 0.005471380008687288\n",
      "control 0.470164368415403\n",
      "current time 274\n",
      "fun 0.0054733457612374985\n",
      "control 0.4707289073369432\n",
      "current time 275\n",
      "fun 0.005471836612816642\n",
      "control 0.476098819098843\n",
      "current time 276\n",
      "fun 0.005433728073949074\n",
      "control 0.4745033878221046\n",
      "current time 277\n",
      "fun 0.005419033841260167\n",
      "control 0.473524468855781\n",
      "current time 278\n",
      "fun 0.005410008229638576\n",
      "control 0.47049665385015804\n",
      "current time 279\n",
      "fun 0.005423272200086946\n",
      "control 0.47299463455899665\n",
      "current time 280\n",
      "fun 0.005414445959127293\n",
      "control 0.46475706067680234\n",
      "current time 281\n",
      "fun 0.0054674682467281575\n",
      "control 0.4698976664104003\n",
      "current time 282\n",
      "fun 0.005467558251922435\n",
      "control 0.4687269105913412\n",
      "current time 283\n",
      "fun 0.005480042069453161\n",
      "control 0.479563716355805\n",
      "current time 284\n",
      "fun 0.005411490267793582\n",
      "control 0.4699789885720452\n",
      "current time 285\n",
      "fun 0.005436616653630228\n",
      "control 0.467471236651851\n",
      "current time 286\n",
      "fun 0.005461755473350278\n",
      "control 0.47201216680523783\n",
      "current time 287\n",
      "fun 0.0054510943917715935\n",
      "control 0.4728114959131098\n",
      "current time 288\n",
      "fun 0.005440461471476088\n",
      "control 0.47509786416732935\n",
      "current time 289\n",
      "fun 0.005413576086354066\n",
      "control 0.47053877117282344\n",
      "current time 290\n",
      "fun 0.00543016979366762\n",
      "control 0.4666243007501163\n",
      "current time 291\n",
      "fun 0.005465735375259051\n",
      "control 0.4760807351813619\n",
      "current time 292\n",
      "fun 0.005421972617991147\n",
      "control 0.46695543771928516\n",
      "current time 293\n",
      "fun 0.005461176871956933\n",
      "control 0.4689281032130958\n",
      "current time 294\n",
      "fun 0.005468871742281878\n",
      "control 0.47555974091587094\n",
      "current time 295\n",
      "fun 0.005432745661746006\n",
      "control 0.46972834364739535\n",
      "current time 296\n",
      "fun 0.005451680658762618\n",
      "control 0.468247189973411\n",
      "current time 297\n",
      "fun 0.005468484938097962\n",
      "control 0.4760825312800257\n",
      "current time 298\n",
      "fun 0.005427708551762741\n",
      "control 0.4716786334254186\n",
      "current time 299\n",
      "fun 0.00543241108958138\n",
      "control 0.4718232468941731\n"
     ]
    }
   ],
   "source": [
    "new_control_pw = compute_mpc_control(tau=tau,\n",
    "                    model_K_u_pred_pk=model_K_u_pred_pk,\n",
    "                    ref_soln=ref_soln_pw,\n",
    "                    zeta_0=zeta_0_pw, \n",
    "                    x_koop=xp_pw,\n",
    "                    dic_func=dic_pk,\n",
    "                    extract_control_iter=traj_len_test_control-tau*u_dim,\n",
    "                    cons_list=cons_list_pw)"
   ]
  },
  {
   "cell_type": "code",
   "execution_count": 38,
   "metadata": {},
   "outputs": [],
   "source": [
    "# # Case 1: Piecewise Constant Reference\n",
    "\n",
    "# ## Find Control\n",
    "\n",
    "# from scipy.optimize import minimize\n",
    "\n",
    "# traj_len_test_control = 305\n",
    "\n",
    "# def generate_piecewise_ref_soln(traj_len):\n",
    "#     ref = np.zeros(shape=(traj_len, 1))\n",
    "#     for i in range(ref.shape[0]):\n",
    "#         if i < 150:\n",
    "#             ref[i,:] = -0.3\n",
    "#         else:\n",
    "#             ref[i,:] = 0.4\n",
    "#     return ref\n",
    "\n",
    "# ref_soln_piecewise = generate_piecewise_ref_soln(traj_len=traj_len_test_control)\n",
    "\n",
    "# # plt.figure(figsize=(5,3))\n",
    "# plt.plot(ref_soln_piecewise)\n",
    "# plt.xlabel(r'$n$')\n",
    "# plt.ylabel('Value')\n",
    "# # plt.savefig('results/motor/new/motor_ori_piecewise.png', dpi=200, bbox_inches='tight')\n",
    "# # plt.savefig('results/motor/new/motor_ori_piecewise.pdf', dpi=200, bbox_inches='tight')\n",
    "\n",
    "# x_init_piecewise = np.array([0., 0.6])\n",
    "\n",
    "# tau = 5\n",
    "\n",
    "# # x_true_list = ref_soln_piecewise\n",
    "# # psi_x_pred_list = [dic_func_complex(tf.reshape(x_init_piecewise, shape=(-1, x_dim)))]\n",
    "# # x_pred_list = [x_init_piecewise]\n",
    "# current_time = 0\n",
    "# param_init = np.random.uniform(size=(tau*u_dim,))\n",
    "\n",
    "# # results = minimize(mpc_loss, \n",
    "# #                   x0=param_init,\n",
    "# #                   args = (tau, model_K_u_pred, x_true_list, psi_x_pred_list, current_time),\n",
    "# #                   constraints = cons_list,\n",
    "# #                   tol=1e-6)\n",
    "# # #                   method='BFGS')\n",
    "\n",
    "# # results\n",
    "\n",
    "# results_list_piecewise = []\n",
    "\n",
    "# cons_list = []\n",
    "# for i in range(tau*u_dim):\n",
    "#     cons_lhs = generate_cons_lhs(i)\n",
    "#     cons_rhs = generate_cons_rhs(i)\n",
    "#     cons_dic_lhs = {'type': 'ineq', 'fun': cons_lhs}\n",
    "#     cons_dic_rhs = {'type': 'ineq', 'fun': cons_rhs}\n",
    "#     cons_list.append(cons_dic_lhs)\n",
    "#     cons_list.append(cons_dic_rhs)\n",
    "\n",
    "# x_pred_list_piecewise = [x_init_piecewise]\n",
    "\n",
    "# # Optimize to get best control\n",
    "# extract_control_iter = traj_len_test_control-tau*u_dim\n",
    "# for j in range(extract_control_iter):\n",
    "#     param_init = np.random.uniform(size=(tau*u_dim,))\n",
    "#     results = minimize(mpc_loss, \n",
    "#                   x0=param_init,\n",
    "#                   args = (tau, model_K_u_pred_pk, ref_soln_piecewise, x_pred_list_piecewise, dic_func_pk, j),\n",
    "#                   constraints = cons_list)\n",
    "#     x_pred_next = bilinear_motor.generate_next_data(tf.reshape(x_pred_list_piecewise[-1], shape=(-1,x_dim)), results.x[0])\n",
    "#     x_pred_list_piecewise.append(x_pred_next)\n",
    "    \n",
    "#     if j == extract_control_iter-1:\n",
    "#         for m in range(tau*u_dim):\n",
    "#             results_list_piecewise.append(results.x[m])\n",
    "#     else:        \n",
    "#         results_list_piecewise.append(results.x[0])\n",
    "#     print('current time', j)\n",
    "#     print('fun', results.fun)\n",
    "#     print('control', results.x[0])"
   ]
  },
  {
   "cell_type": "markdown",
   "metadata": {},
   "source": [
    "## Substitute the control into Koopman model to predict"
   ]
  },
  {
   "cell_type": "code",
   "execution_count": 39,
   "metadata": {},
   "outputs": [],
   "source": [
    "label_font = 24\n",
    "ticks_font = 18\n",
    "legend_font = 16"
   ]
  },
  {
   "cell_type": "code",
   "execution_count": 40,
   "metadata": {},
   "outputs": [],
   "source": [
    "# new_control_pw = np.save('results/motor/motor_pw_optimized_control.npy')"
   ]
  },
  {
   "cell_type": "code",
   "execution_count": 41,
   "metadata": {},
   "outputs": [],
   "source": [
    "# new_control_pw = np.load('results/motor/motor_pw_optimized_control.npy')"
   ]
  },
  {
   "cell_type": "code",
   "execution_count": 42,
   "metadata": {
    "scrolled": true
   },
   "outputs": [
    {
     "data": {
      "text/plain": [
       "<matplotlib.collections.LineCollection at 0x7f9d07836130>"
      ]
     },
     "execution_count": 42,
     "metadata": {},
     "output_type": "execute_result"
    },
    {
     "data": {
      "image/png": "[encoded data removed]",
      "text/plain": [
       "<Figure size 432x288 with 1 Axes>"
      ]
     },
     "metadata": {
      "needs_background": "light"
     },
     "output_type": "display_data"
    }
   ],
   "source": [
    "# plt.figure(figsize=(5,3))\n",
    "plt.plot(new_control_pw, color='steelblue', linewidth=3)\n",
    "plt.xlabel(r'$n$', fontsize=label_font)\n",
    "plt.ylabel('Control', fontsize=label_font)\n",
    "plt.xticks(fontsize=ticks_font)\n",
    "plt.yticks(fontsize=ticks_font)\n",
    "plt.hlines(-1.0, 0, 300,  colors='k', linestyles='--', linewidth=3)\n",
    "plt.hlines(1.0, 0, 300,  colors='k', linestyles='--', linewidth=3)\n",
    "# plt.savefig('results/motor/pw_motor_learned_control.png', dpi=200, bbox_inches='tight')\n",
    "# plt.savefig('results/motor/pw_motor_learned_control.pdf', dpi=200, bbox_inches='tight')"
   ]
  },
  {
   "cell_type": "code",
   "execution_count": 43,
   "metadata": {},
   "outputs": [],
   "source": [
    "x_init_pw = tf.reshape(xp_pw, shape=(-1, x_dim))"
   ]
  },
  {
   "cell_type": "code",
   "execution_count": 44,
   "metadata": {},
   "outputs": [],
   "source": [
    "data_pred_control_pw = [x_init_pw]\n",
    "\n",
    "for i in range(new_control_pw.shape[0]):\n",
    "    data_pred_next = bilinear_motor.generate_next_data(data_pred_control_pw[-1], new_control_pw[i])\n",
    "    data_pred_control_pw.append(data_pred_next)\n",
    "\n",
    "data_pred_control_pw = tf.squeeze(tf.convert_to_tensor(data_pred_control_pw))"
   ]
  },
  {
   "cell_type": "code",
   "execution_count": 45,
   "metadata": {},
   "outputs": [
    {
     "data": {
      "text/plain": [
       "<matplotlib.legend.Legend at 0x7f9d068a75e0>"
      ]
     },
     "execution_count": 45,
     "metadata": {},
     "output_type": "execute_result"
    },
    {
     "data": {
      "image/png": "[encoded data removed]",
      "text/plain": [
       "<Figure size 432x288 with 1 Axes>"
      ]
     },
     "metadata": {
      "needs_background": "light"
     },
     "output_type": "display_data"
    }
   ],
   "source": [
    "# plt.figure(figsize=(5,3))\n",
    "plt.plot(data_pred_control_pw[:,1], label='PK-EDMD-DL + MPC', color='steelblue', linewidth=3)\n",
    "plt.plot(ref_soln_pw, '--', label='Reference', color='darkorange', linewidth=3)\n",
    "\n",
    "plt.xlabel(r'$n$', fontsize=label_font)\n",
    "plt.ylabel(r'$y$', fontsize=label_font)\n",
    "plt.xticks(fontsize=ticks_font)\n",
    "plt.yticks(fontsize=ticks_font)\n",
    "plt.legend(fontsize=legend_font, loc=(0.03,0.27))\n",
    "# plt.savefig('results/motor/pw_motor_learned_pk.png', dpi=200, bbox_inches='tight')\n",
    "# plt.savefig('results/motor/pw_motor_learned_pk.pdf', dpi=200, bbox_inches='tight')"
   ]
  },
  {
   "cell_type": "markdown",
   "metadata": {},
   "source": [
    "# Case 2: Time-varying Reference"
   ]
  },
  {
   "cell_type": "markdown",
   "metadata": {},
   "source": [
    "## Add constraints for $y$"
   ]
  },
  {
   "cell_type": "code",
   "execution_count": 48,
   "metadata": {},
   "outputs": [
    {
     "data": {
      "text/plain": [
       "array([[0],\n",
       "       [1]])"
      ]
     },
     "execution_count": 48,
     "metadata": {},
     "output_type": "execute_result"
    }
   ],
   "source": [
    "Cy"
   ]
  },
  {
   "cell_type": "code",
   "execution_count": 49,
   "metadata": {},
   "outputs": [],
   "source": [
    "def generate_cons_y_lhs(x):\n",
    "    def cons_y(u):\n",
    "        u = tf.reshape(u, shape=(u.shape[0], u_dim))\n",
    "        x_next = bilinear_motor.generate_next_data(tf.reshape(x, shape=(-1,x_dim)), u)\n",
    "        y = x_next @ Cy\n",
    "        return np.squeeze(y) + 0.4\n",
    "    return cons_y\n",
    "\n",
    "def generate_cons_y_rhs(x):\n",
    "    def cons_y(u):\n",
    "        u = tf.reshape(u, shape=(u.shape[0], u_dim))\n",
    "        x_next = bilinear_motor.generate_next_data(tf.reshape(x, shape=(-1,x_dim)), u)\n",
    "        y = x_next @ Cy\n",
    "        return -np.squeeze(y) + 0.4\n",
    "    return cons_y"
   ]
  },
  {
   "cell_type": "markdown",
   "metadata": {},
   "source": [
    "## Find Control"
   ]
  },
  {
   "cell_type": "code",
   "execution_count": 50,
   "metadata": {},
   "outputs": [],
   "source": [
    "x0_cos = np.asarray([-0.1,0.1]).reshape(1,2)\n",
    "xp_cos = bilinear_motor.generate_next_data(x0_cos, u_past)\n",
    "zeta_0_cos = tf.concat([xp_cos@Cy, u_past, x0_cos@Cy], axis=-1)"
   ]
  },
  {
   "cell_type": "code",
   "execution_count": 51,
   "metadata": {},
   "outputs": [],
   "source": [
    "def generate_cos_ref_soln(traj_len):\n",
    "    t = np.linspace(0, 1, traj_len, endpoint=False)\n",
    "    control = 0.5 * np.cos(2 * np.pi * t ) # Here I do not /3 because have scaled in t (np.linspace)\n",
    "    return control"
   ]
  },
  {
   "cell_type": "code",
   "execution_count": 61,
   "metadata": {},
   "outputs": [],
   "source": [
    "traj_len_test_control = 10"
   ]
  },
  {
   "cell_type": "code",
   "execution_count": 62,
   "metadata": {},
   "outputs": [],
   "source": [
    "ref_soln_cos = generate_cos_ref_soln(traj_len_test_control)"
   ]
  },
  {
   "cell_type": "code",
   "execution_count": 63,
   "metadata": {},
   "outputs": [
    {
     "data": {
      "text/plain": [
       "Text(0, 0.5, 'Value')"
      ]
     },
     "execution_count": 63,
     "metadata": {},
     "output_type": "execute_result"
    },
    {
     "data": {
      "image/png": "[encoded data removed]",
      "text/plain": [
       "<Figure size 432x288 with 1 Axes>"
      ]
     },
     "metadata": {
      "needs_background": "light"
     },
     "output_type": "display_data"
    }
   ],
   "source": [
    "# plt.figure(figsize=(5,3))\n",
    "plt.plot(ref_soln_cos)\n",
    "plt.xlabel('r$n$')\n",
    "plt.ylabel('Value')"
   ]
  },
  {
   "cell_type": "code",
   "execution_count": 64,
   "metadata": {},
   "outputs": [],
   "source": [
    "cons_u_list = []\n",
    "for i in range(tau*u_dim):\n",
    "    cons_u_lhs = generate_cons_lhs(i)\n",
    "    cons_u_rhs = generate_cons_rhs(i)\n",
    "    cons_u_dic_lhs = {'type': 'ineq', 'fun': cons_u_lhs}\n",
    "    cons_u_dic_rhs = {'type': 'ineq', 'fun': cons_u_rhs}\n",
    "    cons_u_list.append(cons_u_dic_lhs)\n",
    "    cons_u_list.append(cons_u_dic_rhs)"
   ]
  },
  {
   "cell_type": "code",
   "execution_count": 65,
   "metadata": {},
   "outputs": [],
   "source": [
    "def compute_mpc_control_cos(tau, model_K_u_pred_pk, ref_soln, zeta_0, x_koop, dic_func, extract_control_iter, cons_u_list):\n",
    "    results_list = []\n",
    "    for j in range(extract_control_iter):\n",
    "        param_init = np.random.uniform(size=(tau*u_dim,))\n",
    "\n",
    "\n",
    "        cons_list = cons_u_list\n",
    "        cons_y_lhs = generate_cons_y_lhs(x_koop)\n",
    "        cons_y_rhs = generate_cons_y_rhs(x_koop)\n",
    "        cons_y_dic_lhs = {'type': 'ineq', 'fun': cons_y_lhs}\n",
    "        cons_y_dic_rhs = {'type': 'ineq', 'fun': cons_y_rhs}\n",
    "        cons_list.append(cons_y_dic_lhs)\n",
    "        cons_list.append(cons_y_dic_rhs)\n",
    "\n",
    "\n",
    "        results = minimize(mpc_loss, \n",
    "                      x0=param_init,\n",
    "                      args = (tau, model_K_u_pred_pk, ref_soln, zeta_0, dic_func, j),\n",
    "                      constraints = cons_list)\n",
    "        u_opt = results.x[0]\n",
    "        u_opt = tf.reshape(u_opt, shape=(-1, u_dim))\n",
    "        x_koop = bilinear_motor.generate_next_data(x_koop, u_opt)  \n",
    "        zeta_0 = tf.concat([x_koop@Cy, u_opt, zeta_0[:,:-2]], axis=-1)\n",
    "\n",
    "        results_list.append(results.x[0])\n",
    "        print('current time', j)\n",
    "        print('fun', results.fun)\n",
    "        print('control', results.x[0])\n",
    "\n",
    "    new_control = tf.reshape(results_list, shape=(-1,1))\n",
    "    return new_control"
   ]
  },
  {
   "cell_type": "code",
   "execution_count": 66,
   "metadata": {},
   "outputs": [
    {
     "data": {
      "text/plain": [
       "5"
      ]
     },
     "execution_count": 66,
     "metadata": {},
     "output_type": "execute_result"
    }
   ],
   "source": [
    "traj_len_test_control-tau*u_dim"
   ]
  },
  {
   "cell_type": "code",
   "execution_count": 67,
   "metadata": {
    "scrolled": true
   },
   "outputs": [
    {
     "name": "stdout",
     "output_type": "stream",
     "text": [
      "current time 0\n",
      "fun 0.2713546148045452\n",
      "control 0.9999999999999999\n",
      "current time 1\n",
      "fun 0.20254685019362348\n",
      "control 0.6098541300791152\n",
      "current time 2\n",
      "fun 0.11592074477129678\n",
      "control -0.5459626501184077\n",
      "current time 3\n",
      "fun 0.11601672556803597\n",
      "control -1.0\n",
      "current time 4\n",
      "fun 0.16772130729306023\n",
      "control -1.0\n"
     ]
    }
   ],
   "source": [
    "new_control_cos = compute_mpc_control_cos(tau=tau,\n",
    "                    model_K_u_pred_pk=model_K_u_pred_pk,\n",
    "                    ref_soln=ref_soln_cos,\n",
    "                    zeta_0=zeta_0_cos, \n",
    "                    x_koop=xp_cos,\n",
    "                    dic_func=dic_pk,\n",
    "                    extract_control_iter=traj_len_test_control-tau*u_dim,\n",
    "                    cons_u_list=cons_u_list)"
   ]
  },
  {
   "cell_type": "markdown",
   "metadata": {},
   "source": [
    "## Substitute the control into Koopman model to predict"
   ]
  },
  {
   "cell_type": "code",
   "execution_count": 61,
   "metadata": {},
   "outputs": [],
   "source": [
    "# new_control_cos = np.save('results/motor/motor_cos_optimized_control.npy')"
   ]
  },
  {
   "cell_type": "code",
   "execution_count": 62,
   "metadata": {},
   "outputs": [],
   "source": [
    "# new_control_cos = np.load('results/motor/motor_cos_optimized_control.npy')"
   ]
  },
  {
   "cell_type": "code",
   "execution_count": 68,
   "metadata": {},
   "outputs": [
    {
     "data": {
      "text/plain": [
       "<matplotlib.collections.LineCollection at 0x7f9d08113700>"
      ]
     },
     "execution_count": 68,
     "metadata": {},
     "output_type": "execute_result"
    },
    {
     "data": {
      "image/png": "[encoded data removed]",
      "text/plain": [
       "<Figure size 432x288 with 1 Axes>"
      ]
     },
     "metadata": {
      "needs_background": "light"
     },
     "output_type": "display_data"
    }
   ],
   "source": [
    "# plt.figure(figsize=(5,3))\n",
    "plt.plot(new_control_cos, color='steelblue', linewidth=3)\n",
    "plt.xlabel(r'$n$', fontsize=label_font)\n",
    "plt.ylabel('Control', fontsize=label_font)\n",
    "plt.xticks(fontsize=ticks_font)\n",
    "plt.yticks(fontsize=ticks_font)\n",
    "plt.hlines(-1.0, 0, 300,  colors='k', linestyles='--', linewidth=3)\n",
    "plt.hlines(1.0, 0, 300,  colors='k', linestyles='--', linewidth=3)\n",
    "# plt.savefig('results/motor/cos_motor_learned_control.png', dpi=200, bbox_inches='tight')\n",
    "# plt.savefig('results/motor/cos_motor_learned_control.pdf', dpi=200, bbox_inches='tight')"
   ]
  },
  {
   "cell_type": "code",
   "execution_count": 69,
   "metadata": {},
   "outputs": [],
   "source": [
    "x_init_cos = tf.reshape(xp_cos, shape=(-1, x_dim))"
   ]
  },
  {
   "cell_type": "code",
   "execution_count": 70,
   "metadata": {},
   "outputs": [],
   "source": [
    "data_pred_control_cos = [x_init_cos]\n",
    "\n",
    "for i in range(new_control_cos.shape[0]):\n",
    "    data_pred_next = bilinear_motor.generate_next_data(data_pred_control_cos[-1], new_control_cos[i])\n",
    "    data_pred_control_cos.append(data_pred_next)\n",
    "\n",
    "data_pred_control_cos = tf.squeeze(tf.convert_to_tensor(data_pred_control_cos))"
   ]
  },
  {
   "cell_type": "code",
   "execution_count": 71,
   "metadata": {},
   "outputs": [
    {
     "data": {
      "text/plain": [
       "<matplotlib.legend.Legend at 0x7f9d0886fa30>"
      ]
     },
     "execution_count": 71,
     "metadata": {},
     "output_type": "execute_result"
    },
    {
     "data": {
      "image/png": "[encoded data removed]",
      "text/plain": [
       "<Figure size 432x288 with 1 Axes>"
      ]
     },
     "metadata": {
      "needs_background": "light"
     },
     "output_type": "display_data"
    }
   ],
   "source": [
    "# plt.figure(figsize=(5,3))\n",
    "plt.plot(data_pred_control_cos[:,1], label='PK-EDMD-DL + MPC', color='steelblue', linewidth=3)\n",
    "plt.plot(ref_soln_cos, '--', label='Reference', color='darkorange', linewidth=3)\n",
    "\n",
    "plt.xlabel(r'$n$', fontsize=label_font)\n",
    "plt.ylabel(r'$y$', fontsize=label_font)\n",
    "plt.hlines(-0.4, 0, 300,  colors='k', linestyles='--', linewidth=3)\n",
    "plt.hlines(0.4, 0, 300,  colors='k', linestyles='--', linewidth=3)\n",
    "plt.xticks(fontsize=ticks_font)\n",
    "plt.yticks(fontsize=ticks_font)\n",
    "plt.legend(fontsize=legend_font, loc=(0.03,0.3))\n",
    "# plt.savefig('results/motor/cos_motor_learned_pk.png', dpi=200, bbox_inches='tight')\n",
    "# plt.savefig('results/motor/cos_motor_learned_pk.pdf', dpi=200, bbox_inches='tight')"
   ]
  },
  {
   "cell_type": "code",
   "execution_count": 72,
   "metadata": {},
   "outputs": [],
   "source": [
    "step_pred_linear = pd.read_csv('results/motor_time_delay/data/step_pred.csv', header=None)\n",
    "step_yrr_linear = pd.read_csv('results/motor_time_delay/data/step_yrr.csv', header=None)"
   ]
  },
  {
   "cell_type": "code",
   "execution_count": 73,
   "metadata": {},
   "outputs": [],
   "source": [
    "cos_pred_linear = pd.read_csv('results/motor_time_delay/data/cos_pred.csv', header=None)\n",
    "cos_yrr_linear = pd.read_csv('results/motor_time_delay/data/cos_yrr.csv', header=None)"
   ]
  },
  {
   "cell_type": "code",
   "execution_count": 76,
   "metadata": {},
   "outputs": [],
   "source": [
    "step_pred_linear = step_pred_linear.values.T\n",
    "step_yrr_linear = step_yrr_linear.values.T"
   ]
  },
  {
   "cell_type": "code",
   "execution_count": 77,
   "metadata": {},
   "outputs": [],
   "source": [
    "cos_pred_linear = cos_pred_linear.values.T\n",
    "cos_yrr_linear = cos_yrr_linear.values.T"
   ]
  },
  {
   "cell_type": "code",
   "execution_count": 79,
   "metadata": {},
   "outputs": [
    {
     "data": {
      "text/plain": [
       "(400, 1)"
      ]
     },
     "execution_count": 79,
     "metadata": {},
     "output_type": "execute_result"
    }
   ],
   "source": [
    "step_yrr_linear.shape"
   ]
  },
  {
   "cell_type": "code",
   "execution_count": null,
   "metadata": {},
   "outputs": [],
   "source": []
  }
 ],
 "metadata": {
  "kernelspec": {
   "display_name": "koopman",
   "language": "python",
   "name": "koopman"
  },
  "language_info": {
   "codemirror_mode": {
    "name": "ipython",
    "version": 3
   },
   "file_extension": ".py",
   "mimetype": "text/x-python",
   "name": "python",
   "nbconvert_exporter": "python",
   "pygments_lexer": "ipython3",
   "version": "3.8.3"
  }
 },
 "nbformat": 4,
 "nbformat_minor": 2
}
