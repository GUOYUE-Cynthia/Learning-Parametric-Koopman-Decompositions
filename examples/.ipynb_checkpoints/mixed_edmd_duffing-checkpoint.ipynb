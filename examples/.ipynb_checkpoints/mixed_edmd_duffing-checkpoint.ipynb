{
 "cells": [
  {
   "cell_type": "code",
   "execution_count": 1,
   "metadata": {},
   "outputs": [],
   "source": [
    "import os; os.environ['CUDA_VISIBLE_DEVICES'] = '-1'"
   ]
  },
  {
   "cell_type": "code",
   "execution_count": 2,
   "metadata": {},
   "outputs": [],
   "source": [
    "%load_ext autoreload\n",
    "%autoreload 2"
   ]
  },
  {
   "cell_type": "code",
   "execution_count": 3,
   "metadata": {},
   "outputs": [],
   "source": [
    "import numpy as np\n",
    "import tensorflow as tf\n",
    "import matplotlib.pyplot as plt\n",
    "\n",
    "from koopmanlib.dictionary import PsiNN\n",
    "from koopmanlib.target import DuffingOscillator,DuffingParamTarget"
   ]
  },
  {
   "cell_type": "code",
   "execution_count": 4,
   "metadata": {},
   "outputs": [],
   "source": [
    "target_dim = 2\n",
    "param_dim = 3\n",
    "n_psi_train = 22\n",
    "n_psi = 1 + target_dim + n_psi_train"
   ]
  },
  {
   "cell_type": "code",
   "execution_count": 5,
   "metadata": {},
   "outputs": [
    {
     "name": "stdout",
     "output_type": "stream",
     "text": [
      "n_param 10\n",
      "n_traj_per_param 1000\n"
     ]
    }
   ],
   "source": [
    "n_traj_per_param = 1000 # Number of the trajectories for each choice of parameters\n",
    "n_param = int(10000 / n_traj_per_param) # Number of types of parameters\n",
    "traj_len = 50 # Number of the points on each trajectory\n",
    "# The number of the data pairs is the multiplication of these three values\n",
    "print('n_param', n_param)\n",
    "print('n_traj_per_param', n_traj_per_param)"
   ]
  },
  {
   "cell_type": "code",
   "execution_count": 6,
   "metadata": {},
   "outputs": [],
   "source": [
    "duffing_param = DuffingParamTarget(n_init=n_param,\n",
    "                                   n_traj_per_param=n_traj_per_param, \n",
    "                                   traj_len=traj_len, \n",
    "                                   seed_x=123, \n",
    "                                   seed_param=[1,2,3])"
   ]
  },
  {
   "cell_type": "code",
   "execution_count": 7,
   "metadata": {},
   "outputs": [],
   "source": [
    "# data_x, data_u = duffing_param.generate_init_data()\n",
    "# data_y = duffing_param.generate_next_data(data_x, data_u)"
   ]
  },
  {
   "cell_type": "code",
   "execution_count": 8,
   "metadata": {},
   "outputs": [],
   "source": [
    "position = traj_len*n_traj_per_param * np.arange(0,n_param+1)"
   ]
  },
  {
   "cell_type": "code",
   "execution_count": 9,
   "metadata": {},
   "outputs": [],
   "source": [
    "# data_u_sep = [data_u[start:end] for start, end in zip(position[:-1], position[1:])]\n",
    "# data_u_sep = np.asarray(data_u_sep)\n",
    "\n",
    "# data_x_sep = [data_x[start:end] for start, end in zip(position[:-1], position[1:])]\n",
    "# data_x_sep = np.asarray(data_x_sep)\n",
    "\n",
    "# data_y_sep = [data_y[start:end] for start, end in zip(position[:-1], position[1:])]\n",
    "# data_y_sep = np.asarray(data_y_sep)\n",
    "\n",
    "# dict_data = {'data_x': data_x,\n",
    "#               'data_y': data_y,\n",
    "#               'data_u': data_u}\n",
    "# np.save('results/duffing_param/data/duffing_data_n_param_'+str(n_param)+'_len_'+str(traj_len)+'_n_traj_per_'+str(n_traj_per_param)+'.npy', dict_data)\n",
    "\n",
    "# dict_data_sep = {'data_x_sep': data_x_sep,\n",
    "#               'data_y_sep': data_y_sep,\n",
    "#               'data_u_sep': data_u_sep}\n",
    "\n",
    "# np.save('results/duffing_param/data/duffing_data_sep_n_param_'+str(n_param)+'_len_'+str(traj_len)+'_n_traj_per_'+str(n_traj_per_param)+'.npy', dict_data_sep)"
   ]
  },
  {
   "cell_type": "code",
   "execution_count": 10,
   "metadata": {},
   "outputs": [
    {
     "name": "stderr",
     "output_type": "stream",
     "text": [
      "2023-09-01 21:04:20.432543: I tensorflow/core/platform/cpu_feature_guard.cc:193] This TensorFlow binary is optimized with oneAPI Deep Neural Network Library (oneDNN) to use the following CPU instructions in performance-critical operations:  AVX2 AVX512F AVX512_VNNI FMA\n",
      "To enable them in other operations, rebuild TensorFlow with the appropriate compiler flags.\n"
     ]
    }
   ],
   "source": [
    "dict_data = np.load('results/duffing_param/data/duffing_data_n_param_'+str(n_param)+'_len_'+str(traj_len)+'_n_traj_per_'+str(n_traj_per_param)+'.npy', allow_pickle=True)\n",
    "dict_data_sep = np.load('results/duffing_param/data/duffing_data_sep_n_param_'+str(n_param)+'_len_'+str(traj_len)+'_n_traj_per_'+str(n_traj_per_param)+'.npy', allow_pickle=True)\n",
    "\n",
    "data_x_sep = dict_data_sep[()]['data_x_sep']\n",
    "data_y_sep = dict_data_sep[()]['data_y_sep']\n",
    "data_u_sep = dict_data_sep[()]['data_u_sep']\n",
    "\n",
    "data_x = dict_data[()]['data_x']\n",
    "data_y = dict_data[()]['data_y']\n",
    "data_u = dict_data[()]['data_u']"
   ]
  },
  {
   "cell_type": "code",
   "execution_count": 11,
   "metadata": {},
   "outputs": [],
   "source": [
    "# index = 3\n",
    "\n",
    "# data_x_train = data_x_sep[index]\n",
    "# data_y_train = data_y_sep[index]\n",
    "# data_u_train = data_u_sep[index]\n",
    "\n",
    "# data_x_valid = data_x_train\n",
    "# data_y_valid = data_y_train\n",
    "\n",
    "# data_x_train.shape\n",
    "\n",
    "data_u_list = [data_u[i] for i in position[:-1]]\n",
    "data_u_list = np.asarray(data_u_list)"
   ]
  },
  {
   "cell_type": "code",
   "execution_count": 12,
   "metadata": {},
   "outputs": [],
   "source": [
    "# # Visualize data\n",
    "# fig, (ax1,ax2) = plt.subplots(1,2,sharey=True, figsize=(10,5))\n",
    "\n",
    "# ax1.plot(data_x_valid[:,0], data_x_valid[:,1], '.')\n",
    "# ax1.set_xlabel(r'$x_{1}$')\n",
    "# ax1.set_ylabel(r'$x_{2}$')\n",
    "# ax2.plot(data_y_valid[:,0], data_y_valid[:,1], '.')\n",
    "# ax2.set_xlabel(r'$x_{1}$')\n",
    "# ax2.set_ylabel(r'$x_{2}$')\n",
    "# plt.tight_layout()"
   ]
  },
  {
   "cell_type": "code",
   "execution_count": 13,
   "metadata": {},
   "outputs": [],
   "source": [
    "# data_train = [data_x_train, data_y_train]\n",
    "# data_valid = [data_x_valid, data_y_valid]"
   ]
  },
  {
   "cell_type": "markdown",
   "metadata": {},
   "source": [
    "# Parametric Koopman"
   ]
  },
  {
   "cell_type": "code",
   "execution_count": 14,
   "metadata": {},
   "outputs": [],
   "source": [
    "from koopmanlib.param_solver import KoopmanParametricDLSolver\n",
    "from tensorflow.keras.optimizers import Adam\n",
    "\n",
    "dic_pk = PsiNN(layer_sizes=[100,100,100], n_psi_train=n_psi_train)\n",
    "\n",
    "solver_pk = KoopmanParametricDLSolver(target_dim=target_dim, param_dim=param_dim, n_psi=n_psi, dic=dic_pk)\n",
    "\n",
    "model_pk, model_K_u_pred_pk = solver_pk.generate_model(layer_sizes=[128, 256, 128])"
   ]
  },
  {
   "cell_type": "code",
   "execution_count": 15,
   "metadata": {},
   "outputs": [],
   "source": [
    "# zeros_data_y_train = tf.zeros_like(dic_pk(data_y))"
   ]
  },
  {
   "cell_type": "code",
   "execution_count": 16,
   "metadata": {},
   "outputs": [],
   "source": [
    "model_pk.compile(optimizer=Adam(0.001),\n",
    "             loss='mse')\n",
    "\n",
    "lr_callbacks = tf.keras.callbacks.ReduceLROnPlateau(monitor='loss',\n",
    "                                                    factor=0.1,\n",
    "                                                    patience=200,\n",
    "                                                    verbose=0,\n",
    "                                                    mode='auto',\n",
    "                                                    min_delta=0.0001,\n",
    "                                                    cooldown=0,\n",
    "                                                    min_lr=1e-12)"
   ]
  },
  {
   "cell_type": "code",
   "execution_count": 17,
   "metadata": {},
   "outputs": [],
   "source": [
    "# history = model_pk.fit(x=[data_x, data_y, data_u], \n",
    "#                     y=zeros_data_y_train, \n",
    "#                     epochs=5, \n",
    "#                     batch_size=200,\n",
    "#                     callbacks=lr_callbacks,\n",
    "#                     verbose=1)"
   ]
  },
  {
   "cell_type": "code",
   "execution_count": 18,
   "metadata": {},
   "outputs": [],
   "source": [
    "model_pk.load_weights('results/duffing_param/weights/pk_duffing_weights_data_'+str(n_traj_per_param)+'_n_param_'+str(n_param)+'.h5')"
   ]
  },
  {
   "cell_type": "markdown",
   "metadata": {},
   "source": [
    "# Test"
   ]
  },
  {
   "cell_type": "code",
   "execution_count": 19,
   "metadata": {},
   "outputs": [],
   "source": [
    "# Plot reconstruction\n",
    "import matplotlib\n",
    "matplotlib.rcParams.update({'font.size': 18})"
   ]
  },
  {
   "cell_type": "code",
   "execution_count": 27,
   "metadata": {},
   "outputs": [],
   "source": [
    "n_traj_test = 1\n",
    "traj_len_test = 50"
   ]
  },
  {
   "cell_type": "code",
   "execution_count": 28,
   "metadata": {},
   "outputs": [],
   "source": [
    "seed_x_test = 123"
   ]
  },
  {
   "cell_type": "markdown",
   "metadata": {},
   "source": [
    "## Set fixed x0 and parameter"
   ]
  },
  {
   "cell_type": "code",
   "execution_count": 29,
   "metadata": {},
   "outputs": [],
   "source": [
    "# Generate testing data\n",
    "duffing_test = DuffingParamTarget(n_init=1,\n",
    "                                   n_traj_per_param=1, \n",
    "                                   traj_len=traj_len_test, \n",
    "                                   seed_x=seed_x_test, \n",
    "                                   seed_param=None)"
   ]
  },
  {
   "cell_type": "markdown",
   "metadata": {},
   "source": [
    "## For EDMD-DL"
   ]
  },
  {
   "cell_type": "code",
   "execution_count": 30,
   "metadata": {},
   "outputs": [],
   "source": [
    "def compute_edmd_pred_data(n_traj_per_param, index, fixed_x0, fixed_param):\n",
    "    traj_len = 50\n",
    "    n_param = int(10000 / n_traj_per_param)\n",
    "    position = traj_len*n_traj_per_param * np.arange(0,n_param+1)\n",
    "\n",
    "    data_x_train = data_x_sep[index]\n",
    "    data_y_train = data_y_sep[index]\n",
    "    data_u_train = data_u_sep[index]\n",
    "\n",
    "    data_x_valid = data_x_train\n",
    "    data_y_valid = data_y_train\n",
    "\n",
    "    data_train = [data_x_train, data_y_train]\n",
    "    data_valid = [data_x_valid, data_y_valid]\n",
    "\n",
    "    basis_function = PsiNN(layer_sizes=[100,100,100], n_psi_train=22)\n",
    "\n",
    "    from koopmanlib.solver import KoopmanDLSolver\n",
    "    solver = KoopmanDLSolver(dic=basis_function,\n",
    "                             target_dim=2,\n",
    "                             reg=0.1)\n",
    "\n",
    "    solver.build(data_train=data_train,\n",
    "                 data_valid=data_valid,\n",
    "                 epochs=0,\n",
    "                 batch_size=5000,\n",
    "                 lr=1e-4,\n",
    "                 log_interval=20,\n",
    "                 lr_decay_factor=0.8)\n",
    "\n",
    "    solver.model.load_weights('results/duffing_param/weights/edmd_duffing_weights_data_'+str(index)+'_n_traj_per_param_'+str(n_traj_per_param)+'_n_param_'+str(n_param)+'.h5')\n",
    "    solver.build(data_train=data_train,\n",
    "                 data_valid=data_valid,\n",
    "                 epochs=0,\n",
    "                 batch_size=5000,\n",
    "                 lr=1e-4,\n",
    "                 log_interval=20,\n",
    "                 lr_decay_factor=0.8)\n",
    "    \n",
    "    \n",
    "    data_x_test, data_u_test = duffing_test.generate_fix_param_init_data(fixed_x0=fixed_x0, fixed_param=fixed_param)\n",
    "\n",
    "    # Exact trajectory: data_x_test\n",
    "\n",
    "    # Estimated trajectory from DL\n",
    "    x0_test = data_x_test[0]\n",
    "    x0_test = x0_test.reshape(-1,x0_test.shape[-1])\n",
    "\n",
    "    x_est_traj_DL = solver.predict(x0_test, traj_len_test)\n",
    "    return data_x_test, x_est_traj_DL"
   ]
  },
  {
   "cell_type": "markdown",
   "metadata": {},
   "source": [
    "## For PK"
   ]
  },
  {
   "cell_type": "code",
   "execution_count": 31,
   "metadata": {},
   "outputs": [],
   "source": [
    "def compute_pk_data_list_fix_param(dic_func, model_K_u_pred, traj_len, seed_x, x0, param):\n",
    "    data_true_list = []\n",
    "    data_pred_list = []\n",
    "\n",
    "    duffing_param = DuffingParamTarget(n_init=1,n_traj_per_param=1, traj_len=traj_len, seed_x=seed_x)\n",
    "    \n",
    "    data_x, data_u = duffing_param.generate_fix_param_init_data(fixed_x0=x0, fixed_param=param)\n",
    "    print('u', data_u[0])\n",
    "    \n",
    "    B = dic_func.generate_B(data_x)\n",
    "    data_x_list = [data_x]\n",
    "\n",
    "    for _ in range(traj_len-1):\n",
    "        psi_x = dic_func(data_x_list[-1])\n",
    "        psi_y = model_K_u_pred([data_u, psi_x])\n",
    "        y_pred = psi_y @ B\n",
    "        data_x_list.append(y_pred)\n",
    "\n",
    "    data_x_list = np.array(data_x_list)\n",
    "\n",
    "    data_x_list_reshape = np.transpose(data_x_list, [1,0,2])\n",
    "\n",
    "    data_pred = data_x_list_reshape[0]\n",
    "\n",
    "    data_x_init = data_x[0].reshape(-1,data_x.shape[-1])\n",
    "\n",
    "    data_true_list.append(data_x)\n",
    "    data_pred_list.append(data_pred)\n",
    "\n",
    "    data_true_list = np.squeeze(np.asarray(data_true_list))\n",
    "    data_pred_list = np.squeeze(np.asarray(data_pred_list))\n",
    "    return data_true_list, data_pred_list, data_x_init"
   ]
  },
  {
   "cell_type": "code",
   "execution_count": 32,
   "metadata": {},
   "outputs": [],
   "source": [
    "from koopmanlib.functions import *"
   ]
  },
  {
   "cell_type": "code",
   "execution_count": 33,
   "metadata": {},
   "outputs": [],
   "source": [
    "np.random.seed(seed=625)\n",
    "n_sample = 5\n",
    "param_index_list = np.random.randint(0,n_param, size=(n_sample,))"
   ]
  },
  {
   "cell_type": "code",
   "execution_count": 34,
   "metadata": {},
   "outputs": [
    {
     "data": {
      "text/plain": [
       "array([3, 1, 6, 8, 8])"
      ]
     },
     "execution_count": 34,
     "metadata": {},
     "output_type": "execute_result"
    }
   ],
   "source": [
    "param_index_list"
   ]
  },
  {
   "cell_type": "code",
   "execution_count": 35,
   "metadata": {},
   "outputs": [],
   "source": [
    "def compute_pred_error(param_index_list):\n",
    "#     edmd_pred_list = []\n",
    "#     pk_pred_list = []\n",
    "#     true_list = []\n",
    "\n",
    "    ratio_edmd_list = []\n",
    "    ratio_pk_list = []\n",
    "\n",
    "    for index in param_index_list:\n",
    "        fixed_param = data_u_list[index]\n",
    "\n",
    "        data_x_train = data_x_sep[index]\n",
    "        fixed_x0 = data_x_train[0]\n",
    "\n",
    "        data_x_test_edmd_true, x_est_traj_DL_edmd = compute_edmd_pred_data(n_traj_per_param=n_traj_per_param,\n",
    "                                                                index=index,\n",
    "                                                                fixed_x0=fixed_x0, \n",
    "                                                                fixed_param=fixed_param)\n",
    "\n",
    "        data_true_list_pk, data_pred_list_pk, data_x_init_pk = compute_pk_data_list_fix_param(dic_pk, \n",
    "                                                                   model_K_u_pred_pk,\n",
    "                                                                   traj_len_test,\n",
    "                                                                   seed_x = seed_x_test,\n",
    "                                                                   x0=fixed_x0,\n",
    "                                                                   param =fixed_param)\n",
    "#         edmd_pred_list.append(x_est_traj_DL_edmd)\n",
    "#         pk_pred_list.append(data_pred_list_pk)\n",
    "#         true_list.append(data_true_list_pk)\n",
    "\n",
    "        ratio_pk = compute_diff_ratio_one_traj(data_true_list_pk, data_pred_list_pk)\n",
    "        ratio_edmd = compute_diff_ratio_one_traj(data_true_list_pk, x_est_traj_DL_edmd)\n",
    "\n",
    "        ratio_edmd_list.append(ratio_edmd)\n",
    "        ratio_pk_list.append(ratio_pk)\n",
    "        \n",
    "    ratio_edmd_list = np.asarray(ratio_edmd_list)\n",
    "    ratio_pk_list = np.asarray(ratio_pk_list)\n",
    "    return ratio_edmd_list, ratio_pk_list"
   ]
  },
  {
   "cell_type": "code",
   "execution_count": 36,
   "metadata": {},
   "outputs": [
    {
     "name": "stdout",
     "output_type": "stream",
     "text": [
      "u [0.30233257 0.87064479 0.04331042]\n",
      "u [0.72032449 0.05185246 0.83259129]\n",
      "u [ 0.18626021  0.40929727 -1.49765876]\n",
      "u [ 0.39676747  0.59930935 -1.79413119]\n",
      "u [ 0.39676747  0.59930935 -1.79413119]\n"
     ]
    }
   ],
   "source": [
    "train_ratio_edmd_list, train_ratio_pk_list = compute_pred_error(param_index_list)"
   ]
  },
  {
   "cell_type": "code",
   "execution_count": 37,
   "metadata": {},
   "outputs": [],
   "source": [
    "train_ratio_edmd_list_mean = np.mean(train_ratio_edmd_list, axis=0)\n",
    "train_ratio_pk_list_mean = np.mean(train_ratio_pk_list, axis=0)\n",
    "train_ratio_edmd_list_std = np.std(train_ratio_edmd_list, axis=0)\n",
    "train_ratio_pk_list_std = np.std(train_ratio_pk_list, axis=0)\n",
    "\n",
    "train_ratio_edmd_list_max = train_ratio_edmd_list_mean+train_ratio_edmd_list_std\n",
    "train_ratio_pk_list_max = train_ratio_pk_list_mean+train_ratio_pk_list_std\n",
    "train_ratio_edmd_list_min = train_ratio_edmd_list_mean-train_ratio_edmd_list_std\n",
    "train_ratio_pk_list_min = train_ratio_pk_list_mean-train_ratio_pk_list_std"
   ]
  },
  {
   "cell_type": "code",
   "execution_count": 38,
   "metadata": {},
   "outputs": [],
   "source": [
    "x_axis = np.arange(0,50,1)"
   ]
  },
  {
   "cell_type": "code",
   "execution_count": 40,
   "metadata": {},
   "outputs": [
    {
     "data": {
      "image/png": "[encoded data removed]",
      "text/plain": [
       "<Figure size 432x288 with 1 Axes>"
      ]
     },
     "metadata": {
      "needs_background": "light"
     },
     "output_type": "display_data"
    }
   ],
   "source": [
    "plt.figure(figsize=(6,4))\n",
    "plt.plot(train_ratio_pk_list_mean, label='Ours', color='steelblue', linewidth=3)\n",
    "plt.fill_between(x_axis, train_ratio_pk_list_min, train_ratio_pk_list_max, color='lightsteelblue', alpha=0.5)\n",
    "\n",
    "plt.plot(train_ratio_edmd_list_mean, label='M1', color='darkorange', linewidth=3)\n",
    "plt.fill_between(x_axis, train_ratio_edmd_list_min, train_ratio_edmd_list_max, color='navajowhite', alpha=0.5)\n",
    "\n",
    "\n",
    "\n",
    "\n",
    "plt.ticklabel_format(axis='y', style='sci', scilimits=(0,0))\n",
    "plt.gca().yaxis.get_offset_text().set_fontsize(18)\n",
    "\n",
    "plt.xlabel(r'$n$', fontsize=28)\n",
    "plt.ylabel('Error', fontsize=28)\n",
    "plt.xticks(fontsize=18)\n",
    "plt.yticks(fontsize=18)\n",
    "plt.legend(fontsize=18, loc=(1,2))\n",
    "\n",
    "plt.savefig('results/duffing_param/figures/training_duffing_error_'+str(n_traj_per_param)+'.png', dpi=200, bbox_inches='tight')\n",
    "plt.savefig('results/duffing_param/figures/training_duffing_error_'+str(n_traj_per_param)+'.pdf', dpi=200, bbox_inches='tight')"
   ]
  },
  {
   "cell_type": "code",
   "execution_count": 64,
   "metadata": {},
   "outputs": [
    {
     "data": {
      "image/png": "[encoded data removed]",
      "text/plain": [
       "<Figure size 432x288 with 1 Axes>"
      ]
     },
     "metadata": {
      "needs_background": "light"
     },
     "output_type": "display_data"
    }
   ],
   "source": [
    "# plt.figure(figsize=(6,4))\n",
    "# plt.plot(train_ratio_pk_list_mean, label='PK-EDMD-DL', color='steelblue', linewidth=3)\n",
    "# plt.fill_between(x_axis, train_ratio_pk_list_min, train_ratio_pk_list_max, color='lightsteelblue', alpha=0.5)\n",
    "\n",
    "# plt.plot(train_ratio_edmd_list_mean, label='K-EDMD-DL', color='darkorange', linewidth=3)\n",
    "# plt.fill_between(x_axis, train_ratio_edmd_list_min, train_ratio_edmd_list_max, color='navajowhite', alpha=0.5)\n",
    "\n",
    "\n",
    "\n",
    "\n",
    "# plt.ticklabel_format(axis='y', style='sci', scilimits=(0,0))\n",
    "# plt.gca().yaxis.get_offset_text().set_fontsize(18)\n",
    "\n",
    "# plt.xlabel(r'$n$', fontsize=28)\n",
    "# plt.ylabel('Error', fontsize=28)\n",
    "# plt.xticks(fontsize=18)\n",
    "# plt.yticks(fontsize=18)\n",
    "# # plt.legend(fontsize=18, loc=(1,2))\n",
    "\n",
    "# plt.savefig('results/duffing_param/figures/training_duffing_error_'+str(n_traj_per_param)+'.png', dpi=200, bbox_inches='tight')\n",
    "# plt.savefig('results/duffing_param/figures/training_duffing_error_'+str(n_traj_per_param)+'.pdf', dpi=200, bbox_inches='tight')"
   ]
  },
  {
   "cell_type": "code",
   "execution_count": 49,
   "metadata": {},
   "outputs": [],
   "source": [
    "# plt.scatter(solver.eigenvalues.real,solver.eigenvalues.imag)\n",
    "# plt.xlabel(r'Re$(\\mu)$')\n",
    "# plt.ylabel(r'Im$(\\mu)$')\n",
    "# plt.title('EDMD-DL')"
   ]
  },
  {
   "cell_type": "markdown",
   "metadata": {},
   "source": [
    "# For random inputs"
   ]
  },
  {
   "cell_type": "code",
   "execution_count": 50,
   "metadata": {},
   "outputs": [],
   "source": [
    "from sklearn.neighbors import NearestNeighbors"
   ]
  },
  {
   "cell_type": "code",
   "execution_count": 51,
   "metadata": {},
   "outputs": [],
   "source": [
    "data_x_test_random, data_u_test_random = duffing_test.generate_init_data()\n",
    "random_x0 = data_x_test_random[0]\n",
    "query_u0 = data_u_test_random[0]"
   ]
  },
  {
   "cell_type": "code",
   "execution_count": 52,
   "metadata": {},
   "outputs": [
    {
     "data": {
      "text/plain": [
       "(3,)"
      ]
     },
     "execution_count": 52,
     "metadata": {},
     "output_type": "execute_result"
    }
   ],
   "source": [
    "query_u0.shape"
   ]
  },
  {
   "cell_type": "code",
   "execution_count": 53,
   "metadata": {},
   "outputs": [
    {
     "name": "stdout",
     "output_type": "stream",
     "text": [
      "param_random_list [[307 284 412]\n",
      " [193 150 136]\n",
      " [344 209 342]\n",
      " [ 24 338 262]\n",
      " [ 19 302 205]\n",
      " [ 68 397 444]\n",
      " [459  41 161]\n",
      " [466 174   2]\n",
      " [423 301 426]\n",
      " [238 372 279]]\n",
      "x_random_list [[ 47]\n",
      " [442]\n",
      " [148]\n",
      " [ 12]\n",
      " [425]\n",
      " [240]\n",
      " [127]\n",
      " [160]\n",
      " [465]\n",
      " [190]]\n"
     ]
    }
   ],
   "source": [
    "np.random.seed(seed=625)\n",
    "n_sample = 5\n",
    "param_random_list = np.random.randint(0,500,size=(n_sample,3))\n",
    "x_random_list = np.random.randint(0,500,size=(n_sample,1))\n",
    "print('param_random_list', param_random_list)\n",
    "print('x_random_list', x_random_list)"
   ]
  },
  {
   "cell_type": "code",
   "execution_count": 54,
   "metadata": {},
   "outputs": [],
   "source": [
    "def compute_nearest_pred_data(param_random_list, x_random_list):\n",
    "    # Generate testing data\n",
    "    \n",
    "    ratio_edmd_list = []\n",
    "    ratio_pk_list = []\n",
    "\n",
    "    for seed_param, seed_x in zip(param_random_list, x_random_list):\n",
    "        duffing_test = DuffingParamTarget(n_init=1,\n",
    "                                       n_traj_per_param=1, \n",
    "                                       traj_len=traj_len_test, \n",
    "                                       seed_x=seed_x, \n",
    "                                       seed_param=seed_param)\n",
    "    \n",
    "        data_x_test_random, data_u_test_random = duffing_test.generate_init_data()\n",
    "        random_x0 = data_x_test_random[0]\n",
    "        query_u0 = data_u_test_random[0]\n",
    "        \n",
    "        query_u0 = query_u0.reshape(1,-1)\n",
    "\n",
    "        # Instantiate the NearestNeighbors class with k=1\n",
    "        knn = NearestNeighbors(n_neighbors=1)\n",
    "\n",
    "        # Fit the algorithm on the data\n",
    "        knn.fit(data_u_list)\n",
    "\n",
    "        # Query the nearest neighbor of a new point\n",
    "        distances, u_index = knn.kneighbors(query_u0)\n",
    "        \n",
    "        u_index = u_index[0][0]\n",
    "\n",
    "        fixed_param = data_u_list[u_index]\n",
    "        \n",
    "        data_x_test_edmd_true, x_est_traj_DL_edmd = compute_edmd_pred_data(n_traj_per_param=n_traj_per_param,\n",
    "                                                                index=u_index,\n",
    "                                                                fixed_x0=random_x0, \n",
    "                                                                fixed_param=fixed_param)\n",
    "\n",
    "        data_true_list_pk, data_pred_list_pk, data_x_init_pk = compute_pk_data_list_fix_param(dic_pk, \n",
    "                                                                   model_K_u_pred_pk,\n",
    "                                                                   traj_len_test,\n",
    "                                                                   seed_x = seed_x_test,\n",
    "                                                                   x0=random_x0,\n",
    "                                                                   param =query_u0.reshape(-1,))\n",
    "#         edmd_pred_list.append(x_est_traj_DL_edmd)\n",
    "#         pk_pred_list.append(data_pred_list_pk)\n",
    "#         true_list.append(data_true_list_pk)\n",
    "\n",
    "        ratio_pk = compute_diff_ratio_one_traj(data_true_list_pk, data_pred_list_pk)\n",
    "        ratio_edmd = compute_diff_ratio_one_traj(data_true_list_pk, x_est_traj_DL_edmd)\n",
    "\n",
    "        ratio_edmd_list.append(ratio_edmd)\n",
    "        ratio_pk_list.append(ratio_pk)\n",
    "        \n",
    "    ratio_edmd_list = np.asarray(ratio_edmd_list)\n",
    "    ratio_pk_list = np.asarray(ratio_pk_list)\n",
    "    return ratio_edmd_list, ratio_pk_list"
   ]
  },
  {
   "cell_type": "code",
   "execution_count": 55,
   "metadata": {},
   "outputs": [
    {
     "name": "stdout",
     "output_type": "stream",
     "text": [
      "u [0.32063099 1.69175527 1.77986906]\n",
      "u [ 0.40198868  1.81716788 -1.38713625]\n",
      "u [ 0.31388584  1.68656765 -1.73986241]\n",
      "u [ 0.9600173   0.23507002 -0.4313882 ]\n",
      "u [0.0975336  1.27256242 1.84104282]\n",
      "u [0.25937147 0.42464114 1.35744419]\n",
      "u [0.37632303 0.50184725 1.76269442]\n",
      "u [ 0.42021199  0.92007747 -0.25602039]\n",
      "u [0.33713895 0.67456    1.48692911]\n",
      "u [0.0653385  0.45970737 0.34315017]\n"
     ]
    }
   ],
   "source": [
    "test_ratio_edmd_list, test_ratio_pk_list = compute_nearest_pred_data(param_random_list, x_random_list)"
   ]
  },
  {
   "cell_type": "code",
   "execution_count": 56,
   "metadata": {},
   "outputs": [],
   "source": [
    "test_ratio_edmd_list_mean = np.mean(test_ratio_edmd_list, axis=0)\n",
    "test_ratio_pk_list_mean = np.mean(test_ratio_pk_list, axis=0)\n",
    "test_ratio_edmd_list_std = np.std(test_ratio_edmd_list, axis=0)\n",
    "test_ratio_pk_list_std = np.std(test_ratio_pk_list, axis=0)\n",
    "\n",
    "test_ratio_edmd_list_max = test_ratio_edmd_list_mean+test_ratio_edmd_list_std\n",
    "test_ratio_pk_list_max = test_ratio_pk_list_mean+test_ratio_pk_list_std\n",
    "test_ratio_edmd_list_min = test_ratio_edmd_list_mean-test_ratio_edmd_list_std\n",
    "test_ratio_pk_list_min = test_ratio_pk_list_mean-test_ratio_pk_list_std"
   ]
  },
  {
   "cell_type": "code",
   "execution_count": 57,
   "metadata": {},
   "outputs": [
    {
     "data": {
      "text/plain": [
       "<matplotlib.legend.Legend at 0x7fd236e36eb0>"
      ]
     },
     "execution_count": 57,
     "metadata": {},
     "output_type": "execute_result"
    },
    {
     "data": {
      "image/png": "[encoded data removed]",
      "text/plain": [
       "<Figure size 432x288 with 1 Axes>"
      ]
     },
     "metadata": {
      "needs_background": "light"
     },
     "output_type": "display_data"
    }
   ],
   "source": [
    "plt.figure(figsize=(6,4))\n",
    "\n",
    "plt.plot(test_ratio_edmd_list_mean, label='Koopman (fixed)', color='darkorange', linewidth=3)\n",
    "plt.fill_between(x_axis, test_ratio_edmd_list_min, test_ratio_edmd_list_max, color='navajowhite', alpha=0.5)\n",
    "\n",
    "plt.plot(test_ratio_pk_list_mean, label='P-Koopman', color='steelblue', linewidth=3)\n",
    "plt.fill_between(x_axis, test_ratio_pk_list_min, test_ratio_pk_list_max, color='lightsteelblue', alpha=0.5)\n",
    "\n",
    "\n",
    "plt.ticklabel_format(axis='y', style='sci', scilimits=(0,0))\n",
    "plt.gca().yaxis.get_offset_text().set_fontsize(18)\n",
    "\n",
    "plt.xlabel(r'$n$', fontsize=28)\n",
    "plt.ylabel('Error', fontsize=28)\n",
    "plt.xticks(fontsize=18)\n",
    "plt.yticks(fontsize=18)\n",
    "plt.legend(fontsize=18)\n",
    "\n",
    "# plt.savefig('results/duffing_param/figures/testing_duffing_error_'+str(n_traj_per_param)+'.png', dpi=200, bbox_inches='tight')\n",
    "# plt.savefig('results/duffing_param/figures/testing_duffing_error_'+str(n_traj_per_param)+'.pdf', dpi=200, bbox_inches='tight')"
   ]
  },
  {
   "cell_type": "markdown",
   "metadata": {},
   "source": [
    "# Save data"
   ]
  },
  {
   "cell_type": "code",
   "execution_count": null,
   "metadata": {},
   "outputs": [],
   "source": [
    "dict_mean = {'pk_train': train_ratio_pk_list_mean,\n",
    "             'edmd_train': train_ratio_edmd_list_mean,\n",
    "             'pk_test':test_ratio_pk_list_mean,\n",
    "            'edmd_test':test_ratio_edmd_list_mean}"
   ]
  },
  {
   "cell_type": "code",
   "execution_count": null,
   "metadata": {},
   "outputs": [],
   "source": [
    "dict_std = {'pk_train': train_ratio_pk_list_std,\n",
    "             'edmd_train': train_ratio_edmd_list_std,\n",
    "             'pk_test':test_ratio_pk_list_std,\n",
    "            'edmd_test':test_ratio_edmd_list_std}"
   ]
  },
  {
   "cell_type": "code",
   "execution_count": null,
   "metadata": {},
   "outputs": [],
   "source": [
    "# np.save('results/duffing_param/data/error_dict_n_traj_per_param_'+str(n_traj_per_param)+'_n_param_'+str(n_param)+'_mean.npy', dict_mean)\n",
    "# np.save('results/duffing_param/data/error_dict_n_traj_per_param_'+str(n_traj_per_param)+'_n_param_'+str(n_param)+'_std.npy', dict_std)"
   ]
  },
  {
   "cell_type": "markdown",
   "metadata": {},
   "source": [
    "# Load data"
   ]
  },
  {
   "cell_type": "code",
   "execution_count": null,
   "metadata": {},
   "outputs": [],
   "source": [
    "dict_mean = np.load('results/duffing_param/data/error_dict_n_traj_per_param_'+str(n_traj_per_param)+'_n_param_'+str(n_param)+'_mean.npy', allow_pickle=True)\n",
    "dict_std = np.load('results/duffing_param/data/error_dict_n_traj_per_param_'+str(n_traj_per_param)+'_n_param_'+str(n_param)+'_std.npy', allow_pickle=True)\n",
    "\n",
    "train_ratio_pk_list_mean = dict_mean[()]['pk_train']\n",
    "train_ratio_pk_list_std = dict_std[()]['pk_train']\n",
    "\n",
    "train_ratio_edmd_list_mean = dict_mean[()]['edmd_train']\n",
    "train_ratio_edmd_list_std = dict_std[()]['edmd_train']\n",
    "\n",
    "test_ratio_pk_list_mean = dict_mean[()]['pk_test']\n",
    "test_ratio_pk_list_std = dict_std[()]['pk_test']\n",
    "\n",
    "test_ratio_edmd_list_mean = dict_mean[()]['edmd_test']\n",
    "test_ratio_edmd_list_std = dict_std[()]['edmd_test']\n",
    "\n",
    "train_ratio_edmd_list_max = train_ratio_edmd_list_mean+train_ratio_edmd_list_std\n",
    "train_ratio_pk_list_max = train_ratio_pk_list_mean+train_ratio_pk_list_std\n",
    "train_ratio_edmd_list_min = train_ratio_edmd_list_mean-train_ratio_edmd_list_std\n",
    "train_ratio_pk_list_min = train_ratio_pk_list_mean-train_ratio_pk_list_std\n",
    "\n",
    "test_ratio_edmd_list_max = test_ratio_edmd_list_mean+test_ratio_edmd_list_std\n",
    "test_ratio_pk_list_max = test_ratio_pk_list_mean+test_ratio_pk_list_std\n",
    "test_ratio_edmd_list_min = test_ratio_edmd_list_mean-test_ratio_edmd_list_std\n",
    "test_ratio_pk_list_min = test_ratio_pk_list_mean-test_ratio_pk_list_std"
   ]
  },
  {
   "cell_type": "code",
   "execution_count": null,
   "metadata": {},
   "outputs": [],
   "source": [
    "plt.figure(figsize=(6,4))\n",
    "\n",
    "plt.plot(train_ratio_pk_list_mean, label='P-Koopman', color='steelblue', linewidth=3)\n",
    "plt.fill_between(x_axis, train_ratio_pk_list_min, train_ratio_pk_list_max, color='lightsteelblue', alpha=0.5)\n",
    "\n",
    "plt.plot(train_ratio_edmd_list_mean, label='Koopman (fixed)', color='darkorange', linewidth=3)\n",
    "plt.fill_between(x_axis, train_ratio_edmd_list_min, train_ratio_edmd_list_max, color='navajowhite', alpha=0.5)\n",
    "\n",
    "\n",
    "\n",
    "\n",
    "plt.ticklabel_format(axis='y', style='sci', scilimits=(0,0))\n",
    "plt.gca().yaxis.get_offset_text().set_fontsize(18)\n",
    "\n",
    "plt.xlabel(r'$n$', fontsize=28)\n",
    "plt.ylabel('Error', fontsize=28)\n",
    "plt.xticks(fontsize=18)\n",
    "plt.yticks(fontsize=18)\n",
    "# plt.legend(fontsize=18)\n",
    "\n",
    "# plt.savefig('results/duffing_param/figures/training_duffing_error_n_traj_per_param_'+str(n_traj_per_param)+'_n_param_'+str(n_param)+'.png', dpi=200, bbox_inches='tight')\n",
    "# plt.savefig('results/duffing_param/figures/training_duffing_error_n_traj_per_param_'+str(n_traj_per_param)+'_n_param_'+str(n_param)+'.pdf', dpi=200, bbox_inches='tight')"
   ]
  },
  {
   "cell_type": "code",
   "execution_count": null,
   "metadata": {},
   "outputs": [],
   "source": [
    "plt.figure(figsize=(6,4))\n",
    "\n",
    "plt.plot(test_ratio_pk_list_mean, label='P-Koopman', color='steelblue', linewidth=3)\n",
    "plt.fill_between(x_axis, test_ratio_pk_list_min, test_ratio_pk_list_max, color='lightsteelblue', alpha=0.5)\n",
    "\n",
    "plt.plot(test_ratio_edmd_list_mean, label='Fixed Koopman', color='darkorange', linewidth=3)\n",
    "plt.fill_between(x_axis, test_ratio_edmd_list_min, test_ratio_edmd_list_max, color='navajowhite', alpha=0.5)\n",
    "\n",
    "\n",
    "\n",
    "\n",
    "plt.ticklabel_format(axis='y', style='sci', scilimits=(0,0))\n",
    "plt.gca().yaxis.get_offset_text().set_fontsize(18)\n",
    "\n",
    "plt.xlabel(r'$n$', fontsize=28)\n",
    "plt.ylabel('Error', fontsize=28)\n",
    "plt.xticks(fontsize=18)\n",
    "plt.yticks(fontsize=18)\n",
    "# plt.legend(fontsize=18, loc=(2,2))\n",
    "\n",
    "# plt.savefig('results/duffing_param/figures/testing_duffing_error_n_traj_per_param_'+str(n_traj_per_param)+'_n_param_'+str(n_param)+'.png', dpi=200, bbox_inches='tight')\n",
    "# plt.savefig('results/duffing_param/figures/testing_duffing_error_n_traj_per_param_'+str(n_traj_per_param)+'_n_param_'+str(n_param)+'.pdf', dpi=200, bbox_inches='tight')"
   ]
  },
  {
   "cell_type": "code",
   "execution_count": null,
   "metadata": {},
   "outputs": [],
   "source": []
  },
  {
   "cell_type": "code",
   "execution_count": null,
   "metadata": {},
   "outputs": [],
   "source": []
  },
  {
   "cell_type": "code",
   "execution_count": null,
   "metadata": {},
   "outputs": [],
   "source": []
  },
  {
   "cell_type": "code",
   "execution_count": null,
   "metadata": {},
   "outputs": [],
   "source": []
  }
 ],
 "metadata": {
  "kernelspec": {
   "display_name": "koopman",
   "language": "python",
   "name": "koopman"
  },
  "language_info": {
   "codemirror_mode": {
    "name": "ipython",
    "version": 3
   },
   "file_extension": ".py",
   "mimetype": "text/x-python",
   "name": "python",
   "nbconvert_exporter": "python",
   "pygments_lexer": "ipython3",
   "version": "3.8.3"
  }
 },
 "nbformat": 4,
 "nbformat_minor": 4
}
