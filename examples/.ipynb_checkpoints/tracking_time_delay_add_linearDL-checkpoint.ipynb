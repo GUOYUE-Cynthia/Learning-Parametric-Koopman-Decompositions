{
 "cells": [
  {
   "cell_type": "code",
   "execution_count": 1,
   "metadata": {},
   "outputs": [],
   "source": [
    "import os; os.environ['CUDA_VISIBLE_DEVICES'] = '-1'"
   ]
  },
  {
   "cell_type": "code",
   "execution_count": 2,
   "metadata": {},
   "outputs": [],
   "source": [
    "%load_ext autoreload\n",
    "%autoreload 2"
   ]
  },
  {
   "cell_type": "code",
   "execution_count": 3,
   "metadata": {},
   "outputs": [],
   "source": [
    "import numpy as np\n",
    "import tensorflow as tf\n",
    "import pandas as pd"
   ]
  },
  {
   "cell_type": "code",
   "execution_count": 4,
   "metadata": {},
   "outputs": [],
   "source": [
    "from tensorflow.keras.optimizers import Adam\n",
    "from tensorflow.keras.layers import Layer, Dense\n",
    "from tensorflow.keras.layers import Input\n",
    "from tensorflow.keras.models import Model"
   ]
  },
  {
   "cell_type": "code",
   "execution_count": 5,
   "metadata": {},
   "outputs": [],
   "source": [
    "import matplotlib.pyplot as plt"
   ]
  },
  {
   "cell_type": "code",
   "execution_count": 6,
   "metadata": {},
   "outputs": [],
   "source": [
    "from koopmanlib.dictionary import PsiNN\n",
    "from koopmanlib.target import BilinearMotorTarget"
   ]
  },
  {
   "cell_type": "code",
   "execution_count": 7,
   "metadata": {},
   "outputs": [],
   "source": [
    "from koopmanlib.functions import *"
   ]
  },
  {
   "cell_type": "code",
   "execution_count": 8,
   "metadata": {},
   "outputs": [],
   "source": [
    "target_dim = 3\n",
    "param_dim = 1\n",
    "n_phi = 10\n",
    "n_psi_train = 100\n",
    "n_psi = 1 + target_dim + n_psi_train\n",
    "n_init = 1000\n",
    "traj_len = 500"
   ]
  },
  {
   "cell_type": "code",
   "execution_count": 9,
   "metadata": {},
   "outputs": [],
   "source": [
    "nonlinear_param = 100"
   ]
  },
  {
   "cell_type": "code",
   "execution_count": 10,
   "metadata": {},
   "outputs": [],
   "source": [
    "X = pd.read_csv('results/motor_time_delay/data/X_'+str(nonlinear_param)+'.csv', header=None)\n",
    "Y = pd.read_csv('results/motor_time_delay/data/Y_'+str(nonlinear_param)+'.csv', header=None)\n",
    "U = pd.read_csv('results/motor_time_delay/data/U_'+str(nonlinear_param)+'.csv', header=None)"
   ]
  },
  {
   "cell_type": "code",
   "execution_count": 11,
   "metadata": {
    "scrolled": true
   },
   "outputs": [],
   "source": [
    "data_x = X.values.T\n",
    "data_y = Y.values.T\n",
    "data_u = U.values.T"
   ]
  },
  {
   "cell_type": "code",
   "execution_count": 12,
   "metadata": {},
   "outputs": [],
   "source": [
    "pw_pred_linear_rbf = pd.read_csv('results/motor_time_delay/data/pw_pred_'+str(nonlinear_param)+'.csv', header=None)\n",
    "pw_yrr_linear = pd.read_csv('results/motor_time_delay/data/pw_yrr_'+str(nonlinear_param)+'.csv', header=None)\n",
    "\n",
    "cos_pred_linear_rbf = pd.read_csv('results/motor_time_delay/data/cos_pred_'+str(nonlinear_param)+'.csv', header=None)\n",
    "cos_yrr_linear = pd.read_csv('results/motor_time_delay/data/cos_yrr_'+str(nonlinear_param)+'.csv', header=None)\n",
    "\n",
    "pw_pred_linear_rbf = pw_pred_linear_rbf.values.T\n",
    "pw_yrr_linear = pw_yrr_linear.values.T\n",
    "\n",
    "cos_pred_linear_rbf = cos_pred_linear_rbf.values.T\n",
    "cos_yrr_linear = cos_yrr_linear.values.T"
   ]
  },
  {
   "cell_type": "code",
   "execution_count": 13,
   "metadata": {},
   "outputs": [],
   "source": [
    "pw_control_linear_rbf = pd.read_csv('results/motor_time_delay/data/pw_new_control_'+str(nonlinear_param)+'.csv', header=None)\n",
    "cos_control_linear_rbf = pd.read_csv('results/motor_time_delay/data/cos_new_control_'+str(nonlinear_param)+'.csv', header=None)"
   ]
  },
  {
   "cell_type": "code",
   "execution_count": 14,
   "metadata": {},
   "outputs": [],
   "source": [
    "pw_control_linear_rbf = pw_control_linear_rbf.values.T\n",
    "cos_control_linear_rbf = cos_control_linear_rbf.values.T"
   ]
  },
  {
   "cell_type": "code",
   "execution_count": 15,
   "metadata": {},
   "outputs": [],
   "source": [
    "bilinear_motor = BilinearMotorTarget(n_init=n_init,traj_len=traj_len, seed_x=2, seed_param=123)\n",
    "# data_x, data_u = bilinear_motor.generate_init_data()\n",
    "# data_y = bilinear_motor.generate_next_data(data_x, data_u)"
   ]
  },
  {
   "cell_type": "code",
   "execution_count": 16,
   "metadata": {},
   "outputs": [],
   "source": [
    "# bilinear_motor_valid = BilinearMotorTarget(n_init=100,traj_len=300, seed_x=123, seed_param=111)\n",
    "# data_x_valid, data_u_valid = bilinear_motor_valid.generate_init_data_v1()\n",
    "# data_y_valid = bilinear_motor_valid.generate_next_data(data_x_valid, data_u_valid)"
   ]
  },
  {
   "cell_type": "markdown",
   "metadata": {},
   "source": [
    "# Build pk model"
   ]
  },
  {
   "cell_type": "code",
   "execution_count": 17,
   "metadata": {},
   "outputs": [],
   "source": [
    "from koopmanlib.dictionary import PsiNN\n",
    "from koopmanlib.param_solver import KoopmanParametricDLSolver"
   ]
  },
  {
   "cell_type": "code",
   "execution_count": 18,
   "metadata": {},
   "outputs": [],
   "source": [
    "from tensorflow.keras.optimizers import Adam"
   ]
  },
  {
   "cell_type": "code",
   "execution_count": 19,
   "metadata": {},
   "outputs": [],
   "source": [
    "dic_pk = PsiNN(layer_sizes=[64,64], n_psi_train=n_psi_train)"
   ]
  },
  {
   "cell_type": "code",
   "execution_count": 20,
   "metadata": {},
   "outputs": [],
   "source": [
    "solver_pk = KoopmanParametricDLSolver(target_dim=target_dim, \n",
    "                                      param_dim=param_dim, \n",
    "                                      n_psi=n_psi,\n",
    "                                      dic=dic_pk)"
   ]
  },
  {
   "cell_type": "code",
   "execution_count": 21,
   "metadata": {},
   "outputs": [
    {
     "name": "stderr",
     "output_type": "stream",
     "text": [
      "2023-05-03 09:29:16.255327: I tensorflow/core/platform/cpu_feature_guard.cc:193] This TensorFlow binary is optimized with oneAPI Deep Neural Network Library (oneDNN) to use the following CPU instructions in performance-critical operations:  AVX2 AVX512F AVX512_VNNI FMA\n",
      "To enable them in other operations, rebuild TensorFlow with the appropriate compiler flags.\n"
     ]
    }
   ],
   "source": [
    "model_pk, model_K_u_pred_pk = solver_pk.generate_model(layer_sizes=[128,128])"
   ]
  },
  {
   "cell_type": "code",
   "execution_count": 22,
   "metadata": {},
   "outputs": [],
   "source": [
    "zeros_data_y_train = tf.zeros_like(dic_pk(data_y))\n",
    "# zeros_data_y_valid = tf.zeros_like(dic_func_pk(data_y_valid))"
   ]
  },
  {
   "cell_type": "code",
   "execution_count": 23,
   "metadata": {},
   "outputs": [],
   "source": [
    "model_pk.compile(optimizer=Adam(0.0001),\n",
    "             loss='mse')"
   ]
  },
  {
   "cell_type": "code",
   "execution_count": 24,
   "metadata": {},
   "outputs": [],
   "source": [
    "lr_callbacks = tf.keras.callbacks.ReduceLROnPlateau(monitor='loss',\n",
    "                                                    factor=0.1,\n",
    "                                                    patience=50,\n",
    "                                                    verbose=0,\n",
    "                                                    mode='auto',\n",
    "                                                    min_delta=0.0001,\n",
    "                                                    cooldown=0,\n",
    "                                                    min_lr=1e-10)"
   ]
  },
  {
   "cell_type": "code",
   "execution_count": 25,
   "metadata": {
    "scrolled": true
   },
   "outputs": [],
   "source": [
    "# history = model_pk.fit(x=[data_x, data_y, data_u], \n",
    "#                     y=zeros_data_y_train, \n",
    "# #                     validation_data = ([data_x_valid, data_y_valid, data_u_valid], zeros_data_y_valid),\n",
    "#                     epochs=100, \n",
    "#                     batch_size=1024,\n",
    "#                     callbacks=lr_callbacks,\n",
    "#                     verbose=1)"
   ]
  },
  {
   "cell_type": "code",
   "execution_count": 26,
   "metadata": {},
   "outputs": [],
   "source": [
    "# model_pk.save_weights('results/motor_time_delay/motor_time_delay_weights_'+str(nonlinear_param)+'.h5')"
   ]
  },
  {
   "cell_type": "code",
   "execution_count": 27,
   "metadata": {},
   "outputs": [],
   "source": [
    "model_pk.load_weights('results/motor_time_delay/motor_time_delay_weights_'+str(nonlinear_param)+'.h5')"
   ]
  },
  {
   "cell_type": "markdown",
   "metadata": {},
   "source": [
    "## Add LinearK + DL"
   ]
  },
  {
   "cell_type": "code",
   "execution_count": 29,
   "metadata": {},
   "outputs": [],
   "source": [
    "from koopmanlib.param_solver import KoopmanLinearDLSolver"
   ]
  },
  {
   "cell_type": "code",
   "execution_count": 28,
   "metadata": {},
   "outputs": [],
   "source": [
    "dic_linear = PsiNN(layer_sizes=[64, 64], n_psi_train=n_psi_train)"
   ]
  },
  {
   "cell_type": "code",
   "execution_count": 30,
   "metadata": {},
   "outputs": [],
   "source": [
    "solver_linear = KoopmanLinearDLSolver(dic=dic_linear, target_dim=target_dim, param_dim=param_dim, n_psi=n_psi)\n",
    "model_linear = solver_linear.build_model()"
   ]
  },
  {
   "cell_type": "code",
   "execution_count": 31,
   "metadata": {
    "scrolled": true
   },
   "outputs": [
    {
     "name": "stdout",
     "output_type": "stream",
     "text": [
      "Epoch 1/20\n",
      "999/999 [==============================] - 4s 4ms/step - loss: 5446.9835 - lr: 1.0000e-04\n",
      "Epoch 2/20\n",
      "999/999 [==============================] - 4s 4ms/step - loss: 893.3571 - lr: 1.0000e-04\n",
      "Epoch 3/20\n",
      "999/999 [==============================] - 3s 3ms/step - loss: 685.1703 - lr: 1.0000e-04\n",
      "Epoch 4/20\n",
      "999/999 [==============================] - 3s 3ms/step - loss: 1004.5819 - lr: 1.0000e-04\n",
      "Epoch 5/20\n",
      "999/999 [==============================] - 3s 3ms/step - loss: 1338.3759 - lr: 1.0000e-04\n",
      "Epoch 6/20\n",
      "999/999 [==============================] - 4s 4ms/step - loss: 506.3463 - lr: 1.0000e-04\n",
      "Epoch 7/20\n",
      "999/999 [==============================] - 4s 4ms/step - loss: 774.2145 - lr: 1.0000e-04\n",
      "Epoch 8/20\n",
      "999/999 [==============================] - 4s 4ms/step - loss: 888.1558 - lr: 1.0000e-04\n",
      "Epoch 9/20\n",
      "999/999 [==============================] - 4s 4ms/step - loss: 907.4518 - lr: 1.0000e-04\n",
      "Epoch 10/20\n",
      "999/999 [==============================] - 4s 4ms/step - loss: 595.3002 - lr: 1.0000e-04\n",
      "Epoch 11/20\n",
      "999/999 [==============================] - 4s 4ms/step - loss: 681.2715 - lr: 1.0000e-04\n",
      "Epoch 12/20\n",
      "999/999 [==============================] - 4s 4ms/step - loss: 753.7630 - lr: 1.0000e-04\n",
      "Epoch 13/20\n",
      "999/999 [==============================] - 3s 3ms/step - loss: 637.2519 - lr: 1.0000e-04\n",
      "Epoch 14/20\n",
      "999/999 [==============================] - 3s 3ms/step - loss: 711.3082 - lr: 1.0000e-04\n",
      "Epoch 15/20\n",
      "999/999 [==============================] - 3s 3ms/step - loss: 552.2689 - lr: 1.0000e-04\n",
      "Epoch 16/20\n",
      "999/999 [==============================] - 4s 4ms/step - loss: 744.4110 - lr: 1.0000e-04\n",
      "Epoch 17/20\n",
      "999/999 [==============================] - 4s 4ms/step - loss: 544.8226 - lr: 1.0000e-04\n",
      "Epoch 18/20\n",
      "999/999 [==============================] - 4s 4ms/step - loss: 474.4317 - lr: 1.0000e-04\n",
      "Epoch 19/20\n",
      "999/999 [==============================] - 4s 4ms/step - loss: 1282.6180 - lr: 1.0000e-04\n",
      "Epoch 20/20\n",
      "999/999 [==============================] - 4s 4ms/step - loss: 116.2804 - lr: 1.0000e-04\n",
      "number of the outer loop: 0\n",
      "Epoch 1/20\n",
      "999/999 [==============================] - 3s 3ms/step - loss: 2.6841 - lr: 1.0000e-04\n",
      "Epoch 2/20\n",
      "999/999 [==============================] - 4s 4ms/step - loss: 0.0939 - lr: 1.0000e-04\n",
      "Epoch 3/20\n",
      "999/999 [==============================] - 4s 4ms/step - loss: 0.0433 - lr: 1.0000e-04\n",
      "Epoch 4/20\n",
      "797/999 [======================>.......] - ETA: 0s - loss: 0.3414"
     ]
    },
    {
     "ename": "KeyboardInterrupt",
     "evalue": "",
     "output_type": "error",
     "traceback": [
      "\u001b[0;31m---------------------------------------------------------------------------\u001b[0m",
      "\u001b[0;31mKeyboardInterrupt\u001b[0m                         Traceback (most recent call last)",
      "Input \u001b[0;32mIn [31]\u001b[0m, in \u001b[0;36m<cell line: 1>\u001b[0;34m()\u001b[0m\n\u001b[0;32m----> 1\u001b[0m \u001b[43msolver_linear\u001b[49m\u001b[38;5;241;43m.\u001b[39;49m\u001b[43mbuild\u001b[49m\u001b[43m(\u001b[49m\u001b[43mmodel_linear\u001b[49m\u001b[43m,\u001b[49m\n\u001b[1;32m      2\u001b[0m \u001b[43m                    \u001b[49m\u001b[43mdata_x\u001b[49m\u001b[43m,\u001b[49m\n\u001b[1;32m      3\u001b[0m \u001b[43m                    \u001b[49m\u001b[43mdata_u\u001b[49m\u001b[43m,\u001b[49m\u001b[43m \u001b[49m\n\u001b[1;32m      4\u001b[0m \u001b[43m                    \u001b[49m\u001b[43mdata_y\u001b[49m\u001b[43m,\u001b[49m\u001b[43m \u001b[49m\n\u001b[1;32m      5\u001b[0m \u001b[43m                    \u001b[49m\u001b[43mzeros_data_y_train\u001b[49m\u001b[43m,\u001b[49m\n\u001b[1;32m      6\u001b[0m \u001b[43m                    \u001b[49m\u001b[43mepochs\u001b[49m\u001b[38;5;241;43m=\u001b[39;49m\u001b[38;5;241;43m50\u001b[39;49m\u001b[43m,\u001b[49m\n\u001b[1;32m      7\u001b[0m \u001b[43m                    \u001b[49m\u001b[43mbatch_size\u001b[49m\u001b[38;5;241;43m=\u001b[39;49m\u001b[38;5;241;43m200\u001b[39;49m\u001b[43m,\u001b[49m\n\u001b[1;32m      8\u001b[0m \u001b[43m                    \u001b[49m\u001b[43mlr\u001b[49m\u001b[38;5;241;43m=\u001b[39;49m\u001b[38;5;241;43m0.0001\u001b[39;49m\u001b[43m,\u001b[49m\n\u001b[1;32m      9\u001b[0m \u001b[43m                    \u001b[49m\u001b[43mlog_interval\u001b[49m\u001b[38;5;241;43m=\u001b[39;49m\u001b[38;5;241;43m20\u001b[39;49m\u001b[43m,\u001b[49m\n\u001b[1;32m     10\u001b[0m \u001b[43m                    \u001b[49m\u001b[43mlr_decay_factor\u001b[49m\u001b[38;5;241;43m=\u001b[39;49m\u001b[38;5;241;43m0.8\u001b[39;49m\u001b[43m)\u001b[49m\n",
      "File \u001b[0;32m~/Desktop/code/Koopman_param/src/koopmanlib/param_solver.py:226\u001b[0m, in \u001b[0;36mKoopmanLinearDLSolver.build\u001b[0;34m(self, model, data_x, data_u, data_y, zeros_data_y_train, epochs, batch_size, lr, log_interval, lr_decay_factor)\u001b[0m\n\u001b[1;32m    223\u001b[0m \u001b[38;5;28mself\u001b[39m\u001b[38;5;241m.\u001b[39mmodel\u001b[38;5;241m.\u001b[39mget_layer(\u001b[38;5;124m'\u001b[39m\u001b[38;5;124mLayer_B\u001b[39m\u001b[38;5;124m'\u001b[39m)\u001b[38;5;241m.\u001b[39mweights[\u001b[38;5;241m0\u001b[39m]\u001b[38;5;241m.\u001b[39massign(\u001b[38;5;28mself\u001b[39m\u001b[38;5;241m.\u001b[39mB)\n\u001b[1;32m    225\u001b[0m \u001b[38;5;66;03m# Two steps for training PsiNN\u001b[39;00m\n\u001b[0;32m--> 226\u001b[0m \u001b[38;5;28mself\u001b[39m\u001b[38;5;241m.\u001b[39mhistory \u001b[38;5;241m=\u001b[39m \u001b[38;5;28;43mself\u001b[39;49m\u001b[38;5;241;43m.\u001b[39;49m\u001b[43mtrain_psi\u001b[49m\u001b[43m(\u001b[49m\u001b[38;5;28;43mself\u001b[39;49m\u001b[38;5;241;43m.\u001b[39;49m\u001b[43mmodel\u001b[49m\u001b[43m,\u001b[49m\n\u001b[1;32m    227\u001b[0m \u001b[43m                              \u001b[49m\u001b[43mdata_x\u001b[49m\u001b[43m,\u001b[49m\n\u001b[1;32m    228\u001b[0m \u001b[43m                              \u001b[49m\u001b[43mdata_u\u001b[49m\u001b[43m,\u001b[49m\u001b[43m \u001b[49m\n\u001b[1;32m    229\u001b[0m \u001b[43m                              \u001b[49m\u001b[43mdata_y\u001b[49m\u001b[43m,\u001b[49m\u001b[43m \u001b[49m\n\u001b[1;32m    230\u001b[0m \u001b[43m                              \u001b[49m\u001b[43mzeros_data_y_train\u001b[49m\u001b[43m,\u001b[49m\u001b[43m \u001b[49m\n\u001b[1;32m    231\u001b[0m \u001b[43m                              \u001b[49m\u001b[43mepochs\u001b[49m\u001b[38;5;241;43m=\u001b[39;49m\u001b[38;5;241;43m20\u001b[39;49m\u001b[43m,\u001b[49m\u001b[43m \u001b[49m\n\u001b[1;32m    232\u001b[0m \u001b[43m                              \u001b[49m\u001b[43mbatch_size\u001b[49m\u001b[38;5;241;43m=\u001b[39;49m\u001b[38;5;241;43m200\u001b[39;49m\u001b[43m)\u001b[49m\n\u001b[1;32m    234\u001b[0m \u001b[38;5;28mprint\u001b[39m(\u001b[38;5;124m'\u001b[39m\u001b[38;5;124mnumber of the outer loop:\u001b[39m\u001b[38;5;124m'\u001b[39m, i)\n\u001b[1;32m    235\u001b[0m \u001b[38;5;28;01mif\u001b[39;00m i \u001b[38;5;241m%\u001b[39m log_interval \u001b[38;5;241m==\u001b[39m \u001b[38;5;241m0\u001b[39m:\n",
      "File \u001b[0;32m~/Desktop/code/Koopman_param/src/koopmanlib/param_solver.py:162\u001b[0m, in \u001b[0;36mKoopmanLinearDLSolver.train_psi\u001b[0;34m(self, model, data_x, data_u, data_y, zeros_data_y_train, epochs, batch_size)\u001b[0m\n\u001b[1;32m    143\u001b[0m \u001b[38;5;124;03m\"\"\"Train the trainable part of the dictionary\u001b[39;00m\n\u001b[1;32m    144\u001b[0m \n\u001b[1;32m    145\u001b[0m \u001b[38;5;124;03m:param model: koopman model\u001b[39;00m\n\u001b[0;32m   (...)\u001b[0m\n\u001b[1;32m    150\u001b[0m \u001b[38;5;124;03m:rtype: history callback object\u001b[39;00m\n\u001b[1;32m    151\u001b[0m \u001b[38;5;124;03m\"\"\"\u001b[39;00m\n\u001b[1;32m    153\u001b[0m lr_callbacks \u001b[38;5;241m=\u001b[39m tf\u001b[38;5;241m.\u001b[39mkeras\u001b[38;5;241m.\u001b[39mcallbacks\u001b[38;5;241m.\u001b[39mReduceLROnPlateau(monitor\u001b[38;5;241m=\u001b[39m\u001b[38;5;124m'\u001b[39m\u001b[38;5;124mloss\u001b[39m\u001b[38;5;124m'\u001b[39m,\n\u001b[1;32m    154\u001b[0m                                             factor\u001b[38;5;241m=\u001b[39m\u001b[38;5;241m0.1\u001b[39m,\n\u001b[1;32m    155\u001b[0m                                             patience\u001b[38;5;241m=\u001b[39m\u001b[38;5;241m200\u001b[39m,\n\u001b[0;32m   (...)\u001b[0m\n\u001b[1;32m    159\u001b[0m                                             cooldown\u001b[38;5;241m=\u001b[39m\u001b[38;5;241m0\u001b[39m,\n\u001b[1;32m    160\u001b[0m                                             min_lr\u001b[38;5;241m=\u001b[39m\u001b[38;5;241m1e-12\u001b[39m)\n\u001b[0;32m--> 162\u001b[0m history \u001b[38;5;241m=\u001b[39m \u001b[43mmodel\u001b[49m\u001b[38;5;241;43m.\u001b[39;49m\u001b[43mfit\u001b[49m\u001b[43m(\u001b[49m\u001b[43mx\u001b[49m\u001b[38;5;241;43m=\u001b[39;49m\u001b[43m[\u001b[49m\u001b[43mdata_x\u001b[49m\u001b[43m,\u001b[49m\u001b[43m \u001b[49m\u001b[43mdata_u\u001b[49m\u001b[43m,\u001b[49m\u001b[43m \u001b[49m\u001b[43mdata_y\u001b[49m\u001b[43m]\u001b[49m\u001b[43m,\u001b[49m\u001b[43m \u001b[49m\n\u001b[1;32m    163\u001b[0m \u001b[43m            \u001b[49m\u001b[43my\u001b[49m\u001b[38;5;241;43m=\u001b[39;49m\u001b[43mzeros_data_y_train\u001b[49m\u001b[43m,\u001b[49m\u001b[43m \u001b[49m\n\u001b[1;32m    164\u001b[0m \u001b[43m            \u001b[49m\u001b[43mepochs\u001b[49m\u001b[38;5;241;43m=\u001b[39;49m\u001b[43mepochs\u001b[49m\u001b[43m,\u001b[49m\u001b[43m \u001b[49m\n\u001b[1;32m    165\u001b[0m \u001b[43m            \u001b[49m\u001b[43mbatch_size\u001b[49m\u001b[38;5;241;43m=\u001b[39;49m\u001b[43mbatch_size\u001b[49m\u001b[43m,\u001b[49m\n\u001b[1;32m    166\u001b[0m \u001b[43m            \u001b[49m\u001b[43mcallbacks\u001b[49m\u001b[38;5;241;43m=\u001b[39;49m\u001b[43mlr_callbacks\u001b[49m\u001b[43m,\u001b[49m\n\u001b[1;32m    167\u001b[0m \u001b[43m            \u001b[49m\u001b[43mverbose\u001b[49m\u001b[38;5;241;43m=\u001b[39;49m\u001b[38;5;241;43m1\u001b[39;49m\u001b[43m)\u001b[49m\n\u001b[1;32m    168\u001b[0m \u001b[38;5;28;01mreturn\u001b[39;00m history\n",
      "File \u001b[0;32m~/.virtualenvs/koopman/lib/python3.8/site-packages/keras/utils/traceback_utils.py:64\u001b[0m, in \u001b[0;36mfilter_traceback.<locals>.error_handler\u001b[0;34m(*args, **kwargs)\u001b[0m\n\u001b[1;32m     62\u001b[0m filtered_tb \u001b[38;5;241m=\u001b[39m \u001b[38;5;28;01mNone\u001b[39;00m\n\u001b[1;32m     63\u001b[0m \u001b[38;5;28;01mtry\u001b[39;00m:\n\u001b[0;32m---> 64\u001b[0m   \u001b[38;5;28;01mreturn\u001b[39;00m \u001b[43mfn\u001b[49m\u001b[43m(\u001b[49m\u001b[38;5;241;43m*\u001b[39;49m\u001b[43margs\u001b[49m\u001b[43m,\u001b[49m\u001b[43m \u001b[49m\u001b[38;5;241;43m*\u001b[39;49m\u001b[38;5;241;43m*\u001b[39;49m\u001b[43mkwargs\u001b[49m\u001b[43m)\u001b[49m\n\u001b[1;32m     65\u001b[0m \u001b[38;5;28;01mexcept\u001b[39;00m \u001b[38;5;167;01mException\u001b[39;00m \u001b[38;5;28;01mas\u001b[39;00m e:  \u001b[38;5;66;03m# pylint: disable=broad-except\u001b[39;00m\n\u001b[1;32m     66\u001b[0m   filtered_tb \u001b[38;5;241m=\u001b[39m _process_traceback_frames(e\u001b[38;5;241m.\u001b[39m__traceback__)\n",
      "File \u001b[0;32m~/.virtualenvs/koopman/lib/python3.8/site-packages/keras/engine/training.py:1409\u001b[0m, in \u001b[0;36mModel.fit\u001b[0;34m(self, x, y, batch_size, epochs, verbose, callbacks, validation_split, validation_data, shuffle, class_weight, sample_weight, initial_epoch, steps_per_epoch, validation_steps, validation_batch_size, validation_freq, max_queue_size, workers, use_multiprocessing)\u001b[0m\n\u001b[1;32m   1402\u001b[0m \u001b[38;5;28;01mwith\u001b[39;00m tf\u001b[38;5;241m.\u001b[39mprofiler\u001b[38;5;241m.\u001b[39mexperimental\u001b[38;5;241m.\u001b[39mTrace(\n\u001b[1;32m   1403\u001b[0m     \u001b[38;5;124m'\u001b[39m\u001b[38;5;124mtrain\u001b[39m\u001b[38;5;124m'\u001b[39m,\n\u001b[1;32m   1404\u001b[0m     epoch_num\u001b[38;5;241m=\u001b[39mepoch,\n\u001b[1;32m   1405\u001b[0m     step_num\u001b[38;5;241m=\u001b[39mstep,\n\u001b[1;32m   1406\u001b[0m     batch_size\u001b[38;5;241m=\u001b[39mbatch_size,\n\u001b[1;32m   1407\u001b[0m     _r\u001b[38;5;241m=\u001b[39m\u001b[38;5;241m1\u001b[39m):\n\u001b[1;32m   1408\u001b[0m   callbacks\u001b[38;5;241m.\u001b[39mon_train_batch_begin(step)\n\u001b[0;32m-> 1409\u001b[0m   tmp_logs \u001b[38;5;241m=\u001b[39m \u001b[38;5;28;43mself\u001b[39;49m\u001b[38;5;241;43m.\u001b[39;49m\u001b[43mtrain_function\u001b[49m\u001b[43m(\u001b[49m\u001b[43miterator\u001b[49m\u001b[43m)\u001b[49m\n\u001b[1;32m   1410\u001b[0m   \u001b[38;5;28;01mif\u001b[39;00m data_handler\u001b[38;5;241m.\u001b[39mshould_sync:\n\u001b[1;32m   1411\u001b[0m     context\u001b[38;5;241m.\u001b[39masync_wait()\n",
      "File \u001b[0;32m~/.virtualenvs/koopman/lib/python3.8/site-packages/tensorflow/python/util/traceback_utils.py:150\u001b[0m, in \u001b[0;36mfilter_traceback.<locals>.error_handler\u001b[0;34m(*args, **kwargs)\u001b[0m\n\u001b[1;32m    148\u001b[0m filtered_tb \u001b[38;5;241m=\u001b[39m \u001b[38;5;28;01mNone\u001b[39;00m\n\u001b[1;32m    149\u001b[0m \u001b[38;5;28;01mtry\u001b[39;00m:\n\u001b[0;32m--> 150\u001b[0m   \u001b[38;5;28;01mreturn\u001b[39;00m \u001b[43mfn\u001b[49m\u001b[43m(\u001b[49m\u001b[38;5;241;43m*\u001b[39;49m\u001b[43margs\u001b[49m\u001b[43m,\u001b[49m\u001b[43m \u001b[49m\u001b[38;5;241;43m*\u001b[39;49m\u001b[38;5;241;43m*\u001b[39;49m\u001b[43mkwargs\u001b[49m\u001b[43m)\u001b[49m\n\u001b[1;32m    151\u001b[0m \u001b[38;5;28;01mexcept\u001b[39;00m \u001b[38;5;167;01mException\u001b[39;00m \u001b[38;5;28;01mas\u001b[39;00m e:\n\u001b[1;32m    152\u001b[0m   filtered_tb \u001b[38;5;241m=\u001b[39m _process_traceback_frames(e\u001b[38;5;241m.\u001b[39m__traceback__)\n",
      "File \u001b[0;32m~/.virtualenvs/koopman/lib/python3.8/site-packages/tensorflow/python/eager/def_function.py:915\u001b[0m, in \u001b[0;36mFunction.__call__\u001b[0;34m(self, *args, **kwds)\u001b[0m\n\u001b[1;32m    912\u001b[0m compiler \u001b[38;5;241m=\u001b[39m \u001b[38;5;124m\"\u001b[39m\u001b[38;5;124mxla\u001b[39m\u001b[38;5;124m\"\u001b[39m \u001b[38;5;28;01mif\u001b[39;00m \u001b[38;5;28mself\u001b[39m\u001b[38;5;241m.\u001b[39m_jit_compile \u001b[38;5;28;01melse\u001b[39;00m \u001b[38;5;124m\"\u001b[39m\u001b[38;5;124mnonXla\u001b[39m\u001b[38;5;124m\"\u001b[39m\n\u001b[1;32m    914\u001b[0m \u001b[38;5;28;01mwith\u001b[39;00m OptionalXlaContext(\u001b[38;5;28mself\u001b[39m\u001b[38;5;241m.\u001b[39m_jit_compile):\n\u001b[0;32m--> 915\u001b[0m   result \u001b[38;5;241m=\u001b[39m \u001b[38;5;28;43mself\u001b[39;49m\u001b[38;5;241;43m.\u001b[39;49m\u001b[43m_call\u001b[49m\u001b[43m(\u001b[49m\u001b[38;5;241;43m*\u001b[39;49m\u001b[43margs\u001b[49m\u001b[43m,\u001b[49m\u001b[43m \u001b[49m\u001b[38;5;241;43m*\u001b[39;49m\u001b[38;5;241;43m*\u001b[39;49m\u001b[43mkwds\u001b[49m\u001b[43m)\u001b[49m\n\u001b[1;32m    917\u001b[0m new_tracing_count \u001b[38;5;241m=\u001b[39m \u001b[38;5;28mself\u001b[39m\u001b[38;5;241m.\u001b[39mexperimental_get_tracing_count()\n\u001b[1;32m    918\u001b[0m without_tracing \u001b[38;5;241m=\u001b[39m (tracing_count \u001b[38;5;241m==\u001b[39m new_tracing_count)\n",
      "File \u001b[0;32m~/.virtualenvs/koopman/lib/python3.8/site-packages/tensorflow/python/eager/def_function.py:947\u001b[0m, in \u001b[0;36mFunction._call\u001b[0;34m(self, *args, **kwds)\u001b[0m\n\u001b[1;32m    944\u001b[0m   \u001b[38;5;28mself\u001b[39m\u001b[38;5;241m.\u001b[39m_lock\u001b[38;5;241m.\u001b[39mrelease()\n\u001b[1;32m    945\u001b[0m   \u001b[38;5;66;03m# In this case we have created variables on the first call, so we run the\u001b[39;00m\n\u001b[1;32m    946\u001b[0m   \u001b[38;5;66;03m# defunned version which is guaranteed to never create variables.\u001b[39;00m\n\u001b[0;32m--> 947\u001b[0m   \u001b[38;5;28;01mreturn\u001b[39;00m \u001b[38;5;28;43mself\u001b[39;49m\u001b[38;5;241;43m.\u001b[39;49m\u001b[43m_stateless_fn\u001b[49m\u001b[43m(\u001b[49m\u001b[38;5;241;43m*\u001b[39;49m\u001b[43margs\u001b[49m\u001b[43m,\u001b[49m\u001b[43m \u001b[49m\u001b[38;5;241;43m*\u001b[39;49m\u001b[38;5;241;43m*\u001b[39;49m\u001b[43mkwds\u001b[49m\u001b[43m)\u001b[49m  \u001b[38;5;66;03m# pylint: disable=not-callable\u001b[39;00m\n\u001b[1;32m    948\u001b[0m \u001b[38;5;28;01melif\u001b[39;00m \u001b[38;5;28mself\u001b[39m\u001b[38;5;241m.\u001b[39m_stateful_fn \u001b[38;5;129;01mis\u001b[39;00m \u001b[38;5;129;01mnot\u001b[39;00m \u001b[38;5;28;01mNone\u001b[39;00m:\n\u001b[1;32m    949\u001b[0m   \u001b[38;5;66;03m# Release the lock early so that multiple threads can perform the call\u001b[39;00m\n\u001b[1;32m    950\u001b[0m   \u001b[38;5;66;03m# in parallel.\u001b[39;00m\n\u001b[1;32m    951\u001b[0m   \u001b[38;5;28mself\u001b[39m\u001b[38;5;241m.\u001b[39m_lock\u001b[38;5;241m.\u001b[39mrelease()\n",
      "File \u001b[0;32m~/.virtualenvs/koopman/lib/python3.8/site-packages/tensorflow/python/eager/function.py:2453\u001b[0m, in \u001b[0;36mFunction.__call__\u001b[0;34m(self, *args, **kwargs)\u001b[0m\n\u001b[1;32m   2450\u001b[0m \u001b[38;5;28;01mwith\u001b[39;00m \u001b[38;5;28mself\u001b[39m\u001b[38;5;241m.\u001b[39m_lock:\n\u001b[1;32m   2451\u001b[0m   (graph_function,\n\u001b[1;32m   2452\u001b[0m    filtered_flat_args) \u001b[38;5;241m=\u001b[39m \u001b[38;5;28mself\u001b[39m\u001b[38;5;241m.\u001b[39m_maybe_define_function(args, kwargs)\n\u001b[0;32m-> 2453\u001b[0m \u001b[38;5;28;01mreturn\u001b[39;00m \u001b[43mgraph_function\u001b[49m\u001b[38;5;241;43m.\u001b[39;49m\u001b[43m_call_flat\u001b[49m\u001b[43m(\u001b[49m\n\u001b[1;32m   2454\u001b[0m \u001b[43m    \u001b[49m\u001b[43mfiltered_flat_args\u001b[49m\u001b[43m,\u001b[49m\u001b[43m \u001b[49m\u001b[43mcaptured_inputs\u001b[49m\u001b[38;5;241;43m=\u001b[39;49m\u001b[43mgraph_function\u001b[49m\u001b[38;5;241;43m.\u001b[39;49m\u001b[43mcaptured_inputs\u001b[49m\u001b[43m)\u001b[49m\n",
      "File \u001b[0;32m~/.virtualenvs/koopman/lib/python3.8/site-packages/tensorflow/python/eager/function.py:1860\u001b[0m, in \u001b[0;36mConcreteFunction._call_flat\u001b[0;34m(self, args, captured_inputs, cancellation_manager)\u001b[0m\n\u001b[1;32m   1856\u001b[0m possible_gradient_type \u001b[38;5;241m=\u001b[39m gradients_util\u001b[38;5;241m.\u001b[39mPossibleTapeGradientTypes(args)\n\u001b[1;32m   1857\u001b[0m \u001b[38;5;28;01mif\u001b[39;00m (possible_gradient_type \u001b[38;5;241m==\u001b[39m gradients_util\u001b[38;5;241m.\u001b[39mPOSSIBLE_GRADIENT_TYPES_NONE\n\u001b[1;32m   1858\u001b[0m     \u001b[38;5;129;01mand\u001b[39;00m executing_eagerly):\n\u001b[1;32m   1859\u001b[0m   \u001b[38;5;66;03m# No tape is watching; skip to running the function.\u001b[39;00m\n\u001b[0;32m-> 1860\u001b[0m   \u001b[38;5;28;01mreturn\u001b[39;00m \u001b[38;5;28mself\u001b[39m\u001b[38;5;241m.\u001b[39m_build_call_outputs(\u001b[38;5;28;43mself\u001b[39;49m\u001b[38;5;241;43m.\u001b[39;49m\u001b[43m_inference_function\u001b[49m\u001b[38;5;241;43m.\u001b[39;49m\u001b[43mcall\u001b[49m\u001b[43m(\u001b[49m\n\u001b[1;32m   1861\u001b[0m \u001b[43m      \u001b[49m\u001b[43mctx\u001b[49m\u001b[43m,\u001b[49m\u001b[43m \u001b[49m\u001b[43margs\u001b[49m\u001b[43m,\u001b[49m\u001b[43m \u001b[49m\u001b[43mcancellation_manager\u001b[49m\u001b[38;5;241;43m=\u001b[39;49m\u001b[43mcancellation_manager\u001b[49m\u001b[43m)\u001b[49m)\n\u001b[1;32m   1862\u001b[0m forward_backward \u001b[38;5;241m=\u001b[39m \u001b[38;5;28mself\u001b[39m\u001b[38;5;241m.\u001b[39m_select_forward_and_backward_functions(\n\u001b[1;32m   1863\u001b[0m     args,\n\u001b[1;32m   1864\u001b[0m     possible_gradient_type,\n\u001b[1;32m   1865\u001b[0m     executing_eagerly)\n\u001b[1;32m   1866\u001b[0m forward_function, args_with_tangents \u001b[38;5;241m=\u001b[39m forward_backward\u001b[38;5;241m.\u001b[39mforward()\n",
      "File \u001b[0;32m~/.virtualenvs/koopman/lib/python3.8/site-packages/tensorflow/python/eager/function.py:497\u001b[0m, in \u001b[0;36m_EagerDefinedFunction.call\u001b[0;34m(self, ctx, args, cancellation_manager)\u001b[0m\n\u001b[1;32m    495\u001b[0m \u001b[38;5;28;01mwith\u001b[39;00m _InterpolateFunctionError(\u001b[38;5;28mself\u001b[39m):\n\u001b[1;32m    496\u001b[0m   \u001b[38;5;28;01mif\u001b[39;00m cancellation_manager \u001b[38;5;129;01mis\u001b[39;00m \u001b[38;5;28;01mNone\u001b[39;00m:\n\u001b[0;32m--> 497\u001b[0m     outputs \u001b[38;5;241m=\u001b[39m \u001b[43mexecute\u001b[49m\u001b[38;5;241;43m.\u001b[39;49m\u001b[43mexecute\u001b[49m\u001b[43m(\u001b[49m\n\u001b[1;32m    498\u001b[0m \u001b[43m        \u001b[49m\u001b[38;5;28;43mstr\u001b[39;49m\u001b[43m(\u001b[49m\u001b[38;5;28;43mself\u001b[39;49m\u001b[38;5;241;43m.\u001b[39;49m\u001b[43msignature\u001b[49m\u001b[38;5;241;43m.\u001b[39;49m\u001b[43mname\u001b[49m\u001b[43m)\u001b[49m\u001b[43m,\u001b[49m\n\u001b[1;32m    499\u001b[0m \u001b[43m        \u001b[49m\u001b[43mnum_outputs\u001b[49m\u001b[38;5;241;43m=\u001b[39;49m\u001b[38;5;28;43mself\u001b[39;49m\u001b[38;5;241;43m.\u001b[39;49m\u001b[43m_num_outputs\u001b[49m\u001b[43m,\u001b[49m\n\u001b[1;32m    500\u001b[0m \u001b[43m        \u001b[49m\u001b[43minputs\u001b[49m\u001b[38;5;241;43m=\u001b[39;49m\u001b[43margs\u001b[49m\u001b[43m,\u001b[49m\n\u001b[1;32m    501\u001b[0m \u001b[43m        \u001b[49m\u001b[43mattrs\u001b[49m\u001b[38;5;241;43m=\u001b[39;49m\u001b[43mattrs\u001b[49m\u001b[43m,\u001b[49m\n\u001b[1;32m    502\u001b[0m \u001b[43m        \u001b[49m\u001b[43mctx\u001b[49m\u001b[38;5;241;43m=\u001b[39;49m\u001b[43mctx\u001b[49m\u001b[43m)\u001b[49m\n\u001b[1;32m    503\u001b[0m   \u001b[38;5;28;01melse\u001b[39;00m:\n\u001b[1;32m    504\u001b[0m     outputs \u001b[38;5;241m=\u001b[39m execute\u001b[38;5;241m.\u001b[39mexecute_with_cancellation(\n\u001b[1;32m    505\u001b[0m         \u001b[38;5;28mstr\u001b[39m(\u001b[38;5;28mself\u001b[39m\u001b[38;5;241m.\u001b[39msignature\u001b[38;5;241m.\u001b[39mname),\n\u001b[1;32m    506\u001b[0m         num_outputs\u001b[38;5;241m=\u001b[39m\u001b[38;5;28mself\u001b[39m\u001b[38;5;241m.\u001b[39m_num_outputs,\n\u001b[0;32m   (...)\u001b[0m\n\u001b[1;32m    509\u001b[0m         ctx\u001b[38;5;241m=\u001b[39mctx,\n\u001b[1;32m    510\u001b[0m         cancellation_manager\u001b[38;5;241m=\u001b[39mcancellation_manager)\n",
      "File \u001b[0;32m~/.virtualenvs/koopman/lib/python3.8/site-packages/tensorflow/python/eager/execute.py:54\u001b[0m, in \u001b[0;36mquick_execute\u001b[0;34m(op_name, num_outputs, inputs, attrs, ctx, name)\u001b[0m\n\u001b[1;32m     52\u001b[0m \u001b[38;5;28;01mtry\u001b[39;00m:\n\u001b[1;32m     53\u001b[0m   ctx\u001b[38;5;241m.\u001b[39mensure_initialized()\n\u001b[0;32m---> 54\u001b[0m   tensors \u001b[38;5;241m=\u001b[39m \u001b[43mpywrap_tfe\u001b[49m\u001b[38;5;241;43m.\u001b[39;49m\u001b[43mTFE_Py_Execute\u001b[49m\u001b[43m(\u001b[49m\u001b[43mctx\u001b[49m\u001b[38;5;241;43m.\u001b[39;49m\u001b[43m_handle\u001b[49m\u001b[43m,\u001b[49m\u001b[43m \u001b[49m\u001b[43mdevice_name\u001b[49m\u001b[43m,\u001b[49m\u001b[43m \u001b[49m\u001b[43mop_name\u001b[49m\u001b[43m,\u001b[49m\n\u001b[1;32m     55\u001b[0m \u001b[43m                                      \u001b[49m\u001b[43minputs\u001b[49m\u001b[43m,\u001b[49m\u001b[43m \u001b[49m\u001b[43mattrs\u001b[49m\u001b[43m,\u001b[49m\u001b[43m \u001b[49m\u001b[43mnum_outputs\u001b[49m\u001b[43m)\u001b[49m\n\u001b[1;32m     56\u001b[0m \u001b[38;5;28;01mexcept\u001b[39;00m core\u001b[38;5;241m.\u001b[39m_NotOkStatusException \u001b[38;5;28;01mas\u001b[39;00m e:\n\u001b[1;32m     57\u001b[0m   \u001b[38;5;28;01mif\u001b[39;00m name \u001b[38;5;129;01mis\u001b[39;00m \u001b[38;5;129;01mnot\u001b[39;00m \u001b[38;5;28;01mNone\u001b[39;00m:\n",
      "\u001b[0;31mKeyboardInterrupt\u001b[0m: "
     ]
    }
   ],
   "source": [
    "solver_linear.build(model_linear,\n",
    "                    data_x,\n",
    "                    data_u, \n",
    "                    data_y, \n",
    "                    zeros_data_y_train,\n",
    "                    epochs=50,\n",
    "                    batch_size=200,\n",
    "                    lr=0.0001,\n",
    "                    log_interval=20,\n",
    "                    lr_decay_factor=0.8)"
   ]
  },
  {
   "cell_type": "code",
   "execution_count": 32,
   "metadata": {},
   "outputs": [],
   "source": [
    "model_linear.save_weights('results/motor_time_delay/linearDL_motor_time_delay_weights_'+str(nonlinear_param)+'.h5')"
   ]
  },
  {
   "cell_type": "code",
   "execution_count": 33,
   "metadata": {},
   "outputs": [],
   "source": [
    "# model_linear.load_weights('results/motor_time_delay/linearDL_motor_time_delay_weights_'+str(nonlinear_param)+'.h5')"
   ]
  },
  {
   "cell_type": "code",
   "execution_count": null,
   "metadata": {},
   "outputs": [],
   "source": []
  },
  {
   "cell_type": "code",
   "execution_count": null,
   "metadata": {},
   "outputs": [],
   "source": []
  },
  {
   "cell_type": "code",
   "execution_count": null,
   "metadata": {},
   "outputs": [],
   "source": []
  },
  {
   "cell_type": "code",
   "execution_count": null,
   "metadata": {},
   "outputs": [],
   "source": []
  },
  {
   "cell_type": "code",
   "execution_count": null,
   "metadata": {},
   "outputs": [],
   "source": []
  },
  {
   "cell_type": "code",
   "execution_count": null,
   "metadata": {},
   "outputs": [],
   "source": []
  },
  {
   "cell_type": "code",
   "execution_count": null,
   "metadata": {},
   "outputs": [],
   "source": []
  },
  {
   "cell_type": "code",
   "execution_count": null,
   "metadata": {},
   "outputs": [],
   "source": []
  },
  {
   "cell_type": "code",
   "execution_count": null,
   "metadata": {},
   "outputs": [],
   "source": []
  },
  {
   "cell_type": "code",
   "execution_count": null,
   "metadata": {},
   "outputs": [],
   "source": []
  },
  {
   "cell_type": "markdown",
   "metadata": {},
   "source": [
    "# Inverse Problem"
   ]
  },
  {
   "cell_type": "code",
   "execution_count": 34,
   "metadata": {},
   "outputs": [],
   "source": [
    "from scipy.optimize import minimize"
   ]
  },
  {
   "cell_type": "code",
   "execution_count": 35,
   "metadata": {},
   "outputs": [],
   "source": [
    "u_dim = bilinear_motor.param_dim\n",
    "x_dim = bilinear_motor.dim"
   ]
  },
  {
   "cell_type": "code",
   "execution_count": 36,
   "metadata": {},
   "outputs": [],
   "source": [
    "Cy_x = np.asarray([0,1]).reshape(2,1)\n",
    "Cy_zeta = np.asarray([1,0,0]).reshape(3,1)"
   ]
  },
  {
   "cell_type": "code",
   "execution_count": null,
   "metadata": {},
   "outputs": [],
   "source": [
    "u_past = np.zeros(shape=(1,1), dtype='float64')"
   ]
  },
  {
   "cell_type": "code",
   "execution_count": null,
   "metadata": {},
   "outputs": [],
   "source": [
    "B = dic_pk.generate_B(data_x)\n",
    "B = tf.reshape(B[:,0], (-1,1))"
   ]
  },
  {
   "cell_type": "code",
   "execution_count": null,
   "metadata": {},
   "outputs": [],
   "source": [
    "tau = 5\n",
    "extract_control_iter = 300\n",
    "traj_len_test_control = extract_control_iter + tau*u_dim"
   ]
  },
  {
   "cell_type": "code",
   "execution_count": null,
   "metadata": {},
   "outputs": [],
   "source": [
    "def mpc_loss_linearDL(param, tau, ref_list, zeta_0, current_time):\n",
    "    param = tf.reshape(param, shape=(param.shape[0], 1, u_dim))\n",
    "    loss_list = []\n",
    "    zeta_curr = zeta_0\n",
    "    \n",
    "    for i in range(tau):\n",
    "        zeta_next = solver_linear.compute_data_list(traj_len=2, data_x_init=zeta_curr, data_u=param[i])[1]\n",
    "        y_next = zeta_next @ Cy_zeta\n",
    "        loss_curr = tf.square(tf.norm(ref_list[current_time+i] - y_next))\n",
    "        loss_list.append(loss_curr)\n",
    "        print('zeta_next', zeta_next)\n",
    "        print('y_next', y_next)\n",
    "    \n",
    "    ref_loss= tf.reduce_sum(loss_list)\n",
    "    param_loss = 0.01 * tf.square(tf.norm(param))\n",
    "    \n",
    "    loss = ref_loss + param_loss\n",
    "    return loss   "
   ]
  },
  {
   "cell_type": "code",
   "execution_count": 34,
   "metadata": {},
   "outputs": [],
   "source": [
    "def mpc_loss_pk(param, tau, ref_list, zeta_0, current_time):\n",
    "    param = tf.reshape(param, shape=(param.shape[0], 1, u_dim))\n",
    "    loss_list = []\n",
    "    zeta_lift = dic_pk(zeta_0)\n",
    "    \n",
    "    for i in range(tau):\n",
    "        zeta_lift = model_K_u_pred_pk([param[i], zeta_lift])\n",
    "        y_next = zeta_lift@B\n",
    "        loss_curr = tf.square(tf.norm(ref_list[current_time+i] - y_next))\n",
    "        loss_list.append(loss_curr)\n",
    "    \n",
    "    ref_loss= tf.reduce_sum(loss_list)\n",
    "    param_loss = 0.01 * tf.square(tf.norm(param))\n",
    "    \n",
    "    loss = ref_loss + param_loss\n",
    "    return loss   "
   ]
  },
  {
   "cell_type": "code",
   "execution_count": 35,
   "metadata": {},
   "outputs": [],
   "source": [
    "def compute_mpc_control(tau, method, ref_soln, zeta_0, x_koop, dic_func, extract_control_iter, bounds, cons_list):\n",
    "    results_list = []\n",
    "    \n",
    "    if method == 'pk':\n",
    "        for j in range(extract_control_iter):\n",
    "            param_init = np.random.uniform(size=(tau*u_dim,))\n",
    "            results = minimize(mpc_loss_pk, \n",
    "                          x0=param_init,\n",
    "                          args = (tau, ref_soln, zeta_0, j),\n",
    "                          constraints = cons_list,\n",
    "                          bounds=bounds)\n",
    "            u_opt = results.x[0]\n",
    "            u_opt = tf.reshape(u_opt, shape=(-1, u_dim))\n",
    "            x_koop = bilinear_motor.generate_next_data(x_koop, u_opt)  \n",
    "            zeta_0 = tf.concat([x_koop@Cy_x, u_opt, zeta_0[:,:-2]], axis=-1)\n",
    "\n",
    "            num_iter = j+1\n",
    "            if num_iter % 10 ==0:\n",
    "                print('Closed-loop simulation: iterate', num_iter)\n",
    "                print('loss', results.fun)\n",
    "\n",
    "            results_list.append(results.x[0])\n",
    "            print('current time', j)\n",
    "            print('fun', results.fun)\n",
    "            print('control', results.x[0])\n",
    "\n",
    "        new_control = tf.reshape(results_list, shape=(-1,1))\n",
    "        \n",
    "    elif method == 'linearDL':\n",
    "        for j in range(extract_control_iter):\n",
    "            param_init = np.random.uniform(size=(tau*u_dim,))\n",
    "            results = minimize(mpc_loss_linearDL, \n",
    "                          x0=param_init,\n",
    "                          args = (tau, ref_soln, zeta_0, j),\n",
    "                          constraints = cons_list,\n",
    "                          bounds=bounds)\n",
    "            u_opt = results.x[0]\n",
    "            u_opt = tf.reshape(u_opt, shape=(-1, u_dim))\n",
    "            x_koop = bilinear_motor.generate_next_data(x_koop, u_opt)  \n",
    "            zeta_0 = tf.concat([x_koop@Cy_x, u_opt, zeta_0[:,:-2]], axis=-1)\n",
    "\n",
    "            num_iter = j+1\n",
    "            if num_iter % 10 ==0:\n",
    "                print('Closed-loop simulation: iterate', num_iter)\n",
    "                print('loss', results.fun)\n",
    "\n",
    "            results_list.append(results.x[0])\n",
    "            print('current time', j)\n",
    "            print('fun', results.fun)\n",
    "            print('control', results.x[0])\n",
    "\n",
    "        new_control = tf.reshape(results_list, shape=(-1,1))\n",
    "        \n",
    "    return new_control\n",
    "    "
   ]
  },
  {
   "cell_type": "markdown",
   "metadata": {},
   "source": [
    "# Case 1: Piecewise Constant Reference"
   ]
  },
  {
   "cell_type": "code",
   "execution_count": 40,
   "metadata": {},
   "outputs": [],
   "source": [
    "x0_pw = np.asarray([0,0.6]).reshape(1,2)\n",
    "xp_pw = bilinear_motor.generate_next_data(x0_pw, u_past)\n",
    "zeta_0_pw = tf.concat([xp_pw@Cy_x, u_past, x0_pw@Cy_x], axis=-1)"
   ]
  },
  {
   "cell_type": "code",
   "execution_count": 54,
   "metadata": {},
   "outputs": [],
   "source": [
    "## Find Control\n",
    "\n",
    "def generate_piecewise_ref_soln(traj_len):\n",
    "    ref = np.zeros(shape=(traj_len, 1))\n",
    "    for i in range(ref.shape[0]):\n",
    "        if i < 150:\n",
    "            ref[i,:] = -0.3\n",
    "        else:\n",
    "            ref[i,:] = 0.3\n",
    "    return ref\n",
    "\n",
    "ref_soln_pw = generate_piecewise_ref_soln(traj_len=traj_len_test_control)"
   ]
  },
  {
   "cell_type": "code",
   "execution_count": 38,
   "metadata": {},
   "outputs": [],
   "source": [
    "# # plt.figure(figsize=(5,3))\n",
    "# plt.plot(ref_soln_pw)\n",
    "# plt.xlabel(r'$n$')\n",
    "# plt.ylabel('Value')\n",
    "# # plt.savefig('results/motor/new/motor_ori_piecewise.png', dpi=200, bbox_inches='tight')\n",
    "# # plt.savefig('results/motor/new/motor_ori_piecewise.pdf', dpi=200, bbox_inches='tight')"
   ]
  },
  {
   "cell_type": "code",
   "execution_count": 39,
   "metadata": {},
   "outputs": [],
   "source": [
    "bounds_pw = []\n",
    "for i in range(tau*u_dim):\n",
    "    bounds_pw.append((-1,1))"
   ]
  },
  {
   "cell_type": "code",
   "execution_count": 40,
   "metadata": {
    "scrolled": true
   },
   "outputs": [],
   "source": [
    "new_control_pw = compute_mpc_control(tau=tau,\n",
    "                                     method='pk',\n",
    "                                     ref_soln=ref_soln_pw,\n",
    "                                     zeta_0=zeta_0_pw, \n",
    "                                     x_koop=xp_pw,\n",
    "                                     extract_control_iter=extract_control_iter,\n",
    "                                     bounds=bounds_pw,\n",
    "                                     cons_list=None)"
   ]
  },
  {
   "cell_type": "code",
   "execution_count": 41,
   "metadata": {},
   "outputs": [],
   "source": [
    "# np.save('results/motor_time_delay/motor_pw_optimized_control_'+str(nonlinear_param)+'.npy', new_control_pw)"
   ]
  },
  {
   "cell_type": "markdown",
   "metadata": {},
   "source": [
    "## Substitute the control into Koopman model to predict"
   ]
  },
  {
   "cell_type": "code",
   "execution_count": 42,
   "metadata": {},
   "outputs": [],
   "source": [
    "label_font = 24\n",
    "ticks_font = 18\n",
    "legend_font = 16"
   ]
  },
  {
   "cell_type": "code",
   "execution_count": 43,
   "metadata": {},
   "outputs": [],
   "source": [
    "new_control_pw = np.load('results/motor_time_delay/motor_pw_optimized_control_'+str(nonlinear_param)+'.npy')"
   ]
  },
  {
   "cell_type": "code",
   "execution_count": 44,
   "metadata": {
    "scrolled": true
   },
   "outputs": [
    {
     "data": {
      "image/png": "[encoded data removed]",
      "text/plain": [
       "<Figure size 432x288 with 1 Axes>"
      ]
     },
     "metadata": {
      "needs_background": "light"
     },
     "output_type": "display_data"
    }
   ],
   "source": [
    "# plt.figure(figsize=(5,3))\n",
    "plt.plot(pw_control_linear_rbf, label='LinearK-EDMD-RBF + MPC', color='forestgreen', linewidth=2)\n",
    "plt.plot(new_control_pw, label='PK-EDMD-DL + MPC', color='steelblue', linewidth=2)\n",
    "\n",
    "\n",
    "plt.xlabel(r'$n$', fontsize=label_font)\n",
    "plt.ylabel('Control', fontsize=label_font)\n",
    "plt.xticks(fontsize=ticks_font)\n",
    "plt.yticks(fontsize=ticks_font)\n",
    "plt.hlines(-1.0, 0, 300,  colors='k', linestyles='--', linewidth=2)\n",
    "plt.hlines(1.0, 0, 300,  colors='k', linestyles='--', linewidth=2)\n",
    "# plt.legend(fontsize=legend_font)\n",
    "plt.savefig('results/motor_time_delay/figures_no_legend/pw_motor_learned_control_'+str(nonlinear_param)+'.png', dpi=200, bbox_inches='tight')\n",
    "plt.savefig('results/motor_time_delay/figures_no_legend/pw_motor_learned_control_'+str(nonlinear_param)+'.pdf', dpi=200, bbox_inches='tight')"
   ]
  },
  {
   "cell_type": "code",
   "execution_count": 72,
   "metadata": {},
   "outputs": [],
   "source": [
    "# # plt.figure(figsize=(5,3))\n",
    "# plt.plot(pw_control_linear_rbf, label='LinearK-EDMD-RBF + MPC', color='forestgreen', linewidth=2)\n",
    "# plt.plot(new_control_pw, label='PK-EDMD-DL + MPC', color='steelblue', linewidth=2)\n",
    "\n",
    "\n",
    "# plt.xlabel(r'$n$', fontsize=label_font)\n",
    "# plt.ylabel('Control', fontsize=label_font)\n",
    "# plt.xticks(fontsize=ticks_font)\n",
    "# plt.yticks(fontsize=ticks_font)\n",
    "# plt.hlines(-1.0, 0, 300,  colors='k', linestyles='--', linewidth=2)\n",
    "# plt.hlines(1.0, 0, 300,  colors='k', linestyles='--', linewidth=2)\n",
    "# plt.legend(fontsize=legend_font, loc=(0.03, 2))\n",
    "# plt.savefig('results/motor_time_delay/figures_no_legend/control_legend.pdf', dpi=200, bbox_inches='tight')"
   ]
  },
  {
   "cell_type": "code",
   "execution_count": 45,
   "metadata": {},
   "outputs": [],
   "source": [
    "x_init_pw = tf.reshape(xp_pw, shape=(-1, x_dim))"
   ]
  },
  {
   "cell_type": "code",
   "execution_count": 46,
   "metadata": {},
   "outputs": [],
   "source": [
    "data_pred_control_pw = [x_init_pw]\n",
    "\n",
    "for i in range(new_control_pw.shape[0]):\n",
    "    data_pred_next = bilinear_motor.generate_next_data(data_pred_control_pw[-1], new_control_pw[i])\n",
    "    data_pred_control_pw.append(data_pred_next)\n",
    "\n",
    "data_pred_control_pw = tf.squeeze(tf.convert_to_tensor(data_pred_control_pw))"
   ]
  },
  {
   "cell_type": "code",
   "execution_count": 47,
   "metadata": {
    "scrolled": false
   },
   "outputs": [
    {
     "data": {
      "image/png": "[encoded data removed]",
      "text/plain": [
       "<Figure size 432x288 with 1 Axes>"
      ]
     },
     "metadata": {
      "needs_background": "light"
     },
     "output_type": "display_data"
    }
   ],
   "source": [
    "# plt.figure(figsize=(5,3))\n",
    "plt.plot(pw_pred_linear_rbf[:,1], label='LinearK-EDMD-RBF + MPC', color='forestgreen', linewidth=2)\n",
    "plt.plot(data_pred_control_pw[:,1], label='PK-EDMD-DL + MPC', color='steelblue', linewidth=2)\n",
    "plt.plot(ref_soln_pw[:301], '--', label='Reference', color='darkorange', linewidth=2)\n",
    "\n",
    "plt.xlabel(r'$n$', fontsize=label_font)\n",
    "plt.ylabel(r'$y$', fontsize=label_font)\n",
    "plt.xticks(fontsize=ticks_font)\n",
    "plt.yticks(fontsize=ticks_font)\n",
    "# plt.legend(fontsize=legend_font)\n",
    "# plt.legend(fontsize=legend_font, loc=(0.03,0.27))\n",
    "\n",
    "\n",
    "plt.savefig('results/motor_time_delay/figures_no_legend/pw_motor_learned_pk_'+str(nonlinear_param)+'.png', dpi=200, bbox_inches='tight')\n",
    "plt.savefig('results/motor_time_delay/figures_no_legend/pw_motor_learned_pk_'+str(nonlinear_param)+'.pdf', dpi=200, bbox_inches='tight')"
   ]
  },
  {
   "cell_type": "code",
   "execution_count": 73,
   "metadata": {},
   "outputs": [],
   "source": [
    "# # plt.figure(figsize=(5,3))\n",
    "# plt.plot(pw_pred_linear_rbf[:,1], label='LinearK-EDMD-RBF + MPC', color='forestgreen', linewidth=2)\n",
    "# plt.plot(data_pred_control_pw[:,1], label='PK-EDMD-DL + MPC', color='steelblue', linewidth=2)\n",
    "# plt.plot(ref_soln_pw[:301], '--', label='Reference', color='darkorange', linewidth=2)\n",
    "\n",
    "# plt.xlabel(r'$n$', fontsize=label_font)\n",
    "# plt.ylabel(r'$y$', fontsize=label_font)\n",
    "# plt.xticks(fontsize=ticks_font)\n",
    "# plt.yticks(fontsize=ticks_font)\n",
    "# # plt.legend(fontsize=legend_font)\n",
    "# plt.legend(fontsize=legend_font, loc=(0.03,2))\n",
    "\n",
    "\n",
    "# plt.savefig('results/motor_time_delay/figures_no_legend/traj_legend.pdf', dpi=200, bbox_inches='tight')"
   ]
  },
  {
   "cell_type": "code",
   "execution_count": 48,
   "metadata": {
    "scrolled": true
   },
   "outputs": [],
   "source": [
    "pw_error_linear_rbf = compute_diff_ratio_one_traj(pw_pred_linear_rbf[:,1].reshape(-1,1), ref_soln_pw[:301].reshape(-1,1))\n",
    "pw_error_pk_dl = compute_diff_ratio_one_traj(data_pred_control_pw[:,1].numpy().reshape(-1,1), ref_soln_pw[:301].reshape(-1,1))"
   ]
  },
  {
   "cell_type": "code",
   "execution_count": 49,
   "metadata": {},
   "outputs": [
    {
     "data": {
      "text/plain": [
       "<matplotlib.legend.Legend at 0x7fd1bc60e490>"
      ]
     },
     "execution_count": 49,
     "metadata": {},
     "output_type": "execute_result"
    },
    {
     "data": {
      "image/png": "[encoded data removed]",
      "text/plain": [
       "<Figure size 432x288 with 1 Axes>"
      ]
     },
     "metadata": {
      "needs_background": "light"
     },
     "output_type": "display_data"
    }
   ],
   "source": [
    "plt.plot(pw_error_linear_rbf, label='LinearK-EDMD-RBF + MPC', color='forestgreen', linewidth=2)\n",
    "plt.plot(pw_error_pk_dl, label='PK-EDMD-DL + MPC', color='steelblue', linewidth=2)\n",
    "\n",
    "plt.xlabel(r'$n$', fontsize=label_font)\n",
    "plt.ylabel('Error', fontsize=label_font)\n",
    "plt.xticks(fontsize=ticks_font)\n",
    "plt.yticks(fontsize=ticks_font)\n",
    "plt.legend(fontsize=legend_font)"
   ]
  },
  {
   "cell_type": "code",
   "execution_count": null,
   "metadata": {},
   "outputs": [],
   "source": []
  },
  {
   "cell_type": "code",
   "execution_count": null,
   "metadata": {},
   "outputs": [],
   "source": []
  },
  {
   "cell_type": "code",
   "execution_count": null,
   "metadata": {},
   "outputs": [],
   "source": []
  },
  {
   "cell_type": "code",
   "execution_count": null,
   "metadata": {},
   "outputs": [],
   "source": []
  },
  {
   "cell_type": "markdown",
   "metadata": {},
   "source": [
    "# Case 2: Time-varying Reference"
   ]
  },
  {
   "cell_type": "markdown",
   "metadata": {},
   "source": [
    "## Add constraints for $y$"
   ]
  },
  {
   "cell_type": "code",
   "execution_count": 51,
   "metadata": {},
   "outputs": [],
   "source": [
    "def generate_cons_y_lhs(x):\n",
    "    def cons_y(u):\n",
    "        u = tf.reshape(u, shape=(u.shape[0], u_dim))\n",
    "        x_next = bilinear_motor.generate_next_data(tf.reshape(x, shape=(-1,x_dim)), u)\n",
    "        y = x_next @ Cy_x\n",
    "        return np.squeeze(y) + 0.4\n",
    "    return cons_y\n",
    "\n",
    "def generate_cons_y_rhs(x):\n",
    "    def cons_y(u):\n",
    "        u = tf.reshape(u, shape=(u.shape[0], u_dim))\n",
    "        x_next = bilinear_motor.generate_next_data(tf.reshape(x, shape=(-1,x_dim)), u)\n",
    "        y = x_next @ Cy_x\n",
    "        return -np.squeeze(y) + 0.4\n",
    "    return cons_y"
   ]
  },
  {
   "cell_type": "markdown",
   "metadata": {},
   "source": [
    "## Find Control"
   ]
  },
  {
   "cell_type": "code",
   "execution_count": 52,
   "metadata": {},
   "outputs": [],
   "source": [
    "x0_cos = np.asarray([-0.1,0.1]).reshape(1,2)\n",
    "xp_cos = bilinear_motor.generate_next_data(x0_cos, u_past)\n",
    "zeta_0_cos = tf.concat([xp_cos@Cy_x, u_past, x0_cos@Cy_x], axis=-1)"
   ]
  },
  {
   "cell_type": "code",
   "execution_count": 53,
   "metadata": {},
   "outputs": [],
   "source": [
    "def generate_cos_ref_soln(traj_len):\n",
    "    t = np.linspace(0, 1, traj_len, endpoint=False)\n",
    "    control = 0.5 * np.cos(2 * np.pi * t ) # Here I do not /3 because have scaled in t (np.linspace)\n",
    "    return control"
   ]
  },
  {
   "cell_type": "code",
   "execution_count": 54,
   "metadata": {},
   "outputs": [],
   "source": [
    "ref_soln_cos = generate_cos_ref_soln(traj_len_test_control)"
   ]
  },
  {
   "cell_type": "code",
   "execution_count": 55,
   "metadata": {},
   "outputs": [],
   "source": [
    "# # plt.figure(figsize=(5,3))\n",
    "# plt.plot(ref_soln_cos)\n",
    "# plt.xlabel(r'$n$')\n",
    "# plt.ylabel('Value')"
   ]
  },
  {
   "cell_type": "code",
   "execution_count": 56,
   "metadata": {},
   "outputs": [],
   "source": [
    "def compute_mpc_control_cos(tau, method, ref_soln, zeta_0, x_koop, extract_control_iter, bounds):\n",
    "    results_list = []\n",
    "    \n",
    "    if method == 'pk':\n",
    "        for j in range(extract_control_iter):\n",
    "            param_init = np.random.uniform(size=(tau*u_dim,))\n",
    "\n",
    "            cons_list = []\n",
    "            cons_y_lhs = generate_cons_y_lhs(x_koop)\n",
    "            cons_y_rhs = generate_cons_y_rhs(x_koop)\n",
    "            cons_y_dic_lhs = {'type': 'ineq', 'fun': cons_y_lhs}\n",
    "            cons_y_dic_rhs = {'type': 'ineq', 'fun': cons_y_rhs}\n",
    "            cons_list.append(cons_y_dic_lhs)\n",
    "            cons_list.append(cons_y_dic_rhs)\n",
    "\n",
    "\n",
    "\n",
    "            results = minimize(mpc_loss, \n",
    "                          x0=param_init,\n",
    "                          args = (tau, ref_soln, zeta_0, j),\n",
    "                            bounds=bounds,\n",
    "                          constraints = cons_list)\n",
    "            u_opt = results.x[0]\n",
    "            u_opt = tf.reshape(u_opt, shape=(-1, u_dim))\n",
    "            x_koop = bilinear_motor.generate_next_data(x_koop, u_opt)  \n",
    "            zeta_0 = tf.concat([x_koop@Cy_x, u_opt, zeta_0[:,:-2]], axis=-1)\n",
    "\n",
    "            num_iter = j+1\n",
    "            if num_iter % 10 ==0:\n",
    "                print('Closed-loop simulation: iterate', num_iter)\n",
    "                print('loss', results.fun)\n",
    "\n",
    "            results_list.append(results.x[0])\n",
    "            print('current time', j)\n",
    "            print('fun', results.fun)\n",
    "            print('control', results.x[0])\n",
    "\n",
    "        new_control = tf.reshape(results_list, shape=(-1,1))\n",
    "        \n",
    "    elif method == 'linearDL':\n",
    "        for j in range(extract_control_iter):\n",
    "            param_init = np.random.uniform(size=(tau*u_dim,))\n",
    "\n",
    "            cons_list = []\n",
    "            cons_y_lhs = generate_cons_y_lhs(x_koop)\n",
    "            cons_y_rhs = generate_cons_y_rhs(x_koop)\n",
    "            cons_y_dic_lhs = {'type': 'ineq', 'fun': cons_y_lhs}\n",
    "            cons_y_dic_rhs = {'type': 'ineq', 'fun': cons_y_rhs}\n",
    "            cons_list.append(cons_y_dic_lhs)\n",
    "            cons_list.append(cons_y_dic_rhs)\n",
    "\n",
    "\n",
    "\n",
    "            results = minimize(mpc_loss_linearDL, \n",
    "                          x0=param_init,\n",
    "                          args = (tau, ref_soln, zeta_0, j),\n",
    "                          constraints = cons_list,\n",
    "                          bounds=bounds)\n",
    "            u_opt = results.x[0]\n",
    "            u_opt = tf.reshape(u_opt, shape=(-1, u_dim))\n",
    "            x_koop = bilinear_motor.generate_next_data(x_koop, u_opt)  \n",
    "            zeta_0 = tf.concat([x_koop@Cy_x, u_opt, zeta_0[:,:-2]], axis=-1)\n",
    "\n",
    "            num_iter = j+1\n",
    "            if num_iter % 10 ==0:\n",
    "                print('Closed-loop simulation: iterate', num_iter)\n",
    "                print('loss', results.fun)\n",
    "\n",
    "            results_list.append(results.x[0])\n",
    "            print('current time', j)\n",
    "            print('fun', results.fun)\n",
    "            print('control', results.x[0])\n",
    "\n",
    "        new_control = tf.reshape(results_list, shape=(-1,1))\n",
    "        \n",
    "    return new_control"
   ]
  },
  {
   "cell_type": "code",
   "execution_count": 57,
   "metadata": {},
   "outputs": [],
   "source": [
    "bounds_cos = []\n",
    "for i in range(tau*u_dim):\n",
    "    bounds_cos.append((-1,1))"
   ]
  },
  {
   "cell_type": "code",
   "execution_count": 58,
   "metadata": {
    "scrolled": true
   },
   "outputs": [],
   "source": [
    "# new_control_cos = compute_mpc_control_cos(tau=tau,\n",
    "#                     model_K_u_pred_pk=model_K_u_pred_pk,\n",
    "#                     ref_soln=ref_soln_cos,\n",
    "#                     zeta_0=zeta_0_cos, \n",
    "#                     x_koop=xp_cos,\n",
    "#                     dic_func=dic_pk,\n",
    "#                     extract_control_iter=extract_control_iter,\n",
    "#                     bounds=bounds_cos)"
   ]
  },
  {
   "cell_type": "code",
   "execution_count": 59,
   "metadata": {},
   "outputs": [],
   "source": [
    "# np.save('results/motor_time_delay/motor_cos_optimized_control_'+str(nonlinear_param)+'.npy', new_control_cos)"
   ]
  },
  {
   "cell_type": "markdown",
   "metadata": {},
   "source": [
    "## Substitute the control into Koopman model to predict"
   ]
  },
  {
   "cell_type": "code",
   "execution_count": 60,
   "metadata": {},
   "outputs": [],
   "source": [
    "new_control_cos = np.load('results/motor_time_delay/motor_cos_optimized_control_'+str(nonlinear_param)+'.npy')"
   ]
  },
  {
   "cell_type": "code",
   "execution_count": 61,
   "metadata": {},
   "outputs": [
    {
     "data": {
      "image/png": "[encoded data removed]",
      "text/plain": [
       "<Figure size 432x288 with 1 Axes>"
      ]
     },
     "metadata": {
      "needs_background": "light"
     },
     "output_type": "display_data"
    }
   ],
   "source": [
    "# plt.figure(figsize=(5,3))\n",
    "plt.plot(cos_control_linear_rbf, label='LinearK-EDMD-RBF + MPC', color='forestgreen', linewidth=2)\n",
    "plt.plot(new_control_cos, label='PK-EDMD-DL + MPC', color='steelblue', linewidth=2)\n",
    "plt.xlabel(r'$n$', fontsize=label_font)\n",
    "plt.ylabel('Control', fontsize=label_font)\n",
    "plt.xticks(fontsize=ticks_font)\n",
    "plt.yticks(fontsize=ticks_font)\n",
    "plt.hlines(0.0, 0, 300,  colors='k', linestyles='--', linewidth=2)\n",
    "plt.hlines(1.0, 0, 300,  colors='k', linestyles='--', linewidth=2)\n",
    "# plt.legend(fontsize=legend_font)\n",
    "plt.savefig('results/motor_time_delay/figures_no_legend/cos_motor_learned_control_'+str(nonlinear_param)+'.png', dpi=200, bbox_inches='tight')\n",
    "plt.savefig('results/motor_time_delay/figures_no_legend/cos_motor_learned_control_'+str(nonlinear_param)+'.pdf', dpi=200, bbox_inches='tight')"
   ]
  },
  {
   "cell_type": "code",
   "execution_count": 62,
   "metadata": {},
   "outputs": [],
   "source": [
    "x_init_cos = tf.reshape(xp_cos, shape=(-1, x_dim))"
   ]
  },
  {
   "cell_type": "code",
   "execution_count": 63,
   "metadata": {},
   "outputs": [],
   "source": [
    "data_pred_control_cos = [x_init_cos]\n",
    "\n",
    "for i in range(new_control_cos.shape[0]):\n",
    "    data_pred_next = bilinear_motor.generate_next_data(data_pred_control_cos[-1], new_control_cos[i])\n",
    "    data_pred_control_cos.append(data_pred_next)\n",
    "\n",
    "data_pred_control_cos = tf.squeeze(tf.convert_to_tensor(data_pred_control_cos))"
   ]
  },
  {
   "cell_type": "code",
   "execution_count": 64,
   "metadata": {},
   "outputs": [
    {
     "data": {
      "image/png": "[encoded data removed]",
      "text/plain": [
       "<Figure size 432x288 with 1 Axes>"
      ]
     },
     "metadata": {
      "needs_background": "light"
     },
     "output_type": "display_data"
    }
   ],
   "source": [
    "# plt.figure(figsize=(5,3))\n",
    "plt.plot(cos_pred_linear_rbf[:,1], label='LinearK-EDMD-RBF + MPC', color='forestgreen', linewidth=2)\n",
    "plt.plot(data_pred_control_cos[:,1], label='PK-EDMD-DL + MPC', color='steelblue', linewidth=2)\n",
    "plt.plot(ref_soln_cos[:301], '--', label='Reference', color='darkorange', linewidth=2)\n",
    "\n",
    "plt.xlabel(r'$n$', fontsize=label_font)\n",
    "plt.ylabel(r'$y$', fontsize=label_font)\n",
    "plt.hlines(-0.4, 0, 300,  colors='k', linestyles='--', linewidth=2)\n",
    "plt.hlines(0.4, 0, 300,  colors='k', linestyles='--', linewidth=2)\n",
    "plt.xticks(fontsize=ticks_font)\n",
    "plt.yticks(fontsize=ticks_font)\n",
    "# plt.legend(fontsize=legend_font)\n",
    "plt.savefig('results/motor_time_delay/figures_no_legend/cos_motor_learned_pk_'+str(nonlinear_param)+'.png', dpi=200, bbox_inches='tight')\n",
    "plt.savefig('results/motor_time_delay/figures_no_legend/cos_motor_learned_pk_'+str(nonlinear_param)+'.pdf', dpi=200, bbox_inches='tight')"
   ]
  },
  {
   "cell_type": "code",
   "execution_count": 65,
   "metadata": {},
   "outputs": [],
   "source": [
    "cos_error_linear_rbf = compute_diff_ratio_one_traj(cos_pred_linear_rbf[:,1].reshape(-1,1), ref_soln_cos[:301].reshape(-1,1))\n",
    "cos_error_pk_dl = compute_diff_ratio_one_traj(data_pred_control_cos[:,1].numpy().reshape(-1,1), ref_soln_cos[:301].reshape(-1,1))"
   ]
  },
  {
   "cell_type": "code",
   "execution_count": 66,
   "metadata": {},
   "outputs": [
    {
     "data": {
      "text/plain": [
       "<matplotlib.legend.Legend at 0x7fd1bd780d00>"
      ]
     },
     "execution_count": 66,
     "metadata": {},
     "output_type": "execute_result"
    },
    {
     "data": {
      "image/png": "[encoded data removed]",
      "text/plain": [
       "<Figure size 432x288 with 1 Axes>"
      ]
     },
     "metadata": {
      "needs_background": "light"
     },
     "output_type": "display_data"
    }
   ],
   "source": [
    "plt.plot(cos_error_linear_rbf, label='LinearK-EDMD-RBF + MPC', color='forestgreen', linewidth=2)\n",
    "plt.plot(cos_error_pk_dl, label='PK-EDMD-DL + MPC', color='steelblue', linewidth=2)\n",
    "\n",
    "plt.xlabel(r'$n$', fontsize=label_font)\n",
    "plt.ylabel('Error', fontsize=label_font)\n",
    "plt.xticks(fontsize=ticks_font)\n",
    "plt.yticks(fontsize=ticks_font)\n",
    "plt.legend(fontsize=legend_font)"
   ]
  },
  {
   "cell_type": "code",
   "execution_count": null,
   "metadata": {},
   "outputs": [],
   "source": []
  }
 ],
 "metadata": {
  "kernelspec": {
   "display_name": "koopman",
   "language": "python",
   "name": "koopman"
  },
  "language_info": {
   "codemirror_mode": {
    "name": "ipython",
    "version": 3
   },
   "file_extension": ".py",
   "mimetype": "text/x-python",
   "name": "python",
   "nbconvert_exporter": "python",
   "pygments_lexer": "ipython3",
   "version": "3.8.3"
  }
 },
 "nbformat": 4,
 "nbformat_minor": 2
}
